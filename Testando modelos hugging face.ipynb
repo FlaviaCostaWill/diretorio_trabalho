{
 "cells": [
  {
   "cell_type": "code",
   "execution_count": 2,
   "metadata": {},
   "outputs": [
    {
     "name": "stdout",
     "output_type": "stream",
     "text": [
      "Requirement already satisfied: transformers in /home/flavia.costa/.local/lib/python3.8/site-packages (4.35.2)\n",
      "Requirement already satisfied: filelock in /home/flavia.costa/.local/lib/python3.8/site-packages (from transformers) (3.12.2)\n",
      "Requirement already satisfied: huggingface-hub<1.0,>=0.16.4 in /home/flavia.costa/.local/lib/python3.8/site-packages (from transformers) (0.19.4)\n",
      "Requirement already satisfied: numpy>=1.17 in /home/flavia.costa/.local/lib/python3.8/site-packages (from transformers) (1.23.1)\n",
      "Requirement already satisfied: packaging>=20.0 in /home/flavia.costa/.local/lib/python3.8/site-packages (from transformers) (21.3)\n",
      "Requirement already satisfied: pyyaml>=5.1 in /usr/lib/python3/dist-packages (from transformers) (5.3.1)\n",
      "Requirement already satisfied: regex!=2019.12.17 in /home/flavia.costa/.local/lib/python3.8/site-packages (from transformers) (2022.10.31)\n",
      "Requirement already satisfied: requests in /home/flavia.costa/.local/lib/python3.8/site-packages (from transformers) (2.28.2)\n",
      "Requirement already satisfied: tokenizers<0.19,>=0.14 in /home/flavia.costa/.local/lib/python3.8/site-packages (from transformers) (0.15.0)\n",
      "Requirement already satisfied: safetensors>=0.3.1 in /home/flavia.costa/.local/lib/python3.8/site-packages (from transformers) (0.4.1)\n",
      "Requirement already satisfied: tqdm>=4.27 in /home/flavia.costa/.local/lib/python3.8/site-packages (from transformers) (4.64.1)\n",
      "Requirement already satisfied: fsspec>=2023.5.0 in /home/flavia.costa/.local/lib/python3.8/site-packages (from huggingface-hub<1.0,>=0.16.4->transformers) (2023.12.1)\n",
      "Requirement already satisfied: typing-extensions>=3.7.4.3 in /home/flavia.costa/.local/lib/python3.8/site-packages (from huggingface-hub<1.0,>=0.16.4->transformers) (4.4.0)\n",
      "Requirement already satisfied: pyparsing!=3.0.5,>=2.0.2 in /home/flavia.costa/.local/lib/python3.8/site-packages (from packaging>=20.0->transformers) (3.0.9)\n",
      "Requirement already satisfied: charset-normalizer<4,>=2 in /home/flavia.costa/.local/lib/python3.8/site-packages (from requests->transformers) (2.1.1)\n",
      "Requirement already satisfied: idna<4,>=2.5 in /usr/lib/python3/dist-packages (from requests->transformers) (2.8)\n",
      "Requirement already satisfied: urllib3<1.27,>=1.21.1 in /home/flavia.costa/.local/lib/python3.8/site-packages (from requests->transformers) (1.26.16)\n",
      "Requirement already satisfied: certifi>=2017.4.17 in /usr/lib/python3/dist-packages (from requests->transformers) (2019.11.28)\n"
     ]
    }
   ],
   "source": [
    "!pip install transformers"
   ]
  },
  {
   "cell_type": "code",
   "execution_count": 70,
   "metadata": {},
   "outputs": [],
   "source": [
    "from transformers import pipeline\n",
    "import pandas as pd\n",
    "import numpy as np"
   ]
  },
  {
   "cell_type": "code",
   "execution_count": 9,
   "metadata": {},
   "outputs": [
    {
     "name": "stderr",
     "output_type": "stream",
     "text": [
      "All PyTorch model weights were used when initializing TFT5ForConditionalGeneration.\n",
      "\n",
      "All the weights of TFT5ForConditionalGeneration were initialized from the PyTorch model.\n",
      "If your task is similar to the task the model of the checkpoint was trained on, you can already use TFT5ForConditionalGeneration for predictions without further training.\n",
      "/home/flavia.costa/.local/lib/python3.8/site-packages/transformers/generation/tf_utils.py:838: UserWarning: Using the model-agnostic default `max_length` (=20) to control the generation length.  recommend setting `max_new_tokens` to control the maximum length of the generation.\n",
      "  warnings.warn(\n",
      "2023-12-05 16:02:24.556261: I tensorflow/compiler/xla/service/service.cc:169] XLA service 0x8764f620 initialized for platform Host (this does not guarantee that XLA will be used). Devices:\n",
      "2023-12-05 16:02:24.556302: I tensorflow/compiler/xla/service/service.cc:177]   StreamExecutor device (0): Host, Default Version\n",
      "2023-12-05 16:02:24.625707: I tensorflow/compiler/mlir/tensorflow/utils/dump_mlir_util.cc:269] disabling MLIR crash reproducer, set env var `MLIR_CRASH_REPRODUCER_DIRECTORY` to enable.\n",
      "2023-12-05 16:02:24.819026: I ./tensorflow/compiler/jit/device_compiler.h:180] Compiled cluster using XLA!  This line is logged at most once for the lifetime of the process.\n"
     ]
    },
    {
     "data": {
      "text/plain": [
       "[{'summary_text': \"'Essa é a única promoção no caso ? Dentro dessa plataforma will','\"}]"
      ]
     },
     "execution_count": 9,
     "metadata": {},
     "output_type": "execute_result"
    }
   ],
   "source": [
    "summarizer = pipeline(\"summarization\", model=\"msarmento/ptt5-small-portuguese-vocab-finetuned-xlsum-pt\")\n",
    "\n",
    "#\"knkarthick/MEETING_SUMMARY\"\n",
    "\n",
    "\n",
    "text = '''\n",
    "\n",
    "'Essa é  a única  promoção no caso ? Dentro dessa plataforma will','Obrigado!! Karen','Sim. Me falaram sobre o pagamento da fatura para vir com o saldo em dobro. É  verdade ?','Hummm! Não sabia que tinha esse canal','Me manda o link para anexar outro','Tem outro. Peraí','Sim. Porquê vc's não  tem um número  para falar direto com vc's da central ? Seria bem melhor','Ok.'\n",
    "'''\n",
    "summarizer(text)"
   ]
  },
  {
   "cell_type": "code",
   "execution_count": 7,
   "metadata": {},
   "outputs": [
    {
     "name": "stderr",
     "output_type": "stream",
     "text": [
      "Some weights of the PyTorch model were not used when initializing the TF 2.0 model TFBartForConditionalGeneration: ['model.decoder.embed_tokens.weight']\n",
      "- This IS expected if you are initializing TFBartForConditionalGeneration from a PyTorch model trained on another task or with another architecture (e.g. initializing a TFBertForSequenceClassification model from a BertForPreTraining model).\n",
      "- This IS NOT expected if you are initializing TFBartForConditionalGeneration from a PyTorch model that you expect to be exactly identical (e.g. initializing a TFBertForSequenceClassification model from a BertForSequenceClassification model).\n",
      "Some weights or buffers of the TF 2.0 model TFBartForConditionalGeneration were not initialized from the PyTorch model and are newly initialized: ['model.shared.weight']\n",
      "You should probably TRAIN this model on a down-stream task to be able to use it for predictions and inference.\n"
     ]
    },
    {
     "data": {
      "text/plain": [
       "[{'summary_text': ' elevenPiPiPi punishmentsPiPi bunPiPiECDPi bunECDECDECD bunECD bun bunECD punishmentsECDECD punishments bun bun punishmentsECD bun punishments bunECDLt bun bun bunLtECD bun UW bun bun discl bun bun Offense bun bun Hip bun bun045ECD bun045 bun045 Offense bun045045045 bun Offense045045 discl045045 personalities personalities personalitiesudenceudenceudence personalities personalities forthcoming personalities cease Produ Produ cease cease cease Produ cease journals cease cease ratified ratified ratifiedades Paste cowork Arrow cowork cease cowork simultane cowork hidden cowork cowork cowork ratified ratifiedupper ratified implementing Kirin ratified ratified Passage ratified Passage Passage Passage presents epilepsy presents presents presents ratified presents presents Jazz presents presents epilepsy ratified presents ratified Jazz Passage presentsdream'}]"
      ]
     },
     "execution_count": 7,
     "metadata": {},
     "output_type": "execute_result"
    }
   ],
   "source": [
    "summarizer = pipeline(\"summarization\", model=\"facebook/bart-large-cnn\")\n",
    "\n",
    "#\"knkarthick/MEETING_SUMMARY\"\n",
    "\n",
    "\n",
    "text = '''\n",
    "\n",
    "Essa é  a única  promoção no caso ? Dentro dessa plataforma will. Obrigado!! Karen, Sim. Me falaram sobre o pagamento da fatura para vir com o saldo em dobro. É  verdade ?', Hummm! Não sabia que tinha esse canal, Me manda o link para anexar outro, Tem outro. Peraí,Sim. Porquê vc's não  tem um número  para falar direto com vc's da central ? Seria bem melhor Ok.\n",
    "\n",
    "'''\n",
    "summarizer(text)"
   ]
  },
  {
   "cell_type": "code",
   "execution_count": 6,
   "metadata": {},
   "outputs": [
    {
     "name": "stderr",
     "output_type": "stream",
     "text": [
      "No model was supplied, defaulted to distilbert-base-uncased-finetuned-sst-2-english and revision af0f99b (https://huggingface.co/distilbert-base-uncased-finetuned-sst-2-english).\n",
      "Using a pipeline without specifying a model name and revision in production is not recommended.\n",
      "All PyTorch model weights were used when initializing TFDistilBertForSequenceClassification.\n",
      "\n",
      "All the weights of TFDistilBertForSequenceClassification were initialized from the PyTorch model.\n",
      "If your task is similar to the task the model of the checkpoint was trained on, you can already use TFDistilBertForSequenceClassification for predictions without further training.\n"
     ]
    },
    {
     "data": {
      "text/plain": [
       "[{'label': 'POSITIVE', 'score': 0.9998799562454224}]"
      ]
     },
     "execution_count": 6,
     "metadata": {},
     "output_type": "execute_result"
    }
   ],
   "source": [
    "summarizer = pipeline(\"sentiment-analysis\")\n",
    "\n",
    "text = '''\n",
    "\n",
    "I love it\n",
    "\n",
    "'''\n",
    "\n",
    "summarizer(text)"
   ]
  },
  {
   "cell_type": "markdown",
   "metadata": {},
   "source": [
    "### Testes para modelo de Zero-Shot Classification"
   ]
  },
  {
   "cell_type": "code",
   "execution_count": 10,
   "metadata": {},
   "outputs": [
    {
     "name": "stderr",
     "output_type": "stream",
     "text": [
      "Some weights of the PyTorch model were not used when initializing the TF 2.0 model TFBartForSequenceClassification: ['model.decoder.version', 'model.encoder.version']\n",
      "- This IS expected if you are initializing TFBartForSequenceClassification from a PyTorch model trained on another task or with another architecture (e.g. initializing a TFBertForSequenceClassification model from a BertForPreTraining model).\n",
      "- This IS NOT expected if you are initializing TFBartForSequenceClassification from a PyTorch model that you expect to be exactly identical (e.g. initializing a TFBertForSequenceClassification model from a BertForSequenceClassification model).\n",
      "All the weights of TFBartForSequenceClassification were initialized from the PyTorch model.\n",
      "If your task is similar to the task the model of the checkpoint was trained on, you can already use TFBartForSequenceClassification for predictions without further training.\n"
     ]
    }
   ],
   "source": [
    "pipe = pipeline(model=\"facebook/bart-large-mnli\")"
   ]
  },
  {
   "cell_type": "code",
   "execution_count": 76,
   "metadata": {},
   "outputs": [],
   "source": [
    "label = [\"aguardar\", \"negativa\", \"questionamento\", \"seguir\"]\n",
    "#label = [\"permanecer\", \"aguardar\", \"negativa\", \"questionamento\", \"solicitação\"] 0.46\n",
    "#label = [\"aguardar\", \"negativa\", \"questionamento\", \"confirmação\", \"encaminhar\", \"solicitação\"]\n",
    "#se eu mantenho atendimento eu cancelo alguns casos de aguardar"
   ]
  },
  {
   "cell_type": "code",
   "execution_count": 77,
   "metadata": {},
   "outputs": [],
   "source": [
    "verbalizacoes = [\"Aguarde só um minuto\"\n",
    "                 , \"Mais alguma dúvida, Flávio?\"\n",
    "                 , \"Thaynar, para podermos seguir com o procedimento, peço, por favor, que me envie uma foto selfie segurando uma folha. Nessa folha, você precisa escrever o código M6145534.\"\n",
    "                 , \"Já foi explicado que não.\"\n",
    "                 , \"Não existe mandar senha, Maria. Senha é algo que somente você possui. Não temos acesso.\"\n",
    "                 , \"Ei, tudo bem? Me chamo Anna e vou prosseguir com o atendimento 😊\"\n",
    "                 , \"Eu vou te passar para um colega especialista que ira te auxiliar melhor nesse caso, ok?! Só peço que aguarde um momento, por favor! 😊\"\n",
    "                 , \"Entretanto, para conseguirmos prosseguir com a abertura de análise, será necessário realizar o bloqueio definitivo do cartão e solicitar a segunda via, ao final do atendimento, tudo bem?\"\n",
    "                 , \"Olá, Vinícius, tudo bem? Meu nome é Maysa e te atenderei a partir de agora.🏃‍♀️\"\n",
    "                 , \"Agora, preciso, por gentileza, que você me confirme algumas informações, tá bem?​\"\n",
    "                 , \"Peço que permaneça na tela do chat durante o atendimento para ser mais dinâmico, por favor!!\"\n",
    "                 , \"Aguarde um momento, por favor! É importante que mantenha- se na tela do chat, enquanto realizo algumas verificações.\"\n",
    "                 , \"Me chamo Natalice e irei te ajudar hoje. Peço por gentileza, que permaneça aqui na conversa\"\n",
    "                 , \"Olá, Maria! Tudo bem? Sou Thiago, estou verificando sua dúvida, peço a gentileza de permanecer na tela do nosso chat. Muito obrigado por aguardar, prometo que não demorarei!\"\n",
    "                 , \"Você pode me contar melhor qual a sua dúvida, por gentileza?\"\n",
    "                 , \"Detalhe a sua dúvida. \"]"
   ]
  },
  {
   "cell_type": "code",
   "execution_count": 78,
   "metadata": {},
   "outputs": [],
   "source": [
    "gabarito = [\"aguardar\"\n",
    "                 , \"questionamento\"\n",
    "                 , \"seguir\"\n",
    "                 , \"negativa\"\n",
    "                 , \"negativa\"\n",
    "                 , \"seguir\"\n",
    "                 , \"seguir\"\n",
    "                 , \"seguir\"\n",
    "                 , \"seguir\"\n",
    "                 , \"seguir\"\n",
    "                 , \"aguardar\"\n",
    "                 , \"aguardar\"\n",
    "                 , \"aguardar\"\n",
    "                 , \"aguardar\"\n",
    "                 , \"questionamento\"\n",
    "                 , \"questionamento\"\n",
    "                 ]"
   ]
  },
  {
   "cell_type": "code",
   "execution_count": 79,
   "metadata": {},
   "outputs": [],
   "source": [
    "verbalizacoes2 = []\n",
    "\n",
    "for i in verbalizacoes:\n",
    "    x = i.lower()\n",
    "    x = x.replace('tudo bem', '')\n",
    "    x = x.replace('tá bem', '')\n",
    "    x = x.replace('ok', '')\n",
    "    x = x.replace('?', '')\n",
    "    verbalizacoes2.append(x)\n"
   ]
  },
  {
   "cell_type": "code",
   "execution_count": 80,
   "metadata": {},
   "outputs": [
    {
     "name": "stdout",
     "output_type": "stream",
     "text": [
      "['aguarde só um minuto', 'mais alguma dúvida, flávio', 'thaynar, para podermos seguir com o procedimento, peço, por favor, que me envie uma foto selfie segurando uma folha. nessa folha, você precisa escrever o código m6145534.', 'já foi explicado que não.', 'não existe mandar senha, maria. senha é algo que somente você possui. não temos acesso.', 'ei,  me chamo anna e vou prosseguir com o atendimento 😊', 'eu vou te passar para um colega especialista que ira te auxiliar melhor nesse caso, ! só peço que aguarde um momento, por favor! 😊', 'entretanto, para conseguirmos prosseguir com a abertura de análise, será necessário realizar o bloqueio definitivo do cartão e solicitar a segunda via, ao final do atendimento, ', 'olá, vinícius,  meu nome é maysa e te atenderei a partir de agora.🏃\\u200d♀️', 'agora, preciso, por gentileza, que você me confirme algumas informações, \\u200b', 'peço que permaneça na tela do chat durante o atendimento para ser mais dinâmico, por favor!!', 'aguarde um momento, por favor! é importante que mantenha- se na tela do chat, enquanto realizo algumas verificações.', 'me chamo natalice e irei te ajudar hoje. peço por gentileza, que permaneça aqui na conversa', 'olá, maria!  sou thiago, estou verificando sua dúvida, peço a gentileza de permanecer na tela do nosso chat. muito obrigado por aguardar, prometo que não demorarei!', 'você pode me contar melhor qual a sua dúvida, por gentileza', 'detalhe a sua dúvida. ']\n"
     ]
    }
   ],
   "source": [
    "print(verbalizacoes2)"
   ]
  },
  {
   "cell_type": "code",
   "execution_count": 81,
   "metadata": {},
   "outputs": [
    {
     "name": "stderr",
     "output_type": "stream",
     "text": [
      "/tmp/ipykernel_23381/3671424338.py:7: FutureWarning: The frame.append method is deprecated and will be removed from pandas in a future version. Use pandas.concat instead.\n",
      "  df_scores = df_scores.append(temp)\n",
      "/tmp/ipykernel_23381/3671424338.py:7: FutureWarning: The frame.append method is deprecated and will be removed from pandas in a future version. Use pandas.concat instead.\n",
      "  df_scores = df_scores.append(temp)\n",
      "/tmp/ipykernel_23381/3671424338.py:7: FutureWarning: The frame.append method is deprecated and will be removed from pandas in a future version. Use pandas.concat instead.\n",
      "  df_scores = df_scores.append(temp)\n",
      "/tmp/ipykernel_23381/3671424338.py:7: FutureWarning: The frame.append method is deprecated and will be removed from pandas in a future version. Use pandas.concat instead.\n",
      "  df_scores = df_scores.append(temp)\n",
      "/tmp/ipykernel_23381/3671424338.py:7: FutureWarning: The frame.append method is deprecated and will be removed from pandas in a future version. Use pandas.concat instead.\n",
      "  df_scores = df_scores.append(temp)\n",
      "/tmp/ipykernel_23381/3671424338.py:7: FutureWarning: The frame.append method is deprecated and will be removed from pandas in a future version. Use pandas.concat instead.\n",
      "  df_scores = df_scores.append(temp)\n",
      "/tmp/ipykernel_23381/3671424338.py:7: FutureWarning: The frame.append method is deprecated and will be removed from pandas in a future version. Use pandas.concat instead.\n",
      "  df_scores = df_scores.append(temp)\n",
      "/tmp/ipykernel_23381/3671424338.py:7: FutureWarning: The frame.append method is deprecated and will be removed from pandas in a future version. Use pandas.concat instead.\n",
      "  df_scores = df_scores.append(temp)\n",
      "/tmp/ipykernel_23381/3671424338.py:7: FutureWarning: The frame.append method is deprecated and will be removed from pandas in a future version. Use pandas.concat instead.\n",
      "  df_scores = df_scores.append(temp)\n",
      "/tmp/ipykernel_23381/3671424338.py:7: FutureWarning: The frame.append method is deprecated and will be removed from pandas in a future version. Use pandas.concat instead.\n",
      "  df_scores = df_scores.append(temp)\n",
      "/tmp/ipykernel_23381/3671424338.py:7: FutureWarning: The frame.append method is deprecated and will be removed from pandas in a future version. Use pandas.concat instead.\n",
      "  df_scores = df_scores.append(temp)\n",
      "/tmp/ipykernel_23381/3671424338.py:7: FutureWarning: The frame.append method is deprecated and will be removed from pandas in a future version. Use pandas.concat instead.\n",
      "  df_scores = df_scores.append(temp)\n",
      "/tmp/ipykernel_23381/3671424338.py:7: FutureWarning: The frame.append method is deprecated and will be removed from pandas in a future version. Use pandas.concat instead.\n",
      "  df_scores = df_scores.append(temp)\n",
      "/tmp/ipykernel_23381/3671424338.py:7: FutureWarning: The frame.append method is deprecated and will be removed from pandas in a future version. Use pandas.concat instead.\n",
      "  df_scores = df_scores.append(temp)\n"
     ]
    }
   ],
   "source": [
    "df_scores = pd.DataFrame()\n",
    "\n",
    "for i in verbalizacoes2:\n",
    "    prediction = pipe(i,\n",
    "    candidate_labels=label,)\n",
    "    temp = pd.DataFrame(prediction)\n",
    "    df_scores = df_scores.append(temp)"
   ]
  },
  {
   "cell_type": "code",
   "execution_count": 82,
   "metadata": {},
   "outputs": [
    {
     "data": {
      "text/html": [
       "<div>\n",
       "<style scoped>\n",
       "    .dataframe tbody tr th:only-of-type {\n",
       "        vertical-align: middle;\n",
       "    }\n",
       "\n",
       "    .dataframe tbody tr th {\n",
       "        vertical-align: top;\n",
       "    }\n",
       "\n",
       "    .dataframe thead th {\n",
       "        text-align: right;\n",
       "    }\n",
       "</style>\n",
       "<table border=\"1\" class=\"dataframe\">\n",
       "  <thead>\n",
       "    <tr style=\"text-align: right;\">\n",
       "      <th></th>\n",
       "      <th>sequence</th>\n",
       "      <th>labels</th>\n",
       "      <th>scores</th>\n",
       "    </tr>\n",
       "  </thead>\n",
       "  <tbody>\n",
       "    <tr>\n",
       "      <th>0</th>\n",
       "      <td>aguarde só um minuto</td>\n",
       "      <td>aguardar</td>\n",
       "      <td>0.634727</td>\n",
       "    </tr>\n",
       "    <tr>\n",
       "      <th>1</th>\n",
       "      <td>aguarde só um minuto</td>\n",
       "      <td>seguir</td>\n",
       "      <td>0.253456</td>\n",
       "    </tr>\n",
       "    <tr>\n",
       "      <th>2</th>\n",
       "      <td>aguarde só um minuto</td>\n",
       "      <td>questionamento</td>\n",
       "      <td>0.093330</td>\n",
       "    </tr>\n",
       "    <tr>\n",
       "      <th>3</th>\n",
       "      <td>aguarde só um minuto</td>\n",
       "      <td>negativa</td>\n",
       "      <td>0.018487</td>\n",
       "    </tr>\n",
       "    <tr>\n",
       "      <th>0</th>\n",
       "      <td>mais alguma dúvida, flávio</td>\n",
       "      <td>negativa</td>\n",
       "      <td>0.408188</td>\n",
       "    </tr>\n",
       "    <tr>\n",
       "      <th>...</th>\n",
       "      <td>...</td>\n",
       "      <td>...</td>\n",
       "      <td>...</td>\n",
       "    </tr>\n",
       "    <tr>\n",
       "      <th>3</th>\n",
       "      <td>você pode me contar melhor qual a sua dúvida, ...</td>\n",
       "      <td>negativa</td>\n",
       "      <td>0.020713</td>\n",
       "    </tr>\n",
       "    <tr>\n",
       "      <th>0</th>\n",
       "      <td>detalhe a sua dúvida.</td>\n",
       "      <td>questionamento</td>\n",
       "      <td>0.526641</td>\n",
       "    </tr>\n",
       "    <tr>\n",
       "      <th>1</th>\n",
       "      <td>detalhe a sua dúvida.</td>\n",
       "      <td>seguir</td>\n",
       "      <td>0.316473</td>\n",
       "    </tr>\n",
       "    <tr>\n",
       "      <th>2</th>\n",
       "      <td>detalhe a sua dúvida.</td>\n",
       "      <td>aguardar</td>\n",
       "      <td>0.086768</td>\n",
       "    </tr>\n",
       "    <tr>\n",
       "      <th>3</th>\n",
       "      <td>detalhe a sua dúvida.</td>\n",
       "      <td>negativa</td>\n",
       "      <td>0.070118</td>\n",
       "    </tr>\n",
       "  </tbody>\n",
       "</table>\n",
       "<p>64 rows × 3 columns</p>\n",
       "</div>"
      ],
      "text/plain": [
       "                                             sequence          labels  \\\n",
       "0                                aguarde só um minuto        aguardar   \n",
       "1                                aguarde só um minuto          seguir   \n",
       "2                                aguarde só um minuto  questionamento   \n",
       "3                                aguarde só um minuto        negativa   \n",
       "0                          mais alguma dúvida, flávio        negativa   \n",
       "..                                                ...             ...   \n",
       "3   você pode me contar melhor qual a sua dúvida, ...        negativa   \n",
       "0                              detalhe a sua dúvida.   questionamento   \n",
       "1                              detalhe a sua dúvida.           seguir   \n",
       "2                              detalhe a sua dúvida.         aguardar   \n",
       "3                              detalhe a sua dúvida.         negativa   \n",
       "\n",
       "      scores  \n",
       "0   0.634727  \n",
       "1   0.253456  \n",
       "2   0.093330  \n",
       "3   0.018487  \n",
       "0   0.408188  \n",
       "..       ...  \n",
       "3   0.020713  \n",
       "0   0.526641  \n",
       "1   0.316473  \n",
       "2   0.086768  \n",
       "3   0.070118  \n",
       "\n",
       "[64 rows x 3 columns]"
      ]
     },
     "execution_count": 82,
     "metadata": {},
     "output_type": "execute_result"
    }
   ],
   "source": [
    "df_scores"
   ]
  },
  {
   "cell_type": "code",
   "execution_count": 90,
   "metadata": {},
   "outputs": [],
   "source": [
    "df_scores_top = df_scores.query('scores >= 0.40')"
   ]
  },
  {
   "cell_type": "code",
   "execution_count": 91,
   "metadata": {},
   "outputs": [],
   "source": [
    "gab_df = pd.DataFrame()\n",
    "gab_df['sequence'] = verbalizacoes2\n",
    "gab_df['label_correta'] = gabarito"
   ]
  },
  {
   "cell_type": "code",
   "execution_count": 92,
   "metadata": {},
   "outputs": [],
   "source": [
    "df_scores_top = df_scores_top.reset_index().join(gab_df.set_index('sequence'), on='sequence', how = 'left')"
   ]
  },
  {
   "cell_type": "code",
   "execution_count": 93,
   "metadata": {},
   "outputs": [],
   "source": [
    "df_scores_top['correto'] = np.where(df_scores_top['labels'] == df_scores_top['label_correta'], 1, 0 )"
   ]
  },
  {
   "cell_type": "code",
   "execution_count": 94,
   "metadata": {},
   "outputs": [
    {
     "name": "stdout",
     "output_type": "stream",
     "text": [
      "0.6875\n"
     ]
    }
   ],
   "source": [
    "print(df_scores_top['correto'].sum() / len(verbalizacoes) )"
   ]
  },
  {
   "cell_type": "code",
   "execution_count": 95,
   "metadata": {},
   "outputs": [
    {
     "data": {
      "text/html": [
       "<div>\n",
       "<style scoped>\n",
       "    .dataframe tbody tr th:only-of-type {\n",
       "        vertical-align: middle;\n",
       "    }\n",
       "\n",
       "    .dataframe tbody tr th {\n",
       "        vertical-align: top;\n",
       "    }\n",
       "\n",
       "    .dataframe thead th {\n",
       "        text-align: right;\n",
       "    }\n",
       "</style>\n",
       "<table border=\"1\" class=\"dataframe\">\n",
       "  <thead>\n",
       "    <tr style=\"text-align: right;\">\n",
       "      <th></th>\n",
       "      <th>index</th>\n",
       "      <th>sequence</th>\n",
       "      <th>labels</th>\n",
       "      <th>scores</th>\n",
       "      <th>label_correta</th>\n",
       "      <th>correto</th>\n",
       "    </tr>\n",
       "  </thead>\n",
       "  <tbody>\n",
       "    <tr>\n",
       "      <th>0</th>\n",
       "      <td>0</td>\n",
       "      <td>aguarde só um minuto</td>\n",
       "      <td>aguardar</td>\n",
       "      <td>0.634727</td>\n",
       "      <td>aguardar</td>\n",
       "      <td>1</td>\n",
       "    </tr>\n",
       "    <tr>\n",
       "      <th>1</th>\n",
       "      <td>0</td>\n",
       "      <td>mais alguma dúvida, flávio</td>\n",
       "      <td>negativa</td>\n",
       "      <td>0.408188</td>\n",
       "      <td>questionamento</td>\n",
       "      <td>0</td>\n",
       "    </tr>\n",
       "    <tr>\n",
       "      <th>2</th>\n",
       "      <td>0</td>\n",
       "      <td>thaynar, para podermos seguir com o procedimen...</td>\n",
       "      <td>seguir</td>\n",
       "      <td>0.862042</td>\n",
       "      <td>seguir</td>\n",
       "      <td>1</td>\n",
       "    </tr>\n",
       "    <tr>\n",
       "      <th>3</th>\n",
       "      <td>0</td>\n",
       "      <td>não existe mandar senha, maria. senha é algo q...</td>\n",
       "      <td>negativa</td>\n",
       "      <td>0.512174</td>\n",
       "      <td>negativa</td>\n",
       "      <td>1</td>\n",
       "    </tr>\n",
       "    <tr>\n",
       "      <th>4</th>\n",
       "      <td>0</td>\n",
       "      <td>ei,  me chamo anna e vou prosseguir com o aten...</td>\n",
       "      <td>seguir</td>\n",
       "      <td>0.730494</td>\n",
       "      <td>seguir</td>\n",
       "      <td>1</td>\n",
       "    </tr>\n",
       "    <tr>\n",
       "      <th>5</th>\n",
       "      <td>0</td>\n",
       "      <td>eu vou te passar para um colega especialista q...</td>\n",
       "      <td>aguardar</td>\n",
       "      <td>0.633276</td>\n",
       "      <td>seguir</td>\n",
       "      <td>0</td>\n",
       "    </tr>\n",
       "    <tr>\n",
       "      <th>6</th>\n",
       "      <td>0</td>\n",
       "      <td>entretanto, para conseguirmos prosseguir com a...</td>\n",
       "      <td>seguir</td>\n",
       "      <td>0.590568</td>\n",
       "      <td>seguir</td>\n",
       "      <td>1</td>\n",
       "    </tr>\n",
       "    <tr>\n",
       "      <th>7</th>\n",
       "      <td>0</td>\n",
       "      <td>olá, vinícius,  meu nome é maysa e te atendere...</td>\n",
       "      <td>seguir</td>\n",
       "      <td>0.445991</td>\n",
       "      <td>seguir</td>\n",
       "      <td>1</td>\n",
       "    </tr>\n",
       "    <tr>\n",
       "      <th>8</th>\n",
       "      <td>0</td>\n",
       "      <td>agora, preciso, por gentileza, que você me con...</td>\n",
       "      <td>questionamento</td>\n",
       "      <td>0.435435</td>\n",
       "      <td>seguir</td>\n",
       "      <td>0</td>\n",
       "    </tr>\n",
       "    <tr>\n",
       "      <th>9</th>\n",
       "      <td>0</td>\n",
       "      <td>peço que permaneça na tela do chat durante o a...</td>\n",
       "      <td>seguir</td>\n",
       "      <td>0.416826</td>\n",
       "      <td>aguardar</td>\n",
       "      <td>0</td>\n",
       "    </tr>\n",
       "    <tr>\n",
       "      <th>10</th>\n",
       "      <td>0</td>\n",
       "      <td>aguarde um momento, por favor! é importante qu...</td>\n",
       "      <td>aguardar</td>\n",
       "      <td>0.573356</td>\n",
       "      <td>aguardar</td>\n",
       "      <td>1</td>\n",
       "    </tr>\n",
       "    <tr>\n",
       "      <th>11</th>\n",
       "      <td>0</td>\n",
       "      <td>me chamo natalice e irei te ajudar hoje. peço ...</td>\n",
       "      <td>aguardar</td>\n",
       "      <td>0.782117</td>\n",
       "      <td>aguardar</td>\n",
       "      <td>1</td>\n",
       "    </tr>\n",
       "    <tr>\n",
       "      <th>12</th>\n",
       "      <td>0</td>\n",
       "      <td>olá, maria!  sou thiago, estou verificando sua...</td>\n",
       "      <td>aguardar</td>\n",
       "      <td>0.512816</td>\n",
       "      <td>aguardar</td>\n",
       "      <td>1</td>\n",
       "    </tr>\n",
       "    <tr>\n",
       "      <th>13</th>\n",
       "      <td>0</td>\n",
       "      <td>você pode me contar melhor qual a sua dúvida, ...</td>\n",
       "      <td>questionamento</td>\n",
       "      <td>0.558451</td>\n",
       "      <td>questionamento</td>\n",
       "      <td>1</td>\n",
       "    </tr>\n",
       "    <tr>\n",
       "      <th>14</th>\n",
       "      <td>0</td>\n",
       "      <td>detalhe a sua dúvida.</td>\n",
       "      <td>questionamento</td>\n",
       "      <td>0.526641</td>\n",
       "      <td>questionamento</td>\n",
       "      <td>1</td>\n",
       "    </tr>\n",
       "  </tbody>\n",
       "</table>\n",
       "</div>"
      ],
      "text/plain": [
       "    index                                           sequence          labels  \\\n",
       "0       0                               aguarde só um minuto        aguardar   \n",
       "1       0                         mais alguma dúvida, flávio        negativa   \n",
       "2       0  thaynar, para podermos seguir com o procedimen...          seguir   \n",
       "3       0  não existe mandar senha, maria. senha é algo q...        negativa   \n",
       "4       0  ei,  me chamo anna e vou prosseguir com o aten...          seguir   \n",
       "5       0  eu vou te passar para um colega especialista q...        aguardar   \n",
       "6       0  entretanto, para conseguirmos prosseguir com a...          seguir   \n",
       "7       0  olá, vinícius,  meu nome é maysa e te atendere...          seguir   \n",
       "8       0  agora, preciso, por gentileza, que você me con...  questionamento   \n",
       "9       0  peço que permaneça na tela do chat durante o a...          seguir   \n",
       "10      0  aguarde um momento, por favor! é importante qu...        aguardar   \n",
       "11      0  me chamo natalice e irei te ajudar hoje. peço ...        aguardar   \n",
       "12      0  olá, maria!  sou thiago, estou verificando sua...        aguardar   \n",
       "13      0  você pode me contar melhor qual a sua dúvida, ...  questionamento   \n",
       "14      0                             detalhe a sua dúvida.   questionamento   \n",
       "\n",
       "      scores   label_correta  correto  \n",
       "0   0.634727        aguardar        1  \n",
       "1   0.408188  questionamento        0  \n",
       "2   0.862042          seguir        1  \n",
       "3   0.512174        negativa        1  \n",
       "4   0.730494          seguir        1  \n",
       "5   0.633276          seguir        0  \n",
       "6   0.590568          seguir        1  \n",
       "7   0.445991          seguir        1  \n",
       "8   0.435435          seguir        0  \n",
       "9   0.416826        aguardar        0  \n",
       "10  0.573356        aguardar        1  \n",
       "11  0.782117        aguardar        1  \n",
       "12  0.512816        aguardar        1  \n",
       "13  0.558451  questionamento        1  \n",
       "14  0.526641  questionamento        1  "
      ]
     },
     "execution_count": 95,
     "metadata": {},
     "output_type": "execute_result"
    }
   ],
   "source": [
    "df_scores_top"
   ]
  },
  {
   "cell_type": "code",
   "execution_count": 96,
   "metadata": {},
   "outputs": [],
   "source": [
    "df_scores.to_csv('frases_agentes.csv')"
   ]
  }
 ],
 "metadata": {
  "kernelspec": {
   "display_name": "Python 3",
   "language": "python",
   "name": "python3"
  },
  "language_info": {
   "codemirror_mode": {
    "name": "ipython",
    "version": 3
   },
   "file_extension": ".py",
   "mimetype": "text/x-python",
   "name": "python",
   "nbconvert_exporter": "python",
   "pygments_lexer": "ipython3",
   "version": "3.8.10"
  }
 },
 "nbformat": 4,
 "nbformat_minor": 2
}
