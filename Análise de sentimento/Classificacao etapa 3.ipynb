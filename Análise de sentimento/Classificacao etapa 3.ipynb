{
 "cells": [
  {
   "cell_type": "code",
   "execution_count": 1,
   "metadata": {},
   "outputs": [
    {
     "name": "stderr",
     "output_type": "stream",
     "text": [
      "2023-09-25 19:03:46.059975: I tensorflow/tsl/cuda/cudart_stub.cc:28] Could not find cuda drivers on your machine, GPU will not be used.\n",
      "2023-09-25 19:03:46.490029: I tensorflow/tsl/cuda/cudart_stub.cc:28] Could not find cuda drivers on your machine, GPU will not be used.\n",
      "2023-09-25 19:03:46.492517: I tensorflow/core/platform/cpu_feature_guard.cc:182] This TensorFlow binary is optimized to use available CPU instructions in performance-critical operations.\n",
      "To enable the following instructions: AVX2 FMA, in other operations, rebuild TensorFlow with the appropriate compiler flags.\n",
      "2023-09-25 19:03:49.616172: W tensorflow/compiler/tf2tensorrt/utils/py_utils.cc:38] TF-TRT Warning: Could not find TensorRT\n"
     ]
    }
   ],
   "source": [
    "import pandas as pd\n",
    "import numpy as np\n",
    "import os as os\n",
    "import pickle\n",
    "import seaborn as sns\n",
    "import matplotlib.pyplot as plt\n",
    "from wordcloud import WordCloud, STOPWORDS, ImageColorGenerator\n",
    "from nltk.util import ngrams\n",
    "import nltk\n",
    "from arabica import arabica_freq\n",
    "from unidecode import unidecode\n",
    "import re\n",
    "import plotly.express as px\n",
    "import texthero as hero\n",
    "from sklearn.cluster import KMeans\n",
    "from sklearn.feature_extraction.text import CountVectorizer\n",
    "from sklearn.feature_extraction.text import TfidfVectorizer\n",
    "from sklearn.decomposition import LatentDirichletAllocation\n",
    "from sklearn.decomposition import NMF\n",
    "from sklearn.decomposition import TruncatedSVD\n",
    "import nltk\n",
    "from nltk.sentiment.vader import SentimentIntensityAnalyzer\n",
    "from sklearn.naive_bayes import BernoulliNB\n",
    "import spacy\n",
    "import re\n",
    "import nlp\n",
    "import warnings\n",
    "import statsmodels.api as sm\n",
    "from statsmodels.formula.api import ols\n",
    "\n",
    "\n",
    "warnings.simplefilter(action='ignore', category=FutureWarning)"
   ]
  },
  {
   "cell_type": "code",
   "execution_count": 2,
   "metadata": {},
   "outputs": [],
   "source": [
    "df = pd.read_csv('sentimento - base3.csv')"
   ]
  },
  {
   "cell_type": "code",
   "execution_count": 3,
   "metadata": {},
   "outputs": [
    {
     "data": {
      "text/html": [
       "<div>\n",
       "<style scoped>\n",
       "    .dataframe tbody tr th:only-of-type {\n",
       "        vertical-align: middle;\n",
       "    }\n",
       "\n",
       "    .dataframe tbody tr th {\n",
       "        vertical-align: top;\n",
       "    }\n",
       "\n",
       "    .dataframe thead th {\n",
       "        text-align: right;\n",
       "    }\n",
       "</style>\n",
       "<table border=\"1\" class=\"dataframe\">\n",
       "  <thead>\n",
       "    <tr style=\"text-align: right;\">\n",
       "      <th></th>\n",
       "      <th>id_issue</th>\n",
       "      <th>mes_chat</th>\n",
       "      <th>SENTIMENTO</th>\n",
       "      <th>TIPO_MSG</th>\n",
       "      <th>hierarquia_4</th>\n",
       "      <th>ds_cluster_sociodemographic</th>\n",
       "      <th>ds_message</th>\n",
       "      <th>flag_negativo_indecx</th>\n",
       "    </tr>\n",
       "  </thead>\n",
       "  <tbody>\n",
       "    <tr>\n",
       "      <th>0</th>\n",
       "      <td>15388962</td>\n",
       "      <td>2023-04-01</td>\n",
       "      <td>neutro</td>\n",
       "      <td>duvida</td>\n",
       "      <td>Vencimento fatura</td>\n",
       "      <td>0 - Mulher, Casada, 25 anos ou mais, cidade Pe...</td>\n",
       "      <td>['Que dia minha fatura fecha?','Ainda tenho dú...</td>\n",
       "      <td>0</td>\n",
       "    </tr>\n",
       "    <tr>\n",
       "      <th>1</th>\n",
       "      <td>17497395</td>\n",
       "      <td>2023-07-01</td>\n",
       "      <td>neutro</td>\n",
       "      <td>duvida</td>\n",
       "      <td>Dúvidas sobre pagamento de fatura</td>\n",
       "      <td>11 - Homem, Solteiro, Até 24 anos, cidade Pequ...</td>\n",
       "      <td>['Quero pagar os 100 reais que eu tirei','Mais...</td>\n",
       "      <td>0</td>\n",
       "    </tr>\n",
       "    <tr>\n",
       "      <th>2</th>\n",
       "      <td>15213047</td>\n",
       "      <td>2023-04-01</td>\n",
       "      <td>neutro</td>\n",
       "      <td>solicitacao</td>\n",
       "      <td>Não reconhecimento de compra no crédito</td>\n",
       "      <td>17 - Mulher, 25 a 40 anos, Sudeste e Sul</td>\n",
       "      <td>['Apareceu uma compra que eu não fiz','Dúvida ...</td>\n",
       "      <td>0</td>\n",
       "    </tr>\n",
       "    <tr>\n",
       "      <th>3</th>\n",
       "      <td>17117301</td>\n",
       "      <td>2023-06-01</td>\n",
       "      <td>neutro</td>\n",
       "      <td>problema</td>\n",
       "      <td>Parcelamento de fatura</td>\n",
       "      <td>8 - Mulher, Solteira, Até 24 anos, cidade Pequ...</td>\n",
       "      <td>['No meu limite está escrito que está utilizad...</td>\n",
       "      <td>0</td>\n",
       "    </tr>\n",
       "    <tr>\n",
       "      <th>4</th>\n",
       "      <td>17345996</td>\n",
       "      <td>2023-07-01</td>\n",
       "      <td>negativo</td>\n",
       "      <td>problema</td>\n",
       "      <td>Dúvidas PIX</td>\n",
       "      <td>10 - Mulher, Solteira, Até 24 anos, cidade Peq...</td>\n",
       "      <td>['Pix','E merda o will nunca teve essas coisas...</td>\n",
       "      <td>0</td>\n",
       "    </tr>\n",
       "  </tbody>\n",
       "</table>\n",
       "</div>"
      ],
      "text/plain": [
       "   id_issue    mes_chat SENTIMENTO     TIPO_MSG  \\\n",
       "0  15388962  2023-04-01     neutro       duvida   \n",
       "1  17497395  2023-07-01     neutro       duvida   \n",
       "2  15213047  2023-04-01     neutro  solicitacao   \n",
       "3  17117301  2023-06-01     neutro     problema   \n",
       "4  17345996  2023-07-01   negativo     problema   \n",
       "\n",
       "                              hierarquia_4  \\\n",
       "0                        Vencimento fatura   \n",
       "1        Dúvidas sobre pagamento de fatura   \n",
       "2  Não reconhecimento de compra no crédito   \n",
       "3                   Parcelamento de fatura   \n",
       "4                              Dúvidas PIX   \n",
       "\n",
       "                         ds_cluster_sociodemographic  \\\n",
       "0  0 - Mulher, Casada, 25 anos ou mais, cidade Pe...   \n",
       "1  11 - Homem, Solteiro, Até 24 anos, cidade Pequ...   \n",
       "2           17 - Mulher, 25 a 40 anos, Sudeste e Sul   \n",
       "3  8 - Mulher, Solteira, Até 24 anos, cidade Pequ...   \n",
       "4  10 - Mulher, Solteira, Até 24 anos, cidade Peq...   \n",
       "\n",
       "                                          ds_message  flag_negativo_indecx  \n",
       "0  ['Que dia minha fatura fecha?','Ainda tenho dú...                     0  \n",
       "1  ['Quero pagar os 100 reais que eu tirei','Mais...                     0  \n",
       "2  ['Apareceu uma compra que eu não fiz','Dúvida ...                     0  \n",
       "3  ['No meu limite está escrito que está utilizad...                     0  \n",
       "4  ['Pix','E merda o will nunca teve essas coisas...                     0  "
      ]
     },
     "execution_count": 3,
     "metadata": {},
     "output_type": "execute_result"
    }
   ],
   "source": [
    "df.head()"
   ]
  },
  {
   "cell_type": "code",
   "execution_count": 4,
   "metadata": {},
   "outputs": [],
   "source": [
    "# def classif_emoji(text):\n",
    "#     '''\n",
    "#     Replace emojis with word emoji\n",
    "#     '''\n",
    "#     regrex_pattern = re.compile(pattern=\"[\"\n",
    "#                                 u\"\\U0001F600-\\U0001F64F\"  # emoticons\n",
    "#                                 u\"\\U0001F300-\\U0001F5FF\"  # symbols & pictographs\n",
    "#                                 u\"\\U0001F680-\\U0001F6FF\"  # transport & map symbols\n",
    "#                                 u\"\\U0001F1E0-\\U0001F1FF\"  # flags (iOS)\n",
    "#                                 \"]+\", flags=re.UNICODE)\n",
    "#     return regrex_pattern.sub(r'emoji ', str(text))\n",
    "\n",
    "def clean_text(x):\n",
    "    #x = unidecode(x)\n",
    "    x = x.strip()\n",
    "    x = x.lower()\n",
    "    x = re.sub(r'\\t', ' ', x)\n",
    "    x = re.sub(r'http\\S+', '', x)  # remove url\n",
    "    x = re.sub(r'screenshot sent', 'screenshotsent', x)\n",
    "    x = re.sub(r'will bank', 'willbank', x)\n",
    "    x = re.sub(r'(nbsp\\;|[rl]dquo\\;|quot\\;|acute\\;|tilde\\;|circ\\;|grave\\;|cedil\\;|\\&|\\/)', '', x)  # replace special characters\n",
    "    x = x.replace('&ccedil;','ç')\n",
    "    x = x.replace('&atilde;;','ã')\n",
    "    x = x.replace('&otilde;;','õ')\n",
    "    #x = re.sub(r'(\\d{1,}|\\!|\\?|\\,|\\.|\\\\n|\\:|\\;|\\`|\\´|\\-|\\_)', ' ', x)  # replace punctuation and remove numbers\n",
    "    x = x.replace('  ',' ')\n",
    "    x = x.replace('\\n','')\n",
    "    x = x.strip()\n",
    "    return x\n"
   ]
  },
  {
   "cell_type": "code",
   "execution_count": 5,
   "metadata": {},
   "outputs": [
    {
     "data": {
      "text/plain": [
       "14906"
      ]
     },
     "execution_count": 5,
     "metadata": {},
     "output_type": "execute_result"
    }
   ],
   "source": [
    "len(df)"
   ]
  },
  {
   "cell_type": "code",
   "execution_count": 6,
   "metadata": {},
   "outputs": [],
   "source": [
    "# não vou remover emojis\n",
    "df['ds_message_tratada'] = df['ds_message'].apply(clean_text)"
   ]
  },
  {
   "cell_type": "code",
   "execution_count": 7,
   "metadata": {},
   "outputs": [
    {
     "data": {
      "text/plain": [
       "\"['pix','e merda o will nunca teve essas coisas','estou precisando fazer o pix e não estou conseguindo','desde ontem','não dá pra fazer pix','mais opções']\""
      ]
     },
     "execution_count": 7,
     "metadata": {},
     "output_type": "execute_result"
    }
   ],
   "source": [
    "df['ds_message_tratada'][4]"
   ]
  },
  {
   "cell_type": "code",
   "execution_count": 8,
   "metadata": {},
   "outputs": [],
   "source": [
    "df['n_palavras'] = df['ds_message_tratada'].str.count(' ')"
   ]
  },
  {
   "cell_type": "code",
   "execution_count": 9,
   "metadata": {},
   "outputs": [],
   "source": [
    "df['n_palavras_t'] = np.where(df.n_palavras >= 20, 20, df.n_palavras)"
   ]
  },
  {
   "cell_type": "code",
   "execution_count": 10,
   "metadata": {},
   "outputs": [
    {
     "data": {
      "text/html": [
       "<div>\n",
       "<style scoped>\n",
       "    .dataframe tbody tr th:only-of-type {\n",
       "        vertical-align: middle;\n",
       "    }\n",
       "\n",
       "    .dataframe tbody tr th {\n",
       "        vertical-align: top;\n",
       "    }\n",
       "\n",
       "    .dataframe thead th {\n",
       "        text-align: right;\n",
       "    }\n",
       "</style>\n",
       "<table border=\"1\" class=\"dataframe\">\n",
       "  <thead>\n",
       "    <tr style=\"text-align: right;\">\n",
       "      <th>SENTIMENTO</th>\n",
       "      <th>negativo</th>\n",
       "      <th>neutro</th>\n",
       "      <th>positivo</th>\n",
       "    </tr>\n",
       "    <tr>\n",
       "      <th>n_palavras_t</th>\n",
       "      <th></th>\n",
       "      <th></th>\n",
       "      <th></th>\n",
       "    </tr>\n",
       "  </thead>\n",
       "  <tbody>\n",
       "    <tr>\n",
       "      <th>2</th>\n",
       "      <td>0</td>\n",
       "      <td>0</td>\n",
       "      <td>1</td>\n",
       "    </tr>\n",
       "    <tr>\n",
       "      <th>3</th>\n",
       "      <td>0</td>\n",
       "      <td>2</td>\n",
       "      <td>0</td>\n",
       "    </tr>\n",
       "    <tr>\n",
       "      <th>4</th>\n",
       "      <td>1</td>\n",
       "      <td>3</td>\n",
       "      <td>1</td>\n",
       "    </tr>\n",
       "    <tr>\n",
       "      <th>5</th>\n",
       "      <td>2</td>\n",
       "      <td>10</td>\n",
       "      <td>1</td>\n",
       "    </tr>\n",
       "    <tr>\n",
       "      <th>6</th>\n",
       "      <td>2</td>\n",
       "      <td>8</td>\n",
       "      <td>0</td>\n",
       "    </tr>\n",
       "    <tr>\n",
       "      <th>7</th>\n",
       "      <td>0</td>\n",
       "      <td>8</td>\n",
       "      <td>1</td>\n",
       "    </tr>\n",
       "    <tr>\n",
       "      <th>8</th>\n",
       "      <td>2</td>\n",
       "      <td>8</td>\n",
       "      <td>1</td>\n",
       "    </tr>\n",
       "    <tr>\n",
       "      <th>9</th>\n",
       "      <td>2</td>\n",
       "      <td>6</td>\n",
       "      <td>0</td>\n",
       "    </tr>\n",
       "    <tr>\n",
       "      <th>10</th>\n",
       "      <td>2</td>\n",
       "      <td>10</td>\n",
       "      <td>1</td>\n",
       "    </tr>\n",
       "    <tr>\n",
       "      <th>11</th>\n",
       "      <td>2</td>\n",
       "      <td>9</td>\n",
       "      <td>3</td>\n",
       "    </tr>\n",
       "    <tr>\n",
       "      <th>12</th>\n",
       "      <td>3</td>\n",
       "      <td>10</td>\n",
       "      <td>2</td>\n",
       "    </tr>\n",
       "    <tr>\n",
       "      <th>13</th>\n",
       "      <td>5</td>\n",
       "      <td>5</td>\n",
       "      <td>5</td>\n",
       "    </tr>\n",
       "    <tr>\n",
       "      <th>14</th>\n",
       "      <td>5</td>\n",
       "      <td>5</td>\n",
       "      <td>3</td>\n",
       "    </tr>\n",
       "    <tr>\n",
       "      <th>15</th>\n",
       "      <td>3</td>\n",
       "      <td>8</td>\n",
       "      <td>2</td>\n",
       "    </tr>\n",
       "    <tr>\n",
       "      <th>16</th>\n",
       "      <td>0</td>\n",
       "      <td>8</td>\n",
       "      <td>1</td>\n",
       "    </tr>\n",
       "    <tr>\n",
       "      <th>17</th>\n",
       "      <td>2</td>\n",
       "      <td>9</td>\n",
       "      <td>3</td>\n",
       "    </tr>\n",
       "    <tr>\n",
       "      <th>18</th>\n",
       "      <td>2</td>\n",
       "      <td>5</td>\n",
       "      <td>4</td>\n",
       "    </tr>\n",
       "    <tr>\n",
       "      <th>19</th>\n",
       "      <td>2</td>\n",
       "      <td>7</td>\n",
       "      <td>2</td>\n",
       "    </tr>\n",
       "    <tr>\n",
       "      <th>20</th>\n",
       "      <td>230</td>\n",
       "      <td>137</td>\n",
       "      <td>91</td>\n",
       "    </tr>\n",
       "  </tbody>\n",
       "</table>\n",
       "</div>"
      ],
      "text/plain": [
       "SENTIMENTO    negativo  neutro  positivo\n",
       "n_palavras_t                            \n",
       "2                    0       0         1\n",
       "3                    0       2         0\n",
       "4                    1       3         1\n",
       "5                    2      10         1\n",
       "6                    2       8         0\n",
       "7                    0       8         1\n",
       "8                    2       8         1\n",
       "9                    2       6         0\n",
       "10                   2      10         1\n",
       "11                   2       9         3\n",
       "12                   3      10         2\n",
       "13                   5       5         5\n",
       "14                   5       5         3\n",
       "15                   3       8         2\n",
       "16                   0       8         1\n",
       "17                   2       9         3\n",
       "18                   2       5         4\n",
       "19                   2       7         2\n",
       "20                 230     137        91"
      ]
     },
     "execution_count": 10,
     "metadata": {},
     "output_type": "execute_result"
    }
   ],
   "source": [
    "pd.crosstab(df.n_palavras_t, df.SENTIMENTO)"
   ]
  },
  {
   "cell_type": "code",
   "execution_count": 13,
   "metadata": {},
   "outputs": [],
   "source": [
    "from LeIA import SentimentIntensityAnalyzer \n",
    "\n",
    "\n",
    "# Initialize the sentiment analyzer\n",
    "analyzer = SentimentIntensityAnalyzer()\n",
    "# Create a new column in the dataframe to store the sentiment scores\n",
    "df[\"sentiment\"] = 0.0\n",
    "\n",
    "# Iterate over the rows of the dataframe\n",
    "for index, row in df.iterrows():\n",
    "  # Use the analyzer to predict the sentiment of the text\n",
    "  scores = analyzer.polarity_scores(row[\"ds_message\"])\n",
    "  # Store the compound score in the new column\n",
    "  df.at[index, \"sentiment\"] = scores[\"compound\"]"
   ]
  },
  {
   "cell_type": "code",
   "execution_count": 60,
   "metadata": {},
   "outputs": [
    {
     "data": {
      "text/plain": [
       "645"
      ]
     },
     "execution_count": 60,
     "metadata": {},
     "output_type": "execute_result"
    }
   ],
   "source": [
    "exemplo_base = df[df['SENTIMENTO'].notnull()]\n",
    "len(exemplo_base)"
   ]
  },
  {
   "cell_type": "code",
   "execution_count": 12,
   "metadata": {},
   "outputs": [],
   "source": [
    "stopwords_will= ['da', 'em', 'você', 'de', 'ao', 'os', 'que', 'e', 'eu', 'o', 'estou', 'ele','ela','pra', 'pro', 'entao', 'para', 'voce',\n",
    "                 'pra', 'tá', 'né', 'ah', 'aí', 'dá', 'ó', 'mim', 'então', 'aqui', 'tô', 'pro',\n",
    "            'seu', 'sua', 'por', 'sobre', 'mais', 'uma', 'um','como', 'meu', 'com', 'outro','outra','das','dos','foi', 'fiz','pelo','tem','mas',\n",
    "            'este', 'esse','ta', 'to', 'ai', 'la', 'lo', 'lhe', 'ne','pra', 'tá', 'né', 'ah', 'aí', 'dá', 'ó', 'mim', 'então', 'aqui', 'tô', 'pro', 'isso']"
   ]
  },
  {
   "cell_type": "code",
   "execution_count": 14,
   "metadata": {},
   "outputs": [
    {
     "name": "stderr",
     "output_type": "stream",
     "text": [
      "/tmp/ipykernel_972980/2720231541.py:1: SettingWithCopyWarning: \n",
      "A value is trying to be set on a copy of a slice from a DataFrame.\n",
      "Try using .loc[row_indexer,col_indexer] = value instead\n",
      "\n",
      "See the caveats in the documentation: https://pandas.pydata.org/pandas-docs/stable/user_guide/indexing.html#returning-a-view-versus-a-copy\n"
     ]
    }
   ],
   "source": [
    "exemplo_base['SENTIMENTO_label'] = np.where(exemplo_base['SENTIMENTO'] == \"negativo\", 0, \n",
    "                                            np.where(exemplo_base['SENTIMENTO'] == \"neutro\", 1, 2 ))"
   ]
  },
  {
   "cell_type": "code",
   "execution_count": 31,
   "metadata": {},
   "outputs": [
    {
     "data": {
      "text/plain": [
       "0    265\n",
       "1    258\n",
       "2    122\n",
       "Name: SENTIMENTO_label, dtype: int64"
      ]
     },
     "execution_count": 31,
     "metadata": {},
     "output_type": "execute_result"
    }
   ],
   "source": [
    "exemplo_base['SENTIMENTO_label'].value_counts()"
   ]
  },
  {
   "cell_type": "code",
   "execution_count": 15,
   "metadata": {},
   "outputs": [],
   "source": [
    "from sklearn.model_selection import train_test_split\n",
    "\n",
    "vetorizador = TfidfVectorizer()\n",
    "X = vetorizador.fit_transform(exemplo_base['ds_message'])\n",
    "y = exemplo_base.SENTIMENTO_label\n",
    "\n",
    "\n",
    "x_train, x_test, y_train, y_test = train_test_split(X\n",
    "                                                    , exemplo_base.SENTIMENTO_label\n",
    "                                                    , random_state=42, test_size=0.20)"
   ]
  },
  {
   "cell_type": "code",
   "execution_count": 16,
   "metadata": {},
   "outputs": [
    {
     "name": "stdout",
     "output_type": "stream",
     "text": [
      "[22:12:47] WARNING: ../src/learner.cc:767: \n",
      "Parameters: { \"num_round\" } are not used.\n",
      "\n"
     ]
    },
    {
     "data": {
      "text/html": [
       "<div>\n",
       "<style scoped>\n",
       "    .dataframe tbody tr th:only-of-type {\n",
       "        vertical-align: middle;\n",
       "    }\n",
       "\n",
       "    .dataframe tbody tr th {\n",
       "        vertical-align: top;\n",
       "    }\n",
       "\n",
       "    .dataframe thead th {\n",
       "        text-align: right;\n",
       "    }\n",
       "</style>\n",
       "<table border=\"1\" class=\"dataframe\">\n",
       "  <thead>\n",
       "    <tr style=\"text-align: right;\">\n",
       "      <th>SENTIMENTO_label</th>\n",
       "      <th>0</th>\n",
       "      <th>1</th>\n",
       "      <th>2</th>\n",
       "    </tr>\n",
       "    <tr>\n",
       "      <th>row_0</th>\n",
       "      <th></th>\n",
       "      <th></th>\n",
       "      <th></th>\n",
       "    </tr>\n",
       "  </thead>\n",
       "  <tbody>\n",
       "    <tr>\n",
       "      <th>0</th>\n",
       "      <td>40</td>\n",
       "      <td>9</td>\n",
       "      <td>3</td>\n",
       "    </tr>\n",
       "    <tr>\n",
       "      <th>1</th>\n",
       "      <td>15</td>\n",
       "      <td>38</td>\n",
       "      <td>10</td>\n",
       "    </tr>\n",
       "    <tr>\n",
       "      <th>2</th>\n",
       "      <td>3</td>\n",
       "      <td>0</td>\n",
       "      <td>11</td>\n",
       "    </tr>\n",
       "  </tbody>\n",
       "</table>\n",
       "</div>"
      ],
      "text/plain": [
       "SENTIMENTO_label   0   1   2\n",
       "row_0                       \n",
       "0                 40   9   3\n",
       "1                 15  38  10\n",
       "2                  3   0  11"
      ]
     },
     "execution_count": 16,
     "metadata": {},
     "output_type": "execute_result"
    }
   ],
   "source": [
    "import xgboost as xgb\n",
    "from sklearn.model_selection import cross_val_score, StratifiedKFold, KFold\n",
    "from sklearn import metrics\n",
    "\n",
    "#INCLUIR PARAMETROS DO MELHOR MODELO\n",
    "clf = xgb.XGBClassifier(objective=\"multi:softprob\", max_depth = 3, num_round = 437, eta = 0.02, subsample = 0.8,  alpha = 0.0, colsample_bytree = 0.40, gamma = 3.7, random_state = 42)\n",
    "#lambda = 1.644,\n",
    "clf = clf.fit(x_train,y_train)\n",
    "\n",
    "y_predicted = clf.predict(x_test)\n",
    "pd.crosstab(y_predicted, y_test)"
   ]
  },
  {
   "cell_type": "code",
   "execution_count": 17,
   "metadata": {},
   "outputs": [
    {
     "name": "stdout",
     "output_type": "stream",
     "text": [
      "[22:12:58] WARNING: ../src/learner.cc:767: \n",
      "Parameters: { \"num_round\" } are not used.\n",
      "\n",
      "[22:12:59] WARNING: ../src/learner.cc:767: \n",
      "Parameters: { \"num_round\" } are not used.\n",
      "\n",
      "[22:13:01] WARNING: ../src/learner.cc:767: \n",
      "Parameters: { \"num_round\" } are not used.\n",
      "\n",
      "[22:13:03] WARNING: ../src/learner.cc:767: \n",
      "Parameters: { \"num_round\" } are not used.\n",
      "\n",
      "[22:13:05] WARNING: ../src/learner.cc:767: \n",
      "Parameters: { \"num_round\" } are not used.\n",
      "\n",
      "0.69 F1 with a standard deviation of 0.07\n"
     ]
    }
   ],
   "source": [
    "scores = cross_val_score(clf, x_train, y_train, cv=5, scoring='f1_macro')\n",
    "print(\"%0.2f F1 with a standard deviation of %0.2f\" % (scores.mean(), scores.std()))"
   ]
  },
  {
   "cell_type": "code",
   "execution_count": 26,
   "metadata": {},
   "outputs": [
    {
     "name": "stdout",
     "output_type": "stream",
     "text": [
      "              precision    recall  f1-score   support\n",
      "\n",
      "           0       0.77      0.69      0.73        58\n",
      "           1       0.60      0.81      0.69        47\n",
      "           2       0.79      0.46      0.58        24\n",
      "\n",
      "    accuracy                           0.69       129\n",
      "   macro avg       0.72      0.65      0.67       129\n",
      "weighted avg       0.71      0.69      0.69       129\n",
      "\n"
     ]
    }
   ],
   "source": [
    "from sklearn.metrics import classification_report\n",
    "\n",
    "print(classification_report(y_test, y_predicted))\n"
   ]
  },
  {
   "cell_type": "code",
   "execution_count": 32,
   "metadata": {},
   "outputs": [
    {
     "data": {
      "text/html": [
       "<div>\n",
       "<style scoped>\n",
       "    .dataframe tbody tr th:only-of-type {\n",
       "        vertical-align: middle;\n",
       "    }\n",
       "\n",
       "    .dataframe tbody tr th {\n",
       "        vertical-align: top;\n",
       "    }\n",
       "\n",
       "    .dataframe thead th {\n",
       "        text-align: right;\n",
       "    }\n",
       "</style>\n",
       "<table border=\"1\" class=\"dataframe\">\n",
       "  <thead>\n",
       "    <tr style=\"text-align: right;\">\n",
       "      <th>SENTIMENTO_label</th>\n",
       "      <th>0</th>\n",
       "      <th>1</th>\n",
       "      <th>2</th>\n",
       "    </tr>\n",
       "    <tr>\n",
       "      <th>row_0</th>\n",
       "      <th></th>\n",
       "      <th></th>\n",
       "      <th></th>\n",
       "    </tr>\n",
       "  </thead>\n",
       "  <tbody>\n",
       "    <tr>\n",
       "      <th>0</th>\n",
       "      <td>42</td>\n",
       "      <td>10</td>\n",
       "      <td>3</td>\n",
       "    </tr>\n",
       "    <tr>\n",
       "      <th>1</th>\n",
       "      <td>11</td>\n",
       "      <td>34</td>\n",
       "      <td>4</td>\n",
       "    </tr>\n",
       "    <tr>\n",
       "      <th>2</th>\n",
       "      <td>5</td>\n",
       "      <td>3</td>\n",
       "      <td>17</td>\n",
       "    </tr>\n",
       "  </tbody>\n",
       "</table>\n",
       "</div>"
      ],
      "text/plain": [
       "SENTIMENTO_label   0   1   2\n",
       "row_0                       \n",
       "0                 42  10   3\n",
       "1                 11  34   4\n",
       "2                  5   3  17"
      ]
     },
     "execution_count": 32,
     "metadata": {},
     "output_type": "execute_result"
    }
   ],
   "source": [
    "import xgboost as xgb\n",
    "from sklearn.model_selection import cross_val_score, StratifiedKFold, KFold\n",
    "from sklearn import metrics\n",
    "\n",
    "#INCLUIR PARAMETROS DO MELHOR MODELO\n",
    "clf = xgb.XGBClassifier(objective=\"multi:softprob\", max_depth = 10)\n",
    "#lambda = 1.644,\n",
    "clf = clf.fit(x_train,y_train)\n",
    "\n",
    "y_predicted = clf.predict(x_test)\n",
    "pd.crosstab(y_predicted, y_test)"
   ]
  },
  {
   "cell_type": "code",
   "execution_count": 33,
   "metadata": {},
   "outputs": [
    {
     "name": "stdout",
     "output_type": "stream",
     "text": [
      "              precision    recall  f1-score   support\n",
      "\n",
      "           0       0.76      0.72      0.74        58\n",
      "           1       0.69      0.72      0.71        47\n",
      "           2       0.68      0.71      0.69        24\n",
      "\n",
      "    accuracy                           0.72       129\n",
      "   macro avg       0.71      0.72      0.72       129\n",
      "weighted avg       0.72      0.72      0.72       129\n",
      "\n"
     ]
    }
   ],
   "source": [
    "print(classification_report(y_test, y_predicted))"
   ]
  },
  {
   "cell_type": "code",
   "execution_count": 34,
   "metadata": {},
   "outputs": [
    {
     "data": {
      "text/html": [
       "<div>\n",
       "<style scoped>\n",
       "    .dataframe tbody tr th:only-of-type {\n",
       "        vertical-align: middle;\n",
       "    }\n",
       "\n",
       "    .dataframe tbody tr th {\n",
       "        vertical-align: top;\n",
       "    }\n",
       "\n",
       "    .dataframe thead th {\n",
       "        text-align: right;\n",
       "    }\n",
       "</style>\n",
       "<table border=\"1\" class=\"dataframe\">\n",
       "  <thead>\n",
       "    <tr style=\"text-align: right;\">\n",
       "      <th>SENTIMENTO_label</th>\n",
       "      <th>0</th>\n",
       "      <th>1</th>\n",
       "      <th>2</th>\n",
       "    </tr>\n",
       "    <tr>\n",
       "      <th>row_0</th>\n",
       "      <th></th>\n",
       "      <th></th>\n",
       "      <th></th>\n",
       "    </tr>\n",
       "  </thead>\n",
       "  <tbody>\n",
       "    <tr>\n",
       "      <th>0</th>\n",
       "      <td>44</td>\n",
       "      <td>8</td>\n",
       "      <td>3</td>\n",
       "    </tr>\n",
       "    <tr>\n",
       "      <th>1</th>\n",
       "      <td>10</td>\n",
       "      <td>36</td>\n",
       "      <td>5</td>\n",
       "    </tr>\n",
       "    <tr>\n",
       "      <th>2</th>\n",
       "      <td>4</td>\n",
       "      <td>3</td>\n",
       "      <td>16</td>\n",
       "    </tr>\n",
       "  </tbody>\n",
       "</table>\n",
       "</div>"
      ],
      "text/plain": [
       "SENTIMENTO_label   0   1   2\n",
       "row_0                       \n",
       "0                 44   8   3\n",
       "1                 10  36   5\n",
       "2                  4   3  16"
      ]
     },
     "execution_count": 34,
     "metadata": {},
     "output_type": "execute_result"
    }
   ],
   "source": [
    "#INCLUIR PARAMETROS DO MELHOR MODELO\n",
    "clf = xgb.XGBClassifier(objective=\"multi:softprob\", max_depth = 30)\n",
    "#lambda = 1.644,\n",
    "clf = clf.fit(x_train,y_train)\n",
    "\n",
    "y_predicted = clf.predict(x_test)\n",
    "pd.crosstab(y_predicted, y_test)"
   ]
  },
  {
   "cell_type": "code",
   "execution_count": 35,
   "metadata": {},
   "outputs": [
    {
     "name": "stdout",
     "output_type": "stream",
     "text": [
      "              precision    recall  f1-score   support\n",
      "\n",
      "           0       0.80      0.76      0.78        58\n",
      "           1       0.71      0.77      0.73        47\n",
      "           2       0.70      0.67      0.68        24\n",
      "\n",
      "    accuracy                           0.74       129\n",
      "   macro avg       0.73      0.73      0.73       129\n",
      "weighted avg       0.75      0.74      0.74       129\n",
      "\n"
     ]
    }
   ],
   "source": [
    "print(classification_report(y_test, y_predicted))"
   ]
  },
  {
   "cell_type": "code",
   "execution_count": 36,
   "metadata": {},
   "outputs": [
    {
     "data": {
      "text/html": [
       "<div>\n",
       "<style scoped>\n",
       "    .dataframe tbody tr th:only-of-type {\n",
       "        vertical-align: middle;\n",
       "    }\n",
       "\n",
       "    .dataframe tbody tr th {\n",
       "        vertical-align: top;\n",
       "    }\n",
       "\n",
       "    .dataframe thead th {\n",
       "        text-align: right;\n",
       "    }\n",
       "</style>\n",
       "<table border=\"1\" class=\"dataframe\">\n",
       "  <thead>\n",
       "    <tr style=\"text-align: right;\">\n",
       "      <th>SENTIMENTO_label</th>\n",
       "      <th>0</th>\n",
       "      <th>1</th>\n",
       "      <th>2</th>\n",
       "    </tr>\n",
       "    <tr>\n",
       "      <th>row_0</th>\n",
       "      <th></th>\n",
       "      <th></th>\n",
       "      <th></th>\n",
       "    </tr>\n",
       "  </thead>\n",
       "  <tbody>\n",
       "    <tr>\n",
       "      <th>0</th>\n",
       "      <td>45</td>\n",
       "      <td>9</td>\n",
       "      <td>3</td>\n",
       "    </tr>\n",
       "    <tr>\n",
       "      <th>1</th>\n",
       "      <td>10</td>\n",
       "      <td>35</td>\n",
       "      <td>6</td>\n",
       "    </tr>\n",
       "    <tr>\n",
       "      <th>2</th>\n",
       "      <td>3</td>\n",
       "      <td>3</td>\n",
       "      <td>15</td>\n",
       "    </tr>\n",
       "  </tbody>\n",
       "</table>\n",
       "</div>"
      ],
      "text/plain": [
       "SENTIMENTO_label   0   1   2\n",
       "row_0                       \n",
       "0                 45   9   3\n",
       "1                 10  35   6\n",
       "2                  3   3  15"
      ]
     },
     "execution_count": 36,
     "metadata": {},
     "output_type": "execute_result"
    }
   ],
   "source": [
    "#INCLUIR PARAMETROS DO MELHOR MODELO\n",
    "clf = xgb.XGBClassifier(objective=\"multi:softprob\", max_depth = 50)\n",
    "#lambda = 1.644,\n",
    "clf = clf.fit(x_train,y_train)\n",
    "\n",
    "y_predicted = clf.predict(x_test)\n",
    "pd.crosstab(y_predicted, y_test)"
   ]
  },
  {
   "cell_type": "code",
   "execution_count": 37,
   "metadata": {},
   "outputs": [
    {
     "name": "stdout",
     "output_type": "stream",
     "text": [
      "              precision    recall  f1-score   support\n",
      "\n",
      "           0       0.79      0.78      0.78        58\n",
      "           1       0.69      0.74      0.71        47\n",
      "           2       0.71      0.62      0.67        24\n",
      "\n",
      "    accuracy                           0.74       129\n",
      "   macro avg       0.73      0.72      0.72       129\n",
      "weighted avg       0.74      0.74      0.74       129\n",
      "\n"
     ]
    }
   ],
   "source": [
    "print(classification_report(y_test, y_predicted))"
   ]
  },
  {
   "cell_type": "code",
   "execution_count": 38,
   "metadata": {},
   "outputs": [
    {
     "data": {
      "text/html": [
       "<div>\n",
       "<style scoped>\n",
       "    .dataframe tbody tr th:only-of-type {\n",
       "        vertical-align: middle;\n",
       "    }\n",
       "\n",
       "    .dataframe tbody tr th {\n",
       "        vertical-align: top;\n",
       "    }\n",
       "\n",
       "    .dataframe thead th {\n",
       "        text-align: right;\n",
       "    }\n",
       "</style>\n",
       "<table border=\"1\" class=\"dataframe\">\n",
       "  <thead>\n",
       "    <tr style=\"text-align: right;\">\n",
       "      <th>SENTIMENTO_label</th>\n",
       "      <th>0</th>\n",
       "      <th>1</th>\n",
       "      <th>2</th>\n",
       "    </tr>\n",
       "    <tr>\n",
       "      <th>row_0</th>\n",
       "      <th></th>\n",
       "      <th></th>\n",
       "      <th></th>\n",
       "    </tr>\n",
       "  </thead>\n",
       "  <tbody>\n",
       "    <tr>\n",
       "      <th>0</th>\n",
       "      <td>45</td>\n",
       "      <td>4</td>\n",
       "      <td>5</td>\n",
       "    </tr>\n",
       "    <tr>\n",
       "      <th>1</th>\n",
       "      <td>12</td>\n",
       "      <td>42</td>\n",
       "      <td>10</td>\n",
       "    </tr>\n",
       "    <tr>\n",
       "      <th>2</th>\n",
       "      <td>1</td>\n",
       "      <td>1</td>\n",
       "      <td>9</td>\n",
       "    </tr>\n",
       "  </tbody>\n",
       "</table>\n",
       "</div>"
      ],
      "text/plain": [
       "SENTIMENTO_label   0   1   2\n",
       "row_0                       \n",
       "0                 45   4   5\n",
       "1                 12  42  10\n",
       "2                  1   1   9"
      ]
     },
     "execution_count": 38,
     "metadata": {},
     "output_type": "execute_result"
    }
   ],
   "source": [
    "from sklearn.neural_network import MLPClassifier\n",
    "\n",
    "vetorizador = TfidfVectorizer()\n",
    "X = vetorizador.fit_transform(exemplo_base['ds_message_tratada'])\n",
    "y = exemplo_base.SENTIMENTO_label\n",
    "\n",
    "x_train, x_test, y_train, y_test = train_test_split(X\n",
    "                                                    , exemplo_base.SENTIMENTO_label\n",
    "                                                    , random_state=42, test_size=0.20)\n",
    "\n",
    "clf = MLPClassifier(solver='lbfgs', alpha=0.0001, hidden_layer_sizes = 100, random_state=1) #alpha=0.0001\n",
    "\n",
    "clf = clf.fit(x_train, y_train)\n",
    "y_predicted = clf.predict(x_test)\n",
    "pd.crosstab(y_predicted, y_test)"
   ]
  },
  {
   "cell_type": "code",
   "execution_count": 39,
   "metadata": {},
   "outputs": [
    {
     "name": "stdout",
     "output_type": "stream",
     "text": [
      "              precision    recall  f1-score   support\n",
      "\n",
      "           0       0.83      0.78      0.80        58\n",
      "           1       0.66      0.89      0.76        47\n",
      "           2       0.82      0.38      0.51        24\n",
      "\n",
      "    accuracy                           0.74       129\n",
      "   macro avg       0.77      0.68      0.69       129\n",
      "weighted avg       0.77      0.74      0.73       129\n",
      "\n"
     ]
    }
   ],
   "source": [
    "print(classification_report(y_test, y_predicted))"
   ]
  },
  {
   "cell_type": "code",
   "execution_count": 42,
   "metadata": {},
   "outputs": [
    {
     "data": {
      "text/html": [
       "<div>\n",
       "<style scoped>\n",
       "    .dataframe tbody tr th:only-of-type {\n",
       "        vertical-align: middle;\n",
       "    }\n",
       "\n",
       "    .dataframe tbody tr th {\n",
       "        vertical-align: top;\n",
       "    }\n",
       "\n",
       "    .dataframe thead th {\n",
       "        text-align: right;\n",
       "    }\n",
       "</style>\n",
       "<table border=\"1\" class=\"dataframe\">\n",
       "  <thead>\n",
       "    <tr style=\"text-align: right;\">\n",
       "      <th>SENTIMENTO_label</th>\n",
       "      <th>0</th>\n",
       "      <th>1</th>\n",
       "      <th>2</th>\n",
       "    </tr>\n",
       "    <tr>\n",
       "      <th>row_0</th>\n",
       "      <th></th>\n",
       "      <th></th>\n",
       "      <th></th>\n",
       "    </tr>\n",
       "  </thead>\n",
       "  <tbody>\n",
       "    <tr>\n",
       "      <th>0</th>\n",
       "      <td>44</td>\n",
       "      <td>4</td>\n",
       "      <td>10</td>\n",
       "    </tr>\n",
       "    <tr>\n",
       "      <th>1</th>\n",
       "      <td>13</td>\n",
       "      <td>41</td>\n",
       "      <td>4</td>\n",
       "    </tr>\n",
       "    <tr>\n",
       "      <th>2</th>\n",
       "      <td>1</td>\n",
       "      <td>2</td>\n",
       "      <td>10</td>\n",
       "    </tr>\n",
       "  </tbody>\n",
       "</table>\n",
       "</div>"
      ],
      "text/plain": [
       "SENTIMENTO_label   0   1   2\n",
       "row_0                       \n",
       "0                 44   4  10\n",
       "1                 13  41   4\n",
       "2                  1   2  10"
      ]
     },
     "execution_count": 42,
     "metadata": {},
     "output_type": "execute_result"
    }
   ],
   "source": [
    "vetorizador = TfidfVectorizer()\n",
    "X = vetorizador.fit_transform(exemplo_base['ds_message_tratada'])\n",
    "y = exemplo_base.SENTIMENTO_label\n",
    "\n",
    "x_train, x_test, y_train, y_test = train_test_split(X\n",
    "                                                    , exemplo_base.SENTIMENTO_label\n",
    "                                                    , random_state=42, test_size=0.20)\n",
    "\n",
    "clf = MLPClassifier(solver='lbfgs', alpha=0.0001, hidden_layer_sizes = 200, random_state=1) #alpha=0.0001\n",
    "\n",
    "clf = clf.fit(x_train, y_train)\n",
    "y_predicted = clf.predict(x_test)\n",
    "pd.crosstab(y_predicted, y_test)"
   ]
  },
  {
   "cell_type": "code",
   "execution_count": 43,
   "metadata": {},
   "outputs": [
    {
     "name": "stdout",
     "output_type": "stream",
     "text": [
      "              precision    recall  f1-score   support\n",
      "\n",
      "           0       0.76      0.76      0.76        58\n",
      "           1       0.71      0.87      0.78        47\n",
      "           2       0.77      0.42      0.54        24\n",
      "\n",
      "    accuracy                           0.74       129\n",
      "   macro avg       0.74      0.68      0.69       129\n",
      "weighted avg       0.74      0.74      0.73       129\n",
      "\n"
     ]
    }
   ],
   "source": [
    "print(classification_report(y_test, y_predicted))"
   ]
  },
  {
   "cell_type": "code",
   "execution_count": 44,
   "metadata": {},
   "outputs": [
    {
     "data": {
      "text/html": [
       "<div>\n",
       "<style scoped>\n",
       "    .dataframe tbody tr th:only-of-type {\n",
       "        vertical-align: middle;\n",
       "    }\n",
       "\n",
       "    .dataframe tbody tr th {\n",
       "        vertical-align: top;\n",
       "    }\n",
       "\n",
       "    .dataframe thead th {\n",
       "        text-align: right;\n",
       "    }\n",
       "</style>\n",
       "<table border=\"1\" class=\"dataframe\">\n",
       "  <thead>\n",
       "    <tr style=\"text-align: right;\">\n",
       "      <th>SENTIMENTO_label</th>\n",
       "      <th>0</th>\n",
       "      <th>1</th>\n",
       "      <th>2</th>\n",
       "    </tr>\n",
       "    <tr>\n",
       "      <th>row_0</th>\n",
       "      <th></th>\n",
       "      <th></th>\n",
       "      <th></th>\n",
       "    </tr>\n",
       "  </thead>\n",
       "  <tbody>\n",
       "    <tr>\n",
       "      <th>0</th>\n",
       "      <td>42</td>\n",
       "      <td>4</td>\n",
       "      <td>7</td>\n",
       "    </tr>\n",
       "    <tr>\n",
       "      <th>1</th>\n",
       "      <td>14</td>\n",
       "      <td>40</td>\n",
       "      <td>5</td>\n",
       "    </tr>\n",
       "    <tr>\n",
       "      <th>2</th>\n",
       "      <td>2</td>\n",
       "      <td>3</td>\n",
       "      <td>12</td>\n",
       "    </tr>\n",
       "  </tbody>\n",
       "</table>\n",
       "</div>"
      ],
      "text/plain": [
       "SENTIMENTO_label   0   1   2\n",
       "row_0                       \n",
       "0                 42   4   7\n",
       "1                 14  40   5\n",
       "2                  2   3  12"
      ]
     },
     "execution_count": 44,
     "metadata": {},
     "output_type": "execute_result"
    }
   ],
   "source": [
    "vetorizador = TfidfVectorizer()\n",
    "X = vetorizador.fit_transform(exemplo_base['ds_message_tratada'])\n",
    "y = exemplo_base.SENTIMENTO_label\n",
    "\n",
    "x_train, x_test, y_train, y_test = train_test_split(X\n",
    "                                                    , exemplo_base.SENTIMENTO_label\n",
    "                                                    , random_state=42, test_size=0.20)\n",
    "\n",
    "clf = MLPClassifier(solver='lbfgs', alpha=0.0001, hidden_layer_sizes = 50, random_state=1) #alpha=0.0001\n",
    "\n",
    "clf = clf.fit(x_train, y_train)\n",
    "y_predicted = clf.predict(x_test)\n",
    "pd.crosstab(y_predicted, y_test)"
   ]
  },
  {
   "cell_type": "code",
   "execution_count": 45,
   "metadata": {},
   "outputs": [
    {
     "name": "stdout",
     "output_type": "stream",
     "text": [
      "              precision    recall  f1-score   support\n",
      "\n",
      "           0       0.79      0.72      0.76        58\n",
      "           1       0.68      0.85      0.75        47\n",
      "           2       0.71      0.50      0.59        24\n",
      "\n",
      "    accuracy                           0.73       129\n",
      "   macro avg       0.73      0.69      0.70       129\n",
      "weighted avg       0.73      0.73      0.72       129\n",
      "\n"
     ]
    }
   ],
   "source": [
    "print(classification_report(y_test, y_predicted))"
   ]
  },
  {
   "cell_type": "markdown",
   "metadata": {},
   "source": [
    "- Combinar MLP com 100 hl + XGBoost com max_depth = 30 + score Leya"
   ]
  },
  {
   "cell_type": "markdown",
   "metadata": {},
   "source": [
    "## Início Stacking"
   ]
  },
  {
   "cell_type": "code",
   "execution_count": 46,
   "metadata": {},
   "outputs": [],
   "source": [
    "mlp = MLPClassifier(solver='lbfgs', alpha=0.0001, hidden_layer_sizes = 100, random_state=1) #alpha=0.0001\n",
    "mlp = mlp.fit(x_train, y_train)\n",
    "tree = xgb.XGBClassifier(objective=\"multi:softprob\", max_depth = 30)\n",
    "tree = tree.fit(x_train, y_train)\n"
   ]
  },
  {
   "cell_type": "code",
   "execution_count": 54,
   "metadata": {},
   "outputs": [],
   "source": [
    "x_test2_pr_mlp_0 = mlp.predict_proba(x_test)[:, 0]\n",
    "x_test2_pr_mlp_1 = mlp.predict_proba(x_test)[:, 1]\n",
    "x_test2_pr_mlp_2 = mlp.predict_proba(x_test)[:, 2]\n",
    "\n",
    "x_test2_pr_tree_0 = tree.predict_proba(x_test)[:, 0]\n",
    "x_test2_pr_tree_1 = tree.predict_proba(x_test)[:, 1]\n",
    "x_test2_pr_tree_2 = tree.predict_proba(x_test)[:, 2]\n"
   ]
  },
  {
   "cell_type": "code",
   "execution_count": 56,
   "metadata": {},
   "outputs": [],
   "source": [
    "x_test2 = pd.DataFrame()\n",
    "\n",
    "x_test2['prob_mlp_0'] = x_test2_pr_mlp_0\n",
    "x_test2['prob_mlp_1'] = x_test2_pr_mlp_1\n",
    "x_test2['prob_mlp_2'] = x_test2_pr_mlp_2\n",
    "\n",
    "x_test2['prob_tree_0'] = x_test2_pr_tree_0\n",
    "x_test2['prob_tree_1'] = x_test2_pr_tree_1\n",
    "x_test2['prob_tree_2'] = x_test2_pr_tree_2"
   ]
  },
  {
   "cell_type": "code",
   "execution_count": 61,
   "metadata": {},
   "outputs": [],
   "source": [
    "x_test2 = x_test2.join(exemplo_base[['n_palavras_t', 'sentiment']])"
   ]
  },
  {
   "cell_type": "code",
   "execution_count": 65,
   "metadata": {},
   "outputs": [],
   "source": [
    "x_test2['n_palavras_t'] = x_test2.n_palavras_t.fillna(0.0)\n",
    "x_test2['sentiment'] = x_test2.sentiment.fillna(0.0)"
   ]
  },
  {
   "cell_type": "code",
   "execution_count": 67,
   "metadata": {},
   "outputs": [
    {
     "data": {
      "text/html": [
       "<div>\n",
       "<style scoped>\n",
       "    .dataframe tbody tr th:only-of-type {\n",
       "        vertical-align: middle;\n",
       "    }\n",
       "\n",
       "    .dataframe tbody tr th {\n",
       "        vertical-align: top;\n",
       "    }\n",
       "\n",
       "    .dataframe thead th {\n",
       "        text-align: right;\n",
       "    }\n",
       "</style>\n",
       "<table border=\"1\" class=\"dataframe\">\n",
       "  <thead>\n",
       "    <tr style=\"text-align: right;\">\n",
       "      <th></th>\n",
       "      <th>prob_mlp_0</th>\n",
       "      <th>prob_mlp_1</th>\n",
       "      <th>prob_mlp_2</th>\n",
       "      <th>prob_tree_0</th>\n",
       "      <th>prob_tree_1</th>\n",
       "      <th>prob_tree_2</th>\n",
       "      <th>n_palavras_t</th>\n",
       "      <th>sentiment</th>\n",
       "    </tr>\n",
       "  </thead>\n",
       "  <tbody>\n",
       "    <tr>\n",
       "      <th>124</th>\n",
       "      <td>1.055059e-06</td>\n",
       "      <td>9.999989e-01</td>\n",
       "      <td>2.698293e-15</td>\n",
       "      <td>0.686580</td>\n",
       "      <td>0.309524</td>\n",
       "      <td>0.003896</td>\n",
       "      <td>0.0</td>\n",
       "      <td>0.0</td>\n",
       "    </tr>\n",
       "    <tr>\n",
       "      <th>125</th>\n",
       "      <td>9.999998e-01</td>\n",
       "      <td>1.881597e-07</td>\n",
       "      <td>6.263854e-27</td>\n",
       "      <td>0.856470</td>\n",
       "      <td>0.139792</td>\n",
       "      <td>0.003738</td>\n",
       "      <td>0.0</td>\n",
       "      <td>0.0</td>\n",
       "    </tr>\n",
       "    <tr>\n",
       "      <th>126</th>\n",
       "      <td>1.414555e-03</td>\n",
       "      <td>9.985854e-01</td>\n",
       "      <td>2.352575e-16</td>\n",
       "      <td>0.011962</td>\n",
       "      <td>0.984616</td>\n",
       "      <td>0.003422</td>\n",
       "      <td>20.0</td>\n",
       "      <td>0.0</td>\n",
       "    </tr>\n",
       "    <tr>\n",
       "      <th>127</th>\n",
       "      <td>5.596574e-26</td>\n",
       "      <td>8.983122e-23</td>\n",
       "      <td>1.000000e+00</td>\n",
       "      <td>0.001050</td>\n",
       "      <td>0.003727</td>\n",
       "      <td>0.995224</td>\n",
       "      <td>0.0</td>\n",
       "      <td>0.0</td>\n",
       "    </tr>\n",
       "    <tr>\n",
       "      <th>128</th>\n",
       "      <td>1.950403e-02</td>\n",
       "      <td>9.804960e-01</td>\n",
       "      <td>2.651671e-14</td>\n",
       "      <td>0.838743</td>\n",
       "      <td>0.156760</td>\n",
       "      <td>0.004497</td>\n",
       "      <td>0.0</td>\n",
       "      <td>0.0</td>\n",
       "    </tr>\n",
       "  </tbody>\n",
       "</table>\n",
       "</div>"
      ],
      "text/plain": [
       "       prob_mlp_0    prob_mlp_1    prob_mlp_2  prob_tree_0  prob_tree_1  \\\n",
       "124  1.055059e-06  9.999989e-01  2.698293e-15     0.686580     0.309524   \n",
       "125  9.999998e-01  1.881597e-07  6.263854e-27     0.856470     0.139792   \n",
       "126  1.414555e-03  9.985854e-01  2.352575e-16     0.011962     0.984616   \n",
       "127  5.596574e-26  8.983122e-23  1.000000e+00     0.001050     0.003727   \n",
       "128  1.950403e-02  9.804960e-01  2.651671e-14     0.838743     0.156760   \n",
       "\n",
       "     prob_tree_2  n_palavras_t  sentiment  \n",
       "124     0.003896           0.0        0.0  \n",
       "125     0.003738           0.0        0.0  \n",
       "126     0.003422          20.0        0.0  \n",
       "127     0.995224           0.0        0.0  \n",
       "128     0.004497           0.0        0.0  "
      ]
     },
     "execution_count": 67,
     "metadata": {},
     "output_type": "execute_result"
    }
   ],
   "source": [
    "x_test2.tail(5)"
   ]
  },
  {
   "cell_type": "code",
   "execution_count": 68,
   "metadata": {},
   "outputs": [
    {
     "data": {
      "text/html": [
       "<div>\n",
       "<style scoped>\n",
       "    .dataframe tbody tr th:only-of-type {\n",
       "        vertical-align: middle;\n",
       "    }\n",
       "\n",
       "    .dataframe tbody tr th {\n",
       "        vertical-align: top;\n",
       "    }\n",
       "\n",
       "    .dataframe thead th {\n",
       "        text-align: right;\n",
       "    }\n",
       "</style>\n",
       "<table border=\"1\" class=\"dataframe\">\n",
       "  <thead>\n",
       "    <tr style=\"text-align: right;\">\n",
       "      <th></th>\n",
       "      <th>prob_mlp_0</th>\n",
       "      <th>prob_mlp_1</th>\n",
       "      <th>prob_mlp_2</th>\n",
       "      <th>prob_tree_0</th>\n",
       "      <th>prob_tree_1</th>\n",
       "      <th>prob_tree_2</th>\n",
       "      <th>n_palavras_t</th>\n",
       "      <th>sentiment</th>\n",
       "    </tr>\n",
       "  </thead>\n",
       "  <tbody>\n",
       "    <tr>\n",
       "      <th>0</th>\n",
       "      <td>1.000000e+00</td>\n",
       "      <td>3.225956e-17</td>\n",
       "      <td>1.970928e-40</td>\n",
       "      <td>0.996199</td>\n",
       "      <td>0.000344</td>\n",
       "      <td>0.003457</td>\n",
       "      <td>6.0</td>\n",
       "      <td>0.0000</td>\n",
       "    </tr>\n",
       "    <tr>\n",
       "      <th>1</th>\n",
       "      <td>4.292899e-04</td>\n",
       "      <td>9.995707e-01</td>\n",
       "      <td>5.947390e-14</td>\n",
       "      <td>0.012131</td>\n",
       "      <td>0.987070</td>\n",
       "      <td>0.000799</td>\n",
       "      <td>20.0</td>\n",
       "      <td>-0.4215</td>\n",
       "    </tr>\n",
       "    <tr>\n",
       "      <th>2</th>\n",
       "      <td>5.628713e-11</td>\n",
       "      <td>1.000000e+00</td>\n",
       "      <td>5.789175e-22</td>\n",
       "      <td>0.003332</td>\n",
       "      <td>0.994056</td>\n",
       "      <td>0.002612</td>\n",
       "      <td>11.0</td>\n",
       "      <td>-0.2960</td>\n",
       "    </tr>\n",
       "    <tr>\n",
       "      <th>3</th>\n",
       "      <td>1.000000e+00</td>\n",
       "      <td>1.005106e-11</td>\n",
       "      <td>1.440902e-42</td>\n",
       "      <td>0.913423</td>\n",
       "      <td>0.083614</td>\n",
       "      <td>0.002963</td>\n",
       "      <td>20.0</td>\n",
       "      <td>0.3400</td>\n",
       "    </tr>\n",
       "    <tr>\n",
       "      <th>4</th>\n",
       "      <td>2.218729e-12</td>\n",
       "      <td>1.000000e+00</td>\n",
       "      <td>4.727892e-10</td>\n",
       "      <td>0.000515</td>\n",
       "      <td>0.990211</td>\n",
       "      <td>0.009274</td>\n",
       "      <td>20.0</td>\n",
       "      <td>-0.7003</td>\n",
       "    </tr>\n",
       "  </tbody>\n",
       "</table>\n",
       "</div>"
      ],
      "text/plain": [
       "     prob_mlp_0    prob_mlp_1    prob_mlp_2  prob_tree_0  prob_tree_1  \\\n",
       "0  1.000000e+00  3.225956e-17  1.970928e-40     0.996199     0.000344   \n",
       "1  4.292899e-04  9.995707e-01  5.947390e-14     0.012131     0.987070   \n",
       "2  5.628713e-11  1.000000e+00  5.789175e-22     0.003332     0.994056   \n",
       "3  1.000000e+00  1.005106e-11  1.440902e-42     0.913423     0.083614   \n",
       "4  2.218729e-12  1.000000e+00  4.727892e-10     0.000515     0.990211   \n",
       "\n",
       "   prob_tree_2  n_palavras_t  sentiment  \n",
       "0     0.003457           6.0     0.0000  \n",
       "1     0.000799          20.0    -0.4215  \n",
       "2     0.002612          11.0    -0.2960  \n",
       "3     0.002963          20.0     0.3400  \n",
       "4     0.009274          20.0    -0.7003  "
      ]
     },
     "execution_count": 68,
     "metadata": {},
     "output_type": "execute_result"
    }
   ],
   "source": [
    "x_train2_pr_mlp_0 = mlp.predict_proba(x_train)[:, 0]\n",
    "x_train2_pr_mlp_1 = mlp.predict_proba(x_train)[:, 1]\n",
    "x_train2_pr_mlp_2 = mlp.predict_proba(x_train)[:, 2]\n",
    "\n",
    "x_train2_pr_tree_0 = tree.predict_proba(x_train)[:, 0]\n",
    "x_train2_pr_tree_1 = tree.predict_proba(x_train)[:, 1]\n",
    "x_train2_pr_tree_2 = tree.predict_proba(x_train)[:, 2]\n",
    "\n",
    "x_train2 = pd.DataFrame()\n",
    "\n",
    "x_train2['prob_mlp_0'] = x_train2_pr_mlp_0\n",
    "x_train2['prob_mlp_1'] = x_train2_pr_mlp_1\n",
    "x_train2['prob_mlp_2'] = x_train2_pr_mlp_2\n",
    "\n",
    "x_train2['prob_tree_0'] = x_train2_pr_tree_0\n",
    "x_train2['prob_tree_1'] = x_train2_pr_tree_1\n",
    "x_train2['prob_tree_2'] = x_train2_pr_tree_2\n",
    "\n",
    "x_train2 = x_train2.join(exemplo_base[['n_palavras_t', 'sentiment']])\n",
    "\n",
    "x_train2['n_palavras_t'] = x_train2.n_palavras_t.fillna(0.0)\n",
    "x_train2['sentiment'] = x_train2.sentiment.fillna(0.0)\n",
    "\n",
    "x_train2.head(5)"
   ]
  },
  {
   "cell_type": "code",
   "execution_count": 72,
   "metadata": {},
   "outputs": [],
   "source": [
    "clf = xgb.XGBClassifier(objective=\"multi:softprob\", max_depth = 10, random_state = 42)\n",
    "clf = clf.fit(x_train2, y_train)"
   ]
  },
  {
   "cell_type": "code",
   "execution_count": 75,
   "metadata": {},
   "outputs": [
    {
     "data": {
      "text/html": [
       "<div>\n",
       "<style scoped>\n",
       "    .dataframe tbody tr th:only-of-type {\n",
       "        vertical-align: middle;\n",
       "    }\n",
       "\n",
       "    .dataframe tbody tr th {\n",
       "        vertical-align: top;\n",
       "    }\n",
       "\n",
       "    .dataframe thead th {\n",
       "        text-align: right;\n",
       "    }\n",
       "</style>\n",
       "<table border=\"1\" class=\"dataframe\">\n",
       "  <thead>\n",
       "    <tr style=\"text-align: right;\">\n",
       "      <th>SENTIMENTO_label</th>\n",
       "      <th>0</th>\n",
       "      <th>1</th>\n",
       "      <th>2</th>\n",
       "    </tr>\n",
       "    <tr>\n",
       "      <th>row_0</th>\n",
       "      <th></th>\n",
       "      <th></th>\n",
       "      <th></th>\n",
       "    </tr>\n",
       "  </thead>\n",
       "  <tbody>\n",
       "    <tr>\n",
       "      <th>0</th>\n",
       "      <td>45</td>\n",
       "      <td>4</td>\n",
       "      <td>5</td>\n",
       "    </tr>\n",
       "    <tr>\n",
       "      <th>1</th>\n",
       "      <td>12</td>\n",
       "      <td>42</td>\n",
       "      <td>10</td>\n",
       "    </tr>\n",
       "    <tr>\n",
       "      <th>2</th>\n",
       "      <td>1</td>\n",
       "      <td>1</td>\n",
       "      <td>9</td>\n",
       "    </tr>\n",
       "  </tbody>\n",
       "</table>\n",
       "</div>"
      ],
      "text/plain": [
       "SENTIMENTO_label   0   1   2\n",
       "row_0                       \n",
       "0                 45   4   5\n",
       "1                 12  42  10\n",
       "2                  1   1   9"
      ]
     },
     "execution_count": 75,
     "metadata": {},
     "output_type": "execute_result"
    }
   ],
   "source": [
    "y_predicted = []\n",
    "y_predicted = clf.predict(x_test2)\n",
    "pd.crosstab(y_predicted, y_test)"
   ]
  },
  {
   "cell_type": "code",
   "execution_count": 76,
   "metadata": {},
   "outputs": [
    {
     "name": "stdout",
     "output_type": "stream",
     "text": [
      "              precision    recall  f1-score   support\n",
      "\n",
      "           0       0.83      0.78      0.80        58\n",
      "           1       0.66      0.89      0.76        47\n",
      "           2       0.82      0.38      0.51        24\n",
      "\n",
      "    accuracy                           0.74       129\n",
      "   macro avg       0.77      0.68      0.69       129\n",
      "weighted avg       0.77      0.74      0.73       129\n",
      "\n"
     ]
    }
   ],
   "source": [
    "print(classification_report(y_test, y_predicted))"
   ]
  }
 ],
 "metadata": {
  "kernelspec": {
   "display_name": "Python 3",
   "language": "python",
   "name": "python3"
  },
  "language_info": {
   "codemirror_mode": {
    "name": "ipython",
    "version": 3
   },
   "file_extension": ".py",
   "mimetype": "text/x-python",
   "name": "python",
   "nbconvert_exporter": "python",
   "pygments_lexer": "ipython3",
   "version": "3.8.10"
  },
  "orig_nbformat": 4
 },
 "nbformat": 4,
 "nbformat_minor": 2
}
