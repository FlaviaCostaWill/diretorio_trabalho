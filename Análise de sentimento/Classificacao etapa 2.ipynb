{
 "cells": [
  {
   "cell_type": "code",
   "execution_count": 1,
   "metadata": {},
   "outputs": [
    {
     "name": "stderr",
     "output_type": "stream",
     "text": [
      "2023-09-18 15:14:21.753400: I tensorflow/tsl/cuda/cudart_stub.cc:28] Could not find cuda drivers on your machine, GPU will not be used.\n",
      "2023-09-18 15:14:22.070955: I tensorflow/tsl/cuda/cudart_stub.cc:28] Could not find cuda drivers on your machine, GPU will not be used.\n",
      "2023-09-18 15:14:22.073220: I tensorflow/core/platform/cpu_feature_guard.cc:182] This TensorFlow binary is optimized to use available CPU instructions in performance-critical operations.\n",
      "To enable the following instructions: AVX2 FMA, in other operations, rebuild TensorFlow with the appropriate compiler flags.\n",
      "2023-09-18 15:14:23.645041: W tensorflow/compiler/tf2tensorrt/utils/py_utils.cc:38] TF-TRT Warning: Could not find TensorRT\n"
     ]
    }
   ],
   "source": [
    "import pandas as pd\n",
    "import numpy as np\n",
    "import os as os\n",
    "import pickle\n",
    "import seaborn as sns\n",
    "import matplotlib.pyplot as plt\n",
    "from wordcloud import WordCloud, STOPWORDS, ImageColorGenerator\n",
    "from nltk.util import ngrams\n",
    "import nltk\n",
    "from arabica import arabica_freq\n",
    "from unidecode import unidecode\n",
    "import re\n",
    "import plotly.express as px\n",
    "import texthero as hero\n",
    "from sklearn.cluster import KMeans\n",
    "from sklearn.feature_extraction.text import CountVectorizer\n",
    "from sklearn.feature_extraction.text import TfidfVectorizer\n",
    "from sklearn.decomposition import LatentDirichletAllocation\n",
    "from sklearn.decomposition import NMF\n",
    "from sklearn.decomposition import TruncatedSVD\n",
    "import nltk\n",
    "from nltk.sentiment.vader import SentimentIntensityAnalyzer\n",
    "from sklearn.naive_bayes import BernoulliNB\n",
    "import spacy\n",
    "import re\n",
    "import nlp\n",
    "import warnings\n",
    "import statsmodels.api as sm\n",
    "from statsmodels.formula.api import ols\n",
    "\n",
    "\n",
    "warnings.simplefilter(action='ignore', category=FutureWarning)"
   ]
  },
  {
   "cell_type": "code",
   "execution_count": 2,
   "metadata": {},
   "outputs": [],
   "source": [
    "df = pd.read_csv('sentimento - base2.csv')"
   ]
  },
  {
   "cell_type": "code",
   "execution_count": 3,
   "metadata": {},
   "outputs": [
    {
     "data": {
      "text/html": [
       "<div>\n",
       "<style scoped>\n",
       "    .dataframe tbody tr th:only-of-type {\n",
       "        vertical-align: middle;\n",
       "    }\n",
       "\n",
       "    .dataframe tbody tr th {\n",
       "        vertical-align: top;\n",
       "    }\n",
       "\n",
       "    .dataframe thead th {\n",
       "        text-align: right;\n",
       "    }\n",
       "</style>\n",
       "<table border=\"1\" class=\"dataframe\">\n",
       "  <thead>\n",
       "    <tr style=\"text-align: right;\">\n",
       "      <th></th>\n",
       "      <th>id_issue</th>\n",
       "      <th>mes_chat</th>\n",
       "      <th>SENTIMENTO</th>\n",
       "      <th>TIPO_MSG</th>\n",
       "      <th>hierarquia_4</th>\n",
       "      <th>ds_cluster_sociodemographic</th>\n",
       "      <th>ds_message</th>\n",
       "      <th>flag_negativo_indecx</th>\n",
       "    </tr>\n",
       "  </thead>\n",
       "  <tbody>\n",
       "    <tr>\n",
       "      <th>0</th>\n",
       "      <td>15388962</td>\n",
       "      <td>2023-04-01</td>\n",
       "      <td>neutro</td>\n",
       "      <td>duvida</td>\n",
       "      <td>Vencimento fatura</td>\n",
       "      <td>0 - Mulher, Casada, 25 anos ou mais, cidade Pe...</td>\n",
       "      <td>['Que dia minha fatura fecha?','Ainda tenho dú...</td>\n",
       "      <td>0</td>\n",
       "    </tr>\n",
       "    <tr>\n",
       "      <th>1</th>\n",
       "      <td>17497395</td>\n",
       "      <td>2023-07-01</td>\n",
       "      <td>neutro</td>\n",
       "      <td>duvida</td>\n",
       "      <td>Dúvidas sobre pagamento de fatura</td>\n",
       "      <td>11 - Homem, Solteiro, Até 24 anos, cidade Pequ...</td>\n",
       "      <td>['Quero pagar os 100 reais que eu tirei','Mais...</td>\n",
       "      <td>0</td>\n",
       "    </tr>\n",
       "    <tr>\n",
       "      <th>2</th>\n",
       "      <td>15213047</td>\n",
       "      <td>2023-04-01</td>\n",
       "      <td>neutro</td>\n",
       "      <td>solicitacao</td>\n",
       "      <td>Não reconhecimento de compra no crédito</td>\n",
       "      <td>17 - Mulher, 25 a 40 anos, Sudeste e Sul</td>\n",
       "      <td>['Apareceu uma compra que eu não fiz','Dúvida ...</td>\n",
       "      <td>0</td>\n",
       "    </tr>\n",
       "    <tr>\n",
       "      <th>3</th>\n",
       "      <td>17117301</td>\n",
       "      <td>2023-06-01</td>\n",
       "      <td>neutro</td>\n",
       "      <td>problema</td>\n",
       "      <td>Parcelamento de fatura</td>\n",
       "      <td>8 - Mulher, Solteira, Até 24 anos, cidade Pequ...</td>\n",
       "      <td>['No meu limite está escrito que está utilizad...</td>\n",
       "      <td>0</td>\n",
       "    </tr>\n",
       "    <tr>\n",
       "      <th>4</th>\n",
       "      <td>17345996</td>\n",
       "      <td>2023-07-01</td>\n",
       "      <td>negativo</td>\n",
       "      <td>problema</td>\n",
       "      <td>Dúvidas PIX</td>\n",
       "      <td>10 - Mulher, Solteira, Até 24 anos, cidade Peq...</td>\n",
       "      <td>['Pix','E merda o will nunca teve essas coisas...</td>\n",
       "      <td>0</td>\n",
       "    </tr>\n",
       "  </tbody>\n",
       "</table>\n",
       "</div>"
      ],
      "text/plain": [
       "   id_issue    mes_chat SENTIMENTO     TIPO_MSG  \\\n",
       "0  15388962  2023-04-01     neutro       duvida   \n",
       "1  17497395  2023-07-01     neutro       duvida   \n",
       "2  15213047  2023-04-01     neutro  solicitacao   \n",
       "3  17117301  2023-06-01     neutro     problema   \n",
       "4  17345996  2023-07-01   negativo     problema   \n",
       "\n",
       "                              hierarquia_4  \\\n",
       "0                        Vencimento fatura   \n",
       "1        Dúvidas sobre pagamento de fatura   \n",
       "2  Não reconhecimento de compra no crédito   \n",
       "3                   Parcelamento de fatura   \n",
       "4                              Dúvidas PIX   \n",
       "\n",
       "                         ds_cluster_sociodemographic  \\\n",
       "0  0 - Mulher, Casada, 25 anos ou mais, cidade Pe...   \n",
       "1  11 - Homem, Solteiro, Até 24 anos, cidade Pequ...   \n",
       "2           17 - Mulher, 25 a 40 anos, Sudeste e Sul   \n",
       "3  8 - Mulher, Solteira, Até 24 anos, cidade Pequ...   \n",
       "4  10 - Mulher, Solteira, Até 24 anos, cidade Peq...   \n",
       "\n",
       "                                          ds_message  flag_negativo_indecx  \n",
       "0  ['Que dia minha fatura fecha?','Ainda tenho dú...                     0  \n",
       "1  ['Quero pagar os 100 reais que eu tirei','Mais...                     0  \n",
       "2  ['Apareceu uma compra que eu não fiz','Dúvida ...                     0  \n",
       "3  ['No meu limite está escrito que está utilizad...                     0  \n",
       "4  ['Pix','E merda o will nunca teve essas coisas...                     0  "
      ]
     },
     "execution_count": 3,
     "metadata": {},
     "output_type": "execute_result"
    }
   ],
   "source": [
    "df.head()"
   ]
  },
  {
   "cell_type": "code",
   "execution_count": 4,
   "metadata": {},
   "outputs": [
    {
     "data": {
      "text/plain": [
       "\"['Pix','E merda o will nunca teve essas coisas','Estou precisando fazer o pix e não estou conseguindo','desde ontem','Não dá pra fazer Pix','Mais opções']\""
      ]
     },
     "execution_count": 4,
     "metadata": {},
     "output_type": "execute_result"
    }
   ],
   "source": [
    "df['ds_message'][4]"
   ]
  },
  {
   "cell_type": "code",
   "execution_count": 5,
   "metadata": {},
   "outputs": [],
   "source": [
    "# def classif_emoji(text):\n",
    "#     '''\n",
    "#     Replace emojis with word emoji\n",
    "#     '''\n",
    "#     regrex_pattern = re.compile(pattern=\"[\"\n",
    "#                                 u\"\\U0001F600-\\U0001F64F\"  # emoticons\n",
    "#                                 u\"\\U0001F300-\\U0001F5FF\"  # symbols & pictographs\n",
    "#                                 u\"\\U0001F680-\\U0001F6FF\"  # transport & map symbols\n",
    "#                                 u\"\\U0001F1E0-\\U0001F1FF\"  # flags (iOS)\n",
    "#                                 \"]+\", flags=re.UNICODE)\n",
    "#     return regrex_pattern.sub(r'emoji ', str(text))\n",
    "\n",
    "def clean_text(x):\n",
    "    x = unidecode(x)\n",
    "    x = x.strip()\n",
    "    x = x.lower()\n",
    "    x = re.sub(r'\\t', ' ', x)\n",
    "    x = re.sub(r'http\\S+', '', x)  # remove url\n",
    "    x = re.sub(r'screenshot sent', 'screenshotsent', x)\n",
    "    x = re.sub(r'will bank', 'willbank', x)\n",
    "    x = re.sub(r'(nbsp\\;|[rl]dquo\\;|quot\\;|acute\\;|tilde\\;|circ\\;|grave\\;|cedil\\;|\\&|\\/)', '', x)  # replace special characters\n",
    "    \n",
    "    x = x.replace('&ccedil;','ç')\n",
    "    x = x.replace('&atilde;;','ã')\n",
    "    x = x.replace('&otilde;;','õ')\n",
    "    x = re.sub(r'(\\d{1,}|\\!|\\?|\\,|\\.|\\\\n|\\:|\\;|\\`|\\´|\\-|\\_)', ' ', x)  # replace punctuation and remove numbers\n",
    "    x = x.replace('  ',' ')\n",
    "    x = x.replace('\\n','')\n",
    "    x = x.strip()\n",
    "    return x\n"
   ]
  },
  {
   "cell_type": "code",
   "execution_count": 6,
   "metadata": {},
   "outputs": [
    {
     "data": {
      "text/plain": [
       "14906"
      ]
     },
     "execution_count": 6,
     "metadata": {},
     "output_type": "execute_result"
    }
   ],
   "source": [
    "len(df)"
   ]
  },
  {
   "cell_type": "code",
   "execution_count": 7,
   "metadata": {},
   "outputs": [],
   "source": [
    "# não vou remover emojis\n",
    "df['ds_message_tratada'] = df['ds_message'].apply(clean_text)"
   ]
  },
  {
   "cell_type": "code",
   "execution_count": 8,
   "metadata": {},
   "outputs": [
    {
     "data": {
      "text/plain": [
       "\"['pix' 'e merda o will nunca teve essas coisas' 'estou precisando fazer o pix e nao estou conseguindo' 'desde ontem' 'nao da pra fazer pix' 'mais opcoes']\""
      ]
     },
     "execution_count": 8,
     "metadata": {},
     "output_type": "execute_result"
    }
   ],
   "source": [
    "df['ds_message_tratada'][4]"
   ]
  },
  {
   "cell_type": "code",
   "execution_count": 9,
   "metadata": {},
   "outputs": [],
   "source": [
    "df['n_palavras'] = df['ds_message_tratada'].str.count(' ')"
   ]
  },
  {
   "cell_type": "code",
   "execution_count": 15,
   "metadata": {},
   "outputs": [],
   "source": [
    "df['n_palavras_t'] = np.where(df.n_palavras >= 20, 20, df.n_palavras)"
   ]
  },
  {
   "cell_type": "code",
   "execution_count": 16,
   "metadata": {},
   "outputs": [
    {
     "data": {
      "text/plain": [
       "20    9338\n",
       "9      417\n",
       "13     386\n",
       "17     377\n",
       "12     360\n",
       "14     358\n",
       "19     350\n",
       "6      349\n",
       "15     341\n",
       "16     334\n",
       "11     328\n",
       "18     318\n",
       "10     300\n",
       "8      297\n",
       "5      283\n",
       "7      269\n",
       "4      184\n",
       "2      106\n",
       "3       93\n",
       "1       69\n",
       "0       49\n",
       "Name: n_palavras_t, dtype: int64"
      ]
     },
     "execution_count": 16,
     "metadata": {},
     "output_type": "execute_result"
    }
   ],
   "source": [
    "df.n_palavras_t.value_counts()"
   ]
  },
  {
   "cell_type": "code",
   "execution_count": 17,
   "metadata": {},
   "outputs": [
    {
     "data": {
      "text/html": [
       "<div>\n",
       "<style scoped>\n",
       "    .dataframe tbody tr th:only-of-type {\n",
       "        vertical-align: middle;\n",
       "    }\n",
       "\n",
       "    .dataframe tbody tr th {\n",
       "        vertical-align: top;\n",
       "    }\n",
       "\n",
       "    .dataframe thead th {\n",
       "        text-align: right;\n",
       "    }\n",
       "</style>\n",
       "<table border=\"1\" class=\"dataframe\">\n",
       "  <thead>\n",
       "    <tr style=\"text-align: right;\">\n",
       "      <th>SENTIMENTO</th>\n",
       "      <th>negativo</th>\n",
       "      <th>neutro</th>\n",
       "      <th>positivo</th>\n",
       "    </tr>\n",
       "    <tr>\n",
       "      <th>n_palavras_t</th>\n",
       "      <th></th>\n",
       "      <th></th>\n",
       "      <th></th>\n",
       "    </tr>\n",
       "  </thead>\n",
       "  <tbody>\n",
       "    <tr>\n",
       "      <th>4</th>\n",
       "      <td>1</td>\n",
       "      <td>1</td>\n",
       "      <td>0</td>\n",
       "    </tr>\n",
       "    <tr>\n",
       "      <th>5</th>\n",
       "      <td>0</td>\n",
       "      <td>3</td>\n",
       "      <td>1</td>\n",
       "    </tr>\n",
       "    <tr>\n",
       "      <th>6</th>\n",
       "      <td>0</td>\n",
       "      <td>7</td>\n",
       "      <td>0</td>\n",
       "    </tr>\n",
       "    <tr>\n",
       "      <th>7</th>\n",
       "      <td>0</td>\n",
       "      <td>4</td>\n",
       "      <td>0</td>\n",
       "    </tr>\n",
       "    <tr>\n",
       "      <th>8</th>\n",
       "      <td>0</td>\n",
       "      <td>4</td>\n",
       "      <td>0</td>\n",
       "    </tr>\n",
       "    <tr>\n",
       "      <th>9</th>\n",
       "      <td>0</td>\n",
       "      <td>7</td>\n",
       "      <td>0</td>\n",
       "    </tr>\n",
       "    <tr>\n",
       "      <th>10</th>\n",
       "      <td>0</td>\n",
       "      <td>1</td>\n",
       "      <td>1</td>\n",
       "    </tr>\n",
       "    <tr>\n",
       "      <th>11</th>\n",
       "      <td>1</td>\n",
       "      <td>6</td>\n",
       "      <td>0</td>\n",
       "    </tr>\n",
       "    <tr>\n",
       "      <th>12</th>\n",
       "      <td>1</td>\n",
       "      <td>4</td>\n",
       "      <td>0</td>\n",
       "    </tr>\n",
       "    <tr>\n",
       "      <th>13</th>\n",
       "      <td>1</td>\n",
       "      <td>6</td>\n",
       "      <td>1</td>\n",
       "    </tr>\n",
       "    <tr>\n",
       "      <th>14</th>\n",
       "      <td>4</td>\n",
       "      <td>5</td>\n",
       "      <td>1</td>\n",
       "    </tr>\n",
       "    <tr>\n",
       "      <th>15</th>\n",
       "      <td>3</td>\n",
       "      <td>3</td>\n",
       "      <td>3</td>\n",
       "    </tr>\n",
       "    <tr>\n",
       "      <th>16</th>\n",
       "      <td>2</td>\n",
       "      <td>5</td>\n",
       "      <td>0</td>\n",
       "    </tr>\n",
       "    <tr>\n",
       "      <th>17</th>\n",
       "      <td>2</td>\n",
       "      <td>2</td>\n",
       "      <td>1</td>\n",
       "    </tr>\n",
       "    <tr>\n",
       "      <th>18</th>\n",
       "      <td>2</td>\n",
       "      <td>1</td>\n",
       "      <td>3</td>\n",
       "    </tr>\n",
       "    <tr>\n",
       "      <th>19</th>\n",
       "      <td>0</td>\n",
       "      <td>8</td>\n",
       "      <td>2</td>\n",
       "    </tr>\n",
       "    <tr>\n",
       "      <th>20</th>\n",
       "      <td>211</td>\n",
       "      <td>117</td>\n",
       "      <td>87</td>\n",
       "    </tr>\n",
       "  </tbody>\n",
       "</table>\n",
       "</div>"
      ],
      "text/plain": [
       "SENTIMENTO    negativo  neutro  positivo\n",
       "n_palavras_t                            \n",
       "4                    1       1         0\n",
       "5                    0       3         1\n",
       "6                    0       7         0\n",
       "7                    0       4         0\n",
       "8                    0       4         0\n",
       "9                    0       7         0\n",
       "10                   0       1         1\n",
       "11                   1       6         0\n",
       "12                   1       4         0\n",
       "13                   1       6         1\n",
       "14                   4       5         1\n",
       "15                   3       3         3\n",
       "16                   2       5         0\n",
       "17                   2       2         1\n",
       "18                   2       1         3\n",
       "19                   0       8         2\n",
       "20                 211     117        87"
      ]
     },
     "execution_count": 17,
     "metadata": {},
     "output_type": "execute_result"
    }
   ],
   "source": [
    "pd.crosstab(df.n_palavras_t, df.SENTIMENTO)"
   ]
  },
  {
   "cell_type": "code",
   "execution_count": 30,
   "metadata": {},
   "outputs": [
    {
     "data": {
      "text/plain": [
       "512"
      ]
     },
     "execution_count": 30,
     "metadata": {},
     "output_type": "execute_result"
    }
   ],
   "source": [
    "exemplo_base = df[df['SENTIMENTO'].notnull()]\n",
    "len(exemplo_base)"
   ]
  },
  {
   "cell_type": "code",
   "execution_count": 19,
   "metadata": {},
   "outputs": [],
   "source": [
    "stopwords_will= ['da', 'em', 'você', 'de', 'ao', 'os', 'que', 'e', 'eu', 'o', 'estou', 'ele','ela','pra', 'pro', 'entao', 'para', 'voce',\n",
    "                 'pra', 'tá', 'né', 'ah', 'aí', 'dá', 'ó', 'mim', 'então', 'aqui', 'tô', 'pro',\n",
    "            'seu', 'sua', 'por', 'sobre', 'mais', 'uma', 'um','como', 'meu', 'com', 'outro','outra','das','dos','foi', 'fiz','pelo','tem','mas',\n",
    "            'este', 'esse','ta', 'to', 'ai', 'la', 'lo', 'lhe', 'ne','pra', 'tá', 'né', 'ah', 'aí', 'dá', 'ó', 'mim', 'então', 'aqui', 'tô', 'pro', 'isso']"
   ]
  },
  {
   "cell_type": "code",
   "execution_count": 31,
   "metadata": {},
   "outputs": [
    {
     "name": "stderr",
     "output_type": "stream",
     "text": [
      "/tmp/ipykernel_312769/3812937011.py:5: SettingWithCopyWarning: \n",
      "A value is trying to be set on a copy of a slice from a DataFrame.\n",
      "Try using .loc[row_indexer,col_indexer] = value instead\n",
      "\n",
      "See the caveats in the documentation: https://pandas.pydata.org/pandas-docs/stable/user_guide/indexing.html#returning-a-view-versus-a-copy\n"
     ]
    }
   ],
   "source": [
    "#exemplo_base['ds_message'] = exemplo_base['ds_message'].fillna(\"\").apply(lambda x: ' '.join([word for word in x.split() if word not in stopwords_will]))\n",
    "## retirando sinais de pontuação\n",
    "#exemplo_base['ds_message'] = exemplo_base['ds_message'].str.replace('[^\\w\\s]','')\n",
    "## colocando todas as letras das mensagens em letras minúsculas\n",
    "exemplo_base['ds_message'] = exemplo_base['ds_message'].str.lower() \n",
    "\n",
    "## Análise de sentimento\n",
    "vetorizador = CountVectorizer()\n",
    "\n",
    "X = vetorizador.fit_transform(exemplo_base['ds_message'])\n",
    "\n",
    "#X = np.append(X, exemplo_base['n_palavras'])\n",
    "\n",
    "\n",
    "y = exemplo_base.SENTIMENTO\n",
    "\n",
    "clf = BernoulliNB()\n",
    "clf = clf.fit(X,y)\n",
    "\n",
    "def sentimentos(df, ds_message_tratada):\n",
    "    df['sentimento_predict'] = clf.predict(vetorizador.transform(df[ds_message_tratada].fillna('')))\n",
    "    return df"
   ]
  },
  {
   "cell_type": "code",
   "execution_count": 32,
   "metadata": {},
   "outputs": [
    {
     "name": "stderr",
     "output_type": "stream",
     "text": [
      "/tmp/ipykernel_312769/3812937011.py:21: SettingWithCopyWarning: \n",
      "A value is trying to be set on a copy of a slice from a DataFrame.\n",
      "Try using .loc[row_indexer,col_indexer] = value instead\n",
      "\n",
      "See the caveats in the documentation: https://pandas.pydata.org/pandas-docs/stable/user_guide/indexing.html#returning-a-view-versus-a-copy\n"
     ]
    }
   ],
   "source": [
    "exemplo_base = sentimentos(exemplo_base, 'ds_message')"
   ]
  },
  {
   "cell_type": "code",
   "execution_count": 33,
   "metadata": {},
   "outputs": [
    {
     "data": {
      "text/plain": [
       "neutro      316\n",
       "negativo    158\n",
       "positivo     38\n",
       "Name: sentimento_predict, dtype: int64"
      ]
     },
     "execution_count": 33,
     "metadata": {},
     "output_type": "execute_result"
    }
   ],
   "source": [
    "exemplo_base.sentimento_predict.value_counts()"
   ]
  },
  {
   "cell_type": "code",
   "execution_count": 34,
   "metadata": {},
   "outputs": [
    {
     "data": {
      "text/html": [
       "<div>\n",
       "<style scoped>\n",
       "    .dataframe tbody tr th:only-of-type {\n",
       "        vertical-align: middle;\n",
       "    }\n",
       "\n",
       "    .dataframe tbody tr th {\n",
       "        vertical-align: top;\n",
       "    }\n",
       "\n",
       "    .dataframe thead th {\n",
       "        text-align: right;\n",
       "    }\n",
       "</style>\n",
       "<table border=\"1\" class=\"dataframe\">\n",
       "  <thead>\n",
       "    <tr style=\"text-align: right;\">\n",
       "      <th>SENTIMENTO</th>\n",
       "      <th>negativo</th>\n",
       "      <th>neutro</th>\n",
       "      <th>positivo</th>\n",
       "    </tr>\n",
       "    <tr>\n",
       "      <th>sentimento_predict</th>\n",
       "      <th></th>\n",
       "      <th></th>\n",
       "      <th></th>\n",
       "    </tr>\n",
       "  </thead>\n",
       "  <tbody>\n",
       "    <tr>\n",
       "      <th>negativo</th>\n",
       "      <td>149</td>\n",
       "      <td>6</td>\n",
       "      <td>3</td>\n",
       "    </tr>\n",
       "    <tr>\n",
       "      <th>neutro</th>\n",
       "      <td>79</td>\n",
       "      <td>177</td>\n",
       "      <td>60</td>\n",
       "    </tr>\n",
       "    <tr>\n",
       "      <th>positivo</th>\n",
       "      <td>0</td>\n",
       "      <td>1</td>\n",
       "      <td>37</td>\n",
       "    </tr>\n",
       "  </tbody>\n",
       "</table>\n",
       "</div>"
      ],
      "text/plain": [
       "SENTIMENTO          negativo  neutro  positivo\n",
       "sentimento_predict                            \n",
       "negativo                 149       6         3\n",
       "neutro                    79     177        60\n",
       "positivo                   0       1        37"
      ]
     },
     "execution_count": 34,
     "metadata": {},
     "output_type": "execute_result"
    }
   ],
   "source": [
    "pd.crosstab(exemplo_base.sentimento_predict, exemplo_base.SENTIMENTO)"
   ]
  },
  {
   "cell_type": "code",
   "execution_count": 35,
   "metadata": {},
   "outputs": [
    {
     "name": "stdout",
     "output_type": "stream",
     "text": [
      "['pix','e merda o will nunca teve essas coisas','estou precisando fazer o pix e não estou conseguindo','desde ontem','não dá pra fazer pix','mais opções']\n",
      "['já passou do prazo e não recebi','que possa me atende?','tem alguém ai','pra me atender?','alguém ai?']\n",
      "['falar de outra coisa','quero saber por que não entrou ainda o reembolso da shen.']\n",
      "['quanto tempo pro estorno cair','estorno na fatura','problema com compra','fatura do cartão','esse tempo já passou','tô tentando manda o print só q ñ da certo','mostrar o exemplo']\n",
      "['pix','todo dia da problema nesse aplicativo deus e mais','falar de outra coisa','não dá pra fazer pix']\n",
      "['mudar endereço de entrega','responder mensagem de antes','tá em processo se entrega e nunca chega','falar de outra coisa','falta de respeito com o cliente','esse atendimento de vcs e péssimo']\n",
      "['tá ok vou aguardar','cancelar essa conta pois tive meu limite bloqueado por falta de pagamento','já paguei minha dívida mais não liberaram mais o crédito por isso quero cancelar a conta e o cartão','falar de outra coisa']\n",
      "['falar de outra coisa','cartão físico','no momento não','obrigado!!!','já faz mais de 5 dias','que diz que o cartão tá em produção','quero saber o que tá acontecendo!!']\n",
      "['quero pagar a fatura','é outro erro de pagamento','eu depositei o dinheiro e não consigo pagar a fatura','vai demorar?']\n",
      "['.','ajuda','oi','ainda tá aí?','na verdade eu já tinha solicitado','só que até hoje não chegou','já pedi minha 2ª via','eu perdi a outra','já passou do prazo e não recebi','olá','nova via do cartão','pelo correio?','não recebi o link de acompanhamento da entrega']\n"
     ]
    }
   ],
   "source": [
    "for i in exemplo_base.query('sentimento_predict == \"neutro\" & SENTIMENTO == \"negativo\"').head(10)['ds_message']:\n",
    "    print(i)"
   ]
  },
  {
   "cell_type": "code",
   "execution_count": 36,
   "metadata": {},
   "outputs": [
    {
     "name": "stderr",
     "output_type": "stream",
     "text": [
      "/tmp/ipykernel_312769/3680250037.py:9: SettingWithCopyWarning: \n",
      "A value is trying to be set on a copy of a slice from a DataFrame.\n",
      "Try using .loc[row_indexer,col_indexer] = value instead\n",
      "\n",
      "See the caveats in the documentation: https://pandas.pydata.org/pandas-docs/stable/user_guide/indexing.html#returning-a-view-versus-a-copy\n"
     ]
    }
   ],
   "source": [
    "#Modelo de duvida, problema ou solicitacao\n",
    "\n",
    "y = exemplo_base.TIPO_MSG\n",
    "\n",
    "clf2 = BernoulliNB()\n",
    "clf2 = clf2.fit(X,y)\n",
    "\n",
    "def tipo_msg(df, ds_message_tratada):\n",
    "    df['tipo_msg_predict'] = clf2.predict(vetorizador.transform(df[ds_message_tratada].fillna('')))\n",
    "    return df\n",
    "\n",
    "exemplo_base = tipo_msg(exemplo_base, 'ds_message')\n"
   ]
  },
  {
   "cell_type": "code",
   "execution_count": 37,
   "metadata": {},
   "outputs": [
    {
     "data": {
      "text/plain": [
       "duvida         273\n",
       "problema       184\n",
       "solicitacao     55\n",
       "Name: tipo_msg_predict, dtype: int64"
      ]
     },
     "execution_count": 37,
     "metadata": {},
     "output_type": "execute_result"
    }
   ],
   "source": [
    "exemplo_base.tipo_msg_predict.value_counts()"
   ]
  },
  {
   "cell_type": "code",
   "execution_count": 38,
   "metadata": {},
   "outputs": [
    {
     "data": {
      "text/html": [
       "<div>\n",
       "<style scoped>\n",
       "    .dataframe tbody tr th:only-of-type {\n",
       "        vertical-align: middle;\n",
       "    }\n",
       "\n",
       "    .dataframe tbody tr th {\n",
       "        vertical-align: top;\n",
       "    }\n",
       "\n",
       "    .dataframe thead th {\n",
       "        text-align: right;\n",
       "    }\n",
       "</style>\n",
       "<table border=\"1\" class=\"dataframe\">\n",
       "  <thead>\n",
       "    <tr style=\"text-align: right;\">\n",
       "      <th>TIPO_MSG</th>\n",
       "      <th>duvida</th>\n",
       "      <th>problema</th>\n",
       "      <th>solicitacao</th>\n",
       "    </tr>\n",
       "    <tr>\n",
       "      <th>tipo_msg_predict</th>\n",
       "      <th></th>\n",
       "      <th></th>\n",
       "      <th></th>\n",
       "    </tr>\n",
       "  </thead>\n",
       "  <tbody>\n",
       "    <tr>\n",
       "      <th>duvida</th>\n",
       "      <td>141</td>\n",
       "      <td>67</td>\n",
       "      <td>65</td>\n",
       "    </tr>\n",
       "    <tr>\n",
       "      <th>problema</th>\n",
       "      <td>7</td>\n",
       "      <td>164</td>\n",
       "      <td>13</td>\n",
       "    </tr>\n",
       "    <tr>\n",
       "      <th>solicitacao</th>\n",
       "      <td>0</td>\n",
       "      <td>2</td>\n",
       "      <td>53</td>\n",
       "    </tr>\n",
       "  </tbody>\n",
       "</table>\n",
       "</div>"
      ],
      "text/plain": [
       "TIPO_MSG          duvida  problema  solicitacao\n",
       "tipo_msg_predict                               \n",
       "duvida               141        67           65\n",
       "problema               7       164           13\n",
       "solicitacao            0         2           53"
      ]
     },
     "execution_count": 38,
     "metadata": {},
     "output_type": "execute_result"
    }
   ],
   "source": [
    "pd.crosstab(exemplo_base.tipo_msg_predict, exemplo_base.TIPO_MSG)"
   ]
  },
  {
   "cell_type": "code",
   "execution_count": 39,
   "metadata": {},
   "outputs": [
    {
     "name": "stdout",
     "output_type": "stream",
     "text": [
      "['no meu limite está escrito que está utilizado 293,08 e o saldo disponível é de 67,92','não entendi esse valor de 293,08 porque eu paguei já 2 meses 200$ no cartão da wil banck','já paguei e tenho dúvidas']\n",
      "['pix','e merda o will nunca teve essas coisas','estou precisando fazer o pix e não estou conseguindo','desde ontem','não dá pra fazer pix','mais opções']\n",
      "['então','meu limite tá negativo ainda']\n",
      "['já passou do prazo e não recebi','que possa me atende?','tem alguém ai','pra me atender?','alguém ai?']\n",
      "['falar de outra coisa','quero saber por que não entrou ainda o reembolso da shen.']\n",
      "['pix','todo dia da problema nesse aplicativo deus e mais','falar de outra coisa','não dá pra fazer pix']\n",
      "['pix','fatura do cartão','não dá pra cadastrar chave','voltar pro começo']\n",
      "['ainda preciso de ajuda.','certo','entendi  obrigada','parcelei minha fatura e já paguei com o saldo da conta e não voltou o limite ainda']\n",
      "['gostaria de saber porque meu serviço will está indisponível no momento?','irei fazer isso agora','falar de outra coisa']\n",
      "['mais opções','sobre o pix que recebi nessa e não está aparecendo','falar de outra coisa']\n"
     ]
    }
   ],
   "source": [
    "for i in exemplo_base.query('tipo_msg_predict == \"duvida\" & TIPO_MSG == \"problema\"').head(10)['ds_message']:\n",
    "    print(i)"
   ]
  },
  {
   "cell_type": "markdown",
   "metadata": {},
   "source": [
    "## Próximos passos"
   ]
  },
  {
   "cell_type": "markdown",
   "metadata": {},
   "source": [
    "- Testar outros classificadores: xgboost, svm\n",
    "- Testar outros vetorizadores com melhor modelo"
   ]
  },
  {
   "cell_type": "code",
   "execution_count": 42,
   "metadata": {},
   "outputs": [
    {
     "name": "stderr",
     "output_type": "stream",
     "text": [
      "/tmp/ipykernel_312769/2720231541.py:1: SettingWithCopyWarning: \n",
      "A value is trying to be set on a copy of a slice from a DataFrame.\n",
      "Try using .loc[row_indexer,col_indexer] = value instead\n",
      "\n",
      "See the caveats in the documentation: https://pandas.pydata.org/pandas-docs/stable/user_guide/indexing.html#returning-a-view-versus-a-copy\n"
     ]
    }
   ],
   "source": [
    "exemplo_base['SENTIMENTO_label'] = np.where(exemplo_base['SENTIMENTO'] == \"negativo\", 0, \n",
    "                                            np.where(exemplo_base['SENTIMENTO'] == \"neutro\", 1, 2 ))"
   ]
  },
  {
   "cell_type": "code",
   "execution_count": null,
   "metadata": {},
   "outputs": [],
   "source": []
  },
  {
   "cell_type": "code",
   "execution_count": 43,
   "metadata": {},
   "outputs": [],
   "source": [
    "import xgboost as xgb\n",
    "y = exemplo_base.SENTIMENTO_label\n",
    "clf = xgb.XGBClassifier(objective=\"multi:softmax\", random_state=42) #early_stopping_rounds=2\n",
    "clf = clf.fit(X,y)"
   ]
  },
  {
   "cell_type": "code",
   "execution_count": 44,
   "metadata": {},
   "outputs": [
    {
     "name": "stderr",
     "output_type": "stream",
     "text": [
      "/tmp/ipykernel_312769/3812937011.py:21: SettingWithCopyWarning: \n",
      "A value is trying to be set on a copy of a slice from a DataFrame.\n",
      "Try using .loc[row_indexer,col_indexer] = value instead\n",
      "\n",
      "See the caveats in the documentation: https://pandas.pydata.org/pandas-docs/stable/user_guide/indexing.html#returning-a-view-versus-a-copy\n"
     ]
    }
   ],
   "source": [
    "exemplo_base = sentimentos(exemplo_base, 'ds_message')"
   ]
  },
  {
   "cell_type": "code",
   "execution_count": 45,
   "metadata": {},
   "outputs": [
    {
     "data": {
      "text/html": [
       "<div>\n",
       "<style scoped>\n",
       "    .dataframe tbody tr th:only-of-type {\n",
       "        vertical-align: middle;\n",
       "    }\n",
       "\n",
       "    .dataframe tbody tr th {\n",
       "        vertical-align: top;\n",
       "    }\n",
       "\n",
       "    .dataframe thead th {\n",
       "        text-align: right;\n",
       "    }\n",
       "</style>\n",
       "<table border=\"1\" class=\"dataframe\">\n",
       "  <thead>\n",
       "    <tr style=\"text-align: right;\">\n",
       "      <th>SENTIMENTO_label</th>\n",
       "      <th>0</th>\n",
       "      <th>1</th>\n",
       "      <th>2</th>\n",
       "    </tr>\n",
       "    <tr>\n",
       "      <th>sentimento_predict</th>\n",
       "      <th></th>\n",
       "      <th></th>\n",
       "      <th></th>\n",
       "    </tr>\n",
       "  </thead>\n",
       "  <tbody>\n",
       "    <tr>\n",
       "      <th>0</th>\n",
       "      <td>228</td>\n",
       "      <td>0</td>\n",
       "      <td>0</td>\n",
       "    </tr>\n",
       "    <tr>\n",
       "      <th>1</th>\n",
       "      <td>0</td>\n",
       "      <td>184</td>\n",
       "      <td>0</td>\n",
       "    </tr>\n",
       "    <tr>\n",
       "      <th>2</th>\n",
       "      <td>0</td>\n",
       "      <td>0</td>\n",
       "      <td>100</td>\n",
       "    </tr>\n",
       "  </tbody>\n",
       "</table>\n",
       "</div>"
      ],
      "text/plain": [
       "SENTIMENTO_label      0    1    2\n",
       "sentimento_predict               \n",
       "0                   228    0    0\n",
       "1                     0  184    0\n",
       "2                     0    0  100"
      ]
     },
     "execution_count": 45,
     "metadata": {},
     "output_type": "execute_result"
    }
   ],
   "source": [
    "pd.crosstab(exemplo_base.sentimento_predict, exemplo_base.SENTIMENTO_label)"
   ]
  },
  {
   "cell_type": "code",
   "execution_count": 46,
   "metadata": {},
   "outputs": [],
   "source": [
    "from sklearn.model_selection import train_test_split\n",
    "\n",
    "x_train, x_test, y_train, y_test = train_test_split(X\n",
    "                                                    , exemplo_base.SENTIMENTO_label\n",
    "                                                    , random_state=42, test_size=0.20)\n"
   ]
  },
  {
   "cell_type": "code",
   "execution_count": 47,
   "metadata": {},
   "outputs": [],
   "source": [
    "clf = xgb.XGBClassifier(objective=\"multi:softmax\", random_state=42) #early_stopping_rounds=2\n",
    "clf = clf.fit(x_train,y_train)"
   ]
  },
  {
   "cell_type": "code",
   "execution_count": 53,
   "metadata": {},
   "outputs": [],
   "source": [
    "y_predicted = clf.predict(x_test)"
   ]
  },
  {
   "cell_type": "code",
   "execution_count": 54,
   "metadata": {},
   "outputs": [
    {
     "data": {
      "text/html": [
       "<div>\n",
       "<style scoped>\n",
       "    .dataframe tbody tr th:only-of-type {\n",
       "        vertical-align: middle;\n",
       "    }\n",
       "\n",
       "    .dataframe tbody tr th {\n",
       "        vertical-align: top;\n",
       "    }\n",
       "\n",
       "    .dataframe thead th {\n",
       "        text-align: right;\n",
       "    }\n",
       "</style>\n",
       "<table border=\"1\" class=\"dataframe\">\n",
       "  <thead>\n",
       "    <tr style=\"text-align: right;\">\n",
       "      <th>SENTIMENTO_label</th>\n",
       "      <th>0</th>\n",
       "      <th>1</th>\n",
       "      <th>2</th>\n",
       "    </tr>\n",
       "    <tr>\n",
       "      <th>row_0</th>\n",
       "      <th></th>\n",
       "      <th></th>\n",
       "      <th></th>\n",
       "    </tr>\n",
       "  </thead>\n",
       "  <tbody>\n",
       "    <tr>\n",
       "      <th>0</th>\n",
       "      <td>36</td>\n",
       "      <td>11</td>\n",
       "      <td>5</td>\n",
       "    </tr>\n",
       "    <tr>\n",
       "      <th>1</th>\n",
       "      <td>7</td>\n",
       "      <td>26</td>\n",
       "      <td>7</td>\n",
       "    </tr>\n",
       "    <tr>\n",
       "      <th>2</th>\n",
       "      <td>3</td>\n",
       "      <td>0</td>\n",
       "      <td>8</td>\n",
       "    </tr>\n",
       "  </tbody>\n",
       "</table>\n",
       "</div>"
      ],
      "text/plain": [
       "SENTIMENTO_label   0   1  2\n",
       "row_0                      \n",
       "0                 36  11  5\n",
       "1                  7  26  7\n",
       "2                  3   0  8"
      ]
     },
     "execution_count": 54,
     "metadata": {},
     "output_type": "execute_result"
    }
   ],
   "source": [
    "pd.crosstab(y_predicted, y_test)"
   ]
  },
  {
   "cell_type": "code",
   "execution_count": 66,
   "metadata": {},
   "outputs": [],
   "source": [
    "## Análise de sentimento\n",
    "vetorizador = TfidfVectorizer()\n",
    "\n",
    "X = vetorizador.fit_transform(exemplo_base['ds_message'])"
   ]
  },
  {
   "cell_type": "code",
   "execution_count": 56,
   "metadata": {},
   "outputs": [],
   "source": [
    "x_train, x_test, y_train, y_test = train_test_split(X\n",
    "                                                    , exemplo_base.SENTIMENTO_label\n",
    "                                                    , random_state=42, test_size=0.20)"
   ]
  },
  {
   "cell_type": "code",
   "execution_count": 57,
   "metadata": {},
   "outputs": [],
   "source": [
    "clf = xgb.XGBClassifier(objective=\"multi:softmax\", random_state=42) \n",
    "clf = clf.fit(x_train,y_train)"
   ]
  },
  {
   "cell_type": "code",
   "execution_count": 58,
   "metadata": {},
   "outputs": [
    {
     "data": {
      "text/html": [
       "<div>\n",
       "<style scoped>\n",
       "    .dataframe tbody tr th:only-of-type {\n",
       "        vertical-align: middle;\n",
       "    }\n",
       "\n",
       "    .dataframe tbody tr th {\n",
       "        vertical-align: top;\n",
       "    }\n",
       "\n",
       "    .dataframe thead th {\n",
       "        text-align: right;\n",
       "    }\n",
       "</style>\n",
       "<table border=\"1\" class=\"dataframe\">\n",
       "  <thead>\n",
       "    <tr style=\"text-align: right;\">\n",
       "      <th>SENTIMENTO_label</th>\n",
       "      <th>0</th>\n",
       "      <th>1</th>\n",
       "      <th>2</th>\n",
       "    </tr>\n",
       "    <tr>\n",
       "      <th>row_0</th>\n",
       "      <th></th>\n",
       "      <th></th>\n",
       "      <th></th>\n",
       "    </tr>\n",
       "  </thead>\n",
       "  <tbody>\n",
       "    <tr>\n",
       "      <th>0</th>\n",
       "      <td>37</td>\n",
       "      <td>10</td>\n",
       "      <td>6</td>\n",
       "    </tr>\n",
       "    <tr>\n",
       "      <th>1</th>\n",
       "      <td>5</td>\n",
       "      <td>26</td>\n",
       "      <td>3</td>\n",
       "    </tr>\n",
       "    <tr>\n",
       "      <th>2</th>\n",
       "      <td>4</td>\n",
       "      <td>1</td>\n",
       "      <td>11</td>\n",
       "    </tr>\n",
       "  </tbody>\n",
       "</table>\n",
       "</div>"
      ],
      "text/plain": [
       "SENTIMENTO_label   0   1   2\n",
       "row_0                       \n",
       "0                 37  10   6\n",
       "1                  5  26   3\n",
       "2                  4   1  11"
      ]
     },
     "execution_count": 58,
     "metadata": {},
     "output_type": "execute_result"
    }
   ],
   "source": [
    "y_predicted = clf.predict(x_test)\n",
    "pd.crosstab(y_predicted, y_test)"
   ]
  },
  {
   "cell_type": "code",
   "execution_count": 68,
   "metadata": {},
   "outputs": [
    {
     "data": {
      "text/plain": [
       "512"
      ]
     },
     "execution_count": 68,
     "metadata": {},
     "output_type": "execute_result"
    }
   ],
   "source": [
    "X.shape[0]"
   ]
  },
  {
   "cell_type": "code",
   "execution_count": 69,
   "metadata": {},
   "outputs": [
    {
     "data": {
      "text/plain": [
       "512"
      ]
     },
     "execution_count": 69,
     "metadata": {},
     "output_type": "execute_result"
    }
   ],
   "source": [
    "exemplo_base.n_palavras.shape[0]"
   ]
  },
  {
   "cell_type": "code",
   "execution_count": 76,
   "metadata": {},
   "outputs": [
    {
     "data": {
      "text/html": [
       "<div>\n",
       "<style scoped>\n",
       "    .dataframe tbody tr th:only-of-type {\n",
       "        vertical-align: middle;\n",
       "    }\n",
       "\n",
       "    .dataframe tbody tr th {\n",
       "        vertical-align: top;\n",
       "    }\n",
       "\n",
       "    .dataframe thead th {\n",
       "        text-align: right;\n",
       "    }\n",
       "</style>\n",
       "<table border=\"1\" class=\"dataframe\">\n",
       "  <thead>\n",
       "    <tr style=\"text-align: right;\">\n",
       "      <th>SENTIMENTO_label</th>\n",
       "      <th>0</th>\n",
       "      <th>1</th>\n",
       "      <th>2</th>\n",
       "    </tr>\n",
       "    <tr>\n",
       "      <th>row_0</th>\n",
       "      <th></th>\n",
       "      <th></th>\n",
       "      <th></th>\n",
       "    </tr>\n",
       "  </thead>\n",
       "  <tbody>\n",
       "    <tr>\n",
       "      <th>0</th>\n",
       "      <td>39</td>\n",
       "      <td>11</td>\n",
       "      <td>8</td>\n",
       "    </tr>\n",
       "    <tr>\n",
       "      <th>1</th>\n",
       "      <td>7</td>\n",
       "      <td>26</td>\n",
       "      <td>10</td>\n",
       "    </tr>\n",
       "    <tr>\n",
       "      <th>2</th>\n",
       "      <td>0</td>\n",
       "      <td>0</td>\n",
       "      <td>2</td>\n",
       "    </tr>\n",
       "  </tbody>\n",
       "</table>\n",
       "</div>"
      ],
      "text/plain": [
       "SENTIMENTO_label   0   1   2\n",
       "row_0                       \n",
       "0                 39  11   8\n",
       "1                  7  26  10\n",
       "2                  0   0   2"
      ]
     },
     "execution_count": 76,
     "metadata": {},
     "output_type": "execute_result"
    }
   ],
   "source": [
    "from sklearn.svm import SVC\n",
    "\n",
    "vetorizador = TfidfVectorizer()\n",
    "X = vetorizador.fit_transform(exemplo_base['ds_message'])\n",
    "y = exemplo_base.SENTIMENTO_label\n",
    "\n",
    "x_train, x_test, y_train, y_test = train_test_split(X\n",
    "                                                    , exemplo_base.SENTIMENTO_label\n",
    "                                                    , random_state=42, test_size=0.20)\n",
    "\n",
    "clf = SVC() \n",
    "clf = clf.fit(x_train, y_train)\n",
    "y_predicted = clf.predict(x_test)\n",
    "pd.crosstab(y_predicted, y_test)"
   ]
  },
  {
   "cell_type": "code",
   "execution_count": 77,
   "metadata": {},
   "outputs": [
    {
     "data": {
      "text/html": [
       "<div>\n",
       "<style scoped>\n",
       "    .dataframe tbody tr th:only-of-type {\n",
       "        vertical-align: middle;\n",
       "    }\n",
       "\n",
       "    .dataframe tbody tr th {\n",
       "        vertical-align: top;\n",
       "    }\n",
       "\n",
       "    .dataframe thead th {\n",
       "        text-align: right;\n",
       "    }\n",
       "</style>\n",
       "<table border=\"1\" class=\"dataframe\">\n",
       "  <thead>\n",
       "    <tr style=\"text-align: right;\">\n",
       "      <th>SENTIMENTO_label</th>\n",
       "      <th>0</th>\n",
       "      <th>1</th>\n",
       "      <th>2</th>\n",
       "    </tr>\n",
       "    <tr>\n",
       "      <th>row_0</th>\n",
       "      <th></th>\n",
       "      <th></th>\n",
       "      <th></th>\n",
       "    </tr>\n",
       "  </thead>\n",
       "  <tbody>\n",
       "    <tr>\n",
       "      <th>0</th>\n",
       "      <td>39</td>\n",
       "      <td>7</td>\n",
       "      <td>8</td>\n",
       "    </tr>\n",
       "    <tr>\n",
       "      <th>1</th>\n",
       "      <td>7</td>\n",
       "      <td>30</td>\n",
       "      <td>7</td>\n",
       "    </tr>\n",
       "    <tr>\n",
       "      <th>2</th>\n",
       "      <td>0</td>\n",
       "      <td>0</td>\n",
       "      <td>5</td>\n",
       "    </tr>\n",
       "  </tbody>\n",
       "</table>\n",
       "</div>"
      ],
      "text/plain": [
       "SENTIMENTO_label   0   1  2\n",
       "row_0                      \n",
       "0                 39   7  8\n",
       "1                  7  30  7\n",
       "2                  0   0  5"
      ]
     },
     "execution_count": 77,
     "metadata": {},
     "output_type": "execute_result"
    }
   ],
   "source": [
    "from sklearn.ensemble import RandomForestClassifier\n",
    "\n",
    "vetorizador = TfidfVectorizer()\n",
    "X = vetorizador.fit_transform(exemplo_base['ds_message'])\n",
    "y = exemplo_base.SENTIMENTO_label\n",
    "\n",
    "x_train, x_test, y_train, y_test = train_test_split(X\n",
    "                                                    , exemplo_base.SENTIMENTO_label\n",
    "                                                    , random_state=42, test_size=0.20)\n",
    "\n",
    "clf = RandomForestClassifier(n_estimators=200) \n",
    "clf = clf.fit(x_train, y_train)\n",
    "y_predicted = clf.predict(x_test)\n",
    "pd.crosstab(y_predicted, y_test)"
   ]
  },
  {
   "cell_type": "code",
   "execution_count": 78,
   "metadata": {},
   "outputs": [
    {
     "data": {
      "text/html": [
       "<div>\n",
       "<style scoped>\n",
       "    .dataframe tbody tr th:only-of-type {\n",
       "        vertical-align: middle;\n",
       "    }\n",
       "\n",
       "    .dataframe tbody tr th {\n",
       "        vertical-align: top;\n",
       "    }\n",
       "\n",
       "    .dataframe thead th {\n",
       "        text-align: right;\n",
       "    }\n",
       "</style>\n",
       "<table border=\"1\" class=\"dataframe\">\n",
       "  <thead>\n",
       "    <tr style=\"text-align: right;\">\n",
       "      <th>SENTIMENTO_label</th>\n",
       "      <th>0</th>\n",
       "      <th>1</th>\n",
       "      <th>2</th>\n",
       "    </tr>\n",
       "    <tr>\n",
       "      <th>row_0</th>\n",
       "      <th></th>\n",
       "      <th></th>\n",
       "      <th></th>\n",
       "    </tr>\n",
       "  </thead>\n",
       "  <tbody>\n",
       "    <tr>\n",
       "      <th>0</th>\n",
       "      <td>39</td>\n",
       "      <td>6</td>\n",
       "      <td>5</td>\n",
       "    </tr>\n",
       "    <tr>\n",
       "      <th>1</th>\n",
       "      <td>7</td>\n",
       "      <td>31</td>\n",
       "      <td>8</td>\n",
       "    </tr>\n",
       "    <tr>\n",
       "      <th>2</th>\n",
       "      <td>0</td>\n",
       "      <td>0</td>\n",
       "      <td>7</td>\n",
       "    </tr>\n",
       "  </tbody>\n",
       "</table>\n",
       "</div>"
      ],
      "text/plain": [
       "SENTIMENTO_label   0   1  2\n",
       "row_0                      \n",
       "0                 39   6  5\n",
       "1                  7  31  8\n",
       "2                  0   0  7"
      ]
     },
     "execution_count": 78,
     "metadata": {},
     "output_type": "execute_result"
    }
   ],
   "source": [
    "from sklearn.ensemble import RandomForestClassifier\n",
    "\n",
    "vetorizador = TfidfVectorizer()\n",
    "X = vetorizador.fit_transform(exemplo_base['ds_message'])\n",
    "y = exemplo_base.SENTIMENTO_label\n",
    "\n",
    "x_train, x_test, y_train, y_test = train_test_split(X\n",
    "                                                    , exemplo_base.SENTIMENTO_label\n",
    "                                                    , random_state=42, test_size=0.20)\n",
    "\n",
    "clf = RandomForestClassifier(n_estimators=400) \n",
    "clf = clf.fit(x_train, y_train)\n",
    "y_predicted = clf.predict(x_test)\n",
    "pd.crosstab(y_predicted, y_test)"
   ]
  },
  {
   "cell_type": "code",
   "execution_count": 80,
   "metadata": {},
   "outputs": [
    {
     "data": {
      "text/html": [
       "<div>\n",
       "<style scoped>\n",
       "    .dataframe tbody tr th:only-of-type {\n",
       "        vertical-align: middle;\n",
       "    }\n",
       "\n",
       "    .dataframe tbody tr th {\n",
       "        vertical-align: top;\n",
       "    }\n",
       "\n",
       "    .dataframe thead th {\n",
       "        text-align: right;\n",
       "    }\n",
       "</style>\n",
       "<table border=\"1\" class=\"dataframe\">\n",
       "  <thead>\n",
       "    <tr style=\"text-align: right;\">\n",
       "      <th>SENTIMENTO_label</th>\n",
       "      <th>0</th>\n",
       "      <th>1</th>\n",
       "      <th>2</th>\n",
       "    </tr>\n",
       "    <tr>\n",
       "      <th>row_0</th>\n",
       "      <th></th>\n",
       "      <th></th>\n",
       "      <th></th>\n",
       "    </tr>\n",
       "  </thead>\n",
       "  <tbody>\n",
       "    <tr>\n",
       "      <th>0</th>\n",
       "      <td>37</td>\n",
       "      <td>7</td>\n",
       "      <td>6</td>\n",
       "    </tr>\n",
       "    <tr>\n",
       "      <th>1</th>\n",
       "      <td>9</td>\n",
       "      <td>30</td>\n",
       "      <td>4</td>\n",
       "    </tr>\n",
       "    <tr>\n",
       "      <th>2</th>\n",
       "      <td>0</td>\n",
       "      <td>0</td>\n",
       "      <td>10</td>\n",
       "    </tr>\n",
       "  </tbody>\n",
       "</table>\n",
       "</div>"
      ],
      "text/plain": [
       "SENTIMENTO_label   0   1   2\n",
       "row_0                       \n",
       "0                 37   7   6\n",
       "1                  9  30   4\n",
       "2                  0   0  10"
      ]
     },
     "execution_count": 80,
     "metadata": {},
     "output_type": "execute_result"
    }
   ],
   "source": [
    "from sklearn.neural_network import MLPClassifier\n",
    "\n",
    "vetorizador = TfidfVectorizer()\n",
    "X = vetorizador.fit_transform(exemplo_base['ds_message'])\n",
    "y = exemplo_base.SENTIMENTO_label\n",
    "\n",
    "x_train, x_test, y_train, y_test = train_test_split(X\n",
    "                                                    , exemplo_base.SENTIMENTO_label\n",
    "                                                    , random_state=42, test_size=0.20)\n",
    "\n",
    "clf = MLPClassifier(solver='lbfgs', random_state=1) #alpha=0.0001\n",
    "\n",
    "clf = clf.fit(x_train, y_train)\n",
    "y_predicted = clf.predict(x_test)\n",
    "pd.crosstab(y_predicted, y_test)"
   ]
  },
  {
   "cell_type": "code",
   "execution_count": 84,
   "metadata": {},
   "outputs": [
    {
     "data": {
      "text/html": [
       "<div>\n",
       "<style scoped>\n",
       "    .dataframe tbody tr th:only-of-type {\n",
       "        vertical-align: middle;\n",
       "    }\n",
       "\n",
       "    .dataframe tbody tr th {\n",
       "        vertical-align: top;\n",
       "    }\n",
       "\n",
       "    .dataframe thead th {\n",
       "        text-align: right;\n",
       "    }\n",
       "</style>\n",
       "<table border=\"1\" class=\"dataframe\">\n",
       "  <thead>\n",
       "    <tr style=\"text-align: right;\">\n",
       "      <th>SENTIMENTO_label</th>\n",
       "      <th>0</th>\n",
       "      <th>1</th>\n",
       "      <th>2</th>\n",
       "    </tr>\n",
       "    <tr>\n",
       "      <th>row_0</th>\n",
       "      <th></th>\n",
       "      <th></th>\n",
       "      <th></th>\n",
       "    </tr>\n",
       "  </thead>\n",
       "  <tbody>\n",
       "    <tr>\n",
       "      <th>0</th>\n",
       "      <td>38</td>\n",
       "      <td>8</td>\n",
       "      <td>9</td>\n",
       "    </tr>\n",
       "    <tr>\n",
       "      <th>1</th>\n",
       "      <td>8</td>\n",
       "      <td>28</td>\n",
       "      <td>4</td>\n",
       "    </tr>\n",
       "    <tr>\n",
       "      <th>2</th>\n",
       "      <td>0</td>\n",
       "      <td>1</td>\n",
       "      <td>7</td>\n",
       "    </tr>\n",
       "  </tbody>\n",
       "</table>\n",
       "</div>"
      ],
      "text/plain": [
       "SENTIMENTO_label   0   1  2\n",
       "row_0                      \n",
       "0                 38   8  9\n",
       "1                  8  28  4\n",
       "2                  0   1  7"
      ]
     },
     "execution_count": 84,
     "metadata": {},
     "output_type": "execute_result"
    }
   ],
   "source": [
    "from sklearn.neural_network import MLPClassifier\n",
    "\n",
    "vetorizador = TfidfVectorizer()\n",
    "X = vetorizador.fit_transform(exemplo_base['ds_message'])\n",
    "y = exemplo_base.SENTIMENTO_label\n",
    "\n",
    "x_train, x_test, y_train, y_test = train_test_split(X\n",
    "                                                    , exemplo_base.SENTIMENTO_label\n",
    "                                                    , random_state=42, test_size=0.20)\n",
    "\n",
    "clf = MLPClassifier(solver='adam', random_state=1) #alphafloat, default=0.0001 #adam toma o dobro do tempo\n",
    "\n",
    "clf = clf.fit(x_train, y_train)\n",
    "y_predicted = clf.predict(x_test)\n",
    "pd.crosstab(y_predicted, y_test)"
   ]
  },
  {
   "cell_type": "code",
   "execution_count": 83,
   "metadata": {},
   "outputs": [
    {
     "data": {
      "text/html": [
       "<div>\n",
       "<style scoped>\n",
       "    .dataframe tbody tr th:only-of-type {\n",
       "        vertical-align: middle;\n",
       "    }\n",
       "\n",
       "    .dataframe tbody tr th {\n",
       "        vertical-align: top;\n",
       "    }\n",
       "\n",
       "    .dataframe thead th {\n",
       "        text-align: right;\n",
       "    }\n",
       "</style>\n",
       "<table border=\"1\" class=\"dataframe\">\n",
       "  <thead>\n",
       "    <tr style=\"text-align: right;\">\n",
       "      <th>SENTIMENTO_label</th>\n",
       "      <th>0</th>\n",
       "      <th>1</th>\n",
       "      <th>2</th>\n",
       "    </tr>\n",
       "    <tr>\n",
       "      <th>row_0</th>\n",
       "      <th></th>\n",
       "      <th></th>\n",
       "      <th></th>\n",
       "    </tr>\n",
       "  </thead>\n",
       "  <tbody>\n",
       "    <tr>\n",
       "      <th>0</th>\n",
       "      <td>37</td>\n",
       "      <td>6</td>\n",
       "      <td>7</td>\n",
       "    </tr>\n",
       "    <tr>\n",
       "      <th>1</th>\n",
       "      <td>9</td>\n",
       "      <td>30</td>\n",
       "      <td>5</td>\n",
       "    </tr>\n",
       "    <tr>\n",
       "      <th>2</th>\n",
       "      <td>0</td>\n",
       "      <td>1</td>\n",
       "      <td>8</td>\n",
       "    </tr>\n",
       "  </tbody>\n",
       "</table>\n",
       "</div>"
      ],
      "text/plain": [
       "SENTIMENTO_label   0   1  2\n",
       "row_0                      \n",
       "0                 37   6  7\n",
       "1                  9  30  5\n",
       "2                  0   1  8"
      ]
     },
     "execution_count": 83,
     "metadata": {},
     "output_type": "execute_result"
    }
   ],
   "source": [
    "from sklearn.neural_network import MLPClassifier\n",
    "\n",
    "vetorizador = TfidfVectorizer()\n",
    "X = vetorizador.fit_transform(exemplo_base['ds_message'])\n",
    "y = exemplo_base.SENTIMENTO_label\n",
    "\n",
    "x_train, x_test, y_train, y_test = train_test_split(X\n",
    "                                                    , exemplo_base.SENTIMENTO_label\n",
    "                                                    , random_state=42, test_size=0.20)\n",
    "\n",
    "clf = MLPClassifier(solver='lbfgs', random_state=1, alpha=0.5)\n",
    "\n",
    "clf = clf.fit(x_train, y_train)\n",
    "y_predicted = clf.predict(x_test)\n",
    "pd.crosstab(y_predicted, y_test)"
   ]
  },
  {
   "cell_type": "code",
   "execution_count": 82,
   "metadata": {},
   "outputs": [
    {
     "data": {
      "text/html": [
       "<div>\n",
       "<style scoped>\n",
       "    .dataframe tbody tr th:only-of-type {\n",
       "        vertical-align: middle;\n",
       "    }\n",
       "\n",
       "    .dataframe tbody tr th {\n",
       "        vertical-align: top;\n",
       "    }\n",
       "\n",
       "    .dataframe thead th {\n",
       "        text-align: right;\n",
       "    }\n",
       "</style>\n",
       "<table border=\"1\" class=\"dataframe\">\n",
       "  <thead>\n",
       "    <tr style=\"text-align: right;\">\n",
       "      <th>SENTIMENTO_label</th>\n",
       "      <th>0</th>\n",
       "      <th>1</th>\n",
       "      <th>2</th>\n",
       "    </tr>\n",
       "    <tr>\n",
       "      <th>row_0</th>\n",
       "      <th></th>\n",
       "      <th></th>\n",
       "      <th></th>\n",
       "    </tr>\n",
       "  </thead>\n",
       "  <tbody>\n",
       "    <tr>\n",
       "      <th>0</th>\n",
       "      <td>37</td>\n",
       "      <td>7</td>\n",
       "      <td>7</td>\n",
       "    </tr>\n",
       "    <tr>\n",
       "      <th>1</th>\n",
       "      <td>9</td>\n",
       "      <td>29</td>\n",
       "      <td>5</td>\n",
       "    </tr>\n",
       "    <tr>\n",
       "      <th>2</th>\n",
       "      <td>0</td>\n",
       "      <td>1</td>\n",
       "      <td>8</td>\n",
       "    </tr>\n",
       "  </tbody>\n",
       "</table>\n",
       "</div>"
      ],
      "text/plain": [
       "SENTIMENTO_label   0   1  2\n",
       "row_0                      \n",
       "0                 37   7  7\n",
       "1                  9  29  5\n",
       "2                  0   1  8"
      ]
     },
     "execution_count": 82,
     "metadata": {},
     "output_type": "execute_result"
    }
   ],
   "source": [
    "from sklearn.neural_network import MLPClassifier\n",
    "\n",
    "vetorizador = TfidfVectorizer()\n",
    "X = vetorizador.fit_transform(exemplo_base['ds_message'])\n",
    "y = exemplo_base.SENTIMENTO_label\n",
    "\n",
    "x_train, x_test, y_train, y_test = train_test_split(X\n",
    "                                                    , exemplo_base.SENTIMENTO_label\n",
    "                                                    , random_state=42, test_size=0.20)\n",
    "\n",
    "clf = MLPClassifier(solver='lbfgs', random_state=1, alpha=1)\n",
    "\n",
    "clf = clf.fit(x_train, y_train)\n",
    "y_predicted = clf.predict(x_test)\n",
    "pd.crosstab(y_predicted, y_test)"
   ]
  },
  {
   "cell_type": "code",
   "execution_count": 85,
   "metadata": {},
   "outputs": [
    {
     "data": {
      "text/html": [
       "<div>\n",
       "<style scoped>\n",
       "    .dataframe tbody tr th:only-of-type {\n",
       "        vertical-align: middle;\n",
       "    }\n",
       "\n",
       "    .dataframe tbody tr th {\n",
       "        vertical-align: top;\n",
       "    }\n",
       "\n",
       "    .dataframe thead th {\n",
       "        text-align: right;\n",
       "    }\n",
       "</style>\n",
       "<table border=\"1\" class=\"dataframe\">\n",
       "  <thead>\n",
       "    <tr style=\"text-align: right;\">\n",
       "      <th>SENTIMENTO_label</th>\n",
       "      <th>0</th>\n",
       "      <th>1</th>\n",
       "      <th>2</th>\n",
       "    </tr>\n",
       "    <tr>\n",
       "      <th>row_0</th>\n",
       "      <th></th>\n",
       "      <th></th>\n",
       "      <th></th>\n",
       "    </tr>\n",
       "  </thead>\n",
       "  <tbody>\n",
       "    <tr>\n",
       "      <th>0</th>\n",
       "      <td>36</td>\n",
       "      <td>8</td>\n",
       "      <td>5</td>\n",
       "    </tr>\n",
       "    <tr>\n",
       "      <th>1</th>\n",
       "      <td>9</td>\n",
       "      <td>29</td>\n",
       "      <td>5</td>\n",
       "    </tr>\n",
       "    <tr>\n",
       "      <th>2</th>\n",
       "      <td>1</td>\n",
       "      <td>0</td>\n",
       "      <td>10</td>\n",
       "    </tr>\n",
       "  </tbody>\n",
       "</table>\n",
       "</div>"
      ],
      "text/plain": [
       "SENTIMENTO_label   0   1   2\n",
       "row_0                       \n",
       "0                 36   8   5\n",
       "1                  9  29   5\n",
       "2                  1   0  10"
      ]
     },
     "execution_count": 85,
     "metadata": {},
     "output_type": "execute_result"
    }
   ],
   "source": [
    "from sklearn.neural_network import MLPClassifier\n",
    "\n",
    "vetorizador = TfidfVectorizer()\n",
    "X = vetorizador.fit_transform(exemplo_base['ds_message'])\n",
    "y = exemplo_base.SENTIMENTO_label\n",
    "\n",
    "x_train, x_test, y_train, y_test = train_test_split(X\n",
    "                                                    , exemplo_base.SENTIMENTO_label\n",
    "                                                    , random_state=42, test_size=0.20)\n",
    "\n",
    "clf = MLPClassifier(solver='lbfgs', random_state=1, alpha=0.0001, hidden_layer_sizes=(100,50))\n",
    "\n",
    "clf = clf.fit(x_train, y_train)\n",
    "y_predicted = clf.predict(x_test)\n",
    "pd.crosstab(y_predicted, y_test)"
   ]
  },
  {
   "cell_type": "code",
   "execution_count": 86,
   "metadata": {},
   "outputs": [
    {
     "data": {
      "text/html": [
       "<div>\n",
       "<style scoped>\n",
       "    .dataframe tbody tr th:only-of-type {\n",
       "        vertical-align: middle;\n",
       "    }\n",
       "\n",
       "    .dataframe tbody tr th {\n",
       "        vertical-align: top;\n",
       "    }\n",
       "\n",
       "    .dataframe thead th {\n",
       "        text-align: right;\n",
       "    }\n",
       "</style>\n",
       "<table border=\"1\" class=\"dataframe\">\n",
       "  <thead>\n",
       "    <tr style=\"text-align: right;\">\n",
       "      <th>SENTIMENTO_label</th>\n",
       "      <th>0</th>\n",
       "      <th>1</th>\n",
       "      <th>2</th>\n",
       "    </tr>\n",
       "    <tr>\n",
       "      <th>row_0</th>\n",
       "      <th></th>\n",
       "      <th></th>\n",
       "      <th></th>\n",
       "    </tr>\n",
       "  </thead>\n",
       "  <tbody>\n",
       "    <tr>\n",
       "      <th>0</th>\n",
       "      <td>34</td>\n",
       "      <td>8</td>\n",
       "      <td>3</td>\n",
       "    </tr>\n",
       "    <tr>\n",
       "      <th>1</th>\n",
       "      <td>12</td>\n",
       "      <td>29</td>\n",
       "      <td>11</td>\n",
       "    </tr>\n",
       "    <tr>\n",
       "      <th>2</th>\n",
       "      <td>0</td>\n",
       "      <td>0</td>\n",
       "      <td>6</td>\n",
       "    </tr>\n",
       "  </tbody>\n",
       "</table>\n",
       "</div>"
      ],
      "text/plain": [
       "SENTIMENTO_label   0   1   2\n",
       "row_0                       \n",
       "0                 34   8   3\n",
       "1                 12  29  11\n",
       "2                  0   0   6"
      ]
     },
     "execution_count": 86,
     "metadata": {},
     "output_type": "execute_result"
    }
   ],
   "source": [
    "from sklearn.neural_network import MLPClassifier\n",
    "\n",
    "vetorizador = TfidfVectorizer()\n",
    "X = vetorizador.fit_transform(exemplo_base['ds_message'])\n",
    "y = exemplo_base.SENTIMENTO_label\n",
    "\n",
    "x_train, x_test, y_train, y_test = train_test_split(X\n",
    "                                                    , exemplo_base.SENTIMENTO_label\n",
    "                                                    , random_state=42, test_size=0.20)\n",
    "\n",
    "clf = MLPClassifier(solver='lbfgs', random_state=1, alpha=0.0001, hidden_layer_sizes=(100,5))\n",
    "\n",
    "clf = clf.fit(x_train, y_train)\n",
    "y_predicted = clf.predict(x_test)\n",
    "pd.crosstab(y_predicted, y_test)"
   ]
  },
  {
   "cell_type": "markdown",
   "metadata": {},
   "source": [
    "## Modelo Doc2Vec"
   ]
  },
  {
   "cell_type": "code",
   "execution_count": 87,
   "metadata": {},
   "outputs": [],
   "source": [
    "import re\n",
    "import gensim\n",
    "import itertools\n",
    "from gensim.models import TfidfModel\n",
    "from gensim.similarities import MatrixSimilarity\n",
    "from gensim.models.doc2vec import Doc2Vec, TaggedDocument\n",
    "from gensim.parsing.preprocessing import preprocess_documents\n",
    "from gensim.parsing.preprocessing import preprocess_string"
   ]
  },
  {
   "cell_type": "code",
   "execution_count": 102,
   "metadata": {},
   "outputs": [],
   "source": [
    "w2v_total_data = list(exemplo_base['ds_message_tratada'].unique())"
   ]
  },
  {
   "cell_type": "code",
   "execution_count": 124,
   "metadata": {},
   "outputs": [],
   "source": [
    "def build_model(max_epochs, hs, dm, vec_size, window, alpha, text):\n",
    "    \n",
    "    train_text = [TaggedDocument(words=str(s).lower().split(), tags=[i]) for i, s in enumerate(text)]\n",
    "\n",
    "    model = Doc2Vec(vector_size = vec_size,\n",
    "                 hs = hs #hierarquical softmax\n",
    "               , dm = dm\n",
    "               , dm_concat = 0\n",
    "               , dbow_words = 1\n",
    "               , window = window\n",
    "               , alpha= alpha\n",
    "               , min_alpha= 0.00025\n",
    "               , min_count= 1\n",
    "               )\n",
    "    \n",
    "    model.build_vocab(train_text)\n",
    "    \n",
    "    # With the model built we simply train on the data.\n",
    "    \n",
    "    for epoch in range(max_epochs):\n",
    "        #print(f\"Iteration {epoch}\")\n",
    "        model.train(train_text,\n",
    "                   total_examples=model.corpus_count,\n",
    "                   epochs=model.epochs)\n",
    "\n",
    "    return model"
   ]
  },
  {
   "cell_type": "code",
   "execution_count": 125,
   "metadata": {},
   "outputs": [],
   "source": [
    "model = build_model(max_epochs=10, hs =0, dm = 1, vec_size=200, window = 5, alpha=0.03, text = w2v_total_data)"
   ]
  },
  {
   "cell_type": "code",
   "execution_count": 126,
   "metadata": {},
   "outputs": [
    {
     "data": {
      "text/plain": [
       "0.58121663"
      ]
     },
     "execution_count": 126,
     "metadata": {},
     "output_type": "execute_result"
    }
   ],
   "source": [
    "model.wv.similarity('pix', 'ted')"
   ]
  },
  {
   "cell_type": "code",
   "execution_count": 127,
   "metadata": {},
   "outputs": [
    {
     "data": {
      "text/plain": [
       "0.5648678"
      ]
     },
     "execution_count": 127,
     "metadata": {},
     "output_type": "execute_result"
    }
   ],
   "source": [
    "model.wv.similarity('demora', 'atendimento')"
   ]
  },
  {
   "cell_type": "code",
   "execution_count": 128,
   "metadata": {},
   "outputs": [
    {
     "data": {
      "text/plain": [
       "0.36345103"
      ]
     },
     "execution_count": 128,
     "metadata": {},
     "output_type": "execute_result"
    }
   ],
   "source": [
    "model.wv.similarity('fatura', 'pagamento')"
   ]
  },
  {
   "cell_type": "code",
   "execution_count": 131,
   "metadata": {},
   "outputs": [
    {
     "data": {
      "text/plain": [
       "[(\"'sinceramente'\", 0.8052407503128052),\n",
       " (\"cliente'\", 0.7438026666641235),\n",
       " ('respeito', 0.7133079171180725),\n",
       " ('horario', 0.703009843826294),\n",
       " ('protocolo', 0.680519700050354),\n",
       " ('enviaram', 0.677771270275116),\n",
       " (\"otimo']\", 0.6609896421432495),\n",
       " ('teu', 0.6575742959976196),\n",
       " (\"cartoes'\", 0.6495455503463745),\n",
       " (\"med'\", 0.6449801921844482)]"
      ]
     },
     "execution_count": 131,
     "metadata": {},
     "output_type": "execute_result"
    }
   ],
   "source": [
    "model.wv.similar_by_word(\"atendimento\")"
   ]
  },
  {
   "cell_type": "code",
   "execution_count": 132,
   "metadata": {},
   "outputs": [
    {
     "data": {
      "text/plain": [
       "[('financiamento', 0.6863546371459961),\n",
       " ('pagamento', 0.6727787256240845),\n",
       " ('transferencia', 0.6620717644691467),\n",
       " (\"pix'\", 0.6469553112983704),\n",
       " ('enviado', 0.6435298919677734),\n",
       " ('entrada', 0.6388131976127625),\n",
       " (\"renegociacao'\", 0.6386721730232239),\n",
       " ('errada', 0.6263974905014038),\n",
       " ('caixa', 0.6206419467926025),\n",
       " ('boleto', 0.6167844533920288)]"
      ]
     },
     "execution_count": 132,
     "metadata": {},
     "output_type": "execute_result"
    }
   ],
   "source": [
    "model.wv.similar_by_word(\"pix\")"
   ]
  },
  {
   "cell_type": "code",
   "execution_count": 135,
   "metadata": {},
   "outputs": [
    {
     "data": {
      "text/plain": [
       "[(\"fatura'\", 0.739916205406189),\n",
       " ('culpa', 0.7077254056930542),\n",
       " ('custando', 0.6868526935577393),\n",
       " ('total', 0.67928546667099),\n",
       " ('mes', 0.6789629459381104),\n",
       " ('divida', 0.67081218957901),\n",
       " ('abril', 0.667985737323761),\n",
       " ('parcela', 0.6613811254501343),\n",
       " ('descontando', 0.654136061668396),\n",
       " ('antes', 0.650248646736145)]"
      ]
     },
     "execution_count": 135,
     "metadata": {},
     "output_type": "execute_result"
    }
   ],
   "source": [
    "model.wv.similar_by_word(\"fatura\")"
   ]
  },
  {
   "cell_type": "code",
   "execution_count": 141,
   "metadata": {},
   "outputs": [
    {
     "data": {
      "text/plain": [
       "512"
      ]
     },
     "execution_count": 141,
     "metadata": {},
     "output_type": "execute_result"
    }
   ],
   "source": [
    "\n",
    "X = model[model.wv.vocab] #matriz de palavras\n",
    "Y = model.docvecs.vectors_docs #matriz de intenções\n",
    "\n",
    "#transforma em lista\n",
    "vetorDoc = []\n",
    "for i in range(0, len(Y)):\n",
    "    vetorDoc.append(Y[i])\n",
    "\n",
    "len(vetorDoc)"
   ]
  },
  {
   "cell_type": "code",
   "execution_count": 143,
   "metadata": {},
   "outputs": [
    {
     "name": "stdout",
     "output_type": "stream",
     "text": [
      "27\n"
     ]
    }
   ],
   "source": [
    "from sklearn.decomposition import PCA\n",
    "\n",
    "pca = PCA(n_components=0.95) #Explicar 95% da variância\n",
    "pca.fit(vetorDoc)\n",
    "vetorDoc_pca = pca.transform(vetorDoc)\n",
    "\n",
    "componentes = vetorDoc_pca.shape[1]\n",
    "print(componentes)"
   ]
  },
  {
   "cell_type": "code",
   "execution_count": 144,
   "metadata": {},
   "outputs": [
    {
     "data": {
      "text/plain": [
       "<matplotlib.collections.PathCollection at 0x7fc90d320e80>"
      ]
     },
     "execution_count": 144,
     "metadata": {},
     "output_type": "execute_result"
    },
    {
     "data": {
      "image/png": "[encoded data removed]",
      "text/plain": [
       "<Figure size 720x648 with 1 Axes>"
      ]
     },
     "metadata": {
      "needs_background": "light"
     },
     "output_type": "display_data"
    }
   ],
   "source": [
    "plt.figure(figsize=(10,9))\n",
    "plt.scatter(vetorDoc_pca[:, 0], vetorDoc_pca[:, 1], s=3, cmap='Spectral')"
   ]
  },
  {
   "cell_type": "code",
   "execution_count": 145,
   "metadata": {},
   "outputs": [
    {
     "name": "stderr",
     "output_type": "stream",
     "text": [
      "/home/flavia.costa/.local/lib/python3.8/site-packages/sklearn/neural_network/_multilayer_perceptron.py:559: ConvergenceWarning: lbfgs failed to converge (status=1):\n",
      "STOP: TOTAL NO. of ITERATIONS REACHED LIMIT.\n",
      "\n",
      "Increase the number of iterations (max_iter) or scale the data as shown in:\n",
      "    https://scikit-learn.org/stable/modules/preprocessing.html\n"
     ]
    },
    {
     "data": {
      "text/html": [
       "<div>\n",
       "<style scoped>\n",
       "    .dataframe tbody tr th:only-of-type {\n",
       "        vertical-align: middle;\n",
       "    }\n",
       "\n",
       "    .dataframe tbody tr th {\n",
       "        vertical-align: top;\n",
       "    }\n",
       "\n",
       "    .dataframe thead th {\n",
       "        text-align: right;\n",
       "    }\n",
       "</style>\n",
       "<table border=\"1\" class=\"dataframe\">\n",
       "  <thead>\n",
       "    <tr style=\"text-align: right;\">\n",
       "      <th>SENTIMENTO_label</th>\n",
       "      <th>0</th>\n",
       "      <th>1</th>\n",
       "      <th>2</th>\n",
       "    </tr>\n",
       "    <tr>\n",
       "      <th>row_0</th>\n",
       "      <th></th>\n",
       "      <th></th>\n",
       "      <th></th>\n",
       "    </tr>\n",
       "  </thead>\n",
       "  <tbody>\n",
       "    <tr>\n",
       "      <th>0</th>\n",
       "      <td>32</td>\n",
       "      <td>11</td>\n",
       "      <td>4</td>\n",
       "    </tr>\n",
       "    <tr>\n",
       "      <th>1</th>\n",
       "      <td>10</td>\n",
       "      <td>24</td>\n",
       "      <td>6</td>\n",
       "    </tr>\n",
       "    <tr>\n",
       "      <th>2</th>\n",
       "      <td>4</td>\n",
       "      <td>2</td>\n",
       "      <td>10</td>\n",
       "    </tr>\n",
       "  </tbody>\n",
       "</table>\n",
       "</div>"
      ],
      "text/plain": [
       "SENTIMENTO_label   0   1   2\n",
       "row_0                       \n",
       "0                 32  11   4\n",
       "1                 10  24   6\n",
       "2                  4   2  10"
      ]
     },
     "execution_count": 145,
     "metadata": {},
     "output_type": "execute_result"
    }
   ],
   "source": [
    "x_train, x_test, y_train, y_test = train_test_split(vetorDoc_pca\n",
    "                                                    , exemplo_base.SENTIMENTO_label\n",
    "                                                    , random_state=42, test_size=0.20)\n",
    "\n",
    "clf = MLPClassifier(solver='lbfgs', random_state=1, alpha=1)\n",
    "\n",
    "clf = clf.fit(x_train, y_train)\n",
    "y_predicted = clf.predict(x_test)\n",
    "pd.crosstab(y_predicted, y_test)"
   ]
  },
  {
   "cell_type": "code",
   "execution_count": 148,
   "metadata": {},
   "outputs": [
    {
     "name": "stderr",
     "output_type": "stream",
     "text": [
      "/home/flavia.costa/.local/lib/python3.8/site-packages/sklearn/neural_network/_multilayer_perceptron.py:559: ConvergenceWarning: lbfgs failed to converge (status=1):\n",
      "STOP: TOTAL NO. of ITERATIONS REACHED LIMIT.\n",
      "\n",
      "Increase the number of iterations (max_iter) or scale the data as shown in:\n",
      "    https://scikit-learn.org/stable/modules/preprocessing.html\n"
     ]
    },
    {
     "data": {
      "text/html": [
       "<div>\n",
       "<style scoped>\n",
       "    .dataframe tbody tr th:only-of-type {\n",
       "        vertical-align: middle;\n",
       "    }\n",
       "\n",
       "    .dataframe tbody tr th {\n",
       "        vertical-align: top;\n",
       "    }\n",
       "\n",
       "    .dataframe thead th {\n",
       "        text-align: right;\n",
       "    }\n",
       "</style>\n",
       "<table border=\"1\" class=\"dataframe\">\n",
       "  <thead>\n",
       "    <tr style=\"text-align: right;\">\n",
       "      <th>SENTIMENTO_label</th>\n",
       "      <th>0</th>\n",
       "      <th>1</th>\n",
       "      <th>2</th>\n",
       "    </tr>\n",
       "    <tr>\n",
       "      <th>row_0</th>\n",
       "      <th></th>\n",
       "      <th></th>\n",
       "      <th></th>\n",
       "    </tr>\n",
       "  </thead>\n",
       "  <tbody>\n",
       "    <tr>\n",
       "      <th>0</th>\n",
       "      <td>31</td>\n",
       "      <td>8</td>\n",
       "      <td>4</td>\n",
       "    </tr>\n",
       "    <tr>\n",
       "      <th>1</th>\n",
       "      <td>10</td>\n",
       "      <td>24</td>\n",
       "      <td>7</td>\n",
       "    </tr>\n",
       "    <tr>\n",
       "      <th>2</th>\n",
       "      <td>5</td>\n",
       "      <td>5</td>\n",
       "      <td>9</td>\n",
       "    </tr>\n",
       "  </tbody>\n",
       "</table>\n",
       "</div>"
      ],
      "text/plain": [
       "SENTIMENTO_label   0   1  2\n",
       "row_0                      \n",
       "0                 31   8  4\n",
       "1                 10  24  7\n",
       "2                  5   5  9"
      ]
     },
     "execution_count": 148,
     "metadata": {},
     "output_type": "execute_result"
    }
   ],
   "source": [
    "model = build_model(max_epochs=10, hs =0, dm = 1, vec_size=400, window = 1, alpha=0.03, text = w2v_total_data)\n",
    "\n",
    "X = model[model.wv.vocab] #matriz de palavras\n",
    "Y = model.docvecs.vectors_docs #matriz de intenções\n",
    "\n",
    "#transforma em lista\n",
    "vetorDoc = []\n",
    "for i in range(0, len(Y)):\n",
    "    vetorDoc.append(Y[i])\n",
    "\n",
    "\n",
    "pca = PCA(n_components=0.99) #Explicar 99% da variância\n",
    "pca.fit(vetorDoc)\n",
    "vetorDoc_pca = pca.transform(vetorDoc)\n",
    "\n",
    "x_train, x_test, y_train, y_test = train_test_split(vetorDoc_pca\n",
    "                                                    , exemplo_base.SENTIMENTO_label\n",
    "                                                    , random_state=42, test_size=0.20)\n",
    "\n",
    "clf = MLPClassifier(solver='lbfgs', random_state=1, alpha=1)\n",
    "\n",
    "clf = clf.fit(x_train, y_train)\n",
    "y_predicted = clf.predict(x_test)\n",
    "pd.crosstab(y_predicted, y_test)"
   ]
  },
  {
   "cell_type": "code",
   "execution_count": 149,
   "metadata": {},
   "outputs": [
    {
     "data": {
      "text/plain": [
       "[(\"saudo']\", 0.8397592306137085),\n",
       " ('profissionalismo', 0.8102535009384155),\n",
       " (\"profissionalismo'\", 0.7995865345001221),\n",
       " (\"'aja\", 0.7912088632583618),\n",
       " ('educacao', 0.7827285528182983),\n",
       " (\"recarga']\", 0.7762453556060791),\n",
       " (\"'sinto\", 0.7515881061553955),\n",
       " ('raiva', 0.71983802318573),\n",
       " ('\"auxilio', 0.7164872884750366),\n",
       " (\"funcao'\", 0.7073705792427063)]"
      ]
     },
     "execution_count": 149,
     "metadata": {},
     "output_type": "execute_result"
    }
   ],
   "source": [
    "model.wv.similar_by_word(\"respeito\")"
   ]
  },
  {
   "cell_type": "code",
   "execution_count": 151,
   "metadata": {},
   "outputs": [
    {
     "data": {
      "text/plain": [
       "[(\"merda']\", 0.830627977848053),\n",
       " (\"['nem\", 0.7997025847434998),\n",
       " ('votorantim', 0.7919848561286926),\n",
       " (\"funcionalidade'\", 0.7841161489486694),\n",
       " (\"'agilizem\", 0.7839767932891846),\n",
       " ('alocacao', 0.7769902348518372),\n",
       " ('virou', 0.7759866714477539),\n",
       " ('somente', 0.7737199068069458),\n",
       " (\"data']\", 0.7713992595672607),\n",
       " (\"instabilidade'\", 0.7700658440589905)]"
      ]
     },
     "execution_count": 151,
     "metadata": {},
     "output_type": "execute_result"
    }
   ],
   "source": [
    "model.wv.similar_by_word(\"palhacada\")"
   ]
  },
  {
   "cell_type": "code",
   "execution_count": 152,
   "metadata": {},
   "outputs": [
    {
     "data": {
      "text/plain": [
       "[('colocaram', 0.8260087370872498),\n",
       " ('poderiam', 0.8060516715049744),\n",
       " ('custa', 0.8053606748580933),\n",
       " (\"'demoram\", 0.8028307557106018),\n",
       " (\"envie'\", 0.7969196438789368),\n",
       " (\"oh'\", 0.7964017391204834),\n",
       " (\"indevida'\", 0.7929781675338745),\n",
       " ('coloquem', 0.7912800312042236),\n",
       " ('levar', 0.7889528274536133),\n",
       " (\"falar'\", 0.7871626615524292)]"
      ]
     },
     "execution_count": 152,
     "metadata": {},
     "output_type": "execute_result"
    }
   ],
   "source": [
    "model.wv.similar_by_word(\"demoram\")"
   ]
  },
  {
   "cell_type": "code",
   "execution_count": 155,
   "metadata": {},
   "outputs": [
    {
     "data": {
      "text/plain": [
       "[('pedindo', 0.7269002199172974),\n",
       " (\"['onde\", 0.6939099431037903),\n",
       " ('instalo', 0.6920100450515747),\n",
       " ('atividade', 0.6778377294540405),\n",
       " (\"['ainda\", 0.6762406229972839),\n",
       " (\"dois'\", 0.6749647855758667),\n",
       " ('nervoso', 0.6721662282943726),\n",
       " ('hein', 0.6701698303222656),\n",
       " ('conseguindo', 0.6658755540847778),\n",
       " (\"'n\", 0.6656349897384644)]"
      ]
     },
     "execution_count": 155,
     "metadata": {},
     "output_type": "execute_result"
    }
   ],
   "source": [
    "model.wv.similar_by_word(\"horrivel\")"
   ]
  },
  {
   "cell_type": "code",
   "execution_count": 156,
   "metadata": {},
   "outputs": [
    {
     "data": {
      "text/plain": [
       "[('sistema', 0.7770317792892456),\n",
       " ('comprovante', 0.773215651512146),\n",
       " ('ano', 0.7689486742019653),\n",
       " ('endereco', 0.7624940276145935),\n",
       " ('whatsapp', 0.7223315834999084),\n",
       " ('vencida', 0.7184044718742371),\n",
       " ('cashback', 0.7161651253700256),\n",
       " ('direito', 0.704868495464325),\n",
       " ('servico', 0.7026729583740234),\n",
       " ('link', 0.6970478892326355)]"
      ]
     },
     "execution_count": 156,
     "metadata": {},
     "output_type": "execute_result"
    }
   ],
   "source": [
    "model.wv.similar_by_word(\"banco\")"
   ]
  },
  {
   "cell_type": "code",
   "execution_count": 157,
   "metadata": {},
   "outputs": [
    {
     "data": {
      "text/plain": [
       "[('obrigado', 0.940455436706543),\n",
       " (\"obrigada']\", 0.9161301851272583),\n",
       " (\"baguncado'\", 0.8873982429504395),\n",
       " (\"baixo'\", 0.8638845682144165),\n",
       " (\"'obrigado\", 0.8551015853881836),\n",
       " (\"almente'\", 0.8544105291366577),\n",
       " (\"['ok\", 0.8531495332717896),\n",
       " (\"'voltou*'\", 0.8477998971939087),\n",
       " ('moca', 0.8430291414260864),\n",
       " (\"obrigado'\", 0.8425289392471313)]"
      ]
     },
     "execution_count": 157,
     "metadata": {},
     "output_type": "execute_result"
    }
   ],
   "source": [
    "model.wv.similar_by_word(\"obrigada\")"
   ]
  },
  {
   "cell_type": "code",
   "execution_count": 158,
   "metadata": {},
   "outputs": [
    {
     "data": {
      "text/plain": [
       "[(\"'tenha\", 0.8473509550094604),\n",
       " ('tenha', 0.842308759689331),\n",
       " ('otimo', 0.8110674023628235),\n",
       " ('otima', 0.7967102527618408),\n",
       " ('dez', 0.7674165964126587),\n",
       " ('bom', 0.7601733207702637),\n",
       " ('somos', 0.7554494142532349),\n",
       " ('senti', 0.7413634061813354),\n",
       " ('saindo', 0.7361342310905457),\n",
       " ('atencao', 0.7180790901184082)]"
      ]
     },
     "execution_count": 158,
     "metadata": {},
     "output_type": "execute_result"
    }
   ],
   "source": [
    "model.wv.similar_by_word(\"excelente\")"
   ]
  }
 ],
 "metadata": {
  "kernelspec": {
   "display_name": "Python 3",
   "language": "python",
   "name": "python3"
  },
  "language_info": {
   "codemirror_mode": {
    "name": "ipython",
    "version": 3
   },
   "file_extension": ".py",
   "mimetype": "text/x-python",
   "name": "python",
   "nbconvert_exporter": "python",
   "pygments_lexer": "ipython3",
   "version": "3.8.10"
  },
  "orig_nbformat": 4
 },
 "nbformat": 4,
 "nbformat_minor": 2
}
