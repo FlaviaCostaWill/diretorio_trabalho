{
 "cells": [
  {
   "cell_type": "code",
   "execution_count": 1,
   "metadata": {
    "tags": []
   },
   "outputs": [],
   "source": [
    "import pandas as pd\n",
    "import numpy as np\n",
    "import os as os\n",
    "#import pickle\n",
    "import seaborn as sns\n",
    "import matplotlib.pyplot as plt\n",
    "\n",
    "from sklearn.feature_extraction.text import TfidfVectorizer\n",
    "from sklearn import metrics\n",
    "from sklearn.model_selection import train_test_split\n",
    "from sklearn.model_selection import cross_val_score, StratifiedKFold, KFold, RepeatedKFold\n",
    "from sklearn.metrics import classification_report\n",
    "from joblib import dump, load\n",
    "import acessos as ac\n",
    "import warnings\n",
    "\n",
    "warnings.simplefilter(action='ignore', category=FutureWarning)"
   ]
  },
  {
   "cell_type": "code",
   "execution_count": 2,
   "metadata": {
    "tags": []
   },
   "outputs": [],
   "source": [
    "text_file = open(os.path.abspath('../Análise de sentimento/verbalizacoes.sql'), \"r\")\n",
    "query = text_file.read()\n",
    "text_file.close()\n",
    "df = ac.df_athena_q('flavia-costa', query)"
   ]
  },
  {
   "cell_type": "code",
   "execution_count": 3,
   "metadata": {
    "tags": []
   },
   "outputs": [
    {
     "data": {
      "text/html": [
       "<div>\n",
       "<style scoped>\n",
       "    .dataframe tbody tr th:only-of-type {\n",
       "        vertical-align: middle;\n",
       "    }\n",
       "\n",
       "    .dataframe tbody tr th {\n",
       "        vertical-align: top;\n",
       "    }\n",
       "\n",
       "    .dataframe thead th {\n",
       "        text-align: right;\n",
       "    }\n",
       "</style>\n",
       "<table border=\"1\" class=\"dataframe\">\n",
       "  <thead>\n",
       "    <tr style=\"text-align: right;\">\n",
       "      <th></th>\n",
       "      <th>id_issue</th>\n",
       "      <th>cpf_customer</th>\n",
       "      <th>mes_chat</th>\n",
       "      <th>dt_envio_mensagem</th>\n",
       "      <th>ds_message</th>\n",
       "    </tr>\n",
       "  </thead>\n",
       "  <tbody>\n",
       "    <tr>\n",
       "      <th>0</th>\n",
       "      <td>18164186</td>\n",
       "      <td>12524962490</td>\n",
       "      <td>2023-08-01</td>\n",
       "      <td>2023-08-10</td>\n",
       "      <td>[É outro assunto, problema com recebimento de ...</td>\n",
       "    </tr>\n",
       "    <tr>\n",
       "      <th>1</th>\n",
       "      <td>18064579</td>\n",
       "      <td>04175649026</td>\n",
       "      <td>2023-08-01</td>\n",
       "      <td>2023-08-07</td>\n",
       "      <td>[Eu pedi reembolso sobre a compra com o site, ...</td>\n",
       "    </tr>\n",
       "    <tr>\n",
       "      <th>2</th>\n",
       "      <td>18396641</td>\n",
       "      <td>02036562299</td>\n",
       "      <td>2023-08-01</td>\n",
       "      <td>2023-08-20</td>\n",
       "      <td>[Mais opções, Falar de outra coisa, Perdi meu ...</td>\n",
       "    </tr>\n",
       "    <tr>\n",
       "      <th>3</th>\n",
       "      <td>18208804</td>\n",
       "      <td>06977144203</td>\n",
       "      <td>2023-08-01</td>\n",
       "      <td>2023-08-11</td>\n",
       "      <td>[Falar de outra coisa, Pix, Não dá pra cadastr...</td>\n",
       "    </tr>\n",
       "    <tr>\n",
       "      <th>4</th>\n",
       "      <td>17951777</td>\n",
       "      <td>11004491590</td>\n",
       "      <td>2023-08-01</td>\n",
       "      <td>2023-08-02</td>\n",
       "      <td>[Parcelado, 80.00, 000, Quero falar com um esp...</td>\n",
       "    </tr>\n",
       "  </tbody>\n",
       "</table>\n",
       "</div>"
      ],
      "text/plain": [
       "   id_issue cpf_customer    mes_chat dt_envio_mensagem  \\\n",
       "0  18164186  12524962490  2023-08-01        2023-08-10   \n",
       "1  18064579  04175649026  2023-08-01        2023-08-07   \n",
       "2  18396641  02036562299  2023-08-01        2023-08-20   \n",
       "3  18208804  06977144203  2023-08-01        2023-08-11   \n",
       "4  17951777  11004491590  2023-08-01        2023-08-02   \n",
       "\n",
       "                                          ds_message  \n",
       "0  [É outro assunto, problema com recebimento de ...  \n",
       "1  [Eu pedi reembolso sobre a compra com o site, ...  \n",
       "2  [Mais opções, Falar de outra coisa, Perdi meu ...  \n",
       "3  [Falar de outra coisa, Pix, Não dá pra cadastr...  \n",
       "4  [Parcelado, 80.00, 000, Quero falar com um esp...  "
      ]
     },
     "execution_count": 3,
     "metadata": {},
     "output_type": "execute_result"
    }
   ],
   "source": [
    "df.head()"
   ]
  },
  {
   "cell_type": "code",
   "execution_count": 4,
   "metadata": {},
   "outputs": [
    {
     "data": {
      "text/plain": [
       "852883"
      ]
     },
     "execution_count": 4,
     "metadata": {},
     "output_type": "execute_result"
    }
   ],
   "source": [
    "len(df)"
   ]
  },
  {
   "cell_type": "markdown",
   "metadata": {},
   "source": [
    "## Aplicando modelo sentimento"
   ]
  },
  {
   "cell_type": "code",
   "execution_count": 13,
   "metadata": {},
   "outputs": [],
   "source": [
    "from sklearn.neural_network import MLPClassifier\n",
    "\n",
    "\n",
    "vetorizador = load('vetorizador_sentimento.joblib') "
   ]
  },
  {
   "cell_type": "code",
   "execution_count": 14,
   "metadata": {},
   "outputs": [],
   "source": [
    "X = vetorizador.transform(df['ds_message'])"
   ]
  },
  {
   "cell_type": "code",
   "execution_count": 15,
   "metadata": {},
   "outputs": [],
   "source": [
    "clf_sentiment = load('modelo_sentimento.joblib') "
   ]
  },
  {
   "cell_type": "code",
   "execution_count": 16,
   "metadata": {},
   "outputs": [],
   "source": [
    "df['sent_predito_1'] = clf_sentiment.predict(X)"
   ]
  },
  {
   "cell_type": "markdown",
   "metadata": {},
   "source": [
    "### Palavras chave "
   ]
  },
  {
   "cell_type": "code",
   "execution_count": 66,
   "metadata": {},
   "outputs": [],
   "source": [
    "chave_negativo = ['falta de respeito', \n",
    "'judicial',\n",
    "'procon',\n",
    "'jurídico',\n",
    "'porra',\n",
    "'merda', \n",
    "'palhaçada',\n",
    "'carai',\n",
    "'caralho',\n",
    "'bosta',\n",
    "'vocês demoram',\n",
    "'voces demoram',\n",
    "'vcs demoram',\n",
    "'horrivel',\n",
    "'banco ruim',\n",
    "'péssimo',\n",
    "'danos morais',\n",
    "'pelo amor de deus',\n",
    "'eu preciso resolver',\n",
    "'atender??',\n",
    "'me roubando']\n"
   ]
  },
  {
   "cell_type": "code",
   "execution_count": 76,
   "metadata": {},
   "outputs": [],
   "source": [
    "chave_positivo = [\n",
    "'ótimo',\n",
    "'otimo',\n",
    "'perfeito',\n",
    "'muito obrigada',\n",
    "'excelente',\n",
    "'ótimo dia',\n",
    "'maravilha',\n",
    "'deus abençoe']"
   ]
  },
  {
   "cell_type": "code",
   "execution_count": 77,
   "metadata": {},
   "outputs": [
    {
     "data": {
      "text/plain": [
       "1    596127\n",
       "0    196172\n",
       "2     60584\n",
       "Name: sent_predito_1, dtype: int64"
      ]
     },
     "execution_count": 77,
     "metadata": {},
     "output_type": "execute_result"
    }
   ],
   "source": [
    "df['sent_predito_1'].value_counts()"
   ]
  },
  {
   "cell_type": "code",
   "execution_count": 61,
   "metadata": {},
   "outputs": [],
   "source": [
    "def marca_negativo(x):\n",
    "    for i in chave_negativo:\n",
    "        if (x.find(i) != -1):\n",
    "            return 1\n",
    "        else:\n",
    "            return 0\n",
    "   \n",
    "df['flag_negativo'] = df['ds_message'].apply(marca_negativo)"
   ]
  },
  {
   "cell_type": "code",
   "execution_count": 78,
   "metadata": {},
   "outputs": [],
   "source": [
    "def marca_positivo(x):\n",
    "    for i in chave_positivo:\n",
    "        if (x.find(i) != -1):\n",
    "            return 1\n",
    "        else:\n",
    "            return 0\n",
    "   \n",
    "df['flag_positivo'] = df['ds_message'].apply(marca_positivo)"
   ]
  },
  {
   "cell_type": "code",
   "execution_count": 79,
   "metadata": {},
   "outputs": [
    {
     "data": {
      "text/plain": [
       "1    595318\n",
       "0    196215\n",
       "2     61350\n",
       "Name: sent_predito_final, dtype: int64"
      ]
     },
     "execution_count": 79,
     "metadata": {},
     "output_type": "execute_result"
    }
   ],
   "source": [
    "df['sent_predito_final'] = np.where((df['flag_negativo'] == 1) | (df['sent_predito_1'] == 0),  0, #condições negativo\n",
    "                                 np.where(df['flag_positivo'] == 1,  2, #condições positivo\n",
    "                                          df['sent_predito_1']))\n",
    "\n",
    "df['sent_predito_final'].value_counts()"
   ]
  },
  {
   "cell_type": "markdown",
   "metadata": {},
   "source": [
    "### Modelo do tipo de mensagem"
   ]
  },
  {
   "cell_type": "code",
   "execution_count": 23,
   "metadata": {},
   "outputs": [],
   "source": [
    "clf_tipo_msg = load('modelo_tipo_mensagem.joblib')"
   ]
  },
  {
   "cell_type": "code",
   "execution_count": 24,
   "metadata": {},
   "outputs": [],
   "source": [
    "df['tipo_msg_predito'] = clf_tipo_msg.predict(X)"
   ]
  },
  {
   "cell_type": "code",
   "execution_count": 25,
   "metadata": {},
   "outputs": [
    {
     "data": {
      "text/plain": [
       "0    394796\n",
       "2    256753\n",
       "1    201334\n",
       "Name: tipo_msg_predito, dtype: int64"
      ]
     },
     "execution_count": 25,
     "metadata": {},
     "output_type": "execute_result"
    }
   ],
   "source": [
    "df['tipo_msg_predito'].value_counts()"
   ]
  },
  {
   "cell_type": "code",
   "execution_count": 26,
   "metadata": {},
   "outputs": [
    {
     "data": {
      "text/html": [
       "<div>\n",
       "<style scoped>\n",
       "    .dataframe tbody tr th:only-of-type {\n",
       "        vertical-align: middle;\n",
       "    }\n",
       "\n",
       "    .dataframe tbody tr th {\n",
       "        vertical-align: top;\n",
       "    }\n",
       "\n",
       "    .dataframe thead th {\n",
       "        text-align: right;\n",
       "    }\n",
       "</style>\n",
       "<table border=\"1\" class=\"dataframe\">\n",
       "  <thead>\n",
       "    <tr style=\"text-align: right;\">\n",
       "      <th></th>\n",
       "      <th>id_issue</th>\n",
       "      <th>cpf_customer</th>\n",
       "      <th>mes_chat</th>\n",
       "      <th>dt_envio_mensagem</th>\n",
       "      <th>ds_message</th>\n",
       "      <th>sent_predito_1</th>\n",
       "      <th>flag_negativo</th>\n",
       "      <th>flag_positivo</th>\n",
       "      <th>sent_predito_final</th>\n",
       "      <th>tipo_msg_predito</th>\n",
       "    </tr>\n",
       "  </thead>\n",
       "  <tbody>\n",
       "    <tr>\n",
       "      <th>0</th>\n",
       "      <td>18164186</td>\n",
       "      <td>12524962490</td>\n",
       "      <td>2023-08-01</td>\n",
       "      <td>2023-08-10</td>\n",
       "      <td>[É outro assunto, problema com recebimento de ...</td>\n",
       "      <td>1</td>\n",
       "      <td>0</td>\n",
       "      <td>0</td>\n",
       "      <td>1</td>\n",
       "      <td>0</td>\n",
       "    </tr>\n",
       "    <tr>\n",
       "      <th>1</th>\n",
       "      <td>18064579</td>\n",
       "      <td>04175649026</td>\n",
       "      <td>2023-08-01</td>\n",
       "      <td>2023-08-07</td>\n",
       "      <td>[Eu pedi reembolso sobre a compra com o site, ...</td>\n",
       "      <td>1</td>\n",
       "      <td>0</td>\n",
       "      <td>0</td>\n",
       "      <td>1</td>\n",
       "      <td>0</td>\n",
       "    </tr>\n",
       "    <tr>\n",
       "      <th>2</th>\n",
       "      <td>18396641</td>\n",
       "      <td>02036562299</td>\n",
       "      <td>2023-08-01</td>\n",
       "      <td>2023-08-20</td>\n",
       "      <td>[Mais opções, Falar de outra coisa, Perdi meu ...</td>\n",
       "      <td>1</td>\n",
       "      <td>0</td>\n",
       "      <td>0</td>\n",
       "      <td>1</td>\n",
       "      <td>1</td>\n",
       "    </tr>\n",
       "    <tr>\n",
       "      <th>3</th>\n",
       "      <td>18208804</td>\n",
       "      <td>06977144203</td>\n",
       "      <td>2023-08-01</td>\n",
       "      <td>2023-08-11</td>\n",
       "      <td>[Falar de outra coisa, Pix, Não dá pra cadastr...</td>\n",
       "      <td>0</td>\n",
       "      <td>0</td>\n",
       "      <td>0</td>\n",
       "      <td>0</td>\n",
       "      <td>0</td>\n",
       "    </tr>\n",
       "    <tr>\n",
       "      <th>4</th>\n",
       "      <td>17951777</td>\n",
       "      <td>11004491590</td>\n",
       "      <td>2023-08-01</td>\n",
       "      <td>2023-08-02</td>\n",
       "      <td>[Parcelado, 80.00, 000, Quero falar com um esp...</td>\n",
       "      <td>1</td>\n",
       "      <td>0</td>\n",
       "      <td>0</td>\n",
       "      <td>1</td>\n",
       "      <td>2</td>\n",
       "    </tr>\n",
       "  </tbody>\n",
       "</table>\n",
       "</div>"
      ],
      "text/plain": [
       "   id_issue cpf_customer    mes_chat dt_envio_mensagem  \\\n",
       "0  18164186  12524962490  2023-08-01        2023-08-10   \n",
       "1  18064579  04175649026  2023-08-01        2023-08-07   \n",
       "2  18396641  02036562299  2023-08-01        2023-08-20   \n",
       "3  18208804  06977144203  2023-08-01        2023-08-11   \n",
       "4  17951777  11004491590  2023-08-01        2023-08-02   \n",
       "\n",
       "                                          ds_message  sent_predito_1  \\\n",
       "0  [É outro assunto, problema com recebimento de ...               1   \n",
       "1  [Eu pedi reembolso sobre a compra com o site, ...               1   \n",
       "2  [Mais opções, Falar de outra coisa, Perdi meu ...               1   \n",
       "3  [Falar de outra coisa, Pix, Não dá pra cadastr...               0   \n",
       "4  [Parcelado, 80.00, 000, Quero falar com um esp...               1   \n",
       "\n",
       "   flag_negativo  flag_positivo  sent_predito_final  tipo_msg_predito  \n",
       "0              0              0                   1                 0  \n",
       "1              0              0                   1                 0  \n",
       "2              0              0                   1                 1  \n",
       "3              0              0                   0                 0  \n",
       "4              0              0                   1                 2  "
      ]
     },
     "execution_count": 26,
     "metadata": {},
     "output_type": "execute_result"
    }
   ],
   "source": [
    "df.head()"
   ]
  },
  {
   "cell_type": "code",
   "execution_count": 80,
   "metadata": {},
   "outputs": [],
   "source": [
    "df['sentimento_predito'] = np.where(df['sent_predito_final'] == 0,  '0. Negativo', \n",
    "                           np.where(df['sent_predito_final'] == 2,  '2. Positivo', '1. Neutro'))"
   ]
  },
  {
   "cell_type": "code",
   "execution_count": 42,
   "metadata": {},
   "outputs": [
    {
     "data": {
      "text/plain": [
       "'[Dúvida sobre uma compra, Apareceu uma compra que eu não fiz, Pela 5° x, Eu não vou mais falar com vcs, Vcs demora 2 horas pra responder quando responde eu não vejo pq não sou vidente, Já mandei todas as informações q vcs me pedem, Estão me fazendo de otário, Ou vcs resolvem minha situação ou irei tomar medidas judiciais, 02/09/2023 APPLE.COM/BILL SAO PAULO BRA 54,90\\n02/09/2023 APPLE.COM/BILL SAO PAULO BRA 54,90\\n02/09/2023 APPLE.COM/BILL SAO PAULO BRA 27,90\\n02/09/2023 APPLE.COM/BILL SAO PAULO BRA 54,90\\n02/09/2023 APPLE.COM/BILL SAO PAULO BRA 27,90\\n02/09/2023 APPLE.COM/BILL SAO PAULO BRA 4,90\\n02/09/2023 APPLE.COM/BILL SAO PAULO BRA 4,90\\n27/08/2023 APPLE.COM/BILL SAO PAULO BRA 4,90, Parem de me perguntar se tem outras compras q nao foi eu q comprei q estão na minha time LINE. As únicas q não foi eu são justamente essas q te mandei, Pela 5 x, Pare de me enrolar porra, Já tô ficando estressado, Caramba rapaz, Vcs são incompetentes, Todos vcs, Sem excessão, Resolva minha questão, Agora por favor, Chega de mimimi, E não vem com esse Papinho de me desculpa pela demora em responder, E que está aqui pra resolver meu problema q vcs não estão resolvendo, Rebanho de incompetentes, Façam seu trabalho, De forma justa, Sem querer enganar o cliente, Com descuspinhas, Descupinhas, Q aqui não tem idiota não, Infelizmente não sei quem vai me atender pq toda hora é uma pessoa diferente e demora horrores, Me desculpa mais sobrou pra vc, E não faça como os outros, Resolva o problema, Cancelem essas compras q não fiz]'"
      ]
     },
     "execution_count": 42,
     "metadata": {},
     "output_type": "execute_result"
    }
   ],
   "source": [
    "df.query('sentimento_predito == \"0. Negativo\"')['ds_message'][27]"
   ]
  },
  {
   "cell_type": "code",
   "execution_count": 46,
   "metadata": {},
   "outputs": [],
   "source": [
    "df['tipo_msg_predito'] = np.where(df['tipo_msg_predito'] == 0,  '0. Problema', \n",
    "                           np.where(df['tipo_msg_predito'] == 1,  '1. Solicitacao', '2. Duvida'))"
   ]
  },
  {
   "cell_type": "code",
   "execution_count": 59,
   "metadata": {},
   "outputs": [
    {
     "data": {
      "text/html": [
       "<div>\n",
       "<style scoped>\n",
       "    .dataframe tbody tr th:only-of-type {\n",
       "        vertical-align: middle;\n",
       "    }\n",
       "\n",
       "    .dataframe tbody tr th {\n",
       "        vertical-align: top;\n",
       "    }\n",
       "\n",
       "    .dataframe thead th {\n",
       "        text-align: right;\n",
       "    }\n",
       "</style>\n",
       "<table border=\"1\" class=\"dataframe\">\n",
       "  <thead>\n",
       "    <tr style=\"text-align: right;\">\n",
       "      <th></th>\n",
       "      <th>id_issue</th>\n",
       "      <th>cpf_customer</th>\n",
       "      <th>mes_chat</th>\n",
       "      <th>dt_envio_mensagem</th>\n",
       "      <th>ds_message</th>\n",
       "      <th>sent_predito_1</th>\n",
       "      <th>flag_negativo</th>\n",
       "      <th>flag_positivo</th>\n",
       "      <th>sent_predito_final</th>\n",
       "      <th>tipo_msg_predito</th>\n",
       "      <th>sentimento_predito</th>\n",
       "    </tr>\n",
       "  </thead>\n",
       "  <tbody>\n",
       "    <tr>\n",
       "      <th>0</th>\n",
       "      <td>18164186</td>\n",
       "      <td>12524962490</td>\n",
       "      <td>2023-08-01</td>\n",
       "      <td>2023-08-10</td>\n",
       "      <td>[É outro assunto, problema com recebimento de ...</td>\n",
       "      <td>1</td>\n",
       "      <td>0</td>\n",
       "      <td>0</td>\n",
       "      <td>1</td>\n",
       "      <td>0. Problema</td>\n",
       "      <td>1. Neutro</td>\n",
       "    </tr>\n",
       "    <tr>\n",
       "      <th>1</th>\n",
       "      <td>18064579</td>\n",
       "      <td>04175649026</td>\n",
       "      <td>2023-08-01</td>\n",
       "      <td>2023-08-07</td>\n",
       "      <td>[Eu pedi reembolso sobre a compra com o site, ...</td>\n",
       "      <td>1</td>\n",
       "      <td>0</td>\n",
       "      <td>0</td>\n",
       "      <td>1</td>\n",
       "      <td>0. Problema</td>\n",
       "      <td>1. Neutro</td>\n",
       "    </tr>\n",
       "    <tr>\n",
       "      <th>2</th>\n",
       "      <td>18396641</td>\n",
       "      <td>02036562299</td>\n",
       "      <td>2023-08-01</td>\n",
       "      <td>2023-08-20</td>\n",
       "      <td>[Mais opções, Falar de outra coisa, Perdi meu ...</td>\n",
       "      <td>1</td>\n",
       "      <td>0</td>\n",
       "      <td>0</td>\n",
       "      <td>1</td>\n",
       "      <td>1. Solicitacao</td>\n",
       "      <td>1. Neutro</td>\n",
       "    </tr>\n",
       "    <tr>\n",
       "      <th>3</th>\n",
       "      <td>18208804</td>\n",
       "      <td>06977144203</td>\n",
       "      <td>2023-08-01</td>\n",
       "      <td>2023-08-11</td>\n",
       "      <td>[Falar de outra coisa, Pix, Não dá pra cadastr...</td>\n",
       "      <td>0</td>\n",
       "      <td>0</td>\n",
       "      <td>0</td>\n",
       "      <td>0</td>\n",
       "      <td>0. Problema</td>\n",
       "      <td>0. Negativo</td>\n",
       "    </tr>\n",
       "    <tr>\n",
       "      <th>4</th>\n",
       "      <td>17951777</td>\n",
       "      <td>11004491590</td>\n",
       "      <td>2023-08-01</td>\n",
       "      <td>2023-08-02</td>\n",
       "      <td>[Parcelado, 80.00, 000, Quero falar com um esp...</td>\n",
       "      <td>1</td>\n",
       "      <td>0</td>\n",
       "      <td>0</td>\n",
       "      <td>1</td>\n",
       "      <td>2. Duvida</td>\n",
       "      <td>1. Neutro</td>\n",
       "    </tr>\n",
       "  </tbody>\n",
       "</table>\n",
       "</div>"
      ],
      "text/plain": [
       "   id_issue cpf_customer    mes_chat dt_envio_mensagem  \\\n",
       "0  18164186  12524962490  2023-08-01        2023-08-10   \n",
       "1  18064579  04175649026  2023-08-01        2023-08-07   \n",
       "2  18396641  02036562299  2023-08-01        2023-08-20   \n",
       "3  18208804  06977144203  2023-08-01        2023-08-11   \n",
       "4  17951777  11004491590  2023-08-01        2023-08-02   \n",
       "\n",
       "                                          ds_message  sent_predito_1  \\\n",
       "0  [É outro assunto, problema com recebimento de ...               1   \n",
       "1  [Eu pedi reembolso sobre a compra com o site, ...               1   \n",
       "2  [Mais opções, Falar de outra coisa, Perdi meu ...               1   \n",
       "3  [Falar de outra coisa, Pix, Não dá pra cadastr...               0   \n",
       "4  [Parcelado, 80.00, 000, Quero falar com um esp...               1   \n",
       "\n",
       "   flag_negativo  flag_positivo  sent_predito_final tipo_msg_predito  \\\n",
       "0              0              0                   1      0. Problema   \n",
       "1              0              0                   1      0. Problema   \n",
       "2              0              0                   1   1. Solicitacao   \n",
       "3              0              0                   0      0. Problema   \n",
       "4              0              0                   1        2. Duvida   \n",
       "\n",
       "  sentimento_predito  \n",
       "0          1. Neutro  \n",
       "1          1. Neutro  \n",
       "2          1. Neutro  \n",
       "3        0. Negativo  \n",
       "4          1. Neutro  "
      ]
     },
     "execution_count": 59,
     "metadata": {},
     "output_type": "execute_result"
    }
   ],
   "source": [
    "df.head()"
   ]
  },
  {
   "cell_type": "code",
   "execution_count": 81,
   "metadata": {},
   "outputs": [
    {
     "data": {
      "text/html": [
       "<div>\n",
       "<style scoped>\n",
       "    .dataframe tbody tr th:only-of-type {\n",
       "        vertical-align: middle;\n",
       "    }\n",
       "\n",
       "    .dataframe tbody tr th {\n",
       "        vertical-align: top;\n",
       "    }\n",
       "\n",
       "    .dataframe thead th {\n",
       "        text-align: right;\n",
       "    }\n",
       "</style>\n",
       "<table border=\"1\" class=\"dataframe\">\n",
       "  <thead>\n",
       "    <tr style=\"text-align: right;\">\n",
       "      <th>tipo_msg_predito</th>\n",
       "      <th>0. Problema</th>\n",
       "      <th>1. Solicitacao</th>\n",
       "      <th>2. Duvida</th>\n",
       "    </tr>\n",
       "    <tr>\n",
       "      <th>sentimento_predito</th>\n",
       "      <th></th>\n",
       "      <th></th>\n",
       "      <th></th>\n",
       "    </tr>\n",
       "  </thead>\n",
       "  <tbody>\n",
       "    <tr>\n",
       "      <th>0. Negativo</th>\n",
       "      <td>0.669245</td>\n",
       "      <td>0.161863</td>\n",
       "      <td>0.168891</td>\n",
       "    </tr>\n",
       "    <tr>\n",
       "      <th>1. Neutro</th>\n",
       "      <td>0.406803</td>\n",
       "      <td>0.261039</td>\n",
       "      <td>0.332159</td>\n",
       "    </tr>\n",
       "    <tr>\n",
       "      <th>2. Positivo</th>\n",
       "      <td>0.347237</td>\n",
       "      <td>0.231019</td>\n",
       "      <td>0.421744</td>\n",
       "    </tr>\n",
       "  </tbody>\n",
       "</table>\n",
       "</div>"
      ],
      "text/plain": [
       "tipo_msg_predito    0. Problema  1. Solicitacao  2. Duvida\n",
       "sentimento_predito                                        \n",
       "0. Negativo            0.669245        0.161863   0.168891\n",
       "1. Neutro              0.406803        0.261039   0.332159\n",
       "2. Positivo            0.347237        0.231019   0.421744"
      ]
     },
     "execution_count": 81,
     "metadata": {},
     "output_type": "execute_result"
    }
   ],
   "source": [
    "pd.crosstab(df.sentimento_predito, df.tipo_msg_predito, normalize='index')"
   ]
  },
  {
   "cell_type": "code",
   "execution_count": 82,
   "metadata": {},
   "outputs": [
    {
     "data": {
      "text/html": [
       "<div>\n",
       "<style scoped>\n",
       "    .dataframe tbody tr th:only-of-type {\n",
       "        vertical-align: middle;\n",
       "    }\n",
       "\n",
       "    .dataframe tbody tr th {\n",
       "        vertical-align: top;\n",
       "    }\n",
       "\n",
       "    .dataframe thead th {\n",
       "        text-align: right;\n",
       "    }\n",
       "</style>\n",
       "<table border=\"1\" class=\"dataframe\">\n",
       "  <thead>\n",
       "    <tr style=\"text-align: right;\">\n",
       "      <th>tipo_msg_predito</th>\n",
       "      <th>0. Problema</th>\n",
       "      <th>1. Solicitacao</th>\n",
       "      <th>2. Duvida</th>\n",
       "    </tr>\n",
       "    <tr>\n",
       "      <th>sentimento_predito</th>\n",
       "      <th></th>\n",
       "      <th></th>\n",
       "      <th></th>\n",
       "    </tr>\n",
       "  </thead>\n",
       "  <tbody>\n",
       "    <tr>\n",
       "      <th>0. Negativo</th>\n",
       "      <td>0.332617</td>\n",
       "      <td>0.157748</td>\n",
       "      <td>0.129070</td>\n",
       "    </tr>\n",
       "    <tr>\n",
       "      <th>1. Neutro</th>\n",
       "      <td>0.613423</td>\n",
       "      <td>0.771857</td>\n",
       "      <td>0.770157</td>\n",
       "    </tr>\n",
       "    <tr>\n",
       "      <th>2. Positivo</th>\n",
       "      <td>0.053960</td>\n",
       "      <td>0.070395</td>\n",
       "      <td>0.100774</td>\n",
       "    </tr>\n",
       "  </tbody>\n",
       "</table>\n",
       "</div>"
      ],
      "text/plain": [
       "tipo_msg_predito    0. Problema  1. Solicitacao  2. Duvida\n",
       "sentimento_predito                                        \n",
       "0. Negativo            0.332617        0.157748   0.129070\n",
       "1. Neutro              0.613423        0.771857   0.770157\n",
       "2. Positivo            0.053960        0.070395   0.100774"
      ]
     },
     "execution_count": 82,
     "metadata": {},
     "output_type": "execute_result"
    }
   ],
   "source": [
    "pd.crosstab(df.sentimento_predito, df.tipo_msg_predito, normalize='columns')"
   ]
  },
  {
   "cell_type": "code",
   "execution_count": 51,
   "metadata": {},
   "outputs": [
    {
     "data": {
      "text/plain": [
       "20                              [Sim, podemos, Sim. Recebi]\n",
       "28        [Falar de outra coisa, Eu paguei o boleto pra ...\n",
       "54        [Falar de outra coisa, Então eu tenho uma fatu...\n",
       "106       [Pedir o reenvio, O endereço tá certo, 49100-0...\n",
       "117       [Cartão físico, Entrega do cartão, Recebi hj o...\n",
       "                                ...                        \n",
       "852728    [Dúvida sobre uma compra, Apareceu uma compra ...\n",
       "852792         [Só recebi a notificação no email da compra]\n",
       "852818    [Estava correto sim. Eu moro esse portão preto...\n",
       "852835    [Oii. boa tarde, Meu boleto de negociação está...\n",
       "852861    [Problema com compra, Compra que não fiz, Nunc...\n",
       "Name: ds_message, Length: 21870, dtype: object"
      ]
     },
     "execution_count": 51,
     "metadata": {},
     "output_type": "execute_result"
    }
   ],
   "source": [
    "df.query('sentimento_predito == \"2. Positivo\" and tipo_msg_predito == \"0. Problema\"')['ds_message']\n",
    "#[117]"
   ]
  },
  {
   "cell_type": "code",
   "execution_count": 53,
   "metadata": {},
   "outputs": [
    {
     "data": {
      "text/plain": [
       "'[Bom dia! Eu tinha feito uma negociação com vcs para quitar o contrato, vcs foram bem claro comigo, o valor que eu paguei iria quitar os débitos vencidos e o que iria vencer, agora chegou uma fatura para eu pagar., Oi?????, Não vão me responder?]'"
      ]
     },
     "execution_count": 53,
     "metadata": {},
     "output_type": "execute_result"
    }
   ],
   "source": [
    "df.query('sentimento_predito == \"0. Negativo\" and tipo_msg_predito == \"1. Solicitacao\"')['ds_message'][167]\n",
    "#[117]"
   ]
  },
  {
   "cell_type": "code",
   "execution_count": 83,
   "metadata": {},
   "outputs": [
    {
     "data": {
      "text/plain": [
       "Index(['id_issue', 'cpf_customer', 'mes_chat', 'dt_envio_mensagem',\n",
       "       'ds_message', 'sent_predito_1', 'flag_negativo', 'flag_positivo',\n",
       "       'sent_predito_final', 'tipo_msg_predito', 'sentimento_predito'],\n",
       "      dtype='object')"
      ]
     },
     "execution_count": 83,
     "metadata": {},
     "output_type": "execute_result"
    }
   ],
   "source": [
    "df.columns"
   ]
  },
  {
   "cell_type": "code",
   "execution_count": 84,
   "metadata": {},
   "outputs": [
    {
     "name": "stdout",
     "output_type": "stream",
     "text": [
      "upload: ./cx.analise_sentimento_teste.csv to s3://data-sandbox-zone-will-prod/upload/cx.analise_sentimento_teste.csv\n"
     ]
    },
    {
     "data": {
      "text/plain": [
       "0"
      ]
     },
     "execution_count": 84,
     "metadata": {},
     "output_type": "execute_result"
    }
   ],
   "source": [
    "area = 'cx'\n",
    "name = 'analise_sentimento_teste.csv'\n",
    "filename = f'{area}.{name}'\n",
    "\n",
    "df[['cpf_customer', 'mes_chat', 'dt_envio_mensagem',\n",
    "       'ds_message', 'sent_predito_1','tipo_msg_predito', 'sentimento_predito']].to_csv(filename, index=False)\n",
    "\n",
    "os.system(f'aws s3 cp {filename} s3://data-sandbox-zone-will-prod/upload/')"
   ]
  },
  {
   "cell_type": "markdown",
   "metadata": {},
   "source": [
    "Análises:\n",
    "\n",
    "- Cruzar com Detratores\n",
    "- Cruzar com HMS v1\n",
    "- Cruzar com segmentação LTV"
   ]
  }
 ],
 "metadata": {
  "availableInstances": [
   {
    "_defaultOrder": 0,
    "_isFastLaunch": true,
    "category": "General purpose",
    "gpuNum": 0,
    "hideHardwareSpecs": false,
    "memoryGiB": 4,
    "name": "ml.t3.medium",
    "vcpuNum": 2
   },
   {
    "_defaultOrder": 1,
    "_isFastLaunch": false,
    "category": "General purpose",
    "gpuNum": 0,
    "hideHardwareSpecs": false,
    "memoryGiB": 8,
    "name": "ml.t3.large",
    "vcpuNum": 2
   },
   {
    "_defaultOrder": 2,
    "_isFastLaunch": false,
    "category": "General purpose",
    "gpuNum": 0,
    "hideHardwareSpecs": false,
    "memoryGiB": 16,
    "name": "ml.t3.xlarge",
    "vcpuNum": 4
   },
   {
    "_defaultOrder": 3,
    "_isFastLaunch": false,
    "category": "General purpose",
    "gpuNum": 0,
    "hideHardwareSpecs": false,
    "memoryGiB": 32,
    "name": "ml.t3.2xlarge",
    "vcpuNum": 8
   },
   {
    "_defaultOrder": 4,
    "_isFastLaunch": true,
    "category": "General purpose",
    "gpuNum": 0,
    "hideHardwareSpecs": false,
    "memoryGiB": 8,
    "name": "ml.m5.large",
    "vcpuNum": 2
   },
   {
    "_defaultOrder": 5,
    "_isFastLaunch": false,
    "category": "General purpose",
    "gpuNum": 0,
    "hideHardwareSpecs": false,
    "memoryGiB": 16,
    "name": "ml.m5.xlarge",
    "vcpuNum": 4
   },
   {
    "_defaultOrder": 6,
    "_isFastLaunch": false,
    "category": "General purpose",
    "gpuNum": 0,
    "hideHardwareSpecs": false,
    "memoryGiB": 32,
    "name": "ml.m5.2xlarge",
    "vcpuNum": 8
   },
   {
    "_defaultOrder": 7,
    "_isFastLaunch": false,
    "category": "General purpose",
    "gpuNum": 0,
    "hideHardwareSpecs": false,
    "memoryGiB": 64,
    "name": "ml.m5.4xlarge",
    "vcpuNum": 16
   },
   {
    "_defaultOrder": 8,
    "_isFastLaunch": false,
    "category": "General purpose",
    "gpuNum": 0,
    "hideHardwareSpecs": false,
    "memoryGiB": 128,
    "name": "ml.m5.8xlarge",
    "vcpuNum": 32
   },
   {
    "_defaultOrder": 9,
    "_isFastLaunch": false,
    "category": "General purpose",
    "gpuNum": 0,
    "hideHardwareSpecs": false,
    "memoryGiB": 192,
    "name": "ml.m5.12xlarge",
    "vcpuNum": 48
   },
   {
    "_defaultOrder": 10,
    "_isFastLaunch": false,
    "category": "General purpose",
    "gpuNum": 0,
    "hideHardwareSpecs": false,
    "memoryGiB": 256,
    "name": "ml.m5.16xlarge",
    "vcpuNum": 64
   },
   {
    "_defaultOrder": 11,
    "_isFastLaunch": false,
    "category": "General purpose",
    "gpuNum": 0,
    "hideHardwareSpecs": false,
    "memoryGiB": 384,
    "name": "ml.m5.24xlarge",
    "vcpuNum": 96
   },
   {
    "_defaultOrder": 12,
    "_isFastLaunch": false,
    "category": "General purpose",
    "gpuNum": 0,
    "hideHardwareSpecs": false,
    "memoryGiB": 8,
    "name": "ml.m5d.large",
    "vcpuNum": 2
   },
   {
    "_defaultOrder": 13,
    "_isFastLaunch": false,
    "category": "General purpose",
    "gpuNum": 0,
    "hideHardwareSpecs": false,
    "memoryGiB": 16,
    "name": "ml.m5d.xlarge",
    "vcpuNum": 4
   },
   {
    "_defaultOrder": 14,
    "_isFastLaunch": false,
    "category": "General purpose",
    "gpuNum": 0,
    "hideHardwareSpecs": false,
    "memoryGiB": 32,
    "name": "ml.m5d.2xlarge",
    "vcpuNum": 8
   },
   {
    "_defaultOrder": 15,
    "_isFastLaunch": false,
    "category": "General purpose",
    "gpuNum": 0,
    "hideHardwareSpecs": false,
    "memoryGiB": 64,
    "name": "ml.m5d.4xlarge",
    "vcpuNum": 16
   },
   {
    "_defaultOrder": 16,
    "_isFastLaunch": false,
    "category": "General purpose",
    "gpuNum": 0,
    "hideHardwareSpecs": false,
    "memoryGiB": 128,
    "name": "ml.m5d.8xlarge",
    "vcpuNum": 32
   },
   {
    "_defaultOrder": 17,
    "_isFastLaunch": false,
    "category": "General purpose",
    "gpuNum": 0,
    "hideHardwareSpecs": false,
    "memoryGiB": 192,
    "name": "ml.m5d.12xlarge",
    "vcpuNum": 48
   },
   {
    "_defaultOrder": 18,
    "_isFastLaunch": false,
    "category": "General purpose",
    "gpuNum": 0,
    "hideHardwareSpecs": false,
    "memoryGiB": 256,
    "name": "ml.m5d.16xlarge",
    "vcpuNum": 64
   },
   {
    "_defaultOrder": 19,
    "_isFastLaunch": false,
    "category": "General purpose",
    "gpuNum": 0,
    "hideHardwareSpecs": false,
    "memoryGiB": 384,
    "name": "ml.m5d.24xlarge",
    "vcpuNum": 96
   },
   {
    "_defaultOrder": 20,
    "_isFastLaunch": false,
    "category": "General purpose",
    "gpuNum": 0,
    "hideHardwareSpecs": true,
    "memoryGiB": 0,
    "name": "ml.geospatial.interactive",
    "supportedImageNames": [
     "sagemaker-geospatial-v1-0"
    ],
    "vcpuNum": 0
   },
   {
    "_defaultOrder": 21,
    "_isFastLaunch": true,
    "category": "Compute optimized",
    "gpuNum": 0,
    "hideHardwareSpecs": false,
    "memoryGiB": 4,
    "name": "ml.c5.large",
    "vcpuNum": 2
   },
   {
    "_defaultOrder": 22,
    "_isFastLaunch": false,
    "category": "Compute optimized",
    "gpuNum": 0,
    "hideHardwareSpecs": false,
    "memoryGiB": 8,
    "name": "ml.c5.xlarge",
    "vcpuNum": 4
   },
   {
    "_defaultOrder": 23,
    "_isFastLaunch": false,
    "category": "Compute optimized",
    "gpuNum": 0,
    "hideHardwareSpecs": false,
    "memoryGiB": 16,
    "name": "ml.c5.2xlarge",
    "vcpuNum": 8
   },
   {
    "_defaultOrder": 24,
    "_isFastLaunch": false,
    "category": "Compute optimized",
    "gpuNum": 0,
    "hideHardwareSpecs": false,
    "memoryGiB": 32,
    "name": "ml.c5.4xlarge",
    "vcpuNum": 16
   },
   {
    "_defaultOrder": 25,
    "_isFastLaunch": false,
    "category": "Compute optimized",
    "gpuNum": 0,
    "hideHardwareSpecs": false,
    "memoryGiB": 72,
    "name": "ml.c5.9xlarge",
    "vcpuNum": 36
   },
   {
    "_defaultOrder": 26,
    "_isFastLaunch": false,
    "category": "Compute optimized",
    "gpuNum": 0,
    "hideHardwareSpecs": false,
    "memoryGiB": 96,
    "name": "ml.c5.12xlarge",
    "vcpuNum": 48
   },
   {
    "_defaultOrder": 27,
    "_isFastLaunch": false,
    "category": "Compute optimized",
    "gpuNum": 0,
    "hideHardwareSpecs": false,
    "memoryGiB": 144,
    "name": "ml.c5.18xlarge",
    "vcpuNum": 72
   },
   {
    "_defaultOrder": 28,
    "_isFastLaunch": false,
    "category": "Compute optimized",
    "gpuNum": 0,
    "hideHardwareSpecs": false,
    "memoryGiB": 192,
    "name": "ml.c5.24xlarge",
    "vcpuNum": 96
   },
   {
    "_defaultOrder": 29,
    "_isFastLaunch": true,
    "category": "Accelerated computing",
    "gpuNum": 1,
    "hideHardwareSpecs": false,
    "memoryGiB": 16,
    "name": "ml.g4dn.xlarge",
    "vcpuNum": 4
   },
   {
    "_defaultOrder": 30,
    "_isFastLaunch": false,
    "category": "Accelerated computing",
    "gpuNum": 1,
    "hideHardwareSpecs": false,
    "memoryGiB": 32,
    "name": "ml.g4dn.2xlarge",
    "vcpuNum": 8
   },
   {
    "_defaultOrder": 31,
    "_isFastLaunch": false,
    "category": "Accelerated computing",
    "gpuNum": 1,
    "hideHardwareSpecs": false,
    "memoryGiB": 64,
    "name": "ml.g4dn.4xlarge",
    "vcpuNum": 16
   },
   {
    "_defaultOrder": 32,
    "_isFastLaunch": false,
    "category": "Accelerated computing",
    "gpuNum": 1,
    "hideHardwareSpecs": false,
    "memoryGiB": 128,
    "name": "ml.g4dn.8xlarge",
    "vcpuNum": 32
   },
   {
    "_defaultOrder": 33,
    "_isFastLaunch": false,
    "category": "Accelerated computing",
    "gpuNum": 4,
    "hideHardwareSpecs": false,
    "memoryGiB": 192,
    "name": "ml.g4dn.12xlarge",
    "vcpuNum": 48
   },
   {
    "_defaultOrder": 34,
    "_isFastLaunch": false,
    "category": "Accelerated computing",
    "gpuNum": 1,
    "hideHardwareSpecs": false,
    "memoryGiB": 256,
    "name": "ml.g4dn.16xlarge",
    "vcpuNum": 64
   },
   {
    "_defaultOrder": 35,
    "_isFastLaunch": false,
    "category": "Accelerated computing",
    "gpuNum": 1,
    "hideHardwareSpecs": false,
    "memoryGiB": 61,
    "name": "ml.p3.2xlarge",
    "vcpuNum": 8
   },
   {
    "_defaultOrder": 36,
    "_isFastLaunch": false,
    "category": "Accelerated computing",
    "gpuNum": 4,
    "hideHardwareSpecs": false,
    "memoryGiB": 244,
    "name": "ml.p3.8xlarge",
    "vcpuNum": 32
   },
   {
    "_defaultOrder": 37,
    "_isFastLaunch": false,
    "category": "Accelerated computing",
    "gpuNum": 8,
    "hideHardwareSpecs": false,
    "memoryGiB": 488,
    "name": "ml.p3.16xlarge",
    "vcpuNum": 64
   },
   {
    "_defaultOrder": 38,
    "_isFastLaunch": false,
    "category": "Accelerated computing",
    "gpuNum": 8,
    "hideHardwareSpecs": false,
    "memoryGiB": 768,
    "name": "ml.p3dn.24xlarge",
    "vcpuNum": 96
   },
   {
    "_defaultOrder": 39,
    "_isFastLaunch": false,
    "category": "Memory Optimized",
    "gpuNum": 0,
    "hideHardwareSpecs": false,
    "memoryGiB": 16,
    "name": "ml.r5.large",
    "vcpuNum": 2
   },
   {
    "_defaultOrder": 40,
    "_isFastLaunch": false,
    "category": "Memory Optimized",
    "gpuNum": 0,
    "hideHardwareSpecs": false,
    "memoryGiB": 32,
    "name": "ml.r5.xlarge",
    "vcpuNum": 4
   },
   {
    "_defaultOrder": 41,
    "_isFastLaunch": false,
    "category": "Memory Optimized",
    "gpuNum": 0,
    "hideHardwareSpecs": false,
    "memoryGiB": 64,
    "name": "ml.r5.2xlarge",
    "vcpuNum": 8
   },
   {
    "_defaultOrder": 42,
    "_isFastLaunch": false,
    "category": "Memory Optimized",
    "gpuNum": 0,
    "hideHardwareSpecs": false,
    "memoryGiB": 128,
    "name": "ml.r5.4xlarge",
    "vcpuNum": 16
   },
   {
    "_defaultOrder": 43,
    "_isFastLaunch": false,
    "category": "Memory Optimized",
    "gpuNum": 0,
    "hideHardwareSpecs": false,
    "memoryGiB": 256,
    "name": "ml.r5.8xlarge",
    "vcpuNum": 32
   },
   {
    "_defaultOrder": 44,
    "_isFastLaunch": false,
    "category": "Memory Optimized",
    "gpuNum": 0,
    "hideHardwareSpecs": false,
    "memoryGiB": 384,
    "name": "ml.r5.12xlarge",
    "vcpuNum": 48
   },
   {
    "_defaultOrder": 45,
    "_isFastLaunch": false,
    "category": "Memory Optimized",
    "gpuNum": 0,
    "hideHardwareSpecs": false,
    "memoryGiB": 512,
    "name": "ml.r5.16xlarge",
    "vcpuNum": 64
   },
   {
    "_defaultOrder": 46,
    "_isFastLaunch": false,
    "category": "Memory Optimized",
    "gpuNum": 0,
    "hideHardwareSpecs": false,
    "memoryGiB": 768,
    "name": "ml.r5.24xlarge",
    "vcpuNum": 96
   },
   {
    "_defaultOrder": 47,
    "_isFastLaunch": false,
    "category": "Accelerated computing",
    "gpuNum": 1,
    "hideHardwareSpecs": false,
    "memoryGiB": 16,
    "name": "ml.g5.xlarge",
    "vcpuNum": 4
   },
   {
    "_defaultOrder": 48,
    "_isFastLaunch": false,
    "category": "Accelerated computing",
    "gpuNum": 1,
    "hideHardwareSpecs": false,
    "memoryGiB": 32,
    "name": "ml.g5.2xlarge",
    "vcpuNum": 8
   },
   {
    "_defaultOrder": 49,
    "_isFastLaunch": false,
    "category": "Accelerated computing",
    "gpuNum": 1,
    "hideHardwareSpecs": false,
    "memoryGiB": 64,
    "name": "ml.g5.4xlarge",
    "vcpuNum": 16
   },
   {
    "_defaultOrder": 50,
    "_isFastLaunch": false,
    "category": "Accelerated computing",
    "gpuNum": 1,
    "hideHardwareSpecs": false,
    "memoryGiB": 128,
    "name": "ml.g5.8xlarge",
    "vcpuNum": 32
   },
   {
    "_defaultOrder": 51,
    "_isFastLaunch": false,
    "category": "Accelerated computing",
    "gpuNum": 1,
    "hideHardwareSpecs": false,
    "memoryGiB": 256,
    "name": "ml.g5.16xlarge",
    "vcpuNum": 64
   },
   {
    "_defaultOrder": 52,
    "_isFastLaunch": false,
    "category": "Accelerated computing",
    "gpuNum": 4,
    "hideHardwareSpecs": false,
    "memoryGiB": 192,
    "name": "ml.g5.12xlarge",
    "vcpuNum": 48
   },
   {
    "_defaultOrder": 53,
    "_isFastLaunch": false,
    "category": "Accelerated computing",
    "gpuNum": 4,
    "hideHardwareSpecs": false,
    "memoryGiB": 384,
    "name": "ml.g5.24xlarge",
    "vcpuNum": 96
   },
   {
    "_defaultOrder": 54,
    "_isFastLaunch": false,
    "category": "Accelerated computing",
    "gpuNum": 8,
    "hideHardwareSpecs": false,
    "memoryGiB": 768,
    "name": "ml.g5.48xlarge",
    "vcpuNum": 192
   },
   {
    "_defaultOrder": 55,
    "_isFastLaunch": false,
    "category": "Accelerated computing",
    "gpuNum": 8,
    "hideHardwareSpecs": false,
    "memoryGiB": 1152,
    "name": "ml.p4d.24xlarge",
    "vcpuNum": 96
   },
   {
    "_defaultOrder": 56,
    "_isFastLaunch": false,
    "category": "Accelerated computing",
    "gpuNum": 8,
    "hideHardwareSpecs": false,
    "memoryGiB": 1152,
    "name": "ml.p4de.24xlarge",
    "vcpuNum": 96
   }
  ],
  "instance_type": "ml.t3.xlarge",
  "kernelspec": {
   "display_name": "Python 3",
   "language": "python",
   "name": "python3"
  },
  "language_info": {
   "codemirror_mode": {
    "name": "ipython",
    "version": 3
   },
   "file_extension": ".py",
   "mimetype": "text/x-python",
   "name": "python",
   "nbconvert_exporter": "python",
   "pygments_lexer": "ipython3",
   "version": "3.8.10"
  }
 },
 "nbformat": 4,
 "nbformat_minor": 4
}
