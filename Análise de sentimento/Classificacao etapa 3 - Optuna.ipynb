{
 "cells": [
  {
   "cell_type": "code",
   "execution_count": 1,
   "metadata": {},
   "outputs": [
    {
     "name": "stderr",
     "output_type": "stream",
     "text": [
      "2023-09-26 11:33:35.844984: I tensorflow/tsl/cuda/cudart_stub.cc:28] Could not find cuda drivers on your machine, GPU will not be used.\n",
      "2023-09-26 11:33:35.955044: I tensorflow/tsl/cuda/cudart_stub.cc:28] Could not find cuda drivers on your machine, GPU will not be used.\n",
      "2023-09-26 11:33:35.955641: I tensorflow/core/platform/cpu_feature_guard.cc:182] This TensorFlow binary is optimized to use available CPU instructions in performance-critical operations.\n",
      "To enable the following instructions: AVX2 FMA, in other operations, rebuild TensorFlow with the appropriate compiler flags.\n",
      "2023-09-26 11:33:37.670391: W tensorflow/compiler/tf2tensorrt/utils/py_utils.cc:38] TF-TRT Warning: Could not find TensorRT\n"
     ]
    }
   ],
   "source": [
    "import pandas as pd\n",
    "import numpy as np\n",
    "import os as os\n",
    "import pickle\n",
    "import seaborn as sns\n",
    "import matplotlib.pyplot as plt\n",
    "from wordcloud import WordCloud, STOPWORDS, ImageColorGenerator\n",
    "from nltk.util import ngrams\n",
    "import nltk\n",
    "from arabica import arabica_freq\n",
    "from unidecode import unidecode\n",
    "import re\n",
    "import plotly.express as px\n",
    "import texthero as hero\n",
    "from sklearn.cluster import KMeans\n",
    "from sklearn.feature_extraction.text import CountVectorizer\n",
    "from sklearn.feature_extraction.text import TfidfVectorizer\n",
    "from sklearn.decomposition import LatentDirichletAllocation\n",
    "from sklearn.decomposition import NMF\n",
    "from sklearn.decomposition import TruncatedSVD\n",
    "import nltk\n",
    "from nltk.sentiment.vader import SentimentIntensityAnalyzer\n",
    "from sklearn.naive_bayes import BernoulliNB\n",
    "import spacy\n",
    "import re\n",
    "import nlp\n",
    "import warnings\n",
    "import statsmodels.api as sm\n",
    "from statsmodels.formula.api import ols\n",
    "\n",
    "\n",
    "warnings.simplefilter(action='ignore', category=FutureWarning)"
   ]
  },
  {
   "cell_type": "code",
   "execution_count": 2,
   "metadata": {},
   "outputs": [],
   "source": [
    "df = pd.read_csv('sentimento - base3.csv')"
   ]
  },
  {
   "cell_type": "code",
   "execution_count": 3,
   "metadata": {},
   "outputs": [
    {
     "data": {
      "text/html": [
       "<div>\n",
       "<style scoped>\n",
       "    .dataframe tbody tr th:only-of-type {\n",
       "        vertical-align: middle;\n",
       "    }\n",
       "\n",
       "    .dataframe tbody tr th {\n",
       "        vertical-align: top;\n",
       "    }\n",
       "\n",
       "    .dataframe thead th {\n",
       "        text-align: right;\n",
       "    }\n",
       "</style>\n",
       "<table border=\"1\" class=\"dataframe\">\n",
       "  <thead>\n",
       "    <tr style=\"text-align: right;\">\n",
       "      <th></th>\n",
       "      <th>id_issue</th>\n",
       "      <th>mes_chat</th>\n",
       "      <th>SENTIMENTO</th>\n",
       "      <th>TIPO_MSG</th>\n",
       "      <th>hierarquia_4</th>\n",
       "      <th>ds_cluster_sociodemographic</th>\n",
       "      <th>ds_message</th>\n",
       "      <th>flag_negativo_indecx</th>\n",
       "    </tr>\n",
       "  </thead>\n",
       "  <tbody>\n",
       "    <tr>\n",
       "      <th>0</th>\n",
       "      <td>15388962</td>\n",
       "      <td>2023-04-01</td>\n",
       "      <td>neutro</td>\n",
       "      <td>duvida</td>\n",
       "      <td>Vencimento fatura</td>\n",
       "      <td>0 - Mulher, Casada, 25 anos ou mais, cidade Pe...</td>\n",
       "      <td>['Que dia minha fatura fecha?','Ainda tenho dú...</td>\n",
       "      <td>0</td>\n",
       "    </tr>\n",
       "    <tr>\n",
       "      <th>1</th>\n",
       "      <td>17497395</td>\n",
       "      <td>2023-07-01</td>\n",
       "      <td>neutro</td>\n",
       "      <td>duvida</td>\n",
       "      <td>Dúvidas sobre pagamento de fatura</td>\n",
       "      <td>11 - Homem, Solteiro, Até 24 anos, cidade Pequ...</td>\n",
       "      <td>['Quero pagar os 100 reais que eu tirei','Mais...</td>\n",
       "      <td>0</td>\n",
       "    </tr>\n",
       "    <tr>\n",
       "      <th>2</th>\n",
       "      <td>15213047</td>\n",
       "      <td>2023-04-01</td>\n",
       "      <td>neutro</td>\n",
       "      <td>solicitacao</td>\n",
       "      <td>Não reconhecimento de compra no crédito</td>\n",
       "      <td>17 - Mulher, 25 a 40 anos, Sudeste e Sul</td>\n",
       "      <td>['Apareceu uma compra que eu não fiz','Dúvida ...</td>\n",
       "      <td>0</td>\n",
       "    </tr>\n",
       "    <tr>\n",
       "      <th>3</th>\n",
       "      <td>17117301</td>\n",
       "      <td>2023-06-01</td>\n",
       "      <td>neutro</td>\n",
       "      <td>problema</td>\n",
       "      <td>Parcelamento de fatura</td>\n",
       "      <td>8 - Mulher, Solteira, Até 24 anos, cidade Pequ...</td>\n",
       "      <td>['No meu limite está escrito que está utilizad...</td>\n",
       "      <td>0</td>\n",
       "    </tr>\n",
       "    <tr>\n",
       "      <th>4</th>\n",
       "      <td>17345996</td>\n",
       "      <td>2023-07-01</td>\n",
       "      <td>negativo</td>\n",
       "      <td>problema</td>\n",
       "      <td>Dúvidas PIX</td>\n",
       "      <td>10 - Mulher, Solteira, Até 24 anos, cidade Peq...</td>\n",
       "      <td>['Pix','E merda o will nunca teve essas coisas...</td>\n",
       "      <td>0</td>\n",
       "    </tr>\n",
       "  </tbody>\n",
       "</table>\n",
       "</div>"
      ],
      "text/plain": [
       "   id_issue    mes_chat SENTIMENTO     TIPO_MSG  \\\n",
       "0  15388962  2023-04-01     neutro       duvida   \n",
       "1  17497395  2023-07-01     neutro       duvida   \n",
       "2  15213047  2023-04-01     neutro  solicitacao   \n",
       "3  17117301  2023-06-01     neutro     problema   \n",
       "4  17345996  2023-07-01   negativo     problema   \n",
       "\n",
       "                              hierarquia_4  \\\n",
       "0                        Vencimento fatura   \n",
       "1        Dúvidas sobre pagamento de fatura   \n",
       "2  Não reconhecimento de compra no crédito   \n",
       "3                   Parcelamento de fatura   \n",
       "4                              Dúvidas PIX   \n",
       "\n",
       "                         ds_cluster_sociodemographic  \\\n",
       "0  0 - Mulher, Casada, 25 anos ou mais, cidade Pe...   \n",
       "1  11 - Homem, Solteiro, Até 24 anos, cidade Pequ...   \n",
       "2           17 - Mulher, 25 a 40 anos, Sudeste e Sul   \n",
       "3  8 - Mulher, Solteira, Até 24 anos, cidade Pequ...   \n",
       "4  10 - Mulher, Solteira, Até 24 anos, cidade Peq...   \n",
       "\n",
       "                                          ds_message  flag_negativo_indecx  \n",
       "0  ['Que dia minha fatura fecha?','Ainda tenho dú...                     0  \n",
       "1  ['Quero pagar os 100 reais que eu tirei','Mais...                     0  \n",
       "2  ['Apareceu uma compra que eu não fiz','Dúvida ...                     0  \n",
       "3  ['No meu limite está escrito que está utilizad...                     0  \n",
       "4  ['Pix','E merda o will nunca teve essas coisas...                     0  "
      ]
     },
     "execution_count": 3,
     "metadata": {},
     "output_type": "execute_result"
    }
   ],
   "source": [
    "df.head()"
   ]
  },
  {
   "cell_type": "code",
   "execution_count": 4,
   "metadata": {},
   "outputs": [
    {
     "data": {
      "text/plain": [
       "14906"
      ]
     },
     "execution_count": 4,
     "metadata": {},
     "output_type": "execute_result"
    }
   ],
   "source": [
    "len(df)"
   ]
  },
  {
   "cell_type": "code",
   "execution_count": 5,
   "metadata": {},
   "outputs": [
    {
     "data": {
      "text/plain": [
       "645"
      ]
     },
     "execution_count": 5,
     "metadata": {},
     "output_type": "execute_result"
    }
   ],
   "source": [
    "exemplo_base = df[df['SENTIMENTO'].notnull()]\n",
    "len(exemplo_base)"
   ]
  },
  {
   "cell_type": "code",
   "execution_count": 6,
   "metadata": {},
   "outputs": [],
   "source": [
    "stopwords_will= ['da', 'em', 'você', 'de', 'ao', 'os', 'que', 'e', 'eu', 'o', 'estou', 'ele','ela','pra', 'pro', 'entao', 'para', 'voce',\n",
    "                 'pra', 'tá', 'né', 'ah', 'aí', 'dá', 'ó', 'mim', 'então', 'aqui', 'tô', 'pro',\n",
    "            'seu', 'sua', 'por', 'sobre', 'mais', 'uma', 'um','como', 'meu', 'com', 'outro','outra','das','dos','foi', 'fiz','pelo','tem','mas',\n",
    "            'este', 'esse','ta', 'to', 'ai', 'la', 'lo', 'lhe', 'ne','pra', 'tá', 'né', 'ah', 'aí', 'dá', 'ó', 'mim', 'então', 'aqui', 'tô', 'pro', 'isso']"
   ]
  },
  {
   "cell_type": "code",
   "execution_count": 7,
   "metadata": {},
   "outputs": [
    {
     "name": "stderr",
     "output_type": "stream",
     "text": [
      "/tmp/ipykernel_1055687/2720231541.py:1: SettingWithCopyWarning: \n",
      "A value is trying to be set on a copy of a slice from a DataFrame.\n",
      "Try using .loc[row_indexer,col_indexer] = value instead\n",
      "\n",
      "See the caveats in the documentation: https://pandas.pydata.org/pandas-docs/stable/user_guide/indexing.html#returning-a-view-versus-a-copy\n"
     ]
    }
   ],
   "source": [
    "exemplo_base['SENTIMENTO_label'] = np.where(exemplo_base['SENTIMENTO'] == \"negativo\", 0, \n",
    "                                            np.where(exemplo_base['SENTIMENTO'] == \"neutro\", 1, 2 ))"
   ]
  },
  {
   "cell_type": "code",
   "execution_count": 8,
   "metadata": {},
   "outputs": [
    {
     "data": {
      "text/plain": [
       "0    265\n",
       "1    258\n",
       "2    122\n",
       "Name: SENTIMENTO_label, dtype: int64"
      ]
     },
     "execution_count": 8,
     "metadata": {},
     "output_type": "execute_result"
    }
   ],
   "source": [
    "exemplo_base['SENTIMENTO_label'].value_counts()"
   ]
  },
  {
   "cell_type": "code",
   "execution_count": 9,
   "metadata": {},
   "outputs": [],
   "source": [
    "from sklearn.model_selection import train_test_split\n",
    "from sklearn.model_selection import cross_val_score, StratifiedKFold, KFold\n",
    "from sklearn import metrics\n",
    "from sklearn.metrics import classification_report\n",
    "import optuna.integration.lightgbm as lgb\n",
    "import optuna\n",
    "from sklearn.model_selection import RepeatedKFold\n",
    "\n",
    "\n",
    "vetorizador = TfidfVectorizer()\n",
    "X = vetorizador.fit_transform(exemplo_base['ds_message'])\n",
    "y = exemplo_base.SENTIMENTO_label\n",
    "\n",
    "\n",
    "x_train, x_test, y_train, y_test = train_test_split(X\n",
    "                                                    , exemplo_base.SENTIMENTO_label\n",
    "                                                    , random_state=42, test_size=0.20)"
   ]
  },
  {
   "cell_type": "code",
   "execution_count": 10,
   "metadata": {},
   "outputs": [
    {
     "name": "stderr",
     "output_type": "stream",
     "text": [
      "\u001b[32m[I 2023-09-26 11:35:42,451]\u001b[0m A new study created in memory with name: no-name-41dedc58-0754-48c8-92aa-aced8691ccc2\u001b[0m\n"
     ]
    }
   ],
   "source": [
    "rkf = RepeatedKFold(n_splits=10, n_repeats=10, random_state=42)\n",
    "\n",
    "params = {\n",
    "        \"objective\": \"multiclass\",\n",
    "        \"metric\": \"multi_logloss\",\n",
    "        \"verbosity\": -1,\n",
    "        \"boosting_type\": \"gbdt\",\n",
    "        \"num_class\": 3,                \n",
    "        \"seed\": 42\n",
    "    }\n",
    "\n",
    "study_tuner = optuna.create_study(direction='minimize')\n",
    "\n",
    "optuna.logging.set_verbosity(optuna.logging.WARNING)"
   ]
  },
  {
   "cell_type": "code",
   "execution_count": 11,
   "metadata": {},
   "outputs": [
    {
     "name": "stderr",
     "output_type": "stream",
     "text": [
      "feature_fraction, val_score: inf:   0%|          | 0/7 [00:00<?, ?it/s]/home/flavia.costa/.local/lib/python3.8/site-packages/lightgbm/engine.py:577: UserWarning: 'early_stopping_rounds' argument is deprecated and will be removed in a future release of LightGBM. Pass 'early_stopping()' callback via 'callbacks' argument instead.\n",
      "/home/flavia.costa/.local/lib/python3.8/site-packages/lightgbm/engine.py:620: UserWarning: 'verbose_eval' argument is deprecated and will be removed in a future release of LightGBM. Pass 'log_evaluation()' callback via 'callbacks' argument instead.\n",
      "feature_fraction, val_score: 0.661066: 100%|##########| 7/7 [40:24<00:00, 346.31s/it]\n",
      "num_leaves, val_score: 0.661066:   0%|          | 0/20 [00:00<?, ?it/s]"
     ]
    },
    {
     "ename": "",
     "evalue": "",
     "output_type": "error",
     "traceback": [
      "\u001b[1;31mNão é possível executar o código, a sessão foi descartada. Tente reiniciar o Kernel."
     ]
    },
    {
     "ename": "",
     "evalue": "",
     "output_type": "error",
     "traceback": [
      "\u001b[1;31mO Kernel falhou ao executar o código na célula atual ou em uma célula anterior. Examine o código nas células para identificar uma possível causa da falha. Clique <a href=\"https://aka.ms/vscodeJupyterKernelCrash\">aqui</a> para obter mais informações. Consulte o <a href='command:jupyter.viewOutput'>log</a> do Jupyter para obter mais detalhes."
     ]
    }
   ],
   "source": [
    "dtrain = lgb.Dataset(x_train, label=y_train)\n",
    "\n",
    "tuner = lgb.LightGBMTunerCV(params, \n",
    "                            dtrain, \n",
    "                            #categorical_feature=ids_of_categorical,\n",
    "                            study=study_tuner,\n",
    "                            verbose_eval=False,                            \n",
    "                            early_stopping_rounds=250,\n",
    "                            time_budget=19800, # Time budget of 5 hours, we will not really need it\n",
    "                            seed = 42,\n",
    "                            folds=rkf,\n",
    "                            num_boost_round=10000\n",
    "                           )\n",
    "\n",
    "tuner.run()"
   ]
  },
  {
   "cell_type": "code",
   "execution_count": null,
   "metadata": {},
   "outputs": [],
   "source": [
    "print(tuner.best_params)\n",
    "# Classification error\n",
    "print(tuner.best_score)\n",
    "# Or expressed as accuracy\n",
    "print(1.0-tuner.best_score)"
   ]
  },
  {
   "cell_type": "code",
   "execution_count": null,
   "metadata": {},
   "outputs": [],
   "source": [
    "model = lgb.LGBMClassifier(**tuner.best_params)\n",
    "model.fit(x_train, y_train, eval_set=[(x_test, y_test)], eval_metric=\"multi_logloss\", early_stopping_rounds=20,  verbose=True)"
   ]
  },
  {
   "cell_type": "code",
   "execution_count": null,
   "metadata": {},
   "outputs": [],
   "source": [
    "y_predicted = model.predict(x_test)\n",
    "pd.crosstab(y_predicted, y_test)"
   ]
  },
  {
   "cell_type": "code",
   "execution_count": null,
   "metadata": {},
   "outputs": [],
   "source": [
    "print(classification_report(y_test, y_predicted))"
   ]
  }
 ],
 "metadata": {
  "kernelspec": {
   "display_name": "Python 3",
   "language": "python",
   "name": "python3"
  },
  "language_info": {
   "codemirror_mode": {
    "name": "ipython",
    "version": 3
   },
   "file_extension": ".py",
   "mimetype": "text/x-python",
   "name": "python",
   "nbconvert_exporter": "python",
   "pygments_lexer": "ipython3",
   "version": "3.8.10"
  },
  "orig_nbformat": 4
 },
 "nbformat": 4,
 "nbformat_minor": 2
}
