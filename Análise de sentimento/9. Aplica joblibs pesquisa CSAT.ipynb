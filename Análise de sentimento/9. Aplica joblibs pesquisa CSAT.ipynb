{
 "cells": [
  {
   "cell_type": "code",
   "execution_count": 1,
   "metadata": {
    "tags": []
   },
   "outputs": [],
   "source": [
    "import pandas as pd\n",
    "import numpy as np\n",
    "import os as os\n",
    "#import pickle\n",
    "import seaborn as sns\n",
    "import matplotlib.pyplot as plt\n",
    "\n",
    "from sklearn.feature_extraction.text import TfidfVectorizer\n",
    "from sklearn import metrics\n",
    "from sklearn.model_selection import train_test_split\n",
    "from sklearn.model_selection import cross_val_score, StratifiedKFold, KFold, RepeatedKFold\n",
    "from sklearn.metrics import classification_report\n",
    "from joblib import dump, load\n",
    "import acessos as ac\n",
    "import warnings\n",
    "\n",
    "warnings.simplefilter(action='ignore', category=FutureWarning)"
   ]
  },
  {
   "cell_type": "markdown",
   "metadata": {},
   "source": [
    "QUERY \n",
    "\n",
    "DIA MÍNIMO E MÁXIMO DE INGESTÃO \n",
    "- 2023-09-29 16:47:45.401\n",
    "- 2023-11-24 02:20:19.067"
   ]
  },
  {
   "cell_type": "code",
   "execution_count": 2,
   "metadata": {
    "tags": []
   },
   "outputs": [],
   "source": [
    "\n",
    "query = \"\"\"select \n",
    "id_conversation\n",
    ", ingestion_date\n",
    ", ds_comentario\n",
    "from processed_zone_events_intercom.issues_ratings_intercom\n",
    "where ds_comentario is not null\"\"\"\n",
    "\n",
    "df = ac.df_athena_q('flavia-costa', query)"
   ]
  },
  {
   "cell_type": "code",
   "execution_count": 3,
   "metadata": {
    "tags": []
   },
   "outputs": [
    {
     "data": {
      "text/html": [
       "<div>\n",
       "<style scoped>\n",
       "    .dataframe tbody tr th:only-of-type {\n",
       "        vertical-align: middle;\n",
       "    }\n",
       "\n",
       "    .dataframe tbody tr th {\n",
       "        vertical-align: top;\n",
       "    }\n",
       "\n",
       "    .dataframe thead th {\n",
       "        text-align: right;\n",
       "    }\n",
       "</style>\n",
       "<table border=\"1\" class=\"dataframe\">\n",
       "  <thead>\n",
       "    <tr style=\"text-align: right;\">\n",
       "      <th></th>\n",
       "      <th>id_conversation</th>\n",
       "      <th>ingestion_date</th>\n",
       "      <th>ds_comentario</th>\n",
       "    </tr>\n",
       "  </thead>\n",
       "  <tbody>\n",
       "    <tr>\n",
       "      <th>0</th>\n",
       "      <td>399047</td>\n",
       "      <td>2023-09-29 16:47:45.401</td>\n",
       "      <td>ótimo</td>\n",
       "    </tr>\n",
       "    <tr>\n",
       "      <th>1</th>\n",
       "      <td>400910</td>\n",
       "      <td>2023-09-29 16:47:45.401</td>\n",
       "      <td>excelente atendimento luiza❤</td>\n",
       "    </tr>\n",
       "    <tr>\n",
       "      <th>2</th>\n",
       "      <td>400624</td>\n",
       "      <td>2023-09-29 16:47:45.401</td>\n",
       "      <td>como que eu faço para voltar meu cartão</td>\n",
       "    </tr>\n",
       "    <tr>\n",
       "      <th>3</th>\n",
       "      <td>400771</td>\n",
       "      <td>2023-09-29 16:47:45.401</td>\n",
       "      <td>bom</td>\n",
       "    </tr>\n",
       "    <tr>\n",
       "      <th>4</th>\n",
       "      <td>400884</td>\n",
       "      <td>2023-09-29 16:47:45.401</td>\n",
       "      <td>ótimo atendimento.</td>\n",
       "    </tr>\n",
       "  </tbody>\n",
       "</table>\n",
       "</div>"
      ],
      "text/plain": [
       "  id_conversation          ingestion_date  \\\n",
       "0          399047 2023-09-29 16:47:45.401   \n",
       "1          400910 2023-09-29 16:47:45.401   \n",
       "2          400624 2023-09-29 16:47:45.401   \n",
       "3          400771 2023-09-29 16:47:45.401   \n",
       "4          400884 2023-09-29 16:47:45.401   \n",
       "\n",
       "                             ds_comentario  \n",
       "0                                   ótimo   \n",
       "1             excelente atendimento luiza❤  \n",
       "2  como que eu faço para voltar meu cartão  \n",
       "3                                      bom  \n",
       "4                      ótimo atendimento.   "
      ]
     },
     "execution_count": 3,
     "metadata": {},
     "output_type": "execute_result"
    }
   ],
   "source": [
    "df.head()"
   ]
  },
  {
   "cell_type": "code",
   "execution_count": 4,
   "metadata": {},
   "outputs": [
    {
     "data": {
      "text/plain": [
       "42870"
      ]
     },
     "execution_count": 4,
     "metadata": {},
     "output_type": "execute_result"
    }
   ],
   "source": [
    "len(df)"
   ]
  },
  {
   "cell_type": "markdown",
   "metadata": {},
   "source": [
    "## Aplicando modelo sentimento"
   ]
  },
  {
   "cell_type": "code",
   "execution_count": 5,
   "metadata": {},
   "outputs": [],
   "source": [
    "from sklearn.neural_network import MLPClassifier\n",
    "\n",
    "\n",
    "vetorizador = load('vetorizador_sentimento.joblib') "
   ]
  },
  {
   "cell_type": "code",
   "execution_count": 7,
   "metadata": {},
   "outputs": [],
   "source": [
    "X = vetorizador.transform(df['ds_comentario'])"
   ]
  },
  {
   "cell_type": "code",
   "execution_count": 8,
   "metadata": {},
   "outputs": [],
   "source": [
    "clf_sentiment = load('modelo_sentimento.joblib') "
   ]
  },
  {
   "cell_type": "code",
   "execution_count": 9,
   "metadata": {},
   "outputs": [],
   "source": [
    "df['sent_predito_1'] = clf_sentiment.predict(X)"
   ]
  },
  {
   "cell_type": "markdown",
   "metadata": {},
   "source": [
    "### Palavras chave "
   ]
  },
  {
   "cell_type": "code",
   "execution_count": 10,
   "metadata": {},
   "outputs": [],
   "source": [
    "chave_negativo = ['falta de respeito', \n",
    "'judicial',\n",
    "'procon',\n",
    "'jurídico',\n",
    "'porra',\n",
    "'merda', \n",
    "'palhaçada',\n",
    "'carai',\n",
    "'caralho',\n",
    "'bosta',\n",
    "'vocês demoram',\n",
    "'voces demoram',\n",
    "'vcs demoram',\n",
    "'horrivel',\n",
    "'banco ruim',\n",
    "'péssimo',\n",
    "'danos morais',\n",
    "'pelo amor de deus',\n",
    "'eu preciso resolver',\n",
    "'atender??',\n",
    "'me roubando']\n"
   ]
  },
  {
   "cell_type": "markdown",
   "metadata": {},
   "source": [
    "não fui respondid\n",
    "não tive resposta\n",
    "não resolveu o meu problema\n",
    "meu problema ainda não foi resolvido\n",
    "não ajudou"
   ]
  },
  {
   "cell_type": "code",
   "execution_count": 11,
   "metadata": {},
   "outputs": [],
   "source": [
    "chave_positivo = [\n",
    "'ótimo',\n",
    "'otimo',\n",
    "'perfeito',\n",
    "'muito obrigada',\n",
    "'excelente',\n",
    "'ótimo dia',\n",
    "'maravilha',\n",
    "'deus abençoe']"
   ]
  },
  {
   "cell_type": "markdown",
   "metadata": {},
   "source": [
    "Acrescentar:\n",
    "\n",
    "Atendimento maravilhoso\n",
    "atendimento nota 10\n",
    "ótimo atendimento\n",
    "atendimento excelente"
   ]
  },
  {
   "cell_type": "code",
   "execution_count": 12,
   "metadata": {},
   "outputs": [
    {
     "data": {
      "text/plain": [
       "0    18373\n",
       "2    12386\n",
       "1    12111\n",
       "Name: sent_predito_1, dtype: int64"
      ]
     },
     "execution_count": 12,
     "metadata": {},
     "output_type": "execute_result"
    }
   ],
   "source": [
    "df['sent_predito_1'].value_counts()"
   ]
  },
  {
   "cell_type": "code",
   "execution_count": 14,
   "metadata": {},
   "outputs": [],
   "source": [
    "def marca_negativo(x):\n",
    "    for i in chave_negativo:\n",
    "        if (x.find(i) != -1):\n",
    "            return 1\n",
    "        else:\n",
    "            return 0\n",
    "   \n",
    "df['flag_negativo'] = df['ds_comentario'].apply(marca_negativo)"
   ]
  },
  {
   "cell_type": "code",
   "execution_count": 15,
   "metadata": {},
   "outputs": [],
   "source": [
    "def marca_positivo(x):\n",
    "    for i in chave_positivo:\n",
    "        if (x.find(i) != -1):\n",
    "            return 1\n",
    "        else:\n",
    "            return 0\n",
    "   \n",
    "df['flag_positivo'] = df['ds_comentario'].apply(marca_positivo)"
   ]
  },
  {
   "cell_type": "markdown",
   "metadata": {},
   "source": [
    "Para a pesquisa do CSAT temos uma tendencia maior para comentários positivos portanto podemos alterar a regra, que está diferente para análise de sentimento do chat"
   ]
  },
  {
   "cell_type": "code",
   "execution_count": 16,
   "metadata": {},
   "outputs": [
    {
     "data": {
      "text/plain": [
       "0    18375\n",
       "2    12480\n",
       "1    12015\n",
       "Name: sent_predito_final, dtype: int64"
      ]
     },
     "execution_count": 16,
     "metadata": {},
     "output_type": "execute_result"
    }
   ],
   "source": [
    "df['sent_predito_final'] = np.where((df['flag_negativo'] == 1),  0, #condições negativo\n",
    "                                 np.where(df['flag_positivo'] == 1,  2, #condições positivo\n",
    "                                          df['sent_predito_1']))\n",
    "\n",
    "df['sent_predito_final'].value_counts()"
   ]
  },
  {
   "cell_type": "markdown",
   "metadata": {},
   "source": [
    "### Modelo do tipo de mensagem"
   ]
  },
  {
   "cell_type": "markdown",
   "metadata": {},
   "source": [
    "Gostaria de saber\n",
    "Como faço\n",
    "como faço\n",
    "problema\n",
    "não reconheço\n",
    "não fiz essa compra\n",
    "não reconhecida\n",
    "fui roubad\n",
    "fui assaltad\n",
    "limite não voltou\n",
    "não consegui pagar\n",
    "pix não chegou\n",
    "compra que não fiz\n",
    "nunca comprei\n",
    "quero alterar meu\n",
    "quero resolver\n",
    "queria que fosse resolvido\n",
    "preciso resolver\n",
    "quero aumentar o meu limite\n",
    "queria o aumento do meu cartao\n",
    "fiquei na dúvida\n",
    "paguei mas não aparece\n",
    "prefiro parcelar"
   ]
  },
  {
   "cell_type": "code",
   "execution_count": 23,
   "metadata": {},
   "outputs": [],
   "source": [
    "clf_tipo_msg = load('modelo_tipo_mensagem.joblib')"
   ]
  },
  {
   "cell_type": "code",
   "execution_count": 24,
   "metadata": {},
   "outputs": [],
   "source": [
    "df['tipo_msg_predito'] = clf_tipo_msg.predict(X)"
   ]
  },
  {
   "cell_type": "code",
   "execution_count": 25,
   "metadata": {},
   "outputs": [
    {
     "data": {
      "text/plain": [
       "0    394796\n",
       "2    256753\n",
       "1    201334\n",
       "Name: tipo_msg_predito, dtype: int64"
      ]
     },
     "execution_count": 25,
     "metadata": {},
     "output_type": "execute_result"
    }
   ],
   "source": [
    "df['tipo_msg_predito'].value_counts()"
   ]
  },
  {
   "cell_type": "code",
   "execution_count": 80,
   "metadata": {},
   "outputs": [],
   "source": [
    "df['sentimento_predito'] = np.where(df['sent_predito_final'] == 0,  '0. Negativo', \n",
    "                           np.where(df['sent_predito_final'] == 2,  '2. Positivo', '1. Neutro'))"
   ]
  },
  {
   "cell_type": "code",
   "execution_count": 42,
   "metadata": {},
   "outputs": [
    {
     "data": {
      "text/plain": [
       "'[Dúvida sobre uma compra, Apareceu uma compra que eu não fiz, Pela 5° x, Eu não vou mais falar com vcs, Vcs demora 2 horas pra responder quando responde eu não vejo pq não sou vidente, Já mandei todas as informações q vcs me pedem, Estão me fazendo de otário, Ou vcs resolvem minha situação ou irei tomar medidas judiciais, 02/09/2023 APPLE.COM/BILL SAO PAULO BRA 54,90\\n02/09/2023 APPLE.COM/BILL SAO PAULO BRA 54,90\\n02/09/2023 APPLE.COM/BILL SAO PAULO BRA 27,90\\n02/09/2023 APPLE.COM/BILL SAO PAULO BRA 54,90\\n02/09/2023 APPLE.COM/BILL SAO PAULO BRA 27,90\\n02/09/2023 APPLE.COM/BILL SAO PAULO BRA 4,90\\n02/09/2023 APPLE.COM/BILL SAO PAULO BRA 4,90\\n27/08/2023 APPLE.COM/BILL SAO PAULO BRA 4,90, Parem de me perguntar se tem outras compras q nao foi eu q comprei q estão na minha time LINE. As únicas q não foi eu são justamente essas q te mandei, Pela 5 x, Pare de me enrolar porra, Já tô ficando estressado, Caramba rapaz, Vcs são incompetentes, Todos vcs, Sem excessão, Resolva minha questão, Agora por favor, Chega de mimimi, E não vem com esse Papinho de me desculpa pela demora em responder, E que está aqui pra resolver meu problema q vcs não estão resolvendo, Rebanho de incompetentes, Façam seu trabalho, De forma justa, Sem querer enganar o cliente, Com descuspinhas, Descupinhas, Q aqui não tem idiota não, Infelizmente não sei quem vai me atender pq toda hora é uma pessoa diferente e demora horrores, Me desculpa mais sobrou pra vc, E não faça como os outros, Resolva o problema, Cancelem essas compras q não fiz]'"
      ]
     },
     "execution_count": 42,
     "metadata": {},
     "output_type": "execute_result"
    }
   ],
   "source": [
    "df.query('sentimento_predito == \"0. Negativo\"')['ds_message'][27]"
   ]
  },
  {
   "cell_type": "code",
   "execution_count": 46,
   "metadata": {},
   "outputs": [],
   "source": [
    "df['tipo_msg_predito'] = np.where(df['tipo_msg_predito'] == 0,  '0. Problema', \n",
    "                           np.where(df['tipo_msg_predito'] == 1,  '1. Solicitacao', '2. Duvida'))"
   ]
  },
  {
   "cell_type": "markdown",
   "metadata": {},
   "source": [
    "### Avaliação final e exportação"
   ]
  },
  {
   "cell_type": "code",
   "execution_count": 17,
   "metadata": {},
   "outputs": [
    {
     "data": {
      "text/html": [
       "<div>\n",
       "<style scoped>\n",
       "    .dataframe tbody tr th:only-of-type {\n",
       "        vertical-align: middle;\n",
       "    }\n",
       "\n",
       "    .dataframe tbody tr th {\n",
       "        vertical-align: top;\n",
       "    }\n",
       "\n",
       "    .dataframe thead th {\n",
       "        text-align: right;\n",
       "    }\n",
       "</style>\n",
       "<table border=\"1\" class=\"dataframe\">\n",
       "  <thead>\n",
       "    <tr style=\"text-align: right;\">\n",
       "      <th></th>\n",
       "      <th>id_conversation</th>\n",
       "      <th>ingestion_date</th>\n",
       "      <th>ds_comentario</th>\n",
       "      <th>sent_predito_1</th>\n",
       "      <th>flag_negativo</th>\n",
       "      <th>flag_positivo</th>\n",
       "      <th>sent_predito_final</th>\n",
       "    </tr>\n",
       "  </thead>\n",
       "  <tbody>\n",
       "    <tr>\n",
       "      <th>0</th>\n",
       "      <td>399047</td>\n",
       "      <td>2023-09-29 16:47:45.401</td>\n",
       "      <td>ótimo</td>\n",
       "      <td>2</td>\n",
       "      <td>0</td>\n",
       "      <td>1</td>\n",
       "      <td>2</td>\n",
       "    </tr>\n",
       "    <tr>\n",
       "      <th>1</th>\n",
       "      <td>400910</td>\n",
       "      <td>2023-09-29 16:47:45.401</td>\n",
       "      <td>excelente atendimento luiza❤</td>\n",
       "      <td>0</td>\n",
       "      <td>0</td>\n",
       "      <td>0</td>\n",
       "      <td>0</td>\n",
       "    </tr>\n",
       "    <tr>\n",
       "      <th>2</th>\n",
       "      <td>400624</td>\n",
       "      <td>2023-09-29 16:47:45.401</td>\n",
       "      <td>como que eu faço para voltar meu cartão</td>\n",
       "      <td>1</td>\n",
       "      <td>0</td>\n",
       "      <td>0</td>\n",
       "      <td>1</td>\n",
       "    </tr>\n",
       "    <tr>\n",
       "      <th>3</th>\n",
       "      <td>400771</td>\n",
       "      <td>2023-09-29 16:47:45.401</td>\n",
       "      <td>bom</td>\n",
       "      <td>2</td>\n",
       "      <td>0</td>\n",
       "      <td>0</td>\n",
       "      <td>2</td>\n",
       "    </tr>\n",
       "    <tr>\n",
       "      <th>4</th>\n",
       "      <td>400884</td>\n",
       "      <td>2023-09-29 16:47:45.401</td>\n",
       "      <td>ótimo atendimento.</td>\n",
       "      <td>0</td>\n",
       "      <td>0</td>\n",
       "      <td>1</td>\n",
       "      <td>0</td>\n",
       "    </tr>\n",
       "  </tbody>\n",
       "</table>\n",
       "</div>"
      ],
      "text/plain": [
       "  id_conversation          ingestion_date  \\\n",
       "0          399047 2023-09-29 16:47:45.401   \n",
       "1          400910 2023-09-29 16:47:45.401   \n",
       "2          400624 2023-09-29 16:47:45.401   \n",
       "3          400771 2023-09-29 16:47:45.401   \n",
       "4          400884 2023-09-29 16:47:45.401   \n",
       "\n",
       "                             ds_comentario  sent_predito_1  flag_negativo  \\\n",
       "0                                   ótimo                2              0   \n",
       "1             excelente atendimento luiza❤               0              0   \n",
       "2  como que eu faço para voltar meu cartão               1              0   \n",
       "3                                      bom               2              0   \n",
       "4                      ótimo atendimento.                0              0   \n",
       "\n",
       "   flag_positivo  sent_predito_final  \n",
       "0              1                   2  \n",
       "1              0                   0  \n",
       "2              0                   1  \n",
       "3              0                   2  \n",
       "4              1                   0  "
      ]
     },
     "execution_count": 17,
     "metadata": {},
     "output_type": "execute_result"
    }
   ],
   "source": [
    "df.head()"
   ]
  },
  {
   "cell_type": "code",
   "execution_count": 18,
   "metadata": {},
   "outputs": [],
   "source": [
    "df.to_csv('sentimento_csat.csv', index = False)"
   ]
  },
  {
   "cell_type": "code",
   "execution_count": 19,
   "metadata": {},
   "outputs": [],
   "source": [
    "query2 = \"\"\"select \n",
    "id_conversation, \n",
    "ds_nota\n",
    "from processed_zone_events_intercom.issues_ratings_intercom\n",
    "where ds_comentario is not null\"\"\"\n",
    "\n",
    "df_nota = ac.df_athena_q('flavia-costa', query2)"
   ]
  },
  {
   "cell_type": "code",
   "execution_count": 20,
   "metadata": {},
   "outputs": [
    {
     "data": {
      "text/html": [
       "<div>\n",
       "<style scoped>\n",
       "    .dataframe tbody tr th:only-of-type {\n",
       "        vertical-align: middle;\n",
       "    }\n",
       "\n",
       "    .dataframe tbody tr th {\n",
       "        vertical-align: top;\n",
       "    }\n",
       "\n",
       "    .dataframe thead th {\n",
       "        text-align: right;\n",
       "    }\n",
       "</style>\n",
       "<table border=\"1\" class=\"dataframe\">\n",
       "  <thead>\n",
       "    <tr style=\"text-align: right;\">\n",
       "      <th></th>\n",
       "      <th>id_conversation</th>\n",
       "      <th>ds_nota</th>\n",
       "    </tr>\n",
       "  </thead>\n",
       "  <tbody>\n",
       "    <tr>\n",
       "      <th>0</th>\n",
       "      <td>222491</td>\n",
       "      <td>😠</td>\n",
       "    </tr>\n",
       "    <tr>\n",
       "      <th>1</th>\n",
       "      <td>268393</td>\n",
       "      <td>1 star</td>\n",
       "    </tr>\n",
       "    <tr>\n",
       "      <th>2</th>\n",
       "      <td>248757</td>\n",
       "      <td>4 stars</td>\n",
       "    </tr>\n",
       "    <tr>\n",
       "      <th>3</th>\n",
       "      <td>270286</td>\n",
       "      <td>😍</td>\n",
       "    </tr>\n",
       "    <tr>\n",
       "      <th>4</th>\n",
       "      <td>269810</td>\n",
       "      <td>😍</td>\n",
       "    </tr>\n",
       "  </tbody>\n",
       "</table>\n",
       "</div>"
      ],
      "text/plain": [
       "  id_conversation  ds_nota\n",
       "0          222491        😠\n",
       "1          268393   1 star\n",
       "2          248757  4 stars\n",
       "3          270286        😍\n",
       "4          269810        😍"
      ]
     },
     "execution_count": 20,
     "metadata": {},
     "output_type": "execute_result"
    }
   ],
   "source": [
    "df_nota.head()"
   ]
  },
  {
   "cell_type": "code",
   "execution_count": 21,
   "metadata": {},
   "outputs": [],
   "source": [
    "df = df.join(df_nota.set_index('id_conversation'), on = 'id_conversation', how = 'left')"
   ]
  },
  {
   "cell_type": "code",
   "execution_count": 22,
   "metadata": {},
   "outputs": [
    {
     "data": {
      "text/html": [
       "<div>\n",
       "<style scoped>\n",
       "    .dataframe tbody tr th:only-of-type {\n",
       "        vertical-align: middle;\n",
       "    }\n",
       "\n",
       "    .dataframe tbody tr th {\n",
       "        vertical-align: top;\n",
       "    }\n",
       "\n",
       "    .dataframe thead th {\n",
       "        text-align: right;\n",
       "    }\n",
       "</style>\n",
       "<table border=\"1\" class=\"dataframe\">\n",
       "  <thead>\n",
       "    <tr style=\"text-align: right;\">\n",
       "      <th></th>\n",
       "      <th>id_conversation</th>\n",
       "      <th>ingestion_date</th>\n",
       "      <th>ds_comentario</th>\n",
       "      <th>sent_predito_1</th>\n",
       "      <th>flag_negativo</th>\n",
       "      <th>flag_positivo</th>\n",
       "      <th>sent_predito_final</th>\n",
       "      <th>ds_nota</th>\n",
       "    </tr>\n",
       "  </thead>\n",
       "  <tbody>\n",
       "    <tr>\n",
       "      <th>0</th>\n",
       "      <td>399047</td>\n",
       "      <td>2023-09-29 16:47:45.401</td>\n",
       "      <td>ótimo</td>\n",
       "      <td>2</td>\n",
       "      <td>0</td>\n",
       "      <td>1</td>\n",
       "      <td>2</td>\n",
       "      <td>😃</td>\n",
       "    </tr>\n",
       "    <tr>\n",
       "      <th>1</th>\n",
       "      <td>400910</td>\n",
       "      <td>2023-09-29 16:47:45.401</td>\n",
       "      <td>excelente atendimento luiza❤</td>\n",
       "      <td>0</td>\n",
       "      <td>0</td>\n",
       "      <td>0</td>\n",
       "      <td>0</td>\n",
       "      <td>😍</td>\n",
       "    </tr>\n",
       "    <tr>\n",
       "      <th>2</th>\n",
       "      <td>400624</td>\n",
       "      <td>2023-09-29 16:47:45.401</td>\n",
       "      <td>como que eu faço para voltar meu cartão</td>\n",
       "      <td>1</td>\n",
       "      <td>0</td>\n",
       "      <td>0</td>\n",
       "      <td>1</td>\n",
       "      <td>🙁</td>\n",
       "    </tr>\n",
       "    <tr>\n",
       "      <th>3</th>\n",
       "      <td>400771</td>\n",
       "      <td>2023-09-29 16:47:45.401</td>\n",
       "      <td>bom</td>\n",
       "      <td>2</td>\n",
       "      <td>0</td>\n",
       "      <td>0</td>\n",
       "      <td>2</td>\n",
       "      <td>😃</td>\n",
       "    </tr>\n",
       "    <tr>\n",
       "      <th>4</th>\n",
       "      <td>400884</td>\n",
       "      <td>2023-09-29 16:47:45.401</td>\n",
       "      <td>ótimo atendimento.</td>\n",
       "      <td>0</td>\n",
       "      <td>0</td>\n",
       "      <td>1</td>\n",
       "      <td>0</td>\n",
       "      <td>😍</td>\n",
       "    </tr>\n",
       "  </tbody>\n",
       "</table>\n",
       "</div>"
      ],
      "text/plain": [
       "  id_conversation          ingestion_date  \\\n",
       "0          399047 2023-09-29 16:47:45.401   \n",
       "1          400910 2023-09-29 16:47:45.401   \n",
       "2          400624 2023-09-29 16:47:45.401   \n",
       "3          400771 2023-09-29 16:47:45.401   \n",
       "4          400884 2023-09-29 16:47:45.401   \n",
       "\n",
       "                             ds_comentario  sent_predito_1  flag_negativo  \\\n",
       "0                                   ótimo                2              0   \n",
       "1             excelente atendimento luiza❤               0              0   \n",
       "2  como que eu faço para voltar meu cartão               1              0   \n",
       "3                                      bom               2              0   \n",
       "4                      ótimo atendimento.                0              0   \n",
       "\n",
       "   flag_positivo  sent_predito_final ds_nota  \n",
       "0              1                   2       😃  \n",
       "1              0                   0       😍  \n",
       "2              0                   1       🙁  \n",
       "3              0                   2       😃  \n",
       "4              1                   0       😍  "
      ]
     },
     "execution_count": 22,
     "metadata": {},
     "output_type": "execute_result"
    }
   ],
   "source": [
    "df.head()"
   ]
  },
  {
   "cell_type": "code",
   "execution_count": 35,
   "metadata": {},
   "outputs": [
    {
     "data": {
      "text/html": [
       "<div>\n",
       "<style scoped>\n",
       "    .dataframe tbody tr th:only-of-type {\n",
       "        vertical-align: middle;\n",
       "    }\n",
       "\n",
       "    .dataframe tbody tr th {\n",
       "        vertical-align: top;\n",
       "    }\n",
       "\n",
       "    .dataframe thead th {\n",
       "        text-align: right;\n",
       "    }\n",
       "</style>\n",
       "<table border=\"1\" class=\"dataframe\">\n",
       "  <thead>\n",
       "    <tr style=\"text-align: right;\">\n",
       "      <th></th>\n",
       "      <th>id_conversation</th>\n",
       "      <th>ingestion_date</th>\n",
       "      <th>ds_comentario</th>\n",
       "      <th>sent_predito_1</th>\n",
       "      <th>flag_negativo</th>\n",
       "      <th>flag_positivo</th>\n",
       "      <th>sent_predito_final</th>\n",
       "      <th>ds_nota</th>\n",
       "    </tr>\n",
       "  </thead>\n",
       "  <tbody>\n",
       "    <tr>\n",
       "      <th>1</th>\n",
       "      <td>400910</td>\n",
       "      <td>2023-09-29 16:47:45.401</td>\n",
       "      <td>excelente atendimento luiza❤</td>\n",
       "      <td>0</td>\n",
       "      <td>0</td>\n",
       "      <td>0</td>\n",
       "      <td>0</td>\n",
       "      <td>😍</td>\n",
       "    </tr>\n",
       "    <tr>\n",
       "      <th>4</th>\n",
       "      <td>400884</td>\n",
       "      <td>2023-09-29 16:47:45.401</td>\n",
       "      <td>ótimo atendimento.</td>\n",
       "      <td>0</td>\n",
       "      <td>0</td>\n",
       "      <td>1</td>\n",
       "      <td>0</td>\n",
       "      <td>😍</td>\n",
       "    </tr>\n",
       "    <tr>\n",
       "      <th>8</th>\n",
       "      <td>348052</td>\n",
       "      <td>2023-09-29 16:47:45.401</td>\n",
       "      <td>amei o atendimento !</td>\n",
       "      <td>0</td>\n",
       "      <td>0</td>\n",
       "      <td>0</td>\n",
       "      <td>0</td>\n",
       "      <td>😍</td>\n",
       "    </tr>\n",
       "    <tr>\n",
       "      <th>9</th>\n",
       "      <td>347268</td>\n",
       "      <td>2023-09-29 16:47:45.401</td>\n",
       "      <td>demora muito pra responder o cliente</td>\n",
       "      <td>0</td>\n",
       "      <td>0</td>\n",
       "      <td>0</td>\n",
       "      <td>0</td>\n",
       "      <td>🙁</td>\n",
       "    </tr>\n",
       "    <tr>\n",
       "      <th>10</th>\n",
       "      <td>347765</td>\n",
       "      <td>2023-09-29 16:47:45.401</td>\n",
       "      <td>uma demora danada e quando entrão no chat esse...</td>\n",
       "      <td>0</td>\n",
       "      <td>0</td>\n",
       "      <td>0</td>\n",
       "      <td>0</td>\n",
       "      <td>😠</td>\n",
       "    </tr>\n",
       "  </tbody>\n",
       "</table>\n",
       "</div>"
      ],
      "text/plain": [
       "   id_conversation          ingestion_date  \\\n",
       "1           400910 2023-09-29 16:47:45.401   \n",
       "4           400884 2023-09-29 16:47:45.401   \n",
       "8           348052 2023-09-29 16:47:45.401   \n",
       "9           347268 2023-09-29 16:47:45.401   \n",
       "10          347765 2023-09-29 16:47:45.401   \n",
       "\n",
       "                                        ds_comentario  sent_predito_1  \\\n",
       "1                        excelente atendimento luiza❤               0   \n",
       "4                                 ótimo atendimento.                0   \n",
       "8                                amei o atendimento !               0   \n",
       "9               demora muito pra responder o cliente                0   \n",
       "10  uma demora danada e quando entrão no chat esse...               0   \n",
       "\n",
       "    flag_negativo  flag_positivo  sent_predito_final ds_nota  \n",
       "1               0              0                   0       😍  \n",
       "4               0              1                   0       😍  \n",
       "8               0              0                   0       😍  \n",
       "9               0              0                   0       🙁  \n",
       "10              0              0                   0       😠  "
      ]
     },
     "execution_count": 35,
     "metadata": {},
     "output_type": "execute_result"
    }
   ],
   "source": [
    "df.query('sent_predito_1 == 0').head()"
   ]
  },
  {
   "cell_type": "code",
   "execution_count": 28,
   "metadata": {},
   "outputs": [
    {
     "data": {
      "text/html": [
       "<div>\n",
       "<style scoped>\n",
       "    .dataframe tbody tr th:only-of-type {\n",
       "        vertical-align: middle;\n",
       "    }\n",
       "\n",
       "    .dataframe tbody tr th {\n",
       "        vertical-align: top;\n",
       "    }\n",
       "\n",
       "    .dataframe thead th {\n",
       "        text-align: right;\n",
       "    }\n",
       "</style>\n",
       "<table border=\"1\" class=\"dataframe\">\n",
       "  <thead>\n",
       "    <tr style=\"text-align: right;\">\n",
       "      <th>sent_predito_final</th>\n",
       "      <th>0</th>\n",
       "      <th>1</th>\n",
       "      <th>2</th>\n",
       "    </tr>\n",
       "    <tr>\n",
       "      <th>ds_nota</th>\n",
       "      <th></th>\n",
       "      <th></th>\n",
       "      <th></th>\n",
       "    </tr>\n",
       "  </thead>\n",
       "  <tbody>\n",
       "    <tr>\n",
       "      <th>1 star</th>\n",
       "      <td>0.634228</td>\n",
       "      <td>0.306488</td>\n",
       "      <td>0.059284</td>\n",
       "    </tr>\n",
       "    <tr>\n",
       "      <th>2 stars</th>\n",
       "      <td>0.404624</td>\n",
       "      <td>0.450867</td>\n",
       "      <td>0.144509</td>\n",
       "    </tr>\n",
       "    <tr>\n",
       "      <th>3 stars</th>\n",
       "      <td>0.435754</td>\n",
       "      <td>0.413408</td>\n",
       "      <td>0.150838</td>\n",
       "    </tr>\n",
       "    <tr>\n",
       "      <th>4 stars</th>\n",
       "      <td>0.307420</td>\n",
       "      <td>0.261484</td>\n",
       "      <td>0.431095</td>\n",
       "    </tr>\n",
       "    <tr>\n",
       "      <th>5 stars</th>\n",
       "      <td>0.274716</td>\n",
       "      <td>0.195101</td>\n",
       "      <td>0.530184</td>\n",
       "    </tr>\n",
       "    <tr>\n",
       "      <th>😃</th>\n",
       "      <td>0.256804</td>\n",
       "      <td>0.277794</td>\n",
       "      <td>0.465402</td>\n",
       "    </tr>\n",
       "    <tr>\n",
       "      <th>😍</th>\n",
       "      <td>0.303929</td>\n",
       "      <td>0.228062</td>\n",
       "      <td>0.468009</td>\n",
       "    </tr>\n",
       "    <tr>\n",
       "      <th>😐</th>\n",
       "      <td>0.389506</td>\n",
       "      <td>0.460802</td>\n",
       "      <td>0.149691</td>\n",
       "    </tr>\n",
       "    <tr>\n",
       "      <th>😠</th>\n",
       "      <td>0.684403</td>\n",
       "      <td>0.264466</td>\n",
       "      <td>0.051131</td>\n",
       "    </tr>\n",
       "    <tr>\n",
       "      <th>🙁</th>\n",
       "      <td>0.480605</td>\n",
       "      <td>0.424472</td>\n",
       "      <td>0.094923</td>\n",
       "    </tr>\n",
       "  </tbody>\n",
       "</table>\n",
       "</div>"
      ],
      "text/plain": [
       "sent_predito_final         0         1         2\n",
       "ds_nota                                         \n",
       "1 star              0.634228  0.306488  0.059284\n",
       "2 stars             0.404624  0.450867  0.144509\n",
       "3 stars             0.435754  0.413408  0.150838\n",
       "4 stars             0.307420  0.261484  0.431095\n",
       "5 stars             0.274716  0.195101  0.530184\n",
       "😃                   0.256804  0.277794  0.465402\n",
       "😍                   0.303929  0.228062  0.468009\n",
       "😐                   0.389506  0.460802  0.149691\n",
       "😠                   0.684403  0.264466  0.051131\n",
       "🙁                   0.480605  0.424472  0.094923"
      ]
     },
     "execution_count": 28,
     "metadata": {},
     "output_type": "execute_result"
    }
   ],
   "source": [
    "pd.crosstab(df.ds_nota, df.sent_predito_final, normalize = 'index')"
   ]
  },
  {
   "cell_type": "code",
   "execution_count": 84,
   "metadata": {},
   "outputs": [
    {
     "name": "stdout",
     "output_type": "stream",
     "text": [
      "upload: ./cx.analise_sentimento_teste.csv to s3://data-sandbox-zone-will-prod/upload/cx.analise_sentimento_teste.csv\n"
     ]
    },
    {
     "data": {
      "text/plain": [
       "0"
      ]
     },
     "execution_count": 84,
     "metadata": {},
     "output_type": "execute_result"
    }
   ],
   "source": [
    "\"\"\" area = 'cx'\n",
    "name = 'analise_sentimento_teste.csv'\n",
    "filename = f'{area}.{name}'\n",
    "\n",
    "df[['cpf_customer', 'mes_chat', 'dt_envio_mensagem',\n",
    "       'ds_message', 'sent_predito_1','tipo_msg_predito', 'sentimento_predito']].to_csv(filename, index=False)\n",
    "\n",
    "os.system(f'aws s3 cp {filename} s3://data-sandbox-zone-will-prod/upload/') \"\"\""
   ]
  }
 ],
 "metadata": {
  "availableInstances": [
   {
    "_defaultOrder": 0,
    "_isFastLaunch": true,
    "category": "General purpose",
    "gpuNum": 0,
    "hideHardwareSpecs": false,
    "memoryGiB": 4,
    "name": "ml.t3.medium",
    "vcpuNum": 2
   },
   {
    "_defaultOrder": 1,
    "_isFastLaunch": false,
    "category": "General purpose",
    "gpuNum": 0,
    "hideHardwareSpecs": false,
    "memoryGiB": 8,
    "name": "ml.t3.large",
    "vcpuNum": 2
   },
   {
    "_defaultOrder": 2,
    "_isFastLaunch": false,
    "category": "General purpose",
    "gpuNum": 0,
    "hideHardwareSpecs": false,
    "memoryGiB": 16,
    "name": "ml.t3.xlarge",
    "vcpuNum": 4
   },
   {
    "_defaultOrder": 3,
    "_isFastLaunch": false,
    "category": "General purpose",
    "gpuNum": 0,
    "hideHardwareSpecs": false,
    "memoryGiB": 32,
    "name": "ml.t3.2xlarge",
    "vcpuNum": 8
   },
   {
    "_defaultOrder": 4,
    "_isFastLaunch": true,
    "category": "General purpose",
    "gpuNum": 0,
    "hideHardwareSpecs": false,
    "memoryGiB": 8,
    "name": "ml.m5.large",
    "vcpuNum": 2
   },
   {
    "_defaultOrder": 5,
    "_isFastLaunch": false,
    "category": "General purpose",
    "gpuNum": 0,
    "hideHardwareSpecs": false,
    "memoryGiB": 16,
    "name": "ml.m5.xlarge",
    "vcpuNum": 4
   },
   {
    "_defaultOrder": 6,
    "_isFastLaunch": false,
    "category": "General purpose",
    "gpuNum": 0,
    "hideHardwareSpecs": false,
    "memoryGiB": 32,
    "name": "ml.m5.2xlarge",
    "vcpuNum": 8
   },
   {
    "_defaultOrder": 7,
    "_isFastLaunch": false,
    "category": "General purpose",
    "gpuNum": 0,
    "hideHardwareSpecs": false,
    "memoryGiB": 64,
    "name": "ml.m5.4xlarge",
    "vcpuNum": 16
   },
   {
    "_defaultOrder": 8,
    "_isFastLaunch": false,
    "category": "General purpose",
    "gpuNum": 0,
    "hideHardwareSpecs": false,
    "memoryGiB": 128,
    "name": "ml.m5.8xlarge",
    "vcpuNum": 32
   },
   {
    "_defaultOrder": 9,
    "_isFastLaunch": false,
    "category": "General purpose",
    "gpuNum": 0,
    "hideHardwareSpecs": false,
    "memoryGiB": 192,
    "name": "ml.m5.12xlarge",
    "vcpuNum": 48
   },
   {
    "_defaultOrder": 10,
    "_isFastLaunch": false,
    "category": "General purpose",
    "gpuNum": 0,
    "hideHardwareSpecs": false,
    "memoryGiB": 256,
    "name": "ml.m5.16xlarge",
    "vcpuNum": 64
   },
   {
    "_defaultOrder": 11,
    "_isFastLaunch": false,
    "category": "General purpose",
    "gpuNum": 0,
    "hideHardwareSpecs": false,
    "memoryGiB": 384,
    "name": "ml.m5.24xlarge",
    "vcpuNum": 96
   },
   {
    "_defaultOrder": 12,
    "_isFastLaunch": false,
    "category": "General purpose",
    "gpuNum": 0,
    "hideHardwareSpecs": false,
    "memoryGiB": 8,
    "name": "ml.m5d.large",
    "vcpuNum": 2
   },
   {
    "_defaultOrder": 13,
    "_isFastLaunch": false,
    "category": "General purpose",
    "gpuNum": 0,
    "hideHardwareSpecs": false,
    "memoryGiB": 16,
    "name": "ml.m5d.xlarge",
    "vcpuNum": 4
   },
   {
    "_defaultOrder": 14,
    "_isFastLaunch": false,
    "category": "General purpose",
    "gpuNum": 0,
    "hideHardwareSpecs": false,
    "memoryGiB": 32,
    "name": "ml.m5d.2xlarge",
    "vcpuNum": 8
   },
   {
    "_defaultOrder": 15,
    "_isFastLaunch": false,
    "category": "General purpose",
    "gpuNum": 0,
    "hideHardwareSpecs": false,
    "memoryGiB": 64,
    "name": "ml.m5d.4xlarge",
    "vcpuNum": 16
   },
   {
    "_defaultOrder": 16,
    "_isFastLaunch": false,
    "category": "General purpose",
    "gpuNum": 0,
    "hideHardwareSpecs": false,
    "memoryGiB": 128,
    "name": "ml.m5d.8xlarge",
    "vcpuNum": 32
   },
   {
    "_defaultOrder": 17,
    "_isFastLaunch": false,
    "category": "General purpose",
    "gpuNum": 0,
    "hideHardwareSpecs": false,
    "memoryGiB": 192,
    "name": "ml.m5d.12xlarge",
    "vcpuNum": 48
   },
   {
    "_defaultOrder": 18,
    "_isFastLaunch": false,
    "category": "General purpose",
    "gpuNum": 0,
    "hideHardwareSpecs": false,
    "memoryGiB": 256,
    "name": "ml.m5d.16xlarge",
    "vcpuNum": 64
   },
   {
    "_defaultOrder": 19,
    "_isFastLaunch": false,
    "category": "General purpose",
    "gpuNum": 0,
    "hideHardwareSpecs": false,
    "memoryGiB": 384,
    "name": "ml.m5d.24xlarge",
    "vcpuNum": 96
   },
   {
    "_defaultOrder": 20,
    "_isFastLaunch": false,
    "category": "General purpose",
    "gpuNum": 0,
    "hideHardwareSpecs": true,
    "memoryGiB": 0,
    "name": "ml.geospatial.interactive",
    "supportedImageNames": [
     "sagemaker-geospatial-v1-0"
    ],
    "vcpuNum": 0
   },
   {
    "_defaultOrder": 21,
    "_isFastLaunch": true,
    "category": "Compute optimized",
    "gpuNum": 0,
    "hideHardwareSpecs": false,
    "memoryGiB": 4,
    "name": "ml.c5.large",
    "vcpuNum": 2
   },
   {
    "_defaultOrder": 22,
    "_isFastLaunch": false,
    "category": "Compute optimized",
    "gpuNum": 0,
    "hideHardwareSpecs": false,
    "memoryGiB": 8,
    "name": "ml.c5.xlarge",
    "vcpuNum": 4
   },
   {
    "_defaultOrder": 23,
    "_isFastLaunch": false,
    "category": "Compute optimized",
    "gpuNum": 0,
    "hideHardwareSpecs": false,
    "memoryGiB": 16,
    "name": "ml.c5.2xlarge",
    "vcpuNum": 8
   },
   {
    "_defaultOrder": 24,
    "_isFastLaunch": false,
    "category": "Compute optimized",
    "gpuNum": 0,
    "hideHardwareSpecs": false,
    "memoryGiB": 32,
    "name": "ml.c5.4xlarge",
    "vcpuNum": 16
   },
   {
    "_defaultOrder": 25,
    "_isFastLaunch": false,
    "category": "Compute optimized",
    "gpuNum": 0,
    "hideHardwareSpecs": false,
    "memoryGiB": 72,
    "name": "ml.c5.9xlarge",
    "vcpuNum": 36
   },
   {
    "_defaultOrder": 26,
    "_isFastLaunch": false,
    "category": "Compute optimized",
    "gpuNum": 0,
    "hideHardwareSpecs": false,
    "memoryGiB": 96,
    "name": "ml.c5.12xlarge",
    "vcpuNum": 48
   },
   {
    "_defaultOrder": 27,
    "_isFastLaunch": false,
    "category": "Compute optimized",
    "gpuNum": 0,
    "hideHardwareSpecs": false,
    "memoryGiB": 144,
    "name": "ml.c5.18xlarge",
    "vcpuNum": 72
   },
   {
    "_defaultOrder": 28,
    "_isFastLaunch": false,
    "category": "Compute optimized",
    "gpuNum": 0,
    "hideHardwareSpecs": false,
    "memoryGiB": 192,
    "name": "ml.c5.24xlarge",
    "vcpuNum": 96
   },
   {
    "_defaultOrder": 29,
    "_isFastLaunch": true,
    "category": "Accelerated computing",
    "gpuNum": 1,
    "hideHardwareSpecs": false,
    "memoryGiB": 16,
    "name": "ml.g4dn.xlarge",
    "vcpuNum": 4
   },
   {
    "_defaultOrder": 30,
    "_isFastLaunch": false,
    "category": "Accelerated computing",
    "gpuNum": 1,
    "hideHardwareSpecs": false,
    "memoryGiB": 32,
    "name": "ml.g4dn.2xlarge",
    "vcpuNum": 8
   },
   {
    "_defaultOrder": 31,
    "_isFastLaunch": false,
    "category": "Accelerated computing",
    "gpuNum": 1,
    "hideHardwareSpecs": false,
    "memoryGiB": 64,
    "name": "ml.g4dn.4xlarge",
    "vcpuNum": 16
   },
   {
    "_defaultOrder": 32,
    "_isFastLaunch": false,
    "category": "Accelerated computing",
    "gpuNum": 1,
    "hideHardwareSpecs": false,
    "memoryGiB": 128,
    "name": "ml.g4dn.8xlarge",
    "vcpuNum": 32
   },
   {
    "_defaultOrder": 33,
    "_isFastLaunch": false,
    "category": "Accelerated computing",
    "gpuNum": 4,
    "hideHardwareSpecs": false,
    "memoryGiB": 192,
    "name": "ml.g4dn.12xlarge",
    "vcpuNum": 48
   },
   {
    "_defaultOrder": 34,
    "_isFastLaunch": false,
    "category": "Accelerated computing",
    "gpuNum": 1,
    "hideHardwareSpecs": false,
    "memoryGiB": 256,
    "name": "ml.g4dn.16xlarge",
    "vcpuNum": 64
   },
   {
    "_defaultOrder": 35,
    "_isFastLaunch": false,
    "category": "Accelerated computing",
    "gpuNum": 1,
    "hideHardwareSpecs": false,
    "memoryGiB": 61,
    "name": "ml.p3.2xlarge",
    "vcpuNum": 8
   },
   {
    "_defaultOrder": 36,
    "_isFastLaunch": false,
    "category": "Accelerated computing",
    "gpuNum": 4,
    "hideHardwareSpecs": false,
    "memoryGiB": 244,
    "name": "ml.p3.8xlarge",
    "vcpuNum": 32
   },
   {
    "_defaultOrder": 37,
    "_isFastLaunch": false,
    "category": "Accelerated computing",
    "gpuNum": 8,
    "hideHardwareSpecs": false,
    "memoryGiB": 488,
    "name": "ml.p3.16xlarge",
    "vcpuNum": 64
   },
   {
    "_defaultOrder": 38,
    "_isFastLaunch": false,
    "category": "Accelerated computing",
    "gpuNum": 8,
    "hideHardwareSpecs": false,
    "memoryGiB": 768,
    "name": "ml.p3dn.24xlarge",
    "vcpuNum": 96
   },
   {
    "_defaultOrder": 39,
    "_isFastLaunch": false,
    "category": "Memory Optimized",
    "gpuNum": 0,
    "hideHardwareSpecs": false,
    "memoryGiB": 16,
    "name": "ml.r5.large",
    "vcpuNum": 2
   },
   {
    "_defaultOrder": 40,
    "_isFastLaunch": false,
    "category": "Memory Optimized",
    "gpuNum": 0,
    "hideHardwareSpecs": false,
    "memoryGiB": 32,
    "name": "ml.r5.xlarge",
    "vcpuNum": 4
   },
   {
    "_defaultOrder": 41,
    "_isFastLaunch": false,
    "category": "Memory Optimized",
    "gpuNum": 0,
    "hideHardwareSpecs": false,
    "memoryGiB": 64,
    "name": "ml.r5.2xlarge",
    "vcpuNum": 8
   },
   {
    "_defaultOrder": 42,
    "_isFastLaunch": false,
    "category": "Memory Optimized",
    "gpuNum": 0,
    "hideHardwareSpecs": false,
    "memoryGiB": 128,
    "name": "ml.r5.4xlarge",
    "vcpuNum": 16
   },
   {
    "_defaultOrder": 43,
    "_isFastLaunch": false,
    "category": "Memory Optimized",
    "gpuNum": 0,
    "hideHardwareSpecs": false,
    "memoryGiB": 256,
    "name": "ml.r5.8xlarge",
    "vcpuNum": 32
   },
   {
    "_defaultOrder": 44,
    "_isFastLaunch": false,
    "category": "Memory Optimized",
    "gpuNum": 0,
    "hideHardwareSpecs": false,
    "memoryGiB": 384,
    "name": "ml.r5.12xlarge",
    "vcpuNum": 48
   },
   {
    "_defaultOrder": 45,
    "_isFastLaunch": false,
    "category": "Memory Optimized",
    "gpuNum": 0,
    "hideHardwareSpecs": false,
    "memoryGiB": 512,
    "name": "ml.r5.16xlarge",
    "vcpuNum": 64
   },
   {
    "_defaultOrder": 46,
    "_isFastLaunch": false,
    "category": "Memory Optimized",
    "gpuNum": 0,
    "hideHardwareSpecs": false,
    "memoryGiB": 768,
    "name": "ml.r5.24xlarge",
    "vcpuNum": 96
   },
   {
    "_defaultOrder": 47,
    "_isFastLaunch": false,
    "category": "Accelerated computing",
    "gpuNum": 1,
    "hideHardwareSpecs": false,
    "memoryGiB": 16,
    "name": "ml.g5.xlarge",
    "vcpuNum": 4
   },
   {
    "_defaultOrder": 48,
    "_isFastLaunch": false,
    "category": "Accelerated computing",
    "gpuNum": 1,
    "hideHardwareSpecs": false,
    "memoryGiB": 32,
    "name": "ml.g5.2xlarge",
    "vcpuNum": 8
   },
   {
    "_defaultOrder": 49,
    "_isFastLaunch": false,
    "category": "Accelerated computing",
    "gpuNum": 1,
    "hideHardwareSpecs": false,
    "memoryGiB": 64,
    "name": "ml.g5.4xlarge",
    "vcpuNum": 16
   },
   {
    "_defaultOrder": 50,
    "_isFastLaunch": false,
    "category": "Accelerated computing",
    "gpuNum": 1,
    "hideHardwareSpecs": false,
    "memoryGiB": 128,
    "name": "ml.g5.8xlarge",
    "vcpuNum": 32
   },
   {
    "_defaultOrder": 51,
    "_isFastLaunch": false,
    "category": "Accelerated computing",
    "gpuNum": 1,
    "hideHardwareSpecs": false,
    "memoryGiB": 256,
    "name": "ml.g5.16xlarge",
    "vcpuNum": 64
   },
   {
    "_defaultOrder": 52,
    "_isFastLaunch": false,
    "category": "Accelerated computing",
    "gpuNum": 4,
    "hideHardwareSpecs": false,
    "memoryGiB": 192,
    "name": "ml.g5.12xlarge",
    "vcpuNum": 48
   },
   {
    "_defaultOrder": 53,
    "_isFastLaunch": false,
    "category": "Accelerated computing",
    "gpuNum": 4,
    "hideHardwareSpecs": false,
    "memoryGiB": 384,
    "name": "ml.g5.24xlarge",
    "vcpuNum": 96
   },
   {
    "_defaultOrder": 54,
    "_isFastLaunch": false,
    "category": "Accelerated computing",
    "gpuNum": 8,
    "hideHardwareSpecs": false,
    "memoryGiB": 768,
    "name": "ml.g5.48xlarge",
    "vcpuNum": 192
   },
   {
    "_defaultOrder": 55,
    "_isFastLaunch": false,
    "category": "Accelerated computing",
    "gpuNum": 8,
    "hideHardwareSpecs": false,
    "memoryGiB": 1152,
    "name": "ml.p4d.24xlarge",
    "vcpuNum": 96
   },
   {
    "_defaultOrder": 56,
    "_isFastLaunch": false,
    "category": "Accelerated computing",
    "gpuNum": 8,
    "hideHardwareSpecs": false,
    "memoryGiB": 1152,
    "name": "ml.p4de.24xlarge",
    "vcpuNum": 96
   }
  ],
  "instance_type": "ml.t3.xlarge",
  "kernelspec": {
   "display_name": "Python 3",
   "language": "python",
   "name": "python3"
  },
  "language_info": {
   "codemirror_mode": {
    "name": "ipython",
    "version": 3
   },
   "file_extension": ".py",
   "mimetype": "text/x-python",
   "name": "python",
   "nbconvert_exporter": "python",
   "pygments_lexer": "ipython3",
   "version": "3.8.10"
  }
 },
 "nbformat": 4,
 "nbformat_minor": 4
}
