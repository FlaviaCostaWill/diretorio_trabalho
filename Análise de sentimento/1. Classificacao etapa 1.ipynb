{
 "cells": [
  {
   "cell_type": "code",
   "execution_count": 2,
   "metadata": {},
   "outputs": [
    {
     "name": "stderr",
     "output_type": "stream",
     "text": [
      "2023-08-15 17:05:35.775795: I tensorflow/tsl/cuda/cudart_stub.cc:28] Could not find cuda drivers on your machine, GPU will not be used.\n",
      "2023-08-15 17:05:36.034041: I tensorflow/tsl/cuda/cudart_stub.cc:28] Could not find cuda drivers on your machine, GPU will not be used.\n",
      "2023-08-15 17:05:36.035034: I tensorflow/core/platform/cpu_feature_guard.cc:182] This TensorFlow binary is optimized to use available CPU instructions in performance-critical operations.\n",
      "To enable the following instructions: AVX2 FMA, in other operations, rebuild TensorFlow with the appropriate compiler flags.\n",
      "2023-08-15 17:05:37.701075: W tensorflow/compiler/tf2tensorrt/utils/py_utils.cc:38] TF-TRT Warning: Could not find TensorRT\n"
     ]
    }
   ],
   "source": [
    "import pandas as pd\n",
    "import numpy as np\n",
    "import os as os\n",
    "import pickle\n",
    "import seaborn as sns\n",
    "import matplotlib.pyplot as plt\n",
    "from wordcloud import WordCloud, STOPWORDS, ImageColorGenerator\n",
    "from nltk.util import ngrams\n",
    "import nltk\n",
    "from arabica import arabica_freq\n",
    "from unidecode import unidecode\n",
    "import re\n",
    "import plotly.express as px\n",
    "import texthero as hero\n",
    "from sklearn.cluster import KMeans\n",
    "from sklearn.feature_extraction.text import CountVectorizer\n",
    "from sklearn.feature_extraction.text import TfidfVectorizer\n",
    "from sklearn.decomposition import LatentDirichletAllocation\n",
    "from sklearn.decomposition import NMF\n",
    "from sklearn.decomposition import TruncatedSVD\n",
    "import nltk\n",
    "from nltk.sentiment.vader import SentimentIntensityAnalyzer\n",
    "from sklearn.naive_bayes import BernoulliNB\n",
    "import spacy\n",
    "import re\n",
    "import nlp\n",
    "import warnings\n",
    "import statsmodels.api as sm\n",
    "from statsmodels.formula.api import ols\n",
    "\n",
    "\n",
    "warnings.simplefilter(action='ignore', category=FutureWarning)"
   ]
  },
  {
   "cell_type": "code",
   "execution_count": 26,
   "metadata": {},
   "outputs": [],
   "source": [
    "df = pd.read_csv('sentimento - base1.csv')"
   ]
  },
  {
   "cell_type": "code",
   "execution_count": 27,
   "metadata": {},
   "outputs": [
    {
     "data": {
      "text/html": [
       "<div>\n",
       "<style scoped>\n",
       "    .dataframe tbody tr th:only-of-type {\n",
       "        vertical-align: middle;\n",
       "    }\n",
       "\n",
       "    .dataframe tbody tr th {\n",
       "        vertical-align: top;\n",
       "    }\n",
       "\n",
       "    .dataframe thead th {\n",
       "        text-align: right;\n",
       "    }\n",
       "</style>\n",
       "<table border=\"1\" class=\"dataframe\">\n",
       "  <thead>\n",
       "    <tr style=\"text-align: right;\">\n",
       "      <th></th>\n",
       "      <th>id_issue</th>\n",
       "      <th>mes_chat</th>\n",
       "      <th>SENTIMENTO</th>\n",
       "      <th>TIPO_MSG</th>\n",
       "      <th>hierarquia_4</th>\n",
       "      <th>ds_cluster_sociodemographic</th>\n",
       "      <th>ds_message</th>\n",
       "    </tr>\n",
       "  </thead>\n",
       "  <tbody>\n",
       "    <tr>\n",
       "      <th>0</th>\n",
       "      <td>15388962</td>\n",
       "      <td>2023-04-01</td>\n",
       "      <td>neutro</td>\n",
       "      <td>duvida</td>\n",
       "      <td>Vencimento fatura</td>\n",
       "      <td>0 - Mulher, Casada, 25 anos ou mais, cidade Pe...</td>\n",
       "      <td>['Que dia minha fatura fecha?','Ainda tenho dú...</td>\n",
       "    </tr>\n",
       "    <tr>\n",
       "      <th>1</th>\n",
       "      <td>17497395</td>\n",
       "      <td>2023-07-01</td>\n",
       "      <td>neutro</td>\n",
       "      <td>duvida</td>\n",
       "      <td>Dúvidas sobre pagamento de fatura</td>\n",
       "      <td>11 - Homem, Solteiro, Até 24 anos, cidade Pequ...</td>\n",
       "      <td>['Quero pagar os 100 reais que eu tirei','Mais...</td>\n",
       "    </tr>\n",
       "    <tr>\n",
       "      <th>2</th>\n",
       "      <td>15213047</td>\n",
       "      <td>2023-04-01</td>\n",
       "      <td>neutro</td>\n",
       "      <td>solicitacao</td>\n",
       "      <td>Não reconhecimento de compra no crédito</td>\n",
       "      <td>17 - Mulher, 25 a 40 anos, Sudeste e Sul</td>\n",
       "      <td>['Apareceu uma compra que eu não fiz','Dúvida ...</td>\n",
       "    </tr>\n",
       "    <tr>\n",
       "      <th>3</th>\n",
       "      <td>17117301</td>\n",
       "      <td>2023-06-01</td>\n",
       "      <td>neutro</td>\n",
       "      <td>problema</td>\n",
       "      <td>Parcelamento de fatura</td>\n",
       "      <td>8 - Mulher, Solteira, Até 24 anos, cidade Pequ...</td>\n",
       "      <td>['No meu limite está escrito que está utilizad...</td>\n",
       "    </tr>\n",
       "    <tr>\n",
       "      <th>4</th>\n",
       "      <td>17345996</td>\n",
       "      <td>2023-07-01</td>\n",
       "      <td>negativo</td>\n",
       "      <td>problema</td>\n",
       "      <td>Dúvidas PIX</td>\n",
       "      <td>10 - Mulher, Solteira, Até 24 anos, cidade Peq...</td>\n",
       "      <td>['Pix','E merda o will nunca teve essas coisas...</td>\n",
       "    </tr>\n",
       "  </tbody>\n",
       "</table>\n",
       "</div>"
      ],
      "text/plain": [
       "   id_issue    mes_chat SENTIMENTO     TIPO_MSG  \\\n",
       "0  15388962  2023-04-01     neutro       duvida   \n",
       "1  17497395  2023-07-01     neutro       duvida   \n",
       "2  15213047  2023-04-01     neutro  solicitacao   \n",
       "3  17117301  2023-06-01     neutro     problema   \n",
       "4  17345996  2023-07-01   negativo     problema   \n",
       "\n",
       "                              hierarquia_4  \\\n",
       "0                        Vencimento fatura   \n",
       "1        Dúvidas sobre pagamento de fatura   \n",
       "2  Não reconhecimento de compra no crédito   \n",
       "3                   Parcelamento de fatura   \n",
       "4                              Dúvidas PIX   \n",
       "\n",
       "                         ds_cluster_sociodemographic  \\\n",
       "0  0 - Mulher, Casada, 25 anos ou mais, cidade Pe...   \n",
       "1  11 - Homem, Solteiro, Até 24 anos, cidade Pequ...   \n",
       "2           17 - Mulher, 25 a 40 anos, Sudeste e Sul   \n",
       "3  8 - Mulher, Solteira, Até 24 anos, cidade Pequ...   \n",
       "4  10 - Mulher, Solteira, Até 24 anos, cidade Peq...   \n",
       "\n",
       "                                          ds_message  \n",
       "0  ['Que dia minha fatura fecha?','Ainda tenho dú...  \n",
       "1  ['Quero pagar os 100 reais que eu tirei','Mais...  \n",
       "2  ['Apareceu uma compra que eu não fiz','Dúvida ...  \n",
       "3  ['No meu limite está escrito que está utilizad...  \n",
       "4  ['Pix','E merda o will nunca teve essas coisas...  "
      ]
     },
     "execution_count": 27,
     "metadata": {},
     "output_type": "execute_result"
    }
   ],
   "source": [
    "df.head()"
   ]
  },
  {
   "cell_type": "code",
   "execution_count": 28,
   "metadata": {},
   "outputs": [
    {
     "data": {
      "text/plain": [
       "\"['Olá','Thays. Tudo bem?','Não','sem mais dúvidas','Muito obrigada ❤️❤️','Quero saber se tenho algum limite extra (adicional','emergencial)?','Aah','ok','Ok','fico no aguardo','Falar de outra coisa']\""
      ]
     },
     "execution_count": 28,
     "metadata": {},
     "output_type": "execute_result"
    }
   ],
   "source": [
    "df['ds_message'][236]"
   ]
  },
  {
   "cell_type": "code",
   "execution_count": 29,
   "metadata": {},
   "outputs": [],
   "source": [
    "def classif_emoji(text):\n",
    "    '''\n",
    "    Replace emojis with word emoji\n",
    "    '''\n",
    "    regrex_pattern = re.compile(pattern=\"[\"\n",
    "                                u\"\\U0001F600-\\U0001F64F\"  # emoticons\n",
    "                                u\"\\U0001F300-\\U0001F5FF\"  # symbols & pictographs\n",
    "                                u\"\\U0001F680-\\U0001F6FF\"  # transport & map symbols\n",
    "                                u\"\\U0001F1E0-\\U0001F1FF\"  # flags (iOS)\n",
    "                                \"]+\", flags=re.UNICODE)\n",
    "    return regrex_pattern.sub(r'emoji ', str(text))\n",
    "\n",
    "def clean_text(x):\n",
    "    x = unidecode(x)\n",
    "    x = x.strip()\n",
    "    x = x.lower()\n",
    "    x = re.sub(r'\\t', ' ', x)\n",
    "    x = re.sub(r'http\\S+', '', x)  # remove url\n",
    "    x = re.sub(r'screenshot sent', 'screenshotsent', x)\n",
    "    x = re.sub(r'will bank', 'willbank', x)\n",
    "    x = re.sub(r'(nbsp\\;|[rl]dquo\\;|quot\\;|acute\\;|tilde\\;|circ\\;|grave\\;|cedil\\;|\\&|\\/)', '', x)  # replace special characters\n",
    "    \n",
    "    x = x.replace('&ccedil;','ç')\n",
    "    x = x.replace('&atilde;;','ã')\n",
    "    x = x.replace('&otilde;;','õ')\n",
    "    x = re.sub(r'(\\d{1,}|\\!|\\?|\\,|\\.|\\\\n|\\:|\\;|\\`|\\´|\\-|\\_)', ' ', x)  # replace punctuation and remove numbers\n",
    "    x = x.replace('  ',' ')\n",
    "    x = x.replace('\\n','')\n",
    "    x = x.strip()\n",
    "    return x\n"
   ]
  },
  {
   "cell_type": "code",
   "execution_count": 30,
   "metadata": {},
   "outputs": [
    {
     "data": {
      "text/plain": [
       "14906"
      ]
     },
     "execution_count": 30,
     "metadata": {},
     "output_type": "execute_result"
    }
   ],
   "source": [
    "len(df)"
   ]
  },
  {
   "cell_type": "code",
   "execution_count": 36,
   "metadata": {},
   "outputs": [],
   "source": [
    "# não vou remover emojis\n",
    "df['ds_message_tratada'] = df['ds_message'].apply(clean_text)"
   ]
  },
  {
   "cell_type": "code",
   "execution_count": 37,
   "metadata": {},
   "outputs": [
    {
     "data": {
      "text/plain": [
       "\"['ja confirmou a compra obrigado pela informacao tenha um bom dia ' 'fiz uma compra na internet com o meu cartao virtual so que ainda nao debitou o valor da compra no limite do meu cartao virtual' 'falar de outra coisa']\""
      ]
     },
     "execution_count": 37,
     "metadata": {},
     "output_type": "execute_result"
    }
   ],
   "source": [
    "df['ds_message_tratada'][132]"
   ]
  },
  {
   "cell_type": "code",
   "execution_count": 38,
   "metadata": {},
   "outputs": [],
   "source": [
    "df['n_palavras'] = df['ds_message_tratada'].str.count(' ')"
   ]
  },
  {
   "cell_type": "code",
   "execution_count": 39,
   "metadata": {},
   "outputs": [],
   "source": [
    "from LeIA import SentimentIntensityAnalyzer \n",
    "\n",
    "\n",
    "# Initialize the sentiment analyzer\n",
    "analyzer = SentimentIntensityAnalyzer()\n",
    "# Create a new column in the dataframe to store the sentiment scores\n",
    "df[\"sentiment\"] = 0.0\n",
    "\n",
    "# Iterate over the rows of the dataframe\n",
    "for index, row in df.iterrows():\n",
    "  # Use the analyzer to predict the sentiment of the text\n",
    "  scores = analyzer.polarity_scores(row[\"ds_message\"])\n",
    "  # Store the compound score in the new column\n",
    "  df.at[index, \"sentiment\"] = scores[\"compound\"]"
   ]
  },
  {
   "cell_type": "code",
   "execution_count": 40,
   "metadata": {},
   "outputs": [
    {
     "data": {
      "text/plain": [
       "0        0.0000\n",
       "1       -0.4215\n",
       "2       -0.2960\n",
       "3        0.3400\n",
       "4       -0.7003\n",
       "          ...  \n",
       "14901    0.0000\n",
       "14902   -0.2244\n",
       "14903    0.0000\n",
       "14904    0.0000\n",
       "14905    0.1007\n",
       "Name: sentiment, Length: 14906, dtype: float64"
      ]
     },
     "execution_count": 40,
     "metadata": {},
     "output_type": "execute_result"
    }
   ],
   "source": [
    "df['sentiment']"
   ]
  },
  {
   "cell_type": "code",
   "execution_count": 41,
   "metadata": {},
   "outputs": [
    {
     "data": {
      "text/html": [
       "<div>\n",
       "<style scoped>\n",
       "    .dataframe tbody tr th:only-of-type {\n",
       "        vertical-align: middle;\n",
       "    }\n",
       "\n",
       "    .dataframe tbody tr th {\n",
       "        vertical-align: top;\n",
       "    }\n",
       "\n",
       "    .dataframe thead th {\n",
       "        text-align: right;\n",
       "    }\n",
       "</style>\n",
       "<table border=\"1\" class=\"dataframe\">\n",
       "  <thead>\n",
       "    <tr style=\"text-align: right;\">\n",
       "      <th></th>\n",
       "      <th>sentiment</th>\n",
       "    </tr>\n",
       "    <tr>\n",
       "      <th>SENTIMENTO</th>\n",
       "      <th></th>\n",
       "    </tr>\n",
       "  </thead>\n",
       "  <tbody>\n",
       "    <tr>\n",
       "      <th>negativo</th>\n",
       "      <td>-0.359277</td>\n",
       "    </tr>\n",
       "    <tr>\n",
       "      <th>neutro</th>\n",
       "      <td>-0.107568</td>\n",
       "    </tr>\n",
       "    <tr>\n",
       "      <th>positivo</th>\n",
       "      <td>0.129828</td>\n",
       "    </tr>\n",
       "  </tbody>\n",
       "</table>\n",
       "</div>"
      ],
      "text/plain": [
       "            sentiment\n",
       "SENTIMENTO           \n",
       "negativo    -0.359277\n",
       "neutro      -0.107568\n",
       "positivo     0.129828"
      ]
     },
     "execution_count": 41,
     "metadata": {},
     "output_type": "execute_result"
    }
   ],
   "source": [
    "df[['sentiment', 'SENTIMENTO']].groupby('SENTIMENTO').mean()"
   ]
  },
  {
   "cell_type": "code",
   "execution_count": 57,
   "metadata": {},
   "outputs": [
    {
     "data": {
      "text/plain": [
       "count    14906.000000\n",
       "mean        -0.153777\n",
       "std          0.398074\n",
       "min         -0.998800\n",
       "25%         -0.421500\n",
       "50%          0.000000\n",
       "75%          0.000000\n",
       "max          0.994100\n",
       "Name: sentiment, dtype: float64"
      ]
     },
     "execution_count": 57,
     "metadata": {},
     "output_type": "execute_result"
    }
   ],
   "source": [
    "df['sentiment'].describe()"
   ]
  },
  {
   "cell_type": "code",
   "execution_count": 59,
   "metadata": {},
   "outputs": [
    {
     "data": {
      "text/plain": [
       "454"
      ]
     },
     "execution_count": 59,
     "metadata": {},
     "output_type": "execute_result"
    }
   ],
   "source": [
    "len(df.query('sentiment < -0.9'))"
   ]
  },
  {
   "cell_type": "code",
   "execution_count": 60,
   "metadata": {},
   "outputs": [],
   "source": [
    "df.query('sentiment < -0.9').to_csv('muito_negativo_alg_leya.csv')"
   ]
  },
  {
   "cell_type": "code",
   "execution_count": 51,
   "metadata": {},
   "outputs": [],
   "source": [
    "df['fx_sentiment'] = np.where(df.sentiment < 0, 'negativo', \n",
    "                     np.where(df.sentiment > 0, 'positivo', 'neutro'))"
   ]
  },
  {
   "cell_type": "code",
   "execution_count": 52,
   "metadata": {},
   "outputs": [
    {
     "data": {
      "text/plain": [
       "negativo    7083\n",
       "neutro      4918\n",
       "positivo    2905\n",
       "Name: fx_sentiment, dtype: int64"
      ]
     },
     "execution_count": 52,
     "metadata": {},
     "output_type": "execute_result"
    }
   ],
   "source": [
    "df['fx_sentiment'].value_counts()"
   ]
  },
  {
   "cell_type": "code",
   "execution_count": 53,
   "metadata": {},
   "outputs": [
    {
     "data": {
      "text/html": [
       "<div>\n",
       "<style scoped>\n",
       "    .dataframe tbody tr th:only-of-type {\n",
       "        vertical-align: middle;\n",
       "    }\n",
       "\n",
       "    .dataframe tbody tr th {\n",
       "        vertical-align: top;\n",
       "    }\n",
       "\n",
       "    .dataframe thead th {\n",
       "        text-align: right;\n",
       "    }\n",
       "</style>\n",
       "<table border=\"1\" class=\"dataframe\">\n",
       "  <thead>\n",
       "    <tr style=\"text-align: right;\">\n",
       "      <th>SENTIMENTO</th>\n",
       "      <th>negativo</th>\n",
       "      <th>neutro</th>\n",
       "      <th>positivo</th>\n",
       "    </tr>\n",
       "    <tr>\n",
       "      <th>fx_sentiment</th>\n",
       "      <th></th>\n",
       "      <th></th>\n",
       "      <th></th>\n",
       "    </tr>\n",
       "  </thead>\n",
       "  <tbody>\n",
       "    <tr>\n",
       "      <th>negativo</th>\n",
       "      <td>63</td>\n",
       "      <td>53</td>\n",
       "      <td>26</td>\n",
       "    </tr>\n",
       "    <tr>\n",
       "      <th>neutro</th>\n",
       "      <td>9</td>\n",
       "      <td>43</td>\n",
       "      <td>11</td>\n",
       "    </tr>\n",
       "    <tr>\n",
       "      <th>positivo</th>\n",
       "      <td>18</td>\n",
       "      <td>28</td>\n",
       "      <td>43</td>\n",
       "    </tr>\n",
       "  </tbody>\n",
       "</table>\n",
       "</div>"
      ],
      "text/plain": [
       "SENTIMENTO    negativo  neutro  positivo\n",
       "fx_sentiment                            \n",
       "negativo            63      53        26\n",
       "neutro               9      43        11\n",
       "positivo            18      28        43"
      ]
     },
     "execution_count": 53,
     "metadata": {},
     "output_type": "execute_result"
    }
   ],
   "source": [
    "pd.crosstab(df.fx_sentiment, df.SENTIMENTO)"
   ]
  },
  {
   "cell_type": "code",
   "execution_count": 54,
   "metadata": {},
   "outputs": [
    {
     "name": "stdout",
     "output_type": "stream",
     "text": [
      "['Sim.','Entendi. Mas só me confirma o seguinte','como eu efetuei o pagamento','regularizei a situação com o banco antes dos 10 dias','não corre o risco do meu nome ficar negativado né?!','Falar de outra coisa','Foi o que fui informada pelo meu advogado','mas antes de tomar as medidas cabíveis eu vim entender a situação e saber se foi um erro mesmo e se está tudo ok com a minha situação.','Somente o e-mail.','Perfeito!','Minhas dúvidas era somente essas mesmo. Muito obrigada pelo excelente atendimento!','Claro','só um momento.','E eu recebi hoje essa informação do banco e não entendi.','Ok.','Certo Caroline.','Recebi essa mensagem e dizia que em caso de pagamento','devo desconsiderar.','Certo. Então tudo está correto?  Não corre o risco de meu nome ficar negativado?  Esse 5 dias úteis é a partir do momento que eu efetuei o pagamento ou que eu recebi o comunicado?','Esse ficou melhor?','Recebi um comunicado do Serasa que meu nome iria ser negativado pela fatura anterior','mas eu efetuei o pagamento dela e para mim consta que está ok. Gostaria de saber se realmente está tudo certo?! Porque verifiquei nas faturas e está ok.','Como assim depende dos órgãos?','Quando eu recebi fiquei preocupada e tinha até perguntado ao meu advogado','mostrado os print porque eu já havia conversado com vocês na segunda-feira a menina falou comigo que estava tudo ok. Aí ontem eu recebi esse comunicado do wil também e ele me orientou em confirmar com vocês novamente.','Isso foi referente a fatura de maio','porém ela veio junto com a do mês de junho tinha até explicado no atendimento anterior que não estava parecendo para mim que a fatura de abril tinha sido parcelada aí esse mês eu solicitei novamente pensando que era referente a outra fatura','mas de qualquer forma efetuei o pagamento e para mim consta que a fatura está ok com os parcelamentos.','Não.','Não somente essa do wil e a do Serasa.','No comunicado dizia que a partir da data eu teria 10 dias','porém eu efetuei o pagamento agora eu atrasei porque estava fora do pagamento','justamente por isso que alterei o vencimento para o início do mês e ficar se acordo.']\n",
      "['Obrigado José','Essa semana eu pago e quero n precisar de parcelar mais','Se posso fazer o bloqueio temporário por enquanto até eu controlar esses valores alto entende','Pra não correr o risco de cancelar minhas assinaturas','Bom dia jose','E só n correr o risco de ninguém usar até eu dar uma baixada na fatura','está alta e tive que parcelar','Entendi','Preciso da ajuda de vcs','Esse mês veio 2000 e pouco','Quer dizer que cancela?','Muito alta sabe','Minha filha usa pelo aplicativo dela','Tá bom','Só preciso da sua ajuda nessa dúvida','Tem um ótimo dia','No caso tem a assinatura da minha tim e da netiflix','É porque eu queria só até baixar a fatura e n gastar sabe','Não José','Ficar uns 30 dias ou 60 sem usar','😁','E as assinaturas vão cair na fatura mesmo ele estando bloqueado sem correr o risco de cancelar minhas assinaturas?','Mas pede sabe','Quero saber se eu posso bloquear e desbloquear meu cartão temporário sem dar problemas em minhas assinatura?','Eu que estou afirmando pra vc','Por isso queria saber de vc','Só que eu queria fazer isso pra correr o risco de e nem ela usar até eu controlar','Agora entendi como funciona','☀️🤍','Deus te abençoe','Vc me ajudou muito','Porque cada uma cai em datas diferentes','Se quiser usar na mesma hora posso desbloquear e usar?','Meu medo é de perder as assinaturas que são a tim e a netiflix','Os valotes','Bloqueio e desbloqueio do cartão','Aonde eu vejo o dia? Na própria fatura','Mês que vem ainda está 1000 e pouco']\n",
      "['Somente isso','muito obrigada!','Imagina','E ai as duas vezes deu não autorizado','acho que por falta de saldo','Sim','apenas essa','Pelo menos foi o que entendi','porque tá 0,00','Oi Larissa','tudo bem','e contigo?','Precisa de mais alguma coisa ou agora é só esperar o cartão chegar?','Meu cartão não está perdido nao','Desculpa','mas não entendi','Certo,','CEP: 82560-435 Rua: Jovino do Rosário Número: 1674 Bairro: Boa Vista  Cidade: Curitiba  Estado: Paraná  Complemento (ex: casa','apartamento','comercial','quadra','lote): torre 4','apartamento 107','Solicitar análise de que?','Então','já é a segunda vez que vejo aqui que fizeram uma tentativa de compra','que não foi eu','A outra tentativa que deu saldo insuficiente não aparece aqui nos registros do app','só apareceu a notificação pra mim','no dia que tentaram','De qualquer forma','quero bloquear esse cartão e receber um novo','Larissa','você entendeu que a compra não chegou a ser realizada? Foi apenas a tentativa?','Essa que marquei aí foi hoje','Apto 501','Era da minha antiga casa. Rua Coronel Amazonas Marcondes','1225','Não','não emprestei o cartão pra ninguém.','Acho que meu cartão foi clonado']\n",
      "['Endereço','Meu app não está visível para faturas para eu consultar o cartão virtual','Apenas o cartão virtual','E saber o pq não consigo pelo app ver meu cartão digital','Apenas atualizar os dados','Pelo app tbm não estou conseguindo','Porém com os números restritos para não ver','Seria isso msm','Td bem obrigada','Agradecida ótimo dia','Meu app não permite eu ver essa funcionalidade','Td bem muito obrigada pela ajuda','Não seria para outro cartão não tá bom','Sim sim','09895-400  Av Dom Jaime de Barros Camara  Número 763 bloco 1 apto 603 São Bernardo do Campo  Bairro Planalto  Estado são paulo','Apenas o app básico','Estava tentando mudar porém não permitiu','Não consigo visualizar','Isso msm','Ou gerar','A td bm','O antigo está na Alameda Armando Alcântara N 423 jardim imperador suzano SP cep 08673-210','Sim obrigada','E gostaria de atualizar os dados cadastrais','V','Sim mudei','Td bem sim e com v','Não consigo ver o cartão digital da minha conta','E como posso ver meu cartão virtual','Gostaria de atualizar meus dados cadastrais','A fatura consegui','Só aparece o cartão azul','Td bem','Tranquilo','E como faço para ter']\n",
      "['Obrigada 💛💛','???','Os outros estão funcionando','Estou tentando utilizar desse link','Na verdade','que está inativo','😊','Mas quando clico no ir para a loja aparece que o link é invalido','A mesma coisa aparec para outras farmacias','Cupom de desconto','Oie Leticia! Obrigada! Estou bem e você!','Para ter cashback','Voltar pro começo','Falar de outra coisa','Você tem acesso as conversas anteriores?','Comprei usando dois benefícios','Oie','Estou na loja tentando utilizar desconto na drogaraia entretando ele da com link invalido','Verifiquei aq e sao somente esses','Loja will e cashback','Oie! Ok','Essa é a imagem que aparece','Excelente semana!','Acho que foi','Nao tentei','Meu cupom não funcionou','Oii?!']\n",
      "['Perdão por tá abusando vc','E no aplicativo tá mostrando q comprei  1.215,94 e eu não comprei isso tudo não!!','Não agora tá tudo bem Muito obrigado!','O valo q comprei foi 964,40 aí era pra ter sobrado de limite era 475,60 e tá menos','Cadê vcs?','Viu','Q não me responde','Falar de outra coisa','Boa noite E q meu cartão tá mostrando q usei um valo q não fis a compra','Agora o aplicativo ajeito agora sim vouto o normal fiquei preocupada meu Deus agora no aplicativo coloco o valo certo rsrsrs']\n",
      "['irão mandar um novo cartão físico?','Só era sobre isso mesmo','muito obrigada pela atenção!','Compra que não fiz','Cancelar compra','Já comprei no passado','mas já que já foi estornada','resolveu o problema','diz que ainda não está disponível para mudar a senha','não posso ficar sem esse cartão agora','Voltar pro começo','pronto','alterei a senha','sim','por favor','Responder as perguntas','moça','pode desbloquear o cartão. Porque amanhã iria ultilizar ele já que é o dia que fecha a fatura. Depois eu viria resolver esse problema','Quero cancelar uma compra','Não fiz essa compra','fiz não','posso mudar a senha?','01/08. 15 reais','Ontem','foi feita uma recarga para um número telefônico no meu cartão. Você poderia me informar qual o número?','Problema com compra','okay']\n",
      "['Pronto','Muito obrigado','boa noite 💛','Pois tentei o número de tentativas e bloqueou?','‪+55 81 99457‑9851‬','Como *','Mais não consigo por pelo meu app','144.202.784-39','Cartão virtual','É sim','Senhora','diz q tem comp fazer por ai','Meu cartão virtual bloqueou e pra desbloquear tem que manda um código sendo que meu chip está bloqueado e não tem como mandar o código','18/07/2004','ruansx9@gmail.com','É outro assunto ','Esperando','Que ótimo']\n",
      "['Falar de outra coisa','Tenha uma ótima noite','💛💛','Entendi julia','Consigo fazer transferência de qualquer banco para cá?','Muito obrigada']\n",
      "['💛','Vc pode enviar um código do resta para eu pagar por favor','Falar de outra coisa','Oi não estou conseguindo ter acesso ao meu app','a minha fatura para pagar!? Está indisponível','Não muito obrigada','Valor por favor','Aí já irei pagar obrigada','Fatura','Do resta este mês']\n"
     ]
    }
   ],
   "source": [
    "for i in df.query('fx_sentiment == \"negativo\" & SENTIMENTO == \"positivo\"').sort_values('sentiment', ascending = True).head(10)['ds_message']:\n",
    "    print(i)"
   ]
  },
  {
   "cell_type": "code",
   "execution_count": 56,
   "metadata": {},
   "outputs": [
    {
     "name": "stdout",
     "output_type": "stream",
     "text": [
      "['Sim','me ajudou','Mas enviamos o nome da referência que poderia entregar no mercadinho rocha','Sério','Nos botamos por botar pq aqui a maioria das casas são sem número','E como vai ficar a situação da minha entrega','Responder mensagem de antes','Porque como cliente estou muito insatisfeito','Enviei o maximo sim de informações','Quantos dias leva a revolução','Botei o endereço tudo explicado e devolveram novamente...','E mas quantos pra chegar ate mim','Constou como entrega não efetuada ','o tempo inteiro acompanhando ja fez mas de 30 dias','Já pedi minha 2ª via','???','O dia todo acompanhando o rastreio  olhe agora e esta dizendo que não entregou por falta de número do imóvel resolve meu problema por favor','Sim esse mesmo','Como vai ficar minha situação','Boa tarde alguma pessoa pra mim atender','Estou entrando em contato referente a entrega do meu cartão que pela segunda vez voltou sendo que me passaram o link de acompanhamento e estou acompanhando a risca inclusive ollhei ontem ','me privei de ir trabalhar e olho hoje novamente e disseram que voltou porque nao achou residência','Nova via do cartão','Ele não apareceu por aqui hoje nao porque eu vendo que o cartão estava em roteiro de entrega aguardei o dia inteiro','Já passou do prazo e não recebi','E ninguem nenhum entregador surgiu por aqui e la se vai mas de 30 dias','Boa tarde novamente retornaram com o meu cartão ja faz mas de dois meses sem o cartão..dentro casa esperando sem sair pra nada e o pessoal da entrega diz que não encontrou novamente o número do meu imóvel preciso de uma resposta da parte de vocês da Will dois meses ja no aguardo','Sim mas ele não sabe visualiza um comunicado de uma placa de um estabelecimento','Não recebi o link de acompanhamento da entrega']\n",
      "['Com tanto que só descobri esses empréstimos que foram realizados 3 dias depois do furto. Porque eu não lembrava as senhas de acesso e precisei fazer o processo de recuperação do telefone para fazer uma nova senha. Foi quando descobri esses empréstimos','Porque fizeram os acessos em vários aplicativos com senhas do meu celulares foi furtado','Isso','tem os pix também mas outro atendente disse que não teria como','Abaixo envio o extrato dessas movimentações e os respectivos saques','fui na agência desse banco CAIXA e pedi um relatório sobre aonde foi sacado esses valores','Ednalva','Segue todas informações sobre o ocorrido  Furtaram meu celular no dia 13/06 e trocaram todas as minhas senhas de acessos','principalmente do e-mail. Não consegui mais acessar e fiz a recuperação do meu número de telefone que estava no celular furtado. Tudo foi liberado dia 17/06 e consegui recuperar meus dados quando notei que foi feito vários empréstimos','fizeram pix pra uma outra conta minha (CAIXA) e sacaram o dinheiro que foi solicitado do empréstimo além de um pix em nome Camila Nogueira Hilário da Silva do banco do Mercado pago. Já fiz boletim de ocorrência tanto do furto quanto do valor que pegaram da minha conta.  Tô tentando entrar em contato a dias e nunca consigo finalizar o processo','principalmente por ligação.  As movimentações são as seguintes  13/06/23 - Empréstimo Pessoal R$5.500,00 13/06/23 - Empréstimo Pessoal R$810,00 13/06/23 - Pix Enviado R$1.500,00 13/06/23 - Transferência Enviada R$1.735,00 13/06/23 - Transferência enviada R$2.300,00 13/06/23 - Pagto de Boleto R$800,00  As movimentações que preciso contestar são esses empréstimos que foram feitos na minha conta','Segue Boletim Complementar também','Ah perfeito','muito obrigado','Quero outra via de cartão sim por favor','Meu celular foi furtado dentro do ônibus','no dia 13/06 eu sai pra trabalhar e quando cheguei no meu serviço notei a falta dele.','Como citado','meu celular foi furtado e as senhas ficavam salvas no celular. Então os acessos eram automáticos','Eu anexei na conversa o boletim de ocorrência','se possível veja ele porque todas as informações eu mencionei lá','Dados são  CEP:04330000 Rua:das Corruiras Número:372 Bairro:Vila Campestre Cidade:São Paulo  Estado:São Paulo Complemento: Casa 4 Ponto de Referência:próximo Hospital Saboya','Os meliantes trocaram minha senha de e-mail também','então tive que fazer esse processo de recuperação do número de telefone para recuperar todos os meus dados','Falar de outra coisa','Não','só isso mesmo','Muito obg','Cheguei em casa e avisei meus filhos','tentamos acessar meu e-mail pra bloquear o celular pela função que o Google dá','e como mencionado no boletim de ocorrência eles trocaram minha senha do e-mail. Tive que fazer todo processo de recuperação do número de telefone pra recuperar meus dados. Porque eu não lembrava da senha de acesso do aplicativo do Will e de outros bancos que tenho para fazer as devidas troca de senhas. Durante esse meio tempo de 3 dias que foi o processo de recuperação do meu número de telefone eu descobri esses empréstimos feitos.','Moça','eu de verdade não sei como fizeram.','Então apenas a senha de acesso ao app estava salva no celular','pela opção que o próprio celular dá pra salvar. Agora senha de cartões nunca salvei em lugar nenhum','Conforme o boletim de ocorrência e anexado','informo que eles pegaram esses empréstimos e transferiram pra minha conta do CAIXA TEM e fizeram os saques desse valor']\n",
      "['Gostaria de saber se tem como eu receber estorno desse valor. Foi R$650,00.','É mais um motivo para eu desconfiar que seja golpe.','Estou quase passando mal.','Só faltava eu ter dado dinheiro para golpistas.','Conversei com uma pessoa pela Internet sobre uma compra','eu já estava desconfiada de que poderia ser golpe','falei várias coisas para o vendedor','ele percebeu a minha preocupação','mas mesmo assim me garantiu que não é golpe. Fiz o pagamento de entrada da minha compra via pix Will','e após isso notei que o vendedor está estranho comigo.','A nota fiscal que o vendedor me mandou é muito mal feita','notei a falta de profissionalismo aí também.','Pix','Estou preocupada porquê para mim R$650 é um valor alto.','As garantias do vendedor não estão batendo com o que ele tinha me falado antes.','Voltar pro começo','Falar de outra coisa']\n",
      "['Paguei mas não aparece','Primeira compra q aparece da americanas','A fatura não chegou','Bom dia tem uma compra q não está na fatura ? É a última parcela,preciso paga lá','Fatura do cartão','Voltar pro começo','Problema com compra','Ta bem','Mas pq a parcela não está na fatura?','Mês passado julho paguei 7 de 8 esse mês seria a última parcela','É na loja Americanas']\n",
      "['Gostaria de quitar a dívida e voltar a utilizar','Fatura do cartão','E o limite dele não unificou?','É outro assunto','Bom dia!','Pois não consigo ter acesso as faturas e nem ao cartão','Falar de outra coisa','Como faço para pagar?','Como faço para ter acesso ao cartão pág?','Gostaria de renegociar as faturas do cartão meu pag','E ainda tenho o cartão ainda']\n",
      "['Responder mensagem de antes','Então no caso tenho que aguardar','Ontem fiz uma recarga para o número do meu filho e até hj essa recarga não consta no chip','E agora quero só cancelar essa recarga Pois a operadora consta como se o chip estivesse bloqueado por falta de recarga']\n",
      "['Falar de outra coisa','Problemas na loja parceiras','O site da farmácias parceiras - Drogasil e Droga Raia - não está abrindo. Antes a Drogal tbm não abria; agora tá ok','Voltar pro começo','Estou tentando acessar pelo app','Loja will e cashback']\n",
      "['Saque','O banco já foi informado da minha situação só falta devolver o dinheiro','Depósitos ou Saques','Mais vocês não me devolve','Já foi devolvido ao banco','E  saque que fui fazer e o caixa eletrônico engoliu o dinheiro','Ainda tenho dúvidas']\n",
      "['Quando eu pedi o cartão de vocês','me enviaram 2 e cancelei um. Não sei se podem ter cancelado esse que estava usando também','Porque será que não estou conseguindo usar','2061','Eu mudei a senha dele','sera que pode ser algum erro?','Não estou conseguindo usar ele presencial','Só um minuto','Ok aguardo','Olaaa','Não sei se está com algum erro','Aparece que não foi autorizado']\n",
      "['Qual horario','Estou axando  q foi passada 2 vezes','Não  consegui ler a mesma por completo','Gostaria de saber a qual q foi negada','Da última comprar q foi negada por falta de limites','Ontem de manha','Ou seja a mensagem mim fosse reenviada','Tô.em duvida qual das dias foi','O prazo já passou','Mas tem como mim.enviar','Quero q seja reavaliado','Nome do estabelecimento','Responder mensagem de antes','Q passei 2 delas','E se foi o valor','Por data de limite','E pagamentos das minhas faturas','No mesmo local','A mensagem chegou rapidamente e não deu tempo nem.de ler','Aumento de limite','Deveria ficar armezada essas mensagens igual as q realizo os pix','Por isso q peço  q reavaliação da minha movimentação de conta','Esse limite','Eu fiz 2 compras essa preciso saber exatamente','Q foi negado a compra','Local tipo estabelecido nome e cidade Data  Hora  E valor','Foi uma compra onlaine','Certo int','Aguardo detalhes hora local pra q eu confirmar minha duvida','Q está no meu imal','Gostaria só de saber o estabelecimento','Valor e hora','Pfv','Tenho unas comprar não  realizada e não  consigo ver onde','Pra eu ter acesso as informações','Casa de câmbio certo  Agora estabelecimento é o resto','Isso','Mas não  estou vendo retorno','Limite não aumentou','Está quantidade de limite e muito pouca','Minhas faturas sempre são  pagas mesmo.antes do vencimento  Minha conta sempre em.movimento','Gostaria de saber onde foi','Ou no caso preciso dessa mensagem novamente','Tá bom obrigada','Queria ver o nome do estabelecimento']\n"
     ]
    }
   ],
   "source": [
    "for i in df.query('fx_sentiment == \"negativo\" & SENTIMENTO == \"neutro\"').sort_values('sentiment', ascending = True).head(10)['ds_message']:\n",
    "    print(i)"
   ]
  },
  {
   "cell_type": "code",
   "execution_count": 55,
   "metadata": {},
   "outputs": [
    {
     "name": "stdout",
     "output_type": "stream",
     "text": [
      "['Pelo aplicativo','Não consigo','Não já vi q não vão resolver','Por favor podem aumentar meu limite']\n",
      "['👍','Vocês não falaram que conseguiram detectar o problema e que demora é essa pelo amor de Deus','Se conseguir detectar o problema já deu tempo suficiente para resolver não acha não','Misericórdia','Meu deus','Quero sabe da minha senha 😿','Mas resolve hj né','Pelo amor de Deus','Essa abençoada senha ?']\n",
      "['Boa tarde e aí','Não demora muito porque tbm tenho muita coisa pra fazer OK 👍','Só 100','reais de limite 😏','Oiii','Falar de outra coisa','Qual e meu limite do cartão físico mesmo?','Quanto tenho de limite nó cartão físico pra começa a comprar?','Mais opções']\n",
      "['Quase 1 hora e nada de resposta','Ainda preciso de ajuda.','Preciso pagar minhas parcelas  pra voltar a usar meu limite','Me ajuda','Q falta de respeito com o cliente','Consegui pagar pelo mês de maio','????','Pra responder','Mais de uma hora tentando resolver e vcs não me dão  nenhum  retorno','Mais o limite não foi liberado','?????','😡😡','Eita q atendimento','Parcelamento de fatura','Quero antecipar  todas','Q demora','Diz assim q o parcelamento das faturas está  ativo e que eu preciso paga as parcelas mas já foi paga']\n",
      "['Já reenvie o meu endereço e nada','Quero muito esse cartão','A mesma coisa toda  vez','O meu cartão era pra chegar no dia 29/03 e ainda nada','Poli veja aí pra por favor se você resolve','Falar de outra coisa','Gostaria saber sobre o meu cartão','Gostaria de saber sobre meu cartão','E não 👎 resolve nada','Vamos ficar no aguardo do cartão','Vou esperar a noite toda é']\n",
      "['Não é possível que bloquearam meu cartão e agora não respondem','Meu Deus o atendimento do chat de vcs é péssimo','Desbloquear cartão físico','Desbloqueio do cartão','Cartão físico','Preciso de atendimento','Atendimento de vcs tem sido muito demorado o retorno','Aguardando atendimento','Preciso de resolução rápida','Aguardando retorno']\n",
      "['Tou precisando da ajuda urgente']\n",
      "['Desde  ontem  aguardando o atendimento','Projeto de Lei 340/21 determina que o tempo máximo para que os Serviços de Atendimento ao Consumidor (SAC) dos serviços de telecomunicações efetivem o atendimento pessoal aos consumidores é de 60 segundos.','Alguém p me atender nessa merda','É  pra hj','????‽??','Que demora para  atender','Pelo amor d deus q demora é  essa','???','Estou tentando fazer  uma  compra  pelo pix e n esta dando  certo','Dois dias sem atendimento','Bia tarde','Isso é  uma palhaçada eu vou abrir uma reclamação  com o banco','Puta merda estou precisando  do atendimento','Parabéns  vcs estão  excelentes  de atendimento','Cario eu preciso  fazer uma compra pelo pix e vc n me atende  .....','Cambada  de vagabundos']\n",
      "['Não vou pagar! Valor era fico 287 ','ainda perguntei','Ainda preciso de ajuda.','Parcelamento de fatura','Fatura tá mais de 300','Não irei pagar!']\n",
      "['?????','Miset preciso pagar os outros','Pix ruim','Pix tá ru pq porra','......','Paiacada','Oiiiiiiiiiiiiooiiii','Eiiiiiiiiiiii','Dsgc','Já basta n aumentar o limite']\n"
     ]
    }
   ],
   "source": [
    "for i in df.query('fx_sentiment == \"positivo\" & SENTIMENTO == \"negativo\"').sort_values('sentiment', ascending = True).head(10)['ds_message']:\n",
    "    print(i)"
   ]
  },
  {
   "cell_type": "code",
   "execution_count": 49,
   "metadata": {},
   "outputs": [
    {
     "name": "stdout",
     "output_type": "stream",
     "text": [
      "['Pois então Taís é o seguinte eu não quero mais usar esse cartão eu atrasei a fatura do mês passado por causa de vocês e negligência de vocês porque esse cartão não chegou aqui para mim eu tava com saldo na conta para pagar a fatura não paguei porque o cartão não chegou para mim eu tô com saldo preso na minha conta sem conseguir movimentar porque eu não estou com cartão e agora eu não quero mais esse cartão eu quero dinheiro para legalizar minha minha dívida com vocês e sair fora e aí vocês vão resolver eu vou ter que procurar um advogado pagar esse valor para um advogado para poder estar resolvendo isso aí eu vou ter que ir nos meus direitos procurar','Quero saldo do meu saldo que tá na minha conta para poder completar pagar e sair fora','Segunda-feira eu vou procurar patrulha do consumidor vou procurar um advogado vou vou em tudo que for lugar mas eu vou porque eu não vou pagar um monte de juros desse jeito aí porque por causa de vocês porque não foi culpa minha porque eu tenho como provar que o dinheiro tá aí e aí vocês não me mandaram o cartão não recebi cartão não tenho cartão não tinha opção de pagar porque o saldo já tava aí na conta eu tinha que pagar com o dinheiro que tava aí agora é bonito para mim eu tô com saldo preso aí e eu vou ter que pagar mais dinheiro para vocês comer o saldo preso aí na conta na minha conta do banco de vocês tá errado isso aí fofa vou procurar meus direitos vou sim segunda não segunda ainda é feriado na terça-feira eu já vou atrás','Não tenho cartão!','Não eu não tenho eu não tenho não tô nem aí não eu não atrasei porque eu quis não atrasei por causa de vocês o saldo da fatura tá aí na conta eu tenho como provar que o saldo tá aí e eu não paguei por causa de vocês e olha o absurdo de juro que vocês estão me cobrando porque eu não tinha opção para pagar esse essa fatura que o dinheiro tava preso na minha conta aí','Eu não quero mais esse cartão','Quero fala com atendente']\n",
      "['Tipo assim  recebi 3 pix ontem Um pix 400 Outro pix$ 1.999.81 E outro pix $370','Era pra da $2.769.00','Do cliente','Banco mim roubou','Desculpa','Se vier cobrando na fatura do mês que vem,não vou paga','Issso','Olhe extrato lá em cima que vc mandou','Não tá errado','Infelizmente','Poxa só caiu 2.399.81','Banco willl','Então acabei ,não pagando total da fatura Will,por negligência do sistema do Will','Total era pra tá a Na conta $2.769.81','Tá faltando pix cair valor de $370.00','Faltou pix.de $370.00','Acabei pagando fatura pela metade, Mas erro não foi meu','Vou denunciar,isso ai no reclama aqui','Perdão','Consta no aplicativo $370.00 recebi,mas saldo não apareceu','Tou com problema,até agora ninguém','consegui resolve','Sempre deixou a deseja','Entendi situação,','Erro foi meu','Leia bem que escrevi','Acabei pagando fatura incompleta','Olha que mandei foto dos pix,mesmo assim vcs não corrige erro','Já li lá em cima','Esse dinheiro não entrou','Olha aí os pix recebid','Opa agora entendi','Tava olhando direito aqui','Seu cálculo não bate','Não tá certo','Fora 3 pix só calcular e olha ,como eu tou certo','Na conta','Vou  no no reclame aqui','Demora horrível','Pix $370.00 pode conferi','Pix não caiu na conta $370.000','Tou no aguardo','Cadê atendente,poxa esse atendimento do Pag e uma negação','Esse eo valor que deveria tá na conta','Eu tive problema do pix não ter entrado na minha conta','Olha aí estrato,','$370.00','Tudo era pra da $ 2.769.81','Não vou fica no prejuízo de geito nenhum','Pix que não caiu foi de $370.00 Sendo assim não consegui ,paga fatura Will total','O que constou na conta foi só  1.399.81','Valor total não vai dá isso ai','Tá errado','Calcula','Esse erro não foi meu,foi do sistema de vcs','Que foi $2.399.81ontem fatura foi só isso,$370. Não caiu','Ai','Só caiu $1.399.81','Obgd mesmo','Dia de ontem recebi pix no valor de  $ 400 reais Outro pix 370.00 Mas outro pix 1.999.81 Era para consta $2.769.81','370.00','Mim explique','Vou na patrulha do consumidor','Procon','Vou aciona justiça','Atendimento e uma demora horrível','Só calcula tudo bem direitinho,como tá faltando dinheiro na minha conta','Pra fecha fatura','Opa só caiu $2.999.81','Pix como lhe falei dei como recebido Mas não caiu não conta','Roubo na cara']\n",
      "['Responder mensagem de antes','Vou mandar a foto do resumo aqui da fatura que aí você vendo','É outro assunto','Porque foi pago r$ 1.200 e alguma coisa que eu não tô lembrada aí ficou mil disponível de limite aí a gente fez uma compra de 20 e depois uma de 82 aí quando quando virou quando foi hoje que a gente foi comprar que tinha ficado r$ 897 aí hoje quando a gente foi comprar só tinha 79 aí eu entrei aqui no no detalhe da fatura apareceu isso daí cobra no juro de uma coisa que','Pois tá certo pois eu não vou mais discutir não que eu já até com dor de cabeça aí quer dizer que nesse mês foi para pagar esse juro aí quando chegar no próximo mês que eu for pagar a próxima a próxima fatura vai entrar e sair de','Olha eu só queria saber o que foi descontado hoje o que é o que foi por que que foi descontado esse valor aí se tinha 897 aí quando a gente for olhar tinha 777 ou era 79 eu só queria saber o que foi descontado porque a gente pagou r$ 1.225 aí esses 225 já não era cobrado juro não porque quando a gente pediu o boleto foi para incluir tudo aí não falaram nada só mandaram um boleto desse valor porque se disser se tivesse falado que o juro era parcelado a gente tinha pedido para pagar logo tudo de uma vez só que não sei me explicasse isso porque que foi descontado esse valor hoje em cima dos 897 eu acho que tinha aí quando a gente for olhar só tinha 779 esse que foi descontado é pagando juro por causa que o Júlio não vinha Dormiu não tinha incluído no meu não esses 2005 é isso que eu queria saber','Aí quer dizer que agora todos os meses vai vir esse daí para pagar ou só esse mês','Eu pedi o boleto aí aí me enviaram no valor total de r$ 1000 de 1225 não foi nada','Noite sim minha fatura é de r$ 1000 Fiz uma compra e ficou 897 até o dia 18 tinha esses 800 e 97 aí depois que virou que dia 19 fechou a fatura aí aí passou para r$ 779 aí eu queria entender por quê Porque eu fui eu fui olhar eu não comprei nada eu só tinha comprado tinha botado a primeira cama foi r$ 20 depois 82 aí foi até 82 de duas vezes aí diminuindo aí hoje eu fui comprar confiando que tinha os 897 aí quando foi olhar só tinha 777 aí eu fui olhar tinha sido como se fosse de jura isso que eu queria saber','Mas não foi parcelado não foi pago r$ 1225 de uma vez a gente não parcelou nada não foi pago r$ 1225 de uma vez no monte a gente não','Falar de outra coisa','Sim foi pago com atraso mas aí esses r$ 225 aí não é cobrando o juro não porque o Luciano limite é 1000 foi gastado dos Mil aí foi botar de cima mais r$ 225 aí não é o juro','Queria saber pq meu limite era 897 e hj tá  777 e alguma coisa','Fatura do cartão','Blz','Voltar pro começo','Não obrigado']\n",
      "['Falar de outra coisa','Pois é pois me diga uma coisa porque me falaram quando me ligaram para negociar a dívida porque tava sem telefone por isso que atrasou meus pagamento aí disse que quando tu pagasse no dia 8 de Maio me liberar com 5 dias liberaram o limite beleza tomei o dinheiro emprestado tudo paguei comprei o combinado aí fala com 5 dias liberava com meus créditos de cartão para mim voltar a usar de novo e até agora nada vai fazer um mês se não vou mais liberar tinha me dito eu ia pagar do mesmo jeito que eu não ia ficar devendo eu ia pagar mas era muito mais bonito que ele tava mas você não vai ter mais limite limite no cartão de crédito da Oi ele não ficar com raiva não E indicasse do mesmo jeito eu já usei tem um cartão muito bom mas como é que eu vou indicar o cartão e promete uma coisa aí na hora fica só enrolando se não vou mais ligar ela me diga porque eu apago o aplicativo do meu celular e pronto e não vou ficar com raiva não não que tá me chateando esse negocinho para ele não vai ser liberado nunca libera Fala logo a verdade para você não vai ter mais crédito da Oi eu não vou ficar com raiva eu só vou apagar o aplicativo do meu celular e jogar o cartão fora e acabou não fica esperando por uma coisa que só promessa sem ser Alessandro tava fazendo promessa desculpa para ele dizer quem me perguntar eu já usei é muito bom só que ele não porque vocês falaram que ia liberar os créditos por cinco dias até hoje nada fica só enrolando vai liberar Poxa me fala logo a verdade não vai liberar que eu não vou ficar na esperança eu apago desinstalar o aplicativo do meu celular e acabou é bom que eu não vou ver mais nada que vocês vão mandar propaganda nenhuma pessoa ficar enganando os outros que que não fala verdadeiro medo quando eu não quero fazer uma coisa para uma pessoa diga não vou fazer acabou a pessoa sentir aquilo','Me diga uma coisa tu quer que você não passa o número de telefone para a gente ligar assim que eu souber me ligar para fazer negociação Por que que não passa o número para mim ligar para conversar porque se não for me liberar mais o limite a pessoa eu liga depois você me fala se vai liberar ou não porque se não for não tem problema só cancelar o cartão e vou jogar fora do que ficar esperando a tua então a gente Palhaça é aí ele pesa se você puder passa o número do telefone então me liga direto a gente conversar do que ficar melhor mandando mensagem não resolve nada às vezes ligando é melhor do que por mensagem','Porque me disseram se eu pagasse dizendo uma negociação com seu padrasto no dia 8/05/2013 vocês com 5 dias me liberaram o limite até agora nada então por que que me enganaram se não queria liberar mais limite tinha falado a verdade eu não gosto de mentira aí se não vamos mais liberar é fácil é fazer que não vou mais liberar eu cancelo o cartão e jogo fora e pronto e não indico mais nada não ficar esperando à toa era só ter dito a pagar a dívida e você não vai ter mais dinheiro no cartão quero muito mais bonito do que fazer não cinco dias eu libero seus créditos que cinco dias é esse que ela vai fazer um mês ele não quer mais liberar diga cancela o cartão joga fora e pronto apagou saiu do aplicativo e acabou não fica dizendo que vai liberar aí mentindo Fala logo a verdade disse que não vai ter mais crédito tem muito mais bonito para pessoa ficar esperando']\n",
      "['Então terei fazer um novo boletim de ocorrência com o nome da minha mãe','Problema com compra','Eu abri um contestação no meu banco Bradesco do pix','São quadrilha no Instagram','E devolveram meu reembolso de 960','É possível recuperar meu dinheiro','Como resolver esse caso','Essa melissa sperotto continua com conta ativa no Instagram','Filho de Márcia Denise de arruda PROENCA','E infelizmente ainda estão fazendo mas vitimas','Só lembrando q no boletim de ocorrência está meu nome','Sendo q ela está presente na filiação pai e mãe','Nesse caso... Vc tem q pedir para o banco destinatário devolver o reembolso de 600 reais pra minha conta Will bank','Tenho até boletim de ocorrência','É absurdo o Instagram ainda não tomar providências','obg','A conta é dela.. porém o dinheiro é meu','Uso o Bradesco q é a minha conta principal... E a Will bank q é a conta de minha mãe Márcia Denise de arruda Proença','O banco do Bradesco me devolveu 1000 mil','Falar de outra coisa','Q aplicaram o golpe em min do pix','Luan Denis PROENCA','Nenhum dado foi informado','Foram 1.600','O titular dessa conta Will bank é ela Márcia Denise de arruda Proença','O outro banco meu Bradesco fez a parte dele q devolveram 960 dos 1000','Voltar pro começo','Certo.','Vc vai pedir contestação pra devolver os 600 pra minha conta','Boa tarde... Meu nome é Márcia Denise de arruda Proença fui vítima de um golpe no Instagram da falsa gestora melissa sperotto... Ela me fez enviar o pix 600 reais para Anna Beatriz gestora financeira falsa... Que iria retornar meu dinheiro em criptomoeadas... Ela hackeou vários usuários do Instagram dizendo q os clientes investiam dinheiro e recebia retorno porém é golpe ela me bloqueou... Quero meu 600 de volta me ajuda... Segue os prints... Descobri o golpe através de uma pessoa q me disse q foi hackeado a conta dela.','Eles estão com meu dinheiro 600','Uso essas 2 contas Will bank... E a minha principal no meu nome Luan Denis Proença','E analisaram q realmente se tratava de golpista','Mas fazendo isso','Inacreditável','Ok .. não vou deixar meu dinheiro com pilantras... Vou atrás disso']\n",
      "['As compras no débito e no crédito','Então vcs tem aceso a essas informações em que loja foi passado o meu cartao qual o nome do estabelecimento e em que nome foi cadastrado a maquineta?','Eu não reconheço essas compras','A agonia que estou passando com isso','Eu quero saber onde foram feitas','Falar de outra coisa','Eu já estou falando com meu advogado sobre esse assuntos','Meu advogado vai entrar com uma ação com o banco por que eu não fiz essa compra no crédito e nem no débito','Isso mesmo o extrato está lá mais onde a compra foi feita eu não tenho essa informação por que não fui eu que passei meu cartão','Quero o extrato das Compras que não fiz nem no débito e nem no crédito','Vc está entendendo agora amigo essas informações que vc mim pediu aí eu não posso te dar por que eu não tenho essas informações por que nesse horário eu estava em percurso de carro e não reconheço essas comprar nem em débito nem em crédito','Não reconheço a compra não fui eu que fiz a compra','Eu não fiz essa compra eu não reconheço essa compra','Clonaram meu cartão e passaram esse valor é tiraram dinheiro da mina conta','Eu quero os extratos das compras e o local da compra feita','Amigo boa noite eu não tenho comprovantes de nada eu não passei meu cartão em nenhum estábelecimento meu cartão foi clonado eu não sei ontem passaram esse cartão não sei nada de débito e nem crédito','Clonaram meu cartão e usaram o valor que eu tinha no débito e crédito','Responder mensagem de antes','Mim mandar os extrados das compras que não reconheço por aki','???????','Fiz um boletim de ocorrência e sobre o meu assunto mais cedo sobre terem clonado meu cartão','Se você perceber aí nem nome de estabelecimento tem não tem nada amigo eu não passei meu cartão em lugar nenhum se vc pesquisar aí nas minhas compras e onde passo meu cartão vc vai ver onde passo meu cartão','Ok amigo vcs não sabem como eu estou aki frustrado e doido por causa dessa situação que estou aki agora','Se vcs não passarem essas informações o erro está em vcs com essa falta de informação e e responsabilidade ao cliente ','já procurei meus direitos como vc já viu aí prestei um b.o e já estou entrando com uma ação na justiça.','Ponto a ficar com depresso por conta dessa situação que estou passando','Essas são informações que vc tem que mim passar já que eu não tenho acesso a essas compras que eu não fiz']\n",
      "['Com a 99','É como se alguem tivesse acesso as minhas coisas','Aparece na notificacao mas nao aparece no chat','Somente','É sempre assim ?','Ja falei passei quase 4 hrs pra ser atendido','Nada*','Criei uma conta e falei com elea','Se eu cancelar o cartao eu nao tenho mais problemas como esse','Uso por causa que as vezes no aperto é nescessario','Por que estou passando por isso','Mas ninguém pegou','Nao recebi isso ainda','Vou pagar essa fatura e colocar na justica ja que não é resolvido em nenhuma das partes','Fiz uma contestacao','E nao foi resolvido','Eles','Nem conta nesse local eu tinha','Voces nao podem entrar em contato com eles','Nao foi eu que fiz','Moro so com minha esposa','Ai quando entro so aparece aquilo','Eles concluíram e nao mandaram nad','Esse Brasil tudo pra bandido é facil','So tem isso','Nao ta chegando menssagem','Fizeram ligação pra mim como faz tempo nao sei o numero certo','Nao tem familiar','Do will ou da 99','A compra nao ta no meu nome','E essa foi a solução','Nao sei se eles entraram em contato com voces','Parece que tem gente clonando meu celular','E moro sozinho com minha esposa','Dar continuidade a uma contestacao','Prefiro comprar a vista','E foi pedido pra entrar em contato','Nao conta','É a fatura detalhada','Ai a outra atendente','E ela mal anda','Ta ai no sistema','So problema','So tem isso ai','Ela tem 86 anos','Ja fiz isso varias vezes','Eu to usando Melquiadesmoura1952@gmail.com','Mandou eu falar com o local','E a propria atendente mandou eu alterar a senha por causa de golpe','Pra eles informarem','Falar de outra coisa','Pensei que tinham entrado em contato com voces','Ja ate paguei mes passado','Colocaram que concluiram','E ja informei que ligaram pedindo o token','Que ja ta na fatura as compras','Atendimento','So estou criando raiva','O que tava quando aconteceu ?','Consta*','Por que essas coisas acontecem','Se alguem teve acesso ao meu celular algo do tipo','Mas a divida nao e minha','Nao empresto meu cartao a ninguem','Ja reclamei','E nao era pra eu estar passando por isso','Eu so nao quero pagar o debito que nao usei']\n",
      "['44 91483330','Vcs conseguem pelo menos so cancelar  a compra','Complicado','Agora eu realmente','faço muito tempo que eu tô tentando falar cm vcs','resolver e até agora nd!','Não sei quem foi','já tentei de td pra cancelar','Agora assim','Cm pode isso em?','E ficar sem pagar!','Eee','E qual é a cor desse novo cartão amigo','pq o meu antes era azul!','Do meu irmão','Já não serve mais né isso','Vc sabe me dizer!','E a única coisa que aparece é isso','Mdds','Ele mais né','Eu não tenho condições alguma de pagar isso nn','Porém até agora nd','Pq já tá fazendo quase 1 mês','Na sexta eu tento fazer isso','3.400,00 ótimo amigo','Eu quero ver cm eu consigo resolver isso','não tenho condições de pagar essa fatura toda certo!','Perfeito por isso que eu não quero cancelar o cartão E nem deixar de ter vcs aq','pq eu gosto muito desse banco Will e muito bom!','Não precisa mais int','Não a acesso','oxx e cm essa compra veio para aq pelo amor de Deus?','Eu já tô sem tem oq fazer','Que eu tô tentando falar cm vcs e nd','Já mundou','Vou solicitar o outro','Que fizeram no meu cartão certo','Eu tava aq','Qual a cor desse cartão que vai vim agora?','Não vai ficar meu nome sujo não?','Nnn tenho condições alguma de pagar esse valor','Nnnnn','Melhorou agora?','Cm assim','Pra não vim mais na fatura','O valor real da minha fatura','??*','Fiz de td já','Obg','Se eu conseguir aq né','Eu nem ligo pro limite','Oxx','E acredito que vai ter alguns juros','E sim','Nem preciso desbloquear','E de 290','Opa amigo','Peraii','Pq sexta vence','Tá certo pode solicitar!','Um xiaomi','Eu boto em pagar seleciono o valor real que ee','os 290 + os juros e consigo pagar só ele mesmo','deixando os 1.200 eu consigo fazer isso!','Olhe veja só','se vcs tiveram achando que eu tô querendo passar','trote em vcs nem pensem viuu','pq jamais irei fazer isso nunca na minha vida iria me prejudicar cm isso','pq eu so quero oq e meu!','Pós ele tá me servindo muito','Já tentei de todas as formas','Vcs vai abaixar o valor','E vai vencer','Que não ee meu','Pfv','Tava pilotando','Espero que restorne','pq cm eu disse não tenho condições alguma de pagar isso!','Eu espero que resolva','Int pra acontecer isso','Tabomm assim?','Irmão','Quanto','Sem estresse','Ok ótimo!','Se não','Só isso','Vcs são um ótimo banco!','Vc pode me dizer o limite completo do meu cartão','Pq eu não tenho condições alguma de pagar isso','Sério mesmo','Ligação tbm','se eu não me engano','De pessoa','Pq eu não tenho condições alguma de pagar amigo','e tbm eu não quero que meu nome fique sujo','e tbm não quero perder vcs!','Primeiro','Em','53422630  Avenida Henrique Dias de Souza   509  Casa  No final da rua 8 ao lado da compesa portão branco!  Maranguape 2  Paulista   Pernambuco','Terceiro','Cm eu faço','Graças a Deus','Vai ficar em aberto aii','Na agenda ou no e-mail eu mando','Pra ter isso td','Dúvida sobre uma compra','WhatsApp','Logo meu amigo','Dia 15 agora','Olha esse que eu tô','Eu vou ser sincero cm vcs','Só o retorno certo','ótimo!','Já faz quase 1 mês que eu tô tentando cancelar essa compra e ninguém me dar uma resposta!','Pós eu fui roubado','Eu não me lembro se cliquei ou n','Esse que eu tô agora','Sobre isso','Poxaa','Vou trocar agora!','Tentando','Mill desculpa se eu fui arrogante em algum momento cm vc ou cm quem me atendeu certo!','Não lembro','Eu tava vindo pro trabalho','Peço desculpas','E eu já não uso mais','Segundo eu espero que vcs Will','que eu sei que vcs tem a capacidade de resolver de restorna o valor consiga resolver o mais rápido possível!','Olhe eu não sei se realmente é esse número certo','16 de junho de 2023 Blackhponne 1.200 reais','Tá de limite','Porém não uso mais ele','O restante é desse 1.200 que fizeram essa compra aí essa sacanagem comigo!','Deixo ele bloqueado mesmo?','A fatura já fechou desdo dia 9 desse mês','53422630 Avenida Henrique Dias de Souza  509 Casa No final da rua 8 ao lado da compesa portão branco! Maranguape 2 Paulista  Pernambuco','Ss','Só peguei pra','realmente falar cm vcs sobre isso!','Viuu','Não tô lembrando muito bem','mais acredito que foi esses ai','Entendi','Vou fazer isso agora','Pq eu não tenho condições de pagar isso n','Porém agora deixou a desejar cm isso!','Gabi veja','Vou tira agora','Só um minuto','E se tem possibilidade de aumento de limite','Era um xiaomi','Cm eu faço pra cancelar essa compra','Pfv eu preciso resolver','Eu não quero ter que cancelar o cartão','E agora eu fico sem cartão?','Por conta do atraso da outra','Acabei de ligar pra central','Minha fatura','Se não conseguir eu infelizmente bloqueio o cartão e pronto!','Queria que cancelasse pfv ou retorna o valor','Troquei agora','Tá certo quando o cartão chegar eu tento aumentar','Eu não tenho condições alguma de pagar isso!','Vence sexta-feira','Pq eu não dei','Um Samsung','Ok int','Eu não tenho mais acesso a nd','Gabi','Aq','De uma amiga n','Eu não vou conseguir pagar isso não','Vc poderia ver pra me','Só eu tô cm uma compra no meu cartão no valor de 1.200 reais','Vou ter que cancelar o cartão!','Que eu conseguia falar','Int','Minha amiga','Resolve cm uma pessoa','Mais o dd é esse aii','Nnnn','Voltei','E tô cm um celular agora','Pronto','Só tô querendo que vcs me ajudem','Eu preciso de uma resposta','Tinha n','Eles disseram que era aq','Reconheço sim','Veja oq vc pode fazer por me aii','Clonaram meu cartão ne','Aaaa tá certo! No caso cancelar já não da mais né isso!','A fatura','Tabomm','Vou querer seguir sim','Acabei de trocar','Quando a minha fatura que tá aq vence na sexta','Só preciso que cancele a compra','Apareceu uma compra que eu não fiz','Esse 1.896,51 que foi utilizado meu só tem os 290 + os juros que eu acredito que vai entra por conta do atraso da outra conta!','E agora que fui pai','lascou!','Pra resolver','Tá certo','E agora','Velho cm pode um negócio desse','A senha','Opa','Deixa eu ver aq','E se tem possibilidade de pedir mais?']\n",
      "['Afff','Peguei 10mil para enviar para minha conta do banco do Brasil','no dia 03/07/2023 ','o dinheiro era pra ter indo para essa conta 1600 823455','só que eu errei e coloquei mandei para conta inválida 1600 4823465','fui lá no banco do Brasil falei com o gerente ele olhou tudo se o dinheiro tinha entrado em outra conta','só que não','daí ele viu tbm que já enviei foto do comprovante queno dinheiro voltou para Wil','no mesmo dia','só que vc sabe que esse dinheiro não chegou aqui nainha conta do Wil','quero saber onde foi parar esse dinheiro?','Alguém vai falar comigo?','Eu coloquei no 17mil reias','Estou aguardando!','Ontem completou o 5 dias úteis para resolver pra onde foi o dinheiro','que transferido daqui do Wil para conta do banco do Brasil','só que a conta é inválida por causa de um número que digitei errado','e no mesmo dia o banco do Brasil devolveu o dinheiro para o Wil','só que nunca chegou aqui na minha conta do Wil','isso aconteceu no dia 03/07/2023','já vai fazer 15dias e nada dessa dinheiro é um valor de 10mil reias','o Wil teve até o dia.14 as 23hs para me dá uma resposta e devolver meu dinheiro.','Já esperei demais','Eu já tentei transferir dinheiro nessa conta1600 4823465 por outro banco o banco nem faz a transferência diz logo que a conta é inválida','Eu só vou sussegar quando o meu dinheiro estiver de volta na minha conta.','Pq .algum lugar esse dinheiro está só não está comigo e nem naonha conta do Wil disso que tenho certeza.','Eu só acho que isso está demorando demais','pra resolver','O dinheiro é meu e tem que devolver o meu dinheiro','Olha só é questão de lógica','se a conta é inválida','o dinheiro era pra ter voltado para o para a conta Wil','Eu até paguei 500 reias do cartão','Falar de outra coisa','Como já lhe disse tbm a minha dívida só vai acabar quando vcs devolver meu dinheiro.','Eu quero meu dinheiro','Junto com advogado','Responder mensagem de antes','Dia 17/07 vai fazer 15dias e nada desse dinheiro','Muitas dúvidas!!!!','Pra ver que eu sou uma pessoa que compro com as coisas','Oi ninguém vai falar comigo','Pois é Karol o prazo acabou onde tá meu 10mil','eu estou precisando muito desse dinheiro.','Pq a conta é inválida','De novo análise','Segunda feira o dinheiro não estiver aqui eu vou abrir um b,o e vou na delegacia federal','No mês passado','Isso não resolve meu problema 😔','Mais opções','Essa análise terminou ontem as 23hs','Lembrando que de desde de dia 7 que eu falo com Wil e já mandei vários documentos que a conta é inválida e o comprovante que o banco do Brasil devolveu o dinheiro para o Wil no mesmo dia.','Pode olhar aí que essa conta é inválida.','Eu fico desesperada perde 10mil reias assim do nada.']\n",
      "['Olha eu queria pagar mas eu tô consciente que isso aí é só juro né de uma compra que eu fiz não é só juro mesmo é dela desconta aí do desenrolar Brasil para mim poder pagar','O desenrola Brasil','Quero pagar','Eu quero fechar a conta que eu não quero mais o cartão quero que vocês dão um abatimento aí para mim poder pagar parcelado porque aí é só juros não tem nenhuma compra não ah liguei várias vezes aí para aí e a ligação cai eu não sei o que é isso']\n"
     ]
    }
   ],
   "source": [
    "for i in df.query('sentiment < 0')[['sentiment', 'SENTIMENTO', 'ds_message']].sort_values('sentiment', ascending = True).head(10)['ds_message']:\n",
    "    print(i)"
   ]
  },
  {
   "cell_type": "code",
   "execution_count": 61,
   "metadata": {},
   "outputs": [
    {
     "data": {
      "text/plain": [
       "294"
      ]
     },
     "execution_count": 61,
     "metadata": {},
     "output_type": "execute_result"
    }
   ],
   "source": [
    "exemplo_base = df[df['SENTIMENTO'].notnull()]\n",
    "len(exemplo_base)"
   ]
  },
  {
   "cell_type": "code",
   "execution_count": 62,
   "metadata": {},
   "outputs": [],
   "source": [
    "stopwords_will= ['da', 'em', 'você', 'de', 'ao', 'os', 'que', 'e', 'eu', 'o', 'estou', 'ele','ela','pra', 'pro', 'entao', 'para', 'voce',\n",
    "                 'pra', 'tá', 'né', 'ah', 'aí', 'dá', 'ó', 'mim', 'então', 'aqui', 'tô', 'pro',\n",
    "            'seu', 'sua', 'por', 'sobre', 'mais', 'uma', 'um','como', 'meu', 'com', 'outro','outra','das','dos','foi', 'fiz','pelo','tem','mas',\n",
    "            'este', 'esse','ta', 'to', 'ai', 'la', 'lo', 'lhe', 'ne','pra', 'tá', 'né', 'ah', 'aí', 'dá', 'ó', 'mim', 'então', 'aqui', 'tô', 'pro', 'isso']"
   ]
  },
  {
   "cell_type": "code",
   "execution_count": 72,
   "metadata": {},
   "outputs": [
    {
     "name": "stderr",
     "output_type": "stream",
     "text": [
      "/tmp/ipykernel_1276268/225718448.py:1: SettingWithCopyWarning: \n",
      "A value is trying to be set on a copy of a slice from a DataFrame.\n",
      "Try using .loc[row_indexer,col_indexer] = value instead\n",
      "\n",
      "See the caveats in the documentation: https://pandas.pydata.org/pandas-docs/stable/user_guide/indexing.html#returning-a-view-versus-a-copy\n",
      "/tmp/ipykernel_1276268/225718448.py:3: SettingWithCopyWarning: \n",
      "A value is trying to be set on a copy of a slice from a DataFrame.\n",
      "Try using .loc[row_indexer,col_indexer] = value instead\n",
      "\n",
      "See the caveats in the documentation: https://pandas.pydata.org/pandas-docs/stable/user_guide/indexing.html#returning-a-view-versus-a-copy\n",
      "/tmp/ipykernel_1276268/225718448.py:5: SettingWithCopyWarning: \n",
      "A value is trying to be set on a copy of a slice from a DataFrame.\n",
      "Try using .loc[row_indexer,col_indexer] = value instead\n",
      "\n",
      "See the caveats in the documentation: https://pandas.pydata.org/pandas-docs/stable/user_guide/indexing.html#returning-a-view-versus-a-copy\n"
     ]
    }
   ],
   "source": [
    "exemplo_base['ds_message'] = exemplo_base['ds_message'].fillna(\"\").apply(lambda x: ' '.join([word for word in x.split() if word not in stopwords_will]))\n",
    "## retirando sinais de pontuação\n",
    "exemplo_base['ds_message'] = exemplo_base['ds_message'].str.replace('[^\\w\\s]','')\n",
    "## colocando todas as letras das mensagens em letras minúsculas\n",
    "exemplo_base['ds_message'] = exemplo_base['ds_message'].str.lower() \n",
    "\n",
    "## Análise de sentimento\n",
    "vetorizador = CountVectorizer()\n",
    "\n",
    "X = vetorizador.fit_transform(exemplo_base['ds_message'])\n",
    "\n",
    "#X = np.append(X, exemplo_base['n_palavras'])\n",
    "\n",
    "\n",
    "y = exemplo_base.SENTIMENTO\n",
    "\n",
    "clf = BernoulliNB()\n",
    "clf = clf.fit(X,y)\n",
    "\n",
    "def sentimentos(df, ds_message_tratada):\n",
    "    df['sentimento_predict'] = clf.predict(vetorizador.transform(df[ds_message_tratada].fillna('')))\n",
    "    return df"
   ]
  },
  {
   "cell_type": "code",
   "execution_count": 65,
   "metadata": {},
   "outputs": [
    {
     "name": "stderr",
     "output_type": "stream",
     "text": [
      "/tmp/ipykernel_1276268/1889439955.py:18: SettingWithCopyWarning: \n",
      "A value is trying to be set on a copy of a slice from a DataFrame.\n",
      "Try using .loc[row_indexer,col_indexer] = value instead\n",
      "\n",
      "See the caveats in the documentation: https://pandas.pydata.org/pandas-docs/stable/user_guide/indexing.html#returning-a-view-versus-a-copy\n"
     ]
    }
   ],
   "source": [
    "exemplo_base = sentimentos(exemplo_base, 'ds_message')"
   ]
  },
  {
   "cell_type": "code",
   "execution_count": 66,
   "metadata": {},
   "outputs": [
    {
     "data": {
      "text/html": [
       "<div>\n",
       "<style scoped>\n",
       "    .dataframe tbody tr th:only-of-type {\n",
       "        vertical-align: middle;\n",
       "    }\n",
       "\n",
       "    .dataframe tbody tr th {\n",
       "        vertical-align: top;\n",
       "    }\n",
       "\n",
       "    .dataframe thead th {\n",
       "        text-align: right;\n",
       "    }\n",
       "</style>\n",
       "<table border=\"1\" class=\"dataframe\">\n",
       "  <thead>\n",
       "    <tr style=\"text-align: right;\">\n",
       "      <th></th>\n",
       "      <th>id_issue</th>\n",
       "      <th>mes_chat</th>\n",
       "      <th>SENTIMENTO</th>\n",
       "      <th>TIPO_MSG</th>\n",
       "      <th>hierarquia_4</th>\n",
       "      <th>ds_cluster_sociodemographic</th>\n",
       "      <th>ds_message</th>\n",
       "      <th>ds_message_tratada</th>\n",
       "      <th>n_palavras</th>\n",
       "      <th>sentiment</th>\n",
       "      <th>fx_sentiment</th>\n",
       "      <th>sentimento_predict</th>\n",
       "    </tr>\n",
       "  </thead>\n",
       "  <tbody>\n",
       "    <tr>\n",
       "      <th>0</th>\n",
       "      <td>15388962</td>\n",
       "      <td>2023-04-01</td>\n",
       "      <td>neutro</td>\n",
       "      <td>duvida</td>\n",
       "      <td>Vencimento fatura</td>\n",
       "      <td>0 - Mulher, Casada, 25 anos ou mais, cidade Pe...</td>\n",
       "      <td>dia minha fatura fechaainda tenho dúvidas</td>\n",
       "      <td>['que dia minha fatura fecha ' 'ainda tenho du...</td>\n",
       "      <td>8</td>\n",
       "      <td>0.0000</td>\n",
       "      <td>neutro</td>\n",
       "      <td>neutro</td>\n",
       "    </tr>\n",
       "    <tr>\n",
       "      <th>1</th>\n",
       "      <td>17497395</td>\n",
       "      <td>2023-07-01</td>\n",
       "      <td>neutro</td>\n",
       "      <td>duvida</td>\n",
       "      <td>Dúvidas sobre pagamento de fatura</td>\n",
       "      <td>11 - Homem, Solteiro, Até 24 anos, cidade Pequ...</td>\n",
       "      <td>quero pagar 100 reais tireimais opçõesfalar co...</td>\n",
       "      <td>['quero pagar os  reais que eu tirei' 'mais op...</td>\n",
       "      <td>52</td>\n",
       "      <td>-0.4215</td>\n",
       "      <td>negativo</td>\n",
       "      <td>neutro</td>\n",
       "    </tr>\n",
       "    <tr>\n",
       "      <th>2</th>\n",
       "      <td>15213047</td>\n",
       "      <td>2023-04-01</td>\n",
       "      <td>neutro</td>\n",
       "      <td>solicitacao</td>\n",
       "      <td>Não reconhecimento de compra no crédito</td>\n",
       "      <td>17 - Mulher, 25 a 40 anos, Sudeste e Sul</td>\n",
       "      <td>apareceu compra não fizdúvida compra2703 5740 ...</td>\n",
       "      <td>['apareceu uma compra que eu nao fiz' 'duvida ...</td>\n",
       "      <td>14</td>\n",
       "      <td>-0.2960</td>\n",
       "      <td>negativo</td>\n",
       "      <td>neutro</td>\n",
       "    </tr>\n",
       "    <tr>\n",
       "      <th>3</th>\n",
       "      <td>17117301</td>\n",
       "      <td>2023-06-01</td>\n",
       "      <td>neutro</td>\n",
       "      <td>problema</td>\n",
       "      <td>Parcelamento de fatura</td>\n",
       "      <td>8 - Mulher, Solteira, Até 24 anos, cidade Pequ...</td>\n",
       "      <td>no limite está escrito está utilizado 29308 sa...</td>\n",
       "      <td>['no meu limite esta escrito que esta utilizad...</td>\n",
       "      <td>41</td>\n",
       "      <td>0.3400</td>\n",
       "      <td>positivo</td>\n",
       "      <td>neutro</td>\n",
       "    </tr>\n",
       "    <tr>\n",
       "      <th>4</th>\n",
       "      <td>17345996</td>\n",
       "      <td>2023-07-01</td>\n",
       "      <td>negativo</td>\n",
       "      <td>problema</td>\n",
       "      <td>Dúvidas PIX</td>\n",
       "      <td>10 - Mulher, Solteira, Até 24 anos, cidade Peq...</td>\n",
       "      <td>pixe merda will nunca teve essas coisasestou p...</td>\n",
       "      <td>['pix' 'e merda o will nunca teve essas coisas...</td>\n",
       "      <td>26</td>\n",
       "      <td>-0.7003</td>\n",
       "      <td>negativo</td>\n",
       "      <td>neutro</td>\n",
       "    </tr>\n",
       "  </tbody>\n",
       "</table>\n",
       "</div>"
      ],
      "text/plain": [
       "   id_issue    mes_chat SENTIMENTO     TIPO_MSG  \\\n",
       "0  15388962  2023-04-01     neutro       duvida   \n",
       "1  17497395  2023-07-01     neutro       duvida   \n",
       "2  15213047  2023-04-01     neutro  solicitacao   \n",
       "3  17117301  2023-06-01     neutro     problema   \n",
       "4  17345996  2023-07-01   negativo     problema   \n",
       "\n",
       "                              hierarquia_4  \\\n",
       "0                        Vencimento fatura   \n",
       "1        Dúvidas sobre pagamento de fatura   \n",
       "2  Não reconhecimento de compra no crédito   \n",
       "3                   Parcelamento de fatura   \n",
       "4                              Dúvidas PIX   \n",
       "\n",
       "                         ds_cluster_sociodemographic  \\\n",
       "0  0 - Mulher, Casada, 25 anos ou mais, cidade Pe...   \n",
       "1  11 - Homem, Solteiro, Até 24 anos, cidade Pequ...   \n",
       "2           17 - Mulher, 25 a 40 anos, Sudeste e Sul   \n",
       "3  8 - Mulher, Solteira, Até 24 anos, cidade Pequ...   \n",
       "4  10 - Mulher, Solteira, Até 24 anos, cidade Peq...   \n",
       "\n",
       "                                          ds_message  \\\n",
       "0          dia minha fatura fechaainda tenho dúvidas   \n",
       "1  quero pagar 100 reais tireimais opçõesfalar co...   \n",
       "2  apareceu compra não fizdúvida compra2703 5740 ...   \n",
       "3  no limite está escrito está utilizado 29308 sa...   \n",
       "4  pixe merda will nunca teve essas coisasestou p...   \n",
       "\n",
       "                                  ds_message_tratada  n_palavras  sentiment  \\\n",
       "0  ['que dia minha fatura fecha ' 'ainda tenho du...           8     0.0000   \n",
       "1  ['quero pagar os  reais que eu tirei' 'mais op...          52    -0.4215   \n",
       "2  ['apareceu uma compra que eu nao fiz' 'duvida ...          14    -0.2960   \n",
       "3  ['no meu limite esta escrito que esta utilizad...          41     0.3400   \n",
       "4  ['pix' 'e merda o will nunca teve essas coisas...          26    -0.7003   \n",
       "\n",
       "  fx_sentiment sentimento_predict  \n",
       "0       neutro             neutro  \n",
       "1     negativo             neutro  \n",
       "2     negativo             neutro  \n",
       "3     positivo             neutro  \n",
       "4     negativo             neutro  "
      ]
     },
     "execution_count": 66,
     "metadata": {},
     "output_type": "execute_result"
    }
   ],
   "source": [
    "exemplo_base.head()"
   ]
  },
  {
   "cell_type": "code",
   "execution_count": 73,
   "metadata": {},
   "outputs": [
    {
     "data": {
      "text/plain": [
       "neutro      221\n",
       "negativo     42\n",
       "positivo     31\n",
       "Name: sentimento_predict, dtype: int64"
      ]
     },
     "execution_count": 73,
     "metadata": {},
     "output_type": "execute_result"
    }
   ],
   "source": [
    "exemplo_base.sentimento_predict.value_counts()"
   ]
  },
  {
   "cell_type": "code",
   "execution_count": 68,
   "metadata": {},
   "outputs": [
    {
     "data": {
      "text/html": [
       "<div>\n",
       "<style scoped>\n",
       "    .dataframe tbody tr th:only-of-type {\n",
       "        vertical-align: middle;\n",
       "    }\n",
       "\n",
       "    .dataframe tbody tr th {\n",
       "        vertical-align: top;\n",
       "    }\n",
       "\n",
       "    .dataframe thead th {\n",
       "        text-align: right;\n",
       "    }\n",
       "</style>\n",
       "<table border=\"1\" class=\"dataframe\">\n",
       "  <thead>\n",
       "    <tr style=\"text-align: right;\">\n",
       "      <th>SENTIMENTO</th>\n",
       "      <th>negativo</th>\n",
       "      <th>neutro</th>\n",
       "      <th>positivo</th>\n",
       "    </tr>\n",
       "    <tr>\n",
       "      <th>sentimento_predict</th>\n",
       "      <th></th>\n",
       "      <th></th>\n",
       "      <th></th>\n",
       "    </tr>\n",
       "  </thead>\n",
       "  <tbody>\n",
       "    <tr>\n",
       "      <th>negativo</th>\n",
       "      <td>42</td>\n",
       "      <td>0</td>\n",
       "      <td>0</td>\n",
       "    </tr>\n",
       "    <tr>\n",
       "      <th>neutro</th>\n",
       "      <td>48</td>\n",
       "      <td>124</td>\n",
       "      <td>49</td>\n",
       "    </tr>\n",
       "    <tr>\n",
       "      <th>positivo</th>\n",
       "      <td>0</td>\n",
       "      <td>0</td>\n",
       "      <td>31</td>\n",
       "    </tr>\n",
       "  </tbody>\n",
       "</table>\n",
       "</div>"
      ],
      "text/plain": [
       "SENTIMENTO          negativo  neutro  positivo\n",
       "sentimento_predict                            \n",
       "negativo                  42       0         0\n",
       "neutro                    48     124        49\n",
       "positivo                   0       0        31"
      ]
     },
     "execution_count": 68,
     "metadata": {},
     "output_type": "execute_result"
    }
   ],
   "source": [
    "pd.crosstab(exemplo_base.sentimento_predict, exemplo_base.SENTIMENTO)"
   ]
  },
  {
   "cell_type": "code",
   "execution_count": 74,
   "metadata": {},
   "outputs": [
    {
     "name": "stdout",
     "output_type": "stream",
     "text": [
      "pixe merda will nunca teve essas coisasestou precisando fazer pix não conseguindodesde ontemnão fazer pixmais opções\n",
      "já passou do prazo não recebique possa me atendetem alguém aipra me atenderalguém\n",
      "falar coisaquero saber não entrou ainda reembolso shen\n",
      "quanto tempo estorno cairestorno na faturaproblema comprafatura do cartãoesse tempo já passoutô tentando manda print só q ñ certomostrar exemplo\n",
      "pixtodo dia problema nesse aplicativo deus maisfalar coisanão fazer pix\n",
      "mudar endereço entregaresponder mensagem antestá processo se entrega nunca chegafalar coisafalta respeito clienteesse atendimento vcs péssimo\n",
      "ok vou aguardarcancelar essa conta pois tive limite bloqueado falta pagamentojá paguei minha dívida não liberaram crédito quero cancelar a conta cartãofalar coisa\n",
      "falar coisacartão físicono momento nãoobrigadojá faz 5 diasque diz cartão produçãoquero saber acontecendo\n",
      "quero pagar a faturaé erro pagamentoeu depositei dinheiro não consigo pagar a faturavai demorar\n",
      "ajudaoiainda aína verdade já tinha solicitadosó até hoje não chegoujá pedi minha 2ª viaeu perdi a outrajá passou do prazo não recebiolánova via do cartãopelo correionão recebi link acompanhamento entrega\n"
     ]
    }
   ],
   "source": [
    "for i in exemplo_base.query('sentimento_predict == \"neutro\" & SENTIMENTO == \"negativo\"').head(10)['ds_message']:\n",
    "    print(i)"
   ]
  },
  {
   "cell_type": "code",
   "execution_count": 78,
   "metadata": {},
   "outputs": [
    {
     "name": "stderr",
     "output_type": "stream",
     "text": [
      "/tmp/ipykernel_1276268/3680250037.py:9: SettingWithCopyWarning: \n",
      "A value is trying to be set on a copy of a slice from a DataFrame.\n",
      "Try using .loc[row_indexer,col_indexer] = value instead\n",
      "\n",
      "See the caveats in the documentation: https://pandas.pydata.org/pandas-docs/stable/user_guide/indexing.html#returning-a-view-versus-a-copy\n"
     ]
    }
   ],
   "source": [
    "#Modelo de duvida, problema ou solicitacao\n",
    "\n",
    "y = exemplo_base.TIPO_MSG\n",
    "\n",
    "clf2 = BernoulliNB()\n",
    "clf2 = clf2.fit(X,y)\n",
    "\n",
    "def tipo_msg(df, ds_message_tratada):\n",
    "    df['tipo_msg_predict'] = clf2.predict(vetorizador.transform(df[ds_message_tratada].fillna('')))\n",
    "    return df\n",
    "\n",
    "exemplo_base = tipo_msg(exemplo_base, 'ds_message')\n"
   ]
  },
  {
   "cell_type": "code",
   "execution_count": 79,
   "metadata": {},
   "outputs": [
    {
     "data": {
      "text/plain": [
       "duvida         203\n",
       "problema        73\n",
       "solicitacao     18\n",
       "Name: tipo_msg_predict, dtype: int64"
      ]
     },
     "execution_count": 79,
     "metadata": {},
     "output_type": "execute_result"
    }
   ],
   "source": [
    "exemplo_base.tipo_msg_predict.value_counts()"
   ]
  },
  {
   "cell_type": "code",
   "execution_count": 80,
   "metadata": {},
   "outputs": [
    {
     "data": {
      "text/html": [
       "<div>\n",
       "<style scoped>\n",
       "    .dataframe tbody tr th:only-of-type {\n",
       "        vertical-align: middle;\n",
       "    }\n",
       "\n",
       "    .dataframe tbody tr th {\n",
       "        vertical-align: top;\n",
       "    }\n",
       "\n",
       "    .dataframe thead th {\n",
       "        text-align: right;\n",
       "    }\n",
       "</style>\n",
       "<table border=\"1\" class=\"dataframe\">\n",
       "  <thead>\n",
       "    <tr style=\"text-align: right;\">\n",
       "      <th>TIPO_MSG</th>\n",
       "      <th>duvida</th>\n",
       "      <th>problema</th>\n",
       "      <th>solicitacao</th>\n",
       "    </tr>\n",
       "    <tr>\n",
       "      <th>tipo_msg_predict</th>\n",
       "      <th></th>\n",
       "      <th></th>\n",
       "      <th></th>\n",
       "    </tr>\n",
       "  </thead>\n",
       "  <tbody>\n",
       "    <tr>\n",
       "      <th>duvida</th>\n",
       "      <td>108</td>\n",
       "      <td>45</td>\n",
       "      <td>50</td>\n",
       "    </tr>\n",
       "    <tr>\n",
       "      <th>problema</th>\n",
       "      <td>0</td>\n",
       "      <td>69</td>\n",
       "      <td>4</td>\n",
       "    </tr>\n",
       "    <tr>\n",
       "      <th>solicitacao</th>\n",
       "      <td>0</td>\n",
       "      <td>0</td>\n",
       "      <td>18</td>\n",
       "    </tr>\n",
       "  </tbody>\n",
       "</table>\n",
       "</div>"
      ],
      "text/plain": [
       "TIPO_MSG          duvida  problema  solicitacao\n",
       "tipo_msg_predict                               \n",
       "duvida               108        45           50\n",
       "problema               0        69            4\n",
       "solicitacao            0         0           18"
      ]
     },
     "execution_count": 80,
     "metadata": {},
     "output_type": "execute_result"
    }
   ],
   "source": [
    "pd.crosstab(exemplo_base.tipo_msg_predict, exemplo_base.TIPO_MSG)"
   ]
  },
  {
   "cell_type": "code",
   "execution_count": 81,
   "metadata": {},
   "outputs": [
    {
     "name": "stdout",
     "output_type": "stream",
     "text": [
      "no limite está escrito está utilizado 29308 saldo disponível é 6792não entendi valor 29308 porque paguei já 2 meses 200 no cartão wil banckjá paguei tenho dúvidas\n",
      "entãomeu limite negativo ainda\n",
      "já passou do prazo não recebique possa me atendetem alguém aipra me atenderalguém\n",
      "falar coisaquero saber não entrou ainda reembolso shen\n",
      "pixtodo dia problema nesse aplicativo deus maisfalar coisanão fazer pix\n",
      "pixfatura do cartãonão cadastrar chavevoltar começo\n",
      "ainda preciso ajudacertoentendi obrigadaparcelei minha fatura já paguei saldo conta não voltou limite ainda\n",
      "nao eatou conseguindo enviar pixme diga\n",
      "ok vou aguardarcancelar essa conta pois tive limite bloqueado falta pagamentojá paguei minha dívida não liberaram crédito quero cancelar a conta cartãofalar coisa\n",
      "falar coisacartão físicono momento nãoobrigadojá faz 5 diasque diz cartão produçãoquero saber acontecendo\n"
     ]
    }
   ],
   "source": [
    "for i in exemplo_base.query('tipo_msg_predict == \"duvida\" & TIPO_MSG == \"problema\"').head(10)['ds_message']:\n",
    "    print(i)"
   ]
  },
  {
   "cell_type": "markdown",
   "metadata": {},
   "source": [
    "## Próximos passos"
   ]
  },
  {
   "cell_type": "markdown",
   "metadata": {},
   "source": [
    "- Focar no preenchimento dos casos mapeados pelo Leya como muito negativos (checar)\n",
    "- Procurar os casos com palavras de baixo calão\n",
    "- Procurar casos \"já faz\", \"problema\" para acerto da classificação de problemas\n",
    "- Avaliar se em alguns casos a classificação de sentimento negativo não seria neutro de fato (clientes que relatam demora ou que passou do prazo seria um fato objetivo ou escondem um stress?)\n",
    "- Testar classificador usando um embedding ao invés de vetorizer\n",
    "- Incluir nr de palavras e outras característias semânticas"
   ]
  },
  {
   "cell_type": "markdown",
   "metadata": {},
   "source": []
  }
 ],
 "metadata": {
  "kernelspec": {
   "display_name": "Python 3",
   "language": "python",
   "name": "python3"
  },
  "language_info": {
   "codemirror_mode": {
    "name": "ipython",
    "version": 3
   },
   "file_extension": ".py",
   "mimetype": "text/x-python",
   "name": "python",
   "nbconvert_exporter": "python",
   "pygments_lexer": "ipython3",
   "version": "3.8.10"
  },
  "orig_nbformat": 4
 },
 "nbformat": 4,
 "nbformat_minor": 2
}
