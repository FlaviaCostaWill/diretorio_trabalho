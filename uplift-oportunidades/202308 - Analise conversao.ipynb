{
 "cells": [
  {
   "cell_type": "code",
   "execution_count": 1,
   "metadata": {},
   "outputs": [],
   "source": [
    "import pandas as pd\n",
    "import numpy as np\n",
    "import os as os\n",
    "import pickle\n",
    "import seaborn as sns\n",
    "import matplotlib.pyplot as plt\n",
    "import acessos as ac\n",
    "import re\n",
    "from pylift import TransformedOutcome\n",
    "import warnings\n",
    "warnings.simplefilter(action='ignore', category=FutureWarning)"
   ]
  },
  {
   "cell_type": "code",
   "execution_count": 2,
   "metadata": {},
   "outputs": [],
   "source": [
    "query = \"\"\"\n",
    "\n",
    "with base_campanhas as (\n",
    "select * from (\n",
    "select \n",
    "activityname --jornada campanha\n",
    ", journeyname --campanha\n",
    ", subject\n",
    ", id_customer\n",
    ", sum(nr_click) as cliques\n",
    ", sum(nr_open) as aberturas\n",
    ", min(dt_envio) as dt_envio\n",
    "from \n",
    "martech_curated_zone.retorno_email_sfmc\n",
    "where eventtype = 'Sent'\n",
    "and tipo <> 'Transacional'\n",
    "group by 1,2,3,4\n",
    "union all \n",
    "select \n",
    "communication_name as activityname --jornada campanha\n",
    ", communication_name as journeyname --campanha\n",
    ", subject\n",
    ", cl.id_customer\n",
    ", sum(clicks) as cliques\n",
    ", sum(opens) as aberturas\n",
    ", min(send_at) as dt_envio\n",
    "from \n",
    "martech_curated_zone.log_infobip_email_pag p\n",
    "inner join growth_curated_zone.clientes cl on (cl.email = p.\"to\")\n",
    "where status = 'Delivered'\n",
    "group by 1,2,3,4\n",
    ")\n",
    "where lower(journeyname) not like '%%cobranca%%'\n",
    "and lower(journeyname) not like '%%cobrança%%'\n",
    "and lower(journeyname) not like '%%aquisicao%%'\n",
    "and lower(journeyname) not like '%%aquisição%%'\n",
    "and lower(subject) not like '%%willclipping%%' \n",
    "and lower(subject) not like '%%relatório%%'\n",
    "and lower(subject) not like '%%boletim%%'\n",
    "and lower(subject) not like '%%correios%%'\n",
    "and lower(subject) not like '%%newsletter%%'\n",
    "and lower(journeyname) not like '%%teste%%'\n",
    "and lower(subject) not like '%%teste%%'\n",
    "and lower(journeyname) not like '%%pesquisa%%'\n",
    "and lower(journeyname) not like '%%comunicação interna%%'\n",
    "and lower(journeyname) not like '%%café%%'\n",
    "and lower(journeyname) not like '%%cxm%%'\n",
    "and lower(journeyname) not like '%%acesso%%'\n",
    "and lower(subject) not like '%%[will bank e pag%%'\n",
    "and lower(subject) not like '%%[willbank]%%'\n",
    "and lower(subject) not like '%%[meu pag]%%'\n",
    "and lower(subject) not like '%%[meupag]%%'\n",
    "and lower(subject) not like '%%[will bank]%%'\n",
    "and lower(subject) not like '%%pag amarelo%%'\n",
    "and lower(journeyname) not like '%%unresolved communication%%'\n",
    "and lower(subject) not like '%%certificado%%'\n",
    "and lower(journeyname) not like '%%ri_pessoas%%'\n",
    "and lower(subject) not like '%%will em um minuto%%'\n",
    "and lower(subject) not like '%%chegaram os vouchers%%'\n",
    "and dt_envio >= to_date('2023-01-01','yyyy-mm-dd')\n",
    ")\n",
    ", conversao_cartao as (\n",
    "select distinct id_cliente,  dt_data\n",
    "from platform_curated_zone.transaction_dedicada_spending \n",
    "where dt_data >= to_date('2023-01-01','yyyy-mm-dd')\n",
    ")\n",
    ", flags_principais as (\n",
    "select\n",
    "coalesce(b.id_customer, ct.id_cliente) as id_customer,\n",
    "date_trunc('month', coalesce(c.dt_envio, ct.dt_data)) as mes_ref,\n",
    "case when c.id_customer is null then 0 else 1 end as f_tratamento,\n",
    "case when ct.id_cliente is null then 0 else 1 end as f_conversao,\n",
    "case when c.aberturas > 0 then 1 else 0 end as f_comunicacao\n",
    "from customer_analytics_zone.ca_analitico_basao_crm b \n",
    "left join base_campanhas c on (c.id_customer = b.id_customer)\n",
    "full outer join conversao_cartao ct on (ct.id_cliente = c.id_customer and date_diff('day', c.dt_envio, ct.dt_data) <= 7 and date_diff('day', c.dt_envio, ct.dt_data) > 0 )\n",
    ")\n",
    ", com_aleatorizacao as (\n",
    "select \n",
    "*, row_number() over (partition by f_tratamento, f_conversao, f_comunicacao order by rand()) as ordem\n",
    "from flags_principais\n",
    ")\n",
    "select \n",
    "b.id_customer\n",
    ", b.f_tratamento, b.f_conversao, b.f_comunicacao\n",
    ", c.pc_iu_ult_mes\n",
    ", c.pc_iu_mes_atual\n",
    ", c.vl_spending_medio_3m\n",
    ", c.ds_classif_application\n",
    ", c.ds_classif_behavior\n",
    ", c.ds_classif_compra_online\n",
    ", c.nr_score_ie_credito\n",
    ", c.nr_score_ie_conta\n",
    ", c.ds_rfe_credito\n",
    ", c.ds_persona\n",
    ", c.ds_perfil_research\n",
    ", c.ds_seg_consumo\n",
    "from \n",
    "com_aleatorizacao b\n",
    "left join customer_analytics_zone.ca_analitico_basao_crm c on (c.id_customer = b.id_customer)\n",
    "where ordem <= 100000\n",
    "\n",
    "\n",
    "\"\"\"\n",
    "\n",
    "df = ac.df_athena('flavia-costa', query)"
   ]
  },
  {
   "cell_type": "code",
   "execution_count": 3,
   "metadata": {},
   "outputs": [
    {
     "data": {
      "text/plain": [
       "600000"
      ]
     },
     "execution_count": 3,
     "metadata": {},
     "output_type": "execute_result"
    }
   ],
   "source": [
    "len(df)"
   ]
  },
  {
   "cell_type": "code",
   "execution_count": 4,
   "metadata": {},
   "outputs": [
    {
     "data": {
      "text/plain": [
       "id_customer                  object\n",
       "f_tratamento                  int64\n",
       "f_conversao                   int64\n",
       "f_comunicacao                 int64\n",
       "pc_iu_ult_mes               float64\n",
       "pc_iu_mes_atual             float64\n",
       "vl_spending_medio_3m        float64\n",
       "ds_classif_application       object\n",
       "ds_classif_behavior          object\n",
       "ds_classif_compra_online     object\n",
       "nr_score_ie_credito         float64\n",
       "nr_score_ie_conta           float64\n",
       "ds_rfe_credito               object\n",
       "ds_persona                   object\n",
       "ds_perfil_research           object\n",
       "ds_seg_consumo               object\n",
       "dtype: object"
      ]
     },
     "execution_count": 4,
     "metadata": {},
     "output_type": "execute_result"
    }
   ],
   "source": [
    "df.dtypes"
   ]
  },
  {
   "cell_type": "code",
   "execution_count": 5,
   "metadata": {},
   "outputs": [
    {
     "data": {
      "text/html": [
       "<div>\n",
       "<style scoped>\n",
       "    .dataframe tbody tr th:only-of-type {\n",
       "        vertical-align: middle;\n",
       "    }\n",
       "\n",
       "    .dataframe tbody tr th {\n",
       "        vertical-align: top;\n",
       "    }\n",
       "\n",
       "    .dataframe thead th {\n",
       "        text-align: right;\n",
       "    }\n",
       "</style>\n",
       "<table border=\"1\" class=\"dataframe\">\n",
       "  <thead>\n",
       "    <tr style=\"text-align: right;\">\n",
       "      <th></th>\n",
       "      <th>id_customer</th>\n",
       "      <th>f_tratamento</th>\n",
       "      <th>f_conversao</th>\n",
       "      <th>f_comunicacao</th>\n",
       "      <th>pc_iu_ult_mes</th>\n",
       "      <th>pc_iu_mes_atual</th>\n",
       "      <th>vl_spending_medio_3m</th>\n",
       "      <th>ds_classif_application</th>\n",
       "      <th>ds_classif_behavior</th>\n",
       "      <th>ds_classif_compra_online</th>\n",
       "      <th>nr_score_ie_credito</th>\n",
       "      <th>nr_score_ie_conta</th>\n",
       "      <th>ds_rfe_credito</th>\n",
       "      <th>ds_persona</th>\n",
       "      <th>ds_perfil_research</th>\n",
       "      <th>ds_seg_consumo</th>\n",
       "    </tr>\n",
       "  </thead>\n",
       "  <tbody>\n",
       "    <tr>\n",
       "      <th>0</th>\n",
       "      <td>3859089</td>\n",
       "      <td>0</td>\n",
       "      <td>0</td>\n",
       "      <td>0</td>\n",
       "      <td>NaN</td>\n",
       "      <td>NaN</td>\n",
       "      <td>NaN</td>\n",
       "      <td>9</td>\n",
       "      <td>4</td>\n",
       "      <td>None</td>\n",
       "      <td>0.000000</td>\n",
       "      <td>NaN</td>\n",
       "      <td>None</td>\n",
       "      <td>16 - Homem, 25 a 40 anos, Nordeste</td>\n",
       "      <td>Acumulador</td>\n",
       "      <td>None</td>\n",
       "    </tr>\n",
       "    <tr>\n",
       "      <th>1</th>\n",
       "      <td>3767854</td>\n",
       "      <td>0</td>\n",
       "      <td>0</td>\n",
       "      <td>0</td>\n",
       "      <td>NaN</td>\n",
       "      <td>NaN</td>\n",
       "      <td>NaN</td>\n",
       "      <td>8</td>\n",
       "      <td>2</td>\n",
       "      <td>None</td>\n",
       "      <td>0.000000</td>\n",
       "      <td>NaN</td>\n",
       "      <td>None</td>\n",
       "      <td>22 - Mulher, Até 24 anos, Nordeste</td>\n",
       "      <td>BP - Multiplicador / Acumulador</td>\n",
       "      <td>None</td>\n",
       "    </tr>\n",
       "    <tr>\n",
       "      <th>2</th>\n",
       "      <td>3134318</td>\n",
       "      <td>0</td>\n",
       "      <td>0</td>\n",
       "      <td>0</td>\n",
       "      <td>NaN</td>\n",
       "      <td>NaN</td>\n",
       "      <td>NaN</td>\n",
       "      <td>None</td>\n",
       "      <td>None</td>\n",
       "      <td>None</td>\n",
       "      <td>0.000000</td>\n",
       "      <td>NaN</td>\n",
       "      <td>None</td>\n",
       "      <td>16 - Homem, 25 a 40 anos, Nordeste</td>\n",
       "      <td>None</td>\n",
       "      <td>None</td>\n",
       "    </tr>\n",
       "    <tr>\n",
       "      <th>3</th>\n",
       "      <td>92065dc6-db47-4e1c-8fe0-ff864f3c9ef7</td>\n",
       "      <td>0</td>\n",
       "      <td>0</td>\n",
       "      <td>0</td>\n",
       "      <td>0.9235</td>\n",
       "      <td>0.3246</td>\n",
       "      <td>71.0</td>\n",
       "      <td>11</td>\n",
       "      <td>None</td>\n",
       "      <td>None</td>\n",
       "      <td>32.653061</td>\n",
       "      <td>NaN</td>\n",
       "      <td>02-Cliente novo - onliner</td>\n",
       "      <td>28 - Mulher, Até 24 anos, Centro-Oeste e Norte</td>\n",
       "      <td>Multiplicador</td>\n",
       "      <td>None</td>\n",
       "    </tr>\n",
       "    <tr>\n",
       "      <th>4</th>\n",
       "      <td>067a68fd-d589-41c3-bc30-c62d0a19f433</td>\n",
       "      <td>0</td>\n",
       "      <td>0</td>\n",
       "      <td>0</td>\n",
       "      <td>0.9998</td>\n",
       "      <td>NaN</td>\n",
       "      <td>127.0</td>\n",
       "      <td>15</td>\n",
       "      <td>None</td>\n",
       "      <td>None</td>\n",
       "      <td>NaN</td>\n",
       "      <td>49.74</td>\n",
       "      <td>02-Cliente novo - onliner</td>\n",
       "      <td>3 - Mulher, Solteira, 35 anos ou mais, cidade ...</td>\n",
       "      <td>None</td>\n",
       "      <td>None</td>\n",
       "    </tr>\n",
       "  </tbody>\n",
       "</table>\n",
       "</div>"
      ],
      "text/plain": [
       "                            id_customer  f_tratamento  f_conversao  \\\n",
       "0                               3859089             0            0   \n",
       "1                               3767854             0            0   \n",
       "2                               3134318             0            0   \n",
       "3  92065dc6-db47-4e1c-8fe0-ff864f3c9ef7             0            0   \n",
       "4  067a68fd-d589-41c3-bc30-c62d0a19f433             0            0   \n",
       "\n",
       "   f_comunicacao  pc_iu_ult_mes  pc_iu_mes_atual  vl_spending_medio_3m  \\\n",
       "0              0            NaN              NaN                   NaN   \n",
       "1              0            NaN              NaN                   NaN   \n",
       "2              0            NaN              NaN                   NaN   \n",
       "3              0         0.9235           0.3246                  71.0   \n",
       "4              0         0.9998              NaN                 127.0   \n",
       "\n",
       "  ds_classif_application ds_classif_behavior ds_classif_compra_online  \\\n",
       "0                      9                   4                     None   \n",
       "1                      8                   2                     None   \n",
       "2                   None                None                     None   \n",
       "3                     11                None                     None   \n",
       "4                     15                None                     None   \n",
       "\n",
       "   nr_score_ie_credito  nr_score_ie_conta             ds_rfe_credito  \\\n",
       "0             0.000000                NaN                       None   \n",
       "1             0.000000                NaN                       None   \n",
       "2             0.000000                NaN                       None   \n",
       "3            32.653061                NaN  02-Cliente novo - onliner   \n",
       "4                  NaN              49.74  02-Cliente novo - onliner   \n",
       "\n",
       "                                          ds_persona  \\\n",
       "0                 16 - Homem, 25 a 40 anos, Nordeste   \n",
       "1                 22 - Mulher, Até 24 anos, Nordeste   \n",
       "2                 16 - Homem, 25 a 40 anos, Nordeste   \n",
       "3     28 - Mulher, Até 24 anos, Centro-Oeste e Norte   \n",
       "4  3 - Mulher, Solteira, 35 anos ou mais, cidade ...   \n",
       "\n",
       "                ds_perfil_research ds_seg_consumo  \n",
       "0                       Acumulador           None  \n",
       "1  BP - Multiplicador / Acumulador           None  \n",
       "2                             None           None  \n",
       "3                    Multiplicador           None  \n",
       "4                             None           None  "
      ]
     },
     "execution_count": 5,
     "metadata": {},
     "output_type": "execute_result"
    }
   ],
   "source": [
    "df.head()"
   ]
  },
  {
   "cell_type": "code",
   "execution_count": 6,
   "metadata": {},
   "outputs": [
    {
     "data": {
      "text/plain": [
       "id_customer                     22\n",
       "f_tratamento                     0\n",
       "f_conversao                      0\n",
       "f_comunicacao                    0\n",
       "pc_iu_ult_mes               115337\n",
       "pc_iu_mes_atual             324091\n",
       "vl_spending_medio_3m        113287\n",
       "ds_classif_application       60684\n",
       "ds_classif_behavior          81950\n",
       "ds_classif_compra_online    216040\n",
       "nr_score_ie_credito          55364\n",
       "nr_score_ie_conta           171565\n",
       "ds_rfe_credito               85973\n",
       "ds_persona                    8329\n",
       "ds_perfil_research           54856\n",
       "ds_seg_consumo              321950\n",
       "dtype: int64"
      ]
     },
     "execution_count": 6,
     "metadata": {},
     "output_type": "execute_result"
    }
   ],
   "source": [
    "df.isnull().sum()"
   ]
  },
  {
   "cell_type": "code",
   "execution_count": 7,
   "metadata": {},
   "outputs": [],
   "source": [
    "id_columns = ['id_customer']\n",
    "cat_columns = df.drop(id_columns, axis = 1).select_dtypes('object').columns\n",
    "num_columns = df.drop(id_columns, axis = 1).select_dtypes(exclude=['object']).columns"
   ]
  },
  {
   "cell_type": "code",
   "execution_count": 8,
   "metadata": {},
   "outputs": [
    {
     "data": {
      "text/html": [
       "<div>\n",
       "<style scoped>\n",
       "    .dataframe tbody tr th:only-of-type {\n",
       "        vertical-align: middle;\n",
       "    }\n",
       "\n",
       "    .dataframe tbody tr th {\n",
       "        vertical-align: top;\n",
       "    }\n",
       "\n",
       "    .dataframe thead th {\n",
       "        text-align: right;\n",
       "    }\n",
       "</style>\n",
       "<table border=\"1\" class=\"dataframe\">\n",
       "  <thead>\n",
       "    <tr style=\"text-align: right;\">\n",
       "      <th></th>\n",
       "      <th>f_tratamento</th>\n",
       "      <th>f_conversao</th>\n",
       "      <th>f_comunicacao</th>\n",
       "      <th>pc_iu_ult_mes</th>\n",
       "      <th>pc_iu_mes_atual</th>\n",
       "      <th>vl_spending_medio_3m</th>\n",
       "      <th>nr_score_ie_credito</th>\n",
       "      <th>nr_score_ie_conta</th>\n",
       "    </tr>\n",
       "  </thead>\n",
       "  <tbody>\n",
       "    <tr>\n",
       "      <th>count</th>\n",
       "      <td>600000.000000</td>\n",
       "      <td>600000.0</td>\n",
       "      <td>600000.000000</td>\n",
       "      <td>484663.000000</td>\n",
       "      <td>275909.000000</td>\n",
       "      <td>486713.0</td>\n",
       "      <td>544636.000000</td>\n",
       "      <td>428435.000000</td>\n",
       "    </tr>\n",
       "    <tr>\n",
       "      <th>mean</th>\n",
       "      <td>0.666667</td>\n",
       "      <td>0.5</td>\n",
       "      <td>0.333333</td>\n",
       "      <td>0.858852</td>\n",
       "      <td>0.778679</td>\n",
       "      <td>inf</td>\n",
       "      <td>48.492356</td>\n",
       "      <td>52.840169</td>\n",
       "    </tr>\n",
       "    <tr>\n",
       "      <th>std</th>\n",
       "      <td>0.471405</td>\n",
       "      <td>0.5</td>\n",
       "      <td>0.471405</td>\n",
       "      <td>1.386086</td>\n",
       "      <td>0.383555</td>\n",
       "      <td>NaN</td>\n",
       "      <td>29.165832</td>\n",
       "      <td>23.164712</td>\n",
       "    </tr>\n",
       "    <tr>\n",
       "      <th>min</th>\n",
       "      <td>0.000000</td>\n",
       "      <td>0.0</td>\n",
       "      <td>0.000000</td>\n",
       "      <td>-1.006500</td>\n",
       "      <td>-1.000000</td>\n",
       "      <td>-2389.0</td>\n",
       "      <td>0.000000</td>\n",
       "      <td>7.410000</td>\n",
       "    </tr>\n",
       "    <tr>\n",
       "      <th>25%</th>\n",
       "      <td>0.000000</td>\n",
       "      <td>0.0</td>\n",
       "      <td>0.000000</td>\n",
       "      <td>0.690000</td>\n",
       "      <td>0.530500</td>\n",
       "      <td>311.0</td>\n",
       "      <td>27.118644</td>\n",
       "      <td>35.060000</td>\n",
       "    </tr>\n",
       "    <tr>\n",
       "      <th>50%</th>\n",
       "      <td>1.000000</td>\n",
       "      <td>0.5</td>\n",
       "      <td>0.000000</td>\n",
       "      <td>0.974200</td>\n",
       "      <td>0.890000</td>\n",
       "      <td>625.0</td>\n",
       "      <td>55.932203</td>\n",
       "      <td>53.050000</td>\n",
       "    </tr>\n",
       "    <tr>\n",
       "      <th>75%</th>\n",
       "      <td>1.000000</td>\n",
       "      <td>1.0</td>\n",
       "      <td>1.000000</td>\n",
       "      <td>1.000000</td>\n",
       "      <td>1.000000</td>\n",
       "      <td>1224.0</td>\n",
       "      <td>72.881356</td>\n",
       "      <td>71.440000</td>\n",
       "    </tr>\n",
       "    <tr>\n",
       "      <th>max</th>\n",
       "      <td>1.000000</td>\n",
       "      <td>1.0</td>\n",
       "      <td>1.000000</td>\n",
       "      <td>656.212900</td>\n",
       "      <td>22.840000</td>\n",
       "      <td>inf</td>\n",
       "      <td>100.000000</td>\n",
       "      <td>99.910000</td>\n",
       "    </tr>\n",
       "  </tbody>\n",
       "</table>\n",
       "</div>"
      ],
      "text/plain": [
       "        f_tratamento  f_conversao  f_comunicacao  pc_iu_ult_mes  \\\n",
       "count  600000.000000     600000.0  600000.000000  484663.000000   \n",
       "mean        0.666667          0.5       0.333333       0.858852   \n",
       "std         0.471405          0.5       0.471405       1.386086   \n",
       "min         0.000000          0.0       0.000000      -1.006500   \n",
       "25%         0.000000          0.0       0.000000       0.690000   \n",
       "50%         1.000000          0.5       0.000000       0.974200   \n",
       "75%         1.000000          1.0       1.000000       1.000000   \n",
       "max         1.000000          1.0       1.000000     656.212900   \n",
       "\n",
       "       pc_iu_mes_atual  vl_spending_medio_3m  nr_score_ie_credito  \\\n",
       "count    275909.000000              486713.0        544636.000000   \n",
       "mean          0.778679                   inf            48.492356   \n",
       "std           0.383555                   NaN            29.165832   \n",
       "min          -1.000000               -2389.0             0.000000   \n",
       "25%           0.530500                 311.0            27.118644   \n",
       "50%           0.890000                 625.0            55.932203   \n",
       "75%           1.000000                1224.0            72.881356   \n",
       "max          22.840000                   inf           100.000000   \n",
       "\n",
       "       nr_score_ie_conta  \n",
       "count      428435.000000  \n",
       "mean           52.840169  \n",
       "std            23.164712  \n",
       "min             7.410000  \n",
       "25%            35.060000  \n",
       "50%            53.050000  \n",
       "75%            71.440000  \n",
       "max            99.910000  "
      ]
     },
     "execution_count": 8,
     "metadata": {},
     "output_type": "execute_result"
    }
   ],
   "source": [
    "df.drop(id_columns, axis=1).describe()"
   ]
  },
  {
   "cell_type": "code",
   "execution_count": 9,
   "metadata": {},
   "outputs": [
    {
     "data": {
      "text/plain": [
       "0    300000\n",
       "1    300000\n",
       "Name: f_conversao, dtype: int64"
      ]
     },
     "execution_count": 9,
     "metadata": {},
     "output_type": "execute_result"
    }
   ],
   "source": [
    "df['f_conversao'].value_counts()"
   ]
  },
  {
   "cell_type": "code",
   "execution_count": 10,
   "metadata": {},
   "outputs": [
    {
     "data": {
      "text/html": [
       "<div>\n",
       "<style scoped>\n",
       "    .dataframe tbody tr th:only-of-type {\n",
       "        vertical-align: middle;\n",
       "    }\n",
       "\n",
       "    .dataframe tbody tr th {\n",
       "        vertical-align: top;\n",
       "    }\n",
       "\n",
       "    .dataframe thead th {\n",
       "        text-align: right;\n",
       "    }\n",
       "</style>\n",
       "<table border=\"1\" class=\"dataframe\">\n",
       "  <thead>\n",
       "    <tr style=\"text-align: right;\">\n",
       "      <th>f_tratamento</th>\n",
       "      <th>0</th>\n",
       "      <th>1</th>\n",
       "    </tr>\n",
       "    <tr>\n",
       "      <th>f_conversao</th>\n",
       "      <th></th>\n",
       "      <th></th>\n",
       "    </tr>\n",
       "  </thead>\n",
       "  <tbody>\n",
       "    <tr>\n",
       "      <th>0</th>\n",
       "      <td>100000</td>\n",
       "      <td>200000</td>\n",
       "    </tr>\n",
       "    <tr>\n",
       "      <th>1</th>\n",
       "      <td>100000</td>\n",
       "      <td>200000</td>\n",
       "    </tr>\n",
       "  </tbody>\n",
       "</table>\n",
       "</div>"
      ],
      "text/plain": [
       "f_tratamento       0       1\n",
       "f_conversao                 \n",
       "0             100000  200000\n",
       "1             100000  200000"
      ]
     },
     "execution_count": 10,
     "metadata": {},
     "output_type": "execute_result"
    }
   ],
   "source": [
    "pd.crosstab(df.f_conversao, df.f_tratamento)"
   ]
  },
  {
   "cell_type": "code",
   "execution_count": 13,
   "metadata": {},
   "outputs": [],
   "source": [
    "df['f_uplift'] = np.where((df['f_tratamento'] == 1) & (df['f_conversao'] == 1), 1, 0)"
   ]
  },
  {
   "cell_type": "code",
   "execution_count": 12,
   "metadata": {},
   "outputs": [
    {
     "data": {
      "text/plain": [
       "0    0.666667\n",
       "1    0.333333\n",
       "Name: f_uplift, dtype: float64"
      ]
     },
     "execution_count": 12,
     "metadata": {},
     "output_type": "execute_result"
    }
   ],
   "source": [
    "df['f_uplift'].value_counts(normalize=True)"
   ]
  },
  {
   "cell_type": "code",
   "execution_count": 14,
   "metadata": {},
   "outputs": [],
   "source": [
    "for column in df.columns:\n",
    "  if df[column].dtype == 'object':\n",
    "    df[column].fillna(df[column].mode()[0], inplace = True)\n",
    "  elif df[column].dtype != 'object':\n",
    "    df[column].fillna(df[column].median(), inplace = True)"
   ]
  },
  {
   "cell_type": "code",
   "execution_count": 15,
   "metadata": {},
   "outputs": [
    {
     "data": {
      "text/plain": [
       "id_customer                 0\n",
       "f_tratamento                0\n",
       "f_conversao                 0\n",
       "f_comunicacao               0\n",
       "pc_iu_ult_mes               0\n",
       "pc_iu_mes_atual             0\n",
       "vl_spending_medio_3m        0\n",
       "ds_classif_application      0\n",
       "ds_classif_behavior         0\n",
       "ds_classif_compra_online    0\n",
       "nr_score_ie_credito         0\n",
       "nr_score_ie_conta           0\n",
       "ds_rfe_credito              0\n",
       "ds_persona                  0\n",
       "ds_perfil_research          0\n",
       "ds_seg_consumo              0\n",
       "f_uplift                    0\n",
       "dtype: int64"
      ]
     },
     "execution_count": 15,
     "metadata": {},
     "output_type": "execute_result"
    }
   ],
   "source": [
    "df.isnull().sum()"
   ]
  },
  {
   "cell_type": "code",
   "execution_count": 16,
   "metadata": {},
   "outputs": [
    {
     "data": {
      "image/png": "[encoded data removed]",
      "text/plain": [
       "<Figure size 720x720 with 2 Axes>"
      ]
     },
     "metadata": {
      "needs_background": "light"
     },
     "output_type": "display_data"
    }
   ],
   "source": [
    "import seaborn as sns\n",
    "plt.figure(figsize=(10,10))\n",
    "sns.heatmap(df.drop(id_columns, axis=1).corr(), annot=True, cmap=\"coolwarm\", vmax=0.5)\n",
    "plt.show()"
   ]
  },
  {
   "cell_type": "code",
   "execution_count": 17,
   "metadata": {},
   "outputs": [],
   "source": [
    "from sklearn.ensemble import RandomForestClassifier"
   ]
  },
  {
   "cell_type": "code",
   "execution_count": 18,
   "metadata": {},
   "outputs": [],
   "source": [
    "df_model = pd.get_dummies(df, columns=cat_columns)"
   ]
  },
  {
   "cell_type": "code",
   "execution_count": 19,
   "metadata": {},
   "outputs": [],
   "source": [
    "nao_preditor = ['id_customer', 'f_conversao', 'f_uplift', 'f_comunicacao']\n",
    "target = ['f_conversao']\n",
    "\n",
    "preditores = df_model.drop(nao_preditor, axis = 1).columns"
   ]
  },
  {
   "cell_type": "code",
   "execution_count": 20,
   "metadata": {},
   "outputs": [
    {
     "data": {
      "text/plain": [
       "id_customer                  0\n",
       "f_tratamento                 0\n",
       "f_conversao                  0\n",
       "f_comunicacao                0\n",
       "pc_iu_ult_mes                0\n",
       "                            ..\n",
       "ds_seg_consumo_VIAGEM - 2    0\n",
       "ds_seg_consumo_VIAGEM - 3    0\n",
       "ds_seg_consumo_VIAGEM - 4    0\n",
       "ds_seg_consumo_VIAGEM - 5    0\n",
       "ds_seg_consumo_VIAGEM - 6    0\n",
       "Length: 218, dtype: int64"
      ]
     },
     "execution_count": 20,
     "metadata": {},
     "output_type": "execute_result"
    }
   ],
   "source": [
    "df_model.isnull().sum()"
   ]
  },
  {
   "cell_type": "code",
   "execution_count": 34,
   "metadata": {},
   "outputs": [],
   "source": [
    "from sklearn.model_selection import train_test_split\n",
    "from sklearn import metrics\n",
    "import lightgbm as lgb\n",
    "from sklearn.linear_model import LogisticRegression\n",
    "from sklearn import svm\n",
    "from sklearn.neighbors import KNeighborsClassifier\n"
   ]
  },
  {
   "cell_type": "code",
   "execution_count": 22,
   "metadata": {},
   "outputs": [],
   "source": [
    "x_train, x_test, y_train, y_test = train_test_split(df_model[preditores]\n",
    "                                                    , df_model[target]\n",
    "                                                    , random_state=42, test_size=0.20)"
   ]
  },
  {
   "cell_type": "code",
   "execution_count": 23,
   "metadata": {},
   "outputs": [],
   "source": [
    "x_train = x_train.replace([np.inf, -np.inf], 0)\n",
    "x_test = x_test.replace([np.inf, -np.inf], 0)"
   ]
  },
  {
   "cell_type": "code",
   "execution_count": 1,
   "metadata": {},
   "outputs": [
    {
     "ename": "NameError",
     "evalue": "name 'x_test' is not defined",
     "output_type": "error",
     "traceback": [
      "\u001b[0;31m---------------------------------------------------------------------------\u001b[0m",
      "\u001b[0;31mNameError\u001b[0m                                 Traceback (most recent call last)",
      "\u001b[1;32m/home/flavia.costa/work/diretorio_trabalho/codigos2/uplift-oportunidades/202308 - Analise conversao.ipynb Célula 23\u001b[0m in \u001b[0;36m<cell line: 1>\u001b[0;34m()\u001b[0m\n\u001b[0;32m----> <a href='vscode-notebook-cell:/home/flavia.costa/work/diretorio_trabalho/codigos2/uplift-oportunidades/202308%20-%20Analise%20conversao.ipynb#X31sZmlsZQ%3D%3D?line=0'>1</a>\u001b[0m x_test\u001b[39m.\u001b[39mhead()\n",
      "\u001b[0;31mNameError\u001b[0m: name 'x_test' is not defined"
     ]
    }
   ],
   "source": [
    "x_test.head()"
   ]
  },
  {
   "cell_type": "code",
   "execution_count": 25,
   "metadata": {},
   "outputs": [],
   "source": [
    "x_test_sim = x_test\n",
    "\n",
    "x_test_sim['f_tratamento'] = 0"
   ]
  },
  {
   "cell_type": "code",
   "execution_count": 35,
   "metadata": {},
   "outputs": [
    {
     "name": "stderr",
     "output_type": "stream",
     "text": [
      "/home/flavia.costa/.local/lib/python3.8/site-packages/sklearn/utils/validation.py:1111: DataConversionWarning: A column-vector y was passed when a 1d array was expected. Please change the shape of y to (n_samples, ), for example using ravel().\n",
      "  y = column_or_1d(y, warn=True)\n"
     ]
    }
   ],
   "source": [
    "svm_clf = svm.SVC()\n",
    "svm_clf.fit(x_train, y_train)\n"
   ]
  },
  {
   "cell_type": "code",
   "execution_count": null,
   "metadata": {},
   "outputs": [],
   "source": [
    "y_predicted_clf = svm_clf.predict(x_test)\n",
    "print(metrics.accuracy_score(y_test, y_predicted_clf).round(4))"
   ]
  },
  {
   "cell_type": "code",
   "execution_count": null,
   "metadata": {},
   "outputs": [],
   "source": [
    "y_predicted_clf_sim = svm_clf.predict(x_test_sim)"
   ]
  },
  {
   "cell_type": "code",
   "execution_count": null,
   "metadata": {},
   "outputs": [],
   "source": [
    "df_analise = x_test\n",
    "len(df_analise)"
   ]
  },
  {
   "cell_type": "code",
   "execution_count": null,
   "metadata": {},
   "outputs": [],
   "source": [
    "df_analise['prediction_actual'] = y_predicted_clf\n",
    "df_analise['prediction_sim'] = y_predicted_clf_sim"
   ]
  },
  {
   "cell_type": "code",
   "execution_count": null,
   "metadata": {},
   "outputs": [],
   "source": [
    "df_analise['ate'] = df_analise['prediction_actual'] - df_analise['prediction_sim']"
   ]
  },
  {
   "cell_type": "code",
   "execution_count": null,
   "metadata": {},
   "outputs": [],
   "source": [
    "plt.figure(figsize=(10,10))\n",
    "sns.histplot(data = df_analise, x = 'ate', color = \"black\")"
   ]
  },
  {
   "cell_type": "code",
   "execution_count": null,
   "metadata": {},
   "outputs": [],
   "source": [
    "df_analise['ate'].describe()"
   ]
  },
  {
   "cell_type": "code",
   "execution_count": null,
   "metadata": {},
   "outputs": [],
   "source": [
    "#import funcionalidade as fc\n",
    "\n",
    "#df_analise['cont'] = 1"
   ]
  },
  {
   "cell_type": "code",
   "execution_count": null,
   "metadata": {},
   "outputs": [],
   "source": [
    "\"\"\" def discretiza(df, drop_col):\n",
    "    num_columns = df.drop(drop_col, axis = 1).select_dtypes(exclude=['object']).columns\n",
    "    stats = df.drop(drop_col, axis=1).describe()\n",
    "    for i in num_columns:\n",
    "        p75 = stats.iloc[6][i]\n",
    "        p25 = stats.iloc[4][i]\n",
    "        p50 = stats.iloc[5][i]\n",
    "        \n",
    "        df['aux'] = np.where((df[i] <= p25), \"A - \" + i,\n",
    "                    np.where((df[i] > p25) & (df[i] <= p50), \"B - \" + i,\n",
    "                    np.where((df[i] > p50) & (df[i] <= p75), \"C - \" + i, \"D - \" + i)))\n",
    "  \n",
    "        df = df.rename(columns = {'aux':i+\"_fx\"})\n",
    "\n",
    "    return df \"\"\""
   ]
  }
 ],
 "metadata": {
  "kernelspec": {
   "display_name": "Python 3",
   "language": "python",
   "name": "python3"
  },
  "language_info": {
   "codemirror_mode": {
    "name": "ipython",
    "version": 3
   },
   "file_extension": ".py",
   "mimetype": "text/x-python",
   "name": "python",
   "nbconvert_exporter": "python",
   "pygments_lexer": "ipython3",
   "version": "3.8.10"
  },
  "orig_nbformat": 4
 },
 "nbformat": 4,
 "nbformat_minor": 2
}
