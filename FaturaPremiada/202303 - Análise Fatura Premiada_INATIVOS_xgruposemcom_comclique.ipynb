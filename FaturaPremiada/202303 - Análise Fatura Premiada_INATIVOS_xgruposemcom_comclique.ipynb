{
 "cells": [
  {
   "cell_type": "code",
   "execution_count": 1,
   "metadata": {},
   "outputs": [],
   "source": [
    "import pandas as pd\n",
    "import numpy as np\n",
    "import os as os\n",
    "import pickle\n",
    "import seaborn as sns\n",
    "import matplotlib.pyplot as plt\n",
    "import datetime\n",
    "import funcionalidade as fc"
   ]
  },
  {
   "cell_type": "code",
   "execution_count": 2,
   "metadata": {},
   "outputs": [],
   "source": [
    "inativos = pd.read_pickle('inativos_fatura_premiada.pkl')"
   ]
  },
  {
   "cell_type": "code",
   "execution_count": 3,
   "metadata": {},
   "outputs": [],
   "source": [
    "cliques = pd.read_csv('export_retornos_infobip_fatura_turbinada.csv', usecols = ['to','send_at','opens','clicks'], parse_dates=['send_at'])"
   ]
  },
  {
   "cell_type": "code",
   "execution_count": 4,
   "metadata": {},
   "outputs": [
    {
     "data": {
      "text/html": [
       "<div>\n",
       "<style scoped>\n",
       "    .dataframe tbody tr th:only-of-type {\n",
       "        vertical-align: middle;\n",
       "    }\n",
       "\n",
       "    .dataframe tbody tr th {\n",
       "        vertical-align: top;\n",
       "    }\n",
       "\n",
       "    .dataframe thead th {\n",
       "        text-align: right;\n",
       "    }\n",
       "</style>\n",
       "<table border=\"1\" class=\"dataframe\">\n",
       "  <thead>\n",
       "    <tr style=\"text-align: right;\">\n",
       "      <th></th>\n",
       "      <th>to</th>\n",
       "      <th>send_at</th>\n",
       "      <th>opens</th>\n",
       "      <th>clicks</th>\n",
       "    </tr>\n",
       "  </thead>\n",
       "  <tbody>\n",
       "    <tr>\n",
       "      <th>0</th>\n",
       "      <td>leandrobarbosaa528@gmail.com</td>\n",
       "      <td>2023-03-23 10:45:54</td>\n",
       "      <td>NaN</td>\n",
       "      <td>NaN</td>\n",
       "    </tr>\n",
       "    <tr>\n",
       "      <th>1</th>\n",
       "      <td>gabriellareis.comercial@gmail.com</td>\n",
       "      <td>2023-03-23 10:45:22</td>\n",
       "      <td>NaN</td>\n",
       "      <td>NaN</td>\n",
       "    </tr>\n",
       "    <tr>\n",
       "      <th>2</th>\n",
       "      <td>hian.100@hotmail.com</td>\n",
       "      <td>2023-03-23 10:45:42</td>\n",
       "      <td>NaN</td>\n",
       "      <td>NaN</td>\n",
       "    </tr>\n",
       "    <tr>\n",
       "      <th>3</th>\n",
       "      <td>samag967@gmail.com</td>\n",
       "      <td>2023-03-17 12:38:38</td>\n",
       "      <td>NaN</td>\n",
       "      <td>NaN</td>\n",
       "    </tr>\n",
       "    <tr>\n",
       "      <th>4</th>\n",
       "      <td>jefersomnunes39@gmail.com</td>\n",
       "      <td>2023-03-23 10:50:40</td>\n",
       "      <td>NaN</td>\n",
       "      <td>NaN</td>\n",
       "    </tr>\n",
       "  </tbody>\n",
       "</table>\n",
       "</div>"
      ],
      "text/plain": [
       "                                  to             send_at  opens  clicks\n",
       "0       leandrobarbosaa528@gmail.com 2023-03-23 10:45:54    NaN     NaN\n",
       "1  gabriellareis.comercial@gmail.com 2023-03-23 10:45:22    NaN     NaN\n",
       "2               hian.100@hotmail.com 2023-03-23 10:45:42    NaN     NaN\n",
       "3                 samag967@gmail.com 2023-03-17 12:38:38    NaN     NaN\n",
       "4          jefersomnunes39@gmail.com 2023-03-23 10:50:40    NaN     NaN"
      ]
     },
     "execution_count": 4,
     "metadata": {},
     "output_type": "execute_result"
    }
   ],
   "source": [
    "cliques.head()"
   ]
  },
  {
   "cell_type": "code",
   "execution_count": 5,
   "metadata": {},
   "outputs": [
    {
     "data": {
      "text/plain": [
       "5391143"
      ]
     },
     "execution_count": 5,
     "metadata": {},
     "output_type": "execute_result"
    }
   ],
   "source": [
    "len(cliques)"
   ]
  },
  {
   "cell_type": "code",
   "execution_count": 6,
   "metadata": {},
   "outputs": [
    {
     "data": {
      "text/plain": [
       "1024282.0"
      ]
     },
     "execution_count": 6,
     "metadata": {},
     "output_type": "execute_result"
    }
   ],
   "source": [
    "cliques['opens'].sum()"
   ]
  },
  {
   "cell_type": "code",
   "execution_count": 7,
   "metadata": {},
   "outputs": [
    {
     "data": {
      "text/plain": [
       "80135.0"
      ]
     },
     "execution_count": 7,
     "metadata": {},
     "output_type": "execute_result"
    }
   ],
   "source": [
    "cliques['clicks'].sum()"
   ]
  },
  {
   "cell_type": "code",
   "execution_count": 8,
   "metadata": {},
   "outputs": [],
   "source": [
    "cliques['opens'] = cliques['opens'].fillna(0.0)\n",
    "cliques['clicks'] = cliques['clicks'].fillna(0.0)"
   ]
  },
  {
   "cell_type": "code",
   "execution_count": 9,
   "metadata": {},
   "outputs": [
    {
     "data": {
      "text/html": [
       "<div>\n",
       "<style scoped>\n",
       "    .dataframe tbody tr th:only-of-type {\n",
       "        vertical-align: middle;\n",
       "    }\n",
       "\n",
       "    .dataframe tbody tr th {\n",
       "        vertical-align: top;\n",
       "    }\n",
       "\n",
       "    .dataframe thead th {\n",
       "        text-align: right;\n",
       "    }\n",
       "</style>\n",
       "<table border=\"1\" class=\"dataframe\">\n",
       "  <thead>\n",
       "    <tr style=\"text-align: right;\">\n",
       "      <th></th>\n",
       "      <th>to</th>\n",
       "      <th>max</th>\n",
       "      <th>max</th>\n",
       "      <th>min</th>\n",
       "      <th>max</th>\n",
       "    </tr>\n",
       "  </thead>\n",
       "  <tbody>\n",
       "    <tr>\n",
       "      <th>0</th>\n",
       "      <td>0.9martinsmariana@gmail.com</td>\n",
       "      <td>1.0</td>\n",
       "      <td>0.0</td>\n",
       "      <td>2023-03-17 13:02:41</td>\n",
       "      <td>2023-03-30 14:24:44</td>\n",
       "    </tr>\n",
       "    <tr>\n",
       "      <th>1</th>\n",
       "      <td>0.9pollyane9798@gmail.com</td>\n",
       "      <td>0.0</td>\n",
       "      <td>0.0</td>\n",
       "      <td>2023-03-17 12:53:47</td>\n",
       "      <td>2023-03-30 14:21:39</td>\n",
       "    </tr>\n",
       "    <tr>\n",
       "      <th>2</th>\n",
       "      <td>0.notbook.0@gmail.com</td>\n",
       "      <td>1.0</td>\n",
       "      <td>0.0</td>\n",
       "      <td>2023-03-17 13:02:51</td>\n",
       "      <td>2023-03-30 14:24:48</td>\n",
       "    </tr>\n",
       "    <tr>\n",
       "      <th>3</th>\n",
       "      <td>00.willian@gmail.com</td>\n",
       "      <td>0.0</td>\n",
       "      <td>0.0</td>\n",
       "      <td>2023-03-17 12:53:37</td>\n",
       "      <td>2023-03-30 14:21:26</td>\n",
       "    </tr>\n",
       "    <tr>\n",
       "      <th>4</th>\n",
       "      <td>000.azmildo@gmail.com</td>\n",
       "      <td>0.0</td>\n",
       "      <td>0.0</td>\n",
       "      <td>2023-03-17 13:02:55</td>\n",
       "      <td>2023-03-30 14:24:40</td>\n",
       "    </tr>\n",
       "  </tbody>\n",
       "</table>\n",
       "</div>"
      ],
      "text/plain": [
       "                            to  max  max                 min  \\\n",
       "0  0.9martinsmariana@gmail.com  1.0  0.0 2023-03-17 13:02:41   \n",
       "1    0.9pollyane9798@gmail.com  0.0  0.0 2023-03-17 12:53:47   \n",
       "2        0.notbook.0@gmail.com  1.0  0.0 2023-03-17 13:02:51   \n",
       "3         00.willian@gmail.com  0.0  0.0 2023-03-17 12:53:37   \n",
       "4        000.azmildo@gmail.com  0.0  0.0 2023-03-17 13:02:55   \n",
       "\n",
       "                  max  \n",
       "0 2023-03-30 14:24:44  \n",
       "1 2023-03-30 14:21:39  \n",
       "2 2023-03-30 14:24:48  \n",
       "3 2023-03-30 14:21:26  \n",
       "4 2023-03-30 14:24:40  "
      ]
     },
     "execution_count": 9,
     "metadata": {},
     "output_type": "execute_result"
    }
   ],
   "source": [
    "cliques = cliques.groupby('to').agg({'opens':['max'],'clicks':['max'],'send_at':['min', 'max'] })\n",
    "cliques.columns = cliques.columns.droplevel(0)\n",
    "cliques = cliques.reset_index()\n",
    "cliques.head()"
   ]
  },
  {
   "cell_type": "code",
   "execution_count": 10,
   "metadata": {},
   "outputs": [
    {
     "data": {
      "text/html": [
       "<div>\n",
       "<style scoped>\n",
       "    .dataframe tbody tr th:only-of-type {\n",
       "        vertical-align: middle;\n",
       "    }\n",
       "\n",
       "    .dataframe tbody tr th {\n",
       "        vertical-align: top;\n",
       "    }\n",
       "\n",
       "    .dataframe thead th {\n",
       "        text-align: right;\n",
       "    }\n",
       "</style>\n",
       "<table border=\"1\" class=\"dataframe\">\n",
       "  <thead>\n",
       "    <tr style=\"text-align: right;\">\n",
       "      <th></th>\n",
       "      <th>to</th>\n",
       "      <th>opens</th>\n",
       "      <th>clicks</th>\n",
       "      <th>send_at_min</th>\n",
       "      <th>send_at_max</th>\n",
       "    </tr>\n",
       "  </thead>\n",
       "  <tbody>\n",
       "    <tr>\n",
       "      <th>0</th>\n",
       "      <td>0.9martinsmariana@gmail.com</td>\n",
       "      <td>1.0</td>\n",
       "      <td>0.0</td>\n",
       "      <td>2023-03-17 13:02:41</td>\n",
       "      <td>2023-03-30 14:24:44</td>\n",
       "    </tr>\n",
       "    <tr>\n",
       "      <th>1</th>\n",
       "      <td>0.9pollyane9798@gmail.com</td>\n",
       "      <td>0.0</td>\n",
       "      <td>0.0</td>\n",
       "      <td>2023-03-17 12:53:47</td>\n",
       "      <td>2023-03-30 14:21:39</td>\n",
       "    </tr>\n",
       "    <tr>\n",
       "      <th>2</th>\n",
       "      <td>0.notbook.0@gmail.com</td>\n",
       "      <td>1.0</td>\n",
       "      <td>0.0</td>\n",
       "      <td>2023-03-17 13:02:51</td>\n",
       "      <td>2023-03-30 14:24:48</td>\n",
       "    </tr>\n",
       "    <tr>\n",
       "      <th>3</th>\n",
       "      <td>00.willian@gmail.com</td>\n",
       "      <td>0.0</td>\n",
       "      <td>0.0</td>\n",
       "      <td>2023-03-17 12:53:37</td>\n",
       "      <td>2023-03-30 14:21:26</td>\n",
       "    </tr>\n",
       "    <tr>\n",
       "      <th>4</th>\n",
       "      <td>000.azmildo@gmail.com</td>\n",
       "      <td>0.0</td>\n",
       "      <td>0.0</td>\n",
       "      <td>2023-03-17 13:02:55</td>\n",
       "      <td>2023-03-30 14:24:40</td>\n",
       "    </tr>\n",
       "  </tbody>\n",
       "</table>\n",
       "</div>"
      ],
      "text/plain": [
       "                            to  opens  clicks         send_at_min  \\\n",
       "0  0.9martinsmariana@gmail.com    1.0     0.0 2023-03-17 13:02:41   \n",
       "1    0.9pollyane9798@gmail.com    0.0     0.0 2023-03-17 12:53:47   \n",
       "2        0.notbook.0@gmail.com    1.0     0.0 2023-03-17 13:02:51   \n",
       "3         00.willian@gmail.com    0.0     0.0 2023-03-17 12:53:37   \n",
       "4        000.azmildo@gmail.com    0.0     0.0 2023-03-17 13:02:55   \n",
       "\n",
       "          send_at_max  \n",
       "0 2023-03-30 14:24:44  \n",
       "1 2023-03-30 14:21:39  \n",
       "2 2023-03-30 14:24:48  \n",
       "3 2023-03-30 14:21:26  \n",
       "4 2023-03-30 14:24:40  "
      ]
     },
     "execution_count": 10,
     "metadata": {},
     "output_type": "execute_result"
    }
   ],
   "source": [
    "cliques.columns = ['to', 'opens', 'clicks', 'send_at_min', 'send_at_max']\n",
    "cliques.head()"
   ]
  },
  {
   "cell_type": "code",
   "execution_count": 11,
   "metadata": {},
   "outputs": [],
   "source": [
    "#inativos.to_csv('inativos_fatura_premiada.csv')"
   ]
  },
  {
   "cell_type": "code",
   "execution_count": 12,
   "metadata": {},
   "outputs": [
    {
     "data": {
      "text/plain": [
       "Comunicação MCC         732744\n",
       "Comunicação Genérica     95054\n",
       "Sem comunicação          88540\n",
       "Name: grupo_comunicacao, dtype: int64"
      ]
     },
     "execution_count": 12,
     "metadata": {},
     "output_type": "execute_result"
    }
   ],
   "source": [
    "inativos['grupo_comunicacao'].value_counts()"
   ]
  },
  {
   "cell_type": "code",
   "execution_count": 13,
   "metadata": {},
   "outputs": [
    {
     "data": {
      "text/plain": [
       "Comunicação MCC         732744\n",
       "Comunicação Genérica     95054\n",
       "Sem comunicação          88540\n",
       "Name: grupo_comunicacao, dtype: int64"
      ]
     },
     "execution_count": 13,
     "metadata": {},
     "output_type": "execute_result"
    }
   ],
   "source": [
    "inativos['grupo_comunicacao'].value_counts()"
   ]
  },
  {
   "attachments": {},
   "cell_type": "markdown",
   "metadata": {},
   "source": [
    "### Trazendo conversão"
   ]
  },
  {
   "cell_type": "code",
   "execution_count": 14,
   "metadata": {},
   "outputs": [],
   "source": [
    "inativos_v1_c = fc.traz_conversao('flavia-costa', '2023-03-17', '2023-03-24', 'cpf', inativos)"
   ]
  },
  {
   "cell_type": "code",
   "execution_count": 15,
   "metadata": {},
   "outputs": [
    {
     "data": {
      "text/plain": [
       "916338"
      ]
     },
     "execution_count": 15,
     "metadata": {},
     "output_type": "execute_result"
    }
   ],
   "source": [
    "len(inativos_v1_c)"
   ]
  },
  {
   "cell_type": "code",
   "execution_count": 16,
   "metadata": {},
   "outputs": [
    {
     "data": {
      "text/plain": [
       "0.0    854320\n",
       "1.0     62018\n",
       "Name: converteu, dtype: int64"
      ]
     },
     "execution_count": 16,
     "metadata": {},
     "output_type": "execute_result"
    }
   ],
   "source": [
    "inativos_v1_c['converteu'].value_counts()"
   ]
  },
  {
   "attachments": {},
   "cell_type": "markdown",
   "metadata": {},
   "source": [
    "### Traz personas"
   ]
  },
  {
   "cell_type": "code",
   "execution_count": 17,
   "metadata": {},
   "outputs": [],
   "source": [
    "import acessos as ac"
   ]
  },
  {
   "cell_type": "code",
   "execution_count": 18,
   "metadata": {},
   "outputs": [],
   "source": [
    "personas = ac.df_athena_q('flavia-costa', \n",
    "                          \"\"\"    select *, \n",
    "                              date_diff('day', cast(ultima_data as date), to_date('2023-03-17', 'yyyy-mm-dd')) as recencia\n",
    "                              from (\n",
    "                              select ci.cpf\n",
    "                              , max(ds_cluster_sociodemographic) as ds_cluster_sociodemographic\n",
    "                              , max(email) as to\n",
    "                              , max(sp.dt_dia) as ultima_data\n",
    "                              from customer_curated_zone.ca_book_cliente_cluster cl\n",
    "                              left join customer_curated_zone.ca_book_cliente ci on (ci.id_customer = cl.id_customer)\n",
    "                              left join growth_curated_zone.clientes gc on (gc.cpf = ci.cpf)\n",
    "                              left join platform_curated_zone.transaction_dedicada_spending sp on (sp.cpf = ci.cpf and sp.dt_data < to_date('2023-03-17','yyyy-mm-dd'))\n",
    "                              group by 1   )                           \n",
    "                                \"\"\")\n",
    "\n",
    "inativos_v1_p1 = inativos_v1_c.join(personas.set_index('cpf'), how = 'left', on = 'cpf')"
   ]
  },
  {
   "cell_type": "code",
   "execution_count": 19,
   "metadata": {},
   "outputs": [],
   "source": [
    "inativos_v1_p = inativos_v1_p1.join(cliques.set_index('to'), how = 'left', on = 'to')"
   ]
  },
  {
   "cell_type": "code",
   "execution_count": 20,
   "metadata": {},
   "outputs": [],
   "source": [
    "inativos_v1_p['recencia'].fillna(inativos_v1_p['recencia'].max(), inplace = True)\n",
    "inativos_v1_p['ds_cluster_sociodemographic'].fillna(inativos_v1_p['ds_cluster_sociodemographic'].mode()[0], inplace = True)"
   ]
  },
  {
   "cell_type": "code",
   "execution_count": 21,
   "metadata": {},
   "outputs": [],
   "source": [
    "limite_disp = ac.df_athena_q('flavia-costa', \n",
    "                          \"\"\"with base_limite_diaria as (\n",
    "                                    select\n",
    "                                    dt_data\n",
    "                                    , cpf\n",
    "                                    , limite\n",
    "                                    , (limite - utilizado) as limite_disponivel\n",
    "                                    , iu\n",
    "                                    from credit_curated_zone.credit_iu_will\n",
    "                                    where dt_data < to_date('2023-03-17','yyyy-mm-dd')\n",
    "                                    union all\n",
    "                                    select\n",
    "                                    dt_movimentacao as dt_data \n",
    "                                    , cpf \n",
    "                                    , limite\n",
    "                                    , limite_disponivel\n",
    "                                    , iu\n",
    "                                    from credit_curated_zone.credit_iu_pag\n",
    "                                    where dt_movimentacao < to_date('2023-03-17','yyyy-mm-dd')\n",
    "                                    )\n",
    "                                    , base_lim_rankeada as (\n",
    "                                    select *\n",
    "                                    , row_number() over (partition by cpf order by cpf asc, dt_data desc, iu desc) as linha\n",
    "                                    from base_limite_diaria\n",
    "                                    )\n",
    "                                    select \n",
    "                                    cpf\n",
    "                                    , max(limite) as limite\n",
    "                                    , min(limite_disponivel) as limite_disponivel\n",
    "                                    , max(iu) as iu\n",
    "                                    from base_lim_rankeada\n",
    "                                    where linha = 1\n",
    "                                    group by 1 \"\"\")\n",
    "\n",
    "inativos_v1_p = inativos_v1_p.join(limite_disp.set_index('cpf'), how = 'left', on = 'cpf')"
   ]
  },
  {
   "cell_type": "code",
   "execution_count": 22,
   "metadata": {},
   "outputs": [],
   "source": [
    "inativos_v1_p['opens'] = inativos_v1_p['opens'].fillna(0.0)\n",
    "inativos_v1_p['clicks'] = inativos_v1_p['clicks'].fillna(0.0)\n",
    "inativos_v1_p = inativos_v1_p.replace([np.inf, -np.inf], 0)"
   ]
  },
  {
   "attachments": {},
   "cell_type": "markdown",
   "metadata": {},
   "source": [
    "### Análises de Lift"
   ]
  },
  {
   "cell_type": "code",
   "execution_count": 23,
   "metadata": {},
   "outputs": [],
   "source": [
    "inativos_v1_p.to_pickle('inativos_v2_conversao.pkl')"
   ]
  },
  {
   "cell_type": "code",
   "execution_count": 24,
   "metadata": {},
   "outputs": [],
   "source": [
    "inativos_v1_p = pd.read_pickle('inativos_v2_conversao.pkl')"
   ]
  },
  {
   "cell_type": "code",
   "execution_count": 25,
   "metadata": {},
   "outputs": [
    {
     "data": {
      "text/html": [
       "<div>\n",
       "<style scoped>\n",
       "    .dataframe tbody tr th:only-of-type {\n",
       "        vertical-align: middle;\n",
       "    }\n",
       "\n",
       "    .dataframe tbody tr th {\n",
       "        vertical-align: top;\n",
       "    }\n",
       "\n",
       "    .dataframe thead th {\n",
       "        text-align: right;\n",
       "    }\n",
       "</style>\n",
       "<table border=\"1\" class=\"dataframe\">\n",
       "  <thead>\n",
       "    <tr style=\"text-align: right;\">\n",
       "      <th></th>\n",
       "      <th>cpf</th>\n",
       "      <th>grupo_comunicacao</th>\n",
       "      <th>segmento_mcc_agg</th>\n",
       "      <th>nr_score_ie</th>\n",
       "      <th>yearmonth_ie</th>\n",
       "      <th>status</th>\n",
       "      <th>safra</th>\n",
       "      <th>conta_cartao</th>\n",
       "      <th>converteu</th>\n",
       "      <th>transacoes</th>\n",
       "      <th>...</th>\n",
       "      <th>to</th>\n",
       "      <th>ultima_data</th>\n",
       "      <th>recencia</th>\n",
       "      <th>opens</th>\n",
       "      <th>clicks</th>\n",
       "      <th>send_at_min</th>\n",
       "      <th>send_at_max</th>\n",
       "      <th>limite</th>\n",
       "      <th>limite_disponivel</th>\n",
       "      <th>iu</th>\n",
       "    </tr>\n",
       "  </thead>\n",
       "  <tbody>\n",
       "    <tr>\n",
       "      <th>0</th>\n",
       "      <td>13364903735</td>\n",
       "      <td>Comunicação Genérica</td>\n",
       "      <td>1 - SUPERMERCADO</td>\n",
       "      <td>NaN</td>\n",
       "      <td>202302.0</td>\n",
       "      <td>Inativo</td>\n",
       "      <td>2021-03-01</td>\n",
       "      <td>NaN</td>\n",
       "      <td>0.0</td>\n",
       "      <td>NaN</td>\n",
       "      <td>...</td>\n",
       "      <td>alexgaigherdepaula@hotmail.com</td>\n",
       "      <td>2023-02-08</td>\n",
       "      <td>37.0</td>\n",
       "      <td>0.0</td>\n",
       "      <td>0.0</td>\n",
       "      <td>NaT</td>\n",
       "      <td>NaT</td>\n",
       "      <td>540.0</td>\n",
       "      <td>348.50</td>\n",
       "      <td>0.35</td>\n",
       "    </tr>\n",
       "    <tr>\n",
       "      <th>1</th>\n",
       "      <td>60598266364</td>\n",
       "      <td>Comunicação Genérica</td>\n",
       "      <td>1 - SUPERMERCADO</td>\n",
       "      <td>NaN</td>\n",
       "      <td>202302.0</td>\n",
       "      <td>Inativo</td>\n",
       "      <td>2021-03-01</td>\n",
       "      <td>49560640.0</td>\n",
       "      <td>1.0</td>\n",
       "      <td>4.0</td>\n",
       "      <td>...</td>\n",
       "      <td>vanusiapereira313@gmail.com</td>\n",
       "      <td>2023-03-08</td>\n",
       "      <td>9.0</td>\n",
       "      <td>0.0</td>\n",
       "      <td>0.0</td>\n",
       "      <td>NaT</td>\n",
       "      <td>NaT</td>\n",
       "      <td>2400.0</td>\n",
       "      <td>1599.82</td>\n",
       "      <td>0.33</td>\n",
       "    </tr>\n",
       "    <tr>\n",
       "      <th>2</th>\n",
       "      <td>86127770548</td>\n",
       "      <td>Comunicação Genérica</td>\n",
       "      <td>1 - SUPERMERCADO</td>\n",
       "      <td>8.426771</td>\n",
       "      <td>202302.0</td>\n",
       "      <td>Inativo</td>\n",
       "      <td>2019-04-01</td>\n",
       "      <td>NaN</td>\n",
       "      <td>0.0</td>\n",
       "      <td>NaN</td>\n",
       "      <td>...</td>\n",
       "      <td>alissonpcm38@gmail.com</td>\n",
       "      <td>2022-09-29</td>\n",
       "      <td>169.0</td>\n",
       "      <td>0.0</td>\n",
       "      <td>0.0</td>\n",
       "      <td>NaT</td>\n",
       "      <td>NaT</td>\n",
       "      <td>1200.0</td>\n",
       "      <td>1198.94</td>\n",
       "      <td>0.00</td>\n",
       "    </tr>\n",
       "    <tr>\n",
       "      <th>3</th>\n",
       "      <td>36464411861</td>\n",
       "      <td>Comunicação Genérica</td>\n",
       "      <td>1 - SUPERMERCADO</td>\n",
       "      <td>NaN</td>\n",
       "      <td>202302.0</td>\n",
       "      <td>Inativo</td>\n",
       "      <td>2021-04-01</td>\n",
       "      <td>50217070.0</td>\n",
       "      <td>1.0</td>\n",
       "      <td>2.0</td>\n",
       "      <td>...</td>\n",
       "      <td>ygoralves521@gmail.com</td>\n",
       "      <td>2023-03-04</td>\n",
       "      <td>13.0</td>\n",
       "      <td>0.0</td>\n",
       "      <td>0.0</td>\n",
       "      <td>NaT</td>\n",
       "      <td>NaT</td>\n",
       "      <td>900.0</td>\n",
       "      <td>241.32</td>\n",
       "      <td>0.73</td>\n",
       "    </tr>\n",
       "    <tr>\n",
       "      <th>4</th>\n",
       "      <td>07862470370</td>\n",
       "      <td>Comunicação Genérica</td>\n",
       "      <td>1 - SUPERMERCADO</td>\n",
       "      <td>77.535854</td>\n",
       "      <td>202302.0</td>\n",
       "      <td>Inativo</td>\n",
       "      <td>2021-10-01</td>\n",
       "      <td>52711980.0</td>\n",
       "      <td>1.0</td>\n",
       "      <td>1.0</td>\n",
       "      <td>...</td>\n",
       "      <td>douglasholandadoglas867@gmail.com</td>\n",
       "      <td>2022-10-02</td>\n",
       "      <td>166.0</td>\n",
       "      <td>0.0</td>\n",
       "      <td>0.0</td>\n",
       "      <td>NaT</td>\n",
       "      <td>NaT</td>\n",
       "      <td>800.0</td>\n",
       "      <td>-52.11</td>\n",
       "      <td>1.07</td>\n",
       "    </tr>\n",
       "  </tbody>\n",
       "</table>\n",
       "<p>5 rows × 24 columns</p>\n",
       "</div>"
      ],
      "text/plain": [
       "           cpf     grupo_comunicacao  segmento_mcc_agg  nr_score_ie  \\\n",
       "0  13364903735  Comunicação Genérica  1 - SUPERMERCADO          NaN   \n",
       "1  60598266364  Comunicação Genérica  1 - SUPERMERCADO          NaN   \n",
       "2  86127770548  Comunicação Genérica  1 - SUPERMERCADO     8.426771   \n",
       "3  36464411861  Comunicação Genérica  1 - SUPERMERCADO          NaN   \n",
       "4  07862470370  Comunicação Genérica  1 - SUPERMERCADO    77.535854   \n",
       "\n",
       "   yearmonth_ie   status       safra  conta_cartao  converteu  transacoes  \\\n",
       "0      202302.0  Inativo  2021-03-01           NaN        0.0         NaN   \n",
       "1      202302.0  Inativo  2021-03-01    49560640.0        1.0         4.0   \n",
       "2      202302.0  Inativo  2019-04-01           NaN        0.0         NaN   \n",
       "3      202302.0  Inativo  2021-04-01    50217070.0        1.0         2.0   \n",
       "4      202302.0  Inativo  2021-10-01    52711980.0        1.0         1.0   \n",
       "\n",
       "   ...                                 to  ultima_data  recencia opens clicks  \\\n",
       "0  ...     alexgaigherdepaula@hotmail.com   2023-02-08      37.0   0.0    0.0   \n",
       "1  ...        vanusiapereira313@gmail.com   2023-03-08       9.0   0.0    0.0   \n",
       "2  ...             alissonpcm38@gmail.com   2022-09-29     169.0   0.0    0.0   \n",
       "3  ...             ygoralves521@gmail.com   2023-03-04      13.0   0.0    0.0   \n",
       "4  ...  douglasholandadoglas867@gmail.com   2022-10-02     166.0   0.0    0.0   \n",
       "\n",
       "  send_at_min  send_at_max  limite  limite_disponivel    iu  \n",
       "0         NaT          NaT   540.0             348.50  0.35  \n",
       "1         NaT          NaT  2400.0            1599.82  0.33  \n",
       "2         NaT          NaT  1200.0            1198.94  0.00  \n",
       "3         NaT          NaT   900.0             241.32  0.73  \n",
       "4         NaT          NaT   800.0             -52.11  1.07  \n",
       "\n",
       "[5 rows x 24 columns]"
      ]
     },
     "execution_count": 25,
     "metadata": {},
     "output_type": "execute_result"
    }
   ],
   "source": [
    "inativos_v1_p.head()"
   ]
  },
  {
   "attachments": {},
   "cell_type": "markdown",
   "metadata": {},
   "source": [
    "Análise reduzida geral"
   ]
  },
  {
   "cell_type": "code",
   "execution_count": 27,
   "metadata": {},
   "outputs": [
    {
     "data": {
      "text/plain": [
       "Index(['cpf', 'grupo_comunicacao', 'segmento_mcc_agg', 'nr_score_ie',\n",
       "       'yearmonth_ie', 'status', 'safra', 'conta_cartao', 'converteu',\n",
       "       'transacoes', 'spending', 'spending_corr', 'transacoes_corr', 'to',\n",
       "       'ds_cluster_sociodemographic', 'opens', 'clicks', 'send_at_min',\n",
       "       'send_at_max', 'limite', 'limite_disponivel', 'iu'],\n",
       "      dtype='object')"
      ]
     },
     "execution_count": 27,
     "metadata": {},
     "output_type": "execute_result"
    }
   ],
   "source": [
    "inativos_v1_p.columns"
   ]
  },
  {
   "cell_type": "code",
   "execution_count": 26,
   "metadata": {},
   "outputs": [],
   "source": [
    "inativos_v1_p['flag_opens'] = np.where(inativos_v1_p['opens'] >= 1, 1, 0)\n",
    "inativos_v1_p['cluster_persona'] = inativos_v1_p['ds_cluster_sociodemographic'].str[0:2]"
   ]
  },
  {
   "cell_type": "code",
   "execution_count": 27,
   "metadata": {},
   "outputs": [],
   "source": [
    "inativos_v1_p['grupo'] = ['controle' if x == 'Sem comunicação' else 'alvo' for x in inativos_v1_p['grupo_comunicacao']]"
   ]
  },
  {
   "cell_type": "code",
   "execution_count": 31,
   "metadata": {},
   "outputs": [
    {
     "data": {
      "text/html": [
       "<div>\n",
       "<style scoped>\n",
       "    .dataframe tbody tr th:only-of-type {\n",
       "        vertical-align: middle;\n",
       "    }\n",
       "\n",
       "    .dataframe tbody tr th {\n",
       "        vertical-align: top;\n",
       "    }\n",
       "\n",
       "    .dataframe thead th {\n",
       "        text-align: right;\n",
       "    }\n",
       "</style>\n",
       "<table border=\"1\" class=\"dataframe\">\n",
       "  <thead>\n",
       "    <tr style=\"text-align: right;\">\n",
       "      <th></th>\n",
       "      <th></th>\n",
       "      <th>converteu</th>\n",
       "    </tr>\n",
       "    <tr>\n",
       "      <th>grupo</th>\n",
       "      <th>flag_opens</th>\n",
       "      <th></th>\n",
       "    </tr>\n",
       "  </thead>\n",
       "  <tbody>\n",
       "    <tr>\n",
       "      <th rowspan=\"2\" valign=\"top\">alvo</th>\n",
       "      <th>0</th>\n",
       "      <td>0.066919</td>\n",
       "    </tr>\n",
       "    <tr>\n",
       "      <th>1</th>\n",
       "      <td>0.145692</td>\n",
       "    </tr>\n",
       "    <tr>\n",
       "      <th rowspan=\"2\" valign=\"top\">controle</th>\n",
       "      <th>0</th>\n",
       "      <td>0.069905</td>\n",
       "    </tr>\n",
       "    <tr>\n",
       "      <th>1</th>\n",
       "      <td>0.120879</td>\n",
       "    </tr>\n",
       "  </tbody>\n",
       "</table>\n",
       "</div>"
      ],
      "text/plain": [
       "                     converteu\n",
       "grupo    flag_opens           \n",
       "alvo     0            0.066919\n",
       "         1            0.145692\n",
       "controle 0            0.069905\n",
       "         1            0.120879"
      ]
     },
     "execution_count": 31,
     "metadata": {},
     "output_type": "execute_result"
    }
   ],
   "source": [
    "inativos_v1_p[['converteu','grupo', 'flag_opens']].groupby(['grupo', 'flag_opens']).mean()"
   ]
  },
  {
   "cell_type": "code",
   "execution_count": 32,
   "metadata": {},
   "outputs": [
    {
     "data": {
      "text/html": [
       "<div>\n",
       "<style scoped>\n",
       "    .dataframe tbody tr th:only-of-type {\n",
       "        vertical-align: middle;\n",
       "    }\n",
       "\n",
       "    .dataframe tbody tr th {\n",
       "        vertical-align: top;\n",
       "    }\n",
       "\n",
       "    .dataframe thead th {\n",
       "        text-align: right;\n",
       "    }\n",
       "</style>\n",
       "<table border=\"1\" class=\"dataframe\">\n",
       "  <thead>\n",
       "    <tr style=\"text-align: right;\">\n",
       "      <th></th>\n",
       "      <th>converteu</th>\n",
       "    </tr>\n",
       "    <tr>\n",
       "      <th>grupo</th>\n",
       "      <th></th>\n",
       "    </tr>\n",
       "  </thead>\n",
       "  <tbody>\n",
       "    <tr>\n",
       "      <th>alvo</th>\n",
       "      <td>0.067437</td>\n",
       "    </tr>\n",
       "    <tr>\n",
       "      <th>controle</th>\n",
       "      <td>0.069957</td>\n",
       "    </tr>\n",
       "  </tbody>\n",
       "</table>\n",
       "</div>"
      ],
      "text/plain": [
       "          converteu\n",
       "grupo              \n",
       "alvo       0.067437\n",
       "controle   0.069957"
      ]
     },
     "execution_count": 32,
     "metadata": {},
     "output_type": "execute_result"
    }
   ],
   "source": [
    "inativos_v1_p[['converteu','grupo']].groupby(['grupo']).mean()"
   ]
  },
  {
   "cell_type": "code",
   "execution_count": 55,
   "metadata": {},
   "outputs": [
    {
     "data": {
      "text/html": [
       "<div>\n",
       "<style scoped>\n",
       "    .dataframe tbody tr th:only-of-type {\n",
       "        vertical-align: middle;\n",
       "    }\n",
       "\n",
       "    .dataframe tbody tr th {\n",
       "        vertical-align: top;\n",
       "    }\n",
       "\n",
       "    .dataframe thead th {\n",
       "        text-align: right;\n",
       "    }\n",
       "</style>\n",
       "<table border=\"1\" class=\"dataframe\">\n",
       "  <thead>\n",
       "    <tr style=\"text-align: right;\">\n",
       "      <th></th>\n",
       "      <th>converteu</th>\n",
       "    </tr>\n",
       "    <tr>\n",
       "      <th>grupo</th>\n",
       "      <th></th>\n",
       "    </tr>\n",
       "  </thead>\n",
       "  <tbody>\n",
       "    <tr>\n",
       "      <th>alvo</th>\n",
       "      <td>827798</td>\n",
       "    </tr>\n",
       "    <tr>\n",
       "      <th>controle</th>\n",
       "      <td>88540</td>\n",
       "    </tr>\n",
       "  </tbody>\n",
       "</table>\n",
       "</div>"
      ],
      "text/plain": [
       "          converteu\n",
       "grupo              \n",
       "alvo         827798\n",
       "controle      88540"
      ]
     },
     "execution_count": 55,
     "metadata": {},
     "output_type": "execute_result"
    }
   ],
   "source": [
    "inativos_v1_p[['converteu','grupo']].groupby(['grupo']).count()"
   ]
  },
  {
   "cell_type": "code",
   "execution_count": 33,
   "metadata": {},
   "outputs": [
    {
     "data": {
      "text/html": [
       "<div>\n",
       "<style scoped>\n",
       "    .dataframe tbody tr th:only-of-type {\n",
       "        vertical-align: middle;\n",
       "    }\n",
       "\n",
       "    .dataframe tbody tr th {\n",
       "        vertical-align: top;\n",
       "    }\n",
       "\n",
       "    .dataframe thead th {\n",
       "        text-align: right;\n",
       "    }\n",
       "</style>\n",
       "<table border=\"1\" class=\"dataframe\">\n",
       "  <thead>\n",
       "    <tr style=\"text-align: right;\">\n",
       "      <th></th>\n",
       "      <th>converteu</th>\n",
       "    </tr>\n",
       "    <tr>\n",
       "      <th>grupo</th>\n",
       "      <th></th>\n",
       "    </tr>\n",
       "  </thead>\n",
       "  <tbody>\n",
       "    <tr>\n",
       "      <th>alvo</th>\n",
       "      <td>0.145692</td>\n",
       "    </tr>\n",
       "    <tr>\n",
       "      <th>controle</th>\n",
       "      <td>0.069957</td>\n",
       "    </tr>\n",
       "  </tbody>\n",
       "</table>\n",
       "</div>"
      ],
      "text/plain": [
       "          converteu\n",
       "grupo              \n",
       "alvo       0.145692\n",
       "controle   0.069957"
      ]
     },
     "execution_count": 33,
     "metadata": {},
     "output_type": "execute_result"
    }
   ],
   "source": [
    "inativos_v1_p.query('opens >= 1 | grupo == \"controle\"')[['converteu','grupo']].groupby(['grupo']).mean()"
   ]
  },
  {
   "cell_type": "code",
   "execution_count": 35,
   "metadata": {},
   "outputs": [
    {
     "data": {
      "text/html": [
       "<div>\n",
       "<style scoped>\n",
       "    .dataframe tbody tr th:only-of-type {\n",
       "        vertical-align: middle;\n",
       "    }\n",
       "\n",
       "    .dataframe tbody tr th {\n",
       "        vertical-align: top;\n",
       "    }\n",
       "\n",
       "    .dataframe thead th {\n",
       "        text-align: right;\n",
       "    }\n",
       "</style>\n",
       "<table border=\"1\" class=\"dataframe\">\n",
       "  <thead>\n",
       "    <tr style=\"text-align: right;\">\n",
       "      <th></th>\n",
       "      <th>converteu</th>\n",
       "    </tr>\n",
       "    <tr>\n",
       "      <th>grupo</th>\n",
       "      <th></th>\n",
       "    </tr>\n",
       "  </thead>\n",
       "  <tbody>\n",
       "    <tr>\n",
       "      <th>alvo</th>\n",
       "      <td>0.103578</td>\n",
       "    </tr>\n",
       "    <tr>\n",
       "      <th>controle</th>\n",
       "      <td>0.101956</td>\n",
       "    </tr>\n",
       "  </tbody>\n",
       "</table>\n",
       "</div>"
      ],
      "text/plain": [
       "          converteu\n",
       "grupo              \n",
       "alvo       0.103578\n",
       "controle   0.101956"
      ]
     },
     "execution_count": 35,
     "metadata": {},
     "output_type": "execute_result"
    }
   ],
   "source": [
    "inativos_v1_p \\\n",
    ".query('nr_score_ie >6.78') \\\n",
    "[['converteu','grupo']].groupby(['grupo']).mean()"
   ]
  },
  {
   "cell_type": "code",
   "execution_count": 45,
   "metadata": {},
   "outputs": [
    {
     "data": {
      "text/html": [
       "<div>\n",
       "<style scoped>\n",
       "    .dataframe tbody tr th:only-of-type {\n",
       "        vertical-align: middle;\n",
       "    }\n",
       "\n",
       "    .dataframe tbody tr th {\n",
       "        vertical-align: top;\n",
       "    }\n",
       "\n",
       "    .dataframe thead th {\n",
       "        text-align: right;\n",
       "    }\n",
       "</style>\n",
       "<table border=\"1\" class=\"dataframe\">\n",
       "  <thead>\n",
       "    <tr style=\"text-align: right;\">\n",
       "      <th></th>\n",
       "      <th>converteu</th>\n",
       "    </tr>\n",
       "    <tr>\n",
       "      <th>grupo</th>\n",
       "      <th></th>\n",
       "    </tr>\n",
       "  </thead>\n",
       "  <tbody>\n",
       "    <tr>\n",
       "      <th>alvo</th>\n",
       "      <td>0.096867</td>\n",
       "    </tr>\n",
       "    <tr>\n",
       "      <th>controle</th>\n",
       "      <td>0.093943</td>\n",
       "    </tr>\n",
       "  </tbody>\n",
       "</table>\n",
       "</div>"
      ],
      "text/plain": [
       "          converteu\n",
       "grupo              \n",
       "alvo       0.096867\n",
       "controle   0.093943"
      ]
     },
     "execution_count": 45,
     "metadata": {},
     "output_type": "execute_result"
    }
   ],
   "source": [
    "inativos_v1_p \\\n",
    ".query('nr_score_ie >6.78 & nr_score_ie <=27.15') \\\n",
    "[['converteu','grupo']].groupby(['grupo']).mean()"
   ]
  },
  {
   "cell_type": "code",
   "execution_count": 56,
   "metadata": {},
   "outputs": [
    {
     "data": {
      "text/html": [
       "<div>\n",
       "<style scoped>\n",
       "    .dataframe tbody tr th:only-of-type {\n",
       "        vertical-align: middle;\n",
       "    }\n",
       "\n",
       "    .dataframe tbody tr th {\n",
       "        vertical-align: top;\n",
       "    }\n",
       "\n",
       "    .dataframe thead th {\n",
       "        text-align: right;\n",
       "    }\n",
       "</style>\n",
       "<table border=\"1\" class=\"dataframe\">\n",
       "  <thead>\n",
       "    <tr style=\"text-align: right;\">\n",
       "      <th></th>\n",
       "      <th>converteu</th>\n",
       "    </tr>\n",
       "    <tr>\n",
       "      <th>grupo</th>\n",
       "      <th></th>\n",
       "    </tr>\n",
       "  </thead>\n",
       "  <tbody>\n",
       "    <tr>\n",
       "      <th>alvo</th>\n",
       "      <td>126774</td>\n",
       "    </tr>\n",
       "    <tr>\n",
       "      <th>controle</th>\n",
       "      <td>14212</td>\n",
       "    </tr>\n",
       "  </tbody>\n",
       "</table>\n",
       "</div>"
      ],
      "text/plain": [
       "          converteu\n",
       "grupo              \n",
       "alvo         126774\n",
       "controle      14212"
      ]
     },
     "execution_count": 56,
     "metadata": {},
     "output_type": "execute_result"
    }
   ],
   "source": [
    "inativos_v1_p \\\n",
    ".query('nr_score_ie >6.78') \\\n",
    "[['converteu','grupo']].groupby(['grupo']).count()"
   ]
  },
  {
   "cell_type": "code",
   "execution_count": 36,
   "metadata": {},
   "outputs": [
    {
     "data": {
      "text/html": [
       "<div>\n",
       "<style scoped>\n",
       "    .dataframe tbody tr th:only-of-type {\n",
       "        vertical-align: middle;\n",
       "    }\n",
       "\n",
       "    .dataframe tbody tr th {\n",
       "        vertical-align: top;\n",
       "    }\n",
       "\n",
       "    .dataframe thead th {\n",
       "        text-align: right;\n",
       "    }\n",
       "</style>\n",
       "<table border=\"1\" class=\"dataframe\">\n",
       "  <thead>\n",
       "    <tr style=\"text-align: right;\">\n",
       "      <th></th>\n",
       "      <th>converteu</th>\n",
       "    </tr>\n",
       "    <tr>\n",
       "      <th>grupo</th>\n",
       "      <th></th>\n",
       "    </tr>\n",
       "  </thead>\n",
       "  <tbody>\n",
       "    <tr>\n",
       "      <th>alvo</th>\n",
       "      <td>0.124969</td>\n",
       "    </tr>\n",
       "    <tr>\n",
       "      <th>controle</th>\n",
       "      <td>0.101956</td>\n",
       "    </tr>\n",
       "  </tbody>\n",
       "</table>\n",
       "</div>"
      ],
      "text/plain": [
       "          converteu\n",
       "grupo              \n",
       "alvo       0.124969\n",
       "controle   0.101956"
      ]
     },
     "execution_count": 36,
     "metadata": {},
     "output_type": "execute_result"
    }
   ],
   "source": [
    "inativos_v1_p.query('nr_score_ie >6.78') \\\n",
    ".query('opens >= 1 | grupo == \"controle\"') \\\n",
    "[['converteu','grupo']].groupby(['grupo']).mean()"
   ]
  },
  {
   "cell_type": "code",
   "execution_count": 46,
   "metadata": {},
   "outputs": [
    {
     "data": {
      "text/html": [
       "<div>\n",
       "<style scoped>\n",
       "    .dataframe tbody tr th:only-of-type {\n",
       "        vertical-align: middle;\n",
       "    }\n",
       "\n",
       "    .dataframe tbody tr th {\n",
       "        vertical-align: top;\n",
       "    }\n",
       "\n",
       "    .dataframe thead th {\n",
       "        text-align: right;\n",
       "    }\n",
       "</style>\n",
       "<table border=\"1\" class=\"dataframe\">\n",
       "  <thead>\n",
       "    <tr style=\"text-align: right;\">\n",
       "      <th></th>\n",
       "      <th>converteu</th>\n",
       "    </tr>\n",
       "    <tr>\n",
       "      <th>grupo</th>\n",
       "      <th></th>\n",
       "    </tr>\n",
       "  </thead>\n",
       "  <tbody>\n",
       "    <tr>\n",
       "      <th>alvo</th>\n",
       "      <td>0.118243</td>\n",
       "    </tr>\n",
       "    <tr>\n",
       "      <th>controle</th>\n",
       "      <td>0.093943</td>\n",
       "    </tr>\n",
       "  </tbody>\n",
       "</table>\n",
       "</div>"
      ],
      "text/plain": [
       "          converteu\n",
       "grupo              \n",
       "alvo       0.118243\n",
       "controle   0.093943"
      ]
     },
     "execution_count": 46,
     "metadata": {},
     "output_type": "execute_result"
    }
   ],
   "source": [
    "inativos_v1_p \\\n",
    ".query('nr_score_ie >6.78 & nr_score_ie <=27.15') \\\n",
    "    .query('opens >= 1 | grupo == \"controle\"') \\\n",
    "[['converteu','grupo']].groupby(['grupo']).mean()"
   ]
  },
  {
   "cell_type": "code",
   "execution_count": 37,
   "metadata": {},
   "outputs": [
    {
     "data": {
      "text/html": [
       "<div>\n",
       "<style scoped>\n",
       "    .dataframe tbody tr th:only-of-type {\n",
       "        vertical-align: middle;\n",
       "    }\n",
       "\n",
       "    .dataframe tbody tr th {\n",
       "        vertical-align: top;\n",
       "    }\n",
       "\n",
       "    .dataframe thead th {\n",
       "        text-align: right;\n",
       "    }\n",
       "</style>\n",
       "<table border=\"1\" class=\"dataframe\">\n",
       "  <thead>\n",
       "    <tr style=\"text-align: right;\">\n",
       "      <th></th>\n",
       "      <th>converteu</th>\n",
       "    </tr>\n",
       "    <tr>\n",
       "      <th>grupo</th>\n",
       "      <th></th>\n",
       "    </tr>\n",
       "  </thead>\n",
       "  <tbody>\n",
       "    <tr>\n",
       "      <th>alvo</th>\n",
       "      <td>0.069314</td>\n",
       "    </tr>\n",
       "    <tr>\n",
       "      <th>controle</th>\n",
       "      <td>0.069095</td>\n",
       "    </tr>\n",
       "  </tbody>\n",
       "</table>\n",
       "</div>"
      ],
      "text/plain": [
       "          converteu\n",
       "grupo              \n",
       "alvo       0.069314\n",
       "controle   0.069095"
      ]
     },
     "execution_count": 37,
     "metadata": {},
     "output_type": "execute_result"
    }
   ],
   "source": [
    "inativos_v1_p[inativos_v1_p['ds_cluster_sociodemographic'].isna() == False]  \\\n",
    ".query('cluster_persona == \"12\" | cluster_persona == \"13\" | cluster_persona == \"14\"| cluster_persona == \"15\"') \\\n",
    "[['converteu','grupo']].groupby(['grupo']).mean()"
   ]
  },
  {
   "cell_type": "code",
   "execution_count": 57,
   "metadata": {},
   "outputs": [
    {
     "data": {
      "text/html": [
       "<div>\n",
       "<style scoped>\n",
       "    .dataframe tbody tr th:only-of-type {\n",
       "        vertical-align: middle;\n",
       "    }\n",
       "\n",
       "    .dataframe tbody tr th {\n",
       "        vertical-align: top;\n",
       "    }\n",
       "\n",
       "    .dataframe thead th {\n",
       "        text-align: right;\n",
       "    }\n",
       "</style>\n",
       "<table border=\"1\" class=\"dataframe\">\n",
       "  <thead>\n",
       "    <tr style=\"text-align: right;\">\n",
       "      <th></th>\n",
       "      <th>converteu</th>\n",
       "    </tr>\n",
       "    <tr>\n",
       "      <th>grupo</th>\n",
       "      <th></th>\n",
       "    </tr>\n",
       "  </thead>\n",
       "  <tbody>\n",
       "    <tr>\n",
       "      <th>alvo</th>\n",
       "      <td>114334</td>\n",
       "    </tr>\n",
       "    <tr>\n",
       "      <th>controle</th>\n",
       "      <td>12244</td>\n",
       "    </tr>\n",
       "  </tbody>\n",
       "</table>\n",
       "</div>"
      ],
      "text/plain": [
       "          converteu\n",
       "grupo              \n",
       "alvo         114334\n",
       "controle      12244"
      ]
     },
     "execution_count": 57,
     "metadata": {},
     "output_type": "execute_result"
    }
   ],
   "source": [
    "inativos_v1_p[inativos_v1_p['ds_cluster_sociodemographic'].isna() == False]  \\\n",
    ".query('cluster_persona == \"12\" | cluster_persona == \"13\" | cluster_persona == \"14\"| cluster_persona == \"15\"') \\\n",
    "[['converteu','grupo']].groupby(['grupo']).count()"
   ]
  },
  {
   "cell_type": "code",
   "execution_count": 38,
   "metadata": {},
   "outputs": [
    {
     "data": {
      "text/html": [
       "<div>\n",
       "<style scoped>\n",
       "    .dataframe tbody tr th:only-of-type {\n",
       "        vertical-align: middle;\n",
       "    }\n",
       "\n",
       "    .dataframe tbody tr th {\n",
       "        vertical-align: top;\n",
       "    }\n",
       "\n",
       "    .dataframe thead th {\n",
       "        text-align: right;\n",
       "    }\n",
       "</style>\n",
       "<table border=\"1\" class=\"dataframe\">\n",
       "  <thead>\n",
       "    <tr style=\"text-align: right;\">\n",
       "      <th></th>\n",
       "      <th>converteu</th>\n",
       "    </tr>\n",
       "    <tr>\n",
       "      <th>grupo</th>\n",
       "      <th></th>\n",
       "    </tr>\n",
       "  </thead>\n",
       "  <tbody>\n",
       "    <tr>\n",
       "      <th>alvo</th>\n",
       "      <td>0.153846</td>\n",
       "    </tr>\n",
       "    <tr>\n",
       "      <th>controle</th>\n",
       "      <td>0.069095</td>\n",
       "    </tr>\n",
       "  </tbody>\n",
       "</table>\n",
       "</div>"
      ],
      "text/plain": [
       "          converteu\n",
       "grupo              \n",
       "alvo       0.153846\n",
       "controle   0.069095"
      ]
     },
     "execution_count": 38,
     "metadata": {},
     "output_type": "execute_result"
    }
   ],
   "source": [
    "inativos_v1_p[inativos_v1_p['ds_cluster_sociodemographic'].isna() == False]  \\\n",
    ".query('opens >= 1 | grupo == \"controle\"') \\\n",
    ".query('cluster_persona == \"12\" | cluster_persona == \"13\" | cluster_persona == \"14\"| cluster_persona == \"15\"') \\\n",
    "    [['converteu','grupo']].groupby(['grupo']).mean()"
   ]
  },
  {
   "cell_type": "code",
   "execution_count": 44,
   "metadata": {},
   "outputs": [
    {
     "data": {
      "text/html": [
       "<div>\n",
       "<style scoped>\n",
       "    .dataframe tbody tr th:only-of-type {\n",
       "        vertical-align: middle;\n",
       "    }\n",
       "\n",
       "    .dataframe tbody tr th {\n",
       "        vertical-align: top;\n",
       "    }\n",
       "\n",
       "    .dataframe thead th {\n",
       "        text-align: right;\n",
       "    }\n",
       "</style>\n",
       "<table border=\"1\" class=\"dataframe\">\n",
       "  <thead>\n",
       "    <tr style=\"text-align: right;\">\n",
       "      <th></th>\n",
       "      <th>converteu</th>\n",
       "    </tr>\n",
       "    <tr>\n",
       "      <th>grupo</th>\n",
       "      <th></th>\n",
       "    </tr>\n",
       "  </thead>\n",
       "  <tbody>\n",
       "    <tr>\n",
       "      <th>alvo</th>\n",
       "      <td>0.030465</td>\n",
       "    </tr>\n",
       "    <tr>\n",
       "      <th>controle</th>\n",
       "      <td>0.032494</td>\n",
       "    </tr>\n",
       "  </tbody>\n",
       "</table>\n",
       "</div>"
      ],
      "text/plain": [
       "          converteu\n",
       "grupo              \n",
       "alvo       0.030465\n",
       "controle   0.032494"
      ]
     },
     "execution_count": 44,
     "metadata": {},
     "output_type": "execute_result"
    }
   ],
   "source": [
    "inativos_v1_p[inativos_v1_p['ds_cluster_sociodemographic'].isna() == False]  \\\n",
    ".query('recencia > 241') \\\n",
    "    [['converteu','grupo']].groupby(['grupo']).mean()"
   ]
  },
  {
   "cell_type": "code",
   "execution_count": 43,
   "metadata": {},
   "outputs": [
    {
     "data": {
      "text/html": [
       "<div>\n",
       "<style scoped>\n",
       "    .dataframe tbody tr th:only-of-type {\n",
       "        vertical-align: middle;\n",
       "    }\n",
       "\n",
       "    .dataframe tbody tr th {\n",
       "        vertical-align: top;\n",
       "    }\n",
       "\n",
       "    .dataframe thead th {\n",
       "        text-align: right;\n",
       "    }\n",
       "</style>\n",
       "<table border=\"1\" class=\"dataframe\">\n",
       "  <thead>\n",
       "    <tr style=\"text-align: right;\">\n",
       "      <th></th>\n",
       "      <th>converteu</th>\n",
       "    </tr>\n",
       "    <tr>\n",
       "      <th>grupo</th>\n",
       "      <th></th>\n",
       "    </tr>\n",
       "  </thead>\n",
       "  <tbody>\n",
       "    <tr>\n",
       "      <th>alvo</th>\n",
       "      <td>0.040000</td>\n",
       "    </tr>\n",
       "    <tr>\n",
       "      <th>controle</th>\n",
       "      <td>0.032494</td>\n",
       "    </tr>\n",
       "  </tbody>\n",
       "</table>\n",
       "</div>"
      ],
      "text/plain": [
       "          converteu\n",
       "grupo              \n",
       "alvo       0.040000\n",
       "controle   0.032494"
      ]
     },
     "execution_count": 43,
     "metadata": {},
     "output_type": "execute_result"
    }
   ],
   "source": [
    "inativos_v1_p[inativos_v1_p['ds_cluster_sociodemographic'].isna() == False]  \\\n",
    ".query('recencia > 241') \\\n",
    "    .query('opens >= 1 | grupo == \"controle\"') \\\n",
    "    [['converteu','grupo']].groupby(['grupo']).mean()"
   ]
  },
  {
   "cell_type": "code",
   "execution_count": 53,
   "metadata": {},
   "outputs": [
    {
     "data": {
      "text/html": [
       "<div>\n",
       "<style scoped>\n",
       "    .dataframe tbody tr th:only-of-type {\n",
       "        vertical-align: middle;\n",
       "    }\n",
       "\n",
       "    .dataframe tbody tr th {\n",
       "        vertical-align: top;\n",
       "    }\n",
       "\n",
       "    .dataframe thead th {\n",
       "        text-align: right;\n",
       "    }\n",
       "</style>\n",
       "<table border=\"1\" class=\"dataframe\">\n",
       "  <thead>\n",
       "    <tr style=\"text-align: right;\">\n",
       "      <th></th>\n",
       "      <th>converteu</th>\n",
       "    </tr>\n",
       "    <tr>\n",
       "      <th>grupo</th>\n",
       "      <th></th>\n",
       "    </tr>\n",
       "  </thead>\n",
       "  <tbody>\n",
       "    <tr>\n",
       "      <th>alvo</th>\n",
       "      <td>0.080064</td>\n",
       "    </tr>\n",
       "    <tr>\n",
       "      <th>controle</th>\n",
       "      <td>0.089014</td>\n",
       "    </tr>\n",
       "  </tbody>\n",
       "</table>\n",
       "</div>"
      ],
      "text/plain": [
       "          converteu\n",
       "grupo              \n",
       "alvo       0.080064\n",
       "controle   0.089014"
      ]
     },
     "execution_count": 53,
     "metadata": {},
     "output_type": "execute_result"
    }
   ],
   "source": [
    "inativos_v1_p[inativos_v1_p['ds_cluster_sociodemographic'].isna() == False]  \\\n",
    ".query('ds_cluster_sociodemographic == \"0 - Mulher, Casada, 25 anos ou mais, cidade Pequena do Nordeste\"') \\\n",
    "    [['converteu','grupo']].groupby(['grupo']).mean()"
   ]
  },
  {
   "cell_type": "code",
   "execution_count": 54,
   "metadata": {},
   "outputs": [
    {
     "data": {
      "text/html": [
       "<div>\n",
       "<style scoped>\n",
       "    .dataframe tbody tr th:only-of-type {\n",
       "        vertical-align: middle;\n",
       "    }\n",
       "\n",
       "    .dataframe tbody tr th {\n",
       "        vertical-align: top;\n",
       "    }\n",
       "\n",
       "    .dataframe thead th {\n",
       "        text-align: right;\n",
       "    }\n",
       "</style>\n",
       "<table border=\"1\" class=\"dataframe\">\n",
       "  <thead>\n",
       "    <tr style=\"text-align: right;\">\n",
       "      <th></th>\n",
       "      <th>converteu</th>\n",
       "    </tr>\n",
       "    <tr>\n",
       "      <th>grupo</th>\n",
       "      <th></th>\n",
       "    </tr>\n",
       "  </thead>\n",
       "  <tbody>\n",
       "    <tr>\n",
       "      <th>alvo</th>\n",
       "      <td>0.140909</td>\n",
       "    </tr>\n",
       "    <tr>\n",
       "      <th>controle</th>\n",
       "      <td>0.089014</td>\n",
       "    </tr>\n",
       "  </tbody>\n",
       "</table>\n",
       "</div>"
      ],
      "text/plain": [
       "          converteu\n",
       "grupo              \n",
       "alvo       0.140909\n",
       "controle   0.089014"
      ]
     },
     "execution_count": 54,
     "metadata": {},
     "output_type": "execute_result"
    }
   ],
   "source": [
    "inativos_v1_p[inativos_v1_p['ds_cluster_sociodemographic'].isna() == False]  \\\n",
    ".query('opens >= 1 | grupo == \"controle\"') \\\n",
    ".query('ds_cluster_sociodemographic == \"0 - Mulher, Casada, 25 anos ou mais, cidade Pequena do Nordeste\"') \\\n",
    "    [['converteu','grupo']].groupby(['grupo']).mean()"
   ]
  },
  {
   "cell_type": "code",
   "execution_count": 47,
   "metadata": {},
   "outputs": [
    {
     "data": {
      "text/html": [
       "<div>\n",
       "<style scoped>\n",
       "    .dataframe tbody tr th:only-of-type {\n",
       "        vertical-align: middle;\n",
       "    }\n",
       "\n",
       "    .dataframe tbody tr th {\n",
       "        vertical-align: top;\n",
       "    }\n",
       "\n",
       "    .dataframe thead th {\n",
       "        text-align: right;\n",
       "    }\n",
       "</style>\n",
       "<table border=\"1\" class=\"dataframe\">\n",
       "  <thead>\n",
       "    <tr style=\"text-align: right;\">\n",
       "      <th></th>\n",
       "      <th>converteu</th>\n",
       "    </tr>\n",
       "    <tr>\n",
       "      <th>grupo</th>\n",
       "      <th></th>\n",
       "    </tr>\n",
       "  </thead>\n",
       "  <tbody>\n",
       "    <tr>\n",
       "      <th>alvo</th>\n",
       "      <td>0.201552</td>\n",
       "    </tr>\n",
       "    <tr>\n",
       "      <th>controle</th>\n",
       "      <td>0.192176</td>\n",
       "    </tr>\n",
       "  </tbody>\n",
       "</table>\n",
       "</div>"
      ],
      "text/plain": [
       "          converteu\n",
       "grupo              \n",
       "alvo       0.201552\n",
       "controle   0.192176"
      ]
     },
     "execution_count": 47,
     "metadata": {},
     "output_type": "execute_result"
    }
   ],
   "source": [
    "inativos_v1_p \\\n",
    ".query('limite < 600') \\\n",
    "    [['converteu','grupo']].groupby(['grupo']).mean()"
   ]
  },
  {
   "cell_type": "code",
   "execution_count": 48,
   "metadata": {},
   "outputs": [
    {
     "data": {
      "text/html": [
       "<div>\n",
       "<style scoped>\n",
       "    .dataframe tbody tr th:only-of-type {\n",
       "        vertical-align: middle;\n",
       "    }\n",
       "\n",
       "    .dataframe tbody tr th {\n",
       "        vertical-align: top;\n",
       "    }\n",
       "\n",
       "    .dataframe thead th {\n",
       "        text-align: right;\n",
       "    }\n",
       "</style>\n",
       "<table border=\"1\" class=\"dataframe\">\n",
       "  <thead>\n",
       "    <tr style=\"text-align: right;\">\n",
       "      <th></th>\n",
       "      <th>converteu</th>\n",
       "    </tr>\n",
       "    <tr>\n",
       "      <th>grupo</th>\n",
       "      <th></th>\n",
       "    </tr>\n",
       "  </thead>\n",
       "  <tbody>\n",
       "    <tr>\n",
       "      <th>alvo</th>\n",
       "      <td>0.220690</td>\n",
       "    </tr>\n",
       "    <tr>\n",
       "      <th>controle</th>\n",
       "      <td>0.192176</td>\n",
       "    </tr>\n",
       "  </tbody>\n",
       "</table>\n",
       "</div>"
      ],
      "text/plain": [
       "          converteu\n",
       "grupo              \n",
       "alvo       0.220690\n",
       "controle   0.192176"
      ]
     },
     "execution_count": 48,
     "metadata": {},
     "output_type": "execute_result"
    }
   ],
   "source": [
    "inativos_v1_p \\\n",
    ".query('limite < 600') \\\n",
    "    .query('opens >= 1 | grupo == \"controle\"') \\\n",
    "    [['converteu','grupo']].groupby(['grupo']).mean()"
   ]
  },
  {
   "cell_type": "code",
   "execution_count": 52,
   "metadata": {},
   "outputs": [
    {
     "data": {
      "text/html": [
       "<div>\n",
       "<style scoped>\n",
       "    .dataframe tbody tr th:only-of-type {\n",
       "        vertical-align: middle;\n",
       "    }\n",
       "\n",
       "    .dataframe tbody tr th {\n",
       "        vertical-align: top;\n",
       "    }\n",
       "\n",
       "    .dataframe thead th {\n",
       "        text-align: right;\n",
       "    }\n",
       "</style>\n",
       "<table border=\"1\" class=\"dataframe\">\n",
       "  <thead>\n",
       "    <tr style=\"text-align: right;\">\n",
       "      <th></th>\n",
       "      <th>converteu</th>\n",
       "    </tr>\n",
       "    <tr>\n",
       "      <th>grupo</th>\n",
       "      <th></th>\n",
       "    </tr>\n",
       "  </thead>\n",
       "  <tbody>\n",
       "    <tr>\n",
       "      <th>alvo</th>\n",
       "      <td>78724</td>\n",
       "    </tr>\n",
       "    <tr>\n",
       "      <th>controle</th>\n",
       "      <td>8794</td>\n",
       "    </tr>\n",
       "  </tbody>\n",
       "</table>\n",
       "</div>"
      ],
      "text/plain": [
       "          converteu\n",
       "grupo              \n",
       "alvo          78724\n",
       "controle       8794"
      ]
     },
     "execution_count": 52,
     "metadata": {},
     "output_type": "execute_result"
    }
   ],
   "source": [
    "inativos_v1_p \\\n",
    ".query('limite < 600') \\\n",
    "    [['converteu','grupo']].groupby(['grupo']).count()"
   ]
  },
  {
   "cell_type": "code",
   "execution_count": 49,
   "metadata": {},
   "outputs": [
    {
     "data": {
      "text/html": [
       "<div>\n",
       "<style scoped>\n",
       "    .dataframe tbody tr th:only-of-type {\n",
       "        vertical-align: middle;\n",
       "    }\n",
       "\n",
       "    .dataframe tbody tr th {\n",
       "        vertical-align: top;\n",
       "    }\n",
       "\n",
       "    .dataframe thead th {\n",
       "        text-align: right;\n",
       "    }\n",
       "</style>\n",
       "<table border=\"1\" class=\"dataframe\">\n",
       "  <thead>\n",
       "    <tr style=\"text-align: right;\">\n",
       "      <th></th>\n",
       "      <th>converteu</th>\n",
       "    </tr>\n",
       "    <tr>\n",
       "      <th>grupo</th>\n",
       "      <th></th>\n",
       "    </tr>\n",
       "  </thead>\n",
       "  <tbody>\n",
       "    <tr>\n",
       "      <th>alvo</th>\n",
       "      <td>0.178983</td>\n",
       "    </tr>\n",
       "    <tr>\n",
       "      <th>controle</th>\n",
       "      <td>0.171791</td>\n",
       "    </tr>\n",
       "  </tbody>\n",
       "</table>\n",
       "</div>"
      ],
      "text/plain": [
       "          converteu\n",
       "grupo              \n",
       "alvo       0.178983\n",
       "controle   0.171791"
      ]
     },
     "execution_count": 49,
     "metadata": {},
     "output_type": "execute_result"
    }
   ],
   "source": [
    "inativos_v1_p \\\n",
    ".query('limite_disponivel < 600') \\\n",
    "    [['converteu','grupo']].groupby(['grupo']).mean()"
   ]
  },
  {
   "cell_type": "code",
   "execution_count": 50,
   "metadata": {},
   "outputs": [
    {
     "data": {
      "text/html": [
       "<div>\n",
       "<style scoped>\n",
       "    .dataframe tbody tr th:only-of-type {\n",
       "        vertical-align: middle;\n",
       "    }\n",
       "\n",
       "    .dataframe tbody tr th {\n",
       "        vertical-align: top;\n",
       "    }\n",
       "\n",
       "    .dataframe thead th {\n",
       "        text-align: right;\n",
       "    }\n",
       "</style>\n",
       "<table border=\"1\" class=\"dataframe\">\n",
       "  <thead>\n",
       "    <tr style=\"text-align: right;\">\n",
       "      <th></th>\n",
       "      <th>converteu</th>\n",
       "    </tr>\n",
       "    <tr>\n",
       "      <th>grupo</th>\n",
       "      <th></th>\n",
       "    </tr>\n",
       "  </thead>\n",
       "  <tbody>\n",
       "    <tr>\n",
       "      <th>alvo</th>\n",
       "      <td>0.176555</td>\n",
       "    </tr>\n",
       "    <tr>\n",
       "      <th>controle</th>\n",
       "      <td>0.171791</td>\n",
       "    </tr>\n",
       "  </tbody>\n",
       "</table>\n",
       "</div>"
      ],
      "text/plain": [
       "          converteu\n",
       "grupo              \n",
       "alvo       0.176555\n",
       "controle   0.171791"
      ]
     },
     "execution_count": 50,
     "metadata": {},
     "output_type": "execute_result"
    }
   ],
   "source": [
    "inativos_v1_p \\\n",
    ".query('limite_disponivel < 600') \\\n",
    "    .query('opens >= 1 | grupo == \"controle\"') \\\n",
    "    [['converteu','grupo']].groupby(['grupo']).mean()"
   ]
  },
  {
   "cell_type": "code",
   "execution_count": 54,
   "metadata": {},
   "outputs": [
    {
     "data": {
      "text/html": [
       "<div>\n",
       "<style scoped>\n",
       "    .dataframe tbody tr th:only-of-type {\n",
       "        vertical-align: middle;\n",
       "    }\n",
       "\n",
       "    .dataframe tbody tr th {\n",
       "        vertical-align: top;\n",
       "    }\n",
       "\n",
       "    .dataframe thead th {\n",
       "        text-align: right;\n",
       "    }\n",
       "</style>\n",
       "<table border=\"1\" class=\"dataframe\">\n",
       "  <thead>\n",
       "    <tr style=\"text-align: right;\">\n",
       "      <th>segmento_mcc_agg</th>\n",
       "      <th>0 - OUTROS</th>\n",
       "      <th>1 - SUPERMERCADO</th>\n",
       "      <th>2 - LOJAS DE DEPARTAMENTO</th>\n",
       "      <th>3 - SERVICOS DE ALIMENTACAO</th>\n",
       "      <th>4 - SAUDE</th>\n",
       "      <th>5 - LOJAS ESPECIALIZADAS</th>\n",
       "    </tr>\n",
       "    <tr>\n",
       "      <th>ds_cluster_sociodemographic</th>\n",
       "      <th></th>\n",
       "      <th></th>\n",
       "      <th></th>\n",
       "      <th></th>\n",
       "      <th></th>\n",
       "      <th></th>\n",
       "    </tr>\n",
       "  </thead>\n",
       "  <tbody>\n",
       "    <tr>\n",
       "      <th>0 - Mulher, Casada, 25 anos ou mais, cidade Pe...</th>\n",
       "      <td>0.080523</td>\n",
       "      <td>0.285714</td>\n",
       "      <td>0.230769</td>\n",
       "      <td>0.100000</td>\n",
       "      <td>0.500000</td>\n",
       "      <td>0.181818</td>\n",
       "    </tr>\n",
       "    <tr>\n",
       "      <th>1 - Mulher, Solteira, Até 24 anos, cidade Médi...</th>\n",
       "      <td>0.079751</td>\n",
       "      <td>0.500000</td>\n",
       "      <td>0.666667</td>\n",
       "      <td>0.500000</td>\n",
       "      <td>0.400000</td>\n",
       "      <td>0.250000</td>\n",
       "    </tr>\n",
       "    <tr>\n",
       "      <th>10 - Mulher, Solteira, Até 24 anos, cidade Peq...</th>\n",
       "      <td>0.105710</td>\n",
       "      <td>0.100000</td>\n",
       "      <td>0.400000</td>\n",
       "      <td>0.166667</td>\n",
       "      <td>0.333333</td>\n",
       "      <td>0.181818</td>\n",
       "    </tr>\n",
       "    <tr>\n",
       "      <th>11 - Homem, Solteiro, Até 24 anos, cidade Pequ...</th>\n",
       "      <td>0.087870</td>\n",
       "      <td>0.333333</td>\n",
       "      <td>0.222222</td>\n",
       "      <td>0.125000</td>\n",
       "      <td>0.400000</td>\n",
       "      <td>0.214286</td>\n",
       "    </tr>\n",
       "    <tr>\n",
       "      <th>12 - Mulher, Solteira, 35 anos ou mais, cidade...</th>\n",
       "      <td>0.082804</td>\n",
       "      <td>0.666667</td>\n",
       "      <td>0.285714</td>\n",
       "      <td>NaN</td>\n",
       "      <td>0.500000</td>\n",
       "      <td>0.238095</td>\n",
       "    </tr>\n",
       "    <tr>\n",
       "      <th>13 - Homem, Solteiro, 35 anos ou mais, cidade ...</th>\n",
       "      <td>0.065306</td>\n",
       "      <td>0.000000</td>\n",
       "      <td>1.000000</td>\n",
       "      <td>0.000000</td>\n",
       "      <td>NaN</td>\n",
       "      <td>NaN</td>\n",
       "    </tr>\n",
       "    <tr>\n",
       "      <th>14 - Homem, Casado, 35 anos ou mais, cidade Pe...</th>\n",
       "      <td>0.081242</td>\n",
       "      <td>0.000000</td>\n",
       "      <td>0.166667</td>\n",
       "      <td>0.666667</td>\n",
       "      <td>0.500000</td>\n",
       "      <td>0.000000</td>\n",
       "    </tr>\n",
       "    <tr>\n",
       "      <th>15 - Mulher, 25 a 40 anos, Nordeste</th>\n",
       "      <td>0.068086</td>\n",
       "      <td>0.380952</td>\n",
       "      <td>0.363636</td>\n",
       "      <td>0.314286</td>\n",
       "      <td>0.472222</td>\n",
       "      <td>0.129032</td>\n",
       "    </tr>\n",
       "    <tr>\n",
       "      <th>16 - Homem, 25 a 40 anos, Nordeste</th>\n",
       "      <td>0.057969</td>\n",
       "      <td>0.150000</td>\n",
       "      <td>0.500000</td>\n",
       "      <td>0.297297</td>\n",
       "      <td>0.387097</td>\n",
       "      <td>0.228571</td>\n",
       "    </tr>\n",
       "    <tr>\n",
       "      <th>17 - Homem, 25 a 40 anos, Sudeste e Sul</th>\n",
       "      <td>0.041240</td>\n",
       "      <td>0.260870</td>\n",
       "      <td>0.210526</td>\n",
       "      <td>0.233333</td>\n",
       "      <td>0.280000</td>\n",
       "      <td>0.312500</td>\n",
       "    </tr>\n",
       "    <tr>\n",
       "      <th>18 - Mulher, 25 a 40 anos, Sudeste e Sul</th>\n",
       "      <td>0.054032</td>\n",
       "      <td>0.384615</td>\n",
       "      <td>0.300000</td>\n",
       "      <td>0.228571</td>\n",
       "      <td>0.590909</td>\n",
       "      <td>0.304348</td>\n",
       "    </tr>\n",
       "    <tr>\n",
       "      <th>19 - Mulher, 41 anos ou mais, Nordeste</th>\n",
       "      <td>0.072186</td>\n",
       "      <td>0.142857</td>\n",
       "      <td>0.200000</td>\n",
       "      <td>0.200000</td>\n",
       "      <td>0.444444</td>\n",
       "      <td>0.000000</td>\n",
       "    </tr>\n",
       "    <tr>\n",
       "      <th>2 - Mulher, Solteira, 35 anos ou mais, cidade ...</th>\n",
       "      <td>0.058213</td>\n",
       "      <td>0.000000</td>\n",
       "      <td>NaN</td>\n",
       "      <td>0.000000</td>\n",
       "      <td>0.000000</td>\n",
       "      <td>0.375000</td>\n",
       "    </tr>\n",
       "    <tr>\n",
       "      <th>20 - Homem, Até 24 anos, Sudeste e Sul</th>\n",
       "      <td>0.066821</td>\n",
       "      <td>0.333333</td>\n",
       "      <td>0.428571</td>\n",
       "      <td>0.157895</td>\n",
       "      <td>0.454545</td>\n",
       "      <td>0.100000</td>\n",
       "    </tr>\n",
       "    <tr>\n",
       "      <th>21 - Mulher, Até 24 anos, Nordeste</th>\n",
       "      <td>0.080301</td>\n",
       "      <td>0.000000</td>\n",
       "      <td>0.454545</td>\n",
       "      <td>0.250000</td>\n",
       "      <td>0.250000</td>\n",
       "      <td>0.153846</td>\n",
       "    </tr>\n",
       "    <tr>\n",
       "      <th>22 - Mulher, 41 anos ou mais, Sudeste e Sul</th>\n",
       "      <td>0.067715</td>\n",
       "      <td>0.454545</td>\n",
       "      <td>0.375000</td>\n",
       "      <td>0.250000</td>\n",
       "      <td>0.214286</td>\n",
       "      <td>0.400000</td>\n",
       "    </tr>\n",
       "    <tr>\n",
       "      <th>23 - Homem, 41 anos ou mais, Nordeste</th>\n",
       "      <td>0.066372</td>\n",
       "      <td>0.285714</td>\n",
       "      <td>0.000000</td>\n",
       "      <td>0.250000</td>\n",
       "      <td>0.500000</td>\n",
       "      <td>0.000000</td>\n",
       "    </tr>\n",
       "    <tr>\n",
       "      <th>24 - Homem, Até 24 anos, Nordeste</th>\n",
       "      <td>0.072548</td>\n",
       "      <td>0.500000</td>\n",
       "      <td>0.166667</td>\n",
       "      <td>0.300000</td>\n",
       "      <td>0.400000</td>\n",
       "      <td>0.294118</td>\n",
       "    </tr>\n",
       "    <tr>\n",
       "      <th>25 - Homem, 41 anos ou mais, Sudeste e Sul</th>\n",
       "      <td>0.051788</td>\n",
       "      <td>0.375000</td>\n",
       "      <td>0.000000</td>\n",
       "      <td>0.000000</td>\n",
       "      <td>0.800000</td>\n",
       "      <td>0.333333</td>\n",
       "    </tr>\n",
       "    <tr>\n",
       "      <th>26 - Mulher, 25 a 40 anos, Centro-Oeste e Norte</th>\n",
       "      <td>0.070012</td>\n",
       "      <td>0.222222</td>\n",
       "      <td>0.444444</td>\n",
       "      <td>0.384615</td>\n",
       "      <td>0.454545</td>\n",
       "      <td>0.500000</td>\n",
       "    </tr>\n",
       "    <tr>\n",
       "      <th>27 - Homem, 25 a 40 anos, Centro-Oeste e Norte</th>\n",
       "      <td>0.053194</td>\n",
       "      <td>0.000000</td>\n",
       "      <td>0.375000</td>\n",
       "      <td>0.100000</td>\n",
       "      <td>0.500000</td>\n",
       "      <td>0.285714</td>\n",
       "    </tr>\n",
       "    <tr>\n",
       "      <th>28 - Mulher, Até 24 anos, Centro-Oeste e Norte</th>\n",
       "      <td>0.100989</td>\n",
       "      <td>0.000000</td>\n",
       "      <td>0.500000</td>\n",
       "      <td>0.333333</td>\n",
       "      <td>0.222222</td>\n",
       "      <td>0.142857</td>\n",
       "    </tr>\n",
       "    <tr>\n",
       "      <th>29 - Mulher, Até 24 anos, Sudeste e Sul</th>\n",
       "      <td>0.076566</td>\n",
       "      <td>0.000000</td>\n",
       "      <td>0.666667</td>\n",
       "      <td>0.500000</td>\n",
       "      <td>0.200000</td>\n",
       "      <td>0.000000</td>\n",
       "    </tr>\n",
       "    <tr>\n",
       "      <th>3 - Mulher, Solteira, 35 anos ou mais, cidade ...</th>\n",
       "      <td>0.053247</td>\n",
       "      <td>NaN</td>\n",
       "      <td>NaN</td>\n",
       "      <td>NaN</td>\n",
       "      <td>1.000000</td>\n",
       "      <td>0.500000</td>\n",
       "    </tr>\n",
       "    <tr>\n",
       "      <th>30 - Homem, Até 24 anos, Centro-Oeste e Norte</th>\n",
       "      <td>0.079634</td>\n",
       "      <td>0.500000</td>\n",
       "      <td>0.333333</td>\n",
       "      <td>0.000000</td>\n",
       "      <td>0.000000</td>\n",
       "      <td>0.000000</td>\n",
       "    </tr>\n",
       "    <tr>\n",
       "      <th>31 - Mulher, 41 anos ou mais, Centro-Oeste e N...</th>\n",
       "      <td>0.076608</td>\n",
       "      <td>0.166667</td>\n",
       "      <td>0.200000</td>\n",
       "      <td>0.250000</td>\n",
       "      <td>0.000000</td>\n",
       "      <td>0.300000</td>\n",
       "    </tr>\n",
       "    <tr>\n",
       "      <th>32 - Homem, 41 anos ou mais, Centro-Oeste e Norte</th>\n",
       "      <td>0.071802</td>\n",
       "      <td>0.000000</td>\n",
       "      <td>0.000000</td>\n",
       "      <td>0.000000</td>\n",
       "      <td>NaN</td>\n",
       "      <td>0.666667</td>\n",
       "    </tr>\n",
       "    <tr>\n",
       "      <th>4 - Homem, Solteiro, Até 24 anos, cidade Grand...</th>\n",
       "      <td>0.070233</td>\n",
       "      <td>NaN</td>\n",
       "      <td>NaN</td>\n",
       "      <td>0.000000</td>\n",
       "      <td>0.000000</td>\n",
       "      <td>NaN</td>\n",
       "    </tr>\n",
       "    <tr>\n",
       "      <th>5 - Mulher, Casada, 25 anos ou mais, cidade Gr...</th>\n",
       "      <td>0.053464</td>\n",
       "      <td>0.000000</td>\n",
       "      <td>NaN</td>\n",
       "      <td>0.400000</td>\n",
       "      <td>1.000000</td>\n",
       "      <td>0.500000</td>\n",
       "    </tr>\n",
       "    <tr>\n",
       "      <th>6 - Homem, Solteiro, Entre 25 e 34 anos, cidad...</th>\n",
       "      <td>0.038025</td>\n",
       "      <td>0.333333</td>\n",
       "      <td>NaN</td>\n",
       "      <td>0.000000</td>\n",
       "      <td>0.000000</td>\n",
       "      <td>NaN</td>\n",
       "    </tr>\n",
       "    <tr>\n",
       "      <th>7 - Homem, Solteiro, 25 anos ou mais, cidade P...</th>\n",
       "      <td>0.078101</td>\n",
       "      <td>0.333333</td>\n",
       "      <td>0.272727</td>\n",
       "      <td>0.200000</td>\n",
       "      <td>0.000000</td>\n",
       "      <td>0.150000</td>\n",
       "    </tr>\n",
       "    <tr>\n",
       "      <th>8 - Mulher, Solteira, Até 24 anos, cidade Pequ...</th>\n",
       "      <td>0.097812</td>\n",
       "      <td>0.090909</td>\n",
       "      <td>0.000000</td>\n",
       "      <td>0.200000</td>\n",
       "      <td>0.250000</td>\n",
       "      <td>0.200000</td>\n",
       "    </tr>\n",
       "    <tr>\n",
       "      <th>9 - Homem, Solteiro, Entre 25 e 34 anos, cidad...</th>\n",
       "      <td>0.044680</td>\n",
       "      <td>0.000000</td>\n",
       "      <td>0.500000</td>\n",
       "      <td>0.200000</td>\n",
       "      <td>NaN</td>\n",
       "      <td>0.000000</td>\n",
       "    </tr>\n",
       "  </tbody>\n",
       "</table>\n",
       "</div>"
      ],
      "text/plain": [
       "segmento_mcc_agg                                   0 - OUTROS  \\\n",
       "ds_cluster_sociodemographic                                     \n",
       "0 - Mulher, Casada, 25 anos ou mais, cidade Pe...    0.080523   \n",
       "1 - Mulher, Solteira, Até 24 anos, cidade Médi...    0.079751   \n",
       "10 - Mulher, Solteira, Até 24 anos, cidade Peq...    0.105710   \n",
       "11 - Homem, Solteiro, Até 24 anos, cidade Pequ...    0.087870   \n",
       "12 - Mulher, Solteira, 35 anos ou mais, cidade...    0.082804   \n",
       "13 - Homem, Solteiro, 35 anos ou mais, cidade ...    0.065306   \n",
       "14 - Homem, Casado, 35 anos ou mais, cidade Pe...    0.081242   \n",
       "15 - Mulher, 25 a 40 anos, Nordeste                  0.068086   \n",
       "16 - Homem, 25 a 40 anos, Nordeste                   0.057969   \n",
       "17 - Homem, 25 a 40 anos, Sudeste e Sul              0.041240   \n",
       "18 - Mulher, 25 a 40 anos, Sudeste e Sul             0.054032   \n",
       "19 - Mulher, 41 anos ou mais, Nordeste               0.072186   \n",
       "2 - Mulher, Solteira, 35 anos ou mais, cidade ...    0.058213   \n",
       "20 - Homem, Até 24 anos, Sudeste e Sul               0.066821   \n",
       "21 - Mulher, Até 24 anos, Nordeste                   0.080301   \n",
       "22 - Mulher, 41 anos ou mais, Sudeste e Sul          0.067715   \n",
       "23 - Homem, 41 anos ou mais, Nordeste                0.066372   \n",
       "24 - Homem, Até 24 anos, Nordeste                    0.072548   \n",
       "25 - Homem, 41 anos ou mais, Sudeste e Sul           0.051788   \n",
       "26 - Mulher, 25 a 40 anos, Centro-Oeste e Norte      0.070012   \n",
       "27 - Homem, 25 a 40 anos, Centro-Oeste e Norte       0.053194   \n",
       "28 - Mulher, Até 24 anos, Centro-Oeste e Norte       0.100989   \n",
       "29 - Mulher, Até 24 anos, Sudeste e Sul              0.076566   \n",
       "3 - Mulher, Solteira, 35 anos ou mais, cidade ...    0.053247   \n",
       "30 - Homem, Até 24 anos, Centro-Oeste e Norte        0.079634   \n",
       "31 - Mulher, 41 anos ou mais, Centro-Oeste e N...    0.076608   \n",
       "32 - Homem, 41 anos ou mais, Centro-Oeste e Norte    0.071802   \n",
       "4 - Homem, Solteiro, Até 24 anos, cidade Grand...    0.070233   \n",
       "5 - Mulher, Casada, 25 anos ou mais, cidade Gr...    0.053464   \n",
       "6 - Homem, Solteiro, Entre 25 e 34 anos, cidad...    0.038025   \n",
       "7 - Homem, Solteiro, 25 anos ou mais, cidade P...    0.078101   \n",
       "8 - Mulher, Solteira, Até 24 anos, cidade Pequ...    0.097812   \n",
       "9 - Homem, Solteiro, Entre 25 e 34 anos, cidad...    0.044680   \n",
       "\n",
       "segmento_mcc_agg                                   1 - SUPERMERCADO  \\\n",
       "ds_cluster_sociodemographic                                           \n",
       "0 - Mulher, Casada, 25 anos ou mais, cidade Pe...          0.285714   \n",
       "1 - Mulher, Solteira, Até 24 anos, cidade Médi...          0.500000   \n",
       "10 - Mulher, Solteira, Até 24 anos, cidade Peq...          0.100000   \n",
       "11 - Homem, Solteiro, Até 24 anos, cidade Pequ...          0.333333   \n",
       "12 - Mulher, Solteira, 35 anos ou mais, cidade...          0.666667   \n",
       "13 - Homem, Solteiro, 35 anos ou mais, cidade ...          0.000000   \n",
       "14 - Homem, Casado, 35 anos ou mais, cidade Pe...          0.000000   \n",
       "15 - Mulher, 25 a 40 anos, Nordeste                        0.380952   \n",
       "16 - Homem, 25 a 40 anos, Nordeste                         0.150000   \n",
       "17 - Homem, 25 a 40 anos, Sudeste e Sul                    0.260870   \n",
       "18 - Mulher, 25 a 40 anos, Sudeste e Sul                   0.384615   \n",
       "19 - Mulher, 41 anos ou mais, Nordeste                     0.142857   \n",
       "2 - Mulher, Solteira, 35 anos ou mais, cidade ...          0.000000   \n",
       "20 - Homem, Até 24 anos, Sudeste e Sul                     0.333333   \n",
       "21 - Mulher, Até 24 anos, Nordeste                         0.000000   \n",
       "22 - Mulher, 41 anos ou mais, Sudeste e Sul                0.454545   \n",
       "23 - Homem, 41 anos ou mais, Nordeste                      0.285714   \n",
       "24 - Homem, Até 24 anos, Nordeste                          0.500000   \n",
       "25 - Homem, 41 anos ou mais, Sudeste e Sul                 0.375000   \n",
       "26 - Mulher, 25 a 40 anos, Centro-Oeste e Norte            0.222222   \n",
       "27 - Homem, 25 a 40 anos, Centro-Oeste e Norte             0.000000   \n",
       "28 - Mulher, Até 24 anos, Centro-Oeste e Norte             0.000000   \n",
       "29 - Mulher, Até 24 anos, Sudeste e Sul                    0.000000   \n",
       "3 - Mulher, Solteira, 35 anos ou mais, cidade ...               NaN   \n",
       "30 - Homem, Até 24 anos, Centro-Oeste e Norte              0.500000   \n",
       "31 - Mulher, 41 anos ou mais, Centro-Oeste e N...          0.166667   \n",
       "32 - Homem, 41 anos ou mais, Centro-Oeste e Norte          0.000000   \n",
       "4 - Homem, Solteiro, Até 24 anos, cidade Grand...               NaN   \n",
       "5 - Mulher, Casada, 25 anos ou mais, cidade Gr...          0.000000   \n",
       "6 - Homem, Solteiro, Entre 25 e 34 anos, cidad...          0.333333   \n",
       "7 - Homem, Solteiro, 25 anos ou mais, cidade P...          0.333333   \n",
       "8 - Mulher, Solteira, Até 24 anos, cidade Pequ...          0.090909   \n",
       "9 - Homem, Solteiro, Entre 25 e 34 anos, cidad...          0.000000   \n",
       "\n",
       "segmento_mcc_agg                                   2 - LOJAS DE DEPARTAMENTO  \\\n",
       "ds_cluster_sociodemographic                                                    \n",
       "0 - Mulher, Casada, 25 anos ou mais, cidade Pe...                   0.230769   \n",
       "1 - Mulher, Solteira, Até 24 anos, cidade Médi...                   0.666667   \n",
       "10 - Mulher, Solteira, Até 24 anos, cidade Peq...                   0.400000   \n",
       "11 - Homem, Solteiro, Até 24 anos, cidade Pequ...                   0.222222   \n",
       "12 - Mulher, Solteira, 35 anos ou mais, cidade...                   0.285714   \n",
       "13 - Homem, Solteiro, 35 anos ou mais, cidade ...                   1.000000   \n",
       "14 - Homem, Casado, 35 anos ou mais, cidade Pe...                   0.166667   \n",
       "15 - Mulher, 25 a 40 anos, Nordeste                                 0.363636   \n",
       "16 - Homem, 25 a 40 anos, Nordeste                                  0.500000   \n",
       "17 - Homem, 25 a 40 anos, Sudeste e Sul                             0.210526   \n",
       "18 - Mulher, 25 a 40 anos, Sudeste e Sul                            0.300000   \n",
       "19 - Mulher, 41 anos ou mais, Nordeste                              0.200000   \n",
       "2 - Mulher, Solteira, 35 anos ou mais, cidade ...                        NaN   \n",
       "20 - Homem, Até 24 anos, Sudeste e Sul                              0.428571   \n",
       "21 - Mulher, Até 24 anos, Nordeste                                  0.454545   \n",
       "22 - Mulher, 41 anos ou mais, Sudeste e Sul                         0.375000   \n",
       "23 - Homem, 41 anos ou mais, Nordeste                               0.000000   \n",
       "24 - Homem, Até 24 anos, Nordeste                                   0.166667   \n",
       "25 - Homem, 41 anos ou mais, Sudeste e Sul                          0.000000   \n",
       "26 - Mulher, 25 a 40 anos, Centro-Oeste e Norte                     0.444444   \n",
       "27 - Homem, 25 a 40 anos, Centro-Oeste e Norte                      0.375000   \n",
       "28 - Mulher, Até 24 anos, Centro-Oeste e Norte                      0.500000   \n",
       "29 - Mulher, Até 24 anos, Sudeste e Sul                             0.666667   \n",
       "3 - Mulher, Solteira, 35 anos ou mais, cidade ...                        NaN   \n",
       "30 - Homem, Até 24 anos, Centro-Oeste e Norte                       0.333333   \n",
       "31 - Mulher, 41 anos ou mais, Centro-Oeste e N...                   0.200000   \n",
       "32 - Homem, 41 anos ou mais, Centro-Oeste e Norte                   0.000000   \n",
       "4 - Homem, Solteiro, Até 24 anos, cidade Grand...                        NaN   \n",
       "5 - Mulher, Casada, 25 anos ou mais, cidade Gr...                        NaN   \n",
       "6 - Homem, Solteiro, Entre 25 e 34 anos, cidad...                        NaN   \n",
       "7 - Homem, Solteiro, 25 anos ou mais, cidade P...                   0.272727   \n",
       "8 - Mulher, Solteira, Até 24 anos, cidade Pequ...                   0.000000   \n",
       "9 - Homem, Solteiro, Entre 25 e 34 anos, cidad...                   0.500000   \n",
       "\n",
       "segmento_mcc_agg                                   3 - SERVICOS DE ALIMENTACAO  \\\n",
       "ds_cluster_sociodemographic                                                      \n",
       "0 - Mulher, Casada, 25 anos ou mais, cidade Pe...                     0.100000   \n",
       "1 - Mulher, Solteira, Até 24 anos, cidade Médi...                     0.500000   \n",
       "10 - Mulher, Solteira, Até 24 anos, cidade Peq...                     0.166667   \n",
       "11 - Homem, Solteiro, Até 24 anos, cidade Pequ...                     0.125000   \n",
       "12 - Mulher, Solteira, 35 anos ou mais, cidade...                          NaN   \n",
       "13 - Homem, Solteiro, 35 anos ou mais, cidade ...                     0.000000   \n",
       "14 - Homem, Casado, 35 anos ou mais, cidade Pe...                     0.666667   \n",
       "15 - Mulher, 25 a 40 anos, Nordeste                                   0.314286   \n",
       "16 - Homem, 25 a 40 anos, Nordeste                                    0.297297   \n",
       "17 - Homem, 25 a 40 anos, Sudeste e Sul                               0.233333   \n",
       "18 - Mulher, 25 a 40 anos, Sudeste e Sul                              0.228571   \n",
       "19 - Mulher, 41 anos ou mais, Nordeste                                0.200000   \n",
       "2 - Mulher, Solteira, 35 anos ou mais, cidade ...                     0.000000   \n",
       "20 - Homem, Até 24 anos, Sudeste e Sul                                0.157895   \n",
       "21 - Mulher, Até 24 anos, Nordeste                                    0.250000   \n",
       "22 - Mulher, 41 anos ou mais, Sudeste e Sul                           0.250000   \n",
       "23 - Homem, 41 anos ou mais, Nordeste                                 0.250000   \n",
       "24 - Homem, Até 24 anos, Nordeste                                     0.300000   \n",
       "25 - Homem, 41 anos ou mais, Sudeste e Sul                            0.000000   \n",
       "26 - Mulher, 25 a 40 anos, Centro-Oeste e Norte                       0.384615   \n",
       "27 - Homem, 25 a 40 anos, Centro-Oeste e Norte                        0.100000   \n",
       "28 - Mulher, Até 24 anos, Centro-Oeste e Norte                        0.333333   \n",
       "29 - Mulher, Até 24 anos, Sudeste e Sul                               0.500000   \n",
       "3 - Mulher, Solteira, 35 anos ou mais, cidade ...                          NaN   \n",
       "30 - Homem, Até 24 anos, Centro-Oeste e Norte                         0.000000   \n",
       "31 - Mulher, 41 anos ou mais, Centro-Oeste e N...                     0.250000   \n",
       "32 - Homem, 41 anos ou mais, Centro-Oeste e Norte                     0.000000   \n",
       "4 - Homem, Solteiro, Até 24 anos, cidade Grand...                     0.000000   \n",
       "5 - Mulher, Casada, 25 anos ou mais, cidade Gr...                     0.400000   \n",
       "6 - Homem, Solteiro, Entre 25 e 34 anos, cidad...                     0.000000   \n",
       "7 - Homem, Solteiro, 25 anos ou mais, cidade P...                     0.200000   \n",
       "8 - Mulher, Solteira, Até 24 anos, cidade Pequ...                     0.200000   \n",
       "9 - Homem, Solteiro, Entre 25 e 34 anos, cidad...                     0.200000   \n",
       "\n",
       "segmento_mcc_agg                                   4 - SAUDE  \\\n",
       "ds_cluster_sociodemographic                                    \n",
       "0 - Mulher, Casada, 25 anos ou mais, cidade Pe...   0.500000   \n",
       "1 - Mulher, Solteira, Até 24 anos, cidade Médi...   0.400000   \n",
       "10 - Mulher, Solteira, Até 24 anos, cidade Peq...   0.333333   \n",
       "11 - Homem, Solteiro, Até 24 anos, cidade Pequ...   0.400000   \n",
       "12 - Mulher, Solteira, 35 anos ou mais, cidade...   0.500000   \n",
       "13 - Homem, Solteiro, 35 anos ou mais, cidade ...        NaN   \n",
       "14 - Homem, Casado, 35 anos ou mais, cidade Pe...   0.500000   \n",
       "15 - Mulher, 25 a 40 anos, Nordeste                 0.472222   \n",
       "16 - Homem, 25 a 40 anos, Nordeste                  0.387097   \n",
       "17 - Homem, 25 a 40 anos, Sudeste e Sul             0.280000   \n",
       "18 - Mulher, 25 a 40 anos, Sudeste e Sul            0.590909   \n",
       "19 - Mulher, 41 anos ou mais, Nordeste              0.444444   \n",
       "2 - Mulher, Solteira, 35 anos ou mais, cidade ...   0.000000   \n",
       "20 - Homem, Até 24 anos, Sudeste e Sul              0.454545   \n",
       "21 - Mulher, Até 24 anos, Nordeste                  0.250000   \n",
       "22 - Mulher, 41 anos ou mais, Sudeste e Sul         0.214286   \n",
       "23 - Homem, 41 anos ou mais, Nordeste               0.500000   \n",
       "24 - Homem, Até 24 anos, Nordeste                   0.400000   \n",
       "25 - Homem, 41 anos ou mais, Sudeste e Sul          0.800000   \n",
       "26 - Mulher, 25 a 40 anos, Centro-Oeste e Norte     0.454545   \n",
       "27 - Homem, 25 a 40 anos, Centro-Oeste e Norte      0.500000   \n",
       "28 - Mulher, Até 24 anos, Centro-Oeste e Norte      0.222222   \n",
       "29 - Mulher, Até 24 anos, Sudeste e Sul             0.200000   \n",
       "3 - Mulher, Solteira, 35 anos ou mais, cidade ...   1.000000   \n",
       "30 - Homem, Até 24 anos, Centro-Oeste e Norte       0.000000   \n",
       "31 - Mulher, 41 anos ou mais, Centro-Oeste e N...   0.000000   \n",
       "32 - Homem, 41 anos ou mais, Centro-Oeste e Norte        NaN   \n",
       "4 - Homem, Solteiro, Até 24 anos, cidade Grand...   0.000000   \n",
       "5 - Mulher, Casada, 25 anos ou mais, cidade Gr...   1.000000   \n",
       "6 - Homem, Solteiro, Entre 25 e 34 anos, cidad...   0.000000   \n",
       "7 - Homem, Solteiro, 25 anos ou mais, cidade P...   0.000000   \n",
       "8 - Mulher, Solteira, Até 24 anos, cidade Pequ...   0.250000   \n",
       "9 - Homem, Solteiro, Entre 25 e 34 anos, cidad...        NaN   \n",
       "\n",
       "segmento_mcc_agg                                   5 - LOJAS ESPECIALIZADAS  \n",
       "ds_cluster_sociodemographic                                                  \n",
       "0 - Mulher, Casada, 25 anos ou mais, cidade Pe...                  0.181818  \n",
       "1 - Mulher, Solteira, Até 24 anos, cidade Médi...                  0.250000  \n",
       "10 - Mulher, Solteira, Até 24 anos, cidade Peq...                  0.181818  \n",
       "11 - Homem, Solteiro, Até 24 anos, cidade Pequ...                  0.214286  \n",
       "12 - Mulher, Solteira, 35 anos ou mais, cidade...                  0.238095  \n",
       "13 - Homem, Solteiro, 35 anos ou mais, cidade ...                       NaN  \n",
       "14 - Homem, Casado, 35 anos ou mais, cidade Pe...                  0.000000  \n",
       "15 - Mulher, 25 a 40 anos, Nordeste                                0.129032  \n",
       "16 - Homem, 25 a 40 anos, Nordeste                                 0.228571  \n",
       "17 - Homem, 25 a 40 anos, Sudeste e Sul                            0.312500  \n",
       "18 - Mulher, 25 a 40 anos, Sudeste e Sul                           0.304348  \n",
       "19 - Mulher, 41 anos ou mais, Nordeste                             0.000000  \n",
       "2 - Mulher, Solteira, 35 anos ou mais, cidade ...                  0.375000  \n",
       "20 - Homem, Até 24 anos, Sudeste e Sul                             0.100000  \n",
       "21 - Mulher, Até 24 anos, Nordeste                                 0.153846  \n",
       "22 - Mulher, 41 anos ou mais, Sudeste e Sul                        0.400000  \n",
       "23 - Homem, 41 anos ou mais, Nordeste                              0.000000  \n",
       "24 - Homem, Até 24 anos, Nordeste                                  0.294118  \n",
       "25 - Homem, 41 anos ou mais, Sudeste e Sul                         0.333333  \n",
       "26 - Mulher, 25 a 40 anos, Centro-Oeste e Norte                    0.500000  \n",
       "27 - Homem, 25 a 40 anos, Centro-Oeste e Norte                     0.285714  \n",
       "28 - Mulher, Até 24 anos, Centro-Oeste e Norte                     0.142857  \n",
       "29 - Mulher, Até 24 anos, Sudeste e Sul                            0.000000  \n",
       "3 - Mulher, Solteira, 35 anos ou mais, cidade ...                  0.500000  \n",
       "30 - Homem, Até 24 anos, Centro-Oeste e Norte                      0.000000  \n",
       "31 - Mulher, 41 anos ou mais, Centro-Oeste e N...                  0.300000  \n",
       "32 - Homem, 41 anos ou mais, Centro-Oeste e Norte                  0.666667  \n",
       "4 - Homem, Solteiro, Até 24 anos, cidade Grand...                       NaN  \n",
       "5 - Mulher, Casada, 25 anos ou mais, cidade Gr...                  0.500000  \n",
       "6 - Homem, Solteiro, Entre 25 e 34 anos, cidad...                       NaN  \n",
       "7 - Homem, Solteiro, 25 anos ou mais, cidade P...                  0.150000  \n",
       "8 - Mulher, Solteira, Até 24 anos, cidade Pequ...                  0.200000  \n",
       "9 - Homem, Solteiro, Entre 25 e 34 anos, cidad...                  0.000000  "
      ]
     },
     "execution_count": 54,
     "metadata": {},
     "output_type": "execute_result"
    }
   ],
   "source": [
    "inativos_v1_p.pivot_table(index = 'ds_cluster_sociodemographic', columns= 'segmento_mcc_agg', values = 'converteu', aggfunc=np.mean)"
   ]
  },
  {
   "cell_type": "code",
   "execution_count": 39,
   "metadata": {},
   "outputs": [],
   "source": [
    "inativos_v1_p['fx_iu'] = pd.qcut(inativos_v1_p['iu'].rank(method='first'), q=10, precision=0, labels=[1,2,3,4,5,6,7,8,9,10])\n",
    "inativos_v1_p['fx_limite'] = pd.qcut(inativos_v1_p['limite'].rank(method='first'), q=10, precision=0, labels=[1,2,3,4,5,6,7,8,9,10])\n",
    "inativos_v1_p['fx_limite_disponivel'] = pd.qcut(inativos_v1_p['limite_disponivel'].rank(method='first'), q=10, precision=0, labels=[1,2,3,4,5,6,7,8,9,10])"
   ]
  },
  {
   "cell_type": "code",
   "execution_count": 64,
   "metadata": {},
   "outputs": [
    {
     "name": "stdout",
     "output_type": "stream",
     "text": [
      "          grupo converteu    spending             transacoes         \n",
      "          count      mean        mean         sum       mean      sum\n",
      "grupo                                                                \n",
      "alvo       5443  0.145692  602.413266   477713.72   2.534678   2010.0\n",
      "controle  88540  0.069957  389.229104  2410885.07   2.827091  17511.0\n",
      "_____________________\n",
      "Lift da conversão: 108.26%\n",
      "Estatística t do teste de diferença de proporções: 20.72\n",
      "P-valor do teste de diferença de proporções: 0.0\n",
      "Conclusão:\n",
      "A diferença de conversão é estatisticamente significativa\n",
      "______________________________________________________________\n",
      "Lift do spending: 54.77%\n",
      "Estatística t do teste de spending: 15.62\n",
      "P-valor do teste de spending: 0.0\n",
      "Conclusão:\n",
      "A diferença de spending é estatisticamente significativa\n",
      "______________________________________________________________\n",
      "Lift da frequência: -10.34%\n",
      "Estatística t do teste de frequencia: 11.27\n",
      "P-valor do teste de frequencia: 0.0\n",
      "A diferença de frequência é estatisticamente significativa\n",
      "______________________________________________________________\n"
     ]
    }
   ],
   "source": [
    "fc.testes_iterativos(inativos_v1_p.query('opens >= 1 | grupo == \"controle\"'))"
   ]
  },
  {
   "cell_type": "code",
   "execution_count": 40,
   "metadata": {},
   "outputs": [
    {
     "data": {
      "text/html": [
       "<div>\n",
       "<style scoped>\n",
       "    .dataframe tbody tr th:only-of-type {\n",
       "        vertical-align: middle;\n",
       "    }\n",
       "\n",
       "    .dataframe tbody tr th {\n",
       "        vertical-align: top;\n",
       "    }\n",
       "\n",
       "    .dataframe thead th {\n",
       "        text-align: right;\n",
       "    }\n",
       "</style>\n",
       "<table border=\"1\" class=\"dataframe\">\n",
       "  <thead>\n",
       "    <tr style=\"text-align: right;\">\n",
       "      <th></th>\n",
       "      <th></th>\n",
       "      <th>converteu</th>\n",
       "    </tr>\n",
       "    <tr>\n",
       "      <th>grupo</th>\n",
       "      <th>fx_limite</th>\n",
       "      <th></th>\n",
       "    </tr>\n",
       "  </thead>\n",
       "  <tbody>\n",
       "    <tr>\n",
       "      <th rowspan=\"10\" valign=\"top\">alvo</th>\n",
       "      <th>1</th>\n",
       "      <td>0.206397</td>\n",
       "    </tr>\n",
       "    <tr>\n",
       "      <th>2</th>\n",
       "      <td>0.201106</td>\n",
       "    </tr>\n",
       "    <tr>\n",
       "      <th>3</th>\n",
       "      <td>0.195162</td>\n",
       "    </tr>\n",
       "    <tr>\n",
       "      <th>4</th>\n",
       "      <td>0.102714</td>\n",
       "    </tr>\n",
       "    <tr>\n",
       "      <th>5</th>\n",
       "      <td>0.111773</td>\n",
       "    </tr>\n",
       "    <tr>\n",
       "      <th>6</th>\n",
       "      <td>0.104141</td>\n",
       "    </tr>\n",
       "    <tr>\n",
       "      <th>7</th>\n",
       "      <td>0.109623</td>\n",
       "    </tr>\n",
       "    <tr>\n",
       "      <th>8</th>\n",
       "      <td>0.132597</td>\n",
       "    </tr>\n",
       "    <tr>\n",
       "      <th>9</th>\n",
       "      <td>0.095360</td>\n",
       "    </tr>\n",
       "    <tr>\n",
       "      <th>10</th>\n",
       "      <td>0.089211</td>\n",
       "    </tr>\n",
       "    <tr>\n",
       "      <th rowspan=\"10\" valign=\"top\">controle</th>\n",
       "      <th>1</th>\n",
       "      <td>0.000000</td>\n",
       "    </tr>\n",
       "    <tr>\n",
       "      <th>2</th>\n",
       "      <td>0.207080</td>\n",
       "    </tr>\n",
       "    <tr>\n",
       "      <th>3</th>\n",
       "      <td>0.205330</td>\n",
       "    </tr>\n",
       "    <tr>\n",
       "      <th>4</th>\n",
       "      <td>0.103678</td>\n",
       "    </tr>\n",
       "    <tr>\n",
       "      <th>5</th>\n",
       "      <td>0.120939</td>\n",
       "    </tr>\n",
       "    <tr>\n",
       "      <th>6</th>\n",
       "      <td>0.107084</td>\n",
       "    </tr>\n",
       "    <tr>\n",
       "      <th>7</th>\n",
       "      <td>0.113928</td>\n",
       "    </tr>\n",
       "    <tr>\n",
       "      <th>8</th>\n",
       "      <td>0.112763</td>\n",
       "    </tr>\n",
       "    <tr>\n",
       "      <th>9</th>\n",
       "      <td>0.121685</td>\n",
       "    </tr>\n",
       "    <tr>\n",
       "      <th>10</th>\n",
       "      <td>0.091830</td>\n",
       "    </tr>\n",
       "  </tbody>\n",
       "</table>\n",
       "</div>"
      ],
      "text/plain": [
       "                    converteu\n",
       "grupo    fx_limite           \n",
       "alvo     1           0.206397\n",
       "         2           0.201106\n",
       "         3           0.195162\n",
       "         4           0.102714\n",
       "         5           0.111773\n",
       "         6           0.104141\n",
       "         7           0.109623\n",
       "         8           0.132597\n",
       "         9           0.095360\n",
       "         10          0.089211\n",
       "controle 1           0.000000\n",
       "         2           0.207080\n",
       "         3           0.205330\n",
       "         4           0.103678\n",
       "         5           0.120939\n",
       "         6           0.107084\n",
       "         7           0.113928\n",
       "         8           0.112763\n",
       "         9           0.121685\n",
       "         10          0.091830"
      ]
     },
     "execution_count": 40,
     "metadata": {},
     "output_type": "execute_result"
    }
   ],
   "source": [
    "inativos_v1_p[['converteu','grupo', 'fx_limite']].groupby(['grupo','fx_limite']).mean()"
   ]
  },
  {
   "cell_type": "code",
   "execution_count": 41,
   "metadata": {},
   "outputs": [
    {
     "data": {
      "text/html": [
       "<div>\n",
       "<style scoped>\n",
       "    .dataframe tbody tr th:only-of-type {\n",
       "        vertical-align: middle;\n",
       "    }\n",
       "\n",
       "    .dataframe tbody tr th {\n",
       "        vertical-align: top;\n",
       "    }\n",
       "\n",
       "    .dataframe thead th {\n",
       "        text-align: right;\n",
       "    }\n",
       "</style>\n",
       "<table border=\"1\" class=\"dataframe\">\n",
       "  <thead>\n",
       "    <tr style=\"text-align: right;\">\n",
       "      <th></th>\n",
       "      <th></th>\n",
       "      <th>converteu</th>\n",
       "    </tr>\n",
       "    <tr>\n",
       "      <th>grupo</th>\n",
       "      <th>fx_limite_disponivel</th>\n",
       "      <th></th>\n",
       "    </tr>\n",
       "  </thead>\n",
       "  <tbody>\n",
       "    <tr>\n",
       "      <th rowspan=\"10\" valign=\"top\">alvo</th>\n",
       "      <th>1</th>\n",
       "      <td>0.045982</td>\n",
       "    </tr>\n",
       "    <tr>\n",
       "      <th>2</th>\n",
       "      <td>0.308133</td>\n",
       "    </tr>\n",
       "    <tr>\n",
       "      <th>3</th>\n",
       "      <td>0.179356</td>\n",
       "    </tr>\n",
       "    <tr>\n",
       "      <th>4</th>\n",
       "      <td>0.183543</td>\n",
       "    </tr>\n",
       "    <tr>\n",
       "      <th>5</th>\n",
       "      <td>0.103739</td>\n",
       "    </tr>\n",
       "    <tr>\n",
       "      <th>6</th>\n",
       "      <td>0.113399</td>\n",
       "    </tr>\n",
       "    <tr>\n",
       "      <th>7</th>\n",
       "      <td>0.109795</td>\n",
       "    </tr>\n",
       "    <tr>\n",
       "      <th>8</th>\n",
       "      <td>0.122676</td>\n",
       "    </tr>\n",
       "    <tr>\n",
       "      <th>9</th>\n",
       "      <td>0.101347</td>\n",
       "    </tr>\n",
       "    <tr>\n",
       "      <th>10</th>\n",
       "      <td>0.081336</td>\n",
       "    </tr>\n",
       "    <tr>\n",
       "      <th rowspan=\"10\" valign=\"top\">controle</th>\n",
       "      <th>1</th>\n",
       "      <td>0.046117</td>\n",
       "    </tr>\n",
       "    <tr>\n",
       "      <th>2</th>\n",
       "      <td>0.299865</td>\n",
       "    </tr>\n",
       "    <tr>\n",
       "      <th>3</th>\n",
       "      <td>0.172306</td>\n",
       "    </tr>\n",
       "    <tr>\n",
       "      <th>4</th>\n",
       "      <td>0.168300</td>\n",
       "    </tr>\n",
       "    <tr>\n",
       "      <th>5</th>\n",
       "      <td>0.119870</td>\n",
       "    </tr>\n",
       "    <tr>\n",
       "      <th>6</th>\n",
       "      <td>0.115986</td>\n",
       "    </tr>\n",
       "    <tr>\n",
       "      <th>7</th>\n",
       "      <td>0.106891</td>\n",
       "    </tr>\n",
       "    <tr>\n",
       "      <th>8</th>\n",
       "      <td>0.125869</td>\n",
       "    </tr>\n",
       "    <tr>\n",
       "      <th>9</th>\n",
       "      <td>0.109169</td>\n",
       "    </tr>\n",
       "    <tr>\n",
       "      <th>10</th>\n",
       "      <td>0.084935</td>\n",
       "    </tr>\n",
       "  </tbody>\n",
       "</table>\n",
       "</div>"
      ],
      "text/plain": [
       "                               converteu\n",
       "grupo    fx_limite_disponivel           \n",
       "alvo     1                      0.045982\n",
       "         2                      0.308133\n",
       "         3                      0.179356\n",
       "         4                      0.183543\n",
       "         5                      0.103739\n",
       "         6                      0.113399\n",
       "         7                      0.109795\n",
       "         8                      0.122676\n",
       "         9                      0.101347\n",
       "         10                     0.081336\n",
       "controle 1                      0.046117\n",
       "         2                      0.299865\n",
       "         3                      0.172306\n",
       "         4                      0.168300\n",
       "         5                      0.119870\n",
       "         6                      0.115986\n",
       "         7                      0.106891\n",
       "         8                      0.125869\n",
       "         9                      0.109169\n",
       "         10                     0.084935"
      ]
     },
     "execution_count": 41,
     "metadata": {},
     "output_type": "execute_result"
    }
   ],
   "source": [
    "inativos_v1_p[['converteu','grupo', 'fx_limite_disponivel']].groupby(['grupo','fx_limite_disponivel']).mean()"
   ]
  },
  {
   "cell_type": "code",
   "execution_count": 42,
   "metadata": {},
   "outputs": [
    {
     "data": {
      "text/html": [
       "<div>\n",
       "<style scoped>\n",
       "    .dataframe tbody tr th:only-of-type {\n",
       "        vertical-align: middle;\n",
       "    }\n",
       "\n",
       "    .dataframe tbody tr th {\n",
       "        vertical-align: top;\n",
       "    }\n",
       "\n",
       "    .dataframe thead th {\n",
       "        text-align: right;\n",
       "    }\n",
       "</style>\n",
       "<table border=\"1\" class=\"dataframe\">\n",
       "  <thead>\n",
       "    <tr style=\"text-align: right;\">\n",
       "      <th></th>\n",
       "      <th></th>\n",
       "      <th>converteu</th>\n",
       "    </tr>\n",
       "    <tr>\n",
       "      <th>grupo</th>\n",
       "      <th>fx_iu</th>\n",
       "      <th></th>\n",
       "    </tr>\n",
       "  </thead>\n",
       "  <tbody>\n",
       "    <tr>\n",
       "      <th rowspan=\"10\" valign=\"top\">alvo</th>\n",
       "      <th>1</th>\n",
       "      <td>0.050637</td>\n",
       "    </tr>\n",
       "    <tr>\n",
       "      <th>2</th>\n",
       "      <td>0.042790</td>\n",
       "    </tr>\n",
       "    <tr>\n",
       "      <th>3</th>\n",
       "      <td>0.046202</td>\n",
       "    </tr>\n",
       "    <tr>\n",
       "      <th>4</th>\n",
       "      <td>0.049709</td>\n",
       "    </tr>\n",
       "    <tr>\n",
       "      <th>5</th>\n",
       "      <td>0.154510</td>\n",
       "    </tr>\n",
       "    <tr>\n",
       "      <th>6</th>\n",
       "      <td>0.197855</td>\n",
       "    </tr>\n",
       "    <tr>\n",
       "      <th>7</th>\n",
       "      <td>0.255631</td>\n",
       "    </tr>\n",
       "    <tr>\n",
       "      <th>8</th>\n",
       "      <td>0.282578</td>\n",
       "    </tr>\n",
       "    <tr>\n",
       "      <th>9</th>\n",
       "      <td>0.257305</td>\n",
       "    </tr>\n",
       "    <tr>\n",
       "      <th>10</th>\n",
       "      <td>0.052682</td>\n",
       "    </tr>\n",
       "    <tr>\n",
       "      <th rowspan=\"10\" valign=\"top\">controle</th>\n",
       "      <th>1</th>\n",
       "      <td>0.053333</td>\n",
       "    </tr>\n",
       "    <tr>\n",
       "      <th>2</th>\n",
       "      <td>NaN</td>\n",
       "    </tr>\n",
       "    <tr>\n",
       "      <th>3</th>\n",
       "      <td>NaN</td>\n",
       "    </tr>\n",
       "    <tr>\n",
       "      <th>4</th>\n",
       "      <td>0.045662</td>\n",
       "    </tr>\n",
       "    <tr>\n",
       "      <th>5</th>\n",
       "      <td>0.060587</td>\n",
       "    </tr>\n",
       "    <tr>\n",
       "      <th>6</th>\n",
       "      <td>0.199196</td>\n",
       "    </tr>\n",
       "    <tr>\n",
       "      <th>7</th>\n",
       "      <td>0.246276</td>\n",
       "    </tr>\n",
       "    <tr>\n",
       "      <th>8</th>\n",
       "      <td>0.274101</td>\n",
       "    </tr>\n",
       "    <tr>\n",
       "      <th>9</th>\n",
       "      <td>0.276119</td>\n",
       "    </tr>\n",
       "    <tr>\n",
       "      <th>10</th>\n",
       "      <td>0.056720</td>\n",
       "    </tr>\n",
       "  </tbody>\n",
       "</table>\n",
       "</div>"
      ],
      "text/plain": [
       "                converteu\n",
       "grupo    fx_iu           \n",
       "alvo     1       0.050637\n",
       "         2       0.042790\n",
       "         3       0.046202\n",
       "         4       0.049709\n",
       "         5       0.154510\n",
       "         6       0.197855\n",
       "         7       0.255631\n",
       "         8       0.282578\n",
       "         9       0.257305\n",
       "         10      0.052682\n",
       "controle 1       0.053333\n",
       "         2            NaN\n",
       "         3            NaN\n",
       "         4       0.045662\n",
       "         5       0.060587\n",
       "         6       0.199196\n",
       "         7       0.246276\n",
       "         8       0.274101\n",
       "         9       0.276119\n",
       "         10      0.056720"
      ]
     },
     "execution_count": 42,
     "metadata": {},
     "output_type": "execute_result"
    }
   ],
   "source": [
    "inativos_v1_p[['converteu','grupo', 'fx_iu']].groupby(['grupo','fx_iu']).mean()"
   ]
  },
  {
   "cell_type": "code",
   "execution_count": 43,
   "metadata": {},
   "outputs": [
    {
     "data": {
      "text/html": [
       "<div>\n",
       "<style scoped>\n",
       "    .dataframe tbody tr th:only-of-type {\n",
       "        vertical-align: middle;\n",
       "    }\n",
       "\n",
       "    .dataframe tbody tr th {\n",
       "        vertical-align: top;\n",
       "    }\n",
       "\n",
       "    .dataframe thead tr th {\n",
       "        text-align: left;\n",
       "    }\n",
       "\n",
       "    .dataframe thead tr:last-of-type th {\n",
       "        text-align: right;\n",
       "    }\n",
       "</style>\n",
       "<table border=\"1\" class=\"dataframe\">\n",
       "  <thead>\n",
       "    <tr>\n",
       "      <th></th>\n",
       "      <th colspan=\"2\" halign=\"left\">iu</th>\n",
       "    </tr>\n",
       "    <tr>\n",
       "      <th></th>\n",
       "      <th>min</th>\n",
       "      <th>max</th>\n",
       "    </tr>\n",
       "    <tr>\n",
       "      <th>fx_iu</th>\n",
       "      <th></th>\n",
       "      <th></th>\n",
       "    </tr>\n",
       "  </thead>\n",
       "  <tbody>\n",
       "    <tr>\n",
       "      <th>1</th>\n",
       "      <td>-1144.76</td>\n",
       "      <td>0.00</td>\n",
       "    </tr>\n",
       "    <tr>\n",
       "      <th>2</th>\n",
       "      <td>0.00</td>\n",
       "      <td>0.00</td>\n",
       "    </tr>\n",
       "    <tr>\n",
       "      <th>3</th>\n",
       "      <td>0.00</td>\n",
       "      <td>0.00</td>\n",
       "    </tr>\n",
       "    <tr>\n",
       "      <th>4</th>\n",
       "      <td>0.00</td>\n",
       "      <td>0.00</td>\n",
       "    </tr>\n",
       "    <tr>\n",
       "      <th>5</th>\n",
       "      <td>0.00</td>\n",
       "      <td>0.04</td>\n",
       "    </tr>\n",
       "    <tr>\n",
       "      <th>6</th>\n",
       "      <td>0.04</td>\n",
       "      <td>0.10</td>\n",
       "    </tr>\n",
       "    <tr>\n",
       "      <th>7</th>\n",
       "      <td>0.10</td>\n",
       "      <td>0.24</td>\n",
       "    </tr>\n",
       "    <tr>\n",
       "      <th>8</th>\n",
       "      <td>0.24</td>\n",
       "      <td>0.57</td>\n",
       "    </tr>\n",
       "    <tr>\n",
       "      <th>9</th>\n",
       "      <td>0.57</td>\n",
       "      <td>1.00</td>\n",
       "    </tr>\n",
       "    <tr>\n",
       "      <th>10</th>\n",
       "      <td>1.00</td>\n",
       "      <td>2121.48</td>\n",
       "    </tr>\n",
       "  </tbody>\n",
       "</table>\n",
       "</div>"
      ],
      "text/plain": [
       "            iu         \n",
       "           min      max\n",
       "fx_iu                  \n",
       "1     -1144.76     0.00\n",
       "2         0.00     0.00\n",
       "3         0.00     0.00\n",
       "4         0.00     0.00\n",
       "5         0.00     0.04\n",
       "6         0.04     0.10\n",
       "7         0.10     0.24\n",
       "8         0.24     0.57\n",
       "9         0.57     1.00\n",
       "10        1.00  2121.48"
      ]
     },
     "execution_count": 43,
     "metadata": {},
     "output_type": "execute_result"
    }
   ],
   "source": [
    "inativos_v1_p[['fx_iu', 'iu']].groupby('fx_iu').agg({'iu':['min', 'max']})"
   ]
  },
  {
   "cell_type": "code",
   "execution_count": 45,
   "metadata": {},
   "outputs": [
    {
     "data": {
      "text/plain": [
       "106294"
      ]
     },
     "execution_count": 45,
     "metadata": {},
     "output_type": "execute_result"
    }
   ],
   "source": [
    "len(inativos_v1_p.query('iu >0 & iu <=0.57'))"
   ]
  },
  {
   "cell_type": "code",
   "execution_count": 59,
   "metadata": {},
   "outputs": [
    {
     "data": {
      "text/html": [
       "<div>\n",
       "<style scoped>\n",
       "    .dataframe tbody tr th:only-of-type {\n",
       "        vertical-align: middle;\n",
       "    }\n",
       "\n",
       "    .dataframe tbody tr th {\n",
       "        vertical-align: top;\n",
       "    }\n",
       "\n",
       "    .dataframe thead th {\n",
       "        text-align: right;\n",
       "    }\n",
       "</style>\n",
       "<table border=\"1\" class=\"dataframe\">\n",
       "  <thead>\n",
       "    <tr style=\"text-align: right;\">\n",
       "      <th></th>\n",
       "      <th>converteu</th>\n",
       "    </tr>\n",
       "    <tr>\n",
       "      <th>grupo</th>\n",
       "      <th></th>\n",
       "    </tr>\n",
       "  </thead>\n",
       "  <tbody>\n",
       "    <tr>\n",
       "      <th>alvo</th>\n",
       "      <td>95724</td>\n",
       "    </tr>\n",
       "    <tr>\n",
       "      <th>controle</th>\n",
       "      <td>10570</td>\n",
       "    </tr>\n",
       "  </tbody>\n",
       "</table>\n",
       "</div>"
      ],
      "text/plain": [
       "          converteu\n",
       "grupo              \n",
       "alvo          95724\n",
       "controle      10570"
      ]
     },
     "execution_count": 59,
     "metadata": {},
     "output_type": "execute_result"
    }
   ],
   "source": [
    "inativos_v1_p.query('iu >0 & iu <=0.57') \\\n",
    "[['converteu','grupo']].groupby(['grupo']).count()"
   ]
  },
  {
   "cell_type": "code",
   "execution_count": 48,
   "metadata": {},
   "outputs": [
    {
     "data": {
      "text/html": [
       "<div>\n",
       "<style scoped>\n",
       "    .dataframe tbody tr th:only-of-type {\n",
       "        vertical-align: middle;\n",
       "    }\n",
       "\n",
       "    .dataframe tbody tr th {\n",
       "        vertical-align: top;\n",
       "    }\n",
       "\n",
       "    .dataframe thead th {\n",
       "        text-align: right;\n",
       "    }\n",
       "</style>\n",
       "<table border=\"1\" class=\"dataframe\">\n",
       "  <thead>\n",
       "    <tr style=\"text-align: right;\">\n",
       "      <th></th>\n",
       "      <th>converteu</th>\n",
       "    </tr>\n",
       "    <tr>\n",
       "      <th>grupo</th>\n",
       "      <th></th>\n",
       "    </tr>\n",
       "  </thead>\n",
       "  <tbody>\n",
       "    <tr>\n",
       "      <th>alvo</th>\n",
       "      <td>0.196935</td>\n",
       "    </tr>\n",
       "    <tr>\n",
       "      <th>controle</th>\n",
       "      <td>0.228382</td>\n",
       "    </tr>\n",
       "  </tbody>\n",
       "</table>\n",
       "</div>"
      ],
      "text/plain": [
       "          converteu\n",
       "grupo              \n",
       "alvo       0.196935\n",
       "controle   0.228382"
      ]
     },
     "execution_count": 48,
     "metadata": {},
     "output_type": "execute_result"
    }
   ],
   "source": [
    "inativos_v1_p.query('iu >0 & iu <=0.57') \\\n",
    ".query('opens >= 1 | grupo == \"controle\"') \\\n",
    "[['converteu','grupo']].groupby(['grupo']).mean()\n"
   ]
  },
  {
   "cell_type": "code",
   "execution_count": 49,
   "metadata": {},
   "outputs": [
    {
     "data": {
      "text/html": [
       "<div>\n",
       "<style scoped>\n",
       "    .dataframe tbody tr th:only-of-type {\n",
       "        vertical-align: middle;\n",
       "    }\n",
       "\n",
       "    .dataframe tbody tr th {\n",
       "        vertical-align: top;\n",
       "    }\n",
       "\n",
       "    .dataframe thead th {\n",
       "        text-align: right;\n",
       "    }\n",
       "</style>\n",
       "<table border=\"1\" class=\"dataframe\">\n",
       "  <thead>\n",
       "    <tr style=\"text-align: right;\">\n",
       "      <th></th>\n",
       "      <th>converteu</th>\n",
       "    </tr>\n",
       "    <tr>\n",
       "      <th>grupo</th>\n",
       "      <th></th>\n",
       "    </tr>\n",
       "  </thead>\n",
       "  <tbody>\n",
       "    <tr>\n",
       "      <th>alvo</th>\n",
       "      <td>2610</td>\n",
       "    </tr>\n",
       "    <tr>\n",
       "      <th>controle</th>\n",
       "      <td>10570</td>\n",
       "    </tr>\n",
       "  </tbody>\n",
       "</table>\n",
       "</div>"
      ],
      "text/plain": [
       "          converteu\n",
       "grupo              \n",
       "alvo           2610\n",
       "controle      10570"
      ]
     },
     "execution_count": 49,
     "metadata": {},
     "output_type": "execute_result"
    }
   ],
   "source": [
    "inativos_v1_p.query('iu >0 & iu <=0.57') \\\n",
    ".query('opens >= 1 | grupo == \"controle\"') \\\n",
    "[['converteu','grupo']].groupby(['grupo']).count()"
   ]
  },
  {
   "cell_type": "code",
   "execution_count": 60,
   "metadata": {},
   "outputs": [
    {
     "data": {
      "text/plain": [
       "Index(['cpf', 'grupo_comunicacao', 'segmento_mcc_agg', 'nr_score_ie',\n",
       "       'yearmonth_ie', 'status', 'safra', 'conta_cartao', 'converteu',\n",
       "       'transacoes', 'spending', 'spending_corr', 'transacoes_corr', 'to',\n",
       "       'ds_cluster_sociodemographic', 'opens', 'clicks', 'send_at_min',\n",
       "       'send_at_max', 'limite', 'limite_disponivel', 'iu', 'flag_opens',\n",
       "       'cluster_persona', 'grupo', 'fx_iu', 'fx_limite',\n",
       "       'fx_limite_disponivel'],\n",
       "      dtype='object')"
      ]
     },
     "execution_count": 60,
     "metadata": {},
     "output_type": "execute_result"
    }
   ],
   "source": [
    "inativos_v1_p.columns"
   ]
  },
  {
   "cell_type": "code",
   "execution_count": 61,
   "metadata": {},
   "outputs": [
    {
     "data": {
      "text/html": [
       "<div>\n",
       "<style scoped>\n",
       "    .dataframe tbody tr th:only-of-type {\n",
       "        vertical-align: middle;\n",
       "    }\n",
       "\n",
       "    .dataframe tbody tr th {\n",
       "        vertical-align: top;\n",
       "    }\n",
       "\n",
       "    .dataframe thead th {\n",
       "        text-align: right;\n",
       "    }\n",
       "</style>\n",
       "<table border=\"1\" class=\"dataframe\">\n",
       "  <thead>\n",
       "    <tr style=\"text-align: right;\">\n",
       "      <th></th>\n",
       "      <th></th>\n",
       "      <th>converteu</th>\n",
       "    </tr>\n",
       "    <tr>\n",
       "      <th>grupo</th>\n",
       "      <th>segmento_mcc_agg</th>\n",
       "      <th></th>\n",
       "    </tr>\n",
       "  </thead>\n",
       "  <tbody>\n",
       "    <tr>\n",
       "      <th rowspan=\"6\" valign=\"top\">alvo</th>\n",
       "      <th>0 - OUTROS</th>\n",
       "      <td>0.067081</td>\n",
       "    </tr>\n",
       "    <tr>\n",
       "      <th>1 - SUPERMERCADO</th>\n",
       "      <td>0.227468</td>\n",
       "    </tr>\n",
       "    <tr>\n",
       "      <th>2 - LOJAS DE DEPARTAMENTO</th>\n",
       "      <td>0.330882</td>\n",
       "    </tr>\n",
       "    <tr>\n",
       "      <th>3 - SERVICOS DE ALIMENTACAO</th>\n",
       "      <td>0.226115</td>\n",
       "    </tr>\n",
       "    <tr>\n",
       "      <th>4 - SAUDE</th>\n",
       "      <td>0.382114</td>\n",
       "    </tr>\n",
       "    <tr>\n",
       "      <th>5 - LOJAS ESPECIALIZADAS</th>\n",
       "      <td>0.191398</td>\n",
       "    </tr>\n",
       "    <tr>\n",
       "      <th rowspan=\"6\" valign=\"top\">controle</th>\n",
       "      <th>0 - OUTROS</th>\n",
       "      <td>0.069472</td>\n",
       "    </tr>\n",
       "    <tr>\n",
       "      <th>1 - SUPERMERCADO</th>\n",
       "      <td>0.352941</td>\n",
       "    </tr>\n",
       "    <tr>\n",
       "      <th>2 - LOJAS DE DEPARTAMENTO</th>\n",
       "      <td>0.370370</td>\n",
       "    </tr>\n",
       "    <tr>\n",
       "      <th>3 - SERVICOS DE ALIMENTACAO</th>\n",
       "      <td>0.290323</td>\n",
       "    </tr>\n",
       "    <tr>\n",
       "      <th>4 - SAUDE</th>\n",
       "      <td>0.384615</td>\n",
       "    </tr>\n",
       "    <tr>\n",
       "      <th>5 - LOJAS ESPECIALIZADAS</th>\n",
       "      <td>0.254545</td>\n",
       "    </tr>\n",
       "  </tbody>\n",
       "</table>\n",
       "</div>"
      ],
      "text/plain": [
       "                                      converteu\n",
       "grupo    segmento_mcc_agg                      \n",
       "alvo     0 - OUTROS                    0.067081\n",
       "         1 - SUPERMERCADO              0.227468\n",
       "         2 - LOJAS DE DEPARTAMENTO     0.330882\n",
       "         3 - SERVICOS DE ALIMENTACAO   0.226115\n",
       "         4 - SAUDE                     0.382114\n",
       "         5 - LOJAS ESPECIALIZADAS      0.191398\n",
       "controle 0 - OUTROS                    0.069472\n",
       "         1 - SUPERMERCADO              0.352941\n",
       "         2 - LOJAS DE DEPARTAMENTO     0.370370\n",
       "         3 - SERVICOS DE ALIMENTACAO   0.290323\n",
       "         4 - SAUDE                     0.384615\n",
       "         5 - LOJAS ESPECIALIZADAS      0.254545"
      ]
     },
     "execution_count": 61,
     "metadata": {},
     "output_type": "execute_result"
    }
   ],
   "source": [
    "inativos_v1_p[['converteu','grupo', 'segmento_mcc_agg']].groupby(['grupo','segmento_mcc_agg']).mean()"
   ]
  },
  {
   "cell_type": "code",
   "execution_count": 62,
   "metadata": {},
   "outputs": [
    {
     "data": {
      "text/html": [
       "<div>\n",
       "<style scoped>\n",
       "    .dataframe tbody tr th:only-of-type {\n",
       "        vertical-align: middle;\n",
       "    }\n",
       "\n",
       "    .dataframe tbody tr th {\n",
       "        vertical-align: top;\n",
       "    }\n",
       "\n",
       "    .dataframe thead th {\n",
       "        text-align: right;\n",
       "    }\n",
       "</style>\n",
       "<table border=\"1\" class=\"dataframe\">\n",
       "  <thead>\n",
       "    <tr style=\"text-align: right;\">\n",
       "      <th></th>\n",
       "      <th>converteu</th>\n",
       "    </tr>\n",
       "    <tr>\n",
       "      <th>grupo</th>\n",
       "      <th></th>\n",
       "    </tr>\n",
       "  </thead>\n",
       "  <tbody>\n",
       "    <tr>\n",
       "      <th>alvo</th>\n",
       "      <td>0.382114</td>\n",
       "    </tr>\n",
       "    <tr>\n",
       "      <th>controle</th>\n",
       "      <td>0.384615</td>\n",
       "    </tr>\n",
       "  </tbody>\n",
       "</table>\n",
       "</div>"
      ],
      "text/plain": [
       "          converteu\n",
       "grupo              \n",
       "alvo       0.382114\n",
       "controle   0.384615"
      ]
     },
     "execution_count": 62,
     "metadata": {},
     "output_type": "execute_result"
    }
   ],
   "source": [
    "inativos_v1_p.query('segmento_mcc_agg == \"4 - SAUDE\"') \\\n",
    "[['converteu','grupo']].groupby(['grupo']).mean()\n"
   ]
  },
  {
   "cell_type": "code",
   "execution_count": 63,
   "metadata": {},
   "outputs": [
    {
     "data": {
      "text/html": [
       "<div>\n",
       "<style scoped>\n",
       "    .dataframe tbody tr th:only-of-type {\n",
       "        vertical-align: middle;\n",
       "    }\n",
       "\n",
       "    .dataframe tbody tr th {\n",
       "        vertical-align: top;\n",
       "    }\n",
       "\n",
       "    .dataframe thead th {\n",
       "        text-align: right;\n",
       "    }\n",
       "</style>\n",
       "<table border=\"1\" class=\"dataframe\">\n",
       "  <thead>\n",
       "    <tr style=\"text-align: right;\">\n",
       "      <th></th>\n",
       "      <th>converteu</th>\n",
       "    </tr>\n",
       "    <tr>\n",
       "      <th>grupo</th>\n",
       "      <th></th>\n",
       "    </tr>\n",
       "  </thead>\n",
       "  <tbody>\n",
       "    <tr>\n",
       "      <th>alvo</th>\n",
       "      <td>0.222222</td>\n",
       "    </tr>\n",
       "    <tr>\n",
       "      <th>controle</th>\n",
       "      <td>0.384615</td>\n",
       "    </tr>\n",
       "  </tbody>\n",
       "</table>\n",
       "</div>"
      ],
      "text/plain": [
       "          converteu\n",
       "grupo              \n",
       "alvo       0.222222\n",
       "controle   0.384615"
      ]
     },
     "execution_count": 63,
     "metadata": {},
     "output_type": "execute_result"
    }
   ],
   "source": [
    "inativos_v1_p.query('segmento_mcc_agg == \"4 - SAUDE\"') \\\n",
    ".query('opens >= 1 | grupo == \"controle\"') \\\n",
    "[['converteu','grupo']].groupby(['grupo']).mean()"
   ]
  },
  {
   "attachments": {},
   "cell_type": "markdown",
   "metadata": {},
   "source": [
    "- Trazer recencia"
   ]
  },
  {
   "cell_type": "code",
   "execution_count": 28,
   "metadata": {},
   "outputs": [
    {
     "name": "stdout",
     "output_type": "stream",
     "text": [
      "(CVXPY) Apr 11 12:45:06 PM: Encountered unexpected exception importing solver GLOP:\n",
      "RuntimeError('Unrecognized new version of ortools (9.5.2237). Expected < 9.5.0.Please open a feature request on cvxpy to enable support for this version.')\n",
      "(CVXPY) Apr 11 12:45:06 PM: Encountered unexpected exception importing solver PDLP:\n",
      "RuntimeError('Unrecognized new version of ortools (9.5.2237). Expected < 9.5.0.Please open a feature request on cvxpy to enable support for this version.')\n"
     ]
    }
   ],
   "source": [
    "from pylift import TransformedOutcome\n",
    "from sklearn.model_selection import train_test_split\n",
    "from sklearn.linear_model import LogisticRegression\n",
    "from optbinning import OptimalBinning\n",
    "from optbinning import BinningProcess"
   ]
  },
  {
   "attachments": {},
   "cell_type": "markdown",
   "metadata": {},
   "source": [
    "- Rodar Uplift"
   ]
  },
  {
   "cell_type": "code",
   "execution_count": 30,
   "metadata": {},
   "outputs": [],
   "source": [
    "inativos_v1_p['flag_grupo'] = [0 if x == 'Sem comunicação' else 1 for x in inativos_v1_p['grupo_comunicacao']]"
   ]
  },
  {
   "cell_type": "code",
   "execution_count": 35,
   "metadata": {},
   "outputs": [],
   "source": [
    "inativos_v1_p['ds_cluster_sociodemographic'] = np.where(inativos_v1_p['ds_cluster_sociodemographic'] == None, inativos_v1_p['ds_cluster_sociodemographic'].mode()[0], inativos_v1_p['ds_cluster_sociodemographic'])\n",
    "inativos_v1_p['ds_cluster_sociodemographic'] = inativos_v1_p['ds_cluster_sociodemographic'].astype('string')\n",
    "inativos_v1_p['cluster_persona'] = inativos_v1_p['ds_cluster_sociodemographic'].str[0:2]\n",
    "inativos_v1_p['cluster_persona'] = inativos_v1_p['cluster_persona'].astype('int')\n",
    "inativos_v1_p = inativos_v1_p.replace([np.inf, -np.inf], 0)"
   ]
  },
  {
   "cell_type": "code",
   "execution_count": 36,
   "metadata": {},
   "outputs": [],
   "source": [
    "clf = LogisticRegression()\n",
    "\n",
    "up = TransformedOutcome(inativos_v1_p[['flag_grupo', 'converteu', 'limite_disponivel', 'limite', 'iu', 'recencia',\n",
    "                                                            'nr_score_ie','segmento_mcc_agg','cluster_persona']]\n",
    "                        , col_treatment='flag_grupo', col_outcome='converteu', sklearn_model=LogisticRegression)"
   ]
  },
  {
   "cell_type": "code",
   "execution_count": 37,
   "metadata": {},
   "outputs": [
    {
     "data": {
      "text/plain": [
       "<AxesSubplot:xlabel='NIV', ylabel='Features'>"
      ]
     },
     "execution_count": 37,
     "metadata": {},
     "output_type": "execute_result"
    },
    {
     "data": {
      "image/png": "[encoded data removed]",
      "text/plain": [
       "<Figure size 1080x504 with 1 Axes>"
      ]
     },
     "metadata": {
      "needs_background": "light"
     },
     "output_type": "display_data"
    }
   ],
   "source": [
    "up.NIV()"
   ]
  },
  {
   "cell_type": "code",
   "execution_count": 38,
   "metadata": {},
   "outputs": [
    {
     "data": {
      "text/plain": [
       "<AxesSubplot:title={'center':'NWOE by bin for cluster_persona'}, xlabel='Bin Interval'>"
      ]
     },
     "execution_count": 38,
     "metadata": {},
     "output_type": "execute_result"
    },
    {
     "data": {
      "image/png": "[encoded data removed]",
      "text/plain": [
       "<Figure size 1080x720 with 1 Axes>"
      ]
     },
     "metadata": {
      "needs_background": "light"
     },
     "output_type": "display_data"
    },
    {
     "data": {
      "image/png": "[encoded data removed]",
      "text/plain": [
       "<Figure size 1080x720 with 1 Axes>"
      ]
     },
     "metadata": {
      "needs_background": "light"
     },
     "output_type": "display_data"
    },
    {
     "data": {
      "image/png": "[encoded data removed]",
      "text/plain": [
       "<Figure size 1080x720 with 1 Axes>"
      ]
     },
     "metadata": {
      "needs_background": "light"
     },
     "output_type": "display_data"
    },
    {
     "data": {
      "image/png": "[encoded data removed]",
      "text/plain": [
       "<Figure size 1080x720 with 1 Axes>"
      ]
     },
     "metadata": {
      "needs_background": "light"
     },
     "output_type": "display_data"
    },
    {
     "data": {
      "image/png": "[encoded data removed]",
      "text/plain": [
       "<Figure size 1080x720 with 1 Axes>"
      ]
     },
     "metadata": {
      "needs_background": "light"
     },
     "output_type": "display_data"
    },
    {
     "data": {
      "image/png": "[encoded data removed]",
      "text/plain": [
       "<Figure size 1080x720 with 1 Axes>"
      ]
     },
     "metadata": {
      "needs_background": "light"
     },
     "output_type": "display_data"
    },
    {
     "data": {
      "image/png": "[encoded data removed]",
      "text/plain": [
       "<Figure size 1080x720 with 1 Axes>"
      ]
     },
     "metadata": {
      "needs_background": "light"
     },
     "output_type": "display_data"
    }
   ],
   "source": [
    "up.NWOE()"
   ]
  }
 ],
 "metadata": {
  "kernelspec": {
   "display_name": "Python 3",
   "language": "python",
   "name": "python3"
  },
  "language_info": {
   "codemirror_mode": {
    "name": "ipython",
    "version": 3
   },
   "file_extension": ".py",
   "mimetype": "text/x-python",
   "name": "python",
   "nbconvert_exporter": "python",
   "pygments_lexer": "ipython3",
   "version": "3.8.10"
  },
  "orig_nbformat": 4
 },
 "nbformat": 4,
 "nbformat_minor": 2
}
