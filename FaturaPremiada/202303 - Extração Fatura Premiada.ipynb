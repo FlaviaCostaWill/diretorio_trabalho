{
 "cells": [
  {
   "cell_type": "code",
   "execution_count": 4,
   "metadata": {},
   "outputs": [],
   "source": [
    "import pandas as pd\n",
    "import numpy as np\n",
    "import os as os\n",
    "import aux.acessos as ac\n",
    "import aux.aed as aed\n",
    "import pickle\n",
    "import seaborn as sns\n",
    "import matplotlib.pyplot as plt\n",
    "import datetime"
   ]
  },
  {
   "attachments": {},
   "cell_type": "markdown",
   "metadata": {},
   "source": [
    "## ATIVOS"
   ]
  },
  {
   "cell_type": "code",
   "execution_count": 20,
   "metadata": {},
   "outputs": [],
   "source": [
    "query_ativo = f\"\"\"\n",
    "\n",
    "with seg_consumo_with_dict as (\n",
    "\tselect distinct\n",
    "\t\t\ta.mes_ref\n",
    "\t\t\t,a.customer_id\n",
    "\t\t\t,a.mcc as mcc1\n",
    "\t\t\t,a.labels\n",
    "\t\t\t,b.*\n",
    "\tfrom marketplace_sandbox_zone.mktp_model_segmentacao_mcc_analytical_flex_1m as a\n",
    "\tleft join marketplace_sandbox_zone.mktp_dict_model_segmentacao_mcc_flex_1m as b\n",
    "\ton\n",
    "\t\t\t(a.mcc = b.mcc and a.mes_ref = b.mes_ref and a.labels = b.labels)\n",
    "\twhere\ta.mes_ref = '2023-01'\n",
    "\torder by 1,2,3\n",
    ")\n",
    ", seg_consumo_agg as (\n",
    "select \n",
    "\tcustomer_id\n",
    "\t, MAX(case \n",
    "\t\twhen mcc1 = 'LOJAS ESPECIALIZADAS' then '5 - LOJAS ESPECIALIZADAS'\n",
    "\t\twhen mcc1 = 'SAUDE' then '4 - SAUDE'\n",
    "\t\twhen mcc1 = 'SERVICOS DE ALIMENTACAO' then '3 - SERVICOS DE ALIMENTACAO'\n",
    "\t\twhen mcc1 = 'LOJAS DE DEPARTAMENTO' then '2 - LOJAS DE DEPARTAMENTO'\n",
    "\t\twhen mcc1 = 'SUPERMERCADO' then '1 - SUPERMERCADO' \n",
    "\t\telse '0 - OUTROS' end) as segmento_mcc_agg\n",
    "from seg_consumo_with_dict\n",
    "\tgroup by 1\n",
    ")\n",
    ", ultimo_ie as (\n",
    "\tselect distinct\n",
    "\tcd_cpf, max(cd_yearmonth) over (partition by 1) as ult_yearmonth\n",
    "\tfrom customer_curated_zone.ca_model_ie_cliente\n",
    ")\n",
    ", ultima_compra as (\n",
    "\tselect \n",
    "\tid_customer\n",
    "\t,max(cd_yearmonth) as ult_compra_mes\n",
    "\tfrom \n",
    "\tcustomer_curated_zone.ca_book_cartao\n",
    "\tgroup by 1\n",
    ")\n",
    ",  info_cliente as\t(\n",
    "\t select \n",
    "\t id_customer\n",
    "\t , cpf \n",
    "\t, to_date(concat(cast(min(cd_yearmonth) as varchar),'01'), 'yyyymmdd') as safra\n",
    "\tfrom \n",
    "\tcustomer_curated_zone.ca_book_cliente \t\n",
    "\tgroup by \n",
    "\t\t1,2)\n",
    ", base_final as (\n",
    "select \n",
    "*\n",
    ", case \n",
    "\twhen grupo_2 = 10 then\t'Comunicação Genérica'\n",
    "\twhen grupo_2 = 0 then   'Sem comunicação'\n",
    "\telse 'Comunicação MCC'\n",
    "end as grupo_comunicacao\n",
    "from \n",
    "\t(\n",
    "select \n",
    "\ta.cpf\n",
    " \t, b.safra\n",
    " \t, ie.nr_score_ie\n",
    "  \t, ui.ult_yearmonth\n",
    "\t, case \n",
    "\t\twhen flag_pmm = 'churn' then '3 - Churn'\n",
    "\t\telse propensao end as propensao\n",
    "\t, grupo\n",
    "\t, case \n",
    "\t\twhen flag_pmm = 'churn' then 'Inativo'\n",
    "\t\twhen flag_pmm = 'pré-churn' then 'Ativo'\n",
    "\t\twhen a.ds_status_cliente = '0c - Inativo' then 'Inativo'\n",
    "\t\twhen a.ds_status_cliente is not null then a.ds_status_cliente\n",
    "\telse 'Inativo' end as status\n",
    "\t, case \n",
    "\t\twhen grupo = 'Teste' then NTILE (10) OVER (partition by c.segmento_mcc_agg ORDER BY random())\t\n",
    "\t\twhen grupo <> 'Teste' then 0\n",
    "\t\tend as grupo_2\n",
    "\t, case when c.segmento_mcc_agg is null then '0 - OUTROS' else c.segmento_mcc_agg end as segmento_mcc_agg\n",
    "\tfrom cxm_sandbox_zone.pre_fatura_turbinada_flag_pmm a\n",
    "\tleft join info_cliente b on (b.cpf = a.cpf)\n",
    "\tleft join seg_consumo_agg c on (c.customer_id = b.id_customer)\n",
    " \tleft join ultimo_ie ui on (b.cpf = ui.cd_cpf)\n",
    " \tleft join customer_curated_zone.ca_model_ie_cliente ie on (b.cpf = ie.cd_cpf and ie.cd_yearmonth = ui.ult_yearmonth)\n",
    "\t)\n",
    ")\n",
    "select\n",
    "cpf\n",
    ", max(grupo_comunicacao) as grupo_comunicacao\n",
    ", max(segmento_mcc_agg) as segmento_mcc_agg\n",
    ", max(nr_score_ie) as nr_score_ie\n",
    ", max(ult_yearmonth) as yearmonth_ie\n",
    ", max(status) as status\n",
    ", max(safra) as safra\n",
    "from base_final\n",
    "where status = 'Ativo'\n",
    "\"\"\""
   ]
  },
  {
   "cell_type": "code",
   "execution_count": 21,
   "metadata": {},
   "outputs": [
    {
     "name": "stdout",
     "output_type": "stream",
     "text": [
      "1 - SUPERMERCADO\n"
     ]
    },
    {
     "name": "stderr",
     "output_type": "stream",
     "text": [
      "/tmp/ipykernel_1038431/2364746422.py:11: FutureWarning: The frame.append method is deprecated and will be removed from pandas in a future version. Use pandas.concat instead.\n",
      "  ativos = ativos.append(temp_df)\n"
     ]
    },
    {
     "name": "stdout",
     "output_type": "stream",
     "text": [
      "2 - LOJAS DE DEPARTAMENTO\n"
     ]
    },
    {
     "name": "stderr",
     "output_type": "stream",
     "text": [
      "/tmp/ipykernel_1038431/2364746422.py:11: FutureWarning: The frame.append method is deprecated and will be removed from pandas in a future version. Use pandas.concat instead.\n",
      "  ativos = ativos.append(temp_df)\n"
     ]
    },
    {
     "name": "stdout",
     "output_type": "stream",
     "text": [
      "3 - SERVICOS DE ALIMENTACAO\n"
     ]
    },
    {
     "name": "stderr",
     "output_type": "stream",
     "text": [
      "/tmp/ipykernel_1038431/2364746422.py:11: FutureWarning: The frame.append method is deprecated and will be removed from pandas in a future version. Use pandas.concat instead.\n",
      "  ativos = ativos.append(temp_df)\n"
     ]
    },
    {
     "name": "stdout",
     "output_type": "stream",
     "text": [
      "4 - SAUDE\n"
     ]
    },
    {
     "name": "stderr",
     "output_type": "stream",
     "text": [
      "/tmp/ipykernel_1038431/2364746422.py:11: FutureWarning: The frame.append method is deprecated and will be removed from pandas in a future version. Use pandas.concat instead.\n",
      "  ativos = ativos.append(temp_df)\n"
     ]
    },
    {
     "name": "stdout",
     "output_type": "stream",
     "text": [
      "5 - LOJAS ESPECIALIZADAS\n"
     ]
    },
    {
     "name": "stderr",
     "output_type": "stream",
     "text": [
      "/tmp/ipykernel_1038431/2364746422.py:11: FutureWarning: The frame.append method is deprecated and will be removed from pandas in a future version. Use pandas.concat instead.\n",
      "  ativos = ativos.append(temp_df)\n"
     ]
    },
    {
     "name": "stdout",
     "output_type": "stream",
     "text": [
      "0 - OUTROS\n"
     ]
    },
    {
     "name": "stderr",
     "output_type": "stream",
     "text": [
      "/tmp/ipykernel_1038431/2364746422.py:11: FutureWarning: The frame.append method is deprecated and will be removed from pandas in a future version. Use pandas.concat instead.\n",
      "  ativos = ativos.append(temp_df)\n"
     ]
    }
   ],
   "source": [
    "grupos = [ '1 - SUPERMERCADO', '2 - LOJAS DE DEPARTAMENTO', '3 - SERVICOS DE ALIMENTACAO', '4 - SAUDE', '5 - LOJAS ESPECIALIZADAS', '0 - OUTROS']\n",
    "\n",
    "ativos = pd.DataFrame()\n",
    "\n",
    "for i in grupos:\n",
    "     query_ativo_new = query_ativo + \"and segmento_mcc_agg = '\" \n",
    "     query_ativo_new = query_ativo_new + i + \"'\"\n",
    "     query_ativo_new = query_ativo_new + \"group by 1\"\n",
    "     print(i)\n",
    "     temp_df = ac.df_athena_q('flavia-costa', query_ativo_new)\n",
    "     ativos = ativos.append(temp_df) "
   ]
  },
  {
   "cell_type": "code",
   "execution_count": 22,
   "metadata": {},
   "outputs": [
    {
     "data": {
      "text/plain": [
       "1728480"
      ]
     },
     "execution_count": 22,
     "metadata": {},
     "output_type": "execute_result"
    }
   ],
   "source": [
    "len(ativos)"
   ]
  },
  {
   "cell_type": "code",
   "execution_count": 23,
   "metadata": {},
   "outputs": [
    {
     "data": {
      "text/plain": [
       "segmento_mcc_agg\n",
       "0 - OUTROS                     774858\n",
       "4 - SAUDE                      264899\n",
       "3 - SERVICOS DE ALIMENTACAO    222620\n",
       "2 - LOJAS DE DEPARTAMENTO      217268\n",
       "1 - SUPERMERCADO               124666\n",
       "5 - LOJAS ESPECIALIZADAS       124169\n",
       "dtype: int64"
      ]
     },
     "execution_count": 23,
     "metadata": {},
     "output_type": "execute_result"
    }
   ],
   "source": [
    "ativos.value_counts('segmento_mcc_agg')"
   ]
  },
  {
   "cell_type": "code",
   "execution_count": 24,
   "metadata": {},
   "outputs": [
    {
     "data": {
      "text/plain": [
       "status\n",
       "Ativo    1728480\n",
       "dtype: int64"
      ]
     },
     "execution_count": 24,
     "metadata": {},
     "output_type": "execute_result"
    }
   ],
   "source": [
    "ativos.value_counts('status')"
   ]
  },
  {
   "cell_type": "code",
   "execution_count": 25,
   "metadata": {},
   "outputs": [
    {
     "data": {
      "text/html": [
       "<div>\n",
       "<style scoped>\n",
       "    .dataframe tbody tr th:only-of-type {\n",
       "        vertical-align: middle;\n",
       "    }\n",
       "\n",
       "    .dataframe tbody tr th {\n",
       "        vertical-align: top;\n",
       "    }\n",
       "\n",
       "    .dataframe thead th {\n",
       "        text-align: right;\n",
       "    }\n",
       "</style>\n",
       "<table border=\"1\" class=\"dataframe\">\n",
       "  <thead>\n",
       "    <tr style=\"text-align: right;\">\n",
       "      <th>grupo_comunicacao</th>\n",
       "      <th>Comunicação Genérica</th>\n",
       "      <th>Comunicação MCC</th>\n",
       "      <th>Sem comunicação</th>\n",
       "    </tr>\n",
       "    <tr>\n",
       "      <th>segmento_mcc_agg</th>\n",
       "      <th></th>\n",
       "      <th></th>\n",
       "      <th></th>\n",
       "    </tr>\n",
       "  </thead>\n",
       "  <tbody>\n",
       "    <tr>\n",
       "      <th>0 - OUTROS</th>\n",
       "      <td>64699</td>\n",
       "      <td>632263</td>\n",
       "      <td>77896</td>\n",
       "    </tr>\n",
       "    <tr>\n",
       "      <th>1 - SUPERMERCADO</th>\n",
       "      <td>11213</td>\n",
       "      <td>100946</td>\n",
       "      <td>12507</td>\n",
       "    </tr>\n",
       "    <tr>\n",
       "      <th>2 - LOJAS DE DEPARTAMENTO</th>\n",
       "      <td>19573</td>\n",
       "      <td>176116</td>\n",
       "      <td>21579</td>\n",
       "    </tr>\n",
       "    <tr>\n",
       "      <th>3 - SERVICOS DE ALIMENTACAO</th>\n",
       "      <td>20082</td>\n",
       "      <td>180201</td>\n",
       "      <td>22337</td>\n",
       "    </tr>\n",
       "    <tr>\n",
       "      <th>4 - SAUDE</th>\n",
       "      <td>23773</td>\n",
       "      <td>214861</td>\n",
       "      <td>26265</td>\n",
       "    </tr>\n",
       "    <tr>\n",
       "      <th>5 - LOJAS ESPECIALIZADAS</th>\n",
       "      <td>11235</td>\n",
       "      <td>100439</td>\n",
       "      <td>12495</td>\n",
       "    </tr>\n",
       "  </tbody>\n",
       "</table>\n",
       "</div>"
      ],
      "text/plain": [
       "grupo_comunicacao            Comunicação Genérica  Comunicação MCC  \\\n",
       "segmento_mcc_agg                                                     \n",
       "0 - OUTROS                                  64699           632263   \n",
       "1 - SUPERMERCADO                            11213           100946   \n",
       "2 - LOJAS DE DEPARTAMENTO                   19573           176116   \n",
       "3 - SERVICOS DE ALIMENTACAO                 20082           180201   \n",
       "4 - SAUDE                                   23773           214861   \n",
       "5 - LOJAS ESPECIALIZADAS                    11235           100439   \n",
       "\n",
       "grupo_comunicacao            Sem comunicação  \n",
       "segmento_mcc_agg                              \n",
       "0 - OUTROS                             77896  \n",
       "1 - SUPERMERCADO                       12507  \n",
       "2 - LOJAS DE DEPARTAMENTO              21579  \n",
       "3 - SERVICOS DE ALIMENTACAO            22337  \n",
       "4 - SAUDE                              26265  \n",
       "5 - LOJAS ESPECIALIZADAS               12495  "
      ]
     },
     "execution_count": 25,
     "metadata": {},
     "output_type": "execute_result"
    }
   ],
   "source": [
    "pd.crosstab(ativos.segmento_mcc_agg, ativos.grupo_comunicacao)"
   ]
  },
  {
   "cell_type": "code",
   "execution_count": 26,
   "metadata": {},
   "outputs": [
    {
     "data": {
      "text/html": [
       "<div>\n",
       "<style scoped>\n",
       "    .dataframe tbody tr th:only-of-type {\n",
       "        vertical-align: middle;\n",
       "    }\n",
       "\n",
       "    .dataframe tbody tr th {\n",
       "        vertical-align: top;\n",
       "    }\n",
       "\n",
       "    .dataframe thead th {\n",
       "        text-align: right;\n",
       "    }\n",
       "</style>\n",
       "<table border=\"1\" class=\"dataframe\">\n",
       "  <thead>\n",
       "    <tr style=\"text-align: right;\">\n",
       "      <th></th>\n",
       "      <th>cpf</th>\n",
       "      <th>grupo_comunicacao</th>\n",
       "      <th>segmento_mcc_agg</th>\n",
       "      <th>nr_score_ie</th>\n",
       "      <th>yearmonth_ie</th>\n",
       "      <th>status</th>\n",
       "      <th>safra</th>\n",
       "    </tr>\n",
       "  </thead>\n",
       "  <tbody>\n",
       "    <tr>\n",
       "      <th>0</th>\n",
       "      <td>91908973234</td>\n",
       "      <td>Comunicação MCC</td>\n",
       "      <td>1 - SUPERMERCADO</td>\n",
       "      <td>29.713168</td>\n",
       "      <td>202302.0</td>\n",
       "      <td>Ativo</td>\n",
       "      <td>2021-09-01</td>\n",
       "    </tr>\n",
       "    <tr>\n",
       "      <th>1</th>\n",
       "      <td>14258158470</td>\n",
       "      <td>Comunicação MCC</td>\n",
       "      <td>1 - SUPERMERCADO</td>\n",
       "      <td>50.899609</td>\n",
       "      <td>202302.0</td>\n",
       "      <td>Ativo</td>\n",
       "      <td>2021-10-01</td>\n",
       "    </tr>\n",
       "    <tr>\n",
       "      <th>2</th>\n",
       "      <td>22377212468</td>\n",
       "      <td>Comunicação MCC</td>\n",
       "      <td>1 - SUPERMERCADO</td>\n",
       "      <td>59.104737</td>\n",
       "      <td>202302.0</td>\n",
       "      <td>Ativo</td>\n",
       "      <td>2022-02-01</td>\n",
       "    </tr>\n",
       "  </tbody>\n",
       "</table>\n",
       "</div>"
      ],
      "text/plain": [
       "           cpf grupo_comunicacao  segmento_mcc_agg  nr_score_ie  yearmonth_ie  \\\n",
       "0  91908973234   Comunicação MCC  1 - SUPERMERCADO    29.713168      202302.0   \n",
       "1  14258158470   Comunicação MCC  1 - SUPERMERCADO    50.899609      202302.0   \n",
       "2  22377212468   Comunicação MCC  1 - SUPERMERCADO    59.104737      202302.0   \n",
       "\n",
       "  status       safra  \n",
       "0  Ativo  2021-09-01  \n",
       "1  Ativo  2021-10-01  \n",
       "2  Ativo  2022-02-01  "
      ]
     },
     "execution_count": 26,
     "metadata": {},
     "output_type": "execute_result"
    }
   ],
   "source": [
    "ativos.head(3)"
   ]
  },
  {
   "cell_type": "code",
   "execution_count": 27,
   "metadata": {},
   "outputs": [],
   "source": [
    "ativos.to_pickle('ativos_fatura_premiada.pkl')"
   ]
  },
  {
   "cell_type": "code",
   "execution_count": 30,
   "metadata": {},
   "outputs": [],
   "source": [
    "for i in grupos:\n",
    "    ativos[ativos['segmento_mcc_agg'] == i] \\\n",
    "    .query('grupo_comunicacao == \"Comunicação MCC\"') \\\n",
    "    [['cpf', 'segmento_mcc_agg', 'status']].to_csv(f'Ativos_fatura_premiada_{i}.csv')"
   ]
  },
  {
   "cell_type": "code",
   "execution_count": 32,
   "metadata": {},
   "outputs": [],
   "source": [
    "ativos \\\n",
    ".query('grupo_comunicacao == \"Comunicação Genérica\"') \\\n",
    ".to_csv(f'Ativos_fatura_premiada_Comunicação_Genérica.csv')"
   ]
  },
  {
   "attachments": {},
   "cell_type": "markdown",
   "metadata": {},
   "source": [
    "## INATIVOS"
   ]
  },
  {
   "cell_type": "code",
   "execution_count": 33,
   "metadata": {},
   "outputs": [],
   "source": [
    "query_inativo = f\"\"\"\n",
    "\n",
    "with seg_consumo_with_dict as (\n",
    "\tselect distinct\n",
    "\t\t\ta.mes_ref\n",
    "\t\t\t,a.customer_id\n",
    "\t\t\t,a.mcc as mcc1\n",
    "\t\t\t,a.labels\n",
    "\t\t\t,b.*\n",
    "\tfrom marketplace_sandbox_zone.mktp_model_segmentacao_mcc_analytical_flex_1m as a\n",
    "\tleft join marketplace_sandbox_zone.mktp_dict_model_segmentacao_mcc_flex_1m as b\n",
    "\ton\n",
    "\t\t\t(a.mcc = b.mcc and a.mes_ref = b.mes_ref and a.labels = b.labels)\n",
    "\twhere\ta.mes_ref = '2023-01'\n",
    "\torder by 1,2,3\n",
    ")\n",
    ", seg_consumo_agg as (\n",
    "select \n",
    "\tcustomer_id\n",
    "\t, MAX(case \n",
    "\t\twhen mcc1 = 'LOJAS ESPECIALIZADAS' then '5 - LOJAS ESPECIALIZADAS'\n",
    "\t\twhen mcc1 = 'SAUDE' then '4 - SAUDE'\n",
    "\t\twhen mcc1 = 'SERVICOS DE ALIMENTACAO' then '3 - SERVICOS DE ALIMENTACAO'\n",
    "\t\twhen mcc1 = 'LOJAS DE DEPARTAMENTO' then '2 - LOJAS DE DEPARTAMENTO'\n",
    "\t\twhen mcc1 = 'SUPERMERCADO' then '1 - SUPERMERCADO' \n",
    "\t\telse '0 - OUTROS' end) as segmento_mcc_agg\n",
    "from seg_consumo_with_dict\n",
    "\tgroup by 1\n",
    ")\n",
    ", ultimo_ie as (\n",
    "\tselect distinct\n",
    "\tcd_cpf, max(cd_yearmonth) over (partition by 1) as ult_yearmonth\n",
    "\tfrom customer_curated_zone.ca_model_ie_cliente\n",
    ")\n",
    ", ultima_compra as (\n",
    "\tselect \n",
    "\tid_customer\n",
    "\t,max(cd_yearmonth) as ult_compra_mes\n",
    "\tfrom \n",
    "\tcustomer_curated_zone.ca_book_cartao\n",
    "\tgroup by 1\n",
    ")\n",
    ",  info_cliente as\t(\n",
    "\t select \n",
    "\t id_customer\n",
    "\t , cpf \n",
    "\t, to_date(concat(cast(min(cd_yearmonth) as varchar),'01'), 'yyyymmdd') as safra\n",
    "\tfrom \n",
    "\tcustomer_curated_zone.ca_book_cliente \t\n",
    "\tgroup by \n",
    "\t\t1,2)\n",
    ", base_final as (\n",
    "select \n",
    "*\n",
    ", case \n",
    "\twhen grupo_2 = 10 then\t'Comunicação Genérica'\n",
    "\twhen grupo_2 = 0 then   'Sem comunicação'\n",
    "\telse 'Comunicação MCC'\n",
    "end as grupo_comunicacao\n",
    "from \n",
    "\t(\n",
    "select \n",
    "\ta.cpf\n",
    " \t, b.safra\n",
    " \t, ie.nr_score_ie\n",
    "  \t, ui.ult_yearmonth\n",
    "\t, case \n",
    "\t\twhen flag_pmm = 'churn' then '3 - Churn'\n",
    "\t\telse propensao end as propensao\n",
    "\t, grupo\n",
    "\t, case \n",
    "\t\twhen flag_pmm = 'churn' then 'Inativo'\n",
    "\t\twhen flag_pmm = 'pré-churn' then 'Ativo'\n",
    "\t\twhen a.ds_status_cliente = '0c - Inativo' then 'Inativo'\n",
    "\t\twhen a.ds_status_cliente is not null then a.ds_status_cliente\n",
    "\telse 'Inativo' end as status\n",
    "\t, case \n",
    "\t\twhen grupo = 'Teste' then NTILE (10) OVER (partition by c.segmento_mcc_agg ORDER BY random())\t\n",
    "\t\twhen grupo <> 'Teste' then 0\n",
    "\t\tend as grupo_2\n",
    "\t, case when c.segmento_mcc_agg is null then '0 - OUTROS' else c.segmento_mcc_agg end as segmento_mcc_agg\n",
    "\tfrom cxm_sandbox_zone.pre_fatura_turbinada_flag_pmm a\n",
    "\tleft join info_cliente b on (b.cpf = a.cpf)\n",
    "\tleft join seg_consumo_agg c on (c.customer_id = b.id_customer)\n",
    " \tleft join ultimo_ie ui on (b.cpf = ui.cd_cpf)\n",
    " \tleft join customer_curated_zone.ca_model_ie_cliente ie on (b.cpf = ie.cd_cpf and ie.cd_yearmonth = ui.ult_yearmonth)\n",
    "\t)\n",
    ")\n",
    "select\n",
    "cpf\n",
    ", max(grupo_comunicacao) as grupo_comunicacao\n",
    ", max(segmento_mcc_agg) as segmento_mcc_agg\n",
    ", max(nr_score_ie) as nr_score_ie\n",
    ", max(ult_yearmonth) as yearmonth_ie\n",
    ", max(status) as status\n",
    ", max(safra) as safra\n",
    "from base_final\n",
    "where status = 'Inativo'\n",
    "\"\"\""
   ]
  },
  {
   "cell_type": "code",
   "execution_count": 35,
   "metadata": {},
   "outputs": [
    {
     "name": "stdout",
     "output_type": "stream",
     "text": [
      "Comunicação Genérica\n"
     ]
    },
    {
     "name": "stderr",
     "output_type": "stream",
     "text": [
      "/tmp/ipykernel_1038431/4098941072.py:10: FutureWarning: The frame.append method is deprecated and will be removed from pandas in a future version. Use pandas.concat instead.\n",
      "  inativos = inativos.append(temp_df)\n"
     ]
    },
    {
     "name": "stdout",
     "output_type": "stream",
     "text": [
      "Comunicação MCC\n"
     ]
    },
    {
     "name": "stderr",
     "output_type": "stream",
     "text": [
      "/tmp/ipykernel_1038431/4098941072.py:10: FutureWarning: The frame.append method is deprecated and will be removed from pandas in a future version. Use pandas.concat instead.\n",
      "  inativos = inativos.append(temp_df)\n"
     ]
    },
    {
     "name": "stdout",
     "output_type": "stream",
     "text": [
      "Sem comunicação\n"
     ]
    },
    {
     "name": "stderr",
     "output_type": "stream",
     "text": [
      "/tmp/ipykernel_1038431/4098941072.py:10: FutureWarning: The frame.append method is deprecated and will be removed from pandas in a future version. Use pandas.concat instead.\n",
      "  inativos = inativos.append(temp_df)\n"
     ]
    }
   ],
   "source": [
    "grupos = ['Comunicação Genérica','Comunicação MCC','Sem comunicação']\n",
    "\n",
    "inativos = pd.DataFrame()\n",
    "for i in grupos:\n",
    "     query_inativo_new = query_inativo + \"and grupo_comunicacao = '\" \n",
    "     query_inativo_new = query_inativo_new + i + \"'\"\n",
    "     query_inativo_new = query_inativo_new + \"group by 1\"\n",
    "     print(i)\n",
    "     temp_df = ac.df_athena_q('flavia-costa', query_inativo_new)\n",
    "     inativos = inativos.append(temp_df) "
   ]
  },
  {
   "cell_type": "code",
   "execution_count": 36,
   "metadata": {},
   "outputs": [
    {
     "data": {
      "text/plain": [
       "status\n",
       "Inativo    916338\n",
       "dtype: int64"
      ]
     },
     "execution_count": 36,
     "metadata": {},
     "output_type": "execute_result"
    }
   ],
   "source": [
    "inativos.value_counts('status')"
   ]
  },
  {
   "cell_type": "code",
   "execution_count": 37,
   "metadata": {},
   "outputs": [
    {
     "data": {
      "text/plain": [
       "grupo_comunicacao\n",
       "Comunicação MCC         732744\n",
       "Comunicação Genérica     95054\n",
       "Sem comunicação          88540\n",
       "dtype: int64"
      ]
     },
     "execution_count": 37,
     "metadata": {},
     "output_type": "execute_result"
    }
   ],
   "source": [
    "inativos.value_counts('grupo_comunicacao')"
   ]
  },
  {
   "cell_type": "code",
   "execution_count": 38,
   "metadata": {},
   "outputs": [
    {
     "data": {
      "text/plain": [
       "916338"
      ]
     },
     "execution_count": 38,
     "metadata": {},
     "output_type": "execute_result"
    }
   ],
   "source": [
    "len(inativos)"
   ]
  },
  {
   "cell_type": "code",
   "execution_count": 39,
   "metadata": {},
   "outputs": [
    {
     "data": {
      "text/html": [
       "<div>\n",
       "<style scoped>\n",
       "    .dataframe tbody tr th:only-of-type {\n",
       "        vertical-align: middle;\n",
       "    }\n",
       "\n",
       "    .dataframe tbody tr th {\n",
       "        vertical-align: top;\n",
       "    }\n",
       "\n",
       "    .dataframe thead th {\n",
       "        text-align: right;\n",
       "    }\n",
       "</style>\n",
       "<table border=\"1\" class=\"dataframe\">\n",
       "  <thead>\n",
       "    <tr style=\"text-align: right;\">\n",
       "      <th></th>\n",
       "      <th>cpf</th>\n",
       "      <th>grupo_comunicacao</th>\n",
       "      <th>segmento_mcc_agg</th>\n",
       "      <th>nr_score_ie</th>\n",
       "      <th>yearmonth_ie</th>\n",
       "      <th>status</th>\n",
       "      <th>safra</th>\n",
       "    </tr>\n",
       "  </thead>\n",
       "  <tbody>\n",
       "    <tr>\n",
       "      <th>0</th>\n",
       "      <td>13364903735</td>\n",
       "      <td>Comunicação Genérica</td>\n",
       "      <td>1 - SUPERMERCADO</td>\n",
       "      <td>NaN</td>\n",
       "      <td>202302.0</td>\n",
       "      <td>Inativo</td>\n",
       "      <td>2021-03-01</td>\n",
       "    </tr>\n",
       "    <tr>\n",
       "      <th>1</th>\n",
       "      <td>60598266364</td>\n",
       "      <td>Comunicação Genérica</td>\n",
       "      <td>1 - SUPERMERCADO</td>\n",
       "      <td>NaN</td>\n",
       "      <td>202302.0</td>\n",
       "      <td>Inativo</td>\n",
       "      <td>2021-03-01</td>\n",
       "    </tr>\n",
       "    <tr>\n",
       "      <th>2</th>\n",
       "      <td>86127770548</td>\n",
       "      <td>Comunicação Genérica</td>\n",
       "      <td>1 - SUPERMERCADO</td>\n",
       "      <td>8.426771</td>\n",
       "      <td>202302.0</td>\n",
       "      <td>Inativo</td>\n",
       "      <td>2019-04-01</td>\n",
       "    </tr>\n",
       "  </tbody>\n",
       "</table>\n",
       "</div>"
      ],
      "text/plain": [
       "           cpf     grupo_comunicacao  segmento_mcc_agg  nr_score_ie  \\\n",
       "0  13364903735  Comunicação Genérica  1 - SUPERMERCADO          NaN   \n",
       "1  60598266364  Comunicação Genérica  1 - SUPERMERCADO          NaN   \n",
       "2  86127770548  Comunicação Genérica  1 - SUPERMERCADO     8.426771   \n",
       "\n",
       "   yearmonth_ie   status       safra  \n",
       "0      202302.0  Inativo  2021-03-01  \n",
       "1      202302.0  Inativo  2021-03-01  \n",
       "2      202302.0  Inativo  2019-04-01  "
      ]
     },
     "execution_count": 39,
     "metadata": {},
     "output_type": "execute_result"
    }
   ],
   "source": [
    "inativos.head(3)"
   ]
  },
  {
   "cell_type": "code",
   "execution_count": 40,
   "metadata": {},
   "outputs": [],
   "source": [
    "inativos.to_pickle('inativos_fatura_premiada.pkl')"
   ]
  },
  {
   "cell_type": "code",
   "execution_count": 41,
   "metadata": {},
   "outputs": [
    {
     "data": {
      "text/plain": [
       "827798"
      ]
     },
     "execution_count": 41,
     "metadata": {},
     "output_type": "execute_result"
    }
   ],
   "source": [
    "len(inativos.query('grupo_comunicacao != \"Sem comunicação\"'))"
   ]
  },
  {
   "cell_type": "code",
   "execution_count": 43,
   "metadata": {},
   "outputs": [],
   "source": [
    "inativos \\\n",
    ".query('grupo_comunicacao != \"Sem comunicação\"')[['cpf', 'segmento_mcc_agg', 'status']] \\\n",
    ".to_csv(f'Inativos_fatura_premiada.csv')"
   ]
  },
  {
   "cell_type": "code",
   "execution_count": null,
   "metadata": {},
   "outputs": [],
   "source": [
    "#infos = pd.read_pickle('stonks_picke.pkl')"
   ]
  }
 ],
 "metadata": {
  "kernelspec": {
   "display_name": "Python 3",
   "language": "python",
   "name": "python3"
  },
  "language_info": {
   "codemirror_mode": {
    "name": "ipython",
    "version": 3
   },
   "file_extension": ".py",
   "mimetype": "text/x-python",
   "name": "python",
   "nbconvert_exporter": "python",
   "pygments_lexer": "ipython3",
   "version": "3.8.10"
  },
  "orig_nbformat": 4
 },
 "nbformat": 4,
 "nbformat_minor": 2
}
