{
 "cells": [
  {
   "cell_type": "code",
   "execution_count": 1,
   "id": "3245a37e-2f86-420c-b4bf-d60207bd9466",
   "metadata": {
    "tags": []
   },
   "outputs": [
    {
     "name": "stdout",
     "output_type": "stream",
     "text": [
      "Welcome to the Glue Interactive Sessions Kernel\n",
      "For more information on available magic commands, please type %help in any new cell.\n",
      "\n",
      "Please view our Getting Started page to access the most up-to-date information on the Interactive Sessions kernel: https://docs.aws.amazon.com/glue/latest/dg/interactive-sessions.html\n",
      "Installed kernel version: 0.38.1 \n",
      "Authenticating with environment variables and user-defined glue_role_arn: arn:aws:iam::142401413602:role/service-role/AmazonSageMaker-ExecutionRole-20220518T150261\n",
      "Trying to create a Glue session for the kernel.\n",
      "Worker Type: G.1X\n",
      "Number of Workers: 5\n",
      "Session ID: 10618f8b-96fd-400e-b4fb-8647355d04a6\n",
      "Job Type: glueetl\n",
      "Applying the following default arguments:\n",
      "--glue_kernel_version 0.38.1\n",
      "--enable-glue-datacatalog true\n",
      "Waiting for session 10618f8b-96fd-400e-b4fb-8647355d04a6 to get into ready status...\n",
      "Session 10618f8b-96fd-400e-b4fb-8647355d04a6 has been created.\n",
      "\n"
     ]
    }
   ],
   "source": [
    "from pyspark.sql import SparkSession\n",
    "from pyspark.sql.functions import when\n",
    "from pyspark.sql.functions import when, col, countDistinct\n",
    "from pyspark.sql.functions import posexplode\n",
    "from pyspark.sql.functions import posexplode_outer\n",
    "from pyspark.sql.functions import expr\n",
    "from pyspark.sql.functions import pandas_udf\n",
    "from pyspark.sql.functions import PandasUDFType\n",
    "import pandas as pd"
   ]
  },
  {
   "cell_type": "code",
   "execution_count": 2,
   "id": "efe952f0-cad4-41b3-82ab-62cae9a69db2",
   "metadata": {
    "tags": []
   },
   "outputs": [
    {
     "name": "stdout",
     "output_type": "stream",
     "text": [
      "\n"
     ]
    }
   ],
   "source": [
    "spark = SparkSession.builder.appName(\"example\").getOrCreate()"
   ]
  },
  {
   "cell_type": "code",
   "execution_count": 3,
   "id": "c20b0c10-d400-4801-af7c-d6a8b939e598",
   "metadata": {
    "tags": []
   },
   "outputs": [
    {
     "name": "stdout",
     "output_type": "stream",
     "text": [
      "\n"
     ]
    }
   ],
   "source": [
    "df = spark.sql(\n",
    "\"\"\"\n",
    "\n",
    "select \n",
    " cd_cpf\n",
    ", id_pessoa\n",
    ", ds_classif_behavior\n",
    ", ds_seg_consumo\n",
    ", ds_perfil_research\n",
    ", ds_persona\n",
    "from customer_analytics_zone.ca_analitico_basao_crm\n",
    "\n",
    "\"\"\"\n",
    ")\n"
   ]
  },
  {
   "cell_type": "code",
   "execution_count": 4,
   "id": "49042727-9dd5-447b-a5ac-a5fe12a7fb31",
   "metadata": {
    "tags": []
   },
   "outputs": [
    {
     "name": "stdout",
     "output_type": "stream",
     "text": [
      "+-----------+--------------------+-------------------+--------------------+--------------------+--------------------+\n",
      "|     cd_cpf|           id_pessoa|ds_classif_behavior|      ds_seg_consumo|  ds_perfil_research|          ds_persona|\n",
      "+-----------+--------------------+-------------------+--------------------+--------------------+--------------------+\n",
      "|08649985548|05e078a50ee1edea9...|                 14|                null|       Multiplicador|26 - Homem, Até 2...|\n",
      "|09633852919|f2459ceaeea8ee564...|                  9|LOJAS DE DEPARTAM...|Multiplicador / A...|17 - Mulher, 25 a...|\n",
      "|70016377699|22de21058a44a5d7f...|               null|                null|                null|17 - Mulher, 25 a...|\n",
      "|27744355873|0c5eb96017dd4ff4c...|                 17|                null|       Multiplicador|22 - Mulher, 41 a...|\n",
      "|07321571459|7e7a4cf9a0a96d3ea...|                 16|                null|BP - Multiplicado...|0 - Mulher, Casad...|\n",
      "+-----------+--------------------+-------------------+--------------------+--------------------+--------------------+\n",
      "only showing top 5 rows\n"
     ]
    }
   ],
   "source": [
    "df.show(5)"
   ]
  },
  {
   "cell_type": "code",
   "execution_count": 5,
   "id": "dff68278-07df-4441-aa16-78b8d0bccc0e",
   "metadata": {
    "tags": []
   },
   "outputs": [
    {
     "name": "stdout",
     "output_type": "stream",
     "text": [
      "[Row(cd_cpf='08649985548', id_pessoa='05e078a50ee1edea9f634b74451f27e4a8be0b336e05d32466830849dc051322', ds_classif_behavior='14', ds_seg_consumo=None, ds_perfil_research='Multiplicador', ds_persona='26 - Homem, Até 24 anos, Nordeste')]\n"
     ]
    }
   ],
   "source": [
    "df.head(1)"
   ]
  },
  {
   "cell_type": "code",
   "execution_count": 6,
   "id": "44f4f066-0faf-49d0-a3da-a676d20b9d20",
   "metadata": {
    "tags": []
   },
   "outputs": [
    {
     "name": "stdout",
     "output_type": "stream",
     "text": [
      "5504274\n"
     ]
    }
   ],
   "source": [
    "df.count()"
   ]
  },
  {
   "cell_type": "code",
   "execution_count": 7,
   "id": "c3411288-5782-44b2-b77f-c285d2bb5554",
   "metadata": {
    "tags": []
   },
   "outputs": [
    {
     "name": "stdout",
     "output_type": "stream",
     "text": [
      "\n"
     ]
    }
   ],
   "source": [
    "df_test = df.drop('cd_cpf').sample(0.001)"
   ]
  },
  {
   "cell_type": "code",
   "execution_count": 8,
   "id": "34abc01b-529c-4c9e-b73d-d502fd81e2db",
   "metadata": {
    "tags": []
   },
   "outputs": [
    {
     "name": "stdout",
     "output_type": "stream",
     "text": [
      "5531\n"
     ]
    }
   ],
   "source": [
    "df_test.count()"
   ]
  },
  {
   "cell_type": "code",
   "execution_count": 27,
   "id": "43937750-bf0e-4537-a9b8-955cd26bde22",
   "metadata": {
    "tags": []
   },
   "outputs": [
    {
     "name": "stdout",
     "output_type": "stream",
     "text": [
      "\n"
     ]
    }
   ],
   "source": [
    "df_test.write.partitionBy(\"id_pessoa\").json(\"s3a://data-workspace-will-prod/flavia-costa/teste_json_basico\")"
   ]
  },
  {
   "cell_type": "code",
   "execution_count": 9,
   "id": "4f416cbd-f58c-4d82-acae-2899e569c6f1",
   "metadata": {
    "tags": []
   },
   "outputs": [
    {
     "name": "stdout",
     "output_type": "stream",
     "text": [
      "+--------------------+-------------------+--------------------+--------------------+--------------------+\n",
      "|           id_pessoa|ds_classif_behavior|      ds_seg_consumo|  ds_perfil_research|          ds_persona|\n",
      "+--------------------+-------------------+--------------------+--------------------+--------------------+\n",
      "|e0231ea489a3eb6d2...|                 16|                null|Multiplicador / B...|10 - Mulher, Solt...|\n",
      "|1de3caab943261288...|                 17|    SUPERMERCADO - 3|BP - Multiplicado...|18 - Homem, 25 a ...|\n",
      "|cd5c2ea3ba7a59dd5...|                 14|                null|BP - Multiplicado...|31 - Mulher, 41 a...|\n",
      "|d0f097ec98d040eb5...|                 17|        SERVICOS - 3|       Multiplicador|15 - Mulher, 25 a...|\n",
      "|af2adbce839045e09...|               null|                null|  Barrado no Crédito|28 - Mulher, Até ...|\n",
      "|8f2360be5a7b07494...|                 17|LOJAS DE DEPARTAM...|       Multiplicador|16 - Homem, 25 a ...|\n",
      "|e5aa0defeca53feec...|                 17|         TELECOM - 3|BP - Multiplicado...|18 - Homem, 25 a ...|\n",
      "|b4fa05cafd29d0824...|                b02|                null|          Acumulador|20 - Homem, Até 2...|\n",
      "|eaa3243bfd76ae381...|                  9|  ENTRETENIMENTO - 1|       Multiplicador|20 - Homem, Até 2...|\n",
      "|1b9ad30ed54534e94...|                 17|        SERVICOS - 4|          Acumulador|21 - Mulher, Até ...|\n",
      "|603efbde2686ff066...|                  5|                null|Multiplicador / B...|22 - Mulher, 41 a...|\n",
      "|cd326f1365d66a8cd...|                 14|                null|       Multiplicador|29 - Mulher, Até ...|\n",
      "|e174612a6674a446a...|                 15|      MOBILIDADE - 2|       Multiplicador|20 - Homem, Até 2...|\n",
      "|eb988338f2e5674cf...|                 11|      E-COMMERCE - 3|Multiplicador / A...|25 - Homem, 41 an...|\n",
      "|029d3b7141de27acf...|                  6|                null|Multiplicador / A...|26 - Homem, Até 2...|\n",
      "|7cc59aee399f95876...|                 16|                null|          Acumulador|17 - Mulher, 25 a...|\n",
      "|4352bb46a135d823d...|                 11|LOJAS DE DEPARTAM...|Multiplicador / A...|18 - Homem, 25 a ...|\n",
      "|37e2a60d1e8c21457...|               null|                null|Multiplicador / A...|15 - Mulher, 25 a...|\n",
      "|1dbd83972e11a2a61...|                  4|        EDUCACAO - 3|Multiplicador / A...|18 - Homem, 25 a ...|\n",
      "|67f8569757615c23b...|                 16|                null|Multiplicador / A...|16 - Homem, 25 a ...|\n",
      "+--------------------+-------------------+--------------------+--------------------+--------------------+\n",
      "only showing top 20 rows\n"
     ]
    }
   ],
   "source": [
    "df_test.show()"
   ]
  },
  {
   "cell_type": "code",
   "execution_count": 12,
   "id": "1ea5c794-cc5f-4ef2-aaa7-0ee3ac3bc9a2",
   "metadata": {
    "tags": []
   },
   "outputs": [
    {
     "name": "stdout",
     "output_type": "stream",
     "text": [
      "+--------------------+-------------------+--------------------+-----------+\n",
      "|           id_pessoa|                 id|               score|description|\n",
      "+--------------------+-------------------+--------------------+-----------+\n",
      "|e0231ea489a3eb6d2...|ds_classif_behavior|                  16|   Behavior|\n",
      "|e0231ea489a3eb6d2...|     ds_seg_consumo|                null|   Segm.MCC|\n",
      "|e0231ea489a3eb6d2...| ds_perfil_research|Multiplicador / B...|     Perfis|\n",
      "|e0231ea489a3eb6d2...|         ds_persona|10 - Mulher, Solt...|    Persona|\n",
      "|1de3caab943261288...|ds_classif_behavior|                  17|   Behavior|\n",
      "|1de3caab943261288...|     ds_seg_consumo|    SUPERMERCADO - 3|   Segm.MCC|\n",
      "|1de3caab943261288...| ds_perfil_research|BP - Multiplicado...|     Perfis|\n",
      "|1de3caab943261288...|         ds_persona|18 - Homem, 25 a ...|    Persona|\n",
      "|cd5c2ea3ba7a59dd5...|ds_classif_behavior|                  14|   Behavior|\n",
      "|cd5c2ea3ba7a59dd5...|     ds_seg_consumo|                null|   Segm.MCC|\n",
      "|cd5c2ea3ba7a59dd5...| ds_perfil_research|BP - Multiplicado...|     Perfis|\n",
      "|cd5c2ea3ba7a59dd5...|         ds_persona|31 - Mulher, 41 a...|    Persona|\n",
      "|d0f097ec98d040eb5...|ds_classif_behavior|                  17|   Behavior|\n",
      "|d0f097ec98d040eb5...|     ds_seg_consumo|        SERVICOS - 3|   Segm.MCC|\n",
      "|d0f097ec98d040eb5...| ds_perfil_research|       Multiplicador|     Perfis|\n",
      "|d0f097ec98d040eb5...|         ds_persona|15 - Mulher, 25 a...|    Persona|\n",
      "|af2adbce839045e09...|ds_classif_behavior|                null|   Behavior|\n",
      "|af2adbce839045e09...|     ds_seg_consumo|                null|   Segm.MCC|\n",
      "|af2adbce839045e09...| ds_perfil_research|  Barrado no Crédito|     Perfis|\n",
      "|af2adbce839045e09...|         ds_persona|28 - Mulher, Até ...|    Persona|\n",
      "+--------------------+-------------------+--------------------+-----------+\n",
      "only showing top 20 rows\n"
     ]
    }
   ],
   "source": [
    "unpivotExpr = \"\"\"\n",
    "stack(4\n",
    ", 'ds_classif_behavior', ds_classif_behavior\n",
    ", 'ds_seg_consumo', ds_seg_consumo\n",
    ", 'ds_perfil_research', ds_perfil_research\n",
    ", 'ds_persona', ds_persona) \n",
    "as (Modelos,Score)\n",
    "\"\"\"\n",
    "\n",
    "df_formato = df_test.select(\"id_pessoa\", expr(unpivotExpr)) \\\n",
    ".withColumnRenamed('Modelos', 'id').withColumnRenamed('Score', 'score')\\\n",
    ".withColumn('description', \\\n",
    "when(col(\"id\") == \"ds_classif_behavior\", \"Behavior\").otherwise(\\\n",
    "when(col(\"id\") == \"ds_seg_consumo\", \"Segm.MCC\").otherwise(\\\n",
    "when(col(\"id\") == \"ds_perfil_research\", \"Perfis\").otherwise(\\\n",
    "when(col(\"id\") == \"ds_persona\", \"Persona\").otherwise(\"\")))))\n",
    "\n",
    "df_formato.show()"
   ]
  },
  {
   "cell_type": "code",
   "execution_count": 13,
   "id": "12ca8854-594a-4e5f-b58a-da2e8639944f",
   "metadata": {
    "tags": []
   },
   "outputs": [
    {
     "name": "stdout",
     "output_type": "stream",
     "text": [
      "\n"
     ]
    }
   ],
   "source": [
    "pandas_df = df_formato.toPandas()"
   ]
  },
  {
   "cell_type": "code",
   "execution_count": 14,
   "id": "3dddabba-65ef-4aa1-b674-cbb6d409140b",
   "metadata": {
    "tags": []
   },
   "outputs": [
    {
     "name": "stdout",
     "output_type": "stream",
     "text": [
      "                                           id_pessoa  ... description\n",
      "0  e0231ea489a3eb6d238f83da4b4b1212bf818d982de0d5...  ...    Behavior\n",
      "1  e0231ea489a3eb6d238f83da4b4b1212bf818d982de0d5...  ...    Segm.MCC\n",
      "2  e0231ea489a3eb6d238f83da4b4b1212bf818d982de0d5...  ...      Perfis\n",
      "3  e0231ea489a3eb6d238f83da4b4b1212bf818d982de0d5...  ...     Persona\n",
      "4  1de3caab943261288c71bc5382087bf5edf466666544c1...  ...    Behavior\n",
      "\n",
      "[5 rows x 4 columns]\n"
     ]
    }
   ],
   "source": [
    "pandas_df.head()"
   ]
  },
  {
   "cell_type": "code",
   "execution_count": 39,
   "id": "c89c57f8-f348-4c40-97f5-ecb236b0a3ea",
   "metadata": {
    "tags": []
   },
   "outputs": [
    {
     "name": "stdout",
     "output_type": "stream",
     "text": [
      "\n"
     ]
    }
   ],
   "source": [
    "from pyspark.sql import functions as F\n",
    "from pyspark.sql import Window"
   ]
  },
  {
   "cell_type": "code",
   "execution_count": 34,
   "id": "3512022c-8bff-4254-867b-50ceecb4c960",
   "metadata": {
    "tags": []
   },
   "outputs": [
    {
     "name": "stdout",
     "output_type": "stream",
     "text": [
      "\n"
     ]
    }
   ],
   "source": [
    "grouped_df = df_formato.groupby('id_pessoa').agg(F.collect_list(F.struct('id', 'description', 'score')).alias('Models'))\n",
    "result_df = grouped_df.withColumn('Models', F.to_json('Models'))\n",
    "\n",
    "# O resultado estará em formato DataFrame do PySpark\n",
    "#result_df.show(truncate=False)"
   ]
  },
  {
   "cell_type": "code",
   "execution_count": 47,
   "id": "483383b5-d14a-40a8-840e-6d4598994747",
   "metadata": {
    "tags": []
   },
   "outputs": [
    {
     "name": "stdout",
     "output_type": "stream",
     "text": [
      "+--------------------+--------------------+\n",
      "|           id_pessoa|              Models|\n",
      "+--------------------+--------------------+\n",
      "|007fd82b3dd902cb0...|[{\"id\":\"ds_classi...|\n",
      "|021f6dfad456c79a3...|[{\"id\":\"ds_classi...|\n",
      "|029d3b7141de27acf...|[{\"id\":\"ds_classi...|\n",
      "|04654f9ab58eaa250...|[{\"id\":\"ds_classi...|\n",
      "|04dca8b520614228e...|[{\"id\":\"ds_classi...|\n",
      "|058004c1c57e80781...|[{\"id\":\"ds_classi...|\n",
      "|05e18ac22cc2518b2...|[{\"id\":\"ds_classi...|\n",
      "|05fc3a111a4a51f41...|[{\"id\":\"ds_classi...|\n",
      "|064798d580babdedf...|[{\"id\":\"ds_classi...|\n",
      "|07e48dac7411bc0e5...|[{\"id\":\"ds_classi...|\n",
      "|093b19f39d6583f8e...|[{\"id\":\"ds_classi...|\n",
      "|094181bfb96d55219...|[{\"id\":\"ds_classi...|\n",
      "|0a737c163365ffd1d...|[{\"id\":\"ds_classi...|\n",
      "|0af91b2e78cd8c388...|[{\"id\":\"ds_classi...|\n",
      "|0c239c4f79d104543...|[{\"id\":\"ds_classi...|\n",
      "|0c55fd48271aa5645...|[{\"id\":\"ds_classi...|\n",
      "|0cb681904b894003f...|[{\"id\":\"ds_classi...|\n",
      "|0d4e0418a8aef595d...|[{\"id\":\"ds_classi...|\n",
      "|0e3322da598e442df...|[{\"id\":\"ds_classi...|\n",
      "|0e3755dd76488a6bc...|[{\"id\":\"ds_classi...|\n",
      "+--------------------+--------------------+\n",
      "only showing top 20 rows\n"
     ]
    }
   ],
   "source": [
    "result_df.show()"
   ]
  },
  {
   "cell_type": "code",
   "execution_count": 46,
   "id": "a9825630-9a27-40bd-b38e-13fef20610d7",
   "metadata": {
    "tags": []
   },
   "outputs": [
    {
     "name": "stdout",
     "output_type": "stream",
     "text": [
      "ERROR: output size exceeded 6291456 bytes\n"
     ]
    }
   ],
   "source": [
    "rdd = result_df.toJSON()\n",
    "result = rdd.collect()\n",
    "print(result)"
   ]
  },
  {
   "cell_type": "code",
   "execution_count": 55,
   "id": "43163d66-5d08-43f9-8a49-d7e8269e758d",
   "metadata": {
    "tags": []
   },
   "outputs": [
    {
     "name": "stdout",
     "output_type": "stream",
     "text": [
      "\n"
     ]
    }
   ],
   "source": [
    "result_df2 = result_df.groupBy(\"id_pessoa\").agg(F.collect_list(F.struct('id_pessoa', 'Models')).alias('Geral')).withColumn('Geral', F.to_json('Geral'))"
   ]
  },
  {
   "cell_type": "code",
   "execution_count": 56,
   "id": "35c64f3f-4f6d-4200-be8c-5fb857df5db1",
   "metadata": {
    "tags": []
   },
   "outputs": [
    {
     "name": "stdout",
     "output_type": "stream",
     "text": [
      "+--------------------+--------------------+\n",
      "|           id_pessoa|               Geral|\n",
      "+--------------------+--------------------+\n",
      "|007fd82b3dd902cb0...|[{\"id_pessoa\":\"00...|\n",
      "|021f6dfad456c79a3...|[{\"id_pessoa\":\"02...|\n",
      "|029d3b7141de27acf...|[{\"id_pessoa\":\"02...|\n",
      "|04654f9ab58eaa250...|[{\"id_pessoa\":\"04...|\n",
      "|04dca8b520614228e...|[{\"id_pessoa\":\"04...|\n",
      "|058004c1c57e80781...|[{\"id_pessoa\":\"05...|\n",
      "|05e18ac22cc2518b2...|[{\"id_pessoa\":\"05...|\n",
      "|05fc3a111a4a51f41...|[{\"id_pessoa\":\"05...|\n",
      "|064798d580babdedf...|[{\"id_pessoa\":\"06...|\n",
      "|07e48dac7411bc0e5...|[{\"id_pessoa\":\"07...|\n",
      "|093b19f39d6583f8e...|[{\"id_pessoa\":\"09...|\n",
      "|094181bfb96d55219...|[{\"id_pessoa\":\"09...|\n",
      "|0a737c163365ffd1d...|[{\"id_pessoa\":\"0a...|\n",
      "|0af91b2e78cd8c388...|[{\"id_pessoa\":\"0a...|\n",
      "|0c239c4f79d104543...|[{\"id_pessoa\":\"0c...|\n",
      "|0c55fd48271aa5645...|[{\"id_pessoa\":\"0c...|\n",
      "|0cb681904b894003f...|[{\"id_pessoa\":\"0c...|\n",
      "|0d4e0418a8aef595d...|[{\"id_pessoa\":\"0d...|\n",
      "|0e3322da598e442df...|[{\"id_pessoa\":\"0e...|\n",
      "|0e3755dd76488a6bc...|[{\"id_pessoa\":\"0e...|\n",
      "+--------------------+--------------------+\n",
      "only showing top 20 rows\n"
     ]
    }
   ],
   "source": [
    "result_df2.show()"
   ]
  },
  {
   "cell_type": "code",
   "execution_count": null,
   "id": "c0353bbd-eb5e-44db-ba0f-c521b1f17981",
   "metadata": {
    "tags": []
   },
   "outputs": [
    {
     "name": "stdout",
     "output_type": "stream",
     "text": [
      "Execution Interrupted. Attempting to cancel the statement (statement_id=32)\n",
      "Statement 32 has been cancelled\n"
     ]
    }
   ],
   "source": [
    "#result_df.write.partitionBy(\"id_pessoa\").json(\"s3a://data-workspace-will-prod/flavia-costa/teste_json_v2\")"
   ]
  },
  {
   "cell_type": "code",
   "execution_count": 57,
   "id": "ffe67abc-ba28-42aa-94b9-62ad8212c2d6",
   "metadata": {
    "tags": []
   },
   "outputs": [
    {
     "name": "stdout",
     "output_type": "stream",
     "text": [
      "\n"
     ]
    }
   ],
   "source": [
    "result_df2.select(\"Geral\").write.json(\"s3a://data-workspace-will-prod/flavia-costa/teste_json_v4\")"
   ]
  },
  {
   "cell_type": "code",
   "execution_count": 43,
   "id": "661c360e-3fc3-4576-9216-9c8794a899e9",
   "metadata": {
    "tags": []
   },
   "outputs": [
    {
     "name": "stdout",
     "output_type": "stream",
     "text": [
      "AnalysisException: Partition column `id_pessoa` not found in schema struct<Geral:string>\n"
     ]
    }
   ],
   "source": [
    "result_df2.write.partitionBy(\"id_pessoa\").json(\"s3a://data-workspace-will-prod/flavia-costa/teste_json_v3\")"
   ]
  },
  {
   "cell_type": "code",
   "execution_count": 22,
   "id": "12e41db9-6ed1-40a0-9726-e8cefca32881",
   "metadata": {},
   "outputs": [
    {
     "name": "stdout",
     "output_type": "stream",
     "text": [
      "ValueError: Invalid return type: returnType can not be None\n"
     ]
    }
   ],
   "source": [
    "@pandas_udf(functionType=PandasUDFType.GROUPED_MAP)\n",
    "def g(df):\n",
    "    result = df.groupby(['id_pessoa']).apply(lambda x: x[['id','description','score']].to_dict('records'))\n",
    "    return result"
   ]
  },
  {
   "cell_type": "code",
   "execution_count": 49,
   "id": "e9e6fe48-90c0-48c7-a678-054fd06ab4a3",
   "metadata": {},
   "outputs": [
    {
     "name": "stdout",
     "output_type": "stream",
     "text": [
      "NameError: name 'g' is not defined\n"
     ]
    }
   ],
   "source": [
    "j = (df.groupby(['id_pessoa'])\\\n",
    ".apply(g)\\\n",
    ".reset_index()\\\n",
    ".rename(columns={0:'Models'})\\\n",
    ".to_json(orient='records'))"
   ]
  },
  {
   "cell_type": "code",
   "execution_count": 82,
   "id": "3e2fe07c-e4ab-4008-bc8b-487a694f1291",
   "metadata": {
    "tags": []
   },
   "outputs": [
    {
     "name": "stdout",
     "output_type": "stream",
     "text": [
      "ValueError: Invalid udf: the udf argument must be a pandas_udf of type GROUPED_MAP.\n",
      "Stopping session: 6c493b44-6982-4de3-aade-0a70d10e60f0\n"
     ]
    }
   ],
   "source": [
    "#j = (df.groupby(['id_pessoa'])\\\n",
    "#.apply(lambda x: x[['id','description','score']].to_dict('records'))\\\n",
    "#.reset_index()\\\n",
    "#.rename(columns={0:'Models'})\\\n",
    "#.to_json(orient='records'))"
   ]
  },
  {
   "cell_type": "code",
   "execution_count": 31,
   "id": "7d972a97-bce3-4087-a992-7293c68fd6ca",
   "metadata": {
    "tags": []
   },
   "outputs": [
    {
     "name": "stdout",
     "output_type": "stream",
     "text": [
      "\n"
     ]
    }
   ],
   "source": [
    "import json"
   ]
  },
  {
   "cell_type": "code",
   "execution_count": 51,
   "id": "c9e5dad8-44e0-43f1-98ed-5cff7731e606",
   "metadata": {},
   "outputs": [
    {
     "name": "stdout",
     "output_type": "stream",
     "text": [
      "TypeError: Object of type DataFrame is not JSON serializable\n"
     ]
    }
   ],
   "source": [
    "print(json.dumps(result_df, indent=2, sort_keys=False)) # ou true para experienceid no final"
   ]
  },
  {
   "cell_type": "code",
   "execution_count": 54,
   "id": "e956b1f7-7b45-4a4a-8dea-61e8c3087c00",
   "metadata": {
    "tags": []
   },
   "outputs": [
    {
     "name": "stdout",
     "output_type": "stream",
     "text": [
      "SyntaxError: unexpected EOF while parsing (<stdin>, line 1)\n"
     ]
    }
   ],
   "source": [
    "#SALVAR O DUMPS NO S3 E DEPOIS CARREGAR ABAIXO\n",
    "json.dumps(json.loads(result_df2.write.json(\"s3a://data-workspace-will-prod/flavia-costa/teste_json_aux\"), indent=2, sort_keys=False).write(\"s3a://data-workspace-will-prod/flavia-costa/teste_json_unif\")\n"
   ]
  },
  {
   "cell_type": "code",
   "execution_count": null,
   "id": "f3b19221-7e12-43b0-aa48-8e8b1c9ce05c",
   "metadata": {},
   "outputs": [],
   "source": [
    "# Writing to sample.json\n",
    "json_object = json.dumps(json.loads(j), indent=2, sort_keys=False)\n",
    "\n",
    "with open(\"s3a://data-workspace-will-prod/flavia-costa/teste_json_unif/sample.json\", \"w\") as outfile:\n",
    "    outfile.write(json_object)"
   ]
  },
  {
   "cell_type": "code",
   "execution_count": null,
   "id": "0d10cf9b-8b23-44ae-8db3-b5ddb0650816",
   "metadata": {},
   "outputs": [],
   "source": [
    "df_json = spark.read.json(\"s3a://data-workspace-will-prod/flavia-costa/teste_json_unif/sample.json\")"
   ]
  },
  {
   "cell_type": "code",
   "execution_count": null,
   "id": "5a3a0cf7-b298-4810-9928-e76346a47a20",
   "metadata": {},
   "outputs": [],
   "source": [
    "\n",
    "df_json.write.partitionBy(\"id_pessoa\").json(\"result\")"
   ]
  }
 ],
 "metadata": {
  "availableInstances": [
   {
    "_defaultOrder": 0,
    "_isFastLaunch": true,
    "category": "General purpose",
    "gpuNum": 0,
    "hideHardwareSpecs": false,
    "memoryGiB": 4,
    "name": "ml.t3.medium",
    "vcpuNum": 2
   },
   {
    "_defaultOrder": 1,
    "_isFastLaunch": false,
    "category": "General purpose",
    "gpuNum": 0,
    "hideHardwareSpecs": false,
    "memoryGiB": 8,
    "name": "ml.t3.large",
    "vcpuNum": 2
   },
   {
    "_defaultOrder": 2,
    "_isFastLaunch": false,
    "category": "General purpose",
    "gpuNum": 0,
    "hideHardwareSpecs": false,
    "memoryGiB": 16,
    "name": "ml.t3.xlarge",
    "vcpuNum": 4
   },
   {
    "_defaultOrder": 3,
    "_isFastLaunch": false,
    "category": "General purpose",
    "gpuNum": 0,
    "hideHardwareSpecs": false,
    "memoryGiB": 32,
    "name": "ml.t3.2xlarge",
    "vcpuNum": 8
   },
   {
    "_defaultOrder": 4,
    "_isFastLaunch": true,
    "category": "General purpose",
    "gpuNum": 0,
    "hideHardwareSpecs": false,
    "memoryGiB": 8,
    "name": "ml.m5.large",
    "vcpuNum": 2
   },
   {
    "_defaultOrder": 5,
    "_isFastLaunch": false,
    "category": "General purpose",
    "gpuNum": 0,
    "hideHardwareSpecs": false,
    "memoryGiB": 16,
    "name": "ml.m5.xlarge",
    "vcpuNum": 4
   },
   {
    "_defaultOrder": 6,
    "_isFastLaunch": false,
    "category": "General purpose",
    "gpuNum": 0,
    "hideHardwareSpecs": false,
    "memoryGiB": 32,
    "name": "ml.m5.2xlarge",
    "vcpuNum": 8
   },
   {
    "_defaultOrder": 7,
    "_isFastLaunch": false,
    "category": "General purpose",
    "gpuNum": 0,
    "hideHardwareSpecs": false,
    "memoryGiB": 64,
    "name": "ml.m5.4xlarge",
    "vcpuNum": 16
   },
   {
    "_defaultOrder": 8,
    "_isFastLaunch": false,
    "category": "General purpose",
    "gpuNum": 0,
    "hideHardwareSpecs": false,
    "memoryGiB": 128,
    "name": "ml.m5.8xlarge",
    "vcpuNum": 32
   },
   {
    "_defaultOrder": 9,
    "_isFastLaunch": false,
    "category": "General purpose",
    "gpuNum": 0,
    "hideHardwareSpecs": false,
    "memoryGiB": 192,
    "name": "ml.m5.12xlarge",
    "vcpuNum": 48
   },
   {
    "_defaultOrder": 10,
    "_isFastLaunch": false,
    "category": "General purpose",
    "gpuNum": 0,
    "hideHardwareSpecs": false,
    "memoryGiB": 256,
    "name": "ml.m5.16xlarge",
    "vcpuNum": 64
   },
   {
    "_defaultOrder": 11,
    "_isFastLaunch": false,
    "category": "General purpose",
    "gpuNum": 0,
    "hideHardwareSpecs": false,
    "memoryGiB": 384,
    "name": "ml.m5.24xlarge",
    "vcpuNum": 96
   },
   {
    "_defaultOrder": 12,
    "_isFastLaunch": false,
    "category": "General purpose",
    "gpuNum": 0,
    "hideHardwareSpecs": false,
    "memoryGiB": 8,
    "name": "ml.m5d.large",
    "vcpuNum": 2
   },
   {
    "_defaultOrder": 13,
    "_isFastLaunch": false,
    "category": "General purpose",
    "gpuNum": 0,
    "hideHardwareSpecs": false,
    "memoryGiB": 16,
    "name": "ml.m5d.xlarge",
    "vcpuNum": 4
   },
   {
    "_defaultOrder": 14,
    "_isFastLaunch": false,
    "category": "General purpose",
    "gpuNum": 0,
    "hideHardwareSpecs": false,
    "memoryGiB": 32,
    "name": "ml.m5d.2xlarge",
    "vcpuNum": 8
   },
   {
    "_defaultOrder": 15,
    "_isFastLaunch": false,
    "category": "General purpose",
    "gpuNum": 0,
    "hideHardwareSpecs": false,
    "memoryGiB": 64,
    "name": "ml.m5d.4xlarge",
    "vcpuNum": 16
   },
   {
    "_defaultOrder": 16,
    "_isFastLaunch": false,
    "category": "General purpose",
    "gpuNum": 0,
    "hideHardwareSpecs": false,
    "memoryGiB": 128,
    "name": "ml.m5d.8xlarge",
    "vcpuNum": 32
   },
   {
    "_defaultOrder": 17,
    "_isFastLaunch": false,
    "category": "General purpose",
    "gpuNum": 0,
    "hideHardwareSpecs": false,
    "memoryGiB": 192,
    "name": "ml.m5d.12xlarge",
    "vcpuNum": 48
   },
   {
    "_defaultOrder": 18,
    "_isFastLaunch": false,
    "category": "General purpose",
    "gpuNum": 0,
    "hideHardwareSpecs": false,
    "memoryGiB": 256,
    "name": "ml.m5d.16xlarge",
    "vcpuNum": 64
   },
   {
    "_defaultOrder": 19,
    "_isFastLaunch": false,
    "category": "General purpose",
    "gpuNum": 0,
    "hideHardwareSpecs": false,
    "memoryGiB": 384,
    "name": "ml.m5d.24xlarge",
    "vcpuNum": 96
   },
   {
    "_defaultOrder": 20,
    "_isFastLaunch": false,
    "category": "General purpose",
    "gpuNum": 0,
    "hideHardwareSpecs": true,
    "memoryGiB": 0,
    "name": "ml.geospatial.interactive",
    "supportedImageNames": [
     "sagemaker-geospatial-v1-0"
    ],
    "vcpuNum": 0
   },
   {
    "_defaultOrder": 21,
    "_isFastLaunch": true,
    "category": "Compute optimized",
    "gpuNum": 0,
    "hideHardwareSpecs": false,
    "memoryGiB": 4,
    "name": "ml.c5.large",
    "vcpuNum": 2
   },
   {
    "_defaultOrder": 22,
    "_isFastLaunch": false,
    "category": "Compute optimized",
    "gpuNum": 0,
    "hideHardwareSpecs": false,
    "memoryGiB": 8,
    "name": "ml.c5.xlarge",
    "vcpuNum": 4
   },
   {
    "_defaultOrder": 23,
    "_isFastLaunch": false,
    "category": "Compute optimized",
    "gpuNum": 0,
    "hideHardwareSpecs": false,
    "memoryGiB": 16,
    "name": "ml.c5.2xlarge",
    "vcpuNum": 8
   },
   {
    "_defaultOrder": 24,
    "_isFastLaunch": false,
    "category": "Compute optimized",
    "gpuNum": 0,
    "hideHardwareSpecs": false,
    "memoryGiB": 32,
    "name": "ml.c5.4xlarge",
    "vcpuNum": 16
   },
   {
    "_defaultOrder": 25,
    "_isFastLaunch": false,
    "category": "Compute optimized",
    "gpuNum": 0,
    "hideHardwareSpecs": false,
    "memoryGiB": 72,
    "name": "ml.c5.9xlarge",
    "vcpuNum": 36
   },
   {
    "_defaultOrder": 26,
    "_isFastLaunch": false,
    "category": "Compute optimized",
    "gpuNum": 0,
    "hideHardwareSpecs": false,
    "memoryGiB": 96,
    "name": "ml.c5.12xlarge",
    "vcpuNum": 48
   },
   {
    "_defaultOrder": 27,
    "_isFastLaunch": false,
    "category": "Compute optimized",
    "gpuNum": 0,
    "hideHardwareSpecs": false,
    "memoryGiB": 144,
    "name": "ml.c5.18xlarge",
    "vcpuNum": 72
   },
   {
    "_defaultOrder": 28,
    "_isFastLaunch": false,
    "category": "Compute optimized",
    "gpuNum": 0,
    "hideHardwareSpecs": false,
    "memoryGiB": 192,
    "name": "ml.c5.24xlarge",
    "vcpuNum": 96
   },
   {
    "_defaultOrder": 29,
    "_isFastLaunch": true,
    "category": "Accelerated computing",
    "gpuNum": 1,
    "hideHardwareSpecs": false,
    "memoryGiB": 16,
    "name": "ml.g4dn.xlarge",
    "vcpuNum": 4
   },
   {
    "_defaultOrder": 30,
    "_isFastLaunch": false,
    "category": "Accelerated computing",
    "gpuNum": 1,
    "hideHardwareSpecs": false,
    "memoryGiB": 32,
    "name": "ml.g4dn.2xlarge",
    "vcpuNum": 8
   },
   {
    "_defaultOrder": 31,
    "_isFastLaunch": false,
    "category": "Accelerated computing",
    "gpuNum": 1,
    "hideHardwareSpecs": false,
    "memoryGiB": 64,
    "name": "ml.g4dn.4xlarge",
    "vcpuNum": 16
   },
   {
    "_defaultOrder": 32,
    "_isFastLaunch": false,
    "category": "Accelerated computing",
    "gpuNum": 1,
    "hideHardwareSpecs": false,
    "memoryGiB": 128,
    "name": "ml.g4dn.8xlarge",
    "vcpuNum": 32
   },
   {
    "_defaultOrder": 33,
    "_isFastLaunch": false,
    "category": "Accelerated computing",
    "gpuNum": 4,
    "hideHardwareSpecs": false,
    "memoryGiB": 192,
    "name": "ml.g4dn.12xlarge",
    "vcpuNum": 48
   },
   {
    "_defaultOrder": 34,
    "_isFastLaunch": false,
    "category": "Accelerated computing",
    "gpuNum": 1,
    "hideHardwareSpecs": false,
    "memoryGiB": 256,
    "name": "ml.g4dn.16xlarge",
    "vcpuNum": 64
   },
   {
    "_defaultOrder": 35,
    "_isFastLaunch": false,
    "category": "Accelerated computing",
    "gpuNum": 1,
    "hideHardwareSpecs": false,
    "memoryGiB": 61,
    "name": "ml.p3.2xlarge",
    "vcpuNum": 8
   },
   {
    "_defaultOrder": 36,
    "_isFastLaunch": false,
    "category": "Accelerated computing",
    "gpuNum": 4,
    "hideHardwareSpecs": false,
    "memoryGiB": 244,
    "name": "ml.p3.8xlarge",
    "vcpuNum": 32
   },
   {
    "_defaultOrder": 37,
    "_isFastLaunch": false,
    "category": "Accelerated computing",
    "gpuNum": 8,
    "hideHardwareSpecs": false,
    "memoryGiB": 488,
    "name": "ml.p3.16xlarge",
    "vcpuNum": 64
   },
   {
    "_defaultOrder": 38,
    "_isFastLaunch": false,
    "category": "Accelerated computing",
    "gpuNum": 8,
    "hideHardwareSpecs": false,
    "memoryGiB": 768,
    "name": "ml.p3dn.24xlarge",
    "vcpuNum": 96
   },
   {
    "_defaultOrder": 39,
    "_isFastLaunch": false,
    "category": "Memory Optimized",
    "gpuNum": 0,
    "hideHardwareSpecs": false,
    "memoryGiB": 16,
    "name": "ml.r5.large",
    "vcpuNum": 2
   },
   {
    "_defaultOrder": 40,
    "_isFastLaunch": false,
    "category": "Memory Optimized",
    "gpuNum": 0,
    "hideHardwareSpecs": false,
    "memoryGiB": 32,
    "name": "ml.r5.xlarge",
    "vcpuNum": 4
   },
   {
    "_defaultOrder": 41,
    "_isFastLaunch": false,
    "category": "Memory Optimized",
    "gpuNum": 0,
    "hideHardwareSpecs": false,
    "memoryGiB": 64,
    "name": "ml.r5.2xlarge",
    "vcpuNum": 8
   },
   {
    "_defaultOrder": 42,
    "_isFastLaunch": false,
    "category": "Memory Optimized",
    "gpuNum": 0,
    "hideHardwareSpecs": false,
    "memoryGiB": 128,
    "name": "ml.r5.4xlarge",
    "vcpuNum": 16
   },
   {
    "_defaultOrder": 43,
    "_isFastLaunch": false,
    "category": "Memory Optimized",
    "gpuNum": 0,
    "hideHardwareSpecs": false,
    "memoryGiB": 256,
    "name": "ml.r5.8xlarge",
    "vcpuNum": 32
   },
   {
    "_defaultOrder": 44,
    "_isFastLaunch": false,
    "category": "Memory Optimized",
    "gpuNum": 0,
    "hideHardwareSpecs": false,
    "memoryGiB": 384,
    "name": "ml.r5.12xlarge",
    "vcpuNum": 48
   },
   {
    "_defaultOrder": 45,
    "_isFastLaunch": false,
    "category": "Memory Optimized",
    "gpuNum": 0,
    "hideHardwareSpecs": false,
    "memoryGiB": 512,
    "name": "ml.r5.16xlarge",
    "vcpuNum": 64
   },
   {
    "_defaultOrder": 46,
    "_isFastLaunch": false,
    "category": "Memory Optimized",
    "gpuNum": 0,
    "hideHardwareSpecs": false,
    "memoryGiB": 768,
    "name": "ml.r5.24xlarge",
    "vcpuNum": 96
   },
   {
    "_defaultOrder": 47,
    "_isFastLaunch": false,
    "category": "Accelerated computing",
    "gpuNum": 1,
    "hideHardwareSpecs": false,
    "memoryGiB": 16,
    "name": "ml.g5.xlarge",
    "vcpuNum": 4
   },
   {
    "_defaultOrder": 48,
    "_isFastLaunch": false,
    "category": "Accelerated computing",
    "gpuNum": 1,
    "hideHardwareSpecs": false,
    "memoryGiB": 32,
    "name": "ml.g5.2xlarge",
    "vcpuNum": 8
   },
   {
    "_defaultOrder": 49,
    "_isFastLaunch": false,
    "category": "Accelerated computing",
    "gpuNum": 1,
    "hideHardwareSpecs": false,
    "memoryGiB": 64,
    "name": "ml.g5.4xlarge",
    "vcpuNum": 16
   },
   {
    "_defaultOrder": 50,
    "_isFastLaunch": false,
    "category": "Accelerated computing",
    "gpuNum": 1,
    "hideHardwareSpecs": false,
    "memoryGiB": 128,
    "name": "ml.g5.8xlarge",
    "vcpuNum": 32
   },
   {
    "_defaultOrder": 51,
    "_isFastLaunch": false,
    "category": "Accelerated computing",
    "gpuNum": 1,
    "hideHardwareSpecs": false,
    "memoryGiB": 256,
    "name": "ml.g5.16xlarge",
    "vcpuNum": 64
   },
   {
    "_defaultOrder": 52,
    "_isFastLaunch": false,
    "category": "Accelerated computing",
    "gpuNum": 4,
    "hideHardwareSpecs": false,
    "memoryGiB": 192,
    "name": "ml.g5.12xlarge",
    "vcpuNum": 48
   },
   {
    "_defaultOrder": 53,
    "_isFastLaunch": false,
    "category": "Accelerated computing",
    "gpuNum": 4,
    "hideHardwareSpecs": false,
    "memoryGiB": 384,
    "name": "ml.g5.24xlarge",
    "vcpuNum": 96
   },
   {
    "_defaultOrder": 54,
    "_isFastLaunch": false,
    "category": "Accelerated computing",
    "gpuNum": 8,
    "hideHardwareSpecs": false,
    "memoryGiB": 768,
    "name": "ml.g5.48xlarge",
    "vcpuNum": 192
   },
   {
    "_defaultOrder": 55,
    "_isFastLaunch": false,
    "category": "Accelerated computing",
    "gpuNum": 8,
    "hideHardwareSpecs": false,
    "memoryGiB": 1152,
    "name": "ml.p4d.24xlarge",
    "vcpuNum": 96
   },
   {
    "_defaultOrder": 56,
    "_isFastLaunch": false,
    "category": "Accelerated computing",
    "gpuNum": 8,
    "hideHardwareSpecs": false,
    "memoryGiB": 1152,
    "name": "ml.p4de.24xlarge",
    "vcpuNum": 96
   }
  ],
  "kernelspec": {
   "display_name": "Glue Python [PySpark and Ray] (SparkAnalytics 2.0)",
   "language": "python",
   "name": "conda-env-sm_glue_is-glue_pyspark__SAGEMAKER_INTERNAL__arn:aws:sagemaker:sa-east-1:782484402741:image/sagemaker-sparkanalytics-310-v1"
  },
  "language_info": {
   "codemirror_mode": {
    "name": "python",
    "version": 3
   },
   "file_extension": ".py",
   "mimetype": "text/x-python",
   "name": "Python_Glue_Session",
   "pygments_lexer": "python3"
  }
 },
 "nbformat": 4,
 "nbformat_minor": 5
}
