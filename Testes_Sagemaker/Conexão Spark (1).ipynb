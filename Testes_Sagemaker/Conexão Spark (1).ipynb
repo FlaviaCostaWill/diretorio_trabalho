{
 "cells": [
  {
   "cell_type": "code",
   "execution_count": 1,
   "id": "3245a37e-2f86-420c-b4bf-d60207bd9466",
   "metadata": {
    "tags": []
   },
   "outputs": [
    {
     "name": "stdout",
     "output_type": "stream",
     "text": [
      "Welcome to the Glue Interactive Sessions Kernel\n",
      "For more information on available magic commands, please type %help in any new cell.\n",
      "\n",
      "Please view our Getting Started page to access the most up-to-date information on the Interactive Sessions kernel: https://docs.aws.amazon.com/glue/latest/dg/interactive-sessions.html\n",
      "Installed kernel version: 0.38.1 \n",
      "Authenticating with environment variables and user-defined glue_role_arn: arn:aws:iam::142401413602:role/service-role/AmazonSageMaker-ExecutionRole-20220518T150261\n",
      "Trying to create a Glue session for the kernel.\n",
      "Worker Type: G.1X\n",
      "Number of Workers: 5\n",
      "Session ID: 6c493b44-6982-4de3-aade-0a70d10e60f0\n",
      "Job Type: glueetl\n",
      "Applying the following default arguments:\n",
      "--glue_kernel_version 0.38.1\n",
      "--enable-glue-datacatalog true\n",
      "Waiting for session 6c493b44-6982-4de3-aade-0a70d10e60f0 to get into ready status...\n",
      "Session 6c493b44-6982-4de3-aade-0a70d10e60f0 has been created.\n",
      "\n"
     ]
    }
   ],
   "source": [
    "from pyspark.sql import SparkSession\n",
    "from pyspark.sql.functions import when"
   ]
  },
  {
   "cell_type": "code",
   "execution_count": 2,
   "id": "efe952f0-cad4-41b3-82ab-62cae9a69db2",
   "metadata": {
    "tags": []
   },
   "outputs": [
    {
     "name": "stdout",
     "output_type": "stream",
     "text": [
      "\n"
     ]
    }
   ],
   "source": [
    "spark = SparkSession.builder.appName(\"example\").getOrCreate()"
   ]
  },
  {
   "cell_type": "code",
   "execution_count": 11,
   "id": "c20b0c10-d400-4801-af7c-d6a8b939e598",
   "metadata": {
    "tags": []
   },
   "outputs": [
    {
     "name": "stdout",
     "output_type": "stream",
     "text": [
      "\n"
     ]
    }
   ],
   "source": [
    "df = spark.sql(\n",
    "\"\"\"\n",
    "\n",
    "select \n",
    " cd_cpf\n",
    ", id_pessoa\n",
    ", ds_classif_behavior\n",
    ", ds_seg_consumo\n",
    ", ds_perfil_research\n",
    ", ds_persona\n",
    "from customer_analytics_zone.ca_analitico_basao_crm\n",
    "\n",
    "\"\"\"\n",
    ")\n"
   ]
  },
  {
   "cell_type": "code",
   "execution_count": 12,
   "id": "49042727-9dd5-447b-a5ac-a5fe12a7fb31",
   "metadata": {
    "tags": []
   },
   "outputs": [
    {
     "name": "stdout",
     "output_type": "stream",
     "text": [
      "+-----------+--------------------+-------------------+--------------------+--------------------+--------------------+\n",
      "|     cd_cpf|           id_pessoa|ds_classif_behavior|      ds_seg_consumo|  ds_perfil_research|          ds_persona|\n",
      "+-----------+--------------------+-------------------+--------------------+--------------------+--------------------+\n",
      "|08649985548|05e078a50ee1edea9...|                 14|                null|       Multiplicador|26 - Homem, Até 2...|\n",
      "|09633852919|f2459ceaeea8ee564...|                  9|LOJAS DE DEPARTAM...|Multiplicador / A...|17 - Mulher, 25 a...|\n",
      "|70016377699|22de21058a44a5d7f...|               null|                null|                null|17 - Mulher, 25 a...|\n",
      "|27744355873|0c5eb96017dd4ff4c...|                 17|                null|       Multiplicador|22 - Mulher, 41 a...|\n",
      "|07321571459|7e7a4cf9a0a96d3ea...|                 16|                null|BP - Multiplicado...|0 - Mulher, Casad...|\n",
      "+-----------+--------------------+-------------------+--------------------+--------------------+--------------------+\n",
      "only showing top 5 rows\n"
     ]
    }
   ],
   "source": [
    "df.show(5)"
   ]
  },
  {
   "cell_type": "code",
   "execution_count": 5,
   "id": "dff68278-07df-4441-aa16-78b8d0bccc0e",
   "metadata": {
    "tags": []
   },
   "outputs": [
    {
     "name": "stdout",
     "output_type": "stream",
     "text": [
      "[Row(id_pessoa='05e078a50ee1edea9f634b74451f27e4a8be0b336e05d32466830849dc051322', ds_classif_behavior='14', ds_seg_consumo=None, ds_perfil_research='Multiplicador', ds_persona='26 - Homem, Até 24 anos, Nordeste')]\n"
     ]
    }
   ],
   "source": [
    "df.head(1)"
   ]
  },
  {
   "cell_type": "code",
   "execution_count": 6,
   "id": "44f4f066-0faf-49d0-a3da-a676d20b9d20",
   "metadata": {
    "tags": []
   },
   "outputs": [
    {
     "name": "stdout",
     "output_type": "stream",
     "text": [
      "5504274\n"
     ]
    }
   ],
   "source": [
    "df.count()"
   ]
  },
  {
   "cell_type": "code",
   "execution_count": 7,
   "id": "f14d66f6-3e08-4c4c-81c4-bc13342b716d",
   "metadata": {
    "tags": []
   },
   "outputs": [
    {
     "name": "stdout",
     "output_type": "stream",
     "text": [
      "\n"
     ]
    }
   ],
   "source": [
    "df3 = spark.sql(\n",
    "\"\"\"\n",
    "\n",
    "                            SELECT cpf,\n",
    "                                          COUNT(DISTINCT SUBSTRING(CAST(dt_event AS string), 1, 10)) AS dias_uso_app\n",
    "\t\t\t\t\t\t\t\t     FROM customer_curated_zone.ca_analitico_geoloc\n",
    "                                           GROUP BY 1\n",
    "\n",
    "\"\"\"\n",
    ")"
   ]
  },
  {
   "cell_type": "code",
   "execution_count": 8,
   "id": "71e2c2f4-e805-443b-b58c-2bd60f4fa7ce",
   "metadata": {
    "tags": []
   },
   "outputs": [
    {
     "name": "stdout",
     "output_type": "stream",
     "text": [
      "2779510\n"
     ]
    }
   ],
   "source": [
    "df3.count()"
   ]
  },
  {
   "cell_type": "code",
   "execution_count": 14,
   "id": "1a62f9e1-6145-4650-87d2-ce08394bb0e6",
   "metadata": {
    "tags": []
   },
   "outputs": [
    {
     "name": "stdout",
     "output_type": "stream",
     "text": [
      "\n"
     ]
    }
   ],
   "source": [
    "from pyspark.sql.functions import when, col, countDistinct\n",
    "\n",
    "clusterization1 = df.select(\"cd_cpf\",\"ds_perfil_research\") \\\n",
    "                        .withColumnRenamed(\"cd_cpf\", \"cpf\") \\\n",
    "                        .join(df3, \"cpf\", \"left_outer\") \\\n",
    "                        .withColumn(\"dias_uso_app2\", when(col(\"dias_uso_app\") > 30, 30).otherwise(col(\"dias_uso_app\")))"
   ]
  },
  {
   "cell_type": "code",
   "execution_count": 15,
   "id": "0bff4ff3-0ee1-4653-82f7-3f49a842fed8",
   "metadata": {
    "tags": []
   },
   "outputs": [
    {
     "name": "stdout",
     "output_type": "stream",
     "text": [
      "+-----------+--------------------+------------+-------------+\n",
      "|        cpf|  ds_perfil_research|dias_uso_app|dias_uso_app2|\n",
      "+-----------+--------------------+------------+-------------+\n",
      "|00000048399|       Multiplicador|          73|           30|\n",
      "|00000074128|                null|           3|            3|\n",
      "|00000083542|Multiplicador / A...|          20|           20|\n",
      "|00000122114|       Multiplicador|        null|         null|\n",
      "|00000154580|       Multiplicador|          15|           15|\n",
      "|00000189103|          Acumulador|          68|           30|\n",
      "|00000420565|BP - Multiplicado...|         258|           30|\n",
      "|00000651290|                null|        null|         null|\n",
      "|00000724513|                null|          21|           21|\n",
      "|00001136208|Multiplicador / B...|          12|           12|\n",
      "|00001142356|       Multiplicador|          58|           30|\n",
      "|00001162543|Multiplicador / A...|          86|           30|\n",
      "|00001327305|Multiplicador / A...|        null|         null|\n",
      "|00001403338|                  NI|          10|           10|\n",
      "|00001927752|Multiplicador / B...|        null|         null|\n",
      "|00002104202|       Multiplicador|           3|            3|\n",
      "|00002427567|Multiplicador / A...|        null|         null|\n",
      "|00002433532|Multiplicador / A...|          67|           30|\n",
      "|00002469561|Multiplicador / A...|           4|            4|\n",
      "|00002504308|Multiplicador / A...|         114|           30|\n",
      "+-----------+--------------------+------------+-------------+\n",
      "only showing top 20 rows\n"
     ]
    }
   ],
   "source": [
    "clusterization1.show()"
   ]
  },
  {
   "cell_type": "code",
   "execution_count": 16,
   "id": "a8bef920-3f85-4d1f-ba55-5d9cdd168cc4",
   "metadata": {
    "tags": []
   },
   "outputs": [
    {
     "name": "stdout",
     "output_type": "stream",
     "text": [
      "+--------------------+------+\n",
      "|      ds_seg_consumo| count|\n",
      "+--------------------+------+\n",
      "|           SAUDE - 4|  8546|\n",
      "|        FINANCAS - 2|  4796|\n",
      "|         TELECOM - 5|  1569|\n",
      "|  ENTRETENIMENTO - 4|  2406|\n",
      "|        SERVICOS - 5| 88479|\n",
      "|      MOBILIDADE - 6| 57128|\n",
      "|        SERVICOS - 1| 38322|\n",
      "|      MOBILIDADE - 1| 10338|\n",
      "|             PET - 2|   744|\n",
      "|             PET - 6|   977|\n",
      "|        FINANCAS - 3| 40220|\n",
      "|        EDUCACAO - 2|  3379|\n",
      "|             PET - 4|  2972|\n",
      "|  ENTRETENIMENTO - 2|  5468|\n",
      "|        DELIVERY - 3|  2522|\n",
      "|          SEGURO - 3|  1810|\n",
      "|        SERVICOS - 3| 45292|\n",
      "|        FINANCAS - 4| 40339|\n",
      "|        EDUCACAO - 1|  1845|\n",
      "|      E-COMMERCE - 5| 72617|\n",
      "|      E-COMMERCE - 1| 16274|\n",
      "|        DELIVERY - 6|  2345|\n",
      "|SUPRIMENTOS PARA ...|  6356|\n",
      "|        EDUCACAO - 4|   773|\n",
      "|          VIAGEM - 4|   777|\n",
      "|LOJAS DE DEPARTAM...| 25542|\n",
      "|        EDUCACAO - 5|  8218|\n",
      "|      MOBILIDADE - 3|  7247|\n",
      "|          VIAGEM - 1|   779|\n",
      "|             PET - 1|   194|\n",
      "|LOJAS DE DEPARTAM...| 90718|\n",
      "|         TELECOM - 1|  4888|\n",
      "|LOJAS ESPECIALIZA...| 12110|\n",
      "|LOJAS ESPECIALIZA...|  3423|\n",
      "|           SAUDE - 5|  3802|\n",
      "|        SERVICOS - 2| 10467|\n",
      "|SERVICOS DE ALIME...| 47888|\n",
      "|LOJAS DE DEPARTAM...|143149|\n",
      "|    SUPERMERCADO - 4| 13653|\n",
      "|      MOBILIDADE - 5| 23449|\n",
      "|SERVICOS DE ALIME...| 15430|\n",
      "|SERVICOS DE ALIME...| 13005|\n",
      "|        EDUCACAO - 3|  2144|\n",
      "|SERVICOS DE ALIME...|  2585|\n",
      "|      E-COMMERCE - 6| 35897|\n",
      "|LOJAS DE DEPARTAM...|149255|\n",
      "|SUPRIMENTOS PARA ...|  1707|\n",
      "|        SERVICOS - 4| 24036|\n",
      "|         TELECOM - 3| 23577|\n",
      "|      MOBILIDADE - 4| 41687|\n",
      "+--------------------+------+\n",
      "only showing top 50 rows\n"
     ]
    }
   ],
   "source": [
    "agg1 = df.groupby(\"ds_seg_consumo\") \\\n",
    ".count()\n",
    "\n",
    "agg1.show(50)\n"
   ]
  },
  {
   "cell_type": "code",
   "execution_count": 17,
   "id": "c7e70b6c-9a68-4b9d-8c23-9a7185e2026b",
   "metadata": {
    "tags": []
   },
   "outputs": [
    {
     "name": "stdout",
     "output_type": "stream",
     "text": [
      "+-------------+--------------------+-----+\n",
      "|dias_uso_app2|  ds_perfil_research|count|\n",
      "+-------------+--------------------+-----+\n",
      "|            5|Multiplicador / A...|12976|\n",
      "|            5|BP - Multiplicado...| 4597|\n",
      "|           10|Multiplicador / A...| 8979|\n",
      "|           15|Multiplicador / A...| 7016|\n",
      "|            6|Multiplicador / A...|11727|\n",
      "|           20|          Acumulador| 3112|\n",
      "|           11|Multiplicador / B...| 6254|\n",
      "|            9|          Acumulador| 5471|\n",
      "|           11|  Barrado no Crédito| 4356|\n",
      "|           19|Multiplicador / A...| 5881|\n",
      "|           14|BP - Multiplicado...| 2831|\n",
      "|            9|  Barrado no Crédito| 4784|\n",
      "|           25|BP - Multiplicado...| 2444|\n",
      "|            4|BP - Multiplicado...| 4903|\n",
      "|           24|BP - Multiplicado...| 2036|\n",
      "|           15|BP - Multiplicado...| 2733|\n",
      "|           14|  Barrado no Crédito| 3488|\n",
      "|           28|  Barrado no Crédito| 1744|\n",
      "|           30|                null|11757|\n",
      "|           29|                null|  938|\n",
      "+-------------+--------------------+-----+\n",
      "only showing top 20 rows\n"
     ]
    }
   ],
   "source": [
    "clusterization1.filter(col(\"dias_uso_app2\") >= 1) \\\n",
    ".groupby(\"dias_uso_app2\", \"ds_perfil_research\") \\\n",
    ".count() \\\n",
    ".show()"
   ]
  },
  {
   "cell_type": "code",
   "execution_count": 19,
   "id": "48a193a7-70f2-4c58-a181-445d880c40ff",
   "metadata": {
    "tags": []
   },
   "outputs": [
    {
     "name": "stdout",
     "output_type": "stream",
     "text": [
      "+-------------+-----+----------+-------------------------------+---------------------------------------+------------------+-------------+--------------------------+----------------------------------+-----+\n",
      "|dias_uso_app2| null|Acumulador|BP - Multiplicador / Acumulador|BP - Multiplicador / Barrado no Crédito|Barrado no Crédito|Multiplicador|Multiplicador / Acumulador|Multiplicador / Barrado no Crédito|   NI|\n",
      "+-------------+-----+----------+-------------------------------+---------------------------------------+------------------+-------------+--------------------------+----------------------------------+-----+\n",
      "|            1|76017|     20875|                          15209|                                  10011|             13774|        48030|                     29390|                             19093|14344|\n",
      "|            2|55409|     13485|                          10029|                                   6753|              9375|        33594|                     20323|                             13911| 9161|\n",
      "|            3|43512|     10319|                           8156|                                   5591|              7949|        27626|                     16220|                             11567| 7401|\n",
      "|            4|35226|      8925|                           6970|                                   4903|              7016|        24480|                     14187|                             10352| 6430|\n",
      "|            5|29383|      7760|                           6440|                                   4597|              6278|        22180|                     12976|                              9413| 5742|\n",
      "|            6|24406|      6879|                           5899|                                   4220|              5861|        20591|                     11727|                              8748| 5442|\n",
      "|            7|20254|      6325|                           5417|                                   3846|              5499|        19462|                     10882|                              8181| 4884|\n",
      "|            8|17199|      5730|                           4999|                                   3731|              5031|        18171|                     10128|                              7581| 4722|\n",
      "|            9|14460|      5471|                           4897|                                   3633|              4784|        17495|                      9561|                              7090| 4513|\n",
      "|           10|12289|      5188|                           4563|                                   3262|              4491|        16500|                      8979|                              6720| 4260|\n",
      "|           11|10481|      4784|                           4237|                                   3256|              4356|        15883|                      8613|                              6254| 3972|\n",
      "|           12| 9212|      4546|                           4051|                                   3107|              3990|        15223|                      7813|                              5828| 3824|\n",
      "|           13| 7800|      4381|                           4039|                                   2974|              3688|        14886|                      7538|                              5564| 3611|\n",
      "|           14| 6980|      4040|                           3905|                                   2831|              3488|        14365|                      7368|                              5161| 3408|\n",
      "|           15| 5825|      3915|                           3570|                                   2733|              3363|        13672|                      7016|                              4976| 3334|\n",
      "|           16| 5185|      3685|                           3453|                                   2567|              3177|        13154|                      6697|                              4617| 3206|\n",
      "|           17| 4481|      3445|                           3388|                                   2536|              3083|        12522|                      6268|                              4429| 3097|\n",
      "|           18| 3856|      3503|                           3177|                                   2412|              2879|        12304|                      6153|                              4251| 2903|\n",
      "|           19| 3338|      3285|                           3090|                                   2326|              2681|        11495|                      5881|                              3925| 2843|\n",
      "|           20| 2922|      3112|                           2961|                                   2294|              2548|        11237|                      5761|                              3743| 2643|\n",
      "+-------------+-----+----------+-------------------------------+---------------------------------------+------------------+-------------+--------------------------+----------------------------------+-----+\n",
      "only showing top 20 rows\n"
     ]
    }
   ],
   "source": [
    "clusterization1.filter(col(\"dias_uso_app2\") >= 1) \\\n",
    ".groupby(\"dias_uso_app2\", \"ds_perfil_research\") \\\n",
    ".count() \\\n",
    ".groupby(\"dias_uso_app2\") \\\n",
    ".pivot(\"ds_perfil_research\").sum(\"count\") \\\n",
    ".orderBy(col(\"dias_uso_app2\").asc()).show()"
   ]
  },
  {
   "cell_type": "code",
   "execution_count": 20,
   "id": "d4c4714a-65c9-4f40-8c1a-e59f11af95ba",
   "metadata": {},
   "outputs": [
    {
     "name": "stdout",
     "output_type": "stream",
     "text": [
      "TypeError: unsupported operand type(s) for +: 'int' and 'str'\n"
     ]
    }
   ],
   "source": [
    "#df.groupBy(\"department\") \\\n",
    "#    .agg(sum(\"salary\").alias(\"sum_salary\"), \\\n",
    "#         avg(\"salary\").alias(\"avg_salary\"), \\\n",
    "#         sum(\"bonus\").alias(\"sum_bonus\"), \\\n",
    "#         max(\"bonus\").alias(\"max_bonus\") ) \\\n",
    "#    .show(truncate=False)\n"
   ]
  },
  {
   "cell_type": "code",
   "execution_count": 25,
   "id": "c3411288-5782-44b2-b77f-c285d2bb5554",
   "metadata": {
    "tags": []
   },
   "outputs": [
    {
     "name": "stdout",
     "output_type": "stream",
     "text": [
      "\n"
     ]
    }
   ],
   "source": [
    "df_test = df.drop('cd_cpf').sample(0.001)"
   ]
  },
  {
   "cell_type": "code",
   "execution_count": 26,
   "id": "34abc01b-529c-4c9e-b73d-d502fd81e2db",
   "metadata": {
    "tags": []
   },
   "outputs": [
    {
     "name": "stdout",
     "output_type": "stream",
     "text": [
      "5444\n"
     ]
    }
   ],
   "source": [
    "df_test.count()"
   ]
  },
  {
   "cell_type": "code",
   "execution_count": 27,
   "id": "43937750-bf0e-4537-a9b8-955cd26bde22",
   "metadata": {
    "tags": []
   },
   "outputs": [
    {
     "name": "stdout",
     "output_type": "stream",
     "text": [
      "\n"
     ]
    }
   ],
   "source": [
    "df_test.write.partitionBy(\"id_pessoa\").json(\"s3a://data-workspace-will-prod/flavia-costa/teste_json_basico\")"
   ]
  },
  {
   "cell_type": "code",
   "execution_count": 28,
   "id": "4f416cbd-f58c-4d82-acae-2899e569c6f1",
   "metadata": {
    "tags": []
   },
   "outputs": [
    {
     "name": "stdout",
     "output_type": "stream",
     "text": [
      "+--------------------+-------------------+--------------------+--------------------+--------------------+\n",
      "|           id_pessoa|ds_classif_behavior|      ds_seg_consumo|  ds_perfil_research|          ds_persona|\n",
      "+--------------------+-------------------+--------------------+--------------------+--------------------+\n",
      "|41d3b4434fee54617...|                 14|                null|                null|18 - Homem, 25 a ...|\n",
      "|448608d1a9b4884fc...|                 16|    SUPERMERCADO - 6|Multiplicador / A...|25 - Homem, 41 an...|\n",
      "|8e560315acb7a93af...|                 17|                null|Multiplicador / B...|10 - Mulher, Solt...|\n",
      "|5c62ab889e44a299c...|                 18|                null|BP - Multiplicado...|31 - Mulher, 41 a...|\n",
      "|d2ff2a0c324edafab...|                 16|                null|                  NI|15 - Mulher, 25 a...|\n",
      "|f2a436f6cb983e88f...|               null|                null|Multiplicador / B...|23 - Homem, 41 an...|\n",
      "|30d85e5d326f58d8e...|               null|                null|                null|29 - Mulher, Até ...|\n",
      "|589da2837b86a7585...|                  2|                null|BP - Multiplicado...|8 - Mulher, Solte...|\n",
      "|1cb7729c20d7a10ab...|               null|                null|  Barrado no Crédito|10 - Mulher, Solt...|\n",
      "|04849cd72116d5a82...|                  4|                null|BP - Multiplicado...|25 - Homem, 41 an...|\n",
      "|38454c0af2192117b...|                  9|                null|BP - Multiplicado...|11 - Homem, Solte...|\n",
      "|b57da37ccc36c3c0f...|                  6|      MOBILIDADE - 6|       Multiplicador|8 - Mulher, Solte...|\n",
      "|921ab23abcd359520...|               null|                null|                null|16 - Homem, 25 a ...|\n",
      "|b843b09b12d71264c...|                  7|LOJAS DE DEPARTAM...|       Multiplicador|13 - Homem, Solte...|\n",
      "|3077af42ddf46f405...|                 13|                null|BP - Multiplicado...|14 - Homem, Casad...|\n",
      "|f2571f82c41432b93...|                  6|LOJAS DE DEPARTAM...|BP - Multiplicado...|21 - Mulher, Até ...|\n",
      "|069fdc8533852e25b...|                  4|                null|       Multiplicador|                null|\n",
      "|f60baf3fa5949517e...|                  1|                null|BP - Multiplicado...|18 - Homem, 25 a ...|\n",
      "|e54044b19e93a3d01...|                 14|                null|Multiplicador / A...|17 - Mulher, 25 a...|\n",
      "|e454b3a99e51395fd...|               null|                null|       Multiplicador|12 - Mulher, Solt...|\n",
      "+--------------------+-------------------+--------------------+--------------------+--------------------+\n",
      "only showing top 20 rows\n"
     ]
    }
   ],
   "source": [
    "df_test.show()"
   ]
  },
  {
   "cell_type": "code",
   "execution_count": 49,
   "id": "bf3282e6-9815-4f78-8db4-2a87499fa632",
   "metadata": {
    "tags": []
   },
   "outputs": [
    {
     "name": "stdout",
     "output_type": "stream",
     "text": [
      "\n"
     ]
    }
   ],
   "source": [
    "from pyspark.sql.functions import posexplode\n",
    "from pyspark.sql.functions import posexplode_outer"
   ]
  },
  {
   "cell_type": "code",
   "execution_count": 67,
   "id": "1ea5c794-cc5f-4ef2-aaa7-0ee3ac3bc9a2",
   "metadata": {
    "tags": []
   },
   "outputs": [
    {
     "name": "stdout",
     "output_type": "stream",
     "text": [
      "+----------------------------------------------------------------+-------------------+--------------------------------------------------------------+\n",
      "|id_pessoa                                                       |Modelos            |Score                                                         |\n",
      "+----------------------------------------------------------------+-------------------+--------------------------------------------------------------+\n",
      "|41d3b4434fee54617c9f71c5ebe4faa0d8a50fb06bdc668b6e6632d0dad1fc89|ds_classif_behavior|14                                                            |\n",
      "|41d3b4434fee54617c9f71c5ebe4faa0d8a50fb06bdc668b6e6632d0dad1fc89|ds_seg_consumo     |null                                                          |\n",
      "|41d3b4434fee54617c9f71c5ebe4faa0d8a50fb06bdc668b6e6632d0dad1fc89|ds_perfil_research |null                                                          |\n",
      "|41d3b4434fee54617c9f71c5ebe4faa0d8a50fb06bdc668b6e6632d0dad1fc89|ds_persona         |18 - Homem, 25 a 40 anos, Sudeste e Sul                       |\n",
      "|448608d1a9b4884fc969a7ebb8700f6e1730a85cb7ad3c04a3f86dec53479e16|ds_classif_behavior|16                                                            |\n",
      "|448608d1a9b4884fc969a7ebb8700f6e1730a85cb7ad3c04a3f86dec53479e16|ds_seg_consumo     |SUPERMERCADO - 6                                              |\n",
      "|448608d1a9b4884fc969a7ebb8700f6e1730a85cb7ad3c04a3f86dec53479e16|ds_perfil_research |Multiplicador / Acumulador                                    |\n",
      "|448608d1a9b4884fc969a7ebb8700f6e1730a85cb7ad3c04a3f86dec53479e16|ds_persona         |25 - Homem, 41 anos ou mais, Sudeste e Sul                    |\n",
      "|8e560315acb7a93af4ecdf4e3a2301df022d5fc7a25148fcdbe36713236c91bc|ds_classif_behavior|17                                                            |\n",
      "|8e560315acb7a93af4ecdf4e3a2301df022d5fc7a25148fcdbe36713236c91bc|ds_seg_consumo     |null                                                          |\n",
      "|8e560315acb7a93af4ecdf4e3a2301df022d5fc7a25148fcdbe36713236c91bc|ds_perfil_research |Multiplicador / Barrado no Crédito                            |\n",
      "|8e560315acb7a93af4ecdf4e3a2301df022d5fc7a25148fcdbe36713236c91bc|ds_persona         |10 - Mulher, Solteira, Até 24 anos, cidade Pequena do Nordeste|\n",
      "|5c62ab889e44a299cbabd648a330b2262ca8992d9022dc2a223ce860038369b1|ds_classif_behavior|18                                                            |\n",
      "|5c62ab889e44a299cbabd648a330b2262ca8992d9022dc2a223ce860038369b1|ds_seg_consumo     |null                                                          |\n",
      "|5c62ab889e44a299cbabd648a330b2262ca8992d9022dc2a223ce860038369b1|ds_perfil_research |BP - Multiplicador / Acumulador                               |\n",
      "|5c62ab889e44a299cbabd648a330b2262ca8992d9022dc2a223ce860038369b1|ds_persona         |31 - Mulher, 41 anos ou mais, Centro-Oeste e Norte            |\n",
      "|d2ff2a0c324edafab4a9d419ef879073308916dc39800399dd95536714e2807f|ds_classif_behavior|16                                                            |\n",
      "|d2ff2a0c324edafab4a9d419ef879073308916dc39800399dd95536714e2807f|ds_seg_consumo     |null                                                          |\n",
      "|d2ff2a0c324edafab4a9d419ef879073308916dc39800399dd95536714e2807f|ds_perfil_research |NI                                                            |\n",
      "|d2ff2a0c324edafab4a9d419ef879073308916dc39800399dd95536714e2807f|ds_persona         |15 - Mulher, 25 a 40 anos, Nordeste                           |\n",
      "+----------------------------------------------------------------+-------------------+--------------------------------------------------------------+\n",
      "only showing top 20 rows\n",
      "\n",
      "+--------------------+-------------------+--------------------+\n",
      "|           id_pessoa|            Modelos|               Score|\n",
      "+--------------------+-------------------+--------------------+\n",
      "|41d3b4434fee54617...|ds_classif_behavior|                  14|\n",
      "|41d3b4434fee54617...|     ds_seg_consumo|                null|\n",
      "|41d3b4434fee54617...| ds_perfil_research|                null|\n",
      "|41d3b4434fee54617...|         ds_persona|18 - Homem, 25 a ...|\n",
      "|448608d1a9b4884fc...|ds_classif_behavior|                  16|\n",
      "|448608d1a9b4884fc...|     ds_seg_consumo|    SUPERMERCADO - 6|\n",
      "|448608d1a9b4884fc...| ds_perfil_research|Multiplicador / A...|\n",
      "|448608d1a9b4884fc...|         ds_persona|25 - Homem, 41 an...|\n",
      "|8e560315acb7a93af...|ds_classif_behavior|                  17|\n",
      "|8e560315acb7a93af...|     ds_seg_consumo|                null|\n",
      "|8e560315acb7a93af...| ds_perfil_research|Multiplicador / B...|\n",
      "|8e560315acb7a93af...|         ds_persona|10 - Mulher, Solt...|\n",
      "|5c62ab889e44a299c...|ds_classif_behavior|                  18|\n",
      "|5c62ab889e44a299c...|     ds_seg_consumo|                null|\n",
      "|5c62ab889e44a299c...| ds_perfil_research|BP - Multiplicado...|\n",
      "|5c62ab889e44a299c...|         ds_persona|31 - Mulher, 41 a...|\n",
      "|d2ff2a0c324edafab...|ds_classif_behavior|                  16|\n",
      "|d2ff2a0c324edafab...|     ds_seg_consumo|                null|\n",
      "|d2ff2a0c324edafab...| ds_perfil_research|                  NI|\n",
      "|d2ff2a0c324edafab...|         ds_persona|15 - Mulher, 25 a...|\n",
      "+--------------------+-------------------+--------------------+\n",
      "only showing top 20 rows\n"
     ]
    }
   ],
   "source": [
    "from pyspark.sql.functions import expr\n",
    "\n",
    "unpivotExpr = \"\"\"\n",
    "stack(4, 'ds_classif_behavior', ds_classif_behavior\n",
    ", 'ds_seg_consumo', ds_seg_consumo\n",
    ", 'ds_perfil_research', ds_perfil_research\n",
    ", 'ds_persona', ds_persona) \n",
    "as (Modelos,Score)\n",
    "\"\"\"\n",
    "\n",
    "df_formato = df_test.select(\"id_pessoa\", expr(unpivotExpr)) \n",
    "df_formato.show(truncate=False)\n",
    "df_formato.show()"
   ]
  },
  {
   "cell_type": "code",
   "execution_count": 75,
   "id": "57f25d68-8cbc-4783-9372-658074e5f134",
   "metadata": {
    "tags": []
   },
   "outputs": [
    {
     "name": "stdout",
     "output_type": "stream",
     "text": [
      "\n"
     ]
    }
   ],
   "source": [
    "df_formato = df_formato.withColumnRenamed('Modelos', 'id').withColumnRenamed('Score', 'score')\\\n",
    ".withColumn('description', when(col(\"id\") == \"ds_classif_behavior\", \"Behavior\").otherwise(\\\n",
    "when(col(\"id\") == \"ds_seg_consumo\", \"Segm.MCC\").otherwise(\\\n",
    "when(col(\"id\") == \"ds_perfil_research\", \"Perfis\").otherwise(\\\n",
    "when(col(\"id\") == \"ds_persona\", \"Persona\").otherwise(\"\")))))"
   ]
  },
  {
   "cell_type": "code",
   "execution_count": 76,
   "id": "db0460ef-dbe0-4196-9610-a2e7e4d716d3",
   "metadata": {
    "tags": []
   },
   "outputs": [
    {
     "name": "stdout",
     "output_type": "stream",
     "text": [
      "+--------------------+-------------------+--------------------+-----------+\n",
      "|           id_pessoa|                 id|               score|description|\n",
      "+--------------------+-------------------+--------------------+-----------+\n",
      "|41d3b4434fee54617...|ds_classif_behavior|                  14|   Behavior|\n",
      "|41d3b4434fee54617...|     ds_seg_consumo|                null|   Segm.MCC|\n",
      "|41d3b4434fee54617...| ds_perfil_research|                null|     Perfis|\n",
      "|41d3b4434fee54617...|         ds_persona|18 - Homem, 25 a ...|    Persona|\n",
      "|448608d1a9b4884fc...|ds_classif_behavior|                  16|   Behavior|\n",
      "|448608d1a9b4884fc...|     ds_seg_consumo|    SUPERMERCADO - 6|   Segm.MCC|\n",
      "|448608d1a9b4884fc...| ds_perfil_research|Multiplicador / A...|     Perfis|\n",
      "|448608d1a9b4884fc...|         ds_persona|25 - Homem, 41 an...|    Persona|\n",
      "|8e560315acb7a93af...|ds_classif_behavior|                  17|   Behavior|\n",
      "|8e560315acb7a93af...|     ds_seg_consumo|                null|   Segm.MCC|\n",
      "|8e560315acb7a93af...| ds_perfil_research|Multiplicador / B...|     Perfis|\n",
      "|8e560315acb7a93af...|         ds_persona|10 - Mulher, Solt...|    Persona|\n",
      "|5c62ab889e44a299c...|ds_classif_behavior|                  18|   Behavior|\n",
      "|5c62ab889e44a299c...|     ds_seg_consumo|                null|   Segm.MCC|\n",
      "|5c62ab889e44a299c...| ds_perfil_research|BP - Multiplicado...|     Perfis|\n",
      "|5c62ab889e44a299c...|         ds_persona|31 - Mulher, 41 a...|    Persona|\n",
      "|d2ff2a0c324edafab...|ds_classif_behavior|                  16|   Behavior|\n",
      "|d2ff2a0c324edafab...|     ds_seg_consumo|                null|   Segm.MCC|\n",
      "|d2ff2a0c324edafab...| ds_perfil_research|                  NI|     Perfis|\n",
      "|d2ff2a0c324edafab...|         ds_persona|15 - Mulher, 25 a...|    Persona|\n",
      "+--------------------+-------------------+--------------------+-----------+\n",
      "only showing top 20 rows\n"
     ]
    }
   ],
   "source": [
    "df_formato.show()"
   ]
  },
  {
   "cell_type": "code",
   "execution_count": 77,
   "id": "2c23f3c7-b317-47f7-afce-0dc07e200afd",
   "metadata": {
    "tags": []
   },
   "outputs": [
    {
     "name": "stdout",
     "output_type": "stream",
     "text": [
      "\n"
     ]
    }
   ],
   "source": [
    "import pandas as pd"
   ]
  },
  {
   "cell_type": "code",
   "execution_count": 79,
   "id": "12ca8854-594a-4e5f-b58a-da2e8639944f",
   "metadata": {
    "tags": []
   },
   "outputs": [
    {
     "name": "stdout",
     "output_type": "stream",
     "text": [
      "\n"
     ]
    }
   ],
   "source": [
    "pandas_df = df_formato.toPandas()"
   ]
  },
  {
   "cell_type": "code",
   "execution_count": 80,
   "id": "3dddabba-65ef-4aa1-b674-cbb6d409140b",
   "metadata": {
    "tags": []
   },
   "outputs": [
    {
     "name": "stdout",
     "output_type": "stream",
     "text": [
      "                                           id_pessoa  ... description\n",
      "0  41d3b4434fee54617c9f71c5ebe4faa0d8a50fb06bdc66...  ...    Behavior\n",
      "1  41d3b4434fee54617c9f71c5ebe4faa0d8a50fb06bdc66...  ...    Segm.MCC\n",
      "2  41d3b4434fee54617c9f71c5ebe4faa0d8a50fb06bdc66...  ...      Perfis\n",
      "3  41d3b4434fee54617c9f71c5ebe4faa0d8a50fb06bdc66...  ...     Persona\n",
      "4  448608d1a9b4884fc969a7ebb8700f6e1730a85cb7ad3c...  ...    Behavior\n",
      "\n",
      "[5 rows x 4 columns]\n"
     ]
    }
   ],
   "source": [
    "pandas_df.head()"
   ]
  },
  {
   "cell_type": "code",
   "execution_count": null,
   "id": "12e41db9-6ed1-40a0-9726-e8cefca32881",
   "metadata": {},
   "outputs": [],
   "source": [
    "from pyspark.sql.functions import pandas_udf\n",
    "from pyspark.sql.functions import PandasUDFType\n",
    "\n",
    "@pandas_udf(schema, functionType=PandasUDFType.GROUPED_MAP)\n",
    "def g(df):\n",
    "    result = df.groupby(['id_pessoa'].apply(lambda x: x[['id','description','score']].to_dict('records')).reset_index()\n",
    "    return result"
   ]
  },
  {
   "cell_type": "code",
   "execution_count": null,
   "id": "e9e6fe48-90c0-48c7-a678-054fd06ab4a3",
   "metadata": {},
   "outputs": [],
   "source": [
    "j = (df.groupby(['id_pessoa'])\\\n",
    ".apply(g)\\\n",
    ".rename(columns={0:'Models'})\\\n",
    ".to_json(orient='records'))"
   ]
  },
  {
   "cell_type": "code",
   "execution_count": 82,
   "id": "3e2fe07c-e4ab-4008-bc8b-487a694f1291",
   "metadata": {
    "tags": []
   },
   "outputs": [
    {
     "name": "stdout",
     "output_type": "stream",
     "text": [
      "ValueError: Invalid udf: the udf argument must be a pandas_udf of type GROUPED_MAP.\n",
      "Stopping session: 6c493b44-6982-4de3-aade-0a70d10e60f0\n"
     ]
    }
   ],
   "source": [
    "#j = (df.groupby(['id_pessoa'])\\\n",
    "#.apply(lambda x: x[['id','description','score']].to_dict('records'))\\\n",
    "#.reset_index()\\\n",
    "#.rename(columns={0:'Models'})\\\n",
    "#.to_json(orient='records'))"
   ]
  },
  {
   "cell_type": "code",
   "execution_count": null,
   "id": "c9e5dad8-44e0-43f1-98ed-5cff7731e606",
   "metadata": {},
   "outputs": [],
   "source": [
    "print(json.dumps(json.loads(j), indent=2, sort_keys=False)) # ou true para experienceid no final"
   ]
  },
  {
   "cell_type": "code",
   "execution_count": null,
   "id": "0d10cf9b-8b23-44ae-8db3-b5ddb0650816",
   "metadata": {},
   "outputs": [],
   "source": [
    "df = spark.read.json(\"./ex.json\")\n",
    "df = df.withColumn(\"Year\", df[\"year\"])\n",
    "df = df.withColumn(\"Fruit\", df[\"fruit\"])\n",
    "df.write.partitionBy(\"Year\", \"Fruit\").json(\"result\")"
   ]
  }
 ],
 "metadata": {
  "availableInstances": [
   {
    "_defaultOrder": 0,
    "_isFastLaunch": true,
    "category": "General purpose",
    "gpuNum": 0,
    "hideHardwareSpecs": false,
    "memoryGiB": 4,
    "name": "ml.t3.medium",
    "vcpuNum": 2
   },
   {
    "_defaultOrder": 1,
    "_isFastLaunch": false,
    "category": "General purpose",
    "gpuNum": 0,
    "hideHardwareSpecs": false,
    "memoryGiB": 8,
    "name": "ml.t3.large",
    "vcpuNum": 2
   },
   {
    "_defaultOrder": 2,
    "_isFastLaunch": false,
    "category": "General purpose",
    "gpuNum": 0,
    "hideHardwareSpecs": false,
    "memoryGiB": 16,
    "name": "ml.t3.xlarge",
    "vcpuNum": 4
   },
   {
    "_defaultOrder": 3,
    "_isFastLaunch": false,
    "category": "General purpose",
    "gpuNum": 0,
    "hideHardwareSpecs": false,
    "memoryGiB": 32,
    "name": "ml.t3.2xlarge",
    "vcpuNum": 8
   },
   {
    "_defaultOrder": 4,
    "_isFastLaunch": true,
    "category": "General purpose",
    "gpuNum": 0,
    "hideHardwareSpecs": false,
    "memoryGiB": 8,
    "name": "ml.m5.large",
    "vcpuNum": 2
   },
   {
    "_defaultOrder": 5,
    "_isFastLaunch": false,
    "category": "General purpose",
    "gpuNum": 0,
    "hideHardwareSpecs": false,
    "memoryGiB": 16,
    "name": "ml.m5.xlarge",
    "vcpuNum": 4
   },
   {
    "_defaultOrder": 6,
    "_isFastLaunch": false,
    "category": "General purpose",
    "gpuNum": 0,
    "hideHardwareSpecs": false,
    "memoryGiB": 32,
    "name": "ml.m5.2xlarge",
    "vcpuNum": 8
   },
   {
    "_defaultOrder": 7,
    "_isFastLaunch": false,
    "category": "General purpose",
    "gpuNum": 0,
    "hideHardwareSpecs": false,
    "memoryGiB": 64,
    "name": "ml.m5.4xlarge",
    "vcpuNum": 16
   },
   {
    "_defaultOrder": 8,
    "_isFastLaunch": false,
    "category": "General purpose",
    "gpuNum": 0,
    "hideHardwareSpecs": false,
    "memoryGiB": 128,
    "name": "ml.m5.8xlarge",
    "vcpuNum": 32
   },
   {
    "_defaultOrder": 9,
    "_isFastLaunch": false,
    "category": "General purpose",
    "gpuNum": 0,
    "hideHardwareSpecs": false,
    "memoryGiB": 192,
    "name": "ml.m5.12xlarge",
    "vcpuNum": 48
   },
   {
    "_defaultOrder": 10,
    "_isFastLaunch": false,
    "category": "General purpose",
    "gpuNum": 0,
    "hideHardwareSpecs": false,
    "memoryGiB": 256,
    "name": "ml.m5.16xlarge",
    "vcpuNum": 64
   },
   {
    "_defaultOrder": 11,
    "_isFastLaunch": false,
    "category": "General purpose",
    "gpuNum": 0,
    "hideHardwareSpecs": false,
    "memoryGiB": 384,
    "name": "ml.m5.24xlarge",
    "vcpuNum": 96
   },
   {
    "_defaultOrder": 12,
    "_isFastLaunch": false,
    "category": "General purpose",
    "gpuNum": 0,
    "hideHardwareSpecs": false,
    "memoryGiB": 8,
    "name": "ml.m5d.large",
    "vcpuNum": 2
   },
   {
    "_defaultOrder": 13,
    "_isFastLaunch": false,
    "category": "General purpose",
    "gpuNum": 0,
    "hideHardwareSpecs": false,
    "memoryGiB": 16,
    "name": "ml.m5d.xlarge",
    "vcpuNum": 4
   },
   {
    "_defaultOrder": 14,
    "_isFastLaunch": false,
    "category": "General purpose",
    "gpuNum": 0,
    "hideHardwareSpecs": false,
    "memoryGiB": 32,
    "name": "ml.m5d.2xlarge",
    "vcpuNum": 8
   },
   {
    "_defaultOrder": 15,
    "_isFastLaunch": false,
    "category": "General purpose",
    "gpuNum": 0,
    "hideHardwareSpecs": false,
    "memoryGiB": 64,
    "name": "ml.m5d.4xlarge",
    "vcpuNum": 16
   },
   {
    "_defaultOrder": 16,
    "_isFastLaunch": false,
    "category": "General purpose",
    "gpuNum": 0,
    "hideHardwareSpecs": false,
    "memoryGiB": 128,
    "name": "ml.m5d.8xlarge",
    "vcpuNum": 32
   },
   {
    "_defaultOrder": 17,
    "_isFastLaunch": false,
    "category": "General purpose",
    "gpuNum": 0,
    "hideHardwareSpecs": false,
    "memoryGiB": 192,
    "name": "ml.m5d.12xlarge",
    "vcpuNum": 48
   },
   {
    "_defaultOrder": 18,
    "_isFastLaunch": false,
    "category": "General purpose",
    "gpuNum": 0,
    "hideHardwareSpecs": false,
    "memoryGiB": 256,
    "name": "ml.m5d.16xlarge",
    "vcpuNum": 64
   },
   {
    "_defaultOrder": 19,
    "_isFastLaunch": false,
    "category": "General purpose",
    "gpuNum": 0,
    "hideHardwareSpecs": false,
    "memoryGiB": 384,
    "name": "ml.m5d.24xlarge",
    "vcpuNum": 96
   },
   {
    "_defaultOrder": 20,
    "_isFastLaunch": false,
    "category": "General purpose",
    "gpuNum": 0,
    "hideHardwareSpecs": true,
    "memoryGiB": 0,
    "name": "ml.geospatial.interactive",
    "supportedImageNames": [
     "sagemaker-geospatial-v1-0"
    ],
    "vcpuNum": 0
   },
   {
    "_defaultOrder": 21,
    "_isFastLaunch": true,
    "category": "Compute optimized",
    "gpuNum": 0,
    "hideHardwareSpecs": false,
    "memoryGiB": 4,
    "name": "ml.c5.large",
    "vcpuNum": 2
   },
   {
    "_defaultOrder": 22,
    "_isFastLaunch": false,
    "category": "Compute optimized",
    "gpuNum": 0,
    "hideHardwareSpecs": false,
    "memoryGiB": 8,
    "name": "ml.c5.xlarge",
    "vcpuNum": 4
   },
   {
    "_defaultOrder": 23,
    "_isFastLaunch": false,
    "category": "Compute optimized",
    "gpuNum": 0,
    "hideHardwareSpecs": false,
    "memoryGiB": 16,
    "name": "ml.c5.2xlarge",
    "vcpuNum": 8
   },
   {
    "_defaultOrder": 24,
    "_isFastLaunch": false,
    "category": "Compute optimized",
    "gpuNum": 0,
    "hideHardwareSpecs": false,
    "memoryGiB": 32,
    "name": "ml.c5.4xlarge",
    "vcpuNum": 16
   },
   {
    "_defaultOrder": 25,
    "_isFastLaunch": false,
    "category": "Compute optimized",
    "gpuNum": 0,
    "hideHardwareSpecs": false,
    "memoryGiB": 72,
    "name": "ml.c5.9xlarge",
    "vcpuNum": 36
   },
   {
    "_defaultOrder": 26,
    "_isFastLaunch": false,
    "category": "Compute optimized",
    "gpuNum": 0,
    "hideHardwareSpecs": false,
    "memoryGiB": 96,
    "name": "ml.c5.12xlarge",
    "vcpuNum": 48
   },
   {
    "_defaultOrder": 27,
    "_isFastLaunch": false,
    "category": "Compute optimized",
    "gpuNum": 0,
    "hideHardwareSpecs": false,
    "memoryGiB": 144,
    "name": "ml.c5.18xlarge",
    "vcpuNum": 72
   },
   {
    "_defaultOrder": 28,
    "_isFastLaunch": false,
    "category": "Compute optimized",
    "gpuNum": 0,
    "hideHardwareSpecs": false,
    "memoryGiB": 192,
    "name": "ml.c5.24xlarge",
    "vcpuNum": 96
   },
   {
    "_defaultOrder": 29,
    "_isFastLaunch": true,
    "category": "Accelerated computing",
    "gpuNum": 1,
    "hideHardwareSpecs": false,
    "memoryGiB": 16,
    "name": "ml.g4dn.xlarge",
    "vcpuNum": 4
   },
   {
    "_defaultOrder": 30,
    "_isFastLaunch": false,
    "category": "Accelerated computing",
    "gpuNum": 1,
    "hideHardwareSpecs": false,
    "memoryGiB": 32,
    "name": "ml.g4dn.2xlarge",
    "vcpuNum": 8
   },
   {
    "_defaultOrder": 31,
    "_isFastLaunch": false,
    "category": "Accelerated computing",
    "gpuNum": 1,
    "hideHardwareSpecs": false,
    "memoryGiB": 64,
    "name": "ml.g4dn.4xlarge",
    "vcpuNum": 16
   },
   {
    "_defaultOrder": 32,
    "_isFastLaunch": false,
    "category": "Accelerated computing",
    "gpuNum": 1,
    "hideHardwareSpecs": false,
    "memoryGiB": 128,
    "name": "ml.g4dn.8xlarge",
    "vcpuNum": 32
   },
   {
    "_defaultOrder": 33,
    "_isFastLaunch": false,
    "category": "Accelerated computing",
    "gpuNum": 4,
    "hideHardwareSpecs": false,
    "memoryGiB": 192,
    "name": "ml.g4dn.12xlarge",
    "vcpuNum": 48
   },
   {
    "_defaultOrder": 34,
    "_isFastLaunch": false,
    "category": "Accelerated computing",
    "gpuNum": 1,
    "hideHardwareSpecs": false,
    "memoryGiB": 256,
    "name": "ml.g4dn.16xlarge",
    "vcpuNum": 64
   },
   {
    "_defaultOrder": 35,
    "_isFastLaunch": false,
    "category": "Accelerated computing",
    "gpuNum": 1,
    "hideHardwareSpecs": false,
    "memoryGiB": 61,
    "name": "ml.p3.2xlarge",
    "vcpuNum": 8
   },
   {
    "_defaultOrder": 36,
    "_isFastLaunch": false,
    "category": "Accelerated computing",
    "gpuNum": 4,
    "hideHardwareSpecs": false,
    "memoryGiB": 244,
    "name": "ml.p3.8xlarge",
    "vcpuNum": 32
   },
   {
    "_defaultOrder": 37,
    "_isFastLaunch": false,
    "category": "Accelerated computing",
    "gpuNum": 8,
    "hideHardwareSpecs": false,
    "memoryGiB": 488,
    "name": "ml.p3.16xlarge",
    "vcpuNum": 64
   },
   {
    "_defaultOrder": 38,
    "_isFastLaunch": false,
    "category": "Accelerated computing",
    "gpuNum": 8,
    "hideHardwareSpecs": false,
    "memoryGiB": 768,
    "name": "ml.p3dn.24xlarge",
    "vcpuNum": 96
   },
   {
    "_defaultOrder": 39,
    "_isFastLaunch": false,
    "category": "Memory Optimized",
    "gpuNum": 0,
    "hideHardwareSpecs": false,
    "memoryGiB": 16,
    "name": "ml.r5.large",
    "vcpuNum": 2
   },
   {
    "_defaultOrder": 40,
    "_isFastLaunch": false,
    "category": "Memory Optimized",
    "gpuNum": 0,
    "hideHardwareSpecs": false,
    "memoryGiB": 32,
    "name": "ml.r5.xlarge",
    "vcpuNum": 4
   },
   {
    "_defaultOrder": 41,
    "_isFastLaunch": false,
    "category": "Memory Optimized",
    "gpuNum": 0,
    "hideHardwareSpecs": false,
    "memoryGiB": 64,
    "name": "ml.r5.2xlarge",
    "vcpuNum": 8
   },
   {
    "_defaultOrder": 42,
    "_isFastLaunch": false,
    "category": "Memory Optimized",
    "gpuNum": 0,
    "hideHardwareSpecs": false,
    "memoryGiB": 128,
    "name": "ml.r5.4xlarge",
    "vcpuNum": 16
   },
   {
    "_defaultOrder": 43,
    "_isFastLaunch": false,
    "category": "Memory Optimized",
    "gpuNum": 0,
    "hideHardwareSpecs": false,
    "memoryGiB": 256,
    "name": "ml.r5.8xlarge",
    "vcpuNum": 32
   },
   {
    "_defaultOrder": 44,
    "_isFastLaunch": false,
    "category": "Memory Optimized",
    "gpuNum": 0,
    "hideHardwareSpecs": false,
    "memoryGiB": 384,
    "name": "ml.r5.12xlarge",
    "vcpuNum": 48
   },
   {
    "_defaultOrder": 45,
    "_isFastLaunch": false,
    "category": "Memory Optimized",
    "gpuNum": 0,
    "hideHardwareSpecs": false,
    "memoryGiB": 512,
    "name": "ml.r5.16xlarge",
    "vcpuNum": 64
   },
   {
    "_defaultOrder": 46,
    "_isFastLaunch": false,
    "category": "Memory Optimized",
    "gpuNum": 0,
    "hideHardwareSpecs": false,
    "memoryGiB": 768,
    "name": "ml.r5.24xlarge",
    "vcpuNum": 96
   },
   {
    "_defaultOrder": 47,
    "_isFastLaunch": false,
    "category": "Accelerated computing",
    "gpuNum": 1,
    "hideHardwareSpecs": false,
    "memoryGiB": 16,
    "name": "ml.g5.xlarge",
    "vcpuNum": 4
   },
   {
    "_defaultOrder": 48,
    "_isFastLaunch": false,
    "category": "Accelerated computing",
    "gpuNum": 1,
    "hideHardwareSpecs": false,
    "memoryGiB": 32,
    "name": "ml.g5.2xlarge",
    "vcpuNum": 8
   },
   {
    "_defaultOrder": 49,
    "_isFastLaunch": false,
    "category": "Accelerated computing",
    "gpuNum": 1,
    "hideHardwareSpecs": false,
    "memoryGiB": 64,
    "name": "ml.g5.4xlarge",
    "vcpuNum": 16
   },
   {
    "_defaultOrder": 50,
    "_isFastLaunch": false,
    "category": "Accelerated computing",
    "gpuNum": 1,
    "hideHardwareSpecs": false,
    "memoryGiB": 128,
    "name": "ml.g5.8xlarge",
    "vcpuNum": 32
   },
   {
    "_defaultOrder": 51,
    "_isFastLaunch": false,
    "category": "Accelerated computing",
    "gpuNum": 1,
    "hideHardwareSpecs": false,
    "memoryGiB": 256,
    "name": "ml.g5.16xlarge",
    "vcpuNum": 64
   },
   {
    "_defaultOrder": 52,
    "_isFastLaunch": false,
    "category": "Accelerated computing",
    "gpuNum": 4,
    "hideHardwareSpecs": false,
    "memoryGiB": 192,
    "name": "ml.g5.12xlarge",
    "vcpuNum": 48
   },
   {
    "_defaultOrder": 53,
    "_isFastLaunch": false,
    "category": "Accelerated computing",
    "gpuNum": 4,
    "hideHardwareSpecs": false,
    "memoryGiB": 384,
    "name": "ml.g5.24xlarge",
    "vcpuNum": 96
   },
   {
    "_defaultOrder": 54,
    "_isFastLaunch": false,
    "category": "Accelerated computing",
    "gpuNum": 8,
    "hideHardwareSpecs": false,
    "memoryGiB": 768,
    "name": "ml.g5.48xlarge",
    "vcpuNum": 192
   },
   {
    "_defaultOrder": 55,
    "_isFastLaunch": false,
    "category": "Accelerated computing",
    "gpuNum": 8,
    "hideHardwareSpecs": false,
    "memoryGiB": 1152,
    "name": "ml.p4d.24xlarge",
    "vcpuNum": 96
   },
   {
    "_defaultOrder": 56,
    "_isFastLaunch": false,
    "category": "Accelerated computing",
    "gpuNum": 8,
    "hideHardwareSpecs": false,
    "memoryGiB": 1152,
    "name": "ml.p4de.24xlarge",
    "vcpuNum": 96
   }
  ],
  "kernelspec": {
   "display_name": "Glue Python [PySpark and Ray] (SparkAnalytics 2.0)",
   "language": "python",
   "name": "conda-env-sm_glue_is-glue_pyspark__SAGEMAKER_INTERNAL__arn:aws:sagemaker:sa-east-1:782484402741:image/sagemaker-sparkanalytics-310-v1"
  },
  "language_info": {
   "codemirror_mode": {
    "name": "python",
    "version": 3
   },
   "file_extension": ".py",
   "mimetype": "text/x-python",
   "name": "Python_Glue_Session",
   "pygments_lexer": "python3"
  }
 },
 "nbformat": 4,
 "nbformat_minor": 5
}
