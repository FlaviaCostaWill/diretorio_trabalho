{
 "cells": [
  {
   "cell_type": "code",
   "execution_count": 2,
   "id": "b745a2b7-4b89-4b0c-85b8-98b204a71366",
   "metadata": {
    "tags": []
   },
   "outputs": [
    {
     "name": "stderr",
     "output_type": "stream",
     "text": [
      "/opt/conda/lib/python3.10/site-packages/scipy/__init__.py:155: UserWarning: A NumPy version >=1.18.5 and <1.25.0 is required for this version of SciPy (detected version 1.25.1\n",
      "  warnings.warn(f\"A NumPy version >={np_minversion} and <{np_maxversion}\"\n"
     ]
    }
   ],
   "source": [
    "import pandas as pd\n",
    "import seaborn as sns\n",
    "import pandas as pd\n",
    "import numpy as np\n",
    "from datetime import date\n",
    "from sqlalchemy import create_engine\n",
    "import os\n",
    "import boto3"
   ]
  },
  {
   "cell_type": "code",
   "execution_count": 3,
   "id": "cb39d32d-ee26-4881-a3a5-c6c35aa350be",
   "metadata": {
    "collapsed": true,
    "jupyter": {
     "outputs_hidden": true
    },
    "tags": []
   },
   "outputs": [
    {
     "name": "stdout",
     "output_type": "stream",
     "text": [
      "Collecting awswrangler\n",
      "  Obtaining dependency information for awswrangler from https://files.pythonhosted.org/packages/eb/7f/3f0296b736de88a8b5c918e41053c69948a200939106a4e1fd64c5925c6a/awswrangler-3.3.0-py3-none-any.whl.metadata\n",
      "  Using cached awswrangler-3.3.0-py3-none-any.whl.metadata (23 kB)\n",
      "Requirement already satisfied: boto3<2.0.0,>=1.20.32 in /opt/conda/lib/python3.10/site-packages (from awswrangler) (1.28.14)\n",
      "Requirement already satisfied: botocore<2.0.0,>=1.23.32 in /opt/conda/lib/python3.10/site-packages (from awswrangler) (1.31.14)\n",
      "Requirement already satisfied: numpy<2.0,>=1.18 in /opt/conda/lib/python3.10/site-packages (from awswrangler) (1.25.1)\n",
      "Requirement already satisfied: packaging<24.0,>=21.1 in /opt/conda/lib/python3.10/site-packages (from awswrangler) (21.3)\n",
      "Requirement already satisfied: pandas<3.0.0,>=1.2.0 in /opt/conda/lib/python3.10/site-packages (from awswrangler) (1.4.4)\n",
      "Requirement already satisfied: pyarrow>=7.0.0 in /opt/conda/lib/python3.10/site-packages (from awswrangler) (12.0.1)\n",
      "Collecting typing-extensions<5.0.0,>=4.4.0 (from awswrangler)\n",
      "  Obtaining dependency information for typing-extensions<5.0.0,>=4.4.0 from https://files.pythonhosted.org/packages/ec/6b/63cc3df74987c36fe26157ee12e09e8f9db4de771e0f3404263117e75b95/typing_extensions-4.7.1-py3-none-any.whl.metadata\n",
      "  Using cached typing_extensions-4.7.1-py3-none-any.whl.metadata (3.1 kB)\n",
      "Requirement already satisfied: jmespath<2.0.0,>=0.7.1 in /opt/conda/lib/python3.10/site-packages (from boto3<2.0.0,>=1.20.32->awswrangler) (0.10.0)\n",
      "Requirement already satisfied: s3transfer<0.7.0,>=0.6.0 in /opt/conda/lib/python3.10/site-packages (from boto3<2.0.0,>=1.20.32->awswrangler) (0.6.0)\n",
      "Requirement already satisfied: python-dateutil<3.0.0,>=2.1 in /opt/conda/lib/python3.10/site-packages (from botocore<2.0.0,>=1.23.32->awswrangler) (2.8.2)\n",
      "Collecting urllib3<1.27,>=1.25.4 (from botocore<2.0.0,>=1.23.32->awswrangler)\n",
      "  Obtaining dependency information for urllib3<1.27,>=1.25.4 from https://files.pythonhosted.org/packages/c5/05/c214b32d21c0b465506f95c4f28ccbcba15022e000b043b72b3df7728471/urllib3-1.26.16-py2.py3-none-any.whl.metadata\n",
      "  Using cached urllib3-1.26.16-py2.py3-none-any.whl.metadata (48 kB)\n",
      "Requirement already satisfied: pyparsing!=3.0.5,>=2.0.2 in /opt/conda/lib/python3.10/site-packages (from packaging<24.0,>=21.1->awswrangler) (3.0.9)\n",
      "Requirement already satisfied: pytz>=2020.1 in /opt/conda/lib/python3.10/site-packages (from pandas<3.0.0,>=1.2.0->awswrangler) (2022.1)\n",
      "Requirement already satisfied: six>=1.5 in /opt/conda/lib/python3.10/site-packages (from python-dateutil<3.0.0,>=2.1->botocore<2.0.0,>=1.23.32->awswrangler) (1.16.0)\n",
      "Using cached awswrangler-3.3.0-py3-none-any.whl (394 kB)\n",
      "Using cached typing_extensions-4.7.1-py3-none-any.whl (33 kB)\n",
      "Using cached urllib3-1.26.16-py2.py3-none-any.whl (143 kB)\n",
      "Installing collected packages: urllib3, typing-extensions, awswrangler\n",
      "  Attempting uninstall: urllib3\n",
      "    Found existing installation: urllib3 2.0.4\n",
      "    Uninstalling urllib3-2.0.4:\n",
      "      Successfully uninstalled urllib3-2.0.4\n",
      "  Attempting uninstall: typing-extensions\n",
      "    Found existing installation: typing_extensions 4.3.0\n",
      "    Uninstalling typing_extensions-4.3.0:\n",
      "      Successfully uninstalled typing_extensions-4.3.0\n",
      "\u001b[31mERROR: pip's dependency resolver does not currently take into account all the packages that are installed. This behaviour is the source of the following dependency conflicts.\n",
      "spyder 5.3.3 requires pyqt5<5.16, which is not installed.\n",
      "spyder 5.3.3 requires pyqtwebengine<5.16, which is not installed.\n",
      "distributed 2022.7.0 requires tornado<6.2,>=6.0.3, but you have tornado 6.3.2 which is incompatible.\n",
      "panel 0.13.1 requires bokeh<2.5.0,>=2.4.0, but you have bokeh 3.2.1 which is incompatible.\n",
      "spyder 5.3.3 requires ipython<8.0.0,>=7.31.1, but you have ipython 8.14.0 which is incompatible.\n",
      "spyder 5.3.3 requires pylint<3.0,>=2.5.0, but you have pylint 3.0.0a6 which is incompatible.\u001b[0m\u001b[31m\n",
      "\u001b[0mSuccessfully installed awswrangler-3.3.0 typing-extensions-4.7.1 urllib3-1.26.16\n",
      "\u001b[33mWARNING: Running pip as the 'root' user can result in broken permissions and conflicting behaviour with the system package manager. It is recommended to use a virtual environment instead: https://pip.pypa.io/warnings/venv\u001b[0m\u001b[33m\n",
      "\u001b[0m"
     ]
    }
   ],
   "source": [
    "!pip install awswrangler"
   ]
  },
  {
   "cell_type": "code",
   "execution_count": 4,
   "id": "40517a36-263b-49b8-9c21-b88b74fc04a2",
   "metadata": {
    "tags": []
   },
   "outputs": [],
   "source": [
    "import awswrangler as wr"
   ]
  },
  {
   "cell_type": "code",
   "execution_count": 73,
   "id": "8665680a-aca7-4d72-8fb9-3662dc36755a",
   "metadata": {
    "tags": []
   },
   "outputs": [],
   "source": [
    "query = \"\"\"\n",
    "\n",
    "with base_campanhas as (\n",
    "select * from (\n",
    "select \n",
    "activityname --jornada campanha\n",
    ", journeyname --campanha\n",
    ", subject\n",
    ", id_customer\n",
    ", sum(nr_click) as cliques\n",
    ", sum(nr_open) as aberturas\n",
    ", min(dt_envio) as dt_envio\n",
    "from \n",
    "martech_curated_zone.retorno_email_sfmc\n",
    "where eventtype = 'Sent'\n",
    "and tipo <> 'Transacional'\n",
    "group by 1,2,3,4\n",
    "union all \n",
    "select \n",
    "communication_name as activityname --jornada campanha\n",
    ", communication_name as journeyname --campanha\n",
    ", subject\n",
    ", cl.id_customer\n",
    ", sum(clicks) as cliques\n",
    ", sum(opens) as aberturas\n",
    ", min(send_at) as dt_envio\n",
    "from \n",
    "martech_curated_zone.log_infobip_email_pag p\n",
    "inner join growth_curated_zone.clientes cl on (cl.email = p.\"to\")\n",
    "where status = 'Delivered'\n",
    "group by 1,2,3,4\n",
    ")\n",
    "where lower(journeyname) not like '%%cobranca%%'\n",
    "and lower(journeyname) not like '%%cobrança%%'\n",
    "and lower(journeyname) not like '%%aquisicao%%'\n",
    "and lower(journeyname) not like '%%aquisição%%'\n",
    "and lower(subject) not like '%%willclipping%%' \n",
    "and lower(subject) not like '%%relatório%%'\n",
    "and lower(subject) not like '%%boletim%%'\n",
    "and lower(subject) not like '%%correios%%'\n",
    "and lower(subject) not like '%%newsletter%%'\n",
    "and lower(journeyname) not like '%%teste%%'\n",
    "and lower(subject) not like '%%teste%%'\n",
    "and lower(journeyname) not like '%%pesquisa%%'\n",
    "and lower(journeyname) not like '%%comunicação interna%%'\n",
    "and lower(journeyname) not like '%%café%%'\n",
    "and lower(journeyname) not like '%%cxm%%'\n",
    "and lower(journeyname) not like '%%acesso%%'\n",
    "and lower(subject) not like '%%[will bank e pag%%'\n",
    "and lower(subject) not like '%%[willbank]%%'\n",
    "and lower(subject) not like '%%[meu pag]%%'\n",
    "and lower(subject) not like '%%[meupag]%%'\n",
    "and lower(subject) not like '%%[will bank]%%'\n",
    "and lower(subject) not like '%%pag amarelo%%'\n",
    "and lower(journeyname) not like '%%unresolved communication%%'\n",
    "and lower(subject) not like '%%certificado%%'\n",
    "and lower(journeyname) not like '%%ri_pessoas%%'\n",
    "and lower(subject) not like '%%will em um minuto%%'\n",
    "and lower(subject) not like '%%chegaram os vouchers%%'\n",
    "and dt_envio >= to_date('2023-01-01','yyyy-mm-dd')\n",
    ")\n",
    ", conversao_cartao as (\n",
    "select distinct id_cliente,  dt_data\n",
    "from platform_curated_zone.transaction_dedicada_spending \n",
    "where dt_data >= to_date('2023-01-01','yyyy-mm-dd')\n",
    ")\n",
    ", flags_principais as (\n",
    "select\n",
    "coalesce(b.id_customer, ct.id_cliente) as id_customer,\n",
    "date_trunc('month', coalesce(c.dt_envio, ct.dt_data)) as mes_ref,\n",
    "case when c.id_customer is null then 0 else 1 end as f_tratamento,\n",
    "case when ct.id_cliente is null then 0 else 1 end as f_conversao,\n",
    "case when c.aberturas > 0 then 1 else 0 end as f_comunicacao\n",
    "from customer_analytics_zone.ca_analitico_basao_crm b \n",
    "left join base_campanhas c on (c.id_customer = b.id_customer)\n",
    "left join conversao_cartao ct on (ct.id_cliente = c.id_customer and date_diff('day', c.dt_envio, ct.dt_data) <= 7 and date_diff('day', c.dt_envio, ct.dt_data) > 0 )\n",
    ")\n",
    ", com_aleatorizacao as (\n",
    "select \n",
    "*\n",
    "--, row_number() over (partition by f_tratamento, f_conversao order by rand()) as ordem\n",
    ", row_number() over (partition by f_tratamento order by rand()) as ordem\n",
    "from flags_principais\n",
    ")\n",
    "select \n",
    "b.id_customer\n",
    ", b.f_tratamento, b.f_conversao, b.f_comunicacao\n",
    ", c.pc_iu_ult_mes\n",
    ", c.pc_iu_mes_atual\n",
    ", c.vl_spending_medio_3m\n",
    ", c.ds_classif_application\n",
    ", c.ds_classif_behavior\n",
    ", c.ds_classif_compra_online\n",
    ", c.nr_score_ie_credito\n",
    ", c.nr_score_ie_conta\n",
    ", c.ds_rfe_credito\n",
    ", c.ds_persona\n",
    ", c.ds_perfil_research\n",
    ", c.ds_seg_consumo\n",
    "from \n",
    "com_aleatorizacao b\n",
    "left join customer_analytics_zone.ca_analitico_basao_crm c on (c.id_customer = b.id_customer)\n",
    "where ordem <= 100000\n",
    "\n",
    "\n",
    "\"\"\""
   ]
  },
  {
   "cell_type": "code",
   "execution_count": 74,
   "id": "56f4bcb2-839d-4eb2-8064-65b0b9d268d6",
   "metadata": {
    "tags": []
   },
   "outputs": [
    {
     "name": "stdout",
     "output_type": "stream",
     "text": [
      "Started query\n"
     ]
    }
   ],
   "source": [
    "staging_path = 's3://will-prod-ml-platform-sagemaker-studio/staging/flavia-costa/'\n",
    "boto3_session = boto3.Session(region_name='sa-east-1')\n",
    "\n",
    "\n",
    "# Clean temporary folder\n",
    "wr.s3.delete_objects(staging_path, boto3_session=boto3_session)\n",
    "\n",
    "# Run query\n",
    "print('Started query')\n",
    "\n",
    "df = wr.athena.read_sql_query(\n",
    "    sql=query,\n",
    "    database=None,\n",
    "    unload_approach=True,\n",
    "    ctas_approach=False,\n",
    "    boto3_session=boto3_session,\n",
    "    s3_output=staging_path\n",
    ")\n",
    "wr.s3.delete_objects(staging_path, boto3_session=boto3_session)\n"
   ]
  },
  {
   "cell_type": "code",
   "execution_count": 75,
   "id": "43cd8055-e70f-44dd-8596-abd923c39a0c",
   "metadata": {
    "tags": []
   },
   "outputs": [
    {
     "data": {
      "text/plain": [
       "200000"
      ]
     },
     "execution_count": 75,
     "metadata": {},
     "output_type": "execute_result"
    }
   ],
   "source": [
    "len(df)"
   ]
  },
  {
   "cell_type": "code",
   "execution_count": 26,
   "id": "447cc5c8-4541-45b0-8f53-0a92d7c3fba7",
   "metadata": {
    "tags": []
   },
   "outputs": [
    {
     "data": {
      "text/plain": [
       "id_customer                  string\n",
       "f_tratamento                  Int32\n",
       "f_conversao                   Int32\n",
       "f_comunicacao                 Int32\n",
       "pc_iu_ult_mes               float64\n",
       "pc_iu_mes_atual             float64\n",
       "vl_spending_medio_3m        float64\n",
       "ds_classif_application       string\n",
       "ds_classif_behavior          string\n",
       "ds_classif_compra_online     string\n",
       "nr_score_ie_credito         float64\n",
       "nr_score_ie_conta           float64\n",
       "ds_rfe_credito               string\n",
       "ds_persona                   string\n",
       "ds_perfil_research           string\n",
       "ds_seg_consumo               string\n",
       "dtype: object"
      ]
     },
     "execution_count": 26,
     "metadata": {},
     "output_type": "execute_result"
    }
   ],
   "source": [
    "df.dtypes"
   ]
  },
  {
   "cell_type": "code",
   "execution_count": 76,
   "id": "a4b0e9bf-1f0f-4ee6-b401-c179dfd297f0",
   "metadata": {
    "tags": []
   },
   "outputs": [],
   "source": [
    "id_columns = ['id_customer']\n",
    "cat_columns = df.drop(id_columns, axis = 1).select_dtypes('string').columns\n",
    "num_columns = df.drop(id_columns, axis = 1).select_dtypes(exclude=['string']).columns"
   ]
  },
  {
   "cell_type": "code",
   "execution_count": 77,
   "id": "51c8c089-702d-4482-8656-d116d318c5f8",
   "metadata": {
    "tags": []
   },
   "outputs": [
    {
     "data": {
      "text/html": [
       "<div>\n",
       "<style scoped>\n",
       "    .dataframe tbody tr th:only-of-type {\n",
       "        vertical-align: middle;\n",
       "    }\n",
       "\n",
       "    .dataframe tbody tr th {\n",
       "        vertical-align: top;\n",
       "    }\n",
       "\n",
       "    .dataframe thead th {\n",
       "        text-align: right;\n",
       "    }\n",
       "</style>\n",
       "<table border=\"1\" class=\"dataframe\">\n",
       "  <thead>\n",
       "    <tr style=\"text-align: right;\">\n",
       "      <th></th>\n",
       "      <th>f_tratamento</th>\n",
       "      <th>f_conversao</th>\n",
       "      <th>f_comunicacao</th>\n",
       "      <th>pc_iu_ult_mes</th>\n",
       "      <th>pc_iu_mes_atual</th>\n",
       "      <th>vl_spending_medio_3m</th>\n",
       "      <th>nr_score_ie_credito</th>\n",
       "      <th>nr_score_ie_conta</th>\n",
       "    </tr>\n",
       "  </thead>\n",
       "  <tbody>\n",
       "    <tr>\n",
       "      <th>count</th>\n",
       "      <td>200000.000000</td>\n",
       "      <td>200000.000000</td>\n",
       "      <td>200000.000000</td>\n",
       "      <td>115843.000000</td>\n",
       "      <td>72426.000000</td>\n",
       "      <td>115812.0</td>\n",
       "      <td>161387.000000</td>\n",
       "      <td>103765.000000</td>\n",
       "    </tr>\n",
       "    <tr>\n",
       "      <th>mean</th>\n",
       "      <td>0.500000</td>\n",
       "      <td>0.206010</td>\n",
       "      <td>0.085975</td>\n",
       "      <td>0.840056</td>\n",
       "      <td>0.775106</td>\n",
       "      <td>inf</td>\n",
       "      <td>34.782901</td>\n",
       "      <td>47.672816</td>\n",
       "    </tr>\n",
       "    <tr>\n",
       "      <th>std</th>\n",
       "      <td>0.500001</td>\n",
       "      <td>0.404439</td>\n",
       "      <td>0.280328</td>\n",
       "      <td>0.399817</td>\n",
       "      <td>0.413657</td>\n",
       "      <td>NaN</td>\n",
       "      <td>31.604763</td>\n",
       "      <td>24.198003</td>\n",
       "    </tr>\n",
       "    <tr>\n",
       "      <th>min</th>\n",
       "      <td>0.000000</td>\n",
       "      <td>0.000000</td>\n",
       "      <td>0.000000</td>\n",
       "      <td>-0.826900</td>\n",
       "      <td>-0.696200</td>\n",
       "      <td>-400.0</td>\n",
       "      <td>0.000000</td>\n",
       "      <td>7.410000</td>\n",
       "    </tr>\n",
       "    <tr>\n",
       "      <th>25%</th>\n",
       "      <td>0.000000</td>\n",
       "      <td>0.000000</td>\n",
       "      <td>0.000000</td>\n",
       "      <td>0.659000</td>\n",
       "      <td>0.520000</td>\n",
       "      <td>267.0</td>\n",
       "      <td>0.000000</td>\n",
       "      <td>27.050000</td>\n",
       "    </tr>\n",
       "    <tr>\n",
       "      <th>50%</th>\n",
       "      <td>0.500000</td>\n",
       "      <td>0.000000</td>\n",
       "      <td>0.000000</td>\n",
       "      <td>0.977000</td>\n",
       "      <td>0.920000</td>\n",
       "      <td>612.0</td>\n",
       "      <td>35.593220</td>\n",
       "      <td>46.350000</td>\n",
       "    </tr>\n",
       "    <tr>\n",
       "      <th>75%</th>\n",
       "      <td>1.000000</td>\n",
       "      <td>0.000000</td>\n",
       "      <td>0.000000</td>\n",
       "      <td>1.000000</td>\n",
       "      <td>1.000000</td>\n",
       "      <td>1313.0</td>\n",
       "      <td>64.406780</td>\n",
       "      <td>67.040000</td>\n",
       "    </tr>\n",
       "    <tr>\n",
       "      <th>max</th>\n",
       "      <td>1.000000</td>\n",
       "      <td>1.000000</td>\n",
       "      <td>1.000000</td>\n",
       "      <td>31.930000</td>\n",
       "      <td>35.710000</td>\n",
       "      <td>inf</td>\n",
       "      <td>100.000000</td>\n",
       "      <td>99.910000</td>\n",
       "    </tr>\n",
       "  </tbody>\n",
       "</table>\n",
       "</div>"
      ],
      "text/plain": [
       "        f_tratamento    f_conversao  f_comunicacao  pc_iu_ult_mes  \\\n",
       "count  200000.000000  200000.000000  200000.000000  115843.000000   \n",
       "mean        0.500000       0.206010       0.085975       0.840056   \n",
       "std         0.500001       0.404439       0.280328       0.399817   \n",
       "min         0.000000       0.000000       0.000000      -0.826900   \n",
       "25%         0.000000       0.000000       0.000000       0.659000   \n",
       "50%         0.500000       0.000000       0.000000       0.977000   \n",
       "75%         1.000000       0.000000       0.000000       1.000000   \n",
       "max         1.000000       1.000000       1.000000      31.930000   \n",
       "\n",
       "       pc_iu_mes_atual  vl_spending_medio_3m  nr_score_ie_credito  \\\n",
       "count     72426.000000              115812.0        161387.000000   \n",
       "mean          0.775106                   inf            34.782901   \n",
       "std           0.413657                   NaN            31.604763   \n",
       "min          -0.696200                -400.0             0.000000   \n",
       "25%           0.520000                 267.0             0.000000   \n",
       "50%           0.920000                 612.0            35.593220   \n",
       "75%           1.000000                1313.0            64.406780   \n",
       "max          35.710000                   inf           100.000000   \n",
       "\n",
       "       nr_score_ie_conta  \n",
       "count      103765.000000  \n",
       "mean           47.672816  \n",
       "std            24.198003  \n",
       "min             7.410000  \n",
       "25%            27.050000  \n",
       "50%            46.350000  \n",
       "75%            67.040000  \n",
       "max            99.910000  "
      ]
     },
     "execution_count": 77,
     "metadata": {},
     "output_type": "execute_result"
    }
   ],
   "source": [
    "df.drop(id_columns, axis=1).describe()"
   ]
  },
  {
   "cell_type": "code",
   "execution_count": 78,
   "id": "e7816ed4-f39f-4742-a247-426ba1480702",
   "metadata": {
    "tags": []
   },
   "outputs": [
    {
     "data": {
      "text/plain": [
       "0    100000\n",
       "1    100000\n",
       "Name: f_tratamento, dtype: Int64"
      ]
     },
     "execution_count": 78,
     "metadata": {},
     "output_type": "execute_result"
    }
   ],
   "source": [
    "df['f_tratamento'].value_counts()"
   ]
  },
  {
   "cell_type": "code",
   "execution_count": 79,
   "id": "e413bdb8-b67f-468b-bad0-5c9f83bababf",
   "metadata": {
    "tags": []
   },
   "outputs": [
    {
     "data": {
      "text/plain": [
       "0    158798\n",
       "1     41202\n",
       "Name: f_conversao, dtype: Int64"
      ]
     },
     "execution_count": 79,
     "metadata": {},
     "output_type": "execute_result"
    }
   ],
   "source": [
    "df['f_conversao'].value_counts()"
   ]
  },
  {
   "cell_type": "code",
   "execution_count": 80,
   "id": "369de7b7-9e82-4ac5-88d2-969ce938ac45",
   "metadata": {
    "tags": []
   },
   "outputs": [
    {
     "data": {
      "text/html": [
       "<div>\n",
       "<style scoped>\n",
       "    .dataframe tbody tr th:only-of-type {\n",
       "        vertical-align: middle;\n",
       "    }\n",
       "\n",
       "    .dataframe tbody tr th {\n",
       "        vertical-align: top;\n",
       "    }\n",
       "\n",
       "    .dataframe thead th {\n",
       "        text-align: right;\n",
       "    }\n",
       "</style>\n",
       "<table border=\"1\" class=\"dataframe\">\n",
       "  <thead>\n",
       "    <tr style=\"text-align: right;\">\n",
       "      <th>f_tratamento</th>\n",
       "      <th>0</th>\n",
       "      <th>1</th>\n",
       "    </tr>\n",
       "    <tr>\n",
       "      <th>f_conversao</th>\n",
       "      <th></th>\n",
       "      <th></th>\n",
       "    </tr>\n",
       "  </thead>\n",
       "  <tbody>\n",
       "    <tr>\n",
       "      <th>0</th>\n",
       "      <td>100000</td>\n",
       "      <td>58798</td>\n",
       "    </tr>\n",
       "    <tr>\n",
       "      <th>1</th>\n",
       "      <td>0</td>\n",
       "      <td>41202</td>\n",
       "    </tr>\n",
       "  </tbody>\n",
       "</table>\n",
       "</div>"
      ],
      "text/plain": [
       "f_tratamento       0      1\n",
       "f_conversao                \n",
       "0             100000  58798\n",
       "1                  0  41202"
      ]
     },
     "execution_count": 80,
     "metadata": {},
     "output_type": "execute_result"
    }
   ],
   "source": [
    "pd.crosstab(df.f_conversao, df.f_tratamento)"
   ]
  },
  {
   "cell_type": "code",
   "execution_count": 81,
   "id": "6c2dc560-d3e1-4d6d-b8a9-01a79fc78c56",
   "metadata": {
    "tags": []
   },
   "outputs": [
    {
     "data": {
      "text/html": [
       "<div>\n",
       "<style scoped>\n",
       "    .dataframe tbody tr th:only-of-type {\n",
       "        vertical-align: middle;\n",
       "    }\n",
       "\n",
       "    .dataframe tbody tr th {\n",
       "        vertical-align: top;\n",
       "    }\n",
       "\n",
       "    .dataframe thead th {\n",
       "        text-align: right;\n",
       "    }\n",
       "</style>\n",
       "<table border=\"1\" class=\"dataframe\">\n",
       "  <thead>\n",
       "    <tr style=\"text-align: right;\">\n",
       "      <th></th>\n",
       "      <th>f_conversao</th>\n",
       "    </tr>\n",
       "    <tr>\n",
       "      <th>f_tratamento</th>\n",
       "      <th></th>\n",
       "    </tr>\n",
       "  </thead>\n",
       "  <tbody>\n",
       "    <tr>\n",
       "      <th>0</th>\n",
       "      <td>0.0</td>\n",
       "    </tr>\n",
       "    <tr>\n",
       "      <th>1</th>\n",
       "      <td>0.41202</td>\n",
       "    </tr>\n",
       "  </tbody>\n",
       "</table>\n",
       "</div>"
      ],
      "text/plain": [
       "              f_conversao\n",
       "f_tratamento             \n",
       "0                     0.0\n",
       "1                 0.41202"
      ]
     },
     "execution_count": 81,
     "metadata": {},
     "output_type": "execute_result"
    }
   ],
   "source": [
    "df[['f_tratamento', 'f_conversao']].groupby('f_tratamento').mean()"
   ]
  },
  {
   "cell_type": "code",
   "execution_count": 82,
   "id": "dee7c240-50f0-4d95-8939-b21946627298",
   "metadata": {
    "tags": []
   },
   "outputs": [
    {
     "data": {
      "text/html": [
       "<div>\n",
       "<style scoped>\n",
       "    .dataframe tbody tr th:only-of-type {\n",
       "        vertical-align: middle;\n",
       "    }\n",
       "\n",
       "    .dataframe tbody tr th {\n",
       "        vertical-align: top;\n",
       "    }\n",
       "\n",
       "    .dataframe thead th {\n",
       "        text-align: right;\n",
       "    }\n",
       "</style>\n",
       "<table border=\"1\" class=\"dataframe\">\n",
       "  <thead>\n",
       "    <tr style=\"text-align: right;\">\n",
       "      <th></th>\n",
       "      <th>f_tratamento</th>\n",
       "    </tr>\n",
       "    <tr>\n",
       "      <th>f_conversao</th>\n",
       "      <th></th>\n",
       "    </tr>\n",
       "  </thead>\n",
       "  <tbody>\n",
       "    <tr>\n",
       "      <th>0</th>\n",
       "      <td>0.370269</td>\n",
       "    </tr>\n",
       "    <tr>\n",
       "      <th>1</th>\n",
       "      <td>1.0</td>\n",
       "    </tr>\n",
       "  </tbody>\n",
       "</table>\n",
       "</div>"
      ],
      "text/plain": [
       "             f_tratamento\n",
       "f_conversao              \n",
       "0                0.370269\n",
       "1                     1.0"
      ]
     },
     "execution_count": 82,
     "metadata": {},
     "output_type": "execute_result"
    }
   ],
   "source": [
    "df[['f_tratamento', 'f_conversao']].groupby('f_conversao').mean()"
   ]
  },
  {
   "cell_type": "code",
   "execution_count": 33,
   "id": "8396108f-a3ce-4404-ad4a-d626cfccbd28",
   "metadata": {
    "tags": []
   },
   "outputs": [
    {
     "data": {
      "text/plain": [
       "0    0.79637\n",
       "1    0.20363\n",
       "Name: f_uplift, dtype: float64"
      ]
     },
     "execution_count": 33,
     "metadata": {},
     "output_type": "execute_result"
    }
   ],
   "source": [
    "df['f_uplift'] = np.where((df['f_tratamento'] == 1) & (df['f_conversao'] == 1), 1, 0)\n",
    "df['f_uplift'].value_counts(normalize=True)"
   ]
  },
  {
   "cell_type": "code",
   "execution_count": 34,
   "id": "984d5712-55f1-4027-b583-7ce677b3b5c4",
   "metadata": {
    "tags": []
   },
   "outputs": [],
   "source": [
    "for column in df.columns:\n",
    "    if df[column].dtype == 'object':\n",
    "        df[column].fillna(df[column].mode()[0], inplace = True)\n",
    "    elif df[column].dtype == 'string':\n",
    "        df[column].fillna(df[column].mode()[0], inplace = True)\n",
    "    elif df[column].dtype != 'object':\n",
    "        df[column].fillna(df[column].median(), inplace = True)"
   ]
  },
  {
   "cell_type": "code",
   "execution_count": 35,
   "id": "d10b8a2d-d166-4fd9-87bc-36c35aafe58c",
   "metadata": {
    "tags": []
   },
   "outputs": [
    {
     "data": {
      "text/plain": [
       "id_customer                 0\n",
       "f_tratamento                0\n",
       "f_conversao                 0\n",
       "f_comunicacao               0\n",
       "pc_iu_ult_mes               0\n",
       "pc_iu_mes_atual             0\n",
       "vl_spending_medio_3m        0\n",
       "ds_classif_application      0\n",
       "ds_classif_behavior         0\n",
       "ds_classif_compra_online    0\n",
       "nr_score_ie_credito         0\n",
       "nr_score_ie_conta           0\n",
       "ds_rfe_credito              0\n",
       "ds_persona                  0\n",
       "ds_perfil_research          0\n",
       "ds_seg_consumo              0\n",
       "f_uplift                    0\n",
       "dtype: int64"
      ]
     },
     "execution_count": 35,
     "metadata": {},
     "output_type": "execute_result"
    }
   ],
   "source": [
    "df.isnull().sum()"
   ]
  },
  {
   "cell_type": "code",
   "execution_count": 36,
   "id": "849e29a6-a7e2-4061-9345-578ddb3a5172",
   "metadata": {
    "tags": []
   },
   "outputs": [
    {
     "data": {
      "image/png": "[encoded data removed]",
      "text/plain": [
       "<Figure size 800x500 with 2 Axes>"
      ]
     },
     "metadata": {},
     "output_type": "display_data"
    }
   ],
   "source": [
    "import seaborn as sns\n",
    "import matplotlib.pyplot as plt\n",
    "\n",
    "plt.figure(figsize=(8,5))\n",
    "sns.heatmap(df.drop(id_columns, axis=1).corr(), annot=True, cmap=\"coolwarm\", vmax=0.5)\n",
    "plt.show()"
   ]
  },
  {
   "cell_type": "code",
   "execution_count": 37,
   "id": "3ecf2951-b5b9-4713-b0dd-f19b4937bb63",
   "metadata": {
    "tags": []
   },
   "outputs": [],
   "source": [
    "df_model = pd.get_dummies(df, columns=cat_columns)"
   ]
  },
  {
   "cell_type": "code",
   "execution_count": 38,
   "id": "9aa3f494-12d5-4f1a-9bd6-ccef98ce755d",
   "metadata": {
    "tags": []
   },
   "outputs": [],
   "source": [
    "nao_preditor = ['id_customer', 'f_conversao', 'f_uplift', 'f_comunicacao']\n",
    "target = ['f_conversao']\n",
    "\n",
    "preditores = df_model.drop(nao_preditor, axis = 1).columns"
   ]
  },
  {
   "cell_type": "code",
   "execution_count": 39,
   "id": "b6b28cf5-a3c7-4959-b6bb-e39b843b9b4b",
   "metadata": {
    "tags": []
   },
   "outputs": [],
   "source": [
    "from sklearn.model_selection import train_test_split\n",
    "from sklearn import metrics\n",
    "from sklearn.linear_model import LogisticRegression\n",
    "from sklearn.neighbors import KNeighborsClassifier\n",
    "from sklearn.ensemble import RandomForestClassifier"
   ]
  },
  {
   "cell_type": "code",
   "execution_count": 40,
   "id": "90f4fef7-9b39-4c31-84b4-14c1d207e351",
   "metadata": {
    "tags": []
   },
   "outputs": [],
   "source": [
    "x_train, x_test, y_train, y_test = train_test_split(df_model[preditores]\n",
    "                                                    , df_model[target]\n",
    "                                                    , random_state=42, test_size=0.20)"
   ]
  },
  {
   "cell_type": "code",
   "execution_count": 41,
   "id": "27f7b926-2534-4abb-92f9-cc410f24d834",
   "metadata": {
    "tags": []
   },
   "outputs": [],
   "source": [
    "x_train = x_train.replace([np.inf, -np.inf], 0)\n",
    "x_test = x_test.replace([np.inf, -np.inf], 0)"
   ]
  },
  {
   "cell_type": "code",
   "execution_count": 42,
   "id": "8ad25c49-7d1b-41c3-919f-603e14c91216",
   "metadata": {
    "tags": []
   },
   "outputs": [],
   "source": [
    "x_test_sim = x_test.copy()\n",
    "\n",
    "x_test_sim['f_tratamento'] = 0"
   ]
  },
  {
   "cell_type": "code",
   "execution_count": 43,
   "id": "ed48bc78-3ba3-471d-b4fe-178f28e406d0",
   "metadata": {
    "tags": []
   },
   "outputs": [
    {
     "name": "stderr",
     "output_type": "stream",
     "text": [
      "/tmp/ipykernel_18/3645670405.py:2: DataConversionWarning: A column-vector y was passed when a 1d array was expected. Please change the shape of y to (n_samples,), for example using ravel().\n",
      "  rf.fit(x_train, y_train)\n"
     ]
    },
    {
     "data": {
      "text/plain": [
       "RandomForestClassifier(n_estimators=200)"
      ]
     },
     "execution_count": 43,
     "metadata": {},
     "output_type": "execute_result"
    }
   ],
   "source": [
    "rf = RandomForestClassifier(n_estimators=200)\n",
    "rf.fit(x_train, y_train)"
   ]
  },
  {
   "cell_type": "code",
   "execution_count": 44,
   "id": "7e29ea4b-3468-43f3-bc6a-49bbbcc91e73",
   "metadata": {
    "tags": []
   },
   "outputs": [],
   "source": [
    "y_predicted_clf = rf.predict(x_test)\n",
    "y_test['f_conversao_predict'] = y_predicted_clf\n",
    "df_confusion = pd.crosstab(y_test.f_conversao, y_test.f_conversao_predict)"
   ]
  },
  {
   "cell_type": "code",
   "execution_count": 55,
   "id": "7a53f0b1-987f-43e4-9db1-28ba19684e5a",
   "metadata": {
    "tags": []
   },
   "outputs": [
    {
     "data": {
      "text/html": [
       "<div>\n",
       "<style scoped>\n",
       "    .dataframe tbody tr th:only-of-type {\n",
       "        vertical-align: middle;\n",
       "    }\n",
       "\n",
       "    .dataframe tbody tr th {\n",
       "        vertical-align: top;\n",
       "    }\n",
       "\n",
       "    .dataframe thead th {\n",
       "        text-align: right;\n",
       "    }\n",
       "</style>\n",
       "<table border=\"1\" class=\"dataframe\">\n",
       "  <thead>\n",
       "    <tr style=\"text-align: right;\">\n",
       "      <th>f_conversao_predict</th>\n",
       "      <th>0.0</th>\n",
       "      <th>1.0</th>\n",
       "    </tr>\n",
       "    <tr>\n",
       "      <th>f_conversao</th>\n",
       "      <th></th>\n",
       "      <th></th>\n",
       "    </tr>\n",
       "  </thead>\n",
       "  <tbody>\n",
       "    <tr>\n",
       "      <th>0</th>\n",
       "      <td>10117</td>\n",
       "      <td>3125</td>\n",
       "    </tr>\n",
       "    <tr>\n",
       "      <th>1</th>\n",
       "      <td>2097</td>\n",
       "      <td>24661</td>\n",
       "    </tr>\n",
       "  </tbody>\n",
       "</table>\n",
       "</div>"
      ],
      "text/plain": [
       "f_conversao_predict    0.0    1.0\n",
       "f_conversao                      \n",
       "0                    10117   3125\n",
       "1                     2097  24661"
      ]
     },
     "execution_count": 55,
     "metadata": {},
     "output_type": "execute_result"
    }
   ],
   "source": [
    "df_confusion"
   ]
  },
  {
   "cell_type": "code",
   "execution_count": 56,
   "id": "e0ba8d86-93c8-4dc1-86dd-eff9dd260e22",
   "metadata": {
    "tags": []
   },
   "outputs": [
    {
     "name": "stdout",
     "output_type": "stream",
     "text": [
      " F1: 0.9042607802874744\n",
      " Recall: 0.9216309141191419\n",
      " Precision: 0.8875332901461167\n"
     ]
    }
   ],
   "source": [
    "cont = len(y_test)\n",
    "#falso negativo e positivo\n",
    "fp = df_confusion.iloc[0,1]\n",
    "fn = df_confusion.iloc[1,0]\n",
    "#verdadeiro (true) positivo e negativo\n",
    "tp = df_confusion.iloc[1,1]\n",
    "tn = df_confusion.iloc[0,0]\n",
    "#recall - taxa de captura de positivos\n",
    "recall = tp / (tp + fn)\n",
    "precision = tp / (tp + fp)\n",
    "f1 = 2 * (precision * recall) / (precision + recall)\n",
    "print(f\" F1: {f1}\")\n",
    "print(f\" Recall: {recall}\")\n",
    "print(f\" Precision: {precision}\")"
   ]
  },
  {
   "cell_type": "code",
   "execution_count": 57,
   "id": "914eabe3-e5d6-4a5a-8642-ac77a139ff79",
   "metadata": {
    "tags": []
   },
   "outputs": [
    {
     "data": {
      "text/html": [
       "<div>\n",
       "<style scoped>\n",
       "    .dataframe tbody tr th:only-of-type {\n",
       "        vertical-align: middle;\n",
       "    }\n",
       "\n",
       "    .dataframe tbody tr th {\n",
       "        vertical-align: top;\n",
       "    }\n",
       "\n",
       "    .dataframe thead th {\n",
       "        text-align: right;\n",
       "    }\n",
       "</style>\n",
       "<table border=\"1\" class=\"dataframe\">\n",
       "  <thead>\n",
       "    <tr style=\"text-align: right;\">\n",
       "      <th></th>\n",
       "      <th>importancia</th>\n",
       "    </tr>\n",
       "  </thead>\n",
       "  <tbody>\n",
       "    <tr>\n",
       "      <th>f_tratamento</th>\n",
       "      <td>0.227196</td>\n",
       "    </tr>\n",
       "    <tr>\n",
       "      <th>vl_spending_medio_3m</th>\n",
       "      <td>0.090465</td>\n",
       "    </tr>\n",
       "    <tr>\n",
       "      <th>nr_score_ie_credito</th>\n",
       "      <td>0.082112</td>\n",
       "    </tr>\n",
       "    <tr>\n",
       "      <th>pc_iu_ult_mes</th>\n",
       "      <td>0.070085</td>\n",
       "    </tr>\n",
       "    <tr>\n",
       "      <th>nr_score_ie_conta</th>\n",
       "      <td>0.049699</td>\n",
       "    </tr>\n",
       "    <tr>\n",
       "      <th>pc_iu_mes_atual</th>\n",
       "      <td>0.045110</td>\n",
       "    </tr>\n",
       "    <tr>\n",
       "      <th>ds_rfe_credito_03-Cliente maduro - offliner</th>\n",
       "      <td>0.038260</td>\n",
       "    </tr>\n",
       "    <tr>\n",
       "      <th>ds_classif_behavior_14</th>\n",
       "      <td>0.018769</td>\n",
       "    </tr>\n",
       "    <tr>\n",
       "      <th>ds_classif_compra_online_1</th>\n",
       "      <td>0.016092</td>\n",
       "    </tr>\n",
       "    <tr>\n",
       "      <th>ds_rfe_credito_02-Cliente novo - onliner</th>\n",
       "      <td>0.013126</td>\n",
       "    </tr>\n",
       "    <tr>\n",
       "      <th>ds_seg_consumo_SUPERMERCADO - 6</th>\n",
       "      <td>0.012290</td>\n",
       "    </tr>\n",
       "    <tr>\n",
       "      <th>ds_classif_behavior_18</th>\n",
       "      <td>0.009006</td>\n",
       "    </tr>\n",
       "    <tr>\n",
       "      <th>ds_classif_behavior_16</th>\n",
       "      <td>0.008645</td>\n",
       "    </tr>\n",
       "    <tr>\n",
       "      <th>ds_perfil_research_Multiplicador</th>\n",
       "      <td>0.007703</td>\n",
       "    </tr>\n",
       "    <tr>\n",
       "      <th>ds_classif_application_19</th>\n",
       "      <td>0.007465</td>\n",
       "    </tr>\n",
       "    <tr>\n",
       "      <th>ds_classif_behavior_17</th>\n",
       "      <td>0.007122</td>\n",
       "    </tr>\n",
       "  </tbody>\n",
       "</table>\n",
       "</div>"
      ],
      "text/plain": [
       "                                             importancia\n",
       "f_tratamento                                    0.227196\n",
       "vl_spending_medio_3m                            0.090465\n",
       "nr_score_ie_credito                             0.082112\n",
       "pc_iu_ult_mes                                   0.070085\n",
       "nr_score_ie_conta                               0.049699\n",
       "pc_iu_mes_atual                                 0.045110\n",
       "ds_rfe_credito_03-Cliente maduro - offliner     0.038260\n",
       "ds_classif_behavior_14                          0.018769\n",
       "ds_classif_compra_online_1                      0.016092\n",
       "ds_rfe_credito_02-Cliente novo - onliner        0.013126\n",
       "ds_seg_consumo_SUPERMERCADO - 6                 0.012290\n",
       "ds_classif_behavior_18                          0.009006\n",
       "ds_classif_behavior_16                          0.008645\n",
       "ds_perfil_research_Multiplicador                0.007703\n",
       "ds_classif_application_19                       0.007465\n",
       "ds_classif_behavior_17                          0.007122"
      ]
     },
     "execution_count": 57,
     "metadata": {},
     "output_type": "execute_result"
    }
   ],
   "source": [
    "importance_df = pd.DataFrame(rf.feature_importances_, columns = ['importancia'], index = preditores)\n",
    "importance_df.sort_values(by='importancia', ascending=False).head(16)"
   ]
  },
  {
   "cell_type": "code",
   "execution_count": 58,
   "id": "e4f73f63-6ad8-4a2f-bd90-33d0cbdfd8ce",
   "metadata": {
    "tags": []
   },
   "outputs": [
    {
     "data": {
      "text/plain": [
       "count    40000.0\n",
       "mean         0.0\n",
       "std          0.0\n",
       "min          0.0\n",
       "25%          0.0\n",
       "50%          0.0\n",
       "75%          0.0\n",
       "max          0.0\n",
       "Name: f_tratamento, dtype: float64"
      ]
     },
     "execution_count": 58,
     "metadata": {},
     "output_type": "execute_result"
    }
   ],
   "source": [
    "x_test_sim['f_tratamento'].describe()"
   ]
  },
  {
   "cell_type": "code",
   "execution_count": 59,
   "id": "144af53e-06d2-4460-b10a-711f09427026",
   "metadata": {
    "tags": []
   },
   "outputs": [
    {
     "data": {
      "text/plain": [
       "count    40000.000000\n",
       "mean         0.500300\n",
       "std          0.500006\n",
       "min          0.000000\n",
       "25%          0.000000\n",
       "50%          1.000000\n",
       "75%          1.000000\n",
       "max          1.000000\n",
       "Name: f_tratamento, dtype: float64"
      ]
     },
     "execution_count": 59,
     "metadata": {},
     "output_type": "execute_result"
    }
   ],
   "source": [
    "x_test['f_tratamento'].describe()"
   ]
  },
  {
   "cell_type": "code",
   "execution_count": 60,
   "id": "35fb0750-32ec-42c6-a95c-fcd0e047594b",
   "metadata": {
    "tags": []
   },
   "outputs": [],
   "source": [
    "y_predicted_clf_sim_proba = rf.predict_proba(x_test_sim)"
   ]
  },
  {
   "cell_type": "code",
   "execution_count": 61,
   "id": "64a43dea-4936-4821-8a0f-f326ced37a32",
   "metadata": {
    "collapsed": true,
    "jupyter": {
     "outputs_hidden": true
    },
    "tags": []
   },
   "outputs": [
    {
     "name": "stderr",
     "output_type": "stream",
     "text": [
      "/opt/conda/lib/python3.10/site-packages/sklearn/base.py:488: FutureWarning: The feature names should match those that were passed during fit. Starting version 1.2, an error will be raised.\n",
      "Feature names unseen at fit time:\n",
      "- prediction_actual\n",
      "- prediction_sim\n",
      "Feature names must be in the same order as they were in fit.\n",
      "\n",
      "  warnings.warn(message, FutureWarning)\n"
     ]
    },
    {
     "ename": "ValueError",
     "evalue": "X has 216 features, but RandomForestClassifier is expecting 214 features as input.",
     "output_type": "error",
     "traceback": [
      "\u001b[0;31m---------------------------------------------------------------------------\u001b[0m",
      "\u001b[0;31mValueError\u001b[0m                                Traceback (most recent call last)",
      "Cell \u001b[0;32mIn[61], line 1\u001b[0m\n\u001b[0;32m----> 1\u001b[0m y_predicted_clf_proba \u001b[38;5;241m=\u001b[39m \u001b[43mrf\u001b[49m\u001b[38;5;241;43m.\u001b[39;49m\u001b[43mpredict_proba\u001b[49m\u001b[43m(\u001b[49m\u001b[43mx_test\u001b[49m\u001b[43m)\u001b[49m\n",
      "File \u001b[0;32m/opt/conda/lib/python3.10/site-packages/sklearn/ensemble/_forest.py:840\u001b[0m, in \u001b[0;36mForestClassifier.predict_proba\u001b[0;34m(self, X)\u001b[0m\n\u001b[1;32m    838\u001b[0m check_is_fitted(\u001b[38;5;28mself\u001b[39m)\n\u001b[1;32m    839\u001b[0m \u001b[38;5;66;03m# Check data\u001b[39;00m\n\u001b[0;32m--> 840\u001b[0m X \u001b[38;5;241m=\u001b[39m \u001b[38;5;28;43mself\u001b[39;49m\u001b[38;5;241;43m.\u001b[39;49m\u001b[43m_validate_X_predict\u001b[49m\u001b[43m(\u001b[49m\u001b[43mX\u001b[49m\u001b[43m)\u001b[49m\n\u001b[1;32m    842\u001b[0m \u001b[38;5;66;03m# Assign chunk of trees to jobs\u001b[39;00m\n\u001b[1;32m    843\u001b[0m n_jobs, _, _ \u001b[38;5;241m=\u001b[39m _partition_estimators(\u001b[38;5;28mself\u001b[39m\u001b[38;5;241m.\u001b[39mn_estimators, \u001b[38;5;28mself\u001b[39m\u001b[38;5;241m.\u001b[39mn_jobs)\n",
      "File \u001b[0;32m/opt/conda/lib/python3.10/site-packages/sklearn/ensemble/_forest.py:569\u001b[0m, in \u001b[0;36mBaseForest._validate_X_predict\u001b[0;34m(self, X)\u001b[0m\n\u001b[1;32m    566\u001b[0m \u001b[38;5;124;03m\"\"\"\u001b[39;00m\n\u001b[1;32m    567\u001b[0m \u001b[38;5;124;03mValidate X whenever one tries to predict, apply, predict_proba.\"\"\"\u001b[39;00m\n\u001b[1;32m    568\u001b[0m check_is_fitted(\u001b[38;5;28mself\u001b[39m)\n\u001b[0;32m--> 569\u001b[0m X \u001b[38;5;241m=\u001b[39m \u001b[38;5;28;43mself\u001b[39;49m\u001b[38;5;241;43m.\u001b[39;49m\u001b[43m_validate_data\u001b[49m\u001b[43m(\u001b[49m\u001b[43mX\u001b[49m\u001b[43m,\u001b[49m\u001b[43m \u001b[49m\u001b[43mdtype\u001b[49m\u001b[38;5;241;43m=\u001b[39;49m\u001b[43mDTYPE\u001b[49m\u001b[43m,\u001b[49m\u001b[43m \u001b[49m\u001b[43maccept_sparse\u001b[49m\u001b[38;5;241;43m=\u001b[39;49m\u001b[38;5;124;43m\"\u001b[39;49m\u001b[38;5;124;43mcsr\u001b[39;49m\u001b[38;5;124;43m\"\u001b[39;49m\u001b[43m,\u001b[49m\u001b[43m \u001b[49m\u001b[43mreset\u001b[49m\u001b[38;5;241;43m=\u001b[39;49m\u001b[38;5;28;43;01mFalse\u001b[39;49;00m\u001b[43m)\u001b[49m\n\u001b[1;32m    570\u001b[0m \u001b[38;5;28;01mif\u001b[39;00m issparse(X) \u001b[38;5;129;01mand\u001b[39;00m (X\u001b[38;5;241m.\u001b[39mindices\u001b[38;5;241m.\u001b[39mdtype \u001b[38;5;241m!=\u001b[39m np\u001b[38;5;241m.\u001b[39mintc \u001b[38;5;129;01mor\u001b[39;00m X\u001b[38;5;241m.\u001b[39mindptr\u001b[38;5;241m.\u001b[39mdtype \u001b[38;5;241m!=\u001b[39m np\u001b[38;5;241m.\u001b[39mintc):\n\u001b[1;32m    571\u001b[0m     \u001b[38;5;28;01mraise\u001b[39;00m \u001b[38;5;167;01mValueError\u001b[39;00m(\u001b[38;5;124m\"\u001b[39m\u001b[38;5;124mNo support for np.int64 index based sparse matrices\u001b[39m\u001b[38;5;124m\"\u001b[39m)\n",
      "File \u001b[0;32m/opt/conda/lib/python3.10/site-packages/sklearn/base.py:580\u001b[0m, in \u001b[0;36mBaseEstimator._validate_data\u001b[0;34m(self, X, y, reset, validate_separately, **check_params)\u001b[0m\n\u001b[1;32m    577\u001b[0m     out \u001b[38;5;241m=\u001b[39m X, y\n\u001b[1;32m    579\u001b[0m \u001b[38;5;28;01mif\u001b[39;00m \u001b[38;5;129;01mnot\u001b[39;00m no_val_X \u001b[38;5;129;01mand\u001b[39;00m check_params\u001b[38;5;241m.\u001b[39mget(\u001b[38;5;124m\"\u001b[39m\u001b[38;5;124mensure_2d\u001b[39m\u001b[38;5;124m\"\u001b[39m, \u001b[38;5;28;01mTrue\u001b[39;00m):\n\u001b[0;32m--> 580\u001b[0m     \u001b[38;5;28;43mself\u001b[39;49m\u001b[38;5;241;43m.\u001b[39;49m\u001b[43m_check_n_features\u001b[49m\u001b[43m(\u001b[49m\u001b[43mX\u001b[49m\u001b[43m,\u001b[49m\u001b[43m \u001b[49m\u001b[43mreset\u001b[49m\u001b[38;5;241;43m=\u001b[39;49m\u001b[43mreset\u001b[49m\u001b[43m)\u001b[49m\n\u001b[1;32m    582\u001b[0m \u001b[38;5;28;01mreturn\u001b[39;00m out\n",
      "File \u001b[0;32m/opt/conda/lib/python3.10/site-packages/sklearn/base.py:395\u001b[0m, in \u001b[0;36mBaseEstimator._check_n_features\u001b[0;34m(self, X, reset)\u001b[0m\n\u001b[1;32m    392\u001b[0m     \u001b[38;5;28;01mreturn\u001b[39;00m\n\u001b[1;32m    394\u001b[0m \u001b[38;5;28;01mif\u001b[39;00m n_features \u001b[38;5;241m!=\u001b[39m \u001b[38;5;28mself\u001b[39m\u001b[38;5;241m.\u001b[39mn_features_in_:\n\u001b[0;32m--> 395\u001b[0m     \u001b[38;5;28;01mraise\u001b[39;00m \u001b[38;5;167;01mValueError\u001b[39;00m(\n\u001b[1;32m    396\u001b[0m         \u001b[38;5;124mf\u001b[39m\u001b[38;5;124m\"\u001b[39m\u001b[38;5;124mX has \u001b[39m\u001b[38;5;132;01m{\u001b[39;00mn_features\u001b[38;5;132;01m}\u001b[39;00m\u001b[38;5;124m features, but \u001b[39m\u001b[38;5;132;01m{\u001b[39;00m\u001b[38;5;28mself\u001b[39m\u001b[38;5;241m.\u001b[39m\u001b[38;5;18m__class__\u001b[39m\u001b[38;5;241m.\u001b[39m\u001b[38;5;18m__name__\u001b[39m\u001b[38;5;132;01m}\u001b[39;00m\u001b[38;5;124m \u001b[39m\u001b[38;5;124m\"\u001b[39m\n\u001b[1;32m    397\u001b[0m         \u001b[38;5;124mf\u001b[39m\u001b[38;5;124m\"\u001b[39m\u001b[38;5;124mis expecting \u001b[39m\u001b[38;5;132;01m{\u001b[39;00m\u001b[38;5;28mself\u001b[39m\u001b[38;5;241m.\u001b[39mn_features_in_\u001b[38;5;132;01m}\u001b[39;00m\u001b[38;5;124m features as input.\u001b[39m\u001b[38;5;124m\"\u001b[39m\n\u001b[1;32m    398\u001b[0m     )\n",
      "\u001b[0;31mValueError\u001b[0m: X has 216 features, but RandomForestClassifier is expecting 214 features as input."
     ]
    }
   ],
   "source": [
    "y_predicted_clf_proba = rf.predict_proba(x_test)"
   ]
  },
  {
   "cell_type": "code",
   "execution_count": 52,
   "id": "5385f852-8e22-4ee3-b6f0-8af33c04285e",
   "metadata": {
    "tags": []
   },
   "outputs": [],
   "source": [
    "df_analise = x_test"
   ]
  },
  {
   "cell_type": "code",
   "execution_count": 53,
   "id": "eefcaa2d-0089-471f-ae10-f6bcdfa211d5",
   "metadata": {
    "tags": []
   },
   "outputs": [],
   "source": [
    "df_analise['prediction_actual'] = y_predicted_clf_proba[:,1]\n",
    "df_analise['prediction_sim'] = y_predicted_clf_sim_proba[:,1]"
   ]
  },
  {
   "cell_type": "code",
   "execution_count": 54,
   "id": "4ffaa9d6-331f-4c80-8ddf-c0b114293201",
   "metadata": {
    "tags": []
   },
   "outputs": [
    {
     "data": {
      "text/html": [
       "<div>\n",
       "<style scoped>\n",
       "    .dataframe tbody tr th:only-of-type {\n",
       "        vertical-align: middle;\n",
       "    }\n",
       "\n",
       "    .dataframe tbody tr th {\n",
       "        vertical-align: top;\n",
       "    }\n",
       "\n",
       "    .dataframe thead th {\n",
       "        text-align: right;\n",
       "    }\n",
       "</style>\n",
       "<table border=\"1\" class=\"dataframe\">\n",
       "  <thead>\n",
       "    <tr style=\"text-align: right;\">\n",
       "      <th></th>\n",
       "      <th>f_tratamento</th>\n",
       "      <th>pc_iu_ult_mes</th>\n",
       "      <th>pc_iu_mes_atual</th>\n",
       "      <th>vl_spending_medio_3m</th>\n",
       "      <th>nr_score_ie_credito</th>\n",
       "      <th>nr_score_ie_conta</th>\n",
       "      <th>ds_classif_application_1</th>\n",
       "      <th>ds_classif_application_10</th>\n",
       "      <th>ds_classif_application_11</th>\n",
       "      <th>ds_classif_application_12</th>\n",
       "      <th>...</th>\n",
       "      <th>ds_seg_consumo_TELECOM - 4</th>\n",
       "      <th>ds_seg_consumo_TELECOM - 5</th>\n",
       "      <th>ds_seg_consumo_VIAGEM - 1</th>\n",
       "      <th>ds_seg_consumo_VIAGEM - 2</th>\n",
       "      <th>ds_seg_consumo_VIAGEM - 3</th>\n",
       "      <th>ds_seg_consumo_VIAGEM - 4</th>\n",
       "      <th>ds_seg_consumo_VIAGEM - 5</th>\n",
       "      <th>ds_seg_consumo_VIAGEM - 6</th>\n",
       "      <th>prediction_actual</th>\n",
       "      <th>prediction_sim</th>\n",
       "    </tr>\n",
       "  </thead>\n",
       "  <tbody>\n",
       "    <tr>\n",
       "      <th>119737</th>\n",
       "      <td>1</td>\n",
       "      <td>0.9745</td>\n",
       "      <td>0.8886</td>\n",
       "      <td>0.0</td>\n",
       "      <td>13.559322</td>\n",
       "      <td>32.11</td>\n",
       "      <td>0</td>\n",
       "      <td>0</td>\n",
       "      <td>0</td>\n",
       "      <td>0</td>\n",
       "      <td>...</td>\n",
       "      <td>0</td>\n",
       "      <td>0</td>\n",
       "      <td>0</td>\n",
       "      <td>0</td>\n",
       "      <td>0</td>\n",
       "      <td>0</td>\n",
       "      <td>0</td>\n",
       "      <td>0</td>\n",
       "      <td>0.030000</td>\n",
       "      <td>0.860000</td>\n",
       "    </tr>\n",
       "    <tr>\n",
       "      <th>72272</th>\n",
       "      <td>0</td>\n",
       "      <td>1.0495</td>\n",
       "      <td>0.8886</td>\n",
       "      <td>23.0</td>\n",
       "      <td>8.474576</td>\n",
       "      <td>69.03</td>\n",
       "      <td>0</td>\n",
       "      <td>1</td>\n",
       "      <td>0</td>\n",
       "      <td>0</td>\n",
       "      <td>...</td>\n",
       "      <td>0</td>\n",
       "      <td>0</td>\n",
       "      <td>0</td>\n",
       "      <td>0</td>\n",
       "      <td>0</td>\n",
       "      <td>0</td>\n",
       "      <td>0</td>\n",
       "      <td>0</td>\n",
       "      <td>0.885000</td>\n",
       "      <td>0.885000</td>\n",
       "    </tr>\n",
       "    <tr>\n",
       "      <th>158154</th>\n",
       "      <td>0</td>\n",
       "      <td>0.1542</td>\n",
       "      <td>0.2101</td>\n",
       "      <td>717.0</td>\n",
       "      <td>55.932203</td>\n",
       "      <td>13.63</td>\n",
       "      <td>0</td>\n",
       "      <td>0</td>\n",
       "      <td>0</td>\n",
       "      <td>0</td>\n",
       "      <td>...</td>\n",
       "      <td>0</td>\n",
       "      <td>0</td>\n",
       "      <td>0</td>\n",
       "      <td>0</td>\n",
       "      <td>0</td>\n",
       "      <td>0</td>\n",
       "      <td>0</td>\n",
       "      <td>0</td>\n",
       "      <td>0.940000</td>\n",
       "      <td>0.940000</td>\n",
       "    </tr>\n",
       "    <tr>\n",
       "      <th>65426</th>\n",
       "      <td>1</td>\n",
       "      <td>0.6640</td>\n",
       "      <td>0.8886</td>\n",
       "      <td>369.0</td>\n",
       "      <td>49.152542</td>\n",
       "      <td>47.57</td>\n",
       "      <td>0</td>\n",
       "      <td>0</td>\n",
       "      <td>0</td>\n",
       "      <td>0</td>\n",
       "      <td>...</td>\n",
       "      <td>0</td>\n",
       "      <td>0</td>\n",
       "      <td>0</td>\n",
       "      <td>0</td>\n",
       "      <td>0</td>\n",
       "      <td>0</td>\n",
       "      <td>0</td>\n",
       "      <td>0</td>\n",
       "      <td>0.390000</td>\n",
       "      <td>0.960000</td>\n",
       "    </tr>\n",
       "    <tr>\n",
       "      <th>30074</th>\n",
       "      <td>1</td>\n",
       "      <td>1.0385</td>\n",
       "      <td>1.0004</td>\n",
       "      <td>924.0</td>\n",
       "      <td>77.966102</td>\n",
       "      <td>55.22</td>\n",
       "      <td>0</td>\n",
       "      <td>0</td>\n",
       "      <td>0</td>\n",
       "      <td>0</td>\n",
       "      <td>...</td>\n",
       "      <td>0</td>\n",
       "      <td>0</td>\n",
       "      <td>0</td>\n",
       "      <td>0</td>\n",
       "      <td>0</td>\n",
       "      <td>0</td>\n",
       "      <td>0</td>\n",
       "      <td>0</td>\n",
       "      <td>0.683667</td>\n",
       "      <td>0.986667</td>\n",
       "    </tr>\n",
       "  </tbody>\n",
       "</table>\n",
       "<p>5 rows × 216 columns</p>\n",
       "</div>"
      ],
      "text/plain": [
       "        f_tratamento  pc_iu_ult_mes  pc_iu_mes_atual  vl_spending_medio_3m  \\\n",
       "119737             1         0.9745           0.8886                   0.0   \n",
       "72272              0         1.0495           0.8886                  23.0   \n",
       "158154             0         0.1542           0.2101                 717.0   \n",
       "65426              1         0.6640           0.8886                 369.0   \n",
       "30074              1         1.0385           1.0004                 924.0   \n",
       "\n",
       "        nr_score_ie_credito  nr_score_ie_conta  ds_classif_application_1  \\\n",
       "119737            13.559322              32.11                         0   \n",
       "72272              8.474576              69.03                         0   \n",
       "158154            55.932203              13.63                         0   \n",
       "65426             49.152542              47.57                         0   \n",
       "30074             77.966102              55.22                         0   \n",
       "\n",
       "        ds_classif_application_10  ds_classif_application_11  \\\n",
       "119737                          0                          0   \n",
       "72272                           1                          0   \n",
       "158154                          0                          0   \n",
       "65426                           0                          0   \n",
       "30074                           0                          0   \n",
       "\n",
       "        ds_classif_application_12  ...  ds_seg_consumo_TELECOM - 4  \\\n",
       "119737                          0  ...                           0   \n",
       "72272                           0  ...                           0   \n",
       "158154                          0  ...                           0   \n",
       "65426                           0  ...                           0   \n",
       "30074                           0  ...                           0   \n",
       "\n",
       "        ds_seg_consumo_TELECOM - 5  ds_seg_consumo_VIAGEM - 1  \\\n",
       "119737                           0                          0   \n",
       "72272                            0                          0   \n",
       "158154                           0                          0   \n",
       "65426                            0                          0   \n",
       "30074                            0                          0   \n",
       "\n",
       "        ds_seg_consumo_VIAGEM - 2  ds_seg_consumo_VIAGEM - 3  \\\n",
       "119737                          0                          0   \n",
       "72272                           0                          0   \n",
       "158154                          0                          0   \n",
       "65426                           0                          0   \n",
       "30074                           0                          0   \n",
       "\n",
       "        ds_seg_consumo_VIAGEM - 4  ds_seg_consumo_VIAGEM - 5  \\\n",
       "119737                          0                          0   \n",
       "72272                           0                          0   \n",
       "158154                          0                          0   \n",
       "65426                           0                          0   \n",
       "30074                           0                          0   \n",
       "\n",
       "        ds_seg_consumo_VIAGEM - 6  prediction_actual  prediction_sim  \n",
       "119737                          0           0.030000        0.860000  \n",
       "72272                           0           0.885000        0.885000  \n",
       "158154                          0           0.940000        0.940000  \n",
       "65426                           0           0.390000        0.960000  \n",
       "30074                           0           0.683667        0.986667  \n",
       "\n",
       "[5 rows x 216 columns]"
      ]
     },
     "execution_count": 54,
     "metadata": {},
     "output_type": "execute_result"
    }
   ],
   "source": [
    "df_analise.head()"
   ]
  },
  {
   "cell_type": "code",
   "execution_count": 63,
   "id": "724e6597-2532-4125-92cc-4e12780028f4",
   "metadata": {
    "tags": []
   },
   "outputs": [],
   "source": [
    "#faixa de conversão por probabilidade\n",
    "#cálculo ks\n",
    "#ver se a probabilidade de conversão tá invertida\n",
    "#caso não esteja - dividir em faixas de ate e rodar função de combinações\n",
    "#rodar regressão logística no pystats"
   ]
  },
  {
   "cell_type": "code",
   "execution_count": 62,
   "id": "ea652368-bc36-4ca3-86eb-63f83abff952",
   "metadata": {
    "tags": []
   },
   "outputs": [
    {
     "data": {
      "image/png": "[encoded data removed]",
      "text/plain": [
       "<Figure size 1000x1000 with 1 Axes>"
      ]
     },
     "metadata": {},
     "output_type": "display_data"
    }
   ],
   "source": [
    "plt.figure(figsize=(10,10))\n",
    "sns.histplot(data = df_analise, x = 'prediction_actual', color = \"blue\")\n",
    "sns.histplot(data = df_analise, x = 'prediction_sim', color = \"red\")\n",
    "plt.show()"
   ]
  },
  {
   "cell_type": "code",
   "execution_count": 63,
   "id": "48577c9a-86f6-4474-9414-8acca4fbc04e",
   "metadata": {
    "tags": []
   },
   "outputs": [],
   "source": [
    "df_analise['ate'] = df_analise['prediction_actual'] - df_analise['prediction_sim']"
   ]
  },
  {
   "cell_type": "code",
   "execution_count": 64,
   "id": "0f5ff713-23ac-458f-a5d4-37302775a7b9",
   "metadata": {
    "tags": []
   },
   "outputs": [
    {
     "data": {
      "text/plain": [
       "count    40000.000000\n",
       "mean        -0.203859\n",
       "std          0.246473\n",
       "min         -0.875000\n",
       "25%         -0.420000\n",
       "50%          0.000000\n",
       "75%          0.000000\n",
       "max          0.030000\n",
       "Name: ate, dtype: float64"
      ]
     },
     "execution_count": 64,
     "metadata": {},
     "output_type": "execute_result"
    }
   ],
   "source": [
    "df_analise['ate'].describe()"
   ]
  },
  {
   "cell_type": "code",
   "execution_count": 65,
   "id": "87df2519-f840-49e8-84c5-ac3cb06455e9",
   "metadata": {
    "tags": []
   },
   "outputs": [
    {
     "data": {
      "text/plain": [
       "<AxesSubplot:xlabel='ate', ylabel='Count'>"
      ]
     },
     "execution_count": 65,
     "metadata": {},
     "output_type": "execute_result"
    },
    {
     "data": {
      "image/png": "[encoded data removed]",
      "text/plain": [
       "<Figure size 1000x1000 with 1 Axes>"
      ]
     },
     "metadata": {},
     "output_type": "display_data"
    }
   ],
   "source": [
    "plt.figure(figsize=(10,10))\n",
    "sns.histplot(data = df_analise, x = 'ate', color = \"black\")"
   ]
  },
  {
   "cell_type": "code",
   "execution_count": 66,
   "id": "76a9f7e5-03fe-4db3-99cd-e7dc0a684538",
   "metadata": {
    "tags": []
   },
   "outputs": [
    {
     "data": {
      "text/plain": [
       "<AxesSubplot:xlabel='ate', ylabel='Count'>"
      ]
     },
     "execution_count": 66,
     "metadata": {},
     "output_type": "execute_result"
    },
    {
     "data": {
      "image/png": "[encoded data removed]",
      "text/plain": [
       "<Figure size 1000x1000 with 1 Axes>"
      ]
     },
     "metadata": {},
     "output_type": "display_data"
    }
   ],
   "source": [
    "plt.figure(figsize=(10,10))\n",
    "sns.histplot(data = df_analise.query('ate != 0'), x = 'ate', color = \"black\")"
   ]
  },
  {
   "cell_type": "code",
   "execution_count": 67,
   "id": "74266b10-d257-41ea-85de-1991b9db4e7f",
   "metadata": {
    "tags": []
   },
   "outputs": [
    {
     "data": {
      "text/plain": [
       "46"
      ]
     },
     "execution_count": 67,
     "metadata": {},
     "output_type": "execute_result"
    }
   ],
   "source": [
    "len(df_analise.query('ate > 0'))"
   ]
  },
  {
   "cell_type": "code",
   "execution_count": 68,
   "id": "43328fec-bf30-420c-9685-46ecab53aa38",
   "metadata": {
    "tags": []
   },
   "outputs": [
    {
     "data": {
      "text/plain": [
       "0.00115"
      ]
     },
     "execution_count": 68,
     "metadata": {},
     "output_type": "execute_result"
    }
   ],
   "source": [
    "len(df_analise.query('ate > 0')) / len(df_analise)"
   ]
  },
  {
   "cell_type": "code",
   "execution_count": 69,
   "id": "2a759642-4490-4820-8b30-386bbd7894e8",
   "metadata": {
    "tags": []
   },
   "outputs": [
    {
     "data": {
      "text/plain": [
       "20232"
      ]
     },
     "execution_count": 69,
     "metadata": {},
     "output_type": "execute_result"
    }
   ],
   "source": [
    "len(df_analise.query('ate >= 0'))"
   ]
  },
  {
   "cell_type": "code",
   "execution_count": 70,
   "id": "cd4a2765-833a-4131-8b32-50546d66da16",
   "metadata": {
    "tags": []
   },
   "outputs": [
    {
     "data": {
      "text/plain": [
       "21599"
      ]
     },
     "execution_count": 70,
     "metadata": {},
     "output_type": "execute_result"
    }
   ],
   "source": [
    "len(df_analise.query('ate > -0.10'))0.9042607802874744"
   ]
  },
  {
   "cell_type": "code",
   "execution_count": 71,
   "id": "f58a83b1-97f7-4920-8a77-1e59c44e59ec",
   "metadata": {
    "tags": []
   },
   "outputs": [
    {
     "data": {
      "text/plain": [
       "count    19814.000000\n",
       "mean        -0.411544\n",
       "std          0.192783\n",
       "min         -0.875000\n",
       "25%         -0.565000\n",
       "50%         -0.425000\n",
       "75%         -0.270000\n",
       "max          0.030000\n",
       "Name: ate, dtype: float64"
      ]
     },
     "execution_count": 71,
     "metadata": {},
     "output_type": "execute_result"
    }
   ],
   "source": [
    "df_analise.query('ate != 0')['ate'].describe()"
   ]
  },
  {
   "cell_type": "code",
   "execution_count": null,
   "id": "4ef7180e-acbe-43ff-bf43-e226d66c832a",
   "metadata": {},
   "outputs": [],
   "source": []
  }
 ],
 "metadata": {
  "availableInstances": [
   {
    "_defaultOrder": 0,
    "_isFastLaunch": true,
    "category": "General purpose",
    "gpuNum": 0,
    "hideHardwareSpecs": false,
    "memoryGiB": 4,
    "name": "ml.t3.medium",
    "vcpuNum": 2
   },
   {
    "_defaultOrder": 1,
    "_isFastLaunch": false,
    "category": "General purpose",
    "gpuNum": 0,
    "hideHardwareSpecs": false,
    "memoryGiB": 8,
    "name": "ml.t3.large",
    "vcpuNum": 2
   },
   {
    "_defaultOrder": 2,
    "_isFastLaunch": false,
    "category": "General purpose",
    "gpuNum": 0,
    "hideHardwareSpecs": false,
    "memoryGiB": 16,
    "name": "ml.t3.xlarge",
    "vcpuNum": 4
   },
   {
    "_defaultOrder": 3,
    "_isFastLaunch": false,
    "category": "General purpose",
    "gpuNum": 0,
    "hideHardwareSpecs": false,
    "memoryGiB": 32,
    "name": "ml.t3.2xlarge",
    "vcpuNum": 8
   },
   {
    "_defaultOrder": 4,
    "_isFastLaunch": true,
    "category": "General purpose",
    "gpuNum": 0,
    "hideHardwareSpecs": false,
    "memoryGiB": 8,
    "name": "ml.m5.large",
    "vcpuNum": 2
   },
   {
    "_defaultOrder": 5,
    "_isFastLaunch": false,
    "category": "General purpose",
    "gpuNum": 0,
    "hideHardwareSpecs": false,
    "memoryGiB": 16,
    "name": "ml.m5.xlarge",
    "vcpuNum": 4
   },
   {
    "_defaultOrder": 6,
    "_isFastLaunch": false,
    "category": "General purpose",
    "gpuNum": 0,
    "hideHardwareSpecs": false,
    "memoryGiB": 32,
    "name": "ml.m5.2xlarge",
    "vcpuNum": 8
   },
   {
    "_defaultOrder": 7,
    "_isFastLaunch": false,
    "category": "General purpose",
    "gpuNum": 0,
    "hideHardwareSpecs": false,
    "memoryGiB": 64,
    "name": "ml.m5.4xlarge",
    "vcpuNum": 16
   },
   {
    "_defaultOrder": 8,
    "_isFastLaunch": false,
    "category": "General purpose",
    "gpuNum": 0,
    "hideHardwareSpecs": false,
    "memoryGiB": 128,
    "name": "ml.m5.8xlarge",
    "vcpuNum": 32
   },
   {
    "_defaultOrder": 9,
    "_isFastLaunch": false,
    "category": "General purpose",
    "gpuNum": 0,
    "hideHardwareSpecs": false,
    "memoryGiB": 192,
    "name": "ml.m5.12xlarge",
    "vcpuNum": 48
   },
   {
    "_defaultOrder": 10,
    "_isFastLaunch": false,
    "category": "General purpose",
    "gpuNum": 0,
    "hideHardwareSpecs": false,
    "memoryGiB": 256,
    "name": "ml.m5.16xlarge",
    "vcpuNum": 64
   },
   {
    "_defaultOrder": 11,
    "_isFastLaunch": false,
    "category": "General purpose",
    "gpuNum": 0,
    "hideHardwareSpecs": false,
    "memoryGiB": 384,
    "name": "ml.m5.24xlarge",
    "vcpuNum": 96
   },
   {
    "_defaultOrder": 12,
    "_isFastLaunch": false,
    "category": "General purpose",
    "gpuNum": 0,
    "hideHardwareSpecs": false,
    "memoryGiB": 8,
    "name": "ml.m5d.large",
    "vcpuNum": 2
   },
   {
    "_defaultOrder": 13,
    "_isFastLaunch": false,
    "category": "General purpose",
    "gpuNum": 0,
    "hideHardwareSpecs": false,
    "memoryGiB": 16,
    "name": "ml.m5d.xlarge",
    "vcpuNum": 4
   },
   {
    "_defaultOrder": 14,
    "_isFastLaunch": false,
    "category": "General purpose",
    "gpuNum": 0,
    "hideHardwareSpecs": false,
    "memoryGiB": 32,
    "name": "ml.m5d.2xlarge",
    "vcpuNum": 8
   },
   {
    "_defaultOrder": 15,
    "_isFastLaunch": false,
    "category": "General purpose",
    "gpuNum": 0,
    "hideHardwareSpecs": false,
    "memoryGiB": 64,
    "name": "ml.m5d.4xlarge",
    "vcpuNum": 16
   },
   {
    "_defaultOrder": 16,
    "_isFastLaunch": false,
    "category": "General purpose",
    "gpuNum": 0,
    "hideHardwareSpecs": false,
    "memoryGiB": 128,
    "name": "ml.m5d.8xlarge",
    "vcpuNum": 32
   },
   {
    "_defaultOrder": 17,
    "_isFastLaunch": false,
    "category": "General purpose",
    "gpuNum": 0,
    "hideHardwareSpecs": false,
    "memoryGiB": 192,
    "name": "ml.m5d.12xlarge",
    "vcpuNum": 48
   },
   {
    "_defaultOrder": 18,
    "_isFastLaunch": false,
    "category": "General purpose",
    "gpuNum": 0,
    "hideHardwareSpecs": false,
    "memoryGiB": 256,
    "name": "ml.m5d.16xlarge",
    "vcpuNum": 64
   },
   {
    "_defaultOrder": 19,
    "_isFastLaunch": false,
    "category": "General purpose",
    "gpuNum": 0,
    "hideHardwareSpecs": false,
    "memoryGiB": 384,
    "name": "ml.m5d.24xlarge",
    "vcpuNum": 96
   },
   {
    "_defaultOrder": 20,
    "_isFastLaunch": false,
    "category": "General purpose",
    "gpuNum": 0,
    "hideHardwareSpecs": true,
    "memoryGiB": 0,
    "name": "ml.geospatial.interactive",
    "supportedImageNames": [
     "sagemaker-geospatial-v1-0"
    ],
    "vcpuNum": 0
   },
   {
    "_defaultOrder": 21,
    "_isFastLaunch": true,
    "category": "Compute optimized",
    "gpuNum": 0,
    "hideHardwareSpecs": false,
    "memoryGiB": 4,
    "name": "ml.c5.large",
    "vcpuNum": 2
   },
   {
    "_defaultOrder": 22,
    "_isFastLaunch": false,
    "category": "Compute optimized",
    "gpuNum": 0,
    "hideHardwareSpecs": false,
    "memoryGiB": 8,
    "name": "ml.c5.xlarge",
    "vcpuNum": 4
   },
   {
    "_defaultOrder": 23,
    "_isFastLaunch": false,
    "category": "Compute optimized",
    "gpuNum": 0,
    "hideHardwareSpecs": false,
    "memoryGiB": 16,
    "name": "ml.c5.2xlarge",
    "vcpuNum": 8
   },
   {
    "_defaultOrder": 24,
    "_isFastLaunch": false,
    "category": "Compute optimized",
    "gpuNum": 0,
    "hideHardwareSpecs": false,
    "memoryGiB": 32,
    "name": "ml.c5.4xlarge",
    "vcpuNum": 16
   },
   {
    "_defaultOrder": 25,
    "_isFastLaunch": false,
    "category": "Compute optimized",
    "gpuNum": 0,
    "hideHardwareSpecs": false,
    "memoryGiB": 72,
    "name": "ml.c5.9xlarge",
    "vcpuNum": 36
   },
   {
    "_defaultOrder": 26,
    "_isFastLaunch": false,
    "category": "Compute optimized",
    "gpuNum": 0,
    "hideHardwareSpecs": false,
    "memoryGiB": 96,
    "name": "ml.c5.12xlarge",
    "vcpuNum": 48
   },
   {
    "_defaultOrder": 27,
    "_isFastLaunch": false,
    "category": "Compute optimized",
    "gpuNum": 0,
    "hideHardwareSpecs": false,
    "memoryGiB": 144,
    "name": "ml.c5.18xlarge",
    "vcpuNum": 72
   },
   {
    "_defaultOrder": 28,
    "_isFastLaunch": false,
    "category": "Compute optimized",
    "gpuNum": 0,
    "hideHardwareSpecs": false,
    "memoryGiB": 192,
    "name": "ml.c5.24xlarge",
    "vcpuNum": 96
   },
   {
    "_defaultOrder": 29,
    "_isFastLaunch": true,
    "category": "Accelerated computing",
    "gpuNum": 1,
    "hideHardwareSpecs": false,
    "memoryGiB": 16,
    "name": "ml.g4dn.xlarge",
    "vcpuNum": 4
   },
   {
    "_defaultOrder": 30,
    "_isFastLaunch": false,
    "category": "Accelerated computing",
    "gpuNum": 1,
    "hideHardwareSpecs": false,
    "memoryGiB": 32,
    "name": "ml.g4dn.2xlarge",
    "vcpuNum": 8
   },
   {
    "_defaultOrder": 31,
    "_isFastLaunch": false,
    "category": "Accelerated computing",
    "gpuNum": 1,
    "hideHardwareSpecs": false,
    "memoryGiB": 64,
    "name": "ml.g4dn.4xlarge",
    "vcpuNum": 16
   },
   {
    "_defaultOrder": 32,
    "_isFastLaunch": false,
    "category": "Accelerated computing",
    "gpuNum": 1,
    "hideHardwareSpecs": false,
    "memoryGiB": 128,
    "name": "ml.g4dn.8xlarge",
    "vcpuNum": 32
   },
   {
    "_defaultOrder": 33,
    "_isFastLaunch": false,
    "category": "Accelerated computing",
    "gpuNum": 4,
    "hideHardwareSpecs": false,
    "memoryGiB": 192,
    "name": "ml.g4dn.12xlarge",
    "vcpuNum": 48
   },
   {
    "_defaultOrder": 34,
    "_isFastLaunch": false,
    "category": "Accelerated computing",
    "gpuNum": 1,
    "hideHardwareSpecs": false,
    "memoryGiB": 256,
    "name": "ml.g4dn.16xlarge",
    "vcpuNum": 64
   },
   {
    "_defaultOrder": 35,
    "_isFastLaunch": false,
    "category": "Accelerated computing",
    "gpuNum": 1,
    "hideHardwareSpecs": false,
    "memoryGiB": 61,
    "name": "ml.p3.2xlarge",
    "vcpuNum": 8
   },
   {
    "_defaultOrder": 36,
    "_isFastLaunch": false,
    "category": "Accelerated computing",
    "gpuNum": 4,
    "hideHardwareSpecs": false,
    "memoryGiB": 244,
    "name": "ml.p3.8xlarge",
    "vcpuNum": 32
   },
   {
    "_defaultOrder": 37,
    "_isFastLaunch": false,
    "category": "Accelerated computing",
    "gpuNum": 8,
    "hideHardwareSpecs": false,
    "memoryGiB": 488,
    "name": "ml.p3.16xlarge",
    "vcpuNum": 64
   },
   {
    "_defaultOrder": 38,
    "_isFastLaunch": false,
    "category": "Accelerated computing",
    "gpuNum": 8,
    "hideHardwareSpecs": false,
    "memoryGiB": 768,
    "name": "ml.p3dn.24xlarge",
    "vcpuNum": 96
   },
   {
    "_defaultOrder": 39,
    "_isFastLaunch": false,
    "category": "Memory Optimized",
    "gpuNum": 0,
    "hideHardwareSpecs": false,
    "memoryGiB": 16,
    "name": "ml.r5.large",
    "vcpuNum": 2
   },
   {
    "_defaultOrder": 40,
    "_isFastLaunch": false,
    "category": "Memory Optimized",
    "gpuNum": 0,
    "hideHardwareSpecs": false,
    "memoryGiB": 32,
    "name": "ml.r5.xlarge",
    "vcpuNum": 4
   },
   {
    "_defaultOrder": 41,
    "_isFastLaunch": false,
    "category": "Memory Optimized",
    "gpuNum": 0,
    "hideHardwareSpecs": false,
    "memoryGiB": 64,
    "name": "ml.r5.2xlarge",
    "vcpuNum": 8
   },
   {
    "_defaultOrder": 42,
    "_isFastLaunch": false,
    "category": "Memory Optimized",
    "gpuNum": 0,
    "hideHardwareSpecs": false,
    "memoryGiB": 128,
    "name": "ml.r5.4xlarge",
    "vcpuNum": 16
   },
   {
    "_defaultOrder": 43,
    "_isFastLaunch": false,
    "category": "Memory Optimized",
    "gpuNum": 0,
    "hideHardwareSpecs": false,
    "memoryGiB": 256,
    "name": "ml.r5.8xlarge",
    "vcpuNum": 32
   },
   {
    "_defaultOrder": 44,
    "_isFastLaunch": false,
    "category": "Memory Optimized",
    "gpuNum": 0,
    "hideHardwareSpecs": false,
    "memoryGiB": 384,
    "name": "ml.r5.12xlarge",
    "vcpuNum": 48
   },
   {
    "_defaultOrder": 45,
    "_isFastLaunch": false,
    "category": "Memory Optimized",
    "gpuNum": 0,
    "hideHardwareSpecs": false,
    "memoryGiB": 512,
    "name": "ml.r5.16xlarge",
    "vcpuNum": 64
   },
   {
    "_defaultOrder": 46,
    "_isFastLaunch": false,
    "category": "Memory Optimized",
    "gpuNum": 0,
    "hideHardwareSpecs": false,
    "memoryGiB": 768,
    "name": "ml.r5.24xlarge",
    "vcpuNum": 96
   },
   {
    "_defaultOrder": 47,
    "_isFastLaunch": false,
    "category": "Accelerated computing",
    "gpuNum": 1,
    "hideHardwareSpecs": false,
    "memoryGiB": 16,
    "name": "ml.g5.xlarge",
    "vcpuNum": 4
   },
   {
    "_defaultOrder": 48,
    "_isFastLaunch": false,
    "category": "Accelerated computing",
    "gpuNum": 1,
    "hideHardwareSpecs": false,
    "memoryGiB": 32,
    "name": "ml.g5.2xlarge",
    "vcpuNum": 8
   },
   {
    "_defaultOrder": 49,
    "_isFastLaunch": false,
    "category": "Accelerated computing",
    "gpuNum": 1,
    "hideHardwareSpecs": false,
    "memoryGiB": 64,
    "name": "ml.g5.4xlarge",
    "vcpuNum": 16
   },
   {
    "_defaultOrder": 50,
    "_isFastLaunch": false,
    "category": "Accelerated computing",
    "gpuNum": 1,
    "hideHardwareSpecs": false,
    "memoryGiB": 128,
    "name": "ml.g5.8xlarge",
    "vcpuNum": 32
   },
   {
    "_defaultOrder": 51,
    "_isFastLaunch": false,
    "category": "Accelerated computing",
    "gpuNum": 1,
    "hideHardwareSpecs": false,
    "memoryGiB": 256,
    "name": "ml.g5.16xlarge",
    "vcpuNum": 64
   },
   {
    "_defaultOrder": 52,
    "_isFastLaunch": false,
    "category": "Accelerated computing",
    "gpuNum": 4,
    "hideHardwareSpecs": false,
    "memoryGiB": 192,
    "name": "ml.g5.12xlarge",
    "vcpuNum": 48
   },
   {
    "_defaultOrder": 53,
    "_isFastLaunch": false,
    "category": "Accelerated computing",
    "gpuNum": 4,
    "hideHardwareSpecs": false,
    "memoryGiB": 384,
    "name": "ml.g5.24xlarge",
    "vcpuNum": 96
   },
   {
    "_defaultOrder": 54,
    "_isFastLaunch": false,
    "category": "Accelerated computing",
    "gpuNum": 8,
    "hideHardwareSpecs": false,
    "memoryGiB": 768,
    "name": "ml.g5.48xlarge",
    "vcpuNum": 192
   },
   {
    "_defaultOrder": 55,
    "_isFastLaunch": false,
    "category": "Accelerated computing",
    "gpuNum": 8,
    "hideHardwareSpecs": false,
    "memoryGiB": 1152,
    "name": "ml.p4d.24xlarge",
    "vcpuNum": 96
   },
   {
    "_defaultOrder": 56,
    "_isFastLaunch": false,
    "category": "Accelerated computing",
    "gpuNum": 8,
    "hideHardwareSpecs": false,
    "memoryGiB": 1152,
    "name": "ml.p4de.24xlarge",
    "vcpuNum": 96
   }
  ],
  "instance_type": "ml.t3.medium",
  "kernelspec": {
   "display_name": "Python 3 (Data Science 3.0)",
   "language": "python",
   "name": "python3__SAGEMAKER_INTERNAL__arn:aws:sagemaker:sa-east-1:782484402741:image/sagemaker-data-science-310-v1"
  },
  "language_info": {
   "codemirror_mode": {
    "name": "ipython",
    "version": 3
   },
   "file_extension": ".py",
   "mimetype": "text/x-python",
   "name": "python",
   "nbconvert_exporter": "python",
   "pygments_lexer": "ipython3",
   "version": "3.10.6"
  }
 },
 "nbformat": 4,
 "nbformat_minor": 5
}
