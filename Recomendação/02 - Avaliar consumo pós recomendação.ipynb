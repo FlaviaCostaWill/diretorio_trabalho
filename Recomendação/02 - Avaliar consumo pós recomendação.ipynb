{
 "cells": [
  {
   "cell_type": "code",
   "execution_count": 2,
   "id": "bb2fc779-5a89-48f7-a184-75631bbfeb2a",
   "metadata": {
    "collapsed": true,
    "jupyter": {
     "outputs_hidden": true
    },
    "tags": []
   },
   "outputs": [
    {
     "name": "stdout",
     "output_type": "stream",
     "text": [
      "Collecting awswrangler\n",
      "  Using cached awswrangler-3.4.2-py3-none-any.whl.metadata (23 kB)\n",
      "Requirement already satisfied: boto3<2.0.0,>=1.20.32 in /opt/conda/lib/python3.10/site-packages (from awswrangler) (1.33.9)\n",
      "Requirement already satisfied: botocore<2.0.0,>=1.23.32 in /opt/conda/lib/python3.10/site-packages (from awswrangler) (1.33.9)\n",
      "Requirement already satisfied: numpy<2.0,>=1.18 in /opt/conda/lib/python3.10/site-packages (from awswrangler) (1.26.2)\n",
      "Requirement already satisfied: packaging<24.0,>=21.1 in /opt/conda/lib/python3.10/site-packages (from awswrangler) (21.3)\n",
      "Requirement already satisfied: pandas<3.0.0,>=1.2.0 in /opt/conda/lib/python3.10/site-packages (from awswrangler) (2.1.3)\n",
      "Requirement already satisfied: pyarrow>=7.0.0 in /opt/conda/lib/python3.10/site-packages (from awswrangler) (14.0.1)\n",
      "Collecting typing-extensions<5.0.0,>=4.4.0 (from awswrangler)\n",
      "  Using cached typing_extensions-4.9.0-py3-none-any.whl.metadata (3.0 kB)\n",
      "Requirement already satisfied: jmespath<2.0.0,>=0.7.1 in /opt/conda/lib/python3.10/site-packages (from boto3<2.0.0,>=1.20.32->awswrangler) (0.10.0)\n",
      "Requirement already satisfied: s3transfer<0.9.0,>=0.8.2 in /opt/conda/lib/python3.10/site-packages (from boto3<2.0.0,>=1.20.32->awswrangler) (0.8.2)\n",
      "Requirement already satisfied: python-dateutil<3.0.0,>=2.1 in /opt/conda/lib/python3.10/site-packages (from botocore<2.0.0,>=1.23.32->awswrangler) (2.8.2)\n",
      "Collecting urllib3<2.1,>=1.25.4 (from botocore<2.0.0,>=1.23.32->awswrangler)\n",
      "  Using cached urllib3-2.0.7-py3-none-any.whl.metadata (6.6 kB)\n",
      "Requirement already satisfied: pyparsing!=3.0.5,>=2.0.2 in /opt/conda/lib/python3.10/site-packages (from packaging<24.0,>=21.1->awswrangler) (3.0.9)\n",
      "Requirement already satisfied: pytz>=2020.1 in /opt/conda/lib/python3.10/site-packages (from pandas<3.0.0,>=1.2.0->awswrangler) (2022.1)\n",
      "Requirement already satisfied: tzdata>=2022.1 in /opt/conda/lib/python3.10/site-packages (from pandas<3.0.0,>=1.2.0->awswrangler) (2023.3)\n",
      "Requirement already satisfied: six>=1.5 in /opt/conda/lib/python3.10/site-packages (from python-dateutil<3.0.0,>=2.1->botocore<2.0.0,>=1.23.32->awswrangler) (1.16.0)\n",
      "Using cached awswrangler-3.4.2-py3-none-any.whl (396 kB)\n",
      "Using cached typing_extensions-4.9.0-py3-none-any.whl (32 kB)\n",
      "Using cached urllib3-2.0.7-py3-none-any.whl (124 kB)\n",
      "Installing collected packages: urllib3, typing-extensions, awswrangler\n",
      "  Attempting uninstall: urllib3\n",
      "    Found existing installation: urllib3 2.1.0\n",
      "    Uninstalling urllib3-2.1.0:\n",
      "      Successfully uninstalled urllib3-2.1.0\n",
      "  Attempting uninstall: typing-extensions\n",
      "    Found existing installation: typing_extensions 4.3.0\n",
      "    Uninstalling typing_extensions-4.3.0:\n",
      "      Successfully uninstalled typing_extensions-4.3.0\n",
      "\u001b[31mERROR: pip's dependency resolver does not currently take into account all the packages that are installed. This behaviour is the source of the following dependency conflicts.\n",
      "spyder 5.3.3 requires pyqt5<5.16, which is not installed.\n",
      "spyder 5.3.3 requires pyqtwebengine<5.16, which is not installed.\n",
      "distributed 2022.7.0 requires tornado<6.2,>=6.0.3, but you have tornado 6.4 which is incompatible.\n",
      "panel 0.13.1 requires bokeh<2.5.0,>=2.4.0, but you have bokeh 3.3.2 which is incompatible.\n",
      "sagemaker 2.199.0 requires urllib3<1.27, but you have urllib3 2.0.7 which is incompatible.\n",
      "spyder 5.3.3 requires ipython<8.0.0,>=7.31.1, but you have ipython 8.18.1 which is incompatible.\n",
      "spyder 5.3.3 requires pylint<3.0,>=2.5.0, but you have pylint 3.0.2 which is incompatible.\u001b[0m\u001b[31m\n",
      "\u001b[0mSuccessfully installed awswrangler-3.4.2 typing-extensions-4.9.0 urllib3-2.0.7\n",
      "\u001b[33mWARNING: Running pip as the 'root' user can result in broken permissions and conflicting behaviour with the system package manager. It is recommended to use a virtual environment instead: https://pip.pypa.io/warnings/venv\u001b[0m\u001b[33m\n",
      "\u001b[0m\n",
      "\u001b[1m[\u001b[0m\u001b[34;49mnotice\u001b[0m\u001b[1;39;49m]\u001b[0m\u001b[39;49m A new release of pip is available: \u001b[0m\u001b[31;49m23.3.1\u001b[0m\u001b[39;49m -> \u001b[0m\u001b[32;49m23.3.2\u001b[0m\n",
      "\u001b[1m[\u001b[0m\u001b[34;49mnotice\u001b[0m\u001b[1;39;49m]\u001b[0m\u001b[39;49m To update, run: \u001b[0m\u001b[32;49mpip install --upgrade pip\u001b[0m\n"
     ]
    }
   ],
   "source": [
    "!pip install awswrangler"
   ]
  },
  {
   "cell_type": "code",
   "execution_count": 3,
   "id": "458bb742-f92e-44fb-9090-30440f1bce4b",
   "metadata": {
    "tags": []
   },
   "outputs": [],
   "source": [
    "import pandas as pd\n",
    "import awswrangler as wr\n",
    "import numpy as np\n",
    "from unidecode import unidecode\n",
    "from itertools import combinations\n",
    "from datetime import date"
   ]
  },
  {
   "cell_type": "code",
   "execution_count": 4,
   "id": "3eb9ce2a-74f8-42e6-ba21-a004246b1371",
   "metadata": {
    "tags": []
   },
   "outputs": [],
   "source": [
    "def query(query, username):\n",
    "    \"\"\"Retorna df da consulta ao banco de dados\"\"\"\n",
    "    \n",
    "    from datetime import datetime\n",
    "    dt = datetime.today().strftime('%Y-%m-%d-%H-%M-%S-%f')\n",
    "    path = f\"s3://will-sdx-ml-platform-sagemaker-transient/{username}/{dt}\"\n",
    "\n",
    "    df = wr.athena.read_sql_query(query, \n",
    "    database=None, \n",
    "    ctas_approach=False, \n",
    "    s3_output=path)\n",
    "\n",
    "    return df"
   ]
  },
  {
   "cell_type": "code",
   "execution_count": 5,
   "id": "71b3c7ff-579b-4fc0-ad13-7229de2cd6d2",
   "metadata": {
    "tags": []
   },
   "outputs": [],
   "source": [
    "query_string = '''\n",
    "\n",
    "select\n",
    "\t id_cliente as id_customer\n",
    "\t,case\n",
    "\t\twhen est.ds_classificacao_nivel_2 = 'SERVICOS' then est.ds_classificacao_nivel_4\n",
    "\t\twhen est.ds_classificacao_nivel_2 = 'SUPERMERCADO' then est.ds_classificacao_nivel_3\n",
    "\t\twhen est.ds_classificacao_nivel_2 = 'LOJAS DE DEPARTAMENTO' then est.ds_classificacao_nivel_4\n",
    "\t\twhen est.ds_classificacao_nivel_2 = 'SERVICOS DE ALIMENTACAO' then est.ds_classificacao_nivel_3\n",
    "\t\twhen est.ds_classificacao_nivel_2 = 'MOBILIDADE' then est.ds_classificacao_nivel_4\n",
    "\t\twhen est.ds_classificacao_nivel_2 = 'E-COMMERCE' then est.ds_classificacao_nivel_3\n",
    "\t\twhen est.ds_classificacao_nivel_2 = 'SAUDE' then est.ds_classificacao_nivel_3\n",
    "\t\twhen est.ds_classificacao_nivel_2 is null then 'c_'||tra.ds_tipo_mov\n",
    "\t\twhen est.ds_classificacao_nivel_2 = '' then 'c_'||tra.ds_tipo_mov\n",
    "\t\telse est.ds_classificacao_nivel_2\n",
    "\tend as mcc\n",
    "\t, count(*) as frq_uso\n",
    "from\n",
    "\tbackoffice_curated_zone.transaction as tra\n",
    " inner join account_sandbox_zone.customer_amostra_crm_rec    as sel on (sel.id_customer = tra.id_cliente)\n",
    " left join customer_curated_zone.ca_dict_merchant_classifier as est\n",
    " \ton (tra.ds_nome_estabelecimento = est.ds_nome_estabelecimento)\n",
    " where\n",
    " \tdate(tra.dt_data) >= date('2023-12-12')\n",
    " \tand ds_empresa = 'Will'\n",
    " \t--and is_cancelamento = 'Nao'\n",
    "    --and tra.is_spending = 'Sim'\n",
    " \tand upper(ds_tipo_mov) in (\n",
    "    'ANTECIPACAO DE FATURA',\n",
    "    'ANTECIPAÇÃO FGTS - C CLIENTE',\n",
    "    'CASHBACK LOJA WILL',\n",
    "    'COMPRA A VISTA',\n",
    "    'COMPRA A VISTA INTER',\n",
    "    'COMPRA GIFT CARD LOJA WILL',\n",
    "    'COMPRA NO DEBITO',\n",
    "    'COMPRA PARC LOJ_PARC ASSOC',\n",
    "    'COMPRA PARCELADA EMISSOR INTERNO',\n",
    "    'CREDIT VOUCHER',\n",
    "    'CREDITO CASHBACK',\n",
    "    'CREDITO EM CONTA',\n",
    "    'CREDITO PARC FATURA',\n",
    "    'CREDITO POR TRANFERENCIA',\n",
    "    'DEPOSITO POR BOLETO',\n",
    "    'DESC ANTECIP COMPRA',\n",
    "    'DEVOLUÇÃO PIX',\n",
    "    'EMPRÉSTIMO PESSOAL',\n",
    "    'ENTRADA DE PARCELAMENTO',\n",
    "    'ENVIO PIX CREDITO',\n",
    "    'FATURA PENDENTE DE PAGAMENTO',\n",
    "    'MULTA POR ATRASO',\n",
    "    'PAG FATURA COM SALDO',\n",
    "    'PAGAMENTO BOLETO',\n",
    "    'PAGAMENTO DE TITULOS',\n",
    "    'PAGAMENTO EMPRÉSTIMO PESSOAL',\n",
    "    'PAGAMENTO FATURA',\n",
    "    'PAGAMENTO FGTS',\n",
    "    'PAGAMENTO PARCIAL',\n",
    "    'PAGAMENTO RECEBIDO',\n",
    "    'PAGTO DE TITULOS NO CREDITO',\n",
    "    'PARC. LOJISTA MC (5X)',\n",
    "    'PARCELAMENTO DE FATURA',\n",
    "    'PIX ENVIADO',\n",
    "    'PIX NO CREDITO',\n",
    "    'PIX RECEBIDO',\n",
    "    'RECARGA',\n",
    "    'RECARGA DE CELULAR',\n",
    "    'RECEBIDO VIA DOC',\n",
    "    'SAQUE',\n",
    "    'SAQUE REDE BANDEIRA',\n",
    "    'TED',\n",
    "    'TRANSFERENCIA DE SALDO',\n",
    "    'TRANSFERENCIA ENVIADA',\n",
    "    'TRANSFERENCIA RECEBIDA'\n",
    ")\n",
    " group by 1,2\n",
    "\n",
    "'''"
   ]
  },
  {
   "cell_type": "code",
   "execution_count": 6,
   "id": "850a2a6c-3e35-4f8d-ac7a-eeb67f93498a",
   "metadata": {
    "tags": []
   },
   "outputs": [],
   "source": [
    "transacoes = query(query_string, 'flavia-costa')"
   ]
  },
  {
   "cell_type": "code",
   "execution_count": 7,
   "id": "14d73664-e9ef-498c-aed0-c28ffcb3fef9",
   "metadata": {
    "tags": []
   },
   "outputs": [
    {
     "data": {
      "text/plain": [
       "(429903, 3)"
      ]
     },
     "execution_count": 7,
     "metadata": {},
     "output_type": "execute_result"
    }
   ],
   "source": [
    "transacoes.shape"
   ]
  },
  {
   "cell_type": "code",
   "execution_count": 8,
   "id": "0fe15e66-c3ff-44a6-b711-de0cbce803f5",
   "metadata": {
    "tags": []
   },
   "outputs": [],
   "source": [
    "# Contagem da recomendação estimada\n",
    "#col_est = df.filter(like='e_').columns"
   ]
  },
  {
   "cell_type": "code",
   "execution_count": 9,
   "id": "333e126d-8c00-49b5-9d9d-2d31cc884cc4",
   "metadata": {
    "tags": []
   },
   "outputs": [],
   "source": [
    "def padronizar_mcc(df, col):\n",
    "    df[col] =  df[col].str.upper() \\\n",
    "                    .apply(lambda x: unidecode(x)) \\\n",
    "                    .str.replace('- GERAL', '') \\\n",
    "                    .str.replace('- C CLIENTE', '') \\\n",
    "                    .apply(lambda x: x.rsplit('-', 1)[-1].strip()) \\\n",
    "                    .str.replace(' / ', '_') \\\n",
    "                    .str.replace(' ', '_')\n",
    "    \n",
    "    df[col] = np.where(df[col] == 'TELECOM', 'RECARGA', df[col])\n",
    "    df[col] = np.where(df[col] == 'NAO_ESPECIFICADO', 'SERVICOS', df[col])\n",
    "    df[col] = df[col].str.replace(r'.*EMPRESTIMO_PESSOAL.*', 'C_EMPRESTIMO_PESSOAL', regex=True)\n",
    "    df[col] = df[col].str.replace(r'.*SAQUE.*', 'C_SAQUE', regex=True)\n",
    "    df[col] = df[col].str.replace(r'.*COMPRA_A_VISTA.*', 'C_COMPRA_PARCELADA', regex=True)\n",
    "    df[col] = df[col].str.replace(r'.*_PARC.*', 'C_COMPRA_A_VISTA', regex=True)\n",
    "    df[col] = df[col].str.replace(r'.*FGTS.*', 'C_ANTECIPACAO_FGTS', regex=True)\n",
    "    df[col] = df[col].str.replace(r'.*RECARGA.*', 'RECARGA', regex=True)\n",
    "  \n",
    "  \n",
    "    return df"
   ]
  },
  {
   "cell_type": "code",
   "execution_count": 10,
   "id": "2b6b8ed6-90ce-43dc-9446-ac01f067f4cc",
   "metadata": {
    "tags": []
   },
   "outputs": [
    {
     "name": "stdout",
     "output_type": "stream",
     "text": [
      "(429073, 3) \n",
      " ========== \n",
      " ['C_MULTA_POR_ATRASO' 'C_PAGAMENTO_FATURA' 'C_PIX_RECEBIDO'\n",
      " 'C_COMPRA_NO_DEBITO' 'C_PIX_ENVIADO' 'C_TRANSFERENCIA_RECEBIDA'\n",
      " 'ENTRETENIMENTO' 'VAREJISTAS' 'MULTICATEGORIA' 'VESTUARIO'\n",
      " 'C_DEVOLUCAO_PIX' 'C_TRANSFERENCIA_ENVIADA' 'C_COMPRA_A_VISTA'\n",
      " 'DISTRIBUIDORES' 'LOJAS_ESPECIALIZADAS' 'EDUCACAO' 'C_EMPRESTIMO_PESSOAL'\n",
      " 'ELETRONICOS' 'RESTAURANTES' 'C_PAGAMENTO_BOLETO' 'RECARGA'\n",
      " 'APP_TRANSPORTE' 'ATACADISTA' 'BELEZA' 'DELIVERY' 'PADARIAS' 'TI'\n",
      " 'VIAGEM' 'C_PIX_NO_CREDITO' 'ARMARINHO' 'FARMACIAS_E_DROGARIAS'\n",
      " 'LANCHONETES' 'SERVICOS' 'FINANCAS' 'C_TRANSFERENCIA_DE_SALDO'\n",
      " 'COMBUSTIVEL' 'TAXIS' 'DENTISTAS' 'C_SAQUE' 'C_DEPOSITO_POR_BOLETO'\n",
      " 'C_ANTECIPACAO_FGTS' 'CONSULTA_CREDITO' 'SUPRIMENTOS_PARA_CASA'\n",
      " 'CONTABILIDADE_AUDITORIA_SEGUROS' 'C_CASHBACK_LOJA_WILL' 'ONIBUS'\n",
      " 'MANUTENCAO_AUTOMOTIVA' 'ACOUGUE' 'ESPORTIVO' 'MATERIAL_EQUIP_ESCRITORIO'\n",
      " 'C_CREDITO_POR_TRANFERENCIA' 'PET' 'ELETRICIDADE_GAS'\n",
      " 'REFORMAS_CONSTRUCAO' 'HOSPITAIS_OU_CLINICAS' 'REPAROS'\n",
      " 'OUTROS_TRANSP_PUBLICO' 'OTICAS' 'BICICLETA' 'ESTACIONAMENTOS'\n",
      " 'ACADEMIAS' 'ATIVIDADES_IMOBILIARIAS' 'COSMETICOS'\n",
      " 'C_PAGTO_DE_TITULOS_NO_CREDITO' 'ARQUITETURA_ENGENHARIA'\n",
      " 'PUBLICIDADE_ANUNCIOS' 'FOTOGRAFICOS' 'SEGURO' 'DELICATESSEN'\n",
      " 'BRINQUEDOS' 'ADVOCACIA' 'PEDAGIOS' 'DOACOES' 'C_CREDIT_VOUCHER'\n",
      " 'C_RECEBIDO_VIA_DOC' 'FUNERARIOS' 'SEGURANCA'\n",
      " 'C_COMPRA_GIFT_CARD_LOJA_WILL' 'LAVANDERIAS' 'EMPREGABILIDADE']\n"
     ]
    }
   ],
   "source": [
    "# Ajustes do campo de MCC\n",
    "#\n",
    "transacoes = padronizar_mcc(transacoes,'mcc')\n",
    "\n",
    "# Reagrupar os clintes\n",
    "#\n",
    "transacoes = transacoes.groupby([transacoes['id_customer'],transacoes['mcc']]).agg({'frq_uso':'sum'}).reset_index()\n",
    "\n",
    "print(transacoes.shape,\"\\n ========== \\n\", transacoes['mcc'].unique())"
   ]
  },
  {
   "cell_type": "code",
   "execution_count": 11,
   "id": "0f903f3c-a185-4e1f-911f-6c43aac57abf",
   "metadata": {
    "tags": []
   },
   "outputs": [
    {
     "data": {
      "text/html": [
       "<div>\n",
       "<style scoped>\n",
       "    .dataframe tbody tr th:only-of-type {\n",
       "        vertical-align: middle;\n",
       "    }\n",
       "\n",
       "    .dataframe tbody tr th {\n",
       "        vertical-align: top;\n",
       "    }\n",
       "\n",
       "    .dataframe thead th {\n",
       "        text-align: right;\n",
       "    }\n",
       "</style>\n",
       "<table border=\"1\" class=\"dataframe\">\n",
       "  <thead>\n",
       "    <tr style=\"text-align: right;\">\n",
       "      <th></th>\n",
       "      <th>id_customer</th>\n",
       "      <th>mcc</th>\n",
       "      <th>frq_uso</th>\n",
       "    </tr>\n",
       "  </thead>\n",
       "  <tbody>\n",
       "    <tr>\n",
       "      <th>0</th>\n",
       "      <td>0000073e-63eb-449d-8843-c96fcfd0e4c7</td>\n",
       "      <td>C_MULTA_POR_ATRASO</td>\n",
       "      <td>1</td>\n",
       "    </tr>\n",
       "    <tr>\n",
       "      <th>1</th>\n",
       "      <td>0000a9c3-df5c-4837-b3f4-27af8a3eee9e</td>\n",
       "      <td>C_PAGAMENTO_FATURA</td>\n",
       "      <td>1</td>\n",
       "    </tr>\n",
       "    <tr>\n",
       "      <th>2</th>\n",
       "      <td>0000a9c3-df5c-4837-b3f4-27af8a3eee9e</td>\n",
       "      <td>C_PIX_RECEBIDO</td>\n",
       "      <td>1</td>\n",
       "    </tr>\n",
       "    <tr>\n",
       "      <th>3</th>\n",
       "      <td>00011f3e-9b75-46a9-9a8c-e654d204db13</td>\n",
       "      <td>C_PAGAMENTO_FATURA</td>\n",
       "      <td>1</td>\n",
       "    </tr>\n",
       "    <tr>\n",
       "      <th>4</th>\n",
       "      <td>00011f3e-9b75-46a9-9a8c-e654d204db13</td>\n",
       "      <td>C_PIX_RECEBIDO</td>\n",
       "      <td>1</td>\n",
       "    </tr>\n",
       "  </tbody>\n",
       "</table>\n",
       "</div>"
      ],
      "text/plain": [
       "                            id_customer                 mcc  frq_uso\n",
       "0  0000073e-63eb-449d-8843-c96fcfd0e4c7  C_MULTA_POR_ATRASO        1\n",
       "1  0000a9c3-df5c-4837-b3f4-27af8a3eee9e  C_PAGAMENTO_FATURA        1\n",
       "2  0000a9c3-df5c-4837-b3f4-27af8a3eee9e      C_PIX_RECEBIDO        1\n",
       "3  00011f3e-9b75-46a9-9a8c-e654d204db13  C_PAGAMENTO_FATURA        1\n",
       "4  00011f3e-9b75-46a9-9a8c-e654d204db13      C_PIX_RECEBIDO        1"
      ]
     },
     "execution_count": 11,
     "metadata": {},
     "output_type": "execute_result"
    }
   ],
   "source": [
    "transacoes.head(5)"
   ]
  },
  {
   "cell_type": "code",
   "execution_count": 28,
   "id": "826e4973-0ebd-4687-a5d1-dcd718b3786e",
   "metadata": {
    "tags": []
   },
   "outputs": [
    {
     "data": {
      "text/plain": [
       "mcc\n",
       "C_PIX_RECEBIDO        113239\n",
       "C_PAGAMENTO_FATURA     90287\n",
       "C_PIX_ENVIADO          70951\n",
       "C_MULTA_POR_ATRASO     31199\n",
       "C_COMPRA_NO_DEBITO     24465\n",
       "VAREJISTAS              8921\n",
       "VESTUARIO               7315\n",
       "C_PAGAMENTO_BOLETO      6595\n",
       "RECARGA                 6415\n",
       "DISTRIBUIDORES          6023\n",
       "Name: count, dtype: int64"
      ]
     },
     "execution_count": 28,
     "metadata": {},
     "output_type": "execute_result"
    }
   ],
   "source": [
    "transacoes['mcc'].value_counts().head(10)"
   ]
  },
  {
   "cell_type": "code",
   "execution_count": 12,
   "id": "31d48283-f5c9-4048-afff-53e34d528ace",
   "metadata": {
    "tags": []
   },
   "outputs": [],
   "source": [
    "query_string2 = '''\n",
    "\n",
    "select * from \n",
    "customer_sandbox_zone.tb_crm_rec \n",
    "\n",
    "'''"
   ]
  },
  {
   "cell_type": "code",
   "execution_count": 13,
   "id": "dcf41407-1b09-4d4e-8042-3eba80cd37e1",
   "metadata": {
    "tags": []
   },
   "outputs": [],
   "source": [
    "recomend = query(query_string2, 'flavia-costa')"
   ]
  },
  {
   "cell_type": "code",
   "execution_count": 14,
   "id": "e9d37173-6cfe-420a-a65b-c5f554bfa45c",
   "metadata": {
    "tags": []
   },
   "outputs": [
    {
     "data": {
      "text/plain": [
       "(9356648, 17)"
      ]
     },
     "execution_count": 14,
     "metadata": {},
     "output_type": "execute_result"
    }
   ],
   "source": [
    "recomend.shape"
   ]
  },
  {
   "cell_type": "code",
   "execution_count": 15,
   "id": "90a70add-1857-45b0-a743-91a895590a7e",
   "metadata": {
    "tags": []
   },
   "outputs": [
    {
     "data": {
      "text/plain": [
       "Index(['id_customer', 'mcc', 'rec', 'lift', 'tempo_medio', 'day_last_order',\n",
       "       'vl_abs_order', 'vl_credit_limit', 'rank', 'order_geral', '1dom',\n",
       "       '2seg', '3ter', '4qua', '5qui', '6sex', '7sab'],\n",
       "      dtype='object')"
      ]
     },
     "execution_count": 15,
     "metadata": {},
     "output_type": "execute_result"
    }
   ],
   "source": [
    "recomend.columns"
   ]
  },
  {
   "cell_type": "code",
   "execution_count": 16,
   "id": "b5feadd4-d7cf-479d-84d1-dc6b4dcf3d5e",
   "metadata": {
    "tags": []
   },
   "outputs": [
    {
     "data": {
      "text/html": [
       "<div>\n",
       "<style scoped>\n",
       "    .dataframe tbody tr th:only-of-type {\n",
       "        vertical-align: middle;\n",
       "    }\n",
       "\n",
       "    .dataframe tbody tr th {\n",
       "        vertical-align: top;\n",
       "    }\n",
       "\n",
       "    .dataframe thead th {\n",
       "        text-align: right;\n",
       "    }\n",
       "</style>\n",
       "<table border=\"1\" class=\"dataframe\">\n",
       "  <thead>\n",
       "    <tr style=\"text-align: right;\">\n",
       "      <th></th>\n",
       "      <th>id_customer</th>\n",
       "      <th>mcc</th>\n",
       "      <th>rec</th>\n",
       "      <th>lift</th>\n",
       "      <th>tempo_medio</th>\n",
       "      <th>day_last_order</th>\n",
       "      <th>vl_abs_order</th>\n",
       "      <th>vl_credit_limit</th>\n",
       "      <th>rank</th>\n",
       "      <th>order_geral</th>\n",
       "      <th>1dom</th>\n",
       "      <th>2seg</th>\n",
       "      <th>3ter</th>\n",
       "      <th>4qua</th>\n",
       "      <th>5qui</th>\n",
       "      <th>6sex</th>\n",
       "      <th>7sab</th>\n",
       "    </tr>\n",
       "  </thead>\n",
       "  <tbody>\n",
       "    <tr>\n",
       "      <th>0</th>\n",
       "      <td>c8c01df9-8fd2-4611-990a-980d4a522a26</td>\n",
       "      <td>OTICAS</td>\n",
       "      <td>True</td>\n",
       "      <td>3.794432</td>\n",
       "      <td>51.0</td>\n",
       "      <td>70.0</td>\n",
       "      <td>290.000</td>\n",
       "      <td>560.0</td>\n",
       "      <td>0.04596</td>\n",
       "      <td>3.0</td>\n",
       "      <td>4.0</td>\n",
       "      <td>4.0</td>\n",
       "      <td>3.0</td>\n",
       "      <td>4.0</td>\n",
       "      <td>3.0</td>\n",
       "      <td>3.0</td>\n",
       "      <td>6.0</td>\n",
       "    </tr>\n",
       "    <tr>\n",
       "      <th>1</th>\n",
       "      <td>c8c01df9-8fd2-4611-990a-980d4a522a26</td>\n",
       "      <td>LOJAS_ESPECIALIZADAS</td>\n",
       "      <td>True</td>\n",
       "      <td>1.824029</td>\n",
       "      <td>33.0</td>\n",
       "      <td>194.0</td>\n",
       "      <td>389.030</td>\n",
       "      <td>560.0</td>\n",
       "      <td>0.04424</td>\n",
       "      <td>4.0</td>\n",
       "      <td>2.0</td>\n",
       "      <td>2.0</td>\n",
       "      <td>1.0</td>\n",
       "      <td>1.0</td>\n",
       "      <td>1.0</td>\n",
       "      <td>9.0</td>\n",
       "      <td>9.0</td>\n",
       "    </tr>\n",
       "    <tr>\n",
       "      <th>2</th>\n",
       "      <td>c8c01df9-8fd2-4611-990a-980d4a522a26</td>\n",
       "      <td>ESPORTIVO</td>\n",
       "      <td>True</td>\n",
       "      <td>6.813417</td>\n",
       "      <td>47.0</td>\n",
       "      <td>70.0</td>\n",
       "      <td>172.000</td>\n",
       "      <td>560.0</td>\n",
       "      <td>0.04097</td>\n",
       "      <td>5.0</td>\n",
       "      <td>10.0</td>\n",
       "      <td>8.0</td>\n",
       "      <td>9.0</td>\n",
       "      <td>6.0</td>\n",
       "      <td>8.0</td>\n",
       "      <td>4.0</td>\n",
       "      <td>3.0</td>\n",
       "    </tr>\n",
       "    <tr>\n",
       "      <th>3</th>\n",
       "      <td>c8c01df9-8fd2-4611-990a-980d4a522a26</td>\n",
       "      <td>C_COMPRA_PARCELADA</td>\n",
       "      <td>True</td>\n",
       "      <td>2.721247</td>\n",
       "      <td>61.0</td>\n",
       "      <td>70.0</td>\n",
       "      <td>284.875</td>\n",
       "      <td>560.0</td>\n",
       "      <td>0.03744</td>\n",
       "      <td>6.0</td>\n",
       "      <td>1.0</td>\n",
       "      <td>1.0</td>\n",
       "      <td>2.0</td>\n",
       "      <td>5.0</td>\n",
       "      <td>5.0</td>\n",
       "      <td>10.0</td>\n",
       "      <td>10.0</td>\n",
       "    </tr>\n",
       "    <tr>\n",
       "      <th>4</th>\n",
       "      <td>c8c01df9-8fd2-4611-990a-980d4a522a26</td>\n",
       "      <td>MANUTENCAO_AUTOMOTIVA</td>\n",
       "      <td>True</td>\n",
       "      <td>3.528423</td>\n",
       "      <td>50.0</td>\n",
       "      <td>70.0</td>\n",
       "      <td>140.000</td>\n",
       "      <td>560.0</td>\n",
       "      <td>0.03137</td>\n",
       "      <td>7.0</td>\n",
       "      <td>5.0</td>\n",
       "      <td>7.0</td>\n",
       "      <td>6.0</td>\n",
       "      <td>7.0</td>\n",
       "      <td>6.0</td>\n",
       "      <td>6.0</td>\n",
       "      <td>8.0</td>\n",
       "    </tr>\n",
       "  </tbody>\n",
       "</table>\n",
       "</div>"
      ],
      "text/plain": [
       "                            id_customer                    mcc   rec  \\\n",
       "0  c8c01df9-8fd2-4611-990a-980d4a522a26                 OTICAS  True   \n",
       "1  c8c01df9-8fd2-4611-990a-980d4a522a26   LOJAS_ESPECIALIZADAS  True   \n",
       "2  c8c01df9-8fd2-4611-990a-980d4a522a26              ESPORTIVO  True   \n",
       "3  c8c01df9-8fd2-4611-990a-980d4a522a26     C_COMPRA_PARCELADA  True   \n",
       "4  c8c01df9-8fd2-4611-990a-980d4a522a26  MANUTENCAO_AUTOMOTIVA  True   \n",
       "\n",
       "       lift  tempo_medio  day_last_order  vl_abs_order  vl_credit_limit  \\\n",
       "0  3.794432         51.0            70.0       290.000            560.0   \n",
       "1  1.824029         33.0           194.0       389.030            560.0   \n",
       "2  6.813417         47.0            70.0       172.000            560.0   \n",
       "3  2.721247         61.0            70.0       284.875            560.0   \n",
       "4  3.528423         50.0            70.0       140.000            560.0   \n",
       "\n",
       "      rank  order_geral  1dom  2seg  3ter  4qua  5qui  6sex  7sab  \n",
       "0  0.04596          3.0   4.0   4.0   3.0   4.0   3.0   3.0   6.0  \n",
       "1  0.04424          4.0   2.0   2.0   1.0   1.0   1.0   9.0   9.0  \n",
       "2  0.04097          5.0  10.0   8.0   9.0   6.0   8.0   4.0   3.0  \n",
       "3  0.03744          6.0   1.0   1.0   2.0   5.0   5.0  10.0  10.0  \n",
       "4  0.03137          7.0   5.0   7.0   6.0   7.0   6.0   6.0   8.0  "
      ]
     },
     "execution_count": 16,
     "metadata": {},
     "output_type": "execute_result"
    }
   ],
   "source": [
    "recomend.head()"
   ]
  },
  {
   "cell_type": "code",
   "execution_count": 17,
   "id": "ebeb3ec4-ee77-49af-8579-8eb733eaed83",
   "metadata": {
    "tags": []
   },
   "outputs": [
    {
     "name": "stdout",
     "output_type": "stream",
     "text": [
      "<StringArray>\n",
      "[                         'OTICAS',            'LOJAS_ESPECIALIZADAS',\n",
      "                       'ESPORTIVO',              'C_COMPRA_PARCELADA',\n",
      "           'MANUTENCAO_AUTOMOTIVA',                       'ACADEMIAS',\n",
      "           'SUPRIMENTOS_PARA_CASA',                          'SEGURO',\n",
      "   'C_PAGTO_DE_TITULOS_NO_CREDITO',                'C_PIX_NO_CREDITO',\n",
      "                'ELETRICIDADE_GAS',                             'PET',\n",
      "                      'VAREJISTAS',                        'SERVICOS',\n",
      "             'REFORMAS_CONSTRUCAO',                         'REPAROS',\n",
      "                       'BICICLETA',                         'ACOUGUE',\n",
      " 'CONTABILIDADE_AUDITORIA_SEGUROS',                        'PADARIAS',\n",
      "                  'DISTRIBUIDORES',            'PUBLICIDADE_ANUNCIOS',\n",
      "           'HOSPITAIS_OU_CLINICAS',                     'ELETRONICOS',\n",
      "       'MATERIAL_EQUIP_ESCRITORIO',                 'ESTACIONAMENTOS',\n",
      "              'C_ANTECIPACAO_FGTS',                       'VESTUARIO',\n",
      "              'C_COMPRA_NO_DEBITO',                    'DELICATESSEN',\n",
      "            'C_EMPRESTIMO_PESSOAL',                        'EDUCACAO',\n",
      "           'FARMACIAS_E_DROGARIAS',                  'MULTICATEGORIA',\n",
      "                          'BELEZA',                       'ARMARINHO',\n",
      "                          'ONIBUS',                          'VIAGEM',\n",
      "                        'FINANCAS',                  'ENTRETENIMENTO',\n",
      "                           'TAXIS',                      'ATACADISTA',\n",
      "                         'RECARGA',                              'TI',\n",
      "                     'COMBUSTIVEL',                    'RESTAURANTES',\n",
      "                      'COSMETICOS',           'C_DEPOSITO_POR_BOLETO',\n",
      "                     'LANCHONETES',           'OUTROS_TRANSP_PUBLICO',\n",
      "                        'DELIVERY',                  'APP_TRANSPORTE',\n",
      "                         'C_SAQUE']\n",
      "Length: 53, dtype: string\n"
     ]
    }
   ],
   "source": [
    "print(recomend['mcc'].unique())"
   ]
  },
  {
   "cell_type": "code",
   "execution_count": 19,
   "id": "4a78cad8-489c-4be7-89cb-c89e8a0e448c",
   "metadata": {
    "tags": []
   },
   "outputs": [],
   "source": [
    "recomend_top5 = recomend.query('order_geral <= 5')"
   ]
  },
  {
   "cell_type": "code",
   "execution_count": 20,
   "id": "ab0fd0a4-f1d9-441c-9066-569e8512af44",
   "metadata": {
    "tags": []
   },
   "outputs": [
    {
     "data": {
      "text/plain": [
       "mcc\n",
       "C_PAGTO_DE_TITULOS_NO_CREDITO      806238\n",
       "C_EMPRESTIMO_PESSOAL               658230\n",
       "C_COMPRA_PARCELADA                 343563\n",
       "C_PIX_NO_CREDITO                   303979\n",
       "LOJAS_ESPECIALIZADAS               237687\n",
       "OTICAS                             232453\n",
       "C_DEPOSITO_POR_BOLETO              148682\n",
       "MULTICATEGORIA                     143638\n",
       "MANUTENCAO_AUTOMOTIVA              141380\n",
       "FINANCAS                           136686\n",
       "C_ANTECIPACAO_FGTS                 130955\n",
       "HOSPITAIS_OU_CLINICAS              130159\n",
       "COSMETICOS                         125423\n",
       "RECARGA                            119910\n",
       "EDUCACAO                           113777\n",
       "DISTRIBUIDORES                     107405\n",
       "BICICLETA                          105120\n",
       "ELETRICIDADE_GAS                    80539\n",
       "VESTUARIO                           78888\n",
       "ESPORTIVO                           76439\n",
       "BELEZA                              72934\n",
       "VIAGEM                              72754\n",
       "REPAROS                             71734\n",
       "VAREJISTAS                          64401\n",
       "SUPRIMENTOS_PARA_CASA               63387\n",
       "C_COMPRA_NO_DEBITO                  61575\n",
       "ACADEMIAS                           55031\n",
       "SEGURO                              50132\n",
       "ATACADISTA                          48991\n",
       "REFORMAS_CONSTRUCAO                 48636\n",
       "PUBLICIDADE_ANUNCIOS                41907\n",
       "SERVICOS                            38835\n",
       "ARMARINHO                           37825\n",
       "TI                                  34778\n",
       "ACOUGUE                             32376\n",
       "LANCHONETES                         32040\n",
       "ONIBUS                              31262\n",
       "ELETRONICOS                         26921\n",
       "ENTRETENIMENTO                      25819\n",
       "MATERIAL_EQUIP_ESCRITORIO           24632\n",
       "COMBUSTIVEL                         24146\n",
       "FARMACIAS_E_DROGARIAS               23919\n",
       "DELIVERY                            23224\n",
       "PET                                 21367\n",
       "DELICATESSEN                        20833\n",
       "TAXIS                               18195\n",
       "OUTROS_TRANSP_PUBLICO               17621\n",
       "APP_TRANSPORTE                      16156\n",
       "CONTABILIDADE_AUDITORIA_SEGUROS     15047\n",
       "RESTAURANTES                        14146\n",
       "PADARIAS                             8186\n",
       "ESTACIONAMENTOS                      4064\n",
       "C_SAQUE                               599\n",
       "Name: count, dtype: Int64"
      ]
     },
     "execution_count": 20,
     "metadata": {},
     "output_type": "execute_result"
    }
   ],
   "source": [
    "recomend_top5['mcc'].value_counts()"
   ]
  },
  {
   "cell_type": "code",
   "execution_count": 56,
   "id": "5b8a10cf-aede-4046-852b-36d560226a09",
   "metadata": {
    "tags": []
   },
   "outputs": [
    {
     "data": {
      "text/plain": [
       "1264400"
      ]
     },
     "execution_count": 56,
     "metadata": {},
     "output_type": "execute_result"
    }
   ],
   "source": [
    "len(recomend_top5['id_customer'].unique())"
   ]
  },
  {
   "cell_type": "code",
   "execution_count": 24,
   "id": "2802238d-1eea-4c53-97a2-df973881609b",
   "metadata": {
    "tags": []
   },
   "outputs": [],
   "source": [
    "recomend_top5 = recomend_top5.rename(columns = {'mcc':'mcc_recom'})"
   ]
  },
  {
   "cell_type": "code",
   "execution_count": 25,
   "id": "e332b059-f3f9-4b93-af7b-fc5b62664396",
   "metadata": {
    "tags": []
   },
   "outputs": [],
   "source": [
    "join = recomend_top5[['id_customer', 'mcc_recom']].join(transacoes.set_index('id_customer'), on = 'id_customer', how = 'inner')"
   ]
  },
  {
   "cell_type": "code",
   "execution_count": 26,
   "id": "e987ab29-fa16-4256-90a3-c62c7eb9d95f",
   "metadata": {
    "tags": []
   },
   "outputs": [
    {
     "data": {
      "text/html": [
       "<div>\n",
       "<style scoped>\n",
       "    .dataframe tbody tr th:only-of-type {\n",
       "        vertical-align: middle;\n",
       "    }\n",
       "\n",
       "    .dataframe tbody tr th {\n",
       "        vertical-align: top;\n",
       "    }\n",
       "\n",
       "    .dataframe thead th {\n",
       "        text-align: right;\n",
       "    }\n",
       "</style>\n",
       "<table border=\"1\" class=\"dataframe\">\n",
       "  <thead>\n",
       "    <tr style=\"text-align: right;\">\n",
       "      <th></th>\n",
       "      <th>id_customer</th>\n",
       "      <th>mcc_recom</th>\n",
       "      <th>mcc</th>\n",
       "      <th>frq_uso</th>\n",
       "    </tr>\n",
       "  </thead>\n",
       "  <tbody>\n",
       "    <tr>\n",
       "      <th>123</th>\n",
       "      <td>c8c0d6df-c880-47dc-b8c3-a551919b0f5f</td>\n",
       "      <td>C_EMPRESTIMO_PESSOAL</td>\n",
       "      <td>C_PAGAMENTO_FATURA</td>\n",
       "      <td>1</td>\n",
       "    </tr>\n",
       "    <tr>\n",
       "      <th>123</th>\n",
       "      <td>c8c0d6df-c880-47dc-b8c3-a551919b0f5f</td>\n",
       "      <td>C_EMPRESTIMO_PESSOAL</td>\n",
       "      <td>C_PIX_RECEBIDO</td>\n",
       "      <td>2</td>\n",
       "    </tr>\n",
       "    <tr>\n",
       "      <th>124</th>\n",
       "      <td>c8c0d6df-c880-47dc-b8c3-a551919b0f5f</td>\n",
       "      <td>ELETRICIDADE_GAS</td>\n",
       "      <td>C_PAGAMENTO_FATURA</td>\n",
       "      <td>1</td>\n",
       "    </tr>\n",
       "    <tr>\n",
       "      <th>124</th>\n",
       "      <td>c8c0d6df-c880-47dc-b8c3-a551919b0f5f</td>\n",
       "      <td>ELETRICIDADE_GAS</td>\n",
       "      <td>C_PIX_RECEBIDO</td>\n",
       "      <td>2</td>\n",
       "    </tr>\n",
       "    <tr>\n",
       "      <th>125</th>\n",
       "      <td>c8c0d6df-c880-47dc-b8c3-a551919b0f5f</td>\n",
       "      <td>LOJAS_ESPECIALIZADAS</td>\n",
       "      <td>C_PAGAMENTO_FATURA</td>\n",
       "      <td>1</td>\n",
       "    </tr>\n",
       "  </tbody>\n",
       "</table>\n",
       "</div>"
      ],
      "text/plain": [
       "                              id_customer             mcc_recom  \\\n",
       "123  c8c0d6df-c880-47dc-b8c3-a551919b0f5f  C_EMPRESTIMO_PESSOAL   \n",
       "123  c8c0d6df-c880-47dc-b8c3-a551919b0f5f  C_EMPRESTIMO_PESSOAL   \n",
       "124  c8c0d6df-c880-47dc-b8c3-a551919b0f5f      ELETRICIDADE_GAS   \n",
       "124  c8c0d6df-c880-47dc-b8c3-a551919b0f5f      ELETRICIDADE_GAS   \n",
       "125  c8c0d6df-c880-47dc-b8c3-a551919b0f5f  LOJAS_ESPECIALIZADAS   \n",
       "\n",
       "                    mcc  frq_uso  \n",
       "123  C_PAGAMENTO_FATURA        1  \n",
       "123      C_PIX_RECEBIDO        2  \n",
       "124  C_PAGAMENTO_FATURA        1  \n",
       "124      C_PIX_RECEBIDO        2  \n",
       "125  C_PAGAMENTO_FATURA        1  "
      ]
     },
     "execution_count": 26,
     "metadata": {},
     "output_type": "execute_result"
    }
   ],
   "source": [
    "join.head()"
   ]
  },
  {
   "cell_type": "code",
   "execution_count": 46,
   "id": "53a2920c-ba2a-48b5-a9b2-55d1382faa73",
   "metadata": {
    "tags": []
   },
   "outputs": [
    {
     "data": {
      "text/html": [
       "<div>\n",
       "<style scoped>\n",
       "    .dataframe tbody tr th:only-of-type {\n",
       "        vertical-align: middle;\n",
       "    }\n",
       "\n",
       "    .dataframe tbody tr th {\n",
       "        vertical-align: top;\n",
       "    }\n",
       "\n",
       "    .dataframe thead th {\n",
       "        text-align: right;\n",
       "    }\n",
       "</style>\n",
       "<table border=\"1\" class=\"dataframe\">\n",
       "  <thead>\n",
       "    <tr style=\"text-align: right;\">\n",
       "      <th></th>\n",
       "      <th>id_customer</th>\n",
       "    </tr>\n",
       "    <tr>\n",
       "      <th>mcc</th>\n",
       "      <th></th>\n",
       "    </tr>\n",
       "  </thead>\n",
       "  <tbody>\n",
       "    <tr>\n",
       "      <th>C_PIX_RECEBIDO</th>\n",
       "      <td>268326</td>\n",
       "    </tr>\n",
       "    <tr>\n",
       "      <th>C_PAGAMENTO_FATURA</th>\n",
       "      <td>212211</td>\n",
       "    </tr>\n",
       "    <tr>\n",
       "      <th>C_PIX_ENVIADO</th>\n",
       "      <td>188213</td>\n",
       "    </tr>\n",
       "    <tr>\n",
       "      <th>C_COMPRA_NO_DEBITO</th>\n",
       "      <td>82432</td>\n",
       "    </tr>\n",
       "    <tr>\n",
       "      <th>C_MULTA_POR_ATRASO</th>\n",
       "      <td>41646</td>\n",
       "    </tr>\n",
       "    <tr>\n",
       "      <th>VAREJISTAS</th>\n",
       "      <td>29013</td>\n",
       "    </tr>\n",
       "    <tr>\n",
       "      <th>VESTUARIO</th>\n",
       "      <td>22127</td>\n",
       "    </tr>\n",
       "    <tr>\n",
       "      <th>RECARGA</th>\n",
       "      <td>20258</td>\n",
       "    </tr>\n",
       "    <tr>\n",
       "      <th>C_PAGAMENTO_BOLETO</th>\n",
       "      <td>19568</td>\n",
       "    </tr>\n",
       "    <tr>\n",
       "      <th>DISTRIBUIDORES</th>\n",
       "      <td>19006</td>\n",
       "    </tr>\n",
       "  </tbody>\n",
       "</table>\n",
       "</div>"
      ],
      "text/plain": [
       "                    id_customer\n",
       "mcc                            \n",
       "C_PIX_RECEBIDO           268326\n",
       "C_PAGAMENTO_FATURA       212211\n",
       "C_PIX_ENVIADO            188213\n",
       "C_COMPRA_NO_DEBITO        82432\n",
       "C_MULTA_POR_ATRASO        41646\n",
       "VAREJISTAS                29013\n",
       "VESTUARIO                 22127\n",
       "RECARGA                   20258\n",
       "C_PAGAMENTO_BOLETO        19568\n",
       "DISTRIBUIDORES            19006"
      ]
     },
     "execution_count": 46,
     "metadata": {},
     "output_type": "execute_result"
    }
   ],
   "source": [
    "join.groupby('mcc').agg({'id_customer':'count'}).sort_values('id_customer', ascending = False).head(10)"
   ]
  },
  {
   "cell_type": "code",
   "execution_count": 54,
   "id": "74799b67-ba53-4680-aa4a-19a9a4ef3d43",
   "metadata": {
    "tags": []
   },
   "outputs": [],
   "source": [
    "#Filtrei o top 5 de transações que também possuem recomendação\n",
    "top_5_geral = ['C_COMPRA_NO_DEBITO', 'C_PAGAMENTO_BOLETO', 'VAREJISTAS', 'VESTUARIO', 'RECARGA']"
   ]
  },
  {
   "cell_type": "code",
   "execution_count": 55,
   "id": "3673a7e2-97bc-4286-b34d-fe86f1416129",
   "metadata": {
    "tags": []
   },
   "outputs": [
    {
     "data": {
      "text/plain": [
       "28471"
      ]
     },
     "execution_count": 55,
     "metadata": {},
     "output_type": "execute_result"
    }
   ],
   "source": [
    "len(join[join['mcc'].isin(top_5_geral)]['id_customer'].unique())"
   ]
  },
  {
   "cell_type": "code",
   "execution_count": 33,
   "id": "b2e914e9-471a-4783-9d48-f97e2475406b",
   "metadata": {
    "tags": []
   },
   "outputs": [
    {
     "data": {
      "text/plain": [
       "7096"
      ]
     },
     "execution_count": 33,
     "metadata": {},
     "output_type": "execute_result"
    }
   ],
   "source": [
    "len(join[join['mcc'] == join['mcc_recom']]['id_customer'].unique())"
   ]
  },
  {
   "cell_type": "code",
   "execution_count": 58,
   "id": "8b32ef90-402e-432c-a547-031ec5bfed29",
   "metadata": {
    "tags": []
   },
   "outputs": [],
   "source": [
    "conversao = pd.DataFrame()\n",
    "\n",
    "for i in recomend['mcc'].unique():\n",
    "    join['flag_recom'] = np.where(join['mcc_recom'] == i, 1, 0)\n",
    "    join['flag_transacao'] = np.where(join['mcc'] == i, 1, 0)\n",
    "    conversao_tmp = join.groupby('id_customer').agg({'flag_recom':'max', 'flag_transacao':'max'})\n",
    "    conversao_tmp = conversao_tmp.reset_index()\n",
    "    conversao_tmp.columns = ['id_customer', 'flag_recom', 'flag_transacao']\n",
    "    conversao_tmp = conversao_tmp.groupby('flag_recom').agg({'id_customer':'count', 'flag_transacao':'sum'})\n",
    "    conversao_tmp = conversao_tmp.reset_index()\n",
    "    conversao_tmp.columns = ['flag_recom', 'clientes', 'conversao']\n",
    "    conversao_tmp['conversao_perc'] = conversao_tmp['conversao'] / conversao_tmp['clientes']\n",
    "    conversao_tmp['categoria'] = i\n",
    "    conversao = pd.concat([conversao, pd.DataFrame(conversao_tmp)], ignore_index=True)\n",
    "    "
   ]
  },
  {
   "cell_type": "code",
   "execution_count": 59,
   "id": "b2b367d3-a266-4467-8200-25ba8b4b5bf8",
   "metadata": {
    "tags": []
   },
   "outputs": [
    {
     "data": {
      "text/html": [
       "<div>\n",
       "<style scoped>\n",
       "    .dataframe tbody tr th:only-of-type {\n",
       "        vertical-align: middle;\n",
       "    }\n",
       "\n",
       "    .dataframe tbody tr th {\n",
       "        vertical-align: top;\n",
       "    }\n",
       "\n",
       "    .dataframe thead th {\n",
       "        text-align: right;\n",
       "    }\n",
       "</style>\n",
       "<table border=\"1\" class=\"dataframe\">\n",
       "  <thead>\n",
       "    <tr style=\"text-align: right;\">\n",
       "      <th></th>\n",
       "      <th>flag_recom</th>\n",
       "      <th>clientes</th>\n",
       "      <th>conversao</th>\n",
       "      <th>conversao_perc</th>\n",
       "      <th>categoria</th>\n",
       "    </tr>\n",
       "  </thead>\n",
       "  <tbody>\n",
       "    <tr>\n",
       "      <th>0</th>\n",
       "      <td>0</td>\n",
       "      <td>58280</td>\n",
       "      <td>86</td>\n",
       "      <td>0.001476</td>\n",
       "      <td>OTICAS</td>\n",
       "    </tr>\n",
       "    <tr>\n",
       "      <th>1</th>\n",
       "      <td>1</td>\n",
       "      <td>14090</td>\n",
       "      <td>28</td>\n",
       "      <td>0.001987</td>\n",
       "      <td>OTICAS</td>\n",
       "    </tr>\n",
       "    <tr>\n",
       "      <th>2</th>\n",
       "      <td>0</td>\n",
       "      <td>60019</td>\n",
       "      <td>970</td>\n",
       "      <td>0.016162</td>\n",
       "      <td>LOJAS_ESPECIALIZADAS</td>\n",
       "    </tr>\n",
       "    <tr>\n",
       "      <th>3</th>\n",
       "      <td>1</td>\n",
       "      <td>12351</td>\n",
       "      <td>264</td>\n",
       "      <td>0.021375</td>\n",
       "      <td>LOJAS_ESPECIALIZADAS</td>\n",
       "    </tr>\n",
       "    <tr>\n",
       "      <th>4</th>\n",
       "      <td>0</td>\n",
       "      <td>67962</td>\n",
       "      <td>72</td>\n",
       "      <td>0.001059</td>\n",
       "      <td>ESPORTIVO</td>\n",
       "    </tr>\n",
       "    <tr>\n",
       "      <th>...</th>\n",
       "      <td>...</td>\n",
       "      <td>...</td>\n",
       "      <td>...</td>\n",
       "      <td>...</td>\n",
       "      <td>...</td>\n",
       "    </tr>\n",
       "    <tr>\n",
       "      <th>101</th>\n",
       "      <td>1</td>\n",
       "      <td>997</td>\n",
       "      <td>17</td>\n",
       "      <td>0.017051</td>\n",
       "      <td>DELIVERY</td>\n",
       "    </tr>\n",
       "    <tr>\n",
       "      <th>102</th>\n",
       "      <td>0</td>\n",
       "      <td>71729</td>\n",
       "      <td>1436</td>\n",
       "      <td>0.020020</td>\n",
       "      <td>APP_TRANSPORTE</td>\n",
       "    </tr>\n",
       "    <tr>\n",
       "      <th>103</th>\n",
       "      <td>1</td>\n",
       "      <td>641</td>\n",
       "      <td>19</td>\n",
       "      <td>0.029641</td>\n",
       "      <td>APP_TRANSPORTE</td>\n",
       "    </tr>\n",
       "    <tr>\n",
       "      <th>104</th>\n",
       "      <td>0</td>\n",
       "      <td>72343</td>\n",
       "      <td>569</td>\n",
       "      <td>0.007865</td>\n",
       "      <td>C_SAQUE</td>\n",
       "    </tr>\n",
       "    <tr>\n",
       "      <th>105</th>\n",
       "      <td>1</td>\n",
       "      <td>27</td>\n",
       "      <td>3</td>\n",
       "      <td>0.111111</td>\n",
       "      <td>C_SAQUE</td>\n",
       "    </tr>\n",
       "  </tbody>\n",
       "</table>\n",
       "<p>106 rows × 5 columns</p>\n",
       "</div>"
      ],
      "text/plain": [
       "     flag_recom  clientes  conversao  conversao_perc             categoria\n",
       "0             0     58280         86        0.001476                OTICAS\n",
       "1             1     14090         28        0.001987                OTICAS\n",
       "2             0     60019        970        0.016162  LOJAS_ESPECIALIZADAS\n",
       "3             1     12351        264        0.021375  LOJAS_ESPECIALIZADAS\n",
       "4             0     67962         72        0.001059             ESPORTIVO\n",
       "..          ...       ...        ...             ...                   ...\n",
       "101           1       997         17        0.017051              DELIVERY\n",
       "102           0     71729       1436        0.020020        APP_TRANSPORTE\n",
       "103           1       641         19        0.029641        APP_TRANSPORTE\n",
       "104           0     72343        569        0.007865               C_SAQUE\n",
       "105           1        27          3        0.111111               C_SAQUE\n",
       "\n",
       "[106 rows x 5 columns]"
      ]
     },
     "execution_count": 59,
     "metadata": {},
     "output_type": "execute_result"
    }
   ],
   "source": [
    "conversao"
   ]
  },
  {
   "cell_type": "code",
   "execution_count": 60,
   "id": "986f5648-6d8d-4b35-bcb4-ad8965169b84",
   "metadata": {
    "tags": []
   },
   "outputs": [],
   "source": [
    "conversao.to_csv('conversao.csv')"
   ]
  }
 ],
 "metadata": {
  "availableInstances": [
   {
    "_defaultOrder": 0,
    "_isFastLaunch": true,
    "category": "General purpose",
    "gpuNum": 0,
    "hideHardwareSpecs": false,
    "memoryGiB": 4,
    "name": "ml.t3.medium",
    "vcpuNum": 2
   },
   {
    "_defaultOrder": 1,
    "_isFastLaunch": false,
    "category": "General purpose",
    "gpuNum": 0,
    "hideHardwareSpecs": false,
    "memoryGiB": 8,
    "name": "ml.t3.large",
    "vcpuNum": 2
   },
   {
    "_defaultOrder": 2,
    "_isFastLaunch": false,
    "category": "General purpose",
    "gpuNum": 0,
    "hideHardwareSpecs": false,
    "memoryGiB": 16,
    "name": "ml.t3.xlarge",
    "vcpuNum": 4
   },
   {
    "_defaultOrder": 3,
    "_isFastLaunch": false,
    "category": "General purpose",
    "gpuNum": 0,
    "hideHardwareSpecs": false,
    "memoryGiB": 32,
    "name": "ml.t3.2xlarge",
    "vcpuNum": 8
   },
   {
    "_defaultOrder": 4,
    "_isFastLaunch": true,
    "category": "General purpose",
    "gpuNum": 0,
    "hideHardwareSpecs": false,
    "memoryGiB": 8,
    "name": "ml.m5.large",
    "vcpuNum": 2
   },
   {
    "_defaultOrder": 5,
    "_isFastLaunch": false,
    "category": "General purpose",
    "gpuNum": 0,
    "hideHardwareSpecs": false,
    "memoryGiB": 16,
    "name": "ml.m5.xlarge",
    "vcpuNum": 4
   },
   {
    "_defaultOrder": 6,
    "_isFastLaunch": false,
    "category": "General purpose",
    "gpuNum": 0,
    "hideHardwareSpecs": false,
    "memoryGiB": 32,
    "name": "ml.m5.2xlarge",
    "vcpuNum": 8
   },
   {
    "_defaultOrder": 7,
    "_isFastLaunch": false,
    "category": "General purpose",
    "gpuNum": 0,
    "hideHardwareSpecs": false,
    "memoryGiB": 64,
    "name": "ml.m5.4xlarge",
    "vcpuNum": 16
   },
   {
    "_defaultOrder": 8,
    "_isFastLaunch": false,
    "category": "General purpose",
    "gpuNum": 0,
    "hideHardwareSpecs": false,
    "memoryGiB": 128,
    "name": "ml.m5.8xlarge",
    "vcpuNum": 32
   },
   {
    "_defaultOrder": 9,
    "_isFastLaunch": false,
    "category": "General purpose",
    "gpuNum": 0,
    "hideHardwareSpecs": false,
    "memoryGiB": 192,
    "name": "ml.m5.12xlarge",
    "vcpuNum": 48
   },
   {
    "_defaultOrder": 10,
    "_isFastLaunch": false,
    "category": "General purpose",
    "gpuNum": 0,
    "hideHardwareSpecs": false,
    "memoryGiB": 256,
    "name": "ml.m5.16xlarge",
    "vcpuNum": 64
   },
   {
    "_defaultOrder": 11,
    "_isFastLaunch": false,
    "category": "General purpose",
    "gpuNum": 0,
    "hideHardwareSpecs": false,
    "memoryGiB": 384,
    "name": "ml.m5.24xlarge",
    "vcpuNum": 96
   },
   {
    "_defaultOrder": 12,
    "_isFastLaunch": false,
    "category": "General purpose",
    "gpuNum": 0,
    "hideHardwareSpecs": false,
    "memoryGiB": 8,
    "name": "ml.m5d.large",
    "vcpuNum": 2
   },
   {
    "_defaultOrder": 13,
    "_isFastLaunch": false,
    "category": "General purpose",
    "gpuNum": 0,
    "hideHardwareSpecs": false,
    "memoryGiB": 16,
    "name": "ml.m5d.xlarge",
    "vcpuNum": 4
   },
   {
    "_defaultOrder": 14,
    "_isFastLaunch": false,
    "category": "General purpose",
    "gpuNum": 0,
    "hideHardwareSpecs": false,
    "memoryGiB": 32,
    "name": "ml.m5d.2xlarge",
    "vcpuNum": 8
   },
   {
    "_defaultOrder": 15,
    "_isFastLaunch": false,
    "category": "General purpose",
    "gpuNum": 0,
    "hideHardwareSpecs": false,
    "memoryGiB": 64,
    "name": "ml.m5d.4xlarge",
    "vcpuNum": 16
   },
   {
    "_defaultOrder": 16,
    "_isFastLaunch": false,
    "category": "General purpose",
    "gpuNum": 0,
    "hideHardwareSpecs": false,
    "memoryGiB": 128,
    "name": "ml.m5d.8xlarge",
    "vcpuNum": 32
   },
   {
    "_defaultOrder": 17,
    "_isFastLaunch": false,
    "category": "General purpose",
    "gpuNum": 0,
    "hideHardwareSpecs": false,
    "memoryGiB": 192,
    "name": "ml.m5d.12xlarge",
    "vcpuNum": 48
   },
   {
    "_defaultOrder": 18,
    "_isFastLaunch": false,
    "category": "General purpose",
    "gpuNum": 0,
    "hideHardwareSpecs": false,
    "memoryGiB": 256,
    "name": "ml.m5d.16xlarge",
    "vcpuNum": 64
   },
   {
    "_defaultOrder": 19,
    "_isFastLaunch": false,
    "category": "General purpose",
    "gpuNum": 0,
    "hideHardwareSpecs": false,
    "memoryGiB": 384,
    "name": "ml.m5d.24xlarge",
    "vcpuNum": 96
   },
   {
    "_defaultOrder": 20,
    "_isFastLaunch": false,
    "category": "General purpose",
    "gpuNum": 0,
    "hideHardwareSpecs": true,
    "memoryGiB": 0,
    "name": "ml.geospatial.interactive",
    "supportedImageNames": [
     "sagemaker-geospatial-v1-0"
    ],
    "vcpuNum": 0
   },
   {
    "_defaultOrder": 21,
    "_isFastLaunch": true,
    "category": "Compute optimized",
    "gpuNum": 0,
    "hideHardwareSpecs": false,
    "memoryGiB": 4,
    "name": "ml.c5.large",
    "vcpuNum": 2
   },
   {
    "_defaultOrder": 22,
    "_isFastLaunch": false,
    "category": "Compute optimized",
    "gpuNum": 0,
    "hideHardwareSpecs": false,
    "memoryGiB": 8,
    "name": "ml.c5.xlarge",
    "vcpuNum": 4
   },
   {
    "_defaultOrder": 23,
    "_isFastLaunch": false,
    "category": "Compute optimized",
    "gpuNum": 0,
    "hideHardwareSpecs": false,
    "memoryGiB": 16,
    "name": "ml.c5.2xlarge",
    "vcpuNum": 8
   },
   {
    "_defaultOrder": 24,
    "_isFastLaunch": false,
    "category": "Compute optimized",
    "gpuNum": 0,
    "hideHardwareSpecs": false,
    "memoryGiB": 32,
    "name": "ml.c5.4xlarge",
    "vcpuNum": 16
   },
   {
    "_defaultOrder": 25,
    "_isFastLaunch": false,
    "category": "Compute optimized",
    "gpuNum": 0,
    "hideHardwareSpecs": false,
    "memoryGiB": 72,
    "name": "ml.c5.9xlarge",
    "vcpuNum": 36
   },
   {
    "_defaultOrder": 26,
    "_isFastLaunch": false,
    "category": "Compute optimized",
    "gpuNum": 0,
    "hideHardwareSpecs": false,
    "memoryGiB": 96,
    "name": "ml.c5.12xlarge",
    "vcpuNum": 48
   },
   {
    "_defaultOrder": 27,
    "_isFastLaunch": false,
    "category": "Compute optimized",
    "gpuNum": 0,
    "hideHardwareSpecs": false,
    "memoryGiB": 144,
    "name": "ml.c5.18xlarge",
    "vcpuNum": 72
   },
   {
    "_defaultOrder": 28,
    "_isFastLaunch": false,
    "category": "Compute optimized",
    "gpuNum": 0,
    "hideHardwareSpecs": false,
    "memoryGiB": 192,
    "name": "ml.c5.24xlarge",
    "vcpuNum": 96
   },
   {
    "_defaultOrder": 29,
    "_isFastLaunch": true,
    "category": "Accelerated computing",
    "gpuNum": 1,
    "hideHardwareSpecs": false,
    "memoryGiB": 16,
    "name": "ml.g4dn.xlarge",
    "vcpuNum": 4
   },
   {
    "_defaultOrder": 30,
    "_isFastLaunch": false,
    "category": "Accelerated computing",
    "gpuNum": 1,
    "hideHardwareSpecs": false,
    "memoryGiB": 32,
    "name": "ml.g4dn.2xlarge",
    "vcpuNum": 8
   },
   {
    "_defaultOrder": 31,
    "_isFastLaunch": false,
    "category": "Accelerated computing",
    "gpuNum": 1,
    "hideHardwareSpecs": false,
    "memoryGiB": 64,
    "name": "ml.g4dn.4xlarge",
    "vcpuNum": 16
   },
   {
    "_defaultOrder": 32,
    "_isFastLaunch": false,
    "category": "Accelerated computing",
    "gpuNum": 1,
    "hideHardwareSpecs": false,
    "memoryGiB": 128,
    "name": "ml.g4dn.8xlarge",
    "vcpuNum": 32
   },
   {
    "_defaultOrder": 33,
    "_isFastLaunch": false,
    "category": "Accelerated computing",
    "gpuNum": 4,
    "hideHardwareSpecs": false,
    "memoryGiB": 192,
    "name": "ml.g4dn.12xlarge",
    "vcpuNum": 48
   },
   {
    "_defaultOrder": 34,
    "_isFastLaunch": false,
    "category": "Accelerated computing",
    "gpuNum": 1,
    "hideHardwareSpecs": false,
    "memoryGiB": 256,
    "name": "ml.g4dn.16xlarge",
    "vcpuNum": 64
   },
   {
    "_defaultOrder": 35,
    "_isFastLaunch": false,
    "category": "Accelerated computing",
    "gpuNum": 1,
    "hideHardwareSpecs": false,
    "memoryGiB": 61,
    "name": "ml.p3.2xlarge",
    "vcpuNum": 8
   },
   {
    "_defaultOrder": 36,
    "_isFastLaunch": false,
    "category": "Accelerated computing",
    "gpuNum": 4,
    "hideHardwareSpecs": false,
    "memoryGiB": 244,
    "name": "ml.p3.8xlarge",
    "vcpuNum": 32
   },
   {
    "_defaultOrder": 37,
    "_isFastLaunch": false,
    "category": "Accelerated computing",
    "gpuNum": 8,
    "hideHardwareSpecs": false,
    "memoryGiB": 488,
    "name": "ml.p3.16xlarge",
    "vcpuNum": 64
   },
   {
    "_defaultOrder": 38,
    "_isFastLaunch": false,
    "category": "Accelerated computing",
    "gpuNum": 8,
    "hideHardwareSpecs": false,
    "memoryGiB": 768,
    "name": "ml.p3dn.24xlarge",
    "vcpuNum": 96
   },
   {
    "_defaultOrder": 39,
    "_isFastLaunch": false,
    "category": "Memory Optimized",
    "gpuNum": 0,
    "hideHardwareSpecs": false,
    "memoryGiB": 16,
    "name": "ml.r5.large",
    "vcpuNum": 2
   },
   {
    "_defaultOrder": 40,
    "_isFastLaunch": false,
    "category": "Memory Optimized",
    "gpuNum": 0,
    "hideHardwareSpecs": false,
    "memoryGiB": 32,
    "name": "ml.r5.xlarge",
    "vcpuNum": 4
   },
   {
    "_defaultOrder": 41,
    "_isFastLaunch": false,
    "category": "Memory Optimized",
    "gpuNum": 0,
    "hideHardwareSpecs": false,
    "memoryGiB": 64,
    "name": "ml.r5.2xlarge",
    "vcpuNum": 8
   },
   {
    "_defaultOrder": 42,
    "_isFastLaunch": false,
    "category": "Memory Optimized",
    "gpuNum": 0,
    "hideHardwareSpecs": false,
    "memoryGiB": 128,
    "name": "ml.r5.4xlarge",
    "vcpuNum": 16
   },
   {
    "_defaultOrder": 43,
    "_isFastLaunch": false,
    "category": "Memory Optimized",
    "gpuNum": 0,
    "hideHardwareSpecs": false,
    "memoryGiB": 256,
    "name": "ml.r5.8xlarge",
    "vcpuNum": 32
   },
   {
    "_defaultOrder": 44,
    "_isFastLaunch": false,
    "category": "Memory Optimized",
    "gpuNum": 0,
    "hideHardwareSpecs": false,
    "memoryGiB": 384,
    "name": "ml.r5.12xlarge",
    "vcpuNum": 48
   },
   {
    "_defaultOrder": 45,
    "_isFastLaunch": false,
    "category": "Memory Optimized",
    "gpuNum": 0,
    "hideHardwareSpecs": false,
    "memoryGiB": 512,
    "name": "ml.r5.16xlarge",
    "vcpuNum": 64
   },
   {
    "_defaultOrder": 46,
    "_isFastLaunch": false,
    "category": "Memory Optimized",
    "gpuNum": 0,
    "hideHardwareSpecs": false,
    "memoryGiB": 768,
    "name": "ml.r5.24xlarge",
    "vcpuNum": 96
   },
   {
    "_defaultOrder": 47,
    "_isFastLaunch": false,
    "category": "Accelerated computing",
    "gpuNum": 1,
    "hideHardwareSpecs": false,
    "memoryGiB": 16,
    "name": "ml.g5.xlarge",
    "vcpuNum": 4
   },
   {
    "_defaultOrder": 48,
    "_isFastLaunch": false,
    "category": "Accelerated computing",
    "gpuNum": 1,
    "hideHardwareSpecs": false,
    "memoryGiB": 32,
    "name": "ml.g5.2xlarge",
    "vcpuNum": 8
   },
   {
    "_defaultOrder": 49,
    "_isFastLaunch": false,
    "category": "Accelerated computing",
    "gpuNum": 1,
    "hideHardwareSpecs": false,
    "memoryGiB": 64,
    "name": "ml.g5.4xlarge",
    "vcpuNum": 16
   },
   {
    "_defaultOrder": 50,
    "_isFastLaunch": false,
    "category": "Accelerated computing",
    "gpuNum": 1,
    "hideHardwareSpecs": false,
    "memoryGiB": 128,
    "name": "ml.g5.8xlarge",
    "vcpuNum": 32
   },
   {
    "_defaultOrder": 51,
    "_isFastLaunch": false,
    "category": "Accelerated computing",
    "gpuNum": 1,
    "hideHardwareSpecs": false,
    "memoryGiB": 256,
    "name": "ml.g5.16xlarge",
    "vcpuNum": 64
   },
   {
    "_defaultOrder": 52,
    "_isFastLaunch": false,
    "category": "Accelerated computing",
    "gpuNum": 4,
    "hideHardwareSpecs": false,
    "memoryGiB": 192,
    "name": "ml.g5.12xlarge",
    "vcpuNum": 48
   },
   {
    "_defaultOrder": 53,
    "_isFastLaunch": false,
    "category": "Accelerated computing",
    "gpuNum": 4,
    "hideHardwareSpecs": false,
    "memoryGiB": 384,
    "name": "ml.g5.24xlarge",
    "vcpuNum": 96
   },
   {
    "_defaultOrder": 54,
    "_isFastLaunch": false,
    "category": "Accelerated computing",
    "gpuNum": 8,
    "hideHardwareSpecs": false,
    "memoryGiB": 768,
    "name": "ml.g5.48xlarge",
    "vcpuNum": 192
   },
   {
    "_defaultOrder": 55,
    "_isFastLaunch": false,
    "category": "Accelerated computing",
    "gpuNum": 8,
    "hideHardwareSpecs": false,
    "memoryGiB": 1152,
    "name": "ml.p4d.24xlarge",
    "vcpuNum": 96
   },
   {
    "_defaultOrder": 56,
    "_isFastLaunch": false,
    "category": "Accelerated computing",
    "gpuNum": 8,
    "hideHardwareSpecs": false,
    "memoryGiB": 1152,
    "name": "ml.p4de.24xlarge",
    "vcpuNum": 96
   },
   {
    "_defaultOrder": 57,
    "_isFastLaunch": false,
    "category": "Accelerated computing",
    "gpuNum": 0,
    "hideHardwareSpecs": false,
    "memoryGiB": 32,
    "name": "ml.trn1.2xlarge",
    "vcpuNum": 8
   },
   {
    "_defaultOrder": 58,
    "_isFastLaunch": false,
    "category": "Accelerated computing",
    "gpuNum": 0,
    "hideHardwareSpecs": false,
    "memoryGiB": 512,
    "name": "ml.trn1.32xlarge",
    "vcpuNum": 128
   },
   {
    "_defaultOrder": 59,
    "_isFastLaunch": false,
    "category": "Accelerated computing",
    "gpuNum": 0,
    "hideHardwareSpecs": false,
    "memoryGiB": 512,
    "name": "ml.trn1n.32xlarge",
    "vcpuNum": 128
   }
  ],
  "kernelspec": {
   "display_name": "Python 3 (Data Science 3.0)",
   "language": "python",
   "name": "python3__SAGEMAKER_INTERNAL__arn:aws:sagemaker:sa-east-1:782484402741:image/sagemaker-data-science-310-v1"
  },
  "language_info": {
   "codemirror_mode": {
    "name": "ipython",
    "version": 3
   },
   "file_extension": ".py",
   "mimetype": "text/x-python",
   "name": "python",
   "nbconvert_exporter": "python",
   "pygments_lexer": "ipython3",
   "version": "3.10.6"
  }
 },
 "nbformat": 4,
 "nbformat_minor": 5
}
