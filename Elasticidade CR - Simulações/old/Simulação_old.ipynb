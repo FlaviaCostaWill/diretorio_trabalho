{
 "cells": [
  {
   "cell_type": "code",
   "execution_count": 115,
   "metadata": {},
   "outputs": [],
   "source": [
    "import pandas as pd\n",
    "import numpy as np\n",
    "import seaborn as sns\n",
    "import acessos as ac\n",
    "import os \n",
    "import matplotlib.pyplot as plt\n",
    "import statsmodels.api as sm\n",
    "from statsmodels.formula.api import ols"
   ]
  },
  {
   "cell_type": "code",
   "execution_count": 2,
   "metadata": {},
   "outputs": [],
   "source": [
    "text_file = open(os.path.abspath('../Elasticidade CR - Simulações/sql/jan-mar-23.sql'), \"r\")\n",
    "query = text_file.read()\n",
    "text_file.close()\n",
    "df = ac.df_athena_q('flavia-costa', query)"
   ]
  },
  {
   "cell_type": "code",
   "execution_count": 3,
   "metadata": {},
   "outputs": [
    {
     "data": {
      "text/plain": [
       "172938"
      ]
     },
     "execution_count": 3,
     "metadata": {},
     "output_type": "execute_result"
    }
   ],
   "source": [
    "len(df)"
   ]
  },
  {
   "cell_type": "code",
   "execution_count": 4,
   "metadata": {},
   "outputs": [
    {
     "data": {
      "text/html": [
       "<div>\n",
       "<style scoped>\n",
       "    .dataframe tbody tr th:only-of-type {\n",
       "        vertical-align: middle;\n",
       "    }\n",
       "\n",
       "    .dataframe tbody tr th {\n",
       "        vertical-align: top;\n",
       "    }\n",
       "\n",
       "    .dataframe thead th {\n",
       "        text-align: right;\n",
       "    }\n",
       "</style>\n",
       "<table border=\"1\" class=\"dataframe\">\n",
       "  <thead>\n",
       "    <tr style=\"text-align: right;\">\n",
       "      <th></th>\n",
       "      <th>cpf</th>\n",
       "      <th>dt_mes_true</th>\n",
       "      <th>periodo_antes_inicio</th>\n",
       "      <th>periodo_antes_fim</th>\n",
       "      <th>periodo_depois_inicio</th>\n",
       "      <th>periodo_depois_fim</th>\n",
       "      <th>periodo_depois30_fim</th>\n",
       "      <th>qt_compra_antes_90d</th>\n",
       "      <th>dt_last_use_credit</th>\n",
       "      <th>vl_current_limit</th>\n",
       "      <th>...</th>\n",
       "      <th>ds_city_size</th>\n",
       "      <th>vl_compra_antes_90d</th>\n",
       "      <th>dt_first_use_credit</th>\n",
       "      <th>vl_renda_declarada</th>\n",
       "      <th>dt_criacao_conta</th>\n",
       "      <th>dias_uso_app</th>\n",
       "      <th>vl_compra_depois_30d</th>\n",
       "      <th>qt_compras_depois_30d</th>\n",
       "      <th>vl_compra_depois_60d</th>\n",
       "      <th>qt_compras_depois_60d</th>\n",
       "    </tr>\n",
       "  </thead>\n",
       "  <tbody>\n",
       "    <tr>\n",
       "      <th>0</th>\n",
       "      <td>05374519190</td>\n",
       "      <td>2023-01-01</td>\n",
       "      <td>2022-10-02</td>\n",
       "      <td>2022-12-31</td>\n",
       "      <td>2023-02-01</td>\n",
       "      <td>2023-04-01</td>\n",
       "      <td>2023-03-01</td>\n",
       "      <td>2</td>\n",
       "      <td>2022-12-21</td>\n",
       "      <td>6800.0</td>\n",
       "      <td>...</td>\n",
       "      <td>None</td>\n",
       "      <td>14.16</td>\n",
       "      <td>2018-09-29 12:35:01</td>\n",
       "      <td>950.0</td>\n",
       "      <td>201808</td>\n",
       "      <td>0</td>\n",
       "      <td>1393.82</td>\n",
       "      <td>16</td>\n",
       "      <td>4463.66</td>\n",
       "      <td>17</td>\n",
       "    </tr>\n",
       "    <tr>\n",
       "      <th>1</th>\n",
       "      <td>15800358761</td>\n",
       "      <td>2023-01-01</td>\n",
       "      <td>2022-10-02</td>\n",
       "      <td>2022-12-31</td>\n",
       "      <td>2023-02-01</td>\n",
       "      <td>2023-04-01</td>\n",
       "      <td>2023-03-01</td>\n",
       "      <td>3</td>\n",
       "      <td>2022-12-28</td>\n",
       "      <td>600.0</td>\n",
       "      <td>...</td>\n",
       "      <td>medio</td>\n",
       "      <td>354.09</td>\n",
       "      <td>2022-11-28 16:56:30</td>\n",
       "      <td>3000.0</td>\n",
       "      <td>202211</td>\n",
       "      <td>12</td>\n",
       "      <td>325.00</td>\n",
       "      <td>1</td>\n",
       "      <td>567.50</td>\n",
       "      <td>2</td>\n",
       "    </tr>\n",
       "    <tr>\n",
       "      <th>2</th>\n",
       "      <td>70599393181</td>\n",
       "      <td>2023-01-01</td>\n",
       "      <td>2022-10-02</td>\n",
       "      <td>2022-12-31</td>\n",
       "      <td>2023-02-01</td>\n",
       "      <td>2023-04-01</td>\n",
       "      <td>2023-03-01</td>\n",
       "      <td>77</td>\n",
       "      <td>2022-12-30</td>\n",
       "      <td>17700.0</td>\n",
       "      <td>...</td>\n",
       "      <td>grande</td>\n",
       "      <td>4754.49</td>\n",
       "      <td>2018-11-17 17:11:52</td>\n",
       "      <td>0.0</td>\n",
       "      <td>201810</td>\n",
       "      <td>0</td>\n",
       "      <td>276.84</td>\n",
       "      <td>15</td>\n",
       "      <td>561.96</td>\n",
       "      <td>43</td>\n",
       "    </tr>\n",
       "    <tr>\n",
       "      <th>3</th>\n",
       "      <td>12226183469</td>\n",
       "      <td>2023-03-01</td>\n",
       "      <td>2022-11-30</td>\n",
       "      <td>2023-02-28</td>\n",
       "      <td>2023-04-01</td>\n",
       "      <td>2023-06-01</td>\n",
       "      <td>2023-05-01</td>\n",
       "      <td>2</td>\n",
       "      <td>2023-02-13</td>\n",
       "      <td>550.0</td>\n",
       "      <td>...</td>\n",
       "      <td>pequeno</td>\n",
       "      <td>355.18</td>\n",
       "      <td>2022-11-26 18:59:31</td>\n",
       "      <td>2000.0</td>\n",
       "      <td>202211</td>\n",
       "      <td>7</td>\n",
       "      <td>NaN</td>\n",
       "      <td>0</td>\n",
       "      <td>156.93</td>\n",
       "      <td>1</td>\n",
       "    </tr>\n",
       "    <tr>\n",
       "      <th>4</th>\n",
       "      <td>05276066426</td>\n",
       "      <td>2023-01-01</td>\n",
       "      <td>2022-10-02</td>\n",
       "      <td>2022-12-31</td>\n",
       "      <td>2023-02-01</td>\n",
       "      <td>2023-04-01</td>\n",
       "      <td>2023-03-01</td>\n",
       "      <td>10</td>\n",
       "      <td>2022-12-30</td>\n",
       "      <td>500.0</td>\n",
       "      <td>...</td>\n",
       "      <td>pequeno</td>\n",
       "      <td>551.16</td>\n",
       "      <td>2022-11-12 11:28:46</td>\n",
       "      <td>3500.0</td>\n",
       "      <td>202211</td>\n",
       "      <td>31</td>\n",
       "      <td>323.15</td>\n",
       "      <td>6</td>\n",
       "      <td>1128.50</td>\n",
       "      <td>15</td>\n",
       "    </tr>\n",
       "  </tbody>\n",
       "</table>\n",
       "<p>5 rows × 32 columns</p>\n",
       "</div>"
      ],
      "text/plain": [
       "           cpf dt_mes_true periodo_antes_inicio periodo_antes_fim  \\\n",
       "0  05374519190  2023-01-01           2022-10-02        2022-12-31   \n",
       "1  15800358761  2023-01-01           2022-10-02        2022-12-31   \n",
       "2  70599393181  2023-01-01           2022-10-02        2022-12-31   \n",
       "3  12226183469  2023-03-01           2022-11-30        2023-02-28   \n",
       "4  05276066426  2023-01-01           2022-10-02        2022-12-31   \n",
       "\n",
       "  periodo_depois_inicio periodo_depois_fim periodo_depois30_fim  \\\n",
       "0            2023-02-01         2023-04-01           2023-03-01   \n",
       "1            2023-02-01         2023-04-01           2023-03-01   \n",
       "2            2023-02-01         2023-04-01           2023-03-01   \n",
       "3            2023-04-01         2023-06-01           2023-05-01   \n",
       "4            2023-02-01         2023-04-01           2023-03-01   \n",
       "\n",
       "   qt_compra_antes_90d dt_last_use_credit  vl_current_limit  ...  \\\n",
       "0                    2         2022-12-21            6800.0  ...   \n",
       "1                    3         2022-12-28             600.0  ...   \n",
       "2                   77         2022-12-30           17700.0  ...   \n",
       "3                    2         2023-02-13             550.0  ...   \n",
       "4                   10         2022-12-30             500.0  ...   \n",
       "\n",
       "   ds_city_size  vl_compra_antes_90d  dt_first_use_credit  vl_renda_declarada  \\\n",
       "0          None                14.16  2018-09-29 12:35:01               950.0   \n",
       "1         medio               354.09  2022-11-28 16:56:30              3000.0   \n",
       "2        grande              4754.49  2018-11-17 17:11:52                 0.0   \n",
       "3       pequeno               355.18  2022-11-26 18:59:31              2000.0   \n",
       "4       pequeno               551.16  2022-11-12 11:28:46              3500.0   \n",
       "\n",
       "   dt_criacao_conta dias_uso_app vl_compra_depois_30d qt_compras_depois_30d  \\\n",
       "0            201808            0              1393.82                    16   \n",
       "1            202211           12               325.00                     1   \n",
       "2            201810            0               276.84                    15   \n",
       "3            202211            7                  NaN                     0   \n",
       "4            202211           31               323.15                     6   \n",
       "\n",
       "  vl_compra_depois_60d qt_compras_depois_60d  \n",
       "0              4463.66                    17  \n",
       "1               567.50                     2  \n",
       "2               561.96                    43  \n",
       "3               156.93                     1  \n",
       "4              1128.50                    15  \n",
       "\n",
       "[5 rows x 32 columns]"
      ]
     },
     "execution_count": 4,
     "metadata": {},
     "output_type": "execute_result"
    }
   ],
   "source": [
    "df.head()"
   ]
  },
  {
   "cell_type": "code",
   "execution_count": 5,
   "metadata": {},
   "outputs": [
    {
     "data": {
      "text/plain": [
       "Index(['cpf', 'dt_mes_true', 'periodo_antes_inicio', 'periodo_antes_fim',\n",
       "       'periodo_depois_inicio', 'periodo_depois_fim', 'periodo_depois30_fim',\n",
       "       'qt_compra_antes_90d', 'dt_last_use_credit', 'vl_current_limit',\n",
       "       'flag_problema', 'nr_tpr', 'nr_tma', 'nr_tmat', 'usou_chat',\n",
       "       'hierarquia_1', 'ds_gender', 'ds_state_abbreviation', 'dt_birth',\n",
       "       'ds_schooling', 'ds_marital_status', 'dt_opening_account',\n",
       "       'ds_city_size', 'vl_compra_antes_90d', 'dt_first_use_credit',\n",
       "       'vl_renda_declarada', 'dt_criacao_conta', 'dias_uso_app',\n",
       "       'vl_compra_depois_30d', 'qt_compras_depois_30d', 'vl_compra_depois_60d',\n",
       "       'qt_compras_depois_60d'],\n",
       "      dtype='object')"
      ]
     },
     "execution_count": 5,
     "metadata": {},
     "output_type": "execute_result"
    }
   ],
   "source": [
    "df.columns"
   ]
  },
  {
   "cell_type": "code",
   "execution_count": 6,
   "metadata": {},
   "outputs": [
    {
     "data": {
      "text/plain": [
       "2023-01-01    61632\n",
       "2023-02-01    56571\n",
       "2023-03-01    54735\n",
       "Name: dt_mes_true, dtype: int64"
      ]
     },
     "execution_count": 6,
     "metadata": {},
     "output_type": "execute_result"
    }
   ],
   "source": [
    "df.dt_mes_true.value_counts()"
   ]
  },
  {
   "attachments": {},
   "cell_type": "markdown",
   "metadata": {},
   "source": [
    "Criação de variáveis"
   ]
  },
  {
   "cell_type": "code",
   "execution_count": 7,
   "metadata": {},
   "outputs": [],
   "source": [
    "df['cc_time'] = (pd.Timestamp('now') - df['dt_opening_account'])/ np.timedelta64(1, 'D')\n",
    "df['dt_first_use_credit'] = pd.to_datetime(df['dt_first_use_credit'], format='%Y-%m-%d')\n",
    "df['dias_ativacao'] = (pd.Timestamp('now') - df['dt_first_use_credit'])/ np.timedelta64(1, 'D')\n",
    "df['vl_compra_antes_90d_log'] = np.log(df.vl_compra_antes_90d) #Ajuste da variável\n"
   ]
  },
  {
   "attachments": {},
   "cell_type": "markdown",
   "metadata": {},
   "source": [
    "Função de normalização"
   ]
  },
  {
   "cell_type": "code",
   "execution_count": 8,
   "metadata": {},
   "outputs": [],
   "source": [
    "def normalizando(df,columns):\n",
    "    df[columns] = (df[columns]-df[columns].min())/(df[columns].max()-df[columns].min())\n",
    "    return df[columns]"
   ]
  },
  {
   "cell_type": "code",
   "execution_count": 9,
   "metadata": {},
   "outputs": [],
   "source": [
    "df_n = pd.DataFrame()\n",
    "\n",
    "df_n['cc_time'] = normalizando(df, ['cc_time'])\n",
    "df_n['vl_current_limit'] = normalizando(df, ['vl_current_limit'])\n",
    "df_n['dias_uso_app'] = normalizando(df, ['dias_uso_app'])\n",
    "df_n['vl_renda_declarada'] = normalizando(df, ['vl_renda_declarada'])\n",
    "df_n['dias_ativacao'] = normalizando(df, ['dias_ativacao'])\n",
    "df_n['qt_compra_antes_90d'] = normalizando(df, ['qt_compra_antes_90d'])\n"
   ]
  },
  {
   "cell_type": "code",
   "execution_count": 10,
   "metadata": {},
   "outputs": [
    {
     "data": {
      "text/html": [
       "<div>\n",
       "<style scoped>\n",
       "    .dataframe tbody tr th:only-of-type {\n",
       "        vertical-align: middle;\n",
       "    }\n",
       "\n",
       "    .dataframe tbody tr th {\n",
       "        vertical-align: top;\n",
       "    }\n",
       "\n",
       "    .dataframe thead th {\n",
       "        text-align: right;\n",
       "    }\n",
       "</style>\n",
       "<table border=\"1\" class=\"dataframe\">\n",
       "  <thead>\n",
       "    <tr style=\"text-align: right;\">\n",
       "      <th></th>\n",
       "      <th>cc_time</th>\n",
       "      <th>vl_current_limit</th>\n",
       "      <th>dias_uso_app</th>\n",
       "      <th>vl_renda_declarada</th>\n",
       "      <th>dias_ativacao</th>\n",
       "      <th>qt_compra_antes_90d</th>\n",
       "    </tr>\n",
       "  </thead>\n",
       "  <tbody>\n",
       "    <tr>\n",
       "      <th>0</th>\n",
       "      <td>0.787456</td>\n",
       "      <td>0.075556</td>\n",
       "      <td>0.000000</td>\n",
       "      <td>0.000010</td>\n",
       "      <td>0.738226</td>\n",
       "      <td>0.001340</td>\n",
       "    </tr>\n",
       "    <tr>\n",
       "      <th>1</th>\n",
       "      <td>0.097952</td>\n",
       "      <td>0.006667</td>\n",
       "      <td>0.131868</td>\n",
       "      <td>0.000033</td>\n",
       "      <td>0.080234</td>\n",
       "      <td>0.002681</td>\n",
       "    </tr>\n",
       "    <tr>\n",
       "      <th>2</th>\n",
       "      <td>0.762535</td>\n",
       "      <td>0.196667</td>\n",
       "      <td>0.000000</td>\n",
       "      <td>0.000000</td>\n",
       "      <td>0.716947</td>\n",
       "      <td>0.101877</td>\n",
       "    </tr>\n",
       "    <tr>\n",
       "      <th>3</th>\n",
       "      <td>0.091026</td>\n",
       "      <td>0.006111</td>\n",
       "      <td>0.076923</td>\n",
       "      <td>0.000022</td>\n",
       "      <td>0.081062</td>\n",
       "      <td>0.001340</td>\n",
       "    </tr>\n",
       "    <tr>\n",
       "      <th>4</th>\n",
       "      <td>0.095225</td>\n",
       "      <td>0.005556</td>\n",
       "      <td>0.340659</td>\n",
       "      <td>0.000038</td>\n",
       "      <td>0.087253</td>\n",
       "      <td>0.012064</td>\n",
       "    </tr>\n",
       "  </tbody>\n",
       "</table>\n",
       "</div>"
      ],
      "text/plain": [
       "    cc_time  vl_current_limit  dias_uso_app  vl_renda_declarada  \\\n",
       "0  0.787456          0.075556      0.000000            0.000010   \n",
       "1  0.097952          0.006667      0.131868            0.000033   \n",
       "2  0.762535          0.196667      0.000000            0.000000   \n",
       "3  0.091026          0.006111      0.076923            0.000022   \n",
       "4  0.095225          0.005556      0.340659            0.000038   \n",
       "\n",
       "   dias_ativacao  qt_compra_antes_90d  \n",
       "0       0.738226             0.001340  \n",
       "1       0.080234             0.002681  \n",
       "2       0.716947             0.101877  \n",
       "3       0.081062             0.001340  \n",
       "4       0.087253             0.012064  "
      ]
     },
     "execution_count": 10,
     "metadata": {},
     "output_type": "execute_result"
    }
   ],
   "source": [
    "df_n.head()"
   ]
  },
  {
   "cell_type": "code",
   "execution_count": 11,
   "metadata": {},
   "outputs": [],
   "source": [
    "#Parametros modelo\n",
    "#c_intercepto = -2.2261\n",
    "#c_usou_chat = -0.1428\n",
    "#c_flag_problema = 0.3520"
   ]
  },
  {
   "attachments": {},
   "cell_type": "markdown",
   "metadata": {},
   "source": [
    "Atribuindo clientes sem atendimento"
   ]
  },
  {
   "cell_type": "code",
   "execution_count": 12,
   "metadata": {},
   "outputs": [],
   "source": [
    "queda_cr = 0.1\n",
    "df['aleat'] = np.random.random((len(df),1))\n",
    "df['usou_chat_sim'] = np.where(df.aleat <= (1 - queda_cr), 1, 0)\n",
    "df['flag_problema_sim'] = np.where(df.usou_chat_sim == 0, 0, df.flag_problema )\n",
    "df['teve_compra_depois'] = np.where(df.vl_compra_depois_60d > 0 , 1, 0)"
   ]
  },
  {
   "cell_type": "code",
   "execution_count": 13,
   "metadata": {},
   "outputs": [],
   "source": [
    "df['rawPrediction'] = -2.2261  + (df.usou_chat_sim * -0.1428) + (df.flag_problema_sim * 0.3520) + ( df.vl_compra_antes_90d_log * 0.5312) + (df_n.cc_time * -0.8862)\n",
    "+ (df_n.vl_current_limit * -0.2775) + (df_n.dias_uso_app * 0.7885) + (df_n.vl_renda_declarada * 3.7359) + (df_n.dias_ativacao * 0.5817) + (df_n.qt_compra_antes_90d * 0.6022)\n",
    "\n",
    "df['score_compra_depois']  =  1/(1 + np.exp(-1 * df.rawPrediction))"
   ]
  },
  {
   "cell_type": "code",
   "execution_count": 14,
   "metadata": {},
   "outputs": [
    {
     "data": {
      "text/plain": [
       "1    0.899987\n",
       "0    0.100013\n",
       "Name: usou_chat_sim, dtype: float64"
      ]
     },
     "execution_count": 14,
     "metadata": {},
     "output_type": "execute_result"
    }
   ],
   "source": [
    "df.usou_chat_sim.value_counts(normalize=True)"
   ]
  },
  {
   "cell_type": "code",
   "execution_count": 43,
   "metadata": {},
   "outputs": [
    {
     "data": {
      "text/plain": [
       "usou_chat_sim\n",
       "0    0.749032\n",
       "1    0.745048\n",
       "Name: score_compra_depois, dtype: float64"
      ]
     },
     "execution_count": 43,
     "metadata": {},
     "output_type": "execute_result"
    }
   ],
   "source": [
    "df.groupby('usou_chat_sim')[\"score_compra_depois\"].mean()"
   ]
  },
  {
   "cell_type": "code",
   "execution_count": 154,
   "metadata": {},
   "outputs": [
    {
     "data": {
      "text/plain": [
       "usou_chat_sim\n",
       "0    0.782009\n",
       "1    0.776670\n",
       "Name: score_compra_depois, dtype: float64"
      ]
     },
     "execution_count": 154,
     "metadata": {},
     "output_type": "execute_result"
    }
   ],
   "source": [
    "df.groupby('usou_chat_sim')[\"score_compra_depois\"].median()"
   ]
  },
  {
   "cell_type": "code",
   "execution_count": 16,
   "metadata": {},
   "outputs": [
    {
     "data": {
      "text/plain": [
       "1    139872\n",
       "0     33066\n",
       "Name: teve_compra_depois, dtype: int64"
      ]
     },
     "execution_count": 16,
     "metadata": {},
     "output_type": "execute_result"
    }
   ],
   "source": [
    "df.teve_compra_depois.value_counts()"
   ]
  },
  {
   "cell_type": "code",
   "execution_count": 17,
   "metadata": {},
   "outputs": [
    {
     "data": {
      "text/plain": [
       "1    29661\n",
       "0     3405\n",
       "Name: usou_chat_sim, dtype: int64"
      ]
     },
     "execution_count": 17,
     "metadata": {},
     "output_type": "execute_result"
    }
   ],
   "source": [
    "df[df.teve_compra_depois == 0]['usou_chat_sim'].value_counts()"
   ]
  },
  {
   "cell_type": "code",
   "execution_count": 18,
   "metadata": {},
   "outputs": [
    {
     "data": {
      "text/plain": [
       "2083.348703234685"
      ]
     },
     "execution_count": 18,
     "metadata": {},
     "output_type": "execute_result"
    }
   ],
   "source": [
    "df.vl_compra_antes_90d.mean()"
   ]
  },
  {
   "cell_type": "code",
   "execution_count": 157,
   "metadata": {},
   "outputs": [
    {
     "data": {
      "image/png": "[encoded data removed]",
      "text/plain": [
       "<Figure size 1440x720 with 1 Axes>"
      ]
     },
     "metadata": {
      "needs_background": "light"
     },
     "output_type": "display_data"
    }
   ],
   "source": [
    "plt.figure(figsize = (20,10))\n",
    "sns.boxplot(data = df[df['usou_chat_sim'] == 1], x = 'score_compra_depois')\n",
    "plt.xticks(rotation=90)\n",
    "plt.show()"
   ]
  },
  {
   "cell_type": "code",
   "execution_count": 158,
   "metadata": {},
   "outputs": [
    {
     "data": {
      "image/png": "[encoded data removed]",
      "text/plain": [
       "<Figure size 1440x720 with 1 Axes>"
      ]
     },
     "metadata": {
      "needs_background": "light"
     },
     "output_type": "display_data"
    }
   ],
   "source": [
    "plt.figure(figsize = (20,10))\n",
    "sns.boxplot(data = df[df['usou_chat_sim'] == 0], x = 'score_compra_depois')\n",
    "plt.xticks(rotation=90)\n",
    "plt.show()"
   ]
  },
  {
   "attachments": {},
   "cell_type": "markdown",
   "metadata": {},
   "source": [
    "Aferindo o melhor threshold através da curva cumulativa e KS"
   ]
  },
  {
   "cell_type": "code",
   "execution_count": 64,
   "metadata": {},
   "outputs": [
    {
     "data": {
      "text/plain": [
       "fx_score\n",
       "0.0    0.466667\n",
       "0.1    0.464912\n",
       "0.2    0.521898\n",
       "0.3    0.502448\n",
       "0.4    0.584946\n",
       "0.5    0.653193\n",
       "0.6    0.691666\n",
       "0.7    0.771911\n",
       "0.8    0.858339\n",
       "0.9    0.892891\n",
       "1.0    0.864865\n",
       "Name: teve_compra_depois, dtype: float64"
      ]
     },
     "execution_count": 64,
     "metadata": {},
     "output_type": "execute_result"
    }
   ],
   "source": [
    "df['fx_score'] = np.round(df['score_compra_depois'],1)\n",
    "df.groupby('fx_score')[\"teve_compra_depois\"].mean()"
   ]
  },
  {
   "cell_type": "code",
   "execution_count": 163,
   "metadata": {},
   "outputs": [
    {
     "data": {
      "text/plain": [
       "alto_score\n",
       "0    0.911071\n",
       "1    0.899916\n",
       "Name: usou_chat_sim, dtype: float64"
      ]
     },
     "execution_count": 163,
     "metadata": {},
     "output_type": "execute_result"
    }
   ],
   "source": [
    "df['alto_score'] = np.where(df.fx_score > 0.2, 1, 0)\n",
    "\n",
    "df.groupby('alto_score')[\"usou_chat_sim\"].mean()"
   ]
  },
  {
   "cell_type": "code",
   "execution_count": 65,
   "metadata": {},
   "outputs": [],
   "source": [
    "agg_df_compra_sim = df[df['teve_compra_depois'] == 1][['fx_score', 'cpf']].groupby('fx_score').count()\n",
    "agg_df_compra_nao = df[df['teve_compra_depois'] == 0][['fx_score', 'cpf']].groupby('fx_score').count()"
   ]
  },
  {
   "cell_type": "code",
   "execution_count": 83,
   "metadata": {},
   "outputs": [],
   "source": [
    "agg_df_compra = agg_df_compra_sim.join(agg_df_compra_nao, lsuffix='nao', rsuffix='sim')\n",
    "agg_df_compra = agg_df_compra.reset_index()\n",
    "agg_df_compra['cumperc_nao'] = agg_df_compra['cpfnao'].cumsum()/agg_df_compra['cpfnao'].sum()*100\n",
    "agg_df_compra['cumperc_sim'] = agg_df_compra['cpfsim'].cumsum()/agg_df_compra['cpfsim'].sum()*100\n",
    "\n",
    "agg_df_compra['dif'] = agg_df_compra['cumperc_nao'] - agg_df_compra['cumperc_sim']\n",
    "agg_df_compra['dif_abs'] = np.abs(agg_df_compra['dif'])\n"
   ]
  },
  {
   "cell_type": "code",
   "execution_count": 84,
   "metadata": {},
   "outputs": [
    {
     "data": {
      "text/html": [
       "<div>\n",
       "<style scoped>\n",
       "    .dataframe tbody tr th:only-of-type {\n",
       "        vertical-align: middle;\n",
       "    }\n",
       "\n",
       "    .dataframe tbody tr th {\n",
       "        vertical-align: top;\n",
       "    }\n",
       "\n",
       "    .dataframe thead th {\n",
       "        text-align: right;\n",
       "    }\n",
       "</style>\n",
       "<table border=\"1\" class=\"dataframe\">\n",
       "  <thead>\n",
       "    <tr style=\"text-align: right;\">\n",
       "      <th></th>\n",
       "      <th>fx_score</th>\n",
       "      <th>cpfnao</th>\n",
       "      <th>cpfsim</th>\n",
       "      <th>cumperc_nao</th>\n",
       "      <th>cumperc_sim</th>\n",
       "      <th>dif</th>\n",
       "      <th>dif_abs</th>\n",
       "    </tr>\n",
       "  </thead>\n",
       "  <tbody>\n",
       "    <tr>\n",
       "      <th>0</th>\n",
       "      <td>0.0</td>\n",
       "      <td>7</td>\n",
       "      <td>8</td>\n",
       "      <td>0.005006</td>\n",
       "      <td>0.024197</td>\n",
       "      <td>-0.019191</td>\n",
       "      <td>0.019191</td>\n",
       "    </tr>\n",
       "    <tr>\n",
       "      <th>1</th>\n",
       "      <td>0.1</td>\n",
       "      <td>106</td>\n",
       "      <td>122</td>\n",
       "      <td>0.080807</td>\n",
       "      <td>0.393201</td>\n",
       "      <td>-0.312393</td>\n",
       "      <td>0.312393</td>\n",
       "    </tr>\n",
       "    <tr>\n",
       "      <th>2</th>\n",
       "      <td>0.2</td>\n",
       "      <td>429</td>\n",
       "      <td>393</td>\n",
       "      <td>0.387589</td>\n",
       "      <td>1.581876</td>\n",
       "      <td>-1.194288</td>\n",
       "      <td>1.194288</td>\n",
       "    </tr>\n",
       "    <tr>\n",
       "      <th>3</th>\n",
       "      <td>0.3</td>\n",
       "      <td>821</td>\n",
       "      <td>813</td>\n",
       "      <td>0.974692</td>\n",
       "      <td>4.040893</td>\n",
       "      <td>-3.066201</td>\n",
       "      <td>3.066201</td>\n",
       "    </tr>\n",
       "    <tr>\n",
       "      <th>4</th>\n",
       "      <td>0.4</td>\n",
       "      <td>1935</td>\n",
       "      <td>1373</td>\n",
       "      <td>2.358426</td>\n",
       "      <td>8.193697</td>\n",
       "      <td>-5.835270</td>\n",
       "      <td>5.835270</td>\n",
       "    </tr>\n",
       "    <tr>\n",
       "      <th>5</th>\n",
       "      <td>0.5</td>\n",
       "      <td>5850</td>\n",
       "      <td>3106</td>\n",
       "      <td>6.541809</td>\n",
       "      <td>17.588168</td>\n",
       "      <td>-11.046359</td>\n",
       "      <td>11.046359</td>\n",
       "    </tr>\n",
       "    <tr>\n",
       "      <th>6</th>\n",
       "      <td>0.6</td>\n",
       "      <td>11113</td>\n",
       "      <td>4954</td>\n",
       "      <td>14.488805</td>\n",
       "      <td>32.572137</td>\n",
       "      <td>-18.083332</td>\n",
       "      <td>18.083332</td>\n",
       "    </tr>\n",
       "    <tr>\n",
       "      <th>7</th>\n",
       "      <td>0.7</td>\n",
       "      <td>29284</td>\n",
       "      <td>8653</td>\n",
       "      <td>35.430030</td>\n",
       "      <td>58.744178</td>\n",
       "      <td>-23.314147</td>\n",
       "      <td>23.314147</td>\n",
       "    </tr>\n",
       "    <tr>\n",
       "      <th>8</th>\n",
       "      <td>0.8</td>\n",
       "      <td>62245</td>\n",
       "      <td>10273</td>\n",
       "      <td>79.941933</td>\n",
       "      <td>89.816103</td>\n",
       "      <td>-9.874170</td>\n",
       "      <td>9.874170</td>\n",
       "    </tr>\n",
       "    <tr>\n",
       "      <th>9</th>\n",
       "      <td>0.9</td>\n",
       "      <td>27985</td>\n",
       "      <td>3357</td>\n",
       "      <td>99.954233</td>\n",
       "      <td>99.969754</td>\n",
       "      <td>-0.015521</td>\n",
       "      <td>0.015521</td>\n",
       "    </tr>\n",
       "    <tr>\n",
       "      <th>10</th>\n",
       "      <td>1.0</td>\n",
       "      <td>64</td>\n",
       "      <td>10</td>\n",
       "      <td>100.000000</td>\n",
       "      <td>100.000000</td>\n",
       "      <td>0.000000</td>\n",
       "      <td>0.000000</td>\n",
       "    </tr>\n",
       "  </tbody>\n",
       "</table>\n",
       "</div>"
      ],
      "text/plain": [
       "    fx_score  cpfnao  cpfsim  cumperc_nao  cumperc_sim        dif    dif_abs\n",
       "0        0.0       7       8     0.005006     0.024197  -0.019191   0.019191\n",
       "1        0.1     106     122     0.080807     0.393201  -0.312393   0.312393\n",
       "2        0.2     429     393     0.387589     1.581876  -1.194288   1.194288\n",
       "3        0.3     821     813     0.974692     4.040893  -3.066201   3.066201\n",
       "4        0.4    1935    1373     2.358426     8.193697  -5.835270   5.835270\n",
       "5        0.5    5850    3106     6.541809    17.588168 -11.046359  11.046359\n",
       "6        0.6   11113    4954    14.488805    32.572137 -18.083332  18.083332\n",
       "7        0.7   29284    8653    35.430030    58.744178 -23.314147  23.314147\n",
       "8        0.8   62245   10273    79.941933    89.816103  -9.874170   9.874170\n",
       "9        0.9   27985    3357    99.954233    99.969754  -0.015521   0.015521\n",
       "10       1.0      64      10   100.000000   100.000000   0.000000   0.000000"
      ]
     },
     "execution_count": 84,
     "metadata": {},
     "output_type": "execute_result"
    }
   ],
   "source": [
    "agg_df_compra"
   ]
  },
  {
   "cell_type": "code",
   "execution_count": 88,
   "metadata": {},
   "outputs": [
    {
     "data": {
      "image/png": "[encoded data removed]",
      "text/plain": [
       "<Figure size 1440x720 with 1 Axes>"
      ]
     },
     "metadata": {
      "needs_background": "light"
     },
     "output_type": "display_data"
    }
   ],
   "source": [
    "plt.figure(figsize = (20,10))\n",
    "sns.lineplot(data = agg_df_compra[['cumperc_nao', 'cumperc_sim']])\n",
    "plt.xticks(rotation=90)\n",
    "plt.show()"
   ]
  },
  {
   "cell_type": "code",
   "execution_count": 112,
   "metadata": {},
   "outputs": [],
   "source": [
    "#quando a diferença nas distribuições ficar acima de 10%\n",
    "threshould_conservador = agg_df_compra.query('dif_abs > 10')['fx_score'].min()"
   ]
  },
  {
   "cell_type": "code",
   "execution_count": 113,
   "metadata": {},
   "outputs": [
    {
     "data": {
      "text/plain": [
       "1    163005\n",
       "0      9933\n",
       "Name: compra_depois_propensao, dtype: int64"
      ]
     },
     "execution_count": 113,
     "metadata": {},
     "output_type": "execute_result"
    }
   ],
   "source": [
    "df['compra_depois_propensao']  = np.where(df['score_compra_depois'] > threshould_conservador, 1,0)\n",
    "df['compra_depois_propensao'].value_counts()"
   ]
  },
  {
   "cell_type": "code",
   "execution_count": 153,
   "metadata": {},
   "outputs": [
    {
     "data": {
      "text/plain": [
       "17296"
      ]
     },
     "execution_count": 153,
     "metadata": {},
     "output_type": "execute_result"
    }
   ],
   "source": [
    "len(df[df['usou_chat_sim'] == 0]) "
   ]
  },
  {
   "cell_type": "code",
   "execution_count": 150,
   "metadata": {},
   "outputs": [
    {
     "data": {
      "text/plain": [
       "33066"
      ]
     },
     "execution_count": 150,
     "metadata": {},
     "output_type": "execute_result"
    }
   ],
   "source": [
    "len(df[df['teve_compra_depois'] == 0]) \n"
   ]
  },
  {
   "cell_type": "code",
   "execution_count": 152,
   "metadata": {},
   "outputs": [
    {
     "data": {
      "text/plain": [
       "3405"
      ]
     },
     "execution_count": 152,
     "metadata": {},
     "output_type": "execute_result"
    }
   ],
   "source": [
    "len(df.query('teve_compra_depois == 0 & usou_chat_sim == 0'))"
   ]
  },
  {
   "cell_type": "code",
   "execution_count": 164,
   "metadata": {},
   "outputs": [
    {
     "data": {
      "text/plain": [
       "372"
      ]
     },
     "execution_count": 164,
     "metadata": {},
     "output_type": "execute_result"
    }
   ],
   "source": [
    "len(df.query('teve_compra_depois == 0 & usou_chat_sim == 0 & compra_depois_propensao == 0'))"
   ]
  },
  {
   "cell_type": "code",
   "execution_count": 165,
   "metadata": {},
   "outputs": [
    {
     "data": {
      "text/plain": [
       "3033"
      ]
     },
     "execution_count": 165,
     "metadata": {},
     "output_type": "execute_result"
    }
   ],
   "source": [
    "len(df.query('teve_compra_depois == 0 & usou_chat_sim == 0 & compra_depois_propensao == 1'))"
   ]
  },
  {
   "cell_type": "code",
   "execution_count": 148,
   "metadata": {},
   "outputs": [
    {
     "data": {
      "text/plain": [
       "0    169905\n",
       "1      3033\n",
       "Name: flag_atribui_spending, dtype: int64"
      ]
     },
     "execution_count": 148,
     "metadata": {},
     "output_type": "execute_result"
    }
   ],
   "source": [
    "#vou inputar spending para o cliente que teve churn de fato, que foi sorteado para não ter atendimento na simulação e com baixo score de compra depois\n",
    "df['flag_atribui_spending'] = np.where((df['compra_depois_propensao'] == 1) & (df['teve_compra_depois'] == 0) & (df.usou_chat_sim == 0),1,0)\n",
    "df['flag_atribui_spending'].value_counts()"
   ]
  },
  {
   "cell_type": "code",
   "execution_count": 118,
   "metadata": {},
   "outputs": [
    {
     "name": "stdout",
     "output_type": "stream",
     "text": [
      "                             OLS Regression Results                             \n",
      "================================================================================\n",
      "Dep. Variable:     vl_compra_depois_60d   R-squared:                       0.498\n",
      "Model:                              OLS   Adj. R-squared:                  0.498\n",
      "Method:                   Least Squares   F-statistic:                     1650.\n",
      "Date:                  Mon, 19 Jun 2023   Prob (F-statistic):               0.00\n",
      "Time:                          21:31:17   Log-Likelihood:            -8.0006e+05\n",
      "No. Observations:                 91480   AIC:                         1.600e+06\n",
      "Df Residuals:                     91424   BIC:                         1.601e+06\n",
      "Df Model:                            55                                         \n",
      "Covariance Type:              nonrobust                                         \n",
      "========================================================================================================================\n",
      "                                                           coef    std err          t      P>|t|      [0.025      0.975]\n",
      "------------------------------------------------------------------------------------------------------------------------\n",
      "Intercept                                              830.2634    214.051      3.879      0.000     410.725    1249.801\n",
      "C(periodo_depois30_fim)[T.datetime.date(2023, 4, 1)]    70.2491     12.370      5.679      0.000      46.004      94.494\n",
      "C(periodo_depois30_fim)[T.datetime.date(2023, 5, 1)]   113.7748     12.506      9.098      0.000      89.263     138.286\n",
      "C(ds_gender)[T.MALE]                                    70.5046     10.412      6.772      0.000      50.098      90.911\n",
      "C(ds_state_abbreviation)[T.AL]                        -102.6254     99.254     -1.034      0.301    -297.162      91.911\n",
      "C(ds_state_abbreviation)[T.AM]                        -127.4486    112.674     -1.131      0.258    -348.289      93.392\n",
      "C(ds_state_abbreviation)[T.AP]                        -132.3240    142.379     -0.929      0.353    -411.385     146.737\n",
      "C(ds_state_abbreviation)[T.BA]                        -104.6820     96.224     -1.088      0.277    -293.280      83.916\n",
      "C(ds_state_abbreviation)[T.CE]                        -114.4076     96.563     -1.185      0.236    -303.670      74.855\n",
      "C(ds_state_abbreviation)[T.DF]                         -73.4054    109.585     -0.670      0.503    -288.191     141.381\n",
      "C(ds_state_abbreviation)[T.ES]                         -86.3621    100.507     -0.859      0.390    -283.355     110.631\n",
      "C(ds_state_abbreviation)[T.GO]                         -62.4346     98.300     -0.635      0.525    -255.101     130.232\n",
      "C(ds_state_abbreviation)[T.MA]                        -139.2399     99.003     -1.406      0.160    -333.285      54.805\n",
      "C(ds_state_abbreviation)[T.MG]                         -60.3710     96.735     -0.624      0.533    -249.970     129.228\n",
      "C(ds_state_abbreviation)[T.MS]                           4.8447    117.227      0.041      0.967    -224.920     234.609\n",
      "C(ds_state_abbreviation)[T.MT]                          -9.5404    110.359     -0.086      0.931    -225.842     206.761\n",
      "C(ds_state_abbreviation)[T.PA]                        -117.4012     99.227     -1.183      0.237    -311.885      77.083\n",
      "C(ds_state_abbreviation)[T.PB]                         -70.6687     98.356     -0.718      0.472    -263.445     122.108\n",
      "C(ds_state_abbreviation)[T.PE]                        -102.5367     96.742     -1.060      0.289    -292.149      87.076\n",
      "C(ds_state_abbreviation)[T.PI]                        -146.2309    100.575     -1.454      0.146    -343.357      50.896\n",
      "C(ds_state_abbreviation)[T.PR]                          24.3659    100.781      0.242      0.809    -173.165     221.896\n",
      "C(ds_state_abbreviation)[T.RJ]                        -109.9964     98.124     -1.121      0.262    -302.318      82.325\n",
      "C(ds_state_abbreviation)[T.RN]                         -84.9943     98.556     -0.862      0.388    -278.163     108.174\n",
      "C(ds_state_abbreviation)[T.RO]                        -129.5584    116.769     -1.110      0.267    -358.425      99.308\n",
      "C(ds_state_abbreviation)[T.RR]                         -60.4485    177.031     -0.341      0.733    -407.427     286.530\n",
      "C(ds_state_abbreviation)[T.RS]                        -163.9911    104.185     -1.574      0.115    -368.193      40.211\n",
      "C(ds_state_abbreviation)[T.SC]                         -13.4274    103.549     -0.130      0.897    -216.383     189.528\n",
      "C(ds_state_abbreviation)[T.SE]                        -187.3745    101.501     -1.846      0.065    -386.314      11.565\n",
      "C(ds_state_abbreviation)[T.SP]                         -80.4150     96.955     -0.829      0.407    -270.446     109.616\n",
      "C(ds_state_abbreviation)[T.TO]                        -138.5183    109.968     -1.260      0.208    -354.055      77.019\n",
      "C(ds_schooling)[T.COMPLETE_ELEMENTARY]                -306.8588    189.826     -1.617      0.106    -678.915      65.197\n",
      "C(ds_schooling)[T.COMPLETE_HIGHER_EDUCATION]          -299.0633    189.407     -1.579      0.114    -670.299      72.172\n",
      "C(ds_schooling)[T.COMPLETE_HIGH_SCHOOL]               -357.5570    188.809     -1.894      0.058    -727.621      12.507\n",
      "C(ds_schooling)[T.COMPLETE_MASTER]                     417.0824    231.701      1.800      0.072     -37.049     871.213\n",
      "C(ds_schooling)[T.COMPLETE_POST_GRADUATE]             -243.8797    192.553     -1.267      0.205    -621.281     133.522\n",
      "C(ds_schooling)[T.INCOMPLETE_DOCTORATE]               -504.5491    322.009     -1.567      0.117   -1135.683     126.585\n",
      "C(ds_schooling)[T.INCOMPLETE_ELEMENTARY]              -327.0687    189.716     -1.724      0.085    -698.910      44.772\n",
      "C(ds_schooling)[T.INCOMPLETE_HIGHER_EDUCATION]        -325.3372    189.147     -1.720      0.085    -696.063      45.389\n",
      "C(ds_schooling)[T.INCOMPLETE_HIGH_SCHOOL]             -342.3151    189.668     -1.805      0.071    -714.062      29.432\n",
      "C(ds_schooling)[T.INCOMPLETE_MASTER]                  -482.4693    240.560     -2.006      0.045    -953.964     -10.975\n",
      "C(ds_schooling)[T.INCOMPLETE_POST_GRADUATE]           -372.8593    196.322     -1.899      0.058    -757.648      11.929\n",
      "C(ds_schooling)[T.OTHER]                              -353.3285    195.211     -1.810      0.070    -735.939      29.282\n",
      "C(ds_marital_status)[T.MARRIED]                        -45.0528     30.538     -1.475      0.140    -104.907      14.801\n",
      "C(ds_marital_status)[T.OTHERS]                           3.4914     39.239      0.089      0.929     -73.416      80.399\n",
      "C(ds_marital_status)[T.SEPARATE]                      -116.7750     63.844     -1.829      0.067    -241.909       8.359\n",
      "C(ds_marital_status)[T.SINGLE]                         -77.5536     29.374     -2.640      0.008    -135.125     -19.982\n",
      "C(ds_marital_status)[T.WIDOWER]                        -28.2629     59.625     -0.474      0.635    -145.127      88.601\n",
      "C(ds_city_size)[T.medio]                               -30.0869     15.297     -1.967      0.049     -60.069      -0.105\n",
      "C(ds_city_size)[T.pequeno]                             -77.3406     13.240     -5.842      0.000    -103.290     -51.391\n",
      "qt_compra_antes_90d                                    348.5445    195.960      1.779      0.075     -35.535     732.624\n",
      "vl_current_limit                                      1.149e+04    190.816     60.210      0.000    1.11e+04    1.19e+04\n",
      "cc_time                                               -711.8472    128.566     -5.537      0.000    -963.835    -459.859\n",
      "dias_ativacao                                          746.1847    137.456      5.429      0.000     476.773    1015.596\n",
      "vl_compra_antes_90d                                      0.4104      0.002    172.627      0.000       0.406       0.415\n",
      "vl_renda_declarada                                    -152.5403    418.241     -0.365      0.715    -972.289     667.208\n",
      "dias_uso_app                                            -4.9615     38.831     -0.128      0.898     -81.069      71.146\n",
      "==============================================================================\n",
      "Omnibus:                    81820.105   Durbin-Watson:                   1.995\n",
      "Prob(Omnibus):                  0.000   Jarque-Bera (JB):         13496808.366\n",
      "Skew:                           3.725   Prob(JB):                         0.00\n",
      "Kurtosis:                      62.038   Cond. No.                     4.82e+05\n",
      "==============================================================================\n",
      "\n",
      "Notes:\n",
      "[1] Standard Errors assume that the covariance matrix of the errors is correctly specified.\n",
      "[2] The condition number is large, 4.82e+05. This might indicate that there are\n",
      "strong multicollinearity or other numerical problems.\n"
     ]
    }
   ],
   "source": [
    "df_comprou = df.query('teve_compra_depois == 1')\n",
    "\n",
    "formula_text = (\"\"\"\n",
    "    vl_compra_depois_60d ~ \n",
    "    C(periodo_depois30_fim) + \n",
    "       qt_compra_antes_90d +  vl_current_limit + \n",
    "       C(ds_gender) + C(ds_state_abbreviation) + C(ds_schooling) + \n",
    "       C(ds_marital_status) + cc_time + dias_ativacao + \n",
    "       C(ds_city_size) + vl_compra_antes_90d + vl_renda_declarada  + dias_uso_app\n",
    "    \"\"\")\n",
    "\n",
    "model = ols(formula = formula_text, data = df_comprou).fit()\n",
    "print(model.summary())"
   ]
  },
  {
   "cell_type": "code",
   "execution_count": 119,
   "metadata": {},
   "outputs": [],
   "source": [
    "df_nao_comprou = df.query('flag_atribui_spending == 1')"
   ]
  },
  {
   "cell_type": "code",
   "execution_count": 125,
   "metadata": {},
   "outputs": [
    {
     "data": {
      "text/html": [
       "<div>\n",
       "<style scoped>\n",
       "    .dataframe tbody tr th:only-of-type {\n",
       "        vertical-align: middle;\n",
       "    }\n",
       "\n",
       "    .dataframe tbody tr th {\n",
       "        vertical-align: top;\n",
       "    }\n",
       "\n",
       "    .dataframe thead th {\n",
       "        text-align: right;\n",
       "    }\n",
       "</style>\n",
       "<table border=\"1\" class=\"dataframe\">\n",
       "  <thead>\n",
       "    <tr style=\"text-align: right;\">\n",
       "      <th></th>\n",
       "      <th>cpf</th>\n",
       "      <th>dt_mes_true</th>\n",
       "      <th>periodo_antes_inicio</th>\n",
       "      <th>periodo_antes_fim</th>\n",
       "      <th>periodo_depois_inicio</th>\n",
       "      <th>periodo_depois_fim</th>\n",
       "      <th>periodo_depois30_fim</th>\n",
       "      <th>qt_compra_antes_90d</th>\n",
       "      <th>dt_last_use_credit</th>\n",
       "      <th>vl_current_limit</th>\n",
       "      <th>...</th>\n",
       "      <th>aleat</th>\n",
       "      <th>usou_chat_sim</th>\n",
       "      <th>flag_problema_sim</th>\n",
       "      <th>teve_compra_depois</th>\n",
       "      <th>rawPrediction</th>\n",
       "      <th>score_compra_depois</th>\n",
       "      <th>fx_score</th>\n",
       "      <th>compra_depois_propensao</th>\n",
       "      <th>flag_atribui_spending</th>\n",
       "      <th>fx_score2</th>\n",
       "    </tr>\n",
       "  </thead>\n",
       "  <tbody>\n",
       "    <tr>\n",
       "      <th>123</th>\n",
       "      <td>18396203741</td>\n",
       "      <td>2023-01-01</td>\n",
       "      <td>2022-10-02</td>\n",
       "      <td>2022-12-31</td>\n",
       "      <td>2023-02-01</td>\n",
       "      <td>2023-04-01</td>\n",
       "      <td>2023-03-01</td>\n",
       "      <td>0.000000</td>\n",
       "      <td>2022-10-20</td>\n",
       "      <td>0.024267</td>\n",
       "      <td>...</td>\n",
       "      <td>0.911277</td>\n",
       "      <td>0</td>\n",
       "      <td>0</td>\n",
       "      <td>0</td>\n",
       "      <td>-0.643411</td>\n",
       "      <td>0.344476</td>\n",
       "      <td>0.3</td>\n",
       "      <td>0</td>\n",
       "      <td>1</td>\n",
       "      <td>0.3</td>\n",
       "    </tr>\n",
       "    <tr>\n",
       "      <th>227</th>\n",
       "      <td>17202936607</td>\n",
       "      <td>2023-01-01</td>\n",
       "      <td>2022-10-02</td>\n",
       "      <td>2022-12-31</td>\n",
       "      <td>2023-02-01</td>\n",
       "      <td>2023-04-01</td>\n",
       "      <td>2023-03-01</td>\n",
       "      <td>0.006702</td>\n",
       "      <td>2022-10-16</td>\n",
       "      <td>0.001111</td>\n",
       "      <td>...</td>\n",
       "      <td>0.925460</td>\n",
       "      <td>0</td>\n",
       "      <td>0</td>\n",
       "      <td>0</td>\n",
       "      <td>-0.042198</td>\n",
       "      <td>0.489452</td>\n",
       "      <td>0.5</td>\n",
       "      <td>0</td>\n",
       "      <td>1</td>\n",
       "      <td>0.5</td>\n",
       "    </tr>\n",
       "    <tr>\n",
       "      <th>631</th>\n",
       "      <td>05208266636</td>\n",
       "      <td>2023-02-01</td>\n",
       "      <td>2022-11-02</td>\n",
       "      <td>2023-01-31</td>\n",
       "      <td>2023-03-01</td>\n",
       "      <td>2023-05-01</td>\n",
       "      <td>2023-04-01</td>\n",
       "      <td>0.001340</td>\n",
       "      <td>2023-01-13</td>\n",
       "      <td>0.011111</td>\n",
       "      <td>...</td>\n",
       "      <td>0.957580</td>\n",
       "      <td>0</td>\n",
       "      <td>0</td>\n",
       "      <td>0</td>\n",
       "      <td>-0.312669</td>\n",
       "      <td>0.422463</td>\n",
       "      <td>0.4</td>\n",
       "      <td>0</td>\n",
       "      <td>1</td>\n",
       "      <td>0.4</td>\n",
       "    </tr>\n",
       "    <tr>\n",
       "      <th>1018</th>\n",
       "      <td>07768157338</td>\n",
       "      <td>2023-02-01</td>\n",
       "      <td>2022-11-02</td>\n",
       "      <td>2023-01-31</td>\n",
       "      <td>2023-03-01</td>\n",
       "      <td>2023-05-01</td>\n",
       "      <td>2023-04-01</td>\n",
       "      <td>0.000000</td>\n",
       "      <td>2022-12-19</td>\n",
       "      <td>0.013333</td>\n",
       "      <td>...</td>\n",
       "      <td>0.949901</td>\n",
       "      <td>0</td>\n",
       "      <td>0</td>\n",
       "      <td>0</td>\n",
       "      <td>-1.735896</td>\n",
       "      <td>0.149835</td>\n",
       "      <td>0.1</td>\n",
       "      <td>0</td>\n",
       "      <td>1</td>\n",
       "      <td>0.1</td>\n",
       "    </tr>\n",
       "    <tr>\n",
       "      <th>1165</th>\n",
       "      <td>97997188053</td>\n",
       "      <td>2023-01-01</td>\n",
       "      <td>2022-10-02</td>\n",
       "      <td>2022-12-31</td>\n",
       "      <td>2023-02-01</td>\n",
       "      <td>2023-04-01</td>\n",
       "      <td>2023-03-01</td>\n",
       "      <td>0.000000</td>\n",
       "      <td>2022-12-23</td>\n",
       "      <td>0.026667</td>\n",
       "      <td>...</td>\n",
       "      <td>0.917868</td>\n",
       "      <td>0</td>\n",
       "      <td>0</td>\n",
       "      <td>0</td>\n",
       "      <td>-0.886450</td>\n",
       "      <td>0.291843</td>\n",
       "      <td>0.3</td>\n",
       "      <td>0</td>\n",
       "      <td>1</td>\n",
       "      <td>0.3</td>\n",
       "    </tr>\n",
       "  </tbody>\n",
       "</table>\n",
       "<p>5 rows × 45 columns</p>\n",
       "</div>"
      ],
      "text/plain": [
       "              cpf dt_mes_true periodo_antes_inicio periodo_antes_fim  \\\n",
       "123   18396203741  2023-01-01           2022-10-02        2022-12-31   \n",
       "227   17202936607  2023-01-01           2022-10-02        2022-12-31   \n",
       "631   05208266636  2023-02-01           2022-11-02        2023-01-31   \n",
       "1018  07768157338  2023-02-01           2022-11-02        2023-01-31   \n",
       "1165  97997188053  2023-01-01           2022-10-02        2022-12-31   \n",
       "\n",
       "     periodo_depois_inicio periodo_depois_fim periodo_depois30_fim  \\\n",
       "123             2023-02-01         2023-04-01           2023-03-01   \n",
       "227             2023-02-01         2023-04-01           2023-03-01   \n",
       "631             2023-03-01         2023-05-01           2023-04-01   \n",
       "1018            2023-03-01         2023-05-01           2023-04-01   \n",
       "1165            2023-02-01         2023-04-01           2023-03-01   \n",
       "\n",
       "      qt_compra_antes_90d dt_last_use_credit  vl_current_limit  ...     aleat  \\\n",
       "123              0.000000         2022-10-20          0.024267  ...  0.911277   \n",
       "227              0.006702         2022-10-16          0.001111  ...  0.925460   \n",
       "631              0.001340         2023-01-13          0.011111  ...  0.957580   \n",
       "1018             0.000000         2022-12-19          0.013333  ...  0.949901   \n",
       "1165             0.000000         2022-12-23          0.026667  ...  0.917868   \n",
       "\n",
       "      usou_chat_sim  flag_problema_sim  teve_compra_depois  rawPrediction  \\\n",
       "123               0                  0                   0      -0.643411   \n",
       "227               0                  0                   0      -0.042198   \n",
       "631               0                  0                   0      -0.312669   \n",
       "1018              0                  0                   0      -1.735896   \n",
       "1165              0                  0                   0      -0.886450   \n",
       "\n",
       "     score_compra_depois fx_score compra_depois_propensao  \\\n",
       "123             0.344476      0.3                       0   \n",
       "227             0.489452      0.5                       0   \n",
       "631             0.422463      0.4                       0   \n",
       "1018            0.149835      0.1                       0   \n",
       "1165            0.291843      0.3                       0   \n",
       "\n",
       "     flag_atribui_spending fx_score2  \n",
       "123                      1       0.3  \n",
       "227                      1       0.5  \n",
       "631                      1       0.4  \n",
       "1018                     1       0.1  \n",
       "1165                     1       0.3  \n",
       "\n",
       "[5 rows x 45 columns]"
      ]
     },
     "execution_count": 125,
     "metadata": {},
     "output_type": "execute_result"
    }
   ],
   "source": [
    "#lidar com NAS\n",
    "df_nao_comprou.head()"
   ]
  },
  {
   "cell_type": "code",
   "execution_count": 127,
   "metadata": {},
   "outputs": [
    {
     "name": "stderr",
     "output_type": "stream",
     "text": [
      "/tmp/ipykernel_85664/2382570217.py:3: SettingWithCopyWarning: \n",
      "A value is trying to be set on a copy of a slice from a DataFrame\n",
      "\n",
      "See the caveats in the documentation: https://pandas.pydata.org/pandas-docs/stable/user_guide/indexing.html#returning-a-view-versus-a-copy\n",
      "  df_nao_comprou[column].fillna(df_nao_comprou[column].mode()[0], inplace = True)\n",
      "/tmp/ipykernel_85664/2382570217.py:3: SettingWithCopyWarning: \n",
      "A value is trying to be set on a copy of a slice from a DataFrame\n",
      "\n",
      "See the caveats in the documentation: https://pandas.pydata.org/pandas-docs/stable/user_guide/indexing.html#returning-a-view-versus-a-copy\n",
      "  df_nao_comprou[column].fillna(df_nao_comprou[column].mode()[0], inplace = True)\n",
      "/tmp/ipykernel_85664/2382570217.py:3: SettingWithCopyWarning: \n",
      "A value is trying to be set on a copy of a slice from a DataFrame\n",
      "\n",
      "See the caveats in the documentation: https://pandas.pydata.org/pandas-docs/stable/user_guide/indexing.html#returning-a-view-versus-a-copy\n",
      "  df_nao_comprou[column].fillna(df_nao_comprou[column].mode()[0], inplace = True)\n",
      "/tmp/ipykernel_85664/2382570217.py:3: SettingWithCopyWarning: \n",
      "A value is trying to be set on a copy of a slice from a DataFrame\n",
      "\n",
      "See the caveats in the documentation: https://pandas.pydata.org/pandas-docs/stable/user_guide/indexing.html#returning-a-view-versus-a-copy\n",
      "  df_nao_comprou[column].fillna(df_nao_comprou[column].mode()[0], inplace = True)\n",
      "/tmp/ipykernel_85664/2382570217.py:3: SettingWithCopyWarning: \n",
      "A value is trying to be set on a copy of a slice from a DataFrame\n",
      "\n",
      "See the caveats in the documentation: https://pandas.pydata.org/pandas-docs/stable/user_guide/indexing.html#returning-a-view-versus-a-copy\n",
      "  df_nao_comprou[column].fillna(df_nao_comprou[column].mode()[0], inplace = True)\n",
      "/tmp/ipykernel_85664/2382570217.py:3: SettingWithCopyWarning: \n",
      "A value is trying to be set on a copy of a slice from a DataFrame\n",
      "\n",
      "See the caveats in the documentation: https://pandas.pydata.org/pandas-docs/stable/user_guide/indexing.html#returning-a-view-versus-a-copy\n",
      "  df_nao_comprou[column].fillna(df_nao_comprou[column].mode()[0], inplace = True)\n",
      "/tmp/ipykernel_85664/2382570217.py:3: SettingWithCopyWarning: \n",
      "A value is trying to be set on a copy of a slice from a DataFrame\n",
      "\n",
      "See the caveats in the documentation: https://pandas.pydata.org/pandas-docs/stable/user_guide/indexing.html#returning-a-view-versus-a-copy\n",
      "  df_nao_comprou[column].fillna(df_nao_comprou[column].mode()[0], inplace = True)\n",
      "/tmp/ipykernel_85664/2382570217.py:5: SettingWithCopyWarning: \n",
      "A value is trying to be set on a copy of a slice from a DataFrame\n",
      "\n",
      "See the caveats in the documentation: https://pandas.pydata.org/pandas-docs/stable/user_guide/indexing.html#returning-a-view-versus-a-copy\n",
      "  df_nao_comprou[column].fillna(df_nao_comprou[column].median(), inplace = True)\n",
      "/tmp/ipykernel_85664/2382570217.py:3: SettingWithCopyWarning: \n",
      "A value is trying to be set on a copy of a slice from a DataFrame\n",
      "\n",
      "See the caveats in the documentation: https://pandas.pydata.org/pandas-docs/stable/user_guide/indexing.html#returning-a-view-versus-a-copy\n",
      "  df_nao_comprou[column].fillna(df_nao_comprou[column].mode()[0], inplace = True)\n",
      "/tmp/ipykernel_85664/2382570217.py:5: SettingWithCopyWarning: \n",
      "A value is trying to be set on a copy of a slice from a DataFrame\n",
      "\n",
      "See the caveats in the documentation: https://pandas.pydata.org/pandas-docs/stable/user_guide/indexing.html#returning-a-view-versus-a-copy\n",
      "  df_nao_comprou[column].fillna(df_nao_comprou[column].median(), inplace = True)\n",
      "/tmp/ipykernel_85664/2382570217.py:5: SettingWithCopyWarning: \n",
      "A value is trying to be set on a copy of a slice from a DataFrame\n",
      "\n",
      "See the caveats in the documentation: https://pandas.pydata.org/pandas-docs/stable/user_guide/indexing.html#returning-a-view-versus-a-copy\n",
      "  df_nao_comprou[column].fillna(df_nao_comprou[column].median(), inplace = True)\n",
      "/tmp/ipykernel_85664/2382570217.py:5: SettingWithCopyWarning: \n",
      "A value is trying to be set on a copy of a slice from a DataFrame\n",
      "\n",
      "See the caveats in the documentation: https://pandas.pydata.org/pandas-docs/stable/user_guide/indexing.html#returning-a-view-versus-a-copy\n",
      "  df_nao_comprou[column].fillna(df_nao_comprou[column].median(), inplace = True)\n",
      "/tmp/ipykernel_85664/2382570217.py:5: SettingWithCopyWarning: \n",
      "A value is trying to be set on a copy of a slice from a DataFrame\n",
      "\n",
      "See the caveats in the documentation: https://pandas.pydata.org/pandas-docs/stable/user_guide/indexing.html#returning-a-view-versus-a-copy\n",
      "  df_nao_comprou[column].fillna(df_nao_comprou[column].median(), inplace = True)\n",
      "/tmp/ipykernel_85664/2382570217.py:5: SettingWithCopyWarning: \n",
      "A value is trying to be set on a copy of a slice from a DataFrame\n",
      "\n",
      "See the caveats in the documentation: https://pandas.pydata.org/pandas-docs/stable/user_guide/indexing.html#returning-a-view-versus-a-copy\n",
      "  df_nao_comprou[column].fillna(df_nao_comprou[column].median(), inplace = True)\n",
      "/tmp/ipykernel_85664/2382570217.py:5: SettingWithCopyWarning: \n",
      "A value is trying to be set on a copy of a slice from a DataFrame\n",
      "\n",
      "See the caveats in the documentation: https://pandas.pydata.org/pandas-docs/stable/user_guide/indexing.html#returning-a-view-versus-a-copy\n",
      "  df_nao_comprou[column].fillna(df_nao_comprou[column].median(), inplace = True)\n",
      "/tmp/ipykernel_85664/2382570217.py:3: SettingWithCopyWarning: \n",
      "A value is trying to be set on a copy of a slice from a DataFrame\n",
      "\n",
      "See the caveats in the documentation: https://pandas.pydata.org/pandas-docs/stable/user_guide/indexing.html#returning-a-view-versus-a-copy\n",
      "  df_nao_comprou[column].fillna(df_nao_comprou[column].mode()[0], inplace = True)\n",
      "/tmp/ipykernel_85664/2382570217.py:3: SettingWithCopyWarning: \n",
      "A value is trying to be set on a copy of a slice from a DataFrame\n",
      "\n",
      "See the caveats in the documentation: https://pandas.pydata.org/pandas-docs/stable/user_guide/indexing.html#returning-a-view-versus-a-copy\n",
      "  df_nao_comprou[column].fillna(df_nao_comprou[column].mode()[0], inplace = True)\n",
      "/tmp/ipykernel_85664/2382570217.py:3: SettingWithCopyWarning: \n",
      "A value is trying to be set on a copy of a slice from a DataFrame\n",
      "\n",
      "See the caveats in the documentation: https://pandas.pydata.org/pandas-docs/stable/user_guide/indexing.html#returning-a-view-versus-a-copy\n",
      "  df_nao_comprou[column].fillna(df_nao_comprou[column].mode()[0], inplace = True)\n",
      "/tmp/ipykernel_85664/2382570217.py:5: SettingWithCopyWarning: \n",
      "A value is trying to be set on a copy of a slice from a DataFrame\n",
      "\n",
      "See the caveats in the documentation: https://pandas.pydata.org/pandas-docs/stable/user_guide/indexing.html#returning-a-view-versus-a-copy\n",
      "  df_nao_comprou[column].fillna(df_nao_comprou[column].median(), inplace = True)\n",
      "/tmp/ipykernel_85664/2382570217.py:3: SettingWithCopyWarning: \n",
      "A value is trying to be set on a copy of a slice from a DataFrame\n",
      "\n",
      "See the caveats in the documentation: https://pandas.pydata.org/pandas-docs/stable/user_guide/indexing.html#returning-a-view-versus-a-copy\n",
      "  df_nao_comprou[column].fillna(df_nao_comprou[column].mode()[0], inplace = True)\n",
      "/tmp/ipykernel_85664/2382570217.py:3: SettingWithCopyWarning: \n",
      "A value is trying to be set on a copy of a slice from a DataFrame\n",
      "\n",
      "See the caveats in the documentation: https://pandas.pydata.org/pandas-docs/stable/user_guide/indexing.html#returning-a-view-versus-a-copy\n",
      "  df_nao_comprou[column].fillna(df_nao_comprou[column].mode()[0], inplace = True)\n",
      "/tmp/ipykernel_85664/2382570217.py:5: SettingWithCopyWarning: \n",
      "A value is trying to be set on a copy of a slice from a DataFrame\n",
      "\n",
      "See the caveats in the documentation: https://pandas.pydata.org/pandas-docs/stable/user_guide/indexing.html#returning-a-view-versus-a-copy\n",
      "  df_nao_comprou[column].fillna(df_nao_comprou[column].median(), inplace = True)\n",
      "/tmp/ipykernel_85664/2382570217.py:3: SettingWithCopyWarning: \n",
      "A value is trying to be set on a copy of a slice from a DataFrame\n",
      "\n",
      "See the caveats in the documentation: https://pandas.pydata.org/pandas-docs/stable/user_guide/indexing.html#returning-a-view-versus-a-copy\n",
      "  df_nao_comprou[column].fillna(df_nao_comprou[column].mode()[0], inplace = True)\n",
      "/tmp/ipykernel_85664/2382570217.py:5: SettingWithCopyWarning: \n",
      "A value is trying to be set on a copy of a slice from a DataFrame\n",
      "\n",
      "See the caveats in the documentation: https://pandas.pydata.org/pandas-docs/stable/user_guide/indexing.html#returning-a-view-versus-a-copy\n",
      "  df_nao_comprou[column].fillna(df_nao_comprou[column].median(), inplace = True)\n",
      "/tmp/ipykernel_85664/2382570217.py:5: SettingWithCopyWarning: \n",
      "A value is trying to be set on a copy of a slice from a DataFrame\n",
      "\n",
      "See the caveats in the documentation: https://pandas.pydata.org/pandas-docs/stable/user_guide/indexing.html#returning-a-view-versus-a-copy\n",
      "  df_nao_comprou[column].fillna(df_nao_comprou[column].median(), inplace = True)\n",
      "/tmp/ipykernel_85664/2382570217.py:5: SettingWithCopyWarning: \n",
      "A value is trying to be set on a copy of a slice from a DataFrame\n",
      "\n",
      "See the caveats in the documentation: https://pandas.pydata.org/pandas-docs/stable/user_guide/indexing.html#returning-a-view-versus-a-copy\n",
      "  df_nao_comprou[column].fillna(df_nao_comprou[column].median(), inplace = True)\n",
      "/tmp/ipykernel_85664/2382570217.py:5: SettingWithCopyWarning: \n",
      "A value is trying to be set on a copy of a slice from a DataFrame\n",
      "\n",
      "See the caveats in the documentation: https://pandas.pydata.org/pandas-docs/stable/user_guide/indexing.html#returning-a-view-versus-a-copy\n",
      "  df_nao_comprou[column].fillna(df_nao_comprou[column].median(), inplace = True)\n",
      "/tmp/ipykernel_85664/2382570217.py:5: SettingWithCopyWarning: \n",
      "A value is trying to be set on a copy of a slice from a DataFrame\n",
      "\n",
      "See the caveats in the documentation: https://pandas.pydata.org/pandas-docs/stable/user_guide/indexing.html#returning-a-view-versus-a-copy\n",
      "  df_nao_comprou[column].fillna(df_nao_comprou[column].median(), inplace = True)\n",
      "/home/flavia.costa/.local/lib/python3.8/site-packages/numpy/lib/nanfunctions.py:1215: RuntimeWarning: Mean of empty slice\n",
      "  return np.nanmean(a, axis, out=out, keepdims=keepdims)\n",
      "/tmp/ipykernel_85664/2382570217.py:5: SettingWithCopyWarning: \n",
      "A value is trying to be set on a copy of a slice from a DataFrame\n",
      "\n",
      "See the caveats in the documentation: https://pandas.pydata.org/pandas-docs/stable/user_guide/indexing.html#returning-a-view-versus-a-copy\n",
      "  df_nao_comprou[column].fillna(df_nao_comprou[column].median(), inplace = True)\n",
      "/tmp/ipykernel_85664/2382570217.py:5: SettingWithCopyWarning: \n",
      "A value is trying to be set on a copy of a slice from a DataFrame\n",
      "\n",
      "See the caveats in the documentation: https://pandas.pydata.org/pandas-docs/stable/user_guide/indexing.html#returning-a-view-versus-a-copy\n",
      "  df_nao_comprou[column].fillna(df_nao_comprou[column].median(), inplace = True)\n",
      "/home/flavia.costa/.local/lib/python3.8/site-packages/numpy/lib/nanfunctions.py:1215: RuntimeWarning: Mean of empty slice\n",
      "  return np.nanmean(a, axis, out=out, keepdims=keepdims)\n",
      "/tmp/ipykernel_85664/2382570217.py:5: SettingWithCopyWarning: \n",
      "A value is trying to be set on a copy of a slice from a DataFrame\n",
      "\n",
      "See the caveats in the documentation: https://pandas.pydata.org/pandas-docs/stable/user_guide/indexing.html#returning-a-view-versus-a-copy\n",
      "  df_nao_comprou[column].fillna(df_nao_comprou[column].median(), inplace = True)\n",
      "/tmp/ipykernel_85664/2382570217.py:5: SettingWithCopyWarning: \n",
      "A value is trying to be set on a copy of a slice from a DataFrame\n",
      "\n",
      "See the caveats in the documentation: https://pandas.pydata.org/pandas-docs/stable/user_guide/indexing.html#returning-a-view-versus-a-copy\n",
      "  df_nao_comprou[column].fillna(df_nao_comprou[column].median(), inplace = True)\n",
      "/tmp/ipykernel_85664/2382570217.py:5: SettingWithCopyWarning: \n",
      "A value is trying to be set on a copy of a slice from a DataFrame\n",
      "\n",
      "See the caveats in the documentation: https://pandas.pydata.org/pandas-docs/stable/user_guide/indexing.html#returning-a-view-versus-a-copy\n",
      "  df_nao_comprou[column].fillna(df_nao_comprou[column].median(), inplace = True)\n",
      "/tmp/ipykernel_85664/2382570217.py:5: SettingWithCopyWarning: \n",
      "A value is trying to be set on a copy of a slice from a DataFrame\n",
      "\n",
      "See the caveats in the documentation: https://pandas.pydata.org/pandas-docs/stable/user_guide/indexing.html#returning-a-view-versus-a-copy\n",
      "  df_nao_comprou[column].fillna(df_nao_comprou[column].median(), inplace = True)\n",
      "/tmp/ipykernel_85664/2382570217.py:5: SettingWithCopyWarning: \n",
      "A value is trying to be set on a copy of a slice from a DataFrame\n",
      "\n",
      "See the caveats in the documentation: https://pandas.pydata.org/pandas-docs/stable/user_guide/indexing.html#returning-a-view-versus-a-copy\n",
      "  df_nao_comprou[column].fillna(df_nao_comprou[column].median(), inplace = True)\n",
      "/tmp/ipykernel_85664/2382570217.py:5: SettingWithCopyWarning: \n",
      "A value is trying to be set on a copy of a slice from a DataFrame\n",
      "\n",
      "See the caveats in the documentation: https://pandas.pydata.org/pandas-docs/stable/user_guide/indexing.html#returning-a-view-versus-a-copy\n",
      "  df_nao_comprou[column].fillna(df_nao_comprou[column].median(), inplace = True)\n",
      "/tmp/ipykernel_85664/2382570217.py:5: SettingWithCopyWarning: \n",
      "A value is trying to be set on a copy of a slice from a DataFrame\n",
      "\n",
      "See the caveats in the documentation: https://pandas.pydata.org/pandas-docs/stable/user_guide/indexing.html#returning-a-view-versus-a-copy\n",
      "  df_nao_comprou[column].fillna(df_nao_comprou[column].median(), inplace = True)\n",
      "/tmp/ipykernel_85664/2382570217.py:5: SettingWithCopyWarning: \n",
      "A value is trying to be set on a copy of a slice from a DataFrame\n",
      "\n",
      "See the caveats in the documentation: https://pandas.pydata.org/pandas-docs/stable/user_guide/indexing.html#returning-a-view-versus-a-copy\n",
      "  df_nao_comprou[column].fillna(df_nao_comprou[column].median(), inplace = True)\n",
      "/tmp/ipykernel_85664/2382570217.py:5: SettingWithCopyWarning: \n",
      "A value is trying to be set on a copy of a slice from a DataFrame\n",
      "\n",
      "See the caveats in the documentation: https://pandas.pydata.org/pandas-docs/stable/user_guide/indexing.html#returning-a-view-versus-a-copy\n",
      "  df_nao_comprou[column].fillna(df_nao_comprou[column].median(), inplace = True)\n",
      "/tmp/ipykernel_85664/2382570217.py:5: SettingWithCopyWarning: \n",
      "A value is trying to be set on a copy of a slice from a DataFrame\n",
      "\n",
      "See the caveats in the documentation: https://pandas.pydata.org/pandas-docs/stable/user_guide/indexing.html#returning-a-view-versus-a-copy\n",
      "  df_nao_comprou[column].fillna(df_nao_comprou[column].median(), inplace = True)\n",
      "/tmp/ipykernel_85664/2382570217.py:5: SettingWithCopyWarning: \n",
      "A value is trying to be set on a copy of a slice from a DataFrame\n",
      "\n",
      "See the caveats in the documentation: https://pandas.pydata.org/pandas-docs/stable/user_guide/indexing.html#returning-a-view-versus-a-copy\n",
      "  df_nao_comprou[column].fillna(df_nao_comprou[column].median(), inplace = True)\n",
      "/tmp/ipykernel_85664/2382570217.py:5: SettingWithCopyWarning: \n",
      "A value is trying to be set on a copy of a slice from a DataFrame\n",
      "\n",
      "See the caveats in the documentation: https://pandas.pydata.org/pandas-docs/stable/user_guide/indexing.html#returning-a-view-versus-a-copy\n",
      "  df_nao_comprou[column].fillna(df_nao_comprou[column].median(), inplace = True)\n",
      "/tmp/ipykernel_85664/2382570217.py:5: SettingWithCopyWarning: \n",
      "A value is trying to be set on a copy of a slice from a DataFrame\n",
      "\n",
      "See the caveats in the documentation: https://pandas.pydata.org/pandas-docs/stable/user_guide/indexing.html#returning-a-view-versus-a-copy\n",
      "  df_nao_comprou[column].fillna(df_nao_comprou[column].median(), inplace = True)\n",
      "/tmp/ipykernel_85664/2382570217.py:5: SettingWithCopyWarning: \n",
      "A value is trying to be set on a copy of a slice from a DataFrame\n",
      "\n",
      "See the caveats in the documentation: https://pandas.pydata.org/pandas-docs/stable/user_guide/indexing.html#returning-a-view-versus-a-copy\n",
      "  df_nao_comprou[column].fillna(df_nao_comprou[column].median(), inplace = True)\n",
      "/tmp/ipykernel_85664/2382570217.py:5: SettingWithCopyWarning: \n",
      "A value is trying to be set on a copy of a slice from a DataFrame\n",
      "\n",
      "See the caveats in the documentation: https://pandas.pydata.org/pandas-docs/stable/user_guide/indexing.html#returning-a-view-versus-a-copy\n",
      "  df_nao_comprou[column].fillna(df_nao_comprou[column].median(), inplace = True)\n"
     ]
    }
   ],
   "source": [
    "for column in df_nao_comprou.columns:\n",
    "  if df_nao_comprou[column].dtype == 'object':\n",
    "    df_nao_comprou[column].fillna(df_nao_comprou[column].mode()[0], inplace = True)\n",
    "  elif df_nao_comprou[column].dtype != 'object':\n",
    "    df_nao_comprou[column].fillna(df_nao_comprou[column].median(), inplace = True)"
   ]
  },
  {
   "cell_type": "code",
   "execution_count": 128,
   "metadata": {},
   "outputs": [],
   "source": [
    "prediction = model.predict(df_nao_comprou)"
   ]
  },
  {
   "cell_type": "code",
   "execution_count": 122,
   "metadata": {},
   "outputs": [
    {
     "data": {
      "text/plain": [
       "372"
      ]
     },
     "execution_count": 122,
     "metadata": {},
     "output_type": "execute_result"
    }
   ],
   "source": [
    "len(prediction)"
   ]
  },
  {
   "cell_type": "code",
   "execution_count": 145,
   "metadata": {},
   "outputs": [
    {
     "data": {
      "text/plain": [
       "218997.99473159522"
      ]
     },
     "execution_count": 145,
     "metadata": {},
     "output_type": "execute_result"
    }
   ],
   "source": [
    "prediction.sum()"
   ]
  },
  {
   "cell_type": "code",
   "execution_count": 143,
   "metadata": {},
   "outputs": [
    {
     "name": "stderr",
     "output_type": "stream",
     "text": [
      "/tmp/ipykernel_85664/2520303333.py:1: SettingWithCopyWarning: \n",
      "A value is trying to be set on a copy of a slice from a DataFrame.\n",
      "Try using .loc[row_indexer,col_indexer] = value instead\n",
      "\n",
      "See the caveats in the documentation: https://pandas.pydata.org/pandas-docs/stable/user_guide/indexing.html#returning-a-view-versus-a-copy\n",
      "  df_nao_comprou['valor incremental'] = prediction\n"
     ]
    }
   ],
   "source": [
    "df_nao_comprou['valor incremental'] = prediction\n",
    "\n",
    "resultado_sim = df_nao_comprou[['hierarquia_1', 'valor incremental', 'dt_mes_true']].groupby(['hierarquia_1', 'dt_mes_true']).sum()\n",
    "resultado_sim = resultado_sim.reset_index()\n"
   ]
  },
  {
   "cell_type": "code",
   "execution_count": 144,
   "metadata": {},
   "outputs": [
    {
     "data": {
      "text/html": [
       "<div>\n",
       "<style scoped>\n",
       "    .dataframe tbody tr th:only-of-type {\n",
       "        vertical-align: middle;\n",
       "    }\n",
       "\n",
       "    .dataframe tbody tr th {\n",
       "        vertical-align: top;\n",
       "    }\n",
       "\n",
       "    .dataframe thead th {\n",
       "        text-align: right;\n",
       "    }\n",
       "</style>\n",
       "<table border=\"1\" class=\"dataframe\">\n",
       "  <thead>\n",
       "    <tr style=\"text-align: right;\">\n",
       "      <th></th>\n",
       "      <th>hierarquia_1</th>\n",
       "      <th>dt_mes_true</th>\n",
       "      <th>valor incremental</th>\n",
       "    </tr>\n",
       "  </thead>\n",
       "  <tbody>\n",
       "    <tr>\n",
       "      <th>0</th>\n",
       "      <td>Atendimento</td>\n",
       "      <td>2023-03-01</td>\n",
       "      <td>895.098652</td>\n",
       "    </tr>\n",
       "    <tr>\n",
       "      <th>1</th>\n",
       "      <td>Cartão</td>\n",
       "      <td>2023-01-01</td>\n",
       "      <td>35835.372399</td>\n",
       "    </tr>\n",
       "    <tr>\n",
       "      <th>2</th>\n",
       "      <td>Cartão</td>\n",
       "      <td>2023-02-01</td>\n",
       "      <td>25106.557788</td>\n",
       "    </tr>\n",
       "    <tr>\n",
       "      <th>3</th>\n",
       "      <td>Cartão</td>\n",
       "      <td>2023-03-01</td>\n",
       "      <td>23774.622652</td>\n",
       "    </tr>\n",
       "    <tr>\n",
       "      <th>4</th>\n",
       "      <td>Conta</td>\n",
       "      <td>2023-01-01</td>\n",
       "      <td>1174.110595</td>\n",
       "    </tr>\n",
       "    <tr>\n",
       "      <th>5</th>\n",
       "      <td>Conta</td>\n",
       "      <td>2023-02-01</td>\n",
       "      <td>3766.716992</td>\n",
       "    </tr>\n",
       "    <tr>\n",
       "      <th>6</th>\n",
       "      <td>Conta</td>\n",
       "      <td>2023-03-01</td>\n",
       "      <td>3894.413840</td>\n",
       "    </tr>\n",
       "    <tr>\n",
       "      <th>7</th>\n",
       "      <td>Crédito e Cobrança</td>\n",
       "      <td>2023-01-01</td>\n",
       "      <td>27446.697629</td>\n",
       "    </tr>\n",
       "    <tr>\n",
       "      <th>8</th>\n",
       "      <td>Crédito e Cobrança</td>\n",
       "      <td>2023-02-01</td>\n",
       "      <td>30422.547045</td>\n",
       "    </tr>\n",
       "    <tr>\n",
       "      <th>9</th>\n",
       "      <td>Crédito e Cobrança</td>\n",
       "      <td>2023-03-01</td>\n",
       "      <td>40829.437418</td>\n",
       "    </tr>\n",
       "    <tr>\n",
       "      <th>10</th>\n",
       "      <td>Fraude</td>\n",
       "      <td>2023-01-01</td>\n",
       "      <td>18297.587446</td>\n",
       "    </tr>\n",
       "    <tr>\n",
       "      <th>11</th>\n",
       "      <td>Fraude</td>\n",
       "      <td>2023-02-01</td>\n",
       "      <td>2809.932865</td>\n",
       "    </tr>\n",
       "    <tr>\n",
       "      <th>12</th>\n",
       "      <td>Fraude</td>\n",
       "      <td>2023-03-01</td>\n",
       "      <td>2056.987106</td>\n",
       "    </tr>\n",
       "    <tr>\n",
       "      <th>13</th>\n",
       "      <td>Marketing</td>\n",
       "      <td>2023-01-01</td>\n",
       "      <td>1810.014779</td>\n",
       "    </tr>\n",
       "    <tr>\n",
       "      <th>14</th>\n",
       "      <td>Marketing</td>\n",
       "      <td>2023-03-01</td>\n",
       "      <td>396.298322</td>\n",
       "    </tr>\n",
       "    <tr>\n",
       "      <th>15</th>\n",
       "      <td>Tecnologia</td>\n",
       "      <td>2023-02-01</td>\n",
       "      <td>481.599205</td>\n",
       "    </tr>\n",
       "  </tbody>\n",
       "</table>\n",
       "</div>"
      ],
      "text/plain": [
       "          hierarquia_1 dt_mes_true  valor incremental\n",
       "0          Atendimento  2023-03-01         895.098652\n",
       "1               Cartão  2023-01-01       35835.372399\n",
       "2               Cartão  2023-02-01       25106.557788\n",
       "3               Cartão  2023-03-01       23774.622652\n",
       "4                Conta  2023-01-01        1174.110595\n",
       "5                Conta  2023-02-01        3766.716992\n",
       "6                Conta  2023-03-01        3894.413840\n",
       "7   Crédito e Cobrança  2023-01-01       27446.697629\n",
       "8   Crédito e Cobrança  2023-02-01       30422.547045\n",
       "9   Crédito e Cobrança  2023-03-01       40829.437418\n",
       "10              Fraude  2023-01-01       18297.587446\n",
       "11              Fraude  2023-02-01        2809.932865\n",
       "12              Fraude  2023-03-01        2056.987106\n",
       "13           Marketing  2023-01-01        1810.014779\n",
       "14           Marketing  2023-03-01         396.298322\n",
       "15          Tecnologia  2023-02-01         481.599205"
      ]
     },
     "execution_count": 144,
     "metadata": {},
     "output_type": "execute_result"
    }
   ],
   "source": [
    "resultado_sim"
   ]
  },
  {
   "cell_type": "code",
   "execution_count": 139,
   "metadata": {},
   "outputs": [
    {
     "data": {
      "text/html": [
       "<div>\n",
       "<style scoped>\n",
       "    .dataframe tbody tr th:only-of-type {\n",
       "        vertical-align: middle;\n",
       "    }\n",
       "\n",
       "    .dataframe tbody tr th {\n",
       "        vertical-align: top;\n",
       "    }\n",
       "\n",
       "    .dataframe thead th {\n",
       "        text-align: right;\n",
       "    }\n",
       "</style>\n",
       "<table border=\"1\" class=\"dataframe\">\n",
       "  <thead>\n",
       "    <tr style=\"text-align: right;\">\n",
       "      <th></th>\n",
       "      <th>hierarquia_1</th>\n",
       "      <th>valor incremental</th>\n",
       "    </tr>\n",
       "  </thead>\n",
       "  <tbody>\n",
       "    <tr>\n",
       "      <th>0</th>\n",
       "      <td>Atendimento</td>\n",
       "      <td>895.098652</td>\n",
       "    </tr>\n",
       "    <tr>\n",
       "      <th>1</th>\n",
       "      <td>Cartão</td>\n",
       "      <td>84716.552839</td>\n",
       "    </tr>\n",
       "    <tr>\n",
       "      <th>2</th>\n",
       "      <td>Conta</td>\n",
       "      <td>8835.241427</td>\n",
       "    </tr>\n",
       "    <tr>\n",
       "      <th>3</th>\n",
       "      <td>Crédito e Cobrança</td>\n",
       "      <td>98698.682091</td>\n",
       "    </tr>\n",
       "    <tr>\n",
       "      <th>4</th>\n",
       "      <td>Fraude</td>\n",
       "      <td>23164.507417</td>\n",
       "    </tr>\n",
       "    <tr>\n",
       "      <th>5</th>\n",
       "      <td>Marketing</td>\n",
       "      <td>2206.313101</td>\n",
       "    </tr>\n",
       "    <tr>\n",
       "      <th>6</th>\n",
       "      <td>Tecnologia</td>\n",
       "      <td>481.599205</td>\n",
       "    </tr>\n",
       "  </tbody>\n",
       "</table>\n",
       "</div>"
      ],
      "text/plain": [
       "         hierarquia_1  valor incremental\n",
       "0         Atendimento         895.098652\n",
       "1              Cartão       84716.552839\n",
       "2               Conta        8835.241427\n",
       "3  Crédito e Cobrança       98698.682091\n",
       "4              Fraude       23164.507417\n",
       "5           Marketing        2206.313101\n",
       "6          Tecnologia         481.599205"
      ]
     },
     "execution_count": 139,
     "metadata": {},
     "output_type": "execute_result"
    }
   ],
   "source": [
    "resultado_sim['valor incremental']"
   ]
  }
 ],
 "metadata": {
  "kernelspec": {
   "display_name": "Python 3",
   "language": "python",
   "name": "python3"
  },
  "language_info": {
   "codemirror_mode": {
    "name": "ipython",
    "version": 3
   },
   "file_extension": ".py",
   "mimetype": "text/x-python",
   "name": "python",
   "nbconvert_exporter": "python",
   "pygments_lexer": "ipython3",
   "version": "3.8.10"
  },
  "orig_nbformat": 4
 },
 "nbformat": 4,
 "nbformat_minor": 2
}
