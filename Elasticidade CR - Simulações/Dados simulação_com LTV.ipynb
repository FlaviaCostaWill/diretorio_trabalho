{
 "cells": [
  {
   "cell_type": "code",
   "execution_count": 2,
   "metadata": {},
   "outputs": [],
   "source": [
    "import pandas as pd\n",
    "import numpy as np\n",
    "import seaborn as sns\n",
    "import acessos as ac\n",
    "import os \n",
    "import matplotlib.pyplot as plt\n",
    "import statsmodels.api as sm\n",
    "from statsmodels.formula.api import ols"
   ]
  },
  {
   "cell_type": "code",
   "execution_count": 3,
   "metadata": {},
   "outputs": [],
   "source": [
    "text_file = open(os.path.abspath('../Elasticidade CR - Simulações/sql/jan-mar-23_comLtv_ajusteSpendingAntes.sql'), \"r\")\n",
    "query = text_file.read()\n",
    "text_file.close()\n",
    "df = ac.df_athena_q('flavia-costa', query)"
   ]
  },
  {
   "cell_type": "code",
   "execution_count": 4,
   "metadata": {},
   "outputs": [
    {
     "data": {
      "text/plain": [
       "183457"
      ]
     },
     "execution_count": 4,
     "metadata": {},
     "output_type": "execute_result"
    }
   ],
   "source": [
    "len(df)"
   ]
  },
  {
   "cell_type": "code",
   "execution_count": 5,
   "metadata": {},
   "outputs": [
    {
     "data": {
      "text/plain": [
       "2023-01-01    48174\n",
       "2023-02-01    43294\n",
       "2023-03-01    41007\n",
       "Name: dt_mes_true, dtype: int64"
      ]
     },
     "execution_count": 5,
     "metadata": {},
     "output_type": "execute_result"
    }
   ],
   "source": [
    "df.dt_mes_true.value_counts()"
   ]
  },
  {
   "cell_type": "code",
   "execution_count": 6,
   "metadata": {},
   "outputs": [],
   "source": [
    "missing_zero = ['qt_compra_antes_90d', 'vl_compra_antes_90d', 'vl_compra_depois_60d', 'spending_ltv', 'ltv', 'dias_atraso_ltv', 'rec_itr',\n",
    "\t\t\t\t\t'rec_recarga', 'rec_demais_encargos', 'desp_pdd', 'rec_juros', 'custos']\n",
    "\n",
    "for column in missing_zero:\n",
    "    df[column].fillna(0, inplace = True)"
   ]
  },
  {
   "cell_type": "code",
   "execution_count": 7,
   "metadata": {},
   "outputs": [
    {
     "data": {
      "text/plain": [
       "50982"
      ]
     },
     "execution_count": 7,
     "metadata": {},
     "output_type": "execute_result"
    }
   ],
   "source": [
    "len(df.query('vl_compra_antes_90d == 0'))"
   ]
  },
  {
   "cell_type": "code",
   "execution_count": 8,
   "metadata": {},
   "outputs": [
    {
     "data": {
      "text/plain": [
       "69433"
      ]
     },
     "execution_count": 8,
     "metadata": {},
     "output_type": "execute_result"
    }
   ],
   "source": [
    "len(df.query('vl_compra_depois_60d == 0'))"
   ]
  },
  {
   "attachments": {},
   "cell_type": "markdown",
   "metadata": {},
   "source": [
    "Criação de variáveis"
   ]
  },
  {
   "cell_type": "code",
   "execution_count": 9,
   "metadata": {},
   "outputs": [
    {
     "name": "stderr",
     "output_type": "stream",
     "text": [
      "/home/flavia.costa/.local/lib/python3.8/site-packages/pandas/core/arraylike.py:397: RuntimeWarning: divide by zero encountered in log\n",
      "  result = getattr(ufunc, method)(*inputs, **kwargs)\n"
     ]
    }
   ],
   "source": [
    "df['dt_opening_account'] = pd.to_datetime(df['dt_opening_account'], format='%Y-%m-%d')\n",
    "df['dt_mes_true'] = pd.to_datetime(df['dt_mes_true'], format='%Y-%m-%d')\n",
    "df['cc_time'] = (df['dt_mes_true'] - df['dt_opening_account'])/ np.timedelta64(1, 'D')\n",
    "    \n",
    "df['dt_first_use_credit'] = pd.to_datetime(df['dt_first_use_credit'], format='%Y-%m-%d')\n",
    "df['dias_ativacao'] = (df['dt_mes_true'] - df['dt_first_use_credit'])/ np.timedelta64(1, 'D')\n",
    "    \n",
    "df['dt_birth'] = pd.to_datetime(df['dt_birth'], format='%Y-%m-%d', errors = 'coerce')\n",
    "df['age'] = (df['dt_mes_true'] - df['dt_birth']).astype('<m8[Y]')\n",
    "    \n",
    "df['dt_last_use_credit'] = pd.to_datetime(df['dt_last_use_credit'], format='%Y-%m-%d', errors = 'coerce')\n",
    "df['dias_desde_ultima_compra'] = (df['dt_mes_true'] - df['dt_last_use_credit']).dt.days\n",
    "   \n",
    "df['vl_compra_antes_90d_log'] = np.log(df.vl_compra_antes_90d) #Ajuste da variável\n"
   ]
  },
  {
   "cell_type": "code",
   "execution_count": 10,
   "metadata": {},
   "outputs": [
    {
     "data": {
      "text/html": [
       "<div>\n",
       "<style scoped>\n",
       "    .dataframe tbody tr th:only-of-type {\n",
       "        vertical-align: middle;\n",
       "    }\n",
       "\n",
       "    .dataframe tbody tr th {\n",
       "        vertical-align: top;\n",
       "    }\n",
       "\n",
       "    .dataframe thead th {\n",
       "        text-align: right;\n",
       "    }\n",
       "</style>\n",
       "<table border=\"1\" class=\"dataframe\">\n",
       "  <thead>\n",
       "    <tr style=\"text-align: right;\">\n",
       "      <th></th>\n",
       "      <th>cc_time</th>\n",
       "      <th>vl_current_limit</th>\n",
       "      <th>dias_uso_app</th>\n",
       "      <th>vl_renda_declarada</th>\n",
       "      <th>dias_ativacao</th>\n",
       "      <th>qt_compra_antes_90d</th>\n",
       "      <th>dias_desde_ultima_compra</th>\n",
       "      <th>vl_compra_antes_90d</th>\n",
       "    </tr>\n",
       "  </thead>\n",
       "  <tbody>\n",
       "    <tr>\n",
       "      <th>count</th>\n",
       "      <td>132447.000000</td>\n",
       "      <td>132475.000000</td>\n",
       "      <td>183457.000000</td>\n",
       "      <td>9.218600e+04</td>\n",
       "      <td>132475.000000</td>\n",
       "      <td>183457.000000</td>\n",
       "      <td>132475.000000</td>\n",
       "      <td>183457.000000</td>\n",
       "    </tr>\n",
       "    <tr>\n",
       "      <th>mean</th>\n",
       "      <td>586.088615</td>\n",
       "      <td>2773.544993</td>\n",
       "      <td>4.661299</td>\n",
       "      <td>1.888187e+04</td>\n",
       "      <td>551.068994</td>\n",
       "      <td>14.055899</td>\n",
       "      <td>14.704133</td>\n",
       "      <td>1566.388127</td>\n",
       "    </tr>\n",
       "    <tr>\n",
       "      <th>std</th>\n",
       "      <td>540.791994</td>\n",
       "      <td>3693.756540</td>\n",
       "      <td>9.962416</td>\n",
       "      <td>1.123420e+06</td>\n",
       "      <td>532.394535</td>\n",
       "      <td>20.799956</td>\n",
       "      <td>17.372600</td>\n",
       "      <td>2647.953460</td>\n",
       "    </tr>\n",
       "    <tr>\n",
       "      <th>min</th>\n",
       "      <td>-218.664006</td>\n",
       "      <td>0.000000</td>\n",
       "      <td>0.000000</td>\n",
       "      <td>0.000000e+00</td>\n",
       "      <td>-133.680637</td>\n",
       "      <td>0.000000</td>\n",
       "      <td>1.000000</td>\n",
       "      <td>0.000000</td>\n",
       "    </tr>\n",
       "    <tr>\n",
       "      <th>25%</th>\n",
       "      <td>146.526283</td>\n",
       "      <td>500.000000</td>\n",
       "      <td>0.000000</td>\n",
       "      <td>9.000000e+02</td>\n",
       "      <td>121.038646</td>\n",
       "      <td>0.000000</td>\n",
       "      <td>3.000000</td>\n",
       "      <td>0.000000</td>\n",
       "    </tr>\n",
       "    <tr>\n",
       "      <th>50%</th>\n",
       "      <td>384.340235</td>\n",
       "      <td>1400.000000</td>\n",
       "      <td>0.000000</td>\n",
       "      <td>1.800000e+03</td>\n",
       "      <td>346.546030</td>\n",
       "      <td>7.000000</td>\n",
       "      <td>8.000000</td>\n",
       "      <td>705.520000</td>\n",
       "    </tr>\n",
       "    <tr>\n",
       "      <th>75%</th>\n",
       "      <td>928.272488</td>\n",
       "      <td>3100.000000</td>\n",
       "      <td>4.000000</td>\n",
       "      <td>3.000000e+03</td>\n",
       "      <td>867.589196</td>\n",
       "      <td>19.000000</td>\n",
       "      <td>19.000000</td>\n",
       "      <td>1946.920000</td>\n",
       "    </tr>\n",
       "    <tr>\n",
       "      <th>max</th>\n",
       "      <td>2111.876181</td>\n",
       "      <td>30000.000000</td>\n",
       "      <td>91.000000</td>\n",
       "      <td>9.198228e+07</td>\n",
       "      <td>2218.660000</td>\n",
       "      <td>747.000000</td>\n",
       "      <td>91.000000</td>\n",
       "      <td>89149.420000</td>\n",
       "    </tr>\n",
       "  </tbody>\n",
       "</table>\n",
       "</div>"
      ],
      "text/plain": [
       "             cc_time  vl_current_limit   dias_uso_app  vl_renda_declarada  \\\n",
       "count  132447.000000     132475.000000  183457.000000        9.218600e+04   \n",
       "mean      586.088615       2773.544993       4.661299        1.888187e+04   \n",
       "std       540.791994       3693.756540       9.962416        1.123420e+06   \n",
       "min      -218.664006          0.000000       0.000000        0.000000e+00   \n",
       "25%       146.526283        500.000000       0.000000        9.000000e+02   \n",
       "50%       384.340235       1400.000000       0.000000        1.800000e+03   \n",
       "75%       928.272488       3100.000000       4.000000        3.000000e+03   \n",
       "max      2111.876181      30000.000000      91.000000        9.198228e+07   \n",
       "\n",
       "       dias_ativacao  qt_compra_antes_90d  dias_desde_ultima_compra  \\\n",
       "count  132475.000000        183457.000000             132475.000000   \n",
       "mean      551.068994            14.055899                 14.704133   \n",
       "std       532.394535            20.799956                 17.372600   \n",
       "min      -133.680637             0.000000                  1.000000   \n",
       "25%       121.038646             0.000000                  3.000000   \n",
       "50%       346.546030             7.000000                  8.000000   \n",
       "75%       867.589196            19.000000                 19.000000   \n",
       "max      2218.660000           747.000000                 91.000000   \n",
       "\n",
       "       vl_compra_antes_90d  \n",
       "count        183457.000000  \n",
       "mean           1566.388127  \n",
       "std            2647.953460  \n",
       "min               0.000000  \n",
       "25%               0.000000  \n",
       "50%             705.520000  \n",
       "75%            1946.920000  \n",
       "max           89149.420000  "
      ]
     },
     "execution_count": 10,
     "metadata": {},
     "output_type": "execute_result"
    }
   ],
   "source": [
    "df[['cc_time', 'vl_current_limit', 'dias_uso_app', 'vl_renda_declarada', 'dias_ativacao', 'qt_compra_antes_90d', 'dias_desde_ultima_compra', 'vl_compra_antes_90d']].describe()"
   ]
  },
  {
   "cell_type": "code",
   "execution_count": 11,
   "metadata": {},
   "outputs": [],
   "source": [
    "for column in df.columns:\n",
    "    if df[column].dtype == 'object':\n",
    "        df[column].fillna(df[column].mode()[0], inplace = True)\n",
    "    elif column == 'vl_compra_antes_90d_log':\n",
    "        df[column].fillna(0, inplace = True)\n",
    "    elif df[column].dtype != 'object':\n",
    "        df[column].fillna(df[column].median(), inplace = True)"
   ]
  },
  {
   "attachments": {},
   "cell_type": "markdown",
   "metadata": {},
   "source": [
    "Função de normalização"
   ]
  },
  {
   "cell_type": "code",
   "execution_count": 12,
   "metadata": {},
   "outputs": [],
   "source": [
    "def normalizando(x, var_min, var_max):\n",
    "    y = (x - var_min) / (var_max - var_min)\n",
    "    return y"
   ]
  },
  {
   "cell_type": "code",
   "execution_count": 13,
   "metadata": {},
   "outputs": [],
   "source": [
    "df_n = pd.DataFrame()\n",
    "\n",
    "df_n['cc_time'] = normalizando(df['cc_time'], 0.19, 2062.09)\n",
    "df_n['vl_current_limit'] = normalizando(df['vl_current_limit'], 0, 12300)\n",
    "df_n['dias_uso_app'] = normalizando(df['dias_uso_app'], 0, 35)\n",
    "df_n['vl_renda_declarada'] = normalizando(df['vl_renda_declarada'], 0, 999999.99)\n",
    "df_n['dias_ativacao'] = normalizando(df['dias_ativacao'], 0, 1812.25)\n",
    "df_n['qt_compra_antes_90d'] = normalizando(df['qt_compra_antes_90d'], 1, 78)\n",
    "df_n['dias_desde_ultima_compra'] = normalizando(df['dias_desde_ultima_compra'], 1, 77)\n"
   ]
  },
  {
   "cell_type": "code",
   "execution_count": 14,
   "metadata": {},
   "outputs": [
    {
     "data": {
      "text/html": [
       "<div>\n",
       "<style scoped>\n",
       "    .dataframe tbody tr th:only-of-type {\n",
       "        vertical-align: middle;\n",
       "    }\n",
       "\n",
       "    .dataframe tbody tr th {\n",
       "        vertical-align: top;\n",
       "    }\n",
       "\n",
       "    .dataframe thead th {\n",
       "        text-align: right;\n",
       "    }\n",
       "</style>\n",
       "<table border=\"1\" class=\"dataframe\">\n",
       "  <thead>\n",
       "    <tr style=\"text-align: right;\">\n",
       "      <th></th>\n",
       "      <th>cc_time</th>\n",
       "      <th>vl_current_limit</th>\n",
       "      <th>dias_uso_app</th>\n",
       "      <th>vl_renda_declarada</th>\n",
       "      <th>dias_ativacao</th>\n",
       "      <th>qt_compra_antes_90d</th>\n",
       "      <th>dias_desde_ultima_compra</th>\n",
       "    </tr>\n",
       "  </thead>\n",
       "  <tbody>\n",
       "    <tr>\n",
       "      <th>count</th>\n",
       "      <td>183457.000000</td>\n",
       "      <td>183457.000000</td>\n",
       "      <td>183457.000000</td>\n",
       "      <td>183457.000000</td>\n",
       "      <td>183457.000000</td>\n",
       "      <td>183457.000000</td>\n",
       "      <td>183457.000000</td>\n",
       "    </tr>\n",
       "    <tr>\n",
       "      <th>mean</th>\n",
       "      <td>0.256949</td>\n",
       "      <td>0.194459</td>\n",
       "      <td>0.133180</td>\n",
       "      <td>0.010384</td>\n",
       "      <td>0.272718</td>\n",
       "      <td>0.169557</td>\n",
       "      <td>0.155804</td>\n",
       "    </tr>\n",
       "    <tr>\n",
       "      <th>std</th>\n",
       "      <td>0.227123</td>\n",
       "      <td>0.260046</td>\n",
       "      <td>0.284640</td>\n",
       "      <td>0.796400</td>\n",
       "      <td>0.254708</td>\n",
       "      <td>0.270129</td>\n",
       "      <td>0.198224</td>\n",
       "    </tr>\n",
       "    <tr>\n",
       "      <th>min</th>\n",
       "      <td>-0.106142</td>\n",
       "      <td>0.000000</td>\n",
       "      <td>0.000000</td>\n",
       "      <td>0.000000</td>\n",
       "      <td>-0.073765</td>\n",
       "      <td>-0.012987</td>\n",
       "      <td>0.000000</td>\n",
       "    </tr>\n",
       "    <tr>\n",
       "      <th>25%</th>\n",
       "      <td>0.102960</td>\n",
       "      <td>0.065041</td>\n",
       "      <td>0.000000</td>\n",
       "      <td>0.001800</td>\n",
       "      <td>0.101263</td>\n",
       "      <td>-0.012987</td>\n",
       "      <td>0.039474</td>\n",
       "    </tr>\n",
       "    <tr>\n",
       "      <th>50%</th>\n",
       "      <td>0.186309</td>\n",
       "      <td>0.113821</td>\n",
       "      <td>0.000000</td>\n",
       "      <td>0.001800</td>\n",
       "      <td>0.191224</td>\n",
       "      <td>0.077922</td>\n",
       "      <td>0.092105</td>\n",
       "    </tr>\n",
       "    <tr>\n",
       "      <th>75%</th>\n",
       "      <td>0.318693</td>\n",
       "      <td>0.195122</td>\n",
       "      <td>0.114286</td>\n",
       "      <td>0.001800</td>\n",
       "      <td>0.341199</td>\n",
       "      <td>0.233766</td>\n",
       "      <td>0.171053</td>\n",
       "    </tr>\n",
       "    <tr>\n",
       "      <th>max</th>\n",
       "      <td>1.024146</td>\n",
       "      <td>2.439024</td>\n",
       "      <td>2.600000</td>\n",
       "      <td>91.982282</td>\n",
       "      <td>1.224257</td>\n",
       "      <td>9.688312</td>\n",
       "      <td>1.184211</td>\n",
       "    </tr>\n",
       "  </tbody>\n",
       "</table>\n",
       "</div>"
      ],
      "text/plain": [
       "             cc_time  vl_current_limit   dias_uso_app  vl_renda_declarada  \\\n",
       "count  183457.000000     183457.000000  183457.000000       183457.000000   \n",
       "mean        0.256949          0.194459       0.133180            0.010384   \n",
       "std         0.227123          0.260046       0.284640            0.796400   \n",
       "min        -0.106142          0.000000       0.000000            0.000000   \n",
       "25%         0.102960          0.065041       0.000000            0.001800   \n",
       "50%         0.186309          0.113821       0.000000            0.001800   \n",
       "75%         0.318693          0.195122       0.114286            0.001800   \n",
       "max         1.024146          2.439024       2.600000           91.982282   \n",
       "\n",
       "       dias_ativacao  qt_compra_antes_90d  dias_desde_ultima_compra  \n",
       "count  183457.000000        183457.000000             183457.000000  \n",
       "mean        0.272718             0.169557                  0.155804  \n",
       "std         0.254708             0.270129                  0.198224  \n",
       "min        -0.073765            -0.012987                  0.000000  \n",
       "25%         0.101263            -0.012987                  0.039474  \n",
       "50%         0.191224             0.077922                  0.092105  \n",
       "75%         0.341199             0.233766                  0.171053  \n",
       "max         1.224257             9.688312                  1.184211  "
      ]
     },
     "execution_count": 14,
     "metadata": {},
     "output_type": "execute_result"
    }
   ],
   "source": [
    "df_n[['cc_time', 'vl_current_limit', 'dias_uso_app', 'vl_renda_declarada', 'dias_ativacao', 'qt_compra_antes_90d', 'dias_desde_ultima_compra']].describe()"
   ]
  },
  {
   "attachments": {},
   "cell_type": "markdown",
   "metadata": {},
   "source": [
    "# Calculo LT por segmento"
   ]
  },
  {
   "cell_type": "code",
   "execution_count": 15,
   "metadata": {},
   "outputs": [],
   "source": [
    "text_file = open(os.path.abspath('../Elasticidade CR - Simulações/sql/jan-mar22.sql'), \"r\")\n",
    "query_aa = text_file.read()\n",
    "text_file.close()\n",
    "df_aa = ac.df_athena_q('flavia-costa', query_aa)"
   ]
  },
  {
   "cell_type": "code",
   "execution_count": 16,
   "metadata": {},
   "outputs": [],
   "source": [
    "missing_zero = ['qt_compra_antes_90d', 'vl_compra_antes_90d', 'vl_compra_depois_ano']\n",
    "\n",
    "for column in missing_zero:\n",
    "    df_aa[column].fillna(0, inplace = True)"
   ]
  },
  {
   "cell_type": "code",
   "execution_count": 17,
   "metadata": {},
   "outputs": [],
   "source": [
    "df_aa['dt_mes_true'] = pd.to_datetime(df_aa['dt_mes_true'])\n",
    "df_aa['dt_last_use_credit'] = pd.to_datetime(df_aa['dt_last_use_credit'])"
   ]
  },
  {
   "cell_type": "code",
   "execution_count": 18,
   "metadata": {},
   "outputs": [],
   "source": [
    "df_aa['dt_criacao_conta_str'] = df_aa['dt_criacao_conta'].astype('string') + '01'\n",
    "df_aa['dt_criacao_conta_date'] = pd.to_datetime(df_aa['dt_criacao_conta_str'], format='%Y%m%d', errors='ignore')"
   ]
  },
  {
   "cell_type": "code",
   "execution_count": 19,
   "metadata": {},
   "outputs": [],
   "source": [
    "# variaveis dias\n",
    "df_aa['dias_desde_ultima_compra'] = (df_aa['dt_mes_true'] - df_aa['dt_last_use_credit']).dt.days \n",
    "df_aa['cc_time'] = (df_aa['dt_mes_true'] - df_aa['dt_criacao_conta_date']).dt.days \n",
    "df_aa['dias_ativacao'] = (df_aa['dt_mes_true'] - df_aa['dt_first_use_credit']).dt.days \n"
   ]
  },
  {
   "cell_type": "code",
   "execution_count": 20,
   "metadata": {},
   "outputs": [
    {
     "data": {
      "text/html": [
       "<div>\n",
       "<style scoped>\n",
       "    .dataframe tbody tr th:only-of-type {\n",
       "        vertical-align: middle;\n",
       "    }\n",
       "\n",
       "    .dataframe tbody tr th {\n",
       "        vertical-align: top;\n",
       "    }\n",
       "\n",
       "    .dataframe thead th {\n",
       "        text-align: right;\n",
       "    }\n",
       "</style>\n",
       "<table border=\"1\" class=\"dataframe\">\n",
       "  <thead>\n",
       "    <tr style=\"text-align: right;\">\n",
       "      <th></th>\n",
       "      <th>dias_ativacao</th>\n",
       "      <th>cc_time</th>\n",
       "      <th>dias_desde_ultima_compra</th>\n",
       "      <th>qt_compra_antes_90d</th>\n",
       "      <th>vl_compra_antes_90d</th>\n",
       "    </tr>\n",
       "  </thead>\n",
       "  <tbody>\n",
       "    <tr>\n",
       "      <th>count</th>\n",
       "      <td>60571.000000</td>\n",
       "      <td>60571.000000</td>\n",
       "      <td>60571.000000</td>\n",
       "      <td>60571.000000</td>\n",
       "      <td>60571.000000</td>\n",
       "    </tr>\n",
       "    <tr>\n",
       "      <th>mean</th>\n",
       "      <td>650.171914</td>\n",
       "      <td>707.500553</td>\n",
       "      <td>14.255667</td>\n",
       "      <td>23.961665</td>\n",
       "      <td>2799.064175</td>\n",
       "    </tr>\n",
       "    <tr>\n",
       "      <th>std</th>\n",
       "      <td>463.382978</td>\n",
       "      <td>467.084341</td>\n",
       "      <td>17.743208</td>\n",
       "      <td>26.273067</td>\n",
       "      <td>3656.704097</td>\n",
       "    </tr>\n",
       "    <tr>\n",
       "      <th>min</th>\n",
       "      <td>-2.000000</td>\n",
       "      <td>31.000000</td>\n",
       "      <td>1.000000</td>\n",
       "      <td>1.000000</td>\n",
       "      <td>0.100000</td>\n",
       "    </tr>\n",
       "    <tr>\n",
       "      <th>25%</th>\n",
       "      <td>234.000000</td>\n",
       "      <td>276.000000</td>\n",
       "      <td>3.000000</td>\n",
       "      <td>7.000000</td>\n",
       "      <td>745.505000</td>\n",
       "    </tr>\n",
       "    <tr>\n",
       "      <th>50%</th>\n",
       "      <td>643.000000</td>\n",
       "      <td>731.000000</td>\n",
       "      <td>8.000000</td>\n",
       "      <td>16.000000</td>\n",
       "      <td>1680.410000</td>\n",
       "    </tr>\n",
       "    <tr>\n",
       "      <th>75%</th>\n",
       "      <td>1007.000000</td>\n",
       "      <td>1065.000000</td>\n",
       "      <td>18.000000</td>\n",
       "      <td>32.000000</td>\n",
       "      <td>3474.090000</td>\n",
       "    </tr>\n",
       "    <tr>\n",
       "      <th>max</th>\n",
       "      <td>1844.000000</td>\n",
       "      <td>1885.000000</td>\n",
       "      <td>91.000000</td>\n",
       "      <td>472.000000</td>\n",
       "      <td>101452.240000</td>\n",
       "    </tr>\n",
       "  </tbody>\n",
       "</table>\n",
       "</div>"
      ],
      "text/plain": [
       "       dias_ativacao       cc_time  dias_desde_ultima_compra  \\\n",
       "count   60571.000000  60571.000000              60571.000000   \n",
       "mean      650.171914    707.500553                 14.255667   \n",
       "std       463.382978    467.084341                 17.743208   \n",
       "min        -2.000000     31.000000                  1.000000   \n",
       "25%       234.000000    276.000000                  3.000000   \n",
       "50%       643.000000    731.000000                  8.000000   \n",
       "75%      1007.000000   1065.000000                 18.000000   \n",
       "max      1844.000000   1885.000000                 91.000000   \n",
       "\n",
       "       qt_compra_antes_90d  vl_compra_antes_90d  \n",
       "count         60571.000000         60571.000000  \n",
       "mean             23.961665          2799.064175  \n",
       "std              26.273067          3656.704097  \n",
       "min               1.000000             0.100000  \n",
       "25%               7.000000           745.505000  \n",
       "50%              16.000000          1680.410000  \n",
       "75%              32.000000          3474.090000  \n",
       "max             472.000000        101452.240000  "
      ]
     },
     "execution_count": 20,
     "metadata": {},
     "output_type": "execute_result"
    }
   ],
   "source": [
    "# cria faixas de percentis\n",
    "\n",
    "vars_rfm = ['dias_ativacao', 'cc_time', 'dias_desde_ultima_compra', 'qt_compra_antes_90d', 'vl_compra_antes_90d']\n",
    "\n",
    "df_aa[vars_rfm].describe()"
   ]
  },
  {
   "cell_type": "code",
   "execution_count": 21,
   "metadata": {},
   "outputs": [],
   "source": [
    "for column in vars_rfm:\n",
    "  if df_aa[column].dtype == 'float' or df_aa[column].dtype == 'int':\n",
    "    nm_col = column + \"_fx\"\n",
    "    df_aa[nm_col] = pd.qcut(df_aa[column].rank(method='first'), q=3, precision=0, labels = ['A', 'B', 'C'])"
   ]
  },
  {
   "cell_type": "code",
   "execution_count": 22,
   "metadata": {},
   "outputs": [],
   "source": [
    "df_aa['segmento'] = df_aa.cc_time_fx.astype(\"string\") + df_aa.dias_desde_ultima_compra_fx.astype(\"string\") + df_aa.qt_compra_antes_90d_fx.astype(\"string\") + df_aa.vl_compra_antes_90d_fx.astype(\"string\")"
   ]
  },
  {
   "cell_type": "code",
   "execution_count": 23,
   "metadata": {},
   "outputs": [
    {
     "data": {
      "text/plain": [
       "81"
      ]
     },
     "execution_count": 23,
     "metadata": {},
     "output_type": "execute_result"
    }
   ],
   "source": [
    "len(df_aa['segmento'].unique())"
   ]
  },
  {
   "cell_type": "code",
   "execution_count": 24,
   "metadata": {},
   "outputs": [
    {
     "data": {
      "text/plain": [
       "CACC    4101\n",
       "ACAA    3437\n",
       "BCAA    2504\n",
       "BACC    2281\n",
       "CBCC    2109\n",
       "        ... \n",
       "BCCA      81\n",
       "CBCA      56\n",
       "CACA      56\n",
       "AAAC      53\n",
       "CCCA      37\n",
       "Name: segmento, Length: 81, dtype: Int64"
      ]
     },
     "execution_count": 24,
     "metadata": {},
     "output_type": "execute_result"
    }
   ],
   "source": [
    "df_aa['segmento'].value_counts()"
   ]
  },
  {
   "cell_type": "code",
   "execution_count": 25,
   "metadata": {},
   "outputs": [
    {
     "data": {
      "text/html": [
       "<div>\n",
       "<style scoped>\n",
       "    .dataframe tbody tr th:only-of-type {\n",
       "        vertical-align: middle;\n",
       "    }\n",
       "\n",
       "    .dataframe tbody tr th {\n",
       "        vertical-align: top;\n",
       "    }\n",
       "\n",
       "    .dataframe thead th {\n",
       "        text-align: right;\n",
       "    }\n",
       "</style>\n",
       "<table border=\"1\" class=\"dataframe\">\n",
       "  <thead>\n",
       "    <tr style=\"text-align: right;\">\n",
       "      <th></th>\n",
       "      <th>segmento</th>\n",
       "      <th>churn_depois</th>\n",
       "      <th>LT</th>\n",
       "    </tr>\n",
       "  </thead>\n",
       "  <tbody>\n",
       "    <tr>\n",
       "      <th>0</th>\n",
       "      <td>AAAA</td>\n",
       "      <td>0.415406</td>\n",
       "      <td>28.887417</td>\n",
       "    </tr>\n",
       "    <tr>\n",
       "      <th>1</th>\n",
       "      <td>AAAB</td>\n",
       "      <td>0.347826</td>\n",
       "      <td>34.500000</td>\n",
       "    </tr>\n",
       "    <tr>\n",
       "      <th>2</th>\n",
       "      <td>AAAC</td>\n",
       "      <td>0.452830</td>\n",
       "      <td>26.500000</td>\n",
       "    </tr>\n",
       "    <tr>\n",
       "      <th>3</th>\n",
       "      <td>AABA</td>\n",
       "      <td>0.419384</td>\n",
       "      <td>28.613391</td>\n",
       "    </tr>\n",
       "    <tr>\n",
       "      <th>4</th>\n",
       "      <td>AABB</td>\n",
       "      <td>0.322034</td>\n",
       "      <td>37.263158</td>\n",
       "    </tr>\n",
       "    <tr>\n",
       "      <th>...</th>\n",
       "      <td>...</td>\n",
       "      <td>...</td>\n",
       "      <td>...</td>\n",
       "    </tr>\n",
       "    <tr>\n",
       "      <th>76</th>\n",
       "      <td>CCBB</td>\n",
       "      <td>0.283048</td>\n",
       "      <td>42.395604</td>\n",
       "    </tr>\n",
       "    <tr>\n",
       "      <th>77</th>\n",
       "      <td>CCBC</td>\n",
       "      <td>0.251701</td>\n",
       "      <td>47.675676</td>\n",
       "    </tr>\n",
       "    <tr>\n",
       "      <th>78</th>\n",
       "      <td>CCCA</td>\n",
       "      <td>0.432432</td>\n",
       "      <td>27.750000</td>\n",
       "    </tr>\n",
       "    <tr>\n",
       "      <th>79</th>\n",
       "      <td>CCCB</td>\n",
       "      <td>0.302583</td>\n",
       "      <td>39.658537</td>\n",
       "    </tr>\n",
       "    <tr>\n",
       "      <th>80</th>\n",
       "      <td>CCCC</td>\n",
       "      <td>0.278481</td>\n",
       "      <td>43.090909</td>\n",
       "    </tr>\n",
       "  </tbody>\n",
       "</table>\n",
       "<p>81 rows × 3 columns</p>\n",
       "</div>"
      ],
      "text/plain": [
       "   segmento  churn_depois         LT\n",
       "0      AAAA      0.415406  28.887417\n",
       "1      AAAB      0.347826  34.500000\n",
       "2      AAAC      0.452830  26.500000\n",
       "3      AABA      0.419384  28.613391\n",
       "4      AABB      0.322034  37.263158\n",
       "..      ...           ...        ...\n",
       "76     CCBB      0.283048  42.395604\n",
       "77     CCBC      0.251701  47.675676\n",
       "78     CCCA      0.432432  27.750000\n",
       "79     CCCB      0.302583  39.658537\n",
       "80     CCCC      0.278481  43.090909\n",
       "\n",
       "[81 rows x 3 columns]"
      ]
     },
     "execution_count": 25,
     "metadata": {},
     "output_type": "execute_result"
    }
   ],
   "source": [
    "# Taxa de churn por segmento\n",
    "df_aa['churn_depois'] = np.where(df_aa.vl_compra_depois_ano > 0, 0, 1)\n",
    "\n",
    "tabela_churn = df_aa[['churn_depois', 'segmento']].groupby('segmento').mean()\n",
    "tabela_churn = tabela_churn.reset_index()\n",
    "tabela_churn['LT'] = (1 / (tabela_churn['churn_depois']/12))\n",
    "\n",
    "tabela_churn"
   ]
  },
  {
   "attachments": {},
   "cell_type": "markdown",
   "metadata": {},
   "source": [
    "# Aplicação Score"
   ]
  },
  {
   "cell_type": "code",
   "execution_count": 26,
   "metadata": {},
   "outputs": [],
   "source": [
    "#Parametros modelo - regressão logística do estudo prévio\n",
    "c_intercepto = -0.1635\n",
    "c_usou_chat = -0.0655\n",
    "c_flag_problema = -0.0993\n",
    "c_vl_compra_antes_90d_log = 0.1318\n",
    "c_cc_time = -0.6206\n",
    "c_vl_current_limit = 0.3866\n",
    "c_dias_uso_app = 0.2392\n",
    "c_vl_renda_declarada = -5.3729\n",
    "c_dias_ativacao = 0.3947\n",
    "c_qt_compra_antes_90d = 0.2761\n",
    "c_dias_desde_ultima_compra = -2.9933\n",
    "\n",
    "queda_cr = 0.1"
   ]
  },
  {
   "attachments": {},
   "cell_type": "markdown",
   "metadata": {},
   "source": [
    "Atribuindo clientes sem atendimento"
   ]
  },
  {
   "cell_type": "code",
   "execution_count": 27,
   "metadata": {},
   "outputs": [],
   "source": [
    "df['aleat'] = np.random.random((len(df),1))\n",
    "df['usou_chat_sim'] = np.where(df.aleat <= (1 - queda_cr), 1, 0)\n",
    "df['flag_problema_sim'] = np.where(df.usou_chat_sim == 0, 0, df.flag_problema )\n",
    "df['teve_compra_depois'] = np.where(df.vl_compra_depois_60d > 0 , 1, 0)"
   ]
  },
  {
   "cell_type": "code",
   "execution_count": 28,
   "metadata": {},
   "outputs": [],
   "source": [
    "df['rawPrediction'] = c_intercepto  + ((df.usou_chat_sim * c_usou_chat) + (df.flag_problema_sim * c_flag_problema) \n",
    "+ (df.vl_compra_antes_90d_log * c_vl_compra_antes_90d_log) \n",
    "+ (df_n.cc_time * c_cc_time)\n",
    "+ (df_n.vl_current_limit * c_vl_current_limit) \n",
    "+ (df_n.dias_uso_app * c_dias_uso_app) \n",
    "+ (df_n.vl_renda_declarada * c_vl_renda_declarada) \n",
    "+ (df_n.dias_ativacao * c_dias_ativacao) \n",
    "+ (df_n.qt_compra_antes_90d * c_qt_compra_antes_90d)\n",
    "+ (df_n.dias_desde_ultima_compra * c_dias_desde_ultima_compra))\n",
    "\n",
    "df['score_compra_depois']  =  1/(1 + np.exp(-1 * df.rawPrediction))"
   ]
  },
  {
   "cell_type": "code",
   "execution_count": 29,
   "metadata": {},
   "outputs": [
    {
     "data": {
      "text/plain": [
       "array([0.69012027, 0.67234317, 0.68974681, ..., 0.46768955, 0.694365  ,\n",
       "       0.65776165])"
      ]
     },
     "execution_count": 29,
     "metadata": {},
     "output_type": "execute_result"
    }
   ],
   "source": [
    "df['score_compra_depois'].unique()"
   ]
  },
  {
   "cell_type": "code",
   "execution_count": 30,
   "metadata": {},
   "outputs": [],
   "source": [
    "df['score_compra_depois'] = np.where(df['score_compra_depois'] < 0, 0, df['score_compra_depois'])\n",
    "df['score_compra_depois'] = np.where(df['score_compra_depois'] > 1, 1, df['score_compra_depois'])"
   ]
  },
  {
   "cell_type": "code",
   "execution_count": 31,
   "metadata": {},
   "outputs": [
    {
     "name": "stderr",
     "output_type": "stream",
     "text": [
      "/home/flavia.costa/.local/lib/python3.8/site-packages/numpy/lib/function_base.py:4527: RuntimeWarning: invalid value encountered in subtract\n",
      "  diff_b_a = subtract(b, a)\n"
     ]
    },
    {
     "data": {
      "text/html": [
       "<div>\n",
       "<style scoped>\n",
       "    .dataframe tbody tr th:only-of-type {\n",
       "        vertical-align: middle;\n",
       "    }\n",
       "\n",
       "    .dataframe tbody tr th {\n",
       "        vertical-align: top;\n",
       "    }\n",
       "\n",
       "    .dataframe thead th {\n",
       "        text-align: right;\n",
       "    }\n",
       "</style>\n",
       "<table border=\"1\" class=\"dataframe\">\n",
       "  <thead>\n",
       "    <tr style=\"text-align: right;\">\n",
       "      <th></th>\n",
       "      <th>rawPrediction</th>\n",
       "      <th>score_compra_depois</th>\n",
       "    </tr>\n",
       "  </thead>\n",
       "  <tbody>\n",
       "    <tr>\n",
       "      <th>count</th>\n",
       "      <td>1.834570e+05</td>\n",
       "      <td>183457.000000</td>\n",
       "    </tr>\n",
       "    <tr>\n",
       "      <th>mean</th>\n",
       "      <td>-inf</td>\n",
       "      <td>0.409019</td>\n",
       "    </tr>\n",
       "    <tr>\n",
       "      <th>std</th>\n",
       "      <td>NaN</td>\n",
       "      <td>0.291975</td>\n",
       "    </tr>\n",
       "    <tr>\n",
       "      <th>min</th>\n",
       "      <td>-inf</td>\n",
       "      <td>0.000000</td>\n",
       "    </tr>\n",
       "    <tr>\n",
       "      <th>25%</th>\n",
       "      <td>NaN</td>\n",
       "      <td>0.000000</td>\n",
       "    </tr>\n",
       "    <tr>\n",
       "      <th>50%</th>\n",
       "      <td>1.300615e-01</td>\n",
       "      <td>0.532470</td>\n",
       "    </tr>\n",
       "    <tr>\n",
       "      <th>75%</th>\n",
       "      <td>6.515157e-01</td>\n",
       "      <td>0.657352</td>\n",
       "    </tr>\n",
       "    <tr>\n",
       "      <th>max</th>\n",
       "      <td>3.613914e+00</td>\n",
       "      <td>0.973761</td>\n",
       "    </tr>\n",
       "  </tbody>\n",
       "</table>\n",
       "</div>"
      ],
      "text/plain": [
       "       rawPrediction  score_compra_depois\n",
       "count   1.834570e+05        183457.000000\n",
       "mean            -inf             0.409019\n",
       "std              NaN             0.291975\n",
       "min             -inf             0.000000\n",
       "25%              NaN             0.000000\n",
       "50%     1.300615e-01             0.532470\n",
       "75%     6.515157e-01             0.657352\n",
       "max     3.613914e+00             0.973761"
      ]
     },
     "execution_count": 31,
     "metadata": {},
     "output_type": "execute_result"
    }
   ],
   "source": [
    "df[['rawPrediction', 'score_compra_depois']].describe()"
   ]
  },
  {
   "cell_type": "code",
   "execution_count": 32,
   "metadata": {},
   "outputs": [
    {
     "data": {
      "image/png": "[encoded data removed]",
      "text/plain": [
       "<Figure size 1440x720 with 1 Axes>"
      ]
     },
     "metadata": {
      "needs_background": "light"
     },
     "output_type": "display_data"
    }
   ],
   "source": [
    "plt.figure(figsize = (20,10))\n",
    "sns.boxplot(data = df, x = 'score_compra_depois')\n",
    "plt.xticks(rotation=90)\n",
    "plt.show()"
   ]
  },
  {
   "cell_type": "code",
   "execution_count": 33,
   "metadata": {},
   "outputs": [
    {
     "data": {
      "image/png": "[encoded data removed]",
      "text/plain": [
       "<Figure size 1440x720 with 1 Axes>"
      ]
     },
     "metadata": {
      "needs_background": "light"
     },
     "output_type": "display_data"
    }
   ],
   "source": [
    "plt.figure(figsize = (20,10))\n",
    "sns.boxplot(data = df, y = 'score_compra_depois', x = 'usou_chat_sim')\n",
    "plt.xticks(rotation=90)\n",
    "plt.show()"
   ]
  },
  {
   "cell_type": "code",
   "execution_count": 34,
   "metadata": {},
   "outputs": [],
   "source": [
    "df['score_evasao'] = 1- df['score_compra_depois']"
   ]
  },
  {
   "cell_type": "code",
   "execution_count": 35,
   "metadata": {},
   "outputs": [
    {
     "data": {
      "image/png": "[encoded data removed]",
      "text/plain": [
       "<Figure size 576x720 with 1 Axes>"
      ]
     },
     "metadata": {
      "needs_background": "light"
     },
     "output_type": "display_data"
    }
   ],
   "source": [
    "plt.figure(figsize = (8,10))\n",
    "sns.boxplot(data = df, y = 'score_evasao', x = 'usou_chat_sim')\n",
    "plt.xticks(rotation=90)\n",
    "plt.show()"
   ]
  },
  {
   "cell_type": "code",
   "execution_count": 39,
   "metadata": {},
   "outputs": [
    {
     "data": {
      "text/plain": [
       "0.9737608797433462"
      ]
     },
     "execution_count": 39,
     "metadata": {},
     "output_type": "execute_result"
    }
   ],
   "source": [
    "df['score_compra_depois'].max() - df['score_compra_depois'].min()"
   ]
  },
  {
   "cell_type": "code",
   "execution_count": 40,
   "metadata": {},
   "outputs": [
    {
     "data": {
      "text/plain": [
       "1    113917\n",
       "0     69540\n",
       "Name: teve_compra_depois, dtype: int64"
      ]
     },
     "execution_count": 40,
     "metadata": {},
     "output_type": "execute_result"
    }
   ],
   "source": [
    "df.teve_compra_depois.value_counts()"
   ]
  },
  {
   "cell_type": "code",
   "execution_count": 41,
   "metadata": {},
   "outputs": [
    {
     "data": {
      "text/html": [
       "<div>\n",
       "<style scoped>\n",
       "    .dataframe tbody tr th:only-of-type {\n",
       "        vertical-align: middle;\n",
       "    }\n",
       "\n",
       "    .dataframe tbody tr th {\n",
       "        vertical-align: top;\n",
       "    }\n",
       "\n",
       "    .dataframe thead th {\n",
       "        text-align: right;\n",
       "    }\n",
       "</style>\n",
       "<table border=\"1\" class=\"dataframe\">\n",
       "  <thead>\n",
       "    <tr style=\"text-align: right;\">\n",
       "      <th></th>\n",
       "      <th>teve_compra_depois</th>\n",
       "    </tr>\n",
       "    <tr>\n",
       "      <th>fx_score</th>\n",
       "      <th></th>\n",
       "    </tr>\n",
       "  </thead>\n",
       "  <tbody>\n",
       "    <tr>\n",
       "      <th>0.0</th>\n",
       "      <td>0.005034</td>\n",
       "    </tr>\n",
       "    <tr>\n",
       "      <th>0.1</th>\n",
       "      <td>0.506627</td>\n",
       "    </tr>\n",
       "    <tr>\n",
       "      <th>0.2</th>\n",
       "      <td>0.622349</td>\n",
       "    </tr>\n",
       "    <tr>\n",
       "      <th>0.3</th>\n",
       "      <td>0.719409</td>\n",
       "    </tr>\n",
       "    <tr>\n",
       "      <th>0.4</th>\n",
       "      <td>0.782082</td>\n",
       "    </tr>\n",
       "    <tr>\n",
       "      <th>0.5</th>\n",
       "      <td>0.844915</td>\n",
       "    </tr>\n",
       "    <tr>\n",
       "      <th>0.6</th>\n",
       "      <td>0.891390</td>\n",
       "    </tr>\n",
       "    <tr>\n",
       "      <th>0.7</th>\n",
       "      <td>0.932762</td>\n",
       "    </tr>\n",
       "    <tr>\n",
       "      <th>0.8</th>\n",
       "      <td>0.952333</td>\n",
       "    </tr>\n",
       "    <tr>\n",
       "      <th>0.9</th>\n",
       "      <td>0.962712</td>\n",
       "    </tr>\n",
       "    <tr>\n",
       "      <th>1.0</th>\n",
       "      <td>1.000000</td>\n",
       "    </tr>\n",
       "  </tbody>\n",
       "</table>\n",
       "</div>"
      ],
      "text/plain": [
       "          teve_compra_depois\n",
       "fx_score                    \n",
       "0.0                 0.005034\n",
       "0.1                 0.506627\n",
       "0.2                 0.622349\n",
       "0.3                 0.719409\n",
       "0.4                 0.782082\n",
       "0.5                 0.844915\n",
       "0.6                 0.891390\n",
       "0.7                 0.932762\n",
       "0.8                 0.952333\n",
       "0.9                 0.962712\n",
       "1.0                 1.000000"
      ]
     },
     "execution_count": 41,
     "metadata": {},
     "output_type": "execute_result"
    }
   ],
   "source": [
    "df['fx_score'] = np.round(df['score_compra_depois'],1)\n",
    "df[['teve_compra_depois', 'fx_score']].groupby('fx_score').mean()"
   ]
  },
  {
   "cell_type": "code",
   "execution_count": 42,
   "metadata": {},
   "outputs": [
    {
     "data": {
      "text/html": [
       "<div>\n",
       "<style scoped>\n",
       "    .dataframe tbody tr th:only-of-type {\n",
       "        vertical-align: middle;\n",
       "    }\n",
       "\n",
       "    .dataframe tbody tr th {\n",
       "        vertical-align: top;\n",
       "    }\n",
       "\n",
       "    .dataframe thead th {\n",
       "        text-align: right;\n",
       "    }\n",
       "</style>\n",
       "<table border=\"1\" class=\"dataframe\">\n",
       "  <thead>\n",
       "    <tr style=\"text-align: right;\">\n",
       "      <th></th>\n",
       "      <th>fx_score</th>\n",
       "      <th>cpfsim</th>\n",
       "      <th>cpfnao</th>\n",
       "      <th>cumperc_nao</th>\n",
       "      <th>cumperc_sim</th>\n",
       "      <th>dif</th>\n",
       "      <th>dif_abs</th>\n",
       "    </tr>\n",
       "  </thead>\n",
       "  <tbody>\n",
       "    <tr>\n",
       "      <th>0</th>\n",
       "      <td>0.0</td>\n",
       "      <td>260</td>\n",
       "      <td>51387.0</td>\n",
       "      <td>73.895600</td>\n",
       "      <td>0.228236</td>\n",
       "      <td>73.667363</td>\n",
       "      <td>73.667363</td>\n",
       "    </tr>\n",
       "    <tr>\n",
       "      <th>1</th>\n",
       "      <td>0.1</td>\n",
       "      <td>2370</td>\n",
       "      <td>2308.0</td>\n",
       "      <td>77.214553</td>\n",
       "      <td>2.308698</td>\n",
       "      <td>74.905854</td>\n",
       "      <td>74.905854</td>\n",
       "    </tr>\n",
       "    <tr>\n",
       "      <th>2</th>\n",
       "      <td>0.2</td>\n",
       "      <td>2846</td>\n",
       "      <td>1727.0</td>\n",
       "      <td>79.698016</td>\n",
       "      <td>4.807009</td>\n",
       "      <td>74.891007</td>\n",
       "      <td>74.891007</td>\n",
       "    </tr>\n",
       "    <tr>\n",
       "      <th>3</th>\n",
       "      <td>0.3</td>\n",
       "      <td>4574</td>\n",
       "      <td>1784.0</td>\n",
       "      <td>82.263445</td>\n",
       "      <td>8.822213</td>\n",
       "      <td>73.441233</td>\n",
       "      <td>73.441233</td>\n",
       "    </tr>\n",
       "    <tr>\n",
       "      <th>4</th>\n",
       "      <td>0.4</td>\n",
       "      <td>7551</td>\n",
       "      <td>2104.0</td>\n",
       "      <td>85.289042</td>\n",
       "      <td>15.450723</td>\n",
       "      <td>69.838319</td>\n",
       "      <td>69.838319</td>\n",
       "    </tr>\n",
       "    <tr>\n",
       "      <th>5</th>\n",
       "      <td>0.5</td>\n",
       "      <td>16159</td>\n",
       "      <td>2966.0</td>\n",
       "      <td>89.554213</td>\n",
       "      <td>29.635612</td>\n",
       "      <td>59.918602</td>\n",
       "      <td>59.918602</td>\n",
       "    </tr>\n",
       "    <tr>\n",
       "      <th>6</th>\n",
       "      <td>0.6</td>\n",
       "      <td>33822</td>\n",
       "      <td>4121.0</td>\n",
       "      <td>95.480299</td>\n",
       "      <td>59.325649</td>\n",
       "      <td>36.154650</td>\n",
       "      <td>36.154650</td>\n",
       "    </tr>\n",
       "    <tr>\n",
       "      <th>7</th>\n",
       "      <td>0.7</td>\n",
       "      <td>37539</td>\n",
       "      <td>2706.0</td>\n",
       "      <td>99.371585</td>\n",
       "      <td>92.278589</td>\n",
       "      <td>7.092996</td>\n",
       "      <td>7.092996</td>\n",
       "    </tr>\n",
       "    <tr>\n",
       "      <th>8</th>\n",
       "      <td>0.8</td>\n",
       "      <td>8511</td>\n",
       "      <td>426.0</td>\n",
       "      <td>99.984182</td>\n",
       "      <td>99.749818</td>\n",
       "      <td>0.234364</td>\n",
       "      <td>0.234364</td>\n",
       "    </tr>\n",
       "    <tr>\n",
       "      <th>9</th>\n",
       "      <td>0.9</td>\n",
       "      <td>284</td>\n",
       "      <td>11.0</td>\n",
       "      <td>100.000000</td>\n",
       "      <td>99.999122</td>\n",
       "      <td>0.000878</td>\n",
       "      <td>0.000878</td>\n",
       "    </tr>\n",
       "    <tr>\n",
       "      <th>10</th>\n",
       "      <td>1.0</td>\n",
       "      <td>1</td>\n",
       "      <td>NaN</td>\n",
       "      <td>NaN</td>\n",
       "      <td>100.000000</td>\n",
       "      <td>NaN</td>\n",
       "      <td>NaN</td>\n",
       "    </tr>\n",
       "  </tbody>\n",
       "</table>\n",
       "</div>"
      ],
      "text/plain": [
       "    fx_score  cpfsim   cpfnao  cumperc_nao  cumperc_sim        dif    dif_abs\n",
       "0        0.0     260  51387.0    73.895600     0.228236  73.667363  73.667363\n",
       "1        0.1    2370   2308.0    77.214553     2.308698  74.905854  74.905854\n",
       "2        0.2    2846   1727.0    79.698016     4.807009  74.891007  74.891007\n",
       "3        0.3    4574   1784.0    82.263445     8.822213  73.441233  73.441233\n",
       "4        0.4    7551   2104.0    85.289042    15.450723  69.838319  69.838319\n",
       "5        0.5   16159   2966.0    89.554213    29.635612  59.918602  59.918602\n",
       "6        0.6   33822   4121.0    95.480299    59.325649  36.154650  36.154650\n",
       "7        0.7   37539   2706.0    99.371585    92.278589   7.092996   7.092996\n",
       "8        0.8    8511    426.0    99.984182    99.749818   0.234364   0.234364\n",
       "9        0.9     284     11.0   100.000000    99.999122   0.000878   0.000878\n",
       "10       1.0       1      NaN          NaN   100.000000        NaN        NaN"
      ]
     },
     "execution_count": 42,
     "metadata": {},
     "output_type": "execute_result"
    }
   ],
   "source": [
    "agg_df_compra_sim = df[df['teve_compra_depois'] == 1][['fx_score', 'cpf']].groupby('fx_score').count()\n",
    "agg_df_compra_nao = df[df['teve_compra_depois'] == 0][['fx_score', 'cpf']].groupby('fx_score').count()\n",
    "\n",
    "agg_df_compra = agg_df_compra_sim.join(agg_df_compra_nao, lsuffix='sim', rsuffix='nao')\n",
    "agg_df_compra = agg_df_compra.reset_index()\n",
    "agg_df_compra['cumperc_nao'] = agg_df_compra['cpfnao'].cumsum()/agg_df_compra['cpfnao'].sum()*100\n",
    "agg_df_compra['cumperc_sim'] = agg_df_compra['cpfsim'].cumsum()/agg_df_compra['cpfsim'].sum()*100\n",
    "agg_df_compra['dif'] = agg_df_compra['cumperc_nao'] - agg_df_compra['cumperc_sim']\n",
    "agg_df_compra['dif_abs'] = np.abs(agg_df_compra['dif'])\n",
    "# tabela de taxa de compra por fx-score para o ppt\n",
    "\n",
    "agg_df_compra"
   ]
  },
  {
   "cell_type": "code",
   "execution_count": 43,
   "metadata": {},
   "outputs": [
    {
     "name": "stdout",
     "output_type": "stream",
     "text": [
      "18555\n"
     ]
    }
   ],
   "source": [
    "#qtos clientes foram escolhidos ao acaso para não ter atendimento?\n",
    "\n",
    "print(len(df.query('usou_chat_sim == 0')))"
   ]
  },
  {
   "cell_type": "code",
   "execution_count": 44,
   "metadata": {},
   "outputs": [
    {
     "name": "stdout",
     "output_type": "stream",
     "text": [
      "6986\n"
     ]
    }
   ],
   "source": [
    "print(len(df.query('usou_chat_sim == 0 & teve_compra_depois == 0')))"
   ]
  },
  {
   "cell_type": "code",
   "execution_count": 45,
   "metadata": {},
   "outputs": [
    {
     "data": {
      "text/plain": [
       "usou_chat_sim\n",
       "0    0.426786\n",
       "1    0.407020\n",
       "Name: score_compra_depois, dtype: float64"
      ]
     },
     "execution_count": 45,
     "metadata": {},
     "output_type": "execute_result"
    }
   ],
   "source": [
    "# diferença de score entre clientes com e sem atendimento\n",
    "\n",
    "df.groupby('usou_chat_sim')[\"score_compra_depois\"].mean()"
   ]
  },
  {
   "cell_type": "code",
   "execution_count": 46,
   "metadata": {},
   "outputs": [
    {
     "data": {
      "image/png": "[encoded data removed]",
      "text/plain": [
       "<Figure size 1440x720 with 1 Axes>"
      ]
     },
     "metadata": {
      "needs_background": "light"
     },
     "output_type": "display_data"
    }
   ],
   "source": [
    "plt.figure(figsize = (20,10))\n",
    "sns.lineplot(data = agg_df_compra[['cumperc_nao', 'cumperc_sim']])\n",
    "plt.xticks(rotation=90)\n",
    "plt.show()"
   ]
  },
  {
   "cell_type": "code",
   "execution_count": 47,
   "metadata": {},
   "outputs": [
    {
     "name": "stdout",
     "output_type": "stream",
     "text": [
      "0.1\n"
     ]
    }
   ],
   "source": [
    "dif_maxima = agg_df_compra['dif_abs'].max()\n",
    "\n",
    "threshould_conservador = agg_df_compra[agg_df_compra.dif_abs == dif_maxima]['fx_score'].min()\n",
    "\n",
    "print(threshould_conservador)"
   ]
  },
  {
   "cell_type": "code",
   "execution_count": 48,
   "metadata": {},
   "outputs": [
    {
     "name": "stdout",
     "output_type": "stream",
     "text": [
      "127132\n",
      "56325\n"
     ]
    }
   ],
   "source": [
    "df['compra_depois_propensao']  = np.where(df['fx_score'] > threshould_conservador, 1,0)\n",
    "\n",
    "print(len(df.query('compra_depois_propensao == 1')))\n",
    "print(len(df.query('compra_depois_propensao == 0')))\n"
   ]
  },
  {
   "cell_type": "code",
   "execution_count": 49,
   "metadata": {},
   "outputs": [
    {
     "name": "stdout",
     "output_type": "stream",
     "text": [
      "Temos 5324 clientes dentre os sorteados para não ter atendimento e não tiveram compra que tem ainda tem chance de churn (vou descartar)\n",
      "vou atribuir spending para 1662 clientes\n"
     ]
    }
   ],
   "source": [
    "#inputando spending para o cliente que teve churn de fato, que foi sorteado para não ter atendimento na simulação e com baixo score de compra depois\n",
    "df['flag_atribui_spending'] = np.where((df['compra_depois_propensao'] == 1) & (df['teve_compra_depois'] == 0) & (df.usou_chat_sim == 0),1,0)\n",
    "\n",
    "print(f\"Temos {len(df.query('teve_compra_depois == 0 & usou_chat_sim == 0 & compra_depois_propensao == 0'))} clientes dentre os sorteados para não ter atendimento e não tiveram compra que tem ainda tem chance de churn (vou descartar)\")\n",
    "\n",
    "print(f\"vou atribuir spending para {len(df.query('flag_atribui_spending == 1'))} clientes\")"
   ]
  },
  {
   "cell_type": "code",
   "execution_count": 50,
   "metadata": {},
   "outputs": [
    {
     "data": {
      "text/plain": [
       "BBAA    50994\n",
       "CACC    17741\n",
       "ACBB    11167\n",
       "AABB     8412\n",
       "CCBB     7931\n",
       "        ...  \n",
       "AACA        7\n",
       "CCCA        3\n",
       "BBAC        3\n",
       "BACA        1\n",
       "CBCA        1\n",
       "Name: segmento, Length: 77, dtype: Int64"
      ]
     },
     "execution_count": 50,
     "metadata": {},
     "output_type": "execute_result"
    }
   ],
   "source": [
    "for column in vars_rfm:\n",
    "  if df[column].dtype == 'float' or df[column].dtype == 'int':\n",
    "    nm_col = column + \"_fx\"\n",
    "    df[nm_col] = pd.qcut(df[column].rank(method='first'), q=3, precision=0, labels = ['A', 'B', 'C'])\n",
    "\n",
    "\n",
    "df['segmento'] = df.cc_time_fx.astype(\"string\") + df.dias_desde_ultima_compra_fx.astype(\"string\") + df.qt_compra_antes_90d_fx.astype(\"string\") + df.vl_compra_antes_90d_fx.astype(\"string\")\n",
    "\n",
    "df['segmento'].value_counts()"
   ]
  },
  {
   "cell_type": "code",
   "execution_count": 51,
   "metadata": {},
   "outputs": [],
   "source": [
    "tabela_churn.to_csv('tabela_churn.csv', index=False)"
   ]
  },
  {
   "cell_type": "code",
   "execution_count": 52,
   "metadata": {},
   "outputs": [],
   "source": [
    "df = df.join(tabela_churn.set_index('segmento'), on = 'segmento', how = 'left' )"
   ]
  },
  {
   "cell_type": "code",
   "execution_count": 53,
   "metadata": {},
   "outputs": [
    {
     "name": "stdout",
     "output_type": "stream",
     "text": [
      "1662\n"
     ]
    },
    {
     "name": "stderr",
     "output_type": "stream",
     "text": [
      "/tmp/ipykernel_846869/585532381.py:19: SettingWithCopyWarning: \n",
      "A value is trying to be set on a copy of a slice from a DataFrame\n",
      "\n",
      "See the caveats in the documentation: https://pandas.pydata.org/pandas-docs/stable/user_guide/indexing.html#returning-a-view-versus-a-copy\n",
      "  df_nao_comprou[column].fillna(df_nao_comprou[column].mode()[0], inplace = True)\n",
      "/tmp/ipykernel_846869/585532381.py:19: SettingWithCopyWarning: \n",
      "A value is trying to be set on a copy of a slice from a DataFrame\n",
      "\n",
      "See the caveats in the documentation: https://pandas.pydata.org/pandas-docs/stable/user_guide/indexing.html#returning-a-view-versus-a-copy\n",
      "  df_nao_comprou[column].fillna(df_nao_comprou[column].mode()[0], inplace = True)\n",
      "/tmp/ipykernel_846869/585532381.py:19: SettingWithCopyWarning: \n",
      "A value is trying to be set on a copy of a slice from a DataFrame\n",
      "\n",
      "See the caveats in the documentation: https://pandas.pydata.org/pandas-docs/stable/user_guide/indexing.html#returning-a-view-versus-a-copy\n",
      "  df_nao_comprou[column].fillna(df_nao_comprou[column].mode()[0], inplace = True)\n",
      "/tmp/ipykernel_846869/585532381.py:19: SettingWithCopyWarning: \n",
      "A value is trying to be set on a copy of a slice from a DataFrame\n",
      "\n",
      "See the caveats in the documentation: https://pandas.pydata.org/pandas-docs/stable/user_guide/indexing.html#returning-a-view-versus-a-copy\n",
      "  df_nao_comprou[column].fillna(df_nao_comprou[column].mode()[0], inplace = True)\n",
      "/tmp/ipykernel_846869/585532381.py:19: SettingWithCopyWarning: \n",
      "A value is trying to be set on a copy of a slice from a DataFrame\n",
      "\n",
      "See the caveats in the documentation: https://pandas.pydata.org/pandas-docs/stable/user_guide/indexing.html#returning-a-view-versus-a-copy\n",
      "  df_nao_comprou[column].fillna(df_nao_comprou[column].mode()[0], inplace = True)\n",
      "/tmp/ipykernel_846869/585532381.py:19: SettingWithCopyWarning: \n",
      "A value is trying to be set on a copy of a slice from a DataFrame\n",
      "\n",
      "See the caveats in the documentation: https://pandas.pydata.org/pandas-docs/stable/user_guide/indexing.html#returning-a-view-versus-a-copy\n",
      "  df_nao_comprou[column].fillna(df_nao_comprou[column].mode()[0], inplace = True)\n",
      "/tmp/ipykernel_846869/585532381.py:27: SettingWithCopyWarning: \n",
      "A value is trying to be set on a copy of a slice from a DataFrame\n",
      "\n",
      "See the caveats in the documentation: https://pandas.pydata.org/pandas-docs/stable/user_guide/indexing.html#returning-a-view-versus-a-copy\n",
      "  df_nao_comprou[column].fillna(df_nao_comprou[column].median(), inplace = True)\n",
      "/tmp/ipykernel_846869/585532381.py:27: SettingWithCopyWarning: \n",
      "A value is trying to be set on a copy of a slice from a DataFrame\n",
      "\n",
      "See the caveats in the documentation: https://pandas.pydata.org/pandas-docs/stable/user_guide/indexing.html#returning-a-view-versus-a-copy\n",
      "  df_nao_comprou[column].fillna(df_nao_comprou[column].median(), inplace = True)\n",
      "/tmp/ipykernel_846869/585532381.py:27: SettingWithCopyWarning: \n",
      "A value is trying to be set on a copy of a slice from a DataFrame\n",
      "\n",
      "See the caveats in the documentation: https://pandas.pydata.org/pandas-docs/stable/user_guide/indexing.html#returning-a-view-versus-a-copy\n",
      "  df_nao_comprou[column].fillna(df_nao_comprou[column].median(), inplace = True)\n",
      "/tmp/ipykernel_846869/585532381.py:27: SettingWithCopyWarning: \n",
      "A value is trying to be set on a copy of a slice from a DataFrame\n",
      "\n",
      "See the caveats in the documentation: https://pandas.pydata.org/pandas-docs/stable/user_guide/indexing.html#returning-a-view-versus-a-copy\n",
      "  df_nao_comprou[column].fillna(df_nao_comprou[column].median(), inplace = True)\n",
      "/tmp/ipykernel_846869/585532381.py:27: SettingWithCopyWarning: \n",
      "A value is trying to be set on a copy of a slice from a DataFrame\n",
      "\n",
      "See the caveats in the documentation: https://pandas.pydata.org/pandas-docs/stable/user_guide/indexing.html#returning-a-view-versus-a-copy\n",
      "  df_nao_comprou[column].fillna(df_nao_comprou[column].median(), inplace = True)\n",
      "/tmp/ipykernel_846869/585532381.py:27: SettingWithCopyWarning: \n",
      "A value is trying to be set on a copy of a slice from a DataFrame\n",
      "\n",
      "See the caveats in the documentation: https://pandas.pydata.org/pandas-docs/stable/user_guide/indexing.html#returning-a-view-versus-a-copy\n",
      "  df_nao_comprou[column].fillna(df_nao_comprou[column].median(), inplace = True)\n",
      "/tmp/ipykernel_846869/585532381.py:27: SettingWithCopyWarning: \n",
      "A value is trying to be set on a copy of a slice from a DataFrame\n",
      "\n",
      "See the caveats in the documentation: https://pandas.pydata.org/pandas-docs/stable/user_guide/indexing.html#returning-a-view-versus-a-copy\n",
      "  df_nao_comprou[column].fillna(df_nao_comprou[column].median(), inplace = True)\n",
      "/tmp/ipykernel_846869/585532381.py:19: SettingWithCopyWarning: \n",
      "A value is trying to be set on a copy of a slice from a DataFrame\n",
      "\n",
      "See the caveats in the documentation: https://pandas.pydata.org/pandas-docs/stable/user_guide/indexing.html#returning-a-view-versus-a-copy\n",
      "  df_nao_comprou[column].fillna(df_nao_comprou[column].mode()[0], inplace = True)\n",
      "/tmp/ipykernel_846869/585532381.py:19: SettingWithCopyWarning: \n",
      "A value is trying to be set on a copy of a slice from a DataFrame\n",
      "\n",
      "See the caveats in the documentation: https://pandas.pydata.org/pandas-docs/stable/user_guide/indexing.html#returning-a-view-versus-a-copy\n",
      "  df_nao_comprou[column].fillna(df_nao_comprou[column].mode()[0], inplace = True)\n",
      "/tmp/ipykernel_846869/585532381.py:19: SettingWithCopyWarning: \n",
      "A value is trying to be set on a copy of a slice from a DataFrame\n",
      "\n",
      "See the caveats in the documentation: https://pandas.pydata.org/pandas-docs/stable/user_guide/indexing.html#returning-a-view-versus-a-copy\n",
      "  df_nao_comprou[column].fillna(df_nao_comprou[column].mode()[0], inplace = True)\n",
      "/tmp/ipykernel_846869/585532381.py:19: SettingWithCopyWarning: \n",
      "A value is trying to be set on a copy of a slice from a DataFrame\n",
      "\n",
      "See the caveats in the documentation: https://pandas.pydata.org/pandas-docs/stable/user_guide/indexing.html#returning-a-view-versus-a-copy\n",
      "  df_nao_comprou[column].fillna(df_nao_comprou[column].mode()[0], inplace = True)\n",
      "/tmp/ipykernel_846869/585532381.py:19: SettingWithCopyWarning: \n",
      "A value is trying to be set on a copy of a slice from a DataFrame\n",
      "\n",
      "See the caveats in the documentation: https://pandas.pydata.org/pandas-docs/stable/user_guide/indexing.html#returning-a-view-versus-a-copy\n",
      "  df_nao_comprou[column].fillna(df_nao_comprou[column].mode()[0], inplace = True)\n",
      "/tmp/ipykernel_846869/585532381.py:19: SettingWithCopyWarning: \n",
      "A value is trying to be set on a copy of a slice from a DataFrame\n",
      "\n",
      "See the caveats in the documentation: https://pandas.pydata.org/pandas-docs/stable/user_guide/indexing.html#returning-a-view-versus-a-copy\n",
      "  df_nao_comprou[column].fillna(df_nao_comprou[column].mode()[0], inplace = True)\n",
      "/tmp/ipykernel_846869/585532381.py:19: SettingWithCopyWarning: \n",
      "A value is trying to be set on a copy of a slice from a DataFrame\n",
      "\n",
      "See the caveats in the documentation: https://pandas.pydata.org/pandas-docs/stable/user_guide/indexing.html#returning-a-view-versus-a-copy\n",
      "  df_nao_comprou[column].fillna(df_nao_comprou[column].mode()[0], inplace = True)\n",
      "/tmp/ipykernel_846869/585532381.py:27: SettingWithCopyWarning: \n",
      "A value is trying to be set on a copy of a slice from a DataFrame\n",
      "\n",
      "See the caveats in the documentation: https://pandas.pydata.org/pandas-docs/stable/user_guide/indexing.html#returning-a-view-versus-a-copy\n",
      "  df_nao_comprou[column].fillna(df_nao_comprou[column].median(), inplace = True)\n",
      "/tmp/ipykernel_846869/585532381.py:27: SettingWithCopyWarning: \n",
      "A value is trying to be set on a copy of a slice from a DataFrame\n",
      "\n",
      "See the caveats in the documentation: https://pandas.pydata.org/pandas-docs/stable/user_guide/indexing.html#returning-a-view-versus-a-copy\n",
      "  df_nao_comprou[column].fillna(df_nao_comprou[column].median(), inplace = True)\n",
      "/tmp/ipykernel_846869/585532381.py:27: SettingWithCopyWarning: \n",
      "A value is trying to be set on a copy of a slice from a DataFrame\n",
      "\n",
      "See the caveats in the documentation: https://pandas.pydata.org/pandas-docs/stable/user_guide/indexing.html#returning-a-view-versus-a-copy\n",
      "  df_nao_comprou[column].fillna(df_nao_comprou[column].median(), inplace = True)\n",
      "/tmp/ipykernel_846869/585532381.py:27: SettingWithCopyWarning: \n",
      "A value is trying to be set on a copy of a slice from a DataFrame\n",
      "\n",
      "See the caveats in the documentation: https://pandas.pydata.org/pandas-docs/stable/user_guide/indexing.html#returning-a-view-versus-a-copy\n",
      "  df_nao_comprou[column].fillna(df_nao_comprou[column].median(), inplace = True)\n",
      "/tmp/ipykernel_846869/585532381.py:27: SettingWithCopyWarning: \n",
      "A value is trying to be set on a copy of a slice from a DataFrame\n",
      "\n",
      "See the caveats in the documentation: https://pandas.pydata.org/pandas-docs/stable/user_guide/indexing.html#returning-a-view-versus-a-copy\n",
      "  df_nao_comprou[column].fillna(df_nao_comprou[column].median(), inplace = True)\n",
      "/tmp/ipykernel_846869/585532381.py:27: SettingWithCopyWarning: \n",
      "A value is trying to be set on a copy of a slice from a DataFrame\n",
      "\n",
      "See the caveats in the documentation: https://pandas.pydata.org/pandas-docs/stable/user_guide/indexing.html#returning-a-view-versus-a-copy\n",
      "  df_nao_comprou[column].fillna(df_nao_comprou[column].median(), inplace = True)\n",
      "/tmp/ipykernel_846869/585532381.py:27: SettingWithCopyWarning: \n",
      "A value is trying to be set on a copy of a slice from a DataFrame\n",
      "\n",
      "See the caveats in the documentation: https://pandas.pydata.org/pandas-docs/stable/user_guide/indexing.html#returning-a-view-versus-a-copy\n",
      "  df_nao_comprou[column].fillna(df_nao_comprou[column].median(), inplace = True)\n",
      "/tmp/ipykernel_846869/585532381.py:27: SettingWithCopyWarning: \n",
      "A value is trying to be set on a copy of a slice from a DataFrame\n",
      "\n",
      "See the caveats in the documentation: https://pandas.pydata.org/pandas-docs/stable/user_guide/indexing.html#returning-a-view-versus-a-copy\n",
      "  df_nao_comprou[column].fillna(df_nao_comprou[column].median(), inplace = True)\n",
      "/tmp/ipykernel_846869/585532381.py:27: SettingWithCopyWarning: \n",
      "A value is trying to be set on a copy of a slice from a DataFrame\n",
      "\n",
      "See the caveats in the documentation: https://pandas.pydata.org/pandas-docs/stable/user_guide/indexing.html#returning-a-view-versus-a-copy\n",
      "  df_nao_comprou[column].fillna(df_nao_comprou[column].median(), inplace = True)\n",
      "/tmp/ipykernel_846869/585532381.py:27: SettingWithCopyWarning: \n",
      "A value is trying to be set on a copy of a slice from a DataFrame\n",
      "\n",
      "See the caveats in the documentation: https://pandas.pydata.org/pandas-docs/stable/user_guide/indexing.html#returning-a-view-versus-a-copy\n",
      "  df_nao_comprou[column].fillna(df_nao_comprou[column].median(), inplace = True)\n",
      "/tmp/ipykernel_846869/585532381.py:27: SettingWithCopyWarning: \n",
      "A value is trying to be set on a copy of a slice from a DataFrame\n",
      "\n",
      "See the caveats in the documentation: https://pandas.pydata.org/pandas-docs/stable/user_guide/indexing.html#returning-a-view-versus-a-copy\n",
      "  df_nao_comprou[column].fillna(df_nao_comprou[column].median(), inplace = True)\n",
      "/tmp/ipykernel_846869/585532381.py:27: SettingWithCopyWarning: \n",
      "A value is trying to be set on a copy of a slice from a DataFrame\n",
      "\n",
      "See the caveats in the documentation: https://pandas.pydata.org/pandas-docs/stable/user_guide/indexing.html#returning-a-view-versus-a-copy\n",
      "  df_nao_comprou[column].fillna(df_nao_comprou[column].median(), inplace = True)\n",
      "/tmp/ipykernel_846869/585532381.py:27: SettingWithCopyWarning: \n",
      "A value is trying to be set on a copy of a slice from a DataFrame\n",
      "\n",
      "See the caveats in the documentation: https://pandas.pydata.org/pandas-docs/stable/user_guide/indexing.html#returning-a-view-versus-a-copy\n",
      "  df_nao_comprou[column].fillna(df_nao_comprou[column].median(), inplace = True)\n",
      "/tmp/ipykernel_846869/585532381.py:27: SettingWithCopyWarning: \n",
      "A value is trying to be set on a copy of a slice from a DataFrame\n",
      "\n",
      "See the caveats in the documentation: https://pandas.pydata.org/pandas-docs/stable/user_guide/indexing.html#returning-a-view-versus-a-copy\n",
      "  df_nao_comprou[column].fillna(df_nao_comprou[column].median(), inplace = True)\n",
      "/tmp/ipykernel_846869/585532381.py:27: SettingWithCopyWarning: \n",
      "A value is trying to be set on a copy of a slice from a DataFrame\n",
      "\n",
      "See the caveats in the documentation: https://pandas.pydata.org/pandas-docs/stable/user_guide/indexing.html#returning-a-view-versus-a-copy\n",
      "  df_nao_comprou[column].fillna(df_nao_comprou[column].median(), inplace = True)\n",
      "/tmp/ipykernel_846869/585532381.py:27: SettingWithCopyWarning: \n",
      "A value is trying to be set on a copy of a slice from a DataFrame\n",
      "\n",
      "See the caveats in the documentation: https://pandas.pydata.org/pandas-docs/stable/user_guide/indexing.html#returning-a-view-versus-a-copy\n",
      "  df_nao_comprou[column].fillna(df_nao_comprou[column].median(), inplace = True)\n",
      "/tmp/ipykernel_846869/585532381.py:27: SettingWithCopyWarning: \n",
      "A value is trying to be set on a copy of a slice from a DataFrame\n",
      "\n",
      "See the caveats in the documentation: https://pandas.pydata.org/pandas-docs/stable/user_guide/indexing.html#returning-a-view-versus-a-copy\n",
      "  df_nao_comprou[column].fillna(df_nao_comprou[column].median(), inplace = True)\n",
      "/tmp/ipykernel_846869/585532381.py:27: SettingWithCopyWarning: \n",
      "A value is trying to be set on a copy of a slice from a DataFrame\n",
      "\n",
      "See the caveats in the documentation: https://pandas.pydata.org/pandas-docs/stable/user_guide/indexing.html#returning-a-view-versus-a-copy\n",
      "  df_nao_comprou[column].fillna(df_nao_comprou[column].median(), inplace = True)\n",
      "/tmp/ipykernel_846869/585532381.py:27: SettingWithCopyWarning: \n",
      "A value is trying to be set on a copy of a slice from a DataFrame\n",
      "\n",
      "See the caveats in the documentation: https://pandas.pydata.org/pandas-docs/stable/user_guide/indexing.html#returning-a-view-versus-a-copy\n",
      "  df_nao_comprou[column].fillna(df_nao_comprou[column].median(), inplace = True)\n",
      "/tmp/ipykernel_846869/585532381.py:27: SettingWithCopyWarning: \n",
      "A value is trying to be set on a copy of a slice from a DataFrame\n",
      "\n",
      "See the caveats in the documentation: https://pandas.pydata.org/pandas-docs/stable/user_guide/indexing.html#returning-a-view-versus-a-copy\n",
      "  df_nao_comprou[column].fillna(df_nao_comprou[column].median(), inplace = True)\n",
      "/tmp/ipykernel_846869/585532381.py:27: SettingWithCopyWarning: \n",
      "A value is trying to be set on a copy of a slice from a DataFrame\n",
      "\n",
      "See the caveats in the documentation: https://pandas.pydata.org/pandas-docs/stable/user_guide/indexing.html#returning-a-view-versus-a-copy\n",
      "  df_nao_comprou[column].fillna(df_nao_comprou[column].median(), inplace = True)\n",
      "/tmp/ipykernel_846869/585532381.py:27: SettingWithCopyWarning: \n",
      "A value is trying to be set on a copy of a slice from a DataFrame\n",
      "\n",
      "See the caveats in the documentation: https://pandas.pydata.org/pandas-docs/stable/user_guide/indexing.html#returning-a-view-versus-a-copy\n",
      "  df_nao_comprou[column].fillna(df_nao_comprou[column].median(), inplace = True)\n",
      "/tmp/ipykernel_846869/585532381.py:27: SettingWithCopyWarning: \n",
      "A value is trying to be set on a copy of a slice from a DataFrame\n",
      "\n",
      "See the caveats in the documentation: https://pandas.pydata.org/pandas-docs/stable/user_guide/indexing.html#returning-a-view-versus-a-copy\n",
      "  df_nao_comprou[column].fillna(df_nao_comprou[column].median(), inplace = True)\n",
      "/tmp/ipykernel_846869/585532381.py:27: SettingWithCopyWarning: \n",
      "A value is trying to be set on a copy of a slice from a DataFrame\n",
      "\n",
      "See the caveats in the documentation: https://pandas.pydata.org/pandas-docs/stable/user_guide/indexing.html#returning-a-view-versus-a-copy\n",
      "  df_nao_comprou[column].fillna(df_nao_comprou[column].median(), inplace = True)\n",
      "/tmp/ipykernel_846869/585532381.py:27: SettingWithCopyWarning: \n",
      "A value is trying to be set on a copy of a slice from a DataFrame\n",
      "\n",
      "See the caveats in the documentation: https://pandas.pydata.org/pandas-docs/stable/user_guide/indexing.html#returning-a-view-versus-a-copy\n",
      "  df_nao_comprou[column].fillna(df_nao_comprou[column].median(), inplace = True)\n",
      "/tmp/ipykernel_846869/585532381.py:27: SettingWithCopyWarning: \n",
      "A value is trying to be set on a copy of a slice from a DataFrame\n",
      "\n",
      "See the caveats in the documentation: https://pandas.pydata.org/pandas-docs/stable/user_guide/indexing.html#returning-a-view-versus-a-copy\n",
      "  df_nao_comprou[column].fillna(df_nao_comprou[column].median(), inplace = True)\n",
      "/tmp/ipykernel_846869/585532381.py:27: SettingWithCopyWarning: \n",
      "A value is trying to be set on a copy of a slice from a DataFrame\n",
      "\n",
      "See the caveats in the documentation: https://pandas.pydata.org/pandas-docs/stable/user_guide/indexing.html#returning-a-view-versus-a-copy\n",
      "  df_nao_comprou[column].fillna(df_nao_comprou[column].median(), inplace = True)\n",
      "/tmp/ipykernel_846869/585532381.py:27: SettingWithCopyWarning: \n",
      "A value is trying to be set on a copy of a slice from a DataFrame\n",
      "\n",
      "See the caveats in the documentation: https://pandas.pydata.org/pandas-docs/stable/user_guide/indexing.html#returning-a-view-versus-a-copy\n",
      "  df_nao_comprou[column].fillna(df_nao_comprou[column].median(), inplace = True)\n",
      "/tmp/ipykernel_846869/585532381.py:27: SettingWithCopyWarning: \n",
      "A value is trying to be set on a copy of a slice from a DataFrame\n",
      "\n",
      "See the caveats in the documentation: https://pandas.pydata.org/pandas-docs/stable/user_guide/indexing.html#returning-a-view-versus-a-copy\n",
      "  df_nao_comprou[column].fillna(df_nao_comprou[column].median(), inplace = True)\n",
      "/tmp/ipykernel_846869/585532381.py:27: SettingWithCopyWarning: \n",
      "A value is trying to be set on a copy of a slice from a DataFrame\n",
      "\n",
      "See the caveats in the documentation: https://pandas.pydata.org/pandas-docs/stable/user_guide/indexing.html#returning-a-view-versus-a-copy\n",
      "  df_nao_comprou[column].fillna(df_nao_comprou[column].median(), inplace = True)\n",
      "/tmp/ipykernel_846869/585532381.py:27: SettingWithCopyWarning: \n",
      "A value is trying to be set on a copy of a slice from a DataFrame\n",
      "\n",
      "See the caveats in the documentation: https://pandas.pydata.org/pandas-docs/stable/user_guide/indexing.html#returning-a-view-versus-a-copy\n",
      "  df_nao_comprou[column].fillna(df_nao_comprou[column].median(), inplace = True)\n",
      "/tmp/ipykernel_846869/585532381.py:27: SettingWithCopyWarning: \n",
      "A value is trying to be set on a copy of a slice from a DataFrame\n",
      "\n",
      "See the caveats in the documentation: https://pandas.pydata.org/pandas-docs/stable/user_guide/indexing.html#returning-a-view-versus-a-copy\n",
      "  df_nao_comprou[column].fillna(df_nao_comprou[column].median(), inplace = True)\n",
      "/tmp/ipykernel_846869/585532381.py:27: SettingWithCopyWarning: \n",
      "A value is trying to be set on a copy of a slice from a DataFrame\n",
      "\n",
      "See the caveats in the documentation: https://pandas.pydata.org/pandas-docs/stable/user_guide/indexing.html#returning-a-view-versus-a-copy\n",
      "  df_nao_comprou[column].fillna(df_nao_comprou[column].median(), inplace = True)\n",
      "/tmp/ipykernel_846869/585532381.py:27: SettingWithCopyWarning: \n",
      "A value is trying to be set on a copy of a slice from a DataFrame\n",
      "\n",
      "See the caveats in the documentation: https://pandas.pydata.org/pandas-docs/stable/user_guide/indexing.html#returning-a-view-versus-a-copy\n",
      "  df_nao_comprou[column].fillna(df_nao_comprou[column].median(), inplace = True)\n",
      "/tmp/ipykernel_846869/585532381.py:33: SettingWithCopyWarning: \n",
      "A value is trying to be set on a copy of a slice from a DataFrame.\n",
      "Try using .loc[row_indexer,col_indexer] = value instead\n",
      "\n",
      "See the caveats in the documentation: https://pandas.pydata.org/pandas-docs/stable/user_guide/indexing.html#returning-a-view-versus-a-copy\n",
      "  df_nao_comprou['valor incremental bruto'] = prediction\n",
      "/tmp/ipykernel_846869/585532381.py:34: SettingWithCopyWarning: \n",
      "A value is trying to be set on a copy of a slice from a DataFrame.\n",
      "Try using .loc[row_indexer,col_indexer] = value instead\n",
      "\n",
      "See the caveats in the documentation: https://pandas.pydata.org/pandas-docs/stable/user_guide/indexing.html#returning-a-view-versus-a-copy\n",
      "  df_nao_comprou['valor incremental bruto'] = np.where(df_nao_comprou['valor incremental bruto'] >  df_nao_comprou['vl_current_limit'], df_nao_comprou['vl_current_limit'], df_nao_comprou['valor incremental bruto'])\n"
     ]
    }
   ],
   "source": [
    "df_comprou = df.query('teve_compra_depois == 1')\n",
    "\n",
    "formula_text = (\"\"\"\n",
    "vl_compra_depois_60d ~ \n",
    "C(periodo_depois30_fim) + \n",
    "qt_compra_antes_90d +  vl_current_limit + \n",
    "C(ds_gender) + C(ds_state_abbreviation) + C(ds_schooling) + \n",
    "C(ds_marital_status) + cc_time + dias_ativacao + \n",
    "C(ds_city_size) + vl_compra_antes_90d + vl_renda_declarada  + dias_uso_app\n",
    "\"\"\")\n",
    "\n",
    "model = ols(formula = formula_text, data = df_comprou).fit()\n",
    "df_nao_comprou = df.query('flag_atribui_spending == 1')\n",
    "\n",
    "print(len(df_nao_comprou))\n",
    "\n",
    "for column in df_nao_comprou.columns:\n",
    "    if df_nao_comprou[column].dtype == 'object':\n",
    "        df_nao_comprou[column].fillna(df_nao_comprou[column].mode()[0], inplace = True)\n",
    "    elif df_nao_comprou[column].dtype == 'string':\n",
    "        pass\n",
    "    elif df_nao_comprou[column].dtype == 'category':\n",
    "        pass\n",
    "    elif df_nao_comprou[column].dtype == 'datetime64[ns]':\n",
    "        pass\n",
    "    elif df_nao_comprou[column].dtype != 'object':\n",
    "        df_nao_comprou[column].fillna(df_nao_comprou[column].median(), inplace = True)\n",
    "\n",
    "prediction = model.predict(df_nao_comprou)\n",
    "\n",
    "incremento_total = prediction.sum()\n",
    "\n",
    "df_nao_comprou['valor incremental bruto'] = prediction\n",
    "df_nao_comprou['valor incremental bruto'] = np.where(df_nao_comprou['valor incremental bruto'] >  df_nao_comprou['vl_current_limit'], df_nao_comprou['vl_current_limit'], df_nao_comprou['valor incremental bruto'])\n"
   ]
  },
  {
   "cell_type": "code",
   "execution_count": 54,
   "metadata": {},
   "outputs": [
    {
     "name": "stderr",
     "output_type": "stream",
     "text": [
      "/tmp/ipykernel_846869/473920939.py:1: SettingWithCopyWarning: \n",
      "A value is trying to be set on a copy of a slice from a DataFrame.\n",
      "Try using .loc[row_indexer,col_indexer] = value instead\n",
      "\n",
      "See the caveats in the documentation: https://pandas.pydata.org/pandas-docs/stable/user_guide/indexing.html#returning-a-view-versus-a-copy\n",
      "  df_nao_comprou['LTV Bruto'] = (df_nao_comprou['valor incremental bruto'] / 2) * df_nao_comprou['LT']\n"
     ]
    }
   ],
   "source": [
    "df_nao_comprou['LTV Bruto'] = (df_nao_comprou['valor incremental bruto'] / 2) * df_nao_comprou['LT']"
   ]
  },
  {
   "attachments": {},
   "cell_type": "markdown",
   "metadata": {},
   "source": [
    "# Calculos para LTV LÍQUIDO"
   ]
  },
  {
   "cell_type": "code",
   "execution_count": 55,
   "metadata": {},
   "outputs": [
    {
     "name": "stderr",
     "output_type": "stream",
     "text": [
      "/tmp/ipykernel_846869/3533183355.py:1: SettingWithCopyWarning: \n",
      "A value is trying to be set on a copy of a slice from a DataFrame.\n",
      "Try using .loc[row_indexer,col_indexer] = value instead\n",
      "\n",
      "See the caveats in the documentation: https://pandas.pydata.org/pandas-docs/stable/user_guide/indexing.html#returning-a-view-versus-a-copy\n",
      "  df_nao_comprou['Percentual ITR'] = np.where(df_nao_comprou['spending_ltv'] == 0, 0.014, df_nao_comprou['rec_itr'] / df_nao_comprou['spending_ltv'])\n"
     ]
    }
   ],
   "source": [
    "df_nao_comprou['Percentual ITR'] = np.where(df_nao_comprou['spending_ltv'] == 0, 0.014, df_nao_comprou['rec_itr'] / df_nao_comprou['spending_ltv'])\n"
   ]
  },
  {
   "cell_type": "code",
   "execution_count": 56,
   "metadata": {},
   "outputs": [
    {
     "data": {
      "text/plain": [
       "count    1662.000000\n",
       "mean        0.014253\n",
       "std         0.000250\n",
       "min         0.014000\n",
       "25%         0.014000\n",
       "50%         0.014500\n",
       "75%         0.014500\n",
       "max         0.014500\n",
       "Name: Percentual ITR, dtype: float64"
      ]
     },
     "execution_count": 56,
     "metadata": {},
     "output_type": "execute_result"
    }
   ],
   "source": [
    "df_nao_comprou['Percentual ITR'].describe()"
   ]
  },
  {
   "cell_type": "code",
   "execution_count": 57,
   "metadata": {},
   "outputs": [
    {
     "name": "stderr",
     "output_type": "stream",
     "text": [
      "/tmp/ipykernel_846869/197665048.py:1: SettingWithCopyWarning: \n",
      "A value is trying to be set on a copy of a slice from a DataFrame.\n",
      "Try using .loc[row_indexer,col_indexer] = value instead\n",
      "\n",
      "See the caveats in the documentation: https://pandas.pydata.org/pandas-docs/stable/user_guide/indexing.html#returning-a-view-versus-a-copy\n",
      "  df_nao_comprou['LTV Receita Valor'] = (df_nao_comprou['Percentual ITR'] * df_nao_comprou['LTV Bruto'])\n"
     ]
    },
    {
     "data": {
      "text/plain": [
       "60          0.000000\n",
       "100        22.180000\n",
       "137        17.720000\n",
       "173        -7.756564\n",
       "245        12.360165\n",
       "             ...    \n",
       "183049    123.670000\n",
       "183063      9.733944\n",
       "183276      1.000000\n",
       "183308    262.591065\n",
       "183411      1.000000\n",
       "Length: 1662, dtype: float64"
      ]
     },
     "execution_count": 57,
     "metadata": {},
     "output_type": "execute_result"
    }
   ],
   "source": [
    "df_nao_comprou['LTV Receita Valor'] = (df_nao_comprou['Percentual ITR'] * df_nao_comprou['LTV Bruto'])\n",
    "+ df_nao_comprou.rec_recarga + df_nao_comprou.rec_demais_encargos + df_nao_comprou.desp_pdd + df_nao_comprou.rec_juros + df_nao_comprou.custos\n"
   ]
  },
  {
   "cell_type": "code",
   "execution_count": 58,
   "metadata": {},
   "outputs": [
    {
     "data": {
      "image/png": "[encoded data removed]",
      "text/plain": [
       "<Figure size 1440x720 with 1 Axes>"
      ]
     },
     "metadata": {
      "needs_background": "light"
     },
     "output_type": "display_data"
    }
   ],
   "source": [
    "plt.figure(figsize = (20,10))\n",
    "sns.boxplot(data = df_nao_comprou.query('dt_mes_true == \"2023-01-01\"'), x = 'LTV Receita Valor')\n",
    "plt.xticks(rotation=90)\n",
    "plt.show()"
   ]
  },
  {
   "cell_type": "code",
   "execution_count": 59,
   "metadata": {},
   "outputs": [
    {
     "name": "stderr",
     "output_type": "stream",
     "text": [
      "/tmp/ipykernel_846869/3119689617.py:1: SettingWithCopyWarning: \n",
      "A value is trying to be set on a copy of a slice from a DataFrame.\n",
      "Try using .loc[row_indexer,col_indexer] = value instead\n",
      "\n",
      "See the caveats in the documentation: https://pandas.pydata.org/pandas-docs/stable/user_guide/indexing.html#returning-a-view-versus-a-copy\n",
      "  df_nao_comprou['LTV Receita Valor_base'] = df_nao_comprou['ltv'] * df_nao_comprou['LT']\n"
     ]
    }
   ],
   "source": [
    "df_nao_comprou['LTV Receita Valor_base'] = df_nao_comprou['ltv'] * df_nao_comprou['LT']"
   ]
  },
  {
   "cell_type": "code",
   "execution_count": 60,
   "metadata": {},
   "outputs": [
    {
     "data": {
      "image/png": "[encoded data removed]",
      "text/plain": [
       "<Figure size 1440x720 with 1 Axes>"
      ]
     },
     "metadata": {
      "needs_background": "light"
     },
     "output_type": "display_data"
    }
   ],
   "source": [
    "plt.figure(figsize = (20,10))\n",
    "sns.boxplot(data = df_nao_comprou, x = 'LT')\n",
    "plt.xticks(rotation=90)\n",
    "plt.show()"
   ]
  },
  {
   "cell_type": "code",
   "execution_count": 74,
   "metadata": {},
   "outputs": [
    {
     "data": {
      "text/plain": [
       "41.0265045285058"
      ]
     },
     "execution_count": 74,
     "metadata": {},
     "output_type": "execute_result"
    }
   ],
   "source": [
    "df_nao_comprou['LT'].mean()"
   ]
  },
  {
   "cell_type": "code",
   "execution_count": 61,
   "metadata": {},
   "outputs": [
    {
     "data": {
      "text/plain": [
       "count      1662.000000\n",
       "mean       2696.455549\n",
       "std       17940.410914\n",
       "min       -5142.764479\n",
       "25%           0.000000\n",
       "50%         169.521663\n",
       "75%        1564.657791\n",
       "max      647972.220000\n",
       "Name: LTV Receita Valor_base, dtype: float64"
      ]
     },
     "execution_count": 61,
     "metadata": {},
     "output_type": "execute_result"
    }
   ],
   "source": [
    "df_nao_comprou['LTV Receita Valor_base'].describe()"
   ]
  },
  {
   "cell_type": "code",
   "execution_count": 62,
   "metadata": {},
   "outputs": [
    {
     "name": "stderr",
     "output_type": "stream",
     "text": [
      "/tmp/ipykernel_846869/726066832.py:1: SettingWithCopyWarning: \n",
      "A value is trying to be set on a copy of a slice from a DataFrame.\n",
      "Try using .loc[row_indexer,col_indexer] = value instead\n",
      "\n",
      "See the caveats in the documentation: https://pandas.pydata.org/pandas-docs/stable/user_guide/indexing.html#returning-a-view-versus-a-copy\n",
      "  df_nao_comprou['LTV Receita Valor_base2'] = np.where(df_nao_comprou['LTV Receita Valor_base'] > 3500, 3500, df_nao_comprou['LTV Receita Valor_base'])\n"
     ]
    }
   ],
   "source": [
    "df_nao_comprou['LTV Receita Valor_base2'] = np.where(df_nao_comprou['LTV Receita Valor_base'] > 3500, 3500, df_nao_comprou['LTV Receita Valor_base'])"
   ]
  },
  {
   "cell_type": "code",
   "execution_count": 63,
   "metadata": {},
   "outputs": [
    {
     "data": {
      "image/png": "[encoded data removed]",
      "text/plain": [
       "<Figure size 1440x720 with 1 Axes>"
      ]
     },
     "metadata": {
      "needs_background": "light"
     },
     "output_type": "display_data"
    }
   ],
   "source": [
    "plt.figure(figsize = (20,10))\n",
    "sns.boxplot(data = df_nao_comprou.query('dt_mes_true == \"2023-01-01\"'), x = 'LTV Receita Valor_base')\n",
    "plt.xticks(rotation=90)\n",
    "plt.show()"
   ]
  },
  {
   "cell_type": "code",
   "execution_count": 64,
   "metadata": {},
   "outputs": [
    {
     "data": {
      "text/plain": [
       "count    1662.000000\n",
       "mean      878.065042\n",
       "std      1343.545990\n",
       "min     -5142.764479\n",
       "25%         0.000000\n",
       "50%       169.521663\n",
       "75%      1564.657791\n",
       "max      3500.000000\n",
       "Name: LTV Receita Valor_base2, dtype: float64"
      ]
     },
     "execution_count": 64,
     "metadata": {},
     "output_type": "execute_result"
    }
   ],
   "source": [
    "df_nao_comprou['LTV Receita Valor_base2'].describe()"
   ]
  },
  {
   "cell_type": "code",
   "execution_count": 65,
   "metadata": {},
   "outputs": [
    {
     "data": {
      "image/png": "[encoded data removed]",
      "text/plain": [
       "<Figure size 1440x720 with 1 Axes>"
      ]
     },
     "metadata": {
      "needs_background": "light"
     },
     "output_type": "display_data"
    }
   ],
   "source": [
    "plt.figure(figsize = (20,10))\n",
    "sns.boxplot(data = df_nao_comprou.query('dt_mes_true == \"2023-01-01\"'), x = 'LTV Receita Valor_base2')\n",
    "plt.xticks(rotation=90)\n",
    "plt.show()"
   ]
  },
  {
   "cell_type": "code",
   "execution_count": 66,
   "metadata": {},
   "outputs": [
    {
     "data": {
      "text/html": [
       "<div>\n",
       "<style scoped>\n",
       "    .dataframe tbody tr th:only-of-type {\n",
       "        vertical-align: middle;\n",
       "    }\n",
       "\n",
       "    .dataframe tbody tr th {\n",
       "        vertical-align: top;\n",
       "    }\n",
       "\n",
       "    .dataframe thead th {\n",
       "        text-align: right;\n",
       "    }\n",
       "</style>\n",
       "<table border=\"1\" class=\"dataframe\">\n",
       "  <thead>\n",
       "    <tr style=\"text-align: right;\">\n",
       "      <th></th>\n",
       "      <th>hierarquia_1</th>\n",
       "      <th>dt_mes_true</th>\n",
       "      <th>valor incremental bruto</th>\n",
       "      <th>LTV Bruto</th>\n",
       "      <th>LTV Receita Valor</th>\n",
       "      <th>LTV Receita Valor_base</th>\n",
       "      <th>LTV Receita Valor_base2</th>\n",
       "    </tr>\n",
       "  </thead>\n",
       "  <tbody>\n",
       "    <tr>\n",
       "      <th>0</th>\n",
       "      <td>Assunto não identificado</td>\n",
       "      <td>2023-01-01</td>\n",
       "      <td>1760.000000</td>\n",
       "      <td>2.673876e+04</td>\n",
       "      <td>387.711995</td>\n",
       "      <td>5.503462e+03</td>\n",
       "      <td>5503.462245</td>\n",
       "    </tr>\n",
       "    <tr>\n",
       "      <th>1</th>\n",
       "      <td>Assunto não identificado</td>\n",
       "      <td>2023-02-01</td>\n",
       "      <td>9131.834675</td>\n",
       "      <td>1.280764e+05</td>\n",
       "      <td>1811.880324</td>\n",
       "      <td>5.889064e+03</td>\n",
       "      <td>4827.868395</td>\n",
       "    </tr>\n",
       "    <tr>\n",
       "      <th>2</th>\n",
       "      <td>Assunto não identificado</td>\n",
       "      <td>2023-03-01</td>\n",
       "      <td>14516.950388</td>\n",
       "      <td>3.393710e+05</td>\n",
       "      <td>4781.410918</td>\n",
       "      <td>3.718007e+04</td>\n",
       "      <td>4425.251456</td>\n",
       "    </tr>\n",
       "    <tr>\n",
       "      <th>3</th>\n",
       "      <td>Atendimento</td>\n",
       "      <td>2023-01-01</td>\n",
       "      <td>20122.109761</td>\n",
       "      <td>4.300165e+05</td>\n",
       "      <td>6199.557784</td>\n",
       "      <td>6.990169e+03</td>\n",
       "      <td>4865.060912</td>\n",
       "    </tr>\n",
       "    <tr>\n",
       "      <th>4</th>\n",
       "      <td>Atendimento</td>\n",
       "      <td>2023-02-01</td>\n",
       "      <td>15402.327606</td>\n",
       "      <td>4.111963e+05</td>\n",
       "      <td>5879.622170</td>\n",
       "      <td>1.530703e+04</td>\n",
       "      <td>4237.764445</td>\n",
       "    </tr>\n",
       "    <tr>\n",
       "      <th>5</th>\n",
       "      <td>Atendimento</td>\n",
       "      <td>2023-03-01</td>\n",
       "      <td>18170.623892</td>\n",
       "      <td>4.706339e+05</td>\n",
       "      <td>6682.169076</td>\n",
       "      <td>9.981335e+04</td>\n",
       "      <td>25249.582718</td>\n",
       "    </tr>\n",
       "    <tr>\n",
       "      <th>6</th>\n",
       "      <td>Cartão</td>\n",
       "      <td>2023-01-01</td>\n",
       "      <td>489141.721848</td>\n",
       "      <td>1.146185e+07</td>\n",
       "      <td>163733.391354</td>\n",
       "      <td>6.505524e+05</td>\n",
       "      <td>271049.561918</td>\n",
       "    </tr>\n",
       "    <tr>\n",
       "      <th>7</th>\n",
       "      <td>Cartão</td>\n",
       "      <td>2023-02-01</td>\n",
       "      <td>559486.647306</td>\n",
       "      <td>1.307475e+07</td>\n",
       "      <td>186986.613908</td>\n",
       "      <td>8.736332e+05</td>\n",
       "      <td>335787.007857</td>\n",
       "    </tr>\n",
       "    <tr>\n",
       "      <th>8</th>\n",
       "      <td>Cartão</td>\n",
       "      <td>2023-03-01</td>\n",
       "      <td>408175.321021</td>\n",
       "      <td>8.985658e+06</td>\n",
       "      <td>128321.741661</td>\n",
       "      <td>1.697869e+06</td>\n",
       "      <td>351364.490865</td>\n",
       "    </tr>\n",
       "    <tr>\n",
       "      <th>9</th>\n",
       "      <td>Conta</td>\n",
       "      <td>2023-01-01</td>\n",
       "      <td>44070.164598</td>\n",
       "      <td>9.245502e+05</td>\n",
       "      <td>13181.374629</td>\n",
       "      <td>1.956045e+05</td>\n",
       "      <td>55513.498887</td>\n",
       "    </tr>\n",
       "    <tr>\n",
       "      <th>10</th>\n",
       "      <td>Conta</td>\n",
       "      <td>2023-02-01</td>\n",
       "      <td>63087.452303</td>\n",
       "      <td>1.337154e+06</td>\n",
       "      <td>19129.035607</td>\n",
       "      <td>8.836923e+04</td>\n",
       "      <td>48751.674587</td>\n",
       "    </tr>\n",
       "    <tr>\n",
       "      <th>11</th>\n",
       "      <td>Conta</td>\n",
       "      <td>2023-03-01</td>\n",
       "      <td>92230.080829</td>\n",
       "      <td>2.242962e+06</td>\n",
       "      <td>32015.668574</td>\n",
       "      <td>1.832034e+05</td>\n",
       "      <td>90926.885345</td>\n",
       "    </tr>\n",
       "    <tr>\n",
       "      <th>12</th>\n",
       "      <td>Crédito Pessoal</td>\n",
       "      <td>2023-01-01</td>\n",
       "      <td>3452.021646</td>\n",
       "      <td>5.503077e+04</td>\n",
       "      <td>785.917794</td>\n",
       "      <td>3.056542e+02</td>\n",
       "      <td>305.654210</td>\n",
       "    </tr>\n",
       "    <tr>\n",
       "      <th>13</th>\n",
       "      <td>Crédito Pessoal</td>\n",
       "      <td>2023-02-01</td>\n",
       "      <td>1360.000000</td>\n",
       "      <td>1.846569e+04</td>\n",
       "      <td>258.519687</td>\n",
       "      <td>2.843668e+03</td>\n",
       "      <td>2843.668471</td>\n",
       "    </tr>\n",
       "    <tr>\n",
       "      <th>14</th>\n",
       "      <td>Crédito Pessoal</td>\n",
       "      <td>2023-03-01</td>\n",
       "      <td>4402.755485</td>\n",
       "      <td>6.650495e+04</td>\n",
       "      <td>938.260827</td>\n",
       "      <td>5.389134e+02</td>\n",
       "      <td>538.913410</td>\n",
       "    </tr>\n",
       "    <tr>\n",
       "      <th>15</th>\n",
       "      <td>Fraude</td>\n",
       "      <td>2023-01-01</td>\n",
       "      <td>173323.376779</td>\n",
       "      <td>4.314463e+06</td>\n",
       "      <td>61385.319479</td>\n",
       "      <td>4.196660e+05</td>\n",
       "      <td>144006.404374</td>\n",
       "    </tr>\n",
       "    <tr>\n",
       "      <th>16</th>\n",
       "      <td>Fraude</td>\n",
       "      <td>2023-02-01</td>\n",
       "      <td>50744.742389</td>\n",
       "      <td>1.190571e+06</td>\n",
       "      <td>16958.247086</td>\n",
       "      <td>5.639955e+04</td>\n",
       "      <td>24294.354933</td>\n",
       "    </tr>\n",
       "    <tr>\n",
       "      <th>17</th>\n",
       "      <td>Fraude</td>\n",
       "      <td>2023-03-01</td>\n",
       "      <td>46786.848136</td>\n",
       "      <td>1.120522e+06</td>\n",
       "      <td>15971.734956</td>\n",
       "      <td>9.709360e+04</td>\n",
       "      <td>52044.619821</td>\n",
       "    </tr>\n",
       "    <tr>\n",
       "      <th>18</th>\n",
       "      <td>Marketing</td>\n",
       "      <td>2023-02-01</td>\n",
       "      <td>7660.040847</td>\n",
       "      <td>2.709300e+05</td>\n",
       "      <td>3917.627030</td>\n",
       "      <td>1.130592e+04</td>\n",
       "      <td>6094.681495</td>\n",
       "    </tr>\n",
       "    <tr>\n",
       "      <th>19</th>\n",
       "      <td>Marketing</td>\n",
       "      <td>2023-03-01</td>\n",
       "      <td>450.000000</td>\n",
       "      <td>6.824483e+03</td>\n",
       "      <td>95.542759</td>\n",
       "      <td>4.880263e+02</td>\n",
       "      <td>488.026345</td>\n",
       "    </tr>\n",
       "    <tr>\n",
       "      <th>20</th>\n",
       "      <td>Marketplace</td>\n",
       "      <td>2023-02-01</td>\n",
       "      <td>3100.531675</td>\n",
       "      <td>6.866947e+04</td>\n",
       "      <td>961.372648</td>\n",
       "      <td>0.000000e+00</td>\n",
       "      <td>0.000000</td>\n",
       "    </tr>\n",
       "    <tr>\n",
       "      <th>21</th>\n",
       "      <td>Tecnologia</td>\n",
       "      <td>2023-01-01</td>\n",
       "      <td>20991.521988</td>\n",
       "      <td>3.621676e+05</td>\n",
       "      <td>5197.514138</td>\n",
       "      <td>1.220252e+04</td>\n",
       "      <td>9082.470648</td>\n",
       "    </tr>\n",
       "    <tr>\n",
       "      <th>22</th>\n",
       "      <td>Tecnologia</td>\n",
       "      <td>2023-02-01</td>\n",
       "      <td>12550.726867</td>\n",
       "      <td>2.251612e+05</td>\n",
       "      <td>3207.300872</td>\n",
       "      <td>9.072857e+03</td>\n",
       "      <td>7672.241156</td>\n",
       "    </tr>\n",
       "    <tr>\n",
       "      <th>23</th>\n",
       "      <td>Tecnologia</td>\n",
       "      <td>2023-03-01</td>\n",
       "      <td>13582.570187</td>\n",
       "      <td>3.311991e+05</td>\n",
       "      <td>4751.088909</td>\n",
       "      <td>1.167771e+04</td>\n",
       "      <td>9470.955229</td>\n",
       "    </tr>\n",
       "  </tbody>\n",
       "</table>\n",
       "</div>"
      ],
      "text/plain": [
       "                hierarquia_1 dt_mes_true  valor incremental bruto  \\\n",
       "0   Assunto não identificado  2023-01-01              1760.000000   \n",
       "1   Assunto não identificado  2023-02-01              9131.834675   \n",
       "2   Assunto não identificado  2023-03-01             14516.950388   \n",
       "3                Atendimento  2023-01-01             20122.109761   \n",
       "4                Atendimento  2023-02-01             15402.327606   \n",
       "5                Atendimento  2023-03-01             18170.623892   \n",
       "6                     Cartão  2023-01-01            489141.721848   \n",
       "7                     Cartão  2023-02-01            559486.647306   \n",
       "8                     Cartão  2023-03-01            408175.321021   \n",
       "9                      Conta  2023-01-01             44070.164598   \n",
       "10                     Conta  2023-02-01             63087.452303   \n",
       "11                     Conta  2023-03-01             92230.080829   \n",
       "12           Crédito Pessoal  2023-01-01              3452.021646   \n",
       "13           Crédito Pessoal  2023-02-01              1360.000000   \n",
       "14           Crédito Pessoal  2023-03-01              4402.755485   \n",
       "15                    Fraude  2023-01-01            173323.376779   \n",
       "16                    Fraude  2023-02-01             50744.742389   \n",
       "17                    Fraude  2023-03-01             46786.848136   \n",
       "18                 Marketing  2023-02-01              7660.040847   \n",
       "19                 Marketing  2023-03-01               450.000000   \n",
       "20               Marketplace  2023-02-01              3100.531675   \n",
       "21                Tecnologia  2023-01-01             20991.521988   \n",
       "22                Tecnologia  2023-02-01             12550.726867   \n",
       "23                Tecnologia  2023-03-01             13582.570187   \n",
       "\n",
       "       LTV Bruto  LTV Receita Valor  LTV Receita Valor_base  \\\n",
       "0   2.673876e+04         387.711995            5.503462e+03   \n",
       "1   1.280764e+05        1811.880324            5.889064e+03   \n",
       "2   3.393710e+05        4781.410918            3.718007e+04   \n",
       "3   4.300165e+05        6199.557784            6.990169e+03   \n",
       "4   4.111963e+05        5879.622170            1.530703e+04   \n",
       "5   4.706339e+05        6682.169076            9.981335e+04   \n",
       "6   1.146185e+07      163733.391354            6.505524e+05   \n",
       "7   1.307475e+07      186986.613908            8.736332e+05   \n",
       "8   8.985658e+06      128321.741661            1.697869e+06   \n",
       "9   9.245502e+05       13181.374629            1.956045e+05   \n",
       "10  1.337154e+06       19129.035607            8.836923e+04   \n",
       "11  2.242962e+06       32015.668574            1.832034e+05   \n",
       "12  5.503077e+04         785.917794            3.056542e+02   \n",
       "13  1.846569e+04         258.519687            2.843668e+03   \n",
       "14  6.650495e+04         938.260827            5.389134e+02   \n",
       "15  4.314463e+06       61385.319479            4.196660e+05   \n",
       "16  1.190571e+06       16958.247086            5.639955e+04   \n",
       "17  1.120522e+06       15971.734956            9.709360e+04   \n",
       "18  2.709300e+05        3917.627030            1.130592e+04   \n",
       "19  6.824483e+03          95.542759            4.880263e+02   \n",
       "20  6.866947e+04         961.372648            0.000000e+00   \n",
       "21  3.621676e+05        5197.514138            1.220252e+04   \n",
       "22  2.251612e+05        3207.300872            9.072857e+03   \n",
       "23  3.311991e+05        4751.088909            1.167771e+04   \n",
       "\n",
       "    LTV Receita Valor_base2  \n",
       "0               5503.462245  \n",
       "1               4827.868395  \n",
       "2               4425.251456  \n",
       "3               4865.060912  \n",
       "4               4237.764445  \n",
       "5              25249.582718  \n",
       "6             271049.561918  \n",
       "7             335787.007857  \n",
       "8             351364.490865  \n",
       "9              55513.498887  \n",
       "10             48751.674587  \n",
       "11             90926.885345  \n",
       "12               305.654210  \n",
       "13              2843.668471  \n",
       "14               538.913410  \n",
       "15            144006.404374  \n",
       "16             24294.354933  \n",
       "17             52044.619821  \n",
       "18              6094.681495  \n",
       "19               488.026345  \n",
       "20                 0.000000  \n",
       "21              9082.470648  \n",
       "22              7672.241156  \n",
       "23              9470.955229  "
      ]
     },
     "execution_count": 66,
     "metadata": {},
     "output_type": "execute_result"
    }
   ],
   "source": [
    "#incluir incremento ajustado\n",
    "resultado_sim = df_nao_comprou[['hierarquia_1', 'valor incremental bruto', 'dt_mes_true', 'LTV Bruto', 'LTV Receita Valor', 'LTV Receita Valor_base', 'LTV Receita Valor_base2']].groupby(['hierarquia_1', 'dt_mes_true']).sum()\n",
    "resultado_sim = resultado_sim.reset_index()\n",
    "resultado_sim"
   ]
  },
  {
   "cell_type": "code",
   "execution_count": 67,
   "metadata": {},
   "outputs": [
    {
     "name": "stdout",
     "output_type": "stream",
     "text": [
      "1662\n",
      "1654\n"
     ]
    }
   ],
   "source": [
    "print(len(df_nao_comprou))\n",
    "print(len(df_nao_comprou['cpf'].unique()))"
   ]
  },
  {
   "cell_type": "code",
   "execution_count": 68,
   "metadata": {},
   "outputs": [
    {
     "data": {
      "text/plain": [
       "dt_mes_true\n",
       "2023-01-01    250870.787173\n",
       "2023-02-01    239110.219331\n",
       "2023-03-01    193557.617680\n",
       "Name: LTV Receita Valor, dtype: float64"
      ]
     },
     "execution_count": 68,
     "metadata": {},
     "output_type": "execute_result"
    }
   ],
   "source": [
    "resultado_sim.groupby('dt_mes_true')['LTV Receita Valor'].sum()"
   ]
  },
  {
   "cell_type": "code",
   "execution_count": 69,
   "metadata": {},
   "outputs": [
    {
     "data": {
      "text/plain": [
       "dt_mes_true\n",
       "2023-01-01    752860.916619\n",
       "2023-02-01    722524.303667\n",
       "2023-03-01    598315.149938\n",
       "Name: valor incremental bruto, dtype: float64"
      ]
     },
     "execution_count": 69,
     "metadata": {},
     "output_type": "execute_result"
    }
   ],
   "source": [
    "resultado_sim.groupby('dt_mes_true')['valor incremental bruto'].sum()"
   ]
  },
  {
   "cell_type": "code",
   "execution_count": 70,
   "metadata": {},
   "outputs": [
    {
     "data": {
      "text/plain": [
       "dt_mes_true\n",
       "2023-01-01    1.757482e+07\n",
       "2023-02-01    1.672498e+07\n",
       "2023-03-01    1.356368e+07\n",
       "Name: LTV Bruto, dtype: float64"
      ]
     },
     "execution_count": 70,
     "metadata": {},
     "output_type": "execute_result"
    }
   ],
   "source": [
    "resultado_sim.groupby('dt_mes_true')['LTV Bruto'].sum()"
   ]
  },
  {
   "cell_type": "code",
   "execution_count": 71,
   "metadata": {},
   "outputs": [
    {
     "data": {
      "text/plain": [
       "dt_mes_true\n",
       "2023-01-01    1.290825e+06\n",
       "2023-02-01    1.062821e+06\n",
       "2023-03-01    2.127864e+06\n",
       "Name: LTV Receita Valor_base, dtype: float64"
      ]
     },
     "execution_count": 71,
     "metadata": {},
     "output_type": "execute_result"
    }
   ],
   "source": [
    "resultado_sim.groupby('dt_mes_true')['LTV Receita Valor_base'].sum()"
   ]
  },
  {
   "cell_type": "code",
   "execution_count": 72,
   "metadata": {},
   "outputs": [
    {
     "data": {
      "text/plain": [
       "dt_mes_true\n",
       "2023-01-01    490326.113193\n",
       "2023-02-01    434509.261339\n",
       "2023-03-01    534508.725189\n",
       "Name: LTV Receita Valor_base2, dtype: float64"
      ]
     },
     "execution_count": 72,
     "metadata": {},
     "output_type": "execute_result"
    }
   ],
   "source": [
    "resultado_sim.groupby('dt_mes_true')['LTV Receita Valor_base2'].sum()"
   ]
  },
  {
   "cell_type": "code",
   "execution_count": 73,
   "metadata": {},
   "outputs": [
    {
     "data": {
      "text/plain": [
       "204"
      ]
     },
     "execution_count": 73,
     "metadata": {},
     "output_type": "execute_result"
    }
   ],
   "source": [
    "len(df_nao_comprou[df_nao_comprou['LTV Receita Valor_base'] == 0])"
   ]
  }
 ],
 "metadata": {
  "kernelspec": {
   "display_name": "Python 3",
   "language": "python",
   "name": "python3"
  },
  "language_info": {
   "codemirror_mode": {
    "name": "ipython",
    "version": 3
   },
   "file_extension": ".py",
   "mimetype": "text/x-python",
   "name": "python",
   "nbconvert_exporter": "python",
   "pygments_lexer": "ipython3",
   "version": "3.8.10"
  },
  "orig_nbformat": 4
 },
 "nbformat": 4,
 "nbformat_minor": 2
}
