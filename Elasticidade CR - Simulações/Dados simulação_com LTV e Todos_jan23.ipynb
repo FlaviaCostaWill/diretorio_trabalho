{
 "cells": [
  {
   "cell_type": "code",
   "execution_count": 1,
   "metadata": {},
   "outputs": [],
   "source": [
    "import pandas as pd\n",
    "import numpy as np\n",
    "import seaborn as sns\n",
    "import acessos as ac\n",
    "import os \n",
    "import matplotlib.pyplot as plt\n",
    "import statsmodels.api as sm\n",
    "from statsmodels.formula.api import ols"
   ]
  },
  {
   "cell_type": "code",
   "execution_count": 2,
   "metadata": {},
   "outputs": [],
   "source": [
    "text_file = open(os.path.abspath('../Elasticidade CR - Simulações/sql/jan23_ComESemAtendimento.sql'), \"r\")\n",
    "query = text_file.read()\n",
    "text_file.close()\n",
    "df = ac.df_athena_q('flavia-costa', query)"
   ]
  },
  {
   "cell_type": "code",
   "execution_count": null,
   "metadata": {},
   "outputs": [
    {
     "data": {
      "text/plain": [
       "175227"
      ]
     },
     "execution_count": 3,
     "metadata": {},
     "output_type": "execute_result"
    }
   ],
   "source": [
    "len(df)"
   ]
  },
  {
   "cell_type": "code",
   "execution_count": 5,
   "metadata": {},
   "outputs": [
    {
     "data": {
      "text/plain": [
       "2023-01-01    48173\n",
       "2023-02-01    43292\n",
       "2023-03-01    41002\n",
       "Name: dt_mes_true, dtype: int64"
      ]
     },
     "execution_count": 5,
     "metadata": {},
     "output_type": "execute_result"
    }
   ],
   "source": [
    "df.usou_chat.value_counts()"
   ]
  },
  {
   "cell_type": "code",
   "execution_count": 6,
   "metadata": {},
   "outputs": [],
   "source": [
    "missing_zero = ['qt_compra_antes_90d', 'vl_compra_antes_90d', 'vl_compra_depois_60d', 'spending_ltv', 'ltv', 'dias_atraso_ltv', 'rec_itr',\n",
    "\t\t\t\t\t'rec_recarga', 'rec_demais_encargos', 'desp_pdd', 'rec_juros', 'custos']\n",
    "\n",
    "for column in missing_zero:\n",
    "    df[column].fillna(0, inplace = True)"
   ]
  },
  {
   "cell_type": "code",
   "execution_count": 7,
   "metadata": {},
   "outputs": [
    {
     "data": {
      "text/plain": [
       "42760"
      ]
     },
     "execution_count": 7,
     "metadata": {},
     "output_type": "execute_result"
    }
   ],
   "source": [
    "len(df.query('vl_compra_antes_90d == 0'))"
   ]
  },
  {
   "cell_type": "code",
   "execution_count": 8,
   "metadata": {},
   "outputs": [
    {
     "data": {
      "text/plain": [
       "61203"
      ]
     },
     "execution_count": 8,
     "metadata": {},
     "output_type": "execute_result"
    }
   ],
   "source": [
    "len(df.query('vl_compra_depois_60d == 0'))"
   ]
  },
  {
   "attachments": {},
   "cell_type": "markdown",
   "metadata": {},
   "source": [
    "Criação de variáveis"
   ]
  },
  {
   "cell_type": "code",
   "execution_count": 9,
   "metadata": {},
   "outputs": [
    {
     "name": "stderr",
     "output_type": "stream",
     "text": [
      "/home/flavia.costa/.local/lib/python3.8/site-packages/pandas/core/arraylike.py:397: RuntimeWarning: divide by zero encountered in log\n",
      "  result = getattr(ufunc, method)(*inputs, **kwargs)\n"
     ]
    }
   ],
   "source": [
    "df['dt_opening_account'] = pd.to_datetime(df['dt_opening_account'], format='%Y-%m-%d')\n",
    "df['dt_mes_true'] = pd.to_datetime(df['dt_mes_true'], format='%Y-%m-%d')\n",
    "df['cc_time'] = (df['dt_mes_true'] - df['dt_opening_account'])/ np.timedelta64(1, 'D')\n",
    "    \n",
    "df['dt_first_use_credit'] = pd.to_datetime(df['dt_first_use_credit'], format='%Y-%m-%d')\n",
    "df['dias_ativacao'] = (df['dt_mes_true'] - df['dt_first_use_credit'])/ np.timedelta64(1, 'D')\n",
    "    \n",
    "df['dt_birth'] = pd.to_datetime(df['dt_birth'], format='%Y-%m-%d', errors = 'coerce')\n",
    "df['age'] = (df['dt_mes_true'] - df['dt_birth']).astype('<m8[Y]')\n",
    "    \n",
    "df['dt_last_use_credit'] = pd.to_datetime(df['dt_last_use_credit'], format='%Y-%m-%d', errors = 'coerce')\n",
    "df['dias_desde_ultima_compra'] = (df['dt_mes_true'] - df['dt_last_use_credit']).dt.days\n",
    "   \n",
    "df['vl_compra_antes_90d_log'] = np.log(df.vl_compra_antes_90d) #Ajuste da variável\n"
   ]
  },
  {
   "cell_type": "code",
   "execution_count": 10,
   "metadata": {},
   "outputs": [
    {
     "data": {
      "text/html": [
       "<div>\n",
       "<style scoped>\n",
       "    .dataframe tbody tr th:only-of-type {\n",
       "        vertical-align: middle;\n",
       "    }\n",
       "\n",
       "    .dataframe tbody tr th {\n",
       "        vertical-align: top;\n",
       "    }\n",
       "\n",
       "    .dataframe thead th {\n",
       "        text-align: right;\n",
       "    }\n",
       "</style>\n",
       "<table border=\"1\" class=\"dataframe\">\n",
       "  <thead>\n",
       "    <tr style=\"text-align: right;\">\n",
       "      <th></th>\n",
       "      <th>cc_time</th>\n",
       "      <th>vl_current_limit</th>\n",
       "      <th>dias_uso_app</th>\n",
       "      <th>vl_renda_declarada</th>\n",
       "      <th>dias_ativacao</th>\n",
       "      <th>qt_compra_antes_90d</th>\n",
       "      <th>dias_desde_ultima_compra</th>\n",
       "      <th>vl_compra_antes_90d</th>\n",
       "    </tr>\n",
       "  </thead>\n",
       "  <tbody>\n",
       "    <tr>\n",
       "      <th>count</th>\n",
       "      <td>132439.000000</td>\n",
       "      <td>132467.000000</td>\n",
       "      <td>175227.000000</td>\n",
       "      <td>9.218100e+04</td>\n",
       "      <td>132467.000000</td>\n",
       "      <td>175227.000000</td>\n",
       "      <td>132467.000000</td>\n",
       "      <td>175227.000000</td>\n",
       "    </tr>\n",
       "    <tr>\n",
       "      <th>mean</th>\n",
       "      <td>586.117868</td>\n",
       "      <td>2773.900390</td>\n",
       "      <td>4.880412</td>\n",
       "      <td>1.888241e+04</td>\n",
       "      <td>551.040550</td>\n",
       "      <td>14.715329</td>\n",
       "      <td>14.703420</td>\n",
       "      <td>1639.917085</td>\n",
       "    </tr>\n",
       "    <tr>\n",
       "      <th>std</th>\n",
       "      <td>540.769841</td>\n",
       "      <td>3693.754847</td>\n",
       "      <td>10.141278</td>\n",
       "      <td>1.123450e+06</td>\n",
       "      <td>532.393495</td>\n",
       "      <td>21.052890</td>\n",
       "      <td>17.372299</td>\n",
       "      <td>2687.071240</td>\n",
       "    </tr>\n",
       "    <tr>\n",
       "      <th>min</th>\n",
       "      <td>-177.095570</td>\n",
       "      <td>0.000000</td>\n",
       "      <td>0.000000</td>\n",
       "      <td>0.000000e+00</td>\n",
       "      <td>-133.680637</td>\n",
       "      <td>0.000000</td>\n",
       "      <td>1.000000</td>\n",
       "      <td>0.000000</td>\n",
       "    </tr>\n",
       "    <tr>\n",
       "      <th>25%</th>\n",
       "      <td>146.533196</td>\n",
       "      <td>500.000000</td>\n",
       "      <td>0.000000</td>\n",
       "      <td>9.000000e+02</td>\n",
       "      <td>121.029705</td>\n",
       "      <td>1.000000</td>\n",
       "      <td>3.000000</td>\n",
       "      <td>23.990000</td>\n",
       "    </tr>\n",
       "    <tr>\n",
       "      <th>50%</th>\n",
       "      <td>384.344374</td>\n",
       "      <td>1400.000000</td>\n",
       "      <td>0.000000</td>\n",
       "      <td>1.800000e+03</td>\n",
       "      <td>346.531898</td>\n",
       "      <td>7.000000</td>\n",
       "      <td>8.000000</td>\n",
       "      <td>787.520000</td>\n",
       "    </tr>\n",
       "    <tr>\n",
       "      <th>75%</th>\n",
       "      <td>928.272488</td>\n",
       "      <td>3100.000000</td>\n",
       "      <td>5.000000</td>\n",
       "      <td>3.000000e+03</td>\n",
       "      <td>867.570191</td>\n",
       "      <td>20.000000</td>\n",
       "      <td>19.000000</td>\n",
       "      <td>2040.035000</td>\n",
       "    </tr>\n",
       "    <tr>\n",
       "      <th>max</th>\n",
       "      <td>2111.876181</td>\n",
       "      <td>30000.000000</td>\n",
       "      <td>91.000000</td>\n",
       "      <td>9.198228e+07</td>\n",
       "      <td>2218.660000</td>\n",
       "      <td>747.000000</td>\n",
       "      <td>91.000000</td>\n",
       "      <td>89149.420000</td>\n",
       "    </tr>\n",
       "  </tbody>\n",
       "</table>\n",
       "</div>"
      ],
      "text/plain": [
       "             cc_time  vl_current_limit   dias_uso_app  vl_renda_declarada  \\\n",
       "count  132439.000000     132467.000000  175227.000000        9.218100e+04   \n",
       "mean      586.117868       2773.900390       4.880412        1.888241e+04   \n",
       "std       540.769841       3693.754847      10.141278        1.123450e+06   \n",
       "min      -177.095570          0.000000       0.000000        0.000000e+00   \n",
       "25%       146.533196        500.000000       0.000000        9.000000e+02   \n",
       "50%       384.344374       1400.000000       0.000000        1.800000e+03   \n",
       "75%       928.272488       3100.000000       5.000000        3.000000e+03   \n",
       "max      2111.876181      30000.000000      91.000000        9.198228e+07   \n",
       "\n",
       "       dias_ativacao  qt_compra_antes_90d  dias_desde_ultima_compra  \\\n",
       "count  132467.000000        175227.000000             132467.000000   \n",
       "mean      551.040550            14.715329                 14.703420   \n",
       "std       532.393495            21.052890                 17.372299   \n",
       "min      -133.680637             0.000000                  1.000000   \n",
       "25%       121.029705             1.000000                  3.000000   \n",
       "50%       346.531898             7.000000                  8.000000   \n",
       "75%       867.570191            20.000000                 19.000000   \n",
       "max      2218.660000           747.000000                 91.000000   \n",
       "\n",
       "       vl_compra_antes_90d  \n",
       "count        175227.000000  \n",
       "mean           1639.917085  \n",
       "std            2687.071240  \n",
       "min               0.000000  \n",
       "25%              23.990000  \n",
       "50%             787.520000  \n",
       "75%            2040.035000  \n",
       "max           89149.420000  "
      ]
     },
     "execution_count": 10,
     "metadata": {},
     "output_type": "execute_result"
    }
   ],
   "source": [
    "df[['cc_time', 'vl_current_limit', 'dias_uso_app', 'vl_renda_declarada', 'dias_ativacao', 'qt_compra_antes_90d', 'dias_desde_ultima_compra', 'vl_compra_antes_90d']].describe()"
   ]
  },
  {
   "cell_type": "code",
   "execution_count": 11,
   "metadata": {},
   "outputs": [],
   "source": [
    "for column in df.columns:\n",
    "    if df[column].dtype == 'object':\n",
    "        df[column].fillna(df[column].mode()[0], inplace = True)\n",
    "    elif column == 'vl_compra_antes_90d_log':\n",
    "        df[column].fillna(0, inplace = True)\n",
    "    elif df[column].dtype != 'object':\n",
    "        df[column].fillna(df[column].median(), inplace = True)"
   ]
  },
  {
   "attachments": {},
   "cell_type": "markdown",
   "metadata": {},
   "source": [
    "Função de normalização"
   ]
  },
  {
   "cell_type": "code",
   "execution_count": 12,
   "metadata": {},
   "outputs": [],
   "source": [
    "def normalizando(x, var_min, var_max):\n",
    "    y = (x - var_min) / (var_max - var_min)\n",
    "    return y"
   ]
  },
  {
   "cell_type": "code",
   "execution_count": 13,
   "metadata": {},
   "outputs": [],
   "source": [
    "df_n = pd.DataFrame()\n",
    "\n",
    "df_n['cc_time'] = normalizando(df['cc_time'], 0.19, 2062.09)\n",
    "df_n['vl_current_limit'] = normalizando(df['vl_current_limit'], 0, 12300)\n",
    "df_n['dias_uso_app'] = normalizando(df['dias_uso_app'], 0, 35)\n",
    "df_n['vl_renda_declarada'] = normalizando(df['vl_renda_declarada'], 0, 999999.99)\n",
    "df_n['dias_ativacao'] = normalizando(df['dias_ativacao'], 0, 1812.25)\n",
    "df_n['qt_compra_antes_90d'] = normalizando(df['qt_compra_antes_90d'], 1, 78)\n",
    "df_n['dias_desde_ultima_compra'] = normalizando(df['dias_desde_ultima_compra'], 1, 77)\n"
   ]
  },
  {
   "cell_type": "code",
   "execution_count": 14,
   "metadata": {},
   "outputs": [
    {
     "data": {
      "text/html": [
       "<div>\n",
       "<style scoped>\n",
       "    .dataframe tbody tr th:only-of-type {\n",
       "        vertical-align: middle;\n",
       "    }\n",
       "\n",
       "    .dataframe tbody tr th {\n",
       "        vertical-align: top;\n",
       "    }\n",
       "\n",
       "    .dataframe thead th {\n",
       "        text-align: right;\n",
       "    }\n",
       "</style>\n",
       "<table border=\"1\" class=\"dataframe\">\n",
       "  <thead>\n",
       "    <tr style=\"text-align: right;\">\n",
       "      <th></th>\n",
       "      <th>cc_time</th>\n",
       "      <th>vl_current_limit</th>\n",
       "      <th>dias_uso_app</th>\n",
       "      <th>vl_renda_declarada</th>\n",
       "      <th>dias_ativacao</th>\n",
       "      <th>qt_compra_antes_90d</th>\n",
       "      <th>dias_desde_ultima_compra</th>\n",
       "    </tr>\n",
       "  </thead>\n",
       "  <tbody>\n",
       "    <tr>\n",
       "      <th>count</th>\n",
       "      <td>175227.000000</td>\n",
       "      <td>175227.000000</td>\n",
       "      <td>175227.000000</td>\n",
       "      <td>175227.000000</td>\n",
       "      <td>175227.000000</td>\n",
       "      <td>175227.000000</td>\n",
       "      <td>175227.000000</td>\n",
       "    </tr>\n",
       "    <tr>\n",
       "      <th>mean</th>\n",
       "      <td>0.260273</td>\n",
       "      <td>0.198263</td>\n",
       "      <td>0.139440</td>\n",
       "      <td>0.010786</td>\n",
       "      <td>0.276526</td>\n",
       "      <td>0.178121</td>\n",
       "      <td>0.158784</td>\n",
       "    </tr>\n",
       "    <tr>\n",
       "      <th>std</th>\n",
       "      <td>0.231852</td>\n",
       "      <td>0.265476</td>\n",
       "      <td>0.289751</td>\n",
       "      <td>0.814886</td>\n",
       "      <td>0.259985</td>\n",
       "      <td>0.273414</td>\n",
       "      <td>0.202324</td>\n",
       "    </tr>\n",
       "    <tr>\n",
       "      <th>min</th>\n",
       "      <td>-0.085982</td>\n",
       "      <td>0.000000</td>\n",
       "      <td>0.000000</td>\n",
       "      <td>0.000000</td>\n",
       "      <td>-0.073765</td>\n",
       "      <td>-0.012987</td>\n",
       "      <td>0.000000</td>\n",
       "    </tr>\n",
       "    <tr>\n",
       "      <th>25%</th>\n",
       "      <td>0.097145</td>\n",
       "      <td>0.056911</td>\n",
       "      <td>0.000000</td>\n",
       "      <td>0.001600</td>\n",
       "      <td>0.094687</td>\n",
       "      <td>0.000000</td>\n",
       "      <td>0.039474</td>\n",
       "    </tr>\n",
       "    <tr>\n",
       "      <th>50%</th>\n",
       "      <td>0.186311</td>\n",
       "      <td>0.113821</td>\n",
       "      <td>0.000000</td>\n",
       "      <td>0.001800</td>\n",
       "      <td>0.191216</td>\n",
       "      <td>0.077922</td>\n",
       "      <td>0.092105</td>\n",
       "    </tr>\n",
       "    <tr>\n",
       "      <th>75%</th>\n",
       "      <td>0.335183</td>\n",
       "      <td>0.203252</td>\n",
       "      <td>0.142857</td>\n",
       "      <td>0.001950</td>\n",
       "      <td>0.359457</td>\n",
       "      <td>0.246753</td>\n",
       "      <td>0.184211</td>\n",
       "    </tr>\n",
       "    <tr>\n",
       "      <th>max</th>\n",
       "      <td>1.024146</td>\n",
       "      <td>2.439024</td>\n",
       "      <td>2.600000</td>\n",
       "      <td>91.982282</td>\n",
       "      <td>1.224257</td>\n",
       "      <td>9.688312</td>\n",
       "      <td>1.184211</td>\n",
       "    </tr>\n",
       "  </tbody>\n",
       "</table>\n",
       "</div>"
      ],
      "text/plain": [
       "             cc_time  vl_current_limit   dias_uso_app  vl_renda_declarada  \\\n",
       "count  175227.000000     175227.000000  175227.000000       175227.000000   \n",
       "mean        0.260273          0.198263       0.139440            0.010786   \n",
       "std         0.231852          0.265476       0.289751            0.814886   \n",
       "min        -0.085982          0.000000       0.000000            0.000000   \n",
       "25%         0.097145          0.056911       0.000000            0.001600   \n",
       "50%         0.186311          0.113821       0.000000            0.001800   \n",
       "75%         0.335183          0.203252       0.142857            0.001950   \n",
       "max         1.024146          2.439024       2.600000           91.982282   \n",
       "\n",
       "       dias_ativacao  qt_compra_antes_90d  dias_desde_ultima_compra  \n",
       "count  175227.000000        175227.000000             175227.000000  \n",
       "mean        0.276526             0.178121                  0.158784  \n",
       "std         0.259985             0.273414                  0.202324  \n",
       "min        -0.073765            -0.012987                  0.000000  \n",
       "25%         0.094687             0.000000                  0.039474  \n",
       "50%         0.191216             0.077922                  0.092105  \n",
       "75%         0.359457             0.246753                  0.184211  \n",
       "max         1.224257             9.688312                  1.184211  "
      ]
     },
     "execution_count": 14,
     "metadata": {},
     "output_type": "execute_result"
    }
   ],
   "source": [
    "df_n[['cc_time', 'vl_current_limit', 'dias_uso_app', 'vl_renda_declarada', 'dias_ativacao', 'qt_compra_antes_90d', 'dias_desde_ultima_compra']].describe()"
   ]
  },
  {
   "attachments": {},
   "cell_type": "markdown",
   "metadata": {},
   "source": [
    "# Calculo LT por segmento"
   ]
  },
  {
   "cell_type": "code",
   "execution_count": 15,
   "metadata": {},
   "outputs": [],
   "source": [
    "text_file = open(os.path.abspath('../Elasticidade CR - Simulações/sql/jan-mar22.sql'), \"r\")\n",
    "query_aa = text_file.read()\n",
    "text_file.close()\n",
    "df_aa = ac.df_athena_q('flavia-costa', query_aa)"
   ]
  },
  {
   "cell_type": "code",
   "execution_count": 16,
   "metadata": {},
   "outputs": [],
   "source": [
    "missing_zero = ['qt_compra_antes_90d', 'vl_compra_antes_90d', 'vl_compra_depois_ano']\n",
    "\n",
    "for column in missing_zero:\n",
    "    df_aa[column].fillna(0, inplace = True)"
   ]
  },
  {
   "cell_type": "code",
   "execution_count": 17,
   "metadata": {},
   "outputs": [],
   "source": [
    "df_aa['dt_mes_true'] = pd.to_datetime(df_aa['dt_mes_true'])\n",
    "df_aa['dt_last_use_credit'] = pd.to_datetime(df_aa['dt_last_use_credit'])"
   ]
  },
  {
   "cell_type": "code",
   "execution_count": 18,
   "metadata": {},
   "outputs": [],
   "source": [
    "df_aa['dt_criacao_conta_str'] = df_aa['dt_criacao_conta'].astype('string') + '01'\n",
    "df_aa['dt_criacao_conta_date'] = pd.to_datetime(df_aa['dt_criacao_conta_str'], format='%Y%m%d', errors='ignore')"
   ]
  },
  {
   "cell_type": "code",
   "execution_count": 19,
   "metadata": {},
   "outputs": [],
   "source": [
    "# variaveis dias\n",
    "df_aa['dias_desde_ultima_compra'] = (df_aa['dt_mes_true'] - df_aa['dt_last_use_credit']).dt.days \n",
    "df_aa['cc_time'] = (df_aa['dt_mes_true'] - df_aa['dt_criacao_conta_date']).dt.days \n",
    "df_aa['dias_ativacao'] = (df_aa['dt_mes_true'] - df_aa['dt_first_use_credit']).dt.days \n"
   ]
  },
  {
   "cell_type": "code",
   "execution_count": 20,
   "metadata": {},
   "outputs": [
    {
     "data": {
      "text/html": [
       "<div>\n",
       "<style scoped>\n",
       "    .dataframe tbody tr th:only-of-type {\n",
       "        vertical-align: middle;\n",
       "    }\n",
       "\n",
       "    .dataframe tbody tr th {\n",
       "        vertical-align: top;\n",
       "    }\n",
       "\n",
       "    .dataframe thead th {\n",
       "        text-align: right;\n",
       "    }\n",
       "</style>\n",
       "<table border=\"1\" class=\"dataframe\">\n",
       "  <thead>\n",
       "    <tr style=\"text-align: right;\">\n",
       "      <th></th>\n",
       "      <th>dias_ativacao</th>\n",
       "      <th>cc_time</th>\n",
       "      <th>dias_desde_ultima_compra</th>\n",
       "      <th>qt_compra_antes_90d</th>\n",
       "      <th>vl_compra_antes_90d</th>\n",
       "    </tr>\n",
       "  </thead>\n",
       "  <tbody>\n",
       "    <tr>\n",
       "      <th>count</th>\n",
       "      <td>60569.000000</td>\n",
       "      <td>60569.000000</td>\n",
       "      <td>60569.000000</td>\n",
       "      <td>60569.000000</td>\n",
       "      <td>60569.000000</td>\n",
       "    </tr>\n",
       "    <tr>\n",
       "      <th>mean</th>\n",
       "      <td>650.172415</td>\n",
       "      <td>707.498770</td>\n",
       "      <td>14.256369</td>\n",
       "      <td>23.961465</td>\n",
       "      <td>2799.009862</td>\n",
       "    </tr>\n",
       "    <tr>\n",
       "      <th>std</th>\n",
       "      <td>463.383643</td>\n",
       "      <td>467.084045</td>\n",
       "      <td>17.743541</td>\n",
       "      <td>26.272977</td>\n",
       "      <td>3656.650229</td>\n",
       "    </tr>\n",
       "    <tr>\n",
       "      <th>min</th>\n",
       "      <td>-2.000000</td>\n",
       "      <td>31.000000</td>\n",
       "      <td>1.000000</td>\n",
       "      <td>1.000000</td>\n",
       "      <td>0.100000</td>\n",
       "    </tr>\n",
       "    <tr>\n",
       "      <th>25%</th>\n",
       "      <td>234.000000</td>\n",
       "      <td>276.000000</td>\n",
       "      <td>3.000000</td>\n",
       "      <td>7.000000</td>\n",
       "      <td>745.570000</td>\n",
       "    </tr>\n",
       "    <tr>\n",
       "      <th>50%</th>\n",
       "      <td>643.000000</td>\n",
       "      <td>731.000000</td>\n",
       "      <td>8.000000</td>\n",
       "      <td>16.000000</td>\n",
       "      <td>1680.410000</td>\n",
       "    </tr>\n",
       "    <tr>\n",
       "      <th>75%</th>\n",
       "      <td>1007.000000</td>\n",
       "      <td>1065.000000</td>\n",
       "      <td>18.000000</td>\n",
       "      <td>32.000000</td>\n",
       "      <td>3473.980000</td>\n",
       "    </tr>\n",
       "    <tr>\n",
       "      <th>max</th>\n",
       "      <td>1844.000000</td>\n",
       "      <td>1885.000000</td>\n",
       "      <td>91.000000</td>\n",
       "      <td>472.000000</td>\n",
       "      <td>101452.240000</td>\n",
       "    </tr>\n",
       "  </tbody>\n",
       "</table>\n",
       "</div>"
      ],
      "text/plain": [
       "       dias_ativacao       cc_time  dias_desde_ultima_compra  \\\n",
       "count   60569.000000  60569.000000              60569.000000   \n",
       "mean      650.172415    707.498770                 14.256369   \n",
       "std       463.383643    467.084045                 17.743541   \n",
       "min        -2.000000     31.000000                  1.000000   \n",
       "25%       234.000000    276.000000                  3.000000   \n",
       "50%       643.000000    731.000000                  8.000000   \n",
       "75%      1007.000000   1065.000000                 18.000000   \n",
       "max      1844.000000   1885.000000                 91.000000   \n",
       "\n",
       "       qt_compra_antes_90d  vl_compra_antes_90d  \n",
       "count         60569.000000         60569.000000  \n",
       "mean             23.961465          2799.009862  \n",
       "std              26.272977          3656.650229  \n",
       "min               1.000000             0.100000  \n",
       "25%               7.000000           745.570000  \n",
       "50%              16.000000          1680.410000  \n",
       "75%              32.000000          3473.980000  \n",
       "max             472.000000        101452.240000  "
      ]
     },
     "execution_count": 20,
     "metadata": {},
     "output_type": "execute_result"
    }
   ],
   "source": [
    "# cria faixas de percentis\n",
    "\n",
    "vars_rfm = ['dias_ativacao', 'cc_time', 'dias_desde_ultima_compra', 'qt_compra_antes_90d', 'vl_compra_antes_90d']\n",
    "\n",
    "df_aa[vars_rfm].describe()"
   ]
  },
  {
   "cell_type": "code",
   "execution_count": 21,
   "metadata": {},
   "outputs": [],
   "source": [
    "for column in vars_rfm:\n",
    "  if df_aa[column].dtype == 'float' or df_aa[column].dtype == 'int':\n",
    "    nm_col = column + \"_fx\"\n",
    "    df_aa[nm_col] = pd.qcut(df_aa[column].rank(method='first'), q=3, precision=0, labels = ['A', 'B', 'C'])"
   ]
  },
  {
   "cell_type": "code",
   "execution_count": 22,
   "metadata": {},
   "outputs": [],
   "source": [
    "df_aa['segmento'] = df_aa.cc_time_fx.astype(\"string\") + df_aa.dias_desde_ultima_compra_fx.astype(\"string\") + df_aa.qt_compra_antes_90d_fx.astype(\"string\") + df_aa.vl_compra_antes_90d_fx.astype(\"string\")"
   ]
  },
  {
   "cell_type": "code",
   "execution_count": 23,
   "metadata": {},
   "outputs": [
    {
     "data": {
      "text/plain": [
       "81"
      ]
     },
     "execution_count": 23,
     "metadata": {},
     "output_type": "execute_result"
    }
   ],
   "source": [
    "len(df_aa['segmento'].unique())"
   ]
  },
  {
   "cell_type": "code",
   "execution_count": 24,
   "metadata": {},
   "outputs": [
    {
     "data": {
      "text/plain": [
       "CACC    4100\n",
       "ACAA    3435\n",
       "BCAA    2511\n",
       "BACC    2286\n",
       "CBCC    2115\n",
       "        ... \n",
       "BBCA      80\n",
       "CACA      58\n",
       "AAAC      55\n",
       "CBCA      54\n",
       "CCCA      38\n",
       "Name: segmento, Length: 81, dtype: Int64"
      ]
     },
     "execution_count": 24,
     "metadata": {},
     "output_type": "execute_result"
    }
   ],
   "source": [
    "df_aa['segmento'].value_counts()"
   ]
  },
  {
   "cell_type": "code",
   "execution_count": 25,
   "metadata": {},
   "outputs": [
    {
     "data": {
      "text/html": [
       "<div>\n",
       "<style scoped>\n",
       "    .dataframe tbody tr th:only-of-type {\n",
       "        vertical-align: middle;\n",
       "    }\n",
       "\n",
       "    .dataframe tbody tr th {\n",
       "        vertical-align: top;\n",
       "    }\n",
       "\n",
       "    .dataframe thead th {\n",
       "        text-align: right;\n",
       "    }\n",
       "</style>\n",
       "<table border=\"1\" class=\"dataframe\">\n",
       "  <thead>\n",
       "    <tr style=\"text-align: right;\">\n",
       "      <th></th>\n",
       "      <th>segmento</th>\n",
       "      <th>churn_depois</th>\n",
       "      <th>LT</th>\n",
       "    </tr>\n",
       "  </thead>\n",
       "  <tbody>\n",
       "    <tr>\n",
       "      <th>0</th>\n",
       "      <td>AAAA</td>\n",
       "      <td>0.413315</td>\n",
       "      <td>29.033557</td>\n",
       "    </tr>\n",
       "    <tr>\n",
       "      <th>1</th>\n",
       "      <td>AAAB</td>\n",
       "      <td>0.342756</td>\n",
       "      <td>35.010309</td>\n",
       "    </tr>\n",
       "    <tr>\n",
       "      <th>2</th>\n",
       "      <td>AAAC</td>\n",
       "      <td>0.454545</td>\n",
       "      <td>26.400000</td>\n",
       "    </tr>\n",
       "    <tr>\n",
       "      <th>3</th>\n",
       "      <td>AABA</td>\n",
       "      <td>0.412138</td>\n",
       "      <td>29.116484</td>\n",
       "    </tr>\n",
       "    <tr>\n",
       "      <th>4</th>\n",
       "      <td>AABB</td>\n",
       "      <td>0.322070</td>\n",
       "      <td>37.259016</td>\n",
       "    </tr>\n",
       "    <tr>\n",
       "      <th>...</th>\n",
       "      <td>...</td>\n",
       "      <td>...</td>\n",
       "      <td>...</td>\n",
       "    </tr>\n",
       "    <tr>\n",
       "      <th>76</th>\n",
       "      <td>CCBB</td>\n",
       "      <td>0.283951</td>\n",
       "      <td>42.260870</td>\n",
       "    </tr>\n",
       "    <tr>\n",
       "      <th>77</th>\n",
       "      <td>CCBC</td>\n",
       "      <td>0.251007</td>\n",
       "      <td>47.807487</td>\n",
       "    </tr>\n",
       "    <tr>\n",
       "      <th>78</th>\n",
       "      <td>CCCA</td>\n",
       "      <td>0.447368</td>\n",
       "      <td>26.823529</td>\n",
       "    </tr>\n",
       "    <tr>\n",
       "      <th>79</th>\n",
       "      <td>CCCB</td>\n",
       "      <td>0.305147</td>\n",
       "      <td>39.325301</td>\n",
       "    </tr>\n",
       "    <tr>\n",
       "      <th>80</th>\n",
       "      <td>CCCC</td>\n",
       "      <td>0.278662</td>\n",
       "      <td>43.062857</td>\n",
       "    </tr>\n",
       "  </tbody>\n",
       "</table>\n",
       "<p>81 rows × 3 columns</p>\n",
       "</div>"
      ],
      "text/plain": [
       "   segmento  churn_depois         LT\n",
       "0      AAAA      0.413315  29.033557\n",
       "1      AAAB      0.342756  35.010309\n",
       "2      AAAC      0.454545  26.400000\n",
       "3      AABA      0.412138  29.116484\n",
       "4      AABB      0.322070  37.259016\n",
       "..      ...           ...        ...\n",
       "76     CCBB      0.283951  42.260870\n",
       "77     CCBC      0.251007  47.807487\n",
       "78     CCCA      0.447368  26.823529\n",
       "79     CCCB      0.305147  39.325301\n",
       "80     CCCC      0.278662  43.062857\n",
       "\n",
       "[81 rows x 3 columns]"
      ]
     },
     "execution_count": 25,
     "metadata": {},
     "output_type": "execute_result"
    }
   ],
   "source": [
    "# Taxa de churn por segmento\n",
    "df_aa['churn_depois'] = np.where(df_aa.vl_compra_depois_ano > 0, 0, 1)\n",
    "\n",
    "tabela_churn = df_aa[['churn_depois', 'segmento']].groupby('segmento').mean()\n",
    "tabela_churn = tabela_churn.reset_index()\n",
    "tabela_churn['LT'] = (1 / (tabela_churn['churn_depois']/12))\n",
    "\n",
    "tabela_churn"
   ]
  },
  {
   "attachments": {},
   "cell_type": "markdown",
   "metadata": {},
   "source": [
    "# Aplicação Score"
   ]
  },
  {
   "cell_type": "code",
   "execution_count": 26,
   "metadata": {},
   "outputs": [],
   "source": [
    "#Parametros modelo - regressão logística do estudo prévio\n",
    "c_intercepto = -0.1635\n",
    "c_usou_chat = -0.0655\n",
    "c_flag_problema = -0.0993\n",
    "c_vl_compra_antes_90d_log = 0.1318\n",
    "c_cc_time = -0.6206\n",
    "c_vl_current_limit = 0.3866\n",
    "c_dias_uso_app = 0.2392\n",
    "c_vl_renda_declarada = -5.3729\n",
    "c_dias_ativacao = 0.3947\n",
    "c_qt_compra_antes_90d = 0.2761\n",
    "c_dias_desde_ultima_compra = -2.9933\n",
    "\n",
    "queda_cr = 0.1"
   ]
  },
  {
   "attachments": {},
   "cell_type": "markdown",
   "metadata": {},
   "source": [
    "Atribuindo clientes sem atendimento"
   ]
  },
  {
   "cell_type": "code",
   "execution_count": 27,
   "metadata": {},
   "outputs": [],
   "source": [
    "df['aleat'] = np.random.random((len(df),1))\n",
    "df['usou_chat_sim'] = np.where(df.aleat <= (1 - queda_cr), 1, 0)\n",
    "df['flag_problema_sim'] = np.where(df.usou_chat_sim == 0, 0, df.flag_problema )\n",
    "df['teve_compra_depois'] = np.where(df.vl_compra_depois_60d > 0 , 1, 0)"
   ]
  },
  {
   "cell_type": "code",
   "execution_count": 28,
   "metadata": {},
   "outputs": [],
   "source": [
    "df['rawPrediction'] = c_intercepto  + ((df.usou_chat_sim * c_usou_chat) + (df.flag_problema_sim * c_flag_problema) \n",
    "+ (df.vl_compra_antes_90d_log * c_vl_compra_antes_90d_log) \n",
    "+ (df_n.cc_time * c_cc_time)\n",
    "+ (df_n.vl_current_limit * c_vl_current_limit) \n",
    "+ (df_n.dias_uso_app * c_dias_uso_app) \n",
    "+ (df_n.vl_renda_declarada * c_vl_renda_declarada) \n",
    "+ (df_n.dias_ativacao * c_dias_ativacao) \n",
    "+ (df_n.qt_compra_antes_90d * c_qt_compra_antes_90d)\n",
    "+ (df_n.dias_desde_ultima_compra * c_dias_desde_ultima_compra))\n",
    "\n",
    "df['score_compra_depois']  =  1/(1 + np.exp(-1 * df.rawPrediction))"
   ]
  },
  {
   "cell_type": "code",
   "execution_count": 29,
   "metadata": {},
   "outputs": [
    {
     "data": {
      "text/plain": [
       "array([0.74820349, 0.56185673, 0.4754641 , ..., 0.6482221 , 0.72278591,\n",
       "       0.79277762])"
      ]
     },
     "execution_count": 29,
     "metadata": {},
     "output_type": "execute_result"
    }
   ],
   "source": [
    "df['score_compra_depois'].unique()"
   ]
  },
  {
   "cell_type": "code",
   "execution_count": 30,
   "metadata": {},
   "outputs": [],
   "source": [
    "df['score_compra_depois'] = np.where(df['score_compra_depois'] < 0, 0, df['score_compra_depois'])\n",
    "df['score_compra_depois'] = np.where(df['score_compra_depois'] > 1, 1, df['score_compra_depois'])"
   ]
  },
  {
   "cell_type": "code",
   "execution_count": 31,
   "metadata": {},
   "outputs": [
    {
     "data": {
      "text/html": [
       "<div>\n",
       "<style scoped>\n",
       "    .dataframe tbody tr th:only-of-type {\n",
       "        vertical-align: middle;\n",
       "    }\n",
       "\n",
       "    .dataframe tbody tr th {\n",
       "        vertical-align: top;\n",
       "    }\n",
       "\n",
       "    .dataframe thead th {\n",
       "        text-align: right;\n",
       "    }\n",
       "</style>\n",
       "<table border=\"1\" class=\"dataframe\">\n",
       "  <thead>\n",
       "    <tr style=\"text-align: right;\">\n",
       "      <th></th>\n",
       "      <th>rawPrediction</th>\n",
       "      <th>score_compra_depois</th>\n",
       "    </tr>\n",
       "  </thead>\n",
       "  <tbody>\n",
       "    <tr>\n",
       "      <th>count</th>\n",
       "      <td>1.752270e+05</td>\n",
       "      <td>175227.000000</td>\n",
       "    </tr>\n",
       "    <tr>\n",
       "      <th>mean</th>\n",
       "      <td>-inf</td>\n",
       "      <td>0.428174</td>\n",
       "    </tr>\n",
       "    <tr>\n",
       "      <th>std</th>\n",
       "      <td>NaN</td>\n",
       "      <td>0.284650</td>\n",
       "    </tr>\n",
       "    <tr>\n",
       "      <th>min</th>\n",
       "      <td>-inf</td>\n",
       "      <td>0.000000</td>\n",
       "    </tr>\n",
       "    <tr>\n",
       "      <th>25%</th>\n",
       "      <td>-2.779140e+00</td>\n",
       "      <td>0.058462</td>\n",
       "    </tr>\n",
       "    <tr>\n",
       "      <th>50%</th>\n",
       "      <td>1.977828e-01</td>\n",
       "      <td>0.549285</td>\n",
       "    </tr>\n",
       "    <tr>\n",
       "      <th>75%</th>\n",
       "      <td>6.689885e-01</td>\n",
       "      <td>0.661277</td>\n",
       "    </tr>\n",
       "    <tr>\n",
       "      <th>max</th>\n",
       "      <td>3.613914e+00</td>\n",
       "      <td>0.973761</td>\n",
       "    </tr>\n",
       "  </tbody>\n",
       "</table>\n",
       "</div>"
      ],
      "text/plain": [
       "       rawPrediction  score_compra_depois\n",
       "count   1.752270e+05        175227.000000\n",
       "mean            -inf             0.428174\n",
       "std              NaN             0.284650\n",
       "min             -inf             0.000000\n",
       "25%    -2.779140e+00             0.058462\n",
       "50%     1.977828e-01             0.549285\n",
       "75%     6.689885e-01             0.661277\n",
       "max     3.613914e+00             0.973761"
      ]
     },
     "execution_count": 31,
     "metadata": {},
     "output_type": "execute_result"
    }
   ],
   "source": [
    "df[['rawPrediction', 'score_compra_depois']].describe()"
   ]
  },
  {
   "cell_type": "code",
   "execution_count": 32,
   "metadata": {},
   "outputs": [
    {
     "data": {
      "image/png": "[encoded data removed]",
      "text/plain": [
       "<Figure size 1440x720 with 1 Axes>"
      ]
     },
     "metadata": {
      "needs_background": "light"
     },
     "output_type": "display_data"
    }
   ],
   "source": [
    "plt.figure(figsize = (20,10))\n",
    "sns.boxplot(data = df, x = 'score_compra_depois')\n",
    "plt.xticks(rotation=90)\n",
    "plt.show()"
   ]
  },
  {
   "cell_type": "code",
   "execution_count": 33,
   "metadata": {},
   "outputs": [
    {
     "data": {
      "text/plain": [
       "0.9737608797433462"
      ]
     },
     "execution_count": 33,
     "metadata": {},
     "output_type": "execute_result"
    }
   ],
   "source": [
    "df['score_compra_depois'].max() - df['score_compra_depois'].min()"
   ]
  },
  {
   "cell_type": "code",
   "execution_count": 34,
   "metadata": {},
   "outputs": [
    {
     "data": {
      "text/plain": [
       "1    113917\n",
       "0     61310\n",
       "Name: teve_compra_depois, dtype: int64"
      ]
     },
     "execution_count": 34,
     "metadata": {},
     "output_type": "execute_result"
    }
   ],
   "source": [
    "df.teve_compra_depois.value_counts()"
   ]
  },
  {
   "cell_type": "code",
   "execution_count": 35,
   "metadata": {},
   "outputs": [
    {
     "data": {
      "text/html": [
       "<div>\n",
       "<style scoped>\n",
       "    .dataframe tbody tr th:only-of-type {\n",
       "        vertical-align: middle;\n",
       "    }\n",
       "\n",
       "    .dataframe tbody tr th {\n",
       "        vertical-align: top;\n",
       "    }\n",
       "\n",
       "    .dataframe thead th {\n",
       "        text-align: right;\n",
       "    }\n",
       "</style>\n",
       "<table border=\"1\" class=\"dataframe\">\n",
       "  <thead>\n",
       "    <tr style=\"text-align: right;\">\n",
       "      <th></th>\n",
       "      <th>teve_compra_depois</th>\n",
       "    </tr>\n",
       "    <tr>\n",
       "      <th>fx_score</th>\n",
       "      <th></th>\n",
       "    </tr>\n",
       "  </thead>\n",
       "  <tbody>\n",
       "    <tr>\n",
       "      <th>0.0</th>\n",
       "      <td>0.005827</td>\n",
       "    </tr>\n",
       "    <tr>\n",
       "      <th>0.1</th>\n",
       "      <td>0.505779</td>\n",
       "    </tr>\n",
       "    <tr>\n",
       "      <th>0.2</th>\n",
       "      <td>0.625409</td>\n",
       "    </tr>\n",
       "    <tr>\n",
       "      <th>0.3</th>\n",
       "      <td>0.719213</td>\n",
       "    </tr>\n",
       "    <tr>\n",
       "      <th>0.4</th>\n",
       "      <td>0.782389</td>\n",
       "    </tr>\n",
       "    <tr>\n",
       "      <th>0.5</th>\n",
       "      <td>0.844693</td>\n",
       "    </tr>\n",
       "    <tr>\n",
       "      <th>0.6</th>\n",
       "      <td>0.891394</td>\n",
       "    </tr>\n",
       "    <tr>\n",
       "      <th>0.7</th>\n",
       "      <td>0.932833</td>\n",
       "    </tr>\n",
       "    <tr>\n",
       "      <th>0.8</th>\n",
       "      <td>0.952896</td>\n",
       "    </tr>\n",
       "    <tr>\n",
       "      <th>0.9</th>\n",
       "      <td>0.959732</td>\n",
       "    </tr>\n",
       "    <tr>\n",
       "      <th>1.0</th>\n",
       "      <td>1.000000</td>\n",
       "    </tr>\n",
       "  </tbody>\n",
       "</table>\n",
       "</div>"
      ],
      "text/plain": [
       "          teve_compra_depois\n",
       "fx_score                    \n",
       "0.0                 0.005827\n",
       "0.1                 0.505779\n",
       "0.2                 0.625409\n",
       "0.3                 0.719213\n",
       "0.4                 0.782389\n",
       "0.5                 0.844693\n",
       "0.6                 0.891394\n",
       "0.7                 0.932833\n",
       "0.8                 0.952896\n",
       "0.9                 0.959732\n",
       "1.0                 1.000000"
      ]
     },
     "execution_count": 35,
     "metadata": {},
     "output_type": "execute_result"
    }
   ],
   "source": [
    "df['fx_score'] = np.round(df['score_compra_depois'],1)\n",
    "df[['teve_compra_depois', 'fx_score']].groupby('fx_score').mean()"
   ]
  },
  {
   "cell_type": "code",
   "execution_count": 36,
   "metadata": {},
   "outputs": [
    {
     "data": {
      "text/html": [
       "<div>\n",
       "<style scoped>\n",
       "    .dataframe tbody tr th:only-of-type {\n",
       "        vertical-align: middle;\n",
       "    }\n",
       "\n",
       "    .dataframe tbody tr th {\n",
       "        vertical-align: top;\n",
       "    }\n",
       "\n",
       "    .dataframe thead th {\n",
       "        text-align: right;\n",
       "    }\n",
       "</style>\n",
       "<table border=\"1\" class=\"dataframe\">\n",
       "  <thead>\n",
       "    <tr style=\"text-align: right;\">\n",
       "      <th></th>\n",
       "      <th>fx_score</th>\n",
       "      <th>cpfsim</th>\n",
       "      <th>cpfnao</th>\n",
       "      <th>cumperc_nao</th>\n",
       "      <th>cumperc_sim</th>\n",
       "      <th>dif</th>\n",
       "      <th>dif_abs</th>\n",
       "    </tr>\n",
       "  </thead>\n",
       "  <tbody>\n",
       "    <tr>\n",
       "      <th>0</th>\n",
       "      <td>0.0</td>\n",
       "      <td>253</td>\n",
       "      <td>43169.0</td>\n",
       "      <td>70.411026</td>\n",
       "      <td>0.222092</td>\n",
       "      <td>70.188934</td>\n",
       "      <td>70.188934</td>\n",
       "    </tr>\n",
       "    <tr>\n",
       "      <th>1</th>\n",
       "      <td>0.1</td>\n",
       "      <td>2363</td>\n",
       "      <td>2309.0</td>\n",
       "      <td>74.177133</td>\n",
       "      <td>2.296409</td>\n",
       "      <td>71.880724</td>\n",
       "      <td>71.880724</td>\n",
       "    </tr>\n",
       "    <tr>\n",
       "      <th>2</th>\n",
       "      <td>0.2</td>\n",
       "      <td>2865</td>\n",
       "      <td>1716.0</td>\n",
       "      <td>76.976023</td>\n",
       "      <td>4.811398</td>\n",
       "      <td>72.164626</td>\n",
       "      <td>72.164626</td>\n",
       "    </tr>\n",
       "    <tr>\n",
       "      <th>3</th>\n",
       "      <td>0.3</td>\n",
       "      <td>4567</td>\n",
       "      <td>1783.0</td>\n",
       "      <td>79.884195</td>\n",
       "      <td>8.820457</td>\n",
       "      <td>71.063738</td>\n",
       "      <td>71.063738</td>\n",
       "    </tr>\n",
       "    <tr>\n",
       "      <th>4</th>\n",
       "      <td>0.4</td>\n",
       "      <td>7579</td>\n",
       "      <td>2108.0</td>\n",
       "      <td>83.322460</td>\n",
       "      <td>15.473547</td>\n",
       "      <td>67.848913</td>\n",
       "      <td>67.848913</td>\n",
       "    </tr>\n",
       "    <tr>\n",
       "      <th>5</th>\n",
       "      <td>0.5</td>\n",
       "      <td>16099</td>\n",
       "      <td>2960.0</td>\n",
       "      <td>88.150383</td>\n",
       "      <td>29.605766</td>\n",
       "      <td>58.544618</td>\n",
       "      <td>58.544618</td>\n",
       "    </tr>\n",
       "    <tr>\n",
       "      <th>6</th>\n",
       "      <td>0.6</td>\n",
       "      <td>33922</td>\n",
       "      <td>4133.0</td>\n",
       "      <td>94.891535</td>\n",
       "      <td>59.383586</td>\n",
       "      <td>35.507949</td>\n",
       "      <td>35.507949</td>\n",
       "    </tr>\n",
       "    <tr>\n",
       "      <th>7</th>\n",
       "      <td>0.7</td>\n",
       "      <td>37526</td>\n",
       "      <td>2702.0</td>\n",
       "      <td>99.298646</td>\n",
       "      <td>92.325114</td>\n",
       "      <td>6.973532</td>\n",
       "      <td>6.973532</td>\n",
       "    </tr>\n",
       "    <tr>\n",
       "      <th>8</th>\n",
       "      <td>0.8</td>\n",
       "      <td>8456</td>\n",
       "      <td>418.0</td>\n",
       "      <td>99.980427</td>\n",
       "      <td>99.748062</td>\n",
       "      <td>0.232365</td>\n",
       "      <td>0.232365</td>\n",
       "    </tr>\n",
       "    <tr>\n",
       "      <th>9</th>\n",
       "      <td>0.9</td>\n",
       "      <td>286</td>\n",
       "      <td>12.0</td>\n",
       "      <td>100.000000</td>\n",
       "      <td>99.999122</td>\n",
       "      <td>0.000878</td>\n",
       "      <td>0.000878</td>\n",
       "    </tr>\n",
       "    <tr>\n",
       "      <th>10</th>\n",
       "      <td>1.0</td>\n",
       "      <td>1</td>\n",
       "      <td>NaN</td>\n",
       "      <td>NaN</td>\n",
       "      <td>100.000000</td>\n",
       "      <td>NaN</td>\n",
       "      <td>NaN</td>\n",
       "    </tr>\n",
       "  </tbody>\n",
       "</table>\n",
       "</div>"
      ],
      "text/plain": [
       "    fx_score  cpfsim   cpfnao  cumperc_nao  cumperc_sim        dif    dif_abs\n",
       "0        0.0     253  43169.0    70.411026     0.222092  70.188934  70.188934\n",
       "1        0.1    2363   2309.0    74.177133     2.296409  71.880724  71.880724\n",
       "2        0.2    2865   1716.0    76.976023     4.811398  72.164626  72.164626\n",
       "3        0.3    4567   1783.0    79.884195     8.820457  71.063738  71.063738\n",
       "4        0.4    7579   2108.0    83.322460    15.473547  67.848913  67.848913\n",
       "5        0.5   16099   2960.0    88.150383    29.605766  58.544618  58.544618\n",
       "6        0.6   33922   4133.0    94.891535    59.383586  35.507949  35.507949\n",
       "7        0.7   37526   2702.0    99.298646    92.325114   6.973532   6.973532\n",
       "8        0.8    8456    418.0    99.980427    99.748062   0.232365   0.232365\n",
       "9        0.9     286     12.0   100.000000    99.999122   0.000878   0.000878\n",
       "10       1.0       1      NaN          NaN   100.000000        NaN        NaN"
      ]
     },
     "execution_count": 36,
     "metadata": {},
     "output_type": "execute_result"
    }
   ],
   "source": [
    "agg_df_compra_sim = df[df['teve_compra_depois'] == 1][['fx_score', 'cpf']].groupby('fx_score').count()\n",
    "agg_df_compra_nao = df[df['teve_compra_depois'] == 0][['fx_score', 'cpf']].groupby('fx_score').count()\n",
    "\n",
    "agg_df_compra = agg_df_compra_sim.join(agg_df_compra_nao, lsuffix='sim', rsuffix='nao')\n",
    "agg_df_compra = agg_df_compra.reset_index()\n",
    "agg_df_compra['cumperc_nao'] = agg_df_compra['cpfnao'].cumsum()/agg_df_compra['cpfnao'].sum()*100\n",
    "agg_df_compra['cumperc_sim'] = agg_df_compra['cpfsim'].cumsum()/agg_df_compra['cpfsim'].sum()*100\n",
    "agg_df_compra['dif'] = agg_df_compra['cumperc_nao'] - agg_df_compra['cumperc_sim']\n",
    "agg_df_compra['dif_abs'] = np.abs(agg_df_compra['dif'])\n",
    "# tabela de taxa de compra por fx-score para o ppt\n",
    "\n",
    "agg_df_compra"
   ]
  },
  {
   "cell_type": "code",
   "execution_count": 37,
   "metadata": {},
   "outputs": [
    {
     "name": "stdout",
     "output_type": "stream",
     "text": [
      "17594\n"
     ]
    }
   ],
   "source": [
    "#qtos clientes foram escolhidos ao acaso para não ter atendimento?\n",
    "\n",
    "print(len(df.query('usou_chat_sim == 0')))"
   ]
  },
  {
   "cell_type": "code",
   "execution_count": 38,
   "metadata": {},
   "outputs": [
    {
     "name": "stdout",
     "output_type": "stream",
     "text": [
      "6152\n"
     ]
    }
   ],
   "source": [
    "print(len(df.query('usou_chat_sim == 0 & teve_compra_depois == 0')))"
   ]
  },
  {
   "cell_type": "code",
   "execution_count": 39,
   "metadata": {},
   "outputs": [
    {
     "data": {
      "text/plain": [
       "usou_chat_sim\n",
       "0    0.444000\n",
       "1    0.426408\n",
       "Name: score_compra_depois, dtype: float64"
      ]
     },
     "execution_count": 39,
     "metadata": {},
     "output_type": "execute_result"
    }
   ],
   "source": [
    "# diferença de score entre clientes com e sem atendimento\n",
    "\n",
    "df.groupby('usou_chat_sim')[\"score_compra_depois\"].mean()"
   ]
  },
  {
   "cell_type": "code",
   "execution_count": 40,
   "metadata": {},
   "outputs": [
    {
     "data": {
      "image/png": "[encoded data removed]",
      "text/plain": [
       "<Figure size 1440x720 with 1 Axes>"
      ]
     },
     "metadata": {
      "needs_background": "light"
     },
     "output_type": "display_data"
    }
   ],
   "source": [
    "plt.figure(figsize = (20,10))\n",
    "sns.lineplot(data = agg_df_compra[['cumperc_nao', 'cumperc_sim']])\n",
    "plt.xticks(rotation=90)\n",
    "plt.show()"
   ]
  },
  {
   "cell_type": "code",
   "execution_count": 41,
   "metadata": {},
   "outputs": [
    {
     "name": "stdout",
     "output_type": "stream",
     "text": [
      "0.2\n"
     ]
    }
   ],
   "source": [
    "dif_maxima = agg_df_compra['dif_abs'].max()\n",
    "\n",
    "threshould_conservador = agg_df_compra[agg_df_compra.dif_abs == dif_maxima]['fx_score'].min()\n",
    "\n",
    "print(threshould_conservador)"
   ]
  },
  {
   "cell_type": "code",
   "execution_count": 42,
   "metadata": {},
   "outputs": [
    {
     "name": "stdout",
     "output_type": "stream",
     "text": [
      "122552\n",
      "52675\n"
     ]
    }
   ],
   "source": [
    "df['compra_depois_propensao']  = np.where(df['fx_score'] > threshould_conservador, 1,0)\n",
    "\n",
    "print(len(df.query('compra_depois_propensao == 1')))\n",
    "print(len(df.query('compra_depois_propensao == 0')))\n"
   ]
  },
  {
   "cell_type": "code",
   "execution_count": 43,
   "metadata": {},
   "outputs": [
    {
     "name": "stdout",
     "output_type": "stream",
     "text": [
      "Temos 4671 clientes dentre os sorteados para não ter atendimento e não tiveram compra que tem ainda tem chance de churn (vou descartar)\n",
      "vou atribuir spending para 1481 clientes\n"
     ]
    }
   ],
   "source": [
    "#inputando spending para o cliente que teve churn de fato, que foi sorteado para não ter atendimento na simulação e com baixo score de compra depois\n",
    "df['flag_atribui_spending'] = np.where((df['compra_depois_propensao'] == 1) & (df['teve_compra_depois'] == 0) & (df.usou_chat_sim == 0),1,0)\n",
    "\n",
    "print(f\"Temos {len(df.query('teve_compra_depois == 0 & usou_chat_sim == 0 & compra_depois_propensao == 0'))} clientes dentre os sorteados para não ter atendimento e não tiveram compra que tem ainda tem chance de churn (vou descartar)\")\n",
    "\n",
    "print(f\"vou atribuir spending para {len(df.query('flag_atribui_spending == 1'))} clientes\")"
   ]
  },
  {
   "cell_type": "code",
   "execution_count": 44,
   "metadata": {},
   "outputs": [
    {
     "data": {
      "text/plain": [
       "BBAA    42802\n",
       "CACC    16155\n",
       "ACBB     8591\n",
       "AABB     7045\n",
       "AACB     6398\n",
       "        ...  \n",
       "CACA        9\n",
       "ABCA        9\n",
       "BACA        6\n",
       "BBCA        4\n",
       "CBCA        3\n",
       "Name: segmento, Length: 81, dtype: Int64"
      ]
     },
     "execution_count": 44,
     "metadata": {},
     "output_type": "execute_result"
    }
   ],
   "source": [
    "for column in vars_rfm:\n",
    "  if df[column].dtype == 'float' or df[column].dtype == 'int':\n",
    "    nm_col = column + \"_fx\"\n",
    "    df[nm_col] = pd.qcut(df[column].rank(method='first'), q=3, precision=0, labels = ['A', 'B', 'C'])\n",
    "\n",
    "\n",
    "df['segmento'] = df.cc_time_fx.astype(\"string\") + df.dias_desde_ultima_compra_fx.astype(\"string\") + df.qt_compra_antes_90d_fx.astype(\"string\") + df.vl_compra_antes_90d_fx.astype(\"string\")\n",
    "\n",
    "df['segmento'].value_counts()"
   ]
  },
  {
   "cell_type": "code",
   "execution_count": 45,
   "metadata": {},
   "outputs": [],
   "source": [
    "tabela_churn.to_csv('tabela_churn.csv', index=False)"
   ]
  },
  {
   "cell_type": "code",
   "execution_count": 46,
   "metadata": {},
   "outputs": [],
   "source": [
    "df = df.join(tabela_churn.set_index('segmento'), on = 'segmento', how = 'left' )"
   ]
  },
  {
   "cell_type": "code",
   "execution_count": 47,
   "metadata": {},
   "outputs": [
    {
     "name": "stdout",
     "output_type": "stream",
     "text": [
      "1481\n"
     ]
    },
    {
     "name": "stderr",
     "output_type": "stream",
     "text": [
      "/tmp/ipykernel_1241265/585532381.py:19: SettingWithCopyWarning: \n",
      "A value is trying to be set on a copy of a slice from a DataFrame\n",
      "\n",
      "See the caveats in the documentation: https://pandas.pydata.org/pandas-docs/stable/user_guide/indexing.html#returning-a-view-versus-a-copy\n",
      "  df_nao_comprou[column].fillna(df_nao_comprou[column].mode()[0], inplace = True)\n",
      "/tmp/ipykernel_1241265/585532381.py:19: SettingWithCopyWarning: \n",
      "A value is trying to be set on a copy of a slice from a DataFrame\n",
      "\n",
      "See the caveats in the documentation: https://pandas.pydata.org/pandas-docs/stable/user_guide/indexing.html#returning-a-view-versus-a-copy\n",
      "  df_nao_comprou[column].fillna(df_nao_comprou[column].mode()[0], inplace = True)\n",
      "/tmp/ipykernel_1241265/585532381.py:19: SettingWithCopyWarning: \n",
      "A value is trying to be set on a copy of a slice from a DataFrame\n",
      "\n",
      "See the caveats in the documentation: https://pandas.pydata.org/pandas-docs/stable/user_guide/indexing.html#returning-a-view-versus-a-copy\n",
      "  df_nao_comprou[column].fillna(df_nao_comprou[column].mode()[0], inplace = True)\n",
      "/tmp/ipykernel_1241265/585532381.py:19: SettingWithCopyWarning: \n",
      "A value is trying to be set on a copy of a slice from a DataFrame\n",
      "\n",
      "See the caveats in the documentation: https://pandas.pydata.org/pandas-docs/stable/user_guide/indexing.html#returning-a-view-versus-a-copy\n",
      "  df_nao_comprou[column].fillna(df_nao_comprou[column].mode()[0], inplace = True)\n",
      "/tmp/ipykernel_1241265/585532381.py:19: SettingWithCopyWarning: \n",
      "A value is trying to be set on a copy of a slice from a DataFrame\n",
      "\n",
      "See the caveats in the documentation: https://pandas.pydata.org/pandas-docs/stable/user_guide/indexing.html#returning-a-view-versus-a-copy\n",
      "  df_nao_comprou[column].fillna(df_nao_comprou[column].mode()[0], inplace = True)\n",
      "/tmp/ipykernel_1241265/585532381.py:19: SettingWithCopyWarning: \n",
      "A value is trying to be set on a copy of a slice from a DataFrame\n",
      "\n",
      "See the caveats in the documentation: https://pandas.pydata.org/pandas-docs/stable/user_guide/indexing.html#returning-a-view-versus-a-copy\n",
      "  df_nao_comprou[column].fillna(df_nao_comprou[column].mode()[0], inplace = True)\n",
      "/tmp/ipykernel_1241265/585532381.py:27: SettingWithCopyWarning: \n",
      "A value is trying to be set on a copy of a slice from a DataFrame\n",
      "\n",
      "See the caveats in the documentation: https://pandas.pydata.org/pandas-docs/stable/user_guide/indexing.html#returning-a-view-versus-a-copy\n",
      "  df_nao_comprou[column].fillna(df_nao_comprou[column].median(), inplace = True)\n",
      "/tmp/ipykernel_1241265/585532381.py:27: SettingWithCopyWarning: \n",
      "A value is trying to be set on a copy of a slice from a DataFrame\n",
      "\n",
      "See the caveats in the documentation: https://pandas.pydata.org/pandas-docs/stable/user_guide/indexing.html#returning-a-view-versus-a-copy\n",
      "  df_nao_comprou[column].fillna(df_nao_comprou[column].median(), inplace = True)\n",
      "/tmp/ipykernel_1241265/585532381.py:27: SettingWithCopyWarning: \n",
      "A value is trying to be set on a copy of a slice from a DataFrame\n",
      "\n",
      "See the caveats in the documentation: https://pandas.pydata.org/pandas-docs/stable/user_guide/indexing.html#returning-a-view-versus-a-copy\n",
      "  df_nao_comprou[column].fillna(df_nao_comprou[column].median(), inplace = True)\n",
      "/tmp/ipykernel_1241265/585532381.py:27: SettingWithCopyWarning: \n",
      "A value is trying to be set on a copy of a slice from a DataFrame\n",
      "\n",
      "See the caveats in the documentation: https://pandas.pydata.org/pandas-docs/stable/user_guide/indexing.html#returning-a-view-versus-a-copy\n",
      "  df_nao_comprou[column].fillna(df_nao_comprou[column].median(), inplace = True)\n",
      "/tmp/ipykernel_1241265/585532381.py:27: SettingWithCopyWarning: \n",
      "A value is trying to be set on a copy of a slice from a DataFrame\n",
      "\n",
      "See the caveats in the documentation: https://pandas.pydata.org/pandas-docs/stable/user_guide/indexing.html#returning-a-view-versus-a-copy\n",
      "  df_nao_comprou[column].fillna(df_nao_comprou[column].median(), inplace = True)\n",
      "/tmp/ipykernel_1241265/585532381.py:27: SettingWithCopyWarning: \n",
      "A value is trying to be set on a copy of a slice from a DataFrame\n",
      "\n",
      "See the caveats in the documentation: https://pandas.pydata.org/pandas-docs/stable/user_guide/indexing.html#returning-a-view-versus-a-copy\n",
      "  df_nao_comprou[column].fillna(df_nao_comprou[column].median(), inplace = True)\n",
      "/tmp/ipykernel_1241265/585532381.py:27: SettingWithCopyWarning: \n",
      "A value is trying to be set on a copy of a slice from a DataFrame\n",
      "\n",
      "See the caveats in the documentation: https://pandas.pydata.org/pandas-docs/stable/user_guide/indexing.html#returning-a-view-versus-a-copy\n",
      "  df_nao_comprou[column].fillna(df_nao_comprou[column].median(), inplace = True)\n",
      "/tmp/ipykernel_1241265/585532381.py:19: SettingWithCopyWarning: \n",
      "A value is trying to be set on a copy of a slice from a DataFrame\n",
      "\n",
      "See the caveats in the documentation: https://pandas.pydata.org/pandas-docs/stable/user_guide/indexing.html#returning-a-view-versus-a-copy\n",
      "  df_nao_comprou[column].fillna(df_nao_comprou[column].mode()[0], inplace = True)\n",
      "/tmp/ipykernel_1241265/585532381.py:19: SettingWithCopyWarning: \n",
      "A value is trying to be set on a copy of a slice from a DataFrame\n",
      "\n",
      "See the caveats in the documentation: https://pandas.pydata.org/pandas-docs/stable/user_guide/indexing.html#returning-a-view-versus-a-copy\n",
      "  df_nao_comprou[column].fillna(df_nao_comprou[column].mode()[0], inplace = True)\n",
      "/tmp/ipykernel_1241265/585532381.py:19: SettingWithCopyWarning: \n",
      "A value is trying to be set on a copy of a slice from a DataFrame\n",
      "\n",
      "See the caveats in the documentation: https://pandas.pydata.org/pandas-docs/stable/user_guide/indexing.html#returning-a-view-versus-a-copy\n",
      "  df_nao_comprou[column].fillna(df_nao_comprou[column].mode()[0], inplace = True)\n",
      "/tmp/ipykernel_1241265/585532381.py:19: SettingWithCopyWarning: \n",
      "A value is trying to be set on a copy of a slice from a DataFrame\n",
      "\n",
      "See the caveats in the documentation: https://pandas.pydata.org/pandas-docs/stable/user_guide/indexing.html#returning-a-view-versus-a-copy\n",
      "  df_nao_comprou[column].fillna(df_nao_comprou[column].mode()[0], inplace = True)\n",
      "/tmp/ipykernel_1241265/585532381.py:19: SettingWithCopyWarning: \n",
      "A value is trying to be set on a copy of a slice from a DataFrame\n",
      "\n",
      "See the caveats in the documentation: https://pandas.pydata.org/pandas-docs/stable/user_guide/indexing.html#returning-a-view-versus-a-copy\n",
      "  df_nao_comprou[column].fillna(df_nao_comprou[column].mode()[0], inplace = True)\n",
      "/tmp/ipykernel_1241265/585532381.py:19: SettingWithCopyWarning: \n",
      "A value is trying to be set on a copy of a slice from a DataFrame\n",
      "\n",
      "See the caveats in the documentation: https://pandas.pydata.org/pandas-docs/stable/user_guide/indexing.html#returning-a-view-versus-a-copy\n",
      "  df_nao_comprou[column].fillna(df_nao_comprou[column].mode()[0], inplace = True)\n",
      "/tmp/ipykernel_1241265/585532381.py:27: SettingWithCopyWarning: \n",
      "A value is trying to be set on a copy of a slice from a DataFrame\n",
      "\n",
      "See the caveats in the documentation: https://pandas.pydata.org/pandas-docs/stable/user_guide/indexing.html#returning-a-view-versus-a-copy\n",
      "  df_nao_comprou[column].fillna(df_nao_comprou[column].median(), inplace = True)\n",
      "/tmp/ipykernel_1241265/585532381.py:27: SettingWithCopyWarning: \n",
      "A value is trying to be set on a copy of a slice from a DataFrame\n",
      "\n",
      "See the caveats in the documentation: https://pandas.pydata.org/pandas-docs/stable/user_guide/indexing.html#returning-a-view-versus-a-copy\n",
      "  df_nao_comprou[column].fillna(df_nao_comprou[column].median(), inplace = True)\n",
      "/tmp/ipykernel_1241265/585532381.py:27: SettingWithCopyWarning: \n",
      "A value is trying to be set on a copy of a slice from a DataFrame\n",
      "\n",
      "See the caveats in the documentation: https://pandas.pydata.org/pandas-docs/stable/user_guide/indexing.html#returning-a-view-versus-a-copy\n",
      "  df_nao_comprou[column].fillna(df_nao_comprou[column].median(), inplace = True)\n",
      "/tmp/ipykernel_1241265/585532381.py:27: SettingWithCopyWarning: \n",
      "A value is trying to be set on a copy of a slice from a DataFrame\n",
      "\n",
      "See the caveats in the documentation: https://pandas.pydata.org/pandas-docs/stable/user_guide/indexing.html#returning-a-view-versus-a-copy\n",
      "  df_nao_comprou[column].fillna(df_nao_comprou[column].median(), inplace = True)\n",
      "/tmp/ipykernel_1241265/585532381.py:27: SettingWithCopyWarning: \n",
      "A value is trying to be set on a copy of a slice from a DataFrame\n",
      "\n",
      "See the caveats in the documentation: https://pandas.pydata.org/pandas-docs/stable/user_guide/indexing.html#returning-a-view-versus-a-copy\n",
      "  df_nao_comprou[column].fillna(df_nao_comprou[column].median(), inplace = True)\n",
      "/tmp/ipykernel_1241265/585532381.py:27: SettingWithCopyWarning: \n",
      "A value is trying to be set on a copy of a slice from a DataFrame\n",
      "\n",
      "See the caveats in the documentation: https://pandas.pydata.org/pandas-docs/stable/user_guide/indexing.html#returning-a-view-versus-a-copy\n",
      "  df_nao_comprou[column].fillna(df_nao_comprou[column].median(), inplace = True)\n",
      "/tmp/ipykernel_1241265/585532381.py:27: SettingWithCopyWarning: \n",
      "A value is trying to be set on a copy of a slice from a DataFrame\n",
      "\n",
      "See the caveats in the documentation: https://pandas.pydata.org/pandas-docs/stable/user_guide/indexing.html#returning-a-view-versus-a-copy\n",
      "  df_nao_comprou[column].fillna(df_nao_comprou[column].median(), inplace = True)\n",
      "/tmp/ipykernel_1241265/585532381.py:27: SettingWithCopyWarning: \n",
      "A value is trying to be set on a copy of a slice from a DataFrame\n",
      "\n",
      "See the caveats in the documentation: https://pandas.pydata.org/pandas-docs/stable/user_guide/indexing.html#returning-a-view-versus-a-copy\n",
      "  df_nao_comprou[column].fillna(df_nao_comprou[column].median(), inplace = True)\n",
      "/tmp/ipykernel_1241265/585532381.py:27: SettingWithCopyWarning: \n",
      "A value is trying to be set on a copy of a slice from a DataFrame\n",
      "\n",
      "See the caveats in the documentation: https://pandas.pydata.org/pandas-docs/stable/user_guide/indexing.html#returning-a-view-versus-a-copy\n",
      "  df_nao_comprou[column].fillna(df_nao_comprou[column].median(), inplace = True)\n",
      "/tmp/ipykernel_1241265/585532381.py:27: SettingWithCopyWarning: \n",
      "A value is trying to be set on a copy of a slice from a DataFrame\n",
      "\n",
      "See the caveats in the documentation: https://pandas.pydata.org/pandas-docs/stable/user_guide/indexing.html#returning-a-view-versus-a-copy\n",
      "  df_nao_comprou[column].fillna(df_nao_comprou[column].median(), inplace = True)\n",
      "/tmp/ipykernel_1241265/585532381.py:27: SettingWithCopyWarning: \n",
      "A value is trying to be set on a copy of a slice from a DataFrame\n",
      "\n",
      "See the caveats in the documentation: https://pandas.pydata.org/pandas-docs/stable/user_guide/indexing.html#returning-a-view-versus-a-copy\n",
      "  df_nao_comprou[column].fillna(df_nao_comprou[column].median(), inplace = True)\n",
      "/tmp/ipykernel_1241265/585532381.py:27: SettingWithCopyWarning: \n",
      "A value is trying to be set on a copy of a slice from a DataFrame\n",
      "\n",
      "See the caveats in the documentation: https://pandas.pydata.org/pandas-docs/stable/user_guide/indexing.html#returning-a-view-versus-a-copy\n",
      "  df_nao_comprou[column].fillna(df_nao_comprou[column].median(), inplace = True)\n",
      "/tmp/ipykernel_1241265/585532381.py:27: SettingWithCopyWarning: \n",
      "A value is trying to be set on a copy of a slice from a DataFrame\n",
      "\n",
      "See the caveats in the documentation: https://pandas.pydata.org/pandas-docs/stable/user_guide/indexing.html#returning-a-view-versus-a-copy\n",
      "  df_nao_comprou[column].fillna(df_nao_comprou[column].median(), inplace = True)\n",
      "/tmp/ipykernel_1241265/585532381.py:27: SettingWithCopyWarning: \n",
      "A value is trying to be set on a copy of a slice from a DataFrame\n",
      "\n",
      "See the caveats in the documentation: https://pandas.pydata.org/pandas-docs/stable/user_guide/indexing.html#returning-a-view-versus-a-copy\n",
      "  df_nao_comprou[column].fillna(df_nao_comprou[column].median(), inplace = True)\n",
      "/tmp/ipykernel_1241265/585532381.py:27: SettingWithCopyWarning: \n",
      "A value is trying to be set on a copy of a slice from a DataFrame\n",
      "\n",
      "See the caveats in the documentation: https://pandas.pydata.org/pandas-docs/stable/user_guide/indexing.html#returning-a-view-versus-a-copy\n",
      "  df_nao_comprou[column].fillna(df_nao_comprou[column].median(), inplace = True)\n",
      "/tmp/ipykernel_1241265/585532381.py:27: SettingWithCopyWarning: \n",
      "A value is trying to be set on a copy of a slice from a DataFrame\n",
      "\n",
      "See the caveats in the documentation: https://pandas.pydata.org/pandas-docs/stable/user_guide/indexing.html#returning-a-view-versus-a-copy\n",
      "  df_nao_comprou[column].fillna(df_nao_comprou[column].median(), inplace = True)\n",
      "/tmp/ipykernel_1241265/585532381.py:27: SettingWithCopyWarning: \n",
      "A value is trying to be set on a copy of a slice from a DataFrame\n",
      "\n",
      "See the caveats in the documentation: https://pandas.pydata.org/pandas-docs/stable/user_guide/indexing.html#returning-a-view-versus-a-copy\n",
      "  df_nao_comprou[column].fillna(df_nao_comprou[column].median(), inplace = True)\n",
      "/tmp/ipykernel_1241265/585532381.py:27: SettingWithCopyWarning: \n",
      "A value is trying to be set on a copy of a slice from a DataFrame\n",
      "\n",
      "See the caveats in the documentation: https://pandas.pydata.org/pandas-docs/stable/user_guide/indexing.html#returning-a-view-versus-a-copy\n",
      "  df_nao_comprou[column].fillna(df_nao_comprou[column].median(), inplace = True)\n",
      "/tmp/ipykernel_1241265/585532381.py:27: SettingWithCopyWarning: \n",
      "A value is trying to be set on a copy of a slice from a DataFrame\n",
      "\n",
      "See the caveats in the documentation: https://pandas.pydata.org/pandas-docs/stable/user_guide/indexing.html#returning-a-view-versus-a-copy\n",
      "  df_nao_comprou[column].fillna(df_nao_comprou[column].median(), inplace = True)\n",
      "/tmp/ipykernel_1241265/585532381.py:27: SettingWithCopyWarning: \n",
      "A value is trying to be set on a copy of a slice from a DataFrame\n",
      "\n",
      "See the caveats in the documentation: https://pandas.pydata.org/pandas-docs/stable/user_guide/indexing.html#returning-a-view-versus-a-copy\n",
      "  df_nao_comprou[column].fillna(df_nao_comprou[column].median(), inplace = True)\n",
      "/tmp/ipykernel_1241265/585532381.py:27: SettingWithCopyWarning: \n",
      "A value is trying to be set on a copy of a slice from a DataFrame\n",
      "\n",
      "See the caveats in the documentation: https://pandas.pydata.org/pandas-docs/stable/user_guide/indexing.html#returning-a-view-versus-a-copy\n",
      "  df_nao_comprou[column].fillna(df_nao_comprou[column].median(), inplace = True)\n",
      "/tmp/ipykernel_1241265/585532381.py:27: SettingWithCopyWarning: \n",
      "A value is trying to be set on a copy of a slice from a DataFrame\n",
      "\n",
      "See the caveats in the documentation: https://pandas.pydata.org/pandas-docs/stable/user_guide/indexing.html#returning-a-view-versus-a-copy\n",
      "  df_nao_comprou[column].fillna(df_nao_comprou[column].median(), inplace = True)\n",
      "/tmp/ipykernel_1241265/585532381.py:27: SettingWithCopyWarning: \n",
      "A value is trying to be set on a copy of a slice from a DataFrame\n",
      "\n",
      "See the caveats in the documentation: https://pandas.pydata.org/pandas-docs/stable/user_guide/indexing.html#returning-a-view-versus-a-copy\n",
      "  df_nao_comprou[column].fillna(df_nao_comprou[column].median(), inplace = True)\n",
      "/tmp/ipykernel_1241265/585532381.py:27: SettingWithCopyWarning: \n",
      "A value is trying to be set on a copy of a slice from a DataFrame\n",
      "\n",
      "See the caveats in the documentation: https://pandas.pydata.org/pandas-docs/stable/user_guide/indexing.html#returning-a-view-versus-a-copy\n",
      "  df_nao_comprou[column].fillna(df_nao_comprou[column].median(), inplace = True)\n",
      "/tmp/ipykernel_1241265/585532381.py:27: SettingWithCopyWarning: \n",
      "A value is trying to be set on a copy of a slice from a DataFrame\n",
      "\n",
      "See the caveats in the documentation: https://pandas.pydata.org/pandas-docs/stable/user_guide/indexing.html#returning-a-view-versus-a-copy\n",
      "  df_nao_comprou[column].fillna(df_nao_comprou[column].median(), inplace = True)\n",
      "/tmp/ipykernel_1241265/585532381.py:27: SettingWithCopyWarning: \n",
      "A value is trying to be set on a copy of a slice from a DataFrame\n",
      "\n",
      "See the caveats in the documentation: https://pandas.pydata.org/pandas-docs/stable/user_guide/indexing.html#returning-a-view-versus-a-copy\n",
      "  df_nao_comprou[column].fillna(df_nao_comprou[column].median(), inplace = True)\n",
      "/tmp/ipykernel_1241265/585532381.py:27: SettingWithCopyWarning: \n",
      "A value is trying to be set on a copy of a slice from a DataFrame\n",
      "\n",
      "See the caveats in the documentation: https://pandas.pydata.org/pandas-docs/stable/user_guide/indexing.html#returning-a-view-versus-a-copy\n",
      "  df_nao_comprou[column].fillna(df_nao_comprou[column].median(), inplace = True)\n",
      "/tmp/ipykernel_1241265/585532381.py:27: SettingWithCopyWarning: \n",
      "A value is trying to be set on a copy of a slice from a DataFrame\n",
      "\n",
      "See the caveats in the documentation: https://pandas.pydata.org/pandas-docs/stable/user_guide/indexing.html#returning-a-view-versus-a-copy\n",
      "  df_nao_comprou[column].fillna(df_nao_comprou[column].median(), inplace = True)\n",
      "/tmp/ipykernel_1241265/585532381.py:27: SettingWithCopyWarning: \n",
      "A value is trying to be set on a copy of a slice from a DataFrame\n",
      "\n",
      "See the caveats in the documentation: https://pandas.pydata.org/pandas-docs/stable/user_guide/indexing.html#returning-a-view-versus-a-copy\n",
      "  df_nao_comprou[column].fillna(df_nao_comprou[column].median(), inplace = True)\n",
      "/tmp/ipykernel_1241265/585532381.py:27: SettingWithCopyWarning: \n",
      "A value is trying to be set on a copy of a slice from a DataFrame\n",
      "\n",
      "See the caveats in the documentation: https://pandas.pydata.org/pandas-docs/stable/user_guide/indexing.html#returning-a-view-versus-a-copy\n",
      "  df_nao_comprou[column].fillna(df_nao_comprou[column].median(), inplace = True)\n",
      "/tmp/ipykernel_1241265/585532381.py:27: SettingWithCopyWarning: \n",
      "A value is trying to be set on a copy of a slice from a DataFrame\n",
      "\n",
      "See the caveats in the documentation: https://pandas.pydata.org/pandas-docs/stable/user_guide/indexing.html#returning-a-view-versus-a-copy\n",
      "  df_nao_comprou[column].fillna(df_nao_comprou[column].median(), inplace = True)\n",
      "/tmp/ipykernel_1241265/585532381.py:27: SettingWithCopyWarning: \n",
      "A value is trying to be set on a copy of a slice from a DataFrame\n",
      "\n",
      "See the caveats in the documentation: https://pandas.pydata.org/pandas-docs/stable/user_guide/indexing.html#returning-a-view-versus-a-copy\n",
      "  df_nao_comprou[column].fillna(df_nao_comprou[column].median(), inplace = True)\n",
      "/tmp/ipykernel_1241265/585532381.py:27: SettingWithCopyWarning: \n",
      "A value is trying to be set on a copy of a slice from a DataFrame\n",
      "\n",
      "See the caveats in the documentation: https://pandas.pydata.org/pandas-docs/stable/user_guide/indexing.html#returning-a-view-versus-a-copy\n",
      "  df_nao_comprou[column].fillna(df_nao_comprou[column].median(), inplace = True)\n",
      "/tmp/ipykernel_1241265/585532381.py:33: SettingWithCopyWarning: \n",
      "A value is trying to be set on a copy of a slice from a DataFrame.\n",
      "Try using .loc[row_indexer,col_indexer] = value instead\n",
      "\n",
      "See the caveats in the documentation: https://pandas.pydata.org/pandas-docs/stable/user_guide/indexing.html#returning-a-view-versus-a-copy\n",
      "  df_nao_comprou['valor incremental bruto'] = prediction\n",
      "/tmp/ipykernel_1241265/585532381.py:34: SettingWithCopyWarning: \n",
      "A value is trying to be set on a copy of a slice from a DataFrame.\n",
      "Try using .loc[row_indexer,col_indexer] = value instead\n",
      "\n",
      "See the caveats in the documentation: https://pandas.pydata.org/pandas-docs/stable/user_guide/indexing.html#returning-a-view-versus-a-copy\n",
      "  df_nao_comprou['valor incremental bruto'] = np.where(df_nao_comprou['valor incremental bruto'] >  df_nao_comprou['vl_current_limit'], df_nao_comprou['vl_current_limit'], df_nao_comprou['valor incremental bruto'])\n"
     ]
    }
   ],
   "source": [
    "df_comprou = df.query('teve_compra_depois == 1')\n",
    "\n",
    "formula_text = (\"\"\"\n",
    "vl_compra_depois_60d ~ \n",
    "C(periodo_depois30_fim) + \n",
    "qt_compra_antes_90d +  vl_current_limit + \n",
    "C(ds_gender) + C(ds_state_abbreviation) + C(ds_schooling) + \n",
    "C(ds_marital_status) + cc_time + dias_ativacao + \n",
    "C(ds_city_size) + vl_compra_antes_90d + vl_renda_declarada  + dias_uso_app\n",
    "\"\"\")\n",
    "\n",
    "model = ols(formula = formula_text, data = df_comprou).fit()\n",
    "df_nao_comprou = df.query('flag_atribui_spending == 1')\n",
    "\n",
    "print(len(df_nao_comprou))\n",
    "\n",
    "for column in df_nao_comprou.columns:\n",
    "    if df_nao_comprou[column].dtype == 'object':\n",
    "        df_nao_comprou[column].fillna(df_nao_comprou[column].mode()[0], inplace = True)\n",
    "    elif df_nao_comprou[column].dtype == 'string':\n",
    "        pass\n",
    "    elif df_nao_comprou[column].dtype == 'category':\n",
    "        pass\n",
    "    elif df_nao_comprou[column].dtype == 'datetime64[ns]':\n",
    "        pass\n",
    "    elif df_nao_comprou[column].dtype != 'object':\n",
    "        df_nao_comprou[column].fillna(df_nao_comprou[column].median(), inplace = True)\n",
    "\n",
    "prediction = model.predict(df_nao_comprou)\n",
    "\n",
    "incremento_total = prediction.sum()\n",
    "\n",
    "df_nao_comprou['valor incremental bruto'] = prediction\n",
    "df_nao_comprou['valor incremental bruto'] = np.where(df_nao_comprou['valor incremental bruto'] >  df_nao_comprou['vl_current_limit'], df_nao_comprou['vl_current_limit'], df_nao_comprou['valor incremental bruto'])\n"
   ]
  },
  {
   "cell_type": "code",
   "execution_count": 48,
   "metadata": {},
   "outputs": [
    {
     "name": "stderr",
     "output_type": "stream",
     "text": [
      "/tmp/ipykernel_1241265/473920939.py:1: SettingWithCopyWarning: \n",
      "A value is trying to be set on a copy of a slice from a DataFrame.\n",
      "Try using .loc[row_indexer,col_indexer] = value instead\n",
      "\n",
      "See the caveats in the documentation: https://pandas.pydata.org/pandas-docs/stable/user_guide/indexing.html#returning-a-view-versus-a-copy\n",
      "  df_nao_comprou['LTV Bruto'] = (df_nao_comprou['valor incremental bruto'] / 2) * df_nao_comprou['LT']\n"
     ]
    }
   ],
   "source": [
    "df_nao_comprou['LTV Bruto'] = (df_nao_comprou['valor incremental bruto'] / 2) * df_nao_comprou['LT']"
   ]
  },
  {
   "attachments": {},
   "cell_type": "markdown",
   "metadata": {},
   "source": [
    "# Calculos para LTV LÍQUIDO"
   ]
  },
  {
   "cell_type": "code",
   "execution_count": 49,
   "metadata": {},
   "outputs": [
    {
     "name": "stderr",
     "output_type": "stream",
     "text": [
      "/tmp/ipykernel_1241265/3533183355.py:1: SettingWithCopyWarning: \n",
      "A value is trying to be set on a copy of a slice from a DataFrame.\n",
      "Try using .loc[row_indexer,col_indexer] = value instead\n",
      "\n",
      "See the caveats in the documentation: https://pandas.pydata.org/pandas-docs/stable/user_guide/indexing.html#returning-a-view-versus-a-copy\n",
      "  df_nao_comprou['Percentual ITR'] = np.where(df_nao_comprou['spending_ltv'] == 0, 0.014, df_nao_comprou['rec_itr'] / df_nao_comprou['spending_ltv'])\n"
     ]
    }
   ],
   "source": [
    "df_nao_comprou['Percentual ITR'] = np.where(df_nao_comprou['spending_ltv'] == 0, 0.014, df_nao_comprou['rec_itr'] / df_nao_comprou['spending_ltv'])\n"
   ]
  },
  {
   "cell_type": "code",
   "execution_count": 50,
   "metadata": {},
   "outputs": [
    {
     "data": {
      "text/plain": [
       "count    1481.00000\n",
       "mean        0.01426\n",
       "std         0.00025\n",
       "min         0.01400\n",
       "25%         0.01400\n",
       "50%         0.01450\n",
       "75%         0.01450\n",
       "max         0.01450\n",
       "Name: Percentual ITR, dtype: float64"
      ]
     },
     "execution_count": 50,
     "metadata": {},
     "output_type": "execute_result"
    }
   ],
   "source": [
    "df_nao_comprou['Percentual ITR'].describe()"
   ]
  },
  {
   "cell_type": "code",
   "execution_count": 51,
   "metadata": {},
   "outputs": [
    {
     "name": "stderr",
     "output_type": "stream",
     "text": [
      "/tmp/ipykernel_1241265/197665048.py:1: SettingWithCopyWarning: \n",
      "A value is trying to be set on a copy of a slice from a DataFrame.\n",
      "Try using .loc[row_indexer,col_indexer] = value instead\n",
      "\n",
      "See the caveats in the documentation: https://pandas.pydata.org/pandas-docs/stable/user_guide/indexing.html#returning-a-view-versus-a-copy\n",
      "  df_nao_comprou['LTV Receita Valor'] = (df_nao_comprou['Percentual ITR'] * df_nao_comprou['LTV Bruto'])\n"
     ]
    },
    {
     "data": {
      "text/plain": [
       "21        -21.000000\n",
       "302         1.000000\n",
       "399        57.463699\n",
       "543       227.218633\n",
       "576        -5.317400\n",
       "             ...    \n",
       "175036     -6.011522\n",
       "175053     -3.109170\n",
       "175076      6.000000\n",
       "175085     -4.934500\n",
       "175093    104.272985\n",
       "Length: 1481, dtype: float64"
      ]
     },
     "execution_count": 51,
     "metadata": {},
     "output_type": "execute_result"
    }
   ],
   "source": [
    "df_nao_comprou['LTV Receita Valor'] = (df_nao_comprou['Percentual ITR'] * df_nao_comprou['LTV Bruto'])\n",
    "+ df_nao_comprou.rec_recarga + df_nao_comprou.rec_demais_encargos + df_nao_comprou.desp_pdd + df_nao_comprou.rec_juros + df_nao_comprou.custos\n"
   ]
  },
  {
   "cell_type": "code",
   "execution_count": 52,
   "metadata": {},
   "outputs": [
    {
     "data": {
      "image/png": "[encoded data removed]",
      "text/plain": [
       "<Figure size 1440x720 with 1 Axes>"
      ]
     },
     "metadata": {
      "needs_background": "light"
     },
     "output_type": "display_data"
    }
   ],
   "source": [
    "plt.figure(figsize = (20,10))\n",
    "sns.boxplot(data = df_nao_comprou.query('dt_mes_true == \"2023-01-01\"'), x = 'LTV Receita Valor')\n",
    "plt.xticks(rotation=90)\n",
    "plt.show()"
   ]
  },
  {
   "cell_type": "code",
   "execution_count": 53,
   "metadata": {},
   "outputs": [
    {
     "data": {
      "text/html": [
       "<div>\n",
       "<style scoped>\n",
       "    .dataframe tbody tr th:only-of-type {\n",
       "        vertical-align: middle;\n",
       "    }\n",
       "\n",
       "    .dataframe tbody tr th {\n",
       "        vertical-align: top;\n",
       "    }\n",
       "\n",
       "    .dataframe thead th {\n",
       "        text-align: right;\n",
       "    }\n",
       "</style>\n",
       "<table border=\"1\" class=\"dataframe\">\n",
       "  <thead>\n",
       "    <tr style=\"text-align: right;\">\n",
       "      <th></th>\n",
       "      <th>hierarquia_1</th>\n",
       "      <th>dt_mes_true</th>\n",
       "      <th>valor incremental bruto</th>\n",
       "      <th>LTV Bruto</th>\n",
       "      <th>LTV Receita Valor</th>\n",
       "      <th>ltv</th>\n",
       "    </tr>\n",
       "  </thead>\n",
       "  <tbody>\n",
       "    <tr>\n",
       "      <th>0</th>\n",
       "      <td>Assunto não identificado</td>\n",
       "      <td>2023-01-01</td>\n",
       "      <td>5143.387744</td>\n",
       "      <td>7.792212e+04</td>\n",
       "      <td>1120.195071</td>\n",
       "      <td>425.578688</td>\n",
       "    </tr>\n",
       "    <tr>\n",
       "      <th>1</th>\n",
       "      <td>Assunto não identificado</td>\n",
       "      <td>2023-02-01</td>\n",
       "      <td>2031.678401</td>\n",
       "      <td>3.105869e+04</td>\n",
       "      <td>440.097157</td>\n",
       "      <td>177.191200</td>\n",
       "    </tr>\n",
       "    <tr>\n",
       "      <th>2</th>\n",
       "      <td>Assunto não identificado</td>\n",
       "      <td>2023-03-01</td>\n",
       "      <td>9985.323702</td>\n",
       "      <td>1.717304e+05</td>\n",
       "      <td>2475.180834</td>\n",
       "      <td>847.085280</td>\n",
       "    </tr>\n",
       "    <tr>\n",
       "      <th>3</th>\n",
       "      <td>Atendimento</td>\n",
       "      <td>2023-01-01</td>\n",
       "      <td>10208.607435</td>\n",
       "      <td>2.234701e+05</td>\n",
       "      <td>3210.523581</td>\n",
       "      <td>324.579608</td>\n",
       "    </tr>\n",
       "    <tr>\n",
       "      <th>4</th>\n",
       "      <td>Atendimento</td>\n",
       "      <td>2023-02-01</td>\n",
       "      <td>25581.844483</td>\n",
       "      <td>7.517527e+05</td>\n",
       "      <td>10713.689377</td>\n",
       "      <td>230.737404</td>\n",
       "    </tr>\n",
       "    <tr>\n",
       "      <th>5</th>\n",
       "      <td>Atendimento</td>\n",
       "      <td>2023-03-01</td>\n",
       "      <td>5439.142181</td>\n",
       "      <td>1.074638e+05</td>\n",
       "      <td>1516.089174</td>\n",
       "      <td>138.171175</td>\n",
       "    </tr>\n",
       "    <tr>\n",
       "      <th>6</th>\n",
       "      <td>Cartão</td>\n",
       "      <td>2023-01-01</td>\n",
       "      <td>473764.658738</td>\n",
       "      <td>1.144253e+07</td>\n",
       "      <td>163644.468043</td>\n",
       "      <td>17219.431958</td>\n",
       "    </tr>\n",
       "    <tr>\n",
       "      <th>7</th>\n",
       "      <td>Cartão</td>\n",
       "      <td>2023-02-01</td>\n",
       "      <td>465333.789053</td>\n",
       "      <td>1.086787e+07</td>\n",
       "      <td>155301.124981</td>\n",
       "      <td>21223.978476</td>\n",
       "    </tr>\n",
       "    <tr>\n",
       "      <th>8</th>\n",
       "      <td>Cartão</td>\n",
       "      <td>2023-03-01</td>\n",
       "      <td>399623.544602</td>\n",
       "      <td>9.173910e+06</td>\n",
       "      <td>130960.075111</td>\n",
       "      <td>16798.210105</td>\n",
       "    </tr>\n",
       "    <tr>\n",
       "      <th>9</th>\n",
       "      <td>Conta</td>\n",
       "      <td>2023-01-01</td>\n",
       "      <td>31579.931598</td>\n",
       "      <td>6.492023e+05</td>\n",
       "      <td>9243.200350</td>\n",
       "      <td>2187.579099</td>\n",
       "    </tr>\n",
       "    <tr>\n",
       "      <th>10</th>\n",
       "      <td>Conta</td>\n",
       "      <td>2023-02-01</td>\n",
       "      <td>52106.517155</td>\n",
       "      <td>1.035635e+06</td>\n",
       "      <td>14713.835757</td>\n",
       "      <td>2646.977243</td>\n",
       "    </tr>\n",
       "    <tr>\n",
       "      <th>11</th>\n",
       "      <td>Conta</td>\n",
       "      <td>2023-03-01</td>\n",
       "      <td>56168.611946</td>\n",
       "      <td>1.199244e+06</td>\n",
       "      <td>17243.169818</td>\n",
       "      <td>2715.271666</td>\n",
       "    </tr>\n",
       "    <tr>\n",
       "      <th>12</th>\n",
       "      <td>Crédito Pessoal</td>\n",
       "      <td>2023-01-01</td>\n",
       "      <td>4596.554232</td>\n",
       "      <td>8.123989e+04</td>\n",
       "      <td>1170.330854</td>\n",
       "      <td>168.803526</td>\n",
       "    </tr>\n",
       "    <tr>\n",
       "      <th>13</th>\n",
       "      <td>Crédito Pessoal</td>\n",
       "      <td>2023-02-01</td>\n",
       "      <td>2097.176188</td>\n",
       "      <td>2.954000e+04</td>\n",
       "      <td>417.789332</td>\n",
       "      <td>304.063618</td>\n",
       "    </tr>\n",
       "    <tr>\n",
       "      <th>14</th>\n",
       "      <td>Crédito Pessoal</td>\n",
       "      <td>2023-03-01</td>\n",
       "      <td>7286.261478</td>\n",
       "      <td>1.855465e+05</td>\n",
       "      <td>2688.536467</td>\n",
       "      <td>119.596206</td>\n",
       "    </tr>\n",
       "    <tr>\n",
       "      <th>15</th>\n",
       "      <td>Fraude</td>\n",
       "      <td>2023-01-01</td>\n",
       "      <td>211275.012299</td>\n",
       "      <td>5.248619e+06</td>\n",
       "      <td>74603.307912</td>\n",
       "      <td>6624.197283</td>\n",
       "    </tr>\n",
       "    <tr>\n",
       "      <th>16</th>\n",
       "      <td>Fraude</td>\n",
       "      <td>2023-02-01</td>\n",
       "      <td>44201.731983</td>\n",
       "      <td>1.074911e+06</td>\n",
       "      <td>15286.964581</td>\n",
       "      <td>218.885939</td>\n",
       "    </tr>\n",
       "    <tr>\n",
       "      <th>17</th>\n",
       "      <td>Fraude</td>\n",
       "      <td>2023-03-01</td>\n",
       "      <td>48175.490657</td>\n",
       "      <td>1.217194e+06</td>\n",
       "      <td>17475.932653</td>\n",
       "      <td>2563.540594</td>\n",
       "    </tr>\n",
       "    <tr>\n",
       "      <th>18</th>\n",
       "      <td>Marketing</td>\n",
       "      <td>2023-01-01</td>\n",
       "      <td>2200.000000</td>\n",
       "      <td>4.736914e+04</td>\n",
       "      <td>663.168000</td>\n",
       "      <td>1464.384058</td>\n",
       "    </tr>\n",
       "    <tr>\n",
       "      <th>19</th>\n",
       "      <td>Marketplace</td>\n",
       "      <td>2023-01-01</td>\n",
       "      <td>267.381266</td>\n",
       "      <td>3.362250e+03</td>\n",
       "      <td>47.071501</td>\n",
       "      <td>0.000000</td>\n",
       "    </tr>\n",
       "    <tr>\n",
       "      <th>20</th>\n",
       "      <td>Marketplace</td>\n",
       "      <td>2023-03-01</td>\n",
       "      <td>4230.456477</td>\n",
       "      <td>1.011237e+05</td>\n",
       "      <td>1466.294313</td>\n",
       "      <td>23.899648</td>\n",
       "    </tr>\n",
       "    <tr>\n",
       "      <th>21</th>\n",
       "      <td>Tecnologia</td>\n",
       "      <td>2023-01-01</td>\n",
       "      <td>25158.339334</td>\n",
       "      <td>4.990373e+05</td>\n",
       "      <td>7093.525719</td>\n",
       "      <td>2323.120911</td>\n",
       "    </tr>\n",
       "    <tr>\n",
       "      <th>22</th>\n",
       "      <td>Tecnologia</td>\n",
       "      <td>2023-02-01</td>\n",
       "      <td>8850.685695</td>\n",
       "      <td>1.726114e+05</td>\n",
       "      <td>2471.516321</td>\n",
       "      <td>222.863294</td>\n",
       "    </tr>\n",
       "    <tr>\n",
       "      <th>23</th>\n",
       "      <td>Tecnologia</td>\n",
       "      <td>2023-03-01</td>\n",
       "      <td>8693.815750</td>\n",
       "      <td>1.829525e+05</td>\n",
       "      <td>2625.106800</td>\n",
       "      <td>1453.217398</td>\n",
       "    </tr>\n",
       "  </tbody>\n",
       "</table>\n",
       "</div>"
      ],
      "text/plain": [
       "                hierarquia_1 dt_mes_true  valor incremental bruto  \\\n",
       "0   Assunto não identificado  2023-01-01              5143.387744   \n",
       "1   Assunto não identificado  2023-02-01              2031.678401   \n",
       "2   Assunto não identificado  2023-03-01              9985.323702   \n",
       "3                Atendimento  2023-01-01             10208.607435   \n",
       "4                Atendimento  2023-02-01             25581.844483   \n",
       "5                Atendimento  2023-03-01              5439.142181   \n",
       "6                     Cartão  2023-01-01            473764.658738   \n",
       "7                     Cartão  2023-02-01            465333.789053   \n",
       "8                     Cartão  2023-03-01            399623.544602   \n",
       "9                      Conta  2023-01-01             31579.931598   \n",
       "10                     Conta  2023-02-01             52106.517155   \n",
       "11                     Conta  2023-03-01             56168.611946   \n",
       "12           Crédito Pessoal  2023-01-01              4596.554232   \n",
       "13           Crédito Pessoal  2023-02-01              2097.176188   \n",
       "14           Crédito Pessoal  2023-03-01              7286.261478   \n",
       "15                    Fraude  2023-01-01            211275.012299   \n",
       "16                    Fraude  2023-02-01             44201.731983   \n",
       "17                    Fraude  2023-03-01             48175.490657   \n",
       "18                 Marketing  2023-01-01              2200.000000   \n",
       "19               Marketplace  2023-01-01               267.381266   \n",
       "20               Marketplace  2023-03-01              4230.456477   \n",
       "21                Tecnologia  2023-01-01             25158.339334   \n",
       "22                Tecnologia  2023-02-01              8850.685695   \n",
       "23                Tecnologia  2023-03-01              8693.815750   \n",
       "\n",
       "       LTV Bruto  LTV Receita Valor           ltv  \n",
       "0   7.792212e+04        1120.195071    425.578688  \n",
       "1   3.105869e+04         440.097157    177.191200  \n",
       "2   1.717304e+05        2475.180834    847.085280  \n",
       "3   2.234701e+05        3210.523581    324.579608  \n",
       "4   7.517527e+05       10713.689377    230.737404  \n",
       "5   1.074638e+05        1516.089174    138.171175  \n",
       "6   1.144253e+07      163644.468043  17219.431958  \n",
       "7   1.086787e+07      155301.124981  21223.978476  \n",
       "8   9.173910e+06      130960.075111  16798.210105  \n",
       "9   6.492023e+05        9243.200350   2187.579099  \n",
       "10  1.035635e+06       14713.835757   2646.977243  \n",
       "11  1.199244e+06       17243.169818   2715.271666  \n",
       "12  8.123989e+04        1170.330854    168.803526  \n",
       "13  2.954000e+04         417.789332    304.063618  \n",
       "14  1.855465e+05        2688.536467    119.596206  \n",
       "15  5.248619e+06       74603.307912   6624.197283  \n",
       "16  1.074911e+06       15286.964581    218.885939  \n",
       "17  1.217194e+06       17475.932653   2563.540594  \n",
       "18  4.736914e+04         663.168000   1464.384058  \n",
       "19  3.362250e+03          47.071501      0.000000  \n",
       "20  1.011237e+05        1466.294313     23.899648  \n",
       "21  4.990373e+05        7093.525719   2323.120911  \n",
       "22  1.726114e+05        2471.516321    222.863294  \n",
       "23  1.829525e+05        2625.106800   1453.217398  "
      ]
     },
     "execution_count": 53,
     "metadata": {},
     "output_type": "execute_result"
    }
   ],
   "source": [
    "#incluir incremento ajustado\n",
    "resultado_sim = df_nao_comprou[['hierarquia_1', 'valor incremental bruto', 'dt_mes_true', 'LTV Bruto', 'LTV Receita Valor', 'ltv']].groupby(['hierarquia_1', 'dt_mes_true']).sum()\n",
    "resultado_sim = resultado_sim.reset_index()\n",
    "resultado_sim"
   ]
  },
  {
   "cell_type": "code",
   "execution_count": 54,
   "metadata": {},
   "outputs": [
    {
     "name": "stdout",
     "output_type": "stream",
     "text": [
      "1481\n",
      "1474\n"
     ]
    }
   ],
   "source": [
    "print(len(df_nao_comprou))\n",
    "print(len(df_nao_comprou['cpf'].unique()))"
   ]
  },
  {
   "cell_type": "code",
   "execution_count": 55,
   "metadata": {},
   "outputs": [
    {
     "data": {
      "text/plain": [
       "dt_mes_true\n",
       "2023-01-01    260795.791030\n",
       "2023-02-01    199345.017505\n",
       "2023-03-01    176450.385170\n",
       "Name: LTV Receita Valor, dtype: float64"
      ]
     },
     "execution_count": 55,
     "metadata": {},
     "output_type": "execute_result"
    }
   ],
   "source": [
    "resultado_sim.groupby('dt_mes_true')['LTV Receita Valor'].sum()"
   ]
  },
  {
   "cell_type": "code",
   "execution_count": 56,
   "metadata": {},
   "outputs": [
    {
     "data": {
      "text/plain": [
       "dt_mes_true\n",
       "2023-01-01    764193.872647\n",
       "2023-02-01    600203.422958\n",
       "2023-03-01    539602.646793\n",
       "Name: valor incremental bruto, dtype: float64"
      ]
     },
     "execution_count": 56,
     "metadata": {},
     "output_type": "execute_result"
    }
   ],
   "source": [
    "resultado_sim.groupby('dt_mes_true')['valor incremental bruto'].sum()"
   ]
  },
  {
   "cell_type": "code",
   "execution_count": 57,
   "metadata": {},
   "outputs": [
    {
     "data": {
      "text/plain": [
       "dt_mes_true\n",
       "2023-01-01    1.827275e+07\n",
       "2023-02-01    1.396338e+07\n",
       "2023-03-01    1.233917e+07\n",
       "Name: LTV Bruto, dtype: float64"
      ]
     },
     "execution_count": 57,
     "metadata": {},
     "output_type": "execute_result"
    }
   ],
   "source": [
    "resultado_sim.groupby('dt_mes_true')['LTV Bruto'].sum()"
   ]
  },
  {
   "cell_type": "code",
   "execution_count": 58,
   "metadata": {},
   "outputs": [
    {
     "data": {
      "text/plain": [
       "dt_mes_true\n",
       "2023-01-01    30737.675132\n",
       "2023-02-01    25024.697174\n",
       "2023-03-01    24658.992072\n",
       "Name: ltv, dtype: float64"
      ]
     },
     "execution_count": 58,
     "metadata": {},
     "output_type": "execute_result"
    }
   ],
   "source": [
    "resultado_sim.groupby('dt_mes_true')['ltv'].sum()"
   ]
  },
  {
   "cell_type": "code",
   "execution_count": 59,
   "metadata": {},
   "outputs": [
    {
     "data": {
      "text/plain": [
       "4"
      ]
     },
     "execution_count": 59,
     "metadata": {},
     "output_type": "execute_result"
    }
   ],
   "source": [
    "len(df_nao_comprou[df_nao_comprou['LTV Receita Valor'] == 0])"
   ]
  }
 ],
 "metadata": {
  "kernelspec": {
   "display_name": "Python 3",
   "language": "python",
   "name": "python3"
  },
  "language_info": {
   "codemirror_mode": {
    "name": "ipython",
    "version": 3
   },
   "file_extension": ".py",
   "mimetype": "text/x-python",
   "name": "python",
   "nbconvert_exporter": "python",
   "pygments_lexer": "ipython3",
   "version": "3.8.10"
  },
  "orig_nbformat": 4
 },
 "nbformat": 4,
 "nbformat_minor": 2
}
