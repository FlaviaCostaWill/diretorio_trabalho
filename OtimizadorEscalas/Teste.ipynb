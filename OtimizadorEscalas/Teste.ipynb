{
 "cells": [
  {
   "cell_type": "code",
   "execution_count": 1,
   "metadata": {},
   "outputs": [
    {
     "name": "stdout",
     "output_type": "stream",
     "text": [
      "Collecting pyworkforce\n",
      "  Downloading pyworkforce-0.5.1-py3-none-any.whl (22 kB)\n",
      "Requirement already satisfied: numpy>=1.23.0 in /home/flavia.costa/.local/lib/python3.8/site-packages (from pyworkforce) (1.23.1)\n",
      "Requirement already satisfied: ortools>=9.2.9972 in /home/flavia.costa/.local/lib/python3.8/site-packages (from pyworkforce) (9.5.2237)\n",
      "Requirement already satisfied: pandas>=1.3.5 in /home/flavia.costa/.local/lib/python3.8/site-packages (from pyworkforce) (1.4.3)\n",
      "Requirement already satisfied: joblib>0.17 in /home/flavia.costa/.local/lib/python3.8/site-packages (from pyworkforce) (1.1.0)\n",
      "Requirement already satisfied: absl-py>=0.13 in /home/flavia.costa/.local/lib/python3.8/site-packages (from ortools>=9.2.9972->pyworkforce) (1.4.0)\n",
      "Requirement already satisfied: protobuf>=4.21.5 in /home/flavia.costa/.local/lib/python3.8/site-packages (from ortools>=9.2.9972->pyworkforce) (4.21.12)\n",
      "Requirement already satisfied: python-dateutil>=2.8.1 in /home/flavia.costa/.local/lib/python3.8/site-packages (from pandas>=1.3.5->pyworkforce) (2.8.2)\n",
      "Requirement already satisfied: pytz>=2020.1 in /home/flavia.costa/.local/lib/python3.8/site-packages (from pandas>=1.3.5->pyworkforce) (2022.2)\n",
      "Requirement already satisfied: six>=1.5 in /home/flavia.costa/.local/lib/python3.8/site-packages (from python-dateutil>=2.8.1->pandas>=1.3.5->pyworkforce) (1.16.0)\n",
      "Installing collected packages: pyworkforce\n",
      "Successfully installed pyworkforce-0.5.1\n"
     ]
    }
   ],
   "source": [
    "!pip install pyworkforce"
   ]
  },
  {
   "cell_type": "code",
   "execution_count": 3,
   "metadata": {},
   "outputs": [],
   "source": [
    "import pandas as pd\n",
    "import numpy as np\n",
    "from pyworkforce.queuing import ErlangC"
   ]
  },
  {
   "cell_type": "code",
   "execution_count": 15,
   "metadata": {},
   "outputs": [],
   "source": [
    "# A meta de produtividade do OKR é 55 atendimentos por dia\n",
    "\n",
    "dias_uteis = 23\n",
    "meta_produtividade = 54.2\n"
   ]
  },
  {
   "cell_type": "code",
   "execution_count": 48,
   "metadata": {},
   "outputs": [],
   "source": [
    "#Exemplo para fila de Pix no mes de Agosto no Will\n",
    "\n",
    "chats_periodo = 20765"
   ]
  },
  {
   "cell_type": "code",
   "execution_count": 50,
   "metadata": {},
   "outputs": [
    {
     "data": {
      "text/plain": [
       "17.0"
      ]
     },
     "execution_count": 50,
     "metadata": {},
     "output_type": "execute_result"
    }
   ],
   "source": [
    "# A conta feita pela Isabella é:\n",
    "capacity_inicial = round(chats_periodo / meta_produtividade / dias_uteis, 0)\n",
    "capacity_inicial"
   ]
  },
  {
   "cell_type": "code",
   "execution_count": null,
   "metadata": {},
   "outputs": [],
   "source": [
    "# porém temos que tranformar a produtividade em tempo de atendimento"
   ]
  },
  {
   "cell_type": "code",
   "execution_count": 51,
   "metadata": {},
   "outputs": [],
   "source": [
    "turno_min = 9 * 60 #9 horas por dia para essa fila específica"
   ]
  },
  {
   "cell_type": "code",
   "execution_count": 52,
   "metadata": {},
   "outputs": [
    {
     "data": {
      "text/plain": [
       "31.764705882352942"
      ]
     },
     "execution_count": 52,
     "metadata": {},
     "output_type": "execute_result"
    }
   ],
   "source": [
    "tempo = turno_min / capacity_inicial\n",
    "tempo "
   ]
  },
  {
   "cell_type": "code",
   "execution_count": 60,
   "metadata": {},
   "outputs": [],
   "source": [
    "#transactions = chats no intervalo\n",
    "#interval = minutos no intervalo definido \n",
    "#asa = TPR em min\n",
    "#aht = TMA em min\n",
    "\n",
    "\n",
    "#https://docs.google.com/spreadsheets/d/1ECf3MsoxBIdp7_mSq3RUIr3k9sAsD26JPOZ5BRewqrI/edit#gid=1737331977&range=O12\n",
    "\n",
    "\n",
    "erlang = ErlangC(transactions=chats_periodo, interval = turno_min * dias_uteis, asa = 10 , aht = (tempo - 10), shrinkage = 0.05)"
   ]
  },
  {
   "cell_type": "code",
   "execution_count": 61,
   "metadata": {},
   "outputs": [],
   "source": [
    "requirements = erlang.required_positions(service_level = 0.6, max_occupancy = 0.90)"
   ]
  },
  {
   "cell_type": "code",
   "execution_count": 62,
   "metadata": {},
   "outputs": [
    {
     "data": {
      "text/plain": [
       "{'raw_positions': 41,\n",
       " 'positions': 44,\n",
       " 'service_level': 0.9572778765502222,\n",
       " 'occupancy': 0.887522323646084,\n",
       " 'waiting_probability': 0.3555099107410502}"
      ]
     },
     "execution_count": 62,
     "metadata": {},
     "output_type": "execute_result"
    }
   ],
   "source": [
    "requirements"
   ]
  }
 ],
 "metadata": {
  "kernelspec": {
   "display_name": "Python 3",
   "language": "python",
   "name": "python3"
  },
  "language_info": {
   "codemirror_mode": {
    "name": "ipython",
    "version": 3
   },
   "file_extension": ".py",
   "mimetype": "text/x-python",
   "name": "python",
   "nbconvert_exporter": "python",
   "pygments_lexer": "ipython3",
   "version": "3.8.10"
  },
  "orig_nbformat": 4
 },
 "nbformat": 4,
 "nbformat_minor": 2
}
