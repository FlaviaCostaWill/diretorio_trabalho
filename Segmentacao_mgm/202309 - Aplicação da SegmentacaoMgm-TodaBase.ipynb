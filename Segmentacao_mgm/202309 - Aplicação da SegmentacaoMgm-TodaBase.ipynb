{
 "cells": [
  {
   "cell_type": "code",
   "execution_count": 2,
   "metadata": {
    "tags": []
   },
   "outputs": [],
   "source": [
    "import pandas as pd\n",
    "import numpy as np\n",
    "import os as os\n",
    "import seaborn as sns\n",
    "import matplotlib.pyplot as plt\n",
    "import warnings\n",
    "\n",
    "warnings.simplefilter(action='ignore', category=FutureWarning)"
   ]
  },
  {
   "cell_type": "code",
   "execution_count": 3,
   "metadata": {
    "collapsed": true,
    "jupyter": {
     "outputs_hidden": true
    },
    "tags": []
   },
   "outputs": [
    {
     "name": "stdout",
     "output_type": "stream",
     "text": [
      "Collecting awswrangler\n",
      "  Obtaining dependency information for awswrangler from https://files.pythonhosted.org/packages/54/fc/8d618376fecdc0e2f6d88d1c04f10a2d9d374bfbc14476b0f88d93dc697d/awswrangler-3.4.0-py3-none-any.whl.metadata\n",
      "  Downloading awswrangler-3.4.0-py3-none-any.whl.metadata (23 kB)\n",
      "Requirement already satisfied: boto3<2.0.0,>=1.20.32 in /opt/conda/lib/python3.8/site-packages (from awswrangler) (1.28.42)\n",
      "Requirement already satisfied: botocore<2.0.0,>=1.23.32 in /opt/conda/lib/python3.8/site-packages (from awswrangler) (1.31.42)\n",
      "Requirement already satisfied: numpy<2.0,>=1.18 in /opt/conda/lib/python3.8/site-packages (from awswrangler) (1.24.4)\n",
      "Collecting packaging<24.0,>=21.1 (from awswrangler)\n",
      "  Downloading packaging-23.1-py3-none-any.whl (48 kB)\n",
      "\u001b[2K     \u001b[90m━━━━━━━━━━━━━━━━━━━━━━━━━━━━━━━━━━━━━━━\u001b[0m \u001b[32m48.9/48.9 kB\u001b[0m \u001b[31m931.2 kB/s\u001b[0m eta \u001b[36m0:00:00\u001b[0ma \u001b[36m0:00:01\u001b[0m\n",
      "\u001b[?25hRequirement already satisfied: pandas<3.0.0,>=1.2.0 in /opt/conda/lib/python3.8/site-packages (from awswrangler) (1.3.4)\n",
      "Requirement already satisfied: pyarrow>=7.0.0 in /opt/conda/lib/python3.8/site-packages (from awswrangler) (13.0.0)\n",
      "Requirement already satisfied: typing-extensions<5.0.0,>=4.4.0 in /opt/conda/lib/python3.8/site-packages (from awswrangler) (4.7.1)\n",
      "Requirement already satisfied: jmespath<2.0.0,>=0.7.1 in /opt/conda/lib/python3.8/site-packages (from boto3<2.0.0,>=1.20.32->awswrangler) (1.0.1)\n",
      "Requirement already satisfied: s3transfer<0.7.0,>=0.6.0 in /opt/conda/lib/python3.8/site-packages (from boto3<2.0.0,>=1.20.32->awswrangler) (0.6.2)\n",
      "Requirement already satisfied: python-dateutil<3.0.0,>=2.1 in /opt/conda/lib/python3.8/site-packages (from botocore<2.0.0,>=1.23.32->awswrangler) (2.8.2)\n",
      "Collecting urllib3<1.27,>=1.25.4 (from botocore<2.0.0,>=1.23.32->awswrangler)\n",
      "  Obtaining dependency information for urllib3<1.27,>=1.25.4 from https://files.pythonhosted.org/packages/c5/05/c214b32d21c0b465506f95c4f28ccbcba15022e000b043b72b3df7728471/urllib3-1.26.16-py2.py3-none-any.whl.metadata\n",
      "  Using cached urllib3-1.26.16-py2.py3-none-any.whl.metadata (48 kB)\n",
      "Requirement already satisfied: pytz>=2017.3 in /opt/conda/lib/python3.8/site-packages (from pandas<3.0.0,>=1.2.0->awswrangler) (2021.3)\n",
      "Requirement already satisfied: six>=1.5 in /opt/conda/lib/python3.8/site-packages (from python-dateutil<3.0.0,>=2.1->botocore<2.0.0,>=1.23.32->awswrangler) (1.16.0)\n",
      "Downloading awswrangler-3.4.0-py3-none-any.whl (394 kB)\n",
      "\u001b[2K   \u001b[90m━━━━━━━━━━━━━━━━━━━━━━━━━━━━━━━━━━━━━━━━\u001b[0m \u001b[32m395.0/395.0 kB\u001b[0m \u001b[31m6.1 MB/s\u001b[0m eta \u001b[36m0:00:00\u001b[0m:00:01\u001b[0m\n",
      "\u001b[?25hUsing cached urllib3-1.26.16-py2.py3-none-any.whl (143 kB)\n",
      "\u001b[33mDEPRECATION: pyodbc 4.0.0-unsupported has a non-standard version number. pip 23.3 will enforce this behaviour change. A possible replacement is to upgrade to a newer version of pyodbc or contact the author to suggest that they release a version with a conforming version number. Discussion can be found at https://github.com/pypa/pip/issues/12063\u001b[0m\u001b[33m\n",
      "\u001b[0mInstalling collected packages: urllib3, packaging, awswrangler\n",
      "  Attempting uninstall: urllib3\n",
      "    Found existing installation: urllib3 2.0.4\n",
      "    Uninstalling urllib3-2.0.4:\n",
      "      Successfully uninstalled urllib3-2.0.4\n",
      "  Attempting uninstall: packaging\n",
      "    Found existing installation: packaging 21.0\n",
      "    Uninstalling packaging-21.0:\n",
      "      Successfully uninstalled packaging-21.0\n",
      "\u001b[31mERROR: pip's dependency resolver does not currently take into account all the packages that are installed. This behaviour is the source of the following dependency conflicts.\n",
      "spyder 5.1.5 requires pyqt5<5.13, which is not installed.\n",
      "spyder 5.1.5 requires pyqtwebengine<5.13, which is not installed.\n",
      "jupyterlab 3.2.1 requires jupyter-server~=1.4, but you have jupyter-server 2.7.3 which is incompatible.\n",
      "jupyterlab 3.2.1 requires nbclassic~=0.2, but you have nbclassic 1.0.0 which is incompatible.\n",
      "jupyterlab-server 2.8.2 requires jupyter-server~=1.4, but you have jupyter-server 2.7.3 which is incompatible.\n",
      "sagemaker-datawrangler 0.4.3 requires sagemaker-data-insights==0.4.0, but you have sagemaker-data-insights 0.3.3 which is incompatible.\n",
      "spyder 5.1.5 requires pylint<2.10.0,>=2.5.0, but you have pylint 3.0.0a7 which is incompatible.\n",
      "spyder-kernels 2.1.3 requires jupyter-client<7,>=5.3.4, but you have jupyter-client 7.4.9 which is incompatible.\u001b[0m\u001b[31m\n",
      "\u001b[0mSuccessfully installed awswrangler-3.4.0 packaging-23.1 urllib3-1.26.16\n",
      "\u001b[33mWARNING: Running pip as the 'root' user can result in broken permissions and conflicting behaviour with the system package manager. It is recommended to use a virtual environment instead: https://pip.pypa.io/warnings/venv\u001b[0m\u001b[33m\n",
      "\u001b[0m"
     ]
    }
   ],
   "source": [
    "!pip install awswrangler\n",
    "\n",
    "import awswrangler as wr"
   ]
  },
  {
   "cell_type": "code",
   "execution_count": 6,
   "metadata": {
    "tags": []
   },
   "outputs": [],
   "source": [
    "from sqlalchemy import create_engine\n",
    "import os\n",
    "import boto3"
   ]
  },
  {
   "cell_type": "markdown",
   "metadata": {},
   "source": [
    "### Obtenção de dados - fonte da tabela na pasta sql"
   ]
  },
  {
   "cell_type": "code",
   "execution_count": 4,
   "metadata": {
    "tags": []
   },
   "outputs": [],
   "source": [
    "query = \"\"\"\n",
    "  \n",
    "with gestao_carteira as (\n",
    "select\n",
    "cpf\n",
    ", max(vl_current_limit) as max_limite\n",
    ", sum(vl_util_will) as sum_utilizado_interno\n",
    ", sum(vl_util_market) as sum_utilizado_mercado\n",
    "from customer_curated_zone.ca_book_gestao_carteira \n",
    "group by 1\n",
    ")\n",
    ", cobranca as (\n",
    "select\n",
    "id_customer\n",
    ", max(nr_days_paste_due_current) as nr_days_paste_due_current\n",
    "from (\n",
    "\tselect\n",
    "\tid_customer , nr_days_paste_due_current \n",
    "\t, row_number() over (partition by id_customer order by cd_yearmonth desc) as num_ordem\n",
    "\tfrom customer_curated_zone.ca_book_cobranca \n",
    ")\n",
    "where num_ordem = 1\n",
    "group by 1\n",
    ")\n",
    ", features_conta as (\n",
    "\tselect \n",
    "\tcpf \n",
    "\t, max(nr_transacoes_cashin + nr_transacoes_pix_cashout + nr_transacoes_ted_cashout) as nr_trans_mov_conta\n",
    "\tfrom customer_analytics_zone.ca_base_calculo_ie_conta\n",
    "\tgroup by 1\n",
    ")\n",
    ", eventos as (\n",
    "\tselect \n",
    "\tcpf\n",
    "\t, max(case when lower(ds_event_name) like '%click_button_sendinvite_telamgm%' or lower(ds_event_name) like '%click_card_mgm_timeline%' or lower(ds_event_name) like '%click_button_sendinvite_screenmgmhome%' then 1 else 0 end) as flag_mgm\n",
    "\tfrom customer_curated_zone.ca_analitico_frontend\n",
    "\twhere lower(ds_event_name) <> 'login_knownuser'\n",
    "\tand lower(ds_event_name) <> 'insert_textfield_password_loginknownuser'\n",
    "\tand lower(ds_event_name) <> 'home'\n",
    "\tand lower(ds_event_name) <> 'click_box_tracking_card_home'\n",
    "\tgroup by 1\n",
    ")\n",
    ", base_principal as (\n",
    " select \n",
    "\tcli2.cpf \n",
    "\t, max(date_diff('day', cast(pr.dt_cfi_account as date), current_date)) as tempo_relacionamento\n",
    "\t, max(gc.max_limite) - min(pr.nr_approved_limit_engine) as ganho_limite\n",
    "\t, sum(gc.sum_utilizado_interno) as sum_utilizado_interno\n",
    "\t, sum(gc.sum_utilizado_mercado) as sum_utilizado_mercado\n",
    "\t, sum(ic.nr_trans_mov_conta) as nr_trans_mov_conta\n",
    "\t, max(e.flag_mgm) as flag_mgm\n",
    "\t, max(cob.nr_days_paste_due_current) as dias_atraso\n",
    "from customer_curated_zone.ca_book_status_cliente cli1\n",
    "\tinner join (\n",
    "\t\tselect distinct id_customer, cpf from \n",
    "\t\tcustomer_curated_zone.ca_book_cliente) cli2 \n",
    "\t\ton (cli1.id_customer = cli2.id_customer)\n",
    "\tleft join growth_curated_zone.proposal_analysis pr on (pr.cpf = cli2.cpf)\n",
    "\tleft join gestao_carteira gc on (gc.cpf = cli2.cpf)\n",
    "\tleft join features_conta ic on (ic.cpf = cli2.cpf)\n",
    "\tleft join cobranca cob on (cob.id_customer = cli1.id_customer)\n",
    "\tleft join eventos e on (e.cpf = cli2.cpf)\n",
    "where pr.ds_approval_type = 'credito' and cob.nr_days_paste_due_current <= 5\n",
    "group by 1\n",
    ")\n",
    ", base_final as (\n",
    "select \n",
    "*\n",
    ", coalesce(coalesce(sum_utilizado_interno, 0.0)/(coalesce(sum_utilizado_interno, 0.0) + coalesce(sum_utilizado_mercado, 0.0)),0) as share_of_wallet\n",
    "from base_principal\n",
    ")\n",
    "select * from base_final\n",
    "\n",
    "\"\"\""
   ]
  },
  {
   "cell_type": "code",
   "execution_count": 7,
   "metadata": {
    "tags": []
   },
   "outputs": [
    {
     "name": "stdout",
     "output_type": "stream",
     "text": [
      "Started query\n"
     ]
    }
   ],
   "source": [
    "staging_path = 's3://will-prod-ml-platform-sagemaker-studio/staging/flavia-costa/'\n",
    "boto3_session = boto3.Session(region_name='sa-east-1')\n",
    "\n",
    "# Clean temporary folder\n",
    "wr.s3.delete_objects(staging_path, boto3_session=boto3_session)\n",
    "\n",
    "# Run query\n",
    "print('Started query')\n",
    "\n",
    "df = wr.athena.read_sql_query(\n",
    "    sql=query,\n",
    "    database=None,\n",
    "    unload_approach=True,\n",
    "    ctas_approach=False,\n",
    "    boto3_session=boto3_session,\n",
    "    s3_output=staging_path\n",
    ")\n",
    "wr.s3.delete_objects(staging_path, boto3_session=boto3_session)"
   ]
  },
  {
   "cell_type": "code",
   "execution_count": 8,
   "metadata": {
    "tags": []
   },
   "outputs": [
    {
     "data": {
      "text/plain": [
       "2806610"
      ]
     },
     "execution_count": 8,
     "metadata": {},
     "output_type": "execute_result"
    }
   ],
   "source": [
    "len(df)"
   ]
  },
  {
   "cell_type": "code",
   "execution_count": 9,
   "metadata": {
    "tags": []
   },
   "outputs": [
    {
     "data": {
      "text/plain": [
       "cpf                       string\n",
       "tempo_relacionamento       Int64\n",
       "ganho_limite             float64\n",
       "sum_utilizado_interno     object\n",
       "sum_utilizado_mercado    float64\n",
       "nr_trans_mov_conta       float64\n",
       "flag_mgm                   Int32\n",
       "dias_atraso                Int32\n",
       "share_of_wallet          float64\n",
       "dtype: object"
      ]
     },
     "execution_count": 9,
     "metadata": {},
     "output_type": "execute_result"
    }
   ],
   "source": [
    "df.dtypes"
   ]
  },
  {
   "cell_type": "code",
   "execution_count": 10,
   "metadata": {
    "tags": []
   },
   "outputs": [
    {
     "data": {
      "text/plain": [
       "cpf                            0\n",
       "tempo_relacionamento       10449\n",
       "ganho_limite              254336\n",
       "sum_utilizado_interno     311628\n",
       "sum_utilizado_mercado     311628\n",
       "nr_trans_mov_conta       1017908\n",
       "flag_mgm                  986137\n",
       "dias_atraso                    0\n",
       "share_of_wallet           339632\n",
       "dtype: int64"
      ]
     },
     "execution_count": 10,
     "metadata": {},
     "output_type": "execute_result"
    }
   ],
   "source": [
    "df.isnull().sum()"
   ]
  },
  {
   "cell_type": "markdown",
   "metadata": {},
   "source": [
    "### Definindo tipos de var e lidando com missings"
   ]
  },
  {
   "cell_type": "code",
   "execution_count": 15,
   "metadata": {
    "tags": []
   },
   "outputs": [],
   "source": [
    "#variáveis para recodificar como zero\n",
    "df['share_of_wallet'] = df['share_of_wallet'].fillna(0.0)\n",
    "df['ganho_limite'] = df['ganho_limite'].fillna(0.0)\n",
    "df['flag_mgm'] = df['flag_mgm'].fillna(0.0)\n",
    "df['nr_trans_mov_conta'] = df['nr_trans_mov_conta'].fillna(0.0)\n"
   ]
  },
  {
   "cell_type": "code",
   "execution_count": 16,
   "metadata": {
    "tags": []
   },
   "outputs": [
    {
     "data": {
      "text/plain": [
       "cpf                           0\n",
       "tempo_relacionamento      10449\n",
       "ganho_limite                  0\n",
       "sum_utilizado_interno    311628\n",
       "sum_utilizado_mercado    311628\n",
       "nr_trans_mov_conta            0\n",
       "flag_mgm                      0\n",
       "dias_atraso                   0\n",
       "share_of_wallet               0\n",
       "dtype: int64"
      ]
     },
     "execution_count": 16,
     "metadata": {},
     "output_type": "execute_result"
    }
   ],
   "source": [
    "df.isnull().sum()"
   ]
  },
  {
   "cell_type": "code",
   "execution_count": 42,
   "metadata": {
    "tags": []
   },
   "outputs": [
    {
     "data": {
      "text/plain": [
       "8728"
      ]
     },
     "execution_count": 42,
     "metadata": {},
     "output_type": "execute_result"
    }
   ],
   "source": [
    "len(df.query('ganho_limite < 0'))"
   ]
  },
  {
   "cell_type": "code",
   "execution_count": 43,
   "metadata": {
    "tags": []
   },
   "outputs": [
    {
     "data": {
      "text/plain": [
       "0.012144821264894592"
      ]
     },
     "execution_count": 43,
     "metadata": {},
     "output_type": "execute_result"
    }
   ],
   "source": [
    "df.query('ganho_limite < 0')['flag_mgm'].mean()"
   ]
  },
  {
   "cell_type": "code",
   "execution_count": 17,
   "metadata": {
    "tags": []
   },
   "outputs": [],
   "source": [
    "for column in df.columns:\n",
    "  if df[column].dtype == 'object':\n",
    "    df[column].fillna(df[column].mode()[0], inplace = True)\n",
    "  elif df[column].dtype == 'string':\n",
    "    df[column].fillna(df[column].mode()[0], inplace = True)\n",
    "  elif df[column].dtype != 'object':\n",
    "    df[column].fillna(df[column].median(), inplace = True)"
   ]
  },
  {
   "cell_type": "code",
   "execution_count": 18,
   "metadata": {
    "tags": []
   },
   "outputs": [
    {
     "data": {
      "text/plain": [
       "cpf                      0\n",
       "tempo_relacionamento     0\n",
       "ganho_limite             0\n",
       "sum_utilizado_interno    0\n",
       "sum_utilizado_mercado    0\n",
       "nr_trans_mov_conta       0\n",
       "flag_mgm                 0\n",
       "dias_atraso              0\n",
       "share_of_wallet          0\n",
       "dtype: int64"
      ]
     },
     "execution_count": 18,
     "metadata": {},
     "output_type": "execute_result"
    }
   ],
   "source": [
    "df.isnull().sum()"
   ]
  },
  {
   "cell_type": "code",
   "execution_count": 19,
   "metadata": {
    "tags": []
   },
   "outputs": [
    {
     "data": {
      "text/plain": [
       "0    2770511\n",
       "1      36099\n",
       "Name: flag_mgm, dtype: Int64"
      ]
     },
     "execution_count": 19,
     "metadata": {},
     "output_type": "execute_result"
    }
   ],
   "source": [
    "df['flag_mgm'].value_counts()"
   ]
  },
  {
   "cell_type": "markdown",
   "metadata": {},
   "source": [
    "## Início modelagem"
   ]
  },
  {
   "cell_type": "code",
   "execution_count": 20,
   "metadata": {
    "tags": []
   },
   "outputs": [],
   "source": [
    "def discretiza(df, drop_col):\n",
    "    num_columns = df.drop(drop_col, axis = 1).select_dtypes(exclude=['object']).columns\n",
    "    stats = df.drop(drop_col, axis=1).describe()\n",
    "    for i in num_columns:\n",
    "        p75 = stats.iloc[6][i]\n",
    "        p25 = stats.iloc[4][i]\n",
    "        p50 = stats.iloc[5][i]\n",
    "        \n",
    "        df['aux'] = np.where((df[i] <= p25), \"A - \" + i,\n",
    "                    np.where((df[i] > p25) & (df[i] <= p50), \"B - \" + i,\n",
    "                    np.where((df[i] > p50) & (df[i] <= p75), \"C - \" + i, \"D - \" + i)))\n",
    "  \n",
    "        df = df.rename(columns = {'aux':i+\"_fx\"})\n",
    "\n",
    "    return df"
   ]
  },
  {
   "cell_type": "code",
   "execution_count": 21,
   "metadata": {
    "tags": []
   },
   "outputs": [],
   "source": [
    "df = discretiza(df, ['cpf', 'flag_mgm'])"
   ]
  },
  {
   "cell_type": "code",
   "execution_count": 22,
   "metadata": {
    "tags": []
   },
   "outputs": [
    {
     "data": {
      "text/plain": [
       "Index(['cpf', 'tempo_relacionamento', 'ganho_limite', 'sum_utilizado_interno',\n",
       "       'sum_utilizado_mercado', 'nr_trans_mov_conta', 'flag_mgm',\n",
       "       'dias_atraso', 'share_of_wallet', 'tempo_relacionamento_fx',\n",
       "       'ganho_limite_fx', 'sum_utilizado_mercado_fx', 'nr_trans_mov_conta_fx',\n",
       "       'dias_atraso_fx', 'share_of_wallet_fx'],\n",
       "      dtype='object')"
      ]
     },
     "execution_count": 22,
     "metadata": {},
     "output_type": "execute_result"
    }
   ],
   "source": [
    "df.columns"
   ]
  },
  {
   "cell_type": "code",
   "execution_count": null,
   "metadata": {},
   "outputs": [],
   "source": [
    "'''\n",
    "seg_relacionamento\n",
    "seg_mov_conta\n",
    "seg_share_of_wallet\n",
    "seg_ganho_limite\n",
    "segmento_v2 = df.seg_ganho_limite.astype(\"string\") + df.seg_relacionamento.astype(\"string\") + df.seg_mov_conta.astype(\"string\")\n",
    "\n",
    "'''"
   ]
  },
  {
   "cell_type": "code",
   "execution_count": 35,
   "metadata": {
    "tags": []
   },
   "outputs": [],
   "source": [
    "df['seg_relacionamento'] = np.where(df.tempo_relacionamento <=  df.tempo_relacionamento.quantile(0.25), 'A',\n",
    "                                  np.where(df.tempo_relacionamento <=  df.tempo_relacionamento.quantile(0.75), 'B', 'C'))\n",
    "\n",
    "df['seg_mov_conta'] = np.where(df.nr_trans_mov_conta <=  df.nr_trans_mov_conta.quantile(0.75), 'A', 'B')\n",
    "\n",
    "df['seg_share_of_wallet'] = np.where(df.share_of_wallet <=  df.share_of_wallet.quantile(0.50), 'A', 'B')\n",
    "\n",
    "df['seg_ganho_limite'] = np.where(df.ganho_limite <=  df.ganho_limite.quantile(0.25), 'A',\n",
    "                                  np.where(df.ganho_limite <=  df.ganho_limite.quantile(0.75), 'B', 'C'))"
   ]
  },
  {
   "cell_type": "code",
   "execution_count": 36,
   "metadata": {
    "tags": []
   },
   "outputs": [],
   "source": [
    "df['segmento_v2'] = df.seg_ganho_limite.astype(\"string\") + df.seg_relacionamento.astype(\"string\") + df.seg_mov_conta.astype(\"string\")"
   ]
  },
  {
   "cell_type": "code",
   "execution_count": 37,
   "metadata": {
    "tags": []
   },
   "outputs": [
    {
     "data": {
      "text/html": [
       "<div>\n",
       "<style scoped>\n",
       "    .dataframe tbody tr th:only-of-type {\n",
       "        vertical-align: middle;\n",
       "    }\n",
       "\n",
       "    .dataframe tbody tr th {\n",
       "        vertical-align: top;\n",
       "    }\n",
       "\n",
       "    .dataframe thead tr th {\n",
       "        text-align: left;\n",
       "    }\n",
       "\n",
       "    .dataframe thead tr:last-of-type th {\n",
       "        text-align: right;\n",
       "    }\n",
       "</style>\n",
       "<table border=\"1\" class=\"dataframe\">\n",
       "  <thead>\n",
       "    <tr>\n",
       "      <th></th>\n",
       "      <th colspan=\"2\" halign=\"left\">flag_mgm</th>\n",
       "    </tr>\n",
       "    <tr>\n",
       "      <th></th>\n",
       "      <th>mean</th>\n",
       "      <th>count</th>\n",
       "    </tr>\n",
       "    <tr>\n",
       "      <th>segmento_final</th>\n",
       "      <th></th>\n",
       "      <th></th>\n",
       "    </tr>\n",
       "  </thead>\n",
       "  <tbody>\n",
       "    <tr>\n",
       "      <th>0. Alto Tempo de Relac - Aumento limite mediano - Alto Movimento Conta</th>\n",
       "      <td>0.003716</td>\n",
       "      <td>12916</td>\n",
       "    </tr>\n",
       "    <tr>\n",
       "      <th>0. Alto Tempo de Relac - Pouco Movimento Conta</th>\n",
       "      <td>0.001979</td>\n",
       "      <td>545747</td>\n",
       "    </tr>\n",
       "    <tr>\n",
       "      <th>0. Pouco tempo de relacionamento</th>\n",
       "      <td>0.000004</td>\n",
       "      <td>703255</td>\n",
       "    </tr>\n",
       "    <tr>\n",
       "      <th>1. Alto Tempo de Relac - Alto aumento de limite - Alto Movimento Conta</th>\n",
       "      <td>0.006193</td>\n",
       "      <td>87518</td>\n",
       "    </tr>\n",
       "    <tr>\n",
       "      <th>1. Alto Tempo de Relac - Pouco aumento limite - Alto Movimento Conta</th>\n",
       "      <td>0.004793</td>\n",
       "      <td>55080</td>\n",
       "    </tr>\n",
       "    <tr>\n",
       "      <th>1. Tempo de Relac Mediano - Pouco aumento limite - Pouco Mov Conta - Baixo SOW</th>\n",
       "      <td>0.008267</td>\n",
       "      <td>250159</td>\n",
       "    </tr>\n",
       "    <tr>\n",
       "      <th>2. Tempo de Relac Mediano - Aumento limite mediano - Baixo Movimento Conta</th>\n",
       "      <td>0.021884</td>\n",
       "      <td>256033</td>\n",
       "    </tr>\n",
       "    <tr>\n",
       "      <th>2. Tempo de Relac Mediano - Pouco aumento limite - Pouco Mov Conta - Alto SOW</th>\n",
       "      <td>0.01527</td>\n",
       "      <td>141522</td>\n",
       "    </tr>\n",
       "    <tr>\n",
       "      <th>3. Tempo de Relac Mediano - Aumento limite mediano - Pouco Movimento Conta</th>\n",
       "      <td>0.025361</td>\n",
       "      <td>288044</td>\n",
       "    </tr>\n",
       "    <tr>\n",
       "      <th>3. Tempo de Relac Mediano - Pouco aumento limite - Alto Movimento Conta</th>\n",
       "      <td>0.027664</td>\n",
       "      <td>131544</td>\n",
       "    </tr>\n",
       "    <tr>\n",
       "      <th>4. Tempo de Relac Mediano - Alto aumento limite - Alto Movimento Conta</th>\n",
       "      <td>0.033497</td>\n",
       "      <td>140790</td>\n",
       "    </tr>\n",
       "    <tr>\n",
       "      <th>5. Tempo de Relac Mediano - Aumento limite mediano - Alto Movimento Conta</th>\n",
       "      <td>0.04469</td>\n",
       "      <td>194002</td>\n",
       "    </tr>\n",
       "  </tbody>\n",
       "</table>\n",
       "</div>"
      ],
      "text/plain": [
       "                                                    flag_mgm        \n",
       "                                                        mean   count\n",
       "segmento_final                                                      \n",
       "0. Alto Tempo de Relac - Aumento limite mediano...  0.003716   12916\n",
       "0. Alto Tempo de Relac - Pouco Movimento Conta      0.001979  545747\n",
       "0. Pouco tempo de relacionamento                    0.000004  703255\n",
       "1. Alto Tempo de Relac - Alto aumento de limite...  0.006193   87518\n",
       "1. Alto Tempo de Relac - Pouco aumento limite -...  0.004793   55080\n",
       "1. Tempo de Relac Mediano - Pouco aumento limit...  0.008267  250159\n",
       "2. Tempo de Relac Mediano - Aumento limite medi...  0.021884  256033\n",
       "2. Tempo de Relac Mediano - Pouco aumento limit...   0.01527  141522\n",
       "3. Tempo de Relac Mediano - Aumento limite medi...  0.025361  288044\n",
       "3. Tempo de Relac Mediano - Pouco aumento limit...  0.027664  131544\n",
       "4. Tempo de Relac Mediano - Alto aumento limite...  0.033497  140790\n",
       "5. Tempo de Relac Mediano - Aumento limite medi...   0.04469  194002"
      ]
     },
     "execution_count": 37,
     "metadata": {},
     "output_type": "execute_result"
    }
   ],
   "source": [
    "df['segmento_final'] = np.where(df.seg_relacionamento == \"A\", \"0. Pouco tempo de relacionamento\",\n",
    "np.where(df.seg_relacionamento.astype(\"string\") + df.seg_mov_conta.astype(\"string\") == \"CA\", \"0. Alto Tempo de Relac - Pouco Movimento Conta\",\n",
    "#Abrir por share of wallet\n",
    "np.where((df.segmento_v2 == \"ABA\") & (df.seg_share_of_wallet == \"A\"), \"1. Tempo de Relac Mediano - Pouco aumento limite - Pouco Mov Conta - Baixo SOW\", \n",
    "np.where((df.segmento_v2 == \"ABA\") & (df.seg_share_of_wallet == \"B\"), \"2. Tempo de Relac Mediano - Pouco aumento limite - Pouco Mov Conta - Alto SOW\",\n",
    "np.where(df.segmento_v2 == \"ABB\", \"3. Tempo de Relac Mediano - Pouco aumento limite - Alto Movimento Conta\",\n",
    "np.where(df.segmento_v2 == \"BBB\", \"5. Tempo de Relac Mediano - Aumento limite mediano - Alto Movimento Conta\",\n",
    "np.where(df.segmento_v2 == \"ACB\", \"1. Alto Tempo de Relac - Pouco aumento limite - Alto Movimento Conta\",\n",
    "np.where(df.segmento_v2 == \"CCB\", \"1. Alto Tempo de Relac - Alto aumento de limite - Alto Movimento Conta\",\n",
    "np.where(df.segmento_v2 == \"BCB\", \"0. Alto Tempo de Relac - Aumento limite mediano - Alto Movimento Conta\",\n",
    "np.where(df.segmento_v2 == \"BBA\", \"3. Tempo de Relac Mediano - Aumento limite mediano - Pouco Movimento Conta\",\n",
    "np.where(df.segmento_v2 == \"CBA\", \"2. Tempo de Relac Mediano - Aumento limite mediano - Baixo Movimento Conta\",\n",
    "np.where(df.segmento_v2 == \"CBB\", \"4. Tempo de Relac Mediano - Alto aumento limite - Alto Movimento Conta\", \"NI\"))))))))))))\n",
    "\n",
    "df[['segmento_final', 'flag_mgm']].groupby('segmento_final').agg({'flag_mgm':['mean', 'count']})"
   ]
  },
  {
   "cell_type": "code",
   "execution_count": 33,
   "metadata": {
    "tags": []
   },
   "outputs": [
    {
     "data": {
      "text/plain": [
       "0.012862136171395384"
      ]
     },
     "execution_count": 33,
     "metadata": {},
     "output_type": "execute_result"
    }
   ],
   "source": [
    "df['flag_mgm'].mean()"
   ]
  },
  {
   "cell_type": "code",
   "execution_count": 38,
   "metadata": {
    "tags": []
   },
   "outputs": [
    {
     "data": {
      "text/html": [
       "<div>\n",
       "<style scoped>\n",
       "    .dataframe tbody tr th:only-of-type {\n",
       "        vertical-align: middle;\n",
       "    }\n",
       "\n",
       "    .dataframe tbody tr th {\n",
       "        vertical-align: top;\n",
       "    }\n",
       "\n",
       "    .dataframe thead tr th {\n",
       "        text-align: left;\n",
       "    }\n",
       "\n",
       "    .dataframe thead tr:last-of-type th {\n",
       "        text-align: right;\n",
       "    }\n",
       "</style>\n",
       "<table border=\"1\" class=\"dataframe\">\n",
       "  <thead>\n",
       "    <tr>\n",
       "      <th></th>\n",
       "      <th colspan=\"3\" halign=\"left\">meses_relacionamento</th>\n",
       "    </tr>\n",
       "    <tr>\n",
       "      <th></th>\n",
       "      <th>mean</th>\n",
       "      <th>min</th>\n",
       "      <th>max</th>\n",
       "    </tr>\n",
       "    <tr>\n",
       "      <th>segmento_final</th>\n",
       "      <th></th>\n",
       "      <th></th>\n",
       "      <th></th>\n",
       "    </tr>\n",
       "  </thead>\n",
       "  <tbody>\n",
       "    <tr>\n",
       "      <th>0. Alto Tempo de Relac - Aumento limite mediano - Alto Movimento Conta</th>\n",
       "      <td>45.846735</td>\n",
       "      <td>35.466667</td>\n",
       "      <td>77.0</td>\n",
       "    </tr>\n",
       "    <tr>\n",
       "      <th>0. Alto Tempo de Relac - Pouco Movimento Conta</th>\n",
       "      <td>53.553431</td>\n",
       "      <td>35.466667</td>\n",
       "      <td>77.033333</td>\n",
       "    </tr>\n",
       "    <tr>\n",
       "      <th>0. Pouco tempo de relacionamento</th>\n",
       "      <td>2.305037</td>\n",
       "      <td>0.033333</td>\n",
       "      <td>4.9</td>\n",
       "    </tr>\n",
       "    <tr>\n",
       "      <th>1. Alto Tempo de Relac - Alto aumento de limite - Alto Movimento Conta</th>\n",
       "      <td>47.414336</td>\n",
       "      <td>35.466667</td>\n",
       "      <td>77.0</td>\n",
       "    </tr>\n",
       "    <tr>\n",
       "      <th>1. Alto Tempo de Relac - Pouco aumento limite - Alto Movimento Conta</th>\n",
       "      <td>61.144575</td>\n",
       "      <td>35.466667</td>\n",
       "      <td>77.0</td>\n",
       "    </tr>\n",
       "    <tr>\n",
       "      <th>1. Tempo de Relac Mediano - Pouco aumento limite - Pouco Mov Conta - Baixo SOW</th>\n",
       "      <td>15.234962</td>\n",
       "      <td>4.933333</td>\n",
       "      <td>35.366667</td>\n",
       "    </tr>\n",
       "    <tr>\n",
       "      <th>2. Tempo de Relac Mediano - Aumento limite mediano - Baixo Movimento Conta</th>\n",
       "      <td>22.045097</td>\n",
       "      <td>4.933333</td>\n",
       "      <td>35.366667</td>\n",
       "    </tr>\n",
       "    <tr>\n",
       "      <th>2. Tempo de Relac Mediano - Pouco aumento limite - Pouco Mov Conta - Alto SOW</th>\n",
       "      <td>13.406059</td>\n",
       "      <td>4.933333</td>\n",
       "      <td>35.366667</td>\n",
       "    </tr>\n",
       "    <tr>\n",
       "      <th>3. Tempo de Relac Mediano - Aumento limite mediano - Pouco Movimento Conta</th>\n",
       "      <td>15.314185</td>\n",
       "      <td>4.933333</td>\n",
       "      <td>35.366667</td>\n",
       "    </tr>\n",
       "    <tr>\n",
       "      <th>3. Tempo de Relac Mediano - Pouco aumento limite - Alto Movimento Conta</th>\n",
       "      <td>14.167389</td>\n",
       "      <td>4.933333</td>\n",
       "      <td>35.366667</td>\n",
       "    </tr>\n",
       "    <tr>\n",
       "      <th>4. Tempo de Relac Mediano - Alto aumento limite - Alto Movimento Conta</th>\n",
       "      <td>22.340228</td>\n",
       "      <td>4.933333</td>\n",
       "      <td>35.366667</td>\n",
       "    </tr>\n",
       "    <tr>\n",
       "      <th>5. Tempo de Relac Mediano - Aumento limite mediano - Alto Movimento Conta</th>\n",
       "      <td>15.727682</td>\n",
       "      <td>4.933333</td>\n",
       "      <td>35.366667</td>\n",
       "    </tr>\n",
       "  </tbody>\n",
       "</table>\n",
       "</div>"
      ],
      "text/plain": [
       "                                                   meses_relacionamento  \\\n",
       "                                                                   mean   \n",
       "segmento_final                                                            \n",
       "0. Alto Tempo de Relac - Aumento limite mediano...            45.846735   \n",
       "0. Alto Tempo de Relac - Pouco Movimento Conta                53.553431   \n",
       "0. Pouco tempo de relacionamento                               2.305037   \n",
       "1. Alto Tempo de Relac - Alto aumento de limite...            47.414336   \n",
       "1. Alto Tempo de Relac - Pouco aumento limite -...            61.144575   \n",
       "1. Tempo de Relac Mediano - Pouco aumento limit...            15.234962   \n",
       "2. Tempo de Relac Mediano - Aumento limite medi...            22.045097   \n",
       "2. Tempo de Relac Mediano - Pouco aumento limit...            13.406059   \n",
       "3. Tempo de Relac Mediano - Aumento limite medi...            15.314185   \n",
       "3. Tempo de Relac Mediano - Pouco aumento limit...            14.167389   \n",
       "4. Tempo de Relac Mediano - Alto aumento limite...            22.340228   \n",
       "5. Tempo de Relac Mediano - Aumento limite medi...            15.727682   \n",
       "\n",
       "                                                                          \n",
       "                                                          min        max  \n",
       "segmento_final                                                            \n",
       "0. Alto Tempo de Relac - Aumento limite mediano...  35.466667       77.0  \n",
       "0. Alto Tempo de Relac - Pouco Movimento Conta      35.466667  77.033333  \n",
       "0. Pouco tempo de relacionamento                     0.033333        4.9  \n",
       "1. Alto Tempo de Relac - Alto aumento de limite...  35.466667       77.0  \n",
       "1. Alto Tempo de Relac - Pouco aumento limite -...  35.466667       77.0  \n",
       "1. Tempo de Relac Mediano - Pouco aumento limit...   4.933333  35.366667  \n",
       "2. Tempo de Relac Mediano - Aumento limite medi...   4.933333  35.366667  \n",
       "2. Tempo de Relac Mediano - Pouco aumento limit...   4.933333  35.366667  \n",
       "3. Tempo de Relac Mediano - Aumento limite medi...   4.933333  35.366667  \n",
       "3. Tempo de Relac Mediano - Pouco aumento limit...   4.933333  35.366667  \n",
       "4. Tempo de Relac Mediano - Alto aumento limite...   4.933333  35.366667  \n",
       "5. Tempo de Relac Mediano - Aumento limite medi...   4.933333  35.366667  "
      ]
     },
     "execution_count": 38,
     "metadata": {},
     "output_type": "execute_result"
    }
   ],
   "source": [
    "df['meses_relacionamento'] = df['tempo_relacionamento'] / 30\n",
    "\n",
    "df[['segmento_final', 'meses_relacionamento']].groupby('segmento_final').agg({'meses_relacionamento':['mean', 'min', 'max']})"
   ]
  },
  {
   "cell_type": "code",
   "execution_count": 39,
   "metadata": {
    "tags": []
   },
   "outputs": [
    {
     "data": {
      "text/html": [
       "<div>\n",
       "<style scoped>\n",
       "    .dataframe tbody tr th:only-of-type {\n",
       "        vertical-align: middle;\n",
       "    }\n",
       "\n",
       "    .dataframe tbody tr th {\n",
       "        vertical-align: top;\n",
       "    }\n",
       "\n",
       "    .dataframe thead tr th {\n",
       "        text-align: left;\n",
       "    }\n",
       "\n",
       "    .dataframe thead tr:last-of-type th {\n",
       "        text-align: right;\n",
       "    }\n",
       "</style>\n",
       "<table border=\"1\" class=\"dataframe\">\n",
       "  <thead>\n",
       "    <tr>\n",
       "      <th></th>\n",
       "      <th colspan=\"3\" halign=\"left\">ganho_limite</th>\n",
       "    </tr>\n",
       "    <tr>\n",
       "      <th></th>\n",
       "      <th>mean</th>\n",
       "      <th>min</th>\n",
       "      <th>max</th>\n",
       "    </tr>\n",
       "    <tr>\n",
       "      <th>segmento_final</th>\n",
       "      <th></th>\n",
       "      <th></th>\n",
       "      <th></th>\n",
       "    </tr>\n",
       "  </thead>\n",
       "  <tbody>\n",
       "    <tr>\n",
       "      <th>0. Alto Tempo de Relac - Aumento limite mediano - Alto Movimento Conta</th>\n",
       "      <td>415.426603</td>\n",
       "      <td>10.0</td>\n",
       "      <td>740.0</td>\n",
       "    </tr>\n",
       "    <tr>\n",
       "      <th>0. Alto Tempo de Relac - Pouco Movimento Conta</th>\n",
       "      <td>2092.182015</td>\n",
       "      <td>-7400.0</td>\n",
       "      <td>98300.0</td>\n",
       "    </tr>\n",
       "    <tr>\n",
       "      <th>0. Pouco tempo de relacionamento</th>\n",
       "      <td>20.574066</td>\n",
       "      <td>-9100.0</td>\n",
       "      <td>20200.0</td>\n",
       "    </tr>\n",
       "    <tr>\n",
       "      <th>1. Alto Tempo de Relac - Alto aumento de limite - Alto Movimento Conta</th>\n",
       "      <td>5318.948182</td>\n",
       "      <td>744.0</td>\n",
       "      <td>29055.0</td>\n",
       "    </tr>\n",
       "    <tr>\n",
       "      <th>1. Alto Tempo de Relac - Pouco aumento limite - Alto Movimento Conta</th>\n",
       "      <td>-0.276870</td>\n",
       "      <td>-3000.0</td>\n",
       "      <td>0.0</td>\n",
       "    </tr>\n",
       "    <tr>\n",
       "      <th>1. Tempo de Relac Mediano - Pouco aumento limite - Pouco Mov Conta - Baixo SOW</th>\n",
       "      <td>-19.587259</td>\n",
       "      <td>-9900.0</td>\n",
       "      <td>0.0</td>\n",
       "    </tr>\n",
       "    <tr>\n",
       "      <th>2. Tempo de Relac Mediano - Aumento limite mediano - Baixo Movimento Conta</th>\n",
       "      <td>2456.784161</td>\n",
       "      <td>743.0</td>\n",
       "      <td>199000.0</td>\n",
       "    </tr>\n",
       "    <tr>\n",
       "      <th>2. Tempo de Relac Mediano - Pouco aumento limite - Pouco Mov Conta - Alto SOW</th>\n",
       "      <td>-2.565749</td>\n",
       "      <td>-3700.0</td>\n",
       "      <td>0.0</td>\n",
       "    </tr>\n",
       "    <tr>\n",
       "      <th>3. Tempo de Relac Mediano - Aumento limite mediano - Pouco Movimento Conta</th>\n",
       "      <td>362.237318</td>\n",
       "      <td>10.0</td>\n",
       "      <td>740.0</td>\n",
       "    </tr>\n",
       "    <tr>\n",
       "      <th>3. Tempo de Relac Mediano - Pouco aumento limite - Alto Movimento Conta</th>\n",
       "      <td>-7.745849</td>\n",
       "      <td>-9800.0</td>\n",
       "      <td>0.0</td>\n",
       "    </tr>\n",
       "    <tr>\n",
       "      <th>4. Tempo de Relac Mediano - Alto aumento limite - Alto Movimento Conta</th>\n",
       "      <td>2178.905284</td>\n",
       "      <td>743.0</td>\n",
       "      <td>67460.0</td>\n",
       "    </tr>\n",
       "    <tr>\n",
       "      <th>5. Tempo de Relac Mediano - Aumento limite mediano - Alto Movimento Conta</th>\n",
       "      <td>355.059597</td>\n",
       "      <td>10.0</td>\n",
       "      <td>740.0</td>\n",
       "    </tr>\n",
       "  </tbody>\n",
       "</table>\n",
       "</div>"
      ],
      "text/plain": [
       "                                                   ganho_limite          \\\n",
       "                                                           mean     min   \n",
       "segmento_final                                                            \n",
       "0. Alto Tempo de Relac - Aumento limite mediano...   415.426603    10.0   \n",
       "0. Alto Tempo de Relac - Pouco Movimento Conta      2092.182015 -7400.0   \n",
       "0. Pouco tempo de relacionamento                      20.574066 -9100.0   \n",
       "1. Alto Tempo de Relac - Alto aumento de limite...  5318.948182   744.0   \n",
       "1. Alto Tempo de Relac - Pouco aumento limite -...    -0.276870 -3000.0   \n",
       "1. Tempo de Relac Mediano - Pouco aumento limit...   -19.587259 -9900.0   \n",
       "2. Tempo de Relac Mediano - Aumento limite medi...  2456.784161   743.0   \n",
       "2. Tempo de Relac Mediano - Pouco aumento limit...    -2.565749 -3700.0   \n",
       "3. Tempo de Relac Mediano - Aumento limite medi...   362.237318    10.0   \n",
       "3. Tempo de Relac Mediano - Pouco aumento limit...    -7.745849 -9800.0   \n",
       "4. Tempo de Relac Mediano - Alto aumento limite...  2178.905284   743.0   \n",
       "5. Tempo de Relac Mediano - Aumento limite medi...   355.059597    10.0   \n",
       "\n",
       "                                                              \n",
       "                                                         max  \n",
       "segmento_final                                                \n",
       "0. Alto Tempo de Relac - Aumento limite mediano...     740.0  \n",
       "0. Alto Tempo de Relac - Pouco Movimento Conta       98300.0  \n",
       "0. Pouco tempo de relacionamento                     20200.0  \n",
       "1. Alto Tempo de Relac - Alto aumento de limite...   29055.0  \n",
       "1. Alto Tempo de Relac - Pouco aumento limite -...       0.0  \n",
       "1. Tempo de Relac Mediano - Pouco aumento limit...       0.0  \n",
       "2. Tempo de Relac Mediano - Aumento limite medi...  199000.0  \n",
       "2. Tempo de Relac Mediano - Pouco aumento limit...       0.0  \n",
       "3. Tempo de Relac Mediano - Aumento limite medi...     740.0  \n",
       "3. Tempo de Relac Mediano - Pouco aumento limit...       0.0  \n",
       "4. Tempo de Relac Mediano - Alto aumento limite...   67460.0  \n",
       "5. Tempo de Relac Mediano - Aumento limite medi...     740.0  "
      ]
     },
     "execution_count": 39,
     "metadata": {},
     "output_type": "execute_result"
    }
   ],
   "source": [
    "df[['segmento_final', 'ganho_limite']].groupby('segmento_final').agg({'ganho_limite':['mean', 'min', 'max']})"
   ]
  },
  {
   "cell_type": "code",
   "execution_count": 40,
   "metadata": {
    "tags": []
   },
   "outputs": [
    {
     "data": {
      "text/html": [
       "<div>\n",
       "<style scoped>\n",
       "    .dataframe tbody tr th:only-of-type {\n",
       "        vertical-align: middle;\n",
       "    }\n",
       "\n",
       "    .dataframe tbody tr th {\n",
       "        vertical-align: top;\n",
       "    }\n",
       "\n",
       "    .dataframe thead tr th {\n",
       "        text-align: left;\n",
       "    }\n",
       "\n",
       "    .dataframe thead tr:last-of-type th {\n",
       "        text-align: right;\n",
       "    }\n",
       "</style>\n",
       "<table border=\"1\" class=\"dataframe\">\n",
       "  <thead>\n",
       "    <tr>\n",
       "      <th></th>\n",
       "      <th colspan=\"3\" halign=\"left\">nr_trans_mov_conta</th>\n",
       "    </tr>\n",
       "    <tr>\n",
       "      <th></th>\n",
       "      <th>mean</th>\n",
       "      <th>min</th>\n",
       "      <th>max</th>\n",
       "    </tr>\n",
       "    <tr>\n",
       "      <th>segmento_final</th>\n",
       "      <th></th>\n",
       "      <th></th>\n",
       "      <th></th>\n",
       "    </tr>\n",
       "  </thead>\n",
       "  <tbody>\n",
       "    <tr>\n",
       "      <th>0. Alto Tempo de Relac - Aumento limite mediano - Alto Movimento Conta</th>\n",
       "      <td>91.581527</td>\n",
       "      <td>17.0</td>\n",
       "      <td>8472.0</td>\n",
       "    </tr>\n",
       "    <tr>\n",
       "      <th>0. Alto Tempo de Relac - Pouco Movimento Conta</th>\n",
       "      <td>2.732010</td>\n",
       "      <td>0.0</td>\n",
       "      <td>16.0</td>\n",
       "    </tr>\n",
       "    <tr>\n",
       "      <th>0. Pouco tempo de relacionamento</th>\n",
       "      <td>7.457326</td>\n",
       "      <td>0.0</td>\n",
       "      <td>6027.0</td>\n",
       "    </tr>\n",
       "    <tr>\n",
       "      <th>1. Alto Tempo de Relac - Alto aumento de limite - Alto Movimento Conta</th>\n",
       "      <td>87.705809</td>\n",
       "      <td>17.0</td>\n",
       "      <td>22100.0</td>\n",
       "    </tr>\n",
       "    <tr>\n",
       "      <th>1. Alto Tempo de Relac - Pouco aumento limite - Alto Movimento Conta</th>\n",
       "      <td>82.430247</td>\n",
       "      <td>17.0</td>\n",
       "      <td>20913.0</td>\n",
       "    </tr>\n",
       "    <tr>\n",
       "      <th>1. Tempo de Relac Mediano - Pouco aumento limite - Pouco Mov Conta - Baixo SOW</th>\n",
       "      <td>2.597240</td>\n",
       "      <td>0.0</td>\n",
       "      <td>16.0</td>\n",
       "    </tr>\n",
       "    <tr>\n",
       "      <th>2. Tempo de Relac Mediano - Aumento limite mediano - Baixo Movimento Conta</th>\n",
       "      <td>4.914925</td>\n",
       "      <td>0.0</td>\n",
       "      <td>16.0</td>\n",
       "    </tr>\n",
       "    <tr>\n",
       "      <th>2. Tempo de Relac Mediano - Pouco aumento limite - Pouco Mov Conta - Alto SOW</th>\n",
       "      <td>5.994156</td>\n",
       "      <td>0.0</td>\n",
       "      <td>16.0</td>\n",
       "    </tr>\n",
       "    <tr>\n",
       "      <th>3. Tempo de Relac Mediano - Aumento limite mediano - Pouco Movimento Conta</th>\n",
       "      <td>5.825155</td>\n",
       "      <td>0.0</td>\n",
       "      <td>16.0</td>\n",
       "    </tr>\n",
       "    <tr>\n",
       "      <th>3. Tempo de Relac Mediano - Pouco aumento limite - Alto Movimento Conta</th>\n",
       "      <td>76.835857</td>\n",
       "      <td>17.0</td>\n",
       "      <td>39064.0</td>\n",
       "    </tr>\n",
       "    <tr>\n",
       "      <th>4. Tempo de Relac Mediano - Alto aumento limite - Alto Movimento Conta</th>\n",
       "      <td>82.747965</td>\n",
       "      <td>17.0</td>\n",
       "      <td>18315.0</td>\n",
       "    </tr>\n",
       "    <tr>\n",
       "      <th>5. Tempo de Relac Mediano - Aumento limite mediano - Alto Movimento Conta</th>\n",
       "      <td>78.954408</td>\n",
       "      <td>17.0</td>\n",
       "      <td>9339.0</td>\n",
       "    </tr>\n",
       "  </tbody>\n",
       "</table>\n",
       "</div>"
      ],
      "text/plain": [
       "                                                   nr_trans_mov_conta        \\\n",
       "                                                                 mean   min   \n",
       "segmento_final                                                                \n",
       "0. Alto Tempo de Relac - Aumento limite mediano...          91.581527  17.0   \n",
       "0. Alto Tempo de Relac - Pouco Movimento Conta               2.732010   0.0   \n",
       "0. Pouco tempo de relacionamento                             7.457326   0.0   \n",
       "1. Alto Tempo de Relac - Alto aumento de limite...          87.705809  17.0   \n",
       "1. Alto Tempo de Relac - Pouco aumento limite -...          82.430247  17.0   \n",
       "1. Tempo de Relac Mediano - Pouco aumento limit...           2.597240   0.0   \n",
       "2. Tempo de Relac Mediano - Aumento limite medi...           4.914925   0.0   \n",
       "2. Tempo de Relac Mediano - Pouco aumento limit...           5.994156   0.0   \n",
       "3. Tempo de Relac Mediano - Aumento limite medi...           5.825155   0.0   \n",
       "3. Tempo de Relac Mediano - Pouco aumento limit...          76.835857  17.0   \n",
       "4. Tempo de Relac Mediano - Alto aumento limite...          82.747965  17.0   \n",
       "5. Tempo de Relac Mediano - Aumento limite medi...          78.954408  17.0   \n",
       "\n",
       "                                                             \n",
       "                                                        max  \n",
       "segmento_final                                               \n",
       "0. Alto Tempo de Relac - Aumento limite mediano...   8472.0  \n",
       "0. Alto Tempo de Relac - Pouco Movimento Conta         16.0  \n",
       "0. Pouco tempo de relacionamento                     6027.0  \n",
       "1. Alto Tempo de Relac - Alto aumento de limite...  22100.0  \n",
       "1. Alto Tempo de Relac - Pouco aumento limite -...  20913.0  \n",
       "1. Tempo de Relac Mediano - Pouco aumento limit...     16.0  \n",
       "2. Tempo de Relac Mediano - Aumento limite medi...     16.0  \n",
       "2. Tempo de Relac Mediano - Pouco aumento limit...     16.0  \n",
       "3. Tempo de Relac Mediano - Aumento limite medi...     16.0  \n",
       "3. Tempo de Relac Mediano - Pouco aumento limit...  39064.0  \n",
       "4. Tempo de Relac Mediano - Alto aumento limite...  18315.0  \n",
       "5. Tempo de Relac Mediano - Aumento limite medi...   9339.0  "
      ]
     },
     "execution_count": 40,
     "metadata": {},
     "output_type": "execute_result"
    }
   ],
   "source": [
    "df[['segmento_final', 'nr_trans_mov_conta']].groupby('segmento_final').agg({'nr_trans_mov_conta':['mean', 'min', 'max']})"
   ]
  },
  {
   "cell_type": "code",
   "execution_count": 41,
   "metadata": {
    "tags": []
   },
   "outputs": [
    {
     "data": {
      "text/html": [
       "<div>\n",
       "<style scoped>\n",
       "    .dataframe tbody tr th:only-of-type {\n",
       "        vertical-align: middle;\n",
       "    }\n",
       "\n",
       "    .dataframe tbody tr th {\n",
       "        vertical-align: top;\n",
       "    }\n",
       "\n",
       "    .dataframe thead tr th {\n",
       "        text-align: left;\n",
       "    }\n",
       "\n",
       "    .dataframe thead tr:last-of-type th {\n",
       "        text-align: right;\n",
       "    }\n",
       "</style>\n",
       "<table border=\"1\" class=\"dataframe\">\n",
       "  <thead>\n",
       "    <tr>\n",
       "      <th></th>\n",
       "      <th colspan=\"3\" halign=\"left\">share_of_wallet</th>\n",
       "    </tr>\n",
       "    <tr>\n",
       "      <th></th>\n",
       "      <th>mean</th>\n",
       "      <th>min</th>\n",
       "      <th>max</th>\n",
       "    </tr>\n",
       "    <tr>\n",
       "      <th>segmento_final</th>\n",
       "      <th></th>\n",
       "      <th></th>\n",
       "      <th></th>\n",
       "    </tr>\n",
       "  </thead>\n",
       "  <tbody>\n",
       "    <tr>\n",
       "      <th>0. Alto Tempo de Relac - Aumento limite mediano - Alto Movimento Conta</th>\n",
       "      <td>0.420386</td>\n",
       "      <td>0.000000</td>\n",
       "      <td>1.000000</td>\n",
       "    </tr>\n",
       "    <tr>\n",
       "      <th>0. Alto Tempo de Relac - Pouco Movimento Conta</th>\n",
       "      <td>0.295107</td>\n",
       "      <td>0.000000</td>\n",
       "      <td>1.000000</td>\n",
       "    </tr>\n",
       "    <tr>\n",
       "      <th>0. Pouco tempo de relacionamento</th>\n",
       "      <td>0.149574</td>\n",
       "      <td>0.000000</td>\n",
       "      <td>1.000000</td>\n",
       "    </tr>\n",
       "    <tr>\n",
       "      <th>1. Alto Tempo de Relac - Alto aumento de limite - Alto Movimento Conta</th>\n",
       "      <td>0.504439</td>\n",
       "      <td>0.000000</td>\n",
       "      <td>1.000000</td>\n",
       "    </tr>\n",
       "    <tr>\n",
       "      <th>1. Alto Tempo de Relac - Pouco aumento limite - Alto Movimento Conta</th>\n",
       "      <td>0.501518</td>\n",
       "      <td>0.000000</td>\n",
       "      <td>1.000000</td>\n",
       "    </tr>\n",
       "    <tr>\n",
       "      <th>1. Tempo de Relac Mediano - Pouco aumento limite - Pouco Mov Conta - Baixo SOW</th>\n",
       "      <td>0.055378</td>\n",
       "      <td>0.000000</td>\n",
       "      <td>0.237432</td>\n",
       "    </tr>\n",
       "    <tr>\n",
       "      <th>2. Tempo de Relac Mediano - Aumento limite mediano - Baixo Movimento Conta</th>\n",
       "      <td>0.326148</td>\n",
       "      <td>0.000000</td>\n",
       "      <td>1.000000</td>\n",
       "    </tr>\n",
       "    <tr>\n",
       "      <th>2. Tempo de Relac Mediano - Pouco aumento limite - Pouco Mov Conta - Alto SOW</th>\n",
       "      <td>0.457295</td>\n",
       "      <td>0.237432</td>\n",
       "      <td>1.000000</td>\n",
       "    </tr>\n",
       "    <tr>\n",
       "      <th>3. Tempo de Relac Mediano - Aumento limite mediano - Pouco Movimento Conta</th>\n",
       "      <td>0.306406</td>\n",
       "      <td>0.000000</td>\n",
       "      <td>1.000000</td>\n",
       "    </tr>\n",
       "    <tr>\n",
       "      <th>3. Tempo de Relac Mediano - Pouco aumento limite - Alto Movimento Conta</th>\n",
       "      <td>0.373499</td>\n",
       "      <td>0.000000</td>\n",
       "      <td>1.000000</td>\n",
       "    </tr>\n",
       "    <tr>\n",
       "      <th>4. Tempo de Relac Mediano - Alto aumento limite - Alto Movimento Conta</th>\n",
       "      <td>0.413991</td>\n",
       "      <td>0.000000</td>\n",
       "      <td>1.000000</td>\n",
       "    </tr>\n",
       "    <tr>\n",
       "      <th>5. Tempo de Relac Mediano - Aumento limite mediano - Alto Movimento Conta</th>\n",
       "      <td>0.410588</td>\n",
       "      <td>0.000000</td>\n",
       "      <td>1.000000</td>\n",
       "    </tr>\n",
       "  </tbody>\n",
       "</table>\n",
       "</div>"
      ],
      "text/plain": [
       "                                                   share_of_wallet            \\\n",
       "                                                              mean       min   \n",
       "segmento_final                                                                 \n",
       "0. Alto Tempo de Relac - Aumento limite mediano...        0.420386  0.000000   \n",
       "0. Alto Tempo de Relac - Pouco Movimento Conta            0.295107  0.000000   \n",
       "0. Pouco tempo de relacionamento                          0.149574  0.000000   \n",
       "1. Alto Tempo de Relac - Alto aumento de limite...        0.504439  0.000000   \n",
       "1. Alto Tempo de Relac - Pouco aumento limite -...        0.501518  0.000000   \n",
       "1. Tempo de Relac Mediano - Pouco aumento limit...        0.055378  0.000000   \n",
       "2. Tempo de Relac Mediano - Aumento limite medi...        0.326148  0.000000   \n",
       "2. Tempo de Relac Mediano - Pouco aumento limit...        0.457295  0.237432   \n",
       "3. Tempo de Relac Mediano - Aumento limite medi...        0.306406  0.000000   \n",
       "3. Tempo de Relac Mediano - Pouco aumento limit...        0.373499  0.000000   \n",
       "4. Tempo de Relac Mediano - Alto aumento limite...        0.413991  0.000000   \n",
       "5. Tempo de Relac Mediano - Aumento limite medi...        0.410588  0.000000   \n",
       "\n",
       "                                                              \n",
       "                                                         max  \n",
       "segmento_final                                                \n",
       "0. Alto Tempo de Relac - Aumento limite mediano...  1.000000  \n",
       "0. Alto Tempo de Relac - Pouco Movimento Conta      1.000000  \n",
       "0. Pouco tempo de relacionamento                    1.000000  \n",
       "1. Alto Tempo de Relac - Alto aumento de limite...  1.000000  \n",
       "1. Alto Tempo de Relac - Pouco aumento limite -...  1.000000  \n",
       "1. Tempo de Relac Mediano - Pouco aumento limit...  0.237432  \n",
       "2. Tempo de Relac Mediano - Aumento limite medi...  1.000000  \n",
       "2. Tempo de Relac Mediano - Pouco aumento limit...  1.000000  \n",
       "3. Tempo de Relac Mediano - Aumento limite medi...  1.000000  \n",
       "3. Tempo de Relac Mediano - Pouco aumento limit...  1.000000  \n",
       "4. Tempo de Relac Mediano - Alto aumento limite...  1.000000  \n",
       "5. Tempo de Relac Mediano - Aumento limite medi...  1.000000  "
      ]
     },
     "execution_count": 41,
     "metadata": {},
     "output_type": "execute_result"
    }
   ],
   "source": [
    "df[['segmento_final', 'share_of_wallet']].groupby('segmento_final').agg({'share_of_wallet':['mean', 'min', 'max']})"
   ]
  },
  {
   "cell_type": "code",
   "execution_count": null,
   "metadata": {},
   "outputs": [],
   "source": [
    "'''\n",
    "PROXIMOS PASSOS:\n",
    "\n",
    "- CRUZAR COM BASE DE PESQUISA\n",
    "- POLIS\n",
    "\n",
    "'''\n",
    "\n"
   ]
  },
  {
   "cell_type": "code",
   "execution_count": 44,
   "metadata": {
    "tags": []
   },
   "outputs": [
    {
     "data": {
      "text/plain": [
       "{'paths': ['s3://data-athena-query-result-will-prod/customer.segmentacao_mgm.csv/9a116e945a7d453595f2544528791937.csv'],\n",
       " 'partitions_values': {}}"
      ]
     },
     "execution_count": 44,
     "metadata": {},
     "output_type": "execute_result"
    }
   ],
   "source": [
    "wr.s3.to_csv(\n",
    "    df=df,\n",
    "    path='s3://data-athena-query-result-will-prod/customer.segmentacao_mgm.csv',\n",
    "    dataset=True, \n",
    "    mode=\"overwrite\",\n",
    "    database='customer_sandbox_zone',  \n",
    "    table='segmentacao_mgm'  \n",
    ")"
   ]
  }
 ],
 "metadata": {
  "availableInstances": [
   {
    "_defaultOrder": 0,
    "_isFastLaunch": true,
    "category": "General purpose",
    "gpuNum": 0,
    "hideHardwareSpecs": false,
    "memoryGiB": 4,
    "name": "ml.t3.medium",
    "vcpuNum": 2
   },
   {
    "_defaultOrder": 1,
    "_isFastLaunch": false,
    "category": "General purpose",
    "gpuNum": 0,
    "hideHardwareSpecs": false,
    "memoryGiB": 8,
    "name": "ml.t3.large",
    "vcpuNum": 2
   },
   {
    "_defaultOrder": 2,
    "_isFastLaunch": false,
    "category": "General purpose",
    "gpuNum": 0,
    "hideHardwareSpecs": false,
    "memoryGiB": 16,
    "name": "ml.t3.xlarge",
    "vcpuNum": 4
   },
   {
    "_defaultOrder": 3,
    "_isFastLaunch": false,
    "category": "General purpose",
    "gpuNum": 0,
    "hideHardwareSpecs": false,
    "memoryGiB": 32,
    "name": "ml.t3.2xlarge",
    "vcpuNum": 8
   },
   {
    "_defaultOrder": 4,
    "_isFastLaunch": true,
    "category": "General purpose",
    "gpuNum": 0,
    "hideHardwareSpecs": false,
    "memoryGiB": 8,
    "name": "ml.m5.large",
    "vcpuNum": 2
   },
   {
    "_defaultOrder": 5,
    "_isFastLaunch": false,
    "category": "General purpose",
    "gpuNum": 0,
    "hideHardwareSpecs": false,
    "memoryGiB": 16,
    "name": "ml.m5.xlarge",
    "vcpuNum": 4
   },
   {
    "_defaultOrder": 6,
    "_isFastLaunch": false,
    "category": "General purpose",
    "gpuNum": 0,
    "hideHardwareSpecs": false,
    "memoryGiB": 32,
    "name": "ml.m5.2xlarge",
    "vcpuNum": 8
   },
   {
    "_defaultOrder": 7,
    "_isFastLaunch": false,
    "category": "General purpose",
    "gpuNum": 0,
    "hideHardwareSpecs": false,
    "memoryGiB": 64,
    "name": "ml.m5.4xlarge",
    "vcpuNum": 16
   },
   {
    "_defaultOrder": 8,
    "_isFastLaunch": false,
    "category": "General purpose",
    "gpuNum": 0,
    "hideHardwareSpecs": false,
    "memoryGiB": 128,
    "name": "ml.m5.8xlarge",
    "vcpuNum": 32
   },
   {
    "_defaultOrder": 9,
    "_isFastLaunch": false,
    "category": "General purpose",
    "gpuNum": 0,
    "hideHardwareSpecs": false,
    "memoryGiB": 192,
    "name": "ml.m5.12xlarge",
    "vcpuNum": 48
   },
   {
    "_defaultOrder": 10,
    "_isFastLaunch": false,
    "category": "General purpose",
    "gpuNum": 0,
    "hideHardwareSpecs": false,
    "memoryGiB": 256,
    "name": "ml.m5.16xlarge",
    "vcpuNum": 64
   },
   {
    "_defaultOrder": 11,
    "_isFastLaunch": false,
    "category": "General purpose",
    "gpuNum": 0,
    "hideHardwareSpecs": false,
    "memoryGiB": 384,
    "name": "ml.m5.24xlarge",
    "vcpuNum": 96
   },
   {
    "_defaultOrder": 12,
    "_isFastLaunch": false,
    "category": "General purpose",
    "gpuNum": 0,
    "hideHardwareSpecs": false,
    "memoryGiB": 8,
    "name": "ml.m5d.large",
    "vcpuNum": 2
   },
   {
    "_defaultOrder": 13,
    "_isFastLaunch": false,
    "category": "General purpose",
    "gpuNum": 0,
    "hideHardwareSpecs": false,
    "memoryGiB": 16,
    "name": "ml.m5d.xlarge",
    "vcpuNum": 4
   },
   {
    "_defaultOrder": 14,
    "_isFastLaunch": false,
    "category": "General purpose",
    "gpuNum": 0,
    "hideHardwareSpecs": false,
    "memoryGiB": 32,
    "name": "ml.m5d.2xlarge",
    "vcpuNum": 8
   },
   {
    "_defaultOrder": 15,
    "_isFastLaunch": false,
    "category": "General purpose",
    "gpuNum": 0,
    "hideHardwareSpecs": false,
    "memoryGiB": 64,
    "name": "ml.m5d.4xlarge",
    "vcpuNum": 16
   },
   {
    "_defaultOrder": 16,
    "_isFastLaunch": false,
    "category": "General purpose",
    "gpuNum": 0,
    "hideHardwareSpecs": false,
    "memoryGiB": 128,
    "name": "ml.m5d.8xlarge",
    "vcpuNum": 32
   },
   {
    "_defaultOrder": 17,
    "_isFastLaunch": false,
    "category": "General purpose",
    "gpuNum": 0,
    "hideHardwareSpecs": false,
    "memoryGiB": 192,
    "name": "ml.m5d.12xlarge",
    "vcpuNum": 48
   },
   {
    "_defaultOrder": 18,
    "_isFastLaunch": false,
    "category": "General purpose",
    "gpuNum": 0,
    "hideHardwareSpecs": false,
    "memoryGiB": 256,
    "name": "ml.m5d.16xlarge",
    "vcpuNum": 64
   },
   {
    "_defaultOrder": 19,
    "_isFastLaunch": false,
    "category": "General purpose",
    "gpuNum": 0,
    "hideHardwareSpecs": false,
    "memoryGiB": 384,
    "name": "ml.m5d.24xlarge",
    "vcpuNum": 96
   },
   {
    "_defaultOrder": 20,
    "_isFastLaunch": false,
    "category": "General purpose",
    "gpuNum": 0,
    "hideHardwareSpecs": true,
    "memoryGiB": 0,
    "name": "ml.geospatial.interactive",
    "supportedImageNames": [
     "sagemaker-geospatial-v1-0"
    ],
    "vcpuNum": 0
   },
   {
    "_defaultOrder": 21,
    "_isFastLaunch": true,
    "category": "Compute optimized",
    "gpuNum": 0,
    "hideHardwareSpecs": false,
    "memoryGiB": 4,
    "name": "ml.c5.large",
    "vcpuNum": 2
   },
   {
    "_defaultOrder": 22,
    "_isFastLaunch": false,
    "category": "Compute optimized",
    "gpuNum": 0,
    "hideHardwareSpecs": false,
    "memoryGiB": 8,
    "name": "ml.c5.xlarge",
    "vcpuNum": 4
   },
   {
    "_defaultOrder": 23,
    "_isFastLaunch": false,
    "category": "Compute optimized",
    "gpuNum": 0,
    "hideHardwareSpecs": false,
    "memoryGiB": 16,
    "name": "ml.c5.2xlarge",
    "vcpuNum": 8
   },
   {
    "_defaultOrder": 24,
    "_isFastLaunch": false,
    "category": "Compute optimized",
    "gpuNum": 0,
    "hideHardwareSpecs": false,
    "memoryGiB": 32,
    "name": "ml.c5.4xlarge",
    "vcpuNum": 16
   },
   {
    "_defaultOrder": 25,
    "_isFastLaunch": false,
    "category": "Compute optimized",
    "gpuNum": 0,
    "hideHardwareSpecs": false,
    "memoryGiB": 72,
    "name": "ml.c5.9xlarge",
    "vcpuNum": 36
   },
   {
    "_defaultOrder": 26,
    "_isFastLaunch": false,
    "category": "Compute optimized",
    "gpuNum": 0,
    "hideHardwareSpecs": false,
    "memoryGiB": 96,
    "name": "ml.c5.12xlarge",
    "vcpuNum": 48
   },
   {
    "_defaultOrder": 27,
    "_isFastLaunch": false,
    "category": "Compute optimized",
    "gpuNum": 0,
    "hideHardwareSpecs": false,
    "memoryGiB": 144,
    "name": "ml.c5.18xlarge",
    "vcpuNum": 72
   },
   {
    "_defaultOrder": 28,
    "_isFastLaunch": false,
    "category": "Compute optimized",
    "gpuNum": 0,
    "hideHardwareSpecs": false,
    "memoryGiB": 192,
    "name": "ml.c5.24xlarge",
    "vcpuNum": 96
   },
   {
    "_defaultOrder": 29,
    "_isFastLaunch": true,
    "category": "Accelerated computing",
    "gpuNum": 1,
    "hideHardwareSpecs": false,
    "memoryGiB": 16,
    "name": "ml.g4dn.xlarge",
    "vcpuNum": 4
   },
   {
    "_defaultOrder": 30,
    "_isFastLaunch": false,
    "category": "Accelerated computing",
    "gpuNum": 1,
    "hideHardwareSpecs": false,
    "memoryGiB": 32,
    "name": "ml.g4dn.2xlarge",
    "vcpuNum": 8
   },
   {
    "_defaultOrder": 31,
    "_isFastLaunch": false,
    "category": "Accelerated computing",
    "gpuNum": 1,
    "hideHardwareSpecs": false,
    "memoryGiB": 64,
    "name": "ml.g4dn.4xlarge",
    "vcpuNum": 16
   },
   {
    "_defaultOrder": 32,
    "_isFastLaunch": false,
    "category": "Accelerated computing",
    "gpuNum": 1,
    "hideHardwareSpecs": false,
    "memoryGiB": 128,
    "name": "ml.g4dn.8xlarge",
    "vcpuNum": 32
   },
   {
    "_defaultOrder": 33,
    "_isFastLaunch": false,
    "category": "Accelerated computing",
    "gpuNum": 4,
    "hideHardwareSpecs": false,
    "memoryGiB": 192,
    "name": "ml.g4dn.12xlarge",
    "vcpuNum": 48
   },
   {
    "_defaultOrder": 34,
    "_isFastLaunch": false,
    "category": "Accelerated computing",
    "gpuNum": 1,
    "hideHardwareSpecs": false,
    "memoryGiB": 256,
    "name": "ml.g4dn.16xlarge",
    "vcpuNum": 64
   },
   {
    "_defaultOrder": 35,
    "_isFastLaunch": false,
    "category": "Accelerated computing",
    "gpuNum": 1,
    "hideHardwareSpecs": false,
    "memoryGiB": 61,
    "name": "ml.p3.2xlarge",
    "vcpuNum": 8
   },
   {
    "_defaultOrder": 36,
    "_isFastLaunch": false,
    "category": "Accelerated computing",
    "gpuNum": 4,
    "hideHardwareSpecs": false,
    "memoryGiB": 244,
    "name": "ml.p3.8xlarge",
    "vcpuNum": 32
   },
   {
    "_defaultOrder": 37,
    "_isFastLaunch": false,
    "category": "Accelerated computing",
    "gpuNum": 8,
    "hideHardwareSpecs": false,
    "memoryGiB": 488,
    "name": "ml.p3.16xlarge",
    "vcpuNum": 64
   },
   {
    "_defaultOrder": 38,
    "_isFastLaunch": false,
    "category": "Accelerated computing",
    "gpuNum": 8,
    "hideHardwareSpecs": false,
    "memoryGiB": 768,
    "name": "ml.p3dn.24xlarge",
    "vcpuNum": 96
   },
   {
    "_defaultOrder": 39,
    "_isFastLaunch": false,
    "category": "Memory Optimized",
    "gpuNum": 0,
    "hideHardwareSpecs": false,
    "memoryGiB": 16,
    "name": "ml.r5.large",
    "vcpuNum": 2
   },
   {
    "_defaultOrder": 40,
    "_isFastLaunch": false,
    "category": "Memory Optimized",
    "gpuNum": 0,
    "hideHardwareSpecs": false,
    "memoryGiB": 32,
    "name": "ml.r5.xlarge",
    "vcpuNum": 4
   },
   {
    "_defaultOrder": 41,
    "_isFastLaunch": false,
    "category": "Memory Optimized",
    "gpuNum": 0,
    "hideHardwareSpecs": false,
    "memoryGiB": 64,
    "name": "ml.r5.2xlarge",
    "vcpuNum": 8
   },
   {
    "_defaultOrder": 42,
    "_isFastLaunch": false,
    "category": "Memory Optimized",
    "gpuNum": 0,
    "hideHardwareSpecs": false,
    "memoryGiB": 128,
    "name": "ml.r5.4xlarge",
    "vcpuNum": 16
   },
   {
    "_defaultOrder": 43,
    "_isFastLaunch": false,
    "category": "Memory Optimized",
    "gpuNum": 0,
    "hideHardwareSpecs": false,
    "memoryGiB": 256,
    "name": "ml.r5.8xlarge",
    "vcpuNum": 32
   },
   {
    "_defaultOrder": 44,
    "_isFastLaunch": false,
    "category": "Memory Optimized",
    "gpuNum": 0,
    "hideHardwareSpecs": false,
    "memoryGiB": 384,
    "name": "ml.r5.12xlarge",
    "vcpuNum": 48
   },
   {
    "_defaultOrder": 45,
    "_isFastLaunch": false,
    "category": "Memory Optimized",
    "gpuNum": 0,
    "hideHardwareSpecs": false,
    "memoryGiB": 512,
    "name": "ml.r5.16xlarge",
    "vcpuNum": 64
   },
   {
    "_defaultOrder": 46,
    "_isFastLaunch": false,
    "category": "Memory Optimized",
    "gpuNum": 0,
    "hideHardwareSpecs": false,
    "memoryGiB": 768,
    "name": "ml.r5.24xlarge",
    "vcpuNum": 96
   },
   {
    "_defaultOrder": 47,
    "_isFastLaunch": false,
    "category": "Accelerated computing",
    "gpuNum": 1,
    "hideHardwareSpecs": false,
    "memoryGiB": 16,
    "name": "ml.g5.xlarge",
    "vcpuNum": 4
   },
   {
    "_defaultOrder": 48,
    "_isFastLaunch": false,
    "category": "Accelerated computing",
    "gpuNum": 1,
    "hideHardwareSpecs": false,
    "memoryGiB": 32,
    "name": "ml.g5.2xlarge",
    "vcpuNum": 8
   },
   {
    "_defaultOrder": 49,
    "_isFastLaunch": false,
    "category": "Accelerated computing",
    "gpuNum": 1,
    "hideHardwareSpecs": false,
    "memoryGiB": 64,
    "name": "ml.g5.4xlarge",
    "vcpuNum": 16
   },
   {
    "_defaultOrder": 50,
    "_isFastLaunch": false,
    "category": "Accelerated computing",
    "gpuNum": 1,
    "hideHardwareSpecs": false,
    "memoryGiB": 128,
    "name": "ml.g5.8xlarge",
    "vcpuNum": 32
   },
   {
    "_defaultOrder": 51,
    "_isFastLaunch": false,
    "category": "Accelerated computing",
    "gpuNum": 1,
    "hideHardwareSpecs": false,
    "memoryGiB": 256,
    "name": "ml.g5.16xlarge",
    "vcpuNum": 64
   },
   {
    "_defaultOrder": 52,
    "_isFastLaunch": false,
    "category": "Accelerated computing",
    "gpuNum": 4,
    "hideHardwareSpecs": false,
    "memoryGiB": 192,
    "name": "ml.g5.12xlarge",
    "vcpuNum": 48
   },
   {
    "_defaultOrder": 53,
    "_isFastLaunch": false,
    "category": "Accelerated computing",
    "gpuNum": 4,
    "hideHardwareSpecs": false,
    "memoryGiB": 384,
    "name": "ml.g5.24xlarge",
    "vcpuNum": 96
   },
   {
    "_defaultOrder": 54,
    "_isFastLaunch": false,
    "category": "Accelerated computing",
    "gpuNum": 8,
    "hideHardwareSpecs": false,
    "memoryGiB": 768,
    "name": "ml.g5.48xlarge",
    "vcpuNum": 192
   },
   {
    "_defaultOrder": 55,
    "_isFastLaunch": false,
    "category": "Accelerated computing",
    "gpuNum": 8,
    "hideHardwareSpecs": false,
    "memoryGiB": 1152,
    "name": "ml.p4d.24xlarge",
    "vcpuNum": 96
   },
   {
    "_defaultOrder": 56,
    "_isFastLaunch": false,
    "category": "Accelerated computing",
    "gpuNum": 8,
    "hideHardwareSpecs": false,
    "memoryGiB": 1152,
    "name": "ml.p4de.24xlarge",
    "vcpuNum": 96
   }
  ],
  "kernelspec": {
   "display_name": "Python 3 (Data Science 2.0)",
   "language": "python",
   "name": "python3__SAGEMAKER_INTERNAL__arn:aws:sagemaker:sa-east-1:782484402741:image/sagemaker-data-science-38"
  },
  "language_info": {
   "codemirror_mode": {
    "name": "ipython",
    "version": 3
   },
   "file_extension": ".py",
   "mimetype": "text/x-python",
   "name": "python",
   "nbconvert_exporter": "python",
   "pygments_lexer": "ipython3",
   "version": "3.8.13"
  }
 },
 "nbformat": 4,
 "nbformat_minor": 4
}
