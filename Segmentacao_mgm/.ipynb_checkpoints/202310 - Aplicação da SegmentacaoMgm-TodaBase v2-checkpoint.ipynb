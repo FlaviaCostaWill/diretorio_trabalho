{
 "cells": [
  {
   "cell_type": "code",
   "execution_count": 2,
   "metadata": {
    "tags": []
   },
   "outputs": [],
   "source": [
    "import pandas as pd\n",
    "import numpy as np\n",
    "import os as os\n",
    "import seaborn as sns\n",
    "import matplotlib.pyplot as plt\n",
    "import warnings\n",
    "\n",
    "warnings.simplefilter(action='ignore', category=FutureWarning)"
   ]
  },
  {
   "cell_type": "code",
   "execution_count": 3,
   "metadata": {
    "collapsed": true,
    "jupyter": {
     "outputs_hidden": true
    },
    "tags": []
   },
   "outputs": [
    {
     "name": "stdout",
     "output_type": "stream",
     "text": [
      "Collecting awswrangler\n",
      "  Obtaining dependency information for awswrangler from https://files.pythonhosted.org/packages/e4/7c/541cb80e2e9c62bdd3773cd7b9ce907e3b955191e6d2238c13dd86eab8ad/awswrangler-3.4.1-py3-none-any.whl.metadata\n",
      "  Using cached awswrangler-3.4.1-py3-none-any.whl.metadata (23 kB)\n",
      "Requirement already satisfied: boto3<2.0.0,>=1.20.32 in /opt/conda/lib/python3.8/site-packages (from awswrangler) (1.28.63)\n",
      "Requirement already satisfied: botocore<2.0.0,>=1.23.32 in /opt/conda/lib/python3.8/site-packages (from awswrangler) (1.31.63)\n",
      "Requirement already satisfied: numpy<2.0,>=1.18 in /opt/conda/lib/python3.8/site-packages (from awswrangler) (1.24.4)\n",
      "Collecting packaging<24.0,>=21.1 (from awswrangler)\n",
      "  Obtaining dependency information for packaging<24.0,>=21.1 from https://files.pythonhosted.org/packages/ec/1a/610693ac4ee14fcdf2d9bf3c493370e4f2ef7ae2e19217d7a237ff42367d/packaging-23.2-py3-none-any.whl.metadata\n",
      "  Using cached packaging-23.2-py3-none-any.whl.metadata (3.2 kB)\n",
      "Requirement already satisfied: pandas<3.0.0,>=1.2.0 in /opt/conda/lib/python3.8/site-packages (from awswrangler) (1.3.4)\n",
      "Requirement already satisfied: pyarrow>=7.0.0 in /opt/conda/lib/python3.8/site-packages (from awswrangler) (13.0.0)\n",
      "Requirement already satisfied: typing-extensions<5.0.0,>=4.4.0 in /opt/conda/lib/python3.8/site-packages (from awswrangler) (4.8.0)\n",
      "Requirement already satisfied: jmespath<2.0.0,>=0.7.1 in /opt/conda/lib/python3.8/site-packages (from boto3<2.0.0,>=1.20.32->awswrangler) (1.0.1)\n",
      "Requirement already satisfied: s3transfer<0.8.0,>=0.7.0 in /opt/conda/lib/python3.8/site-packages (from boto3<2.0.0,>=1.20.32->awswrangler) (0.7.0)\n",
      "Requirement already satisfied: python-dateutil<3.0.0,>=2.1 in /opt/conda/lib/python3.8/site-packages (from botocore<2.0.0,>=1.23.32->awswrangler) (2.8.2)\n",
      "Collecting urllib3<1.27,>=1.25.4 (from botocore<2.0.0,>=1.23.32->awswrangler)\n",
      "  Obtaining dependency information for urllib3<1.27,>=1.25.4 from https://files.pythonhosted.org/packages/b0/53/aa91e163dcfd1e5b82d8a890ecf13314e3e149c05270cc644581f77f17fd/urllib3-1.26.18-py2.py3-none-any.whl.metadata\n",
      "  Using cached urllib3-1.26.18-py2.py3-none-any.whl.metadata (48 kB)\n",
      "Requirement already satisfied: pytz>=2017.3 in /opt/conda/lib/python3.8/site-packages (from pandas<3.0.0,>=1.2.0->awswrangler) (2021.3)\n",
      "Requirement already satisfied: six>=1.5 in /opt/conda/lib/python3.8/site-packages (from python-dateutil<3.0.0,>=2.1->botocore<2.0.0,>=1.23.32->awswrangler) (1.16.0)\n",
      "Using cached awswrangler-3.4.1-py3-none-any.whl (396 kB)\n",
      "Using cached packaging-23.2-py3-none-any.whl (53 kB)\n",
      "Using cached urllib3-1.26.18-py2.py3-none-any.whl (143 kB)\n",
      "\u001b[33mDEPRECATION: pyodbc 4.0.0-unsupported has a non-standard version number. pip 23.3 will enforce this behaviour change. A possible replacement is to upgrade to a newer version of pyodbc or contact the author to suggest that they release a version with a conforming version number. Discussion can be found at https://github.com/pypa/pip/issues/12063\u001b[0m\u001b[33m\n",
      "\u001b[0mInstalling collected packages: urllib3, packaging, awswrangler\n",
      "  Attempting uninstall: urllib3\n",
      "    Found existing installation: urllib3 2.0.6\n",
      "    Uninstalling urllib3-2.0.6:\n",
      "      Successfully uninstalled urllib3-2.0.6\n",
      "  Attempting uninstall: packaging\n",
      "    Found existing installation: packaging 21.0\n",
      "    Uninstalling packaging-21.0:\n",
      "      Successfully uninstalled packaging-21.0\n",
      "\u001b[31mERROR: pip's dependency resolver does not currently take into account all the packages that are installed. This behaviour is the source of the following dependency conflicts.\n",
      "spyder 5.1.5 requires pyqt5<5.13, which is not installed.\n",
      "spyder 5.1.5 requires pyqtwebengine<5.13, which is not installed.\n",
      "jupyterlab 3.2.1 requires jupyter-server~=1.4, but you have jupyter-server 2.7.3 which is incompatible.\n",
      "jupyterlab 3.2.1 requires nbclassic~=0.2, but you have nbclassic 1.0.0 which is incompatible.\n",
      "jupyterlab-server 2.8.2 requires jupyter-server~=1.4, but you have jupyter-server 2.7.3 which is incompatible.\n",
      "sagemaker-datawrangler 0.4.3 requires sagemaker-data-insights==0.4.0, but you have sagemaker-data-insights 0.3.3 which is incompatible.\n",
      "spyder 5.1.5 requires pylint<2.10.0,>=2.5.0, but you have pylint 3.0.1 which is incompatible.\n",
      "spyder-kernels 2.1.3 requires jupyter-client<7,>=5.3.4, but you have jupyter-client 7.4.9 which is incompatible.\u001b[0m\u001b[31m\n",
      "\u001b[0mSuccessfully installed awswrangler-3.4.1 packaging-23.2 urllib3-1.26.18\n",
      "\u001b[33mWARNING: Running pip as the 'root' user can result in broken permissions and conflicting behaviour with the system package manager. It is recommended to use a virtual environment instead: https://pip.pypa.io/warnings/venv\u001b[0m\u001b[33m\n",
      "\u001b[0m\n",
      "\u001b[1m[\u001b[0m\u001b[34;49mnotice\u001b[0m\u001b[1;39;49m]\u001b[0m\u001b[39;49m A new release of pip is available: \u001b[0m\u001b[31;49m23.2.1\u001b[0m\u001b[39;49m -> \u001b[0m\u001b[32;49m23.3.1\u001b[0m\n",
      "\u001b[1m[\u001b[0m\u001b[34;49mnotice\u001b[0m\u001b[1;39;49m]\u001b[0m\u001b[39;49m To update, run: \u001b[0m\u001b[32;49mpip install --upgrade pip\u001b[0m\n"
     ]
    }
   ],
   "source": [
    "!pip install awswrangler\n",
    "\n",
    "import awswrangler as wr"
   ]
  },
  {
   "cell_type": "code",
   "execution_count": 4,
   "metadata": {
    "tags": []
   },
   "outputs": [],
   "source": [
    "from sqlalchemy import create_engine\n",
    "import os\n",
    "import boto3"
   ]
  },
  {
   "cell_type": "markdown",
   "metadata": {},
   "source": [
    "### Obtenção de dados - fonte da tabela na pasta sql"
   ]
  },
  {
   "cell_type": "code",
   "execution_count": 5,
   "metadata": {
    "tags": []
   },
   "outputs": [],
   "source": [
    "query = \"\"\"\n",
    "  \n",
    "with cobranca as (\n",
    "select\n",
    "id_customer\n",
    ", max(nr_days_paste_due_current) as nr_days_paste_due_current\n",
    "from (\n",
    "\tselect\n",
    "\tid_customer , nr_days_paste_due_current \n",
    "\t, row_number() over (partition by id_customer order by cd_yearmonth desc) as num_ordem\n",
    "\tfrom customer_curated_zone.ca_book_cobranca \n",
    ")\n",
    "where num_ordem = 1\n",
    "group by 1\n",
    ")\n",
    ", transacional as (\n",
    "\tselect \n",
    "\tid_customer\n",
    "\t, avg(vl_total_spending) as avg_vl_total_spending\n",
    "\t, sum(nr_purchases_virtual_card_online + nr_purchases_virtual_card_presentially) as nr_purchases_virtual\n",
    "\t, sum(nr_purchases_online) as nr_purchases_online\n",
    "\tfrom  customer_curated_zone.ca_book_cartao\n",
    "\tgroup by 1\n",
    ")\n",
    ", features_conta as (\n",
    "\tselect \n",
    "\tcpf \n",
    "\t, max(nr_transacoes_cashin + nr_transacoes_pix_cashout + nr_transacoes_ted_cashout) as nr_trans_mov_conta\n",
    "\t--from customer_analytics_zone.ca_base_calculo_ie_conta\n",
    "    from customer_sandbox_zone.temp_ca_base_calculo_ie_conta\n",
    "\tgroup by 1\n",
    ")\n",
    ", eventos as (\n",
    "\tselect \n",
    "\tcpf\n",
    "    , count(distinct dt_event) as nr_acessos\n",
    "    , count(distinct case when lower(ds_event_name) like '%lojawill%' or lower(ds_event_name) like '%loja-will%' or lower(ds_event_name) like '%marketplace%' then dt_event end) as nr_acessos_lojawill\n",
    "\t, max(case \n",
    "\t\twhen lower(ds_event_name) like '%click_button_mgmshare_cardactivation%' \n",
    "\t\tor lower(ds_event_name) like '%click_button_mgmshare_invoicepayment%' \n",
    "\t\tor lower(ds_event_name) like '%open_modal_mgmdeeplink%' \n",
    "\t\tor lower(ds_event_name) like '%click_button_facebook_screenmgmhome%'\n",
    "\t\tor lower(ds_event_name) like '%click_button_instagram_screenmgmhome%' \n",
    "\t\tor lower(ds_event_name) like '%click_button_more_screenmgmhome%'\n",
    "\t\tor lower(ds_event_name) like '%click_button_sendinvite_screenmgmhome%' \n",
    "\t\tor lower(ds_event_name) like '%click_button_whatsapp_screenmgmhome%' \n",
    "\t\tor lower(ds_event_name) like '%click_button_mgmshare_onbnoresultmgm%'\n",
    "\t\tor lower(ds_event_name) like '%click_button_mgmshare_onbwaitresultmgm%'\n",
    "\t\tor lower(ds_event_name) like '%click_button_mgmwhats_onbwaitresultmgm%'\n",
    "\t\tor lower(ds_event_name) like '%mgm_home_share%'\n",
    "\tthen 1 else 0 end) as flag_mgm\n",
    "\tfrom customer_curated_zone.ca_analitico_frontend\n",
    "\twhere lower(ds_event_name) <> 'login_knownuser'\n",
    "\tand lower(ds_event_name) <> 'insert_textfield_password_loginknownuser'\n",
    "\tand lower(ds_event_name) <> 'home'\n",
    "\tand lower(ds_event_name) <> 'click_box_tracking_card_home'\n",
    "\tgroup by 1\n",
    ")\n",
    " select \n",
    "\tcli2.cpf\n",
    "    , sum(nr_acessos) as nr_acessos\n",
    "    , sum(e.nr_acessos_lojawill) / cast(sum(e.nr_acessos) as double) as pc_acessos_lojawill\n",
    "\t, max(date_diff('day', cast(pr.dt_cfi_account as date), current_date)) as tempo_relacionamento\n",
    "\t, sum(ic.nr_trans_mov_conta) as nr_trans_mov_conta\n",
    "    , sum(t.avg_vl_total_spending) as avg_vl_total_spending\n",
    "\t, max(e.flag_mgm) as flag_mgm\n",
    "\t, max(cob.nr_days_paste_due_current) as dias_atraso\n",
    "from customer_curated_zone.ca_book_status_cliente cli1\n",
    "\tinner join (\n",
    "\t\tselect distinct id_customer, cpf from \n",
    "\t\tcustomer_curated_zone.ca_book_cliente) cli2 \n",
    "\t\ton (cli1.id_customer = cli2.id_customer)\n",
    "\tleft join growth_curated_zone.proposal_analysis pr on (pr.cpf = cli2.cpf)\n",
    "\tleft join features_conta ic on (ic.cpf = cli2.cpf)\n",
    "\tleft join cobranca cob on (cob.id_customer = cli1.id_customer)\n",
    "\tleft join eventos e on (e.cpf = cli2.cpf)\n",
    "    left join transacional t on (t.id_customer = cli1.id_customer)\n",
    "where pr.ds_approval_type = 'credito' and cob.nr_days_paste_due_current <= 5\n",
    "group by 1\n",
    "\n",
    "\"\"\""
   ]
  },
  {
   "cell_type": "code",
   "execution_count": 6,
   "metadata": {
    "tags": []
   },
   "outputs": [
    {
     "name": "stdout",
     "output_type": "stream",
     "text": [
      "Started query\n"
     ]
    }
   ],
   "source": [
    "staging_path = 's3://will-sdx-ml-platform-sagemaker-transient/flavia-costa/'\n",
    "\n",
    "boto3_session = boto3.Session(region_name='sa-east-1')\n",
    "\n",
    "# Clean temporary folder\n",
    "wr.s3.delete_objects(staging_path, boto3_session=boto3_session)\n",
    "\n",
    "# Run query\n",
    "print('Started query')\n",
    "\n",
    "df = wr.athena.read_sql_query(\n",
    "    sql=query,\n",
    "    database=None,\n",
    "    unload_approach=True,\n",
    "    ctas_approach=False,\n",
    "    boto3_session=boto3_session,\n",
    "    s3_output=staging_path\n",
    ")\n",
    "wr.s3.delete_objects(staging_path, boto3_session=boto3_session)"
   ]
  },
  {
   "cell_type": "code",
   "execution_count": 7,
   "metadata": {
    "tags": []
   },
   "outputs": [
    {
     "data": {
      "text/plain": [
       "2937828"
      ]
     },
     "execution_count": 7,
     "metadata": {},
     "output_type": "execute_result"
    }
   ],
   "source": [
    "len(df)"
   ]
  },
  {
   "cell_type": "code",
   "execution_count": 8,
   "metadata": {
    "tags": []
   },
   "outputs": [
    {
     "data": {
      "text/plain": [
       "cpf                       string\n",
       "nr_acessos                 Int64\n",
       "pc_acessos_lojawill      float64\n",
       "tempo_relacionamento       Int64\n",
       "nr_trans_mov_conta       float64\n",
       "avg_vl_total_spending    float64\n",
       "flag_mgm                   Int32\n",
       "dias_atraso                Int32\n",
       "dtype: object"
      ]
     },
     "execution_count": 8,
     "metadata": {},
     "output_type": "execute_result"
    }
   ],
   "source": [
    "df.dtypes"
   ]
  },
  {
   "cell_type": "code",
   "execution_count": 9,
   "metadata": {
    "tags": []
   },
   "outputs": [
    {
     "data": {
      "text/plain": [
       "cpf                           0\n",
       "nr_acessos               908350\n",
       "pc_acessos_lojawill      908350\n",
       "tempo_relacionamento      10819\n",
       "nr_trans_mov_conta       948102\n",
       "avg_vl_total_spending    337840\n",
       "flag_mgm                 908350\n",
       "dias_atraso                   0\n",
       "dtype: int64"
      ]
     },
     "execution_count": 9,
     "metadata": {},
     "output_type": "execute_result"
    }
   ],
   "source": [
    "df.isnull().sum()"
   ]
  },
  {
   "cell_type": "markdown",
   "metadata": {},
   "source": [
    "### Definindo tipos de var e lidando com missings"
   ]
  },
  {
   "cell_type": "code",
   "execution_count": 12,
   "metadata": {
    "tags": []
   },
   "outputs": [],
   "source": [
    "#variáveis para recodificar como zero\n",
    "\n",
    "df['flag_mgm'] = df['flag_mgm'].fillna(0.0)\n",
    "df['nr_trans_mov_conta'] = df['nr_trans_mov_conta'].fillna(0.0)\n",
    "df['avg_vl_total_spending'] = df['avg_vl_total_spending'].fillna(0.0)"
   ]
  },
  {
   "cell_type": "code",
   "execution_count": 11,
   "metadata": {
    "tags": []
   },
   "outputs": [
    {
     "data": {
      "text/plain": [
       "cpf                           0\n",
       "nr_acessos               908350\n",
       "pc_acessos_lojawill      908350\n",
       "tempo_relacionamento      10819\n",
       "nr_trans_mov_conta            0\n",
       "avg_vl_total_spending    337840\n",
       "flag_mgm                      0\n",
       "dias_atraso                   0\n",
       "dtype: int64"
      ]
     },
     "execution_count": 11,
     "metadata": {},
     "output_type": "execute_result"
    }
   ],
   "source": [
    "df.isnull().sum()"
   ]
  },
  {
   "cell_type": "code",
   "execution_count": 13,
   "metadata": {
    "tags": []
   },
   "outputs": [],
   "source": [
    "for column in df.columns:\n",
    "  if df[column].dtype == 'object':\n",
    "    df[column].fillna(df[column].mode()[0], inplace = True)\n",
    "  elif df[column].dtype == 'string':\n",
    "    df[column].fillna(df[column].mode()[0], inplace = True)\n",
    "  elif df[column].dtype != 'object':\n",
    "    df[column].fillna(df[column].median(), inplace = True)"
   ]
  },
  {
   "cell_type": "code",
   "execution_count": 14,
   "metadata": {
    "tags": []
   },
   "outputs": [
    {
     "data": {
      "text/plain": [
       "cpf                      0\n",
       "nr_acessos               0\n",
       "pc_acessos_lojawill      0\n",
       "tempo_relacionamento     0\n",
       "nr_trans_mov_conta       0\n",
       "avg_vl_total_spending    0\n",
       "flag_mgm                 0\n",
       "dias_atraso              0\n",
       "dtype: int64"
      ]
     },
     "execution_count": 14,
     "metadata": {},
     "output_type": "execute_result"
    }
   ],
   "source": [
    "df.isnull().sum()"
   ]
  },
  {
   "cell_type": "code",
   "execution_count": 15,
   "metadata": {
    "tags": []
   },
   "outputs": [
    {
     "data": {
      "text/plain": [
       "0    2062217\n",
       "1     875611\n",
       "Name: flag_mgm, dtype: Int64"
      ]
     },
     "execution_count": 15,
     "metadata": {},
     "output_type": "execute_result"
    }
   ],
   "source": [
    "df['flag_mgm'].value_counts()"
   ]
  },
  {
   "cell_type": "code",
   "execution_count": 16,
   "metadata": {
    "tags": []
   },
   "outputs": [
    {
     "data": {
      "text/plain": [
       "0    0.701953\n",
       "1    0.298047\n",
       "Name: flag_mgm, dtype: Float64"
      ]
     },
     "execution_count": 16,
     "metadata": {},
     "output_type": "execute_result"
    }
   ],
   "source": [
    "df['flag_mgm'].value_counts(normalize = True)"
   ]
  },
  {
   "cell_type": "markdown",
   "metadata": {},
   "source": [
    "## Início modelagem"
   ]
  },
  {
   "cell_type": "code",
   "execution_count": 17,
   "metadata": {
    "tags": []
   },
   "outputs": [],
   "source": [
    "df['tempo_relacionamento_meses'] = round(df['tempo_relacionamento'] / 30,0)"
   ]
  },
  {
   "cell_type": "code",
   "execution_count": 18,
   "metadata": {
    "tags": []
   },
   "outputs": [],
   "source": [
    "df['fx_nr_acessos']  = np.where(df.nr_acessos <=  df.nr_acessos.quantile(0.25), 'A',\n",
    "                                  np.where(df.nr_acessos <=  df.nr_acessos.quantile(0.75), 'B', 'C'))\n",
    "\n",
    "df['fx_tempo_relacionamento'] = np.where(df.tempo_relacionamento_meses <=  5, 'A',\n",
    "                                  np.where(df.tempo_relacionamento_meses <=  20, 'B', 'C'))\n",
    "\n",
    "df['fx_loja_will'] = np.where(df.pc_acessos_lojawill > 0, 'A', 'B')\n",
    "\n",
    "\n",
    "df['fx_spending_ou_conta'] = np.where((df.avg_vl_total_spending <= df.avg_vl_total_spending.quantile(0.50)) & (df.nr_trans_mov_conta <= df.nr_trans_mov_conta.quantile(0.50)), 'A',\n",
    "                             np.where((df.avg_vl_total_spending > df.avg_vl_total_spending.quantile(0.50)) & (df.nr_trans_mov_conta <= df.nr_trans_mov_conta.quantile(0.50)), 'B',\n",
    "                             np.where((df.avg_vl_total_spending <= df.avg_vl_total_spending.quantile(0.50)) & (df.nr_trans_mov_conta > df.nr_trans_mov_conta.quantile(0.50)), 'C',                  \n",
    "                             np.where((df.avg_vl_total_spending >= df.avg_vl_total_spending.quantile(0.50)) & (df.nr_trans_mov_conta >= df.nr_trans_mov_conta.quantile(0.50)), 'D',\n",
    "                             np.where(df.avg_vl_total_spending >=  df.avg_vl_total_spending.quantile(0.75), 'D', 'Ni')))))\n",
    "\n",
    "\n"
   ]
  },
  {
   "cell_type": "code",
   "execution_count": 19,
   "metadata": {
    "tags": []
   },
   "outputs": [],
   "source": [
    "df['grupos_propensao'] = df['fx_nr_acessos'] + df['fx_tempo_relacionamento'] + df['fx_loja_will'] + df['fx_spending_ou_conta']"
   ]
  },
  {
   "cell_type": "code",
   "execution_count": 20,
   "metadata": {
    "tags": []
   },
   "outputs": [
    {
     "data": {
      "text/html": [
       "<div>\n",
       "<style scoped>\n",
       "    .dataframe tbody tr th:only-of-type {\n",
       "        vertical-align: middle;\n",
       "    }\n",
       "\n",
       "    .dataframe tbody tr th {\n",
       "        vertical-align: top;\n",
       "    }\n",
       "\n",
       "    .dataframe thead th {\n",
       "        text-align: right;\n",
       "    }\n",
       "</style>\n",
       "<table border=\"1\" class=\"dataframe\">\n",
       "  <thead>\n",
       "    <tr style=\"text-align: right;\">\n",
       "      <th></th>\n",
       "      <th>flag_mgm</th>\n",
       "    </tr>\n",
       "    <tr>\n",
       "      <th>grupos_propensao</th>\n",
       "      <th></th>\n",
       "    </tr>\n",
       "  </thead>\n",
       "  <tbody>\n",
       "    <tr>\n",
       "      <th>AAAA</th>\n",
       "      <td>0.326758</td>\n",
       "    </tr>\n",
       "    <tr>\n",
       "      <th>AAAB</th>\n",
       "      <td>0.442011</td>\n",
       "    </tr>\n",
       "    <tr>\n",
       "      <th>AAAC</th>\n",
       "      <td>0.453057</td>\n",
       "    </tr>\n",
       "    <tr>\n",
       "      <th>AAAD</th>\n",
       "      <td>0.53319</td>\n",
       "    </tr>\n",
       "    <tr>\n",
       "      <th>AABA</th>\n",
       "      <td>0.169845</td>\n",
       "    </tr>\n",
       "    <tr>\n",
       "      <th>...</th>\n",
       "      <td>...</td>\n",
       "    </tr>\n",
       "    <tr>\n",
       "      <th>CCAD</th>\n",
       "      <td>0.592232</td>\n",
       "    </tr>\n",
       "    <tr>\n",
       "      <th>CCBA</th>\n",
       "      <td>0.201676</td>\n",
       "    </tr>\n",
       "    <tr>\n",
       "      <th>CCBB</th>\n",
       "      <td>0.193134</td>\n",
       "    </tr>\n",
       "    <tr>\n",
       "      <th>CCBC</th>\n",
       "      <td>0.334776</td>\n",
       "    </tr>\n",
       "    <tr>\n",
       "      <th>CCBD</th>\n",
       "      <td>0.339609</td>\n",
       "    </tr>\n",
       "  </tbody>\n",
       "</table>\n",
       "<p>72 rows × 1 columns</p>\n",
       "</div>"
      ],
      "text/plain": [
       "                  flag_mgm\n",
       "grupos_propensao          \n",
       "AAAA              0.326758\n",
       "AAAB              0.442011\n",
       "AAAC              0.453057\n",
       "AAAD               0.53319\n",
       "AABA              0.169845\n",
       "...                    ...\n",
       "CCAD              0.592232\n",
       "CCBA              0.201676\n",
       "CCBB              0.193134\n",
       "CCBC              0.334776\n",
       "CCBD              0.339609\n",
       "\n",
       "[72 rows x 1 columns]"
      ]
     },
     "execution_count": 20,
     "metadata": {},
     "output_type": "execute_result"
    }
   ],
   "source": [
    "df[['grupos_propensao', 'flag_mgm']].groupby('grupos_propensao').mean()"
   ]
  },
  {
   "cell_type": "code",
   "execution_count": 21,
   "metadata": {
    "tags": []
   },
   "outputs": [
    {
     "data": {
      "text/plain": [
       "C    1214289\n",
       "B     929395\n",
       "A     794144\n",
       "Name: fx_tempo_relacionamento, dtype: int64"
      ]
     },
     "execution_count": 21,
     "metadata": {},
     "output_type": "execute_result"
    }
   ],
   "source": [
    "df['fx_tempo_relacionamento'].value_counts()"
   ]
  },
  {
   "cell_type": "code",
   "execution_count": 22,
   "metadata": {
    "tags": []
   },
   "outputs": [],
   "source": [
    "df['segmento_final'] = np.where(np.isin(df['grupos_propensao'], ['CAAB', 'CAAD', 'CBAD']), '05. Alta propensao',\n",
    "                       np.where(np.isin(df['grupos_propensao'], ['CBAB', 'CABD', 'CBBD', 'CAAC']), '03.  Média propensao',         \n",
    "                       np.where(np.isin(df['grupos_propensao'], ['CCAC', 'BBAD', 'BAAD', 'CABB', 'CBAC', 'CAAA', 'CCAD']), '04. Média-Alta propensao',\n",
    "                       np.where(np.isin(df['grupos_propensao'], ['BAAA', 'BBAA', 'BBBD', 'CBBA', 'CCAB', 'CCBC', 'AABD', 'BABB', 'BABC', 'BBBB', 'BBBC', 'BCAC']), '02. Média propensao',\n",
    "                       np.where(np.isin(df['grupos_propensao'], ['ACBC', 'ABCAA', 'ACCBA', 'ACCBB', 'ABCAB', 'ABCAD', 'ABABA', 'AACBB', 'ABBBA', 'ABCBC', 'ABCBD',]), '01. Baixa propensao',\n",
    "'01. Baixa propensao')))))                    "
   ]
  },
  {
   "cell_type": "code",
   "execution_count": 23,
   "metadata": {
    "tags": []
   },
   "outputs": [
    {
     "data": {
      "text/html": [
       "<div>\n",
       "<style scoped>\n",
       "    .dataframe tbody tr th:only-of-type {\n",
       "        vertical-align: middle;\n",
       "    }\n",
       "\n",
       "    .dataframe tbody tr th {\n",
       "        vertical-align: top;\n",
       "    }\n",
       "\n",
       "    .dataframe thead th {\n",
       "        text-align: right;\n",
       "    }\n",
       "</style>\n",
       "<table border=\"1\" class=\"dataframe\">\n",
       "  <thead>\n",
       "    <tr style=\"text-align: right;\">\n",
       "      <th></th>\n",
       "      <th>flag_mgm</th>\n",
       "    </tr>\n",
       "    <tr>\n",
       "      <th>segmento_final</th>\n",
       "      <th></th>\n",
       "    </tr>\n",
       "  </thead>\n",
       "  <tbody>\n",
       "    <tr>\n",
       "      <th>01. Baixa propensao</th>\n",
       "      <td>0.195164</td>\n",
       "    </tr>\n",
       "    <tr>\n",
       "      <th>02. Média propensao</th>\n",
       "      <td>0.235545</td>\n",
       "    </tr>\n",
       "    <tr>\n",
       "      <th>03.  Média propensao</th>\n",
       "      <td>0.55736</td>\n",
       "    </tr>\n",
       "    <tr>\n",
       "      <th>04. Média-Alta propensao</th>\n",
       "      <td>0.643606</td>\n",
       "    </tr>\n",
       "    <tr>\n",
       "      <th>05. Alta propensao</th>\n",
       "      <td>0.722072</td>\n",
       "    </tr>\n",
       "  </tbody>\n",
       "</table>\n",
       "</div>"
      ],
      "text/plain": [
       "                          flag_mgm\n",
       "segmento_final                    \n",
       "01. Baixa propensao       0.195164\n",
       "02. Média propensao       0.235545\n",
       "03.  Média propensao       0.55736\n",
       "04. Média-Alta propensao  0.643606\n",
       "05. Alta propensao        0.722072"
      ]
     },
     "execution_count": 23,
     "metadata": {},
     "output_type": "execute_result"
    }
   ],
   "source": [
    "df[['segmento_final', 'flag_mgm']].groupby('segmento_final').mean()"
   ]
  },
  {
   "cell_type": "code",
   "execution_count": 24,
   "metadata": {
    "tags": []
   },
   "outputs": [
    {
     "data": {
      "text/html": [
       "<div>\n",
       "<style scoped>\n",
       "    .dataframe tbody tr th:only-of-type {\n",
       "        vertical-align: middle;\n",
       "    }\n",
       "\n",
       "    .dataframe tbody tr th {\n",
       "        vertical-align: top;\n",
       "    }\n",
       "\n",
       "    .dataframe thead th {\n",
       "        text-align: right;\n",
       "    }\n",
       "</style>\n",
       "<table border=\"1\" class=\"dataframe\">\n",
       "  <thead>\n",
       "    <tr style=\"text-align: right;\">\n",
       "      <th></th>\n",
       "      <th>flag_mgm</th>\n",
       "    </tr>\n",
       "    <tr>\n",
       "      <th>segmento_final</th>\n",
       "      <th></th>\n",
       "    </tr>\n",
       "  </thead>\n",
       "  <tbody>\n",
       "    <tr>\n",
       "      <th>01. Baixa propensao</th>\n",
       "      <td>1899002</td>\n",
       "    </tr>\n",
       "    <tr>\n",
       "      <th>02. Média propensao</th>\n",
       "      <td>412915</td>\n",
       "    </tr>\n",
       "    <tr>\n",
       "      <th>03.  Média propensao</th>\n",
       "      <td>104349</td>\n",
       "    </tr>\n",
       "    <tr>\n",
       "      <th>04. Média-Alta propensao</th>\n",
       "      <td>344484</td>\n",
       "    </tr>\n",
       "    <tr>\n",
       "      <th>05. Alta propensao</th>\n",
       "      <td>177078</td>\n",
       "    </tr>\n",
       "  </tbody>\n",
       "</table>\n",
       "</div>"
      ],
      "text/plain": [
       "                          flag_mgm\n",
       "segmento_final                    \n",
       "01. Baixa propensao        1899002\n",
       "02. Média propensao         412915\n",
       "03.  Média propensao        104349\n",
       "04. Média-Alta propensao    344484\n",
       "05. Alta propensao          177078"
      ]
     },
     "execution_count": 24,
     "metadata": {},
     "output_type": "execute_result"
    }
   ],
   "source": [
    "df[['segmento_final', 'flag_mgm']].groupby('segmento_final').count()"
   ]
  },
  {
   "cell_type": "code",
   "execution_count": 25,
   "metadata": {
    "tags": []
   },
   "outputs": [
    {
     "data": {
      "text/plain": [
       "01. Baixa propensao         1899002\n",
       "02. Média propensao          412915\n",
       "04. Média-Alta propensao     344484\n",
       "05. Alta propensao           177078\n",
       "03.  Média propensao         104349\n",
       "Name: segmento_final, dtype: int64"
      ]
     },
     "execution_count": 25,
     "metadata": {},
     "output_type": "execute_result"
    }
   ],
   "source": [
    "df['segmento_final'].value_counts()"
   ]
  },
  {
   "cell_type": "code",
   "execution_count": 26,
   "metadata": {
    "tags": []
   },
   "outputs": [
    {
     "data": {
      "text/plain": [
       "01. Baixa propensao         0.646397\n",
       "02. Média propensao         0.140551\n",
       "04. Média-Alta propensao    0.117258\n",
       "05. Alta propensao          0.060275\n",
       "03.  Média propensao        0.035519\n",
       "Name: segmento_final, dtype: float64"
      ]
     },
     "execution_count": 26,
     "metadata": {},
     "output_type": "execute_result"
    }
   ],
   "source": [
    "df['segmento_final'].value_counts(normalize = True)"
   ]
  },
  {
   "cell_type": "code",
   "execution_count": 27,
   "metadata": {
    "tags": []
   },
   "outputs": [
    {
     "data": {
      "text/plain": [
       "01. Baixa propensao         1528386\n",
       "02. Média propensao          315655\n",
       "04. Média-Alta propensao     122772\n",
       "05. Alta propensao            49215\n",
       "03.  Média propensao          46189\n",
       "Name: segmento_final, dtype: int64"
      ]
     },
     "execution_count": 27,
     "metadata": {},
     "output_type": "execute_result"
    }
   ],
   "source": [
    "df[df['flag_mgm'] == 0]['segmento_final'].value_counts()"
   ]
  },
  {
   "cell_type": "code",
   "execution_count": 28,
   "metadata": {
    "tags": []
   },
   "outputs": [
    {
     "data": {
      "text/html": [
       "<div>\n",
       "<style scoped>\n",
       "    .dataframe tbody tr th:only-of-type {\n",
       "        vertical-align: middle;\n",
       "    }\n",
       "\n",
       "    .dataframe tbody tr th {\n",
       "        vertical-align: top;\n",
       "    }\n",
       "\n",
       "    .dataframe thead tr th {\n",
       "        text-align: left;\n",
       "    }\n",
       "\n",
       "    .dataframe thead tr:last-of-type th {\n",
       "        text-align: right;\n",
       "    }\n",
       "</style>\n",
       "<table border=\"1\" class=\"dataframe\">\n",
       "  <thead>\n",
       "    <tr>\n",
       "      <th></th>\n",
       "      <th colspan=\"4\" halign=\"left\">nr_acessos</th>\n",
       "    </tr>\n",
       "    <tr>\n",
       "      <th></th>\n",
       "      <th>mean</th>\n",
       "      <th>min</th>\n",
       "      <th>max</th>\n",
       "      <th>median</th>\n",
       "    </tr>\n",
       "    <tr>\n",
       "      <th>segmento_final</th>\n",
       "      <th></th>\n",
       "      <th></th>\n",
       "      <th></th>\n",
       "      <th></th>\n",
       "    </tr>\n",
       "  </thead>\n",
       "  <tbody>\n",
       "    <tr>\n",
       "      <th>01. Baixa propensao</th>\n",
       "      <td>50.20211</td>\n",
       "      <td>1</td>\n",
       "      <td>2304</td>\n",
       "      <td>55.0</td>\n",
       "    </tr>\n",
       "    <tr>\n",
       "      <th>02. Média propensao</th>\n",
       "      <td>74.634627</td>\n",
       "      <td>2</td>\n",
       "      <td>3282</td>\n",
       "      <td>55.0</td>\n",
       "    </tr>\n",
       "    <tr>\n",
       "      <th>03.  Média propensao</th>\n",
       "      <td>156.638904</td>\n",
       "      <td>92</td>\n",
       "      <td>1812</td>\n",
       "      <td>141.0</td>\n",
       "    </tr>\n",
       "    <tr>\n",
       "      <th>04. Média-Alta propensao</th>\n",
       "      <td>166.138863</td>\n",
       "      <td>33</td>\n",
       "      <td>3324</td>\n",
       "      <td>135.0</td>\n",
       "    </tr>\n",
       "    <tr>\n",
       "      <th>05. Alta propensao</th>\n",
       "      <td>184.385282</td>\n",
       "      <td>92</td>\n",
       "      <td>1617</td>\n",
       "      <td>166.0</td>\n",
       "    </tr>\n",
       "  </tbody>\n",
       "</table>\n",
       "</div>"
      ],
      "text/plain": [
       "                          nr_acessos                 \n",
       "                                mean min   max median\n",
       "segmento_final                                       \n",
       "01. Baixa propensao         50.20211   1  2304   55.0\n",
       "02. Média propensao        74.634627   2  3282   55.0\n",
       "03.  Média propensao      156.638904  92  1812  141.0\n",
       "04. Média-Alta propensao  166.138863  33  3324  135.0\n",
       "05. Alta propensao        184.385282  92  1617  166.0"
      ]
     },
     "execution_count": 28,
     "metadata": {},
     "output_type": "execute_result"
    }
   ],
   "source": [
    "df[['segmento_final', 'nr_acessos']].groupby('segmento_final').agg({'nr_acessos':['mean', 'min', 'max','median' ]})"
   ]
  },
  {
   "cell_type": "code",
   "execution_count": 29,
   "metadata": {
    "tags": []
   },
   "outputs": [
    {
     "data": {
      "text/html": [
       "<div>\n",
       "<style scoped>\n",
       "    .dataframe tbody tr th:only-of-type {\n",
       "        vertical-align: middle;\n",
       "    }\n",
       "\n",
       "    .dataframe tbody tr th {\n",
       "        vertical-align: top;\n",
       "    }\n",
       "\n",
       "    .dataframe thead tr th {\n",
       "        text-align: left;\n",
       "    }\n",
       "\n",
       "    .dataframe thead tr:last-of-type th {\n",
       "        text-align: right;\n",
       "    }\n",
       "</style>\n",
       "<table border=\"1\" class=\"dataframe\">\n",
       "  <thead>\n",
       "    <tr>\n",
       "      <th></th>\n",
       "      <th colspan=\"4\" halign=\"left\">tempo_relacionamento_meses</th>\n",
       "    </tr>\n",
       "    <tr>\n",
       "      <th></th>\n",
       "      <th>mean</th>\n",
       "      <th>min</th>\n",
       "      <th>max</th>\n",
       "      <th>median</th>\n",
       "    </tr>\n",
       "    <tr>\n",
       "      <th>segmento_final</th>\n",
       "      <th></th>\n",
       "      <th></th>\n",
       "      <th></th>\n",
       "      <th></th>\n",
       "    </tr>\n",
       "  </thead>\n",
       "  <tbody>\n",
       "    <tr>\n",
       "      <th>01. Baixa propensao</th>\n",
       "      <td>25.366535</td>\n",
       "      <td>0.0</td>\n",
       "      <td>79.0</td>\n",
       "      <td>20.0</td>\n",
       "    </tr>\n",
       "    <tr>\n",
       "      <th>02. Média propensao</th>\n",
       "      <td>22.228958</td>\n",
       "      <td>0.0</td>\n",
       "      <td>79.0</td>\n",
       "      <td>18.0</td>\n",
       "    </tr>\n",
       "    <tr>\n",
       "      <th>03.  Média propensao</th>\n",
       "      <td>13.42677</td>\n",
       "      <td>2.0</td>\n",
       "      <td>20.0</td>\n",
       "      <td>14.0</td>\n",
       "    </tr>\n",
       "    <tr>\n",
       "      <th>04. Média-Alta propensao</th>\n",
       "      <td>14.24175</td>\n",
       "      <td>0.0</td>\n",
       "      <td>79.0</td>\n",
       "      <td>11.0</td>\n",
       "    </tr>\n",
       "    <tr>\n",
       "      <th>05. Alta propensao</th>\n",
       "      <td>12.61269</td>\n",
       "      <td>1.0</td>\n",
       "      <td>20.0</td>\n",
       "      <td>13.0</td>\n",
       "    </tr>\n",
       "  </tbody>\n",
       "</table>\n",
       "</div>"
      ],
      "text/plain": [
       "                         tempo_relacionamento_meses                  \n",
       "                                               mean  min   max median\n",
       "segmento_final                                                       \n",
       "01. Baixa propensao                       25.366535  0.0  79.0   20.0\n",
       "02. Média propensao                       22.228958  0.0  79.0   18.0\n",
       "03.  Média propensao                       13.42677  2.0  20.0   14.0\n",
       "04. Média-Alta propensao                   14.24175  0.0  79.0   11.0\n",
       "05. Alta propensao                         12.61269  1.0  20.0   13.0"
      ]
     },
     "execution_count": 29,
     "metadata": {},
     "output_type": "execute_result"
    }
   ],
   "source": [
    "df[['segmento_final', 'tempo_relacionamento_meses']].groupby('segmento_final').agg({'tempo_relacionamento_meses':['mean', 'min', 'max', 'median']})"
   ]
  },
  {
   "cell_type": "code",
   "execution_count": 30,
   "metadata": {
    "tags": []
   },
   "outputs": [
    {
     "data": {
      "text/html": [
       "<div>\n",
       "<style scoped>\n",
       "    .dataframe tbody tr th:only-of-type {\n",
       "        vertical-align: middle;\n",
       "    }\n",
       "\n",
       "    .dataframe tbody tr th {\n",
       "        vertical-align: top;\n",
       "    }\n",
       "\n",
       "    .dataframe thead tr th {\n",
       "        text-align: left;\n",
       "    }\n",
       "\n",
       "    .dataframe thead tr:last-of-type th {\n",
       "        text-align: right;\n",
       "    }\n",
       "</style>\n",
       "<table border=\"1\" class=\"dataframe\">\n",
       "  <thead>\n",
       "    <tr>\n",
       "      <th></th>\n",
       "      <th colspan=\"4\" halign=\"left\">avg_vl_total_spending</th>\n",
       "    </tr>\n",
       "    <tr>\n",
       "      <th></th>\n",
       "      <th>mean</th>\n",
       "      <th>min</th>\n",
       "      <th>max</th>\n",
       "      <th>median</th>\n",
       "    </tr>\n",
       "    <tr>\n",
       "      <th>segmento_final</th>\n",
       "      <th></th>\n",
       "      <th></th>\n",
       "      <th></th>\n",
       "      <th></th>\n",
       "    </tr>\n",
       "  </thead>\n",
       "  <tbody>\n",
       "    <tr>\n",
       "      <th>01. Baixa propensao</th>\n",
       "      <td>664.974705</td>\n",
       "      <td>-294.564000</td>\n",
       "      <td>110837.165000</td>\n",
       "      <td>491.829750</td>\n",
       "    </tr>\n",
       "    <tr>\n",
       "      <th>02. Média propensao</th>\n",
       "      <td>534.647851</td>\n",
       "      <td>-4.017273</td>\n",
       "      <td>44939.744977</td>\n",
       "      <td>384.594815</td>\n",
       "    </tr>\n",
       "    <tr>\n",
       "      <th>03.  Média propensao</th>\n",
       "      <td>986.849460</td>\n",
       "      <td>0.000000</td>\n",
       "      <td>16595.355000</td>\n",
       "      <td>818.830000</td>\n",
       "    </tr>\n",
       "    <tr>\n",
       "      <th>04. Média-Alta propensao</th>\n",
       "      <td>711.251542</td>\n",
       "      <td>0.000000</td>\n",
       "      <td>20747.016307</td>\n",
       "      <td>468.438081</td>\n",
       "    </tr>\n",
       "    <tr>\n",
       "      <th>05. Alta propensao</th>\n",
       "      <td>1010.837108</td>\n",
       "      <td>502.298333</td>\n",
       "      <td>29412.768000</td>\n",
       "      <td>835.330385</td>\n",
       "    </tr>\n",
       "  </tbody>\n",
       "</table>\n",
       "</div>"
      ],
      "text/plain": [
       "                         avg_vl_total_spending                             \\\n",
       "                                          mean         min            max   \n",
       "segmento_final                                                              \n",
       "01. Baixa propensao                 664.974705 -294.564000  110837.165000   \n",
       "02. Média propensao                 534.647851   -4.017273   44939.744977   \n",
       "03.  Média propensao                986.849460    0.000000   16595.355000   \n",
       "04. Média-Alta propensao            711.251542    0.000000   20747.016307   \n",
       "05. Alta propensao                 1010.837108  502.298333   29412.768000   \n",
       "\n",
       "                                      \n",
       "                              median  \n",
       "segmento_final                        \n",
       "01. Baixa propensao       491.829750  \n",
       "02. Média propensao       384.594815  \n",
       "03.  Média propensao      818.830000  \n",
       "04. Média-Alta propensao  468.438081  \n",
       "05. Alta propensao        835.330385  "
      ]
     },
     "execution_count": 30,
     "metadata": {},
     "output_type": "execute_result"
    }
   ],
   "source": [
    "df[['segmento_final', 'avg_vl_total_spending']].groupby('segmento_final').agg({'avg_vl_total_spending':['mean', 'min', 'max', 'median']})"
   ]
  },
  {
   "cell_type": "code",
   "execution_count": 31,
   "metadata": {
    "tags": []
   },
   "outputs": [
    {
     "data": {
      "text/html": [
       "<div>\n",
       "<style scoped>\n",
       "    .dataframe tbody tr th:only-of-type {\n",
       "        vertical-align: middle;\n",
       "    }\n",
       "\n",
       "    .dataframe tbody tr th {\n",
       "        vertical-align: top;\n",
       "    }\n",
       "\n",
       "    .dataframe thead tr th {\n",
       "        text-align: left;\n",
       "    }\n",
       "\n",
       "    .dataframe thead tr:last-of-type th {\n",
       "        text-align: right;\n",
       "    }\n",
       "</style>\n",
       "<table border=\"1\" class=\"dataframe\">\n",
       "  <thead>\n",
       "    <tr>\n",
       "      <th></th>\n",
       "      <th colspan=\"4\" halign=\"left\">nr_trans_mov_conta</th>\n",
       "    </tr>\n",
       "    <tr>\n",
       "      <th></th>\n",
       "      <th>mean</th>\n",
       "      <th>min</th>\n",
       "      <th>max</th>\n",
       "      <th>median</th>\n",
       "    </tr>\n",
       "    <tr>\n",
       "      <th>segmento_final</th>\n",
       "      <th></th>\n",
       "      <th></th>\n",
       "      <th></th>\n",
       "      <th></th>\n",
       "    </tr>\n",
       "  </thead>\n",
       "  <tbody>\n",
       "    <tr>\n",
       "      <th>01. Baixa propensao</th>\n",
       "      <td>14.552758</td>\n",
       "      <td>0.0</td>\n",
       "      <td>39064.0</td>\n",
       "      <td>1.0</td>\n",
       "    </tr>\n",
       "    <tr>\n",
       "      <th>02. Média propensao</th>\n",
       "      <td>27.966257</td>\n",
       "      <td>0.0</td>\n",
       "      <td>20913.0</td>\n",
       "      <td>9.0</td>\n",
       "    </tr>\n",
       "    <tr>\n",
       "      <th>03.  Média propensao</th>\n",
       "      <td>34.542449</td>\n",
       "      <td>0.0</td>\n",
       "      <td>7897.0</td>\n",
       "      <td>9.0</td>\n",
       "    </tr>\n",
       "    <tr>\n",
       "      <th>04. Média-Alta propensao</th>\n",
       "      <td>55.418699</td>\n",
       "      <td>0.0</td>\n",
       "      <td>8472.0</td>\n",
       "      <td>24.0</td>\n",
       "    </tr>\n",
       "    <tr>\n",
       "      <th>05. Alta propensao</th>\n",
       "      <td>64.445058</td>\n",
       "      <td>0.0</td>\n",
       "      <td>11942.0</td>\n",
       "      <td>27.0</td>\n",
       "    </tr>\n",
       "  </tbody>\n",
       "</table>\n",
       "</div>"
      ],
      "text/plain": [
       "                         nr_trans_mov_conta                     \n",
       "                                       mean  min      max median\n",
       "segmento_final                                                  \n",
       "01. Baixa propensao               14.552758  0.0  39064.0    1.0\n",
       "02. Média propensao               27.966257  0.0  20913.0    9.0\n",
       "03.  Média propensao              34.542449  0.0   7897.0    9.0\n",
       "04. Média-Alta propensao          55.418699  0.0   8472.0   24.0\n",
       "05. Alta propensao                64.445058  0.0  11942.0   27.0"
      ]
     },
     "execution_count": 31,
     "metadata": {},
     "output_type": "execute_result"
    }
   ],
   "source": [
    "df[['segmento_final', 'nr_trans_mov_conta']].groupby('segmento_final').agg({'nr_trans_mov_conta':['mean', 'min', 'max', 'median']})"
   ]
  },
  {
   "cell_type": "code",
   "execution_count": 32,
   "metadata": {
    "tags": []
   },
   "outputs": [
    {
     "data": {
      "text/html": [
       "<div>\n",
       "<style scoped>\n",
       "    .dataframe tbody tr th:only-of-type {\n",
       "        vertical-align: middle;\n",
       "    }\n",
       "\n",
       "    .dataframe tbody tr th {\n",
       "        vertical-align: top;\n",
       "    }\n",
       "\n",
       "    .dataframe thead th {\n",
       "        text-align: right;\n",
       "    }\n",
       "</style>\n",
       "<table border=\"1\" class=\"dataframe\">\n",
       "  <thead>\n",
       "    <tr style=\"text-align: right;\">\n",
       "      <th></th>\n",
       "      <th>cpf</th>\n",
       "      <th>nr_acessos</th>\n",
       "      <th>pc_acessos_lojawill</th>\n",
       "      <th>tempo_relacionamento</th>\n",
       "      <th>nr_trans_mov_conta</th>\n",
       "      <th>avg_vl_total_spending</th>\n",
       "      <th>flag_mgm</th>\n",
       "      <th>dias_atraso</th>\n",
       "      <th>tempo_relacionamento_meses</th>\n",
       "      <th>fx_nr_acessos</th>\n",
       "      <th>fx_tempo_relacionamento</th>\n",
       "      <th>fx_loja_will</th>\n",
       "      <th>fx_spending_ou_conta</th>\n",
       "      <th>grupos_propensao</th>\n",
       "      <th>segmento_final</th>\n",
       "    </tr>\n",
       "  </thead>\n",
       "  <tbody>\n",
       "    <tr>\n",
       "      <th>0</th>\n",
       "      <td>70264745450</td>\n",
       "      <td>2</td>\n",
       "      <td>0.000000</td>\n",
       "      <td>1465</td>\n",
       "      <td>0.0</td>\n",
       "      <td>0.0000</td>\n",
       "      <td>0</td>\n",
       "      <td>0</td>\n",
       "      <td>49.0</td>\n",
       "      <td>A</td>\n",
       "      <td>C</td>\n",
       "      <td>B</td>\n",
       "      <td>A</td>\n",
       "      <td>ACBA</td>\n",
       "      <td>01. Baixa propensao</td>\n",
       "    </tr>\n",
       "    <tr>\n",
       "      <th>1</th>\n",
       "      <td>13484293489</td>\n",
       "      <td>81</td>\n",
       "      <td>0.012346</td>\n",
       "      <td>241</td>\n",
       "      <td>9.0</td>\n",
       "      <td>393.0325</td>\n",
       "      <td>0</td>\n",
       "      <td>0</td>\n",
       "      <td>8.0</td>\n",
       "      <td>B</td>\n",
       "      <td>B</td>\n",
       "      <td>A</td>\n",
       "      <td>C</td>\n",
       "      <td>BBAC</td>\n",
       "      <td>01. Baixa propensao</td>\n",
       "    </tr>\n",
       "    <tr>\n",
       "      <th>2</th>\n",
       "      <td>07175218346</td>\n",
       "      <td>2</td>\n",
       "      <td>0.000000</td>\n",
       "      <td>431</td>\n",
       "      <td>0.0</td>\n",
       "      <td>0.0000</td>\n",
       "      <td>0</td>\n",
       "      <td>0</td>\n",
       "      <td>14.0</td>\n",
       "      <td>A</td>\n",
       "      <td>B</td>\n",
       "      <td>B</td>\n",
       "      <td>A</td>\n",
       "      <td>ABBA</td>\n",
       "      <td>01. Baixa propensao</td>\n",
       "    </tr>\n",
       "    <tr>\n",
       "      <th>3</th>\n",
       "      <td>80110711300</td>\n",
       "      <td>296</td>\n",
       "      <td>0.003378</td>\n",
       "      <td>633</td>\n",
       "      <td>78.0</td>\n",
       "      <td>600.6465</td>\n",
       "      <td>1</td>\n",
       "      <td>0</td>\n",
       "      <td>21.0</td>\n",
       "      <td>C</td>\n",
       "      <td>C</td>\n",
       "      <td>A</td>\n",
       "      <td>D</td>\n",
       "      <td>CCAD</td>\n",
       "      <td>04. Média-Alta propensao</td>\n",
       "    </tr>\n",
       "    <tr>\n",
       "      <th>4</th>\n",
       "      <td>29927273851</td>\n",
       "      <td>4</td>\n",
       "      <td>0.000000</td>\n",
       "      <td>416</td>\n",
       "      <td>0.0</td>\n",
       "      <td>0.0000</td>\n",
       "      <td>0</td>\n",
       "      <td>0</td>\n",
       "      <td>14.0</td>\n",
       "      <td>A</td>\n",
       "      <td>B</td>\n",
       "      <td>B</td>\n",
       "      <td>A</td>\n",
       "      <td>ABBA</td>\n",
       "      <td>01. Baixa propensao</td>\n",
       "    </tr>\n",
       "  </tbody>\n",
       "</table>\n",
       "</div>"
      ],
      "text/plain": [
       "           cpf  nr_acessos  pc_acessos_lojawill  tempo_relacionamento  \\\n",
       "0  70264745450           2             0.000000                  1465   \n",
       "1  13484293489          81             0.012346                   241   \n",
       "2  07175218346           2             0.000000                   431   \n",
       "3  80110711300         296             0.003378                   633   \n",
       "4  29927273851           4             0.000000                   416   \n",
       "\n",
       "   nr_trans_mov_conta  avg_vl_total_spending  flag_mgm  dias_atraso  \\\n",
       "0                 0.0                 0.0000         0            0   \n",
       "1                 9.0               393.0325         0            0   \n",
       "2                 0.0                 0.0000         0            0   \n",
       "3                78.0               600.6465         1            0   \n",
       "4                 0.0                 0.0000         0            0   \n",
       "\n",
       "   tempo_relacionamento_meses fx_nr_acessos fx_tempo_relacionamento  \\\n",
       "0                        49.0             A                       C   \n",
       "1                         8.0             B                       B   \n",
       "2                        14.0             A                       B   \n",
       "3                        21.0             C                       C   \n",
       "4                        14.0             A                       B   \n",
       "\n",
       "  fx_loja_will fx_spending_ou_conta grupos_propensao            segmento_final  \n",
       "0            B                    A             ACBA       01. Baixa propensao  \n",
       "1            A                    C             BBAC       01. Baixa propensao  \n",
       "2            B                    A             ABBA       01. Baixa propensao  \n",
       "3            A                    D             CCAD  04. Média-Alta propensao  \n",
       "4            B                    A             ABBA       01. Baixa propensao  "
      ]
     },
     "execution_count": 32,
     "metadata": {},
     "output_type": "execute_result"
    }
   ],
   "source": [
    "df.head()"
   ]
  },
  {
   "cell_type": "code",
   "execution_count": 57,
   "metadata": {
    "tags": []
   },
   "outputs": [
    {
     "ename": "ServiceApiError",
     "evalue": "[{'Key': 'flavia-costa/a5866a08-e072-47bd-ba2c-6adeffee88c5.csv', 'Code': 'AccessDenied', 'Message': 'Access Denied'}, {'Key': 'flavia-costa/6b3681a6-3f57-4b48-86df-398c2c93ed75.csv', 'Code': 'AccessDenied', 'Message': 'Access Denied'}, {'Key': 'flavia-costa/6656b198-fccb-4683-8488-d3f3002ef5ff.csv.metadata', 'Code': 'AccessDenied', 'Message': 'Access Denied'}, {'Key': 'flavia-costa/427f07fd-10a6-4f7e-bd91-d9e88b22d60a.csv', 'Code': 'AccessDenied', 'Message': 'Access Denied'}, {'Key': 'flavia-costa/481546b2-d925-4f17-80d7-a78606e55ac9.csv', 'Code': 'AccessDenied', 'Message': 'Access Denied'}, {'Key': 'flavia-costa/51d386d7-7a4c-46fe-a499-bc5ae96d3280.csv.metadata', 'Code': 'AccessDenied', 'Message': 'Access Denied'}, {'Key': 'flavia-costa/4bf97ba5-94e8-4d70-aa69-2bb60f0c0cb3.csv', 'Code': 'AccessDenied', 'Message': 'Access Denied'}, {'Key': 'flavia-costa/905e5bb5-9103-440a-b284-027f1a8d3696.csv.metadata', 'Code': 'AccessDenied', 'Message': 'Access Denied'}, {'Key': 'flavia-costa/e2fbbfb8-529a-4a74-8257-4d633c756d16.csv.metadata', 'Code': 'AccessDenied', 'Message': 'Access Denied'}, {'Key': 'flavia-costa/0a771712-58cf-415a-a60c-c23fd048e1dd.csv', 'Code': 'AccessDenied', 'Message': 'Access Denied'}, {'Key': 'flavia-costa/2b69b121-afe8-41cb-9df9-62dd5ec484fd.csv', 'Code': 'AccessDenied', 'Message': 'Access Denied'}, {'Key': 'flavia-costa/49e420bf-7de5-4c62-978b-970afe7fa8ed.csv.metadata', 'Code': 'AccessDenied', 'Message': 'Access Denied'}, {'Key': 'flavia-costa/56351ced-5c9f-429e-b434-7fbc5279d2b5.csv.metadata', 'Code': 'AccessDenied', 'Message': 'Access Denied'}, {'Key': 'flavia-costa/4853f743-c104-485f-aab6-ce2cd00a01b3.csv.metadata', 'Code': 'AccessDenied', 'Message': 'Access Denied'}, {'Key': 'flavia-costa/eacd1756-de47-4627-9fa0-87b5f7e2df0f.csv.metadata', 'Code': 'AccessDenied', 'Message': 'Access Denied'}, {'Key': 'flavia-costa/00122297f367472e9e8381e98904024d.snappy.parquet', 'Code': 'AccessDenied', 'Message': 'Access Denied'}, {'Key': 'flavia-costa/0c7f6a14-108d-4f2b-8724-6a7f5bdad098.csv', 'Code': 'AccessDenied', 'Message': 'Access Denied'}, {'Key': 'flavia-costa/51df3a41-f7e5-4788-9d9a-d17c73308fe7.csv', 'Code': 'AccessDenied', 'Message': 'Access Denied'}, {'Key': 'flavia-costa/51df3a41-f7e5-4788-9d9a-d17c73308fe7.csv.metadata', 'Code': 'AccessDenied', 'Message': 'Access Denied'}, {'Key': 'flavia-costa/71f7421b-f9f2-41b2-a0dd-f94eef1b05ce.csv', 'Code': 'AccessDenied', 'Message': 'Access Denied'}, {'Key': 'flavia-costa/31101ba8-9731-43f4-a7cd-eff97d181365.csv', 'Code': 'AccessDenied', 'Message': 'Access Denied'}, {'Key': 'flavia-costa/50bd3223-5097-42f6-b592-e10d4bd6a4ec.csv.metadata', 'Code': 'AccessDenied', 'Message': 'Access Denied'}, {'Key': 'flavia-costa/013708c1-0aff-4983-91ef-bcd336d850d0.csv', 'Code': 'AccessDenied', 'Message': 'Access Denied'}, {'Key': 'flavia-costa/b482e8e5-df9f-4f56-88d0-0cecf1b2af64.csv', 'Code': 'AccessDenied', 'Message': 'Access Denied'}, {'Key': 'flavia-costa/427f07fd-10a6-4f7e-bd91-d9e88b22d60a.csv.metadata', 'Code': 'AccessDenied', 'Message': 'Access Denied'}, {'Key': 'flavia-costa/c3671251-4363-4768-835d-87f649e7c649.csv.metadata', 'Code': 'AccessDenied', 'Message': 'Access Denied'}, {'Key': 'flavia-costa/c4222513-44f4-4e02-b78e-c878d7fe68f8.csv', 'Code': 'AccessDenied', 'Message': 'Access Denied'}, {'Key': 'flavia-costa/845b01ed-7df6-4592-8963-d15063a2ad16.csv', 'Code': 'AccessDenied', 'Message': 'Access Denied'}, {'Key': 'flavia-costa/2b54e7d4-11c2-4409-8f23-4c241e7053df.csv', 'Code': 'AccessDenied', 'Message': 'Access Denied'}, {'Key': 'flavia-costa/845b01ed-7df6-4592-8963-d15063a2ad16.csv.metadata', 'Code': 'AccessDenied', 'Message': 'Access Denied'}, {'Key': 'flavia-costa/6a650524-7bcb-4dd0-b52e-67730af18a21.csv', 'Code': 'AccessDenied', 'Message': 'Access Denied'}, {'Key': 'flavia-costa/40b8248e-858e-4612-9069-0bd300ecef85.csv.metadata', 'Code': 'AccessDenied', 'Message': 'Access Denied'}, {'Key': 'flavia-costa/777c9497-2b31-4253-bf4e-8b9f26a6c2c7.csv.metadata', 'Code': 'AccessDenied', 'Message': 'Access Denied'}, {'Key': 'flavia-costa/7955d43c-31ee-4859-bc83-15d3bcec6f51.csv.metadata', 'Code': 'AccessDenied', 'Message': 'Access Denied'}, {'Key': 'flavia-costa/0c7f6a14-108d-4f2b-8724-6a7f5bdad098.csv.metadata', 'Code': 'AccessDenied', 'Message': 'Access Denied'}, {'Key': 'flavia-costa/31101ba8-9731-43f4-a7cd-eff97d181365.csv.metadata', 'Code': 'AccessDenied', 'Message': 'Access Denied'}, {'Key': 'flavia-costa/62587006-ccbc-4d3e-98db-0f94448ef40b.csv', 'Code': 'AccessDenied', 'Message': 'Access Denied'}, {'Key': 'flavia-costa/18092b26-6bed-4930-bead-1ef19ab70aa4.txt', 'Code': 'AccessDenied', 'Message': 'Access Denied'}, {'Key': 'flavia-costa/2fce309b-6df5-41db-a1f4-9071da3d854f.csv', 'Code': 'AccessDenied', 'Message': 'Access Denied'}, {'Key': 'flavia-costa/59540363-4111-42d4-bdb3-f7990c504214.csv', 'Code': 'AccessDenied', 'Message': 'Access Denied'}, {'Key': 'flavia-costa/f6c4da50-d33f-45b2-8627-6aacfcd4f057.csv', 'Code': 'AccessDenied', 'Message': 'Access Denied'}, {'Key': 'flavia-costa/tables/ac341500-8d64-47a6-b673-5a2db54f2ed2/20231018_140018_00137_bb9i6_508e8b15-8441-48ee-a0f7-f8fb62c8e182', 'Code': 'AccessDenied', 'Message': 'Access Denied'}, {'Key': 'flavia-costa/d24f8d9a-4aaf-4497-8f6e-89495839c273.csv', 'Code': 'AccessDenied', 'Message': 'Access Denied'}, {'Key': 'flavia-costa/b19f4ce3-0097-42ef-9a6e-850618d28ba1.csv.metadata', 'Code': 'AccessDenied', 'Message': 'Access Denied'}, {'Key': 'flavia-costa/f159c0d9-c6ff-47a4-8cb0-9eac5f70e30d.csv', 'Code': 'AccessDenied', 'Message': 'Access Denied'}, {'Key': 'flavia-costa/efc7d36e-14e0-4adc-8b5d-9c896032d1e1.csv.metadata', 'Code': 'AccessDenied', 'Message': 'Access Denied'}, {'Key': 'flavia-costa/3e80853a-23a3-472e-9e0e-fe16d73d4cf9.csv.metadata', 'Code': 'AccessDenied', 'Message': 'Access Denied'}, {'Key': 'flavia-costa/45b42909-1539-44b7-89bf-f515b49b2362.txt', 'Code': 'AccessDenied', 'Message': 'Access Denied'}, {'Key': 'flavia-costa/8bfc6e8d-2186-4d47-b012-b5b5ba76334b.csv.metadata', 'Code': 'AccessDenied', 'Message': 'Access Denied'}, {'Key': 'flavia-costa/9b282ed6-9225-49d7-8c3d-2fc0958cef0f.csv', 'Code': 'AccessDenied', 'Message': 'Access Denied'}, {'Key': 'flavia-costa/tables/ac341500-8d64-47a6-b673-5a2db54f2ed2/20231018_140018_00137_bb9i6_309fc8b6-aaa1-4599-b69f-9dc47fa2a452', 'Code': 'AccessDenied', 'Message': 'Access Denied'}, {'Key': 'flavia-costa/262edf0e-2159-45f7-94c2-fbcab7edf5e4.csv.metadata', 'Code': 'AccessDenied', 'Message': 'Access Denied'}, {'Key': 'flavia-costa/e67c83f9-b544-4a6c-b8d0-008d42f31fe7.csv', 'Code': 'AccessDenied', 'Message': 'Access Denied'}, {'Key': 'flavia-costa/273c3c1f-b788-4578-b13e-99422ac7d8bc.csv.metadata', 'Code': 'AccessDenied', 'Message': 'Access Denied'}, {'Key': 'flavia-costa/50bd3223-5097-42f6-b592-e10d4bd6a4ec.csv', 'Code': 'AccessDenied', 'Message': 'Access Denied'}, {'Key': 'flavia-costa/c4222513-44f4-4e02-b78e-c878d7fe68f8.csv.metadata', 'Code': 'AccessDenied', 'Message': 'Access Denied'}, {'Key': 'flavia-costa/2e48b3eb-a03c-4d6e-8175-038827e7d924.csv.metadata', 'Code': 'AccessDenied', 'Message': 'Access Denied'}, {'Key': 'flavia-costa/799f36ce-16b3-439b-8b60-b3951aac0440.csv.metadata', 'Code': 'AccessDenied', 'Message': 'Access Denied'}, {'Key': 'flavia-costa/tables/ac341500-8d64-47a6-b673-5a2db54f2ed2/20231018_140018_00137_bb9i6_f6d295e9-1c12-4c7a-a360-aa9f415a1b74', 'Code': 'AccessDenied', 'Message': 'Access Denied'}, {'Key': 'flavia-costa/6b3681a6-3f57-4b48-86df-398c2c93ed75.csv.metadata', 'Code': 'AccessDenied', 'Message': 'Access Denied'}, {'Key': 'flavia-costa/a5866a08-e072-47bd-ba2c-6adeffee88c5.csv.metadata', 'Code': 'AccessDenied', 'Message': 'Access Denied'}, {'Key': 'flavia-costa/67043bf9-77bf-43ef-80e7-0fe8a39711ef.csv', 'Code': 'AccessDenied', 'Message': 'Access Denied'}, {'Key': 'flavia-costa/777c9497-2b31-4253-bf4e-8b9f26a6c2c7.csv', 'Code': 'AccessDenied', 'Message': 'Access Denied'}, {'Key': 'flavia-costa/tables/ac341500-8d64-47a6-b673-5a2db54f2ed2/20231018_140018_00137_bb9i6_3bd79d1c-f6d5-4ef5-867a-f4cde818886b', 'Code': 'AccessDenied', 'Message': 'Access Denied'}, {'Key': 'flavia-costa/2e48b3eb-a03c-4d6e-8175-038827e7d924.csv', 'Code': 'AccessDenied', 'Message': 'Access Denied'}, {'Key': 'flavia-costa/tables/ac341500-8d64-47a6-b673-5a2db54f2ed2/20231018_140018_00137_bb9i6_0bba6f18-96f3-4b9e-8156-67c463cfa0ba', 'Code': 'AccessDenied', 'Message': 'Access Denied'}, {'Key': 'flavia-costa/0a771712-58cf-415a-a60c-c23fd048e1dd.csv.metadata', 'Code': 'AccessDenied', 'Message': 'Access Denied'}, {'Key': 'flavia-costa/9c29d3f5-e154-4e9a-8ca2-c1dad6664468.csv', 'Code': 'AccessDenied', 'Message': 'Access Denied'}, {'Key': 'flavia-costa/4bf97ba5-94e8-4d70-aa69-2bb60f0c0cb3.csv.metadata', 'Code': 'AccessDenied', 'Message': 'Access Denied'}, {'Key': 'flavia-costa/292cc283-7477-44fe-a718-6162fc62dcc0.csv.metadata', 'Code': 'AccessDenied', 'Message': 'Access Denied'}, {'Key': 'flavia-costa/6c2ab18f-d20d-464c-b92e-4ecdb1a0e904.csv', 'Code': 'AccessDenied', 'Message': 'Access Denied'}, {'Key': 'flavia-costa/49e420bf-7de5-4c62-978b-970afe7fa8ed.csv', 'Code': 'AccessDenied', 'Message': 'Access Denied'}, {'Key': 'flavia-costa/3bd74eb0-3fb3-4a3d-9695-c17901662406.csv.metadata', 'Code': 'AccessDenied', 'Message': 'Access Denied'}, {'Key': 'flavia-costa/40b8248e-858e-4612-9069-0bd300ecef85.csv', 'Code': 'AccessDenied', 'Message': 'Access Denied'}, {'Key': 'flavia-costa/9016a473-c9a7-4317-9e91-523d3accf044.csv', 'Code': 'AccessDenied', 'Message': 'Access Denied'}, {'Key': 'flavia-costa/74e36edc-94bc-4574-838f-0759c415d2e4.csv', 'Code': 'AccessDenied', 'Message': 'Access Denied'}, {'Key': 'flavia-costa/tables/ac341500-8d64-47a6-b673-5a2db54f2ed2/20231018_140018_00137_bb9i6_841abfcf-bc2d-4554-aedc-2a947e07257e', 'Code': 'AccessDenied', 'Message': 'Access Denied'}, {'Key': 'flavia-costa/9550f063-51b8-426f-819e-92fc773bd366.csv.metadata', 'Code': 'AccessDenied', 'Message': 'Access Denied'}, {'Key': 'flavia-costa/717629ac-b5b8-4f3d-9a7f-77468ed6a55f.csv', 'Code': 'AccessDenied', 'Message': 'Access Denied'}, {'Key': 'flavia-costa/32ba99ec-4e49-486c-8c90-a396131d8f24.csv', 'Code': 'AccessDenied', 'Message': 'Access Denied'}, {'Key': 'flavia-costa/d1ab8e69-d170-442e-9380-cdb876b161b7.csv', 'Code': 'AccessDenied', 'Message': 'Access Denied'}, {'Key': 'flavia-costa/3f6fc8b8-6351-4cde-9bbe-b6496ec71ab2.csv', 'Code': 'AccessDenied', 'Message': 'Access Denied'}, {'Key': 'flavia-costa/74e36edc-94bc-4574-838f-0759c415d2e4.csv.metadata', 'Code': 'AccessDenied', 'Message': 'Access Denied'}, {'Key': 'flavia-costa/9441586c-9e59-4ed9-976e-25dfd42a1369.csv.metadata', 'Code': 'AccessDenied', 'Message': 'Access Denied'}, {'Key': 'flavia-costa/72ea314f-68aa-4cfd-a4e0-626210845b43.csv', 'Code': 'AccessDenied', 'Message': 'Access Denied'}, {'Key': 'flavia-costa/c59e117e-fa1e-41ac-bf1c-c6bc3acf06d3.csv', 'Code': 'AccessDenied', 'Message': 'Access Denied'}, {'Key': 'flavia-costa/ef19f2b9-c351-4ab5-b2ee-c5907096d31a.csv', 'Code': 'AccessDenied', 'Message': 'Access Denied'}, {'Key': 'flavia-costa/4bdb7ddd-7632-4301-ae87-32362f9d6502.csv', 'Code': 'AccessDenied', 'Message': 'Access Denied'}, {'Key': 'flavia-costa/905e5bb5-9103-440a-b284-027f1a8d3696.csv', 'Code': 'AccessDenied', 'Message': 'Access Denied'}, {'Key': 'flavia-costa/799f36ce-16b3-439b-8b60-b3951aac0440.csv', 'Code': 'AccessDenied', 'Message': 'Access Denied'}, {'Key': 'flavia-costa/f2d1a145-cf19-4fbf-b735-42e90141d0e5.csv.metadata', 'Code': 'AccessDenied', 'Message': 'Access Denied'}, {'Key': 'flavia-costa/e2fbbfb8-529a-4a74-8257-4d633c756d16.csv', 'Code': 'AccessDenied', 'Message': 'Access Denied'}, {'Key': 'flavia-costa/60933452-449e-4458-be58-dcc87070b79e.csv.metadata', 'Code': 'AccessDenied', 'Message': 'Access Denied'}, {'Key': 'flavia-costa/b482e8e5-df9f-4f56-88d0-0cecf1b2af64.csv.metadata', 'Code': 'AccessDenied', 'Message': 'Access Denied'}, {'Key': 'flavia-costa/b30a8a9d-8b62-4383-a81e-513f46888b4a.csv.metadata', 'Code': 'AccessDenied', 'Message': 'Access Denied'}, {'Key': 'flavia-costa/b19f4ce3-0097-42ef-9a6e-850618d28ba1.csv', 'Code': 'AccessDenied', 'Message': 'Access Denied'}, {'Key': 'flavia-costa/6c2ab18f-d20d-464c-b92e-4ecdb1a0e904.csv.metadata', 'Code': 'AccessDenied', 'Message': 'Access Denied'}, {'Key': 'flavia-costa/45b42909-1539-44b7-89bf-f515b49b2362.txt.metadata', 'Code': 'AccessDenied', 'Message': 'Access Denied'}, {'Key': 'flavia-costa/f8d0c5e7-dc7d-41e8-ad0e-2001776784c0.csv.metadata', 'Code': 'AccessDenied', 'Message': 'Access Denied'}, {'Key': 'flavia-costa/f5bdb4b4-f169-4d6b-94f6-44496236d95c.csv.metadata', 'Code': 'AccessDenied', 'Message': 'Access Denied'}, {'Key': 'flavia-costa/717629ac-b5b8-4f3d-9a7f-77468ed6a55f.csv.metadata', 'Code': 'AccessDenied', 'Message': 'Access Denied'}, {'Key': 'flavia-costa/f72732f6-df61-4852-b5d5-0716f487a9ea.csv', 'Code': 'AccessDenied', 'Message': 'Access Denied'}, {'Key': 'flavia-costa/4853f743-c104-485f-aab6-ce2cd00a01b3.csv', 'Code': 'AccessDenied', 'Message': 'Access Denied'}, {'Key': 'flavia-costa/eacd1756-de47-4627-9fa0-87b5f7e2df0f.csv', 'Code': 'AccessDenied', 'Message': 'Access Denied'}, {'Key': 'flavia-costa/tables/ac341500-8d64-47a6-b673-5a2db54f2ed2.metadata', 'Code': 'AccessDenied', 'Message': 'Access Denied'}, {'Key': 'flavia-costa/f017dc2a-b2ec-4606-a9da-3f5d286453bb.csv', 'Code': 'AccessDenied', 'Message': 'Access Denied'}, {'Key': 'flavia-costa/9b282ed6-9225-49d7-8c3d-2fc0958cef0f.csv.metadata', 'Code': 'AccessDenied', 'Message': 'Access Denied'}, {'Key': 'flavia-costa/83135268-a4f2-4d26-a89b-8b1d02af5266.csv', 'Code': 'AccessDenied', 'Message': 'Access Denied'}, {'Key': 'flavia-costa/d24f8d9a-4aaf-4497-8f6e-89495839c273.csv.metadata', 'Code': 'AccessDenied', 'Message': 'Access Denied'}, {'Key': 'flavia-costa/f1864a77-6377-460a-8670-cb53ec29d47f.csv.metadata', 'Code': 'AccessDenied', 'Message': 'Access Denied'}, {'Key': 'flavia-costa/32ba99ec-4e49-486c-8c90-a396131d8f24.csv.metadata', 'Code': 'AccessDenied', 'Message': 'Access Denied'}, {'Key': 'flavia-costa/83135268-a4f2-4d26-a89b-8b1d02af5266.csv.metadata', 'Code': 'AccessDenied', 'Message': 'Access Denied'}, {'Key': 'flavia-costa/e02486d2-23b8-4f7c-92eb-21bb9d7bce4c.csv.metadata', 'Code': 'AccessDenied', 'Message': 'Access Denied'}, {'Key': 'flavia-costa/f72732f6-df61-4852-b5d5-0716f487a9ea.csv.metadata', 'Code': 'AccessDenied', 'Message': 'Access Denied'}, {'Key': 'flavia-costa/f8d0c5e7-dc7d-41e8-ad0e-2001776784c0.csv', 'Code': 'AccessDenied', 'Message': 'Access Denied'}, {'Key': 'flavia-costa/8749ad6b-5405-4a5d-a00f-da0651f98b32.csv', 'Code': 'AccessDenied', 'Message': 'Access Denied'}, {'Key': 'flavia-costa/9dd84ed8-0516-4f2e-88ff-4e5a1e98cc32.csv', 'Code': 'AccessDenied', 'Message': 'Access Denied'}, {'Key': 'flavia-costa/59540363-4111-42d4-bdb3-f7990c504214.csv.metadata', 'Code': 'AccessDenied', 'Message': 'Access Denied'}, {'Key': 'flavia-costa/7955d43c-31ee-4859-bc83-15d3bcec6f51.csv', 'Code': 'AccessDenied', 'Message': 'Access Denied'}, {'Key': 'flavia-costa/2b54e7d4-11c2-4409-8f23-4c241e7053df.csv.metadata', 'Code': 'AccessDenied', 'Message': 'Access Denied'}, {'Key': 'flavia-costa/2b69b121-afe8-41cb-9df9-62dd5ec484fd.csv.metadata', 'Code': 'AccessDenied', 'Message': 'Access Denied'}, {'Key': 'flavia-costa/9c29d3f5-e154-4e9a-8ca2-c1dad6664468.csv.metadata', 'Code': 'AccessDenied', 'Message': 'Access Denied'}, {'Key': 'flavia-costa/7f124168-5eeb-4f1c-9543-6ab0cafc5988.csv', 'Code': 'AccessDenied', 'Message': 'Access Denied'}, {'Key': 'flavia-costa/6656b198-fccb-4683-8488-d3f3002ef5ff.csv', 'Code': 'AccessDenied', 'Message': 'Access Denied'}, {'Key': 'flavia-costa/c1e0cec7-defe-47e9-8f7f-66da3d875c90.csv', 'Code': 'AccessDenied', 'Message': 'Access Denied'}, {'Key': 'flavia-costa/8a2722c7-bf5d-405a-a336-4bf7d868aef8.csv', 'Code': 'AccessDenied', 'Message': 'Access Denied'}, {'Key': 'flavia-costa/262edf0e-2159-45f7-94c2-fbcab7edf5e4.csv', 'Code': 'AccessDenied', 'Message': 'Access Denied'}, {'Key': 'flavia-costa/f5bdb4b4-f169-4d6b-94f6-44496236d95c.csv', 'Code': 'AccessDenied', 'Message': 'Access Denied'}, {'Key': 'flavia-costa/71f7421b-f9f2-41b2-a0dd-f94eef1b05ce.csv.metadata', 'Code': 'AccessDenied', 'Message': 'Access Denied'}, {'Key': 'flavia-costa/b4b841a5-dce8-4dc7-bc32-318e81abb9c1.csv.metadata', 'Code': 'AccessDenied', 'Message': 'Access Denied'}, {'Key': 'flavia-costa/62587006-ccbc-4d3e-98db-0f94448ef40b.csv.metadata', 'Code': 'AccessDenied', 'Message': 'Access Denied'}, {'Key': 'flavia-costa/9016a473-c9a7-4317-9e91-523d3accf044.csv.metadata', 'Code': 'AccessDenied', 'Message': 'Access Denied'}, {'Key': 'flavia-costa/97800c9b-6e5f-492d-b467-f55ee860f39d.csv', 'Code': 'AccessDenied', 'Message': 'Access Denied'}, {'Key': 'flavia-costa/7eba386a-d5af-41d7-907c-f1018257a50f.csv', 'Code': 'AccessDenied', 'Message': 'Access Denied'}, {'Key': 'flavia-costa/c1e0cec7-defe-47e9-8f7f-66da3d875c90.csv.metadata', 'Code': 'AccessDenied', 'Message': 'Access Denied'}, {'Key': 'flavia-costa/b4b841a5-dce8-4dc7-bc32-318e81abb9c1.csv', 'Code': 'AccessDenied', 'Message': 'Access Denied'}, {'Key': 'flavia-costa/481546b2-d925-4f17-80d7-a78606e55ac9.csv.metadata', 'Code': 'AccessDenied', 'Message': 'Access Denied'}, {'Key': 'flavia-costa/97800c9b-6e5f-492d-b467-f55ee860f39d.csv.metadata', 'Code': 'AccessDenied', 'Message': 'Access Denied'}, {'Key': 'flavia-costa/d26bd3ac-418a-4cd0-827a-9065bf168e51.csv.metadata', 'Code': 'AccessDenied', 'Message': 'Access Denied'}, {'Key': 'flavia-costa/7521b49a-1d60-462a-a64e-a7a2a601d318.csv.metadata', 'Code': 'AccessDenied', 'Message': 'Access Denied'}, {'Key': 'flavia-costa/292cc283-7477-44fe-a718-6162fc62dcc0.csv', 'Code': 'AccessDenied', 'Message': 'Access Denied'}, {'Key': 'flavia-costa/51d386d7-7a4c-46fe-a499-bc5ae96d3280.csv', 'Code': 'AccessDenied', 'Message': 'Access Denied'}, {'Key': 'flavia-costa/f1864a77-6377-460a-8670-cb53ec29d47f.csv', 'Code': 'AccessDenied', 'Message': 'Access Denied'}, {'Key': 'flavia-costa/110d75c6-38e3-49c6-ab46-87a0dae7b64c.csv', 'Code': 'AccessDenied', 'Message': 'Access Denied'}, {'Key': 'flavia-costa/d26bd3ac-418a-4cd0-827a-9065bf168e51.csv', 'Code': 'AccessDenied', 'Message': 'Access Denied'}, {'Key': 'flavia-costa/8a2722c7-bf5d-405a-a336-4bf7d868aef8.csv.metadata', 'Code': 'AccessDenied', 'Message': 'Access Denied'}, {'Key': 'flavia-costa/2d831681-b858-4836-a661-10bf95648651.csv.metadata', 'Code': 'AccessDenied', 'Message': 'Access Denied'}, {'Key': 'flavia-costa/9cc2d9ed-e586-4c0b-8cb5-5490b8b1c752.csv.metadata', 'Code': 'AccessDenied', 'Message': 'Access Denied'}, {'Key': 'flavia-costa/067780fc-5f2e-4bb9-9efb-28ee279a8c31.csv', 'Code': 'AccessDenied', 'Message': 'Access Denied'}, {'Key': 'flavia-costa/72ea314f-68aa-4cfd-a4e0-626210845b43.csv.metadata', 'Code': 'AccessDenied', 'Message': 'Access Denied'}, {'Key': 'flavia-costa/74cd27fc-2a8b-4be8-85ad-fcb181f10376.csv.metadata', 'Code': 'AccessDenied', 'Message': 'Access Denied'}, {'Key': 'flavia-costa/8bfc6e8d-2186-4d47-b012-b5b5ba76334b.csv', 'Code': 'AccessDenied', 'Message': 'Access Denied'}, {'Key': 'flavia-costa/a93ae551-6c9f-4ef1-b5bf-88a616bdfed2.csv.metadata', 'Code': 'AccessDenied', 'Message': 'Access Denied'}, {'Key': 'flavia-costa/4038f6d2-517a-491d-b6ab-ed54641e25a6.csv.metadata', 'Code': 'AccessDenied', 'Message': 'Access Denied'}, {'Key': 'flavia-costa/6a9dbd9c-a758-4c59-8d08-fd7e48462cd1.txt.metadata', 'Code': 'AccessDenied', 'Message': 'Access Denied'}, {'Key': 'flavia-costa/6a9dbd9c-a758-4c59-8d08-fd7e48462cd1.txt', 'Code': 'AccessDenied', 'Message': 'Access Denied'}, {'Key': 'flavia-costa/b30a8a9d-8b62-4383-a81e-513f46888b4a.csv', 'Code': 'AccessDenied', 'Message': 'Access Denied'}, {'Key': 'flavia-costa/d74f8af1-6d4a-441a-9d50-246abd8cc6cf.csv.metadata', 'Code': 'AccessDenied', 'Message': 'Access Denied'}, {'Key': 'flavia-costa/ef19f2b9-c351-4ab5-b2ee-c5907096d31a.csv.metadata', 'Code': 'AccessDenied', 'Message': 'Access Denied'}, {'Key': 'flavia-costa/d74f8af1-6d4a-441a-9d50-246abd8cc6cf.csv', 'Code': 'AccessDenied', 'Message': 'Access Denied'}, {'Key': 'flavia-costa/60d3ac65-65c0-4ceb-ac58-54f7ca1678b2.csv', 'Code': 'AccessDenied', 'Message': 'Access Denied'}, {'Key': 'flavia-costa/tables/ac341500-8d64-47a6-b673-5a2db54f2ed2/20231018_140018_00137_bb9i6_2779ca54-c6e5-440f-af83-105bccd5ee47', 'Code': 'AccessDenied', 'Message': 'Access Denied'}, {'Key': 'flavia-costa/7f124168-5eeb-4f1c-9543-6ab0cafc5988.csv.metadata', 'Code': 'AccessDenied', 'Message': 'Access Denied'}, {'Key': 'flavia-costa/013708c1-0aff-4983-91ef-bcd336d850d0.csv.metadata', 'Code': 'AccessDenied', 'Message': 'Access Denied'}, {'Key': 'flavia-costa/8749ad6b-5405-4a5d-a00f-da0651f98b32.csv.metadata', 'Code': 'AccessDenied', 'Message': 'Access Denied'}, {'Key': 'flavia-costa/9550f063-51b8-426f-819e-92fc773bd366.csv', 'Code': 'AccessDenied', 'Message': 'Access Denied'}, {'Key': 'flavia-costa/4bdb7ddd-7632-4301-ae87-32362f9d6502.csv.metadata', 'Code': 'AccessDenied', 'Message': 'Access Denied'}, {'Key': 'flavia-costa/e02486d2-23b8-4f7c-92eb-21bb9d7bce4c.csv', 'Code': 'AccessDenied', 'Message': 'Access Denied'}, {'Key': 'flavia-costa/5d7931b3-8d36-4124-ae07-004363024320.csv', 'Code': 'AccessDenied', 'Message': 'Access Denied'}, {'Key': 'flavia-costa/c3671251-4363-4768-835d-87f649e7c649.csv', 'Code': 'AccessDenied', 'Message': 'Access Denied'}, {'Key': 'flavia-costa/f159c0d9-c6ff-47a4-8cb0-9eac5f70e30d.csv.metadata', 'Code': 'AccessDenied', 'Message': 'Access Denied'}, {'Key': 'flavia-costa/24e5b659-56f0-439c-bacd-ff1c0a5ea222.csv', 'Code': 'AccessDenied', 'Message': 'Access Denied'}, {'Key': 'flavia-costa/f2d1a145-cf19-4fbf-b735-42e90141d0e5.csv', 'Code': 'AccessDenied', 'Message': 'Access Denied'}, {'Key': 'flavia-costa/67043bf9-77bf-43ef-80e7-0fe8a39711ef.csv.metadata', 'Code': 'AccessDenied', 'Message': 'Access Denied'}, {'Key': 'flavia-costa/9dd84ed8-0516-4f2e-88ff-4e5a1e98cc32.csv.metadata', 'Code': 'AccessDenied', 'Message': 'Access Denied'}, {'Key': 'flavia-costa/9441586c-9e59-4ed9-976e-25dfd42a1369.csv', 'Code': 'AccessDenied', 'Message': 'Access Denied'}, {'Key': 'flavia-costa/3f6fc8b8-6351-4cde-9bbe-b6496ec71ab2.csv.metadata', 'Code': 'AccessDenied', 'Message': 'Access Denied'}, {'Key': 'flavia-costa/5d7931b3-8d36-4124-ae07-004363024320.csv.metadata', 'Code': 'AccessDenied', 'Message': 'Access Denied'}, {'Key': 'flavia-costa/tables/ac341500-8d64-47a6-b673-5a2db54f2ed2/20231018_140018_00137_bb9i6_ac8ae167-2aa8-47ad-b14f-0283065f464b', 'Code': 'AccessDenied', 'Message': 'Access Denied'}, {'Key': 'flavia-costa/2d831681-b858-4836-a661-10bf95648651.csv', 'Code': 'AccessDenied', 'Message': 'Access Denied'}, {'Key': 'flavia-costa/110d75c6-38e3-49c6-ab46-87a0dae7b64c.csv.metadata', 'Code': 'AccessDenied', 'Message': 'Access Denied'}, {'Key': 'flavia-costa/a93ae551-6c9f-4ef1-b5bf-88a616bdfed2.csv', 'Code': 'AccessDenied', 'Message': 'Access Denied'}, {'Key': 'flavia-costa/18029364-8595-441d-a92d-64b60ddfcfa4.csv', 'Code': 'AccessDenied', 'Message': 'Access Denied'}, {'Key': 'flavia-costa/60d3ac65-65c0-4ceb-ac58-54f7ca1678b2.csv.metadata', 'Code': 'AccessDenied', 'Message': 'Access Denied'}, {'Key': 'flavia-costa/00dc976e-1d3a-4162-a241-64801c3ac422.csv.metadata', 'Code': 'AccessDenied', 'Message': 'Access Denied'}, {'Key': 'flavia-costa/3bd74eb0-3fb3-4a3d-9695-c17901662406.csv', 'Code': 'AccessDenied', 'Message': 'Access Denied'}, {'Key': 'flavia-costa/628598e8-b95f-4525-b0b6-5b2851971f0b.csv.metadata', 'Code': 'AccessDenied', 'Message': 'Access Denied'}, {'Key': 'flavia-costa/a81ceeda-6aae-4f35-b2ba-e9150dcf42b2.csv', 'Code': 'AccessDenied', 'Message': 'Access Denied'}, {'Key': 'flavia-costa/18029364-8595-441d-a92d-64b60ddfcfa4.csv.metadata', 'Code': 'AccessDenied', 'Message': 'Access Denied'}, {'Key': 'flavia-costa/114ea7ec-d421-44d9-8e56-9eb134a021cc.csv', 'Code': 'AccessDenied', 'Message': 'Access Denied'}, {'Key': 'flavia-costa/114ea7ec-d421-44d9-8e56-9eb134a021cc.csv.metadata', 'Code': 'AccessDenied', 'Message': 'Access Denied'}, {'Key': 'flavia-costa/00dc976e-1d3a-4162-a241-64801c3ac422.csv', 'Code': 'AccessDenied', 'Message': 'Access Denied'}, {'Key': 'flavia-costa/067780fc-5f2e-4bb9-9efb-28ee279a8c31.csv.metadata', 'Code': 'AccessDenied', 'Message': 'Access Denied'}, {'Key': 'flavia-costa/f017dc2a-b2ec-4606-a9da-3f5d286453bb.csv.metadata', 'Code': 'AccessDenied', 'Message': 'Access Denied'}, {'Key': 'flavia-costa/60933452-449e-4458-be58-dcc87070b79e.csv', 'Code': 'AccessDenied', 'Message': 'Access Denied'}, {'Key': 'flavia-costa/a81ceeda-6aae-4f35-b2ba-e9150dcf42b2.csv.metadata', 'Code': 'AccessDenied', 'Message': 'Access Denied'}, {'Key': 'flavia-costa/273c3c1f-b788-4578-b13e-99422ac7d8bc.csv', 'Code': 'AccessDenied', 'Message': 'Access Denied'}, {'Key': 'flavia-costa/4038f6d2-517a-491d-b6ab-ed54641e25a6.csv', 'Code': 'AccessDenied', 'Message': 'Access Denied'}, {'Key': 'flavia-costa/6a650524-7bcb-4dd0-b52e-67730af18a21.csv.metadata', 'Code': 'AccessDenied', 'Message': 'Access Denied'}, {'Key': 'flavia-costa/tables/ac341500-8d64-47a6-b673-5a2db54f2ed2/20231018_140018_00137_bb9i6_63b354db-50c0-4817-9b7b-a4caee9a7bfa', 'Code': 'AccessDenied', 'Message': 'Access Denied'}, {'Key': 'flavia-costa/7521b49a-1d60-462a-a64e-a7a2a601d318.csv', 'Code': 'AccessDenied', 'Message': 'Access Denied'}, {'Key': 'flavia-costa/7eba386a-d5af-41d7-907c-f1018257a50f.csv.metadata', 'Code': 'AccessDenied', 'Message': 'Access Denied'}, {'Key': 'flavia-costa/24e5b659-56f0-439c-bacd-ff1c0a5ea222.csv.metadata', 'Code': 'AccessDenied', 'Message': 'Access Denied'}, {'Key': 'flavia-costa/56351ced-5c9f-429e-b434-7fbc5279d2b5.csv', 'Code': 'AccessDenied', 'Message': 'Access Denied'}, {'Key': 'flavia-costa/tables/ac341500-8d64-47a6-b673-5a2db54f2ed2/20231018_140018_00137_bb9i6_79d3e0bf-3e6a-4d42-b274-76375649768f', 'Code': 'AccessDenied', 'Message': 'Access Denied'}, {'Key': 'flavia-costa/tables/ac341500-8d64-47a6-b673-5a2db54f2ed2/20231018_140018_00137_bb9i6_9f15208a-03c3-485d-a95a-678e47796d8b', 'Code': 'AccessDenied', 'Message': 'Access Denied'}, {'Key': 'flavia-costa/04ce06f8-90da-44e7-a54c-f7a201955d15.txt', 'Code': 'AccessDenied', 'Message': 'Access Denied'}, {'Key': 'flavia-costa/2fce309b-6df5-41db-a1f4-9071da3d854f.csv.metadata', 'Code': 'AccessDenied', 'Message': 'Access Denied'}, {'Key': 'flavia-costa/3e80853a-23a3-472e-9e0e-fe16d73d4cf9.csv', 'Code': 'AccessDenied', 'Message': 'Access Denied'}, {'Key': 'flavia-costa/74cd27fc-2a8b-4be8-85ad-fcb181f10376.csv', 'Code': 'AccessDenied', 'Message': 'Access Denied'}, {'Key': 'flavia-costa/e67c83f9-b544-4a6c-b8d0-008d42f31fe7.csv.metadata', 'Code': 'AccessDenied', 'Message': 'Access Denied'}, {'Key': 'flavia-costa/tables/ac341500-8d64-47a6-b673-5a2db54f2ed2/20231018_140018_00137_bb9i6_a1a6eb66-4956-423a-b1bf-02064c1bb5aa', 'Code': 'AccessDenied', 'Message': 'Access Denied'}, {'Key': 'flavia-costa/tables/ac341500-8d64-47a6-b673-5a2db54f2ed2-manifest.csv', 'Code': 'AccessDenied', 'Message': 'Access Denied'}, {'Key': 'flavia-costa/9cc2d9ed-e586-4c0b-8cb5-5490b8b1c752.csv', 'Code': 'AccessDenied', 'Message': 'Access Denied'}, {'Key': 'flavia-costa/tables/ac341500-8d64-47a6-b673-5a2db54f2ed2/20231018_140018_00137_bb9i6_d251a1f6-cea7-40e9-9cbb-5a92573fd95d', 'Code': 'AccessDenied', 'Message': 'Access Denied'}, {'Key': 'flavia-costa/f6c4da50-d33f-45b2-8627-6aacfcd4f057.csv.metadata', 'Code': 'AccessDenied', 'Message': 'Access Denied'}, {'Key': 'flavia-costa/628598e8-b95f-4525-b0b6-5b2851971f0b.csv', 'Code': 'AccessDenied', 'Message': 'Access Denied'}, {'Key': 'flavia-costa/efc7d36e-14e0-4adc-8b5d-9c896032d1e1.csv', 'Code': 'AccessDenied', 'Message': 'Access Denied'}, {'Key': 'flavia-costa/c59e117e-fa1e-41ac-bf1c-c6bc3acf06d3.csv.metadata', 'Code': 'AccessDenied', 'Message': 'Access Denied'}, {'Key': 'flavia-costa/d1ab8e69-d170-442e-9380-cdb876b161b7.csv.metadata', 'Code': 'AccessDenied', 'Message': 'Access Denied'}]",
     "output_type": "error",
     "traceback": [
      "\u001b[0;31m---------------------------------------------------------------------------\u001b[0m",
      "\u001b[0;31mServiceApiError\u001b[0m                           Traceback (most recent call last)",
      "Cell \u001b[0;32mIn[57], line 1\u001b[0m\n\u001b[0;32m----> 1\u001b[0m \u001b[43mwr\u001b[49m\u001b[38;5;241;43m.\u001b[39;49m\u001b[43ms3\u001b[49m\u001b[38;5;241;43m.\u001b[39;49m\u001b[43mto_parquet\u001b[49m\u001b[43m(\u001b[49m\n\u001b[1;32m      2\u001b[0m \u001b[43m    \u001b[49m\u001b[43mdf\u001b[49m\u001b[38;5;241;43m=\u001b[39;49m\u001b[43mdf\u001b[49m\u001b[43m,\u001b[49m\n\u001b[1;32m      3\u001b[0m \u001b[43m    \u001b[49m\u001b[43mpath\u001b[49m\u001b[38;5;241;43m=\u001b[39;49m\u001b[38;5;124;43m\"\u001b[39;49m\u001b[38;5;124;43ms3://data-athena-query-result-will-prod/flavia-costa\u001b[39;49m\u001b[38;5;124;43m\"\u001b[39;49m\u001b[43m,\u001b[49m\u001b[43m \u001b[49m\n\u001b[1;32m      4\u001b[0m \u001b[43m    \u001b[49m\u001b[43mdataset\u001b[49m\u001b[38;5;241;43m=\u001b[39;49m\u001b[38;5;28;43;01mTrue\u001b[39;49;00m\u001b[43m,\u001b[49m\n\u001b[1;32m      5\u001b[0m \u001b[43m    \u001b[49m\u001b[43mmode\u001b[49m\u001b[38;5;241;43m=\u001b[39;49m\u001b[38;5;124;43m\"\u001b[39;49m\u001b[38;5;124;43moverwrite\u001b[39;49m\u001b[38;5;124;43m\"\u001b[39;49m\u001b[43m,\u001b[49m\n\u001b[1;32m      6\u001b[0m \u001b[43m    \u001b[49m\u001b[43mdatabase\u001b[49m\u001b[38;5;241;43m=\u001b[39;49m\u001b[38;5;124;43m\"\u001b[39;49m\u001b[38;5;124;43mcustomer_sandbox_zone\u001b[39;49m\u001b[38;5;124;43m\"\u001b[39;49m\u001b[43m,\u001b[49m\n\u001b[1;32m      7\u001b[0m \u001b[43m    \u001b[49m\u001b[43mtable\u001b[49m\u001b[38;5;241;43m=\u001b[39;49m\u001b[38;5;124;43m\"\u001b[39;49m\u001b[38;5;124;43msegmentacao_mgm\u001b[39;49m\u001b[38;5;124;43m\"\u001b[39;49m\u001b[43m,\u001b[49m\n\u001b[1;32m      8\u001b[0m \u001b[43m    \u001b[49m\u001b[43mboto3_session\u001b[49m\u001b[38;5;241;43m=\u001b[39;49m\u001b[43mboto3_session\u001b[49m\u001b[43m,\u001b[49m\n\u001b[1;32m      9\u001b[0m \u001b[43m)\u001b[49m\n",
      "File \u001b[0;32m/opt/conda/lib/python3.8/site-packages/awswrangler/_config.py:733\u001b[0m, in \u001b[0;36mapply_configs.<locals>.wrapper\u001b[0;34m(*args_raw, **kwargs)\u001b[0m\n\u001b[1;32m    731\u001b[0m         \u001b[38;5;28;01mdel\u001b[39;00m args[name]\n\u001b[1;32m    732\u001b[0m         args \u001b[38;5;241m=\u001b[39m {\u001b[38;5;241m*\u001b[39m\u001b[38;5;241m*\u001b[39margs, \u001b[38;5;241m*\u001b[39m\u001b[38;5;241m*\u001b[39mkeywords}\n\u001b[0;32m--> 733\u001b[0m \u001b[38;5;28;01mreturn\u001b[39;00m \u001b[43mfunction\u001b[49m\u001b[43m(\u001b[49m\u001b[38;5;241;43m*\u001b[39;49m\u001b[38;5;241;43m*\u001b[39;49m\u001b[43margs\u001b[49m\u001b[43m)\u001b[49m\n",
      "File \u001b[0;32m/opt/conda/lib/python3.8/site-packages/awswrangler/_utils.py:176\u001b[0m, in \u001b[0;36mvalidate_kwargs.<locals>.decorator.<locals>.inner\u001b[0;34m(*args, **kwargs)\u001b[0m\n\u001b[1;32m    173\u001b[0m \u001b[38;5;28;01mif\u001b[39;00m condition_fn() \u001b[38;5;129;01mand\u001b[39;00m \u001b[38;5;28mlen\u001b[39m(passed_unsupported_kwargs) \u001b[38;5;241m>\u001b[39m \u001b[38;5;241m0\u001b[39m:\n\u001b[1;32m    174\u001b[0m     \u001b[38;5;28;01mraise\u001b[39;00m exceptions\u001b[38;5;241m.\u001b[39mInvalidArgument(\u001b[38;5;124mf\u001b[39m\u001b[38;5;124m\"\u001b[39m\u001b[38;5;132;01m{\u001b[39;00mmessage\u001b[38;5;132;01m}\u001b[39;00m\u001b[38;5;124m `\u001b[39m\u001b[38;5;132;01m{\u001b[39;00m\u001b[38;5;124m'\u001b[39m\u001b[38;5;124m, \u001b[39m\u001b[38;5;124m'\u001b[39m\u001b[38;5;241m.\u001b[39mjoin(passed_unsupported_kwargs)\u001b[38;5;132;01m}\u001b[39;00m\u001b[38;5;124m`.\u001b[39m\u001b[38;5;124m\"\u001b[39m)\n\u001b[0;32m--> 176\u001b[0m \u001b[38;5;28;01mreturn\u001b[39;00m \u001b[43mfunc\u001b[49m\u001b[43m(\u001b[49m\u001b[38;5;241;43m*\u001b[39;49m\u001b[43margs\u001b[49m\u001b[43m,\u001b[49m\u001b[43m \u001b[49m\u001b[38;5;241;43m*\u001b[39;49m\u001b[38;5;241;43m*\u001b[39;49m\u001b[43mkwargs\u001b[49m\u001b[43m)\u001b[49m\n",
      "File \u001b[0;32m/opt/conda/lib/python3.8/site-packages/awswrangler/s3/_write_parquet.py:717\u001b[0m, in \u001b[0;36mto_parquet\u001b[0;34m(df, path, index, compression, pyarrow_additional_kwargs, max_rows_by_file, use_threads, boto3_session, s3_additional_kwargs, sanitize_columns, dataset, filename_prefix, partition_cols, bucketing_info, concurrent_partitioning, mode, catalog_versioning, schema_evolution, database, table, glue_table_settings, dtype, athena_partition_projection_settings, catalog_id)\u001b[0m\n\u001b[1;32m    714\u001b[0m     pyarrow_additional_kwargs[\u001b[38;5;124m\"\u001b[39m\u001b[38;5;124mflavor\u001b[39m\u001b[38;5;124m\"\u001b[39m] \u001b[38;5;241m=\u001b[39m \u001b[38;5;124m\"\u001b[39m\u001b[38;5;124mspark\u001b[39m\u001b[38;5;124m\"\u001b[39m\n\u001b[1;32m    716\u001b[0m strategy \u001b[38;5;241m=\u001b[39m _S3ParquetWriteStrategy()\n\u001b[0;32m--> 717\u001b[0m \u001b[38;5;28;01mreturn\u001b[39;00m \u001b[43mstrategy\u001b[49m\u001b[38;5;241;43m.\u001b[39;49m\u001b[43mwrite\u001b[49m\u001b[43m(\u001b[49m\n\u001b[1;32m    718\u001b[0m \u001b[43m    \u001b[49m\u001b[43mdf\u001b[49m\u001b[38;5;241;43m=\u001b[39;49m\u001b[43mdf\u001b[49m\u001b[43m,\u001b[49m\n\u001b[1;32m    719\u001b[0m \u001b[43m    \u001b[49m\u001b[43mpath\u001b[49m\u001b[38;5;241;43m=\u001b[39;49m\u001b[43mpath\u001b[49m\u001b[43m,\u001b[49m\n\u001b[1;32m    720\u001b[0m \u001b[43m    \u001b[49m\u001b[43mindex\u001b[49m\u001b[38;5;241;43m=\u001b[39;49m\u001b[43mindex\u001b[49m\u001b[43m,\u001b[49m\n\u001b[1;32m    721\u001b[0m \u001b[43m    \u001b[49m\u001b[43mcompression\u001b[49m\u001b[38;5;241;43m=\u001b[39;49m\u001b[43mcompression\u001b[49m\u001b[43m,\u001b[49m\n\u001b[1;32m    722\u001b[0m \u001b[43m    \u001b[49m\u001b[43mpyarrow_additional_kwargs\u001b[49m\u001b[38;5;241;43m=\u001b[39;49m\u001b[43mpyarrow_additional_kwargs\u001b[49m\u001b[43m,\u001b[49m\n\u001b[1;32m    723\u001b[0m \u001b[43m    \u001b[49m\u001b[43mmax_rows_by_file\u001b[49m\u001b[38;5;241;43m=\u001b[39;49m\u001b[43mmax_rows_by_file\u001b[49m\u001b[43m,\u001b[49m\n\u001b[1;32m    724\u001b[0m \u001b[43m    \u001b[49m\u001b[43muse_threads\u001b[49m\u001b[38;5;241;43m=\u001b[39;49m\u001b[43muse_threads\u001b[49m\u001b[43m,\u001b[49m\n\u001b[1;32m    725\u001b[0m \u001b[43m    \u001b[49m\u001b[43mboto3_session\u001b[49m\u001b[38;5;241;43m=\u001b[39;49m\u001b[43mboto3_session\u001b[49m\u001b[43m,\u001b[49m\n\u001b[1;32m    726\u001b[0m \u001b[43m    \u001b[49m\u001b[43ms3_additional_kwargs\u001b[49m\u001b[38;5;241;43m=\u001b[39;49m\u001b[43ms3_additional_kwargs\u001b[49m\u001b[43m,\u001b[49m\n\u001b[1;32m    727\u001b[0m \u001b[43m    \u001b[49m\u001b[43msanitize_columns\u001b[49m\u001b[38;5;241;43m=\u001b[39;49m\u001b[43msanitize_columns\u001b[49m\u001b[43m,\u001b[49m\n\u001b[1;32m    728\u001b[0m \u001b[43m    \u001b[49m\u001b[43mdataset\u001b[49m\u001b[38;5;241;43m=\u001b[39;49m\u001b[43mdataset\u001b[49m\u001b[43m,\u001b[49m\n\u001b[1;32m    729\u001b[0m \u001b[43m    \u001b[49m\u001b[43mfilename_prefix\u001b[49m\u001b[38;5;241;43m=\u001b[39;49m\u001b[43mfilename_prefix\u001b[49m\u001b[43m,\u001b[49m\n\u001b[1;32m    730\u001b[0m \u001b[43m    \u001b[49m\u001b[43mpartition_cols\u001b[49m\u001b[38;5;241;43m=\u001b[39;49m\u001b[43mpartition_cols\u001b[49m\u001b[43m,\u001b[49m\n\u001b[1;32m    731\u001b[0m \u001b[43m    \u001b[49m\u001b[43mbucketing_info\u001b[49m\u001b[38;5;241;43m=\u001b[39;49m\u001b[43mbucketing_info\u001b[49m\u001b[43m,\u001b[49m\n\u001b[1;32m    732\u001b[0m \u001b[43m    \u001b[49m\u001b[43mconcurrent_partitioning\u001b[49m\u001b[38;5;241;43m=\u001b[39;49m\u001b[43mconcurrent_partitioning\u001b[49m\u001b[43m,\u001b[49m\n\u001b[1;32m    733\u001b[0m \u001b[43m    \u001b[49m\u001b[43mmode\u001b[49m\u001b[38;5;241;43m=\u001b[39;49m\u001b[43mmode\u001b[49m\u001b[43m,\u001b[49m\n\u001b[1;32m    734\u001b[0m \u001b[43m    \u001b[49m\u001b[43mcatalog_versioning\u001b[49m\u001b[38;5;241;43m=\u001b[39;49m\u001b[43mcatalog_versioning\u001b[49m\u001b[43m,\u001b[49m\n\u001b[1;32m    735\u001b[0m \u001b[43m    \u001b[49m\u001b[43mschema_evolution\u001b[49m\u001b[38;5;241;43m=\u001b[39;49m\u001b[43mschema_evolution\u001b[49m\u001b[43m,\u001b[49m\n\u001b[1;32m    736\u001b[0m \u001b[43m    \u001b[49m\u001b[43mdatabase\u001b[49m\u001b[38;5;241;43m=\u001b[39;49m\u001b[43mdatabase\u001b[49m\u001b[43m,\u001b[49m\n\u001b[1;32m    737\u001b[0m \u001b[43m    \u001b[49m\u001b[43mtable\u001b[49m\u001b[38;5;241;43m=\u001b[39;49m\u001b[43mtable\u001b[49m\u001b[43m,\u001b[49m\n\u001b[1;32m    738\u001b[0m \u001b[43m    \u001b[49m\u001b[43mdescription\u001b[49m\u001b[38;5;241;43m=\u001b[39;49m\u001b[43mdescription\u001b[49m\u001b[43m,\u001b[49m\n\u001b[1;32m    739\u001b[0m \u001b[43m    \u001b[49m\u001b[43mparameters\u001b[49m\u001b[38;5;241;43m=\u001b[39;49m\u001b[43mparameters\u001b[49m\u001b[43m,\u001b[49m\n\u001b[1;32m    740\u001b[0m \u001b[43m    \u001b[49m\u001b[43mcolumns_comments\u001b[49m\u001b[38;5;241;43m=\u001b[39;49m\u001b[43mcolumns_comments\u001b[49m\u001b[43m,\u001b[49m\n\u001b[1;32m    741\u001b[0m \u001b[43m    \u001b[49m\u001b[43mtable_type\u001b[49m\u001b[38;5;241;43m=\u001b[39;49m\u001b[43mtable_type\u001b[49m\u001b[43m,\u001b[49m\n\u001b[1;32m    742\u001b[0m \u001b[43m    \u001b[49m\u001b[43mtransaction_id\u001b[49m\u001b[38;5;241;43m=\u001b[39;49m\u001b[43mtransaction_id\u001b[49m\u001b[43m,\u001b[49m\n\u001b[1;32m    743\u001b[0m \u001b[43m    \u001b[49m\u001b[43mregular_partitions\u001b[49m\u001b[38;5;241;43m=\u001b[39;49m\u001b[43mregular_partitions\u001b[49m\u001b[43m,\u001b[49m\n\u001b[1;32m    744\u001b[0m \u001b[43m    \u001b[49m\u001b[43mdtype\u001b[49m\u001b[38;5;241;43m=\u001b[39;49m\u001b[43mdtype\u001b[49m\u001b[43m,\u001b[49m\n\u001b[1;32m    745\u001b[0m \u001b[43m    \u001b[49m\u001b[43mathena_partition_projection_settings\u001b[49m\u001b[38;5;241;43m=\u001b[39;49m\u001b[43mathena_partition_projection_settings\u001b[49m\u001b[43m,\u001b[49m\n\u001b[1;32m    746\u001b[0m \u001b[43m    \u001b[49m\u001b[43mcatalog_id\u001b[49m\u001b[38;5;241;43m=\u001b[39;49m\u001b[43mcatalog_id\u001b[49m\u001b[43m,\u001b[49m\n\u001b[1;32m    747\u001b[0m \u001b[43m    \u001b[49m\u001b[43mcompression_ext\u001b[49m\u001b[38;5;241;43m=\u001b[39;49m\u001b[43mcompression_ext\u001b[49m\u001b[43m,\u001b[49m\n\u001b[1;32m    748\u001b[0m \u001b[43m\u001b[49m\u001b[43m)\u001b[49m\n",
      "File \u001b[0;32m/opt/conda/lib/python3.8/site-packages/awswrangler/s3/_write.py:393\u001b[0m, in \u001b[0;36m_S3WriteStrategy.write\u001b[0;34m(self, df, path, index, compression, pyarrow_additional_kwargs, max_rows_by_file, use_threads, boto3_session, s3_additional_kwargs, sanitize_columns, dataset, filename_prefix, partition_cols, bucketing_info, concurrent_partitioning, mode, catalog_versioning, schema_evolution, database, table, description, parameters, columns_comments, transaction_id, regular_partitions, table_type, dtype, athena_partition_projection_settings, catalog_id, compression_ext)\u001b[0m\n\u001b[1;32m    382\u001b[0m         \u001b[38;5;28mself\u001b[39m\u001b[38;5;241m.\u001b[39m_create_glue_table(\u001b[38;5;241m*\u001b[39m\u001b[38;5;241m*\u001b[39mcreate_table_args)  \u001b[38;5;66;03m# pylint: disable=protected-access\u001b[39;00m\n\u001b[1;32m    383\u001b[0m         create_table_args[\n\u001b[1;32m    384\u001b[0m             \u001b[38;5;124m\"\u001b[39m\u001b[38;5;124mcatalog_table_input\u001b[39m\u001b[38;5;124m\"\u001b[39m\n\u001b[1;32m    385\u001b[0m         ] \u001b[38;5;241m=\u001b[39m catalog\u001b[38;5;241m.\u001b[39m_get_table_input(  \u001b[38;5;66;03m# pylint: disable=protected-access\u001b[39;00m\n\u001b[0;32m   (...)\u001b[0m\n\u001b[1;32m    390\u001b[0m             catalog_id\u001b[38;5;241m=\u001b[39mcatalog_id,\n\u001b[1;32m    391\u001b[0m         )\n\u001b[0;32m--> 393\u001b[0m paths, partitions_values \u001b[38;5;241m=\u001b[39m \u001b[43m_to_dataset\u001b[49m\u001b[43m(\u001b[49m\n\u001b[1;32m    394\u001b[0m \u001b[43m    \u001b[49m\u001b[43mfunc\u001b[49m\u001b[38;5;241;43m=\u001b[39;49m\u001b[38;5;28;43mself\u001b[39;49m\u001b[38;5;241;43m.\u001b[39;49m\u001b[43m_write_to_s3_func\u001b[49m\u001b[43m,\u001b[49m\n\u001b[1;32m    395\u001b[0m \u001b[43m    \u001b[49m\u001b[43mconcurrent_partitioning\u001b[49m\u001b[38;5;241;43m=\u001b[39;49m\u001b[43mconcurrent_partitioning\u001b[49m\u001b[43m,\u001b[49m\n\u001b[1;32m    396\u001b[0m \u001b[43m    \u001b[49m\u001b[43mdf\u001b[49m\u001b[38;5;241;43m=\u001b[39;49m\u001b[43mdf\u001b[49m\u001b[43m,\u001b[49m\n\u001b[1;32m    397\u001b[0m \u001b[43m    \u001b[49m\u001b[43mpath_root\u001b[49m\u001b[38;5;241;43m=\u001b[39;49m\u001b[43mpath\u001b[49m\u001b[43m,\u001b[49m\u001b[43m  \u001b[49m\u001b[38;5;66;43;03m# type: ignore[arg-type]\u001b[39;49;00m\n\u001b[1;32m    398\u001b[0m \u001b[43m    \u001b[49m\u001b[43mfilename_prefix\u001b[49m\u001b[38;5;241;43m=\u001b[39;49m\u001b[43mfilename_prefix\u001b[49m\u001b[43m,\u001b[49m\n\u001b[1;32m    399\u001b[0m \u001b[43m    \u001b[49m\u001b[43mindex\u001b[49m\u001b[38;5;241;43m=\u001b[39;49m\u001b[43mindex\u001b[49m\u001b[43m,\u001b[49m\n\u001b[1;32m    400\u001b[0m \u001b[43m    \u001b[49m\u001b[43mcompression\u001b[49m\u001b[38;5;241;43m=\u001b[39;49m\u001b[43mcompression\u001b[49m\u001b[43m,\u001b[49m\n\u001b[1;32m    401\u001b[0m \u001b[43m    \u001b[49m\u001b[43mcompression_ext\u001b[49m\u001b[38;5;241;43m=\u001b[39;49m\u001b[43mcompression_ext\u001b[49m\u001b[43m,\u001b[49m\n\u001b[1;32m    402\u001b[0m \u001b[43m    \u001b[49m\u001b[43mcatalog_id\u001b[49m\u001b[38;5;241;43m=\u001b[39;49m\u001b[43mcatalog_id\u001b[49m\u001b[43m,\u001b[49m\n\u001b[1;32m    403\u001b[0m \u001b[43m    \u001b[49m\u001b[43mdatabase\u001b[49m\u001b[38;5;241;43m=\u001b[39;49m\u001b[43mdatabase\u001b[49m\u001b[43m,\u001b[49m\n\u001b[1;32m    404\u001b[0m \u001b[43m    \u001b[49m\u001b[43mtable\u001b[49m\u001b[38;5;241;43m=\u001b[39;49m\u001b[43mtable\u001b[49m\u001b[43m,\u001b[49m\n\u001b[1;32m    405\u001b[0m \u001b[43m    \u001b[49m\u001b[43mtable_type\u001b[49m\u001b[38;5;241;43m=\u001b[39;49m\u001b[43mtable_type\u001b[49m\u001b[43m,\u001b[49m\n\u001b[1;32m    406\u001b[0m \u001b[43m    \u001b[49m\u001b[43mtransaction_id\u001b[49m\u001b[38;5;241;43m=\u001b[39;49m\u001b[43mtransaction_id\u001b[49m\u001b[43m,\u001b[49m\n\u001b[1;32m    407\u001b[0m \u001b[43m    \u001b[49m\u001b[43mpyarrow_additional_kwargs\u001b[49m\u001b[38;5;241;43m=\u001b[39;49m\u001b[43mpyarrow_additional_kwargs\u001b[49m\u001b[43m,\u001b[49m\n\u001b[1;32m    408\u001b[0m \u001b[43m    \u001b[49m\u001b[43mcpus\u001b[49m\u001b[38;5;241;43m=\u001b[39;49m\u001b[43mcpus\u001b[49m\u001b[43m,\u001b[49m\n\u001b[1;32m    409\u001b[0m \u001b[43m    \u001b[49m\u001b[43muse_threads\u001b[49m\u001b[38;5;241;43m=\u001b[39;49m\u001b[43muse_threads\u001b[49m\u001b[43m,\u001b[49m\n\u001b[1;32m    410\u001b[0m \u001b[43m    \u001b[49m\u001b[43mpartition_cols\u001b[49m\u001b[38;5;241;43m=\u001b[39;49m\u001b[43mpartition_cols\u001b[49m\u001b[43m,\u001b[49m\n\u001b[1;32m    411\u001b[0m \u001b[43m    \u001b[49m\u001b[43mpartitions_types\u001b[49m\u001b[38;5;241;43m=\u001b[39;49m\u001b[43mpartitions_types\u001b[49m\u001b[43m,\u001b[49m\n\u001b[1;32m    412\u001b[0m \u001b[43m    \u001b[49m\u001b[43mbucketing_info\u001b[49m\u001b[38;5;241;43m=\u001b[39;49m\u001b[43mbucketing_info\u001b[49m\u001b[43m,\u001b[49m\n\u001b[1;32m    413\u001b[0m \u001b[43m    \u001b[49m\u001b[43mdtype\u001b[49m\u001b[38;5;241;43m=\u001b[39;49m\u001b[43mdtype\u001b[49m\u001b[43m,\u001b[49m\n\u001b[1;32m    414\u001b[0m \u001b[43m    \u001b[49m\u001b[43mmode\u001b[49m\u001b[38;5;241;43m=\u001b[39;49m\u001b[43mmode\u001b[49m\u001b[43m,\u001b[49m\n\u001b[1;32m    415\u001b[0m \u001b[43m    \u001b[49m\u001b[43mboto3_session\u001b[49m\u001b[38;5;241;43m=\u001b[39;49m\u001b[43mboto3_session\u001b[49m\u001b[43m,\u001b[49m\n\u001b[1;32m    416\u001b[0m \u001b[43m    \u001b[49m\u001b[43ms3_additional_kwargs\u001b[49m\u001b[38;5;241;43m=\u001b[39;49m\u001b[43ms3_additional_kwargs\u001b[49m\u001b[43m,\u001b[49m\n\u001b[1;32m    417\u001b[0m \u001b[43m    \u001b[49m\u001b[43mschema\u001b[49m\u001b[38;5;241;43m=\u001b[39;49m\u001b[43mschema\u001b[49m\u001b[43m,\u001b[49m\n\u001b[1;32m    418\u001b[0m \u001b[43m    \u001b[49m\u001b[43mmax_rows_by_file\u001b[49m\u001b[38;5;241;43m=\u001b[39;49m\u001b[43mmax_rows_by_file\u001b[49m\u001b[43m,\u001b[49m\n\u001b[1;32m    419\u001b[0m \u001b[43m\u001b[49m\u001b[43m)\u001b[49m\n\u001b[1;32m    420\u001b[0m \u001b[38;5;28;01mif\u001b[39;00m database \u001b[38;5;129;01mand\u001b[39;00m table:\n\u001b[1;32m    421\u001b[0m     \u001b[38;5;28;01mtry\u001b[39;00m:\n",
      "File \u001b[0;32m/opt/conda/lib/python3.8/site-packages/awswrangler/s3/_write_dataset.py:272\u001b[0m, in \u001b[0;36m_to_dataset\u001b[0;34m(func, concurrent_partitioning, df, path_root, filename_prefix, index, use_threads, mode, partition_cols, partitions_types, catalog_id, database, table, table_type, transaction_id, bucketing_info, boto3_session, **func_kwargs)\u001b[0m\n\u001b[1;32m    263\u001b[0m             lakeformation\u001b[38;5;241m.\u001b[39m_update_table_objects(  \u001b[38;5;66;03m# pylint: disable=protected-access\u001b[39;00m\n\u001b[1;32m    264\u001b[0m                 catalog_id\u001b[38;5;241m=\u001b[39mcatalog_id,\n\u001b[1;32m    265\u001b[0m                 database\u001b[38;5;241m=\u001b[39mdatabase,\n\u001b[0;32m   (...)\u001b[0m\n\u001b[1;32m    269\u001b[0m                 boto3_session\u001b[38;5;241m=\u001b[39mboto3_session,\n\u001b[1;32m    270\u001b[0m             )\n\u001b[1;32m    271\u001b[0m     \u001b[38;5;28;01melse\u001b[39;00m:\n\u001b[0;32m--> 272\u001b[0m         \u001b[43mdelete_objects\u001b[49m\u001b[43m(\u001b[49m\u001b[43mpath\u001b[49m\u001b[38;5;241;43m=\u001b[39;49m\u001b[43mpath_root\u001b[49m\u001b[43m,\u001b[49m\u001b[43m \u001b[49m\u001b[43muse_threads\u001b[49m\u001b[38;5;241;43m=\u001b[39;49m\u001b[43muse_threads\u001b[49m\u001b[43m,\u001b[49m\u001b[43m \u001b[49m\u001b[43mboto3_session\u001b[49m\u001b[38;5;241;43m=\u001b[39;49m\u001b[43mboto3_session\u001b[49m\u001b[43m)\u001b[49m\n\u001b[1;32m    274\u001b[0m \u001b[38;5;66;03m# Writing\u001b[39;00m\n\u001b[1;32m    275\u001b[0m partitions_values: Dict[\u001b[38;5;28mstr\u001b[39m, List[\u001b[38;5;28mstr\u001b[39m]] \u001b[38;5;241m=\u001b[39m {}\n",
      "File \u001b[0;32m/opt/conda/lib/python3.8/site-packages/awswrangler/_utils.py:176\u001b[0m, in \u001b[0;36mvalidate_kwargs.<locals>.decorator.<locals>.inner\u001b[0;34m(*args, **kwargs)\u001b[0m\n\u001b[1;32m    173\u001b[0m \u001b[38;5;28;01mif\u001b[39;00m condition_fn() \u001b[38;5;129;01mand\u001b[39;00m \u001b[38;5;28mlen\u001b[39m(passed_unsupported_kwargs) \u001b[38;5;241m>\u001b[39m \u001b[38;5;241m0\u001b[39m:\n\u001b[1;32m    174\u001b[0m     \u001b[38;5;28;01mraise\u001b[39;00m exceptions\u001b[38;5;241m.\u001b[39mInvalidArgument(\u001b[38;5;124mf\u001b[39m\u001b[38;5;124m\"\u001b[39m\u001b[38;5;132;01m{\u001b[39;00mmessage\u001b[38;5;132;01m}\u001b[39;00m\u001b[38;5;124m `\u001b[39m\u001b[38;5;132;01m{\u001b[39;00m\u001b[38;5;124m'\u001b[39m\u001b[38;5;124m, \u001b[39m\u001b[38;5;124m'\u001b[39m\u001b[38;5;241m.\u001b[39mjoin(passed_unsupported_kwargs)\u001b[38;5;132;01m}\u001b[39;00m\u001b[38;5;124m`.\u001b[39m\u001b[38;5;124m\"\u001b[39m)\n\u001b[0;32m--> 176\u001b[0m \u001b[38;5;28;01mreturn\u001b[39;00m \u001b[43mfunc\u001b[49m\u001b[43m(\u001b[49m\u001b[38;5;241;43m*\u001b[39;49m\u001b[43margs\u001b[49m\u001b[43m,\u001b[49m\u001b[43m \u001b[49m\u001b[38;5;241;43m*\u001b[39;49m\u001b[38;5;241;43m*\u001b[39;49m\u001b[43mkwargs\u001b[49m\u001b[43m)\u001b[49m\n",
      "File \u001b[0;32m/opt/conda/lib/python3.8/site-packages/awswrangler/s3/_delete.py:141\u001b[0m, in \u001b[0;36mdelete_objects\u001b[0;34m(path, use_threads, last_modified_begin, last_modified_end, s3_additional_kwargs, boto3_session)\u001b[0m\n\u001b[1;32m    137\u001b[0m     chunks \u001b[38;5;241m+\u001b[39m\u001b[38;5;241m=\u001b[39m _utils\u001b[38;5;241m.\u001b[39mchunkify(lst\u001b[38;5;241m=\u001b[39mpaths, max_length\u001b[38;5;241m=\u001b[39m\u001b[38;5;241m1_000\u001b[39m)\n\u001b[1;32m    139\u001b[0m executor: _BaseExecutor \u001b[38;5;241m=\u001b[39m _get_executor(use_threads\u001b[38;5;241m=\u001b[39muse_threads)\n\u001b[1;32m    140\u001b[0m ray_get(\n\u001b[0;32m--> 141\u001b[0m     \u001b[43mexecutor\u001b[49m\u001b[38;5;241;43m.\u001b[39;49m\u001b[43mmap\u001b[49m\u001b[43m(\u001b[49m\n\u001b[1;32m    142\u001b[0m \u001b[43m        \u001b[49m\u001b[43m_delete_objects\u001b[49m\u001b[43m,\u001b[49m\n\u001b[1;32m    143\u001b[0m \u001b[43m        \u001b[49m\u001b[43ms3_client\u001b[49m\u001b[43m,\u001b[49m\n\u001b[1;32m    144\u001b[0m \u001b[43m        \u001b[49m\u001b[43mchunks\u001b[49m\u001b[43m,\u001b[49m\n\u001b[1;32m    145\u001b[0m \u001b[43m        \u001b[49m\u001b[43mitertools\u001b[49m\u001b[38;5;241;43m.\u001b[39;49m\u001b[43mrepeat\u001b[49m\u001b[43m(\u001b[49m\u001b[43ms3_additional_kwargs\u001b[49m\u001b[43m)\u001b[49m\u001b[43m,\u001b[49m\n\u001b[1;32m    146\u001b[0m \u001b[43m    \u001b[49m\u001b[43m)\u001b[49m\n\u001b[1;32m    147\u001b[0m )\n",
      "File \u001b[0;32m/opt/conda/lib/python3.8/site-packages/awswrangler/_executor.py:51\u001b[0m, in \u001b[0;36m_ThreadPoolExecutor.map\u001b[0;34m(self, func, boto3_client, *args)\u001b[0m\n\u001b[1;32m     49\u001b[0m \u001b[38;5;28;01mif\u001b[39;00m \u001b[38;5;28mself\u001b[39m\u001b[38;5;241m.\u001b[39m_exec \u001b[38;5;129;01mis\u001b[39;00m \u001b[38;5;129;01mnot\u001b[39;00m \u001b[38;5;28;01mNone\u001b[39;00m:\n\u001b[1;32m     50\u001b[0m     iterables \u001b[38;5;241m=\u001b[39m (itertools\u001b[38;5;241m.\u001b[39mrepeat(boto3_client), \u001b[38;5;241m*\u001b[39margs)\n\u001b[0;32m---> 51\u001b[0m     \u001b[38;5;28;01mreturn\u001b[39;00m \u001b[38;5;28;43mlist\u001b[39;49m\u001b[43m(\u001b[49m\u001b[38;5;28;43mself\u001b[39;49m\u001b[38;5;241;43m.\u001b[39;49m\u001b[43m_exec\u001b[49m\u001b[38;5;241;43m.\u001b[39;49m\u001b[43mmap\u001b[49m\u001b[43m(\u001b[49m\u001b[43mfunc\u001b[49m\u001b[43m,\u001b[49m\u001b[43m \u001b[49m\u001b[38;5;241;43m*\u001b[39;49m\u001b[43miterables\u001b[49m\u001b[43m)\u001b[49m\u001b[43m)\u001b[49m\n\u001b[1;32m     52\u001b[0m \u001b[38;5;66;03m# Single-threaded\u001b[39;00m\n\u001b[1;32m     53\u001b[0m \u001b[38;5;28;01mreturn\u001b[39;00m \u001b[38;5;28mlist\u001b[39m(\u001b[38;5;28mmap\u001b[39m(func, \u001b[38;5;241m*\u001b[39m(itertools\u001b[38;5;241m.\u001b[39mrepeat(boto3_client), \u001b[38;5;241m*\u001b[39margs)))\n",
      "File \u001b[0;32m/opt/conda/lib/python3.8/concurrent/futures/_base.py:619\u001b[0m, in \u001b[0;36mExecutor.map.<locals>.result_iterator\u001b[0;34m()\u001b[0m\n\u001b[1;32m    616\u001b[0m \u001b[38;5;28;01mwhile\u001b[39;00m fs:\n\u001b[1;32m    617\u001b[0m     \u001b[38;5;66;03m# Careful not to keep a reference to the popped future\u001b[39;00m\n\u001b[1;32m    618\u001b[0m     \u001b[38;5;28;01mif\u001b[39;00m timeout \u001b[38;5;129;01mis\u001b[39;00m \u001b[38;5;28;01mNone\u001b[39;00m:\n\u001b[0;32m--> 619\u001b[0m         \u001b[38;5;28;01myield\u001b[39;00m \u001b[43mfs\u001b[49m\u001b[38;5;241;43m.\u001b[39;49m\u001b[43mpop\u001b[49m\u001b[43m(\u001b[49m\u001b[43m)\u001b[49m\u001b[38;5;241;43m.\u001b[39;49m\u001b[43mresult\u001b[49m\u001b[43m(\u001b[49m\u001b[43m)\u001b[49m\n\u001b[1;32m    620\u001b[0m     \u001b[38;5;28;01melse\u001b[39;00m:\n\u001b[1;32m    621\u001b[0m         \u001b[38;5;28;01myield\u001b[39;00m fs\u001b[38;5;241m.\u001b[39mpop()\u001b[38;5;241m.\u001b[39mresult(end_time \u001b[38;5;241m-\u001b[39m time\u001b[38;5;241m.\u001b[39mmonotonic())\n",
      "File \u001b[0;32m/opt/conda/lib/python3.8/concurrent/futures/_base.py:444\u001b[0m, in \u001b[0;36mFuture.result\u001b[0;34m(self, timeout)\u001b[0m\n\u001b[1;32m    442\u001b[0m     \u001b[38;5;28;01mraise\u001b[39;00m CancelledError()\n\u001b[1;32m    443\u001b[0m \u001b[38;5;28;01melif\u001b[39;00m \u001b[38;5;28mself\u001b[39m\u001b[38;5;241m.\u001b[39m_state \u001b[38;5;241m==\u001b[39m FINISHED:\n\u001b[0;32m--> 444\u001b[0m     \u001b[38;5;28;01mreturn\u001b[39;00m \u001b[38;5;28;43mself\u001b[39;49m\u001b[38;5;241;43m.\u001b[39;49m\u001b[43m__get_result\u001b[49m\u001b[43m(\u001b[49m\u001b[43m)\u001b[49m\n\u001b[1;32m    445\u001b[0m \u001b[38;5;28;01melse\u001b[39;00m:\n\u001b[1;32m    446\u001b[0m     \u001b[38;5;28;01mraise\u001b[39;00m \u001b[38;5;167;01mTimeoutError\u001b[39;00m()\n",
      "File \u001b[0;32m/opt/conda/lib/python3.8/concurrent/futures/_base.py:389\u001b[0m, in \u001b[0;36mFuture.__get_result\u001b[0;34m(self)\u001b[0m\n\u001b[1;32m    387\u001b[0m \u001b[38;5;28;01mif\u001b[39;00m \u001b[38;5;28mself\u001b[39m\u001b[38;5;241m.\u001b[39m_exception:\n\u001b[1;32m    388\u001b[0m     \u001b[38;5;28;01mtry\u001b[39;00m:\n\u001b[0;32m--> 389\u001b[0m         \u001b[38;5;28;01mraise\u001b[39;00m \u001b[38;5;28mself\u001b[39m\u001b[38;5;241m.\u001b[39m_exception\n\u001b[1;32m    390\u001b[0m     \u001b[38;5;28;01mfinally\u001b[39;00m:\n\u001b[1;32m    391\u001b[0m         \u001b[38;5;66;03m# Break a reference cycle with the exception in self._exception\u001b[39;00m\n\u001b[1;32m    392\u001b[0m         \u001b[38;5;28mself\u001b[39m \u001b[38;5;241m=\u001b[39m \u001b[38;5;28;01mNone\u001b[39;00m\n",
      "File \u001b[0;32m/opt/conda/lib/python3.8/concurrent/futures/thread.py:57\u001b[0m, in \u001b[0;36m_WorkItem.run\u001b[0;34m(self)\u001b[0m\n\u001b[1;32m     54\u001b[0m     \u001b[38;5;28;01mreturn\u001b[39;00m\n\u001b[1;32m     56\u001b[0m \u001b[38;5;28;01mtry\u001b[39;00m:\n\u001b[0;32m---> 57\u001b[0m     result \u001b[38;5;241m=\u001b[39m \u001b[38;5;28;43mself\u001b[39;49m\u001b[38;5;241;43m.\u001b[39;49m\u001b[43mfn\u001b[49m\u001b[43m(\u001b[49m\u001b[38;5;241;43m*\u001b[39;49m\u001b[38;5;28;43mself\u001b[39;49m\u001b[38;5;241;43m.\u001b[39;49m\u001b[43margs\u001b[49m\u001b[43m,\u001b[49m\u001b[43m \u001b[49m\u001b[38;5;241;43m*\u001b[39;49m\u001b[38;5;241;43m*\u001b[39;49m\u001b[38;5;28;43mself\u001b[39;49m\u001b[38;5;241;43m.\u001b[39;49m\u001b[43mkwargs\u001b[49m\u001b[43m)\u001b[49m\n\u001b[1;32m     58\u001b[0m \u001b[38;5;28;01mexcept\u001b[39;00m \u001b[38;5;167;01mBaseException\u001b[39;00m \u001b[38;5;28;01mas\u001b[39;00m exc:\n\u001b[1;32m     59\u001b[0m     \u001b[38;5;28mself\u001b[39m\u001b[38;5;241m.\u001b[39mfuture\u001b[38;5;241m.\u001b[39mset_exception(exc)\n",
      "File \u001b[0;32m/opt/conda/lib/python3.8/site-packages/awswrangler/_distributed.py:105\u001b[0m, in \u001b[0;36mEngine.dispatch_on_engine.<locals>.wrapper\u001b[0;34m(*args, **kw)\u001b[0m\n\u001b[1;32m    102\u001b[0m \u001b[38;5;129m@wraps\u001b[39m(func)\n\u001b[1;32m    103\u001b[0m \u001b[38;5;28;01mdef\u001b[39;00m \u001b[38;5;21mwrapper\u001b[39m(\u001b[38;5;241m*\u001b[39margs: Any, \u001b[38;5;241m*\u001b[39m\u001b[38;5;241m*\u001b[39mkw: Dict[\u001b[38;5;28mstr\u001b[39m, Any]) \u001b[38;5;241m-\u001b[39m\u001b[38;5;241m>\u001b[39m Any:\n\u001b[1;32m    104\u001b[0m     \u001b[38;5;28mcls\u001b[39m\u001b[38;5;241m.\u001b[39minitialize(name\u001b[38;5;241m=\u001b[39m\u001b[38;5;28mcls\u001b[39m\u001b[38;5;241m.\u001b[39mget()\u001b[38;5;241m.\u001b[39mvalue)\n\u001b[0;32m--> 105\u001b[0m     \u001b[38;5;28;01mreturn\u001b[39;00m \u001b[38;5;28;43mcls\u001b[39;49m\u001b[38;5;241;43m.\u001b[39;49m\u001b[43mdispatch_func\u001b[49m\u001b[43m(\u001b[49m\u001b[43mfunc\u001b[49m\u001b[43m)\u001b[49m\u001b[43m(\u001b[49m\u001b[38;5;241;43m*\u001b[39;49m\u001b[43margs\u001b[49m\u001b[43m,\u001b[49m\u001b[43m \u001b[49m\u001b[38;5;241;43m*\u001b[39;49m\u001b[38;5;241;43m*\u001b[39;49m\u001b[43mkw\u001b[49m\u001b[43m)\u001b[49m\n",
      "File \u001b[0;32m/opt/conda/lib/python3.8/site-packages/awswrangler/s3/_delete.py:61\u001b[0m, in \u001b[0;36m_delete_objects\u001b[0;34m(s3_client, paths, s3_additional_kwargs)\u001b[0m\n\u001b[1;32m     59\u001b[0m _logger\u001b[38;5;241m.\u001b[39mdebug(\u001b[38;5;124m\"\u001b[39m\u001b[38;5;124merror: \u001b[39m\u001b[38;5;132;01m%s\u001b[39;00m\u001b[38;5;124m\"\u001b[39m, error)\n\u001b[1;32m     60\u001b[0m \u001b[38;5;28;01mif\u001b[39;00m \u001b[38;5;124m\"\u001b[39m\u001b[38;5;124mCode\u001b[39m\u001b[38;5;124m\"\u001b[39m \u001b[38;5;129;01mnot\u001b[39;00m \u001b[38;5;129;01min\u001b[39;00m error \u001b[38;5;129;01mor\u001b[39;00m error[\u001b[38;5;124m\"\u001b[39m\u001b[38;5;124mCode\u001b[39m\u001b[38;5;124m\"\u001b[39m] \u001b[38;5;241m!=\u001b[39m \u001b[38;5;124m\"\u001b[39m\u001b[38;5;124mInternalError\u001b[39m\u001b[38;5;124m\"\u001b[39m:\n\u001b[0;32m---> 61\u001b[0m     \u001b[38;5;28;01mraise\u001b[39;00m exceptions\u001b[38;5;241m.\u001b[39mServiceApiError(errors)\n",
      "\u001b[0;31mServiceApiError\u001b[0m: [{'Key': 'flavia-costa/a5866a08-e072-47bd-ba2c-6adeffee88c5.csv', 'Code': 'AccessDenied', 'Message': 'Access Denied'}, {'Key': 'flavia-costa/6b3681a6-3f57-4b48-86df-398c2c93ed75.csv', 'Code': 'AccessDenied', 'Message': 'Access Denied'}, {'Key': 'flavia-costa/6656b198-fccb-4683-8488-d3f3002ef5ff.csv.metadata', 'Code': 'AccessDenied', 'Message': 'Access Denied'}, {'Key': 'flavia-costa/427f07fd-10a6-4f7e-bd91-d9e88b22d60a.csv', 'Code': 'AccessDenied', 'Message': 'Access Denied'}, {'Key': 'flavia-costa/481546b2-d925-4f17-80d7-a78606e55ac9.csv', 'Code': 'AccessDenied', 'Message': 'Access Denied'}, {'Key': 'flavia-costa/51d386d7-7a4c-46fe-a499-bc5ae96d3280.csv.metadata', 'Code': 'AccessDenied', 'Message': 'Access Denied'}, {'Key': 'flavia-costa/4bf97ba5-94e8-4d70-aa69-2bb60f0c0cb3.csv', 'Code': 'AccessDenied', 'Message': 'Access Denied'}, {'Key': 'flavia-costa/905e5bb5-9103-440a-b284-027f1a8d3696.csv.metadata', 'Code': 'AccessDenied', 'Message': 'Access Denied'}, {'Key': 'flavia-costa/e2fbbfb8-529a-4a74-8257-4d633c756d16.csv.metadata', 'Code': 'AccessDenied', 'Message': 'Access Denied'}, {'Key': 'flavia-costa/0a771712-58cf-415a-a60c-c23fd048e1dd.csv', 'Code': 'AccessDenied', 'Message': 'Access Denied'}, {'Key': 'flavia-costa/2b69b121-afe8-41cb-9df9-62dd5ec484fd.csv', 'Code': 'AccessDenied', 'Message': 'Access Denied'}, {'Key': 'flavia-costa/49e420bf-7de5-4c62-978b-970afe7fa8ed.csv.metadata', 'Code': 'AccessDenied', 'Message': 'Access Denied'}, {'Key': 'flavia-costa/56351ced-5c9f-429e-b434-7fbc5279d2b5.csv.metadata', 'Code': 'AccessDenied', 'Message': 'Access Denied'}, {'Key': 'flavia-costa/4853f743-c104-485f-aab6-ce2cd00a01b3.csv.metadata', 'Code': 'AccessDenied', 'Message': 'Access Denied'}, {'Key': 'flavia-costa/eacd1756-de47-4627-9fa0-87b5f7e2df0f.csv.metadata', 'Code': 'AccessDenied', 'Message': 'Access Denied'}, {'Key': 'flavia-costa/00122297f367472e9e8381e98904024d.snappy.parquet', 'Code': 'AccessDenied', 'Message': 'Access Denied'}, {'Key': 'flavia-costa/0c7f6a14-108d-4f2b-8724-6a7f5bdad098.csv', 'Code': 'AccessDenied', 'Message': 'Access Denied'}, {'Key': 'flavia-costa/51df3a41-f7e5-4788-9d9a-d17c73308fe7.csv', 'Code': 'AccessDenied', 'Message': 'Access Denied'}, {'Key': 'flavia-costa/51df3a41-f7e5-4788-9d9a-d17c73308fe7.csv.metadata', 'Code': 'AccessDenied', 'Message': 'Access Denied'}, {'Key': 'flavia-costa/71f7421b-f9f2-41b2-a0dd-f94eef1b05ce.csv', 'Code': 'AccessDenied', 'Message': 'Access Denied'}, {'Key': 'flavia-costa/31101ba8-9731-43f4-a7cd-eff97d181365.csv', 'Code': 'AccessDenied', 'Message': 'Access Denied'}, {'Key': 'flavia-costa/50bd3223-5097-42f6-b592-e10d4bd6a4ec.csv.metadata', 'Code': 'AccessDenied', 'Message': 'Access Denied'}, {'Key': 'flavia-costa/013708c1-0aff-4983-91ef-bcd336d850d0.csv', 'Code': 'AccessDenied', 'Message': 'Access Denied'}, {'Key': 'flavia-costa/b482e8e5-df9f-4f56-88d0-0cecf1b2af64.csv', 'Code': 'AccessDenied', 'Message': 'Access Denied'}, {'Key': 'flavia-costa/427f07fd-10a6-4f7e-bd91-d9e88b22d60a.csv.metadata', 'Code': 'AccessDenied', 'Message': 'Access Denied'}, {'Key': 'flavia-costa/c3671251-4363-4768-835d-87f649e7c649.csv.metadata', 'Code': 'AccessDenied', 'Message': 'Access Denied'}, {'Key': 'flavia-costa/c4222513-44f4-4e02-b78e-c878d7fe68f8.csv', 'Code': 'AccessDenied', 'Message': 'Access Denied'}, {'Key': 'flavia-costa/845b01ed-7df6-4592-8963-d15063a2ad16.csv', 'Code': 'AccessDenied', 'Message': 'Access Denied'}, {'Key': 'flavia-costa/2b54e7d4-11c2-4409-8f23-4c241e7053df.csv', 'Code': 'AccessDenied', 'Message': 'Access Denied'}, {'Key': 'flavia-costa/845b01ed-7df6-4592-8963-d15063a2ad16.csv.metadata', 'Code': 'AccessDenied', 'Message': 'Access Denied'}, {'Key': 'flavia-costa/6a650524-7bcb-4dd0-b52e-67730af18a21.csv', 'Code': 'AccessDenied', 'Message': 'Access Denied'}, {'Key': 'flavia-costa/40b8248e-858e-4612-9069-0bd300ecef85.csv.metadata', 'Code': 'AccessDenied', 'Message': 'Access Denied'}, {'Key': 'flavia-costa/777c9497-2b31-4253-bf4e-8b9f26a6c2c7.csv.metadata', 'Code': 'AccessDenied', 'Message': 'Access Denied'}, {'Key': 'flavia-costa/7955d43c-31ee-4859-bc83-15d3bcec6f51.csv.metadata', 'Code': 'AccessDenied', 'Message': 'Access Denied'}, {'Key': 'flavia-costa/0c7f6a14-108d-4f2b-8724-6a7f5bdad098.csv.metadata', 'Code': 'AccessDenied', 'Message': 'Access Denied'}, {'Key': 'flavia-costa/31101ba8-9731-43f4-a7cd-eff97d181365.csv.metadata', 'Code': 'AccessDenied', 'Message': 'Access Denied'}, {'Key': 'flavia-costa/62587006-ccbc-4d3e-98db-0f94448ef40b.csv', 'Code': 'AccessDenied', 'Message': 'Access Denied'}, {'Key': 'flavia-costa/18092b26-6bed-4930-bead-1ef19ab70aa4.txt', 'Code': 'AccessDenied', 'Message': 'Access Denied'}, {'Key': 'flavia-costa/2fce309b-6df5-41db-a1f4-9071da3d854f.csv', 'Code': 'AccessDenied', 'Message': 'Access Denied'}, {'Key': 'flavia-costa/59540363-4111-42d4-bdb3-f7990c504214.csv', 'Code': 'AccessDenied', 'Message': 'Access Denied'}, {'Key': 'flavia-costa/f6c4da50-d33f-45b2-8627-6aacfcd4f057.csv', 'Code': 'AccessDenied', 'Message': 'Access Denied'}, {'Key': 'flavia-costa/tables/ac341500-8d64-47a6-b673-5a2db54f2ed2/20231018_140018_00137_bb9i6_508e8b15-8441-48ee-a0f7-f8fb62c8e182', 'Code': 'AccessDenied', 'Message': 'Access Denied'}, {'Key': 'flavia-costa/d24f8d9a-4aaf-4497-8f6e-89495839c273.csv', 'Code': 'AccessDenied', 'Message': 'Access Denied'}, {'Key': 'flavia-costa/b19f4ce3-0097-42ef-9a6e-850618d28ba1.csv.metadata', 'Code': 'AccessDenied', 'Message': 'Access Denied'}, {'Key': 'flavia-costa/f159c0d9-c6ff-47a4-8cb0-9eac5f70e30d.csv', 'Code': 'AccessDenied', 'Message': 'Access Denied'}, {'Key': 'flavia-costa/efc7d36e-14e0-4adc-8b5d-9c896032d1e1.csv.metadata', 'Code': 'AccessDenied', 'Message': 'Access Denied'}, {'Key': 'flavia-costa/3e80853a-23a3-472e-9e0e-fe16d73d4cf9.csv.metadata', 'Code': 'AccessDenied', 'Message': 'Access Denied'}, {'Key': 'flavia-costa/45b42909-1539-44b7-89bf-f515b49b2362.txt', 'Code': 'AccessDenied', 'Message': 'Access Denied'}, {'Key': 'flavia-costa/8bfc6e8d-2186-4d47-b012-b5b5ba76334b.csv.metadata', 'Code': 'AccessDenied', 'Message': 'Access Denied'}, {'Key': 'flavia-costa/9b282ed6-9225-49d7-8c3d-2fc0958cef0f.csv', 'Code': 'AccessDenied', 'Message': 'Access Denied'}, {'Key': 'flavia-costa/tables/ac341500-8d64-47a6-b673-5a2db54f2ed2/20231018_140018_00137_bb9i6_309fc8b6-aaa1-4599-b69f-9dc47fa2a452', 'Code': 'AccessDenied', 'Message': 'Access Denied'}, {'Key': 'flavia-costa/262edf0e-2159-45f7-94c2-fbcab7edf5e4.csv.metadata', 'Code': 'AccessDenied', 'Message': 'Access Denied'}, {'Key': 'flavia-costa/e67c83f9-b544-4a6c-b8d0-008d42f31fe7.csv', 'Code': 'AccessDenied', 'Message': 'Access Denied'}, {'Key': 'flavia-costa/273c3c1f-b788-4578-b13e-99422ac7d8bc.csv.metadata', 'Code': 'AccessDenied', 'Message': 'Access Denied'}, {'Key': 'flavia-costa/50bd3223-5097-42f6-b592-e10d4bd6a4ec.csv', 'Code': 'AccessDenied', 'Message': 'Access Denied'}, {'Key': 'flavia-costa/c4222513-44f4-4e02-b78e-c878d7fe68f8.csv.metadata', 'Code': 'AccessDenied', 'Message': 'Access Denied'}, {'Key': 'flavia-costa/2e48b3eb-a03c-4d6e-8175-038827e7d924.csv.metadata', 'Code': 'AccessDenied', 'Message': 'Access Denied'}, {'Key': 'flavia-costa/799f36ce-16b3-439b-8b60-b3951aac0440.csv.metadata', 'Code': 'AccessDenied', 'Message': 'Access Denied'}, {'Key': 'flavia-costa/tables/ac341500-8d64-47a6-b673-5a2db54f2ed2/20231018_140018_00137_bb9i6_f6d295e9-1c12-4c7a-a360-aa9f415a1b74', 'Code': 'AccessDenied', 'Message': 'Access Denied'}, {'Key': 'flavia-costa/6b3681a6-3f57-4b48-86df-398c2c93ed75.csv.metadata', 'Code': 'AccessDenied', 'Message': 'Access Denied'}, {'Key': 'flavia-costa/a5866a08-e072-47bd-ba2c-6adeffee88c5.csv.metadata', 'Code': 'AccessDenied', 'Message': 'Access Denied'}, {'Key': 'flavia-costa/67043bf9-77bf-43ef-80e7-0fe8a39711ef.csv', 'Code': 'AccessDenied', 'Message': 'Access Denied'}, {'Key': 'flavia-costa/777c9497-2b31-4253-bf4e-8b9f26a6c2c7.csv', 'Code': 'AccessDenied', 'Message': 'Access Denied'}, {'Key': 'flavia-costa/tables/ac341500-8d64-47a6-b673-5a2db54f2ed2/20231018_140018_00137_bb9i6_3bd79d1c-f6d5-4ef5-867a-f4cde818886b', 'Code': 'AccessDenied', 'Message': 'Access Denied'}, {'Key': 'flavia-costa/2e48b3eb-a03c-4d6e-8175-038827e7d924.csv', 'Code': 'AccessDenied', 'Message': 'Access Denied'}, {'Key': 'flavia-costa/tables/ac341500-8d64-47a6-b673-5a2db54f2ed2/20231018_140018_00137_bb9i6_0bba6f18-96f3-4b9e-8156-67c463cfa0ba', 'Code': 'AccessDenied', 'Message': 'Access Denied'}, {'Key': 'flavia-costa/0a771712-58cf-415a-a60c-c23fd048e1dd.csv.metadata', 'Code': 'AccessDenied', 'Message': 'Access Denied'}, {'Key': 'flavia-costa/9c29d3f5-e154-4e9a-8ca2-c1dad6664468.csv', 'Code': 'AccessDenied', 'Message': 'Access Denied'}, {'Key': 'flavia-costa/4bf97ba5-94e8-4d70-aa69-2bb60f0c0cb3.csv.metadata', 'Code': 'AccessDenied', 'Message': 'Access Denied'}, {'Key': 'flavia-costa/292cc283-7477-44fe-a718-6162fc62dcc0.csv.metadata', 'Code': 'AccessDenied', 'Message': 'Access Denied'}, {'Key': 'flavia-costa/6c2ab18f-d20d-464c-b92e-4ecdb1a0e904.csv', 'Code': 'AccessDenied', 'Message': 'Access Denied'}, {'Key': 'flavia-costa/49e420bf-7de5-4c62-978b-970afe7fa8ed.csv', 'Code': 'AccessDenied', 'Message': 'Access Denied'}, {'Key': 'flavia-costa/3bd74eb0-3fb3-4a3d-9695-c17901662406.csv.metadata', 'Code': 'AccessDenied', 'Message': 'Access Denied'}, {'Key': 'flavia-costa/40b8248e-858e-4612-9069-0bd300ecef85.csv', 'Code': 'AccessDenied', 'Message': 'Access Denied'}, {'Key': 'flavia-costa/9016a473-c9a7-4317-9e91-523d3accf044.csv', 'Code': 'AccessDenied', 'Message': 'Access Denied'}, {'Key': 'flavia-costa/74e36edc-94bc-4574-838f-0759c415d2e4.csv', 'Code': 'AccessDenied', 'Message': 'Access Denied'}, {'Key': 'flavia-costa/tables/ac341500-8d64-47a6-b673-5a2db54f2ed2/20231018_140018_00137_bb9i6_841abfcf-bc2d-4554-aedc-2a947e07257e', 'Code': 'AccessDenied', 'Message': 'Access Denied'}, {'Key': 'flavia-costa/9550f063-51b8-426f-819e-92fc773bd366.csv.metadata', 'Code': 'AccessDenied', 'Message': 'Access Denied'}, {'Key': 'flavia-costa/717629ac-b5b8-4f3d-9a7f-77468ed6a55f.csv', 'Code': 'AccessDenied', 'Message': 'Access Denied'}, {'Key': 'flavia-costa/32ba99ec-4e49-486c-8c90-a396131d8f24.csv', 'Code': 'AccessDenied', 'Message': 'Access Denied'}, {'Key': 'flavia-costa/d1ab8e69-d170-442e-9380-cdb876b161b7.csv', 'Code': 'AccessDenied', 'Message': 'Access Denied'}, {'Key': 'flavia-costa/3f6fc8b8-6351-4cde-9bbe-b6496ec71ab2.csv', 'Code': 'AccessDenied', 'Message': 'Access Denied'}, {'Key': 'flavia-costa/74e36edc-94bc-4574-838f-0759c415d2e4.csv.metadata', 'Code': 'AccessDenied', 'Message': 'Access Denied'}, {'Key': 'flavia-costa/9441586c-9e59-4ed9-976e-25dfd42a1369.csv.metadata', 'Code': 'AccessDenied', 'Message': 'Access Denied'}, {'Key': 'flavia-costa/72ea314f-68aa-4cfd-a4e0-626210845b43.csv', 'Code': 'AccessDenied', 'Message': 'Access Denied'}, {'Key': 'flavia-costa/c59e117e-fa1e-41ac-bf1c-c6bc3acf06d3.csv', 'Code': 'AccessDenied', 'Message': 'Access Denied'}, {'Key': 'flavia-costa/ef19f2b9-c351-4ab5-b2ee-c5907096d31a.csv', 'Code': 'AccessDenied', 'Message': 'Access Denied'}, {'Key': 'flavia-costa/4bdb7ddd-7632-4301-ae87-32362f9d6502.csv', 'Code': 'AccessDenied', 'Message': 'Access Denied'}, {'Key': 'flavia-costa/905e5bb5-9103-440a-b284-027f1a8d3696.csv', 'Code': 'AccessDenied', 'Message': 'Access Denied'}, {'Key': 'flavia-costa/799f36ce-16b3-439b-8b60-b3951aac0440.csv', 'Code': 'AccessDenied', 'Message': 'Access Denied'}, {'Key': 'flavia-costa/f2d1a145-cf19-4fbf-b735-42e90141d0e5.csv.metadata', 'Code': 'AccessDenied', 'Message': 'Access Denied'}, {'Key': 'flavia-costa/e2fbbfb8-529a-4a74-8257-4d633c756d16.csv', 'Code': 'AccessDenied', 'Message': 'Access Denied'}, {'Key': 'flavia-costa/60933452-449e-4458-be58-dcc87070b79e.csv.metadata', 'Code': 'AccessDenied', 'Message': 'Access Denied'}, {'Key': 'flavia-costa/b482e8e5-df9f-4f56-88d0-0cecf1b2af64.csv.metadata', 'Code': 'AccessDenied', 'Message': 'Access Denied'}, {'Key': 'flavia-costa/b30a8a9d-8b62-4383-a81e-513f46888b4a.csv.metadata', 'Code': 'AccessDenied', 'Message': 'Access Denied'}, {'Key': 'flavia-costa/b19f4ce3-0097-42ef-9a6e-850618d28ba1.csv', 'Code': 'AccessDenied', 'Message': 'Access Denied'}, {'Key': 'flavia-costa/6c2ab18f-d20d-464c-b92e-4ecdb1a0e904.csv.metadata', 'Code': 'AccessDenied', 'Message': 'Access Denied'}, {'Key': 'flavia-costa/45b42909-1539-44b7-89bf-f515b49b2362.txt.metadata', 'Code': 'AccessDenied', 'Message': 'Access Denied'}, {'Key': 'flavia-costa/f8d0c5e7-dc7d-41e8-ad0e-2001776784c0.csv.metadata', 'Code': 'AccessDenied', 'Message': 'Access Denied'}, {'Key': 'flavia-costa/f5bdb4b4-f169-4d6b-94f6-44496236d95c.csv.metadata', 'Code': 'AccessDenied', 'Message': 'Access Denied'}, {'Key': 'flavia-costa/717629ac-b5b8-4f3d-9a7f-77468ed6a55f.csv.metadata', 'Code': 'AccessDenied', 'Message': 'Access Denied'}, {'Key': 'flavia-costa/f72732f6-df61-4852-b5d5-0716f487a9ea.csv', 'Code': 'AccessDenied', 'Message': 'Access Denied'}, {'Key': 'flavia-costa/4853f743-c104-485f-aab6-ce2cd00a01b3.csv', 'Code': 'AccessDenied', 'Message': 'Access Denied'}, {'Key': 'flavia-costa/eacd1756-de47-4627-9fa0-87b5f7e2df0f.csv', 'Code': 'AccessDenied', 'Message': 'Access Denied'}, {'Key': 'flavia-costa/tables/ac341500-8d64-47a6-b673-5a2db54f2ed2.metadata', 'Code': 'AccessDenied', 'Message': 'Access Denied'}, {'Key': 'flavia-costa/f017dc2a-b2ec-4606-a9da-3f5d286453bb.csv', 'Code': 'AccessDenied', 'Message': 'Access Denied'}, {'Key': 'flavia-costa/9b282ed6-9225-49d7-8c3d-2fc0958cef0f.csv.metadata', 'Code': 'AccessDenied', 'Message': 'Access Denied'}, {'Key': 'flavia-costa/83135268-a4f2-4d26-a89b-8b1d02af5266.csv', 'Code': 'AccessDenied', 'Message': 'Access Denied'}, {'Key': 'flavia-costa/d24f8d9a-4aaf-4497-8f6e-89495839c273.csv.metadata', 'Code': 'AccessDenied', 'Message': 'Access Denied'}, {'Key': 'flavia-costa/f1864a77-6377-460a-8670-cb53ec29d47f.csv.metadata', 'Code': 'AccessDenied', 'Message': 'Access Denied'}, {'Key': 'flavia-costa/32ba99ec-4e49-486c-8c90-a396131d8f24.csv.metadata', 'Code': 'AccessDenied', 'Message': 'Access Denied'}, {'Key': 'flavia-costa/83135268-a4f2-4d26-a89b-8b1d02af5266.csv.metadata', 'Code': 'AccessDenied', 'Message': 'Access Denied'}, {'Key': 'flavia-costa/e02486d2-23b8-4f7c-92eb-21bb9d7bce4c.csv.metadata', 'Code': 'AccessDenied', 'Message': 'Access Denied'}, {'Key': 'flavia-costa/f72732f6-df61-4852-b5d5-0716f487a9ea.csv.metadata', 'Code': 'AccessDenied', 'Message': 'Access Denied'}, {'Key': 'flavia-costa/f8d0c5e7-dc7d-41e8-ad0e-2001776784c0.csv', 'Code': 'AccessDenied', 'Message': 'Access Denied'}, {'Key': 'flavia-costa/8749ad6b-5405-4a5d-a00f-da0651f98b32.csv', 'Code': 'AccessDenied', 'Message': 'Access Denied'}, {'Key': 'flavia-costa/9dd84ed8-0516-4f2e-88ff-4e5a1e98cc32.csv', 'Code': 'AccessDenied', 'Message': 'Access Denied'}, {'Key': 'flavia-costa/59540363-4111-42d4-bdb3-f7990c504214.csv.metadata', 'Code': 'AccessDenied', 'Message': 'Access Denied'}, {'Key': 'flavia-costa/7955d43c-31ee-4859-bc83-15d3bcec6f51.csv', 'Code': 'AccessDenied', 'Message': 'Access Denied'}, {'Key': 'flavia-costa/2b54e7d4-11c2-4409-8f23-4c241e7053df.csv.metadata', 'Code': 'AccessDenied', 'Message': 'Access Denied'}, {'Key': 'flavia-costa/2b69b121-afe8-41cb-9df9-62dd5ec484fd.csv.metadata', 'Code': 'AccessDenied', 'Message': 'Access Denied'}, {'Key': 'flavia-costa/9c29d3f5-e154-4e9a-8ca2-c1dad6664468.csv.metadata', 'Code': 'AccessDenied', 'Message': 'Access Denied'}, {'Key': 'flavia-costa/7f124168-5eeb-4f1c-9543-6ab0cafc5988.csv', 'Code': 'AccessDenied', 'Message': 'Access Denied'}, {'Key': 'flavia-costa/6656b198-fccb-4683-8488-d3f3002ef5ff.csv', 'Code': 'AccessDenied', 'Message': 'Access Denied'}, {'Key': 'flavia-costa/c1e0cec7-defe-47e9-8f7f-66da3d875c90.csv', 'Code': 'AccessDenied', 'Message': 'Access Denied'}, {'Key': 'flavia-costa/8a2722c7-bf5d-405a-a336-4bf7d868aef8.csv', 'Code': 'AccessDenied', 'Message': 'Access Denied'}, {'Key': 'flavia-costa/262edf0e-2159-45f7-94c2-fbcab7edf5e4.csv', 'Code': 'AccessDenied', 'Message': 'Access Denied'}, {'Key': 'flavia-costa/f5bdb4b4-f169-4d6b-94f6-44496236d95c.csv', 'Code': 'AccessDenied', 'Message': 'Access Denied'}, {'Key': 'flavia-costa/71f7421b-f9f2-41b2-a0dd-f94eef1b05ce.csv.metadata', 'Code': 'AccessDenied', 'Message': 'Access Denied'}, {'Key': 'flavia-costa/b4b841a5-dce8-4dc7-bc32-318e81abb9c1.csv.metadata', 'Code': 'AccessDenied', 'Message': 'Access Denied'}, {'Key': 'flavia-costa/62587006-ccbc-4d3e-98db-0f94448ef40b.csv.metadata', 'Code': 'AccessDenied', 'Message': 'Access Denied'}, {'Key': 'flavia-costa/9016a473-c9a7-4317-9e91-523d3accf044.csv.metadata', 'Code': 'AccessDenied', 'Message': 'Access Denied'}, {'Key': 'flavia-costa/97800c9b-6e5f-492d-b467-f55ee860f39d.csv', 'Code': 'AccessDenied', 'Message': 'Access Denied'}, {'Key': 'flavia-costa/7eba386a-d5af-41d7-907c-f1018257a50f.csv', 'Code': 'AccessDenied', 'Message': 'Access Denied'}, {'Key': 'flavia-costa/c1e0cec7-defe-47e9-8f7f-66da3d875c90.csv.metadata', 'Code': 'AccessDenied', 'Message': 'Access Denied'}, {'Key': 'flavia-costa/b4b841a5-dce8-4dc7-bc32-318e81abb9c1.csv', 'Code': 'AccessDenied', 'Message': 'Access Denied'}, {'Key': 'flavia-costa/481546b2-d925-4f17-80d7-a78606e55ac9.csv.metadata', 'Code': 'AccessDenied', 'Message': 'Access Denied'}, {'Key': 'flavia-costa/97800c9b-6e5f-492d-b467-f55ee860f39d.csv.metadata', 'Code': 'AccessDenied', 'Message': 'Access Denied'}, {'Key': 'flavia-costa/d26bd3ac-418a-4cd0-827a-9065bf168e51.csv.metadata', 'Code': 'AccessDenied', 'Message': 'Access Denied'}, {'Key': 'flavia-costa/7521b49a-1d60-462a-a64e-a7a2a601d318.csv.metadata', 'Code': 'AccessDenied', 'Message': 'Access Denied'}, {'Key': 'flavia-costa/292cc283-7477-44fe-a718-6162fc62dcc0.csv', 'Code': 'AccessDenied', 'Message': 'Access Denied'}, {'Key': 'flavia-costa/51d386d7-7a4c-46fe-a499-bc5ae96d3280.csv', 'Code': 'AccessDenied', 'Message': 'Access Denied'}, {'Key': 'flavia-costa/f1864a77-6377-460a-8670-cb53ec29d47f.csv', 'Code': 'AccessDenied', 'Message': 'Access Denied'}, {'Key': 'flavia-costa/110d75c6-38e3-49c6-ab46-87a0dae7b64c.csv', 'Code': 'AccessDenied', 'Message': 'Access Denied'}, {'Key': 'flavia-costa/d26bd3ac-418a-4cd0-827a-9065bf168e51.csv', 'Code': 'AccessDenied', 'Message': 'Access Denied'}, {'Key': 'flavia-costa/8a2722c7-bf5d-405a-a336-4bf7d868aef8.csv.metadata', 'Code': 'AccessDenied', 'Message': 'Access Denied'}, {'Key': 'flavia-costa/2d831681-b858-4836-a661-10bf95648651.csv.metadata', 'Code': 'AccessDenied', 'Message': 'Access Denied'}, {'Key': 'flavia-costa/9cc2d9ed-e586-4c0b-8cb5-5490b8b1c752.csv.metadata', 'Code': 'AccessDenied', 'Message': 'Access Denied'}, {'Key': 'flavia-costa/067780fc-5f2e-4bb9-9efb-28ee279a8c31.csv', 'Code': 'AccessDenied', 'Message': 'Access Denied'}, {'Key': 'flavia-costa/72ea314f-68aa-4cfd-a4e0-626210845b43.csv.metadata', 'Code': 'AccessDenied', 'Message': 'Access Denied'}, {'Key': 'flavia-costa/74cd27fc-2a8b-4be8-85ad-fcb181f10376.csv.metadata', 'Code': 'AccessDenied', 'Message': 'Access Denied'}, {'Key': 'flavia-costa/8bfc6e8d-2186-4d47-b012-b5b5ba76334b.csv', 'Code': 'AccessDenied', 'Message': 'Access Denied'}, {'Key': 'flavia-costa/a93ae551-6c9f-4ef1-b5bf-88a616bdfed2.csv.metadata', 'Code': 'AccessDenied', 'Message': 'Access Denied'}, {'Key': 'flavia-costa/4038f6d2-517a-491d-b6ab-ed54641e25a6.csv.metadata', 'Code': 'AccessDenied', 'Message': 'Access Denied'}, {'Key': 'flavia-costa/6a9dbd9c-a758-4c59-8d08-fd7e48462cd1.txt.metadata', 'Code': 'AccessDenied', 'Message': 'Access Denied'}, {'Key': 'flavia-costa/6a9dbd9c-a758-4c59-8d08-fd7e48462cd1.txt', 'Code': 'AccessDenied', 'Message': 'Access Denied'}, {'Key': 'flavia-costa/b30a8a9d-8b62-4383-a81e-513f46888b4a.csv', 'Code': 'AccessDenied', 'Message': 'Access Denied'}, {'Key': 'flavia-costa/d74f8af1-6d4a-441a-9d50-246abd8cc6cf.csv.metadata', 'Code': 'AccessDenied', 'Message': 'Access Denied'}, {'Key': 'flavia-costa/ef19f2b9-c351-4ab5-b2ee-c5907096d31a.csv.metadata', 'Code': 'AccessDenied', 'Message': 'Access Denied'}, {'Key': 'flavia-costa/d74f8af1-6d4a-441a-9d50-246abd8cc6cf.csv', 'Code': 'AccessDenied', 'Message': 'Access Denied'}, {'Key': 'flavia-costa/60d3ac65-65c0-4ceb-ac58-54f7ca1678b2.csv', 'Code': 'AccessDenied', 'Message': 'Access Denied'}, {'Key': 'flavia-costa/tables/ac341500-8d64-47a6-b673-5a2db54f2ed2/20231018_140018_00137_bb9i6_2779ca54-c6e5-440f-af83-105bccd5ee47', 'Code': 'AccessDenied', 'Message': 'Access Denied'}, {'Key': 'flavia-costa/7f124168-5eeb-4f1c-9543-6ab0cafc5988.csv.metadata', 'Code': 'AccessDenied', 'Message': 'Access Denied'}, {'Key': 'flavia-costa/013708c1-0aff-4983-91ef-bcd336d850d0.csv.metadata', 'Code': 'AccessDenied', 'Message': 'Access Denied'}, {'Key': 'flavia-costa/8749ad6b-5405-4a5d-a00f-da0651f98b32.csv.metadata', 'Code': 'AccessDenied', 'Message': 'Access Denied'}, {'Key': 'flavia-costa/9550f063-51b8-426f-819e-92fc773bd366.csv', 'Code': 'AccessDenied', 'Message': 'Access Denied'}, {'Key': 'flavia-costa/4bdb7ddd-7632-4301-ae87-32362f9d6502.csv.metadata', 'Code': 'AccessDenied', 'Message': 'Access Denied'}, {'Key': 'flavia-costa/e02486d2-23b8-4f7c-92eb-21bb9d7bce4c.csv', 'Code': 'AccessDenied', 'Message': 'Access Denied'}, {'Key': 'flavia-costa/5d7931b3-8d36-4124-ae07-004363024320.csv', 'Code': 'AccessDenied', 'Message': 'Access Denied'}, {'Key': 'flavia-costa/c3671251-4363-4768-835d-87f649e7c649.csv', 'Code': 'AccessDenied', 'Message': 'Access Denied'}, {'Key': 'flavia-costa/f159c0d9-c6ff-47a4-8cb0-9eac5f70e30d.csv.metadata', 'Code': 'AccessDenied', 'Message': 'Access Denied'}, {'Key': 'flavia-costa/24e5b659-56f0-439c-bacd-ff1c0a5ea222.csv', 'Code': 'AccessDenied', 'Message': 'Access Denied'}, {'Key': 'flavia-costa/f2d1a145-cf19-4fbf-b735-42e90141d0e5.csv', 'Code': 'AccessDenied', 'Message': 'Access Denied'}, {'Key': 'flavia-costa/67043bf9-77bf-43ef-80e7-0fe8a39711ef.csv.metadata', 'Code': 'AccessDenied', 'Message': 'Access Denied'}, {'Key': 'flavia-costa/9dd84ed8-0516-4f2e-88ff-4e5a1e98cc32.csv.metadata', 'Code': 'AccessDenied', 'Message': 'Access Denied'}, {'Key': 'flavia-costa/9441586c-9e59-4ed9-976e-25dfd42a1369.csv', 'Code': 'AccessDenied', 'Message': 'Access Denied'}, {'Key': 'flavia-costa/3f6fc8b8-6351-4cde-9bbe-b6496ec71ab2.csv.metadata', 'Code': 'AccessDenied', 'Message': 'Access Denied'}, {'Key': 'flavia-costa/5d7931b3-8d36-4124-ae07-004363024320.csv.metadata', 'Code': 'AccessDenied', 'Message': 'Access Denied'}, {'Key': 'flavia-costa/tables/ac341500-8d64-47a6-b673-5a2db54f2ed2/20231018_140018_00137_bb9i6_ac8ae167-2aa8-47ad-b14f-0283065f464b', 'Code': 'AccessDenied', 'Message': 'Access Denied'}, {'Key': 'flavia-costa/2d831681-b858-4836-a661-10bf95648651.csv', 'Code': 'AccessDenied', 'Message': 'Access Denied'}, {'Key': 'flavia-costa/110d75c6-38e3-49c6-ab46-87a0dae7b64c.csv.metadata', 'Code': 'AccessDenied', 'Message': 'Access Denied'}, {'Key': 'flavia-costa/a93ae551-6c9f-4ef1-b5bf-88a616bdfed2.csv', 'Code': 'AccessDenied', 'Message': 'Access Denied'}, {'Key': 'flavia-costa/18029364-8595-441d-a92d-64b60ddfcfa4.csv', 'Code': 'AccessDenied', 'Message': 'Access Denied'}, {'Key': 'flavia-costa/60d3ac65-65c0-4ceb-ac58-54f7ca1678b2.csv.metadata', 'Code': 'AccessDenied', 'Message': 'Access Denied'}, {'Key': 'flavia-costa/00dc976e-1d3a-4162-a241-64801c3ac422.csv.metadata', 'Code': 'AccessDenied', 'Message': 'Access Denied'}, {'Key': 'flavia-costa/3bd74eb0-3fb3-4a3d-9695-c17901662406.csv', 'Code': 'AccessDenied', 'Message': 'Access Denied'}, {'Key': 'flavia-costa/628598e8-b95f-4525-b0b6-5b2851971f0b.csv.metadata', 'Code': 'AccessDenied', 'Message': 'Access Denied'}, {'Key': 'flavia-costa/a81ceeda-6aae-4f35-b2ba-e9150dcf42b2.csv', 'Code': 'AccessDenied', 'Message': 'Access Denied'}, {'Key': 'flavia-costa/18029364-8595-441d-a92d-64b60ddfcfa4.csv.metadata', 'Code': 'AccessDenied', 'Message': 'Access Denied'}, {'Key': 'flavia-costa/114ea7ec-d421-44d9-8e56-9eb134a021cc.csv', 'Code': 'AccessDenied', 'Message': 'Access Denied'}, {'Key': 'flavia-costa/114ea7ec-d421-44d9-8e56-9eb134a021cc.csv.metadata', 'Code': 'AccessDenied', 'Message': 'Access Denied'}, {'Key': 'flavia-costa/00dc976e-1d3a-4162-a241-64801c3ac422.csv', 'Code': 'AccessDenied', 'Message': 'Access Denied'}, {'Key': 'flavia-costa/067780fc-5f2e-4bb9-9efb-28ee279a8c31.csv.metadata', 'Code': 'AccessDenied', 'Message': 'Access Denied'}, {'Key': 'flavia-costa/f017dc2a-b2ec-4606-a9da-3f5d286453bb.csv.metadata', 'Code': 'AccessDenied', 'Message': 'Access Denied'}, {'Key': 'flavia-costa/60933452-449e-4458-be58-dcc87070b79e.csv', 'Code': 'AccessDenied', 'Message': 'Access Denied'}, {'Key': 'flavia-costa/a81ceeda-6aae-4f35-b2ba-e9150dcf42b2.csv.metadata', 'Code': 'AccessDenied', 'Message': 'Access Denied'}, {'Key': 'flavia-costa/273c3c1f-b788-4578-b13e-99422ac7d8bc.csv', 'Code': 'AccessDenied', 'Message': 'Access Denied'}, {'Key': 'flavia-costa/4038f6d2-517a-491d-b6ab-ed54641e25a6.csv', 'Code': 'AccessDenied', 'Message': 'Access Denied'}, {'Key': 'flavia-costa/6a650524-7bcb-4dd0-b52e-67730af18a21.csv.metadata', 'Code': 'AccessDenied', 'Message': 'Access Denied'}, {'Key': 'flavia-costa/tables/ac341500-8d64-47a6-b673-5a2db54f2ed2/20231018_140018_00137_bb9i6_63b354db-50c0-4817-9b7b-a4caee9a7bfa', 'Code': 'AccessDenied', 'Message': 'Access Denied'}, {'Key': 'flavia-costa/7521b49a-1d60-462a-a64e-a7a2a601d318.csv', 'Code': 'AccessDenied', 'Message': 'Access Denied'}, {'Key': 'flavia-costa/7eba386a-d5af-41d7-907c-f1018257a50f.csv.metadata', 'Code': 'AccessDenied', 'Message': 'Access Denied'}, {'Key': 'flavia-costa/24e5b659-56f0-439c-bacd-ff1c0a5ea222.csv.metadata', 'Code': 'AccessDenied', 'Message': 'Access Denied'}, {'Key': 'flavia-costa/56351ced-5c9f-429e-b434-7fbc5279d2b5.csv', 'Code': 'AccessDenied', 'Message': 'Access Denied'}, {'Key': 'flavia-costa/tables/ac341500-8d64-47a6-b673-5a2db54f2ed2/20231018_140018_00137_bb9i6_79d3e0bf-3e6a-4d42-b274-76375649768f', 'Code': 'AccessDenied', 'Message': 'Access Denied'}, {'Key': 'flavia-costa/tables/ac341500-8d64-47a6-b673-5a2db54f2ed2/20231018_140018_00137_bb9i6_9f15208a-03c3-485d-a95a-678e47796d8b', 'Code': 'AccessDenied', 'Message': 'Access Denied'}, {'Key': 'flavia-costa/04ce06f8-90da-44e7-a54c-f7a201955d15.txt', 'Code': 'AccessDenied', 'Message': 'Access Denied'}, {'Key': 'flavia-costa/2fce309b-6df5-41db-a1f4-9071da3d854f.csv.metadata', 'Code': 'AccessDenied', 'Message': 'Access Denied'}, {'Key': 'flavia-costa/3e80853a-23a3-472e-9e0e-fe16d73d4cf9.csv', 'Code': 'AccessDenied', 'Message': 'Access Denied'}, {'Key': 'flavia-costa/74cd27fc-2a8b-4be8-85ad-fcb181f10376.csv', 'Code': 'AccessDenied', 'Message': 'Access Denied'}, {'Key': 'flavia-costa/e67c83f9-b544-4a6c-b8d0-008d42f31fe7.csv.metadata', 'Code': 'AccessDenied', 'Message': 'Access Denied'}, {'Key': 'flavia-costa/tables/ac341500-8d64-47a6-b673-5a2db54f2ed2/20231018_140018_00137_bb9i6_a1a6eb66-4956-423a-b1bf-02064c1bb5aa', 'Code': 'AccessDenied', 'Message': 'Access Denied'}, {'Key': 'flavia-costa/tables/ac341500-8d64-47a6-b673-5a2db54f2ed2-manifest.csv', 'Code': 'AccessDenied', 'Message': 'Access Denied'}, {'Key': 'flavia-costa/9cc2d9ed-e586-4c0b-8cb5-5490b8b1c752.csv', 'Code': 'AccessDenied', 'Message': 'Access Denied'}, {'Key': 'flavia-costa/tables/ac341500-8d64-47a6-b673-5a2db54f2ed2/20231018_140018_00137_bb9i6_d251a1f6-cea7-40e9-9cbb-5a92573fd95d', 'Code': 'AccessDenied', 'Message': 'Access Denied'}, {'Key': 'flavia-costa/f6c4da50-d33f-45b2-8627-6aacfcd4f057.csv.metadata', 'Code': 'AccessDenied', 'Message': 'Access Denied'}, {'Key': 'flavia-costa/628598e8-b95f-4525-b0b6-5b2851971f0b.csv', 'Code': 'AccessDenied', 'Message': 'Access Denied'}, {'Key': 'flavia-costa/efc7d36e-14e0-4adc-8b5d-9c896032d1e1.csv', 'Code': 'AccessDenied', 'Message': 'Access Denied'}, {'Key': 'flavia-costa/c59e117e-fa1e-41ac-bf1c-c6bc3acf06d3.csv.metadata', 'Code': 'AccessDenied', 'Message': 'Access Denied'}, {'Key': 'flavia-costa/d1ab8e69-d170-442e-9380-cdb876b161b7.csv.metadata', 'Code': 'AccessDenied', 'Message': 'Access Denied'}]"
     ]
    },
    {
     "name": "stderr",
     "output_type": "stream",
     "text": [
      "Exception ignored in: <function _S3ObjectBase.__del__ at 0x7f285f283280>\n",
      "Traceback (most recent call last):\n",
      "  File \"/opt/conda/lib/python3.8/site-packages/awswrangler/s3/_fs.py\", line 245, in __del__\n",
      "    self.close()\n",
      "  File \"/opt/conda/lib/python3.8/site-packages/awswrangler/s3/_fs.py\", line 475, in close\n",
      "    _utils.try_it(\n",
      "  File \"/opt/conda/lib/python3.8/site-packages/awswrangler/_utils.py\", line 822, in try_it\n",
      "    return f(*args, **kwargs)\n",
      "  File \"/opt/conda/lib/python3.8/site-packages/botocore/client.py\", line 535, in _api_call\n",
      "    return self._make_api_call(operation_name, kwargs)\n",
      "  File \"/opt/conda/lib/python3.8/site-packages/botocore/client.py\", line 963, in _make_api_call\n",
      "    http, parsed_response = self._make_request(\n",
      "  File \"/opt/conda/lib/python3.8/site-packages/botocore/client.py\", line 986, in _make_request\n",
      "    return self._endpoint.make_request(operation_model, request_dict)\n",
      "  File \"/opt/conda/lib/python3.8/site-packages/botocore/endpoint.py\", line 119, in make_request\n",
      "    return self._send_request(request_dict, operation_model)\n",
      "  File \"/opt/conda/lib/python3.8/site-packages/botocore/endpoint.py\", line 198, in _send_request\n",
      "    request = self.create_request(request_dict, operation_model)\n",
      "  File \"/opt/conda/lib/python3.8/site-packages/botocore/endpoint.py\", line 134, in create_request\n",
      "    self._event_emitter.emit(\n",
      "  File \"/opt/conda/lib/python3.8/site-packages/botocore/hooks.py\", line 412, in emit\n",
      "    return self._emitter.emit(aliased_event_name, **kwargs)\n",
      "  File \"/opt/conda/lib/python3.8/site-packages/botocore/hooks.py\", line 256, in emit\n",
      "    return self._emit(event_name, kwargs)\n",
      "  File \"/opt/conda/lib/python3.8/site-packages/botocore/hooks.py\", line 239, in _emit\n",
      "    response = handler(**kwargs)\n",
      "  File \"/opt/conda/lib/python3.8/site-packages/botocore/signers.py\", line 105, in handler\n",
      "    return self.sign(operation_name, request)\n",
      "  File \"/opt/conda/lib/python3.8/site-packages/botocore/signers.py\", line 149, in sign\n",
      "    signature_version = self._choose_signer(\n",
      "  File \"/opt/conda/lib/python3.8/site-packages/botocore/signers.py\", line 219, in _choose_signer\n",
      "    handler, response = self._event_emitter.emit_until_response(\n",
      "ReferenceError: weakly-referenced object no longer exists\n"
     ]
    }
   ],
   "source": [
    "wr.s3.to_parquet(\n",
    "    df=df,\n",
    "    path=\"s3://data-athena-query-result-will-prod/flavia-costa\", \n",
    "    dataset=True,\n",
    "    mode=\"overwrite\",\n",
    "    database=\"customer_sandbox_zone\",\n",
    "    table=\"segmentacao_mgm\",\n",
    "    boto3_session=boto3_session,\n",
    ")"
   ]
  },
  {
   "cell_type": "code",
   "execution_count": null,
   "metadata": {},
   "outputs": [],
   "source": []
  }
 ],
 "metadata": {
  "availableInstances": [
   {
    "_defaultOrder": 0,
    "_isFastLaunch": true,
    "category": "General purpose",
    "gpuNum": 0,
    "hideHardwareSpecs": false,
    "memoryGiB": 4,
    "name": "ml.t3.medium",
    "vcpuNum": 2
   },
   {
    "_defaultOrder": 1,
    "_isFastLaunch": false,
    "category": "General purpose",
    "gpuNum": 0,
    "hideHardwareSpecs": false,
    "memoryGiB": 8,
    "name": "ml.t3.large",
    "vcpuNum": 2
   },
   {
    "_defaultOrder": 2,
    "_isFastLaunch": false,
    "category": "General purpose",
    "gpuNum": 0,
    "hideHardwareSpecs": false,
    "memoryGiB": 16,
    "name": "ml.t3.xlarge",
    "vcpuNum": 4
   },
   {
    "_defaultOrder": 3,
    "_isFastLaunch": false,
    "category": "General purpose",
    "gpuNum": 0,
    "hideHardwareSpecs": false,
    "memoryGiB": 32,
    "name": "ml.t3.2xlarge",
    "vcpuNum": 8
   },
   {
    "_defaultOrder": 4,
    "_isFastLaunch": true,
    "category": "General purpose",
    "gpuNum": 0,
    "hideHardwareSpecs": false,
    "memoryGiB": 8,
    "name": "ml.m5.large",
    "vcpuNum": 2
   },
   {
    "_defaultOrder": 5,
    "_isFastLaunch": false,
    "category": "General purpose",
    "gpuNum": 0,
    "hideHardwareSpecs": false,
    "memoryGiB": 16,
    "name": "ml.m5.xlarge",
    "vcpuNum": 4
   },
   {
    "_defaultOrder": 6,
    "_isFastLaunch": false,
    "category": "General purpose",
    "gpuNum": 0,
    "hideHardwareSpecs": false,
    "memoryGiB": 32,
    "name": "ml.m5.2xlarge",
    "vcpuNum": 8
   },
   {
    "_defaultOrder": 7,
    "_isFastLaunch": false,
    "category": "General purpose",
    "gpuNum": 0,
    "hideHardwareSpecs": false,
    "memoryGiB": 64,
    "name": "ml.m5.4xlarge",
    "vcpuNum": 16
   },
   {
    "_defaultOrder": 8,
    "_isFastLaunch": false,
    "category": "General purpose",
    "gpuNum": 0,
    "hideHardwareSpecs": false,
    "memoryGiB": 128,
    "name": "ml.m5.8xlarge",
    "vcpuNum": 32
   },
   {
    "_defaultOrder": 9,
    "_isFastLaunch": false,
    "category": "General purpose",
    "gpuNum": 0,
    "hideHardwareSpecs": false,
    "memoryGiB": 192,
    "name": "ml.m5.12xlarge",
    "vcpuNum": 48
   },
   {
    "_defaultOrder": 10,
    "_isFastLaunch": false,
    "category": "General purpose",
    "gpuNum": 0,
    "hideHardwareSpecs": false,
    "memoryGiB": 256,
    "name": "ml.m5.16xlarge",
    "vcpuNum": 64
   },
   {
    "_defaultOrder": 11,
    "_isFastLaunch": false,
    "category": "General purpose",
    "gpuNum": 0,
    "hideHardwareSpecs": false,
    "memoryGiB": 384,
    "name": "ml.m5.24xlarge",
    "vcpuNum": 96
   },
   {
    "_defaultOrder": 12,
    "_isFastLaunch": false,
    "category": "General purpose",
    "gpuNum": 0,
    "hideHardwareSpecs": false,
    "memoryGiB": 8,
    "name": "ml.m5d.large",
    "vcpuNum": 2
   },
   {
    "_defaultOrder": 13,
    "_isFastLaunch": false,
    "category": "General purpose",
    "gpuNum": 0,
    "hideHardwareSpecs": false,
    "memoryGiB": 16,
    "name": "ml.m5d.xlarge",
    "vcpuNum": 4
   },
   {
    "_defaultOrder": 14,
    "_isFastLaunch": false,
    "category": "General purpose",
    "gpuNum": 0,
    "hideHardwareSpecs": false,
    "memoryGiB": 32,
    "name": "ml.m5d.2xlarge",
    "vcpuNum": 8
   },
   {
    "_defaultOrder": 15,
    "_isFastLaunch": false,
    "category": "General purpose",
    "gpuNum": 0,
    "hideHardwareSpecs": false,
    "memoryGiB": 64,
    "name": "ml.m5d.4xlarge",
    "vcpuNum": 16
   },
   {
    "_defaultOrder": 16,
    "_isFastLaunch": false,
    "category": "General purpose",
    "gpuNum": 0,
    "hideHardwareSpecs": false,
    "memoryGiB": 128,
    "name": "ml.m5d.8xlarge",
    "vcpuNum": 32
   },
   {
    "_defaultOrder": 17,
    "_isFastLaunch": false,
    "category": "General purpose",
    "gpuNum": 0,
    "hideHardwareSpecs": false,
    "memoryGiB": 192,
    "name": "ml.m5d.12xlarge",
    "vcpuNum": 48
   },
   {
    "_defaultOrder": 18,
    "_isFastLaunch": false,
    "category": "General purpose",
    "gpuNum": 0,
    "hideHardwareSpecs": false,
    "memoryGiB": 256,
    "name": "ml.m5d.16xlarge",
    "vcpuNum": 64
   },
   {
    "_defaultOrder": 19,
    "_isFastLaunch": false,
    "category": "General purpose",
    "gpuNum": 0,
    "hideHardwareSpecs": false,
    "memoryGiB": 384,
    "name": "ml.m5d.24xlarge",
    "vcpuNum": 96
   },
   {
    "_defaultOrder": 20,
    "_isFastLaunch": false,
    "category": "General purpose",
    "gpuNum": 0,
    "hideHardwareSpecs": true,
    "memoryGiB": 0,
    "name": "ml.geospatial.interactive",
    "supportedImageNames": [
     "sagemaker-geospatial-v1-0"
    ],
    "vcpuNum": 0
   },
   {
    "_defaultOrder": 21,
    "_isFastLaunch": true,
    "category": "Compute optimized",
    "gpuNum": 0,
    "hideHardwareSpecs": false,
    "memoryGiB": 4,
    "name": "ml.c5.large",
    "vcpuNum": 2
   },
   {
    "_defaultOrder": 22,
    "_isFastLaunch": false,
    "category": "Compute optimized",
    "gpuNum": 0,
    "hideHardwareSpecs": false,
    "memoryGiB": 8,
    "name": "ml.c5.xlarge",
    "vcpuNum": 4
   },
   {
    "_defaultOrder": 23,
    "_isFastLaunch": false,
    "category": "Compute optimized",
    "gpuNum": 0,
    "hideHardwareSpecs": false,
    "memoryGiB": 16,
    "name": "ml.c5.2xlarge",
    "vcpuNum": 8
   },
   {
    "_defaultOrder": 24,
    "_isFastLaunch": false,
    "category": "Compute optimized",
    "gpuNum": 0,
    "hideHardwareSpecs": false,
    "memoryGiB": 32,
    "name": "ml.c5.4xlarge",
    "vcpuNum": 16
   },
   {
    "_defaultOrder": 25,
    "_isFastLaunch": false,
    "category": "Compute optimized",
    "gpuNum": 0,
    "hideHardwareSpecs": false,
    "memoryGiB": 72,
    "name": "ml.c5.9xlarge",
    "vcpuNum": 36
   },
   {
    "_defaultOrder": 26,
    "_isFastLaunch": false,
    "category": "Compute optimized",
    "gpuNum": 0,
    "hideHardwareSpecs": false,
    "memoryGiB": 96,
    "name": "ml.c5.12xlarge",
    "vcpuNum": 48
   },
   {
    "_defaultOrder": 27,
    "_isFastLaunch": false,
    "category": "Compute optimized",
    "gpuNum": 0,
    "hideHardwareSpecs": false,
    "memoryGiB": 144,
    "name": "ml.c5.18xlarge",
    "vcpuNum": 72
   },
   {
    "_defaultOrder": 28,
    "_isFastLaunch": false,
    "category": "Compute optimized",
    "gpuNum": 0,
    "hideHardwareSpecs": false,
    "memoryGiB": 192,
    "name": "ml.c5.24xlarge",
    "vcpuNum": 96
   },
   {
    "_defaultOrder": 29,
    "_isFastLaunch": true,
    "category": "Accelerated computing",
    "gpuNum": 1,
    "hideHardwareSpecs": false,
    "memoryGiB": 16,
    "name": "ml.g4dn.xlarge",
    "vcpuNum": 4
   },
   {
    "_defaultOrder": 30,
    "_isFastLaunch": false,
    "category": "Accelerated computing",
    "gpuNum": 1,
    "hideHardwareSpecs": false,
    "memoryGiB": 32,
    "name": "ml.g4dn.2xlarge",
    "vcpuNum": 8
   },
   {
    "_defaultOrder": 31,
    "_isFastLaunch": false,
    "category": "Accelerated computing",
    "gpuNum": 1,
    "hideHardwareSpecs": false,
    "memoryGiB": 64,
    "name": "ml.g4dn.4xlarge",
    "vcpuNum": 16
   },
   {
    "_defaultOrder": 32,
    "_isFastLaunch": false,
    "category": "Accelerated computing",
    "gpuNum": 1,
    "hideHardwareSpecs": false,
    "memoryGiB": 128,
    "name": "ml.g4dn.8xlarge",
    "vcpuNum": 32
   },
   {
    "_defaultOrder": 33,
    "_isFastLaunch": false,
    "category": "Accelerated computing",
    "gpuNum": 4,
    "hideHardwareSpecs": false,
    "memoryGiB": 192,
    "name": "ml.g4dn.12xlarge",
    "vcpuNum": 48
   },
   {
    "_defaultOrder": 34,
    "_isFastLaunch": false,
    "category": "Accelerated computing",
    "gpuNum": 1,
    "hideHardwareSpecs": false,
    "memoryGiB": 256,
    "name": "ml.g4dn.16xlarge",
    "vcpuNum": 64
   },
   {
    "_defaultOrder": 35,
    "_isFastLaunch": false,
    "category": "Accelerated computing",
    "gpuNum": 1,
    "hideHardwareSpecs": false,
    "memoryGiB": 61,
    "name": "ml.p3.2xlarge",
    "vcpuNum": 8
   },
   {
    "_defaultOrder": 36,
    "_isFastLaunch": false,
    "category": "Accelerated computing",
    "gpuNum": 4,
    "hideHardwareSpecs": false,
    "memoryGiB": 244,
    "name": "ml.p3.8xlarge",
    "vcpuNum": 32
   },
   {
    "_defaultOrder": 37,
    "_isFastLaunch": false,
    "category": "Accelerated computing",
    "gpuNum": 8,
    "hideHardwareSpecs": false,
    "memoryGiB": 488,
    "name": "ml.p3.16xlarge",
    "vcpuNum": 64
   },
   {
    "_defaultOrder": 38,
    "_isFastLaunch": false,
    "category": "Accelerated computing",
    "gpuNum": 8,
    "hideHardwareSpecs": false,
    "memoryGiB": 768,
    "name": "ml.p3dn.24xlarge",
    "vcpuNum": 96
   },
   {
    "_defaultOrder": 39,
    "_isFastLaunch": false,
    "category": "Memory Optimized",
    "gpuNum": 0,
    "hideHardwareSpecs": false,
    "memoryGiB": 16,
    "name": "ml.r5.large",
    "vcpuNum": 2
   },
   {
    "_defaultOrder": 40,
    "_isFastLaunch": false,
    "category": "Memory Optimized",
    "gpuNum": 0,
    "hideHardwareSpecs": false,
    "memoryGiB": 32,
    "name": "ml.r5.xlarge",
    "vcpuNum": 4
   },
   {
    "_defaultOrder": 41,
    "_isFastLaunch": false,
    "category": "Memory Optimized",
    "gpuNum": 0,
    "hideHardwareSpecs": false,
    "memoryGiB": 64,
    "name": "ml.r5.2xlarge",
    "vcpuNum": 8
   },
   {
    "_defaultOrder": 42,
    "_isFastLaunch": false,
    "category": "Memory Optimized",
    "gpuNum": 0,
    "hideHardwareSpecs": false,
    "memoryGiB": 128,
    "name": "ml.r5.4xlarge",
    "vcpuNum": 16
   },
   {
    "_defaultOrder": 43,
    "_isFastLaunch": false,
    "category": "Memory Optimized",
    "gpuNum": 0,
    "hideHardwareSpecs": false,
    "memoryGiB": 256,
    "name": "ml.r5.8xlarge",
    "vcpuNum": 32
   },
   {
    "_defaultOrder": 44,
    "_isFastLaunch": false,
    "category": "Memory Optimized",
    "gpuNum": 0,
    "hideHardwareSpecs": false,
    "memoryGiB": 384,
    "name": "ml.r5.12xlarge",
    "vcpuNum": 48
   },
   {
    "_defaultOrder": 45,
    "_isFastLaunch": false,
    "category": "Memory Optimized",
    "gpuNum": 0,
    "hideHardwareSpecs": false,
    "memoryGiB": 512,
    "name": "ml.r5.16xlarge",
    "vcpuNum": 64
   },
   {
    "_defaultOrder": 46,
    "_isFastLaunch": false,
    "category": "Memory Optimized",
    "gpuNum": 0,
    "hideHardwareSpecs": false,
    "memoryGiB": 768,
    "name": "ml.r5.24xlarge",
    "vcpuNum": 96
   },
   {
    "_defaultOrder": 47,
    "_isFastLaunch": false,
    "category": "Accelerated computing",
    "gpuNum": 1,
    "hideHardwareSpecs": false,
    "memoryGiB": 16,
    "name": "ml.g5.xlarge",
    "vcpuNum": 4
   },
   {
    "_defaultOrder": 48,
    "_isFastLaunch": false,
    "category": "Accelerated computing",
    "gpuNum": 1,
    "hideHardwareSpecs": false,
    "memoryGiB": 32,
    "name": "ml.g5.2xlarge",
    "vcpuNum": 8
   },
   {
    "_defaultOrder": 49,
    "_isFastLaunch": false,
    "category": "Accelerated computing",
    "gpuNum": 1,
    "hideHardwareSpecs": false,
    "memoryGiB": 64,
    "name": "ml.g5.4xlarge",
    "vcpuNum": 16
   },
   {
    "_defaultOrder": 50,
    "_isFastLaunch": false,
    "category": "Accelerated computing",
    "gpuNum": 1,
    "hideHardwareSpecs": false,
    "memoryGiB": 128,
    "name": "ml.g5.8xlarge",
    "vcpuNum": 32
   },
   {
    "_defaultOrder": 51,
    "_isFastLaunch": false,
    "category": "Accelerated computing",
    "gpuNum": 1,
    "hideHardwareSpecs": false,
    "memoryGiB": 256,
    "name": "ml.g5.16xlarge",
    "vcpuNum": 64
   },
   {
    "_defaultOrder": 52,
    "_isFastLaunch": false,
    "category": "Accelerated computing",
    "gpuNum": 4,
    "hideHardwareSpecs": false,
    "memoryGiB": 192,
    "name": "ml.g5.12xlarge",
    "vcpuNum": 48
   },
   {
    "_defaultOrder": 53,
    "_isFastLaunch": false,
    "category": "Accelerated computing",
    "gpuNum": 4,
    "hideHardwareSpecs": false,
    "memoryGiB": 384,
    "name": "ml.g5.24xlarge",
    "vcpuNum": 96
   },
   {
    "_defaultOrder": 54,
    "_isFastLaunch": false,
    "category": "Accelerated computing",
    "gpuNum": 8,
    "hideHardwareSpecs": false,
    "memoryGiB": 768,
    "name": "ml.g5.48xlarge",
    "vcpuNum": 192
   },
   {
    "_defaultOrder": 55,
    "_isFastLaunch": false,
    "category": "Accelerated computing",
    "gpuNum": 8,
    "hideHardwareSpecs": false,
    "memoryGiB": 1152,
    "name": "ml.p4d.24xlarge",
    "vcpuNum": 96
   },
   {
    "_defaultOrder": 56,
    "_isFastLaunch": false,
    "category": "Accelerated computing",
    "gpuNum": 8,
    "hideHardwareSpecs": false,
    "memoryGiB": 1152,
    "name": "ml.p4de.24xlarge",
    "vcpuNum": 96
   }
  ],
  "kernelspec": {
   "display_name": "Python 3 (Data Science 2.0)",
   "language": "python",
   "name": "python3__SAGEMAKER_INTERNAL__arn:aws:sagemaker:sa-east-1:782484402741:image/sagemaker-data-science-38"
  },
  "language_info": {
   "codemirror_mode": {
    "name": "ipython",
    "version": 3
   },
   "file_extension": ".py",
   "mimetype": "text/x-python",
   "name": "python",
   "nbconvert_exporter": "python",
   "pygments_lexer": "ipython3",
   "version": "3.8.13"
  }
 },
 "nbformat": 4,
 "nbformat_minor": 4
}
