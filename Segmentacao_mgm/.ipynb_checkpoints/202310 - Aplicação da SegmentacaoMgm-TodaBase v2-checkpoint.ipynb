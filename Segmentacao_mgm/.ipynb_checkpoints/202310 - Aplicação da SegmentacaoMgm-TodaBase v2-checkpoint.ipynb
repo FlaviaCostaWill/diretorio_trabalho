{
 "cells": [
  {
   "cell_type": "code",
   "execution_count": 2,
   "metadata": {
    "tags": []
   },
   "outputs": [],
   "source": [
    "import pandas as pd\n",
    "import numpy as np\n",
    "import os as os\n",
    "import seaborn as sns\n",
    "import matplotlib.pyplot as plt\n",
    "import warnings\n",
    "\n",
    "warnings.simplefilter(action='ignore', category=FutureWarning)"
   ]
  },
  {
   "cell_type": "code",
   "execution_count": 3,
   "metadata": {
    "tags": []
   },
   "outputs": [
    {
     "name": "stdout",
     "output_type": "stream",
     "text": [
      "Requirement already satisfied: awswrangler in /opt/conda/lib/python3.8/site-packages (3.4.0)\n",
      "Requirement already satisfied: boto3<2.0.0,>=1.20.32 in /opt/conda/lib/python3.8/site-packages (from awswrangler) (1.28.42)\n",
      "Requirement already satisfied: botocore<2.0.0,>=1.23.32 in /opt/conda/lib/python3.8/site-packages (from awswrangler) (1.31.42)\n",
      "Requirement already satisfied: numpy<2.0,>=1.18 in /opt/conda/lib/python3.8/site-packages (from awswrangler) (1.24.4)\n",
      "Requirement already satisfied: packaging<24.0,>=21.1 in /opt/conda/lib/python3.8/site-packages (from awswrangler) (23.2)\n",
      "Requirement already satisfied: pandas<3.0.0,>=1.2.0 in /opt/conda/lib/python3.8/site-packages (from awswrangler) (1.3.4)\n",
      "Requirement already satisfied: pyarrow>=7.0.0 in /opt/conda/lib/python3.8/site-packages (from awswrangler) (13.0.0)\n",
      "Requirement already satisfied: typing-extensions<5.0.0,>=4.4.0 in /opt/conda/lib/python3.8/site-packages (from awswrangler) (4.7.1)\n",
      "Requirement already satisfied: jmespath<2.0.0,>=0.7.1 in /opt/conda/lib/python3.8/site-packages (from boto3<2.0.0,>=1.20.32->awswrangler) (1.0.1)\n",
      "Requirement already satisfied: s3transfer<0.7.0,>=0.6.0 in /opt/conda/lib/python3.8/site-packages (from boto3<2.0.0,>=1.20.32->awswrangler) (0.6.2)\n",
      "Requirement already satisfied: python-dateutil<3.0.0,>=2.1 in /opt/conda/lib/python3.8/site-packages (from botocore<2.0.0,>=1.23.32->awswrangler) (2.8.2)\n",
      "Requirement already satisfied: urllib3<1.27,>=1.25.4 in /opt/conda/lib/python3.8/site-packages (from botocore<2.0.0,>=1.23.32->awswrangler) (1.26.18)\n",
      "Requirement already satisfied: pytz>=2017.3 in /opt/conda/lib/python3.8/site-packages (from pandas<3.0.0,>=1.2.0->awswrangler) (2021.3)\n",
      "Requirement already satisfied: six>=1.5 in /opt/conda/lib/python3.8/site-packages (from python-dateutil<3.0.0,>=2.1->botocore<2.0.0,>=1.23.32->awswrangler) (1.16.0)\n",
      "\u001b[33mDEPRECATION: pyodbc 4.0.0-unsupported has a non-standard version number. pip 23.3 will enforce this behaviour change. A possible replacement is to upgrade to a newer version of pyodbc or contact the author to suggest that they release a version with a conforming version number. Discussion can be found at https://github.com/pypa/pip/issues/12063\u001b[0m\u001b[33m\n",
      "\u001b[0m\u001b[33mWARNING: Running pip as the 'root' user can result in broken permissions and conflicting behaviour with the system package manager. It is recommended to use a virtual environment instead: https://pip.pypa.io/warnings/venv\u001b[0m\u001b[33m\n",
      "\u001b[0m\n",
      "\u001b[1m[\u001b[0m\u001b[34;49mnotice\u001b[0m\u001b[1;39;49m]\u001b[0m\u001b[39;49m A new release of pip is available: \u001b[0m\u001b[31;49m23.2.1\u001b[0m\u001b[39;49m -> \u001b[0m\u001b[32;49m23.3\u001b[0m\n",
      "\u001b[1m[\u001b[0m\u001b[34;49mnotice\u001b[0m\u001b[1;39;49m]\u001b[0m\u001b[39;49m To update, run: \u001b[0m\u001b[32;49mpip install --upgrade pip\u001b[0m\n"
     ]
    }
   ],
   "source": [
    "!pip install awswrangler\n",
    "\n",
    "import awswrangler as wr"
   ]
  },
  {
   "cell_type": "code",
   "execution_count": 4,
   "metadata": {
    "tags": []
   },
   "outputs": [],
   "source": [
    "from sqlalchemy import create_engine\n",
    "import os\n",
    "import boto3"
   ]
  },
  {
   "cell_type": "markdown",
   "metadata": {},
   "source": [
    "### Obtenção de dados - fonte da tabela na pasta sql"
   ]
  },
  {
   "cell_type": "code",
   "execution_count": 5,
   "metadata": {
    "tags": []
   },
   "outputs": [],
   "source": [
    "query = \"\"\"\n",
    "  \n",
    "with cobranca as (\n",
    "select\n",
    "id_customer\n",
    ", max(nr_days_paste_due_current) as nr_days_paste_due_current\n",
    "from (\n",
    "\tselect\n",
    "\tid_customer , nr_days_paste_due_current \n",
    "\t, row_number() over (partition by id_customer order by cd_yearmonth desc) as num_ordem\n",
    "\tfrom customer_curated_zone.ca_book_cobranca \n",
    ")\n",
    "where num_ordem = 1\n",
    "group by 1\n",
    ")\n",
    ", transacional as (\n",
    "\tselect \n",
    "\tid_customer\n",
    "\t, avg(vl_total_spending) as avg_vl_total_spending\n",
    "\t, sum(nr_purchases_virtual_card_online + nr_purchases_virtual_card_presentially) as nr_purchases_virtual\n",
    "\t, sum(nr_purchases_online) as nr_purchases_online\n",
    "\tfrom  customer_curated_zone.ca_book_cartao\n",
    "\tgroup by 1\n",
    ")\n",
    ", features_conta as (\n",
    "\tselect \n",
    "\tcpf \n",
    "\t, max(nr_transacoes_cashin + nr_transacoes_pix_cashout + nr_transacoes_ted_cashout) as nr_trans_mov_conta\n",
    "\tfrom customer_analytics_zone.ca_base_calculo_ie_conta\n",
    "\tgroup by 1\n",
    ")\n",
    ", eventos as (\n",
    "\tselect \n",
    "\tcpf\n",
    "    , count(distinct dt_event) as nr_acessos\n",
    "    , count(distinct case when lower(ds_event_name) like '%lojawill%' or lower(ds_event_name) like '%loja-will%' or lower(ds_event_name) like '%marketplace%' then dt_event end) as nr_acessos_lojawill\n",
    "\t, max(case \n",
    "\t\twhen lower(ds_event_name) like '%click_button_mgmshare_cardactivation%' \n",
    "\t\tor lower(ds_event_name) like '%click_button_mgmshare_invoicepayment%' \n",
    "\t\tor lower(ds_event_name) like '%open_modal_mgmdeeplink%' \n",
    "\t\tor lower(ds_event_name) like '%click_button_facebook_screenmgmhome%'\n",
    "\t\tor lower(ds_event_name) like '%click_button_instagram_screenmgmhome%' \n",
    "\t\tor lower(ds_event_name) like '%click_button_more_screenmgmhome%'\n",
    "\t\tor lower(ds_event_name) like '%click_button_sendinvite_screenmgmhome%' \n",
    "\t\tor lower(ds_event_name) like '%click_button_whatsapp_screenmgmhome%' \n",
    "\t\tor lower(ds_event_name) like '%click_button_mgmshare_onbnoresultmgm%'\n",
    "\t\tor lower(ds_event_name) like '%click_button_mgmshare_onbwaitresultmgm%'\n",
    "\t\tor lower(ds_event_name) like '%click_button_mgmwhats_onbwaitresultmgm%'\n",
    "\t\tor lower(ds_event_name) like '%mgm_home_share%'\n",
    "\tthen 1 else 0 end) as flag_mgm\n",
    "\tfrom customer_curated_zone.ca_analitico_frontend\n",
    "\twhere lower(ds_event_name) <> 'login_knownuser'\n",
    "\tand lower(ds_event_name) <> 'insert_textfield_password_loginknownuser'\n",
    "\tand lower(ds_event_name) <> 'home'\n",
    "\tand lower(ds_event_name) <> 'click_box_tracking_card_home'\n",
    "\tgroup by 1\n",
    ")\n",
    " select \n",
    "\tcli2.cpf\n",
    "    , sum(nr_acessos) as nr_acessos\n",
    "    , sum(e.nr_acessos_lojawill) / cast(sum(e.nr_acessos) as double) as pc_acessos_lojawill\n",
    "\t, max(date_diff('day', cast(pr.dt_cfi_account as date), current_date)) as tempo_relacionamento\n",
    "\t, sum(ic.nr_trans_mov_conta) as nr_trans_mov_conta\n",
    "    , sum(t.avg_vl_total_spending) as avg_vl_total_spending\n",
    "\t, max(e.flag_mgm) as flag_mgm\n",
    "\t, max(cob.nr_days_paste_due_current) as dias_atraso\n",
    "from customer_curated_zone.ca_book_status_cliente cli1\n",
    "\tinner join (\n",
    "\t\tselect distinct id_customer, cpf from \n",
    "\t\tcustomer_curated_zone.ca_book_cliente) cli2 \n",
    "\t\ton (cli1.id_customer = cli2.id_customer)\n",
    "\tleft join growth_curated_zone.proposal_analysis pr on (pr.cpf = cli2.cpf)\n",
    "\tleft join features_conta ic on (ic.cpf = cli2.cpf)\n",
    "\tleft join cobranca cob on (cob.id_customer = cli1.id_customer)\n",
    "\tleft join eventos e on (e.cpf = cli2.cpf)\n",
    "    left join transacional t on (t.id_customer = cli1.id_customer)\n",
    "where pr.ds_approval_type = 'credito' and cob.nr_days_paste_due_current <= 5\n",
    "group by 1\n",
    "\n",
    "\"\"\""
   ]
  },
  {
   "cell_type": "code",
   "execution_count": 6,
   "metadata": {
    "tags": []
   },
   "outputs": [
    {
     "name": "stdout",
     "output_type": "stream",
     "text": [
      "Started query\n"
     ]
    }
   ],
   "source": [
    "staging_path = 's3://will-prod-ml-platform-sagemaker-studio/staging/flavia-costa/'\n",
    "boto3_session = boto3.Session(region_name='sa-east-1')\n",
    "\n",
    "# Clean temporary folder\n",
    "wr.s3.delete_objects(staging_path, boto3_session=boto3_session)\n",
    "\n",
    "# Run query\n",
    "print('Started query')\n",
    "\n",
    "df = wr.athena.read_sql_query(\n",
    "    sql=query,\n",
    "    database=None,\n",
    "    unload_approach=True,\n",
    "    ctas_approach=False,\n",
    "    boto3_session=boto3_session,\n",
    "    s3_output=staging_path\n",
    ")\n",
    "wr.s3.delete_objects(staging_path, boto3_session=boto3_session)"
   ]
  },
  {
   "cell_type": "code",
   "execution_count": 7,
   "metadata": {
    "tags": []
   },
   "outputs": [
    {
     "data": {
      "text/plain": [
       "2885524"
      ]
     },
     "execution_count": 7,
     "metadata": {},
     "output_type": "execute_result"
    }
   ],
   "source": [
    "len(df)"
   ]
  },
  {
   "cell_type": "code",
   "execution_count": 8,
   "metadata": {
    "tags": []
   },
   "outputs": [
    {
     "data": {
      "text/plain": [
       "cpf                       string\n",
       "nr_acessos                 Int64\n",
       "pc_acessos_lojawill      float64\n",
       "tempo_relacionamento       Int64\n",
       "nr_trans_mov_conta       float64\n",
       "avg_vl_total_spending    float64\n",
       "flag_mgm                   Int32\n",
       "dias_atraso                Int32\n",
       "dtype: object"
      ]
     },
     "execution_count": 8,
     "metadata": {},
     "output_type": "execute_result"
    }
   ],
   "source": [
    "df.dtypes"
   ]
  },
  {
   "cell_type": "code",
   "execution_count": 9,
   "metadata": {
    "tags": []
   },
   "outputs": [
    {
     "data": {
      "text/plain": [
       "cpf                            0\n",
       "nr_acessos                953609\n",
       "pc_acessos_lojawill       953609\n",
       "tempo_relacionamento       10678\n",
       "nr_trans_mov_conta       1026362\n",
       "avg_vl_total_spending     343567\n",
       "flag_mgm                  953609\n",
       "dias_atraso                    0\n",
       "dtype: int64"
      ]
     },
     "execution_count": 9,
     "metadata": {},
     "output_type": "execute_result"
    }
   ],
   "source": [
    "df.isnull().sum()"
   ]
  },
  {
   "cell_type": "markdown",
   "metadata": {},
   "source": [
    "### Definindo tipos de var e lidando com missings"
   ]
  },
  {
   "cell_type": "code",
   "execution_count": 10,
   "metadata": {
    "tags": []
   },
   "outputs": [],
   "source": [
    "#variáveis para recodificar como zero\n",
    "\n",
    "df['flag_mgm'] = df['flag_mgm'].fillna(0.0)\n",
    "df['nr_trans_mov_conta'] = df['nr_trans_mov_conta'].fillna(0.0)\n"
   ]
  },
  {
   "cell_type": "code",
   "execution_count": 11,
   "metadata": {
    "tags": []
   },
   "outputs": [
    {
     "data": {
      "text/plain": [
       "cpf                           0\n",
       "nr_acessos               953609\n",
       "pc_acessos_lojawill      953609\n",
       "tempo_relacionamento      10678\n",
       "nr_trans_mov_conta            0\n",
       "avg_vl_total_spending    343567\n",
       "flag_mgm                      0\n",
       "dias_atraso                   0\n",
       "dtype: int64"
      ]
     },
     "execution_count": 11,
     "metadata": {},
     "output_type": "execute_result"
    }
   ],
   "source": [
    "df.isnull().sum()"
   ]
  },
  {
   "cell_type": "code",
   "execution_count": 12,
   "metadata": {
    "tags": []
   },
   "outputs": [],
   "source": [
    "for column in df.columns:\n",
    "  if df[column].dtype == 'object':\n",
    "    df[column].fillna(df[column].mode()[0], inplace = True)\n",
    "  elif df[column].dtype == 'string':\n",
    "    df[column].fillna(df[column].mode()[0], inplace = True)\n",
    "  elif df[column].dtype != 'object':\n",
    "    df[column].fillna(df[column].median(), inplace = True)"
   ]
  },
  {
   "cell_type": "code",
   "execution_count": 13,
   "metadata": {
    "tags": []
   },
   "outputs": [
    {
     "data": {
      "text/plain": [
       "cpf                      0\n",
       "nr_acessos               0\n",
       "pc_acessos_lojawill      0\n",
       "tempo_relacionamento     0\n",
       "nr_trans_mov_conta       0\n",
       "avg_vl_total_spending    0\n",
       "flag_mgm                 0\n",
       "dias_atraso              0\n",
       "dtype: int64"
      ]
     },
     "execution_count": 13,
     "metadata": {},
     "output_type": "execute_result"
    }
   ],
   "source": [
    "df.isnull().sum()"
   ]
  },
  {
   "cell_type": "code",
   "execution_count": 14,
   "metadata": {
    "tags": []
   },
   "outputs": [
    {
     "data": {
      "text/plain": [
       "0    2082872\n",
       "1     802652\n",
       "Name: flag_mgm, dtype: Int64"
      ]
     },
     "execution_count": 14,
     "metadata": {},
     "output_type": "execute_result"
    }
   ],
   "source": [
    "df['flag_mgm'].value_counts()"
   ]
  },
  {
   "cell_type": "code",
   "execution_count": 15,
   "metadata": {
    "tags": []
   },
   "outputs": [
    {
     "data": {
      "text/plain": [
       "0    0.721835\n",
       "1    0.278165\n",
       "Name: flag_mgm, dtype: Float64"
      ]
     },
     "execution_count": 15,
     "metadata": {},
     "output_type": "execute_result"
    }
   ],
   "source": [
    "df['flag_mgm'].value_counts(normalize = True)"
   ]
  },
  {
   "cell_type": "markdown",
   "metadata": {},
   "source": [
    "## Início modelagem"
   ]
  },
  {
   "cell_type": "code",
   "execution_count": 16,
   "metadata": {
    "tags": []
   },
   "outputs": [],
   "source": [
    "df['tempo_relacionamento_meses'] = round(df['tempo_relacionamento'] / 30,0)"
   ]
  },
  {
   "cell_type": "code",
   "execution_count": 17,
   "metadata": {
    "tags": []
   },
   "outputs": [],
   "source": [
    "df['fx_nr_acessos']  = np.where(df.nr_acessos <=  df.nr_acessos.quantile(0.25), 'A',\n",
    "                                  np.where(df.nr_acessos <=  df.nr_acessos.quantile(0.75), 'B', 'C'))\n",
    "\n",
    "df['fx_tempo_relacionamento'] = np.where(df.tempo_relacionamento_meses <=  5, 'A',\n",
    "                                  np.where(df.tempo_relacionamento_meses <=  20, 'B', 'C'))\n",
    "\n",
    "df['fx_loja_will'] = np.where(df.pc_acessos_lojawill > 0, 'A', 'B')\n",
    "\n",
    "\n",
    "df['fx_spending_ou_conta'] = np.where((df.avg_vl_total_spending <= df.avg_vl_total_spending.quantile(0.50)) & (df.nr_trans_mov_conta <= df.nr_trans_mov_conta.quantile(0.50)), 'A',\n",
    "                             np.where((df.avg_vl_total_spending > df.avg_vl_total_spending.quantile(0.50)) & (df.nr_trans_mov_conta <= df.nr_trans_mov_conta.quantile(0.50)), 'B',\n",
    "                             np.where((df.avg_vl_total_spending <= df.avg_vl_total_spending.quantile(0.50)) & (df.nr_trans_mov_conta > df.nr_trans_mov_conta.quantile(0.50)), 'C',                  \n",
    "                             np.where((df.avg_vl_total_spending >= df.avg_vl_total_spending.quantile(0.50)) & (df.nr_trans_mov_conta >= df.nr_trans_mov_conta.quantile(0.50)), 'D',\n",
    "                             np.where(df.avg_vl_total_spending >=  df.avg_vl_total_spending.quantile(0.75), 'D', 'Ni')))))\n",
    "\n",
    "\n"
   ]
  },
  {
   "cell_type": "code",
   "execution_count": 21,
   "metadata": {
    "tags": []
   },
   "outputs": [],
   "source": [
    "df['grupos_propensao'] = df['fx_nr_acessos'] + df['fx_tempo_relacionamento'] + df['fx_loja_will'] + df['fx_spending_ou_conta']"
   ]
  },
  {
   "cell_type": "code",
   "execution_count": 23,
   "metadata": {
    "tags": []
   },
   "outputs": [
    {
     "data": {
      "text/html": [
       "<div>\n",
       "<style scoped>\n",
       "    .dataframe tbody tr th:only-of-type {\n",
       "        vertical-align: middle;\n",
       "    }\n",
       "\n",
       "    .dataframe tbody tr th {\n",
       "        vertical-align: top;\n",
       "    }\n",
       "\n",
       "    .dataframe thead th {\n",
       "        text-align: right;\n",
       "    }\n",
       "</style>\n",
       "<table border=\"1\" class=\"dataframe\">\n",
       "  <thead>\n",
       "    <tr style=\"text-align: right;\">\n",
       "      <th></th>\n",
       "      <th>flag_mgm</th>\n",
       "    </tr>\n",
       "    <tr>\n",
       "      <th>grupos_propensao</th>\n",
       "      <th></th>\n",
       "    </tr>\n",
       "  </thead>\n",
       "  <tbody>\n",
       "    <tr>\n",
       "      <th>AAAA</th>\n",
       "      <td>0.359727</td>\n",
       "    </tr>\n",
       "    <tr>\n",
       "      <th>AAAB</th>\n",
       "      <td>0.46975</td>\n",
       "    </tr>\n",
       "    <tr>\n",
       "      <th>AAAC</th>\n",
       "      <td>0.476712</td>\n",
       "    </tr>\n",
       "    <tr>\n",
       "      <th>AAAD</th>\n",
       "      <td>0.54713</td>\n",
       "    </tr>\n",
       "    <tr>\n",
       "      <th>AABA</th>\n",
       "      <td>0.202773</td>\n",
       "    </tr>\n",
       "    <tr>\n",
       "      <th>...</th>\n",
       "      <td>...</td>\n",
       "    </tr>\n",
       "    <tr>\n",
       "      <th>CCAD</th>\n",
       "      <td>0.58803</td>\n",
       "    </tr>\n",
       "    <tr>\n",
       "      <th>CCBA</th>\n",
       "      <td>0.216157</td>\n",
       "    </tr>\n",
       "    <tr>\n",
       "      <th>CCBB</th>\n",
       "      <td>0.20231</td>\n",
       "    </tr>\n",
       "    <tr>\n",
       "      <th>CCBC</th>\n",
       "      <td>0.368815</td>\n",
       "    </tr>\n",
       "    <tr>\n",
       "      <th>CCBD</th>\n",
       "      <td>0.368066</td>\n",
       "    </tr>\n",
       "  </tbody>\n",
       "</table>\n",
       "<p>72 rows × 1 columns</p>\n",
       "</div>"
      ],
      "text/plain": [
       "                  flag_mgm\n",
       "grupos_propensao          \n",
       "AAAA              0.359727\n",
       "AAAB               0.46975\n",
       "AAAC              0.476712\n",
       "AAAD               0.54713\n",
       "AABA              0.202773\n",
       "...                    ...\n",
       "CCAD               0.58803\n",
       "CCBA              0.216157\n",
       "CCBB               0.20231\n",
       "CCBC              0.368815\n",
       "CCBD              0.368066\n",
       "\n",
       "[72 rows x 1 columns]"
      ]
     },
     "execution_count": 23,
     "metadata": {},
     "output_type": "execute_result"
    }
   ],
   "source": [
    "df[['grupos_propensao', 'flag_mgm']].groupby('grupos_propensao').mean()"
   ]
  },
  {
   "cell_type": "code",
   "execution_count": 62,
   "metadata": {
    "tags": []
   },
   "outputs": [
    {
     "data": {
      "text/plain": [
       "C    1191906\n",
       "B     891215\n",
       "A     802403\n",
       "Name: fx_tempo_relacionamento, dtype: int64"
      ]
     },
     "execution_count": 62,
     "metadata": {},
     "output_type": "execute_result"
    }
   ],
   "source": [
    "df['fx_tempo_relacionamento'].value_counts()"
   ]
  },
  {
   "cell_type": "code",
   "execution_count": 37,
   "metadata": {
    "tags": []
   },
   "outputs": [],
   "source": [
    "df['segmento_final'] = np.where(np.isin(df['grupos_propensao'], ['CAAB', 'CAAD', 'CBAD']), '05. Alta propensao',\n",
    "                       np.where(np.isin(df['grupos_propensao'], ['CBAB', 'CABD', 'CBBD', 'CAAC']), '03.  Média propensao',         \n",
    "                       np.where(np.isin(df['grupos_propensao'], ['CCAC', 'BBAD', 'BAAD', 'CABB', 'CBAC', 'CAAA', 'CCAD']), '04. Média-Alta propensao',\n",
    "                       np.where(np.isin(df['grupos_propensao'], ['BAAA', 'BBAA', 'BBBD', 'CBBA', 'CCAB', 'CCBC', 'AABD', 'BABB', 'BABC', 'BBBB', 'BBBC', 'BCAC']), '02. Média propensao',\n",
    "                       np.where(np.isin(df['grupos_propensao'], ['ACBC', 'ABCAA', 'ACCBA', 'ACCBB', 'ABCAB', 'ABCAD', 'ABABA', 'AACBB', 'ABBBA', 'ABCBC', 'ABCBD',]), '01. Baixa propensao',\n",
    "'01. Baixa propensao')))))                    "
   ]
  },
  {
   "cell_type": "code",
   "execution_count": 38,
   "metadata": {
    "tags": []
   },
   "outputs": [
    {
     "data": {
      "text/html": [
       "<div>\n",
       "<style scoped>\n",
       "    .dataframe tbody tr th:only-of-type {\n",
       "        vertical-align: middle;\n",
       "    }\n",
       "\n",
       "    .dataframe tbody tr th {\n",
       "        vertical-align: top;\n",
       "    }\n",
       "\n",
       "    .dataframe thead th {\n",
       "        text-align: right;\n",
       "    }\n",
       "</style>\n",
       "<table border=\"1\" class=\"dataframe\">\n",
       "  <thead>\n",
       "    <tr style=\"text-align: right;\">\n",
       "      <th></th>\n",
       "      <th>flag_mgm</th>\n",
       "    </tr>\n",
       "    <tr>\n",
       "      <th>segmento_final</th>\n",
       "      <th></th>\n",
       "    </tr>\n",
       "  </thead>\n",
       "  <tbody>\n",
       "    <tr>\n",
       "      <th>01. Baixa propensao</th>\n",
       "      <td>0.17686</td>\n",
       "    </tr>\n",
       "    <tr>\n",
       "      <th>02. Média propensao</th>\n",
       "      <td>0.397004</td>\n",
       "    </tr>\n",
       "    <tr>\n",
       "      <th>03.  Média propensao</th>\n",
       "      <td>0.573904</td>\n",
       "    </tr>\n",
       "    <tr>\n",
       "      <th>04. Média-Alta propensao</th>\n",
       "      <td>0.653588</td>\n",
       "    </tr>\n",
       "    <tr>\n",
       "      <th>05. Alta propensao</th>\n",
       "      <td>0.728432</td>\n",
       "    </tr>\n",
       "  </tbody>\n",
       "</table>\n",
       "</div>"
      ],
      "text/plain": [
       "                          flag_mgm\n",
       "segmento_final                    \n",
       "01. Baixa propensao        0.17686\n",
       "02. Média propensao       0.397004\n",
       "03.  Média propensao      0.573904\n",
       "04. Média-Alta propensao  0.653588\n",
       "05. Alta propensao        0.728432"
      ]
     },
     "execution_count": 38,
     "metadata": {},
     "output_type": "execute_result"
    }
   ],
   "source": [
    "df[['segmento_final', 'flag_mgm']].groupby('segmento_final').mean()"
   ]
  },
  {
   "cell_type": "code",
   "execution_count": 51,
   "metadata": {
    "tags": []
   },
   "outputs": [
    {
     "data": {
      "text/html": [
       "<div>\n",
       "<style scoped>\n",
       "    .dataframe tbody tr th:only-of-type {\n",
       "        vertical-align: middle;\n",
       "    }\n",
       "\n",
       "    .dataframe tbody tr th {\n",
       "        vertical-align: top;\n",
       "    }\n",
       "\n",
       "    .dataframe thead th {\n",
       "        text-align: right;\n",
       "    }\n",
       "</style>\n",
       "<table border=\"1\" class=\"dataframe\">\n",
       "  <thead>\n",
       "    <tr style=\"text-align: right;\">\n",
       "      <th></th>\n",
       "      <th>flag_mgm</th>\n",
       "    </tr>\n",
       "    <tr>\n",
       "      <th>segmento_final</th>\n",
       "      <th></th>\n",
       "    </tr>\n",
       "  </thead>\n",
       "  <tbody>\n",
       "    <tr>\n",
       "      <th>01. Baixa propensao</th>\n",
       "      <td>2115952</td>\n",
       "    </tr>\n",
       "    <tr>\n",
       "      <th>02. Média propensao</th>\n",
       "      <td>287005</td>\n",
       "    </tr>\n",
       "    <tr>\n",
       "      <th>03.  Média propensao</th>\n",
       "      <td>122463</td>\n",
       "    </tr>\n",
       "    <tr>\n",
       "      <th>04. Média-Alta propensao</th>\n",
       "      <td>241975</td>\n",
       "    </tr>\n",
       "    <tr>\n",
       "      <th>05. Alta propensao</th>\n",
       "      <td>118129</td>\n",
       "    </tr>\n",
       "  </tbody>\n",
       "</table>\n",
       "</div>"
      ],
      "text/plain": [
       "                          flag_mgm\n",
       "segmento_final                    \n",
       "01. Baixa propensao        2115952\n",
       "02. Média propensao         287005\n",
       "03.  Média propensao        122463\n",
       "04. Média-Alta propensao    241975\n",
       "05. Alta propensao          118129"
      ]
     },
     "execution_count": 51,
     "metadata": {},
     "output_type": "execute_result"
    }
   ],
   "source": [
    "df[['segmento_final', 'flag_mgm']].groupby('segmento_final').count()"
   ]
  },
  {
   "cell_type": "code",
   "execution_count": 39,
   "metadata": {
    "tags": []
   },
   "outputs": [
    {
     "data": {
      "text/plain": [
       "01. Baixa propensao         2115952\n",
       "02. Média propensao          287005\n",
       "04. Média-Alta propensao     241975\n",
       "03.  Média propensao         122463\n",
       "05. Alta propensao           118129\n",
       "Name: segmento_final, dtype: int64"
      ]
     },
     "execution_count": 39,
     "metadata": {},
     "output_type": "execute_result"
    }
   ],
   "source": [
    "df['segmento_final'].value_counts()"
   ]
  },
  {
   "cell_type": "code",
   "execution_count": 46,
   "metadata": {
    "tags": []
   },
   "outputs": [
    {
     "data": {
      "text/plain": [
       "01. Baixa propensao         0.733299\n",
       "02. Média propensao         0.099464\n",
       "04. Média-Alta propensao    0.083858\n",
       "03.  Média propensao        0.042440\n",
       "05. Alta propensao          0.040938\n",
       "Name: segmento_final, dtype: float64"
      ]
     },
     "execution_count": 46,
     "metadata": {},
     "output_type": "execute_result"
    }
   ],
   "source": [
    "df['segmento_final'].value_counts(normalize = True)"
   ]
  },
  {
   "cell_type": "code",
   "execution_count": 50,
   "metadata": {
    "tags": []
   },
   "outputs": [
    {
     "data": {
      "text/plain": [
       "01. Baixa propensao         1741725\n",
       "02. Média propensao          173063\n",
       "04. Média-Alta propensao      83823\n",
       "03.  Média propensao          52181\n",
       "05. Alta propensao            32080\n",
       "Name: segmento_final, dtype: int64"
      ]
     },
     "execution_count": 50,
     "metadata": {},
     "output_type": "execute_result"
    }
   ],
   "source": [
    "df[df['flag_mgm'] == 0]['segmento_final'].value_counts()"
   ]
  },
  {
   "cell_type": "code",
   "execution_count": 43,
   "metadata": {
    "tags": []
   },
   "outputs": [
    {
     "data": {
      "text/html": [
       "<div>\n",
       "<style scoped>\n",
       "    .dataframe tbody tr th:only-of-type {\n",
       "        vertical-align: middle;\n",
       "    }\n",
       "\n",
       "    .dataframe tbody tr th {\n",
       "        vertical-align: top;\n",
       "    }\n",
       "\n",
       "    .dataframe thead tr th {\n",
       "        text-align: left;\n",
       "    }\n",
       "\n",
       "    .dataframe thead tr:last-of-type th {\n",
       "        text-align: right;\n",
       "    }\n",
       "</style>\n",
       "<table border=\"1\" class=\"dataframe\">\n",
       "  <thead>\n",
       "    <tr>\n",
       "      <th></th>\n",
       "      <th colspan=\"4\" halign=\"left\">nr_acessos</th>\n",
       "    </tr>\n",
       "    <tr>\n",
       "      <th></th>\n",
       "      <th>mean</th>\n",
       "      <th>min</th>\n",
       "      <th>max</th>\n",
       "      <th>median</th>\n",
       "    </tr>\n",
       "    <tr>\n",
       "      <th>segmento_final</th>\n",
       "      <th></th>\n",
       "      <th></th>\n",
       "      <th></th>\n",
       "      <th></th>\n",
       "    </tr>\n",
       "  </thead>\n",
       "  <tbody>\n",
       "    <tr>\n",
       "      <th>01. Baixa propensao</th>\n",
       "      <td>55.888682</td>\n",
       "      <td>1</td>\n",
       "      <td>2406</td>\n",
       "      <td>56.0</td>\n",
       "    </tr>\n",
       "    <tr>\n",
       "      <th>02. Média propensao</th>\n",
       "      <td>86.473469</td>\n",
       "      <td>2</td>\n",
       "      <td>3216</td>\n",
       "      <td>64.0</td>\n",
       "    </tr>\n",
       "    <tr>\n",
       "      <th>03.  Média propensao</th>\n",
       "      <td>160.267836</td>\n",
       "      <td>89</td>\n",
       "      <td>1764</td>\n",
       "      <td>144.0</td>\n",
       "    </tr>\n",
       "    <tr>\n",
       "      <th>04. Média-Alta propensao</th>\n",
       "      <td>171.438835</td>\n",
       "      <td>35</td>\n",
       "      <td>3252</td>\n",
       "      <td>142.0</td>\n",
       "    </tr>\n",
       "    <tr>\n",
       "      <th>05. Alta propensao</th>\n",
       "      <td>183.859061</td>\n",
       "      <td>89</td>\n",
       "      <td>1566</td>\n",
       "      <td>165.0</td>\n",
       "    </tr>\n",
       "  </tbody>\n",
       "</table>\n",
       "</div>"
      ],
      "text/plain": [
       "                          nr_acessos                 \n",
       "                                mean min   max median\n",
       "segmento_final                                       \n",
       "01. Baixa propensao        55.888682   1  2406   56.0\n",
       "02. Média propensao        86.473469   2  3216   64.0\n",
       "03.  Média propensao      160.267836  89  1764  144.0\n",
       "04. Média-Alta propensao  171.438835  35  3252  142.0\n",
       "05. Alta propensao        183.859061  89  1566  165.0"
      ]
     },
     "execution_count": 43,
     "metadata": {},
     "output_type": "execute_result"
    }
   ],
   "source": [
    "df[['segmento_final', 'nr_acessos']].groupby('segmento_final').agg({'nr_acessos':['mean', 'min', 'max','median' ]})"
   ]
  },
  {
   "cell_type": "code",
   "execution_count": 42,
   "metadata": {
    "tags": []
   },
   "outputs": [
    {
     "data": {
      "text/html": [
       "<div>\n",
       "<style scoped>\n",
       "    .dataframe tbody tr th:only-of-type {\n",
       "        vertical-align: middle;\n",
       "    }\n",
       "\n",
       "    .dataframe tbody tr th {\n",
       "        vertical-align: top;\n",
       "    }\n",
       "\n",
       "    .dataframe thead tr th {\n",
       "        text-align: left;\n",
       "    }\n",
       "\n",
       "    .dataframe thead tr:last-of-type th {\n",
       "        text-align: right;\n",
       "    }\n",
       "</style>\n",
       "<table border=\"1\" class=\"dataframe\">\n",
       "  <thead>\n",
       "    <tr>\n",
       "      <th></th>\n",
       "      <th colspan=\"4\" halign=\"left\">tempo_relacionamento_meses</th>\n",
       "    </tr>\n",
       "    <tr>\n",
       "      <th></th>\n",
       "      <th>mean</th>\n",
       "      <th>min</th>\n",
       "      <th>max</th>\n",
       "      <th>median</th>\n",
       "    </tr>\n",
       "    <tr>\n",
       "      <th>segmento_final</th>\n",
       "      <th></th>\n",
       "      <th></th>\n",
       "      <th></th>\n",
       "      <th></th>\n",
       "    </tr>\n",
       "  </thead>\n",
       "  <tbody>\n",
       "    <tr>\n",
       "      <th>01. Baixa propensao</th>\n",
       "      <td>25.756206</td>\n",
       "      <td>0.0</td>\n",
       "      <td>78.0</td>\n",
       "      <td>23.0</td>\n",
       "    </tr>\n",
       "    <tr>\n",
       "      <th>02. Média propensao</th>\n",
       "      <td>11.602104</td>\n",
       "      <td>0.0</td>\n",
       "      <td>78.0</td>\n",
       "      <td>8.0</td>\n",
       "    </tr>\n",
       "    <tr>\n",
       "      <th>03.  Média propensao</th>\n",
       "      <td>13.178299</td>\n",
       "      <td>2.0</td>\n",
       "      <td>20.0</td>\n",
       "      <td>14.0</td>\n",
       "    </tr>\n",
       "    <tr>\n",
       "      <th>04. Média-Alta propensao</th>\n",
       "      <td>14.212948</td>\n",
       "      <td>1.0</td>\n",
       "      <td>78.0</td>\n",
       "      <td>11.0</td>\n",
       "    </tr>\n",
       "    <tr>\n",
       "      <th>05. Alta propensao</th>\n",
       "      <td>12.318787</td>\n",
       "      <td>1.0</td>\n",
       "      <td>20.0</td>\n",
       "      <td>13.0</td>\n",
       "    </tr>\n",
       "  </tbody>\n",
       "</table>\n",
       "</div>"
      ],
      "text/plain": [
       "                         tempo_relacionamento_meses                  \n",
       "                                               mean  min   max median\n",
       "segmento_final                                                       \n",
       "01. Baixa propensao                       25.756206  0.0  78.0   23.0\n",
       "02. Média propensao                       11.602104  0.0  78.0    8.0\n",
       "03.  Média propensao                      13.178299  2.0  20.0   14.0\n",
       "04. Média-Alta propensao                  14.212948  1.0  78.0   11.0\n",
       "05. Alta propensao                        12.318787  1.0  20.0   13.0"
      ]
     },
     "execution_count": 42,
     "metadata": {},
     "output_type": "execute_result"
    }
   ],
   "source": [
    "df[['segmento_final', 'tempo_relacionamento_meses']].groupby('segmento_final').agg({'tempo_relacionamento_meses':['mean', 'min', 'max', 'median']})"
   ]
  },
  {
   "cell_type": "code",
   "execution_count": 44,
   "metadata": {
    "tags": []
   },
   "outputs": [
    {
     "data": {
      "text/html": [
       "<div>\n",
       "<style scoped>\n",
       "    .dataframe tbody tr th:only-of-type {\n",
       "        vertical-align: middle;\n",
       "    }\n",
       "\n",
       "    .dataframe tbody tr th {\n",
       "        vertical-align: top;\n",
       "    }\n",
       "\n",
       "    .dataframe thead tr th {\n",
       "        text-align: left;\n",
       "    }\n",
       "\n",
       "    .dataframe thead tr:last-of-type th {\n",
       "        text-align: right;\n",
       "    }\n",
       "</style>\n",
       "<table border=\"1\" class=\"dataframe\">\n",
       "  <thead>\n",
       "    <tr>\n",
       "      <th></th>\n",
       "      <th colspan=\"4\" halign=\"left\">avg_vl_total_spending</th>\n",
       "    </tr>\n",
       "    <tr>\n",
       "      <th></th>\n",
       "      <th>mean</th>\n",
       "      <th>min</th>\n",
       "      <th>max</th>\n",
       "      <th>median</th>\n",
       "    </tr>\n",
       "    <tr>\n",
       "      <th>segmento_final</th>\n",
       "      <th></th>\n",
       "      <th></th>\n",
       "      <th></th>\n",
       "      <th></th>\n",
       "    </tr>\n",
       "  </thead>\n",
       "  <tbody>\n",
       "    <tr>\n",
       "      <th>01. Baixa propensao</th>\n",
       "      <td>706.107643</td>\n",
       "      <td>-294.564</td>\n",
       "      <td>110837.165000</td>\n",
       "      <td>555.905000</td>\n",
       "    </tr>\n",
       "    <tr>\n",
       "      <th>02. Média propensao</th>\n",
       "      <td>669.331688</td>\n",
       "      <td>0.000</td>\n",
       "      <td>38088.618500</td>\n",
       "      <td>471.772000</td>\n",
       "    </tr>\n",
       "    <tr>\n",
       "      <th>03.  Média propensao</th>\n",
       "      <td>1028.264245</td>\n",
       "      <td>0.000</td>\n",
       "      <td>17042.622500</td>\n",
       "      <td>860.548750</td>\n",
       "    </tr>\n",
       "    <tr>\n",
       "      <th>04. Média-Alta propensao</th>\n",
       "      <td>666.227398</td>\n",
       "      <td>0.000</td>\n",
       "      <td>20865.433423</td>\n",
       "      <td>450.341538</td>\n",
       "    </tr>\n",
       "    <tr>\n",
       "      <th>05. Alta propensao</th>\n",
       "      <td>1056.601200</td>\n",
       "      <td>555.906</td>\n",
       "      <td>32639.460000</td>\n",
       "      <td>879.948000</td>\n",
       "    </tr>\n",
       "  </tbody>\n",
       "</table>\n",
       "</div>"
      ],
      "text/plain": [
       "                         avg_vl_total_spending                          \\\n",
       "                                          mean      min            max   \n",
       "segmento_final                                                           \n",
       "01. Baixa propensao                 706.107643 -294.564  110837.165000   \n",
       "02. Média propensao                 669.331688    0.000   38088.618500   \n",
       "03.  Média propensao               1028.264245    0.000   17042.622500   \n",
       "04. Média-Alta propensao            666.227398    0.000   20865.433423   \n",
       "05. Alta propensao                 1056.601200  555.906   32639.460000   \n",
       "\n",
       "                                      \n",
       "                              median  \n",
       "segmento_final                        \n",
       "01. Baixa propensao       555.905000  \n",
       "02. Média propensao       471.772000  \n",
       "03.  Média propensao      860.548750  \n",
       "04. Média-Alta propensao  450.341538  \n",
       "05. Alta propensao        879.948000  "
      ]
     },
     "execution_count": 44,
     "metadata": {},
     "output_type": "execute_result"
    }
   ],
   "source": [
    "df[['segmento_final', 'avg_vl_total_spending']].groupby('segmento_final').agg({'avg_vl_total_spending':['mean', 'min', 'max', 'median']})"
   ]
  },
  {
   "cell_type": "code",
   "execution_count": 45,
   "metadata": {
    "tags": []
   },
   "outputs": [
    {
     "data": {
      "text/html": [
       "<div>\n",
       "<style scoped>\n",
       "    .dataframe tbody tr th:only-of-type {\n",
       "        vertical-align: middle;\n",
       "    }\n",
       "\n",
       "    .dataframe tbody tr th {\n",
       "        vertical-align: top;\n",
       "    }\n",
       "\n",
       "    .dataframe thead tr th {\n",
       "        text-align: left;\n",
       "    }\n",
       "\n",
       "    .dataframe thead tr:last-of-type th {\n",
       "        text-align: right;\n",
       "    }\n",
       "</style>\n",
       "<table border=\"1\" class=\"dataframe\">\n",
       "  <thead>\n",
       "    <tr>\n",
       "      <th></th>\n",
       "      <th colspan=\"4\" halign=\"left\">nr_trans_mov_conta</th>\n",
       "    </tr>\n",
       "    <tr>\n",
       "      <th></th>\n",
       "      <th>mean</th>\n",
       "      <th>min</th>\n",
       "      <th>max</th>\n",
       "      <th>median</th>\n",
       "    </tr>\n",
       "    <tr>\n",
       "      <th>segmento_final</th>\n",
       "      <th></th>\n",
       "      <th></th>\n",
       "      <th></th>\n",
       "      <th></th>\n",
       "    </tr>\n",
       "  </thead>\n",
       "  <tbody>\n",
       "    <tr>\n",
       "      <th>01. Baixa propensao</th>\n",
       "      <td>17.214154</td>\n",
       "      <td>0.0</td>\n",
       "      <td>39064.0</td>\n",
       "      <td>1.0</td>\n",
       "    </tr>\n",
       "    <tr>\n",
       "      <th>02. Média propensao</th>\n",
       "      <td>14.627017</td>\n",
       "      <td>0.0</td>\n",
       "      <td>7583.0</td>\n",
       "      <td>6.0</td>\n",
       "    </tr>\n",
       "    <tr>\n",
       "      <th>03.  Média propensao</th>\n",
       "      <td>40.330737</td>\n",
       "      <td>0.0</td>\n",
       "      <td>8269.0</td>\n",
       "      <td>14.0</td>\n",
       "    </tr>\n",
       "    <tr>\n",
       "      <th>04. Média-Alta propensao</th>\n",
       "      <td>54.610431</td>\n",
       "      <td>0.0</td>\n",
       "      <td>8472.0</td>\n",
       "      <td>23.0</td>\n",
       "    </tr>\n",
       "    <tr>\n",
       "      <th>05. Alta propensao</th>\n",
       "      <td>62.378188</td>\n",
       "      <td>0.0</td>\n",
       "      <td>11942.0</td>\n",
       "      <td>26.0</td>\n",
       "    </tr>\n",
       "  </tbody>\n",
       "</table>\n",
       "</div>"
      ],
      "text/plain": [
       "                         nr_trans_mov_conta                     \n",
       "                                       mean  min      max median\n",
       "segmento_final                                                  \n",
       "01. Baixa propensao               17.214154  0.0  39064.0    1.0\n",
       "02. Média propensao               14.627017  0.0   7583.0    6.0\n",
       "03.  Média propensao              40.330737  0.0   8269.0   14.0\n",
       "04. Média-Alta propensao          54.610431  0.0   8472.0   23.0\n",
       "05. Alta propensao                62.378188  0.0  11942.0   26.0"
      ]
     },
     "execution_count": 45,
     "metadata": {},
     "output_type": "execute_result"
    }
   ],
   "source": [
    "df[['segmento_final', 'nr_trans_mov_conta']].groupby('segmento_final').agg({'nr_trans_mov_conta':['mean', 'min', 'max', 'median']})"
   ]
  },
  {
   "cell_type": "code",
   "execution_count": 52,
   "metadata": {
    "tags": []
   },
   "outputs": [
    {
     "data": {
      "text/html": [
       "<div>\n",
       "<style scoped>\n",
       "    .dataframe tbody tr th:only-of-type {\n",
       "        vertical-align: middle;\n",
       "    }\n",
       "\n",
       "    .dataframe tbody tr th {\n",
       "        vertical-align: top;\n",
       "    }\n",
       "\n",
       "    .dataframe thead th {\n",
       "        text-align: right;\n",
       "    }\n",
       "</style>\n",
       "<table border=\"1\" class=\"dataframe\">\n",
       "  <thead>\n",
       "    <tr style=\"text-align: right;\">\n",
       "      <th></th>\n",
       "      <th>cpf</th>\n",
       "      <th>nr_acessos</th>\n",
       "      <th>pc_acessos_lojawill</th>\n",
       "      <th>tempo_relacionamento</th>\n",
       "      <th>nr_trans_mov_conta</th>\n",
       "      <th>avg_vl_total_spending</th>\n",
       "      <th>flag_mgm</th>\n",
       "      <th>dias_atraso</th>\n",
       "      <th>tempo_relacionamento_meses</th>\n",
       "      <th>fx_nr_acessos</th>\n",
       "      <th>fx_tempo_relacionamento</th>\n",
       "      <th>fx_loja_will</th>\n",
       "      <th>fx_spending_ou_conta</th>\n",
       "      <th>segmento_final</th>\n",
       "      <th>grupos_propensao</th>\n",
       "    </tr>\n",
       "  </thead>\n",
       "  <tbody>\n",
       "    <tr>\n",
       "      <th>0</th>\n",
       "      <td>12803041707</td>\n",
       "      <td>56</td>\n",
       "      <td>0.000000</td>\n",
       "      <td>1205</td>\n",
       "      <td>0.0</td>\n",
       "      <td>555.905</td>\n",
       "      <td>0</td>\n",
       "      <td>0</td>\n",
       "      <td>40.0</td>\n",
       "      <td>B</td>\n",
       "      <td>C</td>\n",
       "      <td>B</td>\n",
       "      <td>A</td>\n",
       "      <td>01. Baixa propensao</td>\n",
       "      <td>BCBA</td>\n",
       "    </tr>\n",
       "    <tr>\n",
       "      <th>1</th>\n",
       "      <td>99234467515</td>\n",
       "      <td>76</td>\n",
       "      <td>0.092105</td>\n",
       "      <td>449</td>\n",
       "      <td>77.0</td>\n",
       "      <td>198.290</td>\n",
       "      <td>1</td>\n",
       "      <td>0</td>\n",
       "      <td>15.0</td>\n",
       "      <td>B</td>\n",
       "      <td>B</td>\n",
       "      <td>A</td>\n",
       "      <td>C</td>\n",
       "      <td>01. Baixa propensao</td>\n",
       "      <td>BBAC</td>\n",
       "    </tr>\n",
       "    <tr>\n",
       "      <th>2</th>\n",
       "      <td>67192246549</td>\n",
       "      <td>2</td>\n",
       "      <td>0.000000</td>\n",
       "      <td>19</td>\n",
       "      <td>0.0</td>\n",
       "      <td>555.905</td>\n",
       "      <td>0</td>\n",
       "      <td>0</td>\n",
       "      <td>1.0</td>\n",
       "      <td>A</td>\n",
       "      <td>A</td>\n",
       "      <td>B</td>\n",
       "      <td>A</td>\n",
       "      <td>01. Baixa propensao</td>\n",
       "      <td>AABA</td>\n",
       "    </tr>\n",
       "    <tr>\n",
       "      <th>3</th>\n",
       "      <td>02327033373</td>\n",
       "      <td>95</td>\n",
       "      <td>0.084211</td>\n",
       "      <td>124</td>\n",
       "      <td>47.0</td>\n",
       "      <td>538.212</td>\n",
       "      <td>0</td>\n",
       "      <td>0</td>\n",
       "      <td>4.0</td>\n",
       "      <td>C</td>\n",
       "      <td>A</td>\n",
       "      <td>A</td>\n",
       "      <td>C</td>\n",
       "      <td>03.  Média propensao</td>\n",
       "      <td>CAAC</td>\n",
       "    </tr>\n",
       "    <tr>\n",
       "      <th>4</th>\n",
       "      <td>41375962809</td>\n",
       "      <td>59</td>\n",
       "      <td>0.016949</td>\n",
       "      <td>151</td>\n",
       "      <td>15.0</td>\n",
       "      <td>477.174</td>\n",
       "      <td>1</td>\n",
       "      <td>0</td>\n",
       "      <td>5.0</td>\n",
       "      <td>B</td>\n",
       "      <td>A</td>\n",
       "      <td>A</td>\n",
       "      <td>C</td>\n",
       "      <td>01. Baixa propensao</td>\n",
       "      <td>BAAC</td>\n",
       "    </tr>\n",
       "  </tbody>\n",
       "</table>\n",
       "</div>"
      ],
      "text/plain": [
       "           cpf  nr_acessos  pc_acessos_lojawill  tempo_relacionamento  \\\n",
       "0  12803041707          56             0.000000                  1205   \n",
       "1  99234467515          76             0.092105                   449   \n",
       "2  67192246549           2             0.000000                    19   \n",
       "3  02327033373          95             0.084211                   124   \n",
       "4  41375962809          59             0.016949                   151   \n",
       "\n",
       "   nr_trans_mov_conta  avg_vl_total_spending  flag_mgm  dias_atraso  \\\n",
       "0                 0.0                555.905         0            0   \n",
       "1                77.0                198.290         1            0   \n",
       "2                 0.0                555.905         0            0   \n",
       "3                47.0                538.212         0            0   \n",
       "4                15.0                477.174         1            0   \n",
       "\n",
       "   tempo_relacionamento_meses fx_nr_acessos fx_tempo_relacionamento  \\\n",
       "0                        40.0             B                       C   \n",
       "1                        15.0             B                       B   \n",
       "2                         1.0             A                       A   \n",
       "3                         4.0             C                       A   \n",
       "4                         5.0             B                       A   \n",
       "\n",
       "  fx_loja_will fx_spending_ou_conta        segmento_final grupos_propensao  \n",
       "0            B                    A   01. Baixa propensao             BCBA  \n",
       "1            A                    C   01. Baixa propensao             BBAC  \n",
       "2            B                    A   01. Baixa propensao             AABA  \n",
       "3            A                    C  03.  Média propensao             CAAC  \n",
       "4            A                    C   01. Baixa propensao             BAAC  "
      ]
     },
     "execution_count": 52,
     "metadata": {},
     "output_type": "execute_result"
    }
   ],
   "source": [
    "df.head()"
   ]
  },
  {
   "cell_type": "code",
   "execution_count": 61,
   "metadata": {
    "tags": []
   },
   "outputs": [
    {
     "data": {
      "text/plain": [
       "{'paths': ['s3://data-athena-query-result-will-prod/flavia-costa/00122297f367472e9e8381e98904024d.snappy.parquet'],\n",
       " 'partitions_values': {}}"
      ]
     },
     "execution_count": 61,
     "metadata": {},
     "output_type": "execute_result"
    }
   ],
   "source": [
    "wr.s3.to_parquet(\n",
    "    df=df,\n",
    "    path=\"s3://data-athena-query-result-will-prod/flavia-costa\",  \n",
    "    dataset=True,\n",
    "    mode=\"overwrite\",\n",
    "    database=\"customer_sandbox_zone\",\n",
    "    table=\"segmentacao_mgm\",\n",
    "    boto3_session=boto3_session,\n",
    ")"
   ]
  },
  {
   "cell_type": "code",
   "execution_count": null,
   "metadata": {},
   "outputs": [],
   "source": []
  }
 ],
 "metadata": {
  "availableInstances": [
   {
    "_defaultOrder": 0,
    "_isFastLaunch": true,
    "category": "General purpose",
    "gpuNum": 0,
    "hideHardwareSpecs": false,
    "memoryGiB": 4,
    "name": "ml.t3.medium",
    "vcpuNum": 2
   },
   {
    "_defaultOrder": 1,
    "_isFastLaunch": false,
    "category": "General purpose",
    "gpuNum": 0,
    "hideHardwareSpecs": false,
    "memoryGiB": 8,
    "name": "ml.t3.large",
    "vcpuNum": 2
   },
   {
    "_defaultOrder": 2,
    "_isFastLaunch": false,
    "category": "General purpose",
    "gpuNum": 0,
    "hideHardwareSpecs": false,
    "memoryGiB": 16,
    "name": "ml.t3.xlarge",
    "vcpuNum": 4
   },
   {
    "_defaultOrder": 3,
    "_isFastLaunch": false,
    "category": "General purpose",
    "gpuNum": 0,
    "hideHardwareSpecs": false,
    "memoryGiB": 32,
    "name": "ml.t3.2xlarge",
    "vcpuNum": 8
   },
   {
    "_defaultOrder": 4,
    "_isFastLaunch": true,
    "category": "General purpose",
    "gpuNum": 0,
    "hideHardwareSpecs": false,
    "memoryGiB": 8,
    "name": "ml.m5.large",
    "vcpuNum": 2
   },
   {
    "_defaultOrder": 5,
    "_isFastLaunch": false,
    "category": "General purpose",
    "gpuNum": 0,
    "hideHardwareSpecs": false,
    "memoryGiB": 16,
    "name": "ml.m5.xlarge",
    "vcpuNum": 4
   },
   {
    "_defaultOrder": 6,
    "_isFastLaunch": false,
    "category": "General purpose",
    "gpuNum": 0,
    "hideHardwareSpecs": false,
    "memoryGiB": 32,
    "name": "ml.m5.2xlarge",
    "vcpuNum": 8
   },
   {
    "_defaultOrder": 7,
    "_isFastLaunch": false,
    "category": "General purpose",
    "gpuNum": 0,
    "hideHardwareSpecs": false,
    "memoryGiB": 64,
    "name": "ml.m5.4xlarge",
    "vcpuNum": 16
   },
   {
    "_defaultOrder": 8,
    "_isFastLaunch": false,
    "category": "General purpose",
    "gpuNum": 0,
    "hideHardwareSpecs": false,
    "memoryGiB": 128,
    "name": "ml.m5.8xlarge",
    "vcpuNum": 32
   },
   {
    "_defaultOrder": 9,
    "_isFastLaunch": false,
    "category": "General purpose",
    "gpuNum": 0,
    "hideHardwareSpecs": false,
    "memoryGiB": 192,
    "name": "ml.m5.12xlarge",
    "vcpuNum": 48
   },
   {
    "_defaultOrder": 10,
    "_isFastLaunch": false,
    "category": "General purpose",
    "gpuNum": 0,
    "hideHardwareSpecs": false,
    "memoryGiB": 256,
    "name": "ml.m5.16xlarge",
    "vcpuNum": 64
   },
   {
    "_defaultOrder": 11,
    "_isFastLaunch": false,
    "category": "General purpose",
    "gpuNum": 0,
    "hideHardwareSpecs": false,
    "memoryGiB": 384,
    "name": "ml.m5.24xlarge",
    "vcpuNum": 96
   },
   {
    "_defaultOrder": 12,
    "_isFastLaunch": false,
    "category": "General purpose",
    "gpuNum": 0,
    "hideHardwareSpecs": false,
    "memoryGiB": 8,
    "name": "ml.m5d.large",
    "vcpuNum": 2
   },
   {
    "_defaultOrder": 13,
    "_isFastLaunch": false,
    "category": "General purpose",
    "gpuNum": 0,
    "hideHardwareSpecs": false,
    "memoryGiB": 16,
    "name": "ml.m5d.xlarge",
    "vcpuNum": 4
   },
   {
    "_defaultOrder": 14,
    "_isFastLaunch": false,
    "category": "General purpose",
    "gpuNum": 0,
    "hideHardwareSpecs": false,
    "memoryGiB": 32,
    "name": "ml.m5d.2xlarge",
    "vcpuNum": 8
   },
   {
    "_defaultOrder": 15,
    "_isFastLaunch": false,
    "category": "General purpose",
    "gpuNum": 0,
    "hideHardwareSpecs": false,
    "memoryGiB": 64,
    "name": "ml.m5d.4xlarge",
    "vcpuNum": 16
   },
   {
    "_defaultOrder": 16,
    "_isFastLaunch": false,
    "category": "General purpose",
    "gpuNum": 0,
    "hideHardwareSpecs": false,
    "memoryGiB": 128,
    "name": "ml.m5d.8xlarge",
    "vcpuNum": 32
   },
   {
    "_defaultOrder": 17,
    "_isFastLaunch": false,
    "category": "General purpose",
    "gpuNum": 0,
    "hideHardwareSpecs": false,
    "memoryGiB": 192,
    "name": "ml.m5d.12xlarge",
    "vcpuNum": 48
   },
   {
    "_defaultOrder": 18,
    "_isFastLaunch": false,
    "category": "General purpose",
    "gpuNum": 0,
    "hideHardwareSpecs": false,
    "memoryGiB": 256,
    "name": "ml.m5d.16xlarge",
    "vcpuNum": 64
   },
   {
    "_defaultOrder": 19,
    "_isFastLaunch": false,
    "category": "General purpose",
    "gpuNum": 0,
    "hideHardwareSpecs": false,
    "memoryGiB": 384,
    "name": "ml.m5d.24xlarge",
    "vcpuNum": 96
   },
   {
    "_defaultOrder": 20,
    "_isFastLaunch": false,
    "category": "General purpose",
    "gpuNum": 0,
    "hideHardwareSpecs": true,
    "memoryGiB": 0,
    "name": "ml.geospatial.interactive",
    "supportedImageNames": [
     "sagemaker-geospatial-v1-0"
    ],
    "vcpuNum": 0
   },
   {
    "_defaultOrder": 21,
    "_isFastLaunch": true,
    "category": "Compute optimized",
    "gpuNum": 0,
    "hideHardwareSpecs": false,
    "memoryGiB": 4,
    "name": "ml.c5.large",
    "vcpuNum": 2
   },
   {
    "_defaultOrder": 22,
    "_isFastLaunch": false,
    "category": "Compute optimized",
    "gpuNum": 0,
    "hideHardwareSpecs": false,
    "memoryGiB": 8,
    "name": "ml.c5.xlarge",
    "vcpuNum": 4
   },
   {
    "_defaultOrder": 23,
    "_isFastLaunch": false,
    "category": "Compute optimized",
    "gpuNum": 0,
    "hideHardwareSpecs": false,
    "memoryGiB": 16,
    "name": "ml.c5.2xlarge",
    "vcpuNum": 8
   },
   {
    "_defaultOrder": 24,
    "_isFastLaunch": false,
    "category": "Compute optimized",
    "gpuNum": 0,
    "hideHardwareSpecs": false,
    "memoryGiB": 32,
    "name": "ml.c5.4xlarge",
    "vcpuNum": 16
   },
   {
    "_defaultOrder": 25,
    "_isFastLaunch": false,
    "category": "Compute optimized",
    "gpuNum": 0,
    "hideHardwareSpecs": false,
    "memoryGiB": 72,
    "name": "ml.c5.9xlarge",
    "vcpuNum": 36
   },
   {
    "_defaultOrder": 26,
    "_isFastLaunch": false,
    "category": "Compute optimized",
    "gpuNum": 0,
    "hideHardwareSpecs": false,
    "memoryGiB": 96,
    "name": "ml.c5.12xlarge",
    "vcpuNum": 48
   },
   {
    "_defaultOrder": 27,
    "_isFastLaunch": false,
    "category": "Compute optimized",
    "gpuNum": 0,
    "hideHardwareSpecs": false,
    "memoryGiB": 144,
    "name": "ml.c5.18xlarge",
    "vcpuNum": 72
   },
   {
    "_defaultOrder": 28,
    "_isFastLaunch": false,
    "category": "Compute optimized",
    "gpuNum": 0,
    "hideHardwareSpecs": false,
    "memoryGiB": 192,
    "name": "ml.c5.24xlarge",
    "vcpuNum": 96
   },
   {
    "_defaultOrder": 29,
    "_isFastLaunch": true,
    "category": "Accelerated computing",
    "gpuNum": 1,
    "hideHardwareSpecs": false,
    "memoryGiB": 16,
    "name": "ml.g4dn.xlarge",
    "vcpuNum": 4
   },
   {
    "_defaultOrder": 30,
    "_isFastLaunch": false,
    "category": "Accelerated computing",
    "gpuNum": 1,
    "hideHardwareSpecs": false,
    "memoryGiB": 32,
    "name": "ml.g4dn.2xlarge",
    "vcpuNum": 8
   },
   {
    "_defaultOrder": 31,
    "_isFastLaunch": false,
    "category": "Accelerated computing",
    "gpuNum": 1,
    "hideHardwareSpecs": false,
    "memoryGiB": 64,
    "name": "ml.g4dn.4xlarge",
    "vcpuNum": 16
   },
   {
    "_defaultOrder": 32,
    "_isFastLaunch": false,
    "category": "Accelerated computing",
    "gpuNum": 1,
    "hideHardwareSpecs": false,
    "memoryGiB": 128,
    "name": "ml.g4dn.8xlarge",
    "vcpuNum": 32
   },
   {
    "_defaultOrder": 33,
    "_isFastLaunch": false,
    "category": "Accelerated computing",
    "gpuNum": 4,
    "hideHardwareSpecs": false,
    "memoryGiB": 192,
    "name": "ml.g4dn.12xlarge",
    "vcpuNum": 48
   },
   {
    "_defaultOrder": 34,
    "_isFastLaunch": false,
    "category": "Accelerated computing",
    "gpuNum": 1,
    "hideHardwareSpecs": false,
    "memoryGiB": 256,
    "name": "ml.g4dn.16xlarge",
    "vcpuNum": 64
   },
   {
    "_defaultOrder": 35,
    "_isFastLaunch": false,
    "category": "Accelerated computing",
    "gpuNum": 1,
    "hideHardwareSpecs": false,
    "memoryGiB": 61,
    "name": "ml.p3.2xlarge",
    "vcpuNum": 8
   },
   {
    "_defaultOrder": 36,
    "_isFastLaunch": false,
    "category": "Accelerated computing",
    "gpuNum": 4,
    "hideHardwareSpecs": false,
    "memoryGiB": 244,
    "name": "ml.p3.8xlarge",
    "vcpuNum": 32
   },
   {
    "_defaultOrder": 37,
    "_isFastLaunch": false,
    "category": "Accelerated computing",
    "gpuNum": 8,
    "hideHardwareSpecs": false,
    "memoryGiB": 488,
    "name": "ml.p3.16xlarge",
    "vcpuNum": 64
   },
   {
    "_defaultOrder": 38,
    "_isFastLaunch": false,
    "category": "Accelerated computing",
    "gpuNum": 8,
    "hideHardwareSpecs": false,
    "memoryGiB": 768,
    "name": "ml.p3dn.24xlarge",
    "vcpuNum": 96
   },
   {
    "_defaultOrder": 39,
    "_isFastLaunch": false,
    "category": "Memory Optimized",
    "gpuNum": 0,
    "hideHardwareSpecs": false,
    "memoryGiB": 16,
    "name": "ml.r5.large",
    "vcpuNum": 2
   },
   {
    "_defaultOrder": 40,
    "_isFastLaunch": false,
    "category": "Memory Optimized",
    "gpuNum": 0,
    "hideHardwareSpecs": false,
    "memoryGiB": 32,
    "name": "ml.r5.xlarge",
    "vcpuNum": 4
   },
   {
    "_defaultOrder": 41,
    "_isFastLaunch": false,
    "category": "Memory Optimized",
    "gpuNum": 0,
    "hideHardwareSpecs": false,
    "memoryGiB": 64,
    "name": "ml.r5.2xlarge",
    "vcpuNum": 8
   },
   {
    "_defaultOrder": 42,
    "_isFastLaunch": false,
    "category": "Memory Optimized",
    "gpuNum": 0,
    "hideHardwareSpecs": false,
    "memoryGiB": 128,
    "name": "ml.r5.4xlarge",
    "vcpuNum": 16
   },
   {
    "_defaultOrder": 43,
    "_isFastLaunch": false,
    "category": "Memory Optimized",
    "gpuNum": 0,
    "hideHardwareSpecs": false,
    "memoryGiB": 256,
    "name": "ml.r5.8xlarge",
    "vcpuNum": 32
   },
   {
    "_defaultOrder": 44,
    "_isFastLaunch": false,
    "category": "Memory Optimized",
    "gpuNum": 0,
    "hideHardwareSpecs": false,
    "memoryGiB": 384,
    "name": "ml.r5.12xlarge",
    "vcpuNum": 48
   },
   {
    "_defaultOrder": 45,
    "_isFastLaunch": false,
    "category": "Memory Optimized",
    "gpuNum": 0,
    "hideHardwareSpecs": false,
    "memoryGiB": 512,
    "name": "ml.r5.16xlarge",
    "vcpuNum": 64
   },
   {
    "_defaultOrder": 46,
    "_isFastLaunch": false,
    "category": "Memory Optimized",
    "gpuNum": 0,
    "hideHardwareSpecs": false,
    "memoryGiB": 768,
    "name": "ml.r5.24xlarge",
    "vcpuNum": 96
   },
   {
    "_defaultOrder": 47,
    "_isFastLaunch": false,
    "category": "Accelerated computing",
    "gpuNum": 1,
    "hideHardwareSpecs": false,
    "memoryGiB": 16,
    "name": "ml.g5.xlarge",
    "vcpuNum": 4
   },
   {
    "_defaultOrder": 48,
    "_isFastLaunch": false,
    "category": "Accelerated computing",
    "gpuNum": 1,
    "hideHardwareSpecs": false,
    "memoryGiB": 32,
    "name": "ml.g5.2xlarge",
    "vcpuNum": 8
   },
   {
    "_defaultOrder": 49,
    "_isFastLaunch": false,
    "category": "Accelerated computing",
    "gpuNum": 1,
    "hideHardwareSpecs": false,
    "memoryGiB": 64,
    "name": "ml.g5.4xlarge",
    "vcpuNum": 16
   },
   {
    "_defaultOrder": 50,
    "_isFastLaunch": false,
    "category": "Accelerated computing",
    "gpuNum": 1,
    "hideHardwareSpecs": false,
    "memoryGiB": 128,
    "name": "ml.g5.8xlarge",
    "vcpuNum": 32
   },
   {
    "_defaultOrder": 51,
    "_isFastLaunch": false,
    "category": "Accelerated computing",
    "gpuNum": 1,
    "hideHardwareSpecs": false,
    "memoryGiB": 256,
    "name": "ml.g5.16xlarge",
    "vcpuNum": 64
   },
   {
    "_defaultOrder": 52,
    "_isFastLaunch": false,
    "category": "Accelerated computing",
    "gpuNum": 4,
    "hideHardwareSpecs": false,
    "memoryGiB": 192,
    "name": "ml.g5.12xlarge",
    "vcpuNum": 48
   },
   {
    "_defaultOrder": 53,
    "_isFastLaunch": false,
    "category": "Accelerated computing",
    "gpuNum": 4,
    "hideHardwareSpecs": false,
    "memoryGiB": 384,
    "name": "ml.g5.24xlarge",
    "vcpuNum": 96
   },
   {
    "_defaultOrder": 54,
    "_isFastLaunch": false,
    "category": "Accelerated computing",
    "gpuNum": 8,
    "hideHardwareSpecs": false,
    "memoryGiB": 768,
    "name": "ml.g5.48xlarge",
    "vcpuNum": 192
   },
   {
    "_defaultOrder": 55,
    "_isFastLaunch": false,
    "category": "Accelerated computing",
    "gpuNum": 8,
    "hideHardwareSpecs": false,
    "memoryGiB": 1152,
    "name": "ml.p4d.24xlarge",
    "vcpuNum": 96
   },
   {
    "_defaultOrder": 56,
    "_isFastLaunch": false,
    "category": "Accelerated computing",
    "gpuNum": 8,
    "hideHardwareSpecs": false,
    "memoryGiB": 1152,
    "name": "ml.p4de.24xlarge",
    "vcpuNum": 96
   }
  ],
  "instance_type": "ml.m5.large",
  "kernelspec": {
   "display_name": "Python 3 (Data Science 2.0)",
   "language": "python",
   "name": "python3__SAGEMAKER_INTERNAL__arn:aws:sagemaker:sa-east-1:782484402741:image/sagemaker-data-science-38"
  },
  "language_info": {
   "codemirror_mode": {
    "name": "ipython",
    "version": 3
   },
   "file_extension": ".py",
   "mimetype": "text/x-python",
   "name": "python",
   "nbconvert_exporter": "python",
   "pygments_lexer": "ipython3",
   "version": "3.8.13"
  }
 },
 "nbformat": 4,
 "nbformat_minor": 4
}
