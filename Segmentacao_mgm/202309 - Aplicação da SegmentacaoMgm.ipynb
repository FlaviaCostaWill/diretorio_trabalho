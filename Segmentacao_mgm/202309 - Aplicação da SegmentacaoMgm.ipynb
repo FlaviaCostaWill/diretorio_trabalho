{
 "cells": [
  {
   "cell_type": "code",
   "execution_count": 1,
   "metadata": {},
   "outputs": [],
   "source": [
    "import pandas as pd\n",
    "import numpy as np\n",
    "import os as os\n",
    "import pickle\n",
    "import seaborn as sns\n",
    "import matplotlib.pyplot as plt\n",
    "import acessos as ac\n",
    "import funcionalidade as fc\n",
    "import re\n",
    "from pylift import TransformedOutcome\n",
    "import warnings\n",
    "warnings.simplefilter(action='ignore', category=FutureWarning)"
   ]
  },
  {
   "cell_type": "markdown",
   "metadata": {},
   "source": [
    "### Obtenção de dados - fonte da tabela na pasta sql"
   ]
  },
  {
   "cell_type": "code",
   "execution_count": 2,
   "metadata": {},
   "outputs": [],
   "source": [
    "query = \"\"\"\n",
    "  \n",
    "select * from customer_sandbox_zone.dados_estudo_mgm_flavia\n",
    "\n",
    "\"\"\"\n",
    "\n",
    "df = ac.df_athena('flavia-costa', query)"
   ]
  },
  {
   "cell_type": "code",
   "execution_count": 4,
   "metadata": {},
   "outputs": [
    {
     "data": {
      "text/plain": [
       "1035884"
      ]
     },
     "execution_count": 4,
     "metadata": {},
     "output_type": "execute_result"
    }
   ],
   "source": [
    "len(df)"
   ]
  },
  {
   "cell_type": "code",
   "execution_count": 5,
   "metadata": {},
   "outputs": [
    {
     "data": {
      "text/plain": [
       "cpf                          object\n",
       "tempo_aprovacao             float64\n",
       "tempo_relacionamento        float64\n",
       "ganho_limite                float64\n",
       "ds_risk_type                 object\n",
       "gender                       object\n",
       "nr_declared_income          float64\n",
       "ds_region                    object\n",
       "flag_autonomo                 int64\n",
       "max_limite                  float64\n",
       "max_qtd_if                    int64\n",
       "avg_utilizado_interno       float64\n",
       "sum_utilizado_interno       float64\n",
       "avg_utilizado_mercado       float64\n",
       "sum_utilizado_mercado       float64\n",
       "nr_chaves_importantes       float64\n",
       "nr_antecipacao_fatura       float64\n",
       "nr_bolso_ativo              float64\n",
       "nr_trans_mov_conta          float64\n",
       "nr_purchases_virtual        float64\n",
       "avg_vl_total_spending       float64\n",
       "nr_purchases_online         float64\n",
       "nr_acessos                  float64\n",
       "pc_acessos_lojawill         float64\n",
       "flag_mgm                    float64\n",
       "dias_atraso                   int64\n",
       "ordem                         int64\n",
       "flag_limite_insuficiente      int64\n",
       "share_of_wallet             float64\n",
       "dtype: object"
      ]
     },
     "execution_count": 5,
     "metadata": {},
     "output_type": "execute_result"
    }
   ],
   "source": [
    "df.dtypes"
   ]
  },
  {
   "cell_type": "code",
   "execution_count": 6,
   "metadata": {},
   "outputs": [
    {
     "data": {
      "text/plain": [
       "cpf                              0\n",
       "tempo_aprovacao               3171\n",
       "tempo_relacionamento          3171\n",
       "ganho_limite                120421\n",
       "ds_risk_type                     0\n",
       "gender                        9190\n",
       "nr_declared_income               0\n",
       "ds_region                       12\n",
       "flag_autonomo                    0\n",
       "max_limite                       0\n",
       "max_qtd_if                       0\n",
       "avg_utilizado_interno        97612\n",
       "sum_utilizado_interno        97612\n",
       "avg_utilizado_mercado        97612\n",
       "sum_utilizado_mercado        97612\n",
       "nr_chaves_importantes       375425\n",
       "nr_antecipacao_fatura       375425\n",
       "nr_bolso_ativo              375425\n",
       "nr_trans_mov_conta          375425\n",
       "nr_purchases_virtual        122126\n",
       "avg_vl_total_spending       122126\n",
       "nr_purchases_online         122126\n",
       "nr_acessos                  500000\n",
       "pc_acessos_lojawill         500000\n",
       "flag_mgm                    500000\n",
       "dias_atraso                      0\n",
       "ordem                            0\n",
       "flag_limite_insuficiente         0\n",
       "share_of_wallet             108434\n",
       "dtype: int64"
      ]
     },
     "execution_count": 6,
     "metadata": {},
     "output_type": "execute_result"
    }
   ],
   "source": [
    "df.isnull().sum()"
   ]
  },
  {
   "cell_type": "markdown",
   "metadata": {},
   "source": [
    "### Definindo tipos de var e lidando com missings"
   ]
  },
  {
   "cell_type": "code",
   "execution_count": 7,
   "metadata": {},
   "outputs": [],
   "source": [
    "#variáveis para recodificar como zero\n",
    "df['share_of_wallet'] = df['share_of_wallet'].fillna(0.0)\n",
    "df['ganho_limite'] = df['ganho_limite'].fillna(0.0)\n",
    "\n",
    "df['nr_purchases_online'] = df['nr_purchases_online'].fillna(0.0)\n",
    "df['nr_acessos'] = df['nr_acessos'].fillna(0.0)\n",
    "df['pc_acessos_lojawill'] = df['pc_acessos_lojawill'].fillna(0.0)\n",
    "df['nr_chaves_importantes'] = df['nr_chaves_importantes'].fillna(0.0)"
   ]
  },
  {
   "cell_type": "code",
   "execution_count": 8,
   "metadata": {},
   "outputs": [],
   "source": [
    "id_columns = ['cpf', 'ordem']\n",
    "cat_columns = df.drop(id_columns, axis = 1).select_dtypes('object').columns\n",
    "num_columns = df.drop(id_columns, axis = 1).select_dtypes(exclude=['object']).columns"
   ]
  },
  {
   "cell_type": "code",
   "execution_count": 9,
   "metadata": {},
   "outputs": [
    {
     "data": {
      "text/html": [
       "<div>\n",
       "<style scoped>\n",
       "    .dataframe tbody tr th:only-of-type {\n",
       "        vertical-align: middle;\n",
       "    }\n",
       "\n",
       "    .dataframe tbody tr th {\n",
       "        vertical-align: top;\n",
       "    }\n",
       "\n",
       "    .dataframe thead th {\n",
       "        text-align: right;\n",
       "    }\n",
       "</style>\n",
       "<table border=\"1\" class=\"dataframe\">\n",
       "  <thead>\n",
       "    <tr style=\"text-align: right;\">\n",
       "      <th></th>\n",
       "      <th>tempo_aprovacao</th>\n",
       "      <th>tempo_relacionamento</th>\n",
       "      <th>ganho_limite</th>\n",
       "      <th>nr_declared_income</th>\n",
       "      <th>flag_autonomo</th>\n",
       "      <th>max_limite</th>\n",
       "      <th>max_qtd_if</th>\n",
       "      <th>avg_utilizado_interno</th>\n",
       "      <th>sum_utilizado_interno</th>\n",
       "      <th>avg_utilizado_mercado</th>\n",
       "      <th>...</th>\n",
       "      <th>nr_trans_mov_conta</th>\n",
       "      <th>nr_purchases_virtual</th>\n",
       "      <th>avg_vl_total_spending</th>\n",
       "      <th>nr_purchases_online</th>\n",
       "      <th>nr_acessos</th>\n",
       "      <th>pc_acessos_lojawill</th>\n",
       "      <th>flag_mgm</th>\n",
       "      <th>dias_atraso</th>\n",
       "      <th>flag_limite_insuficiente</th>\n",
       "      <th>share_of_wallet</th>\n",
       "    </tr>\n",
       "  </thead>\n",
       "  <tbody>\n",
       "    <tr>\n",
       "      <th>count</th>\n",
       "      <td>1.032713e+06</td>\n",
       "      <td>1.032713e+06</td>\n",
       "      <td>1.035884e+06</td>\n",
       "      <td>1.035884e+06</td>\n",
       "      <td>1.035884e+06</td>\n",
       "      <td>1.035884e+06</td>\n",
       "      <td>1.035884e+06</td>\n",
       "      <td>938272.000000</td>\n",
       "      <td>9.382720e+05</td>\n",
       "      <td>9.382720e+05</td>\n",
       "      <td>...</td>\n",
       "      <td>660459.000000</td>\n",
       "      <td>913758.000000</td>\n",
       "      <td>913758.000000</td>\n",
       "      <td>1.035884e+06</td>\n",
       "      <td>1.035884e+06</td>\n",
       "      <td>1.035884e+06</td>\n",
       "      <td>535884.000000</td>\n",
       "      <td>1.035884e+06</td>\n",
       "      <td>1.035884e+06</td>\n",
       "      <td>1.035884e+06</td>\n",
       "    </tr>\n",
       "    <tr>\n",
       "      <th>mean</th>\n",
       "      <td>1.467497e+01</td>\n",
       "      <td>7.992940e+02</td>\n",
       "      <td>1.203488e+03</td>\n",
       "      <td>5.204998e+06</td>\n",
       "      <td>2.623421e-01</td>\n",
       "      <td>3.047943e+03</td>\n",
       "      <td>4.566073e+00</td>\n",
       "      <td>2085.512372</td>\n",
       "      <td>2.946778e+04</td>\n",
       "      <td>9.958559e+03</td>\n",
       "      <td>...</td>\n",
       "      <td>56.714933</td>\n",
       "      <td>4.228206</td>\n",
       "      <td>1084.588711</td>\n",
       "      <td>4.490622e+01</td>\n",
       "      <td>7.471051e+01</td>\n",
       "      <td>7.358464e-03</td>\n",
       "      <td>0.066962</td>\n",
       "      <td>6.994606e-02</td>\n",
       "      <td>6.988012e-01</td>\n",
       "      <td>2.956909e-01</td>\n",
       "    </tr>\n",
       "    <tr>\n",
       "      <th>std</th>\n",
       "      <td>5.375132e+01</td>\n",
       "      <td>6.322262e+02</td>\n",
       "      <td>2.638978e+03</td>\n",
       "      <td>2.768569e+09</td>\n",
       "      <td>4.399079e-01</td>\n",
       "      <td>3.546639e+03</td>\n",
       "      <td>3.471403e+00</td>\n",
       "      <td>3425.255387</td>\n",
       "      <td>6.928761e+04</td>\n",
       "      <td>5.712937e+04</td>\n",
       "      <td>...</td>\n",
       "      <td>207.358497</td>\n",
       "      <td>27.571874</td>\n",
       "      <td>1507.814411</td>\n",
       "      <td>1.211845e+02</td>\n",
       "      <td>1.950965e+02</td>\n",
       "      <td>3.373559e-02</td>\n",
       "      <td>0.249957</td>\n",
       "      <td>3.215492e-01</td>\n",
       "      <td>4.587791e-01</td>\n",
       "      <td>2.646219e-01</td>\n",
       "    </tr>\n",
       "    <tr>\n",
       "      <th>min</th>\n",
       "      <td>-3.000000e+01</td>\n",
       "      <td>1.000000e+00</td>\n",
       "      <td>-9.900000e+03</td>\n",
       "      <td>1.000000e-02</td>\n",
       "      <td>0.000000e+00</td>\n",
       "      <td>0.000000e+00</td>\n",
       "      <td>0.000000e+00</td>\n",
       "      <td>0.000000</td>\n",
       "      <td>0.000000e+00</td>\n",
       "      <td>0.000000e+00</td>\n",
       "      <td>...</td>\n",
       "      <td>0.000000</td>\n",
       "      <td>0.000000</td>\n",
       "      <td>-68.136667</td>\n",
       "      <td>0.000000e+00</td>\n",
       "      <td>0.000000e+00</td>\n",
       "      <td>0.000000e+00</td>\n",
       "      <td>0.000000</td>\n",
       "      <td>0.000000e+00</td>\n",
       "      <td>0.000000e+00</td>\n",
       "      <td>0.000000e+00</td>\n",
       "    </tr>\n",
       "    <tr>\n",
       "      <th>25%</th>\n",
       "      <td>1.000000e+00</td>\n",
       "      <td>2.170000e+02</td>\n",
       "      <td>0.000000e+00</td>\n",
       "      <td>1.000000e-02</td>\n",
       "      <td>0.000000e+00</td>\n",
       "      <td>9.000000e+02</td>\n",
       "      <td>2.000000e+00</td>\n",
       "      <td>403.917500</td>\n",
       "      <td>2.260800e+03</td>\n",
       "      <td>9.976875e+02</td>\n",
       "      <td>...</td>\n",
       "      <td>6.000000</td>\n",
       "      <td>0.000000</td>\n",
       "      <td>407.580000</td>\n",
       "      <td>0.000000e+00</td>\n",
       "      <td>0.000000e+00</td>\n",
       "      <td>0.000000e+00</td>\n",
       "      <td>0.000000</td>\n",
       "      <td>0.000000e+00</td>\n",
       "      <td>0.000000e+00</td>\n",
       "      <td>2.418930e-02</td>\n",
       "    </tr>\n",
       "    <tr>\n",
       "      <th>50%</th>\n",
       "      <td>2.000000e+00</td>\n",
       "      <td>6.640000e+02</td>\n",
       "      <td>0.000000e+00</td>\n",
       "      <td>1.500000e+03</td>\n",
       "      <td>0.000000e+00</td>\n",
       "      <td>1.770000e+03</td>\n",
       "      <td>4.000000e+00</td>\n",
       "      <td>1136.845000</td>\n",
       "      <td>1.158592e+04</td>\n",
       "      <td>2.706268e+03</td>\n",
       "      <td>...</td>\n",
       "      <td>16.000000</td>\n",
       "      <td>0.000000</td>\n",
       "      <td>702.095606</td>\n",
       "      <td>8.000000e+00</td>\n",
       "      <td>3.000000e+00</td>\n",
       "      <td>0.000000e+00</td>\n",
       "      <td>0.000000</td>\n",
       "      <td>0.000000e+00</td>\n",
       "      <td>1.000000e+00</td>\n",
       "      <td>2.567087e-01</td>\n",
       "    </tr>\n",
       "    <tr>\n",
       "      <th>75%</th>\n",
       "      <td>6.000000e+00</td>\n",
       "      <td>1.345000e+03</td>\n",
       "      <td>1.000000e+03</td>\n",
       "      <td>3.000000e+03</td>\n",
       "      <td>1.000000e+00</td>\n",
       "      <td>3.500000e+03</td>\n",
       "      <td>6.000000e+00</td>\n",
       "      <td>2470.245000</td>\n",
       "      <td>3.133936e+04</td>\n",
       "      <td>7.248609e+03</td>\n",
       "      <td>...</td>\n",
       "      <td>45.000000</td>\n",
       "      <td>0.000000</td>\n",
       "      <td>1238.191250</td>\n",
       "      <td>3.900000e+01</td>\n",
       "      <td>8.600000e+01</td>\n",
       "      <td>0.000000e+00</td>\n",
       "      <td>0.000000</td>\n",
       "      <td>0.000000e+00</td>\n",
       "      <td>1.000000e+00</td>\n",
       "      <td>4.923781e-01</td>\n",
       "    </tr>\n",
       "    <tr>\n",
       "      <th>max</th>\n",
       "      <td>1.156000e+03</td>\n",
       "      <td>2.309000e+03</td>\n",
       "      <td>9.830000e+04</td>\n",
       "      <td>2.220000e+12</td>\n",
       "      <td>1.000000e+00</td>\n",
       "      <td>9.900000e+04</td>\n",
       "      <td>4.100000e+01</td>\n",
       "      <td>221054.240000</td>\n",
       "      <td>6.364549e+06</td>\n",
       "      <td>2.470661e+07</td>\n",
       "      <td>...</td>\n",
       "      <td>57385.000000</td>\n",
       "      <td>5150.000000</td>\n",
       "      <td>117023.200000</td>\n",
       "      <td>1.203200e+04</td>\n",
       "      <td>1.675200e+04</td>\n",
       "      <td>1.000000e+00</td>\n",
       "      <td>1.000000</td>\n",
       "      <td>2.000000e+00</td>\n",
       "      <td>1.000000e+00</td>\n",
       "      <td>1.000000e+00</td>\n",
       "    </tr>\n",
       "  </tbody>\n",
       "</table>\n",
       "<p>8 rows × 24 columns</p>\n",
       "</div>"
      ],
      "text/plain": [
       "       tempo_aprovacao  tempo_relacionamento  ganho_limite  \\\n",
       "count     1.032713e+06          1.032713e+06  1.035884e+06   \n",
       "mean      1.467497e+01          7.992940e+02  1.203488e+03   \n",
       "std       5.375132e+01          6.322262e+02  2.638978e+03   \n",
       "min      -3.000000e+01          1.000000e+00 -9.900000e+03   \n",
       "25%       1.000000e+00          2.170000e+02  0.000000e+00   \n",
       "50%       2.000000e+00          6.640000e+02  0.000000e+00   \n",
       "75%       6.000000e+00          1.345000e+03  1.000000e+03   \n",
       "max       1.156000e+03          2.309000e+03  9.830000e+04   \n",
       "\n",
       "       nr_declared_income  flag_autonomo    max_limite    max_qtd_if  \\\n",
       "count        1.035884e+06   1.035884e+06  1.035884e+06  1.035884e+06   \n",
       "mean         5.204998e+06   2.623421e-01  3.047943e+03  4.566073e+00   \n",
       "std          2.768569e+09   4.399079e-01  3.546639e+03  3.471403e+00   \n",
       "min          1.000000e-02   0.000000e+00  0.000000e+00  0.000000e+00   \n",
       "25%          1.000000e-02   0.000000e+00  9.000000e+02  2.000000e+00   \n",
       "50%          1.500000e+03   0.000000e+00  1.770000e+03  4.000000e+00   \n",
       "75%          3.000000e+03   1.000000e+00  3.500000e+03  6.000000e+00   \n",
       "max          2.220000e+12   1.000000e+00  9.900000e+04  4.100000e+01   \n",
       "\n",
       "       avg_utilizado_interno  sum_utilizado_interno  avg_utilizado_mercado  \\\n",
       "count          938272.000000           9.382720e+05           9.382720e+05   \n",
       "mean             2085.512372           2.946778e+04           9.958559e+03   \n",
       "std              3425.255387           6.928761e+04           5.712937e+04   \n",
       "min                 0.000000           0.000000e+00           0.000000e+00   \n",
       "25%               403.917500           2.260800e+03           9.976875e+02   \n",
       "50%              1136.845000           1.158592e+04           2.706268e+03   \n",
       "75%              2470.245000           3.133936e+04           7.248609e+03   \n",
       "max            221054.240000           6.364549e+06           2.470661e+07   \n",
       "\n",
       "       ...  nr_trans_mov_conta  nr_purchases_virtual  avg_vl_total_spending  \\\n",
       "count  ...       660459.000000         913758.000000          913758.000000   \n",
       "mean   ...           56.714933              4.228206            1084.588711   \n",
       "std    ...          207.358497             27.571874            1507.814411   \n",
       "min    ...            0.000000              0.000000             -68.136667   \n",
       "25%    ...            6.000000              0.000000             407.580000   \n",
       "50%    ...           16.000000              0.000000             702.095606   \n",
       "75%    ...           45.000000              0.000000            1238.191250   \n",
       "max    ...        57385.000000           5150.000000          117023.200000   \n",
       "\n",
       "       nr_purchases_online    nr_acessos  pc_acessos_lojawill       flag_mgm  \\\n",
       "count         1.035884e+06  1.035884e+06         1.035884e+06  535884.000000   \n",
       "mean          4.490622e+01  7.471051e+01         7.358464e-03       0.066962   \n",
       "std           1.211845e+02  1.950965e+02         3.373559e-02       0.249957   \n",
       "min           0.000000e+00  0.000000e+00         0.000000e+00       0.000000   \n",
       "25%           0.000000e+00  0.000000e+00         0.000000e+00       0.000000   \n",
       "50%           8.000000e+00  3.000000e+00         0.000000e+00       0.000000   \n",
       "75%           3.900000e+01  8.600000e+01         0.000000e+00       0.000000   \n",
       "max           1.203200e+04  1.675200e+04         1.000000e+00       1.000000   \n",
       "\n",
       "        dias_atraso  flag_limite_insuficiente  share_of_wallet  \n",
       "count  1.035884e+06              1.035884e+06     1.035884e+06  \n",
       "mean   6.994606e-02              6.988012e-01     2.956909e-01  \n",
       "std    3.215492e-01              4.587791e-01     2.646219e-01  \n",
       "min    0.000000e+00              0.000000e+00     0.000000e+00  \n",
       "25%    0.000000e+00              0.000000e+00     2.418930e-02  \n",
       "50%    0.000000e+00              1.000000e+00     2.567087e-01  \n",
       "75%    0.000000e+00              1.000000e+00     4.923781e-01  \n",
       "max    2.000000e+00              1.000000e+00     1.000000e+00  \n",
       "\n",
       "[8 rows x 24 columns]"
      ]
     },
     "execution_count": 9,
     "metadata": {},
     "output_type": "execute_result"
    }
   ],
   "source": [
    "df.drop(id_columns, axis=1).describe()"
   ]
  },
  {
   "cell_type": "code",
   "execution_count": 10,
   "metadata": {},
   "outputs": [],
   "source": [
    "for column in df.columns:\n",
    "  if df[column].dtype == 'object':\n",
    "    df[column].fillna(df[column].mode()[0], inplace = True)\n",
    "  elif df[column].dtype == 'string':\n",
    "    df[column].fillna(df[column].mode()[0], inplace = True)\n",
    "  elif df[column].dtype != 'object':\n",
    "    df[column].fillna(df[column].median(), inplace = True)"
   ]
  },
  {
   "cell_type": "code",
   "execution_count": 11,
   "metadata": {},
   "outputs": [
    {
     "data": {
      "text/plain": [
       "cpf                         0\n",
       "tempo_aprovacao             0\n",
       "tempo_relacionamento        0\n",
       "ganho_limite                0\n",
       "ds_risk_type                0\n",
       "gender                      0\n",
       "nr_declared_income          0\n",
       "ds_region                   0\n",
       "flag_autonomo               0\n",
       "max_limite                  0\n",
       "max_qtd_if                  0\n",
       "avg_utilizado_interno       0\n",
       "sum_utilizado_interno       0\n",
       "avg_utilizado_mercado       0\n",
       "sum_utilizado_mercado       0\n",
       "nr_chaves_importantes       0\n",
       "nr_antecipacao_fatura       0\n",
       "nr_bolso_ativo              0\n",
       "nr_trans_mov_conta          0\n",
       "nr_purchases_virtual        0\n",
       "avg_vl_total_spending       0\n",
       "nr_purchases_online         0\n",
       "nr_acessos                  0\n",
       "pc_acessos_lojawill         0\n",
       "flag_mgm                    0\n",
       "dias_atraso                 0\n",
       "ordem                       0\n",
       "flag_limite_insuficiente    0\n",
       "share_of_wallet             0\n",
       "dtype: int64"
      ]
     },
     "execution_count": 11,
     "metadata": {},
     "output_type": "execute_result"
    }
   ],
   "source": [
    "df.isnull().sum()"
   ]
  },
  {
   "cell_type": "code",
   "execution_count": 12,
   "metadata": {},
   "outputs": [
    {
     "data": {
      "text/plain": [
       "0.0    1000000\n",
       "1.0      35884\n",
       "Name: flag_mgm, dtype: int64"
      ]
     },
     "execution_count": 12,
     "metadata": {},
     "output_type": "execute_result"
    }
   ],
   "source": [
    "df['flag_mgm'].value_counts()"
   ]
  },
  {
   "cell_type": "markdown",
   "metadata": {},
   "source": [
    "## Início modelagem"
   ]
  },
  {
   "cell_type": "code",
   "execution_count": 13,
   "metadata": {},
   "outputs": [],
   "source": [
    "#tempo_relacionamento, nr_acessos, share of wallet, declared income,  purchases on line, max_limite, Avg Spending, trans mov conta, limite insuficiente, ganho limite, percentual loja will\n",
    "preditores = ['tempo_aprovacao', 'flag_autonomo', 'dias_atraso', 'tempo_relacionamento', 'avg_vl_total_spending', 'nr_declared_income', 'ganho_limite', 'flag_limite_insuficiente', 'share_of_wallet', 'nr_trans_mov_conta', 'nr_purchases_online']\n",
    "target = ['flag_mgm']"
   ]
  },
  {
   "cell_type": "code",
   "execution_count": 14,
   "metadata": {},
   "outputs": [],
   "source": [
    "def discretiza(df, drop_col):\n",
    "    num_columns = df.drop(drop_col, axis = 1).select_dtypes(exclude=['object']).columns\n",
    "    stats = df.drop(drop_col, axis=1).describe()\n",
    "    for i in num_columns:\n",
    "        p75 = stats.iloc[6][i]\n",
    "        p25 = stats.iloc[4][i]\n",
    "        p50 = stats.iloc[5][i]\n",
    "        \n",
    "        df['aux'] = np.where((df[i] <= p25), \"A - \" + i,\n",
    "                    np.where((df[i] > p25) & (df[i] <= p50), \"B - \" + i,\n",
    "                    np.where((df[i] > p50) & (df[i] <= p75), \"C - \" + i, \"D - \" + i)))\n",
    "  \n",
    "        df = df.rename(columns = {'aux':i+\"_fx\"})\n",
    "\n",
    "    return df"
   ]
  },
  {
   "cell_type": "code",
   "execution_count": 15,
   "metadata": {},
   "outputs": [],
   "source": [
    "df = discretiza(df, ['cpf', 'flag_mgm', 'ordem'])"
   ]
  },
  {
   "cell_type": "code",
   "execution_count": 16,
   "metadata": {},
   "outputs": [
    {
     "data": {
      "text/plain": [
       "Index(['cpf', 'tempo_aprovacao', 'tempo_relacionamento', 'ganho_limite',\n",
       "       'ds_risk_type', 'gender', 'nr_declared_income', 'ds_region',\n",
       "       'flag_autonomo', 'max_limite', 'max_qtd_if', 'avg_utilizado_interno',\n",
       "       'sum_utilizado_interno', 'avg_utilizado_mercado',\n",
       "       'sum_utilizado_mercado', 'nr_chaves_importantes',\n",
       "       'nr_antecipacao_fatura', 'nr_bolso_ativo', 'nr_trans_mov_conta',\n",
       "       'nr_purchases_virtual', 'avg_vl_total_spending', 'nr_purchases_online',\n",
       "       'nr_acessos', 'pc_acessos_lojawill', 'flag_mgm', 'dias_atraso', 'ordem',\n",
       "       'flag_limite_insuficiente', 'share_of_wallet', 'tempo_aprovacao_fx',\n",
       "       'tempo_relacionamento_fx', 'ganho_limite_fx', 'nr_declared_income_fx',\n",
       "       'flag_autonomo_fx', 'max_limite_fx', 'max_qtd_if_fx',\n",
       "       'avg_utilizado_interno_fx', 'sum_utilizado_interno_fx',\n",
       "       'avg_utilizado_mercado_fx', 'sum_utilizado_mercado_fx',\n",
       "       'nr_chaves_importantes_fx', 'nr_antecipacao_fatura_fx',\n",
       "       'nr_bolso_ativo_fx', 'nr_trans_mov_conta_fx', 'nr_purchases_virtual_fx',\n",
       "       'avg_vl_total_spending_fx', 'nr_purchases_online_fx', 'nr_acessos_fx',\n",
       "       'pc_acessos_lojawill_fx', 'dias_atraso_fx',\n",
       "       'flag_limite_insuficiente_fx', 'share_of_wallet_fx'],\n",
       "      dtype='object')"
      ]
     },
     "execution_count": 16,
     "metadata": {},
     "output_type": "execute_result"
    }
   ],
   "source": [
    "df.columns"
   ]
  },
  {
   "cell_type": "code",
   "execution_count": 23,
   "metadata": {},
   "outputs": [
    {
     "data": {
      "text/plain": [
       "<Figure size 720x360 with 0 Axes>"
      ]
     },
     "metadata": {},
     "output_type": "display_data"
    },
    {
     "data": {
      "image/png": "[encoded data removed]",
      "text/plain": [
       "<Figure size 417.625x360 with 1 Axes>"
      ]
     },
     "metadata": {
      "needs_background": "light"
     },
     "output_type": "display_data"
    },
    {
     "data": {
      "text/plain": [
       "<Figure size 720x360 with 0 Axes>"
      ]
     },
     "metadata": {},
     "output_type": "display_data"
    },
    {
     "data": {
      "image/png": "[encoded data removed]",
      "text/plain": [
       "<Figure size 417.625x360 with 1 Axes>"
      ]
     },
     "metadata": {
      "needs_background": "light"
     },
     "output_type": "display_data"
    },
    {
     "data": {
      "text/plain": [
       "<Figure size 720x360 with 0 Axes>"
      ]
     },
     "metadata": {},
     "output_type": "display_data"
    },
    {
     "data": {
      "image/png": "[encoded data removed]",
      "text/plain": [
       "<Figure size 417.625x360 with 1 Axes>"
      ]
     },
     "metadata": {
      "needs_background": "light"
     },
     "output_type": "display_data"
    },
    {
     "data": {
      "text/plain": [
       "<Figure size 720x360 with 0 Axes>"
      ]
     },
     "metadata": {},
     "output_type": "display_data"
    },
    {
     "data": {
      "image/png": "[encoded data removed]",
      "text/plain": [
       "<Figure size 417.625x360 with 1 Axes>"
      ]
     },
     "metadata": {
      "needs_background": "light"
     },
     "output_type": "display_data"
    },
    {
     "data": {
      "text/plain": [
       "<Figure size 720x360 with 0 Axes>"
      ]
     },
     "metadata": {},
     "output_type": "display_data"
    },
    {
     "data": {
      "image/png": "[encoded data removed]",
      "text/plain": [
       "<Figure size 417.625x360 with 1 Axes>"
      ]
     },
     "metadata": {
      "needs_background": "light"
     },
     "output_type": "display_data"
    },
    {
     "data": {
      "text/plain": [
       "<Figure size 720x360 with 0 Axes>"
      ]
     },
     "metadata": {},
     "output_type": "display_data"
    },
    {
     "data": {
      "image/png": "[encoded data removed]",
      "text/plain": [
       "<Figure size 417.625x360 with 1 Axes>"
      ]
     },
     "metadata": {
      "needs_background": "light"
     },
     "output_type": "display_data"
    },
    {
     "data": {
      "text/plain": [
       "<Figure size 720x360 with 0 Axes>"
      ]
     },
     "metadata": {},
     "output_type": "display_data"
    },
    {
     "data": {
      "image/png": "[encoded data removed]",
      "text/plain": [
       "<Figure size 417.625x360 with 1 Axes>"
      ]
     },
     "metadata": {
      "needs_background": "light"
     },
     "output_type": "display_data"
    },
    {
     "data": {
      "text/plain": [
       "<Figure size 720x360 with 0 Axes>"
      ]
     },
     "metadata": {},
     "output_type": "display_data"
    },
    {
     "data": {
      "image/png": "[encoded data removed]",
      "text/plain": [
       "<Figure size 417.625x360 with 1 Axes>"
      ]
     },
     "metadata": {
      "needs_background": "light"
     },
     "output_type": "display_data"
    },
    {
     "data": {
      "text/plain": [
       "<Figure size 720x360 with 0 Axes>"
      ]
     },
     "metadata": {},
     "output_type": "display_data"
    },
    {
     "data": {
      "image/png": "[encoded data removed]",
      "text/plain": [
       "<Figure size 417.625x360 with 1 Axes>"
      ]
     },
     "metadata": {
      "needs_background": "light"
     },
     "output_type": "display_data"
    },
    {
     "data": {
      "text/plain": [
       "<Figure size 720x360 with 0 Axes>"
      ]
     },
     "metadata": {},
     "output_type": "display_data"
    },
    {
     "data": {
      "image/png": "[encoded data removed]",
      "text/plain": [
       "<Figure size 417.625x360 with 1 Axes>"
      ]
     },
     "metadata": {
      "needs_background": "light"
     },
     "output_type": "display_data"
    },
    {
     "data": {
      "text/plain": [
       "<Figure size 720x360 with 0 Axes>"
      ]
     },
     "metadata": {},
     "output_type": "display_data"
    },
    {
     "data": {
      "image/png": "[encoded data removed]",
      "text/plain": [
       "<Figure size 417.625x360 with 1 Axes>"
      ]
     },
     "metadata": {
      "needs_background": "light"
     },
     "output_type": "display_data"
    }
   ],
   "source": [
    "cols_analise = ['tempo_aprovacao_fx',\n",
    "       'flag_autonomo_fx', 'dias_atraso_fx', 'tempo_relacionamento_fx',\n",
    "       'avg_vl_total_spending_fx', 'nr_declared_income_fx', 'ganho_limite_fx',\n",
    "       'flag_limite_insuficiente_fx', 'share_of_wallet_fx',\n",
    "       'nr_trans_mov_conta_fx', 'nr_purchases_online_fx']\n",
    "\n",
    "for column in cols_analise:\n",
    "        plt.figure(figsize = (10,5))\n",
    "        sns.catplot(x=column, hue='flag_mgm', data=df, kind=\"count\")\n",
    "        plt.xticks(rotation=90)\n",
    "        plt.show()"
   ]
  },
  {
   "cell_type": "markdown",
   "metadata": {},
   "source": [
    "#### Combinar\n",
    "\n",
    "- Compras online entre P25 e P75\n",
    "- Movimentação conta acima de P75\n",
    "- Share of wallet acima de P25\n",
    "- Ganho limite entre P25 e P75\n",
    "- Renda declarada acima de P50\n",
    "- Spending acima da mediana\n",
    "- Atraso sim ou não\n",
    "- Tempo de relacionamento entre P25 e P75\n",
    "- Autonomo sim ou não\n",
    "- Tempo de aprovação até P25\n",
    "\n",
    "\n",
    " Legendas : A - Até P25 ;  B - Entre P25 e P50 ; C - Entre P50 e P75 e D - Acima de P75 * "
   ]
  },
  {
   "cell_type": "code",
   "execution_count": 24,
   "metadata": {},
   "outputs": [
    {
     "data": {
      "text/plain": [
       "Index(['cpf', 'tempo_aprovacao', 'tempo_relacionamento', 'ganho_limite',\n",
       "       'ds_risk_type', 'gender', 'nr_declared_income', 'ds_region',\n",
       "       'flag_autonomo', 'max_limite', 'max_qtd_if', 'avg_utilizado_interno',\n",
       "       'sum_utilizado_interno', 'avg_utilizado_mercado',\n",
       "       'sum_utilizado_mercado', 'nr_chaves_importantes',\n",
       "       'nr_antecipacao_fatura', 'nr_bolso_ativo', 'nr_trans_mov_conta',\n",
       "       'nr_purchases_virtual', 'avg_vl_total_spending', 'nr_purchases_online',\n",
       "       'nr_acessos', 'pc_acessos_lojawill', 'flag_mgm', 'dias_atraso', 'ordem',\n",
       "       'flag_limite_insuficiente', 'share_of_wallet', 'tempo_aprovacao_fx',\n",
       "       'tempo_relacionamento_fx', 'ganho_limite_fx', 'nr_declared_income_fx',\n",
       "       'flag_autonomo_fx', 'max_limite_fx', 'max_qtd_if_fx',\n",
       "       'avg_utilizado_interno_fx', 'sum_utilizado_interno_fx',\n",
       "       'avg_utilizado_mercado_fx', 'sum_utilizado_mercado_fx',\n",
       "       'nr_chaves_importantes_fx', 'nr_antecipacao_fatura_fx',\n",
       "       'nr_bolso_ativo_fx', 'nr_trans_mov_conta_fx', 'nr_purchases_virtual_fx',\n",
       "       'avg_vl_total_spending_fx', 'nr_purchases_online_fx', 'nr_acessos_fx',\n",
       "       'pc_acessos_lojawill_fx', 'dias_atraso_fx',\n",
       "       'flag_limite_insuficiente_fx', 'share_of_wallet_fx'],\n",
       "      dtype='object')"
      ]
     },
     "execution_count": 24,
     "metadata": {},
     "output_type": "execute_result"
    }
   ],
   "source": [
    "df.columns"
   ]
  },
  {
   "cell_type": "code",
   "execution_count": 25,
   "metadata": {},
   "outputs": [
    {
     "data": {
      "text/plain": [
       "B    520595\n",
       "A    259292\n",
       "C    255997\n",
       "Name: seg_online, dtype: int64"
      ]
     },
     "execution_count": 25,
     "metadata": {},
     "output_type": "execute_result"
    }
   ],
   "source": [
    "df['seg_online'] = np.where(df.nr_purchases_online <=  df.nr_purchases_online.quantile(0.25), 'A', \n",
    "                    np.where(df.nr_purchases_online <=  df.nr_purchases_online.quantile(0.75), 'B', 'C'                       \n",
    "                            ))\n",
    "\n",
    "df['seg_online'].value_counts()"
   ]
  },
  {
   "cell_type": "code",
   "execution_count": 26,
   "metadata": {},
   "outputs": [
    {
     "data": {
      "text/html": [
       "<div>\n",
       "<style scoped>\n",
       "    .dataframe tbody tr th:only-of-type {\n",
       "        vertical-align: middle;\n",
       "    }\n",
       "\n",
       "    .dataframe tbody tr th {\n",
       "        vertical-align: top;\n",
       "    }\n",
       "\n",
       "    .dataframe thead th {\n",
       "        text-align: right;\n",
       "    }\n",
       "</style>\n",
       "<table border=\"1\" class=\"dataframe\">\n",
       "  <thead>\n",
       "    <tr style=\"text-align: right;\">\n",
       "      <th></th>\n",
       "      <th>flag_mgm</th>\n",
       "    </tr>\n",
       "    <tr>\n",
       "      <th>seg_online</th>\n",
       "      <th></th>\n",
       "    </tr>\n",
       "  </thead>\n",
       "  <tbody>\n",
       "    <tr>\n",
       "      <th>A</th>\n",
       "      <td>0.020957</td>\n",
       "    </tr>\n",
       "    <tr>\n",
       "      <th>B</th>\n",
       "      <td>0.046660</td>\n",
       "    </tr>\n",
       "    <tr>\n",
       "      <th>C</th>\n",
       "      <td>0.024059</td>\n",
       "    </tr>\n",
       "  </tbody>\n",
       "</table>\n",
       "</div>"
      ],
      "text/plain": [
       "            flag_mgm\n",
       "seg_online          \n",
       "A           0.020957\n",
       "B           0.046660\n",
       "C           0.024059"
      ]
     },
     "execution_count": 26,
     "metadata": {},
     "output_type": "execute_result"
    }
   ],
   "source": [
    "df[['seg_online', 'flag_mgm']].groupby('seg_online').mean()"
   ]
  },
  {
   "cell_type": "code",
   "execution_count": 31,
   "metadata": {},
   "outputs": [
    {
     "data": {
      "text/html": [
       "<div>\n",
       "<style scoped>\n",
       "    .dataframe tbody tr th:only-of-type {\n",
       "        vertical-align: middle;\n",
       "    }\n",
       "\n",
       "    .dataframe tbody tr th {\n",
       "        vertical-align: top;\n",
       "    }\n",
       "\n",
       "    .dataframe thead tr th {\n",
       "        text-align: left;\n",
       "    }\n",
       "\n",
       "    .dataframe thead tr:last-of-type th {\n",
       "        text-align: right;\n",
       "    }\n",
       "</style>\n",
       "<table border=\"1\" class=\"dataframe\">\n",
       "  <thead>\n",
       "    <tr>\n",
       "      <th></th>\n",
       "      <th colspan=\"2\" halign=\"left\">flag_mgm</th>\n",
       "    </tr>\n",
       "    <tr>\n",
       "      <th></th>\n",
       "      <th>mean</th>\n",
       "      <th>count</th>\n",
       "    </tr>\n",
       "    <tr>\n",
       "      <th>seg_mov_conta</th>\n",
       "      <th></th>\n",
       "      <th></th>\n",
       "    </tr>\n",
       "  </thead>\n",
       "  <tbody>\n",
       "    <tr>\n",
       "      <th>A</th>\n",
       "      <td>0.024382</td>\n",
       "      <td>785008</td>\n",
       "    </tr>\n",
       "    <tr>\n",
       "      <th>B</th>\n",
       "      <td>0.066742</td>\n",
       "      <td>250876</td>\n",
       "    </tr>\n",
       "  </tbody>\n",
       "</table>\n",
       "</div>"
      ],
      "text/plain": [
       "               flag_mgm        \n",
       "                   mean   count\n",
       "seg_mov_conta                  \n",
       "A              0.024382  785008\n",
       "B              0.066742  250876"
      ]
     },
     "execution_count": 31,
     "metadata": {},
     "output_type": "execute_result"
    }
   ],
   "source": [
    "df['seg_mov_conta'] = np.where(df.nr_trans_mov_conta <=  df.nr_trans_mov_conta.quantile(0.75), 'A', 'B')\n",
    "\n",
    "df[['seg_mov_conta', 'flag_mgm']].groupby('seg_mov_conta').agg({'flag_mgm':['mean', 'count']})"
   ]
  },
  {
   "cell_type": "code",
   "execution_count": 32,
   "metadata": {},
   "outputs": [
    {
     "data": {
      "text/html": [
       "<div>\n",
       "<style scoped>\n",
       "    .dataframe tbody tr th:only-of-type {\n",
       "        vertical-align: middle;\n",
       "    }\n",
       "\n",
       "    .dataframe tbody tr th {\n",
       "        vertical-align: top;\n",
       "    }\n",
       "\n",
       "    .dataframe thead tr th {\n",
       "        text-align: left;\n",
       "    }\n",
       "\n",
       "    .dataframe thead tr:last-of-type th {\n",
       "        text-align: right;\n",
       "    }\n",
       "</style>\n",
       "<table border=\"1\" class=\"dataframe\">\n",
       "  <thead>\n",
       "    <tr>\n",
       "      <th></th>\n",
       "      <th colspan=\"2\" halign=\"left\">flag_mgm</th>\n",
       "    </tr>\n",
       "    <tr>\n",
       "      <th></th>\n",
       "      <th>mean</th>\n",
       "      <th>count</th>\n",
       "    </tr>\n",
       "    <tr>\n",
       "      <th>seg_share_of_wallet</th>\n",
       "      <th></th>\n",
       "      <th></th>\n",
       "    </tr>\n",
       "  </thead>\n",
       "  <tbody>\n",
       "    <tr>\n",
       "      <th>A</th>\n",
       "      <td>0.004549</td>\n",
       "      <td>258971</td>\n",
       "    </tr>\n",
       "    <tr>\n",
       "      <th>B</th>\n",
       "      <td>0.044672</td>\n",
       "      <td>776913</td>\n",
       "    </tr>\n",
       "  </tbody>\n",
       "</table>\n",
       "</div>"
      ],
      "text/plain": [
       "                     flag_mgm        \n",
       "                         mean   count\n",
       "seg_share_of_wallet                  \n",
       "A                    0.004549  258971\n",
       "B                    0.044672  776913"
      ]
     },
     "execution_count": 32,
     "metadata": {},
     "output_type": "execute_result"
    }
   ],
   "source": [
    "df['seg_share_of_wallet'] = np.where(df.share_of_wallet <=  df.share_of_wallet.quantile(0.25), 'A', 'B')\n",
    "\n",
    "df[['seg_share_of_wallet', 'flag_mgm']].groupby('seg_share_of_wallet').agg({'flag_mgm':['mean', 'count']})"
   ]
  },
  {
   "cell_type": "code",
   "execution_count": 33,
   "metadata": {},
   "outputs": [
    {
     "data": {
      "text/html": [
       "<div>\n",
       "<style scoped>\n",
       "    .dataframe tbody tr th:only-of-type {\n",
       "        vertical-align: middle;\n",
       "    }\n",
       "\n",
       "    .dataframe tbody tr th {\n",
       "        vertical-align: top;\n",
       "    }\n",
       "\n",
       "    .dataframe thead tr th {\n",
       "        text-align: left;\n",
       "    }\n",
       "\n",
       "    .dataframe thead tr:last-of-type th {\n",
       "        text-align: right;\n",
       "    }\n",
       "</style>\n",
       "<table border=\"1\" class=\"dataframe\">\n",
       "  <thead>\n",
       "    <tr>\n",
       "      <th></th>\n",
       "      <th colspan=\"2\" halign=\"left\">flag_mgm</th>\n",
       "    </tr>\n",
       "    <tr>\n",
       "      <th></th>\n",
       "      <th>mean</th>\n",
       "      <th>count</th>\n",
       "    </tr>\n",
       "    <tr>\n",
       "      <th>seg_ganho_limite</th>\n",
       "      <th></th>\n",
       "      <th></th>\n",
       "    </tr>\n",
       "  </thead>\n",
       "  <tbody>\n",
       "    <tr>\n",
       "      <th>A</th>\n",
       "      <td>0.016087</td>\n",
       "      <td>528641</td>\n",
       "    </tr>\n",
       "    <tr>\n",
       "      <th>B</th>\n",
       "      <td>0.077947</td>\n",
       "      <td>249426</td>\n",
       "    </tr>\n",
       "    <tr>\n",
       "      <th>C</th>\n",
       "      <td>0.030789</td>\n",
       "      <td>257817</td>\n",
       "    </tr>\n",
       "  </tbody>\n",
       "</table>\n",
       "</div>"
      ],
      "text/plain": [
       "                  flag_mgm        \n",
       "                      mean   count\n",
       "seg_ganho_limite                  \n",
       "A                 0.016087  528641\n",
       "B                 0.077947  249426\n",
       "C                 0.030789  257817"
      ]
     },
     "execution_count": 33,
     "metadata": {},
     "output_type": "execute_result"
    }
   ],
   "source": [
    "df['seg_ganho_limite'] = np.where(df.ganho_limite <=  df.ganho_limite.quantile(0.25), 'A',\n",
    "                                  np.where(df.ganho_limite <=  df.ganho_limite.quantile(0.75), 'B', 'C'))\n",
    "\n",
    "df[['seg_ganho_limite', 'flag_mgm']].groupby('seg_ganho_limite').agg({'flag_mgm':['mean', 'count']})"
   ]
  },
  {
   "cell_type": "code",
   "execution_count": 35,
   "metadata": {},
   "outputs": [
    {
     "data": {
      "text/html": [
       "<div>\n",
       "<style scoped>\n",
       "    .dataframe tbody tr th:only-of-type {\n",
       "        vertical-align: middle;\n",
       "    }\n",
       "\n",
       "    .dataframe tbody tr th {\n",
       "        vertical-align: top;\n",
       "    }\n",
       "\n",
       "    .dataframe thead tr th {\n",
       "        text-align: left;\n",
       "    }\n",
       "\n",
       "    .dataframe thead tr:last-of-type th {\n",
       "        text-align: right;\n",
       "    }\n",
       "</style>\n",
       "<table border=\"1\" class=\"dataframe\">\n",
       "  <thead>\n",
       "    <tr>\n",
       "      <th></th>\n",
       "      <th colspan=\"2\" halign=\"left\">flag_mgm</th>\n",
       "    </tr>\n",
       "    <tr>\n",
       "      <th></th>\n",
       "      <th>mean</th>\n",
       "      <th>count</th>\n",
       "    </tr>\n",
       "    <tr>\n",
       "      <th>seg_renda_declarada</th>\n",
       "      <th></th>\n",
       "      <th></th>\n",
       "    </tr>\n",
       "  </thead>\n",
       "  <tbody>\n",
       "    <tr>\n",
       "      <th>A</th>\n",
       "      <td>0.019189</td>\n",
       "      <td>544280</td>\n",
       "    </tr>\n",
       "    <tr>\n",
       "      <th>B</th>\n",
       "      <td>0.051749</td>\n",
       "      <td>491604</td>\n",
       "    </tr>\n",
       "  </tbody>\n",
       "</table>\n",
       "</div>"
      ],
      "text/plain": [
       "                     flag_mgm        \n",
       "                         mean   count\n",
       "seg_renda_declarada                  \n",
       "A                    0.019189  544280\n",
       "B                    0.051749  491604"
      ]
     },
     "execution_count": 35,
     "metadata": {},
     "output_type": "execute_result"
    }
   ],
   "source": [
    "df['seg_renda_declarada'] = np.where(df.nr_declared_income <=  df.nr_declared_income.quantile(0.50), 'A', 'B')\n",
    "\n",
    "df[['seg_renda_declarada', 'flag_mgm']].groupby('seg_renda_declarada').agg({'flag_mgm':['mean', 'count']})"
   ]
  },
  {
   "cell_type": "code",
   "execution_count": 37,
   "metadata": {},
   "outputs": [
    {
     "data": {
      "text/html": [
       "<div>\n",
       "<style scoped>\n",
       "    .dataframe tbody tr th:only-of-type {\n",
       "        vertical-align: middle;\n",
       "    }\n",
       "\n",
       "    .dataframe tbody tr th {\n",
       "        vertical-align: top;\n",
       "    }\n",
       "\n",
       "    .dataframe thead tr th {\n",
       "        text-align: left;\n",
       "    }\n",
       "\n",
       "    .dataframe thead tr:last-of-type th {\n",
       "        text-align: right;\n",
       "    }\n",
       "</style>\n",
       "<table border=\"1\" class=\"dataframe\">\n",
       "  <thead>\n",
       "    <tr>\n",
       "      <th></th>\n",
       "      <th colspan=\"2\" halign=\"left\">flag_mgm</th>\n",
       "    </tr>\n",
       "    <tr>\n",
       "      <th></th>\n",
       "      <th>mean</th>\n",
       "      <th>count</th>\n",
       "    </tr>\n",
       "    <tr>\n",
       "      <th>seg_relacionamento</th>\n",
       "      <th></th>\n",
       "      <th></th>\n",
       "    </tr>\n",
       "  </thead>\n",
       "  <tbody>\n",
       "    <tr>\n",
       "      <th>A</th>\n",
       "      <td>0.000015</td>\n",
       "      <td>259593</td>\n",
       "    </tr>\n",
       "    <tr>\n",
       "      <th>B</th>\n",
       "      <td>0.065912</td>\n",
       "      <td>518765</td>\n",
       "    </tr>\n",
       "    <tr>\n",
       "      <th>C</th>\n",
       "      <td>0.006551</td>\n",
       "      <td>257526</td>\n",
       "    </tr>\n",
       "  </tbody>\n",
       "</table>\n",
       "</div>"
      ],
      "text/plain": [
       "                    flag_mgm        \n",
       "                        mean   count\n",
       "seg_relacionamento                  \n",
       "A                   0.000015  259593\n",
       "B                   0.065912  518765\n",
       "C                   0.006551  257526"
      ]
     },
     "execution_count": 37,
     "metadata": {},
     "output_type": "execute_result"
    }
   ],
   "source": [
    "df['seg_relacionamento'] = np.where(df.tempo_relacionamento <=  df.tempo_relacionamento.quantile(0.25), 'A',\n",
    "                                  np.where(df.tempo_relacionamento <=  df.tempo_relacionamento.quantile(0.75), 'B', 'C'))\n",
    "\n",
    "df[['seg_relacionamento', 'flag_mgm']].groupby('seg_relacionamento').agg({'flag_mgm':['mean', 'count']})"
   ]
  },
  {
   "cell_type": "code",
   "execution_count": 36,
   "metadata": {},
   "outputs": [
    {
     "data": {
      "text/html": [
       "<div>\n",
       "<style scoped>\n",
       "    .dataframe tbody tr th:only-of-type {\n",
       "        vertical-align: middle;\n",
       "    }\n",
       "\n",
       "    .dataframe tbody tr th {\n",
       "        vertical-align: top;\n",
       "    }\n",
       "\n",
       "    .dataframe thead tr th {\n",
       "        text-align: left;\n",
       "    }\n",
       "\n",
       "    .dataframe thead tr:last-of-type th {\n",
       "        text-align: right;\n",
       "    }\n",
       "</style>\n",
       "<table border=\"1\" class=\"dataframe\">\n",
       "  <thead>\n",
       "    <tr>\n",
       "      <th></th>\n",
       "      <th colspan=\"2\" halign=\"left\">flag_mgm</th>\n",
       "    </tr>\n",
       "    <tr>\n",
       "      <th></th>\n",
       "      <th>mean</th>\n",
       "      <th>count</th>\n",
       "    </tr>\n",
       "    <tr>\n",
       "      <th>seg_spending</th>\n",
       "      <th></th>\n",
       "      <th></th>\n",
       "    </tr>\n",
       "  </thead>\n",
       "  <tbody>\n",
       "    <tr>\n",
       "      <th>A</th>\n",
       "      <td>0.030014</td>\n",
       "      <td>579005</td>\n",
       "    </tr>\n",
       "    <tr>\n",
       "      <th>B</th>\n",
       "      <td>0.040505</td>\n",
       "      <td>456879</td>\n",
       "    </tr>\n",
       "  </tbody>\n",
       "</table>\n",
       "</div>"
      ],
      "text/plain": [
       "              flag_mgm        \n",
       "                  mean   count\n",
       "seg_spending                  \n",
       "A             0.030014  579005\n",
       "B             0.040505  456879"
      ]
     },
     "execution_count": 36,
     "metadata": {},
     "output_type": "execute_result"
    }
   ],
   "source": [
    "df['seg_spending'] = np.where(df.avg_vl_total_spending <=  df.avg_vl_total_spending.quantile(0.50), 'A', 'B')\n",
    "\n",
    "df[['seg_spending', 'flag_mgm']].groupby('seg_spending').agg({'flag_mgm':['mean', 'count']})"
   ]
  },
  {
   "cell_type": "code",
   "execution_count": 38,
   "metadata": {},
   "outputs": [
    {
     "data": {
      "text/html": [
       "<div>\n",
       "<style scoped>\n",
       "    .dataframe tbody tr th:only-of-type {\n",
       "        vertical-align: middle;\n",
       "    }\n",
       "\n",
       "    .dataframe tbody tr th {\n",
       "        vertical-align: top;\n",
       "    }\n",
       "\n",
       "    .dataframe thead tr th {\n",
       "        text-align: left;\n",
       "    }\n",
       "\n",
       "    .dataframe thead tr:last-of-type th {\n",
       "        text-align: right;\n",
       "    }\n",
       "</style>\n",
       "<table border=\"1\" class=\"dataframe\">\n",
       "  <thead>\n",
       "    <tr>\n",
       "      <th></th>\n",
       "      <th colspan=\"2\" halign=\"left\">flag_mgm</th>\n",
       "    </tr>\n",
       "    <tr>\n",
       "      <th></th>\n",
       "      <th>mean</th>\n",
       "      <th>count</th>\n",
       "    </tr>\n",
       "    <tr>\n",
       "      <th>seg_tempo_aprovacao</th>\n",
       "      <th></th>\n",
       "      <th></th>\n",
       "    </tr>\n",
       "  </thead>\n",
       "  <tbody>\n",
       "    <tr>\n",
       "      <th>A</th>\n",
       "      <td>0.029612</td>\n",
       "      <td>418551</td>\n",
       "    </tr>\n",
       "    <tr>\n",
       "      <th>B</th>\n",
       "      <td>0.038051</td>\n",
       "      <td>617333</td>\n",
       "    </tr>\n",
       "  </tbody>\n",
       "</table>\n",
       "</div>"
      ],
      "text/plain": [
       "                     flag_mgm        \n",
       "                         mean   count\n",
       "seg_tempo_aprovacao                  \n",
       "A                    0.029612  418551\n",
       "B                    0.038051  617333"
      ]
     },
     "execution_count": 38,
     "metadata": {},
     "output_type": "execute_result"
    }
   ],
   "source": [
    "df['seg_tempo_aprovacao'] = np.where(df.tempo_aprovacao <=  df.tempo_aprovacao.quantile(0.25), 'A', 'B')\n",
    "\n",
    "df[['seg_tempo_aprovacao', 'flag_mgm']].groupby('seg_tempo_aprovacao').agg({'flag_mgm':['mean', 'count']})"
   ]
  },
  {
   "cell_type": "code",
   "execution_count": 39,
   "metadata": {},
   "outputs": [],
   "source": [
    "df['seg_autonomo'] = np.where(df.flag_autonomo == 0, 'A', 'B')\n",
    "df['seg_atraso'] = np.where(df.dias_atraso == 0, 'A', 'B')"
   ]
  },
  {
   "cell_type": "code",
   "execution_count": 40,
   "metadata": {},
   "outputs": [
    {
     "data": {
      "text/html": [
       "<div>\n",
       "<style scoped>\n",
       "    .dataframe tbody tr th:only-of-type {\n",
       "        vertical-align: middle;\n",
       "    }\n",
       "\n",
       "    .dataframe tbody tr th {\n",
       "        vertical-align: top;\n",
       "    }\n",
       "\n",
       "    .dataframe thead tr th {\n",
       "        text-align: left;\n",
       "    }\n",
       "\n",
       "    .dataframe thead tr:last-of-type th {\n",
       "        text-align: right;\n",
       "    }\n",
       "</style>\n",
       "<table border=\"1\" class=\"dataframe\">\n",
       "  <thead>\n",
       "    <tr>\n",
       "      <th></th>\n",
       "      <th colspan=\"2\" halign=\"left\">flag_mgm</th>\n",
       "    </tr>\n",
       "    <tr>\n",
       "      <th></th>\n",
       "      <th>mean</th>\n",
       "      <th>count</th>\n",
       "    </tr>\n",
       "    <tr>\n",
       "      <th>seg_autonomo</th>\n",
       "      <th></th>\n",
       "      <th></th>\n",
       "    </tr>\n",
       "  </thead>\n",
       "  <tbody>\n",
       "    <tr>\n",
       "      <th>A</th>\n",
       "      <td>0.032094</td>\n",
       "      <td>764128</td>\n",
       "    </tr>\n",
       "    <tr>\n",
       "      <th>B</th>\n",
       "      <td>0.041802</td>\n",
       "      <td>271756</td>\n",
       "    </tr>\n",
       "  </tbody>\n",
       "</table>\n",
       "</div>"
      ],
      "text/plain": [
       "              flag_mgm        \n",
       "                  mean   count\n",
       "seg_autonomo                  \n",
       "A             0.032094  764128\n",
       "B             0.041802  271756"
      ]
     },
     "execution_count": 40,
     "metadata": {},
     "output_type": "execute_result"
    }
   ],
   "source": [
    "df[['seg_autonomo', 'flag_mgm']].groupby('seg_autonomo').agg({'flag_mgm':['mean', 'count']})"
   ]
  },
  {
   "cell_type": "code",
   "execution_count": 41,
   "metadata": {},
   "outputs": [
    {
     "data": {
      "text/html": [
       "<div>\n",
       "<style scoped>\n",
       "    .dataframe tbody tr th:only-of-type {\n",
       "        vertical-align: middle;\n",
       "    }\n",
       "\n",
       "    .dataframe tbody tr th {\n",
       "        vertical-align: top;\n",
       "    }\n",
       "\n",
       "    .dataframe thead tr th {\n",
       "        text-align: left;\n",
       "    }\n",
       "\n",
       "    .dataframe thead tr:last-of-type th {\n",
       "        text-align: right;\n",
       "    }\n",
       "</style>\n",
       "<table border=\"1\" class=\"dataframe\">\n",
       "  <thead>\n",
       "    <tr>\n",
       "      <th></th>\n",
       "      <th colspan=\"2\" halign=\"left\">flag_mgm</th>\n",
       "    </tr>\n",
       "    <tr>\n",
       "      <th></th>\n",
       "      <th>mean</th>\n",
       "      <th>count</th>\n",
       "    </tr>\n",
       "    <tr>\n",
       "      <th>seg_atraso</th>\n",
       "      <th></th>\n",
       "      <th></th>\n",
       "    </tr>\n",
       "  </thead>\n",
       "  <tbody>\n",
       "    <tr>\n",
       "      <th>A</th>\n",
       "      <td>0.035147</td>\n",
       "      <td>983286</td>\n",
       "    </tr>\n",
       "    <tr>\n",
       "      <th>B</th>\n",
       "      <td>0.025172</td>\n",
       "      <td>52598</td>\n",
       "    </tr>\n",
       "  </tbody>\n",
       "</table>\n",
       "</div>"
      ],
      "text/plain": [
       "            flag_mgm        \n",
       "                mean   count\n",
       "seg_atraso                  \n",
       "A           0.035147  983286\n",
       "B           0.025172   52598"
      ]
     },
     "execution_count": 41,
     "metadata": {},
     "output_type": "execute_result"
    }
   ],
   "source": [
    "df[['seg_atraso', 'flag_mgm']].groupby('seg_atraso').agg({'flag_mgm':['mean', 'count']})"
   ]
  },
  {
   "cell_type": "code",
   "execution_count": 44,
   "metadata": {},
   "outputs": [],
   "source": [
    "df['segmento_v1'] = df.seg_ganho_limite.astype(\"string\") + df.seg_relacionamento.astype(\"string\")"
   ]
  },
  {
   "cell_type": "code",
   "execution_count": 45,
   "metadata": {},
   "outputs": [
    {
     "data": {
      "text/html": [
       "<div>\n",
       "<style scoped>\n",
       "    .dataframe tbody tr th:only-of-type {\n",
       "        vertical-align: middle;\n",
       "    }\n",
       "\n",
       "    .dataframe tbody tr th {\n",
       "        vertical-align: top;\n",
       "    }\n",
       "\n",
       "    .dataframe thead tr th {\n",
       "        text-align: left;\n",
       "    }\n",
       "\n",
       "    .dataframe thead tr:last-of-type th {\n",
       "        text-align: right;\n",
       "    }\n",
       "</style>\n",
       "<table border=\"1\" class=\"dataframe\">\n",
       "  <thead>\n",
       "    <tr>\n",
       "      <th></th>\n",
       "      <th colspan=\"2\" halign=\"left\">flag_mgm</th>\n",
       "    </tr>\n",
       "    <tr>\n",
       "      <th></th>\n",
       "      <th>mean</th>\n",
       "      <th>count</th>\n",
       "    </tr>\n",
       "    <tr>\n",
       "      <th>segmento_v1</th>\n",
       "      <th></th>\n",
       "      <th></th>\n",
       "    </tr>\n",
       "  </thead>\n",
       "  <tbody>\n",
       "    <tr>\n",
       "      <th>AA</th>\n",
       "      <td>0.000017</td>\n",
       "      <td>233386</td>\n",
       "    </tr>\n",
       "    <tr>\n",
       "      <th>AB</th>\n",
       "      <td>0.052730</td>\n",
       "      <td>148341</td>\n",
       "    </tr>\n",
       "    <tr>\n",
       "      <th>AC</th>\n",
       "      <td>0.004615</td>\n",
       "      <td>146914</td>\n",
       "    </tr>\n",
       "    <tr>\n",
       "      <th>BA</th>\n",
       "      <td>0.000000</td>\n",
       "      <td>23325</td>\n",
       "    </tr>\n",
       "    <tr>\n",
       "      <th>BB</th>\n",
       "      <td>0.095921</td>\n",
       "      <td>201718</td>\n",
       "    </tr>\n",
       "    <tr>\n",
       "      <th>BC</th>\n",
       "      <td>0.003814</td>\n",
       "      <td>24383</td>\n",
       "    </tr>\n",
       "    <tr>\n",
       "      <th>CA</th>\n",
       "      <td>0.000000</td>\n",
       "      <td>2882</td>\n",
       "    </tr>\n",
       "    <tr>\n",
       "      <th>CB</th>\n",
       "      <td>0.041623</td>\n",
       "      <td>168706</td>\n",
       "    </tr>\n",
       "    <tr>\n",
       "      <th>CC</th>\n",
       "      <td>0.010623</td>\n",
       "      <td>86229</td>\n",
       "    </tr>\n",
       "  </tbody>\n",
       "</table>\n",
       "</div>"
      ],
      "text/plain": [
       "             flag_mgm        \n",
       "                 mean   count\n",
       "segmento_v1                  \n",
       "AA           0.000017  233386\n",
       "AB           0.052730  148341\n",
       "AC           0.004615  146914\n",
       "BA           0.000000   23325\n",
       "BB           0.095921  201718\n",
       "BC           0.003814   24383\n",
       "CA           0.000000    2882\n",
       "CB           0.041623  168706\n",
       "CC           0.010623   86229"
      ]
     },
     "execution_count": 45,
     "metadata": {},
     "output_type": "execute_result"
    }
   ],
   "source": [
    "df[['segmento_v1', 'flag_mgm']].groupby('segmento_v1').agg({'flag_mgm':['mean', 'count']})"
   ]
  },
  {
   "cell_type": "code",
   "execution_count": 46,
   "metadata": {},
   "outputs": [],
   "source": [
    "df['segmento_v2'] = df.segmento_v1.astype(\"string\") + df.seg_mov_conta.astype(\"string\")"
   ]
  },
  {
   "cell_type": "code",
   "execution_count": 47,
   "metadata": {},
   "outputs": [
    {
     "data": {
      "text/html": [
       "<div>\n",
       "<style scoped>\n",
       "    .dataframe tbody tr th:only-of-type {\n",
       "        vertical-align: middle;\n",
       "    }\n",
       "\n",
       "    .dataframe tbody tr th {\n",
       "        vertical-align: top;\n",
       "    }\n",
       "\n",
       "    .dataframe thead tr th {\n",
       "        text-align: left;\n",
       "    }\n",
       "\n",
       "    .dataframe thead tr:last-of-type th {\n",
       "        text-align: right;\n",
       "    }\n",
       "</style>\n",
       "<table border=\"1\" class=\"dataframe\">\n",
       "  <thead>\n",
       "    <tr>\n",
       "      <th></th>\n",
       "      <th colspan=\"2\" halign=\"left\">flag_mgm</th>\n",
       "    </tr>\n",
       "    <tr>\n",
       "      <th></th>\n",
       "      <th>mean</th>\n",
       "      <th>count</th>\n",
       "    </tr>\n",
       "    <tr>\n",
       "      <th>segmento_v2</th>\n",
       "      <th></th>\n",
       "      <th></th>\n",
       "    </tr>\n",
       "  </thead>\n",
       "  <tbody>\n",
       "    <tr>\n",
       "      <th>AAA</th>\n",
       "      <td>0.000020</td>\n",
       "      <td>204900</td>\n",
       "    </tr>\n",
       "    <tr>\n",
       "      <th>AAB</th>\n",
       "      <td>0.000000</td>\n",
       "      <td>28486</td>\n",
       "    </tr>\n",
       "    <tr>\n",
       "      <th>ABA</th>\n",
       "      <td>0.038194</td>\n",
       "      <td>113446</td>\n",
       "    </tr>\n",
       "    <tr>\n",
       "      <th>ABB</th>\n",
       "      <td>0.099986</td>\n",
       "      <td>34895</td>\n",
       "    </tr>\n",
       "    <tr>\n",
       "      <th>ACA</th>\n",
       "      <td>0.003696</td>\n",
       "      <td>127150</td>\n",
       "    </tr>\n",
       "    <tr>\n",
       "      <th>ACB</th>\n",
       "      <td>0.010524</td>\n",
       "      <td>19764</td>\n",
       "    </tr>\n",
       "    <tr>\n",
       "      <th>BAA</th>\n",
       "      <td>0.000000</td>\n",
       "      <td>16302</td>\n",
       "    </tr>\n",
       "    <tr>\n",
       "      <th>BAB</th>\n",
       "      <td>0.000000</td>\n",
       "      <td>7023</td>\n",
       "    </tr>\n",
       "    <tr>\n",
       "      <th>BBA</th>\n",
       "      <td>0.077881</td>\n",
       "      <td>125037</td>\n",
       "    </tr>\n",
       "    <tr>\n",
       "      <th>BBB</th>\n",
       "      <td>0.125337</td>\n",
       "      <td>76681</td>\n",
       "    </tr>\n",
       "    <tr>\n",
       "      <th>BCA</th>\n",
       "      <td>0.002726</td>\n",
       "      <td>19807</td>\n",
       "    </tr>\n",
       "    <tr>\n",
       "      <th>BCB</th>\n",
       "      <td>0.008523</td>\n",
       "      <td>4576</td>\n",
       "    </tr>\n",
       "    <tr>\n",
       "      <th>CAA</th>\n",
       "      <td>0.000000</td>\n",
       "      <td>2181</td>\n",
       "    </tr>\n",
       "    <tr>\n",
       "      <th>CAB</th>\n",
       "      <td>0.000000</td>\n",
       "      <td>701</td>\n",
       "    </tr>\n",
       "    <tr>\n",
       "      <th>CBA</th>\n",
       "      <td>0.035810</td>\n",
       "      <td>113208</td>\n",
       "    </tr>\n",
       "    <tr>\n",
       "      <th>CBB</th>\n",
       "      <td>0.053479</td>\n",
       "      <td>55498</td>\n",
       "    </tr>\n",
       "    <tr>\n",
       "      <th>CCA</th>\n",
       "      <td>0.007733</td>\n",
       "      <td>62977</td>\n",
       "    </tr>\n",
       "    <tr>\n",
       "      <th>CCB</th>\n",
       "      <td>0.018450</td>\n",
       "      <td>23252</td>\n",
       "    </tr>\n",
       "  </tbody>\n",
       "</table>\n",
       "</div>"
      ],
      "text/plain": [
       "             flag_mgm        \n",
       "                 mean   count\n",
       "segmento_v2                  \n",
       "AAA          0.000020  204900\n",
       "AAB          0.000000   28486\n",
       "ABA          0.038194  113446\n",
       "ABB          0.099986   34895\n",
       "ACA          0.003696  127150\n",
       "ACB          0.010524   19764\n",
       "BAA          0.000000   16302\n",
       "BAB          0.000000    7023\n",
       "BBA          0.077881  125037\n",
       "BBB          0.125337   76681\n",
       "BCA          0.002726   19807\n",
       "BCB          0.008523    4576\n",
       "CAA          0.000000    2181\n",
       "CAB          0.000000     701\n",
       "CBA          0.035810  113208\n",
       "CBB          0.053479   55498\n",
       "CCA          0.007733   62977\n",
       "CCB          0.018450   23252"
      ]
     },
     "execution_count": 47,
     "metadata": {},
     "output_type": "execute_result"
    }
   ],
   "source": [
    "df[['segmento_v2', 'flag_mgm']].groupby('segmento_v2').agg({'flag_mgm':['mean', 'count']})"
   ]
  },
  {
   "cell_type": "code",
   "execution_count": 51,
   "metadata": {},
   "outputs": [
    {
     "data": {
      "text/html": [
       "<div>\n",
       "<style scoped>\n",
       "    .dataframe tbody tr th:only-of-type {\n",
       "        vertical-align: middle;\n",
       "    }\n",
       "\n",
       "    .dataframe tbody tr th {\n",
       "        vertical-align: top;\n",
       "    }\n",
       "\n",
       "    .dataframe thead tr th {\n",
       "        text-align: left;\n",
       "    }\n",
       "\n",
       "    .dataframe thead tr:last-of-type th {\n",
       "        text-align: right;\n",
       "    }\n",
       "</style>\n",
       "<table border=\"1\" class=\"dataframe\">\n",
       "  <thead>\n",
       "    <tr>\n",
       "      <th></th>\n",
       "      <th colspan=\"2\" halign=\"left\">flag_mgm</th>\n",
       "    </tr>\n",
       "    <tr>\n",
       "      <th></th>\n",
       "      <th>mean</th>\n",
       "      <th>count</th>\n",
       "    </tr>\n",
       "    <tr>\n",
       "      <th>segmento_v3</th>\n",
       "      <th></th>\n",
       "      <th></th>\n",
       "    </tr>\n",
       "  </thead>\n",
       "  <tbody>\n",
       "    <tr>\n",
       "      <th>AAA</th>\n",
       "      <td>0.000018</td>\n",
       "      <td>112854</td>\n",
       "    </tr>\n",
       "    <tr>\n",
       "      <th>AAB</th>\n",
       "      <td>0.000000</td>\n",
       "      <td>4176</td>\n",
       "    </tr>\n",
       "    <tr>\n",
       "      <th>ABA</th>\n",
       "      <td>0.000018</td>\n",
       "      <td>110529</td>\n",
       "    </tr>\n",
       "    <tr>\n",
       "      <th>ABB</th>\n",
       "      <td>0.000000</td>\n",
       "      <td>32034</td>\n",
       "    </tr>\n",
       "    <tr>\n",
       "      <th>BAA</th>\n",
       "      <td>0.012844</td>\n",
       "      <td>66722</td>\n",
       "    </tr>\n",
       "    <tr>\n",
       "      <th>BAB</th>\n",
       "      <td>0.049711</td>\n",
       "      <td>4325</td>\n",
       "    </tr>\n",
       "    <tr>\n",
       "      <th>BBA</th>\n",
       "      <td>0.060596</td>\n",
       "      <td>284969</td>\n",
       "    </tr>\n",
       "    <tr>\n",
       "      <th>BBB</th>\n",
       "      <td>0.097408</td>\n",
       "      <td>162749</td>\n",
       "    </tr>\n",
       "    <tr>\n",
       "      <th>CAA</th>\n",
       "      <td>0.001130</td>\n",
       "      <td>69917</td>\n",
       "    </tr>\n",
       "    <tr>\n",
       "      <th>CAB</th>\n",
       "      <td>0.025589</td>\n",
       "      <td>977</td>\n",
       "    </tr>\n",
       "    <tr>\n",
       "      <th>CBA</th>\n",
       "      <td>0.006656</td>\n",
       "      <td>140017</td>\n",
       "    </tr>\n",
       "    <tr>\n",
       "      <th>CBB</th>\n",
       "      <td>0.013965</td>\n",
       "      <td>46615</td>\n",
       "    </tr>\n",
       "  </tbody>\n",
       "</table>\n",
       "</div>"
      ],
      "text/plain": [
       "             flag_mgm        \n",
       "                 mean   count\n",
       "segmento_v3                  \n",
       "AAA          0.000018  112854\n",
       "AAB          0.000000    4176\n",
       "ABA          0.000018  110529\n",
       "ABB          0.000000   32034\n",
       "BAA          0.012844   66722\n",
       "BAB          0.049711    4325\n",
       "BBA          0.060596  284969\n",
       "BBB          0.097408  162749\n",
       "CAA          0.001130   69917\n",
       "CAB          0.025589     977\n",
       "CBA          0.006656  140017\n",
       "CBB          0.013965   46615"
      ]
     },
     "execution_count": 51,
     "metadata": {},
     "output_type": "execute_result"
    }
   ],
   "source": [
    "df['segmento_v3'] = df.seg_relacionamento.astype(\"string\") + df.seg_share_of_wallet.astype(\"string\") + df.seg_mov_conta.astype(\"string\")\n",
    "df[['segmento_v3', 'flag_mgm']].groupby('segmento_v3').agg({'flag_mgm':['mean', 'count']})"
   ]
  },
  {
   "cell_type": "markdown",
   "metadata": {},
   "source": [
    "Descartar a versão 3 - não funcionou combinando relacioniamento + share of wallet OU Spending OU Movimentação de conta"
   ]
  },
  {
   "cell_type": "markdown",
   "metadata": {},
   "source": [
    "Próximos passos:\n",
    "\n",
    "- Unificar a v2 para uma versão final - abrindo só quando houver diferença na taxa de mgm\n",
    "- Identificar grupos grandes, filtrar e abrir pelas outras variáveis (dividir para conquistar)"
   ]
  },
  {
   "cell_type": "code",
   "execution_count": 56,
   "metadata": {},
   "outputs": [
    {
     "data": {
      "text/html": [
       "<div>\n",
       "<style scoped>\n",
       "    .dataframe tbody tr th:only-of-type {\n",
       "        vertical-align: middle;\n",
       "    }\n",
       "\n",
       "    .dataframe tbody tr th {\n",
       "        vertical-align: top;\n",
       "    }\n",
       "\n",
       "    .dataframe thead tr th {\n",
       "        text-align: left;\n",
       "    }\n",
       "\n",
       "    .dataframe thead tr:last-of-type th {\n",
       "        text-align: right;\n",
       "    }\n",
       "</style>\n",
       "<table border=\"1\" class=\"dataframe\">\n",
       "  <thead>\n",
       "    <tr>\n",
       "      <th></th>\n",
       "      <th colspan=\"2\" halign=\"left\">flag_mgm</th>\n",
       "    </tr>\n",
       "    <tr>\n",
       "      <th></th>\n",
       "      <th>mean</th>\n",
       "      <th>count</th>\n",
       "    </tr>\n",
       "    <tr>\n",
       "      <th>segmento_v4</th>\n",
       "      <th></th>\n",
       "      <th></th>\n",
       "    </tr>\n",
       "  </thead>\n",
       "  <tbody>\n",
       "    <tr>\n",
       "      <th>0. Alto Tempo de Relac - Aumento limite mediano - Alto Movimento Conta</th>\n",
       "      <td>0.008523</td>\n",
       "      <td>4576</td>\n",
       "    </tr>\n",
       "    <tr>\n",
       "      <th>0. Alto Tempo de Relac - Pouco Movimento Conta</th>\n",
       "      <td>0.004816</td>\n",
       "      <td>209934</td>\n",
       "    </tr>\n",
       "    <tr>\n",
       "      <th>0. Pouco tempo de relacionamento</th>\n",
       "      <td>0.000015</td>\n",
       "      <td>259593</td>\n",
       "    </tr>\n",
       "    <tr>\n",
       "      <th>1. Alto Tempo de Relac - Alto aumento de limite - Alto Movimento Conta</th>\n",
       "      <td>0.018450</td>\n",
       "      <td>23252</td>\n",
       "    </tr>\n",
       "    <tr>\n",
       "      <th>1. Alto Tempo de Relac - Pouco aumento limite - Alto Movimento Conta</th>\n",
       "      <td>0.010524</td>\n",
       "      <td>19764</td>\n",
       "    </tr>\n",
       "    <tr>\n",
       "      <th>2. Tempo de Relac Mediano - Aumento limite mediano - Baixo Movimento Conta</th>\n",
       "      <td>0.035810</td>\n",
       "      <td>113208</td>\n",
       "    </tr>\n",
       "    <tr>\n",
       "      <th>2. Tempo de Relac Mediano - Pouco aumento limite - Pouco Movimento Conta</th>\n",
       "      <td>0.038194</td>\n",
       "      <td>113446</td>\n",
       "    </tr>\n",
       "    <tr>\n",
       "      <th>3. Tempo de Relac Mediano - Alto aumento limite - Alto Movimento Conta</th>\n",
       "      <td>0.053479</td>\n",
       "      <td>55498</td>\n",
       "    </tr>\n",
       "    <tr>\n",
       "      <th>3. Tempo de Relac Mediano - Aumento limite mediano - Pouco Movimento Conta</th>\n",
       "      <td>0.077881</td>\n",
       "      <td>125037</td>\n",
       "    </tr>\n",
       "    <tr>\n",
       "      <th>4. Tempo de Relac Mediano - Pouco aumento limite - Alto Movimento Conta</th>\n",
       "      <td>0.099986</td>\n",
       "      <td>34895</td>\n",
       "    </tr>\n",
       "    <tr>\n",
       "      <th>5. Tempo de Relac Mediano - Aumento limite mediano - Alto Movimento Conta</th>\n",
       "      <td>0.125337</td>\n",
       "      <td>76681</td>\n",
       "    </tr>\n",
       "  </tbody>\n",
       "</table>\n",
       "</div>"
      ],
      "text/plain": [
       "                                                    flag_mgm        \n",
       "                                                        mean   count\n",
       "segmento_v4                                                         \n",
       "0. Alto Tempo de Relac - Aumento limite mediano...  0.008523    4576\n",
       "0. Alto Tempo de Relac - Pouco Movimento Conta      0.004816  209934\n",
       "0. Pouco tempo de relacionamento                    0.000015  259593\n",
       "1. Alto Tempo de Relac - Alto aumento de limite...  0.018450   23252\n",
       "1. Alto Tempo de Relac - Pouco aumento limite -...  0.010524   19764\n",
       "2. Tempo de Relac Mediano - Aumento limite medi...  0.035810  113208\n",
       "2. Tempo de Relac Mediano - Pouco aumento limit...  0.038194  113446\n",
       "3. Tempo de Relac Mediano - Alto aumento limite...  0.053479   55498\n",
       "3. Tempo de Relac Mediano - Aumento limite medi...  0.077881  125037\n",
       "4. Tempo de Relac Mediano - Pouco aumento limit...  0.099986   34895\n",
       "5. Tempo de Relac Mediano - Aumento limite medi...  0.125337   76681"
      ]
     },
     "execution_count": 56,
     "metadata": {},
     "output_type": "execute_result"
    }
   ],
   "source": [
    "df['segmento_v4'] = np.where(df.seg_relacionamento == \"A\", \"0. Pouco tempo de relacionamento\",\n",
    "np.where(df.seg_relacionamento.astype(\"string\") + df.seg_mov_conta.astype(\"string\") == \"CA\", \"0. Alto Tempo de Relac - Pouco Movimento Conta\",\n",
    "np.where(df.segmento_v2 == \"ABA\", \"2. Tempo de Relac Mediano - Pouco aumento limite - Pouco Movimento Conta\",\n",
    "np.where(df.segmento_v2 == \"ABB\", \"4. Tempo de Relac Mediano - Pouco aumento limite - Alto Movimento Conta\",\n",
    "np.where(df.segmento_v2 == \"BBB\", \"5. Tempo de Relac Mediano - Aumento limite mediano - Alto Movimento Conta\",\n",
    "np.where(df.segmento_v2 == \"ACB\", \"1. Alto Tempo de Relac - Pouco aumento limite - Alto Movimento Conta\",\n",
    "np.where(df.segmento_v2 == \"CCB\", \"1. Alto Tempo de Relac - Alto aumento de limite - Alto Movimento Conta\",\n",
    "np.where(df.segmento_v2 == \"BCB\", \"0. Alto Tempo de Relac - Aumento limite mediano - Alto Movimento Conta\",\n",
    "np.where(df.segmento_v2 == \"BBA\", \"3. Tempo de Relac Mediano - Aumento limite mediano - Pouco Movimento Conta\",\n",
    "np.where(df.segmento_v2 == \"CBA\", \"2. Tempo de Relac Mediano - Aumento limite mediano - Baixo Movimento Conta\",\n",
    "np.where(df.segmento_v2 == \"CBB\", \"3. Tempo de Relac Mediano - Alto aumento limite - Alto Movimento Conta\", \"NI\")))))))))))\n",
    "\n",
    "df[['segmento_v4', 'flag_mgm']].groupby('segmento_v4').agg({'flag_mgm':['mean', 'count']})"
   ]
  },
  {
   "cell_type": "markdown",
   "metadata": {},
   "source": [
    "- A indicação aumenta as chances de aumento de limite? Isso é comunicado?"
   ]
  },
  {
   "cell_type": "code",
   "execution_count": 57,
   "metadata": {},
   "outputs": [
    {
     "data": {
      "text/plain": [
       "Series([], Name: segmento_v2, dtype: Int64)"
      ]
     },
     "execution_count": 57,
     "metadata": {},
     "output_type": "execute_result"
    }
   ],
   "source": [
    "df.query('segmento_v4 == \"NI\"')['segmento_v2'].value_counts()"
   ]
  },
  {
   "cell_type": "markdown",
   "metadata": {},
   "source": [
    "Abrir:\n",
    "\n",
    "- 0. Pouco tempo de relacionamento\n",
    "- 0. Alto Tempo de Relac - Pouco Movimento Conta\n",
    "- 2. Tempo de Relac Mediano - Pouco aumento limite - Pouco Movimento Conta"
   ]
  },
  {
   "cell_type": "code",
   "execution_count": 58,
   "metadata": {},
   "outputs": [
    {
     "data": {
      "text/plain": [
       "<Figure size 720x360 with 0 Axes>"
      ]
     },
     "metadata": {},
     "output_type": "display_data"
    },
    {
     "data": {
      "image/png": "[encoded data removed]",
      "text/plain": [
       "<Figure size 417.625x360 with 1 Axes>"
      ]
     },
     "metadata": {
      "needs_background": "light"
     },
     "output_type": "display_data"
    },
    {
     "data": {
      "text/plain": [
       "<Figure size 720x360 with 0 Axes>"
      ]
     },
     "metadata": {},
     "output_type": "display_data"
    },
    {
     "data": {
      "image/png": "[encoded data removed]",
      "text/plain": [
       "<Figure size 417.625x360 with 1 Axes>"
      ]
     },
     "metadata": {
      "needs_background": "light"
     },
     "output_type": "display_data"
    },
    {
     "data": {
      "text/plain": [
       "<Figure size 720x360 with 0 Axes>"
      ]
     },
     "metadata": {},
     "output_type": "display_data"
    },
    {
     "data": {
      "image/png": "[encoded data removed]",
      "text/plain": [
       "<Figure size 417.625x360 with 1 Axes>"
      ]
     },
     "metadata": {
      "needs_background": "light"
     },
     "output_type": "display_data"
    },
    {
     "data": {
      "text/plain": [
       "<Figure size 720x360 with 0 Axes>"
      ]
     },
     "metadata": {},
     "output_type": "display_data"
    },
    {
     "data": {
      "image/png": "[encoded data removed]",
      "text/plain": [
       "<Figure size 417.625x360 with 1 Axes>"
      ]
     },
     "metadata": {
      "needs_background": "light"
     },
     "output_type": "display_data"
    },
    {
     "data": {
      "text/plain": [
       "<Figure size 720x360 with 0 Axes>"
      ]
     },
     "metadata": {},
     "output_type": "display_data"
    },
    {
     "data": {
      "image/png": "[encoded data removed]",
      "text/plain": [
       "<Figure size 417.625x360 with 1 Axes>"
      ]
     },
     "metadata": {
      "needs_background": "light"
     },
     "output_type": "display_data"
    },
    {
     "data": {
      "text/plain": [
       "<Figure size 720x360 with 0 Axes>"
      ]
     },
     "metadata": {},
     "output_type": "display_data"
    },
    {
     "data": {
      "image/png": "[encoded data removed]",
      "text/plain": [
       "<Figure size 417.625x360 with 1 Axes>"
      ]
     },
     "metadata": {
      "needs_background": "light"
     },
     "output_type": "display_data"
    },
    {
     "data": {
      "text/plain": [
       "<Figure size 720x360 with 0 Axes>"
      ]
     },
     "metadata": {},
     "output_type": "display_data"
    },
    {
     "data": {
      "image/png": "[encoded data removed]",
      "text/plain": [
       "<Figure size 417.625x360 with 1 Axes>"
      ]
     },
     "metadata": {
      "needs_background": "light"
     },
     "output_type": "display_data"
    }
   ],
   "source": [
    "cols_analise = ['tempo_aprovacao_fx', 'flag_autonomo_fx', 'dias_atraso_fx', \n",
    "                'avg_vl_total_spending_fx', 'nr_declared_income_fx', 'share_of_wallet_fx', 'nr_purchases_online_fx']\n",
    "\n",
    "\n",
    "df_temp = df.query('segmento_v4 == \"0. Pouco tempo de relacionamento\"')\n",
    "\n",
    "for column in cols_analise:\n",
    "        plt.figure(figsize = (10,5))\n",
    "        sns.catplot(x=column, hue='flag_mgm', data=df_temp, kind=\"count\")\n",
    "        plt.xticks(rotation=90)\n",
    "        plt.show()"
   ]
  },
  {
   "cell_type": "code",
   "execution_count": 61,
   "metadata": {},
   "outputs": [
    {
     "data": {
      "text/html": [
       "<div>\n",
       "<style scoped>\n",
       "    .dataframe tbody tr th:only-of-type {\n",
       "        vertical-align: middle;\n",
       "    }\n",
       "\n",
       "    .dataframe tbody tr th {\n",
       "        vertical-align: top;\n",
       "    }\n",
       "\n",
       "    .dataframe thead tr th {\n",
       "        text-align: left;\n",
       "    }\n",
       "\n",
       "    .dataframe thead tr:last-of-type th {\n",
       "        text-align: right;\n",
       "    }\n",
       "</style>\n",
       "<table border=\"1\" class=\"dataframe\">\n",
       "  <thead>\n",
       "    <tr>\n",
       "      <th></th>\n",
       "      <th colspan=\"2\" halign=\"left\">flag_mgm</th>\n",
       "    </tr>\n",
       "    <tr>\n",
       "      <th></th>\n",
       "      <th>mean</th>\n",
       "      <th>count</th>\n",
       "    </tr>\n",
       "    <tr>\n",
       "      <th>seg_spending</th>\n",
       "      <th></th>\n",
       "      <th></th>\n",
       "    </tr>\n",
       "  </thead>\n",
       "  <tbody>\n",
       "    <tr>\n",
       "      <th>A</th>\n",
       "      <td>0.001554</td>\n",
       "      <td>124848</td>\n",
       "    </tr>\n",
       "    <tr>\n",
       "      <th>B</th>\n",
       "      <td>0.009602</td>\n",
       "      <td>85086</td>\n",
       "    </tr>\n",
       "  </tbody>\n",
       "</table>\n",
       "</div>"
      ],
      "text/plain": [
       "              flag_mgm        \n",
       "                  mean   count\n",
       "seg_spending                  \n",
       "A             0.001554  124848\n",
       "B             0.009602   85086"
      ]
     },
     "execution_count": 61,
     "metadata": {},
     "output_type": "execute_result"
    }
   ],
   "source": [
    "df.query('segmento_v4 == \"0. Alto Tempo de Relac - Pouco Movimento Conta\"')[['flag_mgm', 'seg_spending']] \\\n",
    ".groupby('seg_spending').agg({'flag_mgm':['mean', 'count']})"
   ]
  },
  {
   "cell_type": "code",
   "execution_count": 62,
   "metadata": {},
   "outputs": [
    {
     "data": {
      "text/html": [
       "<div>\n",
       "<style scoped>\n",
       "    .dataframe tbody tr th:only-of-type {\n",
       "        vertical-align: middle;\n",
       "    }\n",
       "\n",
       "    .dataframe tbody tr th {\n",
       "        vertical-align: top;\n",
       "    }\n",
       "\n",
       "    .dataframe thead tr th {\n",
       "        text-align: left;\n",
       "    }\n",
       "\n",
       "    .dataframe thead tr:last-of-type th {\n",
       "        text-align: right;\n",
       "    }\n",
       "</style>\n",
       "<table border=\"1\" class=\"dataframe\">\n",
       "  <thead>\n",
       "    <tr>\n",
       "      <th></th>\n",
       "      <th colspan=\"2\" halign=\"left\">flag_mgm</th>\n",
       "    </tr>\n",
       "    <tr>\n",
       "      <th></th>\n",
       "      <th>mean</th>\n",
       "      <th>count</th>\n",
       "    </tr>\n",
       "    <tr>\n",
       "      <th>seg_share_of_wallet</th>\n",
       "      <th></th>\n",
       "      <th></th>\n",
       "    </tr>\n",
       "  </thead>\n",
       "  <tbody>\n",
       "    <tr>\n",
       "      <th>A</th>\n",
       "      <td>0.001130</td>\n",
       "      <td>69917</td>\n",
       "    </tr>\n",
       "    <tr>\n",
       "      <th>B</th>\n",
       "      <td>0.006656</td>\n",
       "      <td>140017</td>\n",
       "    </tr>\n",
       "  </tbody>\n",
       "</table>\n",
       "</div>"
      ],
      "text/plain": [
       "                     flag_mgm        \n",
       "                         mean   count\n",
       "seg_share_of_wallet                  \n",
       "A                    0.001130   69917\n",
       "B                    0.006656  140017"
      ]
     },
     "execution_count": 62,
     "metadata": {},
     "output_type": "execute_result"
    }
   ],
   "source": [
    "df.query('segmento_v4 == \"0. Alto Tempo de Relac - Pouco Movimento Conta\"')[['flag_mgm', 'seg_share_of_wallet']] \\\n",
    ".groupby('seg_share_of_wallet').agg({'flag_mgm':['mean', 'count']})"
   ]
  },
  {
   "cell_type": "code",
   "execution_count": 59,
   "metadata": {},
   "outputs": [
    {
     "data": {
      "text/plain": [
       "<Figure size 720x360 with 0 Axes>"
      ]
     },
     "metadata": {},
     "output_type": "display_data"
    },
    {
     "data": {
      "image/png": "[encoded data removed]",
      "text/plain": [
       "<Figure size 417.625x360 with 1 Axes>"
      ]
     },
     "metadata": {
      "needs_background": "light"
     },
     "output_type": "display_data"
    },
    {
     "data": {
      "text/plain": [
       "<Figure size 720x360 with 0 Axes>"
      ]
     },
     "metadata": {},
     "output_type": "display_data"
    },
    {
     "data": {
      "image/png": "[encoded data removed]",
      "text/plain": [
       "<Figure size 417.625x360 with 1 Axes>"
      ]
     },
     "metadata": {
      "needs_background": "light"
     },
     "output_type": "display_data"
    },
    {
     "data": {
      "text/plain": [
       "<Figure size 720x360 with 0 Axes>"
      ]
     },
     "metadata": {},
     "output_type": "display_data"
    },
    {
     "data": {
      "image/png": "[encoded data removed]",
      "text/plain": [
       "<Figure size 417.625x360 with 1 Axes>"
      ]
     },
     "metadata": {
      "needs_background": "light"
     },
     "output_type": "display_data"
    },
    {
     "data": {
      "text/plain": [
       "<Figure size 720x360 with 0 Axes>"
      ]
     },
     "metadata": {},
     "output_type": "display_data"
    },
    {
     "data": {
      "image/png": "[encoded data removed]",
      "text/plain": [
       "<Figure size 417.625x360 with 1 Axes>"
      ]
     },
     "metadata": {
      "needs_background": "light"
     },
     "output_type": "display_data"
    },
    {
     "data": {
      "text/plain": [
       "<Figure size 720x360 with 0 Axes>"
      ]
     },
     "metadata": {},
     "output_type": "display_data"
    },
    {
     "data": {
      "image/png": "[encoded data removed]",
      "text/plain": [
       "<Figure size 417.625x360 with 1 Axes>"
      ]
     },
     "metadata": {
      "needs_background": "light"
     },
     "output_type": "display_data"
    },
    {
     "data": {
      "text/plain": [
       "<Figure size 720x360 with 0 Axes>"
      ]
     },
     "metadata": {},
     "output_type": "display_data"
    },
    {
     "data": {
      "image/png": "[encoded data removed]",
      "text/plain": [
       "<Figure size 417.625x360 with 1 Axes>"
      ]
     },
     "metadata": {
      "needs_background": "light"
     },
     "output_type": "display_data"
    },
    {
     "data": {
      "text/plain": [
       "<Figure size 720x360 with 0 Axes>"
      ]
     },
     "metadata": {},
     "output_type": "display_data"
    },
    {
     "data": {
      "image/png": "[encoded data removed]",
      "text/plain": [
       "<Figure size 417.625x360 with 1 Axes>"
      ]
     },
     "metadata": {
      "needs_background": "light"
     },
     "output_type": "display_data"
    }
   ],
   "source": [
    "df_temp = df.query('segmento_v4 == \"0. Alto Tempo de Relac - Pouco Movimento Conta\"')\n",
    "\n",
    "for column in cols_analise:\n",
    "        plt.figure(figsize = (10,5))\n",
    "        sns.catplot(x=column, hue='flag_mgm', data=df_temp, kind=\"count\")\n",
    "        plt.xticks(rotation=90)\n",
    "        plt.show()"
   ]
  },
  {
   "cell_type": "code",
   "execution_count": 63,
   "metadata": {},
   "outputs": [
    {
     "data": {
      "text/plain": [
       "<Figure size 720x360 with 0 Axes>"
      ]
     },
     "metadata": {},
     "output_type": "display_data"
    },
    {
     "data": {
      "image/png": "[encoded data removed]",
      "text/plain": [
       "<Figure size 417.625x360 with 1 Axes>"
      ]
     },
     "metadata": {
      "needs_background": "light"
     },
     "output_type": "display_data"
    },
    {
     "data": {
      "text/plain": [
       "<Figure size 720x360 with 0 Axes>"
      ]
     },
     "metadata": {},
     "output_type": "display_data"
    },
    {
     "data": {
      "image/png": "[encoded data removed]",
      "text/plain": [
       "<Figure size 417.625x360 with 1 Axes>"
      ]
     },
     "metadata": {
      "needs_background": "light"
     },
     "output_type": "display_data"
    },
    {
     "data": {
      "text/plain": [
       "<Figure size 720x360 with 0 Axes>"
      ]
     },
     "metadata": {},
     "output_type": "display_data"
    },
    {
     "data": {
      "image/png": "[encoded data removed]",
      "text/plain": [
       "<Figure size 417.625x360 with 1 Axes>"
      ]
     },
     "metadata": {
      "needs_background": "light"
     },
     "output_type": "display_data"
    },
    {
     "data": {
      "text/plain": [
       "<Figure size 720x360 with 0 Axes>"
      ]
     },
     "metadata": {},
     "output_type": "display_data"
    },
    {
     "data": {
      "image/png": "[encoded data removed]",
      "text/plain": [
       "<Figure size 417.625x360 with 1 Axes>"
      ]
     },
     "metadata": {
      "needs_background": "light"
     },
     "output_type": "display_data"
    },
    {
     "data": {
      "text/plain": [
       "<Figure size 720x360 with 0 Axes>"
      ]
     },
     "metadata": {},
     "output_type": "display_data"
    },
    {
     "data": {
      "image/png": "[encoded data removed]",
      "text/plain": [
       "<Figure size 417.625x360 with 1 Axes>"
      ]
     },
     "metadata": {
      "needs_background": "light"
     },
     "output_type": "display_data"
    },
    {
     "data": {
      "text/plain": [
       "<Figure size 720x360 with 0 Axes>"
      ]
     },
     "metadata": {},
     "output_type": "display_data"
    },
    {
     "data": {
      "image/png": "[encoded data removed]",
      "text/plain": [
       "<Figure size 417.625x360 with 1 Axes>"
      ]
     },
     "metadata": {
      "needs_background": "light"
     },
     "output_type": "display_data"
    },
    {
     "data": {
      "text/plain": [
       "<Figure size 720x360 with 0 Axes>"
      ]
     },
     "metadata": {},
     "output_type": "display_data"
    },
    {
     "data": {
      "image/png": "[encoded data removed]",
      "text/plain": [
       "<Figure size 417.625x360 with 1 Axes>"
      ]
     },
     "metadata": {
      "needs_background": "light"
     },
     "output_type": "display_data"
    }
   ],
   "source": [
    "df_temp = df.query('segmento_v4 == \"2. Tempo de Relac Mediano - Pouco aumento limite - Pouco Movimento Conta\"')\n",
    "\n",
    "for column in cols_analise:\n",
    "        plt.figure(figsize = (10,5))\n",
    "        sns.catplot(x=column, hue='flag_mgm', data=df_temp, kind=\"count\")\n",
    "        plt.xticks(rotation=90)\n",
    "        plt.show()"
   ]
  },
  {
   "cell_type": "code",
   "execution_count": 64,
   "metadata": {},
   "outputs": [
    {
     "data": {
      "text/html": [
       "<div>\n",
       "<style scoped>\n",
       "    .dataframe tbody tr th:only-of-type {\n",
       "        vertical-align: middle;\n",
       "    }\n",
       "\n",
       "    .dataframe tbody tr th {\n",
       "        vertical-align: top;\n",
       "    }\n",
       "\n",
       "    .dataframe thead tr th {\n",
       "        text-align: left;\n",
       "    }\n",
       "\n",
       "    .dataframe thead tr:last-of-type th {\n",
       "        text-align: right;\n",
       "    }\n",
       "</style>\n",
       "<table border=\"1\" class=\"dataframe\">\n",
       "  <thead>\n",
       "    <tr>\n",
       "      <th></th>\n",
       "      <th colspan=\"2\" halign=\"left\">flag_mgm</th>\n",
       "    </tr>\n",
       "    <tr>\n",
       "      <th></th>\n",
       "      <th>mean</th>\n",
       "      <th>count</th>\n",
       "    </tr>\n",
       "    <tr>\n",
       "      <th>seg_share_of_wallet</th>\n",
       "      <th></th>\n",
       "      <th></th>\n",
       "    </tr>\n",
       "  </thead>\n",
       "  <tbody>\n",
       "    <tr>\n",
       "      <th>A</th>\n",
       "      <td>0.012658</td>\n",
       "      <td>48034</td>\n",
       "    </tr>\n",
       "    <tr>\n",
       "      <th>B</th>\n",
       "      <td>0.056947</td>\n",
       "      <td>65412</td>\n",
       "    </tr>\n",
       "  </tbody>\n",
       "</table>\n",
       "</div>"
      ],
      "text/plain": [
       "                     flag_mgm       \n",
       "                         mean  count\n",
       "seg_share_of_wallet                 \n",
       "A                    0.012658  48034\n",
       "B                    0.056947  65412"
      ]
     },
     "execution_count": 64,
     "metadata": {},
     "output_type": "execute_result"
    }
   ],
   "source": [
    "df.query('segmento_v4 == \"2. Tempo de Relac Mediano - Pouco aumento limite - Pouco Movimento Conta\"')[['flag_mgm', 'seg_share_of_wallet']] \\\n",
    ".groupby('seg_share_of_wallet').agg({'flag_mgm':['mean', 'count']})"
   ]
  },
  {
   "cell_type": "markdown",
   "metadata": {},
   "source": [
    "O segmento_v2 ABA, no consolidado tinha share de 0.038194\n",
    "\n",
    "\n",
    "Na abertura de share of wallet\n",
    "B = 3\n",
    "A = 1\n",
    "\n",
    "\n",
    "\n",
    "\n",
    "\n",
    "# variaveis finais\n",
    "\n",
    "\n",
    "df['seg_relacionamento'] = np.where(df.tempo_relacionamento <=  df.tempo_relacionamento.quantile(0.25), 'A',\n",
    "                                  np.where(df.tempo_relacionamento <=  df.tempo_relacionamento.quantile(0.75), 'B', 'C'))\n",
    "\n",
    "\n",
    "\n",
    "\n",
    "seg_relacionamento\n",
    "seg_mov_conta\n",
    "seg_share_of_wallet\n",
    "seg_ganho_limite\n",
    "segmento_v2 = df.seg_ganho_limite.astype(\"string\") + df.seg_relacionamento.astype(\"string\") + df.seg_mov_conta.astype(\"string\")\n"
   ]
  },
  {
   "cell_type": "code",
   "execution_count": 67,
   "metadata": {},
   "outputs": [
    {
     "data": {
      "text/html": [
       "<div>\n",
       "<style scoped>\n",
       "    .dataframe tbody tr th:only-of-type {\n",
       "        vertical-align: middle;\n",
       "    }\n",
       "\n",
       "    .dataframe tbody tr th {\n",
       "        vertical-align: top;\n",
       "    }\n",
       "\n",
       "    .dataframe thead tr th {\n",
       "        text-align: left;\n",
       "    }\n",
       "\n",
       "    .dataframe thead tr:last-of-type th {\n",
       "        text-align: right;\n",
       "    }\n",
       "</style>\n",
       "<table border=\"1\" class=\"dataframe\">\n",
       "  <thead>\n",
       "    <tr>\n",
       "      <th></th>\n",
       "      <th colspan=\"2\" halign=\"left\">flag_mgm</th>\n",
       "    </tr>\n",
       "    <tr>\n",
       "      <th></th>\n",
       "      <th>mean</th>\n",
       "      <th>count</th>\n",
       "    </tr>\n",
       "    <tr>\n",
       "      <th>segmento_v5</th>\n",
       "      <th></th>\n",
       "      <th></th>\n",
       "    </tr>\n",
       "  </thead>\n",
       "  <tbody>\n",
       "    <tr>\n",
       "      <th>0. Alto Tempo de Relac - Aumento limite mediano - Alto Movimento Conta</th>\n",
       "      <td>0.008523</td>\n",
       "      <td>4576</td>\n",
       "    </tr>\n",
       "    <tr>\n",
       "      <th>0. Alto Tempo de Relac - Pouco Movimento Conta</th>\n",
       "      <td>0.004816</td>\n",
       "      <td>209934</td>\n",
       "    </tr>\n",
       "    <tr>\n",
       "      <th>0. Pouco tempo de relacionamento</th>\n",
       "      <td>0.000015</td>\n",
       "      <td>259593</td>\n",
       "    </tr>\n",
       "    <tr>\n",
       "      <th>1. Alto Tempo de Relac - Alto aumento de limite - Alto Movimento Conta</th>\n",
       "      <td>0.018450</td>\n",
       "      <td>23252</td>\n",
       "    </tr>\n",
       "    <tr>\n",
       "      <th>1. Alto Tempo de Relac - Pouco aumento limite - Alto Movimento Conta</th>\n",
       "      <td>0.010524</td>\n",
       "      <td>19764</td>\n",
       "    </tr>\n",
       "    <tr>\n",
       "      <th>1. Tempo de Relac Mediano - Pouco aumento limite - Pouco Mov Conta - Baixo SOW</th>\n",
       "      <td>0.012658</td>\n",
       "      <td>48034</td>\n",
       "    </tr>\n",
       "    <tr>\n",
       "      <th>2. Tempo de Relac Mediano - Aumento limite mediano - Baixo Movimento Conta</th>\n",
       "      <td>0.035810</td>\n",
       "      <td>113208</td>\n",
       "    </tr>\n",
       "    <tr>\n",
       "      <th>3. Tempo de Relac Mediano - Alto aumento limite - Alto Movimento Conta</th>\n",
       "      <td>0.053479</td>\n",
       "      <td>55498</td>\n",
       "    </tr>\n",
       "    <tr>\n",
       "      <th>3. Tempo de Relac Mediano - Pouco aumento limite - Pouco Mov Conta - Alto SOW</th>\n",
       "      <td>0.056947</td>\n",
       "      <td>65412</td>\n",
       "    </tr>\n",
       "    <tr>\n",
       "      <th>4. Tempo de Relac Mediano - Aumento limite mediano - Pouco Movimento Conta</th>\n",
       "      <td>0.077881</td>\n",
       "      <td>125037</td>\n",
       "    </tr>\n",
       "    <tr>\n",
       "      <th>4. Tempo de Relac Mediano - Pouco aumento limite - Alto Movimento Conta</th>\n",
       "      <td>0.099986</td>\n",
       "      <td>34895</td>\n",
       "    </tr>\n",
       "    <tr>\n",
       "      <th>5. Tempo de Relac Mediano - Aumento limite mediano - Alto Movimento Conta</th>\n",
       "      <td>0.125337</td>\n",
       "      <td>76681</td>\n",
       "    </tr>\n",
       "  </tbody>\n",
       "</table>\n",
       "</div>"
      ],
      "text/plain": [
       "                                                    flag_mgm        \n",
       "                                                        mean   count\n",
       "segmento_v5                                                         \n",
       "0. Alto Tempo de Relac - Aumento limite mediano...  0.008523    4576\n",
       "0. Alto Tempo de Relac - Pouco Movimento Conta      0.004816  209934\n",
       "0. Pouco tempo de relacionamento                    0.000015  259593\n",
       "1. Alto Tempo de Relac - Alto aumento de limite...  0.018450   23252\n",
       "1. Alto Tempo de Relac - Pouco aumento limite -...  0.010524   19764\n",
       "1. Tempo de Relac Mediano - Pouco aumento limit...  0.012658   48034\n",
       "2. Tempo de Relac Mediano - Aumento limite medi...  0.035810  113208\n",
       "3. Tempo de Relac Mediano - Alto aumento limite...  0.053479   55498\n",
       "3. Tempo de Relac Mediano - Pouco aumento limit...  0.056947   65412\n",
       "4. Tempo de Relac Mediano - Aumento limite medi...  0.077881  125037\n",
       "4. Tempo de Relac Mediano - Pouco aumento limit...  0.099986   34895\n",
       "5. Tempo de Relac Mediano - Aumento limite medi...  0.125337   76681"
      ]
     },
     "execution_count": 67,
     "metadata": {},
     "output_type": "execute_result"
    }
   ],
   "source": [
    "df['segmento_v5'] = np.where(df.seg_relacionamento == \"A\", \"0. Pouco tempo de relacionamento\",\n",
    "np.where(df.seg_relacionamento.astype(\"string\") + df.seg_mov_conta.astype(\"string\") == \"CA\", \"0. Alto Tempo de Relac - Pouco Movimento Conta\",\n",
    "#Abrir por share of wallet\n",
    "np.where((df.segmento_v2 == \"ABA\") & (df.seg_share_of_wallet == \"A\"), \"1. Tempo de Relac Mediano - Pouco aumento limite - Pouco Mov Conta - Baixo SOW\", \n",
    "np.where((df.segmento_v2 == \"ABA\") & (df.seg_share_of_wallet == \"B\"), \"3. Tempo de Relac Mediano - Pouco aumento limite - Pouco Mov Conta - Alto SOW\",\n",
    "np.where(df.segmento_v2 == \"ABB\", \"4. Tempo de Relac Mediano - Pouco aumento limite - Alto Movimento Conta\",\n",
    "np.where(df.segmento_v2 == \"BBB\", \"5. Tempo de Relac Mediano - Aumento limite mediano - Alto Movimento Conta\",\n",
    "np.where(df.segmento_v2 == \"ACB\", \"1. Alto Tempo de Relac - Pouco aumento limite - Alto Movimento Conta\",\n",
    "np.where(df.segmento_v2 == \"CCB\", \"1. Alto Tempo de Relac - Alto aumento de limite - Alto Movimento Conta\",\n",
    "np.where(df.segmento_v2 == \"BCB\", \"0. Alto Tempo de Relac - Aumento limite mediano - Alto Movimento Conta\",\n",
    "np.where(df.segmento_v2 == \"BBA\", \"4. Tempo de Relac Mediano - Aumento limite mediano - Pouco Movimento Conta\",\n",
    "np.where(df.segmento_v2 == \"CBA\", \"2. Tempo de Relac Mediano - Aumento limite mediano - Baixo Movimento Conta\",\n",
    "np.where(df.segmento_v2 == \"CBB\", \"3. Tempo de Relac Mediano - Alto aumento limite - Alto Movimento Conta\", \"NI\"))))))))))))\n",
    "\n",
    "df[['segmento_v5', 'flag_mgm']].groupby('segmento_v5').agg({'flag_mgm':['mean', 'count']})"
   ]
  },
  {
   "cell_type": "code",
   "execution_count": 68,
   "metadata": {},
   "outputs": [
    {
     "data": {
      "text/html": [
       "<div>\n",
       "<style scoped>\n",
       "    .dataframe tbody tr th:only-of-type {\n",
       "        vertical-align: middle;\n",
       "    }\n",
       "\n",
       "    .dataframe tbody tr th {\n",
       "        vertical-align: top;\n",
       "    }\n",
       "\n",
       "    .dataframe thead tr th {\n",
       "        text-align: left;\n",
       "    }\n",
       "\n",
       "    .dataframe thead tr:last-of-type th {\n",
       "        text-align: right;\n",
       "    }\n",
       "</style>\n",
       "<table border=\"1\" class=\"dataframe\">\n",
       "  <thead>\n",
       "    <tr>\n",
       "      <th></th>\n",
       "      <th colspan=\"3\" halign=\"left\">tempo_relacionamento</th>\n",
       "    </tr>\n",
       "    <tr>\n",
       "      <th></th>\n",
       "      <th>mean</th>\n",
       "      <th>min</th>\n",
       "      <th>max</th>\n",
       "    </tr>\n",
       "    <tr>\n",
       "      <th>segmento_v5</th>\n",
       "      <th></th>\n",
       "      <th></th>\n",
       "      <th></th>\n",
       "    </tr>\n",
       "  </thead>\n",
       "  <tbody>\n",
       "    <tr>\n",
       "      <th>0. Alto Tempo de Relac - Aumento limite mediano - Alto Movimento Conta</th>\n",
       "      <td>1504.578671</td>\n",
       "      <td>1346.0</td>\n",
       "      <td>2260.0</td>\n",
       "    </tr>\n",
       "    <tr>\n",
       "      <th>0. Alto Tempo de Relac - Pouco Movimento Conta</th>\n",
       "      <td>1714.447522</td>\n",
       "      <td>1346.0</td>\n",
       "      <td>2309.0</td>\n",
       "    </tr>\n",
       "    <tr>\n",
       "      <th>0. Pouco tempo de relacionamento</th>\n",
       "      <td>94.263262</td>\n",
       "      <td>1.0</td>\n",
       "      <td>218.0</td>\n",
       "    </tr>\n",
       "    <tr>\n",
       "      <th>1. Alto Tempo de Relac - Alto aumento de limite - Alto Movimento Conta</th>\n",
       "      <td>1529.185618</td>\n",
       "      <td>1346.0</td>\n",
       "      <td>2308.0</td>\n",
       "    </tr>\n",
       "    <tr>\n",
       "      <th>1. Alto Tempo de Relac - Pouco aumento limite - Alto Movimento Conta</th>\n",
       "      <td>1865.712862</td>\n",
       "      <td>1346.0</td>\n",
       "      <td>2308.0</td>\n",
       "    </tr>\n",
       "    <tr>\n",
       "      <th>1. Tempo de Relac Mediano - Pouco aumento limite - Pouco Mov Conta - Baixo SOW</th>\n",
       "      <td>721.869322</td>\n",
       "      <td>219.0</td>\n",
       "      <td>1345.0</td>\n",
       "    </tr>\n",
       "    <tr>\n",
       "      <th>2. Tempo de Relac Mediano - Aumento limite mediano - Baixo Movimento Conta</th>\n",
       "      <td>883.816577</td>\n",
       "      <td>219.0</td>\n",
       "      <td>1345.0</td>\n",
       "    </tr>\n",
       "    <tr>\n",
       "      <th>3. Tempo de Relac Mediano - Alto aumento limite - Alto Movimento Conta</th>\n",
       "      <td>863.985189</td>\n",
       "      <td>219.0</td>\n",
       "      <td>1345.0</td>\n",
       "    </tr>\n",
       "    <tr>\n",
       "      <th>3. Tempo de Relac Mediano - Pouco aumento limite - Pouco Mov Conta - Alto SOW</th>\n",
       "      <td>599.984315</td>\n",
       "      <td>219.0</td>\n",
       "      <td>1345.0</td>\n",
       "    </tr>\n",
       "    <tr>\n",
       "      <th>4. Tempo de Relac Mediano - Aumento limite mediano - Pouco Movimento Conta</th>\n",
       "      <td>613.933516</td>\n",
       "      <td>219.0</td>\n",
       "      <td>1345.0</td>\n",
       "    </tr>\n",
       "    <tr>\n",
       "      <th>4. Tempo de Relac Mediano - Pouco aumento limite - Alto Movimento Conta</th>\n",
       "      <td>580.665654</td>\n",
       "      <td>219.0</td>\n",
       "      <td>1345.0</td>\n",
       "    </tr>\n",
       "    <tr>\n",
       "      <th>5. Tempo de Relac Mediano - Aumento limite mediano - Alto Movimento Conta</th>\n",
       "      <td>585.395378</td>\n",
       "      <td>219.0</td>\n",
       "      <td>1345.0</td>\n",
       "    </tr>\n",
       "  </tbody>\n",
       "</table>\n",
       "</div>"
      ],
      "text/plain": [
       "                                                   tempo_relacionamento  \\\n",
       "                                                                   mean   \n",
       "segmento_v5                                                               \n",
       "0. Alto Tempo de Relac - Aumento limite mediano...          1504.578671   \n",
       "0. Alto Tempo de Relac - Pouco Movimento Conta              1714.447522   \n",
       "0. Pouco tempo de relacionamento                              94.263262   \n",
       "1. Alto Tempo de Relac - Alto aumento de limite...          1529.185618   \n",
       "1. Alto Tempo de Relac - Pouco aumento limite -...          1865.712862   \n",
       "1. Tempo de Relac Mediano - Pouco aumento limit...           721.869322   \n",
       "2. Tempo de Relac Mediano - Aumento limite medi...           883.816577   \n",
       "3. Tempo de Relac Mediano - Alto aumento limite...           863.985189   \n",
       "3. Tempo de Relac Mediano - Pouco aumento limit...           599.984315   \n",
       "4. Tempo de Relac Mediano - Aumento limite medi...           613.933516   \n",
       "4. Tempo de Relac Mediano - Pouco aumento limit...           580.665654   \n",
       "5. Tempo de Relac Mediano - Aumento limite medi...           585.395378   \n",
       "\n",
       "                                                                    \n",
       "                                                       min     max  \n",
       "segmento_v5                                                         \n",
       "0. Alto Tempo de Relac - Aumento limite mediano...  1346.0  2260.0  \n",
       "0. Alto Tempo de Relac - Pouco Movimento Conta      1346.0  2309.0  \n",
       "0. Pouco tempo de relacionamento                       1.0   218.0  \n",
       "1. Alto Tempo de Relac - Alto aumento de limite...  1346.0  2308.0  \n",
       "1. Alto Tempo de Relac - Pouco aumento limite -...  1346.0  2308.0  \n",
       "1. Tempo de Relac Mediano - Pouco aumento limit...   219.0  1345.0  \n",
       "2. Tempo de Relac Mediano - Aumento limite medi...   219.0  1345.0  \n",
       "3. Tempo de Relac Mediano - Alto aumento limite...   219.0  1345.0  \n",
       "3. Tempo de Relac Mediano - Pouco aumento limit...   219.0  1345.0  \n",
       "4. Tempo de Relac Mediano - Aumento limite medi...   219.0  1345.0  \n",
       "4. Tempo de Relac Mediano - Pouco aumento limit...   219.0  1345.0  \n",
       "5. Tempo de Relac Mediano - Aumento limite medi...   219.0  1345.0  "
      ]
     },
     "execution_count": 68,
     "metadata": {},
     "output_type": "execute_result"
    }
   ],
   "source": [
    "df[['segmento_v5', 'tempo_relacionamento']].groupby('segmento_v5').agg({'tempo_relacionamento':['mean', 'min', 'max']})"
   ]
  }
 ],
 "metadata": {
  "kernelspec": {
   "display_name": "Python 3",
   "language": "python",
   "name": "python3"
  },
  "language_info": {
   "codemirror_mode": {
    "name": "ipython",
    "version": 3
   },
   "file_extension": ".py",
   "mimetype": "text/x-python",
   "name": "python",
   "nbconvert_exporter": "python",
   "pygments_lexer": "ipython3",
   "version": "3.8.10"
  },
  "orig_nbformat": 4
 },
 "nbformat": 4,
 "nbformat_minor": 2
}
