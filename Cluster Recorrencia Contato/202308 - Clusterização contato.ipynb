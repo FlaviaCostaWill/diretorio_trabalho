{
 "cells": [
  {
   "cell_type": "code",
   "execution_count": 59,
   "id": "07af023f-a73f-4d6b-8817-346257abb0e9",
   "metadata": {},
   "outputs": [],
   "source": [
    "import pandas as pd\n",
    "import numpy as np\n",
    "import acessos as ac\n",
    "from datetime import datetime\n",
    "import matplotlib.pyplot as plt\n",
    "import seaborn as sns"
   ]
  },
  {
   "cell_type": "code",
   "execution_count": 3,
   "id": "108d945b",
   "metadata": {},
   "outputs": [],
   "source": [
    "data  = 'current_date'"
   ]
  },
  {
   "cell_type": "code",
   "execution_count": 10,
   "id": "bcdc3661-65b5-4fc9-8904-3b946e1f757c",
   "metadata": {
    "tags": []
   },
   "outputs": [],
   "source": [
    "query = f\"\"\"\n",
    " \n",
    "\n",
    " \tselect \n",
    "\tb.cd_cpf\n",
    "\t, count(distinct case when dt_chat >= date_add('month', -12 , date_trunc('month', {data}) ) and dt_chat < date_trunc('month', {data}) then c.id_issue end) as contatos_12m\n",
    "\t, count(distinct case when dt_chat >= date_add('month', -6 , date_trunc('month', {data}) ) then c.id_issue end) as contatos_6m\n",
    "\t, max(dt_chat) as recencia_contato\n",
    "\tFROM customer_analytics_zone.ca_analitico_basao_crm b\n",
    "    left join cx_curated_zone.cx_contact_rate c on (c.cpf_customer = b.cd_cpf)\n",
    "\tleft join cx_curated_zone.helpshift_issues AS issues_macro ON c.id_issue = issues_macro.id_issue\n",
    "\tleft join cx_curated_zone.helpshift_tag_niveis AS helpshift_tag ON c.id_issue = helpshift_tag.id_issue\n",
    "\tgroup by 1\n",
    "    order by rand()\n",
    "    limit 500000\n",
    "\n",
    "\"\"\""
   ]
  },
  {
   "cell_type": "code",
   "execution_count": 11,
   "id": "6c28ce41-14ed-46af-b167-3915a067a1a3",
   "metadata": {},
   "outputs": [],
   "source": [
    "base = ac.df_athena('flavia-costa', query)"
   ]
  },
  {
   "cell_type": "code",
   "execution_count": 12,
   "id": "dc080e7d-165a-4739-a4b1-7087de67d410",
   "metadata": {},
   "outputs": [
    {
     "data": {
      "text/plain": [
       "500000"
      ]
     },
     "execution_count": 12,
     "metadata": {},
     "output_type": "execute_result"
    }
   ],
   "source": [
    "len(base)"
   ]
  },
  {
   "cell_type": "code",
   "execution_count": 25,
   "id": "8154c6a2",
   "metadata": {},
   "outputs": [
    {
     "data": {
      "text/plain": [
       "cd_cpf                      object\n",
       "contatos_12m                 int64\n",
       "contatos_6m                  int64\n",
       "recencia_contato    datetime64[ns]\n",
       "dtype: object"
      ]
     },
     "execution_count": 25,
     "metadata": {},
     "output_type": "execute_result"
    }
   ],
   "source": [
    "base.dtypes"
   ]
  },
  {
   "cell_type": "code",
   "execution_count": 24,
   "id": "85e1ad9c",
   "metadata": {},
   "outputs": [],
   "source": [
    "base['recencia_contato'] = pd.to_datetime(base['recencia_contato'])"
   ]
  },
  {
   "cell_type": "code",
   "execution_count": 26,
   "id": "1b4c747a",
   "metadata": {},
   "outputs": [],
   "source": [
    "base['recencia_dias_contato'] = (datetime.now() - base['recencia_contato']).dt.days"
   ]
  },
  {
   "cell_type": "code",
   "execution_count": 32,
   "id": "77d620ad",
   "metadata": {},
   "outputs": [
    {
     "data": {
      "text/html": [
       "<div>\n",
       "<style scoped>\n",
       "    .dataframe tbody tr th:only-of-type {\n",
       "        vertical-align: middle;\n",
       "    }\n",
       "\n",
       "    .dataframe tbody tr th {\n",
       "        vertical-align: top;\n",
       "    }\n",
       "\n",
       "    .dataframe thead th {\n",
       "        text-align: right;\n",
       "    }\n",
       "</style>\n",
       "<table border=\"1\" class=\"dataframe\">\n",
       "  <thead>\n",
       "    <tr style=\"text-align: right;\">\n",
       "      <th></th>\n",
       "      <th>cd_cpf</th>\n",
       "      <th>contatos_12m</th>\n",
       "      <th>contatos_6m</th>\n",
       "      <th>recencia_contato</th>\n",
       "      <th>recencia_dias_contato</th>\n",
       "    </tr>\n",
       "  </thead>\n",
       "  <tbody>\n",
       "    <tr>\n",
       "      <th>0</th>\n",
       "      <td>05312049360</td>\n",
       "      <td>1</td>\n",
       "      <td>1</td>\n",
       "      <td>2023-04-05</td>\n",
       "      <td>134.0</td>\n",
       "    </tr>\n",
       "    <tr>\n",
       "      <th>1</th>\n",
       "      <td>39318402805</td>\n",
       "      <td>0</td>\n",
       "      <td>0</td>\n",
       "      <td>NaT</td>\n",
       "      <td>1640.0</td>\n",
       "    </tr>\n",
       "    <tr>\n",
       "      <th>2</th>\n",
       "      <td>07471326409</td>\n",
       "      <td>1</td>\n",
       "      <td>1</td>\n",
       "      <td>2023-03-13</td>\n",
       "      <td>157.0</td>\n",
       "    </tr>\n",
       "    <tr>\n",
       "      <th>3</th>\n",
       "      <td>16287704659</td>\n",
       "      <td>3</td>\n",
       "      <td>0</td>\n",
       "      <td>2022-12-28</td>\n",
       "      <td>232.0</td>\n",
       "    </tr>\n",
       "    <tr>\n",
       "      <th>4</th>\n",
       "      <td>86451091588</td>\n",
       "      <td>0</td>\n",
       "      <td>0</td>\n",
       "      <td>NaT</td>\n",
       "      <td>1640.0</td>\n",
       "    </tr>\n",
       "  </tbody>\n",
       "</table>\n",
       "</div>"
      ],
      "text/plain": [
       "        cd_cpf  contatos_12m  contatos_6m recencia_contato  \\\n",
       "0  05312049360             1            1       2023-04-05   \n",
       "1  39318402805             0            0              NaT   \n",
       "2  07471326409             1            1       2023-03-13   \n",
       "3  16287704659             3            0       2022-12-28   \n",
       "4  86451091588             0            0              NaT   \n",
       "\n",
       "   recencia_dias_contato  \n",
       "0                  134.0  \n",
       "1                 1640.0  \n",
       "2                  157.0  \n",
       "3                  232.0  \n",
       "4                 1640.0  "
      ]
     },
     "execution_count": 32,
     "metadata": {},
     "output_type": "execute_result"
    }
   ],
   "source": [
    "base.head()"
   ]
  },
  {
   "cell_type": "code",
   "execution_count": 31,
   "id": "d1cd2fc4",
   "metadata": {},
   "outputs": [],
   "source": [
    "base['contatos_12m'] = base['contatos_12m'].fillna(0)\n",
    "base['contatos_6m'] = base['contatos_6m'].fillna(0)\n",
    "base['recencia_dias_contato'] = base['recencia_dias_contato'].fillna(base.recencia_dias_contato.max())"
   ]
  },
  {
   "cell_type": "code",
   "execution_count": 40,
   "id": "24809b7d-04c1-480d-9b6d-146dc35de29c",
   "metadata": {},
   "outputs": [
    {
     "data": {
      "text/plain": [
       "0    227258\n",
       "3    179101\n",
       "1     73472\n",
       "4     17810\n",
       "2      2359\n",
       "Name: cluster, dtype: int64"
      ]
     },
     "execution_count": 40,
     "metadata": {},
     "output_type": "execute_result"
    }
   ],
   "source": [
    "from sklearn.preprocessing import StandardScaler\n",
    "from sklearn.cluster import KMeans\n",
    "\n",
    "features_cluster = ['contatos_12m','contatos_6m', 'recencia_dias_contato']\n",
    "base_cluster = base[features_cluster]\n",
    "\n",
    "scaler = StandardScaler()\n",
    "scaler_model = scaler.fit(base_cluster)\n",
    "data_input_scaled = scaler_model.transform(base_cluster)\n",
    "\n",
    "kmeans = KMeans(n_clusters = 5, random_state=0).fit(data_input_scaled)\n",
    "cluster = kmeans.predict(data_input_scaled)\n",
    "base['cluster'] = cluster\n",
    "\n",
    "base['cluster'].value_counts()"
   ]
  },
  {
   "cell_type": "code",
   "execution_count": 41,
   "id": "f7c81ace-4f3a-4ba5-a88a-0d2574544d77",
   "metadata": {},
   "outputs": [
    {
     "data": {
      "text/plain": [
       "0    0.454516\n",
       "3    0.358202\n",
       "1    0.146944\n",
       "4    0.035620\n",
       "2    0.004718\n",
       "Name: cluster, dtype: float64"
      ]
     },
     "execution_count": 41,
     "metadata": {},
     "output_type": "execute_result"
    }
   ],
   "source": [
    "base['cluster'].value_counts(normalize = True)"
   ]
  },
  {
   "cell_type": "code",
   "execution_count": 42,
   "id": "5f701611-ed3f-4767-b278-8de3b6a8b8d1",
   "metadata": {},
   "outputs": [
    {
     "data": {
      "text/html": [
       "<div>\n",
       "<style scoped>\n",
       "    .dataframe tbody tr th:only-of-type {\n",
       "        vertical-align: middle;\n",
       "    }\n",
       "\n",
       "    .dataframe tbody tr th {\n",
       "        vertical-align: top;\n",
       "    }\n",
       "\n",
       "    .dataframe thead th {\n",
       "        text-align: right;\n",
       "    }\n",
       "</style>\n",
       "<table border=\"1\" class=\"dataframe\">\n",
       "  <thead>\n",
       "    <tr style=\"text-align: right;\">\n",
       "      <th></th>\n",
       "      <th>contatos_12m</th>\n",
       "      <th>contatos_6m</th>\n",
       "      <th>recencia_dias_contato</th>\n",
       "    </tr>\n",
       "    <tr>\n",
       "      <th>cluster</th>\n",
       "      <th></th>\n",
       "      <th></th>\n",
       "      <th></th>\n",
       "    </tr>\n",
       "  </thead>\n",
       "  <tbody>\n",
       "    <tr>\n",
       "      <th>0</th>\n",
       "      <td>0.000000</td>\n",
       "      <td>0.000000</td>\n",
       "      <td>1601.338602</td>\n",
       "    </tr>\n",
       "    <tr>\n",
       "      <th>1</th>\n",
       "      <td>3.948783</td>\n",
       "      <td>2.339449</td>\n",
       "      <td>93.828860</td>\n",
       "    </tr>\n",
       "    <tr>\n",
       "      <th>2</th>\n",
       "      <td>22.626537</td>\n",
       "      <td>17.567189</td>\n",
       "      <td>32.317931</td>\n",
       "    </tr>\n",
       "    <tr>\n",
       "      <th>3</th>\n",
       "      <td>0.868694</td>\n",
       "      <td>0.343008</td>\n",
       "      <td>324.628076</td>\n",
       "    </tr>\n",
       "    <tr>\n",
       "      <th>4</th>\n",
       "      <td>9.940090</td>\n",
       "      <td>6.699382</td>\n",
       "      <td>56.601684</td>\n",
       "    </tr>\n",
       "  </tbody>\n",
       "</table>\n",
       "</div>"
      ],
      "text/plain": [
       "         contatos_12m  contatos_6m  recencia_dias_contato\n",
       "cluster                                                  \n",
       "0            0.000000     0.000000            1601.338602\n",
       "1            3.948783     2.339449              93.828860\n",
       "2           22.626537    17.567189              32.317931\n",
       "3            0.868694     0.343008             324.628076\n",
       "4            9.940090     6.699382              56.601684"
      ]
     },
     "execution_count": 42,
     "metadata": {},
     "output_type": "execute_result"
    }
   ],
   "source": [
    "base.groupby('cluster')[features_cluster].mean()"
   ]
  },
  {
   "cell_type": "code",
   "execution_count": 46,
   "id": "40ea212c",
   "metadata": {},
   "outputs": [
    {
     "data": {
      "text/html": [
       "<div>\n",
       "<style scoped>\n",
       "    .dataframe tbody tr th:only-of-type {\n",
       "        vertical-align: middle;\n",
       "    }\n",
       "\n",
       "    .dataframe tbody tr th {\n",
       "        vertical-align: top;\n",
       "    }\n",
       "\n",
       "    .dataframe thead th {\n",
       "        text-align: right;\n",
       "    }\n",
       "</style>\n",
       "<table border=\"1\" class=\"dataframe\">\n",
       "  <thead>\n",
       "    <tr style=\"text-align: right;\">\n",
       "      <th></th>\n",
       "      <th>contatos_12m</th>\n",
       "      <th>contatos_6m</th>\n",
       "      <th>recencia_dias_contato</th>\n",
       "    </tr>\n",
       "    <tr>\n",
       "      <th>cluster</th>\n",
       "      <th></th>\n",
       "      <th></th>\n",
       "      <th></th>\n",
       "    </tr>\n",
       "  </thead>\n",
       "  <tbody>\n",
       "    <tr>\n",
       "      <th>0</th>\n",
       "      <td>0.0</td>\n",
       "      <td>0.0</td>\n",
       "      <td>1640.0</td>\n",
       "    </tr>\n",
       "    <tr>\n",
       "      <th>1</th>\n",
       "      <td>3.0</td>\n",
       "      <td>2.0</td>\n",
       "      <td>81.0</td>\n",
       "    </tr>\n",
       "    <tr>\n",
       "      <th>2</th>\n",
       "      <td>20.0</td>\n",
       "      <td>16.0</td>\n",
       "      <td>21.0</td>\n",
       "    </tr>\n",
       "    <tr>\n",
       "      <th>3</th>\n",
       "      <td>1.0</td>\n",
       "      <td>0.0</td>\n",
       "      <td>295.0</td>\n",
       "    </tr>\n",
       "    <tr>\n",
       "      <th>4</th>\n",
       "      <td>9.0</td>\n",
       "      <td>6.0</td>\n",
       "      <td>42.0</td>\n",
       "    </tr>\n",
       "  </tbody>\n",
       "</table>\n",
       "</div>"
      ],
      "text/plain": [
       "         contatos_12m  contatos_6m  recencia_dias_contato\n",
       "cluster                                                  \n",
       "0                 0.0          0.0                 1640.0\n",
       "1                 3.0          2.0                   81.0\n",
       "2                20.0         16.0                   21.0\n",
       "3                 1.0          0.0                  295.0\n",
       "4                 9.0          6.0                   42.0"
      ]
     },
     "execution_count": 46,
     "metadata": {},
     "output_type": "execute_result"
    }
   ],
   "source": [
    "base.groupby('cluster')[features_cluster].median()"
   ]
  },
  {
   "cell_type": "code",
   "execution_count": 47,
   "id": "d2c2f026",
   "metadata": {},
   "outputs": [
    {
     "data": {
      "text/html": [
       "<div>\n",
       "<style scoped>\n",
       "    .dataframe tbody tr th:only-of-type {\n",
       "        vertical-align: middle;\n",
       "    }\n",
       "\n",
       "    .dataframe tbody tr th {\n",
       "        vertical-align: top;\n",
       "    }\n",
       "\n",
       "    .dataframe thead th {\n",
       "        text-align: right;\n",
       "    }\n",
       "</style>\n",
       "<table border=\"1\" class=\"dataframe\">\n",
       "  <thead>\n",
       "    <tr style=\"text-align: right;\">\n",
       "      <th></th>\n",
       "      <th>contatos_12m</th>\n",
       "      <th>contatos_6m</th>\n",
       "      <th>recencia_dias_contato</th>\n",
       "    </tr>\n",
       "  </thead>\n",
       "  <tbody>\n",
       "    <tr>\n",
       "      <th>count</th>\n",
       "      <td>200790.000000</td>\n",
       "      <td>200790.000000</td>\n",
       "      <td>200790.000000</td>\n",
       "    </tr>\n",
       "    <tr>\n",
       "      <th>mean</th>\n",
       "      <td>3.367289</td>\n",
       "      <td>1.900682</td>\n",
       "      <td>145.998212</td>\n",
       "    </tr>\n",
       "    <tr>\n",
       "      <th>std</th>\n",
       "      <td>3.780421</td>\n",
       "      <td>2.845574</td>\n",
       "      <td>108.959031</td>\n",
       "    </tr>\n",
       "    <tr>\n",
       "      <th>min</th>\n",
       "      <td>1.000000</td>\n",
       "      <td>0.000000</td>\n",
       "      <td>0.000000</td>\n",
       "    </tr>\n",
       "    <tr>\n",
       "      <th>25%</th>\n",
       "      <td>1.000000</td>\n",
       "      <td>0.000000</td>\n",
       "      <td>49.000000</td>\n",
       "    </tr>\n",
       "    <tr>\n",
       "      <th>50%</th>\n",
       "      <td>2.000000</td>\n",
       "      <td>1.000000</td>\n",
       "      <td>122.000000</td>\n",
       "    </tr>\n",
       "    <tr>\n",
       "      <th>75%</th>\n",
       "      <td>4.000000</td>\n",
       "      <td>2.000000</td>\n",
       "      <td>232.000000</td>\n",
       "    </tr>\n",
       "    <tr>\n",
       "      <th>max</th>\n",
       "      <td>136.000000</td>\n",
       "      <td>85.000000</td>\n",
       "      <td>381.000000</td>\n",
       "    </tr>\n",
       "  </tbody>\n",
       "</table>\n",
       "</div>"
      ],
      "text/plain": [
       "        contatos_12m    contatos_6m  recencia_dias_contato\n",
       "count  200790.000000  200790.000000          200790.000000\n",
       "mean        3.367289       1.900682             145.998212\n",
       "std         3.780421       2.845574             108.959031\n",
       "min         1.000000       0.000000               0.000000\n",
       "25%         1.000000       0.000000              49.000000\n",
       "50%         2.000000       1.000000             122.000000\n",
       "75%         4.000000       2.000000             232.000000\n",
       "max       136.000000      85.000000             381.000000"
      ]
     },
     "execution_count": 47,
     "metadata": {},
     "output_type": "execute_result"
    }
   ],
   "source": [
    "base.query('contatos_12m > 0')[features_cluster].describe()"
   ]
  },
  {
   "cell_type": "code",
   "execution_count": 48,
   "id": "249f10c4",
   "metadata": {},
   "outputs": [
    {
     "data": {
      "text/plain": [
       "contatos_12m                7.0\n",
       "contatos_6m                 4.0\n",
       "recencia_dias_contato    1640.0\n",
       "Name: 0.95, dtype: float64"
      ]
     },
     "execution_count": 48,
     "metadata": {},
     "output_type": "execute_result"
    }
   ],
   "source": [
    "base[features_cluster].quantile(0.95)"
   ]
  },
  {
   "cell_type": "code",
   "execution_count": null,
   "id": "e2db18a6",
   "metadata": {},
   "outputs": [],
   "source": [
    "#p50, p75 e p95 - eixo de frequencia baseado nos 6 meses\n",
    "\n",
    "#60, 120 e 180 eixo de recencia\n",
    "\n",
    "#analisar desaceleração 6 x 12 meses"
   ]
  },
  {
   "cell_type": "code",
   "execution_count": 77,
   "id": "721055ad",
   "metadata": {},
   "outputs": [
    {
     "data": {
      "text/html": [
       "<div>\n",
       "<style scoped>\n",
       "    .dataframe tbody tr th:only-of-type {\n",
       "        vertical-align: middle;\n",
       "    }\n",
       "\n",
       "    .dataframe tbody tr th {\n",
       "        vertical-align: top;\n",
       "    }\n",
       "\n",
       "    .dataframe thead th {\n",
       "        text-align: right;\n",
       "    }\n",
       "</style>\n",
       "<table border=\"1\" class=\"dataframe\">\n",
       "  <thead>\n",
       "    <tr style=\"text-align: right;\">\n",
       "      <th></th>\n",
       "      <th>cd_cpf</th>\n",
       "      <th>contatos_12m</th>\n",
       "      <th>contatos_6m</th>\n",
       "      <th>recencia_contato</th>\n",
       "      <th>recencia_dias_contato</th>\n",
       "      <th>cluster</th>\n",
       "      <th>desaceleracao_contato</th>\n",
       "    </tr>\n",
       "  </thead>\n",
       "  <tbody>\n",
       "    <tr>\n",
       "      <th>0</th>\n",
       "      <td>05312049360</td>\n",
       "      <td>1</td>\n",
       "      <td>1</td>\n",
       "      <td>2023-04-05</td>\n",
       "      <td>134.0</td>\n",
       "      <td>3</td>\n",
       "      <td>aumentaram  ou mantiveram contato nos 6m</td>\n",
       "    </tr>\n",
       "    <tr>\n",
       "      <th>1</th>\n",
       "      <td>39318402805</td>\n",
       "      <td>0</td>\n",
       "      <td>0</td>\n",
       "      <td>NaT</td>\n",
       "      <td>1640.0</td>\n",
       "      <td>0</td>\n",
       "      <td>sem contato 12m</td>\n",
       "    </tr>\n",
       "    <tr>\n",
       "      <th>2</th>\n",
       "      <td>07471326409</td>\n",
       "      <td>1</td>\n",
       "      <td>1</td>\n",
       "      <td>2023-03-13</td>\n",
       "      <td>157.0</td>\n",
       "      <td>3</td>\n",
       "      <td>aumentaram  ou mantiveram contato nos 6m</td>\n",
       "    </tr>\n",
       "    <tr>\n",
       "      <th>3</th>\n",
       "      <td>16287704659</td>\n",
       "      <td>3</td>\n",
       "      <td>0</td>\n",
       "      <td>2022-12-28</td>\n",
       "      <td>232.0</td>\n",
       "      <td>3</td>\n",
       "      <td>diminuiram contato nos 6m</td>\n",
       "    </tr>\n",
       "    <tr>\n",
       "      <th>4</th>\n",
       "      <td>86451091588</td>\n",
       "      <td>0</td>\n",
       "      <td>0</td>\n",
       "      <td>NaT</td>\n",
       "      <td>1640.0</td>\n",
       "      <td>0</td>\n",
       "      <td>sem contato 12m</td>\n",
       "    </tr>\n",
       "  </tbody>\n",
       "</table>\n",
       "</div>"
      ],
      "text/plain": [
       "        cd_cpf  contatos_12m  contatos_6m recencia_contato  \\\n",
       "0  05312049360             1            1       2023-04-05   \n",
       "1  39318402805             0            0              NaT   \n",
       "2  07471326409             1            1       2023-03-13   \n",
       "3  16287704659             3            0       2022-12-28   \n",
       "4  86451091588             0            0              NaT   \n",
       "\n",
       "   recencia_dias_contato  cluster                     desaceleracao_contato  \n",
       "0                  134.0        3  aumentaram  ou mantiveram contato nos 6m  \n",
       "1                 1640.0        0                           sem contato 12m  \n",
       "2                  157.0        3  aumentaram  ou mantiveram contato nos 6m  \n",
       "3                  232.0        3                 diminuiram contato nos 6m  \n",
       "4                 1640.0        0                           sem contato 12m  "
      ]
     },
     "execution_count": 77,
     "metadata": {},
     "output_type": "execute_result"
    }
   ],
   "source": [
    "base['desaceleracao_contato'] = np.where(base['contatos_12m'] == 0, 'sem contato 12m',\n",
    "                                np.where((base['contatos_6m'] == 0) & (base['contatos_12m'] > 0), 'diminuiram contato nos 6m',\n",
    "                                np.where(base['contatos_6m'] >= (base['contatos_12m']-base['contatos_6m']), 'aumentaram  ou mantiveram contato nos 6m',\n",
    "                                np.where(base['contatos_6m'] < (base['contatos_12m']-base['contatos_6m']), 'diminuiram contato nos 6m',\n",
    "                                'ni'))))\n",
    "\n",
    "base.head()"
   ]
  },
  {
   "cell_type": "code",
   "execution_count": 78,
   "id": "740166b0",
   "metadata": {},
   "outputs": [
    {
     "data": {
      "image/png": "[encoded data removed]",
      "text/plain": [
       "<Figure size 720x576 with 1 Axes>"
      ]
     },
     "metadata": {
      "needs_background": "light"
     },
     "output_type": "display_data"
    }
   ],
   "source": [
    "plt.figure(figsize = (10,8))\n",
    "sns.histplot(data = base, x = 'desaceleracao_contato')\n",
    "plt.show()"
   ]
  },
  {
   "cell_type": "code",
   "execution_count": 81,
   "id": "e6b8b8a3",
   "metadata": {},
   "outputs": [
    {
     "data": {
      "text/plain": [
       "sem contato 12m                             0.598420\n",
       "aumentaram  ou mantiveram contato nos 6m    0.230672\n",
       "diminuiram contato nos 6m                   0.170908\n",
       "Name: desaceleracao_contato, dtype: float64"
      ]
     },
     "execution_count": 81,
     "metadata": {},
     "output_type": "execute_result"
    }
   ],
   "source": [
    "base['desaceleracao_contato'].value_counts(normalize = True)"
   ]
  },
  {
   "cell_type": "code",
   "execution_count": 80,
   "id": "969a0881",
   "metadata": {},
   "outputs": [
    {
     "data": {
      "text/plain": [
       "contatos_12m  contatos_6m\n",
       "0             0              290649\n",
       "1             1               38955\n",
       "              0               33540\n",
       "2             2               15780\n",
       "              0               13778\n",
       "              1                8905\n",
       "3             3                7798\n",
       "              0                6814\n",
       "0             1                6353\n",
       "3             1                4442\n",
       "Name: cd_cpf, dtype: int64"
      ]
     },
     "execution_count": 80,
     "metadata": {},
     "output_type": "execute_result"
    }
   ],
   "source": [
    "base[['contatos_12m','contatos_6m', 'cd_cpf']].groupby(['contatos_12m','contatos_6m']).count()['cd_cpf'].nlargest(10)"
   ]
  },
  {
   "cell_type": "code",
   "execution_count": 82,
   "id": "cecc4e89",
   "metadata": {},
   "outputs": [],
   "source": [
    "#p50, p75 e p95 - eixo de frequencia baseado nos 6 meses"
   ]
  },
  {
   "cell_type": "code",
   "execution_count": 96,
   "id": "5067b2a8",
   "metadata": {},
   "outputs": [],
   "source": [
    "base['segmentacao_contatos'] = np.where(base['contatos_6m'] == 0, 'A - Sem contato 6m',\n",
    "                            np.where(base['contatos_6m'] == 1, 'B - Apenas um contato 6m',\n",
    "                            np.where(base['contatos_6m'] == 2, 'C - Dois contatos 6m',\n",
    "                            np.where((base['contatos_6m'] == 3) | (base['contatos_6m'] == 4), 'D - Tres a quatro contatos 6m',\n",
    "                            np.where(base['contatos_6m'] > 4, 'E - Cinco ou mais contatos 6m', 'NI')))))"
   ]
  },
  {
   "cell_type": "code",
   "execution_count": 97,
   "id": "73818990",
   "metadata": {},
   "outputs": [
    {
     "data": {
      "text/plain": [
       "A - Sem contato 6m               0.709316\n",
       "B - Apenas um contato 6m         0.132322\n",
       "C - Dois contatos 6m             0.061086\n",
       "D - Tres a quatro contatos 6m    0.053428\n",
       "E - Cinco ou mais contatos 6m    0.043848\n",
       "Name: segmentacao_contatos, dtype: float64"
      ]
     },
     "execution_count": 97,
     "metadata": {},
     "output_type": "execute_result"
    }
   ],
   "source": [
    "base['segmentacao_contatos'].value_counts(normalize = True)"
   ]
  },
  {
   "cell_type": "code",
   "execution_count": 98,
   "id": "f9d8e027",
   "metadata": {},
   "outputs": [],
   "source": [
    "base = base.rename(columns={'contatos_12m' : 'nr_contatos_cx_12m', 'contatos_6m' : 'nr_contatos_cx_6m', 'recencia_dias_contato' : 'nr_dias_ultimo_contato', 'desaceleracao_contato' : 'ds_classif_desaceleracao_contato', 'segmentacao_contatos' : 'ds_classif_cx_contatos'})"
   ]
  },
  {
   "cell_type": "code",
   "execution_count": 99,
   "id": "ac2a71e5",
   "metadata": {},
   "outputs": [
    {
     "data": {
      "text/html": [
       "<div>\n",
       "<style scoped>\n",
       "    .dataframe tbody tr th:only-of-type {\n",
       "        vertical-align: middle;\n",
       "    }\n",
       "\n",
       "    .dataframe tbody tr th {\n",
       "        vertical-align: top;\n",
       "    }\n",
       "\n",
       "    .dataframe thead th {\n",
       "        text-align: right;\n",
       "    }\n",
       "</style>\n",
       "<table border=\"1\" class=\"dataframe\">\n",
       "  <thead>\n",
       "    <tr style=\"text-align: right;\">\n",
       "      <th></th>\n",
       "      <th>cd_cpf</th>\n",
       "      <th>nr_contatos_cx_12m</th>\n",
       "      <th>nr_contatos_cx_6m</th>\n",
       "      <th>recencia_contato</th>\n",
       "      <th>nr_dias_ultimo_contato</th>\n",
       "      <th>cluster</th>\n",
       "      <th>ds_classif_desaceleracao_contato</th>\n",
       "      <th>ds_classif_cx_contatos</th>\n",
       "    </tr>\n",
       "  </thead>\n",
       "  <tbody>\n",
       "    <tr>\n",
       "      <th>0</th>\n",
       "      <td>05312049360</td>\n",
       "      <td>1</td>\n",
       "      <td>1</td>\n",
       "      <td>2023-04-05</td>\n",
       "      <td>134.0</td>\n",
       "      <td>3</td>\n",
       "      <td>aumentaram  ou mantiveram contato nos 6m</td>\n",
       "      <td>B - Apenas um contato 6m</td>\n",
       "    </tr>\n",
       "    <tr>\n",
       "      <th>1</th>\n",
       "      <td>39318402805</td>\n",
       "      <td>0</td>\n",
       "      <td>0</td>\n",
       "      <td>NaT</td>\n",
       "      <td>1640.0</td>\n",
       "      <td>0</td>\n",
       "      <td>sem contato 12m</td>\n",
       "      <td>A - Sem contato 6m</td>\n",
       "    </tr>\n",
       "    <tr>\n",
       "      <th>2</th>\n",
       "      <td>07471326409</td>\n",
       "      <td>1</td>\n",
       "      <td>1</td>\n",
       "      <td>2023-03-13</td>\n",
       "      <td>157.0</td>\n",
       "      <td>3</td>\n",
       "      <td>aumentaram  ou mantiveram contato nos 6m</td>\n",
       "      <td>B - Apenas um contato 6m</td>\n",
       "    </tr>\n",
       "    <tr>\n",
       "      <th>3</th>\n",
       "      <td>16287704659</td>\n",
       "      <td>3</td>\n",
       "      <td>0</td>\n",
       "      <td>2022-12-28</td>\n",
       "      <td>232.0</td>\n",
       "      <td>3</td>\n",
       "      <td>diminuiram contato nos 6m</td>\n",
       "      <td>A - Sem contato 6m</td>\n",
       "    </tr>\n",
       "    <tr>\n",
       "      <th>4</th>\n",
       "      <td>86451091588</td>\n",
       "      <td>0</td>\n",
       "      <td>0</td>\n",
       "      <td>NaT</td>\n",
       "      <td>1640.0</td>\n",
       "      <td>0</td>\n",
       "      <td>sem contato 12m</td>\n",
       "      <td>A - Sem contato 6m</td>\n",
       "    </tr>\n",
       "  </tbody>\n",
       "</table>\n",
       "</div>"
      ],
      "text/plain": [
       "        cd_cpf  nr_contatos_cx_12m  nr_contatos_cx_6m recencia_contato  \\\n",
       "0  05312049360                   1                  1       2023-04-05   \n",
       "1  39318402805                   0                  0              NaT   \n",
       "2  07471326409                   1                  1       2023-03-13   \n",
       "3  16287704659                   3                  0       2022-12-28   \n",
       "4  86451091588                   0                  0              NaT   \n",
       "\n",
       "   nr_dias_ultimo_contato  cluster          ds_classif_desaceleracao_contato  \\\n",
       "0                   134.0        3  aumentaram  ou mantiveram contato nos 6m   \n",
       "1                  1640.0        0                           sem contato 12m   \n",
       "2                   157.0        3  aumentaram  ou mantiveram contato nos 6m   \n",
       "3                   232.0        3                 diminuiram contato nos 6m   \n",
       "4                  1640.0        0                           sem contato 12m   \n",
       "\n",
       "     ds_classif_cx_contatos  \n",
       "0  B - Apenas um contato 6m  \n",
       "1        A - Sem contato 6m  \n",
       "2  B - Apenas um contato 6m  \n",
       "3        A - Sem contato 6m  \n",
       "4        A - Sem contato 6m  "
      ]
     },
     "execution_count": 99,
     "metadata": {},
     "output_type": "execute_result"
    }
   ],
   "source": [
    "base.head()"
   ]
  }
 ],
 "metadata": {
  "kernelspec": {
   "display_name": "Python 3",
   "language": "python",
   "name": "python3"
  },
  "language_info": {
   "codemirror_mode": {
    "name": "ipython",
    "version": 3
   },
   "file_extension": ".py",
   "mimetype": "text/x-python",
   "name": "python",
   "nbconvert_exporter": "python",
   "pygments_lexer": "ipython3",
   "version": "3.8.10"
  }
 },
 "nbformat": 4,
 "nbformat_minor": 5
}
