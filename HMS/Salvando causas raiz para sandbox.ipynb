{
 "cells": [
  {
   "cell_type": "code",
   "execution_count": 1,
   "metadata": {},
   "outputs": [],
   "source": [
    "import pandas as pd\n",
    "import os\n"
   ]
  },
  {
   "cell_type": "code",
   "execution_count": 5,
   "metadata": {},
   "outputs": [],
   "source": [
    "df = pd.read_csv('deparacausas.csv')"
   ]
  },
  {
   "cell_type": "code",
   "execution_count": 6,
   "metadata": {},
   "outputs": [
    {
     "data": {
      "text/html": [
       "<div>\n",
       "<style scoped>\n",
       "    .dataframe tbody tr th:only-of-type {\n",
       "        vertical-align: middle;\n",
       "    }\n",
       "\n",
       "    .dataframe tbody tr th {\n",
       "        vertical-align: top;\n",
       "    }\n",
       "\n",
       "    .dataframe thead th {\n",
       "        text-align: right;\n",
       "    }\n",
       "</style>\n",
       "<table border=\"1\" class=\"dataframe\">\n",
       "  <thead>\n",
       "    <tr style=\"text-align: right;\">\n",
       "      <th></th>\n",
       "      <th>nm_causa_raiz</th>\n",
       "      <th>nm_subcausa_raiz</th>\n",
       "      <th>jornada_hms</th>\n",
       "    </tr>\n",
       "  </thead>\n",
       "  <tbody>\n",
       "    <tr>\n",
       "      <th>0</th>\n",
       "      <td>Fraude Transacional</td>\n",
       "      <td>Sem indícios de fraude</td>\n",
       "      <td>Fraude</td>\n",
       "    </tr>\n",
       "    <tr>\n",
       "      <th>1</th>\n",
       "      <td>Operação Falsa</td>\n",
       "      <td>Fraudador é cliente</td>\n",
       "      <td>Fraude</td>\n",
       "    </tr>\n",
       "    <tr>\n",
       "      <th>2</th>\n",
       "      <td>Apontamento Scr</td>\n",
       "      <td>Indevido</td>\n",
       "      <td>Cobrança</td>\n",
       "    </tr>\n",
       "    <tr>\n",
       "      <th>3</th>\n",
       "      <td>Dificuldade do Usuário</td>\n",
       "      <td>Proposta do cartão</td>\n",
       "      <td>Cartão - Outros</td>\n",
       "    </tr>\n",
       "    <tr>\n",
       "      <th>4</th>\n",
       "      <td>Conta Bloqueada</td>\n",
       "      <td>Senha Inválida</td>\n",
       "      <td>Tecnologia</td>\n",
       "    </tr>\n",
       "  </tbody>\n",
       "</table>\n",
       "</div>"
      ],
      "text/plain": [
       "            nm_causa_raiz        nm_subcausa_raiz      jornada_hms\n",
       "0     Fraude Transacional  Sem indícios de fraude           Fraude\n",
       "1          Operação Falsa     Fraudador é cliente           Fraude\n",
       "2         Apontamento Scr                Indevido         Cobrança\n",
       "3  Dificuldade do Usuário      Proposta do cartão  Cartão - Outros\n",
       "4         Conta Bloqueada          Senha Inválida       Tecnologia"
      ]
     },
     "execution_count": 6,
     "metadata": {},
     "output_type": "execute_result"
    }
   ],
   "source": [
    "df.head()"
   ]
  },
  {
   "cell_type": "code",
   "execution_count": 7,
   "metadata": {},
   "outputs": [
    {
     "data": {
      "text/html": [
       "<div>\n",
       "<style scoped>\n",
       "    .dataframe tbody tr th:only-of-type {\n",
       "        vertical-align: middle;\n",
       "    }\n",
       "\n",
       "    .dataframe tbody tr th {\n",
       "        vertical-align: top;\n",
       "    }\n",
       "\n",
       "    .dataframe thead th {\n",
       "        text-align: right;\n",
       "    }\n",
       "</style>\n",
       "<table border=\"1\" class=\"dataframe\">\n",
       "  <thead>\n",
       "    <tr style=\"text-align: right;\">\n",
       "      <th></th>\n",
       "      <th>nm_causa_raiz</th>\n",
       "      <th>nm_subcausa_raiz</th>\n",
       "      <th>jornada_hms</th>\n",
       "    </tr>\n",
       "  </thead>\n",
       "  <tbody>\n",
       "    <tr>\n",
       "      <th>106</th>\n",
       "      <td>Falha no Processamento</td>\n",
       "      <td>Valor de compra incorreto</td>\n",
       "      <td>Cartão - Outros</td>\n",
       "    </tr>\n",
       "    <tr>\n",
       "      <th>107</th>\n",
       "      <td>Extravio do Cartão</td>\n",
       "      <td>Fraude confirmada</td>\n",
       "      <td>Fraude</td>\n",
       "    </tr>\n",
       "    <tr>\n",
       "      <th>108</th>\n",
       "      <td>Movimentação Não Autorizada</td>\n",
       "      <td>Titulo - CPF com bloqueio na lista negra</td>\n",
       "      <td>Fraude</td>\n",
       "    </tr>\n",
       "    <tr>\n",
       "      <th>109</th>\n",
       "      <td>Falha no Processamento</td>\n",
       "      <td>Ted - Estorno Não Gerado</td>\n",
       "      <td>Conta - Outros</td>\n",
       "    </tr>\n",
       "    <tr>\n",
       "      <th>110</th>\n",
       "      <td>Movimentação Não Autorizada</td>\n",
       "      <td>Compra - Erro de leitura do CVV</td>\n",
       "      <td>Cartão - Outros</td>\n",
       "    </tr>\n",
       "  </tbody>\n",
       "</table>\n",
       "</div>"
      ],
      "text/plain": [
       "                   nm_causa_raiz                          nm_subcausa_raiz  \\\n",
       "106       Falha no Processamento                 Valor de compra incorreto   \n",
       "107           Extravio do Cartão                         Fraude confirmada   \n",
       "108  Movimentação Não Autorizada  Titulo - CPF com bloqueio na lista negra   \n",
       "109       Falha no Processamento                  Ted - Estorno Não Gerado   \n",
       "110  Movimentação Não Autorizada           Compra - Erro de leitura do CVV   \n",
       "\n",
       "         jornada_hms  \n",
       "106  Cartão - Outros  \n",
       "107           Fraude  \n",
       "108           Fraude  \n",
       "109   Conta - Outros  \n",
       "110  Cartão - Outros  "
      ]
     },
     "execution_count": 7,
     "metadata": {},
     "output_type": "execute_result"
    }
   ],
   "source": [
    "df.tail()"
   ]
  },
  {
   "cell_type": "code",
   "execution_count": 10,
   "metadata": {},
   "outputs": [
    {
     "data": {
      "text/html": [
       "<div>\n",
       "<style scoped>\n",
       "    .dataframe tbody tr th:only-of-type {\n",
       "        vertical-align: middle;\n",
       "    }\n",
       "\n",
       "    .dataframe tbody tr th {\n",
       "        vertical-align: top;\n",
       "    }\n",
       "\n",
       "    .dataframe thead th {\n",
       "        text-align: right;\n",
       "    }\n",
       "</style>\n",
       "<table border=\"1\" class=\"dataframe\">\n",
       "  <thead>\n",
       "    <tr style=\"text-align: right;\">\n",
       "      <th></th>\n",
       "      <th>nm_causa_raiz</th>\n",
       "      <th>nm_subcausa_raiz</th>\n",
       "      <th>jornada_hms</th>\n",
       "      <th>jornada_hms_lower</th>\n",
       "    </tr>\n",
       "  </thead>\n",
       "  <tbody>\n",
       "    <tr>\n",
       "      <th>106</th>\n",
       "      <td>Falha no Processamento</td>\n",
       "      <td>Valor de compra incorreto</td>\n",
       "      <td>Cartão - Outros</td>\n",
       "      <td>cartão - outros</td>\n",
       "    </tr>\n",
       "    <tr>\n",
       "      <th>107</th>\n",
       "      <td>Extravio do Cartão</td>\n",
       "      <td>Fraude confirmada</td>\n",
       "      <td>Fraude</td>\n",
       "      <td>fraude</td>\n",
       "    </tr>\n",
       "    <tr>\n",
       "      <th>108</th>\n",
       "      <td>Movimentação Não Autorizada</td>\n",
       "      <td>Titulo - CPF com bloqueio na lista negra</td>\n",
       "      <td>Fraude</td>\n",
       "      <td>fraude</td>\n",
       "    </tr>\n",
       "    <tr>\n",
       "      <th>109</th>\n",
       "      <td>Falha no Processamento</td>\n",
       "      <td>Ted - Estorno Não Gerado</td>\n",
       "      <td>Conta - Outros</td>\n",
       "      <td>conta - outros</td>\n",
       "    </tr>\n",
       "    <tr>\n",
       "      <th>110</th>\n",
       "      <td>Movimentação Não Autorizada</td>\n",
       "      <td>Compra - Erro de leitura do CVV</td>\n",
       "      <td>Cartão - Outros</td>\n",
       "      <td>cartão - outros</td>\n",
       "    </tr>\n",
       "  </tbody>\n",
       "</table>\n",
       "</div>"
      ],
      "text/plain": [
       "                   nm_causa_raiz                          nm_subcausa_raiz  \\\n",
       "106       Falha no Processamento                 Valor de compra incorreto   \n",
       "107           Extravio do Cartão                         Fraude confirmada   \n",
       "108  Movimentação Não Autorizada  Titulo - CPF com bloqueio na lista negra   \n",
       "109       Falha no Processamento                  Ted - Estorno Não Gerado   \n",
       "110  Movimentação Não Autorizada           Compra - Erro de leitura do CVV   \n",
       "\n",
       "         jornada_hms jornada_hms_lower  \n",
       "106  Cartão - Outros   cartão - outros  \n",
       "107           Fraude            fraude  \n",
       "108           Fraude            fraude  \n",
       "109   Conta - Outros    conta - outros  \n",
       "110  Cartão - Outros   cartão - outros  "
      ]
     },
     "execution_count": 10,
     "metadata": {},
     "output_type": "execute_result"
    }
   ],
   "source": [
    "df.tail()"
   ]
  },
  {
   "cell_type": "code",
   "execution_count": 8,
   "metadata": {},
   "outputs": [
    {
     "name": "stdout",
     "output_type": "stream",
     "text": [
      "upload: ./cx.causas_raiz.csv to s3://data-sandbox-zone-will-prod/upload/cx.causas_raiz.csv\n"
     ]
    },
    {
     "data": {
      "text/plain": [
       "0"
      ]
     },
     "execution_count": 8,
     "metadata": {},
     "output_type": "execute_result"
    }
   ],
   "source": [
    "area = 'cx'\n",
    "name = 'causas_raiz.csv'\n",
    "filename = f'{area}.{name}'\n",
    "\n",
    "df.to_csv(filename, index=False)\n",
    "\n",
    "os.system(f'aws s3 cp {filename} s3://data-sandbox-zone-will-prod/upload/')"
   ]
  }
 ],
 "metadata": {
  "kernelspec": {
   "display_name": "Python 3",
   "language": "python",
   "name": "python3"
  },
  "language_info": {
   "codemirror_mode": {
    "name": "ipython",
    "version": 3
   },
   "file_extension": ".py",
   "mimetype": "text/x-python",
   "name": "python",
   "nbconvert_exporter": "python",
   "pygments_lexer": "ipython3",
   "version": "3.8.10"
  }
 },
 "nbformat": 4,
 "nbformat_minor": 2
}
