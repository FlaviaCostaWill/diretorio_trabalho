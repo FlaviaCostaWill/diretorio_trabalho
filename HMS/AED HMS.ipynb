{
 "cells": [
  {
   "cell_type": "code",
   "execution_count": 1,
   "metadata": {},
   "outputs": [],
   "source": [
    "import pandas as pd\n",
    "import numpy as np\n",
    "import acessos as ac"
   ]
  },
  {
   "cell_type": "code",
   "execution_count": 2,
   "metadata": {},
   "outputs": [
    {
     "ename": "",
     "evalue": "",
     "output_type": "error",
     "traceback": [
      "\u001b[1;31mO Kernel falhou ao executar o código na célula atual ou em uma célula anterior. Examine o código nas células para identificar uma possível causa da falha. Clique <a href=\"https://aka.ms/vscodeJupyterKernelCrash\">aqui</a> para obter mais informações. Consulte o <a href='command:jupyter.viewOutput'>log</a> do Jupyter para obter mais detalhes."
     ]
    }
   ],
   "source": [
    "query = \"\"\"\n",
    "\n",
    "select * from \n",
    "cx_curated_zone.hms\n",
    "where mes_referencia = '202309' \n",
    "\n",
    "\n",
    "\"\"\"\n",
    "\n",
    "df = ac.df_athena('flavia-costa', query)"
   ]
  },
  {
   "cell_type": "code",
   "execution_count": null,
   "metadata": {},
   "outputs": [
    {
     "data": {
      "text/plain": [
       "50000"
      ]
     },
     "execution_count": 3,
     "metadata": {},
     "output_type": "execute_result"
    }
   ],
   "source": [
    "len(df)"
   ]
  },
  {
   "cell_type": "code",
   "execution_count": 10,
   "metadata": {},
   "outputs": [],
   "source": [
    "lista_vars = ['engajamento',         \n",
    "'satisfacao',          \n",
    "'suporte',             \n",
    "'incidente',           \n",
    "'hms',                 \n",
    "'produto_credito_cobranca',\n",
    "'produto_cartao',      \n",
    "'produto_conta',       \n",
    "'produto_credito_pessoal',\n",
    "'produto_geral',       \n",
    "'produto_marketing',   \n",
    "'produto_tecnologia',  \n",
    "'produto_marketplace', \n",
    "'jornada_cartao_fatura',\n",
    "'jornada_geral_fraude',\n",
    "'jornada_cartao_nrc',  \n",
    "'jornada_conta_pix',   \n",
    "'jornada_cartao_logistica',\n",
    "'jornada_credito_cobranca_limite',\n",
    "'jornada_credito_cobranca_outros',\n",
    "'jornada_cartao_outros',\n",
    "'jornada_conta_outros',\n",
    "'jornada_geral']"
   ]
  },
  {
   "cell_type": "code",
   "execution_count": null,
   "metadata": {},
   "outputs": [],
   "source": [
    "import matplotlib.pyplot as plt\n",
    "import seaborn as sns"
   ]
  },
  {
   "cell_type": "code",
   "execution_count": 4,
   "metadata": {},
   "outputs": [
    {
     "data": {
      "text/html": [
       "<div>\n",
       "<style scoped>\n",
       "    .dataframe tbody tr th:only-of-type {\n",
       "        vertical-align: middle;\n",
       "    }\n",
       "\n",
       "    .dataframe tbody tr th {\n",
       "        vertical-align: top;\n",
       "    }\n",
       "\n",
       "    .dataframe thead th {\n",
       "        text-align: right;\n",
       "    }\n",
       "</style>\n",
       "<table border=\"1\" class=\"dataframe\">\n",
       "  <thead>\n",
       "    <tr style=\"text-align: right;\">\n",
       "      <th></th>\n",
       "      <th>LTV</th>\n",
       "    </tr>\n",
       "  </thead>\n",
       "  <tbody>\n",
       "    <tr>\n",
       "      <th>0</th>\n",
       "      <td>5.985536</td>\n",
       "    </tr>\n",
       "    <tr>\n",
       "      <th>1</th>\n",
       "      <td>2.000000</td>\n",
       "    </tr>\n",
       "    <tr>\n",
       "      <th>2</th>\n",
       "      <td>-6.959775</td>\n",
       "    </tr>\n",
       "    <tr>\n",
       "      <th>3</th>\n",
       "      <td>-2.807184</td>\n",
       "    </tr>\n",
       "    <tr>\n",
       "      <th>4</th>\n",
       "      <td>-7.231279</td>\n",
       "    </tr>\n",
       "  </tbody>\n",
       "</table>\n",
       "</div>"
      ],
      "text/plain": [
       "        LTV\n",
       "0  5.985536\n",
       "1  2.000000\n",
       "2 -6.959775\n",
       "3 -2.807184\n",
       "4 -7.231279"
      ]
     },
     "execution_count": 4,
     "metadata": {},
     "output_type": "execute_result"
    }
   ],
   "source": [
    "for i in lista_vars:\n",
    "    plt.figure(figsize=(10,10))\n",
    "    sns.histplot(data = df, x = i, color = \"yellow\") "
   ]
  },
  {
   "cell_type": "code",
   "execution_count": null,
   "metadata": {},
   "outputs": [],
   "source": [
    "for i in lista_vars:\n",
    "    print(f'media de {i}')\n",
    "    print(df[i].mean())\n",
    "    print('-----------------------')\n",
    "    print(f'mediana de {i}')\n",
    "    print(df[i].median())"
   ]
  },
  {
   "cell_type": "code",
   "execution_count": 24,
   "metadata": {},
   "outputs": [],
   "source": [
    "df['Classe_LTV'] = np.where("
   ]
  },
  {
   "cell_type": "code",
   "execution_count": 25,
   "metadata": {},
   "outputs": [
    {
     "data": {
      "text/plain": [
       "1. Rentabilidade Negativa          0.36032\n",
       "2. Rentabilidade Zero              0.25134\n",
       "4. Muito Rentável                  0.20220\n",
       "3. Rentável                        0.09980\n",
       "5. Altamente Rentável              0.04780\n",
       "0. Rentabilidade Muito Negativa    0.03854\n",
       "Name: Classe_LTV, dtype: float64"
      ]
     },
     "execution_count": 25,
     "metadata": {},
     "output_type": "execute_result"
    }
   ],
   "source": [
    "df['Classe_LTV'].value_counts(normalize=True)"
   ]
  },
  {
   "cell_type": "markdown",
   "metadata": {},
   "source": [
    "Se um cliente for das classes 0, 1 e 2 mas tiver até um ano de casa ou 6 meses ele ainda não atingiu o break even"
   ]
  }
 ],
 "metadata": {
  "kernelspec": {
   "display_name": "Python 3",
   "language": "python",
   "name": "python3"
  },
  "language_info": {
   "codemirror_mode": {
    "name": "ipython",
    "version": 3
   },
   "file_extension": ".py",
   "mimetype": "text/x-python",
   "name": "python",
   "nbconvert_exporter": "python",
   "pygments_lexer": "ipython3",
   "version": "3.8.10"
  },
  "orig_nbformat": 4
 },
 "nbformat": 4,
 "nbformat_minor": 2
}
