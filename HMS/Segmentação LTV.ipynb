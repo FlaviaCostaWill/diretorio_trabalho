{
 "cells": [
  {
   "cell_type": "code",
   "execution_count": 1,
   "metadata": {},
   "outputs": [],
   "source": [
    "import pandas as pd\n",
    "import numpy as np\n",
    "import acessos as ac"
   ]
  },
  {
   "cell_type": "code",
   "execution_count": 2,
   "metadata": {},
   "outputs": [],
   "source": [
    "query = \"\"\"\n",
    "\n",
    "select LTV \n",
    "from public.rentabilidade_cartoes_diego_camilo \n",
    "where mesref = '2023-08'\n",
    "ORDER BY RAND()\n",
    "LIMIT 50000\n",
    "\n",
    "\n",
    "\"\"\"\n",
    "\n",
    "df = ac.df_athena('flavia-costa', query)"
   ]
  },
  {
   "cell_type": "code",
   "execution_count": 3,
   "metadata": {},
   "outputs": [
    {
     "data": {
      "text/plain": [
       "50000"
      ]
     },
     "execution_count": 3,
     "metadata": {},
     "output_type": "execute_result"
    }
   ],
   "source": [
    "len(df)"
   ]
  },
  {
   "cell_type": "code",
   "execution_count": 10,
   "metadata": {},
   "outputs": [],
   "source": [
    "stats = df.describe()     \n",
    "p75 = stats.iloc[6]['LTV']\n",
    "p25 = stats.iloc[4]['LTV']\n",
    "iqr = p75 - p25\n",
    "higher_outlier = p75 + (1.5 * iqr)\n",
    "lower_outlier = p25 - (1.5 * iqr)\n",
    "sem_outlier = df[df['LTV'] < higher_outlier]\n",
    "sem_outlier = sem_outlier[sem_outlier['LTV'] > lower_outlier]"
   ]
  },
  {
   "cell_type": "code",
   "execution_count": 4,
   "metadata": {},
   "outputs": [
    {
     "data": {
      "text/html": [
       "<div>\n",
       "<style scoped>\n",
       "    .dataframe tbody tr th:only-of-type {\n",
       "        vertical-align: middle;\n",
       "    }\n",
       "\n",
       "    .dataframe tbody tr th {\n",
       "        vertical-align: top;\n",
       "    }\n",
       "\n",
       "    .dataframe thead th {\n",
       "        text-align: right;\n",
       "    }\n",
       "</style>\n",
       "<table border=\"1\" class=\"dataframe\">\n",
       "  <thead>\n",
       "    <tr style=\"text-align: right;\">\n",
       "      <th></th>\n",
       "      <th>LTV</th>\n",
       "    </tr>\n",
       "  </thead>\n",
       "  <tbody>\n",
       "    <tr>\n",
       "      <th>0</th>\n",
       "      <td>5.985536</td>\n",
       "    </tr>\n",
       "    <tr>\n",
       "      <th>1</th>\n",
       "      <td>2.000000</td>\n",
       "    </tr>\n",
       "    <tr>\n",
       "      <th>2</th>\n",
       "      <td>-6.959775</td>\n",
       "    </tr>\n",
       "    <tr>\n",
       "      <th>3</th>\n",
       "      <td>-2.807184</td>\n",
       "    </tr>\n",
       "    <tr>\n",
       "      <th>4</th>\n",
       "      <td>-7.231279</td>\n",
       "    </tr>\n",
       "  </tbody>\n",
       "</table>\n",
       "</div>"
      ],
      "text/plain": [
       "        LTV\n",
       "0  5.985536\n",
       "1  2.000000\n",
       "2 -6.959775\n",
       "3 -2.807184\n",
       "4 -7.231279"
      ]
     },
     "execution_count": 4,
     "metadata": {},
     "output_type": "execute_result"
    }
   ],
   "source": [
    "df.head()"
   ]
  },
  {
   "cell_type": "code",
   "execution_count": 9,
   "metadata": {},
   "outputs": [
    {
     "data": {
      "text/html": [
       "<div>\n",
       "<style scoped>\n",
       "    .dataframe tbody tr th:only-of-type {\n",
       "        vertical-align: middle;\n",
       "    }\n",
       "\n",
       "    .dataframe tbody tr th {\n",
       "        vertical-align: top;\n",
       "    }\n",
       "\n",
       "    .dataframe thead th {\n",
       "        text-align: right;\n",
       "    }\n",
       "</style>\n",
       "<table border=\"1\" class=\"dataframe\">\n",
       "  <thead>\n",
       "    <tr style=\"text-align: right;\">\n",
       "      <th></th>\n",
       "      <th>LTV</th>\n",
       "    </tr>\n",
       "  </thead>\n",
       "  <tbody>\n",
       "    <tr>\n",
       "      <th>count</th>\n",
       "      <td>50000.000000</td>\n",
       "    </tr>\n",
       "    <tr>\n",
       "      <th>mean</th>\n",
       "      <td>-4.681833</td>\n",
       "    </tr>\n",
       "    <tr>\n",
       "      <th>std</th>\n",
       "      <td>284.056822</td>\n",
       "    </tr>\n",
       "    <tr>\n",
       "      <th>min</th>\n",
       "      <td>-30211.757159</td>\n",
       "    </tr>\n",
       "    <tr>\n",
       "      <th>25%</th>\n",
       "      <td>-3.634596</td>\n",
       "    </tr>\n",
       "    <tr>\n",
       "      <th>50%</th>\n",
       "      <td>0.000000</td>\n",
       "    </tr>\n",
       "    <tr>\n",
       "      <th>75%</th>\n",
       "      <td>3.056444</td>\n",
       "    </tr>\n",
       "    <tr>\n",
       "      <th>max</th>\n",
       "      <td>12569.818814</td>\n",
       "    </tr>\n",
       "  </tbody>\n",
       "</table>\n",
       "</div>"
      ],
      "text/plain": [
       "                LTV\n",
       "count  50000.000000\n",
       "mean      -4.681833\n",
       "std      284.056822\n",
       "min   -30211.757159\n",
       "25%       -3.634596\n",
       "50%        0.000000\n",
       "75%        3.056444\n",
       "max    12569.818814"
      ]
     },
     "execution_count": 9,
     "metadata": {},
     "output_type": "execute_result"
    }
   ],
   "source": [
    "stats"
   ]
  },
  {
   "cell_type": "code",
   "execution_count": 11,
   "metadata": {},
   "outputs": [
    {
     "data": {
      "text/html": [
       "<div>\n",
       "<style scoped>\n",
       "    .dataframe tbody tr th:only-of-type {\n",
       "        vertical-align: middle;\n",
       "    }\n",
       "\n",
       "    .dataframe tbody tr th {\n",
       "        vertical-align: top;\n",
       "    }\n",
       "\n",
       "    .dataframe thead th {\n",
       "        text-align: right;\n",
       "    }\n",
       "</style>\n",
       "<table border=\"1\" class=\"dataframe\">\n",
       "  <thead>\n",
       "    <tr style=\"text-align: right;\">\n",
       "      <th></th>\n",
       "      <th>LTV</th>\n",
       "    </tr>\n",
       "  </thead>\n",
       "  <tbody>\n",
       "    <tr>\n",
       "      <th>count</th>\n",
       "      <td>37598.000000</td>\n",
       "    </tr>\n",
       "    <tr>\n",
       "      <th>mean</th>\n",
       "      <td>-0.550621</td>\n",
       "    </tr>\n",
       "    <tr>\n",
       "      <th>std</th>\n",
       "      <td>4.452110</td>\n",
       "    </tr>\n",
       "    <tr>\n",
       "      <th>min</th>\n",
       "      <td>-13.668494</td>\n",
       "    </tr>\n",
       "    <tr>\n",
       "      <th>25%</th>\n",
       "      <td>-2.691632</td>\n",
       "    </tr>\n",
       "    <tr>\n",
       "      <th>50%</th>\n",
       "      <td>0.000000</td>\n",
       "    </tr>\n",
       "    <tr>\n",
       "      <th>75%</th>\n",
       "      <td>0.533952</td>\n",
       "    </tr>\n",
       "    <tr>\n",
       "      <th>max</th>\n",
       "      <td>13.087760</td>\n",
       "    </tr>\n",
       "  </tbody>\n",
       "</table>\n",
       "</div>"
      ],
      "text/plain": [
       "                LTV\n",
       "count  37598.000000\n",
       "mean      -0.550621\n",
       "std        4.452110\n",
       "min      -13.668494\n",
       "25%       -2.691632\n",
       "50%        0.000000\n",
       "75%        0.533952\n",
       "max       13.087760"
      ]
     },
     "execution_count": 11,
     "metadata": {},
     "output_type": "execute_result"
    }
   ],
   "source": [
    "sem_outlier.describe()"
   ]
  },
  {
   "cell_type": "code",
   "execution_count": 12,
   "metadata": {},
   "outputs": [
    {
     "data": {
      "image/png": "[encoded data removed]",
      "text/plain": [
       "<Figure size 720x720 with 1 Axes>"
      ]
     },
     "metadata": {
      "needs_background": "light"
     },
     "output_type": "display_data"
    }
   ],
   "source": [
    "import seaborn as sns\n",
    "import matplotlib.pyplot as plt\n",
    "\n",
    "plt.figure(figsize = (10,10))\n",
    "sns.histplot(sem_outlier.LTV)\n",
    "plt.show()"
   ]
  },
  {
   "cell_type": "code",
   "execution_count": 13,
   "metadata": {},
   "outputs": [
    {
     "data": {
      "image/png": "[encoded data removed]",
      "text/plain": [
       "<Figure size 720x720 with 1 Axes>"
      ]
     },
     "metadata": {
      "needs_background": "light"
     },
     "output_type": "display_data"
    }
   ],
   "source": [
    "plt.figure(figsize = (10,10))\n",
    "sns.histplot(sem_outlier.query('LTV != 0').LTV)\n",
    "plt.show()"
   ]
  },
  {
   "cell_type": "code",
   "execution_count": 15,
   "metadata": {},
   "outputs": [],
   "source": [
    "df['Classe_LTV'] = np.where(df.LTV > df.LTV.quantile(0.75) + (1.5 * (df.LTV.quantile(0.75) - df.LTV.quantile(0.25))), 'Outlier Superior',\n",
    "                   np.where(df.LTV < df.LTV.quantile(0.25) - (1.5 * (df.LTV.quantile(0.75) - df.LTV.quantile(0.25))), 'Outlier Inferior',         \n",
    "                   np.where(df.LTV < 0, 'Rentabilidade Negativa',          \n",
    "                   np.where(df.LTV == 0, 'Rentabilidade Zero',\n",
    "                   np.where(df.LTV > df.LTV.quantile(0.75), 'Altamente Rentável',\n",
    "                   np.where(df.LTV > 0, 'Rentável', 'NI'\n",
    "                            ))))))"
   ]
  },
  {
   "cell_type": "code",
   "execution_count": 17,
   "metadata": {},
   "outputs": [
    {
     "data": {
      "text/plain": [
       "Rentabilidade Negativa    0.29584\n",
       "Rentabilidade Zero        0.25134\n",
       "Outlier Superior          0.14502\n",
       "Altamente Rentável        0.10498\n",
       "Outlier Inferior          0.10302\n",
       "Rentável                  0.09980\n",
       "Name: Classe_LTV, dtype: float64"
      ]
     },
     "execution_count": 17,
     "metadata": {},
     "output_type": "execute_result"
    }
   ],
   "source": [
    "df['Classe_LTV'].value_counts(normalize=True)"
   ]
  },
  {
   "cell_type": "code",
   "execution_count": 18,
   "metadata": {},
   "outputs": [],
   "source": [
    "df['Classe_LTV'] = np.where(df.LTV > df.LTV.quantile(0.75) + (3 * (df.LTV.quantile(0.75) - df.LTV.quantile(0.25))), 'Outlier Superior',\n",
    "                   np.where(df.LTV < df.LTV.quantile(0.25) - (3 * (df.LTV.quantile(0.75) - df.LTV.quantile(0.25))), 'Outlier Inferior',         \n",
    "                   np.where(df.LTV < 0, 'Rentabilidade Negativa',          \n",
    "                   np.where(df.LTV == 0, 'Rentabilidade Zero',\n",
    "                   np.where(df.LTV > df.LTV.quantile(0.75), 'Altamente Rentável',\n",
    "                   np.where(df.LTV > 0, 'Rentável', 'NI'\n",
    "                            ))))))"
   ]
  },
  {
   "cell_type": "code",
   "execution_count": 19,
   "metadata": {},
   "outputs": [
    {
     "data": {
      "text/plain": [
       "Rentabilidade Negativa    0.33138\n",
       "Rentabilidade Zero        0.25134\n",
       "Altamente Rentável        0.14540\n",
       "Outlier Superior          0.10460\n",
       "Rentável                  0.09980\n",
       "Outlier Inferior          0.06748\n",
       "Name: Classe_LTV, dtype: float64"
      ]
     },
     "execution_count": 19,
     "metadata": {},
     "output_type": "execute_result"
    }
   ],
   "source": [
    "df['Classe_LTV'].value_counts(normalize=True)"
   ]
  },
  {
   "cell_type": "code",
   "execution_count": 20,
   "metadata": {},
   "outputs": [],
   "source": [
    "df['Classe_LTV'] = np.where(df.LTV > df.LTV.quantile(0.75) + (5 * (df.LTV.quantile(0.75) - df.LTV.quantile(0.25))), 'Outlier Superior',\n",
    "                   np.where(df.LTV < df.LTV.quantile(0.25) - (5 * (df.LTV.quantile(0.75) - df.LTV.quantile(0.25))), 'Outlier Inferior',         \n",
    "                   np.where(df.LTV < 0, 'Rentabilidade Negativa',          \n",
    "                   np.where(df.LTV == 0, 'Rentabilidade Zero',\n",
    "                   np.where(df.LTV > df.LTV.quantile(0.75), 'Altamente Rentável',\n",
    "                   np.where(df.LTV > 0, 'Rentável', 'NI'\n",
    "                            ))))))"
   ]
  },
  {
   "cell_type": "code",
   "execution_count": 21,
   "metadata": {},
   "outputs": [
    {
     "data": {
      "text/plain": [
       "Rentabilidade Negativa    0.34868\n",
       "Rentabilidade Zero        0.25134\n",
       "Altamente Rentável        0.17192\n",
       "Rentável                  0.09980\n",
       "Outlier Superior          0.07808\n",
       "Outlier Inferior          0.05018\n",
       "Name: Classe_LTV, dtype: float64"
      ]
     },
     "execution_count": 21,
     "metadata": {},
     "output_type": "execute_result"
    }
   ],
   "source": [
    "df['Classe_LTV'].value_counts(normalize=True)"
   ]
  },
  {
   "cell_type": "code",
   "execution_count": 24,
   "metadata": {},
   "outputs": [],
   "source": [
    "df['Classe_LTV'] = np.where(df.LTV > df.LTV.quantile(0.75) + (10 * (df.LTV.quantile(0.75) - df.LTV.quantile(0.25))), '5. Altamente Rentável',\n",
    "                   np.where(df.LTV < df.LTV.quantile(0.25) - (10 * (df.LTV.quantile(0.75) - df.LTV.quantile(0.25))), '0. Rentabilidade Muito Negativa',         \n",
    "                   np.where(df.LTV < 0, '1. Rentabilidade Negativa',          \n",
    "                   np.where(df.LTV == 0, '2. Rentabilidade Zero',\n",
    "                   np.where(df.LTV > df.LTV.quantile(0.75), '4. Muito Rentável',\n",
    "                   np.where(df.LTV > 0, '3. Rentável', 'NI'\n",
    "                            ))))))"
   ]
  },
  {
   "cell_type": "code",
   "execution_count": 25,
   "metadata": {},
   "outputs": [
    {
     "data": {
      "text/plain": [
       "1. Rentabilidade Negativa          0.36032\n",
       "2. Rentabilidade Zero              0.25134\n",
       "4. Muito Rentável                  0.20220\n",
       "3. Rentável                        0.09980\n",
       "5. Altamente Rentável              0.04780\n",
       "0. Rentabilidade Muito Negativa    0.03854\n",
       "Name: Classe_LTV, dtype: float64"
      ]
     },
     "execution_count": 25,
     "metadata": {},
     "output_type": "execute_result"
    }
   ],
   "source": [
    "df['Classe_LTV'].value_counts(normalize=True)"
   ]
  },
  {
   "cell_type": "markdown",
   "metadata": {},
   "source": [
    "Se um cliente for das classes 0, 1 e 2 mas tiver até um ano de casa ou 6 meses ele ainda não atingiu o break even"
   ]
  }
 ],
 "metadata": {
  "kernelspec": {
   "display_name": "Python 3",
   "language": "python",
   "name": "python3"
  },
  "language_info": {
   "codemirror_mode": {
    "name": "ipython",
    "version": 3
   },
   "file_extension": ".py",
   "mimetype": "text/x-python",
   "name": "python",
   "nbconvert_exporter": "python",
   "pygments_lexer": "ipython3",
   "version": "3.8.10"
  },
  "orig_nbformat": 4
 },
 "nbformat": 4,
 "nbformat_minor": 2
}
