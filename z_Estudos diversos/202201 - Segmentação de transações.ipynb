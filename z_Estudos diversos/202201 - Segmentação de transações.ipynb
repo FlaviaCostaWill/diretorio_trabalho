{
 "cells": [
  {
   "cell_type": "code",
   "execution_count": 1,
   "id": "4c99a4fc-8760-4133-a930-9675de19f89b",
   "metadata": {},
   "outputs": [],
   "source": [
    "import pandas as pd\n",
    "import numpy as np\n",
    "import aux.perfil as pf\n",
    "import aux.acessos as ac"
   ]
  },
  {
   "cell_type": "code",
   "execution_count": 2,
   "id": "50145957-4356-45b4-b2ac-8a36bb4e9032",
   "metadata": {
    "tags": []
   },
   "outputs": [],
   "source": [
    "query = \"\"\"\n",
    "\n",
    "                    with uso_credito_pag as (\t\n",
    "                    select\n",
    "                    cpf as nr_cpf,\n",
    "                    'Pag' as ds_customer,\n",
    "                    t.ds_nome_estabelecimento,\n",
    "                    ds_grupo_mcc,\n",
    "                    dt_mes  as dt_mes,\n",
    "                    cast(substring(dt_horario, 1, 2) as integer) as fx_horario,\n",
    "                    extract(dow from dt_data) as dia_semana,\n",
    "                    case when substring(cast(a.cd_entry_mode as varchar), 1, 2) = '10' then 1 else 0 end as flag_recorrente,\n",
    "                    (vl_transacao) as vl_spending\n",
    "                    from backoffice_curated_zone.transaction t\n",
    "                    left join platform_curated_zone.authorization_pag a  on a.id_transaction = t.id_autorizacao\n",
    "                    where cd_tipo_mov = 1 \n",
    "                    and ds_empresa='PAG'\n",
    "                    and is_spending='Sim'\n",
    "                    and t.is_cancelamento = 'Nao'\n",
    "                    and dt_data >= to_date('2020-06-01', 'yyyy-mm-dd')\n",
    "                    )\t\n",
    "                    , uso_credito_will as (\t\n",
    "                    select\n",
    "                    nr_cpf,\n",
    "                    ds_customer,\n",
    "                    ds_nome_estabelecimento,\n",
    "                    case \n",
    "                    when mcc_cd_grupo_mcc = 14  then 'SUPERMERCADO'\n",
    "                    when mcc_cd_grupo_mcc = 1 then 'ALIMENTAÇÃO'\n",
    "                    when mcc_cd_grupo_mcc = 13 then 'SERVIÇOS'\n",
    "                    when mcc_cd_grupo_mcc = 4 then  'COMPRAS'\n",
    "                    when mcc_cd_grupo_mcc = 15 then 'TRANSPORTE'\n",
    "                    when mcc_cd_grupo_mcc = 3 then 'COMBUSTÍVEL'\n",
    "                    when mcc_cd_grupo_mcc = 12 then 'SAÚDE'\n",
    "                    when mcc_cd_grupo_mcc = 16 then 'VESTUÁRIO'\n",
    "                    when mcc_cd_grupo_mcc = 7 then 'ELETRÔNICOS'\n",
    "                    when mcc_cd_grupo_mcc = 8 then 'ENTRETENIMENTO'\n",
    "                    when mcc_cd_grupo_mcc = 9 then 'OUTROS'\n",
    "                    when mcc_cd_grupo_mcc = 2 then 'CASA'\n",
    "                    when mcc_cd_grupo_mcc = 5 then 'CUIDADOS PESSOAIS'\n",
    "                    when mcc_cd_grupo_mcc = 6 then 'EDUCACAO'\n",
    "                    when mcc_cd_grupo_mcc = 10 then 'PET'\n",
    "                    when mcc_cd_grupo_mcc = 17 then 'VIAGEM'\n",
    "                    when mcc_cd_grupo_mcc = 11 then 'SAQUES'\n",
    "                    end as ds_grupo_mcc,\n",
    "                    substring(cast(dt_autorizacao as varchar), 1, 7)  as dt_mes,\n",
    "                    cast(substring(cast(dt_autorizacao as varchar), 9, 2) as integer)  as fx_horario,\n",
    "                    extract(dow from dt_autorizacao) as dia_semana,\n",
    "                    case when substring(cast(cd_entry_mode as varchar), 1, 2) = '10' then 1 else 0 end as flag_recorrente,\n",
    "                    (vl_real) as vl_spending\n",
    "                    from\tplatform_curated_zone.authorization_will a\n",
    "                    left join processed_zone_database_oracle_pag.mcc m on (m.mcc_cd_mcc = a.cd_mcc)\n",
    "                    where   ds_transacao = 'credito'\t\n",
    "                    and\tds_status_compra = 'aprovada'\n",
    "                    and ds_mcc != 'TRANSACOES WEBSERVICE'\n",
    "                    and dt_autorizacao  >= to_date('2020-06-01', 'yyyy-mm-dd')\n",
    "                    and\tcd_retorno = '00'\n",
    "                    )\n",
    "                    , unificada as (\n",
    "                    select * from uso_credito_pag\n",
    "                    union all\n",
    "                    select * from uso_credito_will\n",
    "                    )\n",
    "                    select * from unificada\n",
    "                    tablesample bernoulli (0.5)\n",
    "                    \n",
    "\"\"\""
   ]
  },
  {
   "cell_type": "code",
   "execution_count": 3,
   "id": "fd4eb184-ca56-4c81-a293-a657faa4e8f5",
   "metadata": {
    "tags": []
   },
   "outputs": [
    {
     "name": "stderr",
     "output_type": "stream",
     "text": [
      "Failed to execute query.\n",
      "Traceback (most recent call last):\n",
      "  File \"/home/flavia.costa/.local/lib/python3.9/site-packages/pyathena/common.py\", line 307, in _execute\n",
      "    query_id = retry_api_call(\n",
      "  File \"/home/flavia.costa/.local/lib/python3.9/site-packages/pyathena/util.py\", line 84, in retry_api_call\n",
      "    return retry(func, *args, **kwargs)\n",
      "  File \"/home/flavia.costa/.local/lib/python3.9/site-packages/tenacity/__init__.py\", line 430, in __call__\n",
      "    do = self.iter(retry_state=retry_state)\n",
      "  File \"/home/flavia.costa/.local/lib/python3.9/site-packages/tenacity/__init__.py\", line 367, in iter\n",
      "    return fut.result()\n",
      "  File \"/usr/lib/python3.9/concurrent/futures/_base.py\", line 433, in result\n",
      "    return self.__get_result()\n",
      "  File \"/usr/lib/python3.9/concurrent/futures/_base.py\", line 389, in __get_result\n",
      "    raise self._exception\n",
      "  File \"/home/flavia.costa/.local/lib/python3.9/site-packages/tenacity/__init__.py\", line 433, in __call__\n",
      "    result = fn(*args, **kwargs)\n",
      "  File \"/home/flavia.costa/.local/lib/python3.9/site-packages/botocore/client.py\", line 357, in _api_call\n",
      "    return self._make_api_call(operation_name, kwargs)\n",
      "  File \"/home/flavia.costa/.local/lib/python3.9/site-packages/botocore/client.py\", line 676, in _make_api_call\n",
      "    raise error_class(parsed_response, operation_name)\n",
      "botocore.errorfactory.InvalidRequestException: An error occurred (InvalidRequestException) when calling the StartQueryExecution operation: line 17:22: mismatched input 'Pag'. Expecting: '%', '*', '+', '-', '.', '/', 'AND', 'AT', 'EXCEPT', 'GROUP', 'HAVING', 'INTERSECT', 'LIMIT', 'OFFSET', 'OR', 'ORDER', 'UNION', '[', '||', <EOF>\n"
     ]
    }
   ],
   "source": [
    "df = ac.df_athena('flavia-costa', query)"
   ]
  },
  {
   "cell_type": "code",
   "execution_count": 4,
   "id": "44640200-a809-4f68-a692-46f131a6728e",
   "metadata": {},
   "outputs": [
    {
     "data": {
      "text/plain": [
       "823474"
      ]
     },
     "execution_count": 4,
     "metadata": {},
     "output_type": "execute_result"
    }
   ],
   "source": [
    "len(df)"
   ]
  },
  {
   "cell_type": "code",
   "execution_count": 5,
   "id": "0e51f86e-525b-424f-aa74-931991f3bf77",
   "metadata": {
    "collapsed": true,
    "jupyter": {
     "outputs_hidden": true
    },
    "tags": []
   },
   "outputs": [
    {
     "name": "stderr",
     "output_type": "stream",
     "text": [
      "Failed to execute query.\n",
      "Traceback (most recent call last):\n",
      "  File \"/home/flavia.costa/.local/lib/python3.9/site-packages/pyathena/common.py\", line 307, in _execute\n",
      "    query_id = retry_api_call(\n",
      "  File \"/home/flavia.costa/.local/lib/python3.9/site-packages/pyathena/util.py\", line 84, in retry_api_call\n",
      "    return retry(func, *args, **kwargs)\n",
      "  File \"/home/flavia.costa/.local/lib/python3.9/site-packages/tenacity/__init__.py\", line 430, in __call__\n",
      "    do = self.iter(retry_state=retry_state)\n",
      "  File \"/home/flavia.costa/.local/lib/python3.9/site-packages/tenacity/__init__.py\", line 367, in iter\n",
      "    return fut.result()\n",
      "  File \"/usr/lib/python3.9/concurrent/futures/_base.py\", line 433, in result\n",
      "    return self.__get_result()\n",
      "  File \"/usr/lib/python3.9/concurrent/futures/_base.py\", line 389, in __get_result\n",
      "    raise self._exception\n",
      "  File \"/home/flavia.costa/.local/lib/python3.9/site-packages/tenacity/__init__.py\", line 433, in __call__\n",
      "    result = fn(*args, **kwargs)\n",
      "  File \"/home/flavia.costa/.local/lib/python3.9/site-packages/botocore/client.py\", line 357, in _api_call\n",
      "    return self._make_api_call(operation_name, kwargs)\n",
      "  File \"/home/flavia.costa/.local/lib/python3.9/site-packages/botocore/client.py\", line 676, in _make_api_call\n",
      "    raise error_class(parsed_response, operation_name)\n",
      "botocore.errorfactory.InvalidRequestException: An error occurred (InvalidRequestException) when calling the StartQueryExecution operation: line 20:60: mismatched input 'C'. Expecting: '%', '*', '+', '-', '.', '/', 'AND', 'AT', 'EXCEPT', 'GROUP', 'HAVING', 'INTERSECT', 'LIMIT', 'OFFSET', 'OR', 'ORDER', 'UNION', '[', '||', <EOF>\n"
     ]
    }
   ],
   "source": [
    "df2 = pf.traz_info('flavia-costa', df, 'nr_cpf')"
   ]
  },
  {
   "cell_type": "code",
   "execution_count": 6,
   "id": "5f44b378-131a-4c18-b215-fc36d20476dd",
   "metadata": {},
   "outputs": [
    {
     "data": {
      "text/html": [
       "<div>\n",
       "<style scoped>\n",
       "    .dataframe tbody tr th:only-of-type {\n",
       "        vertical-align: middle;\n",
       "    }\n",
       "\n",
       "    .dataframe tbody tr th {\n",
       "        vertical-align: top;\n",
       "    }\n",
       "\n",
       "    .dataframe thead th {\n",
       "        text-align: right;\n",
       "    }\n",
       "</style>\n",
       "<table border=\"1\" class=\"dataframe\">\n",
       "  <thead>\n",
       "    <tr style=\"text-align: right;\">\n",
       "      <th></th>\n",
       "      <th>nr_cpf</th>\n",
       "      <th>ds_customer</th>\n",
       "      <th>ds_nome_estabelecimento</th>\n",
       "      <th>ds_grupo_mcc</th>\n",
       "      <th>dt_mes</th>\n",
       "      <th>fx_horario</th>\n",
       "      <th>dia_semana</th>\n",
       "      <th>flag_recorrente</th>\n",
       "      <th>vl_spending</th>\n",
       "      <th>chave</th>\n",
       "      <th>...</th>\n",
       "      <th>pf_top_mcc</th>\n",
       "      <th>pf_cep</th>\n",
       "      <th>pf_recencia</th>\n",
       "      <th>pf_fx_recencia_mes</th>\n",
       "      <th>vl_real_hist</th>\n",
       "      <th>transacoes_hist</th>\n",
       "      <th>spending90dias</th>\n",
       "      <th>transacoes90dias</th>\n",
       "      <th>spending_ultimo_ano</th>\n",
       "      <th>transacoes_ultimo_ano</th>\n",
       "    </tr>\n",
       "  </thead>\n",
       "  <tbody>\n",
       "    <tr>\n",
       "      <th>0</th>\n",
       "      <td>11302608797</td>\n",
       "      <td>will</td>\n",
       "      <td>MERCPAGO*FOREVERLISS</td>\n",
       "      <td>SUPERMERCADO</td>\n",
       "      <td>2021-07</td>\n",
       "      <td>17</td>\n",
       "      <td>6</td>\n",
       "      <td>1</td>\n",
       "      <td>285.02</td>\n",
       "      <td>11302608797</td>\n",
       "      <td>...</td>\n",
       "      <td>SUPERMERCADOS E MERCEARIAS</td>\n",
       "      <td>29031828</td>\n",
       "      <td>4.0</td>\n",
       "      <td>0.0</td>\n",
       "      <td>11605.20</td>\n",
       "      <td>190.0</td>\n",
       "      <td>5010.67</td>\n",
       "      <td>95.0</td>\n",
       "      <td>11605.20</td>\n",
       "      <td>190.0</td>\n",
       "    </tr>\n",
       "    <tr>\n",
       "      <th>1</th>\n",
       "      <td>10157961419</td>\n",
       "      <td>will</td>\n",
       "      <td>PAG*Rafaelbarbozadeal</td>\n",
       "      <td>SERVIÇOS</td>\n",
       "      <td>2021-09</td>\n",
       "      <td>20</td>\n",
       "      <td>1</td>\n",
       "      <td>0</td>\n",
       "      <td>6.50</td>\n",
       "      <td>10157961419</td>\n",
       "      <td>...</td>\n",
       "      <td>RESTAURANTES</td>\n",
       "      <td>58900000</td>\n",
       "      <td>22.0</td>\n",
       "      <td>0.0</td>\n",
       "      <td>2987.27</td>\n",
       "      <td>49.0</td>\n",
       "      <td>1424.20</td>\n",
       "      <td>23.0</td>\n",
       "      <td>2987.27</td>\n",
       "      <td>49.0</td>\n",
       "    </tr>\n",
       "    <tr>\n",
       "      <th>2</th>\n",
       "      <td>07306761536</td>\n",
       "      <td>will</td>\n",
       "      <td>UBER * PENDING</td>\n",
       "      <td>TRANSPORTE</td>\n",
       "      <td>2021-07</td>\n",
       "      <td>6</td>\n",
       "      <td>2</td>\n",
       "      <td>1</td>\n",
       "      <td>9.90</td>\n",
       "      <td>07306761536</td>\n",
       "      <td>...</td>\n",
       "      <td>TAXI E LIMUSINE</td>\n",
       "      <td>49030270</td>\n",
       "      <td>1.0</td>\n",
       "      <td>0.0</td>\n",
       "      <td>5256.41</td>\n",
       "      <td>196.0</td>\n",
       "      <td>1864.52</td>\n",
       "      <td>122.0</td>\n",
       "      <td>5256.41</td>\n",
       "      <td>196.0</td>\n",
       "    </tr>\n",
       "    <tr>\n",
       "      <th>3</th>\n",
       "      <td>71050032438</td>\n",
       "      <td>will</td>\n",
       "      <td>MAGALU *MAGAZINELUIZA</td>\n",
       "      <td>COMPRAS</td>\n",
       "      <td>2021-09</td>\n",
       "      <td>24</td>\n",
       "      <td>5</td>\n",
       "      <td>0</td>\n",
       "      <td>20.35</td>\n",
       "      <td>71050032438</td>\n",
       "      <td>...</td>\n",
       "      <td>POSTOS DE COMBUSTÍVEL</td>\n",
       "      <td>58421680</td>\n",
       "      <td>6.0</td>\n",
       "      <td>0.0</td>\n",
       "      <td>2310.55</td>\n",
       "      <td>47.0</td>\n",
       "      <td>1110.51</td>\n",
       "      <td>25.0</td>\n",
       "      <td>2310.55</td>\n",
       "      <td>47.0</td>\n",
       "    </tr>\n",
       "    <tr>\n",
       "      <th>4</th>\n",
       "      <td>00220055521</td>\n",
       "      <td>will</td>\n",
       "      <td>PAG*YasminVariedades</td>\n",
       "      <td>COMPRAS</td>\n",
       "      <td>2021-07</td>\n",
       "      <td>5</td>\n",
       "      <td>1</td>\n",
       "      <td>0</td>\n",
       "      <td>58.50</td>\n",
       "      <td>00220055521</td>\n",
       "      <td>...</td>\n",
       "      <td>FARMÁCIAS E FARMACÊUTICOS (MANIPULAÇÃO)</td>\n",
       "      <td>46805000</td>\n",
       "      <td>17.0</td>\n",
       "      <td>0.0</td>\n",
       "      <td>51628.63</td>\n",
       "      <td>98.0</td>\n",
       "      <td>4073.38</td>\n",
       "      <td>7.0</td>\n",
       "      <td>32474.39</td>\n",
       "      <td>50.0</td>\n",
       "    </tr>\n",
       "  </tbody>\n",
       "</table>\n",
       "<p>5 rows × 34 columns</p>\n",
       "</div>"
      ],
      "text/plain": [
       "        nr_cpf ds_customer ds_nome_estabelecimento  ds_grupo_mcc   dt_mes  \\\n",
       "0  11302608797        will    MERCPAGO*FOREVERLISS  SUPERMERCADO  2021-07   \n",
       "1  10157961419        will   PAG*Rafaelbarbozadeal      SERVIÇOS  2021-09   \n",
       "2  07306761536        will          UBER * PENDING    TRANSPORTE  2021-07   \n",
       "3  71050032438        will   MAGALU *MAGAZINELUIZA       COMPRAS  2021-09   \n",
       "4  00220055521        will    PAG*YasminVariedades       COMPRAS  2021-07   \n",
       "\n",
       "   fx_horario  dia_semana  flag_recorrente  vl_spending        chave  ...  \\\n",
       "0          17           6                1       285.02  11302608797  ...   \n",
       "1          20           1                0         6.50  10157961419  ...   \n",
       "2           6           2                1         9.90  07306761536  ...   \n",
       "3          24           5                0        20.35  71050032438  ...   \n",
       "4           5           1                0        58.50  00220055521  ...   \n",
       "\n",
       "                                pf_top_mcc    pf_cep pf_recencia  \\\n",
       "0               SUPERMERCADOS E MERCEARIAS  29031828         4.0   \n",
       "1                             RESTAURANTES  58900000        22.0   \n",
       "2                          TAXI E LIMUSINE  49030270         1.0   \n",
       "3                    POSTOS DE COMBUSTÍVEL  58421680         6.0   \n",
       "4  FARMÁCIAS E FARMACÊUTICOS (MANIPULAÇÃO)  46805000        17.0   \n",
       "\n",
       "   pf_fx_recencia_mes vl_real_hist transacoes_hist spending90dias  \\\n",
       "0                 0.0     11605.20           190.0        5010.67   \n",
       "1                 0.0      2987.27            49.0        1424.20   \n",
       "2                 0.0      5256.41           196.0        1864.52   \n",
       "3                 0.0      2310.55            47.0        1110.51   \n",
       "4                 0.0     51628.63            98.0        4073.38   \n",
       "\n",
       "  transacoes90dias spending_ultimo_ano transacoes_ultimo_ano  \n",
       "0             95.0            11605.20                 190.0  \n",
       "1             23.0             2987.27                  49.0  \n",
       "2            122.0             5256.41                 196.0  \n",
       "3             25.0             2310.55                  47.0  \n",
       "4              7.0            32474.39                  50.0  \n",
       "\n",
       "[5 rows x 34 columns]"
      ]
     },
     "execution_count": 6,
     "metadata": {},
     "output_type": "execute_result"
    }
   ],
   "source": [
    "df2.head()"
   ]
  },
  {
   "cell_type": "code",
   "execution_count": 7,
   "id": "24a2cb21-d24d-43a4-86b2-61eaf4ac3868",
   "metadata": {},
   "outputs": [
    {
     "data": {
      "text/plain": [
       "Index(['nr_cpf', 'ds_customer', 'ds_nome_estabelecimento', 'ds_grupo_mcc',\n",
       "       'dt_mes', 'fx_horario', 'dia_semana', 'flag_recorrente', 'vl_spending',\n",
       "       'chave', 'chave_or', 'ds_origin', 'pf_dt_nascimento', 'base_perfil',\n",
       "       'pf_genero', 'pf_escolaridade', 'pf_renda_declarada_will',\n",
       "       'pf_profissao', 'pf_estado_civil', 'pf_estado', 'pf_regiao',\n",
       "       'pf_idade_conta', 'pf_faixa_idade', 'pf_cidade', 'pf_top_mcc', 'pf_cep',\n",
       "       'pf_recencia', 'pf_fx_recencia_mes', 'vl_real_hist', 'transacoes_hist',\n",
       "       'spending90dias', 'transacoes90dias', 'spending_ultimo_ano',\n",
       "       'transacoes_ultimo_ano'],\n",
       "      dtype='object')"
      ]
     },
     "execution_count": 7,
     "metadata": {},
     "output_type": "execute_result"
    }
   ],
   "source": [
    "df2.columns"
   ]
  },
  {
   "cell_type": "code",
   "execution_count": 8,
   "id": "f9626edf-69cb-4728-a50e-77932602be89",
   "metadata": {},
   "outputs": [],
   "source": [
    "def faixas_hora(x):\n",
    "    if x < 6:\n",
    "        return 'a. madrugada'\n",
    "    elif x < 12:\n",
    "        return 'b. manhã'\n",
    "    elif x < 19:\n",
    "        return 'c. tarde'\n",
    "    elif x >= 19:\n",
    "        return 'd. noite'"
   ]
  },
  {
   "cell_type": "code",
   "execution_count": 9,
   "id": "0267a4ed-0c69-4be0-af0b-8e184029f25a",
   "metadata": {},
   "outputs": [],
   "source": [
    "df2['horario_int'] = df2['fx_horario'].astype('int')\n",
    "\n",
    "df2['momento'] = df2['horario_int'].apply(faixas_hora)"
   ]
  },
  {
   "cell_type": "code",
   "execution_count": 12,
   "id": "a911eec7-d75d-4c3b-bab0-194ca9d7a5fa",
   "metadata": {},
   "outputs": [
    {
     "data": {
      "text/plain": [
       "c. tarde        396472\n",
       "b. manhã        239551\n",
       "d. noite        160864\n",
       "a. madrugada     27772\n",
       "Name: momento, dtype: int64"
      ]
     },
     "execution_count": 12,
     "metadata": {},
     "output_type": "execute_result"
    }
   ],
   "source": [
    "df2['momento'].value_counts()"
   ]
  },
  {
   "cell_type": "code",
   "execution_count": 14,
   "id": "fdac8227-4305-4384-831a-b17d702d1a57",
   "metadata": {},
   "outputs": [
    {
     "data": {
      "text/html": [
       "<div>\n",
       "<style scoped>\n",
       "    .dataframe tbody tr th:only-of-type {\n",
       "        vertical-align: middle;\n",
       "    }\n",
       "\n",
       "    .dataframe tbody tr th {\n",
       "        vertical-align: top;\n",
       "    }\n",
       "\n",
       "    .dataframe thead th {\n",
       "        text-align: right;\n",
       "    }\n",
       "</style>\n",
       "<table border=\"1\" class=\"dataframe\">\n",
       "  <thead>\n",
       "    <tr style=\"text-align: right;\">\n",
       "      <th></th>\n",
       "      <th>nr_cpf</th>\n",
       "      <th>ds_customer</th>\n",
       "      <th>ds_nome_estabelecimento</th>\n",
       "      <th>ds_grupo_mcc</th>\n",
       "      <th>dt_mes</th>\n",
       "      <th>fx_horario</th>\n",
       "      <th>dia_semana</th>\n",
       "      <th>flag_recorrente</th>\n",
       "      <th>vl_spending</th>\n",
       "      <th>chave</th>\n",
       "      <th>...</th>\n",
       "      <th>pf_recencia</th>\n",
       "      <th>pf_fx_recencia_mes</th>\n",
       "      <th>vl_real_hist</th>\n",
       "      <th>transacoes_hist</th>\n",
       "      <th>spending90dias</th>\n",
       "      <th>transacoes90dias</th>\n",
       "      <th>spending_ultimo_ano</th>\n",
       "      <th>transacoes_ultimo_ano</th>\n",
       "      <th>horario_int</th>\n",
       "      <th>momento</th>\n",
       "    </tr>\n",
       "  </thead>\n",
       "  <tbody>\n",
       "    <tr>\n",
       "      <th>0</th>\n",
       "      <td>11302608797</td>\n",
       "      <td>will</td>\n",
       "      <td>MERCPAGO*FOREVERLISS</td>\n",
       "      <td>SUPERMERCADO</td>\n",
       "      <td>2021-07</td>\n",
       "      <td>17</td>\n",
       "      <td>6</td>\n",
       "      <td>1</td>\n",
       "      <td>285.02</td>\n",
       "      <td>11302608797</td>\n",
       "      <td>...</td>\n",
       "      <td>4.0</td>\n",
       "      <td>0.0</td>\n",
       "      <td>11605.20</td>\n",
       "      <td>190.0</td>\n",
       "      <td>5010.67</td>\n",
       "      <td>95.0</td>\n",
       "      <td>11605.20</td>\n",
       "      <td>190.0</td>\n",
       "      <td>17</td>\n",
       "      <td>c. tarde</td>\n",
       "    </tr>\n",
       "    <tr>\n",
       "      <th>27</th>\n",
       "      <td>15126123750</td>\n",
       "      <td>will</td>\n",
       "      <td>PICPAY*VP6 PABLOALVA</td>\n",
       "      <td>SAQUES</td>\n",
       "      <td>2021-12</td>\n",
       "      <td>12</td>\n",
       "      <td>7</td>\n",
       "      <td>0</td>\n",
       "      <td>774.39</td>\n",
       "      <td>15126123750</td>\n",
       "      <td>...</td>\n",
       "      <td>16.0</td>\n",
       "      <td>0.0</td>\n",
       "      <td>21147.42</td>\n",
       "      <td>213.0</td>\n",
       "      <td>6672.13</td>\n",
       "      <td>28.0</td>\n",
       "      <td>19913.77</td>\n",
       "      <td>188.0</td>\n",
       "      <td>12</td>\n",
       "      <td>c. tarde</td>\n",
       "    </tr>\n",
       "    <tr>\n",
       "      <th>32</th>\n",
       "      <td>09755240462</td>\n",
       "      <td>will</td>\n",
       "      <td>SUP EPA OITENTA E SEIS</td>\n",
       "      <td>SUPERMERCADO</td>\n",
       "      <td>2021-09</td>\n",
       "      <td>16</td>\n",
       "      <td>4</td>\n",
       "      <td>0</td>\n",
       "      <td>17.78</td>\n",
       "      <td>09755240462</td>\n",
       "      <td>...</td>\n",
       "      <td>7.0</td>\n",
       "      <td>0.0</td>\n",
       "      <td>1595.54</td>\n",
       "      <td>36.0</td>\n",
       "      <td>279.39</td>\n",
       "      <td>3.0</td>\n",
       "      <td>1595.54</td>\n",
       "      <td>36.0</td>\n",
       "      <td>16</td>\n",
       "      <td>c. tarde</td>\n",
       "    </tr>\n",
       "    <tr>\n",
       "      <th>36</th>\n",
       "      <td>06133549319</td>\n",
       "      <td>will</td>\n",
       "      <td>MAIS ACAI ME</td>\n",
       "      <td>ALIMENTAÇÃO</td>\n",
       "      <td>2021-11</td>\n",
       "      <td>15</td>\n",
       "      <td>1</td>\n",
       "      <td>0</td>\n",
       "      <td>24.00</td>\n",
       "      <td>06133549319</td>\n",
       "      <td>...</td>\n",
       "      <td>14.0</td>\n",
       "      <td>0.0</td>\n",
       "      <td>5554.76</td>\n",
       "      <td>73.0</td>\n",
       "      <td>2957.60</td>\n",
       "      <td>30.0</td>\n",
       "      <td>5554.76</td>\n",
       "      <td>73.0</td>\n",
       "      <td>15</td>\n",
       "      <td>c. tarde</td>\n",
       "    </tr>\n",
       "    <tr>\n",
       "      <th>38</th>\n",
       "      <td>35782730587</td>\n",
       "      <td>will</td>\n",
       "      <td>LISTO  *ELITE PNEUS -</td>\n",
       "      <td>TRANSPORTE</td>\n",
       "      <td>2021-08</td>\n",
       "      <td>13</td>\n",
       "      <td>5</td>\n",
       "      <td>0</td>\n",
       "      <td>400.00</td>\n",
       "      <td>35782730587</td>\n",
       "      <td>...</td>\n",
       "      <td>7.0</td>\n",
       "      <td>0.0</td>\n",
       "      <td>7596.00</td>\n",
       "      <td>6.0</td>\n",
       "      <td>3828.00</td>\n",
       "      <td>2.0</td>\n",
       "      <td>7596.00</td>\n",
       "      <td>6.0</td>\n",
       "      <td>13</td>\n",
       "      <td>c. tarde</td>\n",
       "    </tr>\n",
       "  </tbody>\n",
       "</table>\n",
       "<p>5 rows × 36 columns</p>\n",
       "</div>"
      ],
      "text/plain": [
       "         nr_cpf ds_customer ds_nome_estabelecimento  ds_grupo_mcc   dt_mes  \\\n",
       "0   11302608797        will    MERCPAGO*FOREVERLISS  SUPERMERCADO  2021-07   \n",
       "27  15126123750        will    PICPAY*VP6 PABLOALVA        SAQUES  2021-12   \n",
       "32  09755240462        will  SUP EPA OITENTA E SEIS  SUPERMERCADO  2021-09   \n",
       "36  06133549319        will            MAIS ACAI ME   ALIMENTAÇÃO  2021-11   \n",
       "38  35782730587        will   LISTO  *ELITE PNEUS -    TRANSPORTE  2021-08   \n",
       "\n",
       "    fx_horario  dia_semana  flag_recorrente  vl_spending        chave  ...  \\\n",
       "0           17           6                1       285.02  11302608797  ...   \n",
       "27          12           7                0       774.39  15126123750  ...   \n",
       "32          16           4                0        17.78  09755240462  ...   \n",
       "36          15           1                0        24.00  06133549319  ...   \n",
       "38          13           5                0       400.00  35782730587  ...   \n",
       "\n",
       "   pf_recencia pf_fx_recencia_mes vl_real_hist  transacoes_hist  \\\n",
       "0          4.0                0.0     11605.20            190.0   \n",
       "27        16.0                0.0     21147.42            213.0   \n",
       "32         7.0                0.0      1595.54             36.0   \n",
       "36        14.0                0.0      5554.76             73.0   \n",
       "38         7.0                0.0      7596.00              6.0   \n",
       "\n",
       "   spending90dias transacoes90dias spending_ultimo_ano transacoes_ultimo_ano  \\\n",
       "0         5010.67             95.0            11605.20                 190.0   \n",
       "27        6672.13             28.0            19913.77                 188.0   \n",
       "32         279.39              3.0             1595.54                  36.0   \n",
       "36        2957.60             30.0             5554.76                  73.0   \n",
       "38        3828.00              2.0             7596.00                   6.0   \n",
       "\n",
       "   horario_int   momento  \n",
       "0           17  c. tarde  \n",
       "27          12  c. tarde  \n",
       "32          16  c. tarde  \n",
       "36          15  c. tarde  \n",
       "38          13  c. tarde  \n",
       "\n",
       "[5 rows x 36 columns]"
      ]
     },
     "execution_count": 14,
     "metadata": {},
     "output_type": "execute_result"
    }
   ],
   "source": [
    "df2.query('momento == \"c. tarde\"').head()"
   ]
  },
  {
   "cell_type": "code",
   "execution_count": 15,
   "id": "892237c3-1375-49e3-a505-ee07f2bdadef",
   "metadata": {},
   "outputs": [],
   "source": [
    "df3 = pd.get_dummies(df2, prefix_sep = '_', columns=['pf_genero', 'pf_faixa_idade', 'pf_renda_declarada_will',\n",
    "                                                                  'momento', 'dia_semana',\n",
    "                                                                  'pf_estado_civil'])"
   ]
  },
  {
   "cell_type": "code",
   "execution_count": 16,
   "id": "86e0d679-4776-4d40-a0ae-7de8dd9dc376",
   "metadata": {
    "tags": []
   },
   "outputs": [
    {
     "name": "stdout",
     "output_type": "stream",
     "text": [
      "nr_cpf\n",
      "ds_customer\n",
      "ds_nome_estabelecimento\n",
      "ds_grupo_mcc\n",
      "dt_mes\n",
      "fx_horario\n",
      "flag_recorrente\n",
      "vl_spending\n",
      "chave\n",
      "chave_or\n",
      "ds_origin\n",
      "pf_dt_nascimento\n",
      "base_perfil\n",
      "pf_escolaridade\n",
      "pf_profissao\n",
      "pf_estado\n",
      "pf_regiao\n",
      "pf_idade_conta\n",
      "pf_cidade\n",
      "pf_top_mcc\n",
      "pf_cep\n",
      "pf_recencia\n",
      "pf_fx_recencia_mes\n",
      "vl_real_hist\n",
      "transacoes_hist\n",
      "spending90dias\n",
      "transacoes90dias\n",
      "spending_ultimo_ano\n",
      "transacoes_ultimo_ano\n",
      "horario_int\n",
      "pf_genero_\n",
      "pf_genero_FEMALE\n",
      "pf_genero_MALE\n",
      "pf_faixa_idade_a - ate 24 anos\n",
      "pf_faixa_idade_b - 25-34 anos\n",
      "pf_faixa_idade_c - 35-44 anos\n",
      "pf_faixa_idade_d - 45-54 anos\n",
      "pf_faixa_idade_e - 55-64 anos\n",
      "pf_faixa_idade_f - 65-74 anos\n",
      "pf_faixa_idade_g - 75-84 anos\n",
      "pf_faixa_idade_h - idade NI\n",
      "pf_renda_declarada_will_A - ate R$ 1000\n",
      "pf_renda_declarada_will_B - ate R$ 2000\n",
      "pf_renda_declarada_will_C - ate R$ 3000\n",
      "pf_renda_declarada_will_D - ate R$ 4000\n",
      "pf_renda_declarada_will_E - ate R$ 5000\n",
      "pf_renda_declarada_will_F - mais de R$ 5000\n",
      "momento_a. madrugada\n",
      "momento_b. manhã\n",
      "momento_c. tarde\n",
      "momento_d. noite\n",
      "dia_semana_1\n",
      "dia_semana_2\n",
      "dia_semana_3\n",
      "dia_semana_4\n",
      "dia_semana_5\n",
      "dia_semana_6\n",
      "dia_semana_7\n",
      "pf_estado_civil_Casado\n",
      "pf_estado_civil_Divorciado\n",
      "pf_estado_civil_Outros\n",
      "pf_estado_civil_Solteiro\n",
      "pf_estado_civil_Viuvo\n",
      "pf_estado_civil_outros\n"
     ]
    }
   ],
   "source": [
    "for i in df3.columns:\n",
    "    print(i)"
   ]
  },
  {
   "cell_type": "code",
   "execution_count": 17,
   "id": "3406ebe0-acc1-48f4-87f3-b749b30f83fe",
   "metadata": {},
   "outputs": [],
   "source": [
    "df3 = df3[['flag_recorrente', 'vl_spending', \n",
    "'pf_renda_declarada_will_A - ate R$ 1000',\n",
    "'pf_renda_declarada_will_B - ate R$ 2000',\n",
    "'pf_renda_declarada_will_C - ate R$ 3000',\n",
    "'pf_renda_declarada_will_D - ate R$ 4000',\n",
    "'pf_renda_declarada_will_E - ate R$ 5000',\n",
    "'pf_renda_declarada_will_F - mais de R$ 5000',\n",
    "'momento_a. madrugada',\n",
    "'momento_b. manhã',\n",
    "'momento_c. tarde',\n",
    "'momento_d. noite',\n",
    "'dia_semana_1',\n",
    "'dia_semana_2',\n",
    "'dia_semana_3',\n",
    "'dia_semana_4',\n",
    "'dia_semana_5',\n",
    "'dia_semana_6',\n",
    "'dia_semana_7', #colocar renda declarada fx_horario e dia semana dummies\n",
    "'pf_genero_FEMALE','pf_genero_MALE' ,\n",
    "'pf_faixa_idade_a - ate 24 anos','pf_faixa_idade_b - 25-34 anos','pf_faixa_idade_c - 35-44 anos','pf_faixa_idade_d - 45-54 anos','pf_faixa_idade_e - 55-64 anos',\n",
    "'pf_faixa_idade_f - 65-74 anos','pf_faixa_idade_g - 75-84 anos',  'pf_estado_civil_Casado',      \n",
    "'pf_estado_civil_Divorciado','pf_estado_civil_Outros','pf_estado_civil_Solteiro','pf_estado_civil_Viuvo','pf_estado_civil_outros']]"
   ]
  },
  {
   "cell_type": "code",
   "execution_count": 18,
   "id": "fd9bf884-5097-49b4-9e4b-0d1a02b0a625",
   "metadata": {},
   "outputs": [],
   "source": [
    "df3 = df3.fillna(0.0)"
   ]
  },
  {
   "cell_type": "code",
   "execution_count": 19,
   "id": "ad26cbd2-2da9-4404-ac56-3fb29ce66cfe",
   "metadata": {},
   "outputs": [],
   "source": [
    "from sklearn.cluster import KMeans\n",
    "from sklearn.preprocessing import StandardScaler"
   ]
  },
  {
   "cell_type": "code",
   "execution_count": 20,
   "id": "682262e7-3c83-46c2-b3e8-04bc7c105d9a",
   "metadata": {},
   "outputs": [],
   "source": [
    "scaler = StandardScaler()\n",
    "scaler_model = scaler.fit(df3)\n",
    "df3_scaled = scaler_model.transform(df3)"
   ]
  },
  {
   "cell_type": "code",
   "execution_count": 21,
   "id": "0d3343d0-1b96-4244-98c7-42646f59ca98",
   "metadata": {},
   "outputs": [
    {
     "name": "stdout",
     "output_type": "stream",
     "text": [
      "27\n"
     ]
    }
   ],
   "source": [
    "from sklearn.decomposition import PCA\n",
    "\n",
    "pca = PCA(n_components=0.95) #Explicar 95% da variância\n",
    "pca.fit(df3_scaled)\n",
    "df3_scaled_pca = pca.transform(df3_scaled)\n",
    "componentes = df3_scaled_pca.shape[1]\n",
    "\n",
    "print(componentes)"
   ]
  },
  {
   "cell_type": "code",
   "execution_count": 22,
   "id": "13c75b67-45ae-408d-a280-46414e3caf1b",
   "metadata": {},
   "outputs": [
    {
     "data": {
      "text/plain": [
       "<matplotlib.collections.PathCollection at 0x7f55ec94dbe0>"
      ]
     },
     "execution_count": 22,
     "metadata": {},
     "output_type": "execute_result"
    },
    {
     "data": {
      "image/png": "[encoded data removed]",
      "text/plain": [
       "<Figure size 720x648 with 1 Axes>"
      ]
     },
     "metadata": {
      "needs_background": "light"
     },
     "output_type": "display_data"
    }
   ],
   "source": [
    "import matplotlib.pyplot as plt\n",
    "plt.figure(figsize=(10,9))\n",
    "plt.scatter(df3_scaled_pca[:, 1], df3_scaled_pca[:, 5], s=3, cmap='Spectral')"
   ]
  },
  {
   "cell_type": "code",
   "execution_count": 23,
   "id": "dd8dded6-42ab-41c1-936f-eaea2baf59aa",
   "metadata": {},
   "outputs": [
    {
     "data": {
      "image/png": "[encoded data removed]",
      "text/plain": [
       "<Figure size 432x288 with 1 Axes>"
      ]
     },
     "metadata": {
      "needs_background": "light"
     },
     "output_type": "display_data"
    }
   ],
   "source": [
    "sse = {}\n",
    "for k in range(1, 50):\n",
    "    kmeans = KMeans(n_clusters=k, max_iter=10).fit(df3_scaled_pca[0:50000])\n",
    "    #cluster_embedding[\"clusters\"] = kmeans.labels_\n",
    "    #print(cluster_embedding[\"clusters\"])\n",
    "    sse[k] = kmeans.inertia_ # Inertia: Sum of distances of samples to their closest cluster center\n",
    "\n",
    "plt.figure()\n",
    "plt.plot(list(sse.keys()), list(sse.values()))\n",
    "plt.xlabel(\"Number of cluster\")\n",
    "plt.ylabel(\"SSE\")\n",
    "plt.show()"
   ]
  },
  {
   "cell_type": "code",
   "execution_count": 24,
   "id": "f3e71d77-78b8-4568-b78e-078e4a7cd444",
   "metadata": {},
   "outputs": [],
   "source": [
    "kmeans = KMeans(n_clusters = 25, random_state=0).fit(df3_scaled_pca)\n",
    "cluster = kmeans.predict(df3_scaled_pca)\n",
    "df3['cluster'] = cluster"
   ]
  },
  {
   "cell_type": "code",
   "execution_count": 25,
   "id": "17174b15-6d4d-46f3-8de5-877c608eeaa0",
   "metadata": {},
   "outputs": [
    {
     "data": {
      "text/plain": [
       "6     0.100902\n",
       "1     0.098526\n",
       "3     0.095848\n",
       "4     0.092276\n",
       "2     0.087346\n",
       "19    0.070759\n",
       "0     0.068625\n",
       "7     0.057808\n",
       "23    0.052981\n",
       "20    0.038472\n",
       "22    0.036491\n",
       "14    0.035463\n",
       "24    0.029028\n",
       "15    0.024999\n",
       "18    0.024957\n",
       "21    0.023299\n",
       "16    0.016595\n",
       "17    0.014117\n",
       "11    0.010227\n",
       "5     0.005847\n",
       "9     0.005168\n",
       "12    0.004427\n",
       "8     0.003531\n",
       "10    0.001559\n",
       "13    0.000747\n",
       "Name: cluster, dtype: float64"
      ]
     },
     "execution_count": 25,
     "metadata": {},
     "output_type": "execute_result"
    }
   ],
   "source": [
    "df3['cluster'].value_counts(normalize = True)"
   ]
  },
  {
   "cell_type": "code",
   "execution_count": 26,
   "id": "bef6e98a-70e3-420e-a2fa-4d0c1acd7c60",
   "metadata": {},
   "outputs": [],
   "source": [
    "df3.groupby('cluster').mean().to_csv('cluster_transacoes.csv')"
   ]
  },
  {
   "cell_type": "code",
   "execution_count": 27,
   "id": "25d0208a-c109-47d3-bb80-2ab3ddc6ef45",
   "metadata": {},
   "outputs": [
    {
     "data": {
      "text/plain": [
       "5"
      ]
     },
     "execution_count": 27,
     "metadata": {},
     "output_type": "execute_result"
    }
   ],
   "source": [
    "len(df2.query('chave_or.isna()').head())"
   ]
  },
  {
   "cell_type": "code",
   "execution_count": 29,
   "id": "517097b5-eb02-4152-8325-6a063fba55b4",
   "metadata": {},
   "outputs": [],
   "source": [
    "df3['ds_grupo_mcc'] = df2['ds_grupo_mcc']"
   ]
  },
  {
   "cell_type": "code",
   "execution_count": 30,
   "id": "fe480d58-006e-4701-9a30-9436eb641f45",
   "metadata": {},
   "outputs": [],
   "source": [
    "df3.groupby(['cluster', 'ds_grupo_mcc']).count().to_csv('cluster_transacoes_count_mcc.csv')"
   ]
  },
  {
   "cell_type": "code",
   "execution_count": 31,
   "id": "6df6f5a9-e734-482b-9d10-1939a203dd5c",
   "metadata": {},
   "outputs": [],
   "source": [
    "df3['ds_nome_estabelecimento'] = df2['ds_nome_estabelecimento']"
   ]
  },
  {
   "cell_type": "code",
   "execution_count": 32,
   "id": "487a3d0c-346e-42d7-8419-0ead05590ae6",
   "metadata": {},
   "outputs": [],
   "source": [
    "df3.groupby(['cluster', 'ds_nome_estabelecimento']).count().to_csv('cluster_transacoes_count_estabelecimentos.csv')"
   ]
  },
  {
   "cell_type": "code",
   "execution_count": 2,
   "id": "32a3332e-3f56-4473-9608-e8181d58220d",
   "metadata": {},
   "outputs": [],
   "source": [
    "df_estab = pd.read_csv('cluster_transacoes_count_estabelecimentos.csv')"
   ]
  },
  {
   "cell_type": "code",
   "execution_count": 4,
   "id": "a5dd2956-c6d8-4639-bed4-45d4f63a9ca4",
   "metadata": {},
   "outputs": [
    {
     "data": {
      "text/html": [
       "<div>\n",
       "<style scoped>\n",
       "    .dataframe tbody tr th:only-of-type {\n",
       "        vertical-align: middle;\n",
       "    }\n",
       "\n",
       "    .dataframe tbody tr th {\n",
       "        vertical-align: top;\n",
       "    }\n",
       "\n",
       "    .dataframe thead th {\n",
       "        text-align: right;\n",
       "    }\n",
       "</style>\n",
       "<table border=\"1\" class=\"dataframe\">\n",
       "  <thead>\n",
       "    <tr style=\"text-align: right;\">\n",
       "      <th></th>\n",
       "      <th>cluster</th>\n",
       "      <th>ds_nome_estabelecimento</th>\n",
       "      <th>flag_recorrente</th>\n",
       "    </tr>\n",
       "  </thead>\n",
       "  <tbody>\n",
       "    <tr>\n",
       "      <th>0</th>\n",
       "      <td>0</td>\n",
       "      <td>BRA</td>\n",
       "      <td>2</td>\n",
       "    </tr>\n",
       "    <tr>\n",
       "      <th>1</th>\n",
       "      <td>0</td>\n",
       "      <td>BARRA DE SANT BRA</td>\n",
       "      <td>1</td>\n",
       "    </tr>\n",
       "    <tr>\n",
       "      <th>2</th>\n",
       "      <td>0</td>\n",
       "      <td>CLINICA*KATTIANNA R          JUPI BRA</td>\n",
       "      <td>1</td>\n",
       "    </tr>\n",
       "    <tr>\n",
       "      <th>3</th>\n",
       "      <td>0</td>\n",
       "      <td>CLINICA*ODONTOFISIO      TRINDADE BRA</td>\n",
       "      <td>1</td>\n",
       "    </tr>\n",
       "    <tr>\n",
       "      <th>4</th>\n",
       "      <td>0</td>\n",
       "      <td>CARVAO  LENH          RIODEJANEIRO  BRA</td>\n",
       "      <td>1</td>\n",
       "    </tr>\n",
       "  </tbody>\n",
       "</table>\n",
       "</div>"
      ],
      "text/plain": [
       "   cluster                   ds_nome_estabelecimento  flag_recorrente\n",
       "0        0                                       BRA                2\n",
       "1        0                         BARRA DE SANT BRA                1\n",
       "2        0     CLINICA*KATTIANNA R          JUPI BRA                1\n",
       "3        0     CLINICA*ODONTOFISIO      TRINDADE BRA                1\n",
       "4        0   CARVAO  LENH          RIODEJANEIRO  BRA                1"
      ]
     },
     "execution_count": 4,
     "metadata": {},
     "output_type": "execute_result"
    }
   ],
   "source": [
    "df_estab = df_estab[['cluster', 'ds_nome_estabelecimento', 'flag_recorrente']]\n",
    "df_estab.head()"
   ]
  },
  {
   "cell_type": "code",
   "execution_count": 31,
   "id": "a9afd241-abf1-4e24-8b1c-3f0930d503fd",
   "metadata": {},
   "outputs": [
    {
     "data": {
      "text/plain": [
       "cluster                     int64\n",
       "ds_nome_estabelecimento    object\n",
       "flag_recorrente             int64\n",
       "dtype: object"
      ]
     },
     "execution_count": 31,
     "metadata": {},
     "output_type": "execute_result"
    }
   ],
   "source": [
    "df_estab.dtypes"
   ]
  },
  {
   "cell_type": "raw",
   "id": "254d5aea-a800-4a0b-ab13-23a851d77502",
   "metadata": {},
   "source": []
  },
  {
   "cell_type": "code",
   "execution_count": 76,
   "id": "dc3ca371-77a1-4c22-9988-3292bef1a388",
   "metadata": {},
   "outputs": [
    {
     "data": {
      "text/html": [
       "<div>\n",
       "<style scoped>\n",
       "    .dataframe tbody tr th:only-of-type {\n",
       "        vertical-align: middle;\n",
       "    }\n",
       "\n",
       "    .dataframe tbody tr th {\n",
       "        vertical-align: top;\n",
       "    }\n",
       "\n",
       "    .dataframe thead th {\n",
       "        text-align: right;\n",
       "    }\n",
       "</style>\n",
       "<table border=\"1\" class=\"dataframe\">\n",
       "  <thead>\n",
       "    <tr style=\"text-align: right;\">\n",
       "      <th></th>\n",
       "      <th>ds_nome_estabelecimento</th>\n",
       "      <th>n_clientes</th>\n",
       "    </tr>\n",
       "  </thead>\n",
       "  <tbody>\n",
       "    <tr>\n",
       "      <th>2195</th>\n",
       "      <td>EBANX*SHOPEE           CURITIBA      BRA</td>\n",
       "      <td>1057</td>\n",
       "    </tr>\n",
       "    <tr>\n",
       "      <th>594</th>\n",
       "      <td>APPLE.COM/BILL         SAO PAULO     BRA</td>\n",
       "      <td>685</td>\n",
       "    </tr>\n",
       "    <tr>\n",
       "      <th>4388</th>\n",
       "      <td>MERCPAG*MERCADOLIVRE   OSASCO        BRA</td>\n",
       "      <td>592</td>\n",
       "    </tr>\n",
       "    <tr>\n",
       "      <th>4841</th>\n",
       "      <td>MERCPAGO*MERCADOLIVRE  OSASCO        BRA</td>\n",
       "      <td>572</td>\n",
       "    </tr>\n",
       "    <tr>\n",
       "      <th>2194</th>\n",
       "      <td>EBANX*SHOPEE</td>\n",
       "      <td>433</td>\n",
       "    </tr>\n",
       "    <tr>\n",
       "      <th>528</th>\n",
       "      <td>AMAZONPRIMEBR          SAO PAULO     BRA</td>\n",
       "      <td>356</td>\n",
       "    </tr>\n",
       "    <tr>\n",
       "      <th>10341</th>\n",
       "      <td>UBER   *UBER   *TRIP   SAO PAULO     BRA</td>\n",
       "      <td>328</td>\n",
       "    </tr>\n",
       "    <tr>\n",
       "      <th>5541</th>\n",
       "      <td>NETFLIX.COM            SAO PAULO     BRA</td>\n",
       "      <td>317</td>\n",
       "    </tr>\n",
       "    <tr>\n",
       "      <th>5862</th>\n",
       "      <td>PAG*BOACOMPRA          SAO PAULO     BRA</td>\n",
       "      <td>287</td>\n",
       "    </tr>\n",
       "    <tr>\n",
       "      <th>1463</th>\n",
       "      <td>CLARO FLEX             SAO PAULO     BRA</td>\n",
       "      <td>272</td>\n",
       "    </tr>\n",
       "    <tr>\n",
       "      <th>484</th>\n",
       "      <td>ALIEXPRESS             SAO PAULO     BRA</td>\n",
       "      <td>268</td>\n",
       "    </tr>\n",
       "    <tr>\n",
       "      <th>524</th>\n",
       "      <td>AMAZON.COM.BR          SAO PAULO     BRA</td>\n",
       "      <td>242</td>\n",
       "    </tr>\n",
       "    <tr>\n",
       "      <th>2185</th>\n",
       "      <td>EBANX WISH</td>\n",
       "      <td>241</td>\n",
       "    </tr>\n",
       "    <tr>\n",
       "      <th>4840</th>\n",
       "      <td>MERCPAGO*MERCADOLIVRE</td>\n",
       "      <td>201</td>\n",
       "    </tr>\n",
       "    <tr>\n",
       "      <th>4209</th>\n",
       "      <td>MERCADOLIVRE*MERCADOLI OSASCO        BRA</td>\n",
       "      <td>200</td>\n",
       "    </tr>\n",
       "    <tr>\n",
       "      <th>1882</th>\n",
       "      <td>DL     *GOOGLE GARENA  SAO PAULO     BRA</td>\n",
       "      <td>191</td>\n",
       "    </tr>\n",
       "    <tr>\n",
       "      <th>10360</th>\n",
       "      <td>UBERBR UBER * PENDING  SAO PAULO     BRA</td>\n",
       "      <td>188</td>\n",
       "    </tr>\n",
       "    <tr>\n",
       "      <th>292</th>\n",
       "      <td>99APP       *99APP     SAO PAULO     BRA</td>\n",
       "      <td>183</td>\n",
       "    </tr>\n",
       "    <tr>\n",
       "      <th>8079</th>\n",
       "      <td>PLANO OI*OI CONTROLE   RIO DE JANEIR BRA</td>\n",
       "      <td>173</td>\n",
       "    </tr>\n",
       "    <tr>\n",
       "      <th>10336</th>\n",
       "      <td>UBER        *TRIP      SAO PAULO     BRA</td>\n",
       "      <td>157</td>\n",
       "    </tr>\n",
       "  </tbody>\n",
       "</table>\n",
       "</div>"
      ],
      "text/plain": [
       "                        ds_nome_estabelecimento  n_clientes\n",
       "2195   EBANX*SHOPEE           CURITIBA      BRA        1057\n",
       "594    APPLE.COM/BILL         SAO PAULO     BRA         685\n",
       "4388   MERCPAG*MERCADOLIVRE   OSASCO        BRA         592\n",
       "4841   MERCPAGO*MERCADOLIVRE  OSASCO        BRA         572\n",
       "2194                               EBANX*SHOPEE         433\n",
       "528    AMAZONPRIMEBR          SAO PAULO     BRA         356\n",
       "10341  UBER   *UBER   *TRIP   SAO PAULO     BRA         328\n",
       "5541   NETFLIX.COM            SAO PAULO     BRA         317\n",
       "5862   PAG*BOACOMPRA          SAO PAULO     BRA         287\n",
       "1463   CLARO FLEX             SAO PAULO     BRA         272\n",
       "484    ALIEXPRESS             SAO PAULO     BRA         268\n",
       "524    AMAZON.COM.BR          SAO PAULO     BRA         242\n",
       "2185                                 EBANX WISH         241\n",
       "4840                      MERCPAGO*MERCADOLIVRE         201\n",
       "4209   MERCADOLIVRE*MERCADOLI OSASCO        BRA         200\n",
       "1882   DL     *GOOGLE GARENA  SAO PAULO     BRA         191\n",
       "10360  UBERBR UBER * PENDING  SAO PAULO     BRA         188\n",
       "292    99APP       *99APP     SAO PAULO     BRA         183\n",
       "8079   PLANO OI*OI CONTROLE   RIO DE JANEIR BRA         173\n",
       "10336  UBER        *TRIP      SAO PAULO     BRA         157"
      ]
     },
     "execution_count": 76,
     "metadata": {},
     "output_type": "execute_result"
    }
   ],
   "source": [
    "df_agg = df_estab.loc[df_estab['cluster'] == 24].groupby('ds_nome_estabelecimento').agg({'flag_recorrente':['sum']})\n",
    "df_agg.columns = df_agg.columns.droplevel(0)\n",
    "df_agg = df_agg.reset_index()\n",
    "df_agg = df_agg.rename(columns = {'sum':'n_clientes'})\n",
    "df_agg.sort_values(by=['n_clientes'], ascending = False).head(20)"
   ]
  },
  {
   "cell_type": "code",
   "execution_count": 38,
   "id": "7132c258-7ad6-4e63-b552-ea747460888f",
   "metadata": {},
   "outputs": [],
   "source": [
    "clusters = df_estab['cluster'].unique()"
   ]
  },
  {
   "cell_type": "code",
   "execution_count": 46,
   "id": "c79ccd0f-7004-4dbf-a869-f71472dbaf27",
   "metadata": {},
   "outputs": [],
   "source": [
    "for i in clusters:\n",
    "    #print(\"cluster:\" + str(i))\n",
    "    df_agg = df_estab.loc[df_estab['cluster'] == i].groupby('ds_nome_estabelecimento').agg({'flag_recorrente':['sum']})\n",
    "    df_agg.columns = df_agg.columns.droplevel(0)\n",
    "    df_agg = df_agg.reset_index()\n",
    "    df_agg = df_agg.rename(columns = {'sum':'n_clientes'})\n",
    "    df_agg.sort_values(by=['n_clientes'], ascending = False).head()"
   ]
  }
 ],
 "metadata": {
  "kernelspec": {
   "display_name": "Python 3",
   "language": "python",
   "name": "python3"
  },
  "language_info": {
   "codemirror_mode": {
    "name": "ipython",
    "version": 3
   },
   "file_extension": ".py",
   "mimetype": "text/x-python",
   "name": "python",
   "nbconvert_exporter": "python",
   "pygments_lexer": "ipython3",
   "version": "3.9.2"
  }
 },
 "nbformat": 4,
 "nbformat_minor": 5
}
