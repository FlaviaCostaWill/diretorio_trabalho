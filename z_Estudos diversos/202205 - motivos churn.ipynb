{
 "cells": [
  {
   "cell_type": "code",
   "execution_count": 1,
   "id": "07af023f-a73f-4d6b-8817-346257abb0e9",
   "metadata": {},
   "outputs": [],
   "source": [
    "import pandas as pd\n",
    "import numpy as np\n",
    "import aux.acessos as ac"
   ]
  },
  {
   "cell_type": "code",
   "execution_count": 14,
   "id": "bcdc3661-65b5-4fc9-8904-3b946e1f757c",
   "metadata": {
    "tags": []
   },
   "outputs": [],
   "source": [
    "query = \"\"\"\n",
    "\n",
    "with cx_data as (\n",
    "select * from (\n",
    "\tselect\n",
    "\tcpf_customer\n",
    "\t, substring(cast(n.dt_criacao_chat as varchar), 1, 7) as mes_chat\n",
    "\t, concat(substring(nm_tag_n1, 5, 100) ,'|' , substring(nm_tag_n2, 5, 100), '|', substring(nm_tag_n3, 5, 100)) as issue\n",
    "\t, rank() over (partition by cpf_customer order by n.dt_criacao_chat desc) as rank_\n",
    "\tfrom cx_curated_zone.helpshift_tag_niveis n\n",
    "\tleft join cx_curated_zone.helpshift_issues i on (i.id_issue = n.id_issue)\n",
    "\twhere n.dt_criacao_chat >= to_date('2021-11-01', 'yyyy-mm-dd')\n",
    ") where rank_ = 1\n",
    ")\n",
    ", tipo_ativacao as (\n",
    "select\n",
    "id_customer\n",
    ", max(case when ds_first_purchase_card = 'virtual' then 1 else 0 end) as ativou_virtual\n",
    ", max(case when ds_first_purchase_card is null then 1 else 0 end) as nunca_ativou\n",
    ", max(case when ds_first_purchase_card = 'fisico' then 1 else 0 end) as ativou_fisico\n",
    "from customer_curated_zone.ca_book_growth \n",
    "--where dt_opening_account between to_date('2021-11-01', 'yyyy-mm-dd') and to_date('2022-01-31', 'yyyy-mm-dd')\n",
    "where dt_opening_account < to_date('2021-11-01', 'yyyy-mm-dd')\n",
    "group by 1\n",
    ")\n",
    ", perfil as (\n",
    "select distinct * from (\n",
    "                select\n",
    "                p.cd_cpf as cpf,\n",
    "                c.id_customer,\n",
    "                p.ds_origin as pf_origem_cliente,\n",
    "                rank() over (partition by p.cd_cpf order by dt_cfi_account_created desc) as base_perfil,\n",
    "                case\n",
    "                when p.ds_origin = 'will' and g.ds_gender = 'F' then 'FEMALE'\n",
    "                when p.ds_origin = 'will' and g.ds_gender = 'M' then 'MALE'\n",
    "                when p.ds_origin <> 'will' and p.ds_gender = 'F' then 'FEMALE'\n",
    "                when p.ds_origin <> 'will' and p.ds_gender = 'M' then 'MALE'\n",
    "                when p.ds_origin = 'will' and g.ds_gender = 'FEMALE' then 'FEMALE'\n",
    "                when p.ds_origin = 'will' and g.ds_gender = 'MALE' then 'MALE'\n",
    "                when p.ds_origin <> 'will' and p.ds_gender = 'FEMALE' then 'FEMALE'\n",
    "                when p.ds_origin <> 'will' and p.ds_gender = 'MALE' then 'MALE'\n",
    "                else '' end as pf_genero,\n",
    "                case\n",
    "                when  nr_declared_income <= 1000 then 'A - ate R$ 1000'\n",
    "                when  nr_declared_income <= 2000 then 'B - ate R$ 2000'\n",
    "                when  nr_declared_income <= 3000 then 'C - ate R$ 3000'\n",
    "                when  nr_declared_income <= 4000 then 'D - ate R$ 4000'\n",
    "                when  nr_declared_income <= 5000 then 'E - ate R$ 5000'\n",
    "                when  nr_declared_income > 5000 then 'F - mais de R$ 5000'\n",
    "                end as pf_renda_declarada_will,\n",
    "                replace(upper(ds_occupation), '(A)', '') as pf_profissao,\n",
    "                p.ds_state_abbreviation as pf_estado,\n",
    "                case WHEN p.ds_state_abbreviation IN('DF','GO','MS','MT') THEN 'CENTRO-OESTE'\n",
    "                    WHEN p.ds_state_abbreviation IN('AL','BA','CE','MA','PB','PE','PI','RN','SE') THEN 'NORDESTE'\n",
    "                    WHEN p.ds_state_abbreviation IN('AC','AM','AP','PA','RO','RR','TO') THEN 'NORTE'\n",
    "                    WHEN p.ds_state_abbreviation IN('ES','MG','RJ','SP') THEN 'SUDESTE'\n",
    "                    WHEN p.ds_state_abbreviation IN('PR','RS','SC') THEN 'SUL'\n",
    "                    ELSE 'Z-OUTROS' END as pf_regiao,\n",
    "              c.dt_cfi_account_created,\n",
    "              substring(cast(c.dt_cfi_account_created as varchar), 1, 7) as pf_safra,\n",
    "                case\n",
    "                when round((extract(day from current_date - cast(p.dt_birth as date))/30.5/12 / 10),0) = 2 then 'a - ate 24 anos'\n",
    "                when round((extract(day from current_date - cast(p.dt_birth as date))/30.5/12 / 10),0) = 3 then 'b - 25-34 anos'\n",
    "                when round((extract(day from current_date - cast(p.dt_birth as date))/30.5/12 / 10),0) = 4 then 'c - 35-44 anos'\n",
    "                when round((extract(day from current_date - cast(p.dt_birth as date))/30.5/12 / 10),0) = 5 then 'd - 45-54 anos'\n",
    "                when round((extract(day from current_date - cast(p.dt_birth as date))/30.5/12 / 10),0) = 6 then 'e - 55-64 anos'\n",
    "                when round((extract(day from current_date - cast(p.dt_birth as date))/30.5/12 / 10),0) = 7 then 'f - 65-74 anos'\n",
    "                when round((extract(day from current_date - cast(p.dt_birth as date))/30.5/12 / 10),0) = 8 then 'g - 75-84 anos'\n",
    "                else 'h - idade NI' end as pf_faixa_idade,\n",
    "                p.nm_locality as pf_cidade\n",
    "                from growth_curated_zone.proposal_general p\n",
    "                inner join growth_curated_zone.clientes c on (p.cd_cpf = c.cpf and p.ds_origin = c.ds_origin)\n",
    "                left join platform_curated_zone.gender_will g on (g.cd_cpf = p.cd_cpf)\n",
    "                ) where base_perfil = 1 and dt_cfi_account_created is not null\n",
    "               )\n",
    "               , indicadores_churn as (             \n",
    "               select\n",
    "               cpf,\n",
    "               max(case when cast(dt_mes_churn as varchar) = '2022-02-01' then 1 else 0 end) as churn_fev,\n",
    "               max(case when cast(dt_mes_churn as varchar) = '2022-03-01' then 1 else 0 end) as churn_mar,\n",
    "               max(case when cast(dt_mes_churn as varchar) = '2022-04-01' then 1 else 0 end) as churn_abr\n",
    "\t\t\t\tfrom platform_sandbox_zone.clientes_churn\n",
    "               group by 1\n",
    "               )\n",
    "               select * from (               \n",
    "               select p.*,     a.*,   c.*,     ch.churn_fev, ch.churn_mar, ch.churn_abr, rank() over (partition by 1 order by random() desc) as ordem,\n",
    "                case \n",
    "               \twhen churn_fev = 1 and churn_mar = 1 and churn_abr  = 1 then 'a - churn alto'\n",
    "               \twhen churn_fev = 1 and coalesce(churn_mar,0) = 0 and coalesce(churn_abr,0) = 0 then 'c - churn baixo'\n",
    " \t            when churn_fev = 0 and coalesce(churn_mar,0) = 0 and coalesce(churn_abr,0) = 1 then 'c - churn baixo'\n",
    "               \twhen coalesce(churn_fev,0) = 0 and coalesce(churn_mar,0) = 1 and coalesce(churn_abr,0) = 0 then 'c - churn baixo'  \n",
    "\t\t\t\twhen coalesce(churn_fev,0) = 1 and coalesce(churn_mar,0) = 0 and coalesce(churn_abr,0) = 1 then 'c - churn baixo'  \n",
    "               \twhen churn_fev = 1 and churn_mar = 1 and coalesce(churn_abr,0) = 0 then 'b - churn medio'\n",
    "               \twhen coalesce(churn_fev,0) = 0 and churn_mar = 1 and coalesce(churn_abr,0) = 1 then 'b - churn medio'\n",
    "               \twhen a.nunca_ativou = 1 then 'e - nunca ativou'\n",
    "               \twhen coalesce(churn_fev,0) = 0 and coalesce(churn_mar,0) = 0 and coalesce(churn_abr,0) = 0  then 'd - sem churn'\n",
    "              end as segmento_churn\n",
    "               \tfrom perfil p\n",
    "               left join tipo_ativacao a on (a.id_customer = p.id_customer)\n",
    "               left join cx_data c on (c.cpf_customer = p.cpf)\n",
    "               left join indicadores_churn ch on (ch.cpf = p.cpf)\n",
    "               ) order by ordem limit 1000000\n",
    "\n",
    "\"\"\""
   ]
  },
  {
   "cell_type": "code",
   "execution_count": 15,
   "id": "6c28ce41-14ed-46af-b167-3915a067a1a3",
   "metadata": {},
   "outputs": [
    {
     "name": "stderr",
     "output_type": "stream",
     "text": [
      "Failed to execute query.\n",
      "Traceback (most recent call last):\n",
      "  File \"/home/flavia.costa/.local/lib/python3.9/site-packages/pyathena/common.py\", line 307, in _execute\n",
      "    query_id = retry_api_call(\n",
      "  File \"/home/flavia.costa/.local/lib/python3.9/site-packages/pyathena/util.py\", line 84, in retry_api_call\n",
      "    return retry(func, *args, **kwargs)\n",
      "  File \"/home/flavia.costa/.local/lib/python3.9/site-packages/tenacity/__init__.py\", line 430, in __call__\n",
      "    do = self.iter(retry_state=retry_state)\n",
      "  File \"/home/flavia.costa/.local/lib/python3.9/site-packages/tenacity/__init__.py\", line 367, in iter\n",
      "    return fut.result()\n",
      "  File \"/usr/lib/python3.9/concurrent/futures/_base.py\", line 433, in result\n",
      "    return self.__get_result()\n",
      "  File \"/usr/lib/python3.9/concurrent/futures/_base.py\", line 389, in __get_result\n",
      "    raise self._exception\n",
      "  File \"/home/flavia.costa/.local/lib/python3.9/site-packages/tenacity/__init__.py\", line 433, in __call__\n",
      "    result = fn(*args, **kwargs)\n",
      "  File \"/home/flavia.costa/.local/lib/python3.9/site-packages/botocore/client.py\", line 391, in _api_call\n",
      "    return self._make_api_call(operation_name, kwargs)\n",
      "  File \"/home/flavia.costa/.local/lib/python3.9/site-packages/botocore/client.py\", line 719, in _make_api_call\n",
      "    raise error_class(parsed_response, operation_name)\n",
      "botocore.errorfactory.InvalidRequestException: An error occurred (InvalidRequestException) when calling the StartQueryExecution operation: line 19:42: mismatched input '|'. Expecting: '%', '*', '+', '-', '.', '/', 'AND', 'AT', 'EXCEPT', 'GROUP', 'HAVING', 'INTERSECT', 'LIMIT', 'OFFSET', 'OR', 'ORDER', 'UNION', '[', '||', <EOF>\n"
     ]
    }
   ],
   "source": [
    "base = ac.df_athena('flavia-costa', query)"
   ]
  },
  {
   "cell_type": "code",
   "execution_count": 9,
   "id": "ba7ae5e7-d89d-4226-a2e3-1035a0926ed5",
   "metadata": {},
   "outputs": [
    {
     "data": {
      "text/plain": [
       "<module 'aux.aed' from '/home/flavia.costa/work/git/codigos/aux/aed.py'>"
      ]
     },
     "execution_count": 9,
     "metadata": {},
     "output_type": "execute_result"
    }
   ],
   "source": [
    "import aux.aed as aed\n",
    "\n",
    "from importlib import reload\n",
    "reload(aed)"
   ]
  },
  {
   "cell_type": "code",
   "execution_count": 20,
   "id": "18038e3f-9209-46f5-b43f-9dcc34b816c2",
   "metadata": {},
   "outputs": [],
   "source": [
    "base['flag_churn'] = np.where(base['segmento_churn'] == 'd - sem churn', 0, 1)"
   ]
  },
  {
   "cell_type": "code",
   "execution_count": 8,
   "id": "33f3a7df-8366-4284-b077-c42d51317e0b",
   "metadata": {},
   "outputs": [
    {
     "name": "stdout",
     "output_type": "stream",
     "text": [
      "pf_genero_FEMALE ---> pf_genero_MALE -> correlacao de -0.9872144351961786\n",
      "__________________________________________\n",
      "pf_genero_MALE ---> pf_genero_FEMALE -> correlacao de -0.9872144351961786\n",
      "__________________________________________\n"
     ]
    }
   ],
   "source": [
    "aed.find_correl(base[['pf_origem_cliente', 'flag_churn', 'pf_genero', 'pf_renda_declarada_will', 'pf_regiao', 'pf_faixa_idade', 'issue']],'pf_origem_cliente' , 0.7)"
   ]
  },
  {
   "cell_type": "code",
   "execution_count": 16,
   "id": "823e9d44-f08c-4d00-97cc-926504d4dd46",
   "metadata": {},
   "outputs": [],
   "source": [
    "base['cont'] = 1"
   ]
  },
  {
   "cell_type": "code",
   "execution_count": null,
   "id": "779a6fc7-96e3-4781-99b7-d91d979532e7",
   "metadata": {
    "tags": []
   },
   "outputs": [],
   "source": [
    "aed.vi(base[['pf_origem_cliente', 'flag_churn', 'pf_genero', 'pf_renda_declarada_will', 'pf_regiao','cont' , 'pf_faixa_idade', 'issue']], 'pf_origem_cliente' , 'flag_churn')"
   ]
  },
  {
   "cell_type": "code",
   "execution_count": 18,
   "id": "ab2f3dac-2da8-4030-b023-b591f143659a",
   "metadata": {},
   "outputs": [
    {
     "data": {
      "text/plain": [
       "d - sem churn       522882\n",
       "a - churn alto      262887\n",
       "c - churn baixo     148936\n",
       "b - churn medio      52962\n",
       "e - nunca ativou     12333\n",
       "Name: segmento_churn, dtype: int64"
      ]
     },
     "execution_count": 18,
     "metadata": {},
     "output_type": "execute_result"
    }
   ],
   "source": [
    "base['segmento_churn'].value_counts()"
   ]
  },
  {
   "cell_type": "code",
   "execution_count": 12,
   "id": "2f5627f0-60d0-419b-8aa8-6cd8f6382cfc",
   "metadata": {},
   "outputs": [
    {
     "data": {
      "text/plain": [
       "<module 'aux.perfil' from '/home/flavia.costa/work/git/codigos/aux/perfil.py'>"
      ]
     },
     "execution_count": 12,
     "metadata": {},
     "output_type": "execute_result"
    }
   ],
   "source": [
    "import aux.perfil as pf\n",
    "\n",
    "from importlib import reload\n",
    "reload(pf)"
   ]
  },
  {
   "cell_type": "code",
   "execution_count": 21,
   "id": "33c86534-2bcb-4f21-9616-d9aa1b9de74f",
   "metadata": {},
   "outputs": [
    {
     "name": "stderr",
     "output_type": "stream",
     "text": [
      "/home/flavia.costa/work/git/codigos/aux/perfil.py:280: SettingWithCopyWarning: \n",
      "A value is trying to be set on a copy of a slice from a DataFrame.\n",
      "Try using .loc[row_indexer,col_indexer] = value instead\n",
      "\n",
      "See the caveats in the documentation: https://pandas.pydata.org/pandas-docs/stable/user_guide/indexing.html#returning-a-view-versus-a-copy\n",
      "  df[coluna_contagem] = df[coluna_contagem].astype('int')\n",
      "/home/flavia.costa/work/git/codigos/aux/perfil.py:333: FutureWarning: The frame.append method is deprecated and will be removed from pandas in a future version. Use pandas.concat instead.\n",
      "  casos_signif_final = casos_signif_final.append(casos_signif).sort_values('diferenca_abs', ascending = False)\n",
      "/home/flavia.costa/work/git/codigos/aux/perfil.py:333: FutureWarning: The frame.append method is deprecated and will be removed from pandas in a future version. Use pandas.concat instead.\n",
      "  casos_signif_final = casos_signif_final.append(casos_signif).sort_values('diferenca_abs', ascending = False)\n",
      "/home/flavia.costa/work/git/codigos/aux/perfil.py:333: FutureWarning: The frame.append method is deprecated and will be removed from pandas in a future version. Use pandas.concat instead.\n",
      "  casos_signif_final = casos_signif_final.append(casos_signif).sort_values('diferenca_abs', ascending = False)\n",
      "/home/flavia.costa/work/git/codigos/aux/perfil.py:333: FutureWarning: The frame.append method is deprecated and will be removed from pandas in a future version. Use pandas.concat instead.\n",
      "  casos_signif_final = casos_signif_final.append(casos_signif).sort_values('diferenca_abs', ascending = False)\n",
      "/home/flavia.costa/work/git/codigos/aux/perfil.py:333: FutureWarning: The frame.append method is deprecated and will be removed from pandas in a future version. Use pandas.concat instead.\n",
      "  casos_signif_final = casos_signif_final.append(casos_signif).sort_values('diferenca_abs', ascending = False)\n",
      "/home/flavia.costa/work/git/codigos/aux/perfil.py:388: FutureWarning: The frame.append method is deprecated and will be removed from pandas in a future version. Use pandas.concat instead.\n",
      "  casos_signif_final = casos_signif_final.append(casos_signif).sort_values('diferenca_abs', ascending = False)\n",
      "/home/flavia.costa/work/git/codigos/aux/perfil.py:388: FutureWarning: The frame.append method is deprecated and will be removed from pandas in a future version. Use pandas.concat instead.\n",
      "  casos_signif_final = casos_signif_final.append(casos_signif).sort_values('diferenca_abs', ascending = False)\n",
      "/home/flavia.costa/work/git/codigos/aux/perfil.py:388: FutureWarning: The frame.append method is deprecated and will be removed from pandas in a future version. Use pandas.concat instead.\n",
      "  casos_signif_final = casos_signif_final.append(casos_signif).sort_values('diferenca_abs', ascending = False)\n",
      "/home/flavia.costa/work/git/codigos/aux/perfil.py:388: FutureWarning: The frame.append method is deprecated and will be removed from pandas in a future version. Use pandas.concat instead.\n",
      "  casos_signif_final = casos_signif_final.append(casos_signif).sort_values('diferenca_abs', ascending = False)\n",
      "/home/flavia.costa/work/git/codigos/aux/perfil.py:388: FutureWarning: The frame.append method is deprecated and will be removed from pandas in a future version. Use pandas.concat instead.\n",
      "  casos_signif_final = casos_signif_final.append(casos_signif).sort_values('diferenca_abs', ascending = False)\n"
     ]
    },
    {
     "name": "stdout",
     "output_type": "stream",
     "text": [
      "report dos perfis finalizado!\n"
     ]
    },
    {
     "name": "stderr",
     "output_type": "stream",
     "text": [
      "/home/flavia.costa/work/git/codigos/aux/perfil.py:388: FutureWarning: The frame.append method is deprecated and will be removed from pandas in a future version. Use pandas.concat instead.\n",
      "  casos_signif_final = casos_signif_final.append(casos_signif).sort_values('diferenca_abs', ascending = False)\n"
     ]
    }
   ],
   "source": [
    "campos = ['pf_origem_cliente', 'pf_genero', 'pf_renda_declarada_will', 'pf_regiao', 'pf_faixa_idade', 'issue']\n",
    "pf.report_perfil_grupos(base, 'flag_churn', 'cont', 0.07, 100, campos)"
   ]
  }
 ],
 "metadata": {
  "kernelspec": {
   "display_name": "Python 3.8.10 64-bit",
   "language": "python",
   "name": "python3"
  },
  "language_info": {
   "codemirror_mode": {
    "name": "ipython",
    "version": 3
   },
   "file_extension": ".py",
   "mimetype": "text/x-python",
   "name": "python",
   "nbconvert_exporter": "python",
   "pygments_lexer": "ipython3",
   "version": "3.8.10"
  },
  "vscode": {
   "interpreter": {
    "hash": "916dbcbb3f70747c44a77c7bcd40155683ae19c65e1c03b4aa3499c5328201f1"
   }
  }
 },
 "nbformat": 4,
 "nbformat_minor": 5
}
