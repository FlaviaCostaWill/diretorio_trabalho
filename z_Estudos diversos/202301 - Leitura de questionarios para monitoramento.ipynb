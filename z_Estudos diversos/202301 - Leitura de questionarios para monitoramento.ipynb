{
 "cells": [
  {
   "attachments": {},
   "cell_type": "markdown",
   "metadata": {},
   "source": [
    "## Introdução\n",
    "\n",
    "O objetivo é a leitura dos questionários do link https://docs.google.com/spreadsheets/d/1dn1w3ZRTzweuhwFWHCZognHeNSHIubiWK_-6Mzz5MLQ/edit#gid=1514468860 \n",
    "para subida na sandbox e posterior monitoramento do modelo de perfil no looker\n"
   ]
  },
  {
   "attachments": {},
   "cell_type": "markdown",
   "metadata": {},
   "source": [
    "### Imports"
   ]
  },
  {
   "cell_type": "code",
   "execution_count": 1,
   "metadata": {},
   "outputs": [],
   "source": [
    "import os\n",
    "import gspread\n",
    "from oauth2client.service_account import ServiceAccountCredentials\n",
    "from df2gspread import df2gspread as d2g\n",
    "import pandas as pd\n",
    "import numpy as np\n",
    "import boto3\n",
    "import io\n",
    "from io import StringIO\n",
    "from datetime import datetime, date\n",
    "import awswrangler as wr"
   ]
  },
  {
   "cell_type": "code",
   "execution_count": 2,
   "metadata": {},
   "outputs": [],
   "source": [
    "# Função para leitura pelo api do google\n",
    "scope = ['https://spreadsheets.google.com/feeds', 'https://www.googleapis.com/auth/spreadsheets',\n",
    "          'https://www.googleapis.com/auth/drive']\n",
    "\n",
    "credentials =ServiceAccountCredentials.from_json_keyfile_name('client_secret_google.json', scope)\n",
    "gc = gspread.authorize(credentials)\n",
    "\n",
    "def login():\n",
    "    credentials =ServiceAccountCredentials.from_json_keyfile_name('client_secret_google.json', scope)\n",
    "    gc = gspread.authorize(credentials)\n",
    "    return gc\n",
    "\n",
    "def read_sheets(sheets_key, sheet):\n",
    "    planilha = login().open_by_key(sheets_key)\n",
    "    dados = planilha.worksheet(sheet).get_all_records()\n",
    "    df = pd.DataFrame(dados)\n",
    "    return df"
   ]
  },
  {
   "attachments": {},
   "cell_type": "markdown",
   "metadata": {},
   "source": [
    "### Leitura da Planilha. Foi feita uma cópia do original"
   ]
  },
  {
   "cell_type": "code",
   "execution_count": 4,
   "metadata": {},
   "outputs": [],
   "source": [
    "spreadsheet_key = '149Epk91daMpyBw5O45R8LJ6y7CRgHP9vCfzl4lxqd6I'\n",
    "\n",
    "agosto = read_sheets(spreadsheet_key, 'agosto')\n",
    "novembro = read_sheets(spreadsheet_key, 'novembro')"
   ]
  },
  {
   "cell_type": "code",
   "execution_count": 7,
   "metadata": {},
   "outputs": [],
   "source": [
    "agosto['dt_pesquisa'] = pd.to_datetime('2022-08-01', format = '%Y-%m-%d')\n",
    "novembro['dt_pesquisa'] = pd.to_datetime('2022-11-01',format = '%Y-%m-%d')"
   ]
  },
  {
   "cell_type": "code",
   "execution_count": 8,
   "metadata": {},
   "outputs": [
    {
     "data": {
      "text/html": [
       "<div>\n",
       "<style scoped>\n",
       "    .dataframe tbody tr th:only-of-type {\n",
       "        vertical-align: middle;\n",
       "    }\n",
       "\n",
       "    .dataframe tbody tr th {\n",
       "        vertical-align: top;\n",
       "    }\n",
       "\n",
       "    .dataframe thead th {\n",
       "        text-align: right;\n",
       "    }\n",
       "</style>\n",
       "<table border=\"1\" class=\"dataframe\">\n",
       "  <thead>\n",
       "    <tr style=\"text-align: right;\">\n",
       "      <th></th>\n",
       "      <th>e-mail</th>\n",
       "      <th>id_typeform</th>\n",
       "      <th>id_pesquisa</th>\n",
       "      <th>Barrado</th>\n",
       "      <th>Compartilhador</th>\n",
       "      <th>Multiplicador de Grana</th>\n",
       "      <th>Acumulador</th>\n",
       "      <th>dt_pesquisa</th>\n",
       "    </tr>\n",
       "  </thead>\n",
       "  <tbody>\n",
       "    <tr>\n",
       "      <th>0</th>\n",
       "      <td>marcosmarquinhos198621@gmail.com</td>\n",
       "      <td>qpvwj2eipsbim5vr2fa8mqpvwj8rkd7s</td>\n",
       "      <td>1</td>\n",
       "      <td>0</td>\n",
       "      <td>0</td>\n",
       "      <td>1</td>\n",
       "      <td>0</td>\n",
       "      <td>2022-08-01</td>\n",
       "    </tr>\n",
       "    <tr>\n",
       "      <th>1</th>\n",
       "      <td>tais2017csc@gmail.com</td>\n",
       "      <td>rn54za3zz1w2ix7cd1qrn54p4dqa1obp</td>\n",
       "      <td>2</td>\n",
       "      <td>0</td>\n",
       "      <td>0</td>\n",
       "      <td>1</td>\n",
       "      <td>0</td>\n",
       "      <td>2022-08-01</td>\n",
       "    </tr>\n",
       "    <tr>\n",
       "      <th>2</th>\n",
       "      <td>izapoetiza@hotmail.com</td>\n",
       "      <td>qyez1tquchupjcqyez9hrnvrkz428dtm</td>\n",
       "      <td>3</td>\n",
       "      <td>0</td>\n",
       "      <td>1</td>\n",
       "      <td>1</td>\n",
       "      <td>0</td>\n",
       "      <td>2022-08-01</td>\n",
       "    </tr>\n",
       "  </tbody>\n",
       "</table>\n",
       "</div>"
      ],
      "text/plain": [
       "                             e-mail                       id_typeform  \\\n",
       "0  marcosmarquinhos198621@gmail.com  qpvwj2eipsbim5vr2fa8mqpvwj8rkd7s   \n",
       "1             tais2017csc@gmail.com  rn54za3zz1w2ix7cd1qrn54p4dqa1obp   \n",
       "2            izapoetiza@hotmail.com  qyez1tquchupjcqyez9hrnvrkz428dtm   \n",
       "\n",
       "   id_pesquisa  Barrado  Compartilhador  Multiplicador de Grana  Acumulador  \\\n",
       "0            1        0               0                       1           0   \n",
       "1            2        0               0                       1           0   \n",
       "2            3        0               1                       1           0   \n",
       "\n",
       "  dt_pesquisa  \n",
       "0  2022-08-01  \n",
       "1  2022-08-01  \n",
       "2  2022-08-01  "
      ]
     },
     "execution_count": 8,
     "metadata": {},
     "output_type": "execute_result"
    }
   ],
   "source": [
    "agosto.head(3)"
   ]
  },
  {
   "cell_type": "code",
   "execution_count": 9,
   "metadata": {},
   "outputs": [
    {
     "data": {
      "text/html": [
       "<div>\n",
       "<style scoped>\n",
       "    .dataframe tbody tr th:only-of-type {\n",
       "        vertical-align: middle;\n",
       "    }\n",
       "\n",
       "    .dataframe tbody tr th {\n",
       "        vertical-align: top;\n",
       "    }\n",
       "\n",
       "    .dataframe thead th {\n",
       "        text-align: right;\n",
       "    }\n",
       "</style>\n",
       "<table border=\"1\" class=\"dataframe\">\n",
       "  <thead>\n",
       "    <tr style=\"text-align: right;\">\n",
       "      <th></th>\n",
       "      <th>e-mail</th>\n",
       "      <th>id_typeform</th>\n",
       "      <th>id_pesquisa</th>\n",
       "      <th>Barrado</th>\n",
       "      <th>Compartilhador</th>\n",
       "      <th>Multiplicador de Grana</th>\n",
       "      <th>Acumulador</th>\n",
       "      <th>dt_pesquisa</th>\n",
       "    </tr>\n",
       "  </thead>\n",
       "  <tbody>\n",
       "    <tr>\n",
       "      <th>0</th>\n",
       "      <td>020cabelinho@gmail.com</td>\n",
       "      <td>69k19idvw0vn6tlx169k19prcg2m7o6b</td>\n",
       "      <td>1</td>\n",
       "      <td>1</td>\n",
       "      <td>0</td>\n",
       "      <td>1</td>\n",
       "      <td>0</td>\n",
       "      <td>2022-11-01</td>\n",
       "    </tr>\n",
       "    <tr>\n",
       "      <th>1</th>\n",
       "      <td>06295728080v@gmail.com</td>\n",
       "      <td>ewzphc9seohrtevw91dncewzphc904og</td>\n",
       "      <td>2</td>\n",
       "      <td>1</td>\n",
       "      <td>0</td>\n",
       "      <td>1</td>\n",
       "      <td>0</td>\n",
       "      <td>2022-11-01</td>\n",
       "    </tr>\n",
       "    <tr>\n",
       "      <th>2</th>\n",
       "      <td>081973297223cc@gmail.com</td>\n",
       "      <td>bkxs48si38uavo38itbbkxs40j0qx63h</td>\n",
       "      <td>3</td>\n",
       "      <td>0</td>\n",
       "      <td>1</td>\n",
       "      <td>1</td>\n",
       "      <td>0</td>\n",
       "      <td>2022-11-01</td>\n",
       "    </tr>\n",
       "  </tbody>\n",
       "</table>\n",
       "</div>"
      ],
      "text/plain": [
       "                     e-mail                       id_typeform  id_pesquisa  \\\n",
       "0    020cabelinho@gmail.com  69k19idvw0vn6tlx169k19prcg2m7o6b            1   \n",
       "1    06295728080v@gmail.com  ewzphc9seohrtevw91dncewzphc904og            2   \n",
       "2  081973297223cc@gmail.com  bkxs48si38uavo38itbbkxs40j0qx63h            3   \n",
       "\n",
       "   Barrado  Compartilhador  Multiplicador de Grana  Acumulador dt_pesquisa  \n",
       "0        1               0                       1           0  2022-11-01  \n",
       "1        1               0                       1           0  2022-11-01  \n",
       "2        0               1                       1           0  2022-11-01  "
      ]
     },
     "execution_count": 9,
     "metadata": {},
     "output_type": "execute_result"
    }
   ],
   "source": [
    "novembro.head(3)"
   ]
  },
  {
   "cell_type": "code",
   "execution_count": 10,
   "metadata": {},
   "outputs": [
    {
     "name": "stderr",
     "output_type": "stream",
     "text": [
      "/tmp/ipykernel_1604888/2920195179.py:1: FutureWarning: The frame.append method is deprecated and will be removed from pandas in a future version. Use pandas.concat instead.\n",
      "  pesquisas = agosto.append(novembro)\n"
     ]
    },
    {
     "data": {
      "text/html": [
       "<div>\n",
       "<style scoped>\n",
       "    .dataframe tbody tr th:only-of-type {\n",
       "        vertical-align: middle;\n",
       "    }\n",
       "\n",
       "    .dataframe tbody tr th {\n",
       "        vertical-align: top;\n",
       "    }\n",
       "\n",
       "    .dataframe thead th {\n",
       "        text-align: right;\n",
       "    }\n",
       "</style>\n",
       "<table border=\"1\" class=\"dataframe\">\n",
       "  <thead>\n",
       "    <tr style=\"text-align: right;\">\n",
       "      <th></th>\n",
       "      <th>e-mail</th>\n",
       "      <th>id_typeform</th>\n",
       "      <th>id_pesquisa</th>\n",
       "      <th>Barrado</th>\n",
       "      <th>Compartilhador</th>\n",
       "      <th>Multiplicador de Grana</th>\n",
       "      <th>Acumulador</th>\n",
       "      <th>dt_pesquisa</th>\n",
       "    </tr>\n",
       "  </thead>\n",
       "  <tbody>\n",
       "    <tr>\n",
       "      <th>0</th>\n",
       "      <td>marcosmarquinhos198621@gmail.com</td>\n",
       "      <td>qpvwj2eipsbim5vr2fa8mqpvwj8rkd7s</td>\n",
       "      <td>1</td>\n",
       "      <td>0</td>\n",
       "      <td>0</td>\n",
       "      <td>1</td>\n",
       "      <td>0</td>\n",
       "      <td>2022-08-01</td>\n",
       "    </tr>\n",
       "    <tr>\n",
       "      <th>1</th>\n",
       "      <td>tais2017csc@gmail.com</td>\n",
       "      <td>rn54za3zz1w2ix7cd1qrn54p4dqa1obp</td>\n",
       "      <td>2</td>\n",
       "      <td>0</td>\n",
       "      <td>0</td>\n",
       "      <td>1</td>\n",
       "      <td>0</td>\n",
       "      <td>2022-08-01</td>\n",
       "    </tr>\n",
       "    <tr>\n",
       "      <th>2</th>\n",
       "      <td>izapoetiza@hotmail.com</td>\n",
       "      <td>qyez1tquchupjcqyez9hrnvrkz428dtm</td>\n",
       "      <td>3</td>\n",
       "      <td>0</td>\n",
       "      <td>1</td>\n",
       "      <td>1</td>\n",
       "      <td>0</td>\n",
       "      <td>2022-08-01</td>\n",
       "    </tr>\n",
       "    <tr>\n",
       "      <th>3</th>\n",
       "      <td>polianasimiema@gmail.com</td>\n",
       "      <td>m61nlwpnnst8ecvm61nuj7xcj6y1nfw5</td>\n",
       "      <td>4</td>\n",
       "      <td>0</td>\n",
       "      <td>0</td>\n",
       "      <td>1</td>\n",
       "      <td>0</td>\n",
       "      <td>2022-08-01</td>\n",
       "    </tr>\n",
       "    <tr>\n",
       "      <th>4</th>\n",
       "      <td>alexbarbosa198718@gmail.com</td>\n",
       "      <td>2wh22fof954l91k72wh22fiimp0f06sq</td>\n",
       "      <td>5</td>\n",
       "      <td>0</td>\n",
       "      <td>0</td>\n",
       "      <td>1</td>\n",
       "      <td>0</td>\n",
       "      <td>2022-08-01</td>\n",
       "    </tr>\n",
       "  </tbody>\n",
       "</table>\n",
       "</div>"
      ],
      "text/plain": [
       "                             e-mail                       id_typeform  \\\n",
       "0  marcosmarquinhos198621@gmail.com  qpvwj2eipsbim5vr2fa8mqpvwj8rkd7s   \n",
       "1             tais2017csc@gmail.com  rn54za3zz1w2ix7cd1qrn54p4dqa1obp   \n",
       "2            izapoetiza@hotmail.com  qyez1tquchupjcqyez9hrnvrkz428dtm   \n",
       "3          polianasimiema@gmail.com  m61nlwpnnst8ecvm61nuj7xcj6y1nfw5   \n",
       "4       alexbarbosa198718@gmail.com  2wh22fof954l91k72wh22fiimp0f06sq   \n",
       "\n",
       "   id_pesquisa  Barrado  Compartilhador  Multiplicador de Grana  Acumulador  \\\n",
       "0            1        0               0                       1           0   \n",
       "1            2        0               0                       1           0   \n",
       "2            3        0               1                       1           0   \n",
       "3            4        0               0                       1           0   \n",
       "4            5        0               0                       1           0   \n",
       "\n",
       "  dt_pesquisa  \n",
       "0  2022-08-01  \n",
       "1  2022-08-01  \n",
       "2  2022-08-01  \n",
       "3  2022-08-01  \n",
       "4  2022-08-01  "
      ]
     },
     "execution_count": 10,
     "metadata": {},
     "output_type": "execute_result"
    }
   ],
   "source": [
    "pesquisas = agosto.append(novembro)\n",
    "pesquisas.head()"
   ]
  },
  {
   "cell_type": "code",
   "execution_count": 11,
   "metadata": {},
   "outputs": [
    {
     "data": {
      "text/html": [
       "<div>\n",
       "<style scoped>\n",
       "    .dataframe tbody tr th:only-of-type {\n",
       "        vertical-align: middle;\n",
       "    }\n",
       "\n",
       "    .dataframe tbody tr th {\n",
       "        vertical-align: top;\n",
       "    }\n",
       "\n",
       "    .dataframe thead th {\n",
       "        text-align: right;\n",
       "    }\n",
       "</style>\n",
       "<table border=\"1\" class=\"dataframe\">\n",
       "  <thead>\n",
       "    <tr style=\"text-align: right;\">\n",
       "      <th></th>\n",
       "      <th>e-mail</th>\n",
       "      <th>id_typeform</th>\n",
       "      <th>id_pesquisa</th>\n",
       "      <th>Barrado</th>\n",
       "      <th>Compartilhador</th>\n",
       "      <th>Multiplicador de Grana</th>\n",
       "      <th>Acumulador</th>\n",
       "      <th>dt_pesquisa</th>\n",
       "    </tr>\n",
       "  </thead>\n",
       "  <tbody>\n",
       "    <tr>\n",
       "      <th>2712</th>\n",
       "      <td>zefinhalucena1981@gmail.com</td>\n",
       "      <td>916uio0r4hg511i916opp01hxh9elv87</td>\n",
       "      <td>2713</td>\n",
       "      <td>0</td>\n",
       "      <td>1</td>\n",
       "      <td>1</td>\n",
       "      <td>0</td>\n",
       "      <td>2022-11-01</td>\n",
       "    </tr>\n",
       "    <tr>\n",
       "      <th>2713</th>\n",
       "      <td>zenaide.mcmartins@gmail.com</td>\n",
       "      <td>lz3uqyktll1okl05g1vlz3uqypm999uk</td>\n",
       "      <td>2714</td>\n",
       "      <td>1</td>\n",
       "      <td>0</td>\n",
       "      <td>0</td>\n",
       "      <td>0</td>\n",
       "      <td>2022-11-01</td>\n",
       "    </tr>\n",
       "    <tr>\n",
       "      <th>2714</th>\n",
       "      <td>zeneidericardo123@gmail.com</td>\n",
       "      <td>mloony1lnpjfrpqmloo6sld43jj3h1tp</td>\n",
       "      <td>2715</td>\n",
       "      <td>0</td>\n",
       "      <td>1</td>\n",
       "      <td>0</td>\n",
       "      <td>0</td>\n",
       "      <td>2022-11-01</td>\n",
       "    </tr>\n",
       "    <tr>\n",
       "      <th>2715</th>\n",
       "      <td>zezinhopublicidades@outlook.com.br</td>\n",
       "      <td>9z8lcs32hovvwc711da9sl9z8lcs3ybn</td>\n",
       "      <td>2716</td>\n",
       "      <td>1</td>\n",
       "      <td>0</td>\n",
       "      <td>1</td>\n",
       "      <td>1</td>\n",
       "      <td>2022-11-01</td>\n",
       "    </tr>\n",
       "    <tr>\n",
       "      <th>2716</th>\n",
       "      <td>zidneianeves@hotmail.com</td>\n",
       "      <td>fpxgl6mpbicrbxztg6ufpxgl6m4fdv4q</td>\n",
       "      <td>2717</td>\n",
       "      <td>0</td>\n",
       "      <td>0</td>\n",
       "      <td>1</td>\n",
       "      <td>1</td>\n",
       "      <td>2022-11-01</td>\n",
       "    </tr>\n",
       "  </tbody>\n",
       "</table>\n",
       "</div>"
      ],
      "text/plain": [
       "                                  e-mail                       id_typeform  \\\n",
       "2712         zefinhalucena1981@gmail.com  916uio0r4hg511i916opp01hxh9elv87   \n",
       "2713         zenaide.mcmartins@gmail.com  lz3uqyktll1okl05g1vlz3uqypm999uk   \n",
       "2714         zeneidericardo123@gmail.com  mloony1lnpjfrpqmloo6sld43jj3h1tp   \n",
       "2715  zezinhopublicidades@outlook.com.br  9z8lcs32hovvwc711da9sl9z8lcs3ybn   \n",
       "2716            zidneianeves@hotmail.com  fpxgl6mpbicrbxztg6ufpxgl6m4fdv4q   \n",
       "\n",
       "      id_pesquisa  Barrado  Compartilhador  Multiplicador de Grana  \\\n",
       "2712         2713        0               1                       1   \n",
       "2713         2714        1               0                       0   \n",
       "2714         2715        0               1                       0   \n",
       "2715         2716        1               0                       1   \n",
       "2716         2717        0               0                       1   \n",
       "\n",
       "      Acumulador dt_pesquisa  \n",
       "2712           0  2022-11-01  \n",
       "2713           0  2022-11-01  \n",
       "2714           0  2022-11-01  \n",
       "2715           1  2022-11-01  \n",
       "2716           1  2022-11-01  "
      ]
     },
     "execution_count": 11,
     "metadata": {},
     "output_type": "execute_result"
    }
   ],
   "source": [
    "pesquisas.tail()"
   ]
  },
  {
   "cell_type": "code",
   "execution_count": 32,
   "metadata": {},
   "outputs": [
    {
     "data": {
      "text/plain": [
       "4878"
      ]
     },
     "execution_count": 32,
     "metadata": {},
     "output_type": "execute_result"
    }
   ],
   "source": [
    "len(pesquisas)"
   ]
  },
  {
   "attachments": {},
   "cell_type": "markdown",
   "metadata": {},
   "source": [
    "### Exportando para sandbox"
   ]
  },
  {
   "cell_type": "code",
   "execution_count": null,
   "metadata": {},
   "outputs": [],
   "source": [
    "#aws configure\n",
    "#para credenciais"
   ]
  },
  {
   "cell_type": "code",
   "execution_count": 31,
   "metadata": {},
   "outputs": [
    {
     "name": "stdout",
     "output_type": "stream",
     "text": [
      "upload: ./research.perfis_ago_nov_22.csv to s3://data-sandbox-zone-will-prod/upload/research.perfis_ago_nov_22.csv\n"
     ]
    },
    {
     "data": {
      "text/plain": [
       "0"
      ]
     },
     "execution_count": 31,
     "metadata": {},
     "output_type": "execute_result"
    }
   ],
   "source": [
    "area = 'research'\n",
    "name = 'perfis_ago_nov_22.csv'\n",
    "filename = f'{area}.{name}'\n",
    "\n",
    "pesquisas.to_csv(filename)\n",
    "\n",
    "os.system(f'aws s3 cp {filename} s3://data-sandbox-zone-will-prod/upload/')"
   ]
  },
  {
   "attachments": {},
   "cell_type": "markdown",
   "metadata": {},
   "source": [
    "## Nova pesquisa em fev/23"
   ]
  },
  {
   "cell_type": "code",
   "execution_count": 4,
   "metadata": {},
   "outputs": [],
   "source": [
    "spreadsheet_key = '1uqz0PpWOlH62SOwmaqwhC24HQXUIPA-vpeVbkBGPma8'\n",
    "\n",
    "fevereiro = read_sheets(spreadsheet_key, 'exportar')\n"
   ]
  },
  {
   "cell_type": "code",
   "execution_count": 8,
   "metadata": {},
   "outputs": [],
   "source": [
    "#e-mail\tid_typeform\tid_pesquisa\tBarrado\tCompartilhador\tMultiplicador de Grana\tAcumulador\tdt_pesquisa\n",
    "fevereiro = fevereiro.rename(columns={'id_pesquisa':'id_typeform'})"
   ]
  },
  {
   "cell_type": "code",
   "execution_count": 10,
   "metadata": {},
   "outputs": [],
   "source": [
    "fevereiro.reset_index(inplace=True)"
   ]
  },
  {
   "cell_type": "code",
   "execution_count": 12,
   "metadata": {},
   "outputs": [],
   "source": [
    "fevereiro = fevereiro.rename(columns={'index':'id_pesquisa'})"
   ]
  },
  {
   "cell_type": "code",
   "execution_count": 13,
   "metadata": {},
   "outputs": [
    {
     "data": {
      "text/html": [
       "<div>\n",
       "<style scoped>\n",
       "    .dataframe tbody tr th:only-of-type {\n",
       "        vertical-align: middle;\n",
       "    }\n",
       "\n",
       "    .dataframe tbody tr th {\n",
       "        vertical-align: top;\n",
       "    }\n",
       "\n",
       "    .dataframe thead th {\n",
       "        text-align: right;\n",
       "    }\n",
       "</style>\n",
       "<table border=\"1\" class=\"dataframe\">\n",
       "  <thead>\n",
       "    <tr style=\"text-align: right;\">\n",
       "      <th></th>\n",
       "      <th>id_pesquisa</th>\n",
       "      <th>e_mail</th>\n",
       "      <th>id_typeform</th>\n",
       "      <th>dt_pesquisa</th>\n",
       "      <th>Barrado</th>\n",
       "      <th>Compartilhador</th>\n",
       "      <th>Multiplicador de Grana</th>\n",
       "      <th>Acumulador</th>\n",
       "    </tr>\n",
       "  </thead>\n",
       "  <tbody>\n",
       "    <tr>\n",
       "      <th>0</th>\n",
       "      <td>0</td>\n",
       "      <td>wjose9066@gmail.com</td>\n",
       "      <td>5wje8xmazs5xuazki5wje8xmhglur9qq</td>\n",
       "      <td>2023-02-01</td>\n",
       "      <td>0</td>\n",
       "      <td>0</td>\n",
       "      <td>1</td>\n",
       "      <td>0</td>\n",
       "    </tr>\n",
       "    <tr>\n",
       "      <th>1</th>\n",
       "      <td>1</td>\n",
       "      <td>Helenaohnesorge1966@gmail.com</td>\n",
       "      <td>2zfuqhzc3ozevq52jmsu2zfu9d27qecb</td>\n",
       "      <td>2023-02-01</td>\n",
       "      <td>0</td>\n",
       "      <td>1</td>\n",
       "      <td>1</td>\n",
       "      <td>0</td>\n",
       "    </tr>\n",
       "    <tr>\n",
       "      <th>2</th>\n",
       "      <td>2</td>\n",
       "      <td>gilmar.batista01souza@gmail.com</td>\n",
       "      <td>pedg87gbavbje36odf4opedg8nv5u6cy</td>\n",
       "      <td>2023-02-01</td>\n",
       "      <td>1</td>\n",
       "      <td>1</td>\n",
       "      <td>1</td>\n",
       "      <td>0</td>\n",
       "    </tr>\n",
       "    <tr>\n",
       "      <th>3</th>\n",
       "      <td>3</td>\n",
       "      <td>arlenefreitas789@gmail.com</td>\n",
       "      <td>kvl7ykicw47kfalukvl7y3jfvoq29i8b</td>\n",
       "      <td>2023-02-01</td>\n",
       "      <td>1</td>\n",
       "      <td>0</td>\n",
       "      <td>1</td>\n",
       "      <td>0</td>\n",
       "    </tr>\n",
       "    <tr>\n",
       "      <th>4</th>\n",
       "      <td>4</td>\n",
       "      <td>emer7@msn.com</td>\n",
       "      <td>t1cb60r0y6cbwzw7pgqvs4t1cb60r0nw</td>\n",
       "      <td>2023-02-01</td>\n",
       "      <td>0</td>\n",
       "      <td>0</td>\n",
       "      <td>1</td>\n",
       "      <td>0</td>\n",
       "    </tr>\n",
       "  </tbody>\n",
       "</table>\n",
       "</div>"
      ],
      "text/plain": [
       "   id_pesquisa                           e_mail  \\\n",
       "0            0              wjose9066@gmail.com   \n",
       "1            1    Helenaohnesorge1966@gmail.com   \n",
       "2            2  gilmar.batista01souza@gmail.com   \n",
       "3            3       arlenefreitas789@gmail.com   \n",
       "4            4                    emer7@msn.com   \n",
       "\n",
       "                        id_typeform dt_pesquisa  Barrado  Compartilhador  \\\n",
       "0  5wje8xmazs5xuazki5wje8xmhglur9qq  2023-02-01        0               0   \n",
       "1  2zfuqhzc3ozevq52jmsu2zfu9d27qecb  2023-02-01        0               1   \n",
       "2  pedg87gbavbje36odf4opedg8nv5u6cy  2023-02-01        1               1   \n",
       "3  kvl7ykicw47kfalukvl7y3jfvoq29i8b  2023-02-01        1               0   \n",
       "4  t1cb60r0y6cbwzw7pgqvs4t1cb60r0nw  2023-02-01        0               0   \n",
       "\n",
       "   Multiplicador de Grana  Acumulador  \n",
       "0                       1           0  \n",
       "1                       1           0  \n",
       "2                       1           0  \n",
       "3                       1           0  \n",
       "4                       1           0  "
      ]
     },
     "execution_count": 13,
     "metadata": {},
     "output_type": "execute_result"
    }
   ],
   "source": [
    "fevereiro.head()"
   ]
  },
  {
   "cell_type": "code",
   "execution_count": 14,
   "metadata": {},
   "outputs": [
    {
     "name": "stdout",
     "output_type": "stream",
     "text": [
      "upload: ./research.perfis_fev_23.csv to s3://data-sandbox-zone-will-prod/upload/research.perfis_fev_23.csv\n"
     ]
    },
    {
     "data": {
      "text/plain": [
       "0"
      ]
     },
     "execution_count": 14,
     "metadata": {},
     "output_type": "execute_result"
    }
   ],
   "source": [
    "area = 'research'\n",
    "name = 'perfis_fev_23.csv'\n",
    "filename = f'{area}.{name}'\n",
    "\n",
    "fevereiro.to_csv(filename)\n",
    "\n",
    "os.system(f'aws s3 cp {filename} s3://data-sandbox-zone-will-prod/upload/')"
   ]
  },
  {
   "cell_type": "code",
   "execution_count": null,
   "metadata": {},
   "outputs": [],
   "source": [
    "#data-notifications"
   ]
  }
 ],
 "metadata": {
  "kernelspec": {
   "display_name": "Python 3",
   "language": "python",
   "name": "python3"
  },
  "language_info": {
   "codemirror_mode": {
    "name": "ipython",
    "version": 3
   },
   "file_extension": ".py",
   "mimetype": "text/x-python",
   "name": "python",
   "nbconvert_exporter": "python",
   "pygments_lexer": "ipython3",
   "version": "3.8.10"
  },
  "orig_nbformat": 4,
  "vscode": {
   "interpreter": {
    "hash": "916dbcbb3f70747c44a77c7bcd40155683ae19c65e1c03b4aa3499c5328201f1"
   }
  }
 },
 "nbformat": 4,
 "nbformat_minor": 2
}
