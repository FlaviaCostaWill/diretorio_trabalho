{
 "cells": [
  {
   "cell_type": "code",
   "execution_count": 1,
   "id": "eedb58fa-9298-47cb-b8f7-c756c6c9f055",
   "metadata": {},
   "outputs": [],
   "source": [
    "import pandas as pd\n",
    "import numpy as np\n",
    "import aux.acessos as ac\n",
    "import aux.perfil as pf"
   ]
  },
  {
   "cell_type": "code",
   "execution_count": 2,
   "id": "1947433a-3c36-40da-889a-dca8ad324c8e",
   "metadata": {},
   "outputs": [
    {
     "name": "stderr",
     "output_type": "stream",
     "text": [
      "Failed to execute query.\n",
      "Traceback (most recent call last):\n",
      "  File \"/home/flavia.costa/.local/lib/python3.9/site-packages/pyathena/common.py\", line 307, in _execute\n",
      "    query_id = retry_api_call(\n",
      "  File \"/home/flavia.costa/.local/lib/python3.9/site-packages/pyathena/util.py\", line 84, in retry_api_call\n",
      "    return retry(func, *args, **kwargs)\n",
      "  File \"/home/flavia.costa/.local/lib/python3.9/site-packages/tenacity/__init__.py\", line 430, in __call__\n",
      "    do = self.iter(retry_state=retry_state)\n",
      "  File \"/home/flavia.costa/.local/lib/python3.9/site-packages/tenacity/__init__.py\", line 367, in iter\n",
      "    return fut.result()\n",
      "  File \"/usr/lib/python3.9/concurrent/futures/_base.py\", line 433, in result\n",
      "    return self.__get_result()\n",
      "  File \"/usr/lib/python3.9/concurrent/futures/_base.py\", line 389, in __get_result\n",
      "    raise self._exception\n",
      "  File \"/home/flavia.costa/.local/lib/python3.9/site-packages/tenacity/__init__.py\", line 433, in __call__\n",
      "    result = fn(*args, **kwargs)\n",
      "  File \"/home/flavia.costa/.local/lib/python3.9/site-packages/botocore/client.py\", line 391, in _api_call\n",
      "    return self._make_api_call(operation_name, kwargs)\n",
      "  File \"/home/flavia.costa/.local/lib/python3.9/site-packages/botocore/client.py\", line 719, in _make_api_call\n",
      "    raise error_class(parsed_response, operation_name)\n",
      "botocore.errorfactory.InvalidRequestException: An error occurred (InvalidRequestException) when calling the StartQueryExecution operation: line 18:25: mismatched input 'credito'. Expecting: '%', '*', '+', '-', '.', '/', 'AND', 'AT', 'EXCEPT', 'GROUP', 'HAVING', 'INTERSECT', 'LIMIT', 'OFFSET', 'OR', 'ORDER', 'UNION', '[', '||', <EOF>\n"
     ]
    }
   ],
   "source": [
    "query_at = \"\"\"with aut as (\n",
    "select\t\n",
    "nr_cpf as cpf,\n",
    "substring(cast(dt_autorizacao as varchar), 1, 10) as dia,\n",
    "sum(vl_real) as spending_aut \n",
    "from\tplatform_curated_zone.authorization_will\n",
    "where   ds_transacao = 'credito'\t\n",
    "and\tds_status_compra = 'aprovada'\n",
    "and ds_mcc != 'TRANSACOES WEBSERVICE'\n",
    "and\tcd_retorno = '00'\n",
    "and ds_customer = 'will'\n",
    "and substring(cast(dt_autorizacao as varchar), 1, 10) in ('2021-10-08','2021-11-10','2021-12-20', '2022-01-15', '2022-02-16')\n",
    "group by 1,2\n",
    ")\n",
    ", trans as (\n",
    "select  \n",
    "cpf,\n",
    "substring(cast(dt_autorizacao as varchar), 1, 10) as dia,\n",
    "sum(vl_transacao) as spending_trans\n",
    "from backoffice_curated_zone.transaction\n",
    "where substring(cast(dt_autorizacao as varchar), 1, 10) in ('2021-10-08','2021-11-10','2021-12-20', '2022-01-15', '2022-02-16')\n",
    "and is_spending='Sim' --spending de credito retirando saque e recarga\n",
    "and is_cancelamento = 'Nao'\t\n",
    "and lower(ds_empresa) = 'will'\n",
    "group by 1,2 \n",
    ")\n",
    "select \n",
    "a.cpf, b.cpf as cpf_trans,\n",
    "a.dia, b.dia as dia_trans,\n",
    "spending_trans,\n",
    "spending_aut\n",
    "from aut a\n",
    "full join trans b on (b.dia = a.dia and b.cpf = a.cpf) \"\"\"\n",
    "\n",
    "df_at = ac.df_athena('flavia-costa', query_at)"
   ]
  },
  {
   "cell_type": "code",
   "execution_count": 3,
   "id": "5f5d1582-bbee-4d74-9e8d-af97acae3d50",
   "metadata": {},
   "outputs": [
    {
     "data": {
      "text/html": [
       "<div>\n",
       "<style scoped>\n",
       "    .dataframe tbody tr th:only-of-type {\n",
       "        vertical-align: middle;\n",
       "    }\n",
       "\n",
       "    .dataframe tbody tr th {\n",
       "        vertical-align: top;\n",
       "    }\n",
       "\n",
       "    .dataframe thead th {\n",
       "        text-align: right;\n",
       "    }\n",
       "</style>\n",
       "<table border=\"1\" class=\"dataframe\">\n",
       "  <thead>\n",
       "    <tr style=\"text-align: right;\">\n",
       "      <th></th>\n",
       "      <th>cpf</th>\n",
       "      <th>cpf_trans</th>\n",
       "      <th>dia</th>\n",
       "      <th>dia_trans</th>\n",
       "      <th>spending_trans</th>\n",
       "      <th>spending_aut</th>\n",
       "    </tr>\n",
       "  </thead>\n",
       "  <tbody>\n",
       "    <tr>\n",
       "      <th>0</th>\n",
       "      <td>05384581190</td>\n",
       "      <td>05384581190</td>\n",
       "      <td>2021-12-20</td>\n",
       "      <td>2021-12-20</td>\n",
       "      <td>10.20</td>\n",
       "      <td>10.20</td>\n",
       "    </tr>\n",
       "    <tr>\n",
       "      <th>1</th>\n",
       "      <td>00558198503</td>\n",
       "      <td>00558198503</td>\n",
       "      <td>2021-12-20</td>\n",
       "      <td>2021-12-20</td>\n",
       "      <td>12.10</td>\n",
       "      <td>12.10</td>\n",
       "    </tr>\n",
       "    <tr>\n",
       "      <th>2</th>\n",
       "      <td>12604357682</td>\n",
       "      <td>12604357682</td>\n",
       "      <td>2021-12-20</td>\n",
       "      <td>2021-12-20</td>\n",
       "      <td>181.44</td>\n",
       "      <td>181.44</td>\n",
       "    </tr>\n",
       "    <tr>\n",
       "      <th>3</th>\n",
       "      <td>13832538704</td>\n",
       "      <td>13832538704</td>\n",
       "      <td>2021-12-20</td>\n",
       "      <td>2021-12-20</td>\n",
       "      <td>30.65</td>\n",
       "      <td>30.65</td>\n",
       "    </tr>\n",
       "    <tr>\n",
       "      <th>4</th>\n",
       "      <td>14550166673</td>\n",
       "      <td>None</td>\n",
       "      <td>2021-12-20</td>\n",
       "      <td>None</td>\n",
       "      <td>NaN</td>\n",
       "      <td>126.19</td>\n",
       "    </tr>\n",
       "  </tbody>\n",
       "</table>\n",
       "</div>"
      ],
      "text/plain": [
       "           cpf    cpf_trans         dia   dia_trans  spending_trans  \\\n",
       "0  05384581190  05384581190  2021-12-20  2021-12-20           10.20   \n",
       "1  00558198503  00558198503  2021-12-20  2021-12-20           12.10   \n",
       "2  12604357682  12604357682  2021-12-20  2021-12-20          181.44   \n",
       "3  13832538704  13832538704  2021-12-20  2021-12-20           30.65   \n",
       "4  14550166673         None  2021-12-20        None             NaN   \n",
       "\n",
       "   spending_aut  \n",
       "0         10.20  \n",
       "1         12.10  \n",
       "2        181.44  \n",
       "3         30.65  \n",
       "4        126.19  "
      ]
     },
     "execution_count": 3,
     "metadata": {},
     "output_type": "execute_result"
    }
   ],
   "source": [
    "df_at.head()"
   ]
  },
  {
   "cell_type": "code",
   "execution_count": 4,
   "id": "285c1064-c8f4-4775-8af7-1bfb766e7167",
   "metadata": {},
   "outputs": [
    {
     "data": {
      "text/plain": [
       "7438"
      ]
     },
     "execution_count": 4,
     "metadata": {},
     "output_type": "execute_result"
    }
   ],
   "source": [
    "len(df_at.query('spending_aut > spending_trans'))"
   ]
  },
  {
   "cell_type": "code",
   "execution_count": 9,
   "id": "9b8adaeb-21ca-49d2-9080-148859bf438e",
   "metadata": {},
   "outputs": [
    {
     "data": {
      "text/plain": [
       "9575"
      ]
     },
     "execution_count": 9,
     "metadata": {},
     "output_type": "execute_result"
    }
   ],
   "source": [
    "len(df_at.query('spending_aut != spending_trans'))"
   ]
  },
  {
   "cell_type": "code",
   "execution_count": 5,
   "id": "ef62092c-4778-4376-ad77-213fc8966918",
   "metadata": {},
   "outputs": [
    {
     "data": {
      "text/plain": [
       "51322"
      ]
     },
     "execution_count": 5,
     "metadata": {},
     "output_type": "execute_result"
    }
   ],
   "source": [
    "len(df_at)"
   ]
  },
  {
   "cell_type": "code",
   "execution_count": 6,
   "id": "126c2279-ad1a-4746-9a39-ffe2238abe33",
   "metadata": {},
   "outputs": [],
   "source": [
    "df_at['dif'] = df_at['spending_aut'] - df_at['spending_trans']"
   ]
  },
  {
   "cell_type": "code",
   "execution_count": 7,
   "id": "5e8d46cc-c01f-474f-9edf-7bb00ca3f85c",
   "metadata": {},
   "outputs": [
    {
     "data": {
      "text/plain": [
       "10.458368523237473"
      ]
     },
     "execution_count": 7,
     "metadata": {},
     "output_type": "execute_result"
    }
   ],
   "source": [
    "df_at['dif'].mean()"
   ]
  },
  {
   "cell_type": "code",
   "execution_count": 18,
   "id": "404f631d-f6b1-42eb-b672-deb27b6c74ed",
   "metadata": {},
   "outputs": [
    {
     "data": {
      "text/plain": [
       "2631"
      ]
     },
     "execution_count": 18,
     "metadata": {},
     "output_type": "execute_result"
    }
   ],
   "source": [
    "len(df_at.query('dif > 1 or dif < -1'))"
   ]
  },
  {
   "cell_type": "code",
   "execution_count": 33,
   "id": "4232c303-c4b9-421d-99f4-85889a30269f",
   "metadata": {},
   "outputs": [],
   "source": [
    "agg = df_at.query('dif > 1 or dif < -1').groupby('dia').agg({'dif':['mean']} )"
   ]
  },
  {
   "cell_type": "code",
   "execution_count": 34,
   "id": "5d1efba4-685b-43fd-96c3-52eedc0e263f",
   "metadata": {},
   "outputs": [
    {
     "data": {
      "text/html": [
       "<div>\n",
       "<style scoped>\n",
       "    .dataframe tbody tr th:only-of-type {\n",
       "        vertical-align: middle;\n",
       "    }\n",
       "\n",
       "    .dataframe tbody tr th {\n",
       "        vertical-align: top;\n",
       "    }\n",
       "\n",
       "    .dataframe thead tr th {\n",
       "        text-align: left;\n",
       "    }\n",
       "\n",
       "    .dataframe thead tr:last-of-type th {\n",
       "        text-align: right;\n",
       "    }\n",
       "</style>\n",
       "<table border=\"1\" class=\"dataframe\">\n",
       "  <thead>\n",
       "    <tr>\n",
       "      <th></th>\n",
       "      <th>dif</th>\n",
       "    </tr>\n",
       "    <tr>\n",
       "      <th></th>\n",
       "      <th>mean</th>\n",
       "    </tr>\n",
       "    <tr>\n",
       "      <th>dia</th>\n",
       "      <th></th>\n",
       "    </tr>\n",
       "  </thead>\n",
       "  <tbody>\n",
       "    <tr>\n",
       "      <th>2021-10-08</th>\n",
       "      <td>205.158029</td>\n",
       "    </tr>\n",
       "    <tr>\n",
       "      <th>2021-11-10</th>\n",
       "      <td>268.409362</td>\n",
       "    </tr>\n",
       "    <tr>\n",
       "      <th>2021-12-20</th>\n",
       "      <td>274.350027</td>\n",
       "    </tr>\n",
       "    <tr>\n",
       "      <th>2022-01-15</th>\n",
       "      <td>117.154031</td>\n",
       "    </tr>\n",
       "    <tr>\n",
       "      <th>2022-02-16</th>\n",
       "      <td>203.852652</td>\n",
       "    </tr>\n",
       "  </tbody>\n",
       "</table>\n",
       "</div>"
      ],
      "text/plain": [
       "                   dif\n",
       "                  mean\n",
       "dia                   \n",
       "2021-10-08  205.158029\n",
       "2021-11-10  268.409362\n",
       "2021-12-20  274.350027\n",
       "2022-01-15  117.154031\n",
       "2022-02-16  203.852652"
      ]
     },
     "execution_count": 34,
     "metadata": {},
     "output_type": "execute_result"
    }
   ],
   "source": [
    "agg.head()"
   ]
  },
  {
   "cell_type": "code",
   "execution_count": 22,
   "id": "2f7d05be-a5c4-4c5e-a90c-a866faf7a551",
   "metadata": {},
   "outputs": [
    {
     "data": {
      "text/html": [
       "<div>\n",
       "<style scoped>\n",
       "    .dataframe tbody tr th:only-of-type {\n",
       "        vertical-align: middle;\n",
       "    }\n",
       "\n",
       "    .dataframe tbody tr th {\n",
       "        vertical-align: top;\n",
       "    }\n",
       "\n",
       "    .dataframe thead th {\n",
       "        text-align: right;\n",
       "    }\n",
       "</style>\n",
       "<table border=\"1\" class=\"dataframe\">\n",
       "  <thead>\n",
       "    <tr style=\"text-align: right;\">\n",
       "      <th></th>\n",
       "      <th>cpf</th>\n",
       "      <th>cpf_trans</th>\n",
       "      <th>dia</th>\n",
       "      <th>dia_trans</th>\n",
       "      <th>spending_trans</th>\n",
       "      <th>spending_aut</th>\n",
       "      <th>dif</th>\n",
       "    </tr>\n",
       "  </thead>\n",
       "  <tbody>\n",
       "    <tr>\n",
       "      <th>14436</th>\n",
       "      <td>73469432104</td>\n",
       "      <td>73469432104</td>\n",
       "      <td>2022-02-16</td>\n",
       "      <td>2022-02-16</td>\n",
       "      <td>2630.11</td>\n",
       "      <td>2700.69</td>\n",
       "      <td>70.58</td>\n",
       "    </tr>\n",
       "    <tr>\n",
       "      <th>34527</th>\n",
       "      <td>00536157600</td>\n",
       "      <td>00536157600</td>\n",
       "      <td>2022-02-16</td>\n",
       "      <td>2022-02-16</td>\n",
       "      <td>750.00</td>\n",
       "      <td>3012.96</td>\n",
       "      <td>2262.96</td>\n",
       "    </tr>\n",
       "    <tr>\n",
       "      <th>42534</th>\n",
       "      <td>19132829701</td>\n",
       "      <td>19132829701</td>\n",
       "      <td>2022-02-16</td>\n",
       "      <td>2022-02-16</td>\n",
       "      <td>63.69</td>\n",
       "      <td>70.76</td>\n",
       "      <td>7.07</td>\n",
       "    </tr>\n",
       "    <tr>\n",
       "      <th>17955</th>\n",
       "      <td>13537900708</td>\n",
       "      <td>13537900708</td>\n",
       "      <td>2022-01-15</td>\n",
       "      <td>2022-01-15</td>\n",
       "      <td>11.61</td>\n",
       "      <td>22.79</td>\n",
       "      <td>11.18</td>\n",
       "    </tr>\n",
       "    <tr>\n",
       "      <th>7075</th>\n",
       "      <td>10993392431</td>\n",
       "      <td>10993392431</td>\n",
       "      <td>2022-02-16</td>\n",
       "      <td>2022-02-16</td>\n",
       "      <td>653.54</td>\n",
       "      <td>668.43</td>\n",
       "      <td>14.89</td>\n",
       "    </tr>\n",
       "  </tbody>\n",
       "</table>\n",
       "</div>"
      ],
      "text/plain": [
       "               cpf    cpf_trans         dia   dia_trans  spending_trans  \\\n",
       "14436  73469432104  73469432104  2022-02-16  2022-02-16         2630.11   \n",
       "34527  00536157600  00536157600  2022-02-16  2022-02-16          750.00   \n",
       "42534  19132829701  19132829701  2022-02-16  2022-02-16           63.69   \n",
       "17955  13537900708  13537900708  2022-01-15  2022-01-15           11.61   \n",
       "7075   10993392431  10993392431  2022-02-16  2022-02-16          653.54   \n",
       "\n",
       "       spending_aut      dif  \n",
       "14436       2700.69    70.58  \n",
       "34527       3012.96  2262.96  \n",
       "42534         70.76     7.07  \n",
       "17955         22.79    11.18  \n",
       "7075         668.43    14.89  "
      ]
     },
     "execution_count": 22,
     "metadata": {},
     "output_type": "execute_result"
    }
   ],
   "source": [
    "df_at.query('dif > 1 or dif < -1').sample(5)"
   ]
  }
 ],
 "metadata": {
  "kernelspec": {
   "display_name": "Python 3",
   "language": "python",
   "name": "python3"
  },
  "language_info": {
   "codemirror_mode": {
    "name": "ipython",
    "version": 3
   },
   "file_extension": ".py",
   "mimetype": "text/x-python",
   "name": "python",
   "nbconvert_exporter": "python",
   "pygments_lexer": "ipython3",
   "version": "3.9.2"
  }
 },
 "nbformat": 4,
 "nbformat_minor": 5
}
