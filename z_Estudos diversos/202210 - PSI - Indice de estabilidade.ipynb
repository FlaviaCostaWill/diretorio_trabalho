{
 "cells": [
  {
   "cell_type": "code",
   "execution_count": 2,
   "metadata": {},
   "outputs": [],
   "source": [
    "import pandas as pd\n",
    "import numpy as np\n",
    "import aux.acessos as ac\n",
    "import seaborn as sns\n",
    "import matplotlib.pyplot as plt\n",
    "import pickle"
   ]
  },
  {
   "cell_type": "code",
   "execution_count": 3,
   "metadata": {},
   "outputs": [
    {
     "data": {
      "text/plain": [
       "134504"
      ]
     },
     "execution_count": 3,
     "metadata": {},
     "output_type": "execute_result"
    }
   ],
   "source": [
    "pb = pd.read_csv('outoftime_proba_decils_final.csv', sep =';')\n",
    "len(pb)"
   ]
  },
  {
   "cell_type": "code",
   "execution_count": 3,
   "metadata": {},
   "outputs": [
    {
     "data": {
      "text/html": [
       "<div>\n",
       "<style scoped>\n",
       "    .dataframe tbody tr th:only-of-type {\n",
       "        vertical-align: middle;\n",
       "    }\n",
       "\n",
       "    .dataframe tbody tr th {\n",
       "        vertical-align: top;\n",
       "    }\n",
       "\n",
       "    .dataframe thead th {\n",
       "        text-align: right;\n",
       "    }\n",
       "</style>\n",
       "<table border=\"1\" class=\"dataframe\">\n",
       "  <thead>\n",
       "    <tr style=\"text-align: right;\">\n",
       "      <th></th>\n",
       "      <th>Unnamed: 0</th>\n",
       "      <th>conta_cartao</th>\n",
       "      <th>proba</th>\n",
       "      <th>decil_score</th>\n",
       "      <th>year</th>\n",
       "      <th>month</th>\n",
       "    </tr>\n",
       "  </thead>\n",
       "  <tbody>\n",
       "    <tr>\n",
       "      <th>0</th>\n",
       "      <td>0</td>\n",
       "      <td>4270104</td>\n",
       "      <td>0.121787</td>\n",
       "      <td>3</td>\n",
       "      <td>2022</td>\n",
       "      <td>5</td>\n",
       "    </tr>\n",
       "    <tr>\n",
       "      <th>1</th>\n",
       "      <td>1</td>\n",
       "      <td>4305804</td>\n",
       "      <td>0.119593</td>\n",
       "      <td>3</td>\n",
       "      <td>2022</td>\n",
       "      <td>5</td>\n",
       "    </tr>\n",
       "    <tr>\n",
       "      <th>2</th>\n",
       "      <td>2</td>\n",
       "      <td>4319104</td>\n",
       "      <td>0.162291</td>\n",
       "      <td>2</td>\n",
       "      <td>2022</td>\n",
       "      <td>5</td>\n",
       "    </tr>\n",
       "    <tr>\n",
       "      <th>3</th>\n",
       "      <td>3</td>\n",
       "      <td>44311750</td>\n",
       "      <td>0.049459</td>\n",
       "      <td>6</td>\n",
       "      <td>2022</td>\n",
       "      <td>5</td>\n",
       "    </tr>\n",
       "    <tr>\n",
       "      <th>4</th>\n",
       "      <td>4</td>\n",
       "      <td>44318360</td>\n",
       "      <td>0.141022</td>\n",
       "      <td>2</td>\n",
       "      <td>2022</td>\n",
       "      <td>5</td>\n",
       "    </tr>\n",
       "  </tbody>\n",
       "</table>\n",
       "</div>"
      ],
      "text/plain": [
       "   Unnamed: 0  conta_cartao     proba  decil_score  year  month\n",
       "0           0       4270104  0.121787            3  2022      5\n",
       "1           1       4305804  0.119593            3  2022      5\n",
       "2           2       4319104  0.162291            2  2022      5\n",
       "3           3      44311750  0.049459            6  2022      5\n",
       "4           4      44318360  0.141022            2  2022      5"
      ]
     },
     "execution_count": 3,
     "metadata": {},
     "output_type": "execute_result"
    }
   ],
   "source": [
    "pb.head()"
   ]
  },
  {
   "cell_type": "code",
   "execution_count": 4,
   "metadata": {},
   "outputs": [],
   "source": [
    "pb_s1 = pb.iloc[0:50000,]"
   ]
  },
  {
   "cell_type": "code",
   "execution_count": 5,
   "metadata": {},
   "outputs": [],
   "source": [
    "pb_s2 = pb.iloc[50001:80000,]"
   ]
  },
  {
   "cell_type": "code",
   "execution_count": 14,
   "metadata": {},
   "outputs": [
    {
     "name": "stderr",
     "output_type": "stream",
     "text": [
      "/tmp/ipykernel_499294/2682672314.py:1: SettingWithCopyWarning: \n",
      "A value is trying to be set on a copy of a slice from a DataFrame.\n",
      "Try using .loc[row_indexer,col_indexer] = value instead\n",
      "\n",
      "See the caveats in the documentation: https://pandas.pydata.org/pandas-docs/stable/user_guide/indexing.html#returning-a-view-versus-a-copy\n",
      "  pb_s1['bin_temp'] = pd.qcut(pb_s1['proba'], q=10, precision=0, labels=False)\n"
     ]
    },
    {
     "data": {
      "text/html": [
       "<div>\n",
       "<style scoped>\n",
       "    .dataframe tbody tr th:only-of-type {\n",
       "        vertical-align: middle;\n",
       "    }\n",
       "\n",
       "    .dataframe tbody tr th {\n",
       "        vertical-align: top;\n",
       "    }\n",
       "\n",
       "    .dataframe thead th {\n",
       "        text-align: right;\n",
       "    }\n",
       "</style>\n",
       "<table border=\"1\" class=\"dataframe\">\n",
       "  <thead>\n",
       "    <tr style=\"text-align: right;\">\n",
       "      <th></th>\n",
       "      <th>bin_temp</th>\n",
       "      <th>min</th>\n",
       "      <th>max</th>\n",
       "    </tr>\n",
       "  </thead>\n",
       "  <tbody>\n",
       "    <tr>\n",
       "      <th>0</th>\n",
       "      <td>0</td>\n",
       "      <td>0.001053</td>\n",
       "      <td>0.003663</td>\n",
       "    </tr>\n",
       "    <tr>\n",
       "      <th>1</th>\n",
       "      <td>1</td>\n",
       "      <td>0.003663</td>\n",
       "      <td>0.008422</td>\n",
       "    </tr>\n",
       "    <tr>\n",
       "      <th>2</th>\n",
       "      <td>2</td>\n",
       "      <td>0.008426</td>\n",
       "      <td>0.025321</td>\n",
       "    </tr>\n",
       "    <tr>\n",
       "      <th>3</th>\n",
       "      <td>3</td>\n",
       "      <td>0.025322</td>\n",
       "      <td>0.044476</td>\n",
       "    </tr>\n",
       "    <tr>\n",
       "      <th>4</th>\n",
       "      <td>4</td>\n",
       "      <td>0.044491</td>\n",
       "      <td>0.063179</td>\n",
       "    </tr>\n",
       "    <tr>\n",
       "      <th>5</th>\n",
       "      <td>5</td>\n",
       "      <td>0.063181</td>\n",
       "      <td>0.081897</td>\n",
       "    </tr>\n",
       "    <tr>\n",
       "      <th>6</th>\n",
       "      <td>6</td>\n",
       "      <td>0.081901</td>\n",
       "      <td>0.104648</td>\n",
       "    </tr>\n",
       "    <tr>\n",
       "      <th>7</th>\n",
       "      <td>7</td>\n",
       "      <td>0.104655</td>\n",
       "      <td>0.138093</td>\n",
       "    </tr>\n",
       "    <tr>\n",
       "      <th>8</th>\n",
       "      <td>8</td>\n",
       "      <td>0.138097</td>\n",
       "      <td>0.212575</td>\n",
       "    </tr>\n",
       "    <tr>\n",
       "      <th>9</th>\n",
       "      <td>9</td>\n",
       "      <td>0.212654</td>\n",
       "      <td>0.928120</td>\n",
       "    </tr>\n",
       "  </tbody>\n",
       "</table>\n",
       "</div>"
      ],
      "text/plain": [
       "   bin_temp       min       max\n",
       "0         0  0.001053  0.003663\n",
       "1         1  0.003663  0.008422\n",
       "2         2  0.008426  0.025321\n",
       "3         3  0.025322  0.044476\n",
       "4         4  0.044491  0.063179\n",
       "5         5  0.063181  0.081897\n",
       "6         6  0.081901  0.104648\n",
       "7         7  0.104655  0.138093\n",
       "8         8  0.138097  0.212575\n",
       "9         9  0.212654  0.928120"
      ]
     },
     "execution_count": 14,
     "metadata": {},
     "output_type": "execute_result"
    }
   ],
   "source": [
    "pb_s1['bin_temp'] = pd.qcut(pb_s1['proba'], q=10, precision=0, labels=False) \n",
    "tres = pb_s1.groupby('bin_temp').agg({'proba':['min', 'max']})\n",
    "tres.columns = tres.columns.droplevel(0)\n",
    "tres = tres.reset_index()\n",
    "tres.head(10)"
   ]
  },
  {
   "cell_type": "code",
   "execution_count": 40,
   "metadata": {},
   "outputs": [],
   "source": [
    "#df 1 - In sample - Score de treinamento\n",
    "#df 2 - Out of time ou Teste\n",
    "\n",
    "def psi(df1, score1, contagem1, df2, score2, contagem2):\n",
    "    \n",
    "    pd.set_option('mode.chained_assignment', None)\n",
    "    df1['bin_score_df1'] = pd.qcut(df1[score1], q=10, precision=0, labels = False)\n",
    "    tresh = df1.groupby('bin_score_df1').agg({score1:['min', 'max']})\n",
    "    tresh.columns = tresh.columns.droplevel(0)\n",
    "    tresh = tresh.reset_index()\n",
    "        \n",
    "    df2['bin_score_df2'] = np.where(df2[score2] <= tresh.iloc[0, 2], 0, 100)\n",
    "    \n",
    "    for i in range(1, 9):\n",
    "        df2['bin_score_df2'] = np.where(df2['bin_score_df2'] != 100, df2['bin_score_df2'], \n",
    "                               np.where(df2[score2] <= tresh.iloc[i, 2], i, 100))\n",
    "    \n",
    "    agg1 = df1.groupby('bin_score_df1').agg({contagem1:['count']})\n",
    "    agg1.columns = agg1.columns.droplevel(0)\n",
    "    agg1 = agg1.reset_index()\n",
    "    agg2 = df2.groupby('bin_score_df2').agg({contagem2:['count']})\n",
    "    agg2.columns = agg2.columns.droplevel(0)\n",
    "    agg2 = agg2.reset_index()\n",
    "        \n",
    "    agg3 = pd.DataFrame()\n",
    "    agg3['dist1'] = agg1['count'] / (agg1['count'].sum())\n",
    "    agg3['dist2'] = agg2['count'] / (agg2['count'].sum())\n",
    "    agg3['psi'] = (agg3['dist1'] - agg3['dist2']) * np.log(agg3['dist1'] / agg3['dist2'])\n",
    "    \n",
    "   \n",
    "    psi_score = sum(agg3['psi'])\n",
    "    \n",
    "    print(\"Conclusão:\")\n",
    "    if psi_score < 0.1:\n",
    "        print(\"Sem alteração entre os scores\")\n",
    "    elif psi_score >= 0.1 and psi_score <= 0.25:\n",
    "        print(\"Mudanças pouco significativas\")\n",
    "    elif psi_score > 0.25:\n",
    "        print(\"Mudanças significativas\")\n",
    "    \n",
    "    print(\"Valor do índice de estabilidade: \")\n",
    "    return round(psi_score, 6)\n",
    "\n"
   ]
  },
  {
   "cell_type": "code",
   "execution_count": 41,
   "metadata": {},
   "outputs": [
    {
     "name": "stdout",
     "output_type": "stream",
     "text": [
      "Conclusão:\n",
      "Sem alteração entre os scores\n",
      "Valor do índice de estabilidade: \n"
     ]
    },
    {
     "data": {
      "text/plain": [
       "0.000308"
      ]
     },
     "execution_count": 41,
     "metadata": {},
     "output_type": "execute_result"
    }
   ],
   "source": [
    "psi(pb_s1, 'proba', 'conta_cartao', pb_s2, 'proba', 'conta_cartao')"
   ]
  }
 ],
 "metadata": {
  "kernelspec": {
   "display_name": "Python 3.8.10 64-bit",
   "language": "python",
   "name": "python3"
  },
  "language_info": {
   "codemirror_mode": {
    "name": "ipython",
    "version": 3
   },
   "file_extension": ".py",
   "mimetype": "text/x-python",
   "name": "python",
   "nbconvert_exporter": "python",
   "pygments_lexer": "ipython3",
   "version": "3.8.10"
  },
  "orig_nbformat": 4,
  "vscode": {
   "interpreter": {
    "hash": "916dbcbb3f70747c44a77c7bcd40155683ae19c65e1c03b4aa3499c5328201f1"
   }
  }
 },
 "nbformat": 4,
 "nbformat_minor": 2
}
