{
 "cells": [
  {
   "cell_type": "code",
   "execution_count": 1,
   "metadata": {},
   "outputs": [],
   "source": [
    "import pandas as pd\n",
    "import numpy as np\n",
    "import aux.acessos as ac\n",
    "import seaborn as sns\n",
    "import matplotlib.pyplot as plt\n",
    "import pickle"
   ]
  },
  {
   "cell_type": "markdown",
   "metadata": {},
   "source": [
    "## Base com os decis do Stonks"
   ]
  },
  {
   "cell_type": "code",
   "execution_count": 2,
   "metadata": {},
   "outputs": [
    {
     "data": {
      "text/plain": [
       "134504"
      ]
     },
     "execution_count": 2,
     "metadata": {},
     "output_type": "execute_result"
    }
   ],
   "source": [
    "pb = pd.read_csv('outoftime_proba_decils_final.csv', sep =';')\n",
    "len(pb)"
   ]
  },
  {
   "cell_type": "code",
   "execution_count": null,
   "metadata": {},
   "outputs": [],
   "source": [
    "pb['bin_temp'] = pd.qcut(pb['proba'], q=10, precision=1)\n",
    "tres = pb.groupby('bin_temp').agg({'proba':['min', 'max']})\n",
    "tres.columns = tres.columns.droplevel(0)\n",
    "tres = tres.reset_index()\n",
    "tres.head(10)"
   ]
  },
  {
   "cell_type": "code",
   "execution_count": 3,
   "metadata": {},
   "outputs": [
    {
     "data": {
      "text/html": [
       "<div>\n",
       "<style scoped>\n",
       "    .dataframe tbody tr th:only-of-type {\n",
       "        vertical-align: middle;\n",
       "    }\n",
       "\n",
       "    .dataframe tbody tr th {\n",
       "        vertical-align: top;\n",
       "    }\n",
       "\n",
       "    .dataframe thead th {\n",
       "        text-align: right;\n",
       "    }\n",
       "</style>\n",
       "<table border=\"1\" class=\"dataframe\">\n",
       "  <thead>\n",
       "    <tr style=\"text-align: right;\">\n",
       "      <th></th>\n",
       "      <th>Unnamed: 0</th>\n",
       "      <th>conta_cartao</th>\n",
       "      <th>proba</th>\n",
       "      <th>decil_score</th>\n",
       "      <th>year</th>\n",
       "      <th>month</th>\n",
       "    </tr>\n",
       "  </thead>\n",
       "  <tbody>\n",
       "    <tr>\n",
       "      <th>0</th>\n",
       "      <td>0</td>\n",
       "      <td>4270104</td>\n",
       "      <td>0.121787</td>\n",
       "      <td>3</td>\n",
       "      <td>2022</td>\n",
       "      <td>5</td>\n",
       "    </tr>\n",
       "    <tr>\n",
       "      <th>1</th>\n",
       "      <td>1</td>\n",
       "      <td>4305804</td>\n",
       "      <td>0.119593</td>\n",
       "      <td>3</td>\n",
       "      <td>2022</td>\n",
       "      <td>5</td>\n",
       "    </tr>\n",
       "    <tr>\n",
       "      <th>2</th>\n",
       "      <td>2</td>\n",
       "      <td>4319104</td>\n",
       "      <td>0.162291</td>\n",
       "      <td>2</td>\n",
       "      <td>2022</td>\n",
       "      <td>5</td>\n",
       "    </tr>\n",
       "    <tr>\n",
       "      <th>3</th>\n",
       "      <td>3</td>\n",
       "      <td>44311750</td>\n",
       "      <td>0.049459</td>\n",
       "      <td>6</td>\n",
       "      <td>2022</td>\n",
       "      <td>5</td>\n",
       "    </tr>\n",
       "    <tr>\n",
       "      <th>4</th>\n",
       "      <td>4</td>\n",
       "      <td>44318360</td>\n",
       "      <td>0.141022</td>\n",
       "      <td>2</td>\n",
       "      <td>2022</td>\n",
       "      <td>5</td>\n",
       "    </tr>\n",
       "    <tr>\n",
       "      <th>5</th>\n",
       "      <td>5</td>\n",
       "      <td>44320860</td>\n",
       "      <td>0.746155</td>\n",
       "      <td>1</td>\n",
       "      <td>2022</td>\n",
       "      <td>5</td>\n",
       "    </tr>\n",
       "    <tr>\n",
       "      <th>6</th>\n",
       "      <td>6</td>\n",
       "      <td>44322630</td>\n",
       "      <td>0.732593</td>\n",
       "      <td>1</td>\n",
       "      <td>2022</td>\n",
       "      <td>5</td>\n",
       "    </tr>\n",
       "    <tr>\n",
       "      <th>7</th>\n",
       "      <td>7</td>\n",
       "      <td>44319870</td>\n",
       "      <td>0.258428</td>\n",
       "      <td>1</td>\n",
       "      <td>2022</td>\n",
       "      <td>5</td>\n",
       "    </tr>\n",
       "    <tr>\n",
       "      <th>8</th>\n",
       "      <td>8</td>\n",
       "      <td>44320680</td>\n",
       "      <td>0.177279</td>\n",
       "      <td>2</td>\n",
       "      <td>2022</td>\n",
       "      <td>5</td>\n",
       "    </tr>\n",
       "    <tr>\n",
       "      <th>9</th>\n",
       "      <td>9</td>\n",
       "      <td>44326470</td>\n",
       "      <td>0.081377</td>\n",
       "      <td>5</td>\n",
       "      <td>2022</td>\n",
       "      <td>5</td>\n",
       "    </tr>\n",
       "    <tr>\n",
       "      <th>10</th>\n",
       "      <td>10</td>\n",
       "      <td>44348880</td>\n",
       "      <td>0.047863</td>\n",
       "      <td>6</td>\n",
       "      <td>2022</td>\n",
       "      <td>5</td>\n",
       "    </tr>\n",
       "    <tr>\n",
       "      <th>11</th>\n",
       "      <td>11</td>\n",
       "      <td>44355770</td>\n",
       "      <td>0.004462</td>\n",
       "      <td>9</td>\n",
       "      <td>2022</td>\n",
       "      <td>5</td>\n",
       "    </tr>\n",
       "    <tr>\n",
       "      <th>12</th>\n",
       "      <td>12</td>\n",
       "      <td>4219904</td>\n",
       "      <td>0.378230</td>\n",
       "      <td>1</td>\n",
       "      <td>2022</td>\n",
       "      <td>5</td>\n",
       "    </tr>\n",
       "    <tr>\n",
       "      <th>13</th>\n",
       "      <td>13</td>\n",
       "      <td>44311380</td>\n",
       "      <td>0.044314</td>\n",
       "      <td>7</td>\n",
       "      <td>2022</td>\n",
       "      <td>5</td>\n",
       "    </tr>\n",
       "    <tr>\n",
       "      <th>14</th>\n",
       "      <td>14</td>\n",
       "      <td>44313250</td>\n",
       "      <td>0.073406</td>\n",
       "      <td>5</td>\n",
       "      <td>2022</td>\n",
       "      <td>5</td>\n",
       "    </tr>\n",
       "    <tr>\n",
       "      <th>15</th>\n",
       "      <td>15</td>\n",
       "      <td>44315380</td>\n",
       "      <td>0.102807</td>\n",
       "      <td>4</td>\n",
       "      <td>2022</td>\n",
       "      <td>5</td>\n",
       "    </tr>\n",
       "    <tr>\n",
       "      <th>16</th>\n",
       "      <td>16</td>\n",
       "      <td>44315590</td>\n",
       "      <td>0.123426</td>\n",
       "      <td>3</td>\n",
       "      <td>2022</td>\n",
       "      <td>5</td>\n",
       "    </tr>\n",
       "    <tr>\n",
       "      <th>17</th>\n",
       "      <td>17</td>\n",
       "      <td>44319840</td>\n",
       "      <td>0.141119</td>\n",
       "      <td>2</td>\n",
       "      <td>2022</td>\n",
       "      <td>5</td>\n",
       "    </tr>\n",
       "    <tr>\n",
       "      <th>18</th>\n",
       "      <td>18</td>\n",
       "      <td>4337604</td>\n",
       "      <td>0.083747</td>\n",
       "      <td>4</td>\n",
       "      <td>2022</td>\n",
       "      <td>5</td>\n",
       "    </tr>\n",
       "    <tr>\n",
       "      <th>19</th>\n",
       "      <td>19</td>\n",
       "      <td>44392290</td>\n",
       "      <td>0.077851</td>\n",
       "      <td>5</td>\n",
       "      <td>2022</td>\n",
       "      <td>5</td>\n",
       "    </tr>\n",
       "  </tbody>\n",
       "</table>\n",
       "</div>"
      ],
      "text/plain": [
       "    Unnamed: 0  conta_cartao     proba  decil_score  year  month\n",
       "0            0       4270104  0.121787            3  2022      5\n",
       "1            1       4305804  0.119593            3  2022      5\n",
       "2            2       4319104  0.162291            2  2022      5\n",
       "3            3      44311750  0.049459            6  2022      5\n",
       "4            4      44318360  0.141022            2  2022      5\n",
       "5            5      44320860  0.746155            1  2022      5\n",
       "6            6      44322630  0.732593            1  2022      5\n",
       "7            7      44319870  0.258428            1  2022      5\n",
       "8            8      44320680  0.177279            2  2022      5\n",
       "9            9      44326470  0.081377            5  2022      5\n",
       "10          10      44348880  0.047863            6  2022      5\n",
       "11          11      44355770  0.004462            9  2022      5\n",
       "12          12       4219904  0.378230            1  2022      5\n",
       "13          13      44311380  0.044314            7  2022      5\n",
       "14          14      44313250  0.073406            5  2022      5\n",
       "15          15      44315380  0.102807            4  2022      5\n",
       "16          16      44315590  0.123426            3  2022      5\n",
       "17          17      44319840  0.141119            2  2022      5\n",
       "18          18       4337604  0.083747            4  2022      5\n",
       "19          19      44392290  0.077851            5  2022      5"
      ]
     },
     "execution_count": 3,
     "metadata": {},
     "output_type": "execute_result"
    }
   ],
   "source": [
    "pb.head(20)"
   ]
  },
  {
   "cell_type": "code",
   "execution_count": 4,
   "metadata": {},
   "outputs": [
    {
     "data": {
      "text/plain": [
       "202205    133797\n",
       "202206       634\n",
       "202207        73\n",
       "Name: year-month, dtype: int64"
      ]
     },
     "execution_count": 4,
     "metadata": {},
     "output_type": "execute_result"
    }
   ],
   "source": [
    "pb['year-month'] = pb['year'] * 100 + pb['month']\n",
    "pb['year-month'].value_counts()"
   ]
  },
  {
   "cell_type": "markdown",
   "metadata": {},
   "source": [
    "## Base com visão única"
   ]
  },
  {
   "cell_type": "code",
   "execution_count": 70,
   "metadata": {},
   "outputs": [],
   "source": [
    "# safras = ['2017', '2018', '2019', '2020', '2021', '2022']\n",
    "\n",
    "# pers = pd.DataFrame()\n",
    "\n",
    "# for i in safras:\n",
    "#      query = \"select id_customer, cpf, ds_safra, limite, pc_sow, renda_declarada, fx_atraso_jun22, nr_behavior_score, score_gh from public.flavia_costa_temp_visao_unica \" + '\\n'\n",
    "#      query = query + \"where substring(ds_safra, 1, 4) = '\" \n",
    "#      query = query + i + \"'\"\n",
    "#      print(query)\n",
    "#      temp_pers = ac.df_athena_q('flavia-costa', query)\n",
    "#      pers = pers.append(temp_pers)\n",
    "\n",
    "# pers.to_pickle('stonks_picke.pkl')"
   ]
  },
  {
   "cell_type": "code",
   "execution_count": 71,
   "metadata": {},
   "outputs": [
    {
     "data": {
      "text/plain": [
       "3699237"
      ]
     },
     "execution_count": 71,
     "metadata": {},
     "output_type": "execute_result"
    }
   ],
   "source": [
    "infos = pd.read_pickle('stonks_picke.pkl')\n",
    "len(infos)"
   ]
  },
  {
   "cell_type": "code",
   "execution_count": 72,
   "metadata": {},
   "outputs": [],
   "source": [
    "#query = \"\"\"\n",
    "#    select id_customer, ds_safra, limite, pc_sow, renda_declarada, fx_atraso_jun22, nr_behavior_score, score_gh from public.flavia_costa_visao_unica\n",
    "\n",
    "#    \"\"\"\n",
    "    \n",
    "#infos = ac.df_athena('flavia-costa', query)\n",
    "#len(infos)"
   ]
  },
  {
   "cell_type": "code",
   "execution_count": 73,
   "metadata": {},
   "outputs": [],
   "source": [
    "def num(s):\n",
    "    try:\n",
    "        return int(s)\n",
    "    except ValueError:\n",
    "        return 0"
   ]
  },
  {
   "cell_type": "code",
   "execution_count": 74,
   "metadata": {},
   "outputs": [
    {
     "data": {
      "text/html": [
       "<div>\n",
       "<style scoped>\n",
       "    .dataframe tbody tr th:only-of-type {\n",
       "        vertical-align: middle;\n",
       "    }\n",
       "\n",
       "    .dataframe tbody tr th {\n",
       "        vertical-align: top;\n",
       "    }\n",
       "\n",
       "    .dataframe thead th {\n",
       "        text-align: right;\n",
       "    }\n",
       "</style>\n",
       "<table border=\"1\" class=\"dataframe\">\n",
       "  <thead>\n",
       "    <tr style=\"text-align: right;\">\n",
       "      <th></th>\n",
       "      <th>id_customer</th>\n",
       "      <th>cpf</th>\n",
       "      <th>ds_safra</th>\n",
       "      <th>limite</th>\n",
       "      <th>pc_sow</th>\n",
       "      <th>renda_declarada</th>\n",
       "      <th>fx_atraso_jun22</th>\n",
       "      <th>nr_behavior_score</th>\n",
       "      <th>score_gh</th>\n",
       "      <th>conta_cartao</th>\n",
       "    </tr>\n",
       "  </thead>\n",
       "  <tbody>\n",
       "    <tr>\n",
       "      <th>0</th>\n",
       "      <td>3441580</td>\n",
       "      <td>33028757893</td>\n",
       "      <td>2017-10</td>\n",
       "      <td>NaN</td>\n",
       "      <td>0.195907</td>\n",
       "      <td>0.01</td>\n",
       "      <td>0. Em dia</td>\n",
       "      <td>14.0</td>\n",
       "      <td>NaN</td>\n",
       "      <td>3441580</td>\n",
       "    </tr>\n",
       "    <tr>\n",
       "      <th>1</th>\n",
       "      <td>3453423</td>\n",
       "      <td>09395275456</td>\n",
       "      <td>2017-10</td>\n",
       "      <td>NaN</td>\n",
       "      <td>NaN</td>\n",
       "      <td>0.01</td>\n",
       "      <td>0. Em dia</td>\n",
       "      <td>NaN</td>\n",
       "      <td>NaN</td>\n",
       "      <td>3453423</td>\n",
       "    </tr>\n",
       "    <tr>\n",
       "      <th>2</th>\n",
       "      <td>3443959</td>\n",
       "      <td>14023659770</td>\n",
       "      <td>2017-10</td>\n",
       "      <td>NaN</td>\n",
       "      <td>0.000000</td>\n",
       "      <td>0.01</td>\n",
       "      <td>0. Em dia</td>\n",
       "      <td>NaN</td>\n",
       "      <td>NaN</td>\n",
       "      <td>3443959</td>\n",
       "    </tr>\n",
       "  </tbody>\n",
       "</table>\n",
       "</div>"
      ],
      "text/plain": [
       "  id_customer          cpf ds_safra  limite    pc_sow  renda_declarada  \\\n",
       "0     3441580  33028757893  2017-10     NaN  0.195907             0.01   \n",
       "1     3453423  09395275456  2017-10     NaN       NaN             0.01   \n",
       "2     3443959  14023659770  2017-10     NaN  0.000000             0.01   \n",
       "\n",
       "  fx_atraso_jun22  nr_behavior_score  score_gh  conta_cartao  \n",
       "0       0. Em dia               14.0       NaN       3441580  \n",
       "1       0. Em dia                NaN       NaN       3453423  \n",
       "2       0. Em dia                NaN       NaN       3443959  "
      ]
     },
     "execution_count": 74,
     "metadata": {},
     "output_type": "execute_result"
    }
   ],
   "source": [
    "infos['conta_cartao'] = infos['id_customer'].apply(num)\n",
    "infos.head(3)"
   ]
  },
  {
   "cell_type": "markdown",
   "metadata": {},
   "source": [
    "## Join com visão unica"
   ]
  },
  {
   "cell_type": "code",
   "execution_count": 75,
   "metadata": {},
   "outputs": [
    {
     "data": {
      "text/html": [
       "<div>\n",
       "<style scoped>\n",
       "    .dataframe tbody tr th:only-of-type {\n",
       "        vertical-align: middle;\n",
       "    }\n",
       "\n",
       "    .dataframe tbody tr th {\n",
       "        vertical-align: top;\n",
       "    }\n",
       "\n",
       "    .dataframe thead th {\n",
       "        text-align: right;\n",
       "    }\n",
       "</style>\n",
       "<table border=\"1\" class=\"dataframe\">\n",
       "  <thead>\n",
       "    <tr style=\"text-align: right;\">\n",
       "      <th></th>\n",
       "      <th>Unnamed: 0</th>\n",
       "      <th>conta_cartao</th>\n",
       "      <th>proba</th>\n",
       "      <th>decil_score</th>\n",
       "      <th>year</th>\n",
       "      <th>month</th>\n",
       "      <th>year-month</th>\n",
       "      <th>id_customer</th>\n",
       "      <th>cpf</th>\n",
       "      <th>ds_safra</th>\n",
       "      <th>limite</th>\n",
       "      <th>pc_sow</th>\n",
       "      <th>renda_declarada</th>\n",
       "      <th>fx_atraso_jun22</th>\n",
       "      <th>nr_behavior_score</th>\n",
       "      <th>score_gh</th>\n",
       "    </tr>\n",
       "  </thead>\n",
       "  <tbody>\n",
       "    <tr>\n",
       "      <th>1</th>\n",
       "      <td>1</td>\n",
       "      <td>4270104</td>\n",
       "      <td>0.195780</td>\n",
       "      <td>6</td>\n",
       "      <td>2022</td>\n",
       "      <td>6</td>\n",
       "      <td>202206</td>\n",
       "      <td>4270104</td>\n",
       "      <td>36116076149</td>\n",
       "      <td>2019-10</td>\n",
       "      <td>1200.0</td>\n",
       "      <td>0.838724</td>\n",
       "      <td>0.01</td>\n",
       "      <td>0. Em dia</td>\n",
       "      <td>13.0</td>\n",
       "      <td>15.0</td>\n",
       "    </tr>\n",
       "    <tr>\n",
       "      <th>3</th>\n",
       "      <td>3</td>\n",
       "      <td>4305804</td>\n",
       "      <td>0.186952</td>\n",
       "      <td>6</td>\n",
       "      <td>2022</td>\n",
       "      <td>6</td>\n",
       "      <td>202206</td>\n",
       "      <td>4305804</td>\n",
       "      <td>12407965442</td>\n",
       "      <td>2019-10</td>\n",
       "      <td>1000.0</td>\n",
       "      <td>0.555945</td>\n",
       "      <td>0.01</td>\n",
       "      <td>0. Em dia</td>\n",
       "      <td>12.0</td>\n",
       "      <td>11.0</td>\n",
       "    </tr>\n",
       "    <tr>\n",
       "      <th>4</th>\n",
       "      <td>4</td>\n",
       "      <td>4319104</td>\n",
       "      <td>0.170548</td>\n",
       "      <td>7</td>\n",
       "      <td>2022</td>\n",
       "      <td>6</td>\n",
       "      <td>202206</td>\n",
       "      <td>4319104</td>\n",
       "      <td>04641986231</td>\n",
       "      <td>2019-10</td>\n",
       "      <td>800.0</td>\n",
       "      <td>0.404372</td>\n",
       "      <td>0.01</td>\n",
       "      <td>0. Em dia</td>\n",
       "      <td>11.0</td>\n",
       "      <td>10.0</td>\n",
       "    </tr>\n",
       "    <tr>\n",
       "      <th>6</th>\n",
       "      <td>6</td>\n",
       "      <td>44311750</td>\n",
       "      <td>0.435859</td>\n",
       "      <td>3</td>\n",
       "      <td>2022</td>\n",
       "      <td>6</td>\n",
       "      <td>202206</td>\n",
       "      <td>44311750</td>\n",
       "      <td>02430026538</td>\n",
       "      <td>2020-01</td>\n",
       "      <td>800.0</td>\n",
       "      <td>NaN</td>\n",
       "      <td>0.01</td>\n",
       "      <td>0. Em dia</td>\n",
       "      <td>15.0</td>\n",
       "      <td>16.0</td>\n",
       "    </tr>\n",
       "    <tr>\n",
       "      <th>9</th>\n",
       "      <td>9</td>\n",
       "      <td>44315860</td>\n",
       "      <td>0.017592</td>\n",
       "      <td>8</td>\n",
       "      <td>2022</td>\n",
       "      <td>6</td>\n",
       "      <td>202206</td>\n",
       "      <td>44315860</td>\n",
       "      <td>02132474370</td>\n",
       "      <td>2020-01</td>\n",
       "      <td>700.0</td>\n",
       "      <td>NaN</td>\n",
       "      <td>0.01</td>\n",
       "      <td>0. Em dia</td>\n",
       "      <td>16.0</td>\n",
       "      <td>15.0</td>\n",
       "    </tr>\n",
       "  </tbody>\n",
       "</table>\n",
       "</div>"
      ],
      "text/plain": [
       "   Unnamed: 0  conta_cartao     proba  decil_score  year  month  year-month  \\\n",
       "1           1       4270104  0.195780            6  2022      6      202206   \n",
       "3           3       4305804  0.186952            6  2022      6      202206   \n",
       "4           4       4319104  0.170548            7  2022      6      202206   \n",
       "6           6      44311750  0.435859            3  2022      6      202206   \n",
       "9           9      44315860  0.017592            8  2022      6      202206   \n",
       "\n",
       "  id_customer          cpf ds_safra  limite    pc_sow  renda_declarada  \\\n",
       "1     4270104  36116076149  2019-10  1200.0  0.838724             0.01   \n",
       "3     4305804  12407965442  2019-10  1000.0  0.555945             0.01   \n",
       "4     4319104  04641986231  2019-10   800.0  0.404372             0.01   \n",
       "6    44311750  02430026538  2020-01   800.0       NaN             0.01   \n",
       "9    44315860  02132474370  2020-01   700.0       NaN             0.01   \n",
       "\n",
       "  fx_atraso_jun22  nr_behavior_score  score_gh  \n",
       "1       0. Em dia               13.0      15.0  \n",
       "3       0. Em dia               12.0      11.0  \n",
       "4       0. Em dia               11.0      10.0  \n",
       "6       0. Em dia               15.0      16.0  \n",
       "9       0. Em dia               16.0      15.0  "
      ]
     },
     "execution_count": 75,
     "metadata": {},
     "output_type": "execute_result"
    }
   ],
   "source": [
    "pb_add = pb.query('month == 6').join(infos.query('conta_cartao != 0').set_index('conta_cartao'), on='conta_cartao', how='left')\n",
    "pb_add.head(5)"
   ]
  },
  {
   "cell_type": "code",
   "execution_count": 76,
   "metadata": {},
   "outputs": [
    {
     "data": {
      "text/plain": [
       "2021-11    25149\n",
       "2021-10    21098\n",
       "2021-09    16265\n",
       "2021-03    14193\n",
       "2021-07    13914\n",
       "2021-04    13774\n",
       "2021-12    13153\n",
       "2021-08    12526\n",
       "2020-10    12235\n",
       "2021-05    11496\n",
       "2020-11    11471\n",
       "2020-12     9663\n",
       "2021-02     8924\n",
       "2021-06     8263\n",
       "2021-01     7832\n",
       "2020-01     7726\n",
       "2020-09     6579\n",
       "2020-02     6501\n",
       "2020-03     4386\n",
       "2020-07     3107\n",
       "2020-08     2347\n",
       "2020-06     2316\n",
       "2020-04     2218\n",
       "2020-05     1876\n",
       "2019-10       31\n",
       "2019-07       13\n",
       "2019-08       11\n",
       "2019-09       10\n",
       "2019-11        8\n",
       "2018-07        3\n",
       "Name: ds_safra, dtype: int64"
      ]
     },
     "execution_count": 76,
     "metadata": {},
     "output_type": "execute_result"
    }
   ],
   "source": [
    "pb_add['ds_safra'].value_counts()"
   ]
  },
  {
   "cell_type": "markdown",
   "metadata": {},
   "source": [
    "## Join com índice de engajamento"
   ]
  },
  {
   "cell_type": "code",
   "execution_count": 77,
   "metadata": {},
   "outputs": [],
   "source": [
    "# digitos = ['0', '1', '2', '3', '4', '5', '6','7','8','9','10']\n",
    "\n",
    "# pers = pd.DataFrame()\n",
    "\n",
    "# for i in digitos:\n",
    "#      query = \"select cpf, engagement_index, credit_rfm_score  from customer_sandbox_zone.ca_engagement_index_202206 \" + '\\n'\n",
    "#      query = query + \"where substring(cast(cpf as varchar), 8, 1) = '\" \n",
    "#      query = query + i + \"'\"\n",
    "#      print(query)\n",
    "#      temp_pers = ac.df_athena_q('flavia-costa', query)\n",
    "#      pers = pers.append(temp_pers)\n",
    "\n",
    "# pers.to_pickle('ie_jun22.pkl')\n",
    "\n"
   ]
  },
  {
   "cell_type": "code",
   "execution_count": 78,
   "metadata": {},
   "outputs": [
    {
     "data": {
      "text/plain": [
       "2209136"
      ]
     },
     "execution_count": 78,
     "metadata": {},
     "output_type": "execute_result"
    }
   ],
   "source": [
    "ie = pd.read_pickle('ie_jun22.pkl')\n",
    "len(ie)"
   ]
  },
  {
   "cell_type": "code",
   "execution_count": 79,
   "metadata": {},
   "outputs": [
    {
     "data": {
      "text/plain": [
       "Index(['Unnamed: 0', 'conta_cartao', 'proba', 'decil_score', 'year', 'month',\n",
       "       'year-month', 'id_customer', 'cpf', 'ds_safra', 'limite', 'pc_sow',\n",
       "       'renda_declarada', 'fx_atraso_jun22', 'nr_behavior_score', 'score_gh'],\n",
       "      dtype='object')"
      ]
     },
     "execution_count": 79,
     "metadata": {},
     "output_type": "execute_result"
    }
   ],
   "source": [
    "pb_add.columns"
   ]
  },
  {
   "cell_type": "code",
   "execution_count": 80,
   "metadata": {},
   "outputs": [],
   "source": [
    "pb_add = pb_add.drop(columns=['Unnamed: 0'])\n",
    "pb_add['cpf'] = pb_add['cpf'].apply(num)\n",
    "ie['cpf'] = ie['cpf'].apply(num)"
   ]
  },
  {
   "cell_type": "code",
   "execution_count": 81,
   "metadata": {},
   "outputs": [],
   "source": [
    "pb_add = pb_add.join(ie.set_index('cpf'), on = 'cpf', how = 'left')"
   ]
  },
  {
   "cell_type": "code",
   "execution_count": 82,
   "metadata": {},
   "outputs": [
    {
     "data": {
      "text/html": [
       "<div>\n",
       "<style scoped>\n",
       "    .dataframe tbody tr th:only-of-type {\n",
       "        vertical-align: middle;\n",
       "    }\n",
       "\n",
       "    .dataframe tbody tr th {\n",
       "        vertical-align: top;\n",
       "    }\n",
       "\n",
       "    .dataframe thead th {\n",
       "        text-align: right;\n",
       "    }\n",
       "</style>\n",
       "<table border=\"1\" class=\"dataframe\">\n",
       "  <thead>\n",
       "    <tr style=\"text-align: right;\">\n",
       "      <th></th>\n",
       "      <th>conta_cartao</th>\n",
       "      <th>proba</th>\n",
       "      <th>decil_score</th>\n",
       "      <th>year</th>\n",
       "      <th>month</th>\n",
       "      <th>year-month</th>\n",
       "      <th>id_customer</th>\n",
       "      <th>cpf</th>\n",
       "      <th>ds_safra</th>\n",
       "      <th>limite</th>\n",
       "      <th>pc_sow</th>\n",
       "      <th>renda_declarada</th>\n",
       "      <th>fx_atraso_jun22</th>\n",
       "      <th>nr_behavior_score</th>\n",
       "      <th>score_gh</th>\n",
       "      <th>engagement_index</th>\n",
       "      <th>credit_rfm_score</th>\n",
       "    </tr>\n",
       "  </thead>\n",
       "  <tbody>\n",
       "    <tr>\n",
       "      <th>1</th>\n",
       "      <td>4270104</td>\n",
       "      <td>0.195780</td>\n",
       "      <td>6</td>\n",
       "      <td>2022</td>\n",
       "      <td>6</td>\n",
       "      <td>202206</td>\n",
       "      <td>4270104</td>\n",
       "      <td>36116076149</td>\n",
       "      <td>2019-10</td>\n",
       "      <td>1200.0</td>\n",
       "      <td>0.838724</td>\n",
       "      <td>0.01</td>\n",
       "      <td>0. Em dia</td>\n",
       "      <td>13.0</td>\n",
       "      <td>15.0</td>\n",
       "      <td>0.726684</td>\n",
       "      <td>0.847458</td>\n",
       "    </tr>\n",
       "    <tr>\n",
       "      <th>3</th>\n",
       "      <td>4305804</td>\n",
       "      <td>0.186952</td>\n",
       "      <td>6</td>\n",
       "      <td>2022</td>\n",
       "      <td>6</td>\n",
       "      <td>202206</td>\n",
       "      <td>4305804</td>\n",
       "      <td>12407965442</td>\n",
       "      <td>2019-10</td>\n",
       "      <td>1000.0</td>\n",
       "      <td>0.555945</td>\n",
       "      <td>0.01</td>\n",
       "      <td>0. Em dia</td>\n",
       "      <td>12.0</td>\n",
       "      <td>11.0</td>\n",
       "      <td>0.680834</td>\n",
       "      <td>0.677966</td>\n",
       "    </tr>\n",
       "    <tr>\n",
       "      <th>4</th>\n",
       "      <td>4319104</td>\n",
       "      <td>0.170548</td>\n",
       "      <td>7</td>\n",
       "      <td>2022</td>\n",
       "      <td>6</td>\n",
       "      <td>202206</td>\n",
       "      <td>4319104</td>\n",
       "      <td>4641986231</td>\n",
       "      <td>2019-10</td>\n",
       "      <td>800.0</td>\n",
       "      <td>0.404372</td>\n",
       "      <td>0.01</td>\n",
       "      <td>0. Em dia</td>\n",
       "      <td>11.0</td>\n",
       "      <td>10.0</td>\n",
       "      <td>0.608648</td>\n",
       "      <td>0.610169</td>\n",
       "    </tr>\n",
       "    <tr>\n",
       "      <th>6</th>\n",
       "      <td>44311750</td>\n",
       "      <td>0.435859</td>\n",
       "      <td>3</td>\n",
       "      <td>2022</td>\n",
       "      <td>6</td>\n",
       "      <td>202206</td>\n",
       "      <td>44311750</td>\n",
       "      <td>2430026538</td>\n",
       "      <td>2020-01</td>\n",
       "      <td>800.0</td>\n",
       "      <td>NaN</td>\n",
       "      <td>0.01</td>\n",
       "      <td>0. Em dia</td>\n",
       "      <td>15.0</td>\n",
       "      <td>16.0</td>\n",
       "      <td>0.271186</td>\n",
       "      <td>0.338983</td>\n",
       "    </tr>\n",
       "    <tr>\n",
       "      <th>9</th>\n",
       "      <td>44315860</td>\n",
       "      <td>0.017592</td>\n",
       "      <td>8</td>\n",
       "      <td>2022</td>\n",
       "      <td>6</td>\n",
       "      <td>202206</td>\n",
       "      <td>44315860</td>\n",
       "      <td>2132474370</td>\n",
       "      <td>2020-01</td>\n",
       "      <td>700.0</td>\n",
       "      <td>NaN</td>\n",
       "      <td>0.01</td>\n",
       "      <td>0. Em dia</td>\n",
       "      <td>16.0</td>\n",
       "      <td>15.0</td>\n",
       "      <td>0.393220</td>\n",
       "      <td>0.491525</td>\n",
       "    </tr>\n",
       "  </tbody>\n",
       "</table>\n",
       "</div>"
      ],
      "text/plain": [
       "   conta_cartao     proba  decil_score  year  month  year-month id_customer  \\\n",
       "1       4270104  0.195780            6  2022      6      202206     4270104   \n",
       "3       4305804  0.186952            6  2022      6      202206     4305804   \n",
       "4       4319104  0.170548            7  2022      6      202206     4319104   \n",
       "6      44311750  0.435859            3  2022      6      202206    44311750   \n",
       "9      44315860  0.017592            8  2022      6      202206    44315860   \n",
       "\n",
       "           cpf ds_safra  limite    pc_sow  renda_declarada fx_atraso_jun22  \\\n",
       "1  36116076149  2019-10  1200.0  0.838724             0.01       0. Em dia   \n",
       "3  12407965442  2019-10  1000.0  0.555945             0.01       0. Em dia   \n",
       "4   4641986231  2019-10   800.0  0.404372             0.01       0. Em dia   \n",
       "6   2430026538  2020-01   800.0       NaN             0.01       0. Em dia   \n",
       "9   2132474370  2020-01   700.0       NaN             0.01       0. Em dia   \n",
       "\n",
       "   nr_behavior_score  score_gh  engagement_index  credit_rfm_score  \n",
       "1               13.0      15.0          0.726684          0.847458  \n",
       "3               12.0      11.0          0.680834          0.677966  \n",
       "4               11.0      10.0          0.608648          0.610169  \n",
       "6               15.0      16.0          0.271186          0.338983  \n",
       "9               16.0      15.0          0.393220          0.491525  "
      ]
     },
     "execution_count": 82,
     "metadata": {},
     "output_type": "execute_result"
    }
   ],
   "source": [
    "pb_add.query('engagement_index > 0').head()"
   ]
  },
  {
   "cell_type": "code",
   "execution_count": 83,
   "metadata": {},
   "outputs": [],
   "source": [
    "#preciso trazer o saldo restante (iu * limite) + spending do mes anterior"
   ]
  },
  {
   "cell_type": "code",
   "execution_count": 84,
   "metadata": {},
   "outputs": [
    {
     "name": "stdout",
     "output_type": "stream",
     "text": [
      "select cli.cpf, sum(case when ca.cd_yearmonth = 202207 then vl_total_spending end) as vl_spending_futuro, sum(case when ca.cd_yearmonth = 202206 then vl_total_spending end) as vl_spending_passado \n",
      ", max(case when ca.cd_yearmonth = 202206 then pr_iu end) as pr_iu \n",
      " from customer_curated_zone.ca_book_cartao ca left join customer_curated_zone.ca_book_cliente cli on (cli.id_customer = ca.id_customer) \n",
      "where  cli.cd_yearmonth = 202206 \n",
      "and substring(cast(cli.cpf as varchar), 8, 1) = '0'\n",
      "group by 1 \n"
     ]
    },
    {
     "name": "stderr",
     "output_type": "stream",
     "text": [
      "/tmp/ipykernel_392009/3667099769.py:15: FutureWarning: The frame.append method is deprecated and will be removed from pandas in a future version. Use pandas.concat instead.\n",
      "  pers = pers.append(temp_pers)\n"
     ]
    },
    {
     "name": "stdout",
     "output_type": "stream",
     "text": [
      "select cli.cpf, sum(case when ca.cd_yearmonth = 202207 then vl_total_spending end) as vl_spending_futuro, sum(case when ca.cd_yearmonth = 202206 then vl_total_spending end) as vl_spending_passado \n",
      ", max(case when ca.cd_yearmonth = 202206 then pr_iu end) as pr_iu \n",
      " from customer_curated_zone.ca_book_cartao ca left join customer_curated_zone.ca_book_cliente cli on (cli.id_customer = ca.id_customer) \n",
      "where  cli.cd_yearmonth = 202206 \n",
      "and substring(cast(cli.cpf as varchar), 8, 1) = '1'\n",
      "group by 1 \n"
     ]
    },
    {
     "name": "stderr",
     "output_type": "stream",
     "text": [
      "/tmp/ipykernel_392009/3667099769.py:15: FutureWarning: The frame.append method is deprecated and will be removed from pandas in a future version. Use pandas.concat instead.\n",
      "  pers = pers.append(temp_pers)\n"
     ]
    },
    {
     "name": "stdout",
     "output_type": "stream",
     "text": [
      "select cli.cpf, sum(case when ca.cd_yearmonth = 202207 then vl_total_spending end) as vl_spending_futuro, sum(case when ca.cd_yearmonth = 202206 then vl_total_spending end) as vl_spending_passado \n",
      ", max(case when ca.cd_yearmonth = 202206 then pr_iu end) as pr_iu \n",
      " from customer_curated_zone.ca_book_cartao ca left join customer_curated_zone.ca_book_cliente cli on (cli.id_customer = ca.id_customer) \n",
      "where  cli.cd_yearmonth = 202206 \n",
      "and substring(cast(cli.cpf as varchar), 8, 1) = '2'\n",
      "group by 1 \n"
     ]
    },
    {
     "name": "stderr",
     "output_type": "stream",
     "text": [
      "/tmp/ipykernel_392009/3667099769.py:15: FutureWarning: The frame.append method is deprecated and will be removed from pandas in a future version. Use pandas.concat instead.\n",
      "  pers = pers.append(temp_pers)\n"
     ]
    },
    {
     "name": "stdout",
     "output_type": "stream",
     "text": [
      "select cli.cpf, sum(case when ca.cd_yearmonth = 202207 then vl_total_spending end) as vl_spending_futuro, sum(case when ca.cd_yearmonth = 202206 then vl_total_spending end) as vl_spending_passado \n",
      ", max(case when ca.cd_yearmonth = 202206 then pr_iu end) as pr_iu \n",
      " from customer_curated_zone.ca_book_cartao ca left join customer_curated_zone.ca_book_cliente cli on (cli.id_customer = ca.id_customer) \n",
      "where  cli.cd_yearmonth = 202206 \n",
      "and substring(cast(cli.cpf as varchar), 8, 1) = '3'\n",
      "group by 1 \n"
     ]
    },
    {
     "name": "stderr",
     "output_type": "stream",
     "text": [
      "/tmp/ipykernel_392009/3667099769.py:15: FutureWarning: The frame.append method is deprecated and will be removed from pandas in a future version. Use pandas.concat instead.\n",
      "  pers = pers.append(temp_pers)\n"
     ]
    },
    {
     "name": "stdout",
     "output_type": "stream",
     "text": [
      "select cli.cpf, sum(case when ca.cd_yearmonth = 202207 then vl_total_spending end) as vl_spending_futuro, sum(case when ca.cd_yearmonth = 202206 then vl_total_spending end) as vl_spending_passado \n",
      ", max(case when ca.cd_yearmonth = 202206 then pr_iu end) as pr_iu \n",
      " from customer_curated_zone.ca_book_cartao ca left join customer_curated_zone.ca_book_cliente cli on (cli.id_customer = ca.id_customer) \n",
      "where  cli.cd_yearmonth = 202206 \n",
      "and substring(cast(cli.cpf as varchar), 8, 1) = '4'\n",
      "group by 1 \n"
     ]
    },
    {
     "name": "stderr",
     "output_type": "stream",
     "text": [
      "/tmp/ipykernel_392009/3667099769.py:15: FutureWarning: The frame.append method is deprecated and will be removed from pandas in a future version. Use pandas.concat instead.\n",
      "  pers = pers.append(temp_pers)\n"
     ]
    },
    {
     "name": "stdout",
     "output_type": "stream",
     "text": [
      "select cli.cpf, sum(case when ca.cd_yearmonth = 202207 then vl_total_spending end) as vl_spending_futuro, sum(case when ca.cd_yearmonth = 202206 then vl_total_spending end) as vl_spending_passado \n",
      ", max(case when ca.cd_yearmonth = 202206 then pr_iu end) as pr_iu \n",
      " from customer_curated_zone.ca_book_cartao ca left join customer_curated_zone.ca_book_cliente cli on (cli.id_customer = ca.id_customer) \n",
      "where  cli.cd_yearmonth = 202206 \n",
      "and substring(cast(cli.cpf as varchar), 8, 1) = '5'\n",
      "group by 1 \n"
     ]
    },
    {
     "name": "stderr",
     "output_type": "stream",
     "text": [
      "/tmp/ipykernel_392009/3667099769.py:15: FutureWarning: The frame.append method is deprecated and will be removed from pandas in a future version. Use pandas.concat instead.\n",
      "  pers = pers.append(temp_pers)\n"
     ]
    },
    {
     "name": "stdout",
     "output_type": "stream",
     "text": [
      "select cli.cpf, sum(case when ca.cd_yearmonth = 202207 then vl_total_spending end) as vl_spending_futuro, sum(case when ca.cd_yearmonth = 202206 then vl_total_spending end) as vl_spending_passado \n",
      ", max(case when ca.cd_yearmonth = 202206 then pr_iu end) as pr_iu \n",
      " from customer_curated_zone.ca_book_cartao ca left join customer_curated_zone.ca_book_cliente cli on (cli.id_customer = ca.id_customer) \n",
      "where  cli.cd_yearmonth = 202206 \n",
      "and substring(cast(cli.cpf as varchar), 8, 1) = '6'\n",
      "group by 1 \n"
     ]
    },
    {
     "name": "stderr",
     "output_type": "stream",
     "text": [
      "/tmp/ipykernel_392009/3667099769.py:15: FutureWarning: The frame.append method is deprecated and will be removed from pandas in a future version. Use pandas.concat instead.\n",
      "  pers = pers.append(temp_pers)\n"
     ]
    },
    {
     "name": "stdout",
     "output_type": "stream",
     "text": [
      "select cli.cpf, sum(case when ca.cd_yearmonth = 202207 then vl_total_spending end) as vl_spending_futuro, sum(case when ca.cd_yearmonth = 202206 then vl_total_spending end) as vl_spending_passado \n",
      ", max(case when ca.cd_yearmonth = 202206 then pr_iu end) as pr_iu \n",
      " from customer_curated_zone.ca_book_cartao ca left join customer_curated_zone.ca_book_cliente cli on (cli.id_customer = ca.id_customer) \n",
      "where  cli.cd_yearmonth = 202206 \n",
      "and substring(cast(cli.cpf as varchar), 8, 1) = '7'\n",
      "group by 1 \n"
     ]
    },
    {
     "name": "stderr",
     "output_type": "stream",
     "text": [
      "/tmp/ipykernel_392009/3667099769.py:15: FutureWarning: The frame.append method is deprecated and will be removed from pandas in a future version. Use pandas.concat instead.\n",
      "  pers = pers.append(temp_pers)\n"
     ]
    },
    {
     "name": "stdout",
     "output_type": "stream",
     "text": [
      "select cli.cpf, sum(case when ca.cd_yearmonth = 202207 then vl_total_spending end) as vl_spending_futuro, sum(case when ca.cd_yearmonth = 202206 then vl_total_spending end) as vl_spending_passado \n",
      ", max(case when ca.cd_yearmonth = 202206 then pr_iu end) as pr_iu \n",
      " from customer_curated_zone.ca_book_cartao ca left join customer_curated_zone.ca_book_cliente cli on (cli.id_customer = ca.id_customer) \n",
      "where  cli.cd_yearmonth = 202206 \n",
      "and substring(cast(cli.cpf as varchar), 8, 1) = '8'\n",
      "group by 1 \n"
     ]
    },
    {
     "name": "stderr",
     "output_type": "stream",
     "text": [
      "/tmp/ipykernel_392009/3667099769.py:15: FutureWarning: The frame.append method is deprecated and will be removed from pandas in a future version. Use pandas.concat instead.\n",
      "  pers = pers.append(temp_pers)\n"
     ]
    },
    {
     "name": "stdout",
     "output_type": "stream",
     "text": [
      "select cli.cpf, sum(case when ca.cd_yearmonth = 202207 then vl_total_spending end) as vl_spending_futuro, sum(case when ca.cd_yearmonth = 202206 then vl_total_spending end) as vl_spending_passado \n",
      ", max(case when ca.cd_yearmonth = 202206 then pr_iu end) as pr_iu \n",
      " from customer_curated_zone.ca_book_cartao ca left join customer_curated_zone.ca_book_cliente cli on (cli.id_customer = ca.id_customer) \n",
      "where  cli.cd_yearmonth = 202206 \n",
      "and substring(cast(cli.cpf as varchar), 8, 1) = '9'\n",
      "group by 1 \n"
     ]
    },
    {
     "name": "stderr",
     "output_type": "stream",
     "text": [
      "/tmp/ipykernel_392009/3667099769.py:15: FutureWarning: The frame.append method is deprecated and will be removed from pandas in a future version. Use pandas.concat instead.\n",
      "  pers = pers.append(temp_pers)\n"
     ]
    },
    {
     "name": "stdout",
     "output_type": "stream",
     "text": [
      "select cli.cpf, sum(case when ca.cd_yearmonth = 202207 then vl_total_spending end) as vl_spending_futuro, sum(case when ca.cd_yearmonth = 202206 then vl_total_spending end) as vl_spending_passado \n",
      ", max(case when ca.cd_yearmonth = 202206 then pr_iu end) as pr_iu \n",
      " from customer_curated_zone.ca_book_cartao ca left join customer_curated_zone.ca_book_cliente cli on (cli.id_customer = ca.id_customer) \n",
      "where  cli.cd_yearmonth = 202206 \n",
      "and substring(cast(cli.cpf as varchar), 8, 1) = '10'\n",
      "group by 1 \n"
     ]
    },
    {
     "name": "stderr",
     "output_type": "stream",
     "text": [
      "/tmp/ipykernel_392009/3667099769.py:15: FutureWarning: The frame.append method is deprecated and will be removed from pandas in a future version. Use pandas.concat instead.\n",
      "  pers = pers.append(temp_pers)\n"
     ]
    }
   ],
   "source": [
    "\"\"\" digitos = ['0', '1', '2', '3', '4', '5', '6','7','8','9','10']\n",
    "\n",
    "pers = pd.DataFrame()\n",
    "\n",
    "for i in digitos:\n",
    "     query = \"select cli.cpf, sum(case when ca.cd_yearmonth = 202207 then vl_total_spending end) as vl_spending_futuro, sum(case when ca.cd_yearmonth = 202206 then vl_total_spending end) as vl_spending_passado \" + '\\n'\n",
    "     query = query + \", max(case when ca.cd_yearmonth = 202206 then pr_iu end) as pr_iu \" + '\\n'\n",
    "     query = query + \" from customer_curated_zone.ca_book_cartao ca left join customer_curated_zone.ca_book_cliente cli on (cli.id_customer = ca.id_customer) \" + '\\n'\n",
    "     query = query + \"where  cli.cd_yearmonth = 202206 \" + '\\n'\n",
    "     query = query + \"and substring(cast(cli.cpf as varchar), 8, 1) = '\" \n",
    "     query = query + i + \"'\" + '\\n'\n",
    "     query = query + \"group by 1 \"\n",
    "     print(query)\n",
    "     temp_pers = ac.df_athena_q('flavia-costa', query)\n",
    "     pers = pers.append(temp_pers)\n",
    "\n",
    "pers.to_pickle('spending_jul.pkl') \"\"\""
   ]
  },
  {
   "cell_type": "code",
   "execution_count": 85,
   "metadata": {},
   "outputs": [
    {
     "data": {
      "text/plain": [
       "2741696"
      ]
     },
     "execution_count": 85,
     "metadata": {},
     "output_type": "execute_result"
    }
   ],
   "source": [
    "sp = pd.read_pickle('spending_jul.pkl')\n",
    "len(sp)"
   ]
  },
  {
   "cell_type": "code",
   "execution_count": 86,
   "metadata": {},
   "outputs": [],
   "source": [
    "del pers"
   ]
  },
  {
   "cell_type": "code",
   "execution_count": 87,
   "metadata": {},
   "outputs": [],
   "source": [
    "sp['cpf'] = sp['cpf'].apply(num)\n",
    "pb_add = pb_add.join(sp.set_index('cpf'), on = 'cpf', how = 'left')"
   ]
  },
  {
   "cell_type": "code",
   "execution_count": 88,
   "metadata": {},
   "outputs": [],
   "source": [
    "del infos\n",
    "del pb\n",
    "del ie\n",
    "del sp"
   ]
  },
  {
   "cell_type": "markdown",
   "metadata": {},
   "source": [
    "## Faixas para variáveis de exploração"
   ]
  },
  {
   "cell_type": "code",
   "execution_count": 89,
   "metadata": {},
   "outputs": [],
   "source": [
    "#Trabalhar com Behaviour, Limite, Renda, Share of Wallet, GH e Dias Atraso\n",
    "pb_add['limite_bin']= pd.cut(x=pb_add['limite'], bins=[0,500,1000,2000,3000,4000,5000,50000])\n",
    "pb_add['sow_bin']= pd.cut(x=pb_add['pc_sow'], bins=[0,0.2,0.5,0.7,1])\n",
    "pb_add['renda_declarada_bin'] = pd.cut(x=pb_add['renda_declarada'], bins=[0,500,1000,2000,3000,4000,5000,50000])\n",
    "#fx_atraso_jun22\n",
    "#nr_behavior_score\n",
    "#score_gh\n",
    "pb_add['proba_bin']= pd.cut(x=pb_add['proba'], bins=[0,0.1,0.2,0.3,0.4,0.5,0.6,0.7,0.8,0.9,1])\n",
    "pb_add['ie_bin']= pd.cut(x=pb_add['engagement_index'], bins=[0,0.1,0.2,0.3,0.4,0.5,0.6,0.7,0.8,0.9,1])\n",
    "pb_add['cred_bin']= pd.cut(x=pb_add['credit_rfm_score'], bins=[0,0.1,0.2,0.3,0.4,0.5,0.6,0.7,0.8,0.9,1])"
   ]
  },
  {
   "cell_type": "code",
   "execution_count": 90,
   "metadata": {},
   "outputs": [
    {
     "data": {
      "text/plain": [
       "(0.5, 0.6]    49201\n",
       "(0.6, 0.7]    48571\n",
       "(0.4, 0.5]    35287\n",
       "(0.7, 0.8]    33355\n",
       "(0.3, 0.4]    23549\n",
       "(0.2, 0.3]    15176\n",
       "(0.8, 0.9]    13768\n",
       "(0.1, 0.2]     6170\n",
       "(0.9, 1.0]     1581\n",
       "(0.0, 0.1]     1114\n",
       "Name: ie_bin, dtype: int64"
      ]
     },
     "execution_count": 90,
     "metadata": {},
     "output_type": "execute_result"
    }
   ],
   "source": [
    "pb_add['ie_bin'].value_counts()"
   ]
  },
  {
   "cell_type": "code",
   "execution_count": 91,
   "metadata": {},
   "outputs": [
    {
     "data": {
      "text/plain": [
       "(0.6, 0.7]    50302\n",
       "(0.7, 0.8]    45199\n",
       "(0.5, 0.6]    40316\n",
       "(0.4, 0.5]    27861\n",
       "(0.8, 0.9]    24260\n",
       "(0.3, 0.4]    18803\n",
       "(0.2, 0.3]    11689\n",
       "(0.1, 0.2]     4889\n",
       "(0.9, 1.0]     3542\n",
       "(0.0, 0.1]      910\n",
       "Name: cred_bin, dtype: int64"
      ]
     },
     "execution_count": 91,
     "metadata": {},
     "output_type": "execute_result"
    }
   ],
   "source": [
    "pb_add['cred_bin'].value_counts()"
   ]
  },
  {
   "cell_type": "code",
   "execution_count": 17,
   "metadata": {},
   "outputs": [
    {
     "data": {
      "text/plain": [
       "<Figure size 2160x3600 with 0 Axes>"
      ]
     },
     "metadata": {},
     "output_type": "display_data"
    },
    {
     "data": {
      "image/png": "[encoded data removed]",
      "text/plain": [
       "<Figure size 441.75x360 with 1 Axes>"
      ]
     },
     "metadata": {
      "needs_background": "light"
     },
     "output_type": "display_data"
    }
   ],
   "source": [
    "plt.figure(figsize = (30,50))\n",
    "sns.catplot(data = pb_add, y = 'cred_bin', hue = 'proba_bin', kind='count', palette=\"ch:s=1,rot=-2\")\n",
    "plt.show()"
   ]
  },
  {
   "cell_type": "markdown",
   "metadata": {},
   "source": [
    "## Gráficos"
   ]
  },
  {
   "cell_type": "code",
   "execution_count": 38,
   "metadata": {},
   "outputs": [
    {
     "data": {
      "image/png": "[encoded data removed]",
      "text/plain": [
       "<Figure size 2000x1000 with 1 Axes>"
      ]
     },
     "metadata": {},
     "output_type": "display_data"
    },
    {
     "data": {
      "image/png": "[encoded data removed]",
      "text/plain": [
       "<Figure size 2000x1000 with 1 Axes>"
      ]
     },
     "metadata": {},
     "output_type": "display_data"
    },
    {
     "data": {
      "image/png": "[encoded data removed]",
      "text/plain": [
       "<Figure size 2000x1000 with 1 Axes>"
      ]
     },
     "metadata": {},
     "output_type": "display_data"
    },
    {
     "data": {
      "image/png": "[encoded data removed]",
      "text/plain": [
       "<Figure size 2000x1000 with 1 Axes>"
      ]
     },
     "metadata": {},
     "output_type": "display_data"
    },
    {
     "data": {
      "image/png": "[encoded data removed]",
      "text/plain": [
       "<Figure size 2000x1000 with 1 Axes>"
      ]
     },
     "metadata": {},
     "output_type": "display_data"
    }
   ],
   "source": [
    "vars_agregacao = ['ie_bin' , 'cred_bin', 'limite_bin', 'nr_behavior_score', 'score_gh']\n",
    "\n",
    "for i in vars_agregacao:\n",
    "    group_var = 'proba_bin'\n",
    "    x_var = i\n",
    "    campo_contagem = 'count'\n",
    "    agg = pb_add.groupby([i, group_var]).agg({'conta_cartao':['count']})\n",
    "    agg.columns = agg.columns.droplevel(0)\n",
    "    agg = agg.reset_index()\n",
    "    df_viz = agg.pivot_table(columns=x_var,index = group_var, values=campo_contagem, aggfunc=np.sum)\n",
    "\n",
    "    for i in df_viz.columns:\n",
    "        df_viz[i] = df_viz[i] / df_viz[i].sum()\n",
    "\n",
    "    df_viz = df_viz.reset_index()\n",
    "    df_viz = pd.melt(df_viz, id_vars=[group_var])\n",
    "    df_viz['value'] = df_viz['value'] * 100\n",
    "    x = df_viz[x_var].astype('str')\n",
    "    y = df_viz[group_var].astype('str')\n",
    "    z = df_viz.value.round(1)\n",
    "    plt.figure(figsize = (20,10))\n",
    "    sns.barplot(data = df_viz, x = x, y = z, hue = y, palette=\"ch:s=1,rot=-2\")\n",
    "    plt.show()\n",
    "\n"
   ]
  },
  {
   "cell_type": "code",
   "execution_count": 29,
   "metadata": {},
   "outputs": [
    {
     "data": {
      "text/html": [
       "<div>\n",
       "<style scoped>\n",
       "    .dataframe tbody tr th:only-of-type {\n",
       "        vertical-align: middle;\n",
       "    }\n",
       "\n",
       "    .dataframe tbody tr th {\n",
       "        vertical-align: top;\n",
       "    }\n",
       "\n",
       "    .dataframe thead th {\n",
       "        text-align: right;\n",
       "    }\n",
       "</style>\n",
       "<table border=\"1\" class=\"dataframe\">\n",
       "  <thead>\n",
       "    <tr style=\"text-align: right;\">\n",
       "      <th></th>\n",
       "      <th>nr_behavior_score</th>\n",
       "      <th>score_gh</th>\n",
       "      <th>count</th>\n",
       "    </tr>\n",
       "    <tr>\n",
       "      <th>proba_bin</th>\n",
       "      <th></th>\n",
       "      <th></th>\n",
       "      <th></th>\n",
       "    </tr>\n",
       "  </thead>\n",
       "  <tbody>\n",
       "    <tr>\n",
       "      <th>(0.0, 0.1]</th>\n",
       "      <td>3175200.0</td>\n",
       "      <td>2469600.0</td>\n",
       "      <td>49660</td>\n",
       "    </tr>\n",
       "    <tr>\n",
       "      <th>(0.1, 0.2]</th>\n",
       "      <td>3175200.0</td>\n",
       "      <td>2469600.0</td>\n",
       "      <td>3084</td>\n",
       "    </tr>\n",
       "    <tr>\n",
       "      <th>(0.2, 0.3]</th>\n",
       "      <td>3175200.0</td>\n",
       "      <td>2469600.0</td>\n",
       "      <td>16125</td>\n",
       "    </tr>\n",
       "    <tr>\n",
       "      <th>(0.3, 0.4]</th>\n",
       "      <td>3175200.0</td>\n",
       "      <td>2469600.0</td>\n",
       "      <td>20992</td>\n",
       "    </tr>\n",
       "    <tr>\n",
       "      <th>(0.4, 0.5]</th>\n",
       "      <td>3175200.0</td>\n",
       "      <td>2469600.0</td>\n",
       "      <td>16458</td>\n",
       "    </tr>\n",
       "    <tr>\n",
       "      <th>(0.5, 0.6]</th>\n",
       "      <td>3175200.0</td>\n",
       "      <td>2469600.0</td>\n",
       "      <td>12629</td>\n",
       "    </tr>\n",
       "    <tr>\n",
       "      <th>(0.6, 0.7]</th>\n",
       "      <td>3175200.0</td>\n",
       "      <td>2469600.0</td>\n",
       "      <td>11091</td>\n",
       "    </tr>\n",
       "    <tr>\n",
       "      <th>(0.7, 0.8]</th>\n",
       "      <td>3175200.0</td>\n",
       "      <td>2469600.0</td>\n",
       "      <td>10241</td>\n",
       "    </tr>\n",
       "    <tr>\n",
       "      <th>(0.8, 0.9]</th>\n",
       "      <td>3175200.0</td>\n",
       "      <td>2469600.0</td>\n",
       "      <td>7689</td>\n",
       "    </tr>\n",
       "    <tr>\n",
       "      <th>(0.9, 1.0]</th>\n",
       "      <td>3175200.0</td>\n",
       "      <td>2469600.0</td>\n",
       "      <td>1873</td>\n",
       "    </tr>\n",
       "  </tbody>\n",
       "</table>\n",
       "</div>"
      ],
      "text/plain": [
       "            nr_behavior_score   score_gh  count\n",
       "proba_bin                                      \n",
       "(0.0, 0.1]          3175200.0  2469600.0  49660\n",
       "(0.1, 0.2]          3175200.0  2469600.0   3084\n",
       "(0.2, 0.3]          3175200.0  2469600.0  16125\n",
       "(0.3, 0.4]          3175200.0  2469600.0  20992\n",
       "(0.4, 0.5]          3175200.0  2469600.0  16458\n",
       "(0.5, 0.6]          3175200.0  2469600.0  12629\n",
       "(0.6, 0.7]          3175200.0  2469600.0  11091\n",
       "(0.7, 0.8]          3175200.0  2469600.0  10241\n",
       "(0.8, 0.9]          3175200.0  2469600.0   7689\n",
       "(0.9, 1.0]          3175200.0  2469600.0   1873"
      ]
     },
     "execution_count": 29,
     "metadata": {},
     "output_type": "execute_result"
    }
   ],
   "source": [
    "#agg.query('nr_behavior_score >= 11').groupby('proba_bin').sum('count').head(20)"
   ]
  },
  {
   "cell_type": "code",
   "execution_count": 25,
   "metadata": {},
   "outputs": [
    {
     "data": {
      "text/html": [
       "<div>\n",
       "<style scoped>\n",
       "    .dataframe tbody tr th:only-of-type {\n",
       "        vertical-align: middle;\n",
       "    }\n",
       "\n",
       "    .dataframe tbody tr th {\n",
       "        vertical-align: top;\n",
       "    }\n",
       "\n",
       "    .dataframe thead th {\n",
       "        text-align: right;\n",
       "    }\n",
       "</style>\n",
       "<table border=\"1\" class=\"dataframe\">\n",
       "  <thead>\n",
       "    <tr style=\"text-align: right;\">\n",
       "      <th></th>\n",
       "      <th>nr_behavior_score</th>\n",
       "      <th>score_gh</th>\n",
       "      <th>count</th>\n",
       "    </tr>\n",
       "    <tr>\n",
       "      <th>proba_bin</th>\n",
       "      <th></th>\n",
       "      <th></th>\n",
       "      <th></th>\n",
       "    </tr>\n",
       "  </thead>\n",
       "  <tbody>\n",
       "    <tr>\n",
       "      <th>(0.0, 0.1]</th>\n",
       "      <td>5331200.0</td>\n",
       "      <td>6585600.0</td>\n",
       "      <td>63738</td>\n",
       "    </tr>\n",
       "    <tr>\n",
       "      <th>(0.1, 0.2]</th>\n",
       "      <td>5331200.0</td>\n",
       "      <td>6585600.0</td>\n",
       "      <td>10088</td>\n",
       "    </tr>\n",
       "    <tr>\n",
       "      <th>(0.2, 0.3]</th>\n",
       "      <td>5331200.0</td>\n",
       "      <td>6585600.0</td>\n",
       "      <td>23003</td>\n",
       "    </tr>\n",
       "    <tr>\n",
       "      <th>(0.3, 0.4]</th>\n",
       "      <td>5331200.0</td>\n",
       "      <td>6585600.0</td>\n",
       "      <td>24549</td>\n",
       "    </tr>\n",
       "    <tr>\n",
       "      <th>(0.4, 0.5]</th>\n",
       "      <td>5331200.0</td>\n",
       "      <td>6585600.0</td>\n",
       "      <td>18665</td>\n",
       "    </tr>\n",
       "    <tr>\n",
       "      <th>(0.5, 0.6]</th>\n",
       "      <td>5331200.0</td>\n",
       "      <td>6585600.0</td>\n",
       "      <td>14744</td>\n",
       "    </tr>\n",
       "    <tr>\n",
       "      <th>(0.6, 0.7]</th>\n",
       "      <td>5331200.0</td>\n",
       "      <td>6585600.0</td>\n",
       "      <td>13210</td>\n",
       "    </tr>\n",
       "    <tr>\n",
       "      <th>(0.7, 0.8]</th>\n",
       "      <td>5331200.0</td>\n",
       "      <td>6585600.0</td>\n",
       "      <td>12187</td>\n",
       "    </tr>\n",
       "    <tr>\n",
       "      <th>(0.8, 0.9]</th>\n",
       "      <td>5331200.0</td>\n",
       "      <td>6585600.0</td>\n",
       "      <td>8689</td>\n",
       "    </tr>\n",
       "    <tr>\n",
       "      <th>(0.9, 1.0]</th>\n",
       "      <td>5331200.0</td>\n",
       "      <td>6585600.0</td>\n",
       "      <td>1925</td>\n",
       "    </tr>\n",
       "  </tbody>\n",
       "</table>\n",
       "</div>"
      ],
      "text/plain": [
       "            nr_behavior_score   score_gh  count\n",
       "proba_bin                                      \n",
       "(0.0, 0.1]          5331200.0  6585600.0  63738\n",
       "(0.1, 0.2]          5331200.0  6585600.0  10088\n",
       "(0.2, 0.3]          5331200.0  6585600.0  23003\n",
       "(0.3, 0.4]          5331200.0  6585600.0  24549\n",
       "(0.4, 0.5]          5331200.0  6585600.0  18665\n",
       "(0.5, 0.6]          5331200.0  6585600.0  14744\n",
       "(0.6, 0.7]          5331200.0  6585600.0  13210\n",
       "(0.7, 0.8]          5331200.0  6585600.0  12187\n",
       "(0.8, 0.9]          5331200.0  6585600.0   8689\n",
       "(0.9, 1.0]          5331200.0  6585600.0   1925"
      ]
     },
     "execution_count": 25,
     "metadata": {},
     "output_type": "execute_result"
    }
   ],
   "source": [
    "#agg.groupby('proba_bin').sum('count').head(20)"
   ]
  },
  {
   "cell_type": "markdown",
   "metadata": {},
   "source": [
    "IE - tem uma galera com probabilidade de queda bem pequena mas que mesmo assim está localizada nas faixas entre 20% e 50% de ie\n",
    "Pq?"
   ]
  },
  {
   "cell_type": "markdown",
   "metadata": {},
   "source": [
    "cred_bin de 0.3 a 0.5 - abrir em prob de queda baixa x alta\n",
    "levantar médias:\n",
    "\n",
    "- limite\n",
    "- pc_sow\n",
    "- renda_declarada\n",
    "- ds_safra"
   ]
  },
  {
   "cell_type": "code",
   "execution_count": 24,
   "metadata": {},
   "outputs": [
    {
     "data": {
      "text/html": [
       "<div>\n",
       "<style scoped>\n",
       "    .dataframe tbody tr th:only-of-type {\n",
       "        vertical-align: middle;\n",
       "    }\n",
       "\n",
       "    .dataframe tbody tr th {\n",
       "        vertical-align: top;\n",
       "    }\n",
       "\n",
       "    .dataframe thead th {\n",
       "        text-align: right;\n",
       "    }\n",
       "</style>\n",
       "<table border=\"1\" class=\"dataframe\">\n",
       "  <thead>\n",
       "    <tr style=\"text-align: right;\">\n",
       "      <th></th>\n",
       "      <th>conta_cartao</th>\n",
       "      <th>proba</th>\n",
       "      <th>decil_score</th>\n",
       "      <th>year</th>\n",
       "      <th>month</th>\n",
       "      <th>year-month</th>\n",
       "      <th>id_customer</th>\n",
       "      <th>cpf</th>\n",
       "      <th>ds_safra</th>\n",
       "      <th>limite</th>\n",
       "      <th>...</th>\n",
       "      <th>engagement_index</th>\n",
       "      <th>credit_rfm_score</th>\n",
       "      <th>limite_bin</th>\n",
       "      <th>sow_bin</th>\n",
       "      <th>renda_declarada_bin</th>\n",
       "      <th>proba_bin</th>\n",
       "      <th>ie_bin</th>\n",
       "      <th>cred_bin</th>\n",
       "      <th>count</th>\n",
       "      <th>flag_baixo_ie_cred</th>\n",
       "    </tr>\n",
       "  </thead>\n",
       "  <tbody>\n",
       "    <tr>\n",
       "      <th>1</th>\n",
       "      <td>4270104</td>\n",
       "      <td>0.195780</td>\n",
       "      <td>6</td>\n",
       "      <td>2022</td>\n",
       "      <td>6</td>\n",
       "      <td>202206</td>\n",
       "      <td>4270104</td>\n",
       "      <td>36116076149</td>\n",
       "      <td>2019-10</td>\n",
       "      <td>1200.0</td>\n",
       "      <td>...</td>\n",
       "      <td>0.726684</td>\n",
       "      <td>0.847458</td>\n",
       "      <td>(1000, 2000]</td>\n",
       "      <td>(0.7, 1.0]</td>\n",
       "      <td>(0, 500]</td>\n",
       "      <td>(0.1, 0.2]</td>\n",
       "      <td>(0.7, 0.8]</td>\n",
       "      <td>(0.8, 0.9]</td>\n",
       "      <td>1</td>\n",
       "      <td>ENGAJAMENTO ALTO</td>\n",
       "    </tr>\n",
       "    <tr>\n",
       "      <th>3</th>\n",
       "      <td>4305804</td>\n",
       "      <td>0.186952</td>\n",
       "      <td>6</td>\n",
       "      <td>2022</td>\n",
       "      <td>6</td>\n",
       "      <td>202206</td>\n",
       "      <td>4305804</td>\n",
       "      <td>12407965442</td>\n",
       "      <td>2019-10</td>\n",
       "      <td>1000.0</td>\n",
       "      <td>...</td>\n",
       "      <td>0.680834</td>\n",
       "      <td>0.677966</td>\n",
       "      <td>(500, 1000]</td>\n",
       "      <td>(0.5, 0.7]</td>\n",
       "      <td>(0, 500]</td>\n",
       "      <td>(0.1, 0.2]</td>\n",
       "      <td>(0.6, 0.7]</td>\n",
       "      <td>(0.6, 0.7]</td>\n",
       "      <td>1</td>\n",
       "      <td>ENGAJAMENTO ALTO</td>\n",
       "    </tr>\n",
       "    <tr>\n",
       "      <th>4</th>\n",
       "      <td>4319104</td>\n",
       "      <td>0.170548</td>\n",
       "      <td>7</td>\n",
       "      <td>2022</td>\n",
       "      <td>6</td>\n",
       "      <td>202206</td>\n",
       "      <td>4319104</td>\n",
       "      <td>4641986231</td>\n",
       "      <td>2019-10</td>\n",
       "      <td>800.0</td>\n",
       "      <td>...</td>\n",
       "      <td>0.608648</td>\n",
       "      <td>0.610169</td>\n",
       "      <td>(500, 1000]</td>\n",
       "      <td>(0.2, 0.5]</td>\n",
       "      <td>(0, 500]</td>\n",
       "      <td>(0.1, 0.2]</td>\n",
       "      <td>(0.6, 0.7]</td>\n",
       "      <td>(0.6, 0.7]</td>\n",
       "      <td>1</td>\n",
       "      <td>ENGAJAMENTO ALTO</td>\n",
       "    </tr>\n",
       "    <tr>\n",
       "      <th>6</th>\n",
       "      <td>44311750</td>\n",
       "      <td>0.435859</td>\n",
       "      <td>3</td>\n",
       "      <td>2022</td>\n",
       "      <td>6</td>\n",
       "      <td>202206</td>\n",
       "      <td>44311750</td>\n",
       "      <td>2430026538</td>\n",
       "      <td>2020-01</td>\n",
       "      <td>800.0</td>\n",
       "      <td>...</td>\n",
       "      <td>0.271186</td>\n",
       "      <td>0.338983</td>\n",
       "      <td>(500, 1000]</td>\n",
       "      <td>NaN</td>\n",
       "      <td>(0, 500]</td>\n",
       "      <td>(0.4, 0.5]</td>\n",
       "      <td>(0.2, 0.3]</td>\n",
       "      <td>(0.3, 0.4]</td>\n",
       "      <td>1</td>\n",
       "      <td>ENGAJAMENTO BAIXO</td>\n",
       "    </tr>\n",
       "    <tr>\n",
       "      <th>9</th>\n",
       "      <td>44315860</td>\n",
       "      <td>0.017592</td>\n",
       "      <td>8</td>\n",
       "      <td>2022</td>\n",
       "      <td>6</td>\n",
       "      <td>202206</td>\n",
       "      <td>44315860</td>\n",
       "      <td>2132474370</td>\n",
       "      <td>2020-01</td>\n",
       "      <td>700.0</td>\n",
       "      <td>...</td>\n",
       "      <td>0.393220</td>\n",
       "      <td>0.491525</td>\n",
       "      <td>(500, 1000]</td>\n",
       "      <td>NaN</td>\n",
       "      <td>(0, 500]</td>\n",
       "      <td>(0.0, 0.1]</td>\n",
       "      <td>(0.3, 0.4]</td>\n",
       "      <td>(0.4, 0.5]</td>\n",
       "      <td>1</td>\n",
       "      <td>ENGAJAMENTO BAIXO</td>\n",
       "    </tr>\n",
       "  </tbody>\n",
       "</table>\n",
       "<p>5 rows × 25 columns</p>\n",
       "</div>"
      ],
      "text/plain": [
       "   conta_cartao     proba  decil_score  year  month  year-month id_customer  \\\n",
       "1       4270104  0.195780            6  2022      6      202206     4270104   \n",
       "3       4305804  0.186952            6  2022      6      202206     4305804   \n",
       "4       4319104  0.170548            7  2022      6      202206     4319104   \n",
       "6      44311750  0.435859            3  2022      6      202206    44311750   \n",
       "9      44315860  0.017592            8  2022      6      202206    44315860   \n",
       "\n",
       "           cpf ds_safra  limite  ...  engagement_index  credit_rfm_score  \\\n",
       "1  36116076149  2019-10  1200.0  ...          0.726684          0.847458   \n",
       "3  12407965442  2019-10  1000.0  ...          0.680834          0.677966   \n",
       "4   4641986231  2019-10   800.0  ...          0.608648          0.610169   \n",
       "6   2430026538  2020-01   800.0  ...          0.271186          0.338983   \n",
       "9   2132474370  2020-01   700.0  ...          0.393220          0.491525   \n",
       "\n",
       "     limite_bin     sow_bin  renda_declarada_bin   proba_bin      ie_bin  \\\n",
       "1  (1000, 2000]  (0.7, 1.0]             (0, 500]  (0.1, 0.2]  (0.7, 0.8]   \n",
       "3   (500, 1000]  (0.5, 0.7]             (0, 500]  (0.1, 0.2]  (0.6, 0.7]   \n",
       "4   (500, 1000]  (0.2, 0.5]             (0, 500]  (0.1, 0.2]  (0.6, 0.7]   \n",
       "6   (500, 1000]         NaN             (0, 500]  (0.4, 0.5]  (0.2, 0.3]   \n",
       "9   (500, 1000]         NaN             (0, 500]  (0.0, 0.1]  (0.3, 0.4]   \n",
       "\n",
       "     cred_bin count flag_baixo_ie_cred  \n",
       "1  (0.8, 0.9]     1   ENGAJAMENTO ALTO  \n",
       "3  (0.6, 0.7]     1   ENGAJAMENTO ALTO  \n",
       "4  (0.6, 0.7]     1   ENGAJAMENTO ALTO  \n",
       "6  (0.3, 0.4]     1  ENGAJAMENTO BAIXO  \n",
       "9  (0.4, 0.5]     1  ENGAJAMENTO BAIXO  \n",
       "\n",
       "[5 rows x 25 columns]"
      ]
     },
     "execution_count": 24,
     "metadata": {},
     "output_type": "execute_result"
    }
   ],
   "source": [
    "#pb_add.query('credit_rfm_score >= 0.3 & credit_rfm_score <= 0.5')\n",
    "\n",
    "\n",
    "pb_add['flag_baixo_ie_cred']  = np.where(pb_add['credit_rfm_score'] <= 0.5,  'ENGAJAMENTO BAIXO', 'ENGAJAMENTO ALTO')\n",
    "\n",
    "pb_add.head()"
   ]
  },
  {
   "cell_type": "code",
   "execution_count": 26,
   "metadata": {},
   "outputs": [
    {
     "data": {
      "text/html": [
       "<div>\n",
       "<style scoped>\n",
       "    .dataframe tbody tr th:only-of-type {\n",
       "        vertical-align: middle;\n",
       "    }\n",
       "\n",
       "    .dataframe tbody tr th {\n",
       "        vertical-align: top;\n",
       "    }\n",
       "\n",
       "    .dataframe thead th {\n",
       "        text-align: right;\n",
       "    }\n",
       "</style>\n",
       "<table border=\"1\" class=\"dataframe\">\n",
       "  <thead>\n",
       "    <tr style=\"text-align: right;\">\n",
       "      <th></th>\n",
       "      <th>limite</th>\n",
       "      <th>pc_sow</th>\n",
       "      <th>renda_declarada</th>\n",
       "    </tr>\n",
       "    <tr>\n",
       "      <th>flag_baixa_prob</th>\n",
       "      <th></th>\n",
       "      <th></th>\n",
       "      <th></th>\n",
       "    </tr>\n",
       "  </thead>\n",
       "  <tbody>\n",
       "  </tbody>\n",
       "</table>\n",
       "</div>"
      ],
      "text/plain": [
       "Empty DataFrame\n",
       "Columns: [limite, pc_sow, renda_declarada]\n",
       "Index: []"
      ]
     },
     "execution_count": 26,
     "metadata": {},
     "output_type": "execute_result"
    }
   ],
   "source": [
    "pb_add['flag_baixa_prob']  = np.where((pb_add['proba'] <= 0.4),  1, 0)\n",
    "pb_add[['limite', 'pc_sow', 'renda_declarada', 'flag_baixo_ie_cred', 'flag_baixa_prob']].query('flag_baixo_ie_cred == 1').groupby('flag_baixa_prob').mean()"
   ]
  },
  {
   "cell_type": "code",
   "execution_count": 49,
   "metadata": {},
   "outputs": [],
   "source": [
    "#!pip install imblearn"
   ]
  },
  {
   "cell_type": "code",
   "execution_count": 37,
   "metadata": {},
   "outputs": [
    {
     "data": {
      "text/plain": [
       "conta_cartao              int64\n",
       "proba                   float64\n",
       "decil_score               int64\n",
       "year                      int64\n",
       "month                     int64\n",
       "year-month                int64\n",
       "id_customer              object\n",
       "cpf                       int64\n",
       "ds_safra                 object\n",
       "limite                  float64\n",
       "pc_sow                  float64\n",
       "renda_declarada         float64\n",
       "fx_atraso_jun22          object\n",
       "nr_behavior_score       float64\n",
       "score_gh                float64\n",
       "engagement_index        float64\n",
       "credit_rfm_score        float64\n",
       "limite_bin             category\n",
       "sow_bin                category\n",
       "renda_declarada_bin    category\n",
       "proba_bin              category\n",
       "ie_bin                 category\n",
       "cred_bin               category\n",
       "count                     int64\n",
       "flag_baixo_ie_cred       object\n",
       "flag_baixa_prob           int64\n",
       "dtype: object"
      ]
     },
     "execution_count": 37,
     "metadata": {},
     "output_type": "execute_result"
    }
   ],
   "source": [
    "pb_add.dtypes"
   ]
  },
  {
   "cell_type": "code",
   "execution_count": 63,
   "metadata": {},
   "outputs": [
    {
     "name": "stderr",
     "output_type": "stream",
     "text": [
      "\n",
      "A value is trying to be set on a copy of a slice from a DataFrame\n",
      "\n",
      "See the caveats in the documentation: https://pandas.pydata.org/pandas-docs/stable/user_guide/indexing.html#returning-a-view-versus-a-copy\n",
      "\n",
      "A value is trying to be set on a copy of a slice from a DataFrame\n",
      "\n",
      "See the caveats in the documentation: https://pandas.pydata.org/pandas-docs/stable/user_guide/indexing.html#returning-a-view-versus-a-copy\n",
      "\n",
      "A value is trying to be set on a copy of a slice from a DataFrame\n",
      "\n",
      "See the caveats in the documentation: https://pandas.pydata.org/pandas-docs/stable/user_guide/indexing.html#returning-a-view-versus-a-copy\n",
      "\n",
      "A value is trying to be set on a copy of a slice from a DataFrame\n",
      "\n",
      "See the caveats in the documentation: https://pandas.pydata.org/pandas-docs/stable/user_guide/indexing.html#returning-a-view-versus-a-copy\n",
      "\n",
      "A value is trying to be set on a copy of a slice from a DataFrame\n",
      "\n",
      "See the caveats in the documentation: https://pandas.pydata.org/pandas-docs/stable/user_guide/indexing.html#returning-a-view-versus-a-copy\n",
      "\n",
      "A value is trying to be set on a copy of a slice from a DataFrame\n",
      "\n",
      "See the caveats in the documentation: https://pandas.pydata.org/pandas-docs/stable/user_guide/indexing.html#returning-a-view-versus-a-copy\n",
      "A column-vector y was passed when a 1d array was expected. Please change the shape of y to (n_samples,), for example using ravel().\n",
      "A column-vector y was passed when a 1d array was expected. Please change the shape of y to (n_samples,), for example using ravel().\n",
      "A column-vector y was passed when a 1d array was expected. Please change the shape of y to (n_samples,), for example using ravel().\n",
      "A column-vector y was passed when a 1d array was expected. Please change the shape of y to (n_samples,), for example using ravel().\n",
      "A column-vector y was passed when a 1d array was expected. Please change the shape of y to (n_samples,), for example using ravel().\n",
      "A column-vector y was passed when a 1d array was expected. Please change the shape of y to (n_samples,), for example using ravel().\n",
      "A column-vector y was passed when a 1d array was expected. Please change the shape of y to (n_samples,), for example using ravel().\n",
      "Exact explainer: 12832it [06:20, 32.85it/s]                           \n"
     ]
    },
    {
     "data": {
      "image/png": "[encoded data removed]",
      "text/plain": [
       "<Figure size 576x252 with 2 Axes>"
      ]
     },
     "metadata": {
      "needs_background": "light"
     },
     "output_type": "display_data"
    },
    {
     "data": {
      "image/png": "[encoded data removed]",
      "text/plain": [
       "<Figure size 576x288 with 1 Axes>"
      ]
     },
     "metadata": {},
     "output_type": "display_data"
    }
   ],
   "source": [
    "#modelo express só pra rodar a importância\n",
    "from sklearn.model_selection import train_test_split\n",
    "from sklearn import metrics\n",
    "from sklearn.preprocessing import StandardScaler\n",
    "from sklearn.ensemble import RandomForestClassifier\n",
    "from imblearn.over_sampling import RandomOverSampler\n",
    "import shap\n",
    "\n",
    "\n",
    "#Parâmetros\n",
    "dataset_modelo = pb_add.query('flag_baixo_ie_cred == \"ENGAJAMENTO BAIXO\"')\n",
    "preditores = ['limite', 'pc_sow', 'renda_declarada', 'score_gh', 'nr_behavior_score']\n",
    "target = ['flag_baixa_prob']\n",
    "tam_teste = 0.2\n",
    "features_graficos = 5\n",
    "\n",
    "\n",
    "colunas_modelo = preditores + target\n",
    "for column in colunas_modelo:\n",
    "  if dataset_modelo[column].dtype == 'object':\n",
    "    dataset_modelo[column].fillna(dataset_modelo[column].mode()[0], inplace = True)\n",
    "  elif dataset_modelo[column].dtype != 'object':\n",
    "    dataset_modelo[column].fillna(dataset_modelo[column].median(), inplace = True)\n",
    "\n",
    "\n",
    "x_train, x_test, y_train, y_test = train_test_split(dataset_modelo[preditores]\n",
    "                                                    , dataset_modelo[target]\n",
    "                                                    , random_state=42, test_size=tam_teste)\n",
    "ros = RandomOverSampler(random_state = 42)\n",
    "X_ros, Y_ros = ros.fit_resample(x_train, y_train)\n",
    "arvores = [20, 50, 100, 300, 400, 500]\n",
    "accuracy_array = []\n",
    "\n",
    "for i in arvores:\n",
    "  rf = RandomForestClassifier(n_estimators=i)\n",
    "  rf.fit(X_ros, Y_ros)\n",
    "  y_predicted_rf = rf.predict(x_test)\n",
    "  accuracy_rf = metrics.accuracy_score(y_test, y_predicted_rf).round(4)\n",
    "  accuracy_array.append(accuracy_rf)\n",
    "rf_estimators = pd.DataFrame(list(zip(arvores, accuracy_array)), columns =['arvores', 'acuracia'])\n",
    "best_rf = RandomForestClassifier(n_estimators= rf_estimators['arvores'][rf_estimators['acuracia'].idxmax()])\n",
    "best_rf.fit(X_ros, Y_ros)\n",
    "explainer = shap.Explainer(best_rf.predict, x_test)\n",
    "shap_values = explainer(x_test)\n",
    "shap.summary_plot(shap_values, plot_type='violin')\n",
    "shap.plots.bar(shap_values[0])\n",
    "importance_df = pd.DataFrame(best_rf.feature_importances_, columns = ['importancia'], index = preditores)\n",
    "importance_df.sort_values(by='importancia', ascending=False).head(15).plot.bar(figsize=(20,5))\n",
    "features_importantes = importance_df.sort_values(by='importancia', ascending=False).head(features_graficos).index\n",
    "\n"
   ]
  },
  {
   "cell_type": "markdown",
   "metadata": {},
   "source": [
    "Comparando clientes com baixo engajamento, aqueles com menor probabilidade de queda tem uma renda declarada muito maior (média)"
   ]
  },
  {
   "cell_type": "code",
   "execution_count": 61,
   "metadata": {},
   "outputs": [
    {
     "data": {
      "text/plain": [
       "<AxesSubplot:xlabel='flag_baixa_prob', ylabel='renda_declarada'>"
      ]
     },
     "execution_count": 61,
     "metadata": {},
     "output_type": "execute_result"
    },
    {
     "data": {
      "image/png": "[encoded data removed]",
      "text/plain": [
       "<Figure size 640x480 with 1 Axes>"
      ]
     },
     "metadata": {},
     "output_type": "display_data"
    }
   ],
   "source": [
    "sns.boxplot(data = pb_add.query('renda_declarada < 8000'), y = 'renda_declarada', x = 'flag_baixa_prob')"
   ]
  },
  {
   "cell_type": "code",
   "execution_count": 67,
   "metadata": {},
   "outputs": [
    {
     "data": {
      "text/plain": [
       "<AxesSubplot:xlabel='flag_baixa_prob', ylabel='renda_declarada'>"
      ]
     },
     "execution_count": 67,
     "metadata": {},
     "output_type": "execute_result"
    },
    {
     "data": {
      "image/png": "[encoded data removed]",
      "text/plain": [
       "<Figure size 640x480 with 1 Axes>"
      ]
     },
     "metadata": {},
     "output_type": "display_data"
    }
   ],
   "source": [
    "sns.boxplot(data = pb_add.query('renda_declarada < 30000'), y = 'renda_declarada', x = 'flag_baixa_prob')"
   ]
  },
  {
   "cell_type": "code",
   "execution_count": 68,
   "metadata": {},
   "outputs": [
    {
     "data": {
      "text/plain": [
       "<AxesSubplot:xlabel='flag_baixa_prob', ylabel='pc_sow'>"
      ]
     },
     "execution_count": 68,
     "metadata": {},
     "output_type": "execute_result"
    },
    {
     "data": {
      "image/png": "[encoded data removed]",
      "text/plain": [
       "<Figure size 640x480 with 1 Axes>"
      ]
     },
     "metadata": {},
     "output_type": "display_data"
    }
   ],
   "source": [
    "sns.boxplot(data = pb_add, y = 'pc_sow', x = 'flag_baixa_prob')"
   ]
  },
  {
   "cell_type": "markdown",
   "metadata": {},
   "source": [
    "Porém examinando o box plot vemos que o share of wallet é o que mais difere dos clientes com e sem chance de queda: o share of wallet é maior nos clientes com baixa chance de queda"
   ]
  },
  {
   "cell_type": "code",
   "execution_count": 76,
   "metadata": {},
   "outputs": [
    {
     "data": {
      "image/png": "[encoded data removed]",
      "text/plain": [
       "<Figure size 2000x1000 with 1 Axes>"
      ]
     },
     "metadata": {},
     "output_type": "display_data"
    }
   ],
   "source": [
    "plt.figure(figsize = (20,10))\n",
    "sns.boxplot(data = pb_add, y = 'pc_sow', x = 'proba_bin', hue='flag_baixo_ie_cred')\n",
    "plt.show()"
   ]
  },
  {
   "cell_type": "code",
   "execution_count": 102,
   "metadata": {},
   "outputs": [],
   "source": [
    "pb_add['faixa_ie']  = np.where( (pb_add['credit_rfm_score'] < 0.3) ,  'A - ENGAJAMENTO BAIXO',\n",
    "   np.where( (pb_add['credit_rfm_score'] >= 0.3) & (pb_add['credit_rfm_score'] <= 0.6),  'B - ENGAJAMENTO MEDIANO', 'C - ENGAJAMENTO ALTO'))"
   ]
  },
  {
   "cell_type": "code",
   "execution_count": 19,
   "metadata": {},
   "outputs": [
    {
     "data": {
      "image/png": "[encoded data removed]",
      "text/plain": [
       "<Figure size 1440x720 with 1 Axes>"
      ]
     },
     "metadata": {
      "needs_background": "light"
     },
     "output_type": "display_data"
    }
   ],
   "source": [
    "plt.figure(figsize = (20,10))\n",
    "sns.boxplot(data = pb_add, y = 'pc_sow', x = 'proba_bin', hue='faixa_ie')\n",
    "plt.show()"
   ]
  },
  {
   "cell_type": "code",
   "execution_count": 101,
   "metadata": {},
   "outputs": [],
   "source": [
    "pb_add['faixa_stonks']  = np.where( (pb_add['proba'] < 0.3) ,  'A - RISCO DE QUEDA BAIXO',\n",
    "   np.where( (pb_add['proba'] >= 0.3) & (pb_add['proba'] <= 0.6),  'B - RISCO DE QUEDA MEDIANO', 'C - RISCO DE QUEDA ALTO'))"
   ]
  },
  {
   "cell_type": "code",
   "execution_count": 29,
   "metadata": {},
   "outputs": [
    {
     "data": {
      "text/html": [
       "<div>\n",
       "<style scoped>\n",
       "    .dataframe tbody tr th:only-of-type {\n",
       "        vertical-align: middle;\n",
       "    }\n",
       "\n",
       "    .dataframe tbody tr th {\n",
       "        vertical-align: top;\n",
       "    }\n",
       "\n",
       "    .dataframe thead th {\n",
       "        text-align: right;\n",
       "    }\n",
       "</style>\n",
       "<table border=\"1\" class=\"dataframe\">\n",
       "  <thead>\n",
       "    <tr style=\"text-align: right;\">\n",
       "      <th></th>\n",
       "      <th>cpf</th>\n",
       "    </tr>\n",
       "    <tr>\n",
       "      <th>nr_behavior_score</th>\n",
       "      <th></th>\n",
       "    </tr>\n",
       "  </thead>\n",
       "  <tbody>\n",
       "    <tr>\n",
       "      <th>1.0</th>\n",
       "      <td>197</td>\n",
       "    </tr>\n",
       "    <tr>\n",
       "      <th>2.0</th>\n",
       "      <td>589</td>\n",
       "    </tr>\n",
       "    <tr>\n",
       "      <th>3.0</th>\n",
       "      <td>1090</td>\n",
       "    </tr>\n",
       "    <tr>\n",
       "      <th>4.0</th>\n",
       "      <td>1882</td>\n",
       "    </tr>\n",
       "    <tr>\n",
       "      <th>5.0</th>\n",
       "      <td>2708</td>\n",
       "    </tr>\n",
       "    <tr>\n",
       "      <th>6.0</th>\n",
       "      <td>3649</td>\n",
       "    </tr>\n",
       "    <tr>\n",
       "      <th>7.0</th>\n",
       "      <td>9921</td>\n",
       "    </tr>\n",
       "    <tr>\n",
       "      <th>8.0</th>\n",
       "      <td>6056</td>\n",
       "    </tr>\n",
       "    <tr>\n",
       "      <th>9.0</th>\n",
       "      <td>6588</td>\n",
       "    </tr>\n",
       "    <tr>\n",
       "      <th>10.0</th>\n",
       "      <td>13637</td>\n",
       "    </tr>\n",
       "    <tr>\n",
       "      <th>11.0</th>\n",
       "      <td>32178</td>\n",
       "    </tr>\n",
       "    <tr>\n",
       "      <th>12.0</th>\n",
       "      <td>29621</td>\n",
       "    </tr>\n",
       "    <tr>\n",
       "      <th>13.0</th>\n",
       "      <td>34975</td>\n",
       "    </tr>\n",
       "    <tr>\n",
       "      <th>14.0</th>\n",
       "      <td>36913</td>\n",
       "    </tr>\n",
       "    <tr>\n",
       "      <th>15.0</th>\n",
       "      <td>34628</td>\n",
       "    </tr>\n",
       "    <tr>\n",
       "      <th>16.0</th>\n",
       "      <td>19429</td>\n",
       "    </tr>\n",
       "  </tbody>\n",
       "</table>\n",
       "</div>"
      ],
      "text/plain": [
       "                     cpf\n",
       "nr_behavior_score       \n",
       "1.0                  197\n",
       "2.0                  589\n",
       "3.0                 1090\n",
       "4.0                 1882\n",
       "5.0                 2708\n",
       "6.0                 3649\n",
       "7.0                 9921\n",
       "8.0                 6056\n",
       "9.0                 6588\n",
       "10.0               13637\n",
       "11.0               32178\n",
       "12.0               29621\n",
       "13.0               34975\n",
       "14.0               36913\n",
       "15.0               34628\n",
       "16.0               19429"
      ]
     },
     "execution_count": 29,
     "metadata": {},
     "output_type": "execute_result"
    }
   ],
   "source": [
    "pb_add[['cpf', 'nr_behavior_score']].groupby('nr_behavior_score').count()"
   ]
  },
  {
   "cell_type": "code",
   "execution_count": 93,
   "metadata": {},
   "outputs": [
    {
     "name": "stdout",
     "output_type": "stream",
     "text": [
      "pode rodar a simulação\n"
     ]
    }
   ],
   "source": [
    "print(\"pode rodar a simulação\")"
   ]
  },
  {
   "cell_type": "code",
   "execution_count": 100,
   "metadata": {},
   "outputs": [],
   "source": [
    "pb_add['faixa_behaviour']  = np.where( (pb_add['nr_behavior_score'] < 6) ,  'C - ALTO RISCO DE CREDITO',\n",
    "   np.where( (pb_add['nr_behavior_score'] >= 6) & (pb_add['nr_behavior_score'] <= 11),  'B - MEDIO RISCO DE CREDITO', 'A - BAIXO RISCO DE CREDITO'))"
   ]
  },
  {
   "cell_type": "code",
   "execution_count": 26,
   "metadata": {},
   "outputs": [],
   "source": [
    "agg = pb_add.groupby(['faixa_ie', 'faixa_stonks']).agg({'cpf':['count']})\n",
    "agg.columns = agg.columns.droplevel(0)\n",
    "agg = agg.reset_index()\n",
    "agg = agg.pivot_table(columns='faixa_stonks',index = 'faixa_ie', values='count', aggfunc=np.sum)"
   ]
  },
  {
   "cell_type": "code",
   "execution_count": 27,
   "metadata": {},
   "outputs": [
    {
     "data": {
      "text/html": [
       "<div>\n",
       "<style scoped>\n",
       "    .dataframe tbody tr th:only-of-type {\n",
       "        vertical-align: middle;\n",
       "    }\n",
       "\n",
       "    .dataframe tbody tr th {\n",
       "        vertical-align: top;\n",
       "    }\n",
       "\n",
       "    .dataframe thead th {\n",
       "        text-align: right;\n",
       "    }\n",
       "</style>\n",
       "<table border=\"1\" class=\"dataframe\">\n",
       "  <thead>\n",
       "    <tr style=\"text-align: right;\">\n",
       "      <th>faixa_stonks</th>\n",
       "      <th>A - RISCO DE QUEDA BAIXO</th>\n",
       "      <th>B - RISCO DE QUEDA MEDIANO</th>\n",
       "      <th>C - RISCO DE QUEDA ALTO</th>\n",
       "    </tr>\n",
       "    <tr>\n",
       "      <th>faixa_ie</th>\n",
       "      <th></th>\n",
       "      <th></th>\n",
       "      <th></th>\n",
       "    </tr>\n",
       "  </thead>\n",
       "  <tbody>\n",
       "    <tr>\n",
       "      <th>A - ENGAJAMENTO BAIXO</th>\n",
       "      <td>2144</td>\n",
       "      <td>3521</td>\n",
       "      <td>11824</td>\n",
       "    </tr>\n",
       "    <tr>\n",
       "      <th>B - ENGAJAMENTO MEDIANO</th>\n",
       "      <td>40237</td>\n",
       "      <td>24132</td>\n",
       "      <td>22611</td>\n",
       "    </tr>\n",
       "    <tr>\n",
       "      <th>C - ENGAJAMENTO ALTO</th>\n",
       "      <td>75146</td>\n",
       "      <td>44524</td>\n",
       "      <td>12952</td>\n",
       "    </tr>\n",
       "  </tbody>\n",
       "</table>\n",
       "</div>"
      ],
      "text/plain": [
       "faixa_stonks             A - RISCO DE QUEDA BAIXO  B - RISCO DE QUEDA MEDIANO  \\\n",
       "faixa_ie                                                                        \n",
       "A - ENGAJAMENTO BAIXO                        2144                        3521   \n",
       "B - ENGAJAMENTO MEDIANO                     40237                       24132   \n",
       "C - ENGAJAMENTO ALTO                        75146                       44524   \n",
       "\n",
       "faixa_stonks             C - RISCO DE QUEDA ALTO  \n",
       "faixa_ie                                          \n",
       "A - ENGAJAMENTO BAIXO                      11824  \n",
       "B - ENGAJAMENTO MEDIANO                    22611  \n",
       "C - ENGAJAMENTO ALTO                       12952  "
      ]
     },
     "execution_count": 27,
     "metadata": {},
     "output_type": "execute_result"
    }
   ],
   "source": [
    "agg.head(10)"
   ]
  },
  {
   "cell_type": "code",
   "execution_count": 31,
   "metadata": {},
   "outputs": [],
   "source": [
    "agg = pb_add.groupby(['faixa_behaviour', 'faixa_stonks']).agg({'cpf':['count']})\n",
    "agg.columns = agg.columns.droplevel(0)\n",
    "agg = agg.reset_index()\n",
    "agg = agg.pivot_table(columns='faixa_stonks',index = 'faixa_behaviour', values='count', aggfunc=np.sum)"
   ]
  },
  {
   "cell_type": "code",
   "execution_count": 96,
   "metadata": {},
   "outputs": [
    {
     "ename": "NameError",
     "evalue": "name 'agg' is not defined",
     "output_type": "error",
     "traceback": [
      "\u001b[0;31m---------------------------------------------------------------------------\u001b[0m",
      "\u001b[0;31mNameError\u001b[0m                                 Traceback (most recent call last)",
      "\u001b[1;32m/home/flavia.costa/work/codigos/202209 - Caracterização Stonks.ipynb Cell 59\u001b[0m in \u001b[0;36m<cell line: 1>\u001b[0;34m()\u001b[0m\n\u001b[0;32m----> <a href='vscode-notebook-cell:/home/flavia.costa/work/codigos/202209%20-%20Caracteriza%C3%A7%C3%A3o%20Stonks.ipynb#Y103sZmlsZQ%3D%3D?line=0'>1</a>\u001b[0m agg\u001b[39m.\u001b[39mhead(\u001b[39m10\u001b[39m)\n",
      "\u001b[0;31mNameError\u001b[0m: name 'agg' is not defined"
     ]
    }
   ],
   "source": [
    "agg.head(10)"
   ]
  },
  {
   "cell_type": "code",
   "execution_count": 98,
   "metadata": {},
   "outputs": [
    {
     "data": {
      "text/plain": [
       "Index(['conta_cartao', 'proba', 'decil_score', 'year', 'month', 'year-month',\n",
       "       'id_customer', 'cpf', 'ds_safra', 'limite', 'pc_sow', 'renda_declarada',\n",
       "       'fx_atraso_jun22', 'nr_behavior_score', 'score_gh', 'engagement_index',\n",
       "       'credit_rfm_score', 'vl_spending_futuro', 'vl_spending_passado',\n",
       "       'pr_iu', 'limite_bin', 'sow_bin', 'renda_declarada_bin', 'proba_bin',\n",
       "       'ie_bin', 'cred_bin', 'faixa_stonks', 'faixa_behaviour'],\n",
       "      dtype='object')"
      ]
     },
     "execution_count": 98,
     "metadata": {},
     "output_type": "execute_result"
    }
   ],
   "source": [
    "pb_add.columns"
   ]
  },
  {
   "cell_type": "code",
   "execution_count": 127,
   "metadata": {},
   "outputs": [],
   "source": [
    "pb_add['vl_spending_futuro'] = pb_add['vl_spending_futuro'].fillna(0.0)\n",
    "pb_add['vl_spending_passado'] = pb_add['vl_spending_passado'].fillna(0.0)\n",
    "pb_add['queda'] = np.where(pb_add['vl_spending_passado'] > pb_add['vl_spending_futuro'], 1, 0)"
   ]
  },
  {
   "cell_type": "code",
   "execution_count": 128,
   "metadata": {},
   "outputs": [
    {
     "data": {
      "text/html": [
       "<div>\n",
       "<style scoped>\n",
       "    .dataframe tbody tr th:only-of-type {\n",
       "        vertical-align: middle;\n",
       "    }\n",
       "\n",
       "    .dataframe tbody tr th {\n",
       "        vertical-align: top;\n",
       "    }\n",
       "\n",
       "    .dataframe thead th {\n",
       "        text-align: right;\n",
       "    }\n",
       "</style>\n",
       "<table border=\"1\" class=\"dataframe\">\n",
       "  <thead>\n",
       "    <tr style=\"text-align: right;\">\n",
       "      <th></th>\n",
       "      <th>queda</th>\n",
       "      <th>vl_spending_passado</th>\n",
       "      <th>vl_spending_futuro</th>\n",
       "      <th>limite</th>\n",
       "    </tr>\n",
       "  </thead>\n",
       "  <tbody>\n",
       "    <tr>\n",
       "      <th>1</th>\n",
       "      <td>1</td>\n",
       "      <td>879.34</td>\n",
       "      <td>0.00</td>\n",
       "      <td>1200.0</td>\n",
       "    </tr>\n",
       "    <tr>\n",
       "      <th>3</th>\n",
       "      <td>1</td>\n",
       "      <td>1699.13</td>\n",
       "      <td>9.78</td>\n",
       "      <td>1000.0</td>\n",
       "    </tr>\n",
       "    <tr>\n",
       "      <th>4</th>\n",
       "      <td>0</td>\n",
       "      <td>1450.00</td>\n",
       "      <td>1475.00</td>\n",
       "      <td>800.0</td>\n",
       "    </tr>\n",
       "    <tr>\n",
       "      <th>6</th>\n",
       "      <td>0</td>\n",
       "      <td>203.97</td>\n",
       "      <td>294.27</td>\n",
       "      <td>800.0</td>\n",
       "    </tr>\n",
       "    <tr>\n",
       "      <th>9</th>\n",
       "      <td>1</td>\n",
       "      <td>643.48</td>\n",
       "      <td>583.00</td>\n",
       "      <td>700.0</td>\n",
       "    </tr>\n",
       "    <tr>\n",
       "      <th>11</th>\n",
       "      <td>1</td>\n",
       "      <td>571.15</td>\n",
       "      <td>538.53</td>\n",
       "      <td>800.0</td>\n",
       "    </tr>\n",
       "    <tr>\n",
       "      <th>13</th>\n",
       "      <td>0</td>\n",
       "      <td>88.00</td>\n",
       "      <td>326.66</td>\n",
       "      <td>700.0</td>\n",
       "    </tr>\n",
       "    <tr>\n",
       "      <th>14</th>\n",
       "      <td>0</td>\n",
       "      <td>0.00</td>\n",
       "      <td>2276.69</td>\n",
       "      <td>600.0</td>\n",
       "    </tr>\n",
       "    <tr>\n",
       "      <th>17</th>\n",
       "      <td>0</td>\n",
       "      <td>0.00</td>\n",
       "      <td>20.00</td>\n",
       "      <td>400.0</td>\n",
       "    </tr>\n",
       "    <tr>\n",
       "      <th>20</th>\n",
       "      <td>1</td>\n",
       "      <td>2337.50</td>\n",
       "      <td>1040.90</td>\n",
       "      <td>1200.0</td>\n",
       "    </tr>\n",
       "  </tbody>\n",
       "</table>\n",
       "</div>"
      ],
      "text/plain": [
       "    queda  vl_spending_passado  vl_spending_futuro  limite\n",
       "1       1               879.34                0.00  1200.0\n",
       "3       1              1699.13                9.78  1000.0\n",
       "4       0              1450.00             1475.00   800.0\n",
       "6       0               203.97              294.27   800.0\n",
       "9       1               643.48              583.00   700.0\n",
       "11      1               571.15              538.53   800.0\n",
       "13      0                88.00              326.66   700.0\n",
       "14      0                 0.00             2276.69   600.0\n",
       "17      0                 0.00               20.00   400.0\n",
       "20      1              2337.50             1040.90  1200.0"
      ]
     },
     "execution_count": 128,
     "metadata": {},
     "output_type": "execute_result"
    }
   ],
   "source": [
    "pb_add[['queda', 'vl_spending_passado', 'vl_spending_futuro', 'limite']].head(10)"
   ]
  },
  {
   "cell_type": "code",
   "execution_count": 129,
   "metadata": {},
   "outputs": [
    {
     "data": {
      "text/html": [
       "<div>\n",
       "<style scoped>\n",
       "    .dataframe tbody tr th:only-of-type {\n",
       "        vertical-align: middle;\n",
       "    }\n",
       "\n",
       "    .dataframe tbody tr th {\n",
       "        vertical-align: top;\n",
       "    }\n",
       "\n",
       "    .dataframe thead th {\n",
       "        text-align: right;\n",
       "    }\n",
       "</style>\n",
       "<table border=\"1\" class=\"dataframe\">\n",
       "  <thead>\n",
       "    <tr style=\"text-align: right;\">\n",
       "      <th></th>\n",
       "      <th>queda</th>\n",
       "      <th>vl_spending_futuro</th>\n",
       "      <th>vl_spending_passado</th>\n",
       "      <th>limite</th>\n",
       "    </tr>\n",
       "    <tr>\n",
       "      <th>faixa_stonks</th>\n",
       "      <th></th>\n",
       "      <th></th>\n",
       "      <th></th>\n",
       "      <th></th>\n",
       "    </tr>\n",
       "  </thead>\n",
       "  <tbody>\n",
       "    <tr>\n",
       "      <th>A - RISCO DE QUEDA BAIXO</th>\n",
       "      <td>0.560280</td>\n",
       "      <td>536.437327</td>\n",
       "      <td>616.626109</td>\n",
       "      <td>906.756689</td>\n",
       "    </tr>\n",
       "    <tr>\n",
       "      <th>B - RISCO DE QUEDA MEDIANO</th>\n",
       "      <td>0.496848</td>\n",
       "      <td>496.556189</td>\n",
       "      <td>527.638882</td>\n",
       "      <td>853.314535</td>\n",
       "    </tr>\n",
       "    <tr>\n",
       "      <th>C - RISCO DE QUEDA ALTO</th>\n",
       "      <td>0.226855</td>\n",
       "      <td>299.892459</td>\n",
       "      <td>179.530282</td>\n",
       "      <td>884.668133</td>\n",
       "    </tr>\n",
       "  </tbody>\n",
       "</table>\n",
       "</div>"
      ],
      "text/plain": [
       "                               queda  vl_spending_futuro  vl_spending_passado  \\\n",
       "faixa_stonks                                                                    \n",
       "A - RISCO DE QUEDA BAIXO    0.560280          536.437327           616.626109   \n",
       "B - RISCO DE QUEDA MEDIANO  0.496848          496.556189           527.638882   \n",
       "C - RISCO DE QUEDA ALTO     0.226855          299.892459           179.530282   \n",
       "\n",
       "                                limite  \n",
       "faixa_stonks                            \n",
       "A - RISCO DE QUEDA BAIXO    906.756689  \n",
       "B - RISCO DE QUEDA MEDIANO  853.314535  \n",
       "C - RISCO DE QUEDA ALTO     884.668133  "
      ]
     },
     "execution_count": 129,
     "metadata": {},
     "output_type": "execute_result"
    }
   ],
   "source": [
    "pb_add[['faixa_stonks','queda', 'vl_spending_futuro', 'vl_spending_passado', 'limite']].groupby(['faixa_stonks']).mean()"
   ]
  },
  {
   "cell_type": "code",
   "execution_count": 110,
   "metadata": {},
   "outputs": [
    {
     "data": {
      "text/html": [
       "<div>\n",
       "<style scoped>\n",
       "    .dataframe tbody tr th:only-of-type {\n",
       "        vertical-align: middle;\n",
       "    }\n",
       "\n",
       "    .dataframe tbody tr th {\n",
       "        vertical-align: top;\n",
       "    }\n",
       "\n",
       "    .dataframe thead th {\n",
       "        text-align: right;\n",
       "    }\n",
       "</style>\n",
       "<table border=\"1\" class=\"dataframe\">\n",
       "  <thead>\n",
       "    <tr style=\"text-align: right;\">\n",
       "      <th></th>\n",
       "      <th></th>\n",
       "      <th></th>\n",
       "      <th>cont</th>\n",
       "      <th>saldo</th>\n",
       "      <th>vl_spending_futuro</th>\n",
       "      <th>vl_spending_passado</th>\n",
       "      <th>limite</th>\n",
       "    </tr>\n",
       "    <tr>\n",
       "      <th>faixa_behaviour</th>\n",
       "      <th>faixa_ie</th>\n",
       "      <th>faixa_stonks</th>\n",
       "      <th></th>\n",
       "      <th></th>\n",
       "      <th></th>\n",
       "      <th></th>\n",
       "      <th></th>\n",
       "    </tr>\n",
       "  </thead>\n",
       "  <tbody>\n",
       "    <tr>\n",
       "      <th rowspan=\"9\" valign=\"top\">A - BAIXO RISCO DE CREDITO</th>\n",
       "      <th rowspan=\"3\" valign=\"top\">A - ENGAJAMENTO BAIXO</th>\n",
       "      <th>A - RISCO DE QUEDA BAIXO</th>\n",
       "      <td>51</td>\n",
       "      <td>2348.90</td>\n",
       "      <td>4482.55</td>\n",
       "      <td>3118.34</td>\n",
       "      <td>39430.0</td>\n",
       "    </tr>\n",
       "    <tr>\n",
       "      <th>B - RISCO DE QUEDA MEDIANO</th>\n",
       "      <td>511</td>\n",
       "      <td>0.00</td>\n",
       "      <td>16407.15</td>\n",
       "      <td>124.60</td>\n",
       "      <td>513010.0</td>\n",
       "    </tr>\n",
       "    <tr>\n",
       "      <th>C - RISCO DE QUEDA ALTO</th>\n",
       "      <td>308</td>\n",
       "      <td>37.40</td>\n",
       "      <td>11703.45</td>\n",
       "      <td>0.00</td>\n",
       "      <td>293110.0</td>\n",
       "    </tr>\n",
       "    <tr>\n",
       "      <th rowspan=\"3\" valign=\"top\">B - ENGAJAMENTO MEDIANO</th>\n",
       "      <th>A - RISCO DE QUEDA BAIXO</th>\n",
       "      <td>1711</td>\n",
       "      <td>79481.70</td>\n",
       "      <td>322785.10</td>\n",
       "      <td>427297.52</td>\n",
       "      <td>1671000.0</td>\n",
       "    </tr>\n",
       "    <tr>\n",
       "      <th>B - RISCO DE QUEDA MEDIANO</th>\n",
       "      <td>728</td>\n",
       "      <td>12715.70</td>\n",
       "      <td>103306.89</td>\n",
       "      <td>77431.51</td>\n",
       "      <td>722520.0</td>\n",
       "    </tr>\n",
       "    <tr>\n",
       "      <th>C - RISCO DE QUEDA ALTO</th>\n",
       "      <td>487</td>\n",
       "      <td>3077.10</td>\n",
       "      <td>43223.51</td>\n",
       "      <td>9156.66</td>\n",
       "      <td>479400.0</td>\n",
       "    </tr>\n",
       "    <tr>\n",
       "      <th rowspan=\"3\" valign=\"top\">C - ENGAJAMENTO ALTO</th>\n",
       "      <th>A - RISCO DE QUEDA BAIXO</th>\n",
       "      <td>2201</td>\n",
       "      <td>83838.30</td>\n",
       "      <td>793459.50</td>\n",
       "      <td>1069530.18</td>\n",
       "      <td>2495660.0</td>\n",
       "    </tr>\n",
       "    <tr>\n",
       "      <th>B - RISCO DE QUEDA MEDIANO</th>\n",
       "      <td>354</td>\n",
       "      <td>20366.70</td>\n",
       "      <td>128107.95</td>\n",
       "      <td>136486.81</td>\n",
       "      <td>406650.0</td>\n",
       "    </tr>\n",
       "    <tr>\n",
       "      <th>C - RISCO DE QUEDA ALTO</th>\n",
       "      <td>115</td>\n",
       "      <td>3483.70</td>\n",
       "      <td>19987.83</td>\n",
       "      <td>10003.99</td>\n",
       "      <td>129780.0</td>\n",
       "    </tr>\n",
       "    <tr>\n",
       "      <th rowspan=\"9\" valign=\"top\">B - MEDIO RISCO DE CREDITO</th>\n",
       "      <th rowspan=\"3\" valign=\"top\">A - ENGAJAMENTO BAIXO</th>\n",
       "      <th>A - RISCO DE QUEDA BAIXO</th>\n",
       "      <td>192</td>\n",
       "      <td>79056.50</td>\n",
       "      <td>33839.69</td>\n",
       "      <td>42003.61</td>\n",
       "      <td>171100.0</td>\n",
       "    </tr>\n",
       "    <tr>\n",
       "      <th>B - RISCO DE QUEDA MEDIANO</th>\n",
       "      <td>499</td>\n",
       "      <td>25521.30</td>\n",
       "      <td>75778.79</td>\n",
       "      <td>8103.23</td>\n",
       "      <td>482950.0</td>\n",
       "    </tr>\n",
       "    <tr>\n",
       "      <th>C - RISCO DE QUEDA ALTO</th>\n",
       "      <td>1330</td>\n",
       "      <td>25092.80</td>\n",
       "      <td>234577.74</td>\n",
       "      <td>7283.55</td>\n",
       "      <td>1329860.0</td>\n",
       "    </tr>\n",
       "    <tr>\n",
       "      <th rowspan=\"3\" valign=\"top\">B - ENGAJAMENTO MEDIANO</th>\n",
       "      <th>A - RISCO DE QUEDA BAIXO</th>\n",
       "      <td>10325</td>\n",
       "      <td>1713907.80</td>\n",
       "      <td>3672758.14</td>\n",
       "      <td>4567058.69</td>\n",
       "      <td>9658845.0</td>\n",
       "    </tr>\n",
       "    <tr>\n",
       "      <th>B - RISCO DE QUEDA MEDIANO</th>\n",
       "      <td>4702</td>\n",
       "      <td>746480.30</td>\n",
       "      <td>1644059.93</td>\n",
       "      <td>1684304.49</td>\n",
       "      <td>4372060.0</td>\n",
       "    </tr>\n",
       "    <tr>\n",
       "      <th>C - RISCO DE QUEDA ALTO</th>\n",
       "      <td>4484</td>\n",
       "      <td>300212.40</td>\n",
       "      <td>1237586.54</td>\n",
       "      <td>466264.69</td>\n",
       "      <td>4413450.0</td>\n",
       "    </tr>\n",
       "    <tr>\n",
       "      <th rowspan=\"3\" valign=\"top\">C - ENGAJAMENTO ALTO</th>\n",
       "      <th>A - RISCO DE QUEDA BAIXO</th>\n",
       "      <td>32440</td>\n",
       "      <td>2428751.80</td>\n",
       "      <td>18851796.48</td>\n",
       "      <td>22912906.75</td>\n",
       "      <td>31887560.0</td>\n",
       "    </tr>\n",
       "    <tr>\n",
       "      <th>B - RISCO DE QUEDA MEDIANO</th>\n",
       "      <td>13917</td>\n",
       "      <td>1279479.00</td>\n",
       "      <td>8008806.50</td>\n",
       "      <td>9359434.66</td>\n",
       "      <td>13293010.0</td>\n",
       "    </tr>\n",
       "    <tr>\n",
       "      <th>C - RISCO DE QUEDA ALTO</th>\n",
       "      <td>4140</td>\n",
       "      <td>274993.40</td>\n",
       "      <td>1512158.75</td>\n",
       "      <td>1425680.61</td>\n",
       "      <td>3903720.0</td>\n",
       "    </tr>\n",
       "    <tr>\n",
       "      <th rowspan=\"9\" valign=\"top\">C - ALTO RISCO DE CREDITO</th>\n",
       "      <th rowspan=\"3\" valign=\"top\">A - ENGAJAMENTO BAIXO</th>\n",
       "      <th>A - RISCO DE QUEDA BAIXO</th>\n",
       "      <td>1901</td>\n",
       "      <td>1262410.40</td>\n",
       "      <td>505468.43</td>\n",
       "      <td>404932.28</td>\n",
       "      <td>1801640.0</td>\n",
       "    </tr>\n",
       "    <tr>\n",
       "      <th>B - RISCO DE QUEDA MEDIANO</th>\n",
       "      <td>2511</td>\n",
       "      <td>561254.30</td>\n",
       "      <td>688965.58</td>\n",
       "      <td>178200.20</td>\n",
       "      <td>2733540.0</td>\n",
       "    </tr>\n",
       "    <tr>\n",
       "      <th>C - RISCO DE QUEDA ALTO</th>\n",
       "      <td>10186</td>\n",
       "      <td>837674.70</td>\n",
       "      <td>2400960.53</td>\n",
       "      <td>179695.90</td>\n",
       "      <td>10599360.0</td>\n",
       "    </tr>\n",
       "    <tr>\n",
       "      <th rowspan=\"3\" valign=\"top\">B - ENGAJAMENTO MEDIANO</th>\n",
       "      <th>A - RISCO DE QUEDA BAIXO</th>\n",
       "      <td>28201</td>\n",
       "      <td>10433137.50</td>\n",
       "      <td>11669635.57</td>\n",
       "      <td>12959347.59</td>\n",
       "      <td>25114290.0</td>\n",
       "    </tr>\n",
       "    <tr>\n",
       "      <th>B - RISCO DE QUEDA MEDIANO</th>\n",
       "      <td>18702</td>\n",
       "      <td>5791803.98</td>\n",
       "      <td>7694343.36</td>\n",
       "      <td>7409030.16</td>\n",
       "      <td>16269536.0</td>\n",
       "    </tr>\n",
       "    <tr>\n",
       "      <th>C - RISCO DE QUEDA ALTO</th>\n",
       "      <td>17640</td>\n",
       "      <td>3162154.80</td>\n",
       "      <td>5514653.84</td>\n",
       "      <td>3168096.61</td>\n",
       "      <td>15086440.0</td>\n",
       "    </tr>\n",
       "    <tr>\n",
       "      <th rowspan=\"3\" valign=\"top\">C - ENGAJAMENTO ALTO</th>\n",
       "      <th>A - RISCO DE QUEDA BAIXO</th>\n",
       "      <td>40505</td>\n",
       "      <td>5813654.20</td>\n",
       "      <td>27191644.23</td>\n",
       "      <td>30084021.81</td>\n",
       "      <td>33241940.0</td>\n",
       "    </tr>\n",
       "    <tr>\n",
       "      <th>B - RISCO DE QUEDA MEDIANO</th>\n",
       "      <td>30253</td>\n",
       "      <td>4018927.70</td>\n",
       "      <td>17480159.92</td>\n",
       "      <td>19230275.91</td>\n",
       "      <td>22592465.0</td>\n",
       "    </tr>\n",
       "    <tr>\n",
       "      <th>C - RISCO DE QUEDA ALTO</th>\n",
       "      <td>8697</td>\n",
       "      <td>990484.10</td>\n",
       "      <td>3236151.75</td>\n",
       "      <td>3241219.44</td>\n",
       "      <td>5590220.0</td>\n",
       "    </tr>\n",
       "  </tbody>\n",
       "</table>\n",
       "</div>"
      ],
      "text/plain": [
       "                                                                                cont  \\\n",
       "faixa_behaviour            faixa_ie                faixa_stonks                        \n",
       "A - BAIXO RISCO DE CREDITO A - ENGAJAMENTO BAIXO   A - RISCO DE QUEDA BAIXO       51   \n",
       "                                                   B - RISCO DE QUEDA MEDIANO    511   \n",
       "                                                   C - RISCO DE QUEDA ALTO       308   \n",
       "                           B - ENGAJAMENTO MEDIANO A - RISCO DE QUEDA BAIXO     1711   \n",
       "                                                   B - RISCO DE QUEDA MEDIANO    728   \n",
       "                                                   C - RISCO DE QUEDA ALTO       487   \n",
       "                           C - ENGAJAMENTO ALTO    A - RISCO DE QUEDA BAIXO     2201   \n",
       "                                                   B - RISCO DE QUEDA MEDIANO    354   \n",
       "                                                   C - RISCO DE QUEDA ALTO       115   \n",
       "B - MEDIO RISCO DE CREDITO A - ENGAJAMENTO BAIXO   A - RISCO DE QUEDA BAIXO      192   \n",
       "                                                   B - RISCO DE QUEDA MEDIANO    499   \n",
       "                                                   C - RISCO DE QUEDA ALTO      1330   \n",
       "                           B - ENGAJAMENTO MEDIANO A - RISCO DE QUEDA BAIXO    10325   \n",
       "                                                   B - RISCO DE QUEDA MEDIANO   4702   \n",
       "                                                   C - RISCO DE QUEDA ALTO      4484   \n",
       "                           C - ENGAJAMENTO ALTO    A - RISCO DE QUEDA BAIXO    32440   \n",
       "                                                   B - RISCO DE QUEDA MEDIANO  13917   \n",
       "                                                   C - RISCO DE QUEDA ALTO      4140   \n",
       "C - ALTO RISCO DE CREDITO  A - ENGAJAMENTO BAIXO   A - RISCO DE QUEDA BAIXO     1901   \n",
       "                                                   B - RISCO DE QUEDA MEDIANO   2511   \n",
       "                                                   C - RISCO DE QUEDA ALTO     10186   \n",
       "                           B - ENGAJAMENTO MEDIANO A - RISCO DE QUEDA BAIXO    28201   \n",
       "                                                   B - RISCO DE QUEDA MEDIANO  18702   \n",
       "                                                   C - RISCO DE QUEDA ALTO     17640   \n",
       "                           C - ENGAJAMENTO ALTO    A - RISCO DE QUEDA BAIXO    40505   \n",
       "                                                   B - RISCO DE QUEDA MEDIANO  30253   \n",
       "                                                   C - RISCO DE QUEDA ALTO      8697   \n",
       "\n",
       "                                                                                     saldo  \\\n",
       "faixa_behaviour            faixa_ie                faixa_stonks                              \n",
       "A - BAIXO RISCO DE CREDITO A - ENGAJAMENTO BAIXO   A - RISCO DE QUEDA BAIXO        2348.90   \n",
       "                                                   B - RISCO DE QUEDA MEDIANO         0.00   \n",
       "                                                   C - RISCO DE QUEDA ALTO           37.40   \n",
       "                           B - ENGAJAMENTO MEDIANO A - RISCO DE QUEDA BAIXO       79481.70   \n",
       "                                                   B - RISCO DE QUEDA MEDIANO     12715.70   \n",
       "                                                   C - RISCO DE QUEDA ALTO         3077.10   \n",
       "                           C - ENGAJAMENTO ALTO    A - RISCO DE QUEDA BAIXO       83838.30   \n",
       "                                                   B - RISCO DE QUEDA MEDIANO     20366.70   \n",
       "                                                   C - RISCO DE QUEDA ALTO         3483.70   \n",
       "B - MEDIO RISCO DE CREDITO A - ENGAJAMENTO BAIXO   A - RISCO DE QUEDA BAIXO       79056.50   \n",
       "                                                   B - RISCO DE QUEDA MEDIANO     25521.30   \n",
       "                                                   C - RISCO DE QUEDA ALTO        25092.80   \n",
       "                           B - ENGAJAMENTO MEDIANO A - RISCO DE QUEDA BAIXO     1713907.80   \n",
       "                                                   B - RISCO DE QUEDA MEDIANO    746480.30   \n",
       "                                                   C - RISCO DE QUEDA ALTO       300212.40   \n",
       "                           C - ENGAJAMENTO ALTO    A - RISCO DE QUEDA BAIXO     2428751.80   \n",
       "                                                   B - RISCO DE QUEDA MEDIANO   1279479.00   \n",
       "                                                   C - RISCO DE QUEDA ALTO       274993.40   \n",
       "C - ALTO RISCO DE CREDITO  A - ENGAJAMENTO BAIXO   A - RISCO DE QUEDA BAIXO     1262410.40   \n",
       "                                                   B - RISCO DE QUEDA MEDIANO    561254.30   \n",
       "                                                   C - RISCO DE QUEDA ALTO       837674.70   \n",
       "                           B - ENGAJAMENTO MEDIANO A - RISCO DE QUEDA BAIXO    10433137.50   \n",
       "                                                   B - RISCO DE QUEDA MEDIANO   5791803.98   \n",
       "                                                   C - RISCO DE QUEDA ALTO      3162154.80   \n",
       "                           C - ENGAJAMENTO ALTO    A - RISCO DE QUEDA BAIXO     5813654.20   \n",
       "                                                   B - RISCO DE QUEDA MEDIANO   4018927.70   \n",
       "                                                   C - RISCO DE QUEDA ALTO       990484.10   \n",
       "\n",
       "                                                                               vl_spending_futuro  \\\n",
       "faixa_behaviour            faixa_ie                faixa_stonks                                     \n",
       "A - BAIXO RISCO DE CREDITO A - ENGAJAMENTO BAIXO   A - RISCO DE QUEDA BAIXO               4482.55   \n",
       "                                                   B - RISCO DE QUEDA MEDIANO            16407.15   \n",
       "                                                   C - RISCO DE QUEDA ALTO               11703.45   \n",
       "                           B - ENGAJAMENTO MEDIANO A - RISCO DE QUEDA BAIXO             322785.10   \n",
       "                                                   B - RISCO DE QUEDA MEDIANO           103306.89   \n",
       "                                                   C - RISCO DE QUEDA ALTO               43223.51   \n",
       "                           C - ENGAJAMENTO ALTO    A - RISCO DE QUEDA BAIXO             793459.50   \n",
       "                                                   B - RISCO DE QUEDA MEDIANO           128107.95   \n",
       "                                                   C - RISCO DE QUEDA ALTO               19987.83   \n",
       "B - MEDIO RISCO DE CREDITO A - ENGAJAMENTO BAIXO   A - RISCO DE QUEDA BAIXO              33839.69   \n",
       "                                                   B - RISCO DE QUEDA MEDIANO            75778.79   \n",
       "                                                   C - RISCO DE QUEDA ALTO              234577.74   \n",
       "                           B - ENGAJAMENTO MEDIANO A - RISCO DE QUEDA BAIXO            3672758.14   \n",
       "                                                   B - RISCO DE QUEDA MEDIANO          1644059.93   \n",
       "                                                   C - RISCO DE QUEDA ALTO             1237586.54   \n",
       "                           C - ENGAJAMENTO ALTO    A - RISCO DE QUEDA BAIXO           18851796.48   \n",
       "                                                   B - RISCO DE QUEDA MEDIANO          8008806.50   \n",
       "                                                   C - RISCO DE QUEDA ALTO             1512158.75   \n",
       "C - ALTO RISCO DE CREDITO  A - ENGAJAMENTO BAIXO   A - RISCO DE QUEDA BAIXO             505468.43   \n",
       "                                                   B - RISCO DE QUEDA MEDIANO           688965.58   \n",
       "                                                   C - RISCO DE QUEDA ALTO             2400960.53   \n",
       "                           B - ENGAJAMENTO MEDIANO A - RISCO DE QUEDA BAIXO           11669635.57   \n",
       "                                                   B - RISCO DE QUEDA MEDIANO          7694343.36   \n",
       "                                                   C - RISCO DE QUEDA ALTO             5514653.84   \n",
       "                           C - ENGAJAMENTO ALTO    A - RISCO DE QUEDA BAIXO           27191644.23   \n",
       "                                                   B - RISCO DE QUEDA MEDIANO         17480159.92   \n",
       "                                                   C - RISCO DE QUEDA ALTO             3236151.75   \n",
       "\n",
       "                                                                               vl_spending_passado  \\\n",
       "faixa_behaviour            faixa_ie                faixa_stonks                                      \n",
       "A - BAIXO RISCO DE CREDITO A - ENGAJAMENTO BAIXO   A - RISCO DE QUEDA BAIXO                3118.34   \n",
       "                                                   B - RISCO DE QUEDA MEDIANO               124.60   \n",
       "                                                   C - RISCO DE QUEDA ALTO                    0.00   \n",
       "                           B - ENGAJAMENTO MEDIANO A - RISCO DE QUEDA BAIXO              427297.52   \n",
       "                                                   B - RISCO DE QUEDA MEDIANO             77431.51   \n",
       "                                                   C - RISCO DE QUEDA ALTO                 9156.66   \n",
       "                           C - ENGAJAMENTO ALTO    A - RISCO DE QUEDA BAIXO             1069530.18   \n",
       "                                                   B - RISCO DE QUEDA MEDIANO            136486.81   \n",
       "                                                   C - RISCO DE QUEDA ALTO                10003.99   \n",
       "B - MEDIO RISCO DE CREDITO A - ENGAJAMENTO BAIXO   A - RISCO DE QUEDA BAIXO               42003.61   \n",
       "                                                   B - RISCO DE QUEDA MEDIANO              8103.23   \n",
       "                                                   C - RISCO DE QUEDA ALTO                 7283.55   \n",
       "                           B - ENGAJAMENTO MEDIANO A - RISCO DE QUEDA BAIXO             4567058.69   \n",
       "                                                   B - RISCO DE QUEDA MEDIANO           1684304.49   \n",
       "                                                   C - RISCO DE QUEDA ALTO               466264.69   \n",
       "                           C - ENGAJAMENTO ALTO    A - RISCO DE QUEDA BAIXO            22912906.75   \n",
       "                                                   B - RISCO DE QUEDA MEDIANO           9359434.66   \n",
       "                                                   C - RISCO DE QUEDA ALTO              1425680.61   \n",
       "C - ALTO RISCO DE CREDITO  A - ENGAJAMENTO BAIXO   A - RISCO DE QUEDA BAIXO              404932.28   \n",
       "                                                   B - RISCO DE QUEDA MEDIANO            178200.20   \n",
       "                                                   C - RISCO DE QUEDA ALTO               179695.90   \n",
       "                           B - ENGAJAMENTO MEDIANO A - RISCO DE QUEDA BAIXO            12959347.59   \n",
       "                                                   B - RISCO DE QUEDA MEDIANO           7409030.16   \n",
       "                                                   C - RISCO DE QUEDA ALTO              3168096.61   \n",
       "                           C - ENGAJAMENTO ALTO    A - RISCO DE QUEDA BAIXO            30084021.81   \n",
       "                                                   B - RISCO DE QUEDA MEDIANO          19230275.91   \n",
       "                                                   C - RISCO DE QUEDA ALTO              3241219.44   \n",
       "\n",
       "                                                                                   limite  \n",
       "faixa_behaviour            faixa_ie                faixa_stonks                            \n",
       "A - BAIXO RISCO DE CREDITO A - ENGAJAMENTO BAIXO   A - RISCO DE QUEDA BAIXO       39430.0  \n",
       "                                                   B - RISCO DE QUEDA MEDIANO    513010.0  \n",
       "                                                   C - RISCO DE QUEDA ALTO       293110.0  \n",
       "                           B - ENGAJAMENTO MEDIANO A - RISCO DE QUEDA BAIXO     1671000.0  \n",
       "                                                   B - RISCO DE QUEDA MEDIANO    722520.0  \n",
       "                                                   C - RISCO DE QUEDA ALTO       479400.0  \n",
       "                           C - ENGAJAMENTO ALTO    A - RISCO DE QUEDA BAIXO     2495660.0  \n",
       "                                                   B - RISCO DE QUEDA MEDIANO    406650.0  \n",
       "                                                   C - RISCO DE QUEDA ALTO       129780.0  \n",
       "B - MEDIO RISCO DE CREDITO A - ENGAJAMENTO BAIXO   A - RISCO DE QUEDA BAIXO      171100.0  \n",
       "                                                   B - RISCO DE QUEDA MEDIANO    482950.0  \n",
       "                                                   C - RISCO DE QUEDA ALTO      1329860.0  \n",
       "                           B - ENGAJAMENTO MEDIANO A - RISCO DE QUEDA BAIXO     9658845.0  \n",
       "                                                   B - RISCO DE QUEDA MEDIANO   4372060.0  \n",
       "                                                   C - RISCO DE QUEDA ALTO      4413450.0  \n",
       "                           C - ENGAJAMENTO ALTO    A - RISCO DE QUEDA BAIXO    31887560.0  \n",
       "                                                   B - RISCO DE QUEDA MEDIANO  13293010.0  \n",
       "                                                   C - RISCO DE QUEDA ALTO      3903720.0  \n",
       "C - ALTO RISCO DE CREDITO  A - ENGAJAMENTO BAIXO   A - RISCO DE QUEDA BAIXO     1801640.0  \n",
       "                                                   B - RISCO DE QUEDA MEDIANO   2733540.0  \n",
       "                                                   C - RISCO DE QUEDA ALTO     10599360.0  \n",
       "                           B - ENGAJAMENTO MEDIANO A - RISCO DE QUEDA BAIXO    25114290.0  \n",
       "                                                   B - RISCO DE QUEDA MEDIANO  16269536.0  \n",
       "                                                   C - RISCO DE QUEDA ALTO     15086440.0  \n",
       "                           C - ENGAJAMENTO ALTO    A - RISCO DE QUEDA BAIXO    33241940.0  \n",
       "                                                   B - RISCO DE QUEDA MEDIANO  22592465.0  \n",
       "                                                   C - RISCO DE QUEDA ALTO      5590220.0  "
      ]
     },
     "execution_count": 110,
     "metadata": {},
     "output_type": "execute_result"
    }
   ],
   "source": [
    "#1) calcular o saldo\n",
    "#2) somar o spending passado e futuro + saldo\n",
    "#3) quebrar por faixas de IE e Behaviour\n",
    "pb_add['cont'] = 1\n",
    "pb_add['iu_cor'] = np.where(pb_add['pr_iu'] > 1, 1, pb_add['pr_iu'])\n",
    "pb_add['saldo'] = pb_add['limite'] - (pb_add['iu_cor'] * pb_add['limite'] )\n",
    "pb_add[['faixa_behaviour', 'faixa_ie', 'faixa_stonks','cont' , 'saldo', 'vl_spending_futuro', 'vl_spending_passado', 'limite']].groupby(['faixa_behaviour', 'faixa_ie', 'faixa_stonks']).sum()"
   ]
  }
 ],
 "metadata": {
  "kernelspec": {
   "display_name": "Python 3.8.10 64-bit",
   "language": "python",
   "name": "python3"
  },
  "language_info": {
   "codemirror_mode": {
    "name": "ipython",
    "version": 3
   },
   "file_extension": ".py",
   "mimetype": "text/x-python",
   "name": "python",
   "nbconvert_exporter": "python",
   "pygments_lexer": "ipython3",
   "version": "3.8.10"
  },
  "orig_nbformat": 4,
  "vscode": {
   "interpreter": {
    "hash": "916dbcbb3f70747c44a77c7bcd40155683ae19c65e1c03b4aa3499c5328201f1"
   }
  }
 },
 "nbformat": 4,
 "nbformat_minor": 2
}
