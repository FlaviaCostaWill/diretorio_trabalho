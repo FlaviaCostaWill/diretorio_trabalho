{
 "cells": [
  {
   "cell_type": "code",
   "execution_count": 1,
   "id": "07af023f-a73f-4d6b-8817-346257abb0e9",
   "metadata": {},
   "outputs": [],
   "source": [
    "import pandas as pd\n",
    "import numpy as np\n",
    "import aux.acessos as ac"
   ]
  },
  {
   "cell_type": "code",
   "execution_count": 2,
   "id": "bcdc3661-65b5-4fc9-8904-3b946e1f757c",
   "metadata": {
    "tags": []
   },
   "outputs": [],
   "source": [
    "query = \"\"\"\n",
    "        with perfil as (\n",
    "select \n",
    "cpf\n",
    ", ds_gender\n",
    ", ds_region\n",
    ", ds_occupation\n",
    ", case\n",
    "                when round((extract(day from current_date - cast(dt_birth as date))/30.5/12 / 10),0) = 2 then 'a - ate 24 anos'\n",
    "                when round((extract(day from current_date - cast(dt_birth as date))/30.5/12 / 10),0) = 3 then 'b - 25-34 anos'\n",
    "                when round((extract(day from current_date - cast(dt_birth as date))/30.5/12 / 10),0) = 4 then 'c - 35-44 anos'\n",
    "                when round((extract(day from current_date - cast(dt_birth as date))/30.5/12 / 10),0) = 5 then 'd - 45-54 anos'\n",
    "                when round((extract(day from current_date - cast(dt_birth as date))/30.5/12 / 10),0) = 6 then 'e - 55-64 anos'\n",
    "                when round((extract(day from current_date - cast(dt_birth as date))/30.5/12 / 10),0) = 7 then 'f - 65-74 anos'\n",
    "                when round((extract(day from current_date - cast(dt_birth as date))/30.5/12 / 10),0) = 8 then 'g - 75-84 anos'\n",
    "                else 'h - idade NI' end as pf_faixa_idade    \n",
    "from (\n",
    "select\n",
    "g.*, c.cpf\n",
    ", rank() over (partition by c.cpf order by c.cd_yearmonth desc) as ordem_registro\n",
    "from customer_curated_zone.ca_book_growth g \n",
    "left join customer_curated_zone.ca_book_cliente c on (g.id_customer = c.id_customer)\n",
    ") where ordem_registro = 1\n",
    ")\n",
    "select *\n",
    "from platform_sandbox_zone.flavia_sow_apos_churn a\n",
    "left join perfil p on p.cpf = a.cpf \n",
    "\n",
    "\"\"\""
   ]
  },
  {
   "cell_type": "code",
   "execution_count": 3,
   "id": "6c28ce41-14ed-46af-b167-3915a067a1a3",
   "metadata": {},
   "outputs": [
    {
     "name": "stderr",
     "output_type": "stream",
     "text": [
      "Failed to execute query.\n",
      "Traceback (most recent call last):\n",
      "  File \"/home/flavia.costa/.local/lib/python3.9/site-packages/pyathena/common.py\", line 307, in _execute\n",
      "    query_id = retry_api_call(\n",
      "  File \"/home/flavia.costa/.local/lib/python3.9/site-packages/pyathena/util.py\", line 84, in retry_api_call\n",
      "    return retry(func, *args, **kwargs)\n",
      "  File \"/home/flavia.costa/.local/lib/python3.9/site-packages/tenacity/__init__.py\", line 430, in __call__\n",
      "    do = self.iter(retry_state=retry_state)\n",
      "  File \"/home/flavia.costa/.local/lib/python3.9/site-packages/tenacity/__init__.py\", line 367, in iter\n",
      "    return fut.result()\n",
      "  File \"/usr/lib/python3.9/concurrent/futures/_base.py\", line 433, in result\n",
      "    return self.__get_result()\n",
      "  File \"/usr/lib/python3.9/concurrent/futures/_base.py\", line 389, in __get_result\n",
      "    raise self._exception\n",
      "  File \"/home/flavia.costa/.local/lib/python3.9/site-packages/tenacity/__init__.py\", line 433, in __call__\n",
      "    result = fn(*args, **kwargs)\n",
      "  File \"/home/flavia.costa/.local/lib/python3.9/site-packages/botocore/client.py\", line 391, in _api_call\n",
      "    return self._make_api_call(operation_name, kwargs)\n",
      "  File \"/home/flavia.costa/.local/lib/python3.9/site-packages/botocore/client.py\", line 719, in _make_api_call\n",
      "    raise error_class(parsed_response, operation_name)\n",
      "botocore.errorfactory.InvalidRequestException: An error occurred (InvalidRequestException) when calling the StartQueryExecution operation: line 20:112: mismatched input 'a'. Expecting: '%', '*', '+', '-', '.', '/', 'AND', 'AT', 'EXCEPT', 'GROUP', 'HAVING', 'INTERSECT', 'LIMIT', 'OFFSET', 'OR', 'ORDER', 'UNION', '[', '||', <EOF>\n"
     ]
    }
   ],
   "source": [
    "base = ac.df_athena('flavia-costa', query)"
   ]
  },
  {
   "cell_type": "code",
   "execution_count": 4,
   "id": "dc080e7d-165a-4739-a4b1-7087de67d410",
   "metadata": {},
   "outputs": [
    {
     "data": {
      "text/plain": [
       "3562113"
      ]
     },
     "execution_count": 4,
     "metadata": {},
     "output_type": "execute_result"
    }
   ],
   "source": [
    "len(base)"
   ]
  },
  {
   "cell_type": "code",
   "execution_count": 5,
   "id": "470fa225-08d7-473c-8a54-7d35d627218c",
   "metadata": {},
   "outputs": [
    {
     "name": "stdout",
     "output_type": "stream",
     "text": [
      "Index(['dt_mes_churn', 'cpf', 'utilizado_interno_m1', 'utilizado_mercado_m1',\n",
      "       'utilizado_interno_m2', 'utilizado_mercado_m2', 'utilizado_interno_m3',\n",
      "       'utilizado_mercado_m3', 'cpf', 'ds_gender', 'ds_region',\n",
      "       'ds_occupation', 'pf_faixa_idade'],\n",
      "      dtype='object')\n"
     ]
    }
   ],
   "source": [
    "print(base.columns)"
   ]
  },
  {
   "cell_type": "code",
   "execution_count": 6,
   "id": "24809b7d-04c1-480d-9b6d-146dc35de29c",
   "metadata": {},
   "outputs": [
    {
     "data": {
      "text/html": [
       "<div>\n",
       "<style scoped>\n",
       "    .dataframe tbody tr th:only-of-type {\n",
       "        vertical-align: middle;\n",
       "    }\n",
       "\n",
       "    .dataframe tbody tr th {\n",
       "        vertical-align: top;\n",
       "    }\n",
       "\n",
       "    .dataframe thead th {\n",
       "        text-align: right;\n",
       "    }\n",
       "</style>\n",
       "<table border=\"1\" class=\"dataframe\">\n",
       "  <thead>\n",
       "    <tr style=\"text-align: right;\">\n",
       "      <th></th>\n",
       "      <th>utilizado_interno_m1</th>\n",
       "      <th>utilizado_mercado_m1</th>\n",
       "      <th>utilizado_interno_m2</th>\n",
       "      <th>utilizado_mercado_m2</th>\n",
       "      <th>utilizado_interno_m3</th>\n",
       "      <th>utilizado_mercado_m3</th>\n",
       "    </tr>\n",
       "  </thead>\n",
       "  <tbody>\n",
       "    <tr>\n",
       "      <th>0</th>\n",
       "      <td>1629.77</td>\n",
       "      <td>7347.0</td>\n",
       "      <td>1629.77</td>\n",
       "      <td>5792.0</td>\n",
       "      <td>1629.77</td>\n",
       "      <td>3198.0</td>\n",
       "    </tr>\n",
       "    <tr>\n",
       "      <th>1</th>\n",
       "      <td>1098.78</td>\n",
       "      <td>10575.0</td>\n",
       "      <td>825.03</td>\n",
       "      <td>9595.0</td>\n",
       "      <td>929.60</td>\n",
       "      <td>9833.0</td>\n",
       "    </tr>\n",
       "    <tr>\n",
       "      <th>2</th>\n",
       "      <td>0.00</td>\n",
       "      <td>2753.0</td>\n",
       "      <td>0.00</td>\n",
       "      <td>2025.0</td>\n",
       "      <td>0.00</td>\n",
       "      <td>2199.0</td>\n",
       "    </tr>\n",
       "    <tr>\n",
       "      <th>3</th>\n",
       "      <td>0.00</td>\n",
       "      <td>2753.0</td>\n",
       "      <td>0.00</td>\n",
       "      <td>2025.0</td>\n",
       "      <td>0.00</td>\n",
       "      <td>2199.0</td>\n",
       "    </tr>\n",
       "    <tr>\n",
       "      <th>4</th>\n",
       "      <td>567.54</td>\n",
       "      <td>1128.0</td>\n",
       "      <td>588.92</td>\n",
       "      <td>1123.0</td>\n",
       "      <td>633.72</td>\n",
       "      <td>1118.0</td>\n",
       "    </tr>\n",
       "  </tbody>\n",
       "</table>\n",
       "</div>"
      ],
      "text/plain": [
       "   utilizado_interno_m1  utilizado_mercado_m1  utilizado_interno_m2  \\\n",
       "0               1629.77                7347.0               1629.77   \n",
       "1               1098.78               10575.0                825.03   \n",
       "2                  0.00                2753.0                  0.00   \n",
       "3                  0.00                2753.0                  0.00   \n",
       "4                567.54                1128.0                588.92   \n",
       "\n",
       "   utilizado_mercado_m2  utilizado_interno_m3  utilizado_mercado_m3  \n",
       "0                5792.0               1629.77                3198.0  \n",
       "1                9595.0                929.60                9833.0  \n",
       "2                2025.0                  0.00                2199.0  \n",
       "3                2025.0                  0.00                2199.0  \n",
       "4                1123.0                633.72                1118.0  "
      ]
     },
     "execution_count": 6,
     "metadata": {},
     "output_type": "execute_result"
    }
   ],
   "source": [
    "base_cluster = base[['utilizado_interno_m1', 'utilizado_mercado_m1',\n",
    "       'utilizado_interno_m2', 'utilizado_mercado_m2', 'utilizado_interno_m3',\n",
    "       'utilizado_mercado_m3']]\n",
    "base_cluster.head()"
   ]
  },
  {
   "cell_type": "code",
   "execution_count": 7,
   "id": "ab85feee-ff5f-467e-abfc-efacc445e421",
   "metadata": {},
   "outputs": [
    {
     "name": "stderr",
     "output_type": "stream",
     "text": [
      "<ipython-input-7-1f3d1368585a>:2: SettingWithCopyWarning: \n",
      "A value is trying to be set on a copy of a slice from a DataFrame.\n",
      "Try using .loc[row_indexer,col_indexer] = value instead\n",
      "\n",
      "See the caveats in the documentation: https://pandas.pydata.org/pandas-docs/stable/user_guide/indexing.html#returning-a-view-versus-a-copy\n",
      "  base_cluster[i] = base_cluster[i].fillna(0.0)\n"
     ]
    }
   ],
   "source": [
    "for i in base_cluster.columns:\n",
    "    base_cluster[i] = base_cluster[i].fillna(0.0)\n"
   ]
  },
  {
   "cell_type": "code",
   "execution_count": 8,
   "id": "ddcf7e5d-fe90-44ad-8a41-3e1d63aa3f15",
   "metadata": {},
   "outputs": [
    {
     "name": "stdout",
     "output_type": "stream",
     "text": [
      "3836885953.259999\n",
      "12454733271.0\n",
      "3925942266.249995\n",
      "12780501832.0\n",
      "2614280501.0500016\n",
      "8577043021.0\n"
     ]
    }
   ],
   "source": [
    "for i in base_cluster.columns:\n",
    "    print(base_cluster[i].sum())\n",
    "    "
   ]
  },
  {
   "cell_type": "code",
   "execution_count": 9,
   "id": "95fb5cea-7af3-45d2-9170-1c7637d1e91f",
   "metadata": {},
   "outputs": [],
   "source": [
    "from sklearn.preprocessing import StandardScaler\n",
    "from sklearn.cluster import KMeans"
   ]
  },
  {
   "cell_type": "code",
   "execution_count": 10,
   "id": "a81037cc-e82f-4e66-a52e-30ae058fbecb",
   "metadata": {},
   "outputs": [],
   "source": [
    "scaler = StandardScaler()\n",
    "scaler_model = scaler.fit(base_cluster)\n",
    "data_input_scaled = scaler_model.transform(base_cluster)"
   ]
  },
  {
   "cell_type": "code",
   "execution_count": 11,
   "id": "59604c03-20d3-4833-9367-d233cc77ef39",
   "metadata": {},
   "outputs": [],
   "source": [
    "kmeans = KMeans(n_clusters = 5, random_state=0).fit(data_input_scaled)\n",
    "cluster = kmeans.predict(data_input_scaled)\n",
    "base['cluster'] = cluster"
   ]
  },
  {
   "cell_type": "code",
   "execution_count": 12,
   "id": "3e854a76-51fe-4014-a53c-ba456eb76641",
   "metadata": {},
   "outputs": [
    {
     "data": {
      "text/plain": [
       "1    0.781399\n",
       "4    0.182515\n",
       "0    0.018261\n",
       "3    0.017155\n",
       "2    0.000670\n",
       "Name: cluster, dtype: float64"
      ]
     },
     "execution_count": 12,
     "metadata": {},
     "output_type": "execute_result"
    }
   ],
   "source": [
    "base['cluster'].value_counts(normalize = True)"
   ]
  },
  {
   "cell_type": "code",
   "execution_count": 19,
   "id": "f7c81ace-4f3a-4ba5-a88a-0d2574544d77",
   "metadata": {},
   "outputs": [
    {
     "data": {
      "text/plain": [
       "1    2783430\n",
       "4     650140\n",
       "0      65048\n",
       "3      61107\n",
       "2       2388\n",
       "Name: cluster, dtype: int64"
      ]
     },
     "execution_count": 19,
     "metadata": {},
     "output_type": "execute_result"
    }
   ],
   "source": [
    "base['cluster'].value_counts()"
   ]
  },
  {
   "cell_type": "code",
   "execution_count": 13,
   "id": "c570bba7-3f0e-41a2-b4d5-6fa1689aada5",
   "metadata": {},
   "outputs": [],
   "source": [
    "var_cl = ['utilizado_interno_m1', 'utilizado_mercado_m1', 'utilizado_interno_m2', 'utilizado_mercado_m2', 'utilizado_interno_m3', 'utilizado_mercado_m3']\n",
    "base.groupby('cluster')[var_cl].mean().to_csv('cluster_final.csv')"
   ]
  },
  {
   "cell_type": "code",
   "execution_count": 15,
   "id": "e973069b-588a-44f9-b800-87819a8b671e",
   "metadata": {},
   "outputs": [],
   "source": [
    "infos = ['cluster', 'ds_gender', 'ds_region', 'ds_occupation', 'pf_faixa_idade']\n",
    "\n",
    "base.groupby(infos).count().to_csv('cluster_final_perfis.csv')"
   ]
  },
  {
   "cell_type": "code",
   "execution_count": 20,
   "id": "c348848f-a2a4-4d4d-abbc-ff7d2b474589",
   "metadata": {},
   "outputs": [],
   "source": [
    "base['flag_interno_m1'] = np.where(base['utilizado_interno_m1'] > 0, 1,0)\n",
    "base['flag_interno_m2'] = np.where(base['utilizado_interno_m2'] > 0, 1,0)\n",
    "base['flag_interno_m3'] = np.where(base['utilizado_interno_m3'] > 0, 1,0)\n",
    "base['flag_mercado_m1'] = np.where(base['utilizado_mercado_m1'] > 0, 1,0)\n",
    "base['flag_mercado_m2'] = np.where(base['utilizado_mercado_m2'] > 0, 1,0)\n",
    "base['flag_mercado_m3'] = np.where(base['utilizado_mercado_m3'] > 0, 1,0)\n"
   ]
  },
  {
   "cell_type": "code",
   "execution_count": 16,
   "id": "f1c844df-6c6f-40d8-a1f5-2617b789b870",
   "metadata": {},
   "outputs": [
    {
     "name": "stderr",
     "output_type": "stream",
     "text": [
      "<ipython-input-16-e622b9cc226a>:1: FutureWarning: Indexing with multiple keys (implicitly converted to a tuple of keys) will be deprecated, use a list instead.\n",
      "  base.query('utilizado_interno_m1 >  0').groupby('cluster')['utilizado_interno_m1', 'utilizado_mercado_m1'].mean()\n"
     ]
    },
    {
     "data": {
      "text/html": [
       "<div>\n",
       "<style scoped>\n",
       "    .dataframe tbody tr th:only-of-type {\n",
       "        vertical-align: middle;\n",
       "    }\n",
       "\n",
       "    .dataframe tbody tr th {\n",
       "        vertical-align: top;\n",
       "    }\n",
       "\n",
       "    .dataframe thead th {\n",
       "        text-align: right;\n",
       "    }\n",
       "</style>\n",
       "<table border=\"1\" class=\"dataframe\">\n",
       "  <thead>\n",
       "    <tr style=\"text-align: right;\">\n",
       "      <th></th>\n",
       "      <th>utilizado_interno_m1</th>\n",
       "      <th>utilizado_mercado_m1</th>\n",
       "    </tr>\n",
       "    <tr>\n",
       "      <th>cluster</th>\n",
       "      <th></th>\n",
       "      <th></th>\n",
       "    </tr>\n",
       "  </thead>\n",
       "  <tbody>\n",
       "    <tr>\n",
       "      <th>0</th>\n",
       "      <td>2099.507140</td>\n",
       "      <td>57276.669204</td>\n",
       "    </tr>\n",
       "    <tr>\n",
       "      <th>1</th>\n",
       "      <td>947.499179</td>\n",
       "      <td>3244.038312</td>\n",
       "    </tr>\n",
       "    <tr>\n",
       "      <th>2</th>\n",
       "      <td>4543.759101</td>\n",
       "      <td>280482.705545</td>\n",
       "    </tr>\n",
       "    <tr>\n",
       "      <th>3</th>\n",
       "      <td>9729.467602</td>\n",
       "      <td>10245.337966</td>\n",
       "    </tr>\n",
       "    <tr>\n",
       "      <th>4</th>\n",
       "      <td>2953.533069</td>\n",
       "      <td>4037.766297</td>\n",
       "    </tr>\n",
       "  </tbody>\n",
       "</table>\n",
       "</div>"
      ],
      "text/plain": [
       "         utilizado_interno_m1  utilizado_mercado_m1\n",
       "cluster                                            \n",
       "0                 2099.507140          57276.669204\n",
       "1                  947.499179           3244.038312\n",
       "2                 4543.759101         280482.705545\n",
       "3                 9729.467602          10245.337966\n",
       "4                 2953.533069           4037.766297"
      ]
     },
     "execution_count": 16,
     "metadata": {},
     "output_type": "execute_result"
    }
   ],
   "source": [
    "base.query('utilizado_interno_m1 >  0').groupby('cluster')['utilizado_interno_m1', 'utilizado_mercado_m1'].mean()"
   ]
  },
  {
   "cell_type": "code",
   "execution_count": 22,
   "id": "5f701611-ed3f-4767-b278-8de3b6a8b8d1",
   "metadata": {},
   "outputs": [
    {
     "name": "stderr",
     "output_type": "stream",
     "text": [
      "<ipython-input-22-d1b4a96b1396>:1: FutureWarning: Indexing with multiple keys (implicitly converted to a tuple of keys) will be deprecated, use a list instead.\n",
      "  base.groupby('cluster')['flag_interno_m1', 'flag_mercado_m1'].mean()\n"
     ]
    },
    {
     "data": {
      "text/html": [
       "<div>\n",
       "<style scoped>\n",
       "    .dataframe tbody tr th:only-of-type {\n",
       "        vertical-align: middle;\n",
       "    }\n",
       "\n",
       "    .dataframe tbody tr th {\n",
       "        vertical-align: top;\n",
       "    }\n",
       "\n",
       "    .dataframe thead th {\n",
       "        text-align: right;\n",
       "    }\n",
       "</style>\n",
       "<table border=\"1\" class=\"dataframe\">\n",
       "  <thead>\n",
       "    <tr style=\"text-align: right;\">\n",
       "      <th></th>\n",
       "      <th>flag_interno_m1</th>\n",
       "      <th>flag_mercado_m1</th>\n",
       "    </tr>\n",
       "    <tr>\n",
       "      <th>cluster</th>\n",
       "      <th></th>\n",
       "      <th></th>\n",
       "    </tr>\n",
       "  </thead>\n",
       "  <tbody>\n",
       "    <tr>\n",
       "      <th>0</th>\n",
       "      <td>0.377660</td>\n",
       "      <td>0.999908</td>\n",
       "    </tr>\n",
       "    <tr>\n",
       "      <th>1</th>\n",
       "      <td>0.483212</td>\n",
       "      <td>0.548433</td>\n",
       "    </tr>\n",
       "    <tr>\n",
       "      <th>2</th>\n",
       "      <td>0.438023</td>\n",
       "      <td>1.000000</td>\n",
       "    </tr>\n",
       "    <tr>\n",
       "      <th>3</th>\n",
       "      <td>0.998707</td>\n",
       "      <td>0.584025</td>\n",
       "    </tr>\n",
       "    <tr>\n",
       "      <th>4</th>\n",
       "      <td>0.995939</td>\n",
       "      <td>0.385017</td>\n",
       "    </tr>\n",
       "  </tbody>\n",
       "</table>\n",
       "</div>"
      ],
      "text/plain": [
       "         flag_interno_m1  flag_mercado_m1\n",
       "cluster                                  \n",
       "0               0.377660         0.999908\n",
       "1               0.483212         0.548433\n",
       "2               0.438023         1.000000\n",
       "3               0.998707         0.584025\n",
       "4               0.995939         0.385017"
      ]
     },
     "execution_count": 22,
     "metadata": {},
     "output_type": "execute_result"
    }
   ],
   "source": [
    "base.groupby('cluster')['flag_interno_m1', 'flag_mercado_m1'].mean()"
   ]
  },
  {
   "cell_type": "code",
   "execution_count": 17,
   "id": "868c0301-75e7-4cb2-8c9e-059ada42b530",
   "metadata": {},
   "outputs": [
    {
     "name": "stderr",
     "output_type": "stream",
     "text": [
      "<ipython-input-17-a05d8020bc37>:1: FutureWarning: Indexing with multiple keys (implicitly converted to a tuple of keys) will be deprecated, use a list instead.\n",
      "  base.query('utilizado_interno_m2 >  0').groupby('cluster')['utilizado_interno_m2', 'utilizado_mercado_m2'].mean()\n"
     ]
    },
    {
     "data": {
      "text/html": [
       "<div>\n",
       "<style scoped>\n",
       "    .dataframe tbody tr th:only-of-type {\n",
       "        vertical-align: middle;\n",
       "    }\n",
       "\n",
       "    .dataframe tbody tr th {\n",
       "        vertical-align: top;\n",
       "    }\n",
       "\n",
       "    .dataframe thead th {\n",
       "        text-align: right;\n",
       "    }\n",
       "</style>\n",
       "<table border=\"1\" class=\"dataframe\">\n",
       "  <thead>\n",
       "    <tr style=\"text-align: right;\">\n",
       "      <th></th>\n",
       "      <th>utilizado_interno_m2</th>\n",
       "      <th>utilizado_mercado_m2</th>\n",
       "    </tr>\n",
       "    <tr>\n",
       "      <th>cluster</th>\n",
       "      <th></th>\n",
       "      <th></th>\n",
       "    </tr>\n",
       "  </thead>\n",
       "  <tbody>\n",
       "    <tr>\n",
       "      <th>0</th>\n",
       "      <td>2199.627120</td>\n",
       "      <td>59516.684373</td>\n",
       "    </tr>\n",
       "    <tr>\n",
       "      <th>1</th>\n",
       "      <td>955.889494</td>\n",
       "      <td>3327.937849</td>\n",
       "    </tr>\n",
       "    <tr>\n",
       "      <th>2</th>\n",
       "      <td>4779.563377</td>\n",
       "      <td>290478.023540</td>\n",
       "    </tr>\n",
       "    <tr>\n",
       "      <th>3</th>\n",
       "      <td>9963.953157</td>\n",
       "      <td>10386.580499</td>\n",
       "    </tr>\n",
       "    <tr>\n",
       "      <th>4</th>\n",
       "      <td>3002.054717</td>\n",
       "      <td>4148.150226</td>\n",
       "    </tr>\n",
       "  </tbody>\n",
       "</table>\n",
       "</div>"
      ],
      "text/plain": [
       "         utilizado_interno_m2  utilizado_mercado_m2\n",
       "cluster                                            \n",
       "0                 2199.627120          59516.684373\n",
       "1                  955.889494           3327.937849\n",
       "2                 4779.563377         290478.023540\n",
       "3                 9963.953157          10386.580499\n",
       "4                 3002.054717           4148.150226"
      ]
     },
     "execution_count": 17,
     "metadata": {},
     "output_type": "execute_result"
    }
   ],
   "source": [
    "base.query('utilizado_interno_m2 >  0').groupby('cluster')['utilizado_interno_m2', 'utilizado_mercado_m2'].mean()"
   ]
  },
  {
   "cell_type": "code",
   "execution_count": 23,
   "id": "3bddb301-a590-41ab-9fd4-b699b814d2a8",
   "metadata": {},
   "outputs": [
    {
     "name": "stderr",
     "output_type": "stream",
     "text": [
      "<ipython-input-23-d1e534b0e33e>:1: FutureWarning: Indexing with multiple keys (implicitly converted to a tuple of keys) will be deprecated, use a list instead.\n",
      "  base.groupby('cluster')['flag_interno_m2', 'flag_mercado_m2'].mean()\n"
     ]
    },
    {
     "data": {
      "text/html": [
       "<div>\n",
       "<style scoped>\n",
       "    .dataframe tbody tr th:only-of-type {\n",
       "        vertical-align: middle;\n",
       "    }\n",
       "\n",
       "    .dataframe tbody tr th {\n",
       "        vertical-align: top;\n",
       "    }\n",
       "\n",
       "    .dataframe thead th {\n",
       "        text-align: right;\n",
       "    }\n",
       "</style>\n",
       "<table border=\"1\" class=\"dataframe\">\n",
       "  <thead>\n",
       "    <tr style=\"text-align: right;\">\n",
       "      <th></th>\n",
       "      <th>flag_interno_m2</th>\n",
       "      <th>flag_mercado_m2</th>\n",
       "    </tr>\n",
       "    <tr>\n",
       "      <th>cluster</th>\n",
       "      <th></th>\n",
       "      <th></th>\n",
       "    </tr>\n",
       "  </thead>\n",
       "  <tbody>\n",
       "    <tr>\n",
       "      <th>0</th>\n",
       "      <td>0.388667</td>\n",
       "      <td>0.998939</td>\n",
       "    </tr>\n",
       "    <tr>\n",
       "      <th>1</th>\n",
       "      <td>0.491516</td>\n",
       "      <td>0.547522</td>\n",
       "    </tr>\n",
       "    <tr>\n",
       "      <th>2</th>\n",
       "      <td>0.445142</td>\n",
       "      <td>0.999581</td>\n",
       "    </tr>\n",
       "    <tr>\n",
       "      <th>3</th>\n",
       "      <td>0.999542</td>\n",
       "      <td>0.560607</td>\n",
       "    </tr>\n",
       "    <tr>\n",
       "      <th>4</th>\n",
       "      <td>0.998542</td>\n",
       "      <td>0.368211</td>\n",
       "    </tr>\n",
       "  </tbody>\n",
       "</table>\n",
       "</div>"
      ],
      "text/plain": [
       "         flag_interno_m2  flag_mercado_m2\n",
       "cluster                                  \n",
       "0               0.388667         0.998939\n",
       "1               0.491516         0.547522\n",
       "2               0.445142         0.999581\n",
       "3               0.999542         0.560607\n",
       "4               0.998542         0.368211"
      ]
     },
     "execution_count": 23,
     "metadata": {},
     "output_type": "execute_result"
    }
   ],
   "source": [
    "base.groupby('cluster')['flag_interno_m2', 'flag_mercado_m2'].mean()"
   ]
  },
  {
   "cell_type": "code",
   "execution_count": 18,
   "id": "35d0515d-1802-4ed5-86ff-f0814277228a",
   "metadata": {},
   "outputs": [
    {
     "name": "stderr",
     "output_type": "stream",
     "text": [
      "<ipython-input-18-8fe829efa1e7>:1: FutureWarning: Indexing with multiple keys (implicitly converted to a tuple of keys) will be deprecated, use a list instead.\n",
      "  base.query('utilizado_interno_m3 >  0').groupby('cluster')['utilizado_interno_m3', 'utilizado_mercado_m3'].mean()\n"
     ]
    },
    {
     "data": {
      "text/html": [
       "<div>\n",
       "<style scoped>\n",
       "    .dataframe tbody tr th:only-of-type {\n",
       "        vertical-align: middle;\n",
       "    }\n",
       "\n",
       "    .dataframe tbody tr th {\n",
       "        vertical-align: top;\n",
       "    }\n",
       "\n",
       "    .dataframe thead th {\n",
       "        text-align: right;\n",
       "    }\n",
       "</style>\n",
       "<table border=\"1\" class=\"dataframe\">\n",
       "  <thead>\n",
       "    <tr style=\"text-align: right;\">\n",
       "      <th></th>\n",
       "      <th>utilizado_interno_m3</th>\n",
       "      <th>utilizado_mercado_m3</th>\n",
       "    </tr>\n",
       "    <tr>\n",
       "      <th>cluster</th>\n",
       "      <th></th>\n",
       "      <th></th>\n",
       "    </tr>\n",
       "  </thead>\n",
       "  <tbody>\n",
       "    <tr>\n",
       "      <th>0</th>\n",
       "      <td>2153.331946</td>\n",
       "      <td>55846.663269</td>\n",
       "    </tr>\n",
       "    <tr>\n",
       "      <th>1</th>\n",
       "      <td>888.211025</td>\n",
       "      <td>3209.327729</td>\n",
       "    </tr>\n",
       "    <tr>\n",
       "      <th>2</th>\n",
       "      <td>4888.643014</td>\n",
       "      <td>272524.149888</td>\n",
       "    </tr>\n",
       "    <tr>\n",
       "      <th>3</th>\n",
       "      <td>9385.846865</td>\n",
       "      <td>9737.816276</td>\n",
       "    </tr>\n",
       "    <tr>\n",
       "      <th>4</th>\n",
       "      <td>2722.139872</td>\n",
       "      <td>3928.067495</td>\n",
       "    </tr>\n",
       "  </tbody>\n",
       "</table>\n",
       "</div>"
      ],
      "text/plain": [
       "         utilizado_interno_m3  utilizado_mercado_m3\n",
       "cluster                                            \n",
       "0                 2153.331946          55846.663269\n",
       "1                  888.211025           3209.327729\n",
       "2                 4888.643014         272524.149888\n",
       "3                 9385.846865           9737.816276\n",
       "4                 2722.139872           3928.067495"
      ]
     },
     "execution_count": 18,
     "metadata": {},
     "output_type": "execute_result"
    }
   ],
   "source": [
    "base.query('utilizado_interno_m3 >  0').groupby('cluster')['utilizado_interno_m3', 'utilizado_mercado_m3'].mean()"
   ]
  },
  {
   "cell_type": "code",
   "execution_count": 24,
   "id": "d5293c9c-2af7-4241-b914-eb937e494bef",
   "metadata": {},
   "outputs": [
    {
     "name": "stderr",
     "output_type": "stream",
     "text": [
      "<ipython-input-24-ca8e7be3b76b>:1: FutureWarning: Indexing with multiple keys (implicitly converted to a tuple of keys) will be deprecated, use a list instead.\n",
      "  base.groupby('cluster')['flag_interno_m3', 'flag_mercado_m3'].mean()\n"
     ]
    },
    {
     "data": {
      "text/html": [
       "<div>\n",
       "<style scoped>\n",
       "    .dataframe tbody tr th:only-of-type {\n",
       "        vertical-align: middle;\n",
       "    }\n",
       "\n",
       "    .dataframe tbody tr th {\n",
       "        vertical-align: top;\n",
       "    }\n",
       "\n",
       "    .dataframe thead th {\n",
       "        text-align: right;\n",
       "    }\n",
       "</style>\n",
       "<table border=\"1\" class=\"dataframe\">\n",
       "  <thead>\n",
       "    <tr style=\"text-align: right;\">\n",
       "      <th></th>\n",
       "      <th>flag_interno_m3</th>\n",
       "      <th>flag_mercado_m3</th>\n",
       "    </tr>\n",
       "    <tr>\n",
       "      <th>cluster</th>\n",
       "      <th></th>\n",
       "      <th></th>\n",
       "    </tr>\n",
       "  </thead>\n",
       "  <tbody>\n",
       "    <tr>\n",
       "      <th>0</th>\n",
       "      <td>0.304099</td>\n",
       "      <td>0.772460</td>\n",
       "    </tr>\n",
       "    <tr>\n",
       "      <th>1</th>\n",
       "      <td>0.304610</td>\n",
       "      <td>0.353146</td>\n",
       "    </tr>\n",
       "    <tr>\n",
       "      <th>2</th>\n",
       "      <td>0.376466</td>\n",
       "      <td>0.826214</td>\n",
       "    </tr>\n",
       "    <tr>\n",
       "      <th>3</th>\n",
       "      <td>0.852079</td>\n",
       "      <td>0.450390</td>\n",
       "    </tr>\n",
       "    <tr>\n",
       "      <th>4</th>\n",
       "      <td>0.748971</td>\n",
       "      <td>0.257661</td>\n",
       "    </tr>\n",
       "  </tbody>\n",
       "</table>\n",
       "</div>"
      ],
      "text/plain": [
       "         flag_interno_m3  flag_mercado_m3\n",
       "cluster                                  \n",
       "0               0.304099         0.772460\n",
       "1               0.304610         0.353146\n",
       "2               0.376466         0.826214\n",
       "3               0.852079         0.450390\n",
       "4               0.748971         0.257661"
      ]
     },
     "execution_count": 24,
     "metadata": {},
     "output_type": "execute_result"
    }
   ],
   "source": [
    "base.groupby('cluster')['flag_interno_m3', 'flag_mercado_m3'].mean()"
   ]
  },
  {
   "cell_type": "code",
   "execution_count": 25,
   "id": "aea855f2-92d4-436a-8447-363a10002d0d",
   "metadata": {},
   "outputs": [],
   "source": [
    "base['utilizado_interno_total'] = base['utilizado_interno_m1'] + base['utilizado_interno_m2'] + base['utilizado_interno_m3']\n",
    "\n",
    "base['utilizado_mercado_total'] = base['utilizado_mercado_m1'] + base['utilizado_mercado_m2'] + base['utilizado_mercado_m3']\n"
   ]
  },
  {
   "cell_type": "code",
   "execution_count": 27,
   "id": "eefbdc74-b0ce-4a02-9218-1e718b1d2290",
   "metadata": {},
   "outputs": [
    {
     "name": "stderr",
     "output_type": "stream",
     "text": [
      "<ipython-input-27-a6eacaa2b07d>:1: FutureWarning: Indexing with multiple keys (implicitly converted to a tuple of keys) will be deprecated, use a list instead.\n",
      "  base.groupby('cluster')['utilizado_interno_total', 'utilizado_mercado_total'].mean()\n"
     ]
    },
    {
     "data": {
      "text/html": [
       "<div>\n",
       "<style scoped>\n",
       "    .dataframe tbody tr th:only-of-type {\n",
       "        vertical-align: middle;\n",
       "    }\n",
       "\n",
       "    .dataframe tbody tr th {\n",
       "        vertical-align: top;\n",
       "    }\n",
       "\n",
       "    .dataframe thead th {\n",
       "        text-align: right;\n",
       "    }\n",
       "</style>\n",
       "<table border=\"1\" class=\"dataframe\">\n",
       "  <thead>\n",
       "    <tr style=\"text-align: right;\">\n",
       "      <th></th>\n",
       "      <th>utilizado_interno_total</th>\n",
       "      <th>utilizado_mercado_total</th>\n",
       "    </tr>\n",
       "    <tr>\n",
       "      <th>cluster</th>\n",
       "      <th></th>\n",
       "      <th></th>\n",
       "    </tr>\n",
       "  </thead>\n",
       "  <tbody>\n",
       "    <tr>\n",
       "      <th>0</th>\n",
       "      <td>2357.457117</td>\n",
       "      <td>155775.723538</td>\n",
       "    </tr>\n",
       "    <tr>\n",
       "      <th>1</th>\n",
       "      <td>1289.519043</td>\n",
       "      <td>11016.229850</td>\n",
       "    </tr>\n",
       "    <tr>\n",
       "      <th>2</th>\n",
       "      <td>6359.600465</td>\n",
       "      <td>844700.172326</td>\n",
       "    </tr>\n",
       "    <tr>\n",
       "      <th>3</th>\n",
       "      <td>27650.334158</td>\n",
       "      <td>29244.659960</td>\n",
       "    </tr>\n",
       "    <tr>\n",
       "      <th>4</th>\n",
       "      <td>8052.157862</td>\n",
       "      <td>11796.352352</td>\n",
       "    </tr>\n",
       "  </tbody>\n",
       "</table>\n",
       "</div>"
      ],
      "text/plain": [
       "         utilizado_interno_total  utilizado_mercado_total\n",
       "cluster                                                  \n",
       "0                    2357.457117            155775.723538\n",
       "1                    1289.519043             11016.229850\n",
       "2                    6359.600465            844700.172326\n",
       "3                   27650.334158             29244.659960\n",
       "4                    8052.157862             11796.352352"
      ]
     },
     "execution_count": 27,
     "metadata": {},
     "output_type": "execute_result"
    }
   ],
   "source": [
    "base.groupby('cluster')['utilizado_interno_total', 'utilizado_mercado_total'].mean()"
   ]
  },
  {
   "cell_type": "code",
   "execution_count": 29,
   "id": "3a85cdbf-4cd8-4756-8324-9344fa4d9196",
   "metadata": {},
   "outputs": [],
   "source": [
    "import aux.aed as aed"
   ]
  },
  {
   "cell_type": "code",
   "execution_count": 30,
   "id": "0c2298b1-b200-4809-814f-571e4d536346",
   "metadata": {},
   "outputs": [
    {
     "data": {
      "text/html": [
       "<div>\n",
       "<style scoped>\n",
       "    .dataframe tbody tr th:only-of-type {\n",
       "        vertical-align: middle;\n",
       "    }\n",
       "\n",
       "    .dataframe tbody tr th {\n",
       "        vertical-align: top;\n",
       "    }\n",
       "\n",
       "    .dataframe thead th {\n",
       "        text-align: right;\n",
       "    }\n",
       "</style>\n",
       "<table border=\"1\" class=\"dataframe\">\n",
       "  <thead>\n",
       "    <tr style=\"text-align: right;\">\n",
       "      <th></th>\n",
       "      <th>utilizado_interno_total</th>\n",
       "      <th>utilizado_mercado_total</th>\n",
       "    </tr>\n",
       "    <tr>\n",
       "      <th>cluster</th>\n",
       "      <th></th>\n",
       "      <th></th>\n",
       "    </tr>\n",
       "  </thead>\n",
       "  <tbody>\n",
       "    <tr>\n",
       "      <th>0</th>\n",
       "      <td>5296.095810</td>\n",
       "      <td>157953.470880</td>\n",
       "    </tr>\n",
       "    <tr>\n",
       "      <th>1</th>\n",
       "      <td>2478.433053</td>\n",
       "      <td>9760.522661</td>\n",
       "    </tr>\n",
       "    <tr>\n",
       "      <th>2</th>\n",
       "      <td>7502.692693</td>\n",
       "      <td>799457.691267</td>\n",
       "    </tr>\n",
       "    <tr>\n",
       "      <th>3</th>\n",
       "      <td>21332.723257</td>\n",
       "      <td>21340.840406</td>\n",
       "    </tr>\n",
       "    <tr>\n",
       "      <th>4</th>\n",
       "      <td>8052.157862</td>\n",
       "      <td>11796.352352</td>\n",
       "    </tr>\n",
       "  </tbody>\n",
       "</table>\n",
       "</div>"
      ],
      "text/plain": [
       "         utilizado_interno_total  utilizado_mercado_total\n",
       "cluster                                                  \n",
       "0                    5296.095810            157953.470880\n",
       "1                    2478.433053              9760.522661\n",
       "2                    7502.692693            799457.691267\n",
       "3                   21332.723257             21340.840406\n",
       "4                    8052.157862             11796.352352"
      ]
     },
     "execution_count": 30,
     "metadata": {},
     "output_type": "execute_result"
    }
   ],
   "source": [
    "valores_analise = ['utilizado_interno_total', 'utilizado_mercado_total']\n",
    "aed.tira_outlier(base, valores_analise).groupby('cluster')[valores_analise].mean()"
   ]
  },
  {
   "cell_type": "code",
   "execution_count": 26,
   "id": "23671730-1ebe-4288-b747-ec201cc423ed",
   "metadata": {},
   "outputs": [
    {
     "name": "stderr",
     "output_type": "stream",
     "text": [
      "<ipython-input-26-3a8f7128bef2>:1: FutureWarning: Indexing with multiple keys (implicitly converted to a tuple of keys) will be deprecated, use a list instead.\n",
      "  base.groupby('cluster')['utilizado_interno_total', 'utilizado_mercado_total'].median()\n"
     ]
    },
    {
     "data": {
      "text/html": [
       "<div>\n",
       "<style scoped>\n",
       "    .dataframe tbody tr th:only-of-type {\n",
       "        vertical-align: middle;\n",
       "    }\n",
       "\n",
       "    .dataframe tbody tr th {\n",
       "        vertical-align: top;\n",
       "    }\n",
       "\n",
       "    .dataframe thead th {\n",
       "        text-align: right;\n",
       "    }\n",
       "</style>\n",
       "<table border=\"1\" class=\"dataframe\">\n",
       "  <thead>\n",
       "    <tr style=\"text-align: right;\">\n",
       "      <th></th>\n",
       "      <th>utilizado_interno_total</th>\n",
       "      <th>utilizado_mercado_total</th>\n",
       "    </tr>\n",
       "    <tr>\n",
       "      <th>cluster</th>\n",
       "      <th></th>\n",
       "      <th></th>\n",
       "    </tr>\n",
       "  </thead>\n",
       "  <tbody>\n",
       "    <tr>\n",
       "      <th>0</th>\n",
       "      <td>0.000</td>\n",
       "      <td>125970.0</td>\n",
       "    </tr>\n",
       "    <tr>\n",
       "      <th>1</th>\n",
       "      <td>55.885</td>\n",
       "      <td>5416.0</td>\n",
       "    </tr>\n",
       "    <tr>\n",
       "      <th>2</th>\n",
       "      <td>0.000</td>\n",
       "      <td>685460.0</td>\n",
       "    </tr>\n",
       "    <tr>\n",
       "      <th>3</th>\n",
       "      <td>23451.570</td>\n",
       "      <td>11831.0</td>\n",
       "    </tr>\n",
       "    <tr>\n",
       "      <th>4</th>\n",
       "      <td>7089.600</td>\n",
       "      <td>5829.0</td>\n",
       "    </tr>\n",
       "  </tbody>\n",
       "</table>\n",
       "</div>"
      ],
      "text/plain": [
       "         utilizado_interno_total  utilizado_mercado_total\n",
       "cluster                                                  \n",
       "0                          0.000                 125970.0\n",
       "1                         55.885                   5416.0\n",
       "2                          0.000                 685460.0\n",
       "3                      23451.570                  11831.0\n",
       "4                       7089.600                   5829.0"
      ]
     },
     "execution_count": 26,
     "metadata": {},
     "output_type": "execute_result"
    }
   ],
   "source": [
    "base.groupby('cluster')['utilizado_interno_total', 'utilizado_mercado_total'].median()"
   ]
  },
  {
   "cell_type": "code",
   "execution_count": 31,
   "id": "158fb54b-6f30-48e7-9bf1-50e1139434f9",
   "metadata": {},
   "outputs": [
    {
     "name": "stderr",
     "output_type": "stream",
     "text": [
      "<ipython-input-31-0bf97582e43a>:1: FutureWarning: Indexing with multiple keys (implicitly converted to a tuple of keys) will be deprecated, use a list instead.\n",
      "  base.groupby('cluster')['utilizado_interno_total', 'utilizado_mercado_total'].sum()\n"
     ]
    },
    {
     "data": {
      "text/html": [
       "<div>\n",
       "<style scoped>\n",
       "    .dataframe tbody tr th:only-of-type {\n",
       "        vertical-align: middle;\n",
       "    }\n",
       "\n",
       "    .dataframe tbody tr th {\n",
       "        vertical-align: top;\n",
       "    }\n",
       "\n",
       "    .dataframe thead th {\n",
       "        text-align: right;\n",
       "    }\n",
       "</style>\n",
       "<table border=\"1\" class=\"dataframe\">\n",
       "  <thead>\n",
       "    <tr style=\"text-align: right;\">\n",
       "      <th></th>\n",
       "      <th>utilizado_interno_total</th>\n",
       "      <th>utilizado_mercado_total</th>\n",
       "    </tr>\n",
       "    <tr>\n",
       "      <th>cluster</th>\n",
       "      <th></th>\n",
       "      <th></th>\n",
       "    </tr>\n",
       "  </thead>\n",
       "  <tbody>\n",
       "    <tr>\n",
       "      <th>0</th>\n",
       "      <td>1.189054e+08</td>\n",
       "      <td>7.826484e+09</td>\n",
       "    </tr>\n",
       "    <tr>\n",
       "      <th>1</th>\n",
       "      <td>2.188855e+09</td>\n",
       "      <td>1.211021e+10</td>\n",
       "    </tr>\n",
       "    <tr>\n",
       "      <th>2</th>\n",
       "      <td>1.257929e+07</td>\n",
       "      <td>1.666593e+09</td>\n",
       "    </tr>\n",
       "    <tr>\n",
       "      <th>3</th>\n",
       "      <td>1.440555e+09</td>\n",
       "      <td>9.099184e+08</td>\n",
       "    </tr>\n",
       "    <tr>\n",
       "      <th>4</th>\n",
       "      <td>3.928310e+09</td>\n",
       "      <td>2.323469e+09</td>\n",
       "    </tr>\n",
       "  </tbody>\n",
       "</table>\n",
       "</div>"
      ],
      "text/plain": [
       "         utilizado_interno_total  utilizado_mercado_total\n",
       "cluster                                                  \n",
       "0                   1.189054e+08             7.826484e+09\n",
       "1                   2.188855e+09             1.211021e+10\n",
       "2                   1.257929e+07             1.666593e+09\n",
       "3                   1.440555e+09             9.099184e+08\n",
       "4                   3.928310e+09             2.323469e+09"
      ]
     },
     "execution_count": 31,
     "metadata": {},
     "output_type": "execute_result"
    }
   ],
   "source": [
    "base.groupby('cluster')['utilizado_interno_total', 'utilizado_mercado_total'].sum()"
   ]
  },
  {
   "cell_type": "code",
   "execution_count": 33,
   "id": "a5fe3719-54b5-4088-8fa2-533d2218ac91",
   "metadata": {},
   "outputs": [
    {
     "data": {
      "text/plain": [
       "Index(['dt_mes_churn', 'cpf', 'utilizado_interno_m1', 'utilizado_mercado_m1',\n",
       "       'utilizado_interno_m2', 'utilizado_mercado_m2', 'utilizado_interno_m3',\n",
       "       'utilizado_mercado_m3', 'cpf', 'ds_gender', 'ds_region',\n",
       "       'ds_occupation', 'pf_faixa_idade', 'cluster', 'flag_interno_m1',\n",
       "       'flag_interno_m2', 'flag_interno_m3', 'flag_mercado_m1',\n",
       "       'flag_mercado_m2', 'flag_mercado_m3', 'utilizado_interno_total',\n",
       "       'utilizado_mercado_total'],\n",
       "      dtype='object')"
      ]
     },
     "execution_count": 33,
     "metadata": {},
     "output_type": "execute_result"
    }
   ],
   "source": [
    "base.columns"
   ]
  },
  {
   "cell_type": "code",
   "execution_count": 34,
   "id": "4d269ee9-23fe-4cd3-b0ca-cae0510013a1",
   "metadata": {},
   "outputs": [],
   "source": [
    "query2 = \"\"\"\n",
    "        \n",
    "\tselect a.cpf\n",
    ", max(ct.vl_credit_limit) as vl_credit_limit\n",
    "from platform_sandbox_zone.flavia_sow_apos_churn a\n",
    "left join customer_curated_zone.ca_book_cliente c on (a.cpf = c.cpf)\n",
    "left join customer_curated_zone.ca_book_cartao ct on c.id_customer  = ct.id_customer \n",
    "group by 1\n",
    "\n",
    "\"\"\""
   ]
  },
  {
   "cell_type": "code",
   "execution_count": 35,
   "id": "dbdec29b-63a6-47f1-81da-c79435bf7173",
   "metadata": {},
   "outputs": [],
   "source": [
    "limite = ac.df_athena('flavia-costa', query2)"
   ]
  },
  {
   "cell_type": "code",
   "execution_count": 41,
   "id": "73c4d53b-802c-43ff-a51c-38cd3663a2b4",
   "metadata": {},
   "outputs": [
    {
     "data": {
      "text/html": [
       "<div>\n",
       "<style scoped>\n",
       "    .dataframe tbody tr th:only-of-type {\n",
       "        vertical-align: middle;\n",
       "    }\n",
       "\n",
       "    .dataframe tbody tr th {\n",
       "        vertical-align: top;\n",
       "    }\n",
       "\n",
       "    .dataframe thead th {\n",
       "        text-align: right;\n",
       "    }\n",
       "</style>\n",
       "<table border=\"1\" class=\"dataframe\">\n",
       "  <thead>\n",
       "    <tr style=\"text-align: right;\">\n",
       "      <th></th>\n",
       "      <th>cpf</th>\n",
       "      <th>vl_credit_limit</th>\n",
       "    </tr>\n",
       "  </thead>\n",
       "  <tbody>\n",
       "    <tr>\n",
       "      <th>0</th>\n",
       "      <td>07703542970</td>\n",
       "      <td>NaN</td>\n",
       "    </tr>\n",
       "    <tr>\n",
       "      <th>1</th>\n",
       "      <td>12098682450</td>\n",
       "      <td>NaN</td>\n",
       "    </tr>\n",
       "    <tr>\n",
       "      <th>2</th>\n",
       "      <td>42300568187</td>\n",
       "      <td>6100.0</td>\n",
       "    </tr>\n",
       "    <tr>\n",
       "      <th>3</th>\n",
       "      <td>04802781644</td>\n",
       "      <td>NaN</td>\n",
       "    </tr>\n",
       "    <tr>\n",
       "      <th>4</th>\n",
       "      <td>06371666550</td>\n",
       "      <td>NaN</td>\n",
       "    </tr>\n",
       "  </tbody>\n",
       "</table>\n",
       "</div>"
      ],
      "text/plain": [
       "           cpf  vl_credit_limit\n",
       "0  07703542970              NaN\n",
       "1  12098682450              NaN\n",
       "2  42300568187           6100.0\n",
       "3  04802781644              NaN\n",
       "4  06371666550              NaN"
      ]
     },
     "execution_count": 41,
     "metadata": {},
     "output_type": "execute_result"
    }
   ],
   "source": [
    "limite.head()"
   ]
  },
  {
   "cell_type": "code",
   "execution_count": 46,
   "id": "5ba17209-f65f-4643-9844-5cd96d9ecc3e",
   "metadata": {},
   "outputs": [],
   "source": [
    "base = base.loc[:,~base.columns.duplicated()]"
   ]
  },
  {
   "cell_type": "code",
   "execution_count": 47,
   "id": "07507d01-5c60-4eb7-a98e-8fae012e5478",
   "metadata": {},
   "outputs": [
    {
     "data": {
      "text/plain": [
       "Index(['dt_mes_churn', 'cpf', 'utilizado_interno_m1', 'utilizado_mercado_m1',\n",
       "       'utilizado_interno_m2', 'utilizado_mercado_m2', 'utilizado_interno_m3',\n",
       "       'utilizado_mercado_m3', 'ds_gender', 'ds_region', 'ds_occupation',\n",
       "       'pf_faixa_idade', 'cluster', 'flag_interno_m1', 'flag_interno_m2',\n",
       "       'flag_interno_m3', 'flag_mercado_m1', 'flag_mercado_m2',\n",
       "       'flag_mercado_m3', 'utilizado_interno_total',\n",
       "       'utilizado_mercado_total'],\n",
       "      dtype='object')"
      ]
     },
     "execution_count": 47,
     "metadata": {},
     "output_type": "execute_result"
    }
   ],
   "source": [
    "base.columns"
   ]
  },
  {
   "cell_type": "code",
   "execution_count": 48,
   "id": "27fd02ed-ea84-47f3-81c1-681cf58a994a",
   "metadata": {},
   "outputs": [],
   "source": [
    "base2 = base.join(limite.set_index('cpf'), on = 'cpf', how = 'left' )"
   ]
  },
  {
   "cell_type": "code",
   "execution_count": 50,
   "id": "0cc34dc7-8746-4601-af3b-bd8fe6ba4999",
   "metadata": {},
   "outputs": [
    {
     "data": {
      "text/plain": [
       "Index(['dt_mes_churn', 'cpf', 'utilizado_interno_m1', 'utilizado_mercado_m1',\n",
       "       'utilizado_interno_m2', 'utilizado_mercado_m2', 'utilizado_interno_m3',\n",
       "       'utilizado_mercado_m3', 'ds_gender', 'ds_region', 'ds_occupation',\n",
       "       'pf_faixa_idade', 'cluster', 'flag_interno_m1', 'flag_interno_m2',\n",
       "       'flag_interno_m3', 'flag_mercado_m1', 'flag_mercado_m2',\n",
       "       'flag_mercado_m3', 'utilizado_interno_total', 'utilizado_mercado_total',\n",
       "       'vl_credit_limit'],\n",
       "      dtype='object')"
      ]
     },
     "execution_count": 50,
     "metadata": {},
     "output_type": "execute_result"
    }
   ],
   "source": [
    "base2.columns"
   ]
  },
  {
   "cell_type": "code",
   "execution_count": 49,
   "id": "02334050-c687-44f2-9b9c-ad385759cf44",
   "metadata": {},
   "outputs": [
    {
     "data": {
      "text/plain": [
       "cluster\n",
       "0    3782.358658\n",
       "1    1853.910959\n",
       "2    5351.428855\n",
       "3    6991.746696\n",
       "4    3129.037364\n",
       "Name: vl_credit_limit, dtype: float64"
      ]
     },
     "execution_count": 49,
     "metadata": {},
     "output_type": "execute_result"
    }
   ],
   "source": [
    "base2.groupby('cluster')['vl_credit_limit'].mean()"
   ]
  },
  {
   "cell_type": "code",
   "execution_count": 32,
   "id": "7f0c05c4-dcc8-4da5-ae69-0a68215e25c1",
   "metadata": {},
   "outputs": [],
   "source": [
    "base.to_pickle('base_clusters_share_of_wallet.pkl')"
   ]
  }
 ],
 "metadata": {
  "kernelspec": {
   "display_name": "Python 3",
   "language": "python",
   "name": "python3"
  },
  "language_info": {
   "codemirror_mode": {
    "name": "ipython",
    "version": 3
   },
   "file_extension": ".py",
   "mimetype": "text/x-python",
   "name": "python",
   "nbconvert_exporter": "python",
   "pygments_lexer": "ipython3",
   "version": "3.9.2"
  }
 },
 "nbformat": 4,
 "nbformat_minor": 5
}
