{
 "cells": [
  {
   "cell_type": "code",
   "execution_count": 1,
   "id": "f4df48a5-0ab0-48da-adf8-1a4035b47aa0",
   "metadata": {},
   "outputs": [],
   "source": [
    "import pandas as pd\n",
    "import numpy as np\n",
    "import aux.perfil as pf\n",
    "import aux.acessos as ac"
   ]
  },
  {
   "cell_type": "markdown",
   "id": "b8964c48-5a5c-40a1-9e74-2c3c24ca408b",
   "metadata": {},
   "source": [
    "## Janeiro 2021 (ano anterior)"
   ]
  },
  {
   "cell_type": "code",
   "execution_count": 2,
   "id": "ec1ec003-7716-444e-85ab-df53f311c221",
   "metadata": {
    "tags": []
   },
   "outputs": [
    {
     "name": "stderr",
     "output_type": "stream",
     "text": [
      "Failed to execute query.\n",
      "Traceback (most recent call last):\n",
      "  File \"/home/flavia.costa/.local/lib/python3.9/site-packages/pyathena/common.py\", line 307, in _execute\n",
      "    query_id = retry_api_call(\n",
      "  File \"/home/flavia.costa/.local/lib/python3.9/site-packages/pyathena/util.py\", line 84, in retry_api_call\n",
      "    return retry(func, *args, **kwargs)\n",
      "  File \"/home/flavia.costa/.local/lib/python3.9/site-packages/tenacity/__init__.py\", line 430, in __call__\n",
      "    do = self.iter(retry_state=retry_state)\n",
      "  File \"/home/flavia.costa/.local/lib/python3.9/site-packages/tenacity/__init__.py\", line 367, in iter\n",
      "    return fut.result()\n",
      "  File \"/usr/lib/python3.9/concurrent/futures/_base.py\", line 433, in result\n",
      "    return self.__get_result()\n",
      "  File \"/usr/lib/python3.9/concurrent/futures/_base.py\", line 389, in __get_result\n",
      "    raise self._exception\n",
      "  File \"/home/flavia.costa/.local/lib/python3.9/site-packages/tenacity/__init__.py\", line 433, in __call__\n",
      "    result = fn(*args, **kwargs)\n",
      "  File \"/home/flavia.costa/.local/lib/python3.9/site-packages/botocore/client.py\", line 391, in _api_call\n",
      "    return self._make_api_call(operation_name, kwargs)\n",
      "  File \"/home/flavia.costa/.local/lib/python3.9/site-packages/botocore/client.py\", line 719, in _make_api_call\n",
      "    raise error_class(parsed_response, operation_name)\n",
      "botocore.errorfactory.InvalidRequestException: An error occurred (InvalidRequestException) when calling the StartQueryExecution operation: line 22:21: mismatched input 'N'. Expecting: '%', '*', '+', '-', '.', '/', 'AND', 'AT', 'EXCEPT', 'GROUP', 'HAVING', 'INTERSECT', 'LIMIT', 'OFFSET', 'OR', 'ORDER', 'UNION', '[', '||', <EOF>\n"
     ]
    }
   ],
   "source": [
    "# ###################### JANEIRO DE 2021 ######################\n",
    "\n",
    "query_aa = \"\"\"\n",
    "\n",
    "select * from \n",
    "(with ativos_pag as (\n",
    "select distinct \n",
    "pla_cd_conta_cartao\n",
    "FROM processed_zone_database_oracle_pag.vw_autorizacao a \n",
    "left join processed_zone_database_oracle_pag.plastico p\n",
    "on p.pla_cd_plastico = a.aut_cd_plastico\n",
    "WHERE aut_cd_unidade_credenciada <> 60024\n",
    "AND aut_fl_saque = 'N'\n",
    "AND aut_fl_limite_utilizado = 'C'\n",
    "AND aut_nr_randomico_cancelamento = 0\n",
    "AND date_trunc ('month', aut_dt_autorizacao) = to_date('2021-01-01', 'yyyy-mm-dd') \n",
    ")\n",
    ", ativados_pag as (\n",
    "select distinct \n",
    "pla_cd_conta_cartao\n",
    "FROM processed_zone_database_oracle_pag.vw_autorizacao a \n",
    "left join processed_zone_database_oracle_pag.plastico p\n",
    "on p.pla_cd_plastico = a.aut_cd_plastico\n",
    "WHERE aut_cd_unidade_credenciada <> 60024\n",
    "AND aut_fl_saque = 'N'\n",
    "AND aut_fl_limite_utilizado = 'C'\n",
    "AND aut_nr_randomico_cancelamento = 0\n",
    "AND aut_dt_autorizacao <= to_date('2021-01-31', 'yyyy-mm-dd') \n",
    ")\n",
    ", atraso_max as \n",
    "(\n",
    "\tselect\n",
    "\tmax(dt_snapshot_date) AS max_registro\n",
    "\tfrom platform_curated_zone.cre_daily_debtors \n",
    "\twhere date_trunc('month', cast(dt_snapshot_date as date)) = to_date('2021-01-01', 'yyyy-mm-dd') \n",
    ")\n",
    ", base_atraso as (\n",
    "\tselect  * \n",
    "\tfrom platform_curated_zone.cre_daily_debtors  acd\n",
    "\tinner join atraso_max mat on mat.max_registro = acd.dt_snapshot_date \n",
    ")\n",
    ", inad_pag as (\n",
    "select distinct coc.coc_cd_conta_cartao\tfrom processed_zone_database_oracle_pag.conta_cartao coc\n",
    "inner join base_atraso atr on coc.coc_cd_conta_cartao = atr.id_account_number\n",
    "where (coc_cd_tipo_cartao between 2624 and 2628\n",
    "or coc_cd_tipo_cartao between 2630 and 2632)\n",
    "and date_trunc('month', coc.coc_dt_abertura_conta) = to_date('2021-01-01',  'yyyy-mm-dd')\n",
    "and atr.nr_dias_atraso > 30\n",
    ")\n",
    "select\n",
    "coc.coc_cd_conta_cartao as conta\n",
    ", cli.cli_nr_cpf as cpf,\n",
    "round((extract(day from to_date('2021-01-01',  'yyyy-mm-dd') - cast(coc_dt_Abertura_conta as date))/30.5/12),0) as tempo_conta,\n",
    "'pag' as negocio\n",
    "from processed_zone_database_oracle_pag.conta_cartao coc\n",
    "inner join processed_zone_database_oracle_pag.cliente cli on (cli.cli_cd_cliente = coc.coc_cd_cliente)\n",
    "left join ativos_pag ap on (ap.pla_cd_conta_cartao = coc.coc_cd_conta_cartao)\n",
    "inner join ativados_pag atp on (atp.pla_cd_conta_cartao = coc.coc_cd_conta_cartao) --já ativou\n",
    "left join inad_pag i on (i.coc_cd_conta_cartao = coc.coc_cd_conta_cartao)\n",
    "where i.coc_cd_conta_cartao is null --adimplente\n",
    "and ap.pla_cd_conta_cartao is null --não ativo nesse mês\n",
    "and coc_fl_situacao = 1\n",
    "and coc_nr_conta_cfi is not null\n",
    "and coc_dt_abertura_conta < to_date('2021-01-01',  'yyyy-mm-dd')\n",
    ")\n",
    "union all \n",
    "select * from (\n",
    "---------------------------------\n",
    "---------QUERY WILL -------------\n",
    "---------------------------------\n",
    "with ativos_will as (\n",
    "select distinct aut.cpf\n",
    "from \"platform_curated_zone\".unique_authorizations_full aut\t\t\t\t\t\n",
    "inner join\t\t\t\t\t\n",
    "(select cast(substring(created_at,1,10) as date) as created_at, \n",
    "cast(fast_account as bigint) nrconta \n",
    "from \"processed-zone-database-customer\".customer_card_account) cca\t\t\t\t\t\n",
    "on aut.numerodaconta = cca.nrconta\t\t\t\t\t\n",
    "where cast(cca.created_at as date) <=  cast(aut.dt_autorizacao as date)\t\t\t\t\t\n",
    "and aut.status_compra = 'aprovada' and aut.codretorno = '00' and aut.mti in(100,120,200)\n",
    "and date_trunc ('month', dt_autorizacao) = to_date('2021-01-01', 'yyyy-mm-dd') \n",
    ")\n",
    ", ativados_will as (\n",
    "select distinct aut.cpf\n",
    "from \"platform_curated_zone\".unique_authorizations_full aut\t\t\t\t\t\n",
    "inner join\t\t\t\t\t\n",
    "(select substring(created_at, 1,10) as created_at, \n",
    "cast(fast_account as bigint) nrconta \n",
    "from \"processed-zone-database-customer\".customer_card_account) cca\t\t\t\t\t\n",
    "on aut.numerodaconta = cca.nrconta\t\t\t\t\t\n",
    "where cast(cca.created_at as date) <= cast(aut.dt_autorizacao as date)\t\t\t\t\t\t\t\t\n",
    "and aut.status_compra = 'aprovada' and aut.codretorno = '00' and aut.mti in(100,120,200)\n",
    "and dt_autorizacao <= to_date('2021-01-31', 'yyyy-mm-dd') \n",
    ")\n",
    ", inad_will as (select distinct id_customer from\n",
    "(\n",
    "select  *from \"platform_curated_zone\".customer_daily_view acd\n",
    "inner join\n",
    "(select\n",
    "max(dt_snapshot_date) AS max_registro\n",
    "from \"platform_curated_zone\".customer_daily_view\n",
    "where date_trunc ('month', dt_snapshot_date)  = to_date('2021-01-01', 'yyyy-mm-dd') \n",
    ") mat on mat.max_registro = acd.dt_snapshot_date\n",
    ") where  nr_days_paste_due > 30\n",
    ")\n",
    "select\n",
    "0 as conta, \n",
    "p.cd_cpf as cpf,\n",
    "round((extract(day from to_date('2021-01-01',  'yyyy-mm-dd') - cast(dt_created_user as date))/30.5/12),0) as tempo_conta,\n",
    "'will' as negocio\n",
    "from growth_curated_zone.proposal_general p\n",
    "inner join growth_curated_zone.clientes c on (p.cd_cpf = c.cpf)\n",
    "left join ativos_will ap on (ap.cpf = p.cd_cpf)\n",
    "inner join ativados_will atp on (atp.cpf = p.cd_cpf) --já ativou\n",
    "left join inad_will i on (i.id_customer = c.id_customer)\n",
    "where i.id_customer is null --adimplente\n",
    "and ap.cpf is null --não ativo nesse mês\n",
    "and p.ds_origin = 'will'\n",
    "and dt_created_user < to_date('2021-01-01',  'yyyy-mm-dd')\n",
    ")\n",
    "\n",
    "\n",
    "\n",
    "\"\"\"\n",
    "\n",
    "df_aa = ac.df_athena('flavia-costa', query_aa)"
   ]
  },
  {
   "cell_type": "code",
   "execution_count": 3,
   "id": "12bbc156-5713-4657-84cf-e2726be55eae",
   "metadata": {},
   "outputs": [
    {
     "data": {
      "text/plain": [
       "576223"
      ]
     },
     "execution_count": 3,
     "metadata": {},
     "output_type": "execute_result"
    }
   ],
   "source": [
    "len(df_aa)"
   ]
  },
  {
   "cell_type": "markdown",
   "id": "993395a1-b251-411e-907d-3c7b9c7e6d99",
   "metadata": {},
   "source": [
    "## Ano atual (Janeiro de 2022)"
   ]
  },
  {
   "cell_type": "code",
   "execution_count": 4,
   "id": "b32a8f88-7ac7-4a1a-be58-78f73a9c53d5",
   "metadata": {
    "tags": []
   },
   "outputs": [
    {
     "name": "stderr",
     "output_type": "stream",
     "text": [
      "Failed to execute query.\n",
      "Traceback (most recent call last):\n",
      "  File \"/home/flavia.costa/.local/lib/python3.9/site-packages/pyathena/common.py\", line 307, in _execute\n",
      "    query_id = retry_api_call(\n",
      "  File \"/home/flavia.costa/.local/lib/python3.9/site-packages/pyathena/util.py\", line 84, in retry_api_call\n",
      "    return retry(func, *args, **kwargs)\n",
      "  File \"/home/flavia.costa/.local/lib/python3.9/site-packages/tenacity/__init__.py\", line 430, in __call__\n",
      "    do = self.iter(retry_state=retry_state)\n",
      "  File \"/home/flavia.costa/.local/lib/python3.9/site-packages/tenacity/__init__.py\", line 367, in iter\n",
      "    return fut.result()\n",
      "  File \"/usr/lib/python3.9/concurrent/futures/_base.py\", line 433, in result\n",
      "    return self.__get_result()\n",
      "  File \"/usr/lib/python3.9/concurrent/futures/_base.py\", line 389, in __get_result\n",
      "    raise self._exception\n",
      "  File \"/home/flavia.costa/.local/lib/python3.9/site-packages/tenacity/__init__.py\", line 433, in __call__\n",
      "    result = fn(*args, **kwargs)\n",
      "  File \"/home/flavia.costa/.local/lib/python3.9/site-packages/botocore/client.py\", line 391, in _api_call\n",
      "    return self._make_api_call(operation_name, kwargs)\n",
      "  File \"/home/flavia.costa/.local/lib/python3.9/site-packages/botocore/client.py\", line 719, in _make_api_call\n",
      "    raise error_class(parsed_response, operation_name)\n",
      "botocore.errorfactory.InvalidRequestException: An error occurred (InvalidRequestException) when calling the StartQueryExecution operation: line 22:21: mismatched input 'N'. Expecting: '%', '*', '+', '-', '.', '/', 'AND', 'AT', 'EXCEPT', 'GROUP', 'HAVING', 'INTERSECT', 'LIMIT', 'OFFSET', 'OR', 'ORDER', 'UNION', '[', '||', <EOF>\n"
     ]
    }
   ],
   "source": [
    "# ###################### JANEIRO DE 2022 ######################\n",
    "\n",
    "query_at = \"\"\"\n",
    "\n",
    "select * from \n",
    "(with ativos_pag as (\n",
    "select distinct \n",
    "pla_cd_conta_cartao\n",
    "FROM processed_zone_database_oracle_pag.vw_autorizacao a \n",
    "left join processed_zone_database_oracle_pag.plastico p\n",
    "on p.pla_cd_plastico = a.aut_cd_plastico\n",
    "WHERE aut_cd_unidade_credenciada <> 60024\n",
    "AND aut_fl_saque = 'N'\n",
    "AND aut_fl_limite_utilizado = 'C'\n",
    "AND aut_nr_randomico_cancelamento = 0\n",
    "AND date_trunc ('month', aut_dt_autorizacao) = to_date('2022-01-01', 'yyyy-mm-dd') \n",
    ")\n",
    ", ativados_pag as (\n",
    "select distinct \n",
    "pla_cd_conta_cartao\n",
    "FROM processed_zone_database_oracle_pag.vw_autorizacao a \n",
    "left join processed_zone_database_oracle_pag.plastico p\n",
    "on p.pla_cd_plastico = a.aut_cd_plastico\n",
    "WHERE aut_cd_unidade_credenciada <> 60024\n",
    "AND aut_fl_saque = 'N'\n",
    "AND aut_fl_limite_utilizado = 'C'\n",
    "AND aut_nr_randomico_cancelamento = 0\n",
    "AND aut_dt_autorizacao <= to_date('2022-01-31', 'yyyy-mm-dd') \n",
    ")\n",
    ", atraso_max as \n",
    "(\n",
    "\tselect\n",
    "\tmax(dt_snapshot_date) AS max_registro\n",
    "\tfrom platform_curated_zone.cre_daily_debtors \n",
    "\twhere date_trunc('month', cast(dt_snapshot_date as date)) = to_date('2022-01-01', 'yyyy-mm-dd') \n",
    ")\n",
    ", base_atraso as (\n",
    "\tselect  * \n",
    "\tfrom platform_curated_zone.cre_daily_debtors  acd\n",
    "\tinner join atraso_max mat on mat.max_registro = acd.dt_snapshot_date \n",
    ")\n",
    ", inad_pag as (\n",
    "select distinct coc.coc_cd_conta_cartao\tfrom processed_zone_database_oracle_pag.conta_cartao coc\n",
    "inner join base_atraso atr on coc.coc_cd_conta_cartao = atr.id_account_number\n",
    "where (coc_cd_tipo_cartao between 2624 and 2628\n",
    "or coc_cd_tipo_cartao between 2630 and 2632)\n",
    "and date_trunc('month', coc.coc_dt_abertura_conta) = to_date('2022-01-01',  'yyyy-mm-dd')\n",
    "and atr.nr_dias_atraso > 30\n",
    ")\n",
    "select\n",
    "coc.coc_cd_conta_cartao as conta\n",
    ", cli.cli_nr_cpf as cpf,\n",
    "round((extract(day from to_date('2022-01-01',  'yyyy-mm-dd') - cast(coc_dt_abertura_conta as date))/30.5/12),0) as tempo_conta,\n",
    "'pag' as negocio\n",
    "from processed_zone_database_oracle_pag.conta_cartao coc\n",
    "inner join processed_zone_database_oracle_pag.cliente cli on (cli.cli_cd_cliente = coc.coc_cd_cliente)\n",
    "left join ativos_pag ap on (ap.pla_cd_conta_cartao = coc.coc_cd_conta_cartao)\n",
    "inner join ativados_pag atp on (atp.pla_cd_conta_cartao = coc.coc_cd_conta_cartao) --já ativou\n",
    "left join inad_pag i on (i.coc_cd_conta_cartao = coc.coc_cd_conta_cartao)\n",
    "where i.coc_cd_conta_cartao is null --adimplente\n",
    "and ap.pla_cd_conta_cartao is null --não ativo nesse mês\n",
    "and coc_fl_situacao = 1\n",
    "and coc_nr_conta_cfi is not null\n",
    "and coc_dt_abertura_conta < to_date('2022-01-01',  'yyyy-mm-dd')\n",
    ")\n",
    "union all \n",
    "select * from (\n",
    "---------------------------------\n",
    "---------QUERY WILL -------------\n",
    "---------------------------------\n",
    "with ativos_will as (\n",
    "select distinct aut.cpf\n",
    "from \"platform_curated_zone\".unique_authorizations_full aut\t\t\t\t\t\n",
    "inner join\t\t\t\t\t\n",
    "(select cast(substring(created_at,1,10) as date) as created_at, \n",
    "cast(fast_account as bigint) nrconta \n",
    "from \"processed-zone-database-customer\".customer_card_account) cca\t\t\t\t\t\n",
    "on aut.numerodaconta = cca.nrconta\t\t\t\t\t\n",
    "where cast(cca.created_at as date) <=  cast(aut.dt_autorizacao as date)\t\t\t\t\t\n",
    "and aut.status_compra = 'aprovada' and aut.codretorno = '00' and aut.mti in(100,120,200)\n",
    "and date_trunc ('month', dt_autorizacao) = to_date('2022-01-01', 'yyyy-mm-dd') \n",
    ")\n",
    ", ativados_will as (\n",
    "select distinct aut.cpf\n",
    "from \"platform_curated_zone\".unique_authorizations_full aut\t\t\t\t\t\n",
    "inner join\t\t\t\t\t\n",
    "(select substring(created_at, 1,10) as created_at, \n",
    "cast(fast_account as bigint) nrconta \n",
    "from \"processed-zone-database-customer\".customer_card_account) cca\t\t\t\t\t\n",
    "on aut.numerodaconta = cca.nrconta\t\t\t\t\t\n",
    "where cast(cca.created_at as date) <= cast(aut.dt_autorizacao as date)\t\t\t\t\t\t\t\t\n",
    "and aut.status_compra = 'aprovada' and aut.codretorno = '00' and aut.mti in(100,120,200)\n",
    "and dt_autorizacao <= to_date('2022-01-31', 'yyyy-mm-dd') \n",
    ")\n",
    ", inad_will as (select distinct id_customer from\n",
    "(\n",
    "select  *from \"platform_curated_zone\".customer_daily_view acd\n",
    "inner join\n",
    "(select\n",
    "max(dt_snapshot_date) AS max_registro\n",
    "from \"platform_curated_zone\".customer_daily_view\n",
    "where date_trunc ('month', dt_snapshot_date)  = to_date('2022-01-01', 'yyyy-mm-dd') \n",
    ") mat on mat.max_registro = acd.dt_snapshot_date\n",
    ") where  nr_days_paste_due > 30\n",
    ")\n",
    "select\n",
    "0 as conta, \n",
    "p.cd_cpf as cpf,\n",
    "round((extract(day from to_date('2022-01-01',  'yyyy-mm-dd') - cast(dt_created_user as date))/30.5/12),0) as tempo_conta,\n",
    "'will' as negocio\n",
    "from growth_curated_zone.proposal_general p\n",
    "inner join growth_curated_zone.clientes c on (p.cd_cpf = c.cpf)\n",
    "left join ativos_will ap on (ap.cpf = p.cd_cpf)\n",
    "inner join ativados_will atp on (atp.cpf = p.cd_cpf) --já ativou\n",
    "left join inad_will i on (i.id_customer = c.id_customer)\n",
    "where i.id_customer is null --adimplente\n",
    "and ap.cpf is null --não ativo nesse mês\n",
    "and p.ds_origin = 'will'\n",
    "and dt_created_user < to_date('2022-01-01',  'yyyy-mm-dd')\n",
    ")\n",
    "\n",
    "\n",
    "\"\"\"\n",
    "\n",
    "df_at = ac.df_athena('flavia-costa', query_at)"
   ]
  },
  {
   "cell_type": "code",
   "execution_count": 5,
   "id": "51279200-4056-426f-a456-c27c694790cc",
   "metadata": {},
   "outputs": [
    {
     "data": {
      "text/plain": [
       "949259"
      ]
     },
     "execution_count": 5,
     "metadata": {},
     "output_type": "execute_result"
    }
   ],
   "source": [
    "len(df_at)"
   ]
  },
  {
   "cell_type": "markdown",
   "id": "c1738517-47ff-42c4-884e-ef1583b08873",
   "metadata": {},
   "source": [
    "## Mês anterior (Dez/19)"
   ]
  },
  {
   "cell_type": "code",
   "execution_count": 6,
   "id": "36c1491f-9421-4e1a-9a75-9e31858b4842",
   "metadata": {},
   "outputs": [
    {
     "name": "stderr",
     "output_type": "stream",
     "text": [
      "Failed to execute query.\n",
      "Traceback (most recent call last):\n",
      "  File \"/home/flavia.costa/.local/lib/python3.9/site-packages/pyathena/common.py\", line 307, in _execute\n",
      "    query_id = retry_api_call(\n",
      "  File \"/home/flavia.costa/.local/lib/python3.9/site-packages/pyathena/util.py\", line 84, in retry_api_call\n",
      "    return retry(func, *args, **kwargs)\n",
      "  File \"/home/flavia.costa/.local/lib/python3.9/site-packages/tenacity/__init__.py\", line 430, in __call__\n",
      "    do = self.iter(retry_state=retry_state)\n",
      "  File \"/home/flavia.costa/.local/lib/python3.9/site-packages/tenacity/__init__.py\", line 367, in iter\n",
      "    return fut.result()\n",
      "  File \"/usr/lib/python3.9/concurrent/futures/_base.py\", line 433, in result\n",
      "    return self.__get_result()\n",
      "  File \"/usr/lib/python3.9/concurrent/futures/_base.py\", line 389, in __get_result\n",
      "    raise self._exception\n",
      "  File \"/home/flavia.costa/.local/lib/python3.9/site-packages/tenacity/__init__.py\", line 433, in __call__\n",
      "    result = fn(*args, **kwargs)\n",
      "  File \"/home/flavia.costa/.local/lib/python3.9/site-packages/botocore/client.py\", line 391, in _api_call\n",
      "    return self._make_api_call(operation_name, kwargs)\n",
      "  File \"/home/flavia.costa/.local/lib/python3.9/site-packages/botocore/client.py\", line 719, in _make_api_call\n",
      "    raise error_class(parsed_response, operation_name)\n",
      "botocore.errorfactory.InvalidRequestException: An error occurred (InvalidRequestException) when calling the StartQueryExecution operation: line 22:21: mismatched input 'N'. Expecting: '%', '*', '+', '-', '.', '/', 'AND', 'AT', 'EXCEPT', 'GROUP', 'HAVING', 'INTERSECT', 'LIMIT', 'OFFSET', 'OR', 'ORDER', 'UNION', '[', '||', <EOF>\n"
     ]
    }
   ],
   "source": [
    "# ###################### DEZ DE 2021 ######################\n",
    "\n",
    "query_ma = \"\"\"\n",
    "\n",
    "select * from \n",
    "(with ativos_pag as (\n",
    "select distinct \n",
    "pla_cd_conta_cartao\n",
    "FROM processed_zone_database_oracle_pag.vw_autorizacao a \n",
    "left join processed_zone_database_oracle_pag.plastico p\n",
    "on p.pla_cd_plastico = a.aut_cd_plastico\n",
    "WHERE aut_cd_unidade_credenciada <> 60024\n",
    "AND aut_fl_saque = 'N'\n",
    "AND aut_fl_limite_utilizado = 'C'\n",
    "AND aut_nr_randomico_cancelamento = 0\n",
    "AND date_trunc ('month', aut_dt_autorizacao) = to_date('2021-12-01', 'yyyy-mm-dd') \n",
    ")\n",
    ", ativados_pag as (\n",
    "select distinct \n",
    "pla_cd_conta_cartao\n",
    "FROM processed_zone_database_oracle_pag.vw_autorizacao a \n",
    "left join processed_zone_database_oracle_pag.plastico p\n",
    "on p.pla_cd_plastico = a.aut_cd_plastico\n",
    "WHERE aut_cd_unidade_credenciada <> 60024\n",
    "AND aut_fl_saque = 'N'\n",
    "AND aut_fl_limite_utilizado = 'C'\n",
    "AND aut_nr_randomico_cancelamento = 0\n",
    "AND aut_dt_autorizacao <= to_date('2021-12-31', 'yyyy-mm-dd') \n",
    ")\n",
    ", atraso_max as \n",
    "(\n",
    "\tselect\n",
    "\tmax(dt_snapshot_date) AS max_registro\n",
    "\tfrom platform_curated_zone.cre_daily_debtors \n",
    "\twhere date_trunc('month', cast(dt_snapshot_date as date)) = to_date('2021-12-01', 'yyyy-mm-dd') \n",
    ")\n",
    ", base_atraso as (\n",
    "\tselect  * \n",
    "\tfrom platform_curated_zone.cre_daily_debtors  acd\n",
    "\tinner join atraso_max mat on mat.max_registro = acd.dt_snapshot_date \n",
    ")\n",
    ", inad_pag as (\n",
    "select distinct coc.coc_cd_conta_cartao\tfrom processed_zone_database_oracle_pag.conta_cartao coc\n",
    "inner join base_atraso atr on coc.coc_cd_conta_cartao = atr.id_account_number\n",
    "where (coc_cd_tipo_cartao between 2624 and 2628\n",
    "or coc_cd_tipo_cartao between 2630 and 2632)\n",
    "and date_trunc('month', coc.coc_dt_abertura_conta) = to_date('2021-12-01',  'yyyy-mm-dd')\n",
    "and atr.nr_dias_atraso > 30\n",
    ")\n",
    "select\n",
    "coc.coc_cd_conta_cartao as conta\n",
    ", cli.cli_nr_cpf as cpf,\n",
    "round((extract(day from to_date('2021-12-01',  'yyyy-mm-dd') - cast(coc_dt_abertura_conta as date))/30.5/12),0) as tempo_conta,\n",
    "'pag' as negocio\n",
    "from processed_zone_database_oracle_pag.conta_cartao coc\n",
    "inner join processed_zone_database_oracle_pag.cliente cli on (cli.cli_cd_cliente = coc.coc_cd_cliente)\n",
    "left join ativos_pag ap on (ap.pla_cd_conta_cartao = coc.coc_cd_conta_cartao)\n",
    "inner join ativados_pag atp on (atp.pla_cd_conta_cartao = coc.coc_cd_conta_cartao) --já ativou\n",
    "left join inad_pag i on (i.coc_cd_conta_cartao = coc.coc_cd_conta_cartao)\n",
    "where i.coc_cd_conta_cartao is null --adimplente\n",
    "and ap.pla_cd_conta_cartao is null --não ativo nesse mês\n",
    "and coc_fl_situacao = 1\n",
    "and coc_nr_conta_cfi is not null\n",
    "and coc_dt_abertura_conta < to_date('2021-12-01',  'yyyy-mm-dd')\n",
    ")\n",
    "union all \n",
    "select * from (\n",
    "---------------------------------\n",
    "---------QUERY WILL -------------\n",
    "---------------------------------\n",
    "with ativos_will as (\n",
    "select distinct aut.cpf\n",
    "from \"platform_curated_zone\".unique_authorizations_full aut\t\t\t\t\t\n",
    "inner join\t\t\t\t\t\n",
    "(select cast(substring(created_at,1,10) as date) as created_at, \n",
    "cast(fast_account as bigint) nrconta \n",
    "from \"processed-zone-database-customer\".customer_card_account) cca\t\t\t\t\t\n",
    "on aut.numerodaconta = cca.nrconta\t\t\t\t\t\n",
    "where cast(cca.created_at as date) <=  cast(aut.dt_autorizacao as date)\t\t\t\t\t\n",
    "and aut.status_compra = 'aprovada' and aut.codretorno = '00' and aut.mti in(100,120,200)\n",
    "and date_trunc ('month', dt_autorizacao) = to_date('2021-12-01', 'yyyy-mm-dd') \n",
    ")\n",
    ", ativados_will as (\n",
    "select distinct aut.cpf\n",
    "from \"platform_curated_zone\".unique_authorizations_full aut\t\t\t\t\t\n",
    "inner join\t\t\t\t\t\n",
    "(select substring(created_at, 1,10) as created_at, \n",
    "cast(fast_account as bigint) nrconta \n",
    "from \"processed-zone-database-customer\".customer_card_account) cca\t\t\t\t\t\n",
    "on aut.numerodaconta = cca.nrconta\t\t\t\t\t\n",
    "where cast(cca.created_at as date) <= cast(aut.dt_autorizacao as date)\t\t\t\t\t\t\t\t\n",
    "and aut.status_compra = 'aprovada' and aut.codretorno = '00' and aut.mti in(100,120,200)\n",
    "and dt_autorizacao <= to_date('2021-12-31', 'yyyy-mm-dd') \n",
    ")\n",
    ", inad_will as (select distinct id_customer from\n",
    "(\n",
    "select  *from \"platform_curated_zone\".customer_daily_view acd\n",
    "inner join\n",
    "(select\n",
    "max(dt_snapshot_date) AS max_registro\n",
    "from \"platform_curated_zone\".customer_daily_view\n",
    "where date_trunc ('month', dt_snapshot_date)  = to_date('2021-12-01', 'yyyy-mm-dd') \n",
    ") mat on mat.max_registro = acd.dt_snapshot_date\n",
    ") where  nr_days_paste_due > 30\n",
    ")\n",
    "select\n",
    "0 as conta, \n",
    "p.cd_cpf as cpf,\n",
    "round((extract(day from to_date('2021-12-01',  'yyyy-mm-dd') - cast(dt_created_user as date))/30.5/12),0) as tempo_conta,\n",
    "'will' as negocio\n",
    "from growth_curated_zone.proposal_general p\n",
    "inner join growth_curated_zone.clientes c on (p.cd_cpf = c.cpf)\n",
    "left join ativos_will ap on (ap.cpf = p.cd_cpf)\n",
    "inner join ativados_will atp on (atp.cpf = p.cd_cpf) --já ativou\n",
    "left join inad_will i on (i.id_customer = c.id_customer)\n",
    "where i.id_customer is null --adimplente\n",
    "and ap.cpf is null --não ativo nesse mês\n",
    "and p.ds_origin = 'will'\n",
    "and dt_created_user < to_date('2021-12-01',  'yyyy-mm-dd')\n",
    ")\n",
    "\n",
    "\n",
    "\"\"\"\n",
    "\n",
    "df_ma = ac.df_athena('flavia-costa', query_ma)"
   ]
  },
  {
   "cell_type": "code",
   "execution_count": 7,
   "id": "5f3b2896-b37a-465a-938c-247423991b99",
   "metadata": {},
   "outputs": [
    {
     "data": {
      "text/plain": [
       "878175"
      ]
     },
     "execution_count": 7,
     "metadata": {},
     "output_type": "execute_result"
    }
   ],
   "source": [
    "len(df_ma)"
   ]
  },
  {
   "cell_type": "markdown",
   "id": "f0501715-e26e-40a2-88d4-10fd053126c4",
   "metadata": {},
   "source": [
    "## Ativos Mês atual"
   ]
  },
  {
   "cell_type": "code",
   "execution_count": 8,
   "id": "7a285976-33f8-4e40-bb9e-71ff62a864af",
   "metadata": {
    "tags": []
   },
   "outputs": [
    {
     "name": "stderr",
     "output_type": "stream",
     "text": [
      "Failed to execute query.\n",
      "Traceback (most recent call last):\n",
      "  File \"/home/flavia.costa/.local/lib/python3.9/site-packages/pyathena/common.py\", line 307, in _execute\n",
      "    query_id = retry_api_call(\n",
      "  File \"/home/flavia.costa/.local/lib/python3.9/site-packages/pyathena/util.py\", line 84, in retry_api_call\n",
      "    return retry(func, *args, **kwargs)\n",
      "  File \"/home/flavia.costa/.local/lib/python3.9/site-packages/tenacity/__init__.py\", line 430, in __call__\n",
      "    do = self.iter(retry_state=retry_state)\n",
      "  File \"/home/flavia.costa/.local/lib/python3.9/site-packages/tenacity/__init__.py\", line 367, in iter\n",
      "    return fut.result()\n",
      "  File \"/usr/lib/python3.9/concurrent/futures/_base.py\", line 433, in result\n",
      "    return self.__get_result()\n",
      "  File \"/usr/lib/python3.9/concurrent/futures/_base.py\", line 389, in __get_result\n",
      "    raise self._exception\n",
      "  File \"/home/flavia.costa/.local/lib/python3.9/site-packages/tenacity/__init__.py\", line 433, in __call__\n",
      "    result = fn(*args, **kwargs)\n",
      "  File \"/home/flavia.costa/.local/lib/python3.9/site-packages/botocore/client.py\", line 391, in _api_call\n",
      "    return self._make_api_call(operation_name, kwargs)\n",
      "  File \"/home/flavia.costa/.local/lib/python3.9/site-packages/botocore/client.py\", line 719, in _make_api_call\n",
      "    raise error_class(parsed_response, operation_name)\n",
      "botocore.errorfactory.InvalidRequestException: An error occurred (InvalidRequestException) when calling the StartQueryExecution operation: line 23:21: mismatched input 'N'. Expecting: '%', '*', '+', '-', '.', '/', 'AND', 'AT', 'EXCEPT', 'GROUP', 'HAVING', 'INTERSECT', 'LIMIT', 'OFFSET', 'OR', 'ORDER', 'UNION', '[', '||', <EOF>\n"
     ]
    }
   ],
   "source": [
    "query_atv = \"\"\"\n",
    "\n",
    "select * from \n",
    "(\n",
    "with ativos_pag as (\n",
    "select distinct \n",
    "pla_cd_conta_cartao\n",
    "FROM processed_zone_database_oracle_pag.vw_autorizacao a \n",
    "left join processed_zone_database_oracle_pag.plastico p\n",
    "on p.pla_cd_plastico = a.aut_cd_plastico\n",
    "WHERE aut_cd_unidade_credenciada <> 60024\n",
    "AND aut_fl_saque = 'N'\n",
    "AND aut_fl_limite_utilizado = 'C'\n",
    "AND aut_nr_randomico_cancelamento = 0\n",
    "AND date_trunc ('month', aut_dt_autorizacao) = to_date('2022-01-01', 'yyyy-mm-dd') \n",
    ")\n",
    "select\n",
    "coc.coc_cd_conta_cartao as conta\n",
    ", cli.cli_nr_cpf as cpf,\n",
    "round((extract(day from to_date('2022-01-01',  'yyyy-mm-dd') - cast(coc_dt_abertura_conta as date))/30.5/12),0) as tempo_conta,  \n",
    "'pag' as negocio\n",
    "from processed_zone_database_oracle_pag.conta_cartao coc\n",
    "inner join processed_zone_database_oracle_pag.cliente cli on (cli.cli_cd_cliente = coc.coc_cd_cliente)\n",
    "left join ativos_pag ap on (ap.pla_cd_conta_cartao = coc.coc_cd_conta_cartao)\n",
    "WHERE ap.pla_cd_conta_cartao is not null --ativo nesse mês\n",
    "and coc_fl_situacao = 1\n",
    "and coc_nr_conta_cfi is not null\n",
    "and coc_dt_abertura_conta < to_date('2022-01-01',  'yyyy-mm-dd')\n",
    ")\n",
    "union all \n",
    "select * from (\n",
    "with ativos_will as (\n",
    "select distinct aut.cpf\n",
    "from \"platform_curated_zone\".unique_authorizations_full aut\t\t\t\t\t\n",
    "inner join\t\t\t\t\t\n",
    "(select cast(substring(created_at,1,10) as date) as created_at, \n",
    "cast(fast_account as bigint) nrconta \n",
    "from \"processed-zone-database-customer\".customer_card_account) cca\t\t\t\t\t\n",
    "on aut.numerodaconta = cca.nrconta\t\t\t\t\t\n",
    "where cast(cca.created_at as date) <=  cast(aut.dt_autorizacao as date)\t\t\t\t\t\n",
    "and aut.status_compra = 'aprovada' and aut.codretorno = '00' and aut.mti in(100,120,200)\n",
    "and date_trunc ('month', dt_autorizacao) = to_date('2022-01-01', 'yyyy-mm-dd') \n",
    ")\n",
    "select\n",
    "0 as conta, \n",
    "p.cd_cpf as cpf,\n",
    "round((extract(day from to_date('2022-01-01',  'yyyy-mm-dd') - cast(dt_created_user as date))/30.5/12),0) as tempo_conta,  \n",
    "'will' as negocio\n",
    "from growth_curated_zone.proposal_general p\n",
    "inner join growth_curated_zone.clientes c on (p.cd_cpf = c.cpf)\n",
    "left join ativos_will ap on (ap.cpf = p.cd_cpf)\n",
    "where ap.cpf is not null --ativo nesse mês\n",
    "and p.ds_origin = 'will'\n",
    "and dt_created_user < to_date('2022-01-01',  'yyyy-mm-dd')\n",
    ")\n",
    "\n",
    "\"\"\"\n",
    "\n",
    "df_atv = ac.df_athena('flavia-costa', query_atv)"
   ]
  },
  {
   "cell_type": "code",
   "execution_count": 9,
   "id": "87bbee1e-d122-4b90-b757-47c77c36ba09",
   "metadata": {},
   "outputs": [
    {
     "data": {
      "text/plain": [
       "1035376"
      ]
     },
     "execution_count": 9,
     "metadata": {},
     "output_type": "execute_result"
    }
   ],
   "source": [
    "len(df_atv)"
   ]
  },
  {
   "cell_type": "code",
   "execution_count": 10,
   "id": "b68971d7-03da-4ea5-af93-2991145184ae",
   "metadata": {},
   "outputs": [],
   "source": [
    "df_aa['periodo'] = '1 - churn jan-21'\n",
    "df_ma['periodo'] = '2 - churn dez-21'\n",
    "df_at['periodo'] = '3 - churn jan-22'\n",
    "df_atv['periodo'] = '4 - ativos jan-22'"
   ]
  },
  {
   "cell_type": "code",
   "execution_count": 11,
   "id": "6097282c-7af5-4abb-9474-6b70a79a087a",
   "metadata": {},
   "outputs": [
    {
     "name": "stderr",
     "output_type": "stream",
     "text": [
      "<ipython-input-11-c1fcd22c36f7>:1: FutureWarning: The frame.append method is deprecated and will be removed from pandas in a future version. Use pandas.concat instead.\n",
      "  df_total = df_aa.append(df_ma).append(df_at).append(df_atv)\n",
      "<ipython-input-11-c1fcd22c36f7>:1: FutureWarning: The frame.append method is deprecated and will be removed from pandas in a future version. Use pandas.concat instead.\n",
      "  df_total = df_aa.append(df_ma).append(df_at).append(df_atv)\n"
     ]
    }
   ],
   "source": [
    "df_total = df_aa.append(df_ma).append(df_at).append(df_atv)\n",
    "\n",
    "df_total['cont'] = 1"
   ]
  },
  {
   "cell_type": "code",
   "execution_count": null,
   "id": "740bc688-5652-4785-8155-bd25479699c8",
   "metadata": {},
   "outputs": [],
   "source": [
    "path_to_csv = 'data_science/team/Flavia'\n",
    "filename = 'base_churn.csv'\n",
    "delim = ';'\n",
    "\n",
    "ac.save_to_s3(path_to_csv, filename, df_total, delim)"
   ]
  },
  {
   "cell_type": "code",
   "execution_count": 12,
   "id": "a7aae194-010c-4eac-9afe-7a0308dd981c",
   "metadata": {},
   "outputs": [
    {
     "name": "stderr",
     "output_type": "stream",
     "text": [
      "Failed to execute query.\n",
      "Traceback (most recent call last):\n",
      "  File \"/home/flavia.costa/.local/lib/python3.9/site-packages/pyathena/common.py\", line 307, in _execute\n",
      "    query_id = retry_api_call(\n",
      "  File \"/home/flavia.costa/.local/lib/python3.9/site-packages/pyathena/util.py\", line 84, in retry_api_call\n",
      "    return retry(func, *args, **kwargs)\n",
      "  File \"/home/flavia.costa/.local/lib/python3.9/site-packages/tenacity/__init__.py\", line 430, in __call__\n",
      "    do = self.iter(retry_state=retry_state)\n",
      "  File \"/home/flavia.costa/.local/lib/python3.9/site-packages/tenacity/__init__.py\", line 367, in iter\n",
      "    return fut.result()\n",
      "  File \"/usr/lib/python3.9/concurrent/futures/_base.py\", line 433, in result\n",
      "    return self.__get_result()\n",
      "  File \"/usr/lib/python3.9/concurrent/futures/_base.py\", line 389, in __get_result\n",
      "    raise self._exception\n",
      "  File \"/home/flavia.costa/.local/lib/python3.9/site-packages/tenacity/__init__.py\", line 433, in __call__\n",
      "    result = fn(*args, **kwargs)\n",
      "  File \"/home/flavia.costa/.local/lib/python3.9/site-packages/botocore/client.py\", line 391, in _api_call\n",
      "    return self._make_api_call(operation_name, kwargs)\n",
      "  File \"/home/flavia.costa/.local/lib/python3.9/site-packages/botocore/client.py\", line 719, in _make_api_call\n",
      "    raise error_class(parsed_response, operation_name)\n",
      "botocore.errorfactory.InvalidRequestException: An error occurred (InvalidRequestException) when calling the StartQueryExecution operation: line 20:60: mismatched input 'C'. Expecting: '%', '*', '+', '-', '.', '/', 'AND', 'AT', 'EXCEPT', 'GROUP', 'HAVING', 'INTERSECT', 'LIMIT', 'OFFSET', 'OR', 'ORDER', 'UNION', '[', '||', <EOF>\n"
     ]
    }
   ],
   "source": [
    "df_total = pf.traz_info('flavia-costa', df_total, 'cpf')"
   ]
  },
  {
   "cell_type": "code",
   "execution_count": 13,
   "id": "1b79ebf1-94e3-4c4e-997f-6f43ea9762ba",
   "metadata": {},
   "outputs": [
    {
     "data": {
      "text/plain": [
       "3446535"
      ]
     },
     "execution_count": 13,
     "metadata": {},
     "output_type": "execute_result"
    }
   ],
   "source": [
    "len(df_total)"
   ]
  },
  {
   "cell_type": "code",
   "execution_count": null,
   "id": "a0da353c-dc84-4dff-a91a-0ea42042d2f3",
   "metadata": {},
   "outputs": [],
   "source": []
  },
  {
   "cell_type": "code",
   "execution_count": 14,
   "id": "35447a19-3d43-48d9-9b24-6e40e0dc6441",
   "metadata": {},
   "outputs": [],
   "source": [
    "def tempo_conta(x):\n",
    "    if x <= 0:\n",
    "        return 'a. ate 1 ano de conta'\n",
    "    elif x == 1:\n",
    "        return 'b. 1-2 anos de conta'\n",
    "    elif x == 2:\n",
    "        return 'c. 2-3 anos de conta'\n",
    "    elif x == 3:\n",
    "        return 'd. 3-4 anos de conta'\n",
    "    elif x == 4:\n",
    "        return 'e. 4-5 anos de conta'\n",
    "    elif x == 5:\n",
    "        return 'f. 5-6 anos de conta'   \n",
    "    else:\n",
    "        return 'g. sem tempo'"
   ]
  },
  {
   "cell_type": "code",
   "execution_count": 15,
   "id": "6f43cc6e-f461-4b84-817c-b64d2e61c38e",
   "metadata": {},
   "outputs": [],
   "source": [
    "df_total['pf_idade_conta'] = df_total['tempo_conta'].apply(tempo_conta)"
   ]
  },
  {
   "cell_type": "code",
   "execution_count": 16,
   "id": "c61aace5-9377-4902-b887-0391919a9c91",
   "metadata": {},
   "outputs": [
    {
     "data": {
      "text/plain": [
       "Index(['conta', 'cpf', 'tempo_conta', 'negocio', 'periodo', 'cont', 'chave',\n",
       "       'chave_or', 'ds_origin', 'pf_dt_nascimento', 'base_perfil', 'pf_genero',\n",
       "       'pf_escolaridade', 'pf_renda_declarada_will', 'pf_profissao',\n",
       "       'pf_estado_civil', 'pf_estado', 'pf_regiao', 'pf_idade_conta',\n",
       "       'pf_faixa_idade', 'pf_cidade', 'pf_top_mcc', 'pf_cep', 'pf_recencia',\n",
       "       'pf_fx_recencia_mes', 'vl_real_hist', 'transacoes_hist',\n",
       "       'spending90dias', 'transacoes90dias', 'spending_ultimo_ano',\n",
       "       'transacoes_ultimo_ano'],\n",
       "      dtype='object')"
      ]
     },
     "execution_count": 16,
     "metadata": {},
     "output_type": "execute_result"
    }
   ],
   "source": [
    "df_total.columns"
   ]
  },
  {
   "cell_type": "code",
   "execution_count": 17,
   "id": "8c8f09da-7065-426f-9fcc-b37cc40adfa1",
   "metadata": {},
   "outputs": [],
   "source": [
    "# df_agg = pf.agg_perfil_grupos(df_total, 'periodo')\n",
    "campos_perfil = ['pf_genero', 'pf_faixa_idade', 'pf_estado', 'pf_regiao', 'pf_estado_civil', 'pf_escolaridade', 'pf_idade_conta']\n",
    "\n",
    "#'pf_renda_declarada_will', 'pf_top_mcc'\n",
    "\n",
    "soma = ['cont']\n",
    "\n",
    "var_grupo = ['periodo']\n",
    "\n",
    "chave2 = campos_perfil + soma + var_grupo\n",
    "\n",
    "campo_agg = campos_perfil + var_grupo\n",
    "\n",
    "agg = df_total[chave2].groupby(campo_agg, as_index=False).agg({'cont':['sum']})\n"
   ]
  },
  {
   "cell_type": "code",
   "execution_count": 18,
   "id": "28b1d438-3855-40ec-9e83-e6d20718ed7d",
   "metadata": {},
   "outputs": [
    {
     "data": {
      "text/plain": [
       "sum    3431889\n",
       "dtype: int64"
      ]
     },
     "execution_count": 18,
     "metadata": {},
     "output_type": "execute_result"
    }
   ],
   "source": [
    "agg['cont'].sum()"
   ]
  },
  {
   "cell_type": "code",
   "execution_count": 19,
   "id": "7780400b-4798-4a6a-8fbd-08c6b12c510e",
   "metadata": {},
   "outputs": [
    {
     "data": {
      "text/plain": [
       "151081"
      ]
     },
     "execution_count": 19,
     "metadata": {},
     "output_type": "execute_result"
    }
   ],
   "source": [
    "len(agg)"
   ]
  },
  {
   "cell_type": "code",
   "execution_count": 20,
   "id": "652b8eb9-233c-4746-81e5-0a197b3c20c0",
   "metadata": {},
   "outputs": [],
   "source": [
    "agg.to_csv('agg_churn_fev22.csv')"
   ]
  },
  {
   "cell_type": "code",
   "execution_count": 21,
   "id": "c89dd788-06a8-4afe-9aad-f11701735b35",
   "metadata": {},
   "outputs": [],
   "source": [
    "df_pf = df_total[['pf_genero', 'pf_faixa_idade', 'pf_estado', 'pf_regiao', 'pf_estado_civil', 'pf_profissao', 'pf_escolaridade', 'pf_idade_conta', 'pf_renda_declarada_will', 'pf_top_mcc', 'periodo', 'cont']]"
   ]
  },
  {
   "cell_type": "code",
   "execution_count": 22,
   "id": "06c7f00c-56ad-403e-b02a-e7a33b78c708",
   "metadata": {
    "tags": []
   },
   "outputs": [
    {
     "name": "stderr",
     "output_type": "stream",
     "text": [
      "/home/flavia.costa/work/git/codigos/aux/perfil.py:277: SettingWithCopyWarning: \n",
      "A value is trying to be set on a copy of a slice from a DataFrame.\n",
      "Try using .loc[row_indexer,col_indexer] = value instead\n",
      "\n",
      "See the caveats in the documentation: https://pandas.pydata.org/pandas-docs/stable/user_guide/indexing.html#returning-a-view-versus-a-copy\n",
      "  df[coluna_contagem] = df[coluna_contagem].astype('int')\n",
      "/home/flavia.costa/work/git/codigos/aux/perfil.py:317: FutureWarning: The frame.append method is deprecated and will be removed from pandas in a future version. Use pandas.concat instead.\n",
      "  casos_signif_final = casos_signif_final.append(casos_signif).sort_values('diferenca_abs', ascending = False)\n",
      "/home/flavia.costa/work/git/codigos/aux/perfil.py:277: SettingWithCopyWarning: \n",
      "A value is trying to be set on a copy of a slice from a DataFrame.\n",
      "Try using .loc[row_indexer,col_indexer] = value instead\n",
      "\n",
      "See the caveats in the documentation: https://pandas.pydata.org/pandas-docs/stable/user_guide/indexing.html#returning-a-view-versus-a-copy\n",
      "  df[coluna_contagem] = df[coluna_contagem].astype('int')\n",
      "/home/flavia.costa/work/git/codigos/aux/perfil.py:317: FutureWarning: The frame.append method is deprecated and will be removed from pandas in a future version. Use pandas.concat instead.\n",
      "  casos_signif_final = casos_signif_final.append(casos_signif).sort_values('diferenca_abs', ascending = False)\n",
      "/home/flavia.costa/work/git/codigos/aux/perfil.py:277: SettingWithCopyWarning: \n",
      "A value is trying to be set on a copy of a slice from a DataFrame.\n",
      "Try using .loc[row_indexer,col_indexer] = value instead\n",
      "\n",
      "See the caveats in the documentation: https://pandas.pydata.org/pandas-docs/stable/user_guide/indexing.html#returning-a-view-versus-a-copy\n",
      "  df[coluna_contagem] = df[coluna_contagem].astype('int')\n",
      "/home/flavia.costa/work/git/codigos/aux/perfil.py:317: FutureWarning: The frame.append method is deprecated and will be removed from pandas in a future version. Use pandas.concat instead.\n",
      "  casos_signif_final = casos_signif_final.append(casos_signif).sort_values('diferenca_abs', ascending = False)\n",
      "/home/flavia.costa/work/git/codigos/aux/perfil.py:277: SettingWithCopyWarning: \n",
      "A value is trying to be set on a copy of a slice from a DataFrame.\n",
      "Try using .loc[row_indexer,col_indexer] = value instead\n",
      "\n",
      "See the caveats in the documentation: https://pandas.pydata.org/pandas-docs/stable/user_guide/indexing.html#returning-a-view-versus-a-copy\n",
      "  df[coluna_contagem] = df[coluna_contagem].astype('int')\n",
      "/home/flavia.costa/work/git/codigos/aux/perfil.py:317: FutureWarning: The frame.append method is deprecated and will be removed from pandas in a future version. Use pandas.concat instead.\n",
      "  casos_signif_final = casos_signif_final.append(casos_signif).sort_values('diferenca_abs', ascending = False)\n",
      "/home/flavia.costa/work/git/codigos/aux/perfil.py:277: SettingWithCopyWarning: \n",
      "A value is trying to be set on a copy of a slice from a DataFrame.\n",
      "Try using .loc[row_indexer,col_indexer] = value instead\n",
      "\n",
      "See the caveats in the documentation: https://pandas.pydata.org/pandas-docs/stable/user_guide/indexing.html#returning-a-view-versus-a-copy\n",
      "  df[coluna_contagem] = df[coluna_contagem].astype('int')\n",
      "/home/flavia.costa/work/git/codigos/aux/perfil.py:317: FutureWarning: The frame.append method is deprecated and will be removed from pandas in a future version. Use pandas.concat instead.\n",
      "  casos_signif_final = casos_signif_final.append(casos_signif).sort_values('diferenca_abs', ascending = False)\n",
      "/home/flavia.costa/work/git/codigos/aux/perfil.py:277: SettingWithCopyWarning: \n",
      "A value is trying to be set on a copy of a slice from a DataFrame.\n",
      "Try using .loc[row_indexer,col_indexer] = value instead\n",
      "\n",
      "See the caveats in the documentation: https://pandas.pydata.org/pandas-docs/stable/user_guide/indexing.html#returning-a-view-versus-a-copy\n",
      "  df[coluna_contagem] = df[coluna_contagem].astype('int')\n",
      "/home/flavia.costa/work/git/codigos/aux/perfil.py:317: FutureWarning: The frame.append method is deprecated and will be removed from pandas in a future version. Use pandas.concat instead.\n",
      "  casos_signif_final = casos_signif_final.append(casos_signif).sort_values('diferenca_abs', ascending = False)\n",
      "/home/flavia.costa/work/git/codigos/aux/perfil.py:277: SettingWithCopyWarning: \n",
      "A value is trying to be set on a copy of a slice from a DataFrame.\n",
      "Try using .loc[row_indexer,col_indexer] = value instead\n",
      "\n",
      "See the caveats in the documentation: https://pandas.pydata.org/pandas-docs/stable/user_guide/indexing.html#returning-a-view-versus-a-copy\n",
      "  df[coluna_contagem] = df[coluna_contagem].astype('int')\n",
      "/home/flavia.costa/work/git/codigos/aux/perfil.py:317: FutureWarning: The frame.append method is deprecated and will be removed from pandas in a future version. Use pandas.concat instead.\n",
      "  casos_signif_final = casos_signif_final.append(casos_signif).sort_values('diferenca_abs', ascending = False)\n",
      "/home/flavia.costa/work/git/codigos/aux/perfil.py:277: SettingWithCopyWarning: \n",
      "A value is trying to be set on a copy of a slice from a DataFrame.\n",
      "Try using .loc[row_indexer,col_indexer] = value instead\n",
      "\n",
      "See the caveats in the documentation: https://pandas.pydata.org/pandas-docs/stable/user_guide/indexing.html#returning-a-view-versus-a-copy\n",
      "  df[coluna_contagem] = df[coluna_contagem].astype('int')\n",
      "/home/flavia.costa/work/git/codigos/aux/perfil.py:317: FutureWarning: The frame.append method is deprecated and will be removed from pandas in a future version. Use pandas.concat instead.\n",
      "  casos_signif_final = casos_signif_final.append(casos_signif).sort_values('diferenca_abs', ascending = False)\n",
      "/home/flavia.costa/work/git/codigos/aux/perfil.py:368: FutureWarning: The frame.append method is deprecated and will be removed from pandas in a future version. Use pandas.concat instead.\n",
      "  casos_signif_final = casos_signif_final.append(casos_signif).sort_values('diferenca_abs', ascending = False)\n"
     ]
    },
    {
     "name": "stdout",
     "output_type": "stream",
     "text": [
      "report dos perfis finalizado!\n"
     ]
    },
    {
     "name": "stderr",
     "output_type": "stream",
     "text": [
      "/home/flavia.costa/work/git/codigos/aux/perfil.py:368: FutureWarning: The frame.append method is deprecated and will be removed from pandas in a future version. Use pandas.concat instead.\n",
      "  casos_signif_final = casos_signif_final.append(casos_signif).sort_values('diferenca_abs', ascending = False)\n"
     ]
    },
    {
     "name": "stdout",
     "output_type": "stream",
     "text": [
      "report dos perfis finalizado!\n"
     ]
    },
    {
     "name": "stderr",
     "output_type": "stream",
     "text": [
      "/home/flavia.costa/work/git/codigos/aux/perfil.py:368: FutureWarning: The frame.append method is deprecated and will be removed from pandas in a future version. Use pandas.concat instead.\n",
      "  casos_signif_final = casos_signif_final.append(casos_signif).sort_values('diferenca_abs', ascending = False)\n"
     ]
    },
    {
     "name": "stdout",
     "output_type": "stream",
     "text": [
      "report dos perfis finalizado!\n"
     ]
    },
    {
     "name": "stderr",
     "output_type": "stream",
     "text": [
      "/home/flavia.costa/work/git/codigos/aux/perfil.py:368: FutureWarning: The frame.append method is deprecated and will be removed from pandas in a future version. Use pandas.concat instead.\n",
      "  casos_signif_final = casos_signif_final.append(casos_signif).sort_values('diferenca_abs', ascending = False)\n"
     ]
    },
    {
     "name": "stdout",
     "output_type": "stream",
     "text": [
      "report dos perfis finalizado!\n"
     ]
    },
    {
     "name": "stderr",
     "output_type": "stream",
     "text": [
      "/home/flavia.costa/work/git/codigos/aux/perfil.py:368: FutureWarning: The frame.append method is deprecated and will be removed from pandas in a future version. Use pandas.concat instead.\n",
      "  casos_signif_final = casos_signif_final.append(casos_signif).sort_values('diferenca_abs', ascending = False)\n"
     ]
    },
    {
     "name": "stdout",
     "output_type": "stream",
     "text": [
      "report dos perfis finalizado!\n"
     ]
    },
    {
     "name": "stderr",
     "output_type": "stream",
     "text": [
      "/home/flavia.costa/work/git/codigos/aux/perfil.py:368: FutureWarning: The frame.append method is deprecated and will be removed from pandas in a future version. Use pandas.concat instead.\n",
      "  casos_signif_final = casos_signif_final.append(casos_signif).sort_values('diferenca_abs', ascending = False)\n"
     ]
    },
    {
     "name": "stdout",
     "output_type": "stream",
     "text": [
      "report dos perfis finalizado!\n"
     ]
    },
    {
     "name": "stderr",
     "output_type": "stream",
     "text": [
      "/home/flavia.costa/work/git/codigos/aux/perfil.py:368: FutureWarning: The frame.append method is deprecated and will be removed from pandas in a future version. Use pandas.concat instead.\n",
      "  casos_signif_final = casos_signif_final.append(casos_signif).sort_values('diferenca_abs', ascending = False)\n"
     ]
    },
    {
     "name": "stdout",
     "output_type": "stream",
     "text": [
      "report dos perfis finalizado!\n"
     ]
    },
    {
     "name": "stderr",
     "output_type": "stream",
     "text": [
      "/home/flavia.costa/work/git/codigos/aux/perfil.py:368: FutureWarning: The frame.append method is deprecated and will be removed from pandas in a future version. Use pandas.concat instead.\n",
      "  casos_signif_final = casos_signif_final.append(casos_signif).sort_values('diferenca_abs', ascending = False)\n"
     ]
    },
    {
     "name": "stdout",
     "output_type": "stream",
     "text": [
      "report dos perfis finalizado!\n"
     ]
    },
    {
     "name": "stderr",
     "output_type": "stream",
     "text": [
      "/home/flavia.costa/work/git/codigos/aux/perfil.py:368: FutureWarning: The frame.append method is deprecated and will be removed from pandas in a future version. Use pandas.concat instead.\n",
      "  casos_signif_final = casos_signif_final.append(casos_signif).sort_values('diferenca_abs', ascending = False)\n"
     ]
    },
    {
     "name": "stdout",
     "output_type": "stream",
     "text": [
      "report dos perfis finalizado!\n",
      "report dos perfis finalizado!\n"
     ]
    },
    {
     "name": "stderr",
     "output_type": "stream",
     "text": [
      "/home/flavia.costa/work/git/codigos/aux/perfil.py:368: FutureWarning: The frame.append method is deprecated and will be removed from pandas in a future version. Use pandas.concat instead.\n",
      "  casos_signif_final = casos_signif_final.append(casos_signif).sort_values('diferenca_abs', ascending = False)\n"
     ]
    }
   ],
   "source": [
    "pf.report_perfil_grupos(df_pf.query('periodo == \"4 - ativos jan-22\" or periodo == \"3 - churn jan-22\"'), 'periodo', 'cont', 0.05, 50)"
   ]
  },
  {
   "cell_type": "code",
   "execution_count": 23,
   "id": "f67f09e9-1d80-4837-a75f-ac6d31a59ce8",
   "metadata": {},
   "outputs": [],
   "source": [
    "df_pag = df_total.query('negocio == \"pag\"')\n",
    "df_will = df_total.query('negocio == \"will\"')"
   ]
  },
  {
   "cell_type": "code",
   "execution_count": 24,
   "id": "0d6519af-b164-41ab-be99-63b658180526",
   "metadata": {},
   "outputs": [],
   "source": [
    "pf.agg_perfil_grupos(df_pag, 'periodo').to_csv('agg_churn_fev22_pag.csv')"
   ]
  },
  {
   "cell_type": "code",
   "execution_count": 25,
   "id": "3983cb3e-e2b4-4301-90c0-e69995307e75",
   "metadata": {},
   "outputs": [],
   "source": [
    "pf.agg_perfil_grupos(df_will, 'periodo').to_csv('agg_churn_fev22_will.csv')"
   ]
  },
  {
   "cell_type": "code",
   "execution_count": 26,
   "id": "e3914b3d-dfc7-483f-9559-8624128a1973",
   "metadata": {},
   "outputs": [
    {
     "data": {
      "text/html": [
       "<div>\n",
       "<style scoped>\n",
       "    .dataframe tbody tr th:only-of-type {\n",
       "        vertical-align: middle;\n",
       "    }\n",
       "\n",
       "    .dataframe tbody tr th {\n",
       "        vertical-align: top;\n",
       "    }\n",
       "\n",
       "    .dataframe thead th {\n",
       "        text-align: right;\n",
       "    }\n",
       "</style>\n",
       "<table border=\"1\" class=\"dataframe\">\n",
       "  <thead>\n",
       "    <tr style=\"text-align: right;\">\n",
       "      <th></th>\n",
       "      <th></th>\n",
       "      <th>cont</th>\n",
       "    </tr>\n",
       "    <tr>\n",
       "      <th>periodo</th>\n",
       "      <th>pf_genero</th>\n",
       "      <th></th>\n",
       "    </tr>\n",
       "  </thead>\n",
       "  <tbody>\n",
       "    <tr>\n",
       "      <th rowspan=\"3\" valign=\"top\">1 - churn jan-21</th>\n",
       "      <th></th>\n",
       "      <td>15663</td>\n",
       "    </tr>\n",
       "    <tr>\n",
       "      <th>FEMALE</th>\n",
       "      <td>283508</td>\n",
       "    </tr>\n",
       "    <tr>\n",
       "      <th>MALE</th>\n",
       "      <td>277529</td>\n",
       "    </tr>\n",
       "    <tr>\n",
       "      <th rowspan=\"3\" valign=\"top\">2 - churn dez-21</th>\n",
       "      <th></th>\n",
       "      <td>24151</td>\n",
       "    </tr>\n",
       "    <tr>\n",
       "      <th>FEMALE</th>\n",
       "      <td>434173</td>\n",
       "    </tr>\n",
       "    <tr>\n",
       "      <th>MALE</th>\n",
       "      <td>421129</td>\n",
       "    </tr>\n",
       "    <tr>\n",
       "      <th rowspan=\"3\" valign=\"top\">3 - churn jan-22</th>\n",
       "      <th></th>\n",
       "      <td>25564</td>\n",
       "    </tr>\n",
       "    <tr>\n",
       "      <th>FEMALE</th>\n",
       "      <td>473730</td>\n",
       "    </tr>\n",
       "    <tr>\n",
       "      <th>MALE</th>\n",
       "      <td>451369</td>\n",
       "    </tr>\n",
       "    <tr>\n",
       "      <th rowspan=\"3\" valign=\"top\">4 - ativos jan-22</th>\n",
       "      <th></th>\n",
       "      <td>19300</td>\n",
       "    </tr>\n",
       "    <tr>\n",
       "      <th>FEMALE</th>\n",
       "      <td>564012</td>\n",
       "    </tr>\n",
       "    <tr>\n",
       "      <th>MALE</th>\n",
       "      <td>456176</td>\n",
       "    </tr>\n",
       "  </tbody>\n",
       "</table>\n",
       "</div>"
      ],
      "text/plain": [
       "                               cont\n",
       "periodo           pf_genero        \n",
       "1 - churn jan-21              15663\n",
       "                  FEMALE     283508\n",
       "                  MALE       277529\n",
       "2 - churn dez-21              24151\n",
       "                  FEMALE     434173\n",
       "                  MALE       421129\n",
       "3 - churn jan-22              25564\n",
       "                  FEMALE     473730\n",
       "                  MALE       451369\n",
       "4 - ativos jan-22             19300\n",
       "                  FEMALE     564012\n",
       "                  MALE       456176"
      ]
     },
     "execution_count": 26,
     "metadata": {},
     "output_type": "execute_result"
    }
   ],
   "source": [
    "df_total[['periodo', 'pf_genero', 'cont']].groupby(['periodo', 'pf_genero']).sum()"
   ]
  },
  {
   "cell_type": "code",
   "execution_count": null,
   "id": "54c505bc-e31b-4ae0-85ad-4fa96d43e9fe",
   "metadata": {},
   "outputs": [],
   "source": [
    "pf.graf_catplot(df_total, 'periodo')"
   ]
  }
 ],
 "metadata": {
  "kernelspec": {
   "display_name": "Python 3",
   "language": "python",
   "name": "python3"
  },
  "language_info": {
   "codemirror_mode": {
    "name": "ipython",
    "version": 3
   },
   "file_extension": ".py",
   "mimetype": "text/x-python",
   "name": "python",
   "nbconvert_exporter": "python",
   "pygments_lexer": "ipython3",
   "version": "3.9.2"
  }
 },
 "nbformat": 4,
 "nbformat_minor": 5
}
