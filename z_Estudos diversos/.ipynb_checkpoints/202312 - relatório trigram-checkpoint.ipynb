{
 "cells": [
  {
   "cell_type": "code",
   "execution_count": 2,
   "id": "1d8694b2-db90-4470-a6ef-6f416ebd1605",
   "metadata": {
    "collapsed": true,
    "jupyter": {
     "outputs_hidden": true
    },
    "tags": []
   },
   "outputs": [
    {
     "name": "stdout",
     "output_type": "stream",
     "text": [
      "Requirement already satisfied: wordcloud in /opt/conda/lib/python3.10/site-packages (1.8.2.2)\n",
      "Requirement already satisfied: arabica in /opt/conda/lib/python3.10/site-packages (1.7.6)\n",
      "Requirement already satisfied: awswrangler in /opt/conda/lib/python3.10/site-packages (3.4.2)\n",
      "Requirement already satisfied: numpy>=1.6.1 in /opt/conda/lib/python3.10/site-packages (from wordcloud) (1.26.0)\n",
      "Requirement already satisfied: pillow in /opt/conda/lib/python3.10/site-packages (from wordcloud) (9.4.0)\n",
      "Requirement already satisfied: matplotlib in /opt/conda/lib/python3.10/site-packages (from wordcloud) (3.6.0)\n",
      "Requirement already satisfied: pandas==1.4.0 in /opt/conda/lib/python3.10/site-packages (from arabica) (1.4.0)\n",
      "Requirement already satisfied: nltk==3.6.2 in /opt/conda/lib/python3.10/site-packages (from arabica) (3.6.2)\n",
      "Requirement already satisfied: regex==2022.10.31 in /opt/conda/lib/python3.10/site-packages (from arabica) (2022.10.31)\n",
      "Requirement already satisfied: finvader in /opt/conda/lib/python3.10/site-packages (from arabica) (1.0.4)\n",
      "Requirement already satisfied: matplotlib-inline==0.1.6 in /opt/conda/lib/python3.10/site-packages (from arabica) (0.1.6)\n",
      "Requirement already satisfied: plotnine==0.10.1 in /opt/conda/lib/python3.10/site-packages (from arabica) (0.10.1)\n",
      "Requirement already satisfied: jenkspy==0.3.2 in /opt/conda/lib/python3.10/site-packages (from arabica) (0.3.2)\n",
      "Requirement already satisfied: vaderSentiment==3.3.2 in /opt/conda/lib/python3.10/site-packages (from arabica) (3.3.2)\n",
      "Requirement already satisfied: cleantext==1.1.4 in /opt/conda/lib/python3.10/site-packages (from arabica) (1.1.4)\n",
      "Requirement already satisfied: mizani==0.9.2 in /opt/conda/lib/python3.10/site-packages (from arabica) (0.9.2)\n",
      "Requirement already satisfied: contourpy>=1.0.1 in /opt/conda/lib/python3.10/site-packages (from matplotlib->wordcloud) (1.1.1)\n",
      "Requirement already satisfied: cycler>=0.10 in /opt/conda/lib/python3.10/site-packages (from matplotlib->wordcloud) (0.11.0)\n",
      "Requirement already satisfied: fonttools>=4.22.0 in /opt/conda/lib/python3.10/site-packages (from matplotlib->wordcloud) (4.25.0)\n",
      "Requirement already satisfied: kiwisolver>=1.0.1 in /opt/conda/lib/python3.10/site-packages (from matplotlib->wordcloud) (1.4.2)\n",
      "Requirement already satisfied: packaging>=20.0 in /opt/conda/lib/python3.10/site-packages (from matplotlib->wordcloud) (21.3)\n",
      "Requirement already satisfied: pyparsing>=2.2.1 in /opt/conda/lib/python3.10/site-packages (from matplotlib->wordcloud) (3.0.9)\n",
      "Requirement already satisfied: python-dateutil>=2.7 in /opt/conda/lib/python3.10/site-packages (from matplotlib->wordcloud) (2.8.2)\n",
      "Requirement already satisfied: traitlets in /opt/conda/lib/python3.10/site-packages (from matplotlib-inline==0.1.6->arabica) (5.11.2)\n",
      "Requirement already satisfied: scipy>=1.5.0 in /opt/conda/lib/python3.10/site-packages (from mizani==0.9.2->arabica) (1.11.3)\n",
      "Requirement already satisfied: click in /opt/conda/lib/python3.10/site-packages (from nltk==3.6.2->arabica) (8.1.7)\n",
      "Requirement already satisfied: joblib in /opt/conda/lib/python3.10/site-packages (from nltk==3.6.2->arabica) (1.3.2)\n",
      "Requirement already satisfied: tqdm in /opt/conda/lib/python3.10/site-packages (from nltk==3.6.2->arabica) (4.64.1)\n",
      "Requirement already satisfied: pytz>=2020.1 in /opt/conda/lib/python3.10/site-packages (from pandas==1.4.0->arabica) (2022.1)\n",
      "Requirement already satisfied: patsy>=0.5.1 in /opt/conda/lib/python3.10/site-packages (from plotnine==0.10.1->arabica) (0.5.2)\n",
      "Requirement already satisfied: statsmodels>=0.13.2 in /opt/conda/lib/python3.10/site-packages (from plotnine==0.10.1->arabica) (0.13.2)\n",
      "Requirement already satisfied: requests in /opt/conda/lib/python3.10/site-packages (from vaderSentiment==3.3.2->arabica) (2.31.0)\n",
      "Requirement already satisfied: boto3<2.0.0,>=1.20.32 in /opt/conda/lib/python3.10/site-packages (from awswrangler) (1.28.63)\n",
      "Requirement already satisfied: botocore<2.0.0,>=1.23.32 in /opt/conda/lib/python3.10/site-packages (from awswrangler) (1.31.63)\n",
      "Requirement already satisfied: pyarrow>=7.0.0 in /opt/conda/lib/python3.10/site-packages (from awswrangler) (13.0.0)\n",
      "Requirement already satisfied: typing-extensions<5.0.0,>=4.4.0 in /opt/conda/lib/python3.10/site-packages (from awswrangler) (4.9.0)\n",
      "Requirement already satisfied: jmespath<2.0.0,>=0.7.1 in /opt/conda/lib/python3.10/site-packages (from boto3<2.0.0,>=1.20.32->awswrangler) (0.10.0)\n",
      "Requirement already satisfied: s3transfer<0.8.0,>=0.7.0 in /opt/conda/lib/python3.10/site-packages (from boto3<2.0.0,>=1.20.32->awswrangler) (0.7.0)\n",
      "Requirement already satisfied: urllib3<2.1,>=1.25.4 in /opt/conda/lib/python3.10/site-packages (from botocore<2.0.0,>=1.23.32->awswrangler) (2.0.6)\n",
      "Requirement already satisfied: six in /opt/conda/lib/python3.10/site-packages (from patsy>=0.5.1->plotnine==0.10.1->arabica) (1.16.0)\n",
      "Requirement already satisfied: charset-normalizer<4,>=2 in /opt/conda/lib/python3.10/site-packages (from requests->vaderSentiment==3.3.2->arabica) (2.0.4)\n",
      "Requirement already satisfied: idna<4,>=2.5 in /opt/conda/lib/python3.10/site-packages (from requests->vaderSentiment==3.3.2->arabica) (3.3)\n",
      "Requirement already satisfied: certifi>=2017.4.17 in /opt/conda/lib/python3.10/site-packages (from requests->vaderSentiment==3.3.2->arabica) (2023.7.22)\n",
      "\u001b[33mWARNING: Running pip as the 'root' user can result in broken permissions and conflicting behaviour with the system package manager. It is recommended to use a virtual environment instead: https://pip.pypa.io/warnings/venv\u001b[0m\u001b[33m\n",
      "\u001b[0m\u001b[33mWARNING: There was an error checking the latest version of pip.\u001b[0m\u001b[33m\n",
      "\u001b[0m"
     ]
    }
   ],
   "source": [
    "!pip install wordcloud arabica awswrangler"
   ]
  },
  {
   "cell_type": "code",
   "execution_count": 87,
   "id": "bb6ceba9-3a41-478e-a19f-3d28fe2069e3",
   "metadata": {
    "tags": []
   },
   "outputs": [],
   "source": [
    "import pandas as pd\n",
    "import numpy as np\n",
    "import os as os\n",
    "import statsmodels\n",
    "import pickle\n",
    "import seaborn as sns\n",
    "import matplotlib.pyplot as plt\n",
    "from wordcloud import WordCloud, STOPWORDS, ImageColorGenerator\n",
    "from nltk.util import ngrams\n",
    "import awswrangler as wr\n",
    "from datetime import date\n",
    "from arabica import arabica_freq\n",
    "import re\n",
    "import boto3"
   ]
  },
  {
   "cell_type": "code",
   "execution_count": 4,
   "id": "f0a56ab5-78a5-47ed-84ef-eccd6d878b81",
   "metadata": {
    "tags": []
   },
   "outputs": [],
   "source": [
    "def query(query, username):\n",
    "    \"\"\"Retorna df da consulta ao banco de dados\"\"\"\n",
    "    \n",
    "    from datetime import datetime\n",
    "    dt = datetime.today().strftime('%Y-%m-%d-%H-%M-%S-%f')\n",
    "    path = f\"s3://will-sdx-ml-platform-sagemaker-transient/{username}/{dt}\"\n",
    "\n",
    "    df = wr.athena.read_sql_query(query, \n",
    "    database=None, \n",
    "    ctas_approach=False, \n",
    "    s3_output=path)\n",
    "\n",
    "    return df \n",
    "\n",
    "#boto3_session = boto3.Session(region_name='sa-east-1')"
   ]
  },
  {
   "cell_type": "code",
   "execution_count": 47,
   "id": "8435319f-5418-4560-8a09-11b6c129106d",
   "metadata": {
    "tags": []
   },
   "outputs": [],
   "source": [
    "nr_amostra = 100000\n",
    "dias_base = -365 #12 meses pra trás\n",
    "hierarquia = \"hierarquia_4\"\n",
    "data_atual = str(date.today())"
   ]
  },
  {
   "cell_type": "code",
   "execution_count": 82,
   "id": "69cd843e-7620-43d0-ab12-623f9bd3d4fa",
   "metadata": {
    "tags": []
   },
   "outputs": [],
   "source": [
    "query_string = f\"\"\"\n",
    "    \n",
    "    select * from (\n",
    "    select \n",
    "        msg.id_issue\n",
    "        , row_number() over (partition by novas_tags.hierarquia_4 order by rand()) as rank_grupo\n",
    "        , msg.dt_envio_mensagem\n",
    "        , nm_entidade\n",
    "        , msg.ds_message\n",
    "        , novas_tags.hierarquia_4\n",
    "        , novas_tags.fila_de_atendimento\n",
    "        , i.is_resolvido_bot\n",
    "        , case \n",
    "        when  nm_tag_n3 in (\n",
    "                    'w3 - nao recebeu token sms acesso'\n",
    "                    ,'w3 - nao recebeu token email acesso'\n",
    "                    ,'w3 - nao recebe token 3ds'\n",
    "                    ,'w3 - problema envio de notificacao indevida'\n",
    "                    ,'w3 - pedido de exclusao de push email marketing'                   \n",
    "                    ,'w3 - falha envio comunicacao logistica') then 'grupo1'\n",
    "        when  nm_tag_n3 in (\n",
    "                    'w3 - como acessar extrato ou saldo'\n",
    "                    ,'w3 - como fazer pix com o credito'\n",
    "                    ,'n3 - open banking'\n",
    "                    ) then 'grupo2' else '' end as hierarquia_tag\n",
    "        , case \n",
    "            when trim(novas_tags.hierarquia_3) in ('Aquisição', 'Aprovação') then 'Aquisição'\n",
    "            when trim(novas_tags.hierarquia_3) in ('Diversificação', 'Marketplace','Product Marketing', 'Crédito Pessoal', 'FGTS') then 'Novos produtos ou campanhas'\n",
    "            when trim(novas_tags.hierarquia_3) in ('Cash In - Pix', 'Cash Out - Pix') then 'Pix'\n",
    "            when trim(novas_tags.hierarquia_3) in ('Conta', 'Conta Will','Account','Cash In','Cash Out','Cash In - Growth','Cash Out - Monetization') then 'Conta'\n",
    "            when trim(novas_tags.hierarquia_3) in ('Atendimento', 'Bot') then 'Atendimento'\n",
    "            when lower(novas_tags.fila_de_atendimento) = 'pagamento' then 'Pagamento'\n",
    "            when lower(novas_tags.fila_de_atendimento) = 'cobrança' then 'Acordos'\n",
    "        else novas_tags.hierarquia_3 \n",
    "        end as hierarquia_analise\n",
    "    from \n",
    "        cx_curated_zone.helpshift_issues_messages msg\n",
    "    left join cx_curated_zone.helpshift_tag_niveis AS helpshift_tag \n",
    "        on msg.id_issue = helpshift_tag.id_issue\n",
    "    left join processed_zone_api_cxm_tags.tags_hierarquia_gerencial as novas_tags \n",
    "        on trim(lower(n3)) = trim(lower(nm_tag_n3))\n",
    "    left join  cx_curated_zone.helpshift_issues i\n",
    "     \ton i.id_issue = helpshift_tag.id_issue\n",
    "    where \n",
    "        ds_entidade = 'cliente'\n",
    "        and dt_envio_mensagem >= date_trunc('month', date_add('day', {dias_base},now()))\n",
    "        and lower(ds_message) <> 'screenshot sent'\n",
    "        and lower(ds_message) <> 'ok'\n",
    "        and lower(ds_message) <> 'outros assuntos'\n",
    "        and lower(ds_message) <> 'não, ainda tenho dúvidas'\n",
    "        and lower(ds_message) <> 'obrigado'\n",
    "        and lower(ds_message) <> 'obrigada'\n",
    "        and lower(ds_message) <> 'quero falar de outra coisa'\n",
    "        and lower(ds_message) <> 'quero falar com atendimento'\n",
    "        and lower(ds_message) <> 'quero falar com atendente'\n",
    "        and lower(ds_message) <> 'nenhuma das opções'\n",
    "        and lower(ds_message) <> 'certo'\n",
    "        and lower(ds_message) <> 'responde'\n",
    "        and lower(ds_message) <> 'falar com atendente'\n",
    "        and lower(ds_message) <> 'é outra coisa'\n",
    "        and lower(ds_message) <> 'nenhuma dessas'\n",
    "        and lower(ds_message) <> 'sim'\n",
    "        and lower(ds_message) <> 'não'\n",
    "        and lower(ds_message) <> 'nao'\n",
    "        and lower(ds_message) <> 'oi'\n",
    "        and lower(ds_message) <> '?'\n",
    "        and lower(ds_message) <> '??'\n",
    "        and lower(ds_message) <> 'bom dia'\n",
    "        and lower(ds_message) <> 'boa tarde'\n",
    "        and lower(ds_message) <> 'boa noite'\n",
    "        )\n",
    "    --order by rand() desc\n",
    "    where rank_grupo <= 10000\n",
    "\n",
    "    \"\"\"\n",
    "\n",
    "#query_string = query_string + \"limit \" + str(nr_amostra)"
   ]
  },
  {
   "cell_type": "code",
   "execution_count": 83,
   "id": "cf268abd-10d2-41d1-9078-6658767ea9e3",
   "metadata": {
    "tags": []
   },
   "outputs": [],
   "source": [
    "df = query(query_string, 'flavia-costa')"
   ]
  },
  {
   "cell_type": "code",
   "execution_count": 84,
   "id": "15f8ba74-0ed3-4b4c-a58b-a3628febc3c2",
   "metadata": {
    "tags": []
   },
   "outputs": [
    {
     "data": {
      "text/plain": [
       "893148"
      ]
     },
     "execution_count": 84,
     "metadata": {},
     "output_type": "execute_result"
    }
   ],
   "source": [
    "len(df)"
   ]
  },
  {
   "cell_type": "code",
   "execution_count": 94,
   "id": "d90b5675-5cc5-404c-ac1c-f62bdd708508",
   "metadata": {
    "tags": []
   },
   "outputs": [
    {
     "data": {
      "text/plain": [
       "Problema no recebimento do cartão        10000\n",
       "Informações sobre fatura                 10000\n",
       "Gestão de Saque                          10000\n",
       "Não entendimento fatura                  10000\n",
       " Falha no willbert                       10000\n",
       "                                         ...  \n",
       "Novos Parceiros                             18\n",
       "Problemas na identificação do cliente       15\n",
       "Testes e Novos Produtos                     10\n",
       "Caderninho                                   4\n",
       "Dúvidas PIX Parcelado                        3\n",
       "Name: hierarquia_4, Length: 107, dtype: Int64"
      ]
     },
     "execution_count": 94,
     "metadata": {},
     "output_type": "execute_result"
    }
   ],
   "source": [
    "df.hierarquia_4.value_counts()"
   ]
  },
  {
   "cell_type": "code",
   "execution_count": 95,
   "id": "5fce00e7-fd27-4976-b1e3-66841780ba0a",
   "metadata": {
    "tags": []
   },
   "outputs": [
    {
     "data": {
      "text/plain": [
       "Index(['id_issue', 'rank_grupo', 'dt_envio_mensagem', 'nm_entidade',\n",
       "       'ds_message', 'hierarquia_4', 'fila_de_atendimento', 'is_resolvido_bot',\n",
       "       'hierarquia_tag', 'hierarquia_analise'],\n",
       "      dtype='object')"
      ]
     },
     "execution_count": 95,
     "metadata": {},
     "output_type": "execute_result"
    }
   ],
   "source": [
    "df.columns"
   ]
  },
  {
   "cell_type": "code",
   "execution_count": 96,
   "id": "7c718d2b-c9ef-4dee-abe1-eb54c7768834",
   "metadata": {},
   "outputs": [],
   "source": [
    "df['is_resolvido_bot'].fillna(0, inplace = True)"
   ]
  },
  {
   "cell_type": "code",
   "execution_count": 97,
   "id": "25b8b6e9-b7c6-4272-8fe9-8ab9f704c72e",
   "metadata": {},
   "outputs": [],
   "source": [
    "df[\"ds_message_tratada\"] = df[\"ds_message\"].replace(r\"[0-9]\", \" \", regex=True)\n",
    "df[\"ds_message_tratada\"] = df[\"ds_message_tratada\"].replace(\"\\t\", \" \", regex=False)\n",
    "df[\"ds_message_tratada\"] = df[\"ds_message_tratada\"].replace(\"\\n\", \" \", regex=False)\n",
    "df[\"ds_message_tratada\"] = df[\"ds_message_tratada\"].replace(\" \", \"\", regex=False)\n",
    "    \n",
    "df_clean = (\n",
    "        df.query('ds_message_tratada != \" \"')\n",
    "        .query('ds_message_tratada != \"  \"')\n",
    "        .query('ds_message_tratada != \"\"')\n",
    "        .query('ds_message_tratada != \"   \"')\n",
    "        .query(f\"{hierarquia}.notnull()\")\n",
    "    )"
   ]
  },
  {
   "cell_type": "code",
   "execution_count": 98,
   "id": "25109940-d2d2-4752-9407-6a1accb02101",
   "metadata": {
    "tags": []
   },
   "outputs": [
    {
     "data": {
      "text/plain": [
       "0    808579\n",
       "1     84569\n",
       "Name: is_resolvido_bot, dtype: Int64"
      ]
     },
     "execution_count": 98,
     "metadata": {},
     "output_type": "execute_result"
    }
   ],
   "source": [
    "df.is_resolvido_bot.value_counts()"
   ]
  },
  {
   "cell_type": "code",
   "execution_count": 99,
   "id": "c080cd6e-db0a-4a1e-8673-f18553d7bc39",
   "metadata": {},
   "outputs": [],
   "source": [
    "################## df clean para resolvidos pelo Bot sim ou não ########################\n",
    "df_clean_bot = df_clean[df_clean[\"is_resolvido_bot\"] == 1]\n",
    "df_clean_transbordo = df_clean[df_clean[\"is_resolvido_bot\"] == 0]"
   ]
  },
  {
   "cell_type": "code",
   "execution_count": 100,
   "id": "6c429dfd-131c-4d80-b828-8c0d05ee5cf9",
   "metadata": {},
   "outputs": [
    {
     "name": "stdout",
     "output_type": "stream",
     "text": [
      "Initiating Loop Bot\n"
     ]
    }
   ],
   "source": [
    "print(\"Initiating Loop Bot\")"
   ]
  },
  {
   "cell_type": "code",
   "execution_count": 101,
   "id": "92a5e36c-f106-4470-9a2c-b87f085c628b",
   "metadata": {
    "tags": []
   },
   "outputs": [
    {
     "name": "stderr",
     "output_type": "stream",
     "text": [
      "/opt/conda/lib/python3.10/site-packages/arabica/arabica_freq.py:75: FutureWarning: Inferring datetime64[ns] from data containing strings is deprecated and will be removed in a future version. To retain the old behavior explicitly pass Series(data, dtype=datetime64[ns])\n",
      "/tmp/ipykernel_105/602778025.py:74: FutureWarning: The frame.append method is deprecated and will be removed from pandas in a future version. Use pandas.concat instead.\n",
      "/opt/conda/lib/python3.10/site-packages/arabica/arabica_freq.py:75: FutureWarning: Inferring datetime64[ns] from data containing strings is deprecated and will be removed in a future version. To retain the old behavior explicitly pass Series(data, dtype=datetime64[ns])\n",
      "/opt/conda/lib/python3.10/site-packages/arabica/arabica_freq.py:75: FutureWarning: Inferring datetime64[ns] from data containing strings is deprecated and will be removed in a future version. To retain the old behavior explicitly pass Series(data, dtype=datetime64[ns])\n",
      "/opt/conda/lib/python3.10/site-packages/arabica/arabica_freq.py:75: FutureWarning: Inferring datetime64[ns] from data containing strings is deprecated and will be removed in a future version. To retain the old behavior explicitly pass Series(data, dtype=datetime64[ns])\n",
      "/opt/conda/lib/python3.10/site-packages/arabica/arabica_freq.py:75: FutureWarning: Inferring datetime64[ns] from data containing strings is deprecated and will be removed in a future version. To retain the old behavior explicitly pass Series(data, dtype=datetime64[ns])\n",
      "/tmp/ipykernel_105/602778025.py:74: FutureWarning: The frame.append method is deprecated and will be removed from pandas in a future version. Use pandas.concat instead.\n",
      "/opt/conda/lib/python3.10/site-packages/arabica/arabica_freq.py:75: FutureWarning: Inferring datetime64[ns] from data containing strings is deprecated and will be removed in a future version. To retain the old behavior explicitly pass Series(data, dtype=datetime64[ns])\n",
      "/opt/conda/lib/python3.10/site-packages/arabica/arabica_freq.py:75: FutureWarning: Inferring datetime64[ns] from data containing strings is deprecated and will be removed in a future version. To retain the old behavior explicitly pass Series(data, dtype=datetime64[ns])\n",
      "/opt/conda/lib/python3.10/site-packages/arabica/arabica_freq.py:75: FutureWarning: Inferring datetime64[ns] from data containing strings is deprecated and will be removed in a future version. To retain the old behavior explicitly pass Series(data, dtype=datetime64[ns])\n",
      "/opt/conda/lib/python3.10/site-packages/arabica/arabica_freq.py:75: FutureWarning: Inferring datetime64[ns] from data containing strings is deprecated and will be removed in a future version. To retain the old behavior explicitly pass Series(data, dtype=datetime64[ns])\n",
      "/opt/conda/lib/python3.10/site-packages/arabica/arabica_freq.py:75: FutureWarning: Inferring datetime64[ns] from data containing strings is deprecated and will be removed in a future version. To retain the old behavior explicitly pass Series(data, dtype=datetime64[ns])\n",
      "/opt/conda/lib/python3.10/site-packages/arabica/arabica_freq.py:75: FutureWarning: Inferring datetime64[ns] from data containing strings is deprecated and will be removed in a future version. To retain the old behavior explicitly pass Series(data, dtype=datetime64[ns])\n",
      "/opt/conda/lib/python3.10/site-packages/arabica/arabica_freq.py:75: FutureWarning: Inferring datetime64[ns] from data containing strings is deprecated and will be removed in a future version. To retain the old behavior explicitly pass Series(data, dtype=datetime64[ns])\n",
      "/opt/conda/lib/python3.10/site-packages/arabica/arabica_freq.py:75: FutureWarning: Inferring datetime64[ns] from data containing strings is deprecated and will be removed in a future version. To retain the old behavior explicitly pass Series(data, dtype=datetime64[ns])\n",
      "/opt/conda/lib/python3.10/site-packages/arabica/arabica_freq.py:75: FutureWarning: Inferring datetime64[ns] from data containing strings is deprecated and will be removed in a future version. To retain the old behavior explicitly pass Series(data, dtype=datetime64[ns])\n",
      "Exception ignored in: <function _S3ObjectBase.__del__ at 0x7fe6a1af93f0>\n",
      "Traceback (most recent call last):\n",
      "  File \"/opt/conda/lib/python3.10/site-packages/awswrangler/s3/_fs.py\", line 245, in __del__\n",
      "    self.close()\n",
      "  File \"/opt/conda/lib/python3.10/site-packages/awswrangler/s3/_fs.py\", line 475, in close\n",
      "    _utils.try_it(\n",
      "  File \"/opt/conda/lib/python3.10/site-packages/awswrangler/_utils.py\", line 822, in try_it\n",
      "    return f(*args, **kwargs)\n",
      "  File \"/opt/conda/lib/python3.10/site-packages/botocore/client.py\", line 535, in _api_call\n",
      "    return self._make_api_call(operation_name, kwargs)\n",
      "  File \"/opt/conda/lib/python3.10/site-packages/botocore/client.py\", line 980, in _make_api_call\n",
      "    raise error_class(parsed_response, operation_name)\n",
      "botocore.exceptions.ClientError: An error occurred (AccessDenied) when calling the PutObject operation: Access Denied\n",
      "/opt/conda/lib/python3.10/site-packages/arabica/arabica_freq.py:75: FutureWarning: Inferring datetime64[ns] from data containing strings is deprecated and will be removed in a future version. To retain the old behavior explicitly pass Series(data, dtype=datetime64[ns])\n",
      "/opt/conda/lib/python3.10/site-packages/arabica/arabica_freq.py:75: FutureWarning: Inferring datetime64[ns] from data containing strings is deprecated and will be removed in a future version. To retain the old behavior explicitly pass Series(data, dtype=datetime64[ns])\n",
      "/tmp/ipykernel_105/602778025.py:74: FutureWarning: The frame.append method is deprecated and will be removed from pandas in a future version. Use pandas.concat instead.\n",
      "/opt/conda/lib/python3.10/site-packages/arabica/arabica_freq.py:75: FutureWarning: Inferring datetime64[ns] from data containing strings is deprecated and will be removed in a future version. To retain the old behavior explicitly pass Series(data, dtype=datetime64[ns])\n",
      "/opt/conda/lib/python3.10/site-packages/arabica/arabica_freq.py:75: FutureWarning: Inferring datetime64[ns] from data containing strings is deprecated and will be removed in a future version. To retain the old behavior explicitly pass Series(data, dtype=datetime64[ns])\n",
      "/opt/conda/lib/python3.10/site-packages/arabica/arabica_freq.py:75: FutureWarning: Inferring datetime64[ns] from data containing strings is deprecated and will be removed in a future version. To retain the old behavior explicitly pass Series(data, dtype=datetime64[ns])\n",
      "/opt/conda/lib/python3.10/site-packages/arabica/arabica_freq.py:75: FutureWarning: Inferring datetime64[ns] from data containing strings is deprecated and will be removed in a future version. To retain the old behavior explicitly pass Series(data, dtype=datetime64[ns])\n",
      "/opt/conda/lib/python3.10/site-packages/arabica/arabica_freq.py:75: FutureWarning: Inferring datetime64[ns] from data containing strings is deprecated and will be removed in a future version. To retain the old behavior explicitly pass Series(data, dtype=datetime64[ns])\n",
      "/opt/conda/lib/python3.10/site-packages/arabica/arabica_freq.py:75: FutureWarning: Inferring datetime64[ns] from data containing strings is deprecated and will be removed in a future version. To retain the old behavior explicitly pass Series(data, dtype=datetime64[ns])\n",
      "/opt/conda/lib/python3.10/site-packages/arabica/arabica_freq.py:75: FutureWarning: Inferring datetime64[ns] from data containing strings is deprecated and will be removed in a future version. To retain the old behavior explicitly pass Series(data, dtype=datetime64[ns])\n",
      "/opt/conda/lib/python3.10/site-packages/arabica/arabica_freq.py:75: FutureWarning: Inferring datetime64[ns] from data containing strings is deprecated and will be removed in a future version. To retain the old behavior explicitly pass Series(data, dtype=datetime64[ns])\n",
      "/opt/conda/lib/python3.10/site-packages/arabica/arabica_freq.py:75: FutureWarning: Inferring datetime64[ns] from data containing strings is deprecated and will be removed in a future version. To retain the old behavior explicitly pass Series(data, dtype=datetime64[ns])\n",
      "/opt/conda/lib/python3.10/site-packages/arabica/arabica_freq.py:75: FutureWarning: Inferring datetime64[ns] from data containing strings is deprecated and will be removed in a future version. To retain the old behavior explicitly pass Series(data, dtype=datetime64[ns])\n",
      "/opt/conda/lib/python3.10/site-packages/arabica/arabica_freq.py:75: FutureWarning: Inferring datetime64[ns] from data containing strings is deprecated and will be removed in a future version. To retain the old behavior explicitly pass Series(data, dtype=datetime64[ns])\n",
      "/opt/conda/lib/python3.10/site-packages/arabica/arabica_freq.py:75: FutureWarning: Inferring datetime64[ns] from data containing strings is deprecated and will be removed in a future version. To retain the old behavior explicitly pass Series(data, dtype=datetime64[ns])\n",
      "/opt/conda/lib/python3.10/site-packages/arabica/arabica_freq.py:75: FutureWarning: Inferring datetime64[ns] from data containing strings is deprecated and will be removed in a future version. To retain the old behavior explicitly pass Series(data, dtype=datetime64[ns])\n",
      "/tmp/ipykernel_105/602778025.py:74: FutureWarning: The frame.append method is deprecated and will be removed from pandas in a future version. Use pandas.concat instead.\n",
      "/tmp/ipykernel_105/602778025.py:74: FutureWarning: The frame.append method is deprecated and will be removed from pandas in a future version. Use pandas.concat instead.\n",
      "/opt/conda/lib/python3.10/site-packages/arabica/arabica_freq.py:75: FutureWarning: Inferring datetime64[ns] from data containing strings is deprecated and will be removed in a future version. To retain the old behavior explicitly pass Series(data, dtype=datetime64[ns])\n",
      "/tmp/ipykernel_105/602778025.py:74: FutureWarning: The frame.append method is deprecated and will be removed from pandas in a future version. Use pandas.concat instead.\n",
      "/opt/conda/lib/python3.10/site-packages/arabica/arabica_freq.py:75: FutureWarning: Inferring datetime64[ns] from data containing strings is deprecated and will be removed in a future version. To retain the old behavior explicitly pass Series(data, dtype=datetime64[ns])\n",
      "/opt/conda/lib/python3.10/site-packages/arabica/arabica_freq.py:75: FutureWarning: Inferring datetime64[ns] from data containing strings is deprecated and will be removed in a future version. To retain the old behavior explicitly pass Series(data, dtype=datetime64[ns])\n",
      "/opt/conda/lib/python3.10/site-packages/arabica/arabica_freq.py:75: FutureWarning: Inferring datetime64[ns] from data containing strings is deprecated and will be removed in a future version. To retain the old behavior explicitly pass Series(data, dtype=datetime64[ns])\n",
      "/opt/conda/lib/python3.10/site-packages/arabica/arabica_freq.py:75: FutureWarning: Inferring datetime64[ns] from data containing strings is deprecated and will be removed in a future version. To retain the old behavior explicitly pass Series(data, dtype=datetime64[ns])\n",
      "/opt/conda/lib/python3.10/site-packages/arabica/arabica_freq.py:75: FutureWarning: Inferring datetime64[ns] from data containing strings is deprecated and will be removed in a future version. To retain the old behavior explicitly pass Series(data, dtype=datetime64[ns])\n",
      "/opt/conda/lib/python3.10/site-packages/arabica/arabica_freq.py:75: FutureWarning: Inferring datetime64[ns] from data containing strings is deprecated and will be removed in a future version. To retain the old behavior explicitly pass Series(data, dtype=datetime64[ns])\n",
      "/opt/conda/lib/python3.10/site-packages/arabica/arabica_freq.py:75: FutureWarning: Inferring datetime64[ns] from data containing strings is deprecated and will be removed in a future version. To retain the old behavior explicitly pass Series(data, dtype=datetime64[ns])\n",
      "/opt/conda/lib/python3.10/site-packages/arabica/arabica_freq.py:75: FutureWarning: Inferring datetime64[ns] from data containing strings is deprecated and will be removed in a future version. To retain the old behavior explicitly pass Series(data, dtype=datetime64[ns])\n",
      "/opt/conda/lib/python3.10/site-packages/arabica/arabica_freq.py:75: FutureWarning: Inferring datetime64[ns] from data containing strings is deprecated and will be removed in a future version. To retain the old behavior explicitly pass Series(data, dtype=datetime64[ns])\n",
      "/tmp/ipykernel_105/602778025.py:74: FutureWarning: The frame.append method is deprecated and will be removed from pandas in a future version. Use pandas.concat instead.\n",
      "/opt/conda/lib/python3.10/site-packages/arabica/arabica_freq.py:75: FutureWarning: Inferring datetime64[ns] from data containing strings is deprecated and will be removed in a future version. To retain the old behavior explicitly pass Series(data, dtype=datetime64[ns])\n",
      "/tmp/ipykernel_105/602778025.py:74: FutureWarning: The frame.append method is deprecated and will be removed from pandas in a future version. Use pandas.concat instead.\n",
      "/opt/conda/lib/python3.10/site-packages/arabica/arabica_freq.py:75: FutureWarning: Inferring datetime64[ns] from data containing strings is deprecated and will be removed in a future version. To retain the old behavior explicitly pass Series(data, dtype=datetime64[ns])\n",
      "/opt/conda/lib/python3.10/site-packages/arabica/arabica_freq.py:75: FutureWarning: Inferring datetime64[ns] from data containing strings is deprecated and will be removed in a future version. To retain the old behavior explicitly pass Series(data, dtype=datetime64[ns])\n",
      "/opt/conda/lib/python3.10/site-packages/arabica/arabica_freq.py:75: FutureWarning: Inferring datetime64[ns] from data containing strings is deprecated and will be removed in a future version. To retain the old behavior explicitly pass Series(data, dtype=datetime64[ns])\n",
      "/tmp/ipykernel_105/602778025.py:74: FutureWarning: The frame.append method is deprecated and will be removed from pandas in a future version. Use pandas.concat instead.\n",
      "/opt/conda/lib/python3.10/site-packages/arabica/arabica_freq.py:75: FutureWarning: Inferring datetime64[ns] from data containing strings is deprecated and will be removed in a future version. To retain the old behavior explicitly pass Series(data, dtype=datetime64[ns])\n",
      "/tmp/ipykernel_105/602778025.py:74: FutureWarning: The frame.append method is deprecated and will be removed from pandas in a future version. Use pandas.concat instead.\n",
      "/opt/conda/lib/python3.10/site-packages/arabica/arabica_freq.py:75: FutureWarning: Inferring datetime64[ns] from data containing strings is deprecated and will be removed in a future version. To retain the old behavior explicitly pass Series(data, dtype=datetime64[ns])\n"
     ]
    }
   ],
   "source": [
    "df_trigram_bot = pd.DataFrame()\n",
    "\n",
    "for i in df_clean_bot[hierarquia].unique():\n",
    "    try:\n",
    "        df_assunto = df_clean_bot[df_clean_bot[hierarquia] == i]           \n",
    "        df_agg_tmp = arabica_freq(\n",
    "            text=df_assunto[\"ds_message_tratada\"],\n",
    "            time=df_assunto[\"dt_envio_mensagem\"],\n",
    "            time_freq=\"W\",\n",
    "            max_words=3,\n",
    "            date_format = 'eur',\n",
    "            stopwords=[\"portuguese\"],\n",
    "            skip=[],\n",
    "            numbers=True,\n",
    "            #punct=True,\n",
    "            lower_case=True,\n",
    "        )\n",
    "        #print('spliting terms')\n",
    "        df_agg_tmp[\"termo1\"] = df_agg_tmp[\"trigram\"].str.split(\":\").str[0]\n",
    "        df_agg_tmp[\"termo2\"] = df_agg_tmp[\"trigram\"].str.split(\":\").str[1]\n",
    "        df_agg_tmp[\"termo3\"] = df_agg_tmp[\"trigram\"].str.split(\":\").str[2]\n",
    "        df_agg_tmp[\"freq_termo3\"] = df_agg_tmp[\"trigram\"].str.split(\":\").str[3]\n",
    "        regex = r\"(\\d+),\"\n",
    "        df_agg_tmp[\"freq_termo1\"] = (\n",
    "            df_agg_tmp[\"termo2\"]\n",
    "            .apply(lambda x: re.sub(regex, r\"\\1-\", x)).astype(\"str\")\n",
    "            .str.split(\"-\")\n",
    "            .str[0]\n",
    "        )\n",
    "        df_agg_tmp[\"termo2\"] = (\n",
    "            df_agg_tmp[\"termo2\"]\n",
    "            .apply(lambda x: re.sub(regex, r\"\\1-\", x)).astype(\"str\")\n",
    "            .str.split(\"-\")\n",
    "            .str[1]\n",
    "        )\n",
    "        df_agg_tmp[\"freq_termo2\"] = (\n",
    "            df_agg_tmp[\"termo3\"]\n",
    "            .apply(lambda x: re.sub(regex, r\"\\1-\", x)).astype(\"str\")\n",
    "            .str.split(\"-\")\n",
    "            .str[0]\n",
    "        )\n",
    "        df_agg_tmp[\"termo3\"] = (\n",
    "            df_agg_tmp[\"termo3\"]\n",
    "            .apply(lambda x: re.sub(regex, r\"\\1-\", x)).astype(\"str\")\n",
    "            .str.split(\"-\")\n",
    "            .str[1]\n",
    "        )\n",
    "        df_agg_tmp_m = df_agg_tmp.melt(\n",
    "            id_vars=[\"period\"],\n",
    "            value_vars=[\"termo1\", \"termo2\", \"termo3\"],\n",
    "            var_name=\"ranking\",\n",
    "            value_name=\"descricao\",\n",
    "        ).join(\n",
    "            df_agg_tmp.melt(\n",
    "                id_vars=[\"period\"],\n",
    "                value_vars=[\n",
    "                    \"freq_termo1\",\n",
    "                    \"freq_termo2\",\n",
    "                    \"freq_termo3\"\n",
    "                ],\n",
    "                var_name=\"freq\",\n",
    "                value_name=\"frequencia\",\n",
    "            )[[\"frequencia\"]]\n",
    "        )\n",
    "        df_agg_tmp_m[\"period\"] = df_agg_tmp_m[\"period\"].astype(\"string\")\n",
    "        df_agg_tmp_m[\"frequencia\"] = df_agg_tmp_m[\"frequencia\"].astype(\"int\")\n",
    "        df_agg_tmp_m = df_agg_tmp_m[['period','descricao', 'frequencia']]\n",
    "        df_agg_tmp_m = df_agg_tmp_m.sort_values(by = ['period', 'frequencia'], ascending = False)\n",
    "        df_agg_tmp_m['Tema'] = i\n",
    "        df_agg_tmp_m = df_agg_tmp_m\n",
    "        j = i.replace(\" \", \"\")\n",
    "        j = j.replace(\"/\", \"_\")\n",
    "        df_agg_tmp_m['rank'] = df_agg_tmp_m['frequencia'].rank(na_option='bottom', ascending=False)\n",
    "        df_trigram_bot = df_trigram_bot.append(df_agg_tmp_m)\n",
    "\n",
    "    except (IndexError, ValueError, TypeError):\n",
    "        pass\n",
    "    \n",
    "agg_bot = df_trigram_bot[['descricao', 'period']].drop_duplicates().groupby('descricao').agg({'period':['count']})\n",
    "agg_bot.columns = agg_bot.columns.droplevel(0)\n",
    "agg_bot = agg_bot.reset_index()\n",
    "df_trigram_bot = df_trigram_bot.join(agg_bot.set_index('descricao'), on = 'descricao', how = 'left' )\n",
    "df_trigram_bot = df_trigram_bot.rename(columns={'count':'count_dias', 'descricao':'trigram', 'period':'dt_week_issue', 'Tema':hierarquia})\n",
    "df_trigram_bot['dt_processing'] = data_atual \n",
    "df_trigram_bot['is_resolvido_bot'] = 1"
   ]
  },
  {
   "cell_type": "code",
   "execution_count": 102,
   "id": "3faaf466-817d-4f59-be37-b554571eac62",
   "metadata": {
    "tags": []
   },
   "outputs": [
    {
     "name": "stdout",
     "output_type": "stream",
     "text": [
      "Initiating Loop Transbordo\n"
     ]
    }
   ],
   "source": [
    "############################## LOOP TRANSBORDO #########################################################\n",
    "print(\"Initiating Loop Transbordo\")"
   ]
  },
  {
   "cell_type": "code",
   "execution_count": null,
   "id": "030208b9-c09e-4d81-8a0e-e068d56b9a55",
   "metadata": {
    "tags": []
   },
   "outputs": [
    {
     "name": "stderr",
     "output_type": "stream",
     "text": [
      "/opt/conda/lib/python3.10/site-packages/arabica/arabica_freq.py:75: FutureWarning: Inferring datetime64[ns] from data containing strings is deprecated and will be removed in a future version. To retain the old behavior explicitly pass Series(data, dtype=datetime64[ns])\n",
      "/tmp/ipykernel_105/1740464949.py:73: FutureWarning: The frame.append method is deprecated and will be removed from pandas in a future version. Use pandas.concat instead.\n",
      "/opt/conda/lib/python3.10/site-packages/arabica/arabica_freq.py:75: FutureWarning: Inferring datetime64[ns] from data containing strings is deprecated and will be removed in a future version. To retain the old behavior explicitly pass Series(data, dtype=datetime64[ns])\n",
      "/tmp/ipykernel_105/1740464949.py:73: FutureWarning: The frame.append method is deprecated and will be removed from pandas in a future version. Use pandas.concat instead.\n",
      "/opt/conda/lib/python3.10/site-packages/arabica/arabica_freq.py:75: FutureWarning: Inferring datetime64[ns] from data containing strings is deprecated and will be removed in a future version. To retain the old behavior explicitly pass Series(data, dtype=datetime64[ns])\n",
      "/tmp/ipykernel_105/1740464949.py:73: FutureWarning: The frame.append method is deprecated and will be removed from pandas in a future version. Use pandas.concat instead.\n",
      "/opt/conda/lib/python3.10/site-packages/arabica/arabica_freq.py:75: FutureWarning: Inferring datetime64[ns] from data containing strings is deprecated and will be removed in a future version. To retain the old behavior explicitly pass Series(data, dtype=datetime64[ns])\n",
      "/tmp/ipykernel_105/1740464949.py:73: FutureWarning: The frame.append method is deprecated and will be removed from pandas in a future version. Use pandas.concat instead.\n",
      "/opt/conda/lib/python3.10/site-packages/arabica/arabica_freq.py:75: FutureWarning: Inferring datetime64[ns] from data containing strings is deprecated and will be removed in a future version. To retain the old behavior explicitly pass Series(data, dtype=datetime64[ns])\n",
      "/tmp/ipykernel_105/1740464949.py:73: FutureWarning: The frame.append method is deprecated and will be removed from pandas in a future version. Use pandas.concat instead.\n",
      "/opt/conda/lib/python3.10/site-packages/arabica/arabica_freq.py:75: FutureWarning: Inferring datetime64[ns] from data containing strings is deprecated and will be removed in a future version. To retain the old behavior explicitly pass Series(data, dtype=datetime64[ns])\n",
      "/tmp/ipykernel_105/1740464949.py:73: FutureWarning: The frame.append method is deprecated and will be removed from pandas in a future version. Use pandas.concat instead.\n",
      "/opt/conda/lib/python3.10/site-packages/arabica/arabica_freq.py:75: FutureWarning: Inferring datetime64[ns] from data containing strings is deprecated and will be removed in a future version. To retain the old behavior explicitly pass Series(data, dtype=datetime64[ns])\n",
      "/tmp/ipykernel_105/1740464949.py:73: FutureWarning: The frame.append method is deprecated and will be removed from pandas in a future version. Use pandas.concat instead.\n",
      "/opt/conda/lib/python3.10/site-packages/arabica/arabica_freq.py:75: FutureWarning: Inferring datetime64[ns] from data containing strings is deprecated and will be removed in a future version. To retain the old behavior explicitly pass Series(data, dtype=datetime64[ns])\n",
      "/tmp/ipykernel_105/1740464949.py:73: FutureWarning: The frame.append method is deprecated and will be removed from pandas in a future version. Use pandas.concat instead.\n",
      "/opt/conda/lib/python3.10/site-packages/arabica/arabica_freq.py:75: FutureWarning: Inferring datetime64[ns] from data containing strings is deprecated and will be removed in a future version. To retain the old behavior explicitly pass Series(data, dtype=datetime64[ns])\n",
      "/tmp/ipykernel_105/1740464949.py:73: FutureWarning: The frame.append method is deprecated and will be removed from pandas in a future version. Use pandas.concat instead.\n",
      "/opt/conda/lib/python3.10/site-packages/arabica/arabica_freq.py:75: FutureWarning: Inferring datetime64[ns] from data containing strings is deprecated and will be removed in a future version. To retain the old behavior explicitly pass Series(data, dtype=datetime64[ns])\n",
      "/tmp/ipykernel_105/1740464949.py:73: FutureWarning: The frame.append method is deprecated and will be removed from pandas in a future version. Use pandas.concat instead.\n",
      "/opt/conda/lib/python3.10/site-packages/arabica/arabica_freq.py:75: FutureWarning: Inferring datetime64[ns] from data containing strings is deprecated and will be removed in a future version. To retain the old behavior explicitly pass Series(data, dtype=datetime64[ns])\n",
      "/tmp/ipykernel_105/1740464949.py:73: FutureWarning: The frame.append method is deprecated and will be removed from pandas in a future version. Use pandas.concat instead.\n",
      "/opt/conda/lib/python3.10/site-packages/arabica/arabica_freq.py:75: FutureWarning: Inferring datetime64[ns] from data containing strings is deprecated and will be removed in a future version. To retain the old behavior explicitly pass Series(data, dtype=datetime64[ns])\n",
      "/tmp/ipykernel_105/1740464949.py:73: FutureWarning: The frame.append method is deprecated and will be removed from pandas in a future version. Use pandas.concat instead.\n"
     ]
    },
    {
     "ename": "KeyboardInterrupt",
     "evalue": "",
     "output_type": "error",
     "traceback": [
      "\u001b[0;31m---------------------------------------------------------------------------\u001b[0m",
      "\u001b[0;31mKeyboardInterrupt\u001b[0m                         Traceback (most recent call last)",
      "Cell \u001b[0;32mIn[103], line 6\u001b[0m\n\u001b[1;32m      4\u001b[0m \u001b[38;5;28;01mtry\u001b[39;00m:\n\u001b[1;32m      5\u001b[0m     df_assunto \u001b[38;5;241m=\u001b[39m df_clean_transbordo[df_clean_transbordo[hierarquia] \u001b[38;5;241m==\u001b[39m i]           \n\u001b[0;32m----> 6\u001b[0m     df_agg_tmp \u001b[38;5;241m=\u001b[39m \u001b[43marabica_freq\u001b[49m\u001b[43m(\u001b[49m\u001b[43m       \u001b[49m\n\u001b[1;32m      7\u001b[0m \u001b[43m    \u001b[49m\u001b[43mtext\u001b[49m\u001b[38;5;241;43m=\u001b[39;49m\u001b[43mdf_assunto\u001b[49m\u001b[43m[\u001b[49m\u001b[38;5;124;43m\"\u001b[39;49m\u001b[38;5;124;43mds_message_tratada\u001b[39;49m\u001b[38;5;124;43m\"\u001b[39;49m\u001b[43m]\u001b[49m\u001b[43m,\u001b[49m\n\u001b[1;32m      8\u001b[0m \u001b[43m    \u001b[49m\u001b[43mtime\u001b[49m\u001b[38;5;241;43m=\u001b[39;49m\u001b[43mdf_assunto\u001b[49m\u001b[43m[\u001b[49m\u001b[38;5;124;43m\"\u001b[39;49m\u001b[38;5;124;43mdt_envio_mensagem\u001b[39;49m\u001b[38;5;124;43m\"\u001b[39;49m\u001b[43m]\u001b[49m\u001b[43m,\u001b[49m\n\u001b[1;32m      9\u001b[0m \u001b[43m    \u001b[49m\u001b[43mtime_freq\u001b[49m\u001b[38;5;241;43m=\u001b[39;49m\u001b[38;5;124;43m\"\u001b[39;49m\u001b[38;5;124;43mW\u001b[39;49m\u001b[38;5;124;43m\"\u001b[39;49m\u001b[43m,\u001b[49m\n\u001b[1;32m     10\u001b[0m \u001b[43m    \u001b[49m\u001b[43mmax_words\u001b[49m\u001b[38;5;241;43m=\u001b[39;49m\u001b[38;5;241;43m3\u001b[39;49m\u001b[43m,\u001b[49m\n\u001b[1;32m     11\u001b[0m \u001b[43m    \u001b[49m\u001b[43mdate_format\u001b[49m\u001b[43m \u001b[49m\u001b[38;5;241;43m=\u001b[39;49m\u001b[43m \u001b[49m\u001b[38;5;124;43m'\u001b[39;49m\u001b[38;5;124;43meur\u001b[39;49m\u001b[38;5;124;43m'\u001b[39;49m\u001b[43m,\u001b[49m\n\u001b[1;32m     12\u001b[0m \u001b[43m    \u001b[49m\u001b[43mstopwords\u001b[49m\u001b[38;5;241;43m=\u001b[39;49m\u001b[43m[\u001b[49m\u001b[38;5;124;43m\"\u001b[39;49m\u001b[38;5;124;43mportuguese\u001b[39;49m\u001b[38;5;124;43m\"\u001b[39;49m\u001b[43m]\u001b[49m\u001b[43m,\u001b[49m\n\u001b[1;32m     13\u001b[0m \u001b[43m    \u001b[49m\u001b[43mskip\u001b[49m\u001b[38;5;241;43m=\u001b[39;49m\u001b[43m[\u001b[49m\u001b[43m]\u001b[49m\u001b[43m,\u001b[49m\n\u001b[1;32m     14\u001b[0m \u001b[43m    \u001b[49m\u001b[43mnumbers\u001b[49m\u001b[38;5;241;43m=\u001b[39;49m\u001b[38;5;28;43;01mTrue\u001b[39;49;00m\u001b[43m,\u001b[49m\n\u001b[1;32m     15\u001b[0m \u001b[43m    \u001b[49m\u001b[38;5;66;43;03m#punct=True,\u001b[39;49;00m\n\u001b[1;32m     16\u001b[0m \u001b[43m    \u001b[49m\u001b[43mlower_case\u001b[49m\u001b[38;5;241;43m=\u001b[39;49m\u001b[38;5;28;43;01mTrue\u001b[39;49;00m\u001b[43m,\u001b[49m\n\u001b[1;32m     17\u001b[0m \u001b[43m    \u001b[49m\u001b[43m)\u001b[49m\n\u001b[1;32m     18\u001b[0m     df_agg_tmp[\u001b[38;5;124m\"\u001b[39m\u001b[38;5;124mtermo1\u001b[39m\u001b[38;5;124m\"\u001b[39m] \u001b[38;5;241m=\u001b[39m df_agg_tmp[\u001b[38;5;124m\"\u001b[39m\u001b[38;5;124mtrigram\u001b[39m\u001b[38;5;124m\"\u001b[39m]\u001b[38;5;241m.\u001b[39mstr\u001b[38;5;241m.\u001b[39msplit(\u001b[38;5;124m\"\u001b[39m\u001b[38;5;124m:\u001b[39m\u001b[38;5;124m\"\u001b[39m)\u001b[38;5;241m.\u001b[39mstr[\u001b[38;5;241m0\u001b[39m]\n\u001b[1;32m     19\u001b[0m     df_agg_tmp[\u001b[38;5;124m\"\u001b[39m\u001b[38;5;124mtermo2\u001b[39m\u001b[38;5;124m\"\u001b[39m] \u001b[38;5;241m=\u001b[39m df_agg_tmp[\u001b[38;5;124m\"\u001b[39m\u001b[38;5;124mtrigram\u001b[39m\u001b[38;5;124m\"\u001b[39m]\u001b[38;5;241m.\u001b[39mstr\u001b[38;5;241m.\u001b[39msplit(\u001b[38;5;124m\"\u001b[39m\u001b[38;5;124m:\u001b[39m\u001b[38;5;124m\"\u001b[39m)\u001b[38;5;241m.\u001b[39mstr[\u001b[38;5;241m1\u001b[39m]\n",
      "File \u001b[0;32m/opt/conda/lib/python3.10/site-packages/arabica/arabica_freq.py:60\u001b[0m, in \u001b[0;36marabica_freq\u001b[0;34m(text, time, date_format, stopwords, skip, time_freq, max_words, numbers, lower_case)\u001b[0m\n\u001b[1;32m     57\u001b[0m     data[\u001b[38;5;124m'\u001b[39m\u001b[38;5;124mtext\u001b[39m\u001b[38;5;124m'\u001b[39m] \u001b[38;5;241m=\u001b[39m data\u001b[38;5;241m.\u001b[39mtext\u001b[38;5;241m.\u001b[39mstr\u001b[38;5;241m.\u001b[39mreplace(\u001b[38;5;124m'\u001b[39m\u001b[38;5;124m|\u001b[39m\u001b[38;5;124m'\u001b[39m\u001b[38;5;241m.\u001b[39mjoin(skip), \u001b[38;5;124m'\u001b[39m\u001b[38;5;124m.\u001b[39m\u001b[38;5;124m'\u001b[39m, regex\u001b[38;5;241m=\u001b[39m\u001b[38;5;28;01mTrue\u001b[39;00m)\u001b[38;5;241m.\u001b[39mstr\u001b[38;5;241m.\u001b[39mstrip()\n\u001b[1;32m     59\u001b[0m \u001b[38;5;28;01mif\u001b[39;00m lower_case \u001b[38;5;129;01mis\u001b[39;00m \u001b[38;5;28;01mTrue\u001b[39;00m:\n\u001b[0;32m---> 60\u001b[0m     data[\u001b[38;5;124m'\u001b[39m\u001b[38;5;124mtext\u001b[39m\u001b[38;5;124m'\u001b[39m] \u001b[38;5;241m=\u001b[39m \u001b[43mnp\u001b[49m\u001b[38;5;241;43m.\u001b[39;49m\u001b[43mvectorize\u001b[49m\u001b[43m(\u001b[49m\u001b[43mlower_casing\u001b[49m\u001b[43m)\u001b[49m\u001b[43m(\u001b[49m\u001b[43mdata\u001b[49m\u001b[43m[\u001b[49m\u001b[38;5;124;43m'\u001b[39;49m\u001b[38;5;124;43mtext\u001b[39;49m\u001b[38;5;124;43m'\u001b[39;49m\u001b[43m]\u001b[49m\u001b[43m)\u001b[49m\n\u001b[1;32m     62\u001b[0m data[\u001b[38;5;124m'\u001b[39m\u001b[38;5;124mtext\u001b[39m\u001b[38;5;124m'\u001b[39m] \u001b[38;5;241m=\u001b[39m np\u001b[38;5;241m.\u001b[39mvectorize(preprocess)(data[\u001b[38;5;124m'\u001b[39m\u001b[38;5;124mtext\u001b[39m\u001b[38;5;124m'\u001b[39m])\n\u001b[1;32m     64\u001b[0m \u001b[38;5;28;01mif\u001b[39;00m stopwords \u001b[38;5;129;01mis\u001b[39;00m \u001b[38;5;129;01mnot\u001b[39;00m \u001b[38;5;28;01mNone\u001b[39;00m:\n",
      "File \u001b[0;32m/opt/conda/lib/python3.10/site-packages/numpy/lib/function_base.py:2372\u001b[0m, in \u001b[0;36mvectorize.__call__\u001b[0;34m(self, *args, **kwargs)\u001b[0m\n\u001b[1;32m   2369\u001b[0m     \u001b[38;5;28mself\u001b[39m\u001b[38;5;241m.\u001b[39m_init_stage_2(\u001b[38;5;241m*\u001b[39margs, \u001b[38;5;241m*\u001b[39m\u001b[38;5;241m*\u001b[39mkwargs)\n\u001b[1;32m   2370\u001b[0m     \u001b[38;5;28;01mreturn\u001b[39;00m \u001b[38;5;28mself\u001b[39m\n\u001b[0;32m-> 2372\u001b[0m \u001b[38;5;28;01mreturn\u001b[39;00m \u001b[38;5;28;43mself\u001b[39;49m\u001b[38;5;241;43m.\u001b[39;49m\u001b[43m_call_as_normal\u001b[49m\u001b[43m(\u001b[49m\u001b[38;5;241;43m*\u001b[39;49m\u001b[43margs\u001b[49m\u001b[43m,\u001b[49m\u001b[43m \u001b[49m\u001b[38;5;241;43m*\u001b[39;49m\u001b[38;5;241;43m*\u001b[39;49m\u001b[43mkwargs\u001b[49m\u001b[43m)\u001b[49m\n",
      "File \u001b[0;32m/opt/conda/lib/python3.10/site-packages/numpy/lib/function_base.py:2365\u001b[0m, in \u001b[0;36mvectorize._call_as_normal\u001b[0;34m(self, *args, **kwargs)\u001b[0m\n\u001b[1;32m   2362\u001b[0m     vargs \u001b[38;5;241m=\u001b[39m [args[_i] \u001b[38;5;28;01mfor\u001b[39;00m _i \u001b[38;5;129;01min\u001b[39;00m inds]\n\u001b[1;32m   2363\u001b[0m     vargs\u001b[38;5;241m.\u001b[39mextend([kwargs[_n] \u001b[38;5;28;01mfor\u001b[39;00m _n \u001b[38;5;129;01min\u001b[39;00m names])\n\u001b[0;32m-> 2365\u001b[0m \u001b[38;5;28;01mreturn\u001b[39;00m \u001b[38;5;28;43mself\u001b[39;49m\u001b[38;5;241;43m.\u001b[39;49m\u001b[43m_vectorize_call\u001b[49m\u001b[43m(\u001b[49m\u001b[43mfunc\u001b[49m\u001b[38;5;241;43m=\u001b[39;49m\u001b[43mfunc\u001b[49m\u001b[43m,\u001b[49m\u001b[43m \u001b[49m\u001b[43margs\u001b[49m\u001b[38;5;241;43m=\u001b[39;49m\u001b[43mvargs\u001b[49m\u001b[43m)\u001b[49m\n",
      "File \u001b[0;32m/opt/conda/lib/python3.10/site-packages/numpy/lib/function_base.py:2455\u001b[0m, in \u001b[0;36mvectorize._vectorize_call\u001b[0;34m(self, func, args)\u001b[0m\n\u001b[1;32m   2452\u001b[0m \u001b[38;5;66;03m# Convert args to object arrays first\u001b[39;00m\n\u001b[1;32m   2453\u001b[0m inputs \u001b[38;5;241m=\u001b[39m [asanyarray(a, dtype\u001b[38;5;241m=\u001b[39m\u001b[38;5;28mobject\u001b[39m) \u001b[38;5;28;01mfor\u001b[39;00m a \u001b[38;5;129;01min\u001b[39;00m args]\n\u001b[0;32m-> 2455\u001b[0m outputs \u001b[38;5;241m=\u001b[39m \u001b[43mufunc\u001b[49m\u001b[43m(\u001b[49m\u001b[38;5;241;43m*\u001b[39;49m\u001b[43minputs\u001b[49m\u001b[43m)\u001b[49m\n\u001b[1;32m   2457\u001b[0m \u001b[38;5;28;01mif\u001b[39;00m ufunc\u001b[38;5;241m.\u001b[39mnout \u001b[38;5;241m==\u001b[39m \u001b[38;5;241m1\u001b[39m:\n\u001b[1;32m   2458\u001b[0m     res \u001b[38;5;241m=\u001b[39m asanyarray(outputs, dtype\u001b[38;5;241m=\u001b[39motypes[\u001b[38;5;241m0\u001b[39m])\n",
      "File \u001b[0;32m/opt/conda/lib/python3.10/site-packages/arabica/preprocess.py:17\u001b[0m, in \u001b[0;36mlower_casing\u001b[0;34m(text)\u001b[0m\n\u001b[1;32m     16\u001b[0m \u001b[38;5;28;01mdef\u001b[39;00m \u001b[38;5;21mlower_casing\u001b[39m(text):\n\u001b[0;32m---> 17\u001b[0m     output \u001b[38;5;241m=\u001b[39m \u001b[43mclean\u001b[49m\u001b[43m(\u001b[49m\u001b[38;5;28;43mstr\u001b[39;49m\u001b[43m(\u001b[49m\u001b[43mtext\u001b[49m\u001b[43m)\u001b[49m\u001b[43m,\u001b[49m\u001b[43mlowercase\u001b[49m\u001b[43m \u001b[49m\u001b[38;5;241;43m=\u001b[39;49m\u001b[43m \u001b[49m\u001b[38;5;28;43;01mTrue\u001b[39;49;00m\u001b[43m)\u001b[49m\n\u001b[1;32m     19\u001b[0m     \u001b[38;5;28;01mreturn\u001b[39;00m output\n",
      "File \u001b[0;32m/opt/conda/lib/python3.10/site-packages/cleantext/cleantext.py:48\u001b[0m, in \u001b[0;36mclean\u001b[0;34m(text, clean_all, extra_spaces, stemming, stopwords, lowercase, numbers, punct, reg, reg_replace, stp_lang)\u001b[0m\n\u001b[1;32m     46\u001b[0m     nltk\u001b[38;5;241m.\u001b[39mdownload(\u001b[38;5;124m'\u001b[39m\u001b[38;5;124mstopwords\u001b[39m\u001b[38;5;124m'\u001b[39m)\n\u001b[1;32m     47\u001b[0m \u001b[38;5;28;01mfinally\u001b[39;00m:\n\u001b[0;32m---> 48\u001b[0m     stop_words \u001b[38;5;241m=\u001b[39m \u001b[43msw\u001b[49m\u001b[38;5;241;43m.\u001b[39;49m\u001b[43mwords\u001b[49m\u001b[43m(\u001b[49m\u001b[43mstp_lang\u001b[49m\u001b[43m)\u001b[49m\n\u001b[1;32m     50\u001b[0m \u001b[38;5;28;01mif\u001b[39;00m \u001b[38;5;129;01mnot\u001b[39;00m text:\n\u001b[1;32m     51\u001b[0m     \u001b[38;5;28;01mraise\u001b[39;00m CleanTextEmptyString(\u001b[38;5;124m\"\u001b[39m\u001b[38;5;124mNo text is provided to clean\u001b[39m\u001b[38;5;124m\"\u001b[39m)\n",
      "File \u001b[0;32m/opt/conda/lib/python3.10/site-packages/nltk/corpus/reader/wordlist.py:23\u001b[0m, in \u001b[0;36mWordListCorpusReader.words\u001b[0;34m(self, fileids, ignore_lines_startswith)\u001b[0m\n\u001b[1;32m     20\u001b[0m \u001b[38;5;28;01mdef\u001b[39;00m \u001b[38;5;21mwords\u001b[39m(\u001b[38;5;28mself\u001b[39m, fileids\u001b[38;5;241m=\u001b[39m\u001b[38;5;28;01mNone\u001b[39;00m, ignore_lines_startswith\u001b[38;5;241m=\u001b[39m\u001b[38;5;124m\"\u001b[39m\u001b[38;5;130;01m\\n\u001b[39;00m\u001b[38;5;124m\"\u001b[39m):\n\u001b[1;32m     21\u001b[0m     \u001b[38;5;28;01mreturn\u001b[39;00m [\n\u001b[1;32m     22\u001b[0m         line\n\u001b[0;32m---> 23\u001b[0m         \u001b[38;5;28;01mfor\u001b[39;00m line \u001b[38;5;129;01min\u001b[39;00m line_tokenize(\u001b[38;5;28;43mself\u001b[39;49m\u001b[38;5;241;43m.\u001b[39;49m\u001b[43mraw\u001b[49m\u001b[43m(\u001b[49m\u001b[43mfileids\u001b[49m\u001b[43m)\u001b[49m)\n\u001b[1;32m     24\u001b[0m         \u001b[38;5;28;01mif\u001b[39;00m \u001b[38;5;129;01mnot\u001b[39;00m line\u001b[38;5;241m.\u001b[39mstartswith(ignore_lines_startswith)\n\u001b[1;32m     25\u001b[0m     ]\n",
      "File \u001b[0;32m/opt/conda/lib/python3.10/site-packages/nltk/corpus/reader/wordlist.py:32\u001b[0m, in \u001b[0;36mWordListCorpusReader.raw\u001b[0;34m(self, fileids)\u001b[0m\n\u001b[1;32m     30\u001b[0m \u001b[38;5;28;01melif\u001b[39;00m \u001b[38;5;28misinstance\u001b[39m(fileids, \u001b[38;5;28mstr\u001b[39m):\n\u001b[1;32m     31\u001b[0m     fileids \u001b[38;5;241m=\u001b[39m [fileids]\n\u001b[0;32m---> 32\u001b[0m \u001b[38;5;28;01mreturn\u001b[39;00m concat([\u001b[38;5;28mself\u001b[39m\u001b[38;5;241m.\u001b[39mopen(f)\u001b[38;5;241m.\u001b[39mread() \u001b[38;5;28;01mfor\u001b[39;00m f \u001b[38;5;129;01min\u001b[39;00m fileids])\n",
      "File \u001b[0;32m/opt/conda/lib/python3.10/site-packages/nltk/corpus/reader/wordlist.py:32\u001b[0m, in \u001b[0;36m<listcomp>\u001b[0;34m(.0)\u001b[0m\n\u001b[1;32m     30\u001b[0m \u001b[38;5;28;01melif\u001b[39;00m \u001b[38;5;28misinstance\u001b[39m(fileids, \u001b[38;5;28mstr\u001b[39m):\n\u001b[1;32m     31\u001b[0m     fileids \u001b[38;5;241m=\u001b[39m [fileids]\n\u001b[0;32m---> 32\u001b[0m \u001b[38;5;28;01mreturn\u001b[39;00m concat([\u001b[38;5;28;43mself\u001b[39;49m\u001b[38;5;241;43m.\u001b[39;49m\u001b[43mopen\u001b[49m\u001b[43m(\u001b[49m\u001b[43mf\u001b[49m\u001b[43m)\u001b[49m\u001b[38;5;241;43m.\u001b[39;49m\u001b[43mread\u001b[49m\u001b[43m(\u001b[49m\u001b[43m)\u001b[49m \u001b[38;5;28;01mfor\u001b[39;00m f \u001b[38;5;129;01min\u001b[39;00m fileids])\n",
      "File \u001b[0;32m/opt/conda/lib/python3.10/site-packages/nltk/data.py:1054\u001b[0m, in \u001b[0;36mSeekableUnicodeStreamReader.read\u001b[0;34m(self, size)\u001b[0m\n\u001b[1;32m   1044\u001b[0m \u001b[38;5;28;01mdef\u001b[39;00m \u001b[38;5;21mread\u001b[39m(\u001b[38;5;28mself\u001b[39m, size\u001b[38;5;241m=\u001b[39m\u001b[38;5;28;01mNone\u001b[39;00m):\n\u001b[1;32m   1045\u001b[0m \u001b[38;5;250m    \u001b[39m\u001b[38;5;124;03m\"\"\"\u001b[39;00m\n\u001b[1;32m   1046\u001b[0m \u001b[38;5;124;03m    Read up to ``size`` bytes, decode them using this reader's\u001b[39;00m\n\u001b[1;32m   1047\u001b[0m \u001b[38;5;124;03m    encoding, and return the resulting unicode string.\u001b[39;00m\n\u001b[0;32m   (...)\u001b[0m\n\u001b[1;32m   1052\u001b[0m \u001b[38;5;124;03m    :rtype: unicode\u001b[39;00m\n\u001b[1;32m   1053\u001b[0m \u001b[38;5;124;03m    \"\"\"\u001b[39;00m\n\u001b[0;32m-> 1054\u001b[0m     chars \u001b[38;5;241m=\u001b[39m \u001b[38;5;28;43mself\u001b[39;49m\u001b[38;5;241;43m.\u001b[39;49m\u001b[43m_read\u001b[49m\u001b[43m(\u001b[49m\u001b[43msize\u001b[49m\u001b[43m)\u001b[49m\n\u001b[1;32m   1056\u001b[0m     \u001b[38;5;66;03m# If linebuffer is not empty, then include it in the result\u001b[39;00m\n\u001b[1;32m   1057\u001b[0m     \u001b[38;5;28;01mif\u001b[39;00m \u001b[38;5;28mself\u001b[39m\u001b[38;5;241m.\u001b[39mlinebuffer:\n",
      "File \u001b[0;32m/opt/conda/lib/python3.10/site-packages/nltk/data.py:1337\u001b[0m, in \u001b[0;36mSeekableUnicodeStreamReader._read\u001b[0;34m(self, size)\u001b[0m\n\u001b[1;32m   1335\u001b[0m \u001b[38;5;66;03m# Read the requested number of bytes.\u001b[39;00m\n\u001b[1;32m   1336\u001b[0m \u001b[38;5;28;01mif\u001b[39;00m size \u001b[38;5;129;01mis\u001b[39;00m \u001b[38;5;28;01mNone\u001b[39;00m:\n\u001b[0;32m-> 1337\u001b[0m     new_bytes \u001b[38;5;241m=\u001b[39m \u001b[38;5;28;43mself\u001b[39;49m\u001b[38;5;241;43m.\u001b[39;49m\u001b[43mstream\u001b[49m\u001b[38;5;241;43m.\u001b[39;49m\u001b[43mread\u001b[49m\u001b[43m(\u001b[49m\u001b[43m)\u001b[49m\n\u001b[1;32m   1338\u001b[0m \u001b[38;5;28;01melse\u001b[39;00m:\n\u001b[1;32m   1339\u001b[0m     new_bytes \u001b[38;5;241m=\u001b[39m \u001b[38;5;28mself\u001b[39m\u001b[38;5;241m.\u001b[39mstream\u001b[38;5;241m.\u001b[39mread(size)\n",
      "\u001b[0;31mKeyboardInterrupt\u001b[0m: "
     ]
    }
   ],
   "source": [
    "df_trigram_transbordo = pd.DataFrame()\n",
    "\n",
    "for i in df_clean_transbordo[hierarquia].unique():        \n",
    "    try:\n",
    "        df_assunto = df_clean_transbordo[df_clean_transbordo[hierarquia] == i]           \n",
    "        df_agg_tmp = arabica_freq(       \n",
    "        text=df_assunto[\"ds_message_tratada\"],\n",
    "        time=df_assunto[\"dt_envio_mensagem\"],\n",
    "        time_freq=\"W\",\n",
    "        max_words=3,\n",
    "        date_format = 'eur',\n",
    "        stopwords=[\"portuguese\"],\n",
    "        skip=[],\n",
    "        numbers=True,\n",
    "        #punct=True,\n",
    "        lower_case=True,\n",
    "        )\n",
    "        df_agg_tmp[\"termo1\"] = df_agg_tmp[\"trigram\"].str.split(\":\").str[0]\n",
    "        df_agg_tmp[\"termo2\"] = df_agg_tmp[\"trigram\"].str.split(\":\").str[1]\n",
    "        df_agg_tmp[\"termo3\"] = df_agg_tmp[\"trigram\"].str.split(\":\").str[2]\n",
    "        df_agg_tmp[\"freq_termo3\"] = df_agg_tmp[\"trigram\"].str.split(\":\").str[3]\n",
    "        regex = r\"(\\d+),\"\n",
    "        df_agg_tmp[\"freq_termo1\"] = (\n",
    "            df_agg_tmp[\"termo2\"]\n",
    "            .apply(lambda x: re.sub(regex, r\"\\1-\", x)).astype(\"str\")\n",
    "            .str.split(\"-\")\n",
    "            .str[0]\n",
    "        )\n",
    "        df_agg_tmp[\"termo2\"] = (\n",
    "            df_agg_tmp[\"termo2\"]\n",
    "            .apply(lambda x: re.sub(regex, r\"\\1-\", x)).astype(\"str\")\n",
    "            .str.split(\"-\")\n",
    "            .str[1]\n",
    "        )\n",
    "        df_agg_tmp[\"freq_termo2\"] = (\n",
    "            df_agg_tmp[\"termo3\"]\n",
    "            .apply(lambda x: re.sub(regex, r\"\\1-\", x)).astype(\"str\")\n",
    "            .str.split(\"-\")\n",
    "            .str[0]\n",
    "        )\n",
    "        df_agg_tmp[\"termo3\"] = (\n",
    "            df_agg_tmp[\"termo3\"]\n",
    "            .apply(lambda x: re.sub(regex, r\"\\1-\", x)).astype(\"str\")\n",
    "            .str.split(\"-\")\n",
    "            .str[1]\n",
    "        )\n",
    "        df_agg_tmp_m = df_agg_tmp.melt(\n",
    "            id_vars=[\"period\"],\n",
    "            value_vars=[\"termo1\", \"termo2\", \"termo3\"],\n",
    "            var_name=\"ranking\",\n",
    "            value_name=\"descricao\",\n",
    "        ).join(\n",
    "            df_agg_tmp.melt(\n",
    "                id_vars=[\"period\"],\n",
    "                value_vars=[\n",
    "                    \"freq_termo1\",\n",
    "                    \"freq_termo2\",\n",
    "                    \"freq_termo3\"\n",
    "                ],\n",
    "                var_name=\"freq\",\n",
    "                value_name=\"frequencia\",\n",
    "            )[[\"frequencia\"]]\n",
    "        )\n",
    "        df_agg_tmp_m[\"period\"] = df_agg_tmp_m[\"period\"].astype(\"string\")\n",
    "        df_agg_tmp_m[\"frequencia\"] = df_agg_tmp_m[\"frequencia\"].astype(\"int\")\n",
    "        df_agg_tmp_m = df_agg_tmp_m[['period','descricao', 'frequencia']]\n",
    "        df_agg_tmp_m = df_agg_tmp_m.sort_values(by = ['period', 'frequencia'], ascending = False)\n",
    "        df_agg_tmp_m['Tema'] = i\n",
    "        df_agg_tmp_m = df_agg_tmp_m\n",
    "        j = i.replace(\" \", \"\")\n",
    "        j = j.replace(\"/\", \"_\")\n",
    "        df_agg_tmp_m['rank'] = df_agg_tmp_m['frequencia'].rank(na_option='bottom', ascending=False)\n",
    "        df_trigram_transbordo = df_trigram_transbordo.append(df_agg_tmp_m)\n",
    "\n",
    "    except (IndexError, ValueError, TypeError):\n",
    "        pass\n",
    "    \n",
    "agg_transbordo = df_trigram_transbordo[['descricao', 'period']].drop_duplicates().groupby('descricao').agg({'period':['count']})\n",
    "agg_transbordo.columns = agg_transbordo.columns.droplevel(0)\n",
    "agg_transbordo = agg_transbordo.reset_index()\n",
    "df_trigram_transbordo = df_trigram_transbordo.join(agg_transbordo.set_index('descricao'), on = 'descricao', how = 'left' )\n",
    "df_trigram_transbordo = df_trigram_transbordo.rename(columns={'count':'count_dias', 'descricao':'trigram', 'period':'dt_week_issue', 'Tema':hierarquia})\n",
    "df_trigram_transbordo['dt_processing'] = data_atual \n",
    "df_trigram_transbordo['is_resolvido_bot'] = 0"
   ]
  },
  {
   "cell_type": "code",
   "execution_count": null,
   "id": "b3cf81a8-b4c8-4a49-9a71-d1a18ec743d0",
   "metadata": {
    "tags": []
   },
   "outputs": [],
   "source": [
    "print(\"Appending results\")\n",
    "df_trigram = df_trigram_bot.append(df_trigram_transbordo)"
   ]
  },
  {
   "cell_type": "code",
   "execution_count": null,
   "id": "0bebeed1-4285-4d1b-a790-73ba23b9858d",
   "metadata": {
    "tags": []
   },
   "outputs": [],
   "source": [
    "retirar = [\n",
    "'ainda,preciso,ajuda',\n",
    "'falar,outra,coisa',\n",
    "'voltar,pro,começo',\n",
    "'quero,negociar,fatura',\n",
    "'desejo,continuar,solicitação',\n",
    "'sim,desejo,continuar',\n",
    "'compra,produto,r',\n",
    "'r,compra,produto',\n",
    "'produto,r,compra',\n",
    "'sao,paulo,bra',\n",
    "'quero,negociar,chat',\n",
    "'responder,mensagem,antes',\n",
    "'oi,oi,oi'\n",
    "]"
   ]
  },
  {
   "cell_type": "code",
   "execution_count": null,
   "id": "44d6f2ee-2a62-47cc-a751-9cd572ab6505",
   "metadata": {
    "tags": []
   },
   "outputs": [],
   "source": [
    "df_trigram = df_trigram[~df_trigram['trigram'].isin(retirar)]"
   ]
  },
  {
   "cell_type": "code",
   "execution_count": null,
   "id": "845192d2-da8c-4883-af15-5a02c7b3139d",
   "metadata": {
    "tags": []
   },
   "outputs": [],
   "source": [
    "afericao_freq = df_trigram[['trigram','frequencia']].groupby('trigram').sum().sort_values('frequencia', ascending = False)"
   ]
  },
  {
   "cell_type": "code",
   "execution_count": null,
   "id": "04c921b1-c23c-48a9-a17e-e1fbca8ff2ea",
   "metadata": {
    "tags": []
   },
   "outputs": [],
   "source": [
    "afericao_freq.head(50)"
   ]
  },
  {
   "cell_type": "code",
   "execution_count": null,
   "id": "0261ca67-8b78-4e9d-8a1a-4f9efcb3eb52",
   "metadata": {
    "tags": []
   },
   "outputs": [],
   "source": [
    "#boto3_session = boto3.Session(region_name='sa-east-1')"
   ]
  },
  {
   "cell_type": "code",
   "execution_count": null,
   "id": "80bde801-1344-432b-bc18-c025e07e022f",
   "metadata": {
    "collapsed": true,
    "jupyter": {
     "outputs_hidden": true
    },
    "tags": []
   },
   "outputs": [],
   "source": []
  }
 ],
 "metadata": {
  "availableInstances": [
   {
    "_defaultOrder": 0,
    "_isFastLaunch": true,
    "category": "General purpose",
    "gpuNum": 0,
    "hideHardwareSpecs": false,
    "memoryGiB": 4,
    "name": "ml.t3.medium",
    "vcpuNum": 2
   },
   {
    "_defaultOrder": 1,
    "_isFastLaunch": false,
    "category": "General purpose",
    "gpuNum": 0,
    "hideHardwareSpecs": false,
    "memoryGiB": 8,
    "name": "ml.t3.large",
    "vcpuNum": 2
   },
   {
    "_defaultOrder": 2,
    "_isFastLaunch": false,
    "category": "General purpose",
    "gpuNum": 0,
    "hideHardwareSpecs": false,
    "memoryGiB": 16,
    "name": "ml.t3.xlarge",
    "vcpuNum": 4
   },
   {
    "_defaultOrder": 3,
    "_isFastLaunch": false,
    "category": "General purpose",
    "gpuNum": 0,
    "hideHardwareSpecs": false,
    "memoryGiB": 32,
    "name": "ml.t3.2xlarge",
    "vcpuNum": 8
   },
   {
    "_defaultOrder": 4,
    "_isFastLaunch": true,
    "category": "General purpose",
    "gpuNum": 0,
    "hideHardwareSpecs": false,
    "memoryGiB": 8,
    "name": "ml.m5.large",
    "vcpuNum": 2
   },
   {
    "_defaultOrder": 5,
    "_isFastLaunch": false,
    "category": "General purpose",
    "gpuNum": 0,
    "hideHardwareSpecs": false,
    "memoryGiB": 16,
    "name": "ml.m5.xlarge",
    "vcpuNum": 4
   },
   {
    "_defaultOrder": 6,
    "_isFastLaunch": false,
    "category": "General purpose",
    "gpuNum": 0,
    "hideHardwareSpecs": false,
    "memoryGiB": 32,
    "name": "ml.m5.2xlarge",
    "vcpuNum": 8
   },
   {
    "_defaultOrder": 7,
    "_isFastLaunch": false,
    "category": "General purpose",
    "gpuNum": 0,
    "hideHardwareSpecs": false,
    "memoryGiB": 64,
    "name": "ml.m5.4xlarge",
    "vcpuNum": 16
   },
   {
    "_defaultOrder": 8,
    "_isFastLaunch": false,
    "category": "General purpose",
    "gpuNum": 0,
    "hideHardwareSpecs": false,
    "memoryGiB": 128,
    "name": "ml.m5.8xlarge",
    "vcpuNum": 32
   },
   {
    "_defaultOrder": 9,
    "_isFastLaunch": false,
    "category": "General purpose",
    "gpuNum": 0,
    "hideHardwareSpecs": false,
    "memoryGiB": 192,
    "name": "ml.m5.12xlarge",
    "vcpuNum": 48
   },
   {
    "_defaultOrder": 10,
    "_isFastLaunch": false,
    "category": "General purpose",
    "gpuNum": 0,
    "hideHardwareSpecs": false,
    "memoryGiB": 256,
    "name": "ml.m5.16xlarge",
    "vcpuNum": 64
   },
   {
    "_defaultOrder": 11,
    "_isFastLaunch": false,
    "category": "General purpose",
    "gpuNum": 0,
    "hideHardwareSpecs": false,
    "memoryGiB": 384,
    "name": "ml.m5.24xlarge",
    "vcpuNum": 96
   },
   {
    "_defaultOrder": 12,
    "_isFastLaunch": false,
    "category": "General purpose",
    "gpuNum": 0,
    "hideHardwareSpecs": false,
    "memoryGiB": 8,
    "name": "ml.m5d.large",
    "vcpuNum": 2
   },
   {
    "_defaultOrder": 13,
    "_isFastLaunch": false,
    "category": "General purpose",
    "gpuNum": 0,
    "hideHardwareSpecs": false,
    "memoryGiB": 16,
    "name": "ml.m5d.xlarge",
    "vcpuNum": 4
   },
   {
    "_defaultOrder": 14,
    "_isFastLaunch": false,
    "category": "General purpose",
    "gpuNum": 0,
    "hideHardwareSpecs": false,
    "memoryGiB": 32,
    "name": "ml.m5d.2xlarge",
    "vcpuNum": 8
   },
   {
    "_defaultOrder": 15,
    "_isFastLaunch": false,
    "category": "General purpose",
    "gpuNum": 0,
    "hideHardwareSpecs": false,
    "memoryGiB": 64,
    "name": "ml.m5d.4xlarge",
    "vcpuNum": 16
   },
   {
    "_defaultOrder": 16,
    "_isFastLaunch": false,
    "category": "General purpose",
    "gpuNum": 0,
    "hideHardwareSpecs": false,
    "memoryGiB": 128,
    "name": "ml.m5d.8xlarge",
    "vcpuNum": 32
   },
   {
    "_defaultOrder": 17,
    "_isFastLaunch": false,
    "category": "General purpose",
    "gpuNum": 0,
    "hideHardwareSpecs": false,
    "memoryGiB": 192,
    "name": "ml.m5d.12xlarge",
    "vcpuNum": 48
   },
   {
    "_defaultOrder": 18,
    "_isFastLaunch": false,
    "category": "General purpose",
    "gpuNum": 0,
    "hideHardwareSpecs": false,
    "memoryGiB": 256,
    "name": "ml.m5d.16xlarge",
    "vcpuNum": 64
   },
   {
    "_defaultOrder": 19,
    "_isFastLaunch": false,
    "category": "General purpose",
    "gpuNum": 0,
    "hideHardwareSpecs": false,
    "memoryGiB": 384,
    "name": "ml.m5d.24xlarge",
    "vcpuNum": 96
   },
   {
    "_defaultOrder": 20,
    "_isFastLaunch": false,
    "category": "General purpose",
    "gpuNum": 0,
    "hideHardwareSpecs": true,
    "memoryGiB": 0,
    "name": "ml.geospatial.interactive",
    "supportedImageNames": [
     "sagemaker-geospatial-v1-0"
    ],
    "vcpuNum": 0
   },
   {
    "_defaultOrder": 21,
    "_isFastLaunch": true,
    "category": "Compute optimized",
    "gpuNum": 0,
    "hideHardwareSpecs": false,
    "memoryGiB": 4,
    "name": "ml.c5.large",
    "vcpuNum": 2
   },
   {
    "_defaultOrder": 22,
    "_isFastLaunch": false,
    "category": "Compute optimized",
    "gpuNum": 0,
    "hideHardwareSpecs": false,
    "memoryGiB": 8,
    "name": "ml.c5.xlarge",
    "vcpuNum": 4
   },
   {
    "_defaultOrder": 23,
    "_isFastLaunch": false,
    "category": "Compute optimized",
    "gpuNum": 0,
    "hideHardwareSpecs": false,
    "memoryGiB": 16,
    "name": "ml.c5.2xlarge",
    "vcpuNum": 8
   },
   {
    "_defaultOrder": 24,
    "_isFastLaunch": false,
    "category": "Compute optimized",
    "gpuNum": 0,
    "hideHardwareSpecs": false,
    "memoryGiB": 32,
    "name": "ml.c5.4xlarge",
    "vcpuNum": 16
   },
   {
    "_defaultOrder": 25,
    "_isFastLaunch": false,
    "category": "Compute optimized",
    "gpuNum": 0,
    "hideHardwareSpecs": false,
    "memoryGiB": 72,
    "name": "ml.c5.9xlarge",
    "vcpuNum": 36
   },
   {
    "_defaultOrder": 26,
    "_isFastLaunch": false,
    "category": "Compute optimized",
    "gpuNum": 0,
    "hideHardwareSpecs": false,
    "memoryGiB": 96,
    "name": "ml.c5.12xlarge",
    "vcpuNum": 48
   },
   {
    "_defaultOrder": 27,
    "_isFastLaunch": false,
    "category": "Compute optimized",
    "gpuNum": 0,
    "hideHardwareSpecs": false,
    "memoryGiB": 144,
    "name": "ml.c5.18xlarge",
    "vcpuNum": 72
   },
   {
    "_defaultOrder": 28,
    "_isFastLaunch": false,
    "category": "Compute optimized",
    "gpuNum": 0,
    "hideHardwareSpecs": false,
    "memoryGiB": 192,
    "name": "ml.c5.24xlarge",
    "vcpuNum": 96
   },
   {
    "_defaultOrder": 29,
    "_isFastLaunch": true,
    "category": "Accelerated computing",
    "gpuNum": 1,
    "hideHardwareSpecs": false,
    "memoryGiB": 16,
    "name": "ml.g4dn.xlarge",
    "vcpuNum": 4
   },
   {
    "_defaultOrder": 30,
    "_isFastLaunch": false,
    "category": "Accelerated computing",
    "gpuNum": 1,
    "hideHardwareSpecs": false,
    "memoryGiB": 32,
    "name": "ml.g4dn.2xlarge",
    "vcpuNum": 8
   },
   {
    "_defaultOrder": 31,
    "_isFastLaunch": false,
    "category": "Accelerated computing",
    "gpuNum": 1,
    "hideHardwareSpecs": false,
    "memoryGiB": 64,
    "name": "ml.g4dn.4xlarge",
    "vcpuNum": 16
   },
   {
    "_defaultOrder": 32,
    "_isFastLaunch": false,
    "category": "Accelerated computing",
    "gpuNum": 1,
    "hideHardwareSpecs": false,
    "memoryGiB": 128,
    "name": "ml.g4dn.8xlarge",
    "vcpuNum": 32
   },
   {
    "_defaultOrder": 33,
    "_isFastLaunch": false,
    "category": "Accelerated computing",
    "gpuNum": 4,
    "hideHardwareSpecs": false,
    "memoryGiB": 192,
    "name": "ml.g4dn.12xlarge",
    "vcpuNum": 48
   },
   {
    "_defaultOrder": 34,
    "_isFastLaunch": false,
    "category": "Accelerated computing",
    "gpuNum": 1,
    "hideHardwareSpecs": false,
    "memoryGiB": 256,
    "name": "ml.g4dn.16xlarge",
    "vcpuNum": 64
   },
   {
    "_defaultOrder": 35,
    "_isFastLaunch": false,
    "category": "Accelerated computing",
    "gpuNum": 1,
    "hideHardwareSpecs": false,
    "memoryGiB": 61,
    "name": "ml.p3.2xlarge",
    "vcpuNum": 8
   },
   {
    "_defaultOrder": 36,
    "_isFastLaunch": false,
    "category": "Accelerated computing",
    "gpuNum": 4,
    "hideHardwareSpecs": false,
    "memoryGiB": 244,
    "name": "ml.p3.8xlarge",
    "vcpuNum": 32
   },
   {
    "_defaultOrder": 37,
    "_isFastLaunch": false,
    "category": "Accelerated computing",
    "gpuNum": 8,
    "hideHardwareSpecs": false,
    "memoryGiB": 488,
    "name": "ml.p3.16xlarge",
    "vcpuNum": 64
   },
   {
    "_defaultOrder": 38,
    "_isFastLaunch": false,
    "category": "Accelerated computing",
    "gpuNum": 8,
    "hideHardwareSpecs": false,
    "memoryGiB": 768,
    "name": "ml.p3dn.24xlarge",
    "vcpuNum": 96
   },
   {
    "_defaultOrder": 39,
    "_isFastLaunch": false,
    "category": "Memory Optimized",
    "gpuNum": 0,
    "hideHardwareSpecs": false,
    "memoryGiB": 16,
    "name": "ml.r5.large",
    "vcpuNum": 2
   },
   {
    "_defaultOrder": 40,
    "_isFastLaunch": false,
    "category": "Memory Optimized",
    "gpuNum": 0,
    "hideHardwareSpecs": false,
    "memoryGiB": 32,
    "name": "ml.r5.xlarge",
    "vcpuNum": 4
   },
   {
    "_defaultOrder": 41,
    "_isFastLaunch": false,
    "category": "Memory Optimized",
    "gpuNum": 0,
    "hideHardwareSpecs": false,
    "memoryGiB": 64,
    "name": "ml.r5.2xlarge",
    "vcpuNum": 8
   },
   {
    "_defaultOrder": 42,
    "_isFastLaunch": false,
    "category": "Memory Optimized",
    "gpuNum": 0,
    "hideHardwareSpecs": false,
    "memoryGiB": 128,
    "name": "ml.r5.4xlarge",
    "vcpuNum": 16
   },
   {
    "_defaultOrder": 43,
    "_isFastLaunch": false,
    "category": "Memory Optimized",
    "gpuNum": 0,
    "hideHardwareSpecs": false,
    "memoryGiB": 256,
    "name": "ml.r5.8xlarge",
    "vcpuNum": 32
   },
   {
    "_defaultOrder": 44,
    "_isFastLaunch": false,
    "category": "Memory Optimized",
    "gpuNum": 0,
    "hideHardwareSpecs": false,
    "memoryGiB": 384,
    "name": "ml.r5.12xlarge",
    "vcpuNum": 48
   },
   {
    "_defaultOrder": 45,
    "_isFastLaunch": false,
    "category": "Memory Optimized",
    "gpuNum": 0,
    "hideHardwareSpecs": false,
    "memoryGiB": 512,
    "name": "ml.r5.16xlarge",
    "vcpuNum": 64
   },
   {
    "_defaultOrder": 46,
    "_isFastLaunch": false,
    "category": "Memory Optimized",
    "gpuNum": 0,
    "hideHardwareSpecs": false,
    "memoryGiB": 768,
    "name": "ml.r5.24xlarge",
    "vcpuNum": 96
   },
   {
    "_defaultOrder": 47,
    "_isFastLaunch": false,
    "category": "Accelerated computing",
    "gpuNum": 1,
    "hideHardwareSpecs": false,
    "memoryGiB": 16,
    "name": "ml.g5.xlarge",
    "vcpuNum": 4
   },
   {
    "_defaultOrder": 48,
    "_isFastLaunch": false,
    "category": "Accelerated computing",
    "gpuNum": 1,
    "hideHardwareSpecs": false,
    "memoryGiB": 32,
    "name": "ml.g5.2xlarge",
    "vcpuNum": 8
   },
   {
    "_defaultOrder": 49,
    "_isFastLaunch": false,
    "category": "Accelerated computing",
    "gpuNum": 1,
    "hideHardwareSpecs": false,
    "memoryGiB": 64,
    "name": "ml.g5.4xlarge",
    "vcpuNum": 16
   },
   {
    "_defaultOrder": 50,
    "_isFastLaunch": false,
    "category": "Accelerated computing",
    "gpuNum": 1,
    "hideHardwareSpecs": false,
    "memoryGiB": 128,
    "name": "ml.g5.8xlarge",
    "vcpuNum": 32
   },
   {
    "_defaultOrder": 51,
    "_isFastLaunch": false,
    "category": "Accelerated computing",
    "gpuNum": 1,
    "hideHardwareSpecs": false,
    "memoryGiB": 256,
    "name": "ml.g5.16xlarge",
    "vcpuNum": 64
   },
   {
    "_defaultOrder": 52,
    "_isFastLaunch": false,
    "category": "Accelerated computing",
    "gpuNum": 4,
    "hideHardwareSpecs": false,
    "memoryGiB": 192,
    "name": "ml.g5.12xlarge",
    "vcpuNum": 48
   },
   {
    "_defaultOrder": 53,
    "_isFastLaunch": false,
    "category": "Accelerated computing",
    "gpuNum": 4,
    "hideHardwareSpecs": false,
    "memoryGiB": 384,
    "name": "ml.g5.24xlarge",
    "vcpuNum": 96
   },
   {
    "_defaultOrder": 54,
    "_isFastLaunch": false,
    "category": "Accelerated computing",
    "gpuNum": 8,
    "hideHardwareSpecs": false,
    "memoryGiB": 768,
    "name": "ml.g5.48xlarge",
    "vcpuNum": 192
   },
   {
    "_defaultOrder": 55,
    "_isFastLaunch": false,
    "category": "Accelerated computing",
    "gpuNum": 8,
    "hideHardwareSpecs": false,
    "memoryGiB": 1152,
    "name": "ml.p4d.24xlarge",
    "vcpuNum": 96
   },
   {
    "_defaultOrder": 56,
    "_isFastLaunch": false,
    "category": "Accelerated computing",
    "gpuNum": 8,
    "hideHardwareSpecs": false,
    "memoryGiB": 1152,
    "name": "ml.p4de.24xlarge",
    "vcpuNum": 96
   },
   {
    "_defaultOrder": 57,
    "_isFastLaunch": false,
    "category": "Accelerated computing",
    "gpuNum": 0,
    "hideHardwareSpecs": false,
    "memoryGiB": 32,
    "name": "ml.trn1.2xlarge",
    "vcpuNum": 8
   },
   {
    "_defaultOrder": 58,
    "_isFastLaunch": false,
    "category": "Accelerated computing",
    "gpuNum": 0,
    "hideHardwareSpecs": false,
    "memoryGiB": 512,
    "name": "ml.trn1.32xlarge",
    "vcpuNum": 128
   },
   {
    "_defaultOrder": 59,
    "_isFastLaunch": false,
    "category": "Accelerated computing",
    "gpuNum": 0,
    "hideHardwareSpecs": false,
    "memoryGiB": 512,
    "name": "ml.trn1n.32xlarge",
    "vcpuNum": 128
   }
  ],
  "kernelspec": {
   "display_name": "Python 3 (Data Science 3.0)",
   "language": "python",
   "name": "python3__SAGEMAKER_INTERNAL__arn:aws:sagemaker:sa-east-1:782484402741:image/sagemaker-data-science-310-v1"
  },
  "language_info": {
   "codemirror_mode": {
    "name": "ipython",
    "version": 3
   },
   "file_extension": ".py",
   "mimetype": "text/x-python",
   "name": "python",
   "nbconvert_exporter": "python",
   "pygments_lexer": "ipython3",
   "version": "3.10.6"
  }
 },
 "nbformat": 4,
 "nbformat_minor": 5
}
