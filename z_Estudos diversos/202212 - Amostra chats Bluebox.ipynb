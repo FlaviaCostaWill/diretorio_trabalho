{
 "cells": [
  {
   "cell_type": "code",
   "execution_count": 1,
   "metadata": {},
   "outputs": [],
   "source": [
    "import pandas as pd\n",
    "import numpy as np\n",
    "import os as os\n",
    "import aux.acessos as ac"
   ]
  },
  {
   "cell_type": "code",
   "execution_count": 2,
   "metadata": {},
   "outputs": [],
   "source": [
    "query = \"\"\"\n",
    "\n",
    "select distinct cpf_customer from (\n",
    "select\n",
    "   info_cliente.id_customer,  info_cliente.cpf_customer ,  \n",
    "   novas_tags.fila_de_atendimento,\n",
    "   info_cliente.ds_origin, \n",
    "   issues_macro.is_resolvido_bot,\n",
    "   issues_macro.is_recontato_1s\n",
    "   FROM\n",
    "   \"cx_curated_zone\".\"cx_contact_rate\" AS info_cliente\n",
    "   LEFT JOIN \"cx_curated_zone\".\"helpshift_issues\" AS issues_macro ON info_cliente.\"id_issue\" = issues_macro.\"id_issue\"\n",
    "   LEFT JOIN \"cx_curated_zone\".\"helpshift_tag_niveis\" AS helpshift_tag ON info_cliente.\"id_issue\" = helpshift_tag.\"id_issue\"\n",
    "   LEFT JOIN processed_zone_api_cxm_tags.tags_hierarquia_gerencial as novas_tags ON trim(lower(n3)) = trim(lower(nm_tag_n3))\n",
    "where info_cliente.dt_chat >= to_date('2022-07-01','yyyy-mm-dd')\n",
    "and issues_macro.is_resolvido = 1\n",
    "and issues_macro.is_finalizacao_automacao = 0\n",
    ")\n",
    "\n",
    "\n",
    "\"\"\""
   ]
  },
  {
   "cell_type": "code",
   "execution_count": 3,
   "metadata": {},
   "outputs": [],
   "source": [
    "df = ac.df_athena('flavia-costa', query)"
   ]
  },
  {
   "cell_type": "code",
   "execution_count": 5,
   "metadata": {},
   "outputs": [],
   "source": [
    "df['cpf'] = df['cpf_customer'].str.zfill(11)"
   ]
  },
  {
   "cell_type": "code",
   "execution_count": 7,
   "metadata": {},
   "outputs": [
    {
     "data": {
      "text/html": [
       "<div>\n",
       "<style scoped>\n",
       "    .dataframe tbody tr th:only-of-type {\n",
       "        vertical-align: middle;\n",
       "    }\n",
       "\n",
       "    .dataframe tbody tr th {\n",
       "        vertical-align: top;\n",
       "    }\n",
       "\n",
       "    .dataframe thead th {\n",
       "        text-align: right;\n",
       "    }\n",
       "</style>\n",
       "<table border=\"1\" class=\"dataframe\">\n",
       "  <thead>\n",
       "    <tr style=\"text-align: right;\">\n",
       "      <th></th>\n",
       "      <th>cpf_customer</th>\n",
       "      <th>cpf</th>\n",
       "    </tr>\n",
       "  </thead>\n",
       "  <tbody>\n",
       "    <tr>\n",
       "      <th>495747</th>\n",
       "      <td>10343215446</td>\n",
       "      <td>10343215446</td>\n",
       "    </tr>\n",
       "    <tr>\n",
       "      <th>495748</th>\n",
       "      <td>05992070354</td>\n",
       "      <td>05992070354</td>\n",
       "    </tr>\n",
       "    <tr>\n",
       "      <th>495749</th>\n",
       "      <td>05465784202</td>\n",
       "      <td>05465784202</td>\n",
       "    </tr>\n",
       "    <tr>\n",
       "      <th>495750</th>\n",
       "      <td>07912267514</td>\n",
       "      <td>07912267514</td>\n",
       "    </tr>\n",
       "    <tr>\n",
       "      <th>495751</th>\n",
       "      <td>08136160503</td>\n",
       "      <td>08136160503</td>\n",
       "    </tr>\n",
       "  </tbody>\n",
       "</table>\n",
       "</div>"
      ],
      "text/plain": [
       "       cpf_customer          cpf\n",
       "495747  10343215446  10343215446\n",
       "495748  05992070354  05992070354\n",
       "495749  05465784202  05465784202\n",
       "495750  07912267514  07912267514\n",
       "495751  08136160503  08136160503"
      ]
     },
     "execution_count": 7,
     "metadata": {},
     "output_type": "execute_result"
    }
   ],
   "source": [
    "df.tail()"
   ]
  },
  {
   "cell_type": "code",
   "execution_count": 8,
   "metadata": {},
   "outputs": [
    {
     "data": {
      "text/plain": [
       "495752"
      ]
     },
     "execution_count": 8,
     "metadata": {},
     "output_type": "execute_result"
    }
   ],
   "source": [
    "len(df)"
   ]
  },
  {
   "cell_type": "code",
   "execution_count": 4,
   "metadata": {},
   "outputs": [],
   "source": [
    "df.to_csv('202212 - Clientes Chat 01-Jul-15-Dez.csv')"
   ]
  }
 ],
 "metadata": {
  "kernelspec": {
   "display_name": "Python 3.8.10 64-bit",
   "language": "python",
   "name": "python3"
  },
  "language_info": {
   "codemirror_mode": {
    "name": "ipython",
    "version": 3
   },
   "file_extension": ".py",
   "mimetype": "text/x-python",
   "name": "python",
   "nbconvert_exporter": "python",
   "pygments_lexer": "ipython3",
   "version": "3.8.10"
  },
  "orig_nbformat": 4,
  "vscode": {
   "interpreter": {
    "hash": "916dbcbb3f70747c44a77c7bcd40155683ae19c65e1c03b4aa3499c5328201f1"
   }
  }
 },
 "nbformat": 4,
 "nbformat_minor": 2
}
