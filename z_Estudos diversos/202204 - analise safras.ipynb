{
 "cells": [
  {
   "cell_type": "code",
   "execution_count": 1,
   "id": "b2e4a9ad-925f-4684-b04c-e07106d036bc",
   "metadata": {},
   "outputs": [],
   "source": [
    "import pandas as pd\n",
    "import numpy as np\n",
    "import aux.acessos as ac\n",
    "import aux.perfil as pf"
   ]
  },
  {
   "cell_type": "code",
   "execution_count": 2,
   "id": "5edb97b7-a683-43d3-878f-ad57ccd0391e",
   "metadata": {},
   "outputs": [
    {
     "name": "stderr",
     "output_type": "stream",
     "text": [
      "Failed to execute query.\n",
      "Traceback (most recent call last):\n",
      "  File \"/home/flavia.costa/.local/lib/python3.9/site-packages/pyathena/common.py\", line 307, in _execute\n",
      "    query_id = retry_api_call(\n",
      "  File \"/home/flavia.costa/.local/lib/python3.9/site-packages/pyathena/util.py\", line 84, in retry_api_call\n",
      "    return retry(func, *args, **kwargs)\n",
      "  File \"/home/flavia.costa/.local/lib/python3.9/site-packages/tenacity/__init__.py\", line 430, in __call__\n",
      "    do = self.iter(retry_state=retry_state)\n",
      "  File \"/home/flavia.costa/.local/lib/python3.9/site-packages/tenacity/__init__.py\", line 367, in iter\n",
      "    return fut.result()\n",
      "  File \"/usr/lib/python3.9/concurrent/futures/_base.py\", line 433, in result\n",
      "    return self.__get_result()\n",
      "  File \"/usr/lib/python3.9/concurrent/futures/_base.py\", line 389, in __get_result\n",
      "    raise self._exception\n",
      "  File \"/home/flavia.costa/.local/lib/python3.9/site-packages/tenacity/__init__.py\", line 433, in __call__\n",
      "    result = fn(*args, **kwargs)\n",
      "  File \"/home/flavia.costa/.local/lib/python3.9/site-packages/botocore/client.py\", line 391, in _api_call\n",
      "    return self._make_api_call(operation_name, kwargs)\n",
      "  File \"/home/flavia.costa/.local/lib/python3.9/site-packages/botocore/client.py\", line 719, in _make_api_call\n",
      "    raise error_class(parsed_response, operation_name)\n",
      "botocore.errorfactory.InvalidRequestException: An error occurred (InvalidRequestException) when calling the StartQueryExecution operation: line 13:33: mismatched input '2022'. Expecting: '%', '*', '+', '-', '.', '/', 'AND', 'AT', 'EXCEPT', 'GROUP', 'HAVING', 'INTERSECT', 'LIMIT', 'OFFSET', 'OR', 'ORDER', 'UNION', '[', '||', <EOF>\n"
     ]
    }
   ],
   "source": [
    "query_at = \"\"\"select * from platform_analytics_zone.monthly_perfis_safras \n",
    "where substring(safra,1,4) in ('2022', '2021') \"\"\"\n",
    "\n",
    "df_at = ac.df_athena('flavia-costa', query_at)"
   ]
  },
  {
   "cell_type": "code",
   "execution_count": 3,
   "id": "3798801c-cf4d-4d29-aee4-c96a68855c1f",
   "metadata": {},
   "outputs": [],
   "source": [
    "df_at = df_at[['pf_genero', 'pf_faixa_idade', 'pf_estado', 'pf_regiao', 'pf_estado_civil', 'pf_profissao', 'pf_escolaridade', 'pf_renda_declarada_will', 'safra', 'clientes']]"
   ]
  },
  {
   "cell_type": "code",
   "execution_count": 4,
   "id": "fde4c759-c356-456b-956c-c69cc57af414",
   "metadata": {},
   "outputs": [
    {
     "data": {
      "text/html": [
       "<div>\n",
       "<style scoped>\n",
       "    .dataframe tbody tr th:only-of-type {\n",
       "        vertical-align: middle;\n",
       "    }\n",
       "\n",
       "    .dataframe tbody tr th {\n",
       "        vertical-align: top;\n",
       "    }\n",
       "\n",
       "    .dataframe thead th {\n",
       "        text-align: right;\n",
       "    }\n",
       "</style>\n",
       "<table border=\"1\" class=\"dataframe\">\n",
       "  <thead>\n",
       "    <tr style=\"text-align: right;\">\n",
       "      <th></th>\n",
       "      <th>pf_genero</th>\n",
       "      <th>pf_faixa_idade</th>\n",
       "      <th>pf_estado</th>\n",
       "      <th>pf_regiao</th>\n",
       "      <th>pf_estado_civil</th>\n",
       "      <th>pf_profissao</th>\n",
       "      <th>pf_escolaridade</th>\n",
       "      <th>pf_renda_declarada_will</th>\n",
       "      <th>safra</th>\n",
       "      <th>clientes</th>\n",
       "    </tr>\n",
       "  </thead>\n",
       "  <tbody>\n",
       "    <tr>\n",
       "      <th>0</th>\n",
       "      <td>FEMALE</td>\n",
       "      <td>a - ate 24 anos</td>\n",
       "      <td>AL</td>\n",
       "      <td>NORDESTE</td>\n",
       "      <td>Casado</td>\n",
       "      <td>AUTÔNOMO</td>\n",
       "      <td>d - Ensino médio completo</td>\n",
       "      <td>B - ate R$ 2000</td>\n",
       "      <td>2021-01</td>\n",
       "      <td>1</td>\n",
       "    </tr>\n",
       "    <tr>\n",
       "      <th>1</th>\n",
       "      <td>FEMALE</td>\n",
       "      <td>a - ate 24 anos</td>\n",
       "      <td>GO</td>\n",
       "      <td>CENTRO-OESTE</td>\n",
       "      <td>Solteiro</td>\n",
       "      <td>AUTÔNOMO</td>\n",
       "      <td>c - Ensino médio incompleto</td>\n",
       "      <td>B - ate R$ 2000</td>\n",
       "      <td>2021-04</td>\n",
       "      <td>2</td>\n",
       "    </tr>\n",
       "    <tr>\n",
       "      <th>2</th>\n",
       "      <td>MALE</td>\n",
       "      <td>c - 35-44 anos</td>\n",
       "      <td>ES</td>\n",
       "      <td>SUDESTE</td>\n",
       "      <td>Solteiro</td>\n",
       "      <td>AUTÔNOMO</td>\n",
       "      <td>a - Ensino fundamental incompleto</td>\n",
       "      <td>None</td>\n",
       "      <td>2021-12</td>\n",
       "      <td>1</td>\n",
       "    </tr>\n",
       "    <tr>\n",
       "      <th>3</th>\n",
       "      <td>FEMALE</td>\n",
       "      <td>b - 25-34 anos</td>\n",
       "      <td>SP</td>\n",
       "      <td>SUDESTE</td>\n",
       "      <td>Casado</td>\n",
       "      <td>FAXINEIRO</td>\n",
       "      <td>d - Ensino médio completo</td>\n",
       "      <td>B - ate R$ 2000</td>\n",
       "      <td>2021-09</td>\n",
       "      <td>1</td>\n",
       "    </tr>\n",
       "    <tr>\n",
       "      <th>4</th>\n",
       "      <td>MALE</td>\n",
       "      <td>b - 25-34 anos</td>\n",
       "      <td>MG</td>\n",
       "      <td>SUDESTE</td>\n",
       "      <td>Solteiro</td>\n",
       "      <td>AUXILIAR ADMINISTRATIVO</td>\n",
       "      <td>e - Ensino superior incompleto</td>\n",
       "      <td>None</td>\n",
       "      <td>2021-08</td>\n",
       "      <td>7</td>\n",
       "    </tr>\n",
       "  </tbody>\n",
       "</table>\n",
       "</div>"
      ],
      "text/plain": [
       "  pf_genero   pf_faixa_idade pf_estado     pf_regiao pf_estado_civil  \\\n",
       "0    FEMALE  a - ate 24 anos        AL      NORDESTE          Casado   \n",
       "1    FEMALE  a - ate 24 anos        GO  CENTRO-OESTE        Solteiro   \n",
       "2      MALE   c - 35-44 anos        ES       SUDESTE        Solteiro   \n",
       "3    FEMALE   b - 25-34 anos        SP       SUDESTE          Casado   \n",
       "4      MALE   b - 25-34 anos        MG       SUDESTE        Solteiro   \n",
       "\n",
       "              pf_profissao                    pf_escolaridade  \\\n",
       "0                 AUTÔNOMO          d - Ensino médio completo   \n",
       "1                 AUTÔNOMO        c - Ensino médio incompleto   \n",
       "2                 AUTÔNOMO  a - Ensino fundamental incompleto   \n",
       "3                FAXINEIRO          d - Ensino médio completo   \n",
       "4  AUXILIAR ADMINISTRATIVO     e - Ensino superior incompleto   \n",
       "\n",
       "  pf_renda_declarada_will    safra  clientes  \n",
       "0         B - ate R$ 2000  2021-01         1  \n",
       "1         B - ate R$ 2000  2021-04         2  \n",
       "2                    None  2021-12         1  \n",
       "3         B - ate R$ 2000  2021-09         1  \n",
       "4                    None  2021-08         7  "
      ]
     },
     "execution_count": 4,
     "metadata": {},
     "output_type": "execute_result"
    }
   ],
   "source": [
    "df_at.head()"
   ]
  },
  {
   "cell_type": "code",
   "execution_count": 5,
   "id": "1fd8033c-9283-4ff9-8047-5a578519b824",
   "metadata": {},
   "outputs": [
    {
     "name": "stderr",
     "output_type": "stream",
     "text": [
      "/home/flavia.costa/work/git/codigos/aux/perfil.py:316: FutureWarning: The frame.append method is deprecated and will be removed from pandas in a future version. Use pandas.concat instead.\n",
      "  casos_signif_final = casos_signif_final.append(casos_signif).sort_values('diferenca_abs', ascending = False)\n",
      "/home/flavia.costa/work/git/codigos/aux/perfil.py:316: FutureWarning: The frame.append method is deprecated and will be removed from pandas in a future version. Use pandas.concat instead.\n",
      "  casos_signif_final = casos_signif_final.append(casos_signif).sort_values('diferenca_abs', ascending = False)\n",
      "/home/flavia.costa/work/git/codigos/aux/perfil.py:316: FutureWarning: The frame.append method is deprecated and will be removed from pandas in a future version. Use pandas.concat instead.\n",
      "  casos_signif_final = casos_signif_final.append(casos_signif).sort_values('diferenca_abs', ascending = False)\n",
      "/home/flavia.costa/work/git/codigos/aux/perfil.py:316: FutureWarning: The frame.append method is deprecated and will be removed from pandas in a future version. Use pandas.concat instead.\n",
      "  casos_signif_final = casos_signif_final.append(casos_signif).sort_values('diferenca_abs', ascending = False)\n",
      "/home/flavia.costa/work/git/codigos/aux/perfil.py:316: FutureWarning: The frame.append method is deprecated and will be removed from pandas in a future version. Use pandas.concat instead.\n",
      "  casos_signif_final = casos_signif_final.append(casos_signif).sort_values('diferenca_abs', ascending = False)\n",
      "/home/flavia.costa/work/git/codigos/aux/perfil.py:316: FutureWarning: The frame.append method is deprecated and will be removed from pandas in a future version. Use pandas.concat instead.\n",
      "  casos_signif_final = casos_signif_final.append(casos_signif).sort_values('diferenca_abs', ascending = False)\n",
      "/home/flavia.costa/work/git/codigos/aux/perfil.py:367: FutureWarning: The frame.append method is deprecated and will be removed from pandas in a future version. Use pandas.concat instead.\n",
      "  casos_signif_final = casos_signif_final.append(casos_signif).sort_values('diferenca_abs', ascending = False)\n"
     ]
    },
    {
     "name": "stdout",
     "output_type": "stream",
     "text": [
      "report dos perfis finalizado!\n"
     ]
    },
    {
     "name": "stderr",
     "output_type": "stream",
     "text": [
      "/home/flavia.costa/work/git/codigos/aux/perfil.py:367: FutureWarning: The frame.append method is deprecated and will be removed from pandas in a future version. Use pandas.concat instead.\n",
      "  casos_signif_final = casos_signif_final.append(casos_signif).sort_values('diferenca_abs', ascending = False)\n"
     ]
    },
    {
     "name": "stdout",
     "output_type": "stream",
     "text": [
      "report dos perfis finalizado!\n"
     ]
    },
    {
     "name": "stderr",
     "output_type": "stream",
     "text": [
      "/home/flavia.costa/work/git/codigos/aux/perfil.py:367: FutureWarning: The frame.append method is deprecated and will be removed from pandas in a future version. Use pandas.concat instead.\n",
      "  casos_signif_final = casos_signif_final.append(casos_signif).sort_values('diferenca_abs', ascending = False)\n"
     ]
    },
    {
     "name": "stdout",
     "output_type": "stream",
     "text": [
      "report dos perfis finalizado!\n"
     ]
    },
    {
     "name": "stderr",
     "output_type": "stream",
     "text": [
      "/home/flavia.costa/work/git/codigos/aux/perfil.py:367: FutureWarning: The frame.append method is deprecated and will be removed from pandas in a future version. Use pandas.concat instead.\n",
      "  casos_signif_final = casos_signif_final.append(casos_signif).sort_values('diferenca_abs', ascending = False)\n"
     ]
    },
    {
     "name": "stdout",
     "output_type": "stream",
     "text": [
      "report dos perfis finalizado!\n"
     ]
    },
    {
     "name": "stderr",
     "output_type": "stream",
     "text": [
      "/home/flavia.costa/work/git/codigos/aux/perfil.py:367: FutureWarning: The frame.append method is deprecated and will be removed from pandas in a future version. Use pandas.concat instead.\n",
      "  casos_signif_final = casos_signif_final.append(casos_signif).sort_values('diferenca_abs', ascending = False)\n"
     ]
    },
    {
     "name": "stdout",
     "output_type": "stream",
     "text": [
      "report dos perfis finalizado!\n"
     ]
    },
    {
     "name": "stderr",
     "output_type": "stream",
     "text": [
      "/home/flavia.costa/work/git/codigos/aux/perfil.py:367: FutureWarning: The frame.append method is deprecated and will be removed from pandas in a future version. Use pandas.concat instead.\n",
      "  casos_signif_final = casos_signif_final.append(casos_signif).sort_values('diferenca_abs', ascending = False)\n"
     ]
    },
    {
     "name": "stdout",
     "output_type": "stream",
     "text": [
      "report dos perfis finalizado!\n"
     ]
    },
    {
     "name": "stderr",
     "output_type": "stream",
     "text": [
      "/home/flavia.costa/work/git/codigos/aux/perfil.py:367: FutureWarning: The frame.append method is deprecated and will be removed from pandas in a future version. Use pandas.concat instead.\n",
      "  casos_signif_final = casos_signif_final.append(casos_signif).sort_values('diferenca_abs', ascending = False)\n"
     ]
    },
    {
     "name": "stdout",
     "output_type": "stream",
     "text": [
      "report dos perfis finalizado!\n",
      "report dos perfis finalizado!\n"
     ]
    },
    {
     "name": "stderr",
     "output_type": "stream",
     "text": [
      "/home/flavia.costa/work/git/codigos/aux/perfil.py:367: FutureWarning: The frame.append method is deprecated and will be removed from pandas in a future version. Use pandas.concat instead.\n",
      "  casos_signif_final = casos_signif_final.append(casos_signif).sort_values('diferenca_abs', ascending = False)\n"
     ]
    }
   ],
   "source": [
    "pf.report_perfil_grupos(df_at, 'safra', 'clientes', 0.05, 50)"
   ]
  }
 ],
 "metadata": {
  "kernelspec": {
   "display_name": "Python 3",
   "language": "python",
   "name": "python3"
  },
  "language_info": {
   "codemirror_mode": {
    "name": "ipython",
    "version": 3
   },
   "file_extension": ".py",
   "mimetype": "text/x-python",
   "name": "python",
   "nbconvert_exporter": "python",
   "pygments_lexer": "ipython3",
   "version": "3.9.2"
  }
 },
 "nbformat": 4,
 "nbformat_minor": 5
}
